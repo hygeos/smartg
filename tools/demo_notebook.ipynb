{
 "cells": [
  {
   "cell_type": "code",
   "execution_count": null,
   "metadata": {
    "collapsed": false,
    "scrolled": false
   },
   "outputs": [],
   "source": [
    "%pylab inline\n",
    "%load_ext autoreload\n",
    "from smartg import smartg, Surface, smartg_read\n",
    "from profile.profil import Profile\n",
    "from luts import LUT, Idx, merge, read_lut_hdf, read_mlut_hdf\n",
    "from smartg_view import semi_polar, smartg_view\n",
    "from IPython.html.widgets.interaction import interact, interact_manual"
   ]
  },
  {
   "cell_type": "code",
   "execution_count": null,
   "metadata": {
    "collapsed": false,
    "scrolled": false
   },
   "outputs": [],
   "source": [
    "# run SMART-G, and skip if file exists\n",
    "try:\n",
    "    output = smartg('SMART-G-PP', THVDEG=30, wl=500., NBPHOTONS=1e9,\n",
    "                    atm=Profile('afglt'),\n",
    "                    surf=Surface(),\n",
    "                   )\n",
    "except Exception, e:\n",
    "    output = e.filename"
   ]
  },
  {
   "cell_type": "code",
   "execution_count": null,
   "metadata": {
    "collapsed": false
   },
   "outputs": [],
   "source": [
    "# read only one dataset\n",
    "I_up = smartg_read(output, 'I_up (TOA)')\n",
    "\n",
    "# read all datasets\n",
    "R = smartg_read(output)\n",
    "R.print_info()"
   ]
  },
  {
   "cell_type": "code",
   "execution_count": null,
   "metadata": {
    "collapsed": false
   },
   "outputs": [],
   "source": [
    "%autoreload\n",
    "smartg_view(R)"
   ]
  },
  {
   "cell_type": "code",
   "execution_count": null,
   "metadata": {
    "collapsed": false
   },
   "outputs": [],
   "source": [
    "# basic display\n",
    "semi_polar(I_up)"
   ]
  },
  {
   "cell_type": "code",
   "execution_count": null,
   "metadata": {
    "collapsed": false
   },
   "outputs": [],
   "source": [
    "# two plots side by side, including transects\n",
    "fig = figure(figsize=(12, 6))\n",
    "semi_polar(I_up, index=Idx(5.), rect=221, sub=223, swap=False, fig=fig)\n",
    "semi_polar(I_up, index=Idx(30.), rect=222, sub=224, swap=True, fig=fig)  # reversed axes"
   ]
  },
  {
   "cell_type": "code",
   "execution_count": null,
   "metadata": {
    "collapsed": false
   },
   "outputs": [],
   "source": [
    "# interactive display\n",
    "interact_manual(lambda vmax, phi:\n",
    "                semi_polar(lut=I_up, index=Idx(phi), vmin=0, vmax=vmax),\n",
    "                vmax=(0,1.,0.01),\n",
    "                phi=(0, 180),\n",
    "               )"
   ]
  },
  {
   "cell_type": "markdown",
   "metadata": {},
   "source": [
    "-----\n",
    "# Wavelength loop"
   ]
  },
  {
   "cell_type": "code",
   "execution_count": null,
   "metadata": {
    "collapsed": false
   },
   "outputs": [],
   "source": [
    "%autoreload\n",
    "LUTS = []\n",
    "for wl in linspace(400, 800, 10):\n",
    "    try: output = smartg('SMART-G-PP', THVDEG=30,\n",
    "                    wl=wl, NBPHOTONS=1e8,\n",
    "                    atm=Profile('afglt'),\n",
    "                    surf=Surface(),\n",
    "                   )\n",
    "    except Exception, e: output = e.filename\n",
    "    print output\n",
    "\n",
    "    L = smartg_read(output)\n",
    "    LUTS.append(L)\n",
    "\n",
    "M = merge(LUTS, ['LAMBDA'])\n",
    "M['I_up (TOA)'].print_info()\n",
    "semi_polar(M['I_up (TOA)'].sub[:,0,:], swap=True, index=12)"
   ]
  },
  {
   "cell_type": "markdown",
   "metadata": {},
   "source": [
    "----\n",
    "# Difference between two LUTs"
   ]
  },
  {
   "cell_type": "code",
   "execution_count": null,
   "metadata": {
    "collapsed": false
   },
   "outputs": [],
   "source": [
    "outputs = []\n",
    "for ex in ['SMART-G-PP', 'SMART-G-SP']:\n",
    "    try: out = smartg(ex, THVDEG=30, wl=443., NBPHOTONS=1e9,\n",
    "                         NBTHETA=20., NBPHI=20.,\n",
    "                        atm=Profile('afglt'))\n",
    "    except Exception, e: out = e.filename\n",
    "    outputs.append(out)\n",
    "    \n",
    "PP = smartg_read(outputs[0], 'I_up (TOA)')\n",
    "SP = smartg_read(outputs[1], 'I_up (TOA)')\n",
    "\n",
    "# show relative difference\n",
    "semi_polar(100.*(SP-PP)/PP, Idx(45.), fig=figure(figsize(8, 8)), vmin=-2, vmax=2)"
   ]
  }
 ],
 "metadata": {
  "kernelspec": {
   "display_name": "Python 2",
   "language": "python",
   "name": "python2"
  },
  "language_info": {
   "codemirror_mode": {
    "name": "ipython",
    "version": 2
   },
   "file_extension": ".py",
   "mimetype": "text/x-python",
   "name": "python",
   "nbconvert_exporter": "python",
   "pygments_lexer": "ipython2",
   "version": "2.7.9"
  }
 },
 "nbformat": 4,
 "nbformat_minor": 0
}
