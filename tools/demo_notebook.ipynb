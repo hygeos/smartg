{
 "cells": [
  {
   "cell_type": "code",
   "execution_count": null,
   "metadata": {
    "collapsed": false,
    "scrolled": false
   },
   "outputs": [],
   "source": [
    "%pylab inline\n",
    "%load_ext autoreload\n",
    "from smartg import Smartg, Surface\n",
    "from profile.profil import Profile, AeroOPAC\n",
    "from luts import LUT, Idx, merge, read_lut_hdf, read_mlut_hdf\n",
    "from smartg_view import semi_polar, smartg_view\n",
    "from IPython.html.widgets.interaction import interact, interact_manual\n",
    "from IPython.html import widgets\n",
    "from IPython.display import clear_output"
   ]
  },
  {
   "cell_type": "code",
   "execution_count": null,
   "metadata": {
    "collapsed": false,
    "scrolled": false
   },
   "outputs": [],
   "source": [
    "# run SMART-G, and skip if file exists\n",
    "job = Smartg('SMART-G-PP', THVDEG=30, wl=500., NBPHOTONS=1e9,\n",
    "                    atm=Profile('afglt'),\n",
    "                    surf=Surface(), skip_existing=True)\n",
    "print job.output"
   ]
  },
  {
   "cell_type": "code",
   "execution_count": null,
   "metadata": {
    "collapsed": false
   },
   "outputs": [],
   "source": [
    "# read only one dataset\n",
    "I_up = job.read('I_up (TOA)')\n",
    "\n",
    "# read all datasets\n",
    "R = job.read()\n",
    "R.print_info()"
   ]
  },
  {
   "cell_type": "code",
   "execution_count": null,
   "metadata": {
    "collapsed": false
   },
   "outputs": [],
   "source": [
    "job.view()"
   ]
  },
  {
   "cell_type": "code",
   "execution_count": null,
   "metadata": {
    "collapsed": false
   },
   "outputs": [],
   "source": [
    "# basic display\n",
    "semi_polar(I_up)"
   ]
  },
  {
   "cell_type": "code",
   "execution_count": null,
   "metadata": {
    "collapsed": false
   },
   "outputs": [],
   "source": [
    "# two plots side by side, including transects\n",
    "fig = figure(figsize=(12, 6))\n",
    "semi_polar(I_up, index=Idx(5.), rect=221, sub=223, swap=False, fig=fig)\n",
    "semi_polar(I_up, index=Idx(30.), rect=222, sub=224, swap=True, fig=fig)  # reversed axes"
   ]
  },
  {
   "cell_type": "code",
   "execution_count": null,
   "metadata": {
    "collapsed": false
   },
   "outputs": [],
   "source": [
    "# interactive display\n",
    "interact_manual(lambda vmax, phi:\n",
    "                semi_polar(lut=I_up, index=Idx(phi), vmin=0, vmax=vmax),\n",
    "                vmax=(0,1.,0.01),\n",
    "                phi=(0, 180),\n",
    "               )"
   ]
  },
  {
   "cell_type": "markdown",
   "metadata": {},
   "source": [
    "-----\n",
    "# Wavelength loop"
   ]
  },
  {
   "cell_type": "code",
   "execution_count": null,
   "metadata": {
    "collapsed": false
   },
   "outputs": [],
   "source": [
    "MLUTS = []\n",
    "for wl in linspace(400, 800, 10):\n",
    "    job = Smartg('SMART-G-PP', THVDEG=30,\n",
    "                    wl=wl, NBPHOTONS=1e8,\n",
    "                    atm=Profile('afglt'),\n",
    "                    surf=Surface(), skip_existing=True\n",
    "                   )\n",
    "    print job.output\n",
    "\n",
    "    MLUTS.append(job.read())\n",
    "\n",
    "M = merge(MLUTS, ['LAMBDA'])\n",
    "M['I_up (TOA)'].print_info()\n",
    "semi_polar(M['I_up (TOA)'].sub[:,0,:], swap=True, index=12)"
   ]
  },
  {
   "cell_type": "markdown",
   "metadata": {},
   "source": [
    "----\n",
    "# Difference between two LUTs"
   ]
  },
  {
   "cell_type": "code",
   "execution_count": null,
   "metadata": {
    "collapsed": false
   },
   "outputs": [],
   "source": [
    "jobs = []\n",
    "for ex in ['SMART-G-PP', 'SMART-G-SP']:\n",
    "    job = Smartg(ex, THVDEG=30, wl=443., NBPHOTONS=1e9,\n",
    "                         NBTHETA=20., NBPHI=20.,\n",
    "                        atm=Profile('afglt'), skip_existing=True)\n",
    "    jobs.append(job)\n",
    "    \n",
    "PP = jobs[0].read('I_up (TOA)')\n",
    "SP = jobs[1].read('I_up (TOA)')\n",
    "\n",
    "# show relative difference\n",
    "semi_polar(100.*(SP-PP)/PP, Idx(45.), fig=figure(figsize(8, 8)), vmin=-2, vmax=2)"
   ]
  },
  {
   "cell_type": "markdown",
   "metadata": {},
   "source": [
    "---\n",
    "# Interactive simulation"
   ]
  },
  {
   "cell_type": "code",
   "execution_count": null,
   "metadata": {
    "collapsed": false,
    "scrolled": true
   },
   "outputs": [],
   "source": [
    "def simulate(surface=False, aerosols=False, wavelength=500., logN=8.):\n",
    "    surf = {True:Surface(), False:None}[surface]\n",
    "    aer = {True:AeroOPAC('maritime_polluted', 0.4, 550., layer_phase=-1),\n",
    "           False:None}[aerosols]\n",
    "    job = Smartg('SMART-G-PP', THVDEG=30,\n",
    "             wl=wavelength, NBPHOTONS=10**logN,\n",
    "             NBTHETA=20., NBPHI=20.,\n",
    "             atm=Profile('afglt',aer=aer), surf=surf,\n",
    "             overwrite=True)\n",
    "    job.view()\n",
    "\n",
    "interact_manual(simulate, wavelength=(400., 800.), logN=(5, 10, 0.01))\n"
   ]
  },
  {
   "cell_type": "code",
   "execution_count": null,
   "metadata": {
    "collapsed": true
   },
   "outputs": [],
   "source": []
  }
 ],
 "metadata": {
  "kernelspec": {
   "display_name": "Python 2",
   "language": "python",
   "name": "python2"
  },
  "language_info": {
   "codemirror_mode": {
    "name": "ipython",
    "version": 2
   },
   "file_extension": ".py",
   "mimetype": "text/x-python",
   "name": "python",
   "nbconvert_exporter": "python",
   "pygments_lexer": "ipython2",
   "version": "2.7.9"
  }
 },
 "nbformat": 4,
 "nbformat_minor": 0
}
