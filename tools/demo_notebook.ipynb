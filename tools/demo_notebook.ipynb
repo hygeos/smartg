{
 "cells": [
  {
   "cell_type": "markdown",
   "metadata": {},
   "source": [
    "# Smart-G demo notebook\n",
    "\n",
    "This is an interactive document allowing to run Smart-G with python and visualize the results. <br>\n",
    "*Tips*: cells can be executed with shift-enter. Tooltips can be obtained with shift-tab. More information [here](http://ipython.org/notebook.html).\n",
    "\n",
    "**Table of contents**\n",
    "\n",
    "* [How to run Smart-G](#run)\n",
    "* [How to view the results](#view)\n",
    "* [A few examples](#examples)\n",
    "* [Difference between simulations](#difference)\n",
    "* [Looping over parameters](#loop)\n",
    "* [Interactive simulation](#interactive)"
   ]
  },
  {
   "cell_type": "code",
   "execution_count": null,
   "metadata": {
    "collapsed": false,
    "scrolled": false
   },
   "outputs": [],
   "source": [
    "%pylab inline\n",
    "from smartg import Smartg, RoughSurface, LambSurface, FlatSurface, Environment\n",
    "from PAR import SpecInt, SpecInt2, Irr, ReadREPTRAN_bands\n",
    "from profile.profil import Profile, AeroOPAC, CloudOPAC\n",
    "from luts import LUT, MLUT, Idx, merge, read_lut_hdf, read_mlut_hdf\n",
    "from water.iop_spm import IOP_SPM\n",
    "from water.iop_mm import IOP_MM\n",
    "from smartg_view import semi_polar, smartg_view\n",
    "from IPython.html.widgets.interaction import interact, interact_manual"
   ]
  },
  {
   "cell_type": "markdown",
   "metadata": {},
   "source": [
    "<a id=\"run\"></a>\n",
    "## How to run Smart-G"
   ]
  },
  {
   "cell_type": "code",
   "execution_count": null,
   "metadata": {
    "collapsed": false,
    "scrolled": false
   },
   "outputs": [],
   "source": [
    "# run SMART-G, and skip if file exists\n",
    "# this simulation uses an AFGL tropical atmosphere without aerosols\n",
    "job = Smartg('SMART-G-PP', THVDEG=30, wl=500., NBPHOTONS=1e9,\n",
    "                    atm=Profile('afglt'),\n",
    "                    surf=RoughSurface(SUR=1), overwrite=True)\n",
    "print 'done! the result hdf file is', job.output"
   ]
  },
  {
   "cell_type": "markdown",
   "metadata": {},
   "source": [
    "<a id=\"view\"></a>\n",
    "## How to view the results"
   ]
  },
  {
   "cell_type": "code",
   "execution_count": null,
   "metadata": {
    "collapsed": false
   },
   "outputs": [],
   "source": [
    "# basic visualization\n",
    "job.view()"
   ]
  },
  {
   "cell_type": "code",
   "execution_count": null,
   "metadata": {
    "collapsed": false
   },
   "outputs": [],
   "source": [
    "M = job.read()  # read all datasets\n",
    "M.print_info()  # show all datasets with their dimensions"
   ]
  },
  {
   "cell_type": "code",
   "execution_count": null,
   "metadata": {
    "collapsed": false
   },
   "outputs": [],
   "source": [
    "# show dataset 'Q_up (TOA)' with a transect at phi=45 (optional)\n",
    "# also specify a color scale\n",
    "semi_polar(M['Q_up (TOA)'], index=Idx(45), vmin=-0.15, vmax=0.05)"
   ]
  },
  {
   "cell_type": "code",
   "execution_count": null,
   "metadata": {
    "collapsed": false
   },
   "outputs": [],
   "source": [
    "# more advanced visualization:\n",
    "# two plots side by side, including transects, using a larger figure\n",
    "fig = figure(figsize=(12, 6))\n",
    "I_up = job.read('I_up (TOA)')\n",
    "semi_polar(I_up, index=Idx(5.), rect=221, sub=223, swap=False, fig=fig)\n",
    "semi_polar(I_up, index=Idx(30.), rect=222, sub=224, swap=True, fig=fig)  # reversed axes"
   ]
  },
  {
   "cell_type": "code",
   "execution_count": null,
   "metadata": {
    "collapsed": false
   },
   "outputs": [],
   "source": [
    "# interactive display\n",
    "interact_manual(lambda vmax, phi:\n",
    "                semi_polar(lut=I_up, index=Idx(phi), vmin=0, vmax=vmax),\n",
    "                vmax=(0,1.,0.01),\n",
    "                phi=(0, 180),\n",
    "               )"
   ]
  },
  {
   "cell_type": "markdown",
   "metadata": {},
   "source": [
    "<a id=\"examples\"></a>\n",
    "## A few examples"
   ]
  },
  {
   "cell_type": "code",
   "execution_count": null,
   "metadata": {
    "collapsed": false
   },
   "outputs": [],
   "source": [
    "# Basic Rayleigh example, no surface\n",
    "Smartg('SMART-G-PP', wl=500., THVDEG=30.,\n",
    "       NBPHOTONS=1e9, atm=Profile('afglt'), overwrite=True).view()"
   ]
  },
  {
   "cell_type": "code",
   "execution_count": null,
   "metadata": {
    "collapsed": false
   },
   "outputs": [],
   "source": [
    "# only Rayleigh with a custom grid\n",
    "Smartg('SMART-G-PP', wl=500., DEPO=0., NBPHOTONS=1e9,\n",
    "        atm=Profile('afglt', grid='100[75]25[5]10[1]0'), overwrite=True).view()"
   ]
  },
  {
   "cell_type": "code",
   "execution_count": null,
   "metadata": {
    "collapsed": false
   },
   "outputs": [],
   "source": [
    "# Rayleigh + aerosols\n",
    "aer = AeroOPAC('urban', 0.4, 550.)\n",
    "pro = Profile('afglms', aer=aer)\n",
    "Smartg('SMART-G-PP', wl=300., THVDEG=60, atm=pro, NBPHOTONS=1e8, overwrite=True).view()"
   ]
  },
  {
   "cell_type": "code",
   "execution_count": null,
   "metadata": {
    "collapsed": false
   },
   "outputs": [],
   "source": [
    "# atmosphere + surface\n",
    "Smartg('SMART-G-PP', 490., NBPHOTONS=1e7, THVDEG=45.,\n",
    "        atm=Profile('afglms'),\n",
    "        surf=LambSurface(ALB=0.1),\n",
    "        overwrite=True).view()"
   ]
  },
  {
   "cell_type": "code",
   "execution_count": null,
   "metadata": {
    "collapsed": false
   },
   "outputs": [],
   "source": [
    "# atmosphere + surface + océan\n",
    "Smartg('SMART-G-PP', 490., NBPHOTONS=1e7, THVDEG=30.,\n",
    "            atm=Profile('afglms'),\n",
    "            surf=RoughSurface(),\n",
    "            water=IOP_MM(1.), overwrite=True).view()"
   ]
  },
  {
   "cell_type": "code",
   "execution_count": null,
   "metadata": {
    "collapsed": false
   },
   "outputs": [],
   "source": [
    "# surface + océan (SPM model)\n",
    "Smartg('SMART-G-PP', 750., THVDEG=30., NBPHOTONS=1e9,\n",
    "        surf=RoughSurface(),\n",
    "        water=IOP_SPM(SPM=100.), overwrite=True).view()"
   ]
  },
  {
   "cell_type": "code",
   "execution_count": null,
   "metadata": {
    "collapsed": false
   },
   "outputs": [],
   "source": [
    "# océan seul (chl model)\n",
    "jj=Smartg('SMART-G-PP', wl=750., THVDEG=30.,\n",
    "        water=IOP_SPM(100.), NBPHOTONS=1e9, overwrite=True)\n",
    "jj.view()\n",
    "M=jj.read()\n",
    "M.print_info()"
   ]
  },
  {
   "cell_type": "code",
   "execution_count": null,
   "metadata": {
    "collapsed": false
   },
   "outputs": [],
   "source": [
    "semi_polar(jj.read()['I_up (TOA)'].sub[0,:,:])"
   ]
  },
  {
   "cell_type": "code",
   "execution_count": null,
   "metadata": {
    "collapsed": false
   },
   "outputs": [],
   "source": [
    "# multispectral\n",
    "pro = Profile('afglt',\n",
    "              grid=[100, 75, 50, 30, 20, 10, 5, 1, 0.],  # optional, otherwise use default grid\n",
    "              pfgrid=[100, 20, 0.],   # optional, otherwise use a single band 100-0\n",
    "              pfwav=[400, 500, 600], # optional, otherwise phase functions are calculated at all bands\n",
    "              aer=AeroOPAC('maritime_clean', 0.3, 550.),\n",
    "              verbose=True)\n",
    "job = Smartg('SMART-G-PP', wl = np.linspace(400, 600, 10.),\n",
    "             THVDEG=60.,\n",
    "             atm=pro,\n",
    "             surf=RoughSurface(),\n",
    "             water=IOP_SPM(1.),\n",
    "             overwrite=True)\n",
    "semi_polar(job.read()['I_up (TOA)'].sub[0,:,:])"
   ]
  },
  {
   "cell_type": "code",
   "execution_count": null,
   "metadata": {
    "collapsed": false
   },
   "outputs": [],
   "source": [
    "# REPTRAN (example 1)\n",
    "repname = 'reptran_solar_msg' # k distribution file, here MSG/SEVIRI solar channels\n",
    "BAND = 'msg1_seviri_ch006'\n",
    "surf=RoughSurface(SUR=3, WIND=5., NH2O=1.34)\n",
    "atm=Profile('afglmw')  \n",
    "# Read Reptran band characteristics\n",
    "wi,wb,we,ex,dl,bands = ReadREPTRAN_bands(repname,BAND=BAND,FULL=True)\n",
    "job = Smartg('SMART-G-SP', THVDEG=30, wl=bands, NBPHOTONS=1e8, atm=atm, surf=surf, overwrite=True)"
   ]
  },
  {
   "cell_type": "code",
   "execution_count": null,
   "metadata": {
    "collapsed": false
   },
   "outputs": [],
   "source": [
    "M=job.read()\n",
    "MM_l=[]\n",
    "for k in range(len(M.luts)):\n",
    "    MM_tmp = M.luts[k]\n",
    "    MM=LUT(MM_tmp.data,axes=[wi.data,MM_tmp.axes[1],MM_tmp.axes[2]],desc=MM_tmp.desc,\n",
    "           names=['Wavelengths',MM_tmp.names[1],MM_tmp.names[2]],attrs=MM_tmp.attrs)\n",
    "    MM_l.append(MM)\n",
    "M2 = MLUT(MM_l)\n",
    "print '--M-----------',M2['I_up (TOA)'].print_info()\n",
    "fig=figure(figsize=(8,4))\n",
    "semi_polar(M2['I_up (TOA)'].sub[0,:,:],rect=121,fig=fig,vmin=0,vmax=0.2)\n",
    "semi_polar(M2['I_up (TOA)'].sub[1,:,:],rect=122,fig=fig,vmin=0,vmax=0.2)\n",
    "s = SpecInt2(wi,wb,ex,we,dl,M=M2,field='I_up (TOA)')\n",
    "print '--S-----------',s.print_info()\n",
    "fig2=figure(figsize=(4,4))\n",
    "semi_polar(s.sub[0,:,:],vmin=0,vmax=0.2,rect=111,fig=fig2)"
   ]
  },
  {
   "cell_type": "code",
   "execution_count": null,
   "metadata": {
    "collapsed": false
   },
   "outputs": [],
   "source": [
    "# REPTRAN (example 2)\n",
    "repname = 'reptran_solar_medium' # k distribution file, here full solar channels at mdeium resolution\n",
    "LMIN=765. # nm within O2A bands\n",
    "LMAX=768. # nm\n",
    "SAMPLING=1 # sampling of individual channels 1: all microchannels\n",
    "surf=RoughSurface(SUR=3, WIND=5., NH2O=1.34)\n",
    "atm=Profile('afglmw')  \n",
    "# Read Reptran band characteristics\n",
    "wi,wb,we,ex,dl,bands = ReadREPTRAN_bands(repname, LMIN=LMIN, LMAX=LMAX, SAMPLING=SAMPLING, FULL=True)\n",
    "job = Smartg('SMART-G-PP', THVDEG=30, wl=bands, NBPHOTONS=1e9, atm=atm, surf=surf, overwrite=True)"
   ]
  },
  {
   "cell_type": "code",
   "execution_count": null,
   "metadata": {
    "collapsed": false
   },
   "outputs": [],
   "source": [
    "M=job.read()\n",
    "MM_l=[]\n",
    "for k in range(len(M.luts)):\n",
    "    MM_tmp = M.luts[k]\n",
    "    MM=LUT(MM_tmp.data,axes=[wi.data,MM_tmp.axes[1],MM_tmp.axes[2]],desc=MM_tmp.desc,\n",
    "           names=['Wavelengths',MM_tmp.names[1],MM_tmp.names[2]],attrs=MM_tmp.attrs)\n",
    "    MM_l.append(MM)\n",
    "M2 = MLUT(MM_l)\n",
    "print '--M-----------',M2['I_up (TOA)'].print_info()\n",
    "fig=figure(figsize=(8,4))\n",
    "semi_polar(M2['I_up (TOA)'].sub[Idx(765.5),:,:],rect=121,fig=fig,vmin=0,vmax=0.1)\n",
    "semi_polar(M2['I_up (TOA)'].sub[Idx(767.5),:,:],rect=122,fig=fig,vmin=0,vmax=0.1)\n",
    "s = SpecInt2(wi,wb,ex,we,dl,M=M2,field='I_up (TOA)')\n",
    "print '--S-----------',s.print_info()\n",
    "fig2=figure(figsize=(8,4))\n",
    "semi_polar(s.sub[Idx(765.5),:,:],vmin=0,vmax=0.1,sub=223,index=Idx(140),rect=221,fig=fig2)\n",
    "semi_polar(s.sub[:,Idx(140),:], rect=222, sub=224, index=Idx(30),swap=True,fig=fig2,vmin=0,vmax=0.1)"
   ]
  },
  {
   "cell_type": "markdown",
   "metadata": {},
   "source": [
    "<a id=\"loop\"></a>\n",
    "## Looping over parameters"
   ]
  },
  {
   "cell_type": "code",
   "execution_count": null,
   "metadata": {
    "collapsed": false
   },
   "outputs": [],
   "source": [
    "# loop over some wavelengths\n",
    "MLUTS = []\n",
    "for wl in linspace(400, 800, 10):\n",
    "    job = Smartg('SMART-G-PP', THVDEG=30,\n",
    "                    wl=wl, NBPHOTONS=1e7,\n",
    "                    atm=Profile('afglt'),\n",
    "                    surf=RoughSurface(), overwrite=True)\n",
    "    print job.output\n",
    "\n",
    "    MLUTS.append(job.read())\n",
    "\n",
    "M = merge(MLUTS, ['LAMBDA'])\n",
    "M['I_up (TOA)'].print_info()\n",
    "semi_polar(M['I_up (TOA)'].sub[:,0,:], swap=True, index=12)"
   ]
  },
  {
   "cell_type": "markdown",
   "metadata": {},
   "source": [
    "<a id=\"difference\"></a>\n",
    "## Difference between two LUTs"
   ]
  },
  {
   "cell_type": "code",
   "execution_count": null,
   "metadata": {
    "collapsed": false
   },
   "outputs": [],
   "source": [
    "# Here we compare the TOA radiance simulated with\n",
    "# plane parallel and spherical atmospheres, at 443 nm.\n",
    "jobs = []\n",
    "for ex in ['SMART-G-PP', 'SMART-G-SP']:\n",
    "    jobs.append(Smartg(ex, THVDEG=60, wl=443., NBPHOTONS=1e10,\n",
    "                         NBTHETA=20., NBPHI=20.,\n",
    "                        atm=Profile('afglt'), overwrite=True))\n",
    "    \n",
    "PP = jobs[0].read('I_up (TOA)')\n",
    "SP = jobs[1].read('I_up (TOA)')\n",
    "\n",
    "# show relative difference\n",
    "semi_polar(100.*(SP-PP)/PP, Idx(175.), fig=figure(figsize(8, 8)), vmin=-2, vmax=2)"
   ]
  },
  {
   "cell_type": "code",
   "execution_count": null,
   "metadata": {
    "collapsed": false
   },
   "outputs": [],
   "source": [
    "semi_polar(SP/PP, Idx(90.), fig=figure(figsize(8, 8)),vmin=0.97,vmax=1.03)"
   ]
  },
  {
   "cell_type": "markdown",
   "metadata": {},
   "source": [
    "<a id=\"interactive\"></a>\n",
    "## Interactive simulation"
   ]
  },
  {
   "cell_type": "code",
   "execution_count": null,
   "metadata": {
    "collapsed": false,
    "scrolled": true
   },
   "outputs": [],
   "source": [
    "from IPython.html.widgets.interaction import interact, interact_manual\n",
    "\n",
    "def simulate(thvdeg, surface, aerosol_model, aot550, wavelength):\n",
    "    surf = {True:RoughSurface(), False:None}[surface]\n",
    "    aer = AeroOPAC(aerosol_model, aot550, 550.)\n",
    "    Smartg('SMART-G-SP', THVDEG=thvdeg,\n",
    "             wl=wavelength, NBPHOTONS=1e8,\n",
    "             NBTHETA=90., NBPHI=90.,\n",
    "             atm=Profile('afglt', aer=aer), surf=surf, OUTPUT_LAYERS=3,\n",
    "             overwrite=True).view(QU=True,field='up (0+)')\n",
    "\n",
    "interact_manual(simulate, thvdeg=(0, 90), surface=True,\n",
    "                aerosol_model=AeroOPAC.listStandardAerosolFiles(), aot550=(0.001, 5., 0.01),\n",
    "                wavelength=(400., 800.))"
   ]
  }
 ],
 "metadata": {
  "kernelspec": {
   "display_name": "Python 2",
   "language": "python",
   "name": "python2"
  },
  "language_info": {
   "codemirror_mode": {
    "name": "ipython",
    "version": 2
   },
   "file_extension": ".py",
   "mimetype": "text/x-python",
   "name": "python",
   "nbconvert_exporter": "python",
   "pygments_lexer": "ipython2",
   "version": "2.7.10"
  }
 },
 "nbformat": 4,
 "nbformat_minor": 0
}
