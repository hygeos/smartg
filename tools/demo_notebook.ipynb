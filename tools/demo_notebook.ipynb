{
 "cells": [
  {
   "cell_type": "code",
   "execution_count": null,
   "metadata": {
    "collapsed": false
   },
   "outputs": [],
   "source": [
    "%pylab inline\n",
    "%load_ext autoreload\n",
    "%autoreload\n",
    "from smartg import smartg, Surface\n",
    "from profile.profil import Profile\n",
    "from luts import LUT, read_lut_hdf, Idx\n",
    "from smartg_view import semi_polar\n",
    "from IPython.html.widgets.interaction import interact, interact_manual"
   ]
  },
  {
   "cell_type": "code",
   "execution_count": null,
   "metadata": {
    "collapsed": false
   },
   "outputs": [],
   "source": [
    "# run SMART-G, and skip if file exists\n",
    "try:\n",
    "    output = smartg('SMART-G-PP', THVDEG=30, wl=500., NBPHOTONS=1e9,\n",
    "                    atm=Profile('afglt'),\n",
    "                    surf=Surface(),\n",
    "                   )\n",
    "except Exception, e:\n",
    "    output = e.filename"
   ]
  },
  {
   "cell_type": "code",
   "execution_count": null,
   "metadata": {
    "collapsed": false
   },
   "outputs": [],
   "source": [
    "# read the result\n",
    "R = read_lut_hdf(output, 'I_up (TOA)', ['Azimut angles', 'Zenith angles'])\n",
    "\n",
    "# basic display\n",
    "semi_polar(R)"
   ]
  },
  {
   "cell_type": "code",
   "execution_count": null,
   "metadata": {
    "collapsed": false
   },
   "outputs": [],
   "source": [
    "fig = figure(figsize=(9, 4.5))\n",
    "semi_polar(R, Idx(80.), rect=221, sub=223, swap=False, fig=fig)\n",
    "semi_polar(R, Idx(10.), rect=222, sub=224, swap=True, fig=fig)  # reversed axes"
   ]
  },
  {
   "cell_type": "code",
   "execution_count": null,
   "metadata": {
    "collapsed": false
   },
   "outputs": [],
   "source": [
    "# interactive display\n",
    "interact_manual(lambda vmax, phi, vmin:\n",
    "                semi_polar(lut=R, index=Idx(phi), vmin=vmin, vmax=vmax),\n",
    "                vmax=(0,1.,0.01),\n",
    "                phi=(0, 180),\n",
    "                vmin=(0., 0.2, 0.01),\n",
    "               )"
   ]
  }
 ],
 "metadata": {
  "kernelspec": {
   "display_name": "Python 2",
   "language": "python",
   "name": "python2"
  },
  "language_info": {
   "codemirror_mode": {
    "name": "ipython",
    "version": 2
   },
   "file_extension": ".py",
   "mimetype": "text/x-python",
   "name": "python",
   "nbconvert_exporter": "python",
   "pygments_lexer": "ipython2",
   "version": "2.7.9"
  }
 },
 "nbformat": 4,
 "nbformat_minor": 0
}
