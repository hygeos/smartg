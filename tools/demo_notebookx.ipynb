{
 "cells": [
  {
   "cell_type": "markdown",
   "metadata": {},
   "source": [
    "# Smart-G demo notebook\n",
    "\n",
    "This is an interactive document allowing to run Smart-G with python and visualize the results. <br>\n",
    "*Tips*: cells can be executed with shift-enter. Tooltips can be obtained with shift-tab. More information [here](http://ipython.org/notebook.html) or in the help menu. [A table of content can also be added](https://github.com/minrk/ipython_extensions#table-of-contents)."
   ]
  },
  {
   "cell_type": "code",
   "execution_count": null,
   "metadata": {
    "collapsed": false,
    "scrolled": false
   },
   "outputs": [],
   "source": [
    "%pylab inline\n",
    "# next 2 lines allow to automatically reload modules that have been changed externally\n",
    "%load_ext autoreload\n",
    "%autoreload 2\n",
    "from smartg import RoughSurface, LambSurface, FlatSurface, Environment\n",
    "from smartgx import smartg, smartg_thr, reptran_merge\n",
    "from PAR import SpecInt, SpecInt2, Irr, ReadREPTRAN_bands\n",
    "from profile.profil import Profile, AeroOPAC, CloudOPAC\n",
    "from luts import LUT, MLUT, Idx, merge, read_lut_hdf, read_mlut_hdf\n",
    "from water.iop_spm import IOP_SPM\n",
    "from water.iop_mm import IOP_MM\n",
    "from smartg_view import semi_polar, smartg_view\n",
    "from IPython.html.widgets.interaction import interact, interact_manual"
   ]
  },
  {
   "cell_type": "markdown",
   "metadata": {},
   "source": [
    "## How to run Smart-G"
   ]
  },
  {
   "cell_type": "code",
   "execution_count": null,
   "metadata": {
    "collapsed": false,
    "scrolled": false
   },
   "outputs": [],
   "source": [
    "# run SMART-G\n",
    "# this simulation uses an AFGL tropical atmosphere without aerosols\n",
    "m = smartg(THVDEG=30, wl=500., NBPHOTONS=1e8,\n",
    "           atm=Profile('afglt'),\n",
    "           surf=RoughSurface(SUR=1))"
   ]
  },
  {
   "cell_type": "code",
   "execution_count": null,
   "metadata": {
    "collapsed": false
   },
   "outputs": [],
   "source": [
    "# the result is a MLUT\n",
    "m.print_info()\n",
    "# it can be written with m.save(filename)\n",
    "# and then reloaded with read_mlut_hdf(filename)"
   ]
  },
  {
   "cell_type": "markdown",
   "metadata": {},
   "source": [
    "## How to view the results"
   ]
  },
  {
   "cell_type": "code",
   "execution_count": null,
   "metadata": {
    "collapsed": false
   },
   "outputs": [],
   "source": [
    "# basic visualization\n",
    "smartg_view(m)"
   ]
  },
  {
   "cell_type": "code",
   "execution_count": null,
   "metadata": {
    "collapsed": false
   },
   "outputs": [],
   "source": [
    "# access a LUT within the MLUT\n",
    "I = m['I_up (TOA)']  # or by index: m[0]"
   ]
  },
  {
   "cell_type": "code",
   "execution_count": null,
   "metadata": {
    "collapsed": false
   },
   "outputs": [],
   "source": [
    "I.print_info()"
   ]
  },
  {
   "cell_type": "code",
   "execution_count": null,
   "metadata": {
    "collapsed": false
   },
   "outputs": [],
   "source": [
    "# access values in this LUT\n",
    "print I[5, ::5]  # by index (can be float indices to interpolate)\n",
    "print I[Idx(90.), Idx(45.)]  # or by index finding + interpolation"
   ]
  },
  {
   "cell_type": "code",
   "execution_count": null,
   "metadata": {
    "collapsed": false
   },
   "outputs": [],
   "source": [
    "# calculate polarized light\n",
    "# use operations between LUT's, and apply sqrt\n",
    "Q, U = m['Q_up (TOA)'], m['U_up (TOA)']\n",
    "LP = (Q*Q + U*U).apply(sqrt, 'LP')   # second parameter of apply sets the LUT's desc\n",
    "LP.plot()"
   ]
  },
  {
   "cell_type": "code",
   "execution_count": null,
   "metadata": {
    "collapsed": false
   },
   "outputs": [],
   "source": [
    "I.plot(index=Idx(45), vmin=0, vmax=0.3)   # the arguments are optional"
   ]
  },
  {
   "cell_type": "code",
   "execution_count": null,
   "metadata": {
    "collapsed": false
   },
   "outputs": [],
   "source": [
    "# get a sub-LUT from a LUT (here 2D -> 1D)\n",
    "I.sub()[Idx(90),:].plot()"
   ]
  },
  {
   "cell_type": "code",
   "execution_count": null,
   "metadata": {
    "collapsed": false
   },
   "outputs": [],
   "source": [
    "# interactive display\n",
    "interact_manual(lambda vmax, phi:\n",
    "                I.plot(index=Idx(phi), vmin=0, vmax=vmax),\n",
    "                vmax=(0,1.,0.01),\n",
    "                phi=(0, 180),\n",
    "               )"
   ]
  },
  {
   "cell_type": "markdown",
   "metadata": {},
   "source": [
    "## A few examples"
   ]
  },
  {
   "cell_type": "code",
   "execution_count": null,
   "metadata": {
    "collapsed": false
   },
   "outputs": [],
   "source": [
    "# Basic Rayleigh example, no surface\n",
    "smartg_view(smartg(wl=500., THVDEG=30., NBPHOTONS=1e8, atm=Profile('afglt')))"
   ]
  },
  {
   "cell_type": "code",
   "execution_count": null,
   "metadata": {
    "collapsed": false
   },
   "outputs": [],
   "source": [
    "# only Rayleigh with a custom grid\n",
    "smartg(wl=500., DEPO=0., NBPHOTONS=1e9,\n",
    "        atm=Profile('afglt', grid='100[75]25[5]10[1]0'))"
   ]
  },
  {
   "cell_type": "code",
   "execution_count": null,
   "metadata": {
    "collapsed": false
   },
   "outputs": [],
   "source": [
    "# Rayleigh + aerosols\n",
    "aer = AeroOPAC('urban', 0.4, 550.)\n",
    "pro = Profile('afglms', aer=aer)\n",
    "smartg(wl=300., THVDEG=60, atm=pro, NBPHOTONS=1e8)"
   ]
  },
  {
   "cell_type": "code",
   "execution_count": null,
   "metadata": {
    "collapsed": false
   },
   "outputs": [],
   "source": [
    "# atmosphere + surface\n",
    "smartg(490., NBPHOTONS=1e7, THVDEG=45.,\n",
    "        atm=Profile('afglms'),\n",
    "        surf=LambSurface(ALB=0.1))"
   ]
  },
  {
   "cell_type": "code",
   "execution_count": null,
   "metadata": {
    "collapsed": false
   },
   "outputs": [],
   "source": [
    "# atmosphere + surface + océan\n",
    "smartg(490., NBPHOTONS=1e7, THVDEG=30.,\n",
    "            atm=Profile('afglms'),\n",
    "            surf=RoughSurface(),\n",
    "            water=IOP_MM(1.))"
   ]
  },
  {
   "cell_type": "code",
   "execution_count": null,
   "metadata": {
    "collapsed": false
   },
   "outputs": [],
   "source": [
    "# surface + océan (SPM model)\n",
    "smartg(750., THVDEG=30., NBPHOTONS=1e9,\n",
    "        surf=RoughSurface(),\n",
    "        water=IOP_SPM(SPM=100.))"
   ]
  },
  {
   "cell_type": "code",
   "execution_count": null,
   "metadata": {
    "collapsed": false
   },
   "outputs": [],
   "source": [
    "# océan seul (chl model)\n",
    "smartg(wl=750., THVDEG=30., water=IOP_SPM(1.), NBPHOTONS=1e9)"
   ]
  },
  {
   "cell_type": "markdown",
   "metadata": {},
   "source": [
    "## Multispectral"
   ]
  },
  {
   "cell_type": "code",
   "execution_count": null,
   "metadata": {
    "collapsed": false
   },
   "outputs": [],
   "source": [
    "# multispectral simulation\n",
    "pro = Profile('afglt',\n",
    "              grid=[100, 75, 50, 30, 20, 10, 5, 1, 0.],  # optional, otherwise use default grid\n",
    "              pfgrid=[100, 20, 0.],   # optional, otherwise use a single band 100-0\n",
    "              pfwav=[400, 500, 600], # optional, otherwise phase functions are calculated at all bands\n",
    "              aer=AeroOPAC('maritime_clean', 0.3, 550.),\n",
    "              verbose=True)\n",
    "m = smartg(wl=np.linspace(400, 600, 10.),\n",
    "           THVDEG=60.,\n",
    "           atm=pro,\n",
    "           surf=RoughSurface(),\n",
    "           water=IOP_SPM(1.))\n",
    "m['I_up (TOA)'].sub()[0,:,:].plot()\n",
    "figure()\n",
    "m['I_up (TOA)'].sub()[:,Idx(30),Idx(30)].plot()"
   ]
  },
  {
   "cell_type": "markdown",
   "metadata": {},
   "source": [
    "## REPTRAN"
   ]
  },
  {
   "cell_type": "markdown",
   "metadata": {},
   "source": [
    "### Example 1"
   ]
  },
  {
   "cell_type": "code",
   "execution_count": null,
   "metadata": {
    "collapsed": false
   },
   "outputs": [],
   "source": [
    "# REPTRAN (example 1)\n",
    "repname = 'reptran_solar_msg' # k distribution file, here MSG/SEVIRI solar channels\n",
    "BAND = 'msg1_seviri_ch006'\n",
    "surf=RoughSurface(SUR=3, WIND=5., NH2O=1.34)\n",
    "atm=Profile('afglmw')  \n",
    "# Read Reptran band characteristics\n",
    "wi, wb, we, ex, dl, bands = ReadREPTRAN_bands(repname, BAND=BAND, FULL=True)\n",
    "M2 = smartg(THVDEG=30, wl=bands, NBPHOTONS=1e8, atm=atm, surf=surf)"
   ]
  },
  {
   "cell_type": "code",
   "execution_count": null,
   "metadata": {
    "collapsed": false
   },
   "outputs": [],
   "source": [
    "print '--M-----------',M2['I_up (TOA)'].print_info()\n",
    "fig=figure(figsize=(8,4))\n",
    "semi_polar(M2['I_up (TOA)'].sub()[0,:,:],rect=121,fig=fig,vmin=0,vmax=0.2)\n",
    "semi_polar(M2['I_up (TOA)'].sub()[1,:,:],rect=122,fig=fig,vmin=0,vmax=0.2)\n",
    "s = SpecInt2(wi,wb,ex,we,dl,M=M2,field='I_up (TOA)')\n",
    "print '--S-----------',s.print_info()\n",
    "fig2=figure(figsize=(4,4))\n",
    "semi_polar(s.sub()[0,:,:], vmin=0, vmax=0.2, rect=111, fig=fig2)"
   ]
  },
  {
   "cell_type": "code",
   "execution_count": null,
   "metadata": {
    "collapsed": false
   },
   "outputs": [],
   "source": [
    "M=job.read()\n",
    "MM_l=[]\n",
    "for k in range(len(M.luts)):\n",
    "    MM_tmp = M.luts[k]\n",
    "    MM=LUT(MM_tmp.data,axes=[wi.data,MM_tmp.axes[1],MM_tmp.axes[2]],desc=MM_tmp.desc,\n",
    "           names=['Wavelengths',MM_tmp.names[1],MM_tmp.names[2]],attrs=MM_tmp.attrs)\n",
    "    MM_l.append(MM)\n",
    "M2 = MLUT(MM_l)\n",
    "print '--M-----------',M2['I_up (TOA)'].print_info()\n",
    "fig=figure(figsize=(8,4))\n",
    "semi_polar(M2['I_up (TOA)'].sub[0,:,:],rect=121,fig=fig,vmin=0,vmax=0.2)\n",
    "semi_polar(M2['I_up (TOA)'].sub[1,:,:],rect=122,fig=fig,vmin=0,vmax=0.2)\n",
    "s = SpecInt2(wi,wb,ex,we,dl,M=M2,field='I_up (TOA)')\n",
    "print '--S-----------',s.print_info()\n",
    "fig2=figure(figsize=(4,4))\n",
    "semi_polar(s.sub[0,:,:],vmin=0,vmax=0.2,rect=111,fig=fig2)"
   ]
  },
  {
   "cell_type": "markdown",
   "metadata": {},
   "source": [
    "### Example 2"
   ]
  },
  {
   "cell_type": "code",
   "execution_count": null,
   "metadata": {
    "collapsed": false
   },
   "outputs": [],
   "source": [
    "# REPTRAN (example 2)\n",
    "repname = 'reptran_solar_medium' # k distribution file, here full solar channels at mdeium resolution\n",
    "LMIN=765. # nm within O2A bands\n",
    "LMAX=768. # nm\n",
    "SAMPLING=1 # sampling of individual channels 1: all microchannels\n",
    "surf=RoughSurface(SUR=3, WIND=5., NH2O=1.34)\n",
    "atm=Profile('afglmw')  \n",
    "# Read Reptran band characteristics\n",
    "wi,wb,we,ex,dl,bands = ReadREPTRAN_bands(repname, LMIN=LMIN, LMAX=LMAX, SAMPLING=SAMPLING, FULL=True)\n",
    "M2 = smartg(THVDEG=30, wl=bands, NBPHOTONS=1e9, atm=atm, surf=surf)"
   ]
  },
  {
   "cell_type": "code",
   "execution_count": null,
   "metadata": {
    "collapsed": false
   },
   "outputs": [],
   "source": [
    "print '--M-----------',M2['I_up (TOA)'].print_info()\n",
    "fig=figure(figsize=(8,4))\n",
    "semi_polar(M2['I_up (TOA)'].sub()[Idx(765.5),:,:],rect=121,fig=fig,vmin=0,vmax=0.1)\n",
    "semi_polar(M2['I_up (TOA)'].sub()[Idx(767.5),:,:],rect=122,fig=fig,vmin=0,vmax=0.1)\n",
    "s = SpecInt2(wi,wb,ex,we,dl,M=M2,field='I_up (TOA)')\n",
    "print '--S-----------',s.print_info()\n",
    "fig2=figure(figsize=(8,4))\n",
    "semi_polar(s.sub()[Idx(765.5),:,:],vmin=0,vmax=0.1,sub=223,index=Idx(140),rect=221,fig=fig2)\n",
    "semi_polar(s.sub()[:,Idx(140),:], rect=222, sub=224, index=Idx(30),swap=True,fig=fig2,vmin=0,vmax=0.1)"
   ]
  },
  {
   "cell_type": "markdown",
   "metadata": {},
   "source": [
    "## Looping over parameters"
   ]
  },
  {
   "cell_type": "code",
   "execution_count": null,
   "metadata": {
    "collapsed": false
   },
   "outputs": [],
   "source": [
    "# loop over some wavelengths\n",
    "MLUTS = []\n",
    "for wl in linspace(400, 800, 10):\n",
    "    M = smartg(THVDEG=30,\n",
    "               wl=wl, NBPHOTONS=1e7,\n",
    "               atm=Profile('afglt'),\n",
    "               surf=RoughSurface())\n",
    "    MLUTS.append(M)"
   ]
  },
  {
   "cell_type": "code",
   "execution_count": null,
   "metadata": {
    "collapsed": false
   },
   "outputs": [],
   "source": [
    "M = merge(MLUTS, ['Wavelength'], dtype=float)"
   ]
  },
  {
   "cell_type": "code",
   "execution_count": null,
   "metadata": {
    "collapsed": false
   },
   "outputs": [],
   "source": [
    "M[0].sub()[0,:,:].plot(index=Idx(45))"
   ]
  },
  {
   "cell_type": "markdown",
   "metadata": {},
   "source": [
    "## Difference between two LUTs"
   ]
  },
  {
   "cell_type": "code",
   "execution_count": null,
   "metadata": {
    "collapsed": false
   },
   "outputs": [],
   "source": [
    "# Here we compare the TOA radiance simulated with\n",
    "# plane parallel and spherical atmospheres, at 443 nm.\n",
    "results = []\n",
    "for pp in [True, False]:\n",
    "    results.append(smartg(pp=pp, THVDEG=60, wl=443., NBPHOTONS=1e10,\n",
    "                          NBTHETA=20., NBPHI=20.,\n",
    "                          atm=Profile('afglt')))\n",
    "    \n",
    "PP = results[0]['I_up (TOA)']\n",
    "SP = results[1]['I_up (TOA)']\n",
    "\n",
    "# show relative difference\n",
    "semi_polar(100.*(SP-PP)/PP, Idx(175.), fig=figure(figsize(8, 8)), vmin=-2, vmax=2)"
   ]
  },
  {
   "cell_type": "code",
   "execution_count": null,
   "metadata": {
    "collapsed": false
   },
   "outputs": [],
   "source": [
    "semi_polar(SP/PP, Idx(90.), fig=figure(figsize(8, 8)),vmin=0.97,vmax=1.03)"
   ]
  },
  {
   "cell_type": "markdown",
   "metadata": {},
   "source": [
    "## Interactive simulation"
   ]
  },
  {
   "cell_type": "code",
   "execution_count": null,
   "metadata": {
    "collapsed": false,
    "scrolled": true
   },
   "outputs": [],
   "source": [
    "from IPython.html.widgets.interaction import interact, interact_manual\n",
    "\n",
    "def simulate(thvdeg, surface, aerosol_model, aot550, wavelength):\n",
    "    surf = {True:RoughSurface(), False:None}[surface]\n",
    "    aer = AeroOPAC(aerosol_model, aot550, 550.)\n",
    "    smartg_view(smartg(THVDEG=thvdeg,\n",
    "             wl=wavelength, NBPHOTONS=1e7,\n",
    "             NBTHETA=90, NBPHI=90,\n",
    "             atm=Profile('afglt', aer=aer), surf=surf, OUTPUT_LAYERS=3\n",
    "          ), QU=False, field='up (0+)')\n",
    "\n",
    "interact_manual(simulate, thvdeg=(0, 90), surface=True,\n",
    "                aerosol_model=AeroOPAC.listStandardAerosolFiles(), aot550=(0.001, 5., 0.01),\n",
    "                wavelength=(400., 800.))"
   ]
  }
 ],
 "metadata": {
  "kernelspec": {
   "display_name": "Python 2",
   "language": "python",
   "name": "python2"
  },
  "language_info": {
   "codemirror_mode": {
    "name": "ipython",
    "version": 2
   },
   "file_extension": ".py",
   "mimetype": "text/x-python",
   "name": "python",
   "nbconvert_exporter": "python",
   "pygments_lexer": "ipython2",
   "version": "2.7.10"
  }
 },
 "nbformat": 4,
 "nbformat_minor": 0
}
