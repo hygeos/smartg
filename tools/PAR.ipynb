{
 "cells": [
  {
   "cell_type": "code",
   "execution_count": null,
   "metadata": {
    "collapsed": false
   },
   "outputs": [],
   "source": [
    "%pylab inline\n",
    "%load_ext autoreload\n",
    "%autoreload 2     # actually reload imports\n",
    "#%config InlineBackend.figure_format = 'svg'    # use vectorial figures\n",
    "from profile.profil import *\n",
    "from smartg import RoughSurface, LambSurface, FlatSurface\n",
    "from smartgx import smartg, smartg_thr, reptran_merge\n",
    "from water.iop_spm import IOP_SPM\n",
    "from water.iop_mm import IOP_MM\n",
    "from luts import MLUT, LUT, Idx, merge, read_lut_hdf, read_mlut_hdf\n",
    "from PAR import Int, Int2, Irr, ReadREPTRAN_bands, dailyPAR, viewPAR, ObsPAR, simulatePAR\n",
    "import pickle"
   ]
  },
  {
   "cell_type": "code",
   "execution_count": null,
   "metadata": {
    "collapsed": false
   },
   "outputs": [],
   "source": [
    "#fpp_l_l, fsp_l_l, fpp2_l_l, fsp2_l_l, dt_l_l, SZA_l, raa_l = simulatePAR(CALC=True,verbose=True)\n",
    "# store file lists\n",
    "#with open('simulations_list_cirrus-continental.pickle4', 'w') as f:\n",
    " # pickle.dump([fpp_l_l, fsp_l_l, fpp2_l_l, fsp2_l_l, SZA_l, raa_l], f)\n",
    "# recompute date list\n",
    "#fpp_l_l, fsp_l_l, fpp2_l_l, fsp2_l_l, dt_l_l, SZA_l, raa_l = simulatePAR(CALC=False,verbose=True)\n",
    "# Getting back the file lists:\n",
    "with open('simulations_list_cirrus-continental.pickle4') as f:\n",
    "    fpp_l_l, fsp_l_l, fpp2_l_l, fsp2_l_l, SZA_l, raa_l = pickle.load(f)"
   ]
  },
  {
   "cell_type": "code",
   "execution_count": null,
   "metadata": {
    "collapsed": false
   },
   "outputs": [],
   "source": [
    "    #--------------------------\n",
    "    # spectral and spatial sampling\n",
    "    #--------------------------\n",
    "    LMIN=380. # nm\n",
    "    LMAX=2220. # nm\n",
    "    PFRES=100. # spectral resolution for phase function (nm)\n",
    "    SAMPLING = 1 # Reptran band undersampling rate\n",
    "    grid='100[30]10[5]10[1]0' # altitude grid for scattering and absorption coefficients\n",
    "    pfgrid=[100, 20, 10, 8., 2., 0.] # altitude grid for phase functions\n",
    "    pfwav=np.linspace(LMIN, LMAX, num=(LMAX-LMIN)/PFRES+1, endpoint=True) # wavelength grid for phase functions\n",
    "    repname='reptran_solar_coarse' # k distribution \n",
    "    #repname='reptran_solar_sentinel'\n",
    "    rep = REPTRAN(repname+'.cdf')\n",
    "    o3=300. # DU\n",
    "    wref=550. # wavelength for AOT and COT reference\n",
    "    aot=0.265\n",
    "    #atmmodel, wvc = ('afglms', 2.96) # g/cm2\n",
    "    #atmmodel, wvc = ('afglt', 4.18) # g/cm2\n",
    "    atmmodel, wvc, SurfPre = ('afglmw', 0.89, 1018.) # g/cm2, mbar\n",
    "    #atmmodel, wvc = ('afglsw', 0.42) # g/cm2\n",
    "    #atmmodel, wvc = ('afglss', 2.11) # g/cm2\n",
    "       \n",
    "    \n",
    "    aermodel_l=['maritime_clean','continental_average','maritime_polluted']\n",
    "    aermodel=aermodel_l[0]\n",
    "    cloudscatt='wc.sol.mie' # scattering properties of water cloud in the solar spectrum through Mie calculations\n",
    "    cloudname='Stratocumulus'\n",
    "    #cloudname='Cirrus'\n",
    "    wc = 1 # water cloud droplets arbitrary concentration\n",
    "    cot = 1. \n",
    "    reff = 12. # cloud droplets effective radius (mic)\n",
    "    Zcmin = 9. # cloud bottom height (km)\n",
    "    Zcmax = 10. # cloud top height (km)\n",
    "    chl=0.1 # mg/l\n",
    "    ws=5. # m/s\n",
    "    lat=45.\n",
    "    lon=-40.\n",
    "    da_l=['2015/7/15','2015/1/15'] # date of acquisition\n",
    "    dir='/home/did/RTC/SMART-G/tools/PAR/VIIRS4/'\n",
    "#    dir='/tmp/'\n",
    "    vza_l=[0., 30., 60.]\n",
    "    raa=90. # Sun VIIRS relative azimuth\n",
    "    time_step=120. # time step for daily PAR integration (minute)\n",
    "    \n",
    "    wi,wb,we,ex,dl,ibands = ReadREPTRAN_bands(repname,LMIN=LMIN,LMAX=LMAX,SAMPLING=SAMPLING,FULL=True)\n",
    "    aer = AeroOPAC(aermodel, aot, wref)\n",
    "    pro = Profile(atmmodel,\n",
    "    grid=grid,  # optional, otherwise use default grid\n",
    "    pfgrid=pfgrid,   # optional, otherwise use a single band 100-0\n",
    "    pfwav=pfwav # optional, otherwise phase functions are calculated at all bands\n",
    "    ,aer=aer\n",
    "    #,cloud=CloudOPAC(cloudname,[(cloudscatt, wc, reff , Zcmin, Zcmax)], cot, wref)\n",
    "    )\n",
    "    pro.calc(665.)            \n",
    "    aer.calc(665.)\n",
    "    t665=aer.tau_tot\n",
    "    aer.calc(865.)\n",
    "    t865=aer.tau_tot\n",
    "    Angstrom = -np.log(t665/t865)/np.log(665./865.)\n",
    "\n",
    " #   Angstrom=0.\n",
    "    \n",
    "    surf=RoughSurface(SUR=3, WIND=ws, NH2O=1.34)\n",
    "    #water=IOP_SPM(SPM=100.,pfwav=pfwav,NANG=7201)\n",
    "    water=IOP_MM(chl,pfwav=pfwav,NANG=7201)\n",
    "    filename = tempfile.mktemp(dir='/tmp/', prefix='fpp_')\n",
    "    smartg(wl = ibands, THVDEG=55.,\n",
    "    atm=pro, NBPHOTONS=1e8,OUTPUT_LAYERS=3,\n",
    "    surf=surf, NFAER=10000,NFOCE=100000).save(filename, compress=False)\n",
    "  #  surf=surf, water=water, NFAER=10000,NFOCE=100000).save(filename, compress=False)"
   ]
  },
  {
   "cell_type": "code",
   "execution_count": null,
   "metadata": {
    "collapsed": false
   },
   "outputs": [],
   "source": [
    "#f=filename\n",
    "f='/tmp/fpp_NRQGee'\n",
    "E, Q = viewPAR(f, f,verbose=True)"
   ]
  },
  {
   "cell_type": "code",
   "execution_count": null,
   "metadata": {
    "collapsed": false
   },
   "outputs": [],
   "source": [
    "fpp_l_l, fsp_l_l, fpp2_l_l, fsp2_l_l, dt_l_l, SZA_l, raa_l = simulatePAR(CALC=False,verbose=True)\n",
    "with open('simulations_list_cirrus-continental.pickle4') as f:\n",
    "    fpp_l_l, fsp_l_l, fpp2_l_l, fsp2_l_l, SZA_l, raa_l = pickle.load(f)\n",
    "dailyPAR(fpp_l_l,fsp_l_l,dt_l_l,verbose=True)"
   ]
  },
  {
   "cell_type": "code",
   "execution_count": null,
   "metadata": {
    "collapsed": false
   },
   "outputs": [],
   "source": [
    "fpp_l_l, fsp_l_l, fpp2_l_l, fsp2_l_l, dt_l_l, SZA_l, raa_l=simulatePAR(CALC=False)"
   ]
  },
  {
   "cell_type": "code",
   "execution_count": null,
   "metadata": {
    "collapsed": true
   },
   "outputs": [],
   "source": [
    "# Getting back the objects:\n",
    "with open('simulations_list_cirrus-continental.pickle4') as f:\n",
    "    fpp_l_l, fsp_l_l, fpp2_l_l, fsp2_l_l, SZA_l, raa_l = pickle.load(f)"
   ]
  },
  {
   "cell_type": "code",
   "execution_count": null,
   "metadata": {
    "collapsed": false
   },
   "outputs": [],
   "source": [
    "ObsPAR(fpp2_l_l, fsp2_l_l, SZA_l, raa_l,verbose=False)"
   ]
  },
  {
   "cell_type": "code",
   "execution_count": null,
   "metadata": {
    "collapsed": false
   },
   "outputs": [],
   "source": [
    "fpp_l_l, fsp_l_l, fpp2_l_l, fsp2_l_l, dt_l_l, SZA_l, raa_l = simulatePAR(CALC=False,verbose=True)\n",
    "with open('simulations_list_continental.pickle4') as f:\n",
    "    fpp_l_l, fsp_l_l, fpp2_l_l, fsp2_l_l, SZA_l, raa_l = pickle.load(f)\n",
    "dailyPAR(fpp_l_l,fsp_l_l,dt_l_l,verbose=True)"
   ]
  },
  {
   "cell_type": "code",
   "execution_count": null,
   "metadata": {
    "collapsed": false
   },
   "outputs": [],
   "source": [
    "with open('simulations_list_stratocumulus5.pickle') as f:\n",
    "    fpp_l_l, fsp_l_l, fpp2_l_l, fsp2_l_l, SZA_l, raa_l = pickle.load(f)"
   ]
  },
  {
   "cell_type": "code",
   "execution_count": null,
   "metadata": {
    "collapsed": false
   },
   "outputs": [],
   "source": [
    "ObsPAR(fpp2_l_l, fsp2_l_l, SZA_l, raa_l, verbose=True)"
   ]
  },
  {
   "cell_type": "code",
   "execution_count": null,
   "metadata": {
    "collapsed": false
   },
   "outputs": [],
   "source": [
    "dailyPAR(fpp_l_l,fsp_l_l,dt_l_l,verbose=True)"
   ]
  },
  {
   "cell_type": "code",
   "execution_count": null,
   "metadata": {
    "collapsed": true
   },
   "outputs": [],
   "source": [
    "with open('simulations_list_cirrus.pickle') as f:\n",
    "    fpp_l_l, fsp_l_l, fpp2_l_l, fsp2_l_l, SZA_l, raa_l = pickle.load(f)"
   ]
  },
  {
   "cell_type": "code",
   "execution_count": null,
   "metadata": {
    "collapsed": false
   },
   "outputs": [],
   "source": [
    "ObsPAR(fpp2_l_l, fsp2_l_l, SZA_l, raa_l)"
   ]
  },
  {
   "cell_type": "code",
   "execution_count": null,
   "metadata": {
    "collapsed": false
   },
   "outputs": [],
   "source": [
    "dailyPAR(fpp_l_l,fsp_l_l,dt_l_l,verbose=False)"
   ]
  },
  {
   "cell_type": "code",
   "execution_count": null,
   "metadata": {
    "collapsed": true
   },
   "outputs": [],
   "source": [
    "with open('simulations_list_stratocumulus50.pickle') as f:\n",
    "    fpp_l_l, fsp_l_l, fpp2_l_l, fsp2_l_l, SZA_l, raa_l = pickle.load(f)"
   ]
  },
  {
   "cell_type": "code",
   "execution_count": null,
   "metadata": {
    "collapsed": false
   },
   "outputs": [],
   "source": [
    "ObsPAR(fpp2_l_l, fsp2_l_l, SZA_l, raa_l,verbose=False)"
   ]
  },
  {
   "cell_type": "code",
   "execution_count": null,
   "metadata": {
    "collapsed": false
   },
   "outputs": [],
   "source": [
    "dailyPAR(fpp_l_l,fsp_l_l,dt_l_l,verbose=False)"
   ]
  }
 ],
 "metadata": {
  "kernelspec": {
   "display_name": "Python 2",
   "language": "python",
   "name": "python2"
  },
  "language_info": {
   "codemirror_mode": {
    "name": "ipython",
    "version": 2
   },
   "file_extension": ".py",
   "mimetype": "text/x-python",
   "name": "python",
   "nbconvert_exporter": "python",
   "pygments_lexer": "ipython2",
   "version": "2.7.10"
  }
 },
 "nbformat": 4,
 "nbformat_minor": 0
}
