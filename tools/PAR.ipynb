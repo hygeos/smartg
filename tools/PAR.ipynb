{
 "cells": [
  {
   "cell_type": "code",
   "execution_count": null,
   "metadata": {
    "collapsed": false
   },
   "outputs": [],
   "source": [
    "%pylab inline\n",
    "%load_ext autoreload\n",
    "%autoreload 2     # actually reload imports\n",
    "#%config InlineBackend.figure_format = 'svg'    # use vectorial figures\n",
    "from smartg_view import semi_polar, smartg_view\n",
    "from smartg import Smartg, RoughSurface, LambSurface, FlatSurface, Environment\n",
    "from profile.profil import *\n",
    "from luts import MLUT, LUT, Idx, merge, read_lut_hdf, read_mlut_hdf\n",
    "from water.iop_spm import IOP_SPM\n",
    "from water.iop_mm import IOP_MM\n",
    "import ephem\n",
    "from PAR import Int, Int2, Irr, ReadREPTRAN_bands, dailyPAR, viewPAR, ObsPAR, simulatePAR\n",
    "import pickle"
   ]
  },
  {
   "cell_type": "code",
   "execution_count": null,
   "metadata": {
    "collapsed": false
   },
   "outputs": [],
   "source": [
    "fpp_l_l, fsp_l_l, fpp2_l_l, fsp2_l_l, dt_l_l, SZA_l, raa_l = simulatePAR(CALC=False)\n",
    "# store file lists\n",
    "#with open('simulations_list_continental.pickle3', 'w') as f:\n",
    "  #pickle.dump([fpp_l_l, fsp_l_l, fpp2_l_l, fsp2_l_l, SZA_l, raa_l], f)\n",
    "# recompute date list\n",
    "fpp_l_l, fsp_l_l, fpp2_l_l, fsp2_l_l, dt_l_l, SZA_l, raa_l = simulatePAR(CALC=False,verbose=True)\n",
    "# Getting back the file lists:\n",
    "with open('simulations_list_continental.pickle3') as f:\n",
    "    fpp_l_l, fsp_l_l, fpp2_l_l, fsp2_l_l, SZA_l, raa_l = pickle.load(f)"
   ]
  },
  {
   "cell_type": "code",
   "execution_count": null,
   "metadata": {
    "collapsed": false
   },
   "outputs": [],
   "source": [
    "fpp_l_l, fsp_l_l, fpp2_l_l, fsp2_l_l, dt_l_l, SZA_l, raa_l=simulatePAR(CALC=False)"
   ]
  },
  {
   "cell_type": "code",
   "execution_count": null,
   "metadata": {
    "collapsed": true
   },
   "outputs": [],
   "source": [
    "# Getting back the objects:\n",
    "with open('simulations_list_continental.pickle3') as f:\n",
    "    fpp_l_l, fsp_l_l, fpp2_l_l, fsp2_l_l, SZA_l, raa_l = pickle.load(f)"
   ]
  },
  {
   "cell_type": "code",
   "execution_count": null,
   "metadata": {
    "collapsed": false
   },
   "outputs": [],
   "source": [
    "ObsPAR(fpp2_l_l, fsp2_l_l, SZA_l, raa_l,verbose=True)"
   ]
  },
  {
   "cell_type": "code",
   "execution_count": null,
   "metadata": {
    "collapsed": false
   },
   "outputs": [],
   "source": [
    "dailyPAR(fpp_l_l,fsp_l_l,dt_l_l,verbose=True)"
   ]
  },
  {
   "cell_type": "code",
   "execution_count": null,
   "metadata": {
    "collapsed": false
   },
   "outputs": [],
   "source": [
    "with open('simulations_list_stratocumulus5.pickle') as f:\n",
    "    fpp_l_l, fsp_l_l, fpp2_l_l, fsp2_l_l, SZA_l, raa_l = pickle.load(f)"
   ]
  },
  {
   "cell_type": "code",
   "execution_count": null,
   "metadata": {
    "collapsed": false
   },
   "outputs": [],
   "source": [
    "ObsPAR(fpp2_l_l, fsp2_l_l, SZA_l, raa_l, verbose=True)"
   ]
  },
  {
   "cell_type": "code",
   "execution_count": null,
   "metadata": {
    "collapsed": false
   },
   "outputs": [],
   "source": [
    "dailyPAR(fpp_l_l,fsp_l_l,dt_l_l,verbose=True)"
   ]
  },
  {
   "cell_type": "code",
   "execution_count": null,
   "metadata": {
    "collapsed": true
   },
   "outputs": [],
   "source": [
    "with open('simulations_list_cirrus.pickle') as f:\n",
    "    fpp_l_l, fsp_l_l, fpp2_l_l, fsp2_l_l, SZA_l, raa_l = pickle.load(f)"
   ]
  },
  {
   "cell_type": "code",
   "execution_count": null,
   "metadata": {
    "collapsed": false
   },
   "outputs": [],
   "source": [
    "ObsPAR(fpp2_l_l, fsp2_l_l, SZA_l, raa_l)"
   ]
  },
  {
   "cell_type": "code",
   "execution_count": null,
   "metadata": {
    "collapsed": false
   },
   "outputs": [],
   "source": [
    "dailyPAR(fpp_l_l,fsp_l_l,dt_l_l,verbose=False)"
   ]
  },
  {
   "cell_type": "code",
   "execution_count": null,
   "metadata": {
    "collapsed": true
   },
   "outputs": [],
   "source": [
    "with open('simulations_list_stratocumulus50.pickle') as f:\n",
    "    fpp_l_l, fsp_l_l, fpp2_l_l, fsp2_l_l, SZA_l, raa_l = pickle.load(f)"
   ]
  },
  {
   "cell_type": "code",
   "execution_count": null,
   "metadata": {
    "collapsed": false
   },
   "outputs": [],
   "source": [
    "ObsPAR(fpp2_l_l, fsp2_l_l, SZA_l, raa_l,verbose=False)"
   ]
  },
  {
   "cell_type": "code",
   "execution_count": null,
   "metadata": {
    "collapsed": false
   },
   "outputs": [],
   "source": [
    "dailyPAR(fpp_l_l,fsp_l_l,dt_l_l,verbose=False)"
   ]
  },
  {
   "cell_type": "code",
   "execution_count": null,
   "metadata": {
    "collapsed": false,
    "scrolled": true
   },
   "outputs": [],
   "source": [
    "LMIN=400. # nm\n",
    "LMAX=700. # nm\n",
    "SAMPLING=1\n",
    "PFRES=50. # spectral resolution for phase function (nm)\n",
    "grid='100[30]10[5]10[1]0' # altitude grid for scattering and absorption coefficients\n",
    "o3=300. # DU\n",
    "wref=862. # wavelength for AOT and COT reference\n",
    "aot=0.1\n",
    "aermodel_l=['maritime_clean','continental_average']\n",
    "aermodel=aermodel_l[1]\n",
    "chl=0.1 # mg/l\n",
    "ws=5. # m/s\n",
    "aer = AeroOPAC(aermodel, aot, wref)\n",
    "repname='reptran_solar_coarse' # k distribution\n",
    "surf=RoughSurface(SUR=3, WIND=ws, NH2O=1.34)\n",
    "wi,wb,we,ex,dl = ReadREPTRAN_bands(repname,LMIN=LMIN,LMAX=LMAX,SAMPLING=SAMPLING)\n",
    "pfwav=np.linspace(LMIN, LMAX, num=(LMAX-LMIN)/PFRES+1, endpoint=True)\n",
    "water=IOP_MM(chl,NANG=7201,pfwav=pfwav)\n",
    "atm=Profile('afglmw',O3=o3,pfwav=pfwav\n",
    "             #,cloud=CloudOPAC('strato',[('wc.sol.mie', 1, 10. , 9., 10.)], 5, 862.)\n",
    "             ,aer=aer \n",
    "           )\n",
    "             \n"
   ]
  },
  {
   "cell_type": "code",
   "execution_count": null,
   "metadata": {
    "collapsed": false
   },
   "outputs": [],
   "source": [
    "job = Smartg('SMART-G-PP', THVDEG=30, wl=list(wi.data), NBPHOTONS=1e7,\n",
    "                    atm=atm,NBLOOP=5000, OUTPUT_LAYERS=3,\n",
    "                    surf=surf, water=water,NFAER=10000,NFOCE=10000,\n",
    "                    overwrite=True)"
   ]
  },
  {
   "cell_type": "code",
   "execution_count": null,
   "metadata": {
    "collapsed": false,
    "scrolled": false
   },
   "outputs": [],
   "source": []
  },
  {
   "cell_type": "code",
   "execution_count": null,
   "metadata": {
    "collapsed": false
   },
   "outputs": [],
   "source": [
    "# multispectral\n",
    "chl=1 # mg/l\n",
    "ws=1. # m/s\n",
    "o3=300. # DU\n",
    "surf=RoughSurface(SUR=3, WIND=ws, NH2O=1.34)\n",
    "water=IOP_MM(chl,NANG=7201,pfwav=[680,700])\n",
    "pro = Profile('afglmw',\n",
    "              grid='100[20]20[5]10[1]0', # altitude grid for scattering and absorption coefficients\n",
    "              pfgrid=[100, 20, 10., 5., 0.],   # optional, otherwise use a single band 100-0\n",
    "              pfwav=[680,700], # optional, otherwise phase functions are calculated at all bands\n",
    "              aer=AeroOPAC('continental_average', 0.1, 862.),O3=o3,\n",
    "              verbose=False)\n",
    "LMIN=680. # nm\n",
    "LMAX=700. # nm\n",
    "SAMPLING=1\n",
    "repname='reptran_solar_fine' # k distribution\n",
    "wi,wb,we,ex,dl,bands = ReadREPTRAN_bands(repname,LMIN=LMIN,LMAX=LMAX,SAMPLING=SAMPLING,FULL=True)\n",
    "job = Smartg('SMART-G-PP', THVDEG=30, wl=bands, NBPHOTONS=1e9,\n",
    "                    atm=pro,NBLOOP=5000, OUTPUT_LAYERS=3,\n",
    "                    surf=surf, NFAER=10000,NFOCE=10000,\n",
    "                    water=water,\n",
    "                    overwrite=True,cmdfile='/home/did/RTC/SMART-G/zozo.txt')"
   ]
  },
  {
   "cell_type": "code",
   "execution_count": null,
   "metadata": {
    "collapsed": false
   },
   "outputs": [],
   "source": [
    "from luts import MLUT\n",
    "M=job.read()\n",
    "MM_l=[]\n",
    "for k in range(len(M.luts)):\n",
    "    MM_tmp = M.luts[k]\n",
    "    MM=LUT(MM_tmp.data,axes=[wi.data,MM_tmp.axes[1],MM_tmp.axes[2]],desc=MM_tmp.desc,\n",
    "           names=['Wavelengths',MM_tmp.names[1],MM_tmp.names[2]],attrs=MM_tmp.attrs)\n",
    "    MM_l.append(MM)\n",
    "M2 = MLUT(MM_l)\n",
    "M2.print_info()\n",
    "Ip_up0= M2['Q_up (0+)']\n",
    "Ip_up0.data=np.sqrt(Ip_up0.data**2 + M2['U_up (0+)'].data**2)\n",
    "Ip_up0.desc='Ip_up (0+)'\n",
    "semi_polar(Ip_up0.sub[:,-1,:], swap=True, index=20,vmax=0.5)"
   ]
  },
  {
   "cell_type": "code",
   "execution_count": null,
   "metadata": {
    "collapsed": true
   },
   "outputs": [],
   "source": [
    "jobp = Smartg('SMART-G-PP', wl=400.,# wl = np.linspace(400, 700, 2),\n",
    "             THVDEG=29.9, NBPHOTONS=1e9,NBTHETA=180,\n",
    "             atm=pro,OUTPUT_LAYERS=3,NFAER=10000,NFOCE=10000,\n",
    "             surf=RoughSurface(SUR=3, WIND=ws, NH2O=1.34),\n",
    "             water=IOP_MM(chl,NANG=7201),\n",
    "             overwrite=True)"
   ]
  },
  {
   "cell_type": "code",
   "execution_count": null,
   "metadata": {
    "collapsed": false
   },
   "outputs": [],
   "source": [
    "jobe = Smartg('SMART-G-SP', wl=400.,# wl = np.linspace(400, 700, 2),\n",
    "             THVDEG=29.9, NBPHOTONS=1e8,NBTHETA=180,\n",
    "             atm=pro,OUTPUT_LAYERS=3,NFAER=10000,NFOCE=10000,\n",
    "             surf=RoughSurface(SUR=3, WIND=ws, NH2O=1.34),\n",
    "             water=IOP_MM(chl,NANG=7201),env=Environment(ENV=1,ENV_SIZE=1000,X0=990,ALB=0.5),\n",
    "             overwrite=True)"
   ]
  },
  {
   "cell_type": "code",
   "execution_count": null,
   "metadata": {
    "collapsed": false
   },
   "outputs": [],
   "source": [
    "fig = figure(figsize=(8,8))\n",
    "M=jobe.read()\n",
    "I_up = M['I_up (TOA)']\n",
    "I_up0= M['I_up (0+)']\n",
    "Ip_up = M['Q_up (TOA)']\n",
    "Ip_up.data=np.sqrt(Ip_up.data**2 + M['U_up (TOA)'].data**2)\n",
    "Ip_up.desc='Ip_up (TOA)'\n",
    "Ip_up0= M['Q_up (0+)']\n",
    "Ip_up0.data=np.sqrt(Ip_up0.data**2 + M['U_up (0+)'].data**2)\n",
    "Ip_up0.desc='Ip_up (0+)'\n",
    "semi_polar(I_up, index=Idx(2.), rect=421, sub=423, swap=False, fig=fig,vmin=0,vmax=0.5)\n",
    "semi_polar(Ip_up, index=Idx(2.), rect=422, sub=424, swap=False, fig=fig,vmin=0,vmax=0.5)\n",
    "semi_polar(I_up0, index=Idx(2.), rect=425, sub=427, swap=False, fig=fig,vmin=0,vmax=0.5) \n",
    "semi_polar(Ip_up0, index=Idx(2.), rect=426, sub=428, swap=False, fig=fig,vmin=0,vmax=0.5) "
   ]
  },
  {
   "cell_type": "code",
   "execution_count": null,
   "metadata": {
    "collapsed": false
   },
   "outputs": [],
   "source": [
    "fig = figure(figsize=(8,8))\n",
    "M=jobs.read()\n",
    "I_up = M['I_up (TOA)']\n",
    "I_up0= M['I_up (0+)']\n",
    "Ip_up = M['Q_up (TOA)']\n",
    "Ip_up.data=np.sqrt(Ip_up.data**2 + M['U_up (TOA)'].data**2)\n",
    "Ip_up.desc='Ip_up (TOA)'\n",
    "Ip_up0= M['Q_up (0+)']\n",
    "Ip_up0.data=np.sqrt(Ip_up0.data**2 + M['U_up (0+)'].data**2)\n",
    "Ip_up0.desc='Ip_up (0+)'\n",
    "semi_polar(I_up, index=Idx(2.), rect=421, sub=423, swap=False, fig=fig,vmin=0,vmax=0.5)\n",
    "semi_polar(Ip_up, index=Idx(2.), rect=422, sub=424, swap=False, fig=fig,vmin=0,vmax=0.5)\n",
    "semi_polar(I_up0, index=Idx(2.), rect=425, sub=427, swap=False, fig=fig,vmin=0,vmax=0.5) \n",
    "semi_polar(Ip_up0, index=Idx(2.), rect=426, sub=428, swap=False, fig=fig,vmin=0,vmax=0.5) "
   ]
  }
 ],
 "metadata": {
  "kernelspec": {
   "display_name": "Python 2",
   "language": "python",
   "name": "python2"
  },
  "language_info": {
   "codemirror_mode": {
    "name": "ipython",
    "version": 2
   },
   "file_extension": ".py",
   "mimetype": "text/x-python",
   "name": "python",
   "nbconvert_exporter": "python",
   "pygments_lexer": "ipython2",
   "version": "2.7.9"
  }
 },
 "nbformat": 4,
 "nbformat_minor": 0
}
