{
 "cells": [
  {
   "cell_type": "code",
   "execution_count": null,
   "metadata": {
    "collapsed": false
   },
   "outputs": [],
   "source": [
    "%pylab inline\n",
    "%load_ext autoreload\n",
    "%autoreload 2     # actually reload imports\n",
    "#%config InlineBackend.figure_format = 'svg'    # use vectorial figures\n",
    "from smartg_view import semi_polar, smartg_view, plot2dtest\n",
    "from smartg import Smartg, RoughSurface, LambSurface, FlatSurface, Environment\n",
    "from profile.profil import *\n",
    "from luts import MLUT, LUT, Idx, merge, read_lut_hdf, read_mlut_hdf\n",
    "from water.iop_spm import IOP_SPM\n",
    "from water.iop_mm import IOP_MM\n",
    "import ephem\n",
    "from PAR import Int, Int2, Irr, ReadREPTRAN_bands, dailyPAR, viewPAR, ObsPAR, simulatePAR\n",
    "import pickle"
   ]
  },
  {
   "cell_type": "code",
   "execution_count": null,
   "metadata": {
    "collapsed": false
   },
   "outputs": [],
   "source": [
    "fpp_l_l, fsp_l_l, fpp2_l_l, fsp2_l_l, dt_l_l, SZA_l, raa_l = simulatePAR(CALC=False)\n",
    "# store file lists\n",
    "#with open('simulations_list_continental.pickle3', 'w') as f:\n",
    "  #pickle.dump([fpp_l_l, fsp_l_l, fpp2_l_l, fsp2_l_l, SZA_l, raa_l], f)\n",
    "# recompute date list\n",
    "fpp_l_l, fsp_l_l, fpp2_l_l, fsp2_l_l, dt_l_l, SZA_l, raa_l = simulatePAR(CALC=False,verbose=True)\n",
    "# Getting back the file lists:\n",
    "with open('simulations_list_continental.pickle') as f:\n",
    "    fpp_l_l, fsp_l_l, fpp2_l_l, fsp2_l_l, SZA_l, raa_l = pickle.load(f)"
   ]
  },
  {
   "cell_type": "code",
   "execution_count": null,
   "metadata": {
    "collapsed": false
   },
   "outputs": [],
   "source": [
    "fpp_l_l, fsp_l_l, fpp2_l_l, fsp2_l_l, dt_l_l, SZA_l, raa_l=simulatePAR(CALC=False)"
   ]
  },
  {
   "cell_type": "code",
   "execution_count": null,
   "metadata": {
    "collapsed": true
   },
   "outputs": [],
   "source": [
    "# Getting back the objects:\n",
    "with open('simulations_list_continental.pickle') as f:\n",
    "    fpp_l_l, fsp_l_l, fpp2_l_l, fsp2_l_l, SZA_l, raa_l = pickle.load(f)"
   ]
  },
  {
   "cell_type": "code",
   "execution_count": null,
   "metadata": {
    "collapsed": false
   },
   "outputs": [],
   "source": [
    "ObsPAR(fpp2_l_l, fsp2_l_l, SZA_l, raa_l,verbose=True)"
   ]
  },
  {
   "cell_type": "code",
   "execution_count": null,
   "metadata": {
    "collapsed": false
   },
   "outputs": [],
   "source": [
    "dailyPAR(fpp_l_l,fsp_l_l,dt_l_l,verbose=True)"
   ]
  },
  {
   "cell_type": "code",
   "execution_count": null,
   "metadata": {
    "collapsed": false
   },
   "outputs": [],
   "source": [
    "with open('simulations_list_stratocumulus5.pickle') as f:\n",
    "    fpp_l_l, fsp_l_l, fpp2_l_l, fsp2_l_l, SZA_l, raa_l = pickle.load(f)"
   ]
  },
  {
   "cell_type": "code",
   "execution_count": null,
   "metadata": {
    "collapsed": false
   },
   "outputs": [],
   "source": [
    "ObsPAR(fpp2_l_l, fsp2_l_l, SZA_l, raa_l, verbose=True)"
   ]
  },
  {
   "cell_type": "code",
   "execution_count": null,
   "metadata": {
    "collapsed": false
   },
   "outputs": [],
   "source": [
    "dailyPAR(fpp_l_l,fsp_l_l,dt_l_l,verbose=True)"
   ]
  },
  {
   "cell_type": "code",
   "execution_count": null,
   "metadata": {
    "collapsed": true
   },
   "outputs": [],
   "source": [
    "with open('simulations_list_cirrus.pickle') as f:\n",
    "    fpp_l_l, fsp_l_l, fpp2_l_l, fsp2_l_l, SZA_l, raa_l = pickle.load(f)"
   ]
  },
  {
   "cell_type": "code",
   "execution_count": null,
   "metadata": {
    "collapsed": false
   },
   "outputs": [],
   "source": [
    "ObsPAR(fpp2_l_l, fsp2_l_l, SZA_l, raa_l)"
   ]
  },
  {
   "cell_type": "code",
   "execution_count": null,
   "metadata": {
    "collapsed": false
   },
   "outputs": [],
   "source": [
    "dailyPAR(fpp_l_l,fsp_l_l,dt_l_l,verbose=False)"
   ]
  },
  {
   "cell_type": "code",
   "execution_count": null,
   "metadata": {
    "collapsed": true
   },
   "outputs": [],
   "source": [
    "with open('simulations_list_stratocumulus50.pickle') as f:\n",
    "    fpp_l_l, fsp_l_l, fpp2_l_l, fsp2_l_l, SZA_l, raa_l = pickle.load(f)"
   ]
  },
  {
   "cell_type": "code",
   "execution_count": null,
   "metadata": {
    "collapsed": false
   },
   "outputs": [],
   "source": [
    "ObsPAR(fpp2_l_l, fsp2_l_l, SZA_l, raa_l,verbose=False)"
   ]
  },
  {
   "cell_type": "code",
   "execution_count": null,
   "metadata": {
    "collapsed": false
   },
   "outputs": [],
   "source": [
    "dailyPAR(fpp_l_l,fsp_l_l,dt_l_l,verbose=False)"
   ]
  },
  {
   "cell_type": "code",
   "execution_count": null,
   "metadata": {
    "collapsed": false,
    "scrolled": true
   },
   "outputs": [],
   "source": [
    "LMIN=400. # nm\n",
    "LMAX=700. # nm\n",
    "SAMPLING=1\n",
    "PFRES=50. # spectral resolution for phase function (nm)\n",
    "grid='100[20]20[5]10[1]0' # altitude grid for scattering and absorption coefficients\n",
    "o3=300. # DU\n",
    "wref=862. # wavelength for AOT and COT reference\n",
    "aot=0.1\n",
    "aermodel_l=['maritime_clean','continental_average']\n",
    "aermodel=aermodel_l[1]\n",
    "chl=0.1 # mg/l\n",
    "ws=5. # m/s\n",
    "aer = AeroOPAC(aermodel, aot, wref)\n",
    "repname='reptran_solar_coarse' # k distribution\n",
    "surf=RoughSurface(SUR=3, WIND=ws, NH2O=1.34)\n",
    "wi,wb,we,ex,dl,bands = ReadREPTRAN_bands(repname,LMIN=LMIN,LMAX=LMAX,SAMPLING=SAMPLING,FULL=True)\n",
    "pfwav=np.linspace(LMIN, LMAX, num=(LMAX-LMIN)/PFRES+1, endpoint=True)\n",
    "water=IOP_MM(chl,NANG=7201,pfwav=pfwav)\n",
    "atm=Profile('afglmw',O3=o3,pfwav=pfwav\n",
    "             #,cloud=CloudOPAC('strato',[('wc.sol.mie', 1, 10. , 9., 10.)], 5, 862.)\n",
    "             ,aer=aer \n",
    "           )\n",
    "             \n"
   ]
  },
  {
   "cell_type": "code",
   "execution_count": null,
   "metadata": {
    "collapsed": true
   },
   "outputs": [],
   "source": []
  },
  {
   "cell_type": "code",
   "execution_count": null,
   "metadata": {
    "collapsed": false
   },
   "outputs": [],
   "source": [
    "job = Smartg('SMART-G-PP', THVDEG=30, wl=bands, NBPHOTONS=1e8,\n",
    "                    atm=atm,NBLOOP=5000, OUTPUT_LAYERS=3,env=Environment(ENV=1,ENV_SIZE=10.,X0=0.,ALB=0.5),\n",
    "                    surf=surf, water=water,NFAER=10000,NFOCE=10000,\n",
    "                    overwrite=True)"
   ]
  },
  {
   "cell_type": "code",
   "execution_count": null,
   "metadata": {
    "collapsed": false
   },
   "outputs": [],
   "source": [
    "job.view()"
   ]
  },
  {
   "cell_type": "code",
   "execution_count": null,
   "metadata": {
    "collapsed": false
   },
   "outputs": [],
   "source": [
    "# multispectral\n",
    "chl=1 # mg/l\n",
    "ws=5. # m/s\n",
    "o3=300. # DU\n",
    "SPM=10. # mg/l\n",
    "LMIN=765. # nm\n",
    "LMAX=768. # nm\n",
    "SAMPLING=1\n",
    "PFRES=20. # spectral resolution for phase function (nm)\n",
    "pfwav=np.linspace(LMIN, LMAX, num=(LMAX-LMIN)/PFRES+1, endpoint=True)\n",
    "surf=RoughSurface(SUR=1, WIND=ws, NH2O=1.34)\n",
    "#water=IOP_MM(chl,NANG=7201,pfwav=pfwav)\n",
    "water=IOP_SPM(SPM,NANG=7201,pfwav=pfwav)\n",
    "pro = Profile('afglmw',\n",
    "              grid='100[20]20[5]10[1]0', # altitude grid for scattering and absorption coefficients\n",
    "              #pfgrid=[100, 20, 10., 5., 0.],   # optional, otherwise use a single band 100-0\n",
    "              pfwav=pfwav, # optional, otherwise phase functions are calculated at all bands\n",
    "              #aer=AeroOPAC('continental_average', 0.1, 862.),O3=o3,\n",
    "              verbose=False)\n",
    "repname='reptran_solar_fine' # k distribution\n",
    "wi,wb,we,ex,dl,bands = ReadREPTRAN_bands(repname,LMIN=LMIN,LMAX=LMAX,SAMPLING=SAMPLING,FULL=True)\n",
    "jobo2 = Smartg('SMART-G-PP', THVDEG=30., wl=bands, NBPHOTONS=1e9,\n",
    "                    atm=pro,NBLOOP=5000, OUTPUT_LAYERS=3,\n",
    "                    surf=surf, NFAER=10000,NFOCE=10000,env=Environment(ENV=0,ENV_SIZE=10.,X0=0.,ALB=0.5),\n",
    "                    #water=water,\n",
    "                    overwrite=True,cmdfile='/home/did/RTC/SMART-G/zozo.txt')"
   ]
  },
  {
   "cell_type": "code",
   "execution_count": null,
   "metadata": {
    "collapsed": true
   },
   "outputs": [],
   "source": [
    "jobo2_sp = Smartg('SMART-G-SP', THVDEG=30, wl=bands, NBPHOTONS=1e9,\n",
    "                    atm=pro,NBLOOP=5000, OUTPUT_LAYERS=3,\n",
    "                    surf=surf, NFAER=10000,NFOCE=10000,env=Environment(ENV=0,ENV_SIZE=10.,X0=0.,ALB=0.5),\n",
    "                    water=water,\n",
    "                    overwrite=True,cmdfile='/home/did/RTC/SMART-G/zozo.txt')"
   ]
  },
  {
   "cell_type": "code",
   "execution_count": null,
   "metadata": {
    "collapsed": false
   },
   "outputs": [],
   "source": [
    "from luts import MLUT\n",
    "M=jobo2.read()\n",
    "MM_l=[]\n",
    "for k in range(len(M.luts)):\n",
    "    MM_tmp = M.luts[k]\n",
    "    MM=LUT(MM_tmp.data,axes=[wi.data,MM_tmp.axes[1],MM_tmp.axes[2]],desc=MM_tmp.desc,\n",
    "           names=['Wavelengths',MM_tmp.names[1],MM_tmp.names[2]],attrs=MM_tmp.attrs)\n",
    "    MM_l.append(MM)\n",
    "M2 = MLUT(MM_l)"
   ]
  },
  {
   "cell_type": "code",
   "execution_count": null,
   "metadata": {
    "collapsed": true
   },
   "outputs": [],
   "source": [
    "def SpecInt(wi, wb, ex, we, dl, M=None, field=None, lim=[400.,700.]):\n",
    "    '''\n",
    "    all input vectors have same length, coming from REPTRAN\n",
    "    wi : input wavelengths of internal bands (nm)\n",
    "    wb : input wavelengths of bands (nm)\n",
    "    ex : input extra-terrestrial irradiances at internal bands (W m-2 nm-1)\n",
    "    we : input weights of internal bands\n",
    "    dl : input bandwidths of bands (nm)\n",
    "    M  : optional LUT or MLUT with 3D (lambda,phi,theta) or 1D (lambda) radiative field to spectrally integrate\n",
    "    lim: spectral boundaries for integration\n",
    "    \n",
    "    returns\n",
    "    spectrally integrated intensity\n",
    "    '''\n",
    "    ok=np.where((wb.data >=lim[0]) & (wb.data <lim[1]))[0]\n",
    "    if (M != None) :\n",
    "        if (field != None) :\n",
    "            L = M[field]\n",
    "            tab = L.data\n",
    "        else :\n",
    "            tab = M.data\n",
    "\n",
    "        if tab.ndim == 3 :\n",
    "            R = np.rollaxis(tab,0,3)\n",
    "            E = LUT(sum(R[:,:,ok] * we.data[ok] * dl.data[ok], axis=2), \\\n",
    "                axes=[L.axes[1], L.axes[2]], desc=L.desc, \\\n",
    "                names=[L.names[1], L.names[2]], attrs={'LAMBDA':lim[0]})\n",
    "        else:\n",
    "            E = sum(tab[ok] * we.data[ok] * dl.data[ok])\n",
    "    else:\n",
    "        E = sum(we.data[ok] * dl.data[ok])\n",
    "\n",
    "    norm = sum(we.data[ok] * dl.data[ok])\n",
    "    Eavg = E/norm\n",
    "\n",
    "    return E, Eavg\n",
    "\n",
    "\n",
    "def SpecInt2(wi, wb, ex, we, dl, M=None, field=None, Irradiance=False):\n",
    "    Eavg=[] \n",
    "    wu = np.unique(wb.data)\n",
    "    for linf in wu:\n",
    "    #for linf in np.linspace(lim[0],lim[1]-DL,endpoint=True,num=(lim[1]-lim[0])/DL):\n",
    "        E1,E2 = SpecInt(wi, wb, ex, we, dl, M=M, field=field,lim=[linf,linf+1e-5])\n",
    "        if Irradiance :\n",
    "            Eavg.append(Irr(E2))\n",
    "        else:\n",
    "            Eavg.append(E2)\n",
    "    Mavg = merge(Eavg, ['LAMBDA'])\n",
    "    return  Mavg\n"
   ]
  },
  {
   "cell_type": "code",
   "execution_count": null,
   "metadata": {
    "collapsed": false
   },
   "outputs": [],
   "source": [
    "from mpl_toolkits.mplot3d import Axes3D\n",
    "import numpy as np\n",
    "import matplotlib.pyplot as plt\n",
    "M=M2['I_up (TOA)']\n",
    "x=M.axes[1]\n",
    "y=M.axes[2]\n",
    "z=M.axes[0]\n",
    "X, Y = np.meshgrid(x,y)\n",
    "Z = M.sub[200,:,:].data\n",
    "fig = plt.figure()\n",
    "ax = fig.gca(projection='3d')\n",
    "ax.contourf(X,Y,Z,zdir='z',levels=.1*z)\n",
    "#x = np.linspace(0, 1, 100)\n",
    "#X, Y = np.meshgrid(x, x)\n",
    "#Z = np.sin(X)*np.sin(Y)\n",
    "\n",
    "levels = np.linspace(-1, 1, 40)\n",
    "#ax.contourf(X,Y,Z)\n",
    "\n",
    "#ax.contourf(X, Y, .1*np.sin(3*X)*np.sin(5*Y), zdir='z', levels=.1*levels)\n",
    "#ax.contourf(X, Y, 3+.1*np.sin(5*X)*np.sin(8*Y), zdir='z', levels=3+.1*levels)\n",
    "#ax.contourf(X, Y, 7+.1*np.sin(7*X)*np.sin(3*Y), zdir='z', levels=7+.1*levels)\n",
    "\n",
    "ax.legend()\n",
    "ax.set_xlim3d(0, 180)\n",
    "ax.set_ylim3d(0, 90)\n",
    "ax.set_zlim3d(z[0], z[-1])"
   ]
  },
  {
   "cell_type": "code",
   "execution_count": null,
   "metadata": {
    "collapsed": false
   },
   "outputs": [],
   "source": [
    "def plot2dtest(lut, index=None, vmin=None, vmax=None, rect='211', sub='212', sym=None, swap=False, fig=None):\n",
    "    '''\n",
    "    Contour and eventually transect of 2D LUT on a cartesian plot, with\n",
    "    dimensions (angle, radius)\n",
    "\n",
    "    lut: 2D look-up table to display\n",
    "    index: index of the item to transect in the 'angle' dimension\n",
    "           if None (default), no transect\n",
    "    vmin, vmax: range of values\n",
    "                default None: determine min/max from values\n",
    "    rect: subplot position of the main plot ('111' for example)\n",
    "    sub: subplot position of the transect\n",
    "    sym: the transect uses symmetrical axis (boolean)\n",
    "         if None (default), use symmetry iff axis is 'zenith'\n",
    "    swap: swap the order of the 2 axes to (radius, angle)\n",
    "    fig : destination figure. If None (default), create a new figure.\n",
    "    '''\n",
    "    from mpl_toolkits.axisartist.grid_finder import FixedLocator, DictFormatter\n",
    "\n",
    "    #\n",
    "    # initialization\n",
    "    #\n",
    "\n",
    "    assert lut.ndim == 2\n",
    "\n",
    "    show_sub = index is not None\n",
    "    if fig is None:\n",
    "        if show_sub:\n",
    "            fig = figure(figsize=(4.5, 4.5))\n",
    "        else:\n",
    "            fig = figure(figsize=(4.5, 6))\n",
    "\n",
    "    if swap:\n",
    "        ax1, ax2 = lut.axes[1], lut.axes[0]\n",
    "        name1, name2 = lut.names[1], lut.names[0]\n",
    "        data = np.swapaxes(lut.data, 0, 1)\n",
    "    else:\n",
    "        ax1, ax2 = lut.axes[0], lut.axes[1]\n",
    "        name1, name2 = lut.names[0], lut.names[1]\n",
    "        data = lut.data\n",
    "\n",
    "    if vmin is None:\n",
    "        vmin = np.amin(lut.data)\n",
    "    if vmax is None:\n",
    "        vmax = np.amax(lut.data)\n",
    "    if vmin == vmax:\n",
    "        vmin -= 0.001\n",
    "        vmax += 0.001\n",
    "    if vmin > vmax: vmin, vmax = vmax, vmin\n",
    "\n",
    "    #\n",
    "    # semi polar axis\n",
    "    #\n",
    "    ax1_ticks = [0, 45, 90, 135, 180]\n",
    "    if 'azimu' in name1.lower():\n",
    "        ax1_min, ax1_max = 0., 180.\n",
    "        ax1_ticks = dict(zip(ax1_ticks, map(str, ax1_ticks)))\n",
    "        label1 = r'$\\phi$'\n",
    "        ax1_scaled = ax1\n",
    "    else:\n",
    "        ax1_min, ax1_max = ax1[0], ax1[-1]\n",
    "        ax1_ticks = dict(zip(ax1_ticks,\n",
    "                         map(lambda x: '{:.1f}'.format(x), np.linspace(ax1_min, ax1_max, len(ax1_ticks)))))\n",
    "        label1 = name1\n",
    "\n",
    "        # rescale ax1 to (0, 180)\n",
    "        ax1_scaled = (ax1-ax1_min)/(ax1_max-ax1_min)*180.\n",
    "\n",
    "    ax2_ticks = [0, 30, 60, 90]\n",
    "    if 'zenit' in name2.lower():\n",
    "        ax2_min, ax2_max = 0, 90.\n",
    "        if sym is None: sym=True\n",
    "        ax2_ticks = dict(zip(ax2_ticks, map(str, ax2_ticks)))\n",
    "        label2 = r'$\\theta$'\n",
    "        ax2_scaled = ax2\n",
    "    else:\n",
    "        ax2_min, ax2_max = ax2[0], ax2[-1]\n",
    "        ax2_ticks = dict(zip(ax2_ticks,\n",
    "                             map(lambda x: '{:.1f}'.format(x), np.linspace(ax2_min, ax2_max, len(ax2_ticks)))))\n",
    "        if sym is None: sym=False\n",
    "        label2 = name2\n",
    "\n",
    "        # rescale to (0, 90)\n",
    "        ax2_scaled = (ax2-ax2_min)/(ax2_max-ax2_min)*90.\n",
    "\n",
    "    # 1st axis\n",
    "    grid_locator1 = FixedLocator(ax1_ticks.keys())\n",
    "    tick_formatter1 = DictFormatter(ax1_ticks)\n",
    "\n",
    "    # 2nd axis\n",
    "    grid_locator2 = FixedLocator(ax2_ticks.keys())\n",
    "    tick_formatter2 = DictFormatter(ax2_ticks)\n",
    "\n",
    "\n",
    "    #fig.add_subplot(ax_polar)\n",
    "    ax_polar = fig.add_subplot(rect)\n",
    "\n",
    "    #\n",
    "    # initialize the cartesian axis below the semipolar\n",
    "    #\n",
    "    if show_sub:\n",
    "        ax_cart = fig.add_subplot(sub)\n",
    "        if sym:\n",
    "            ax_cart.set_xlim(-ax2_max, ax2_max)\n",
    "        else:\n",
    "            ax_cart.set_xlim(ax2_min, ax2_max)\n",
    "        ax_cart.set_ylim(vmin, vmax)\n",
    "        ax_cart.grid(True)\n",
    "\n",
    "    #\n",
    "    # draw colormesh\n",
    "    #\n",
    "    cmap = cm.jet\n",
    "    cmap.set_under('black')\n",
    "    cmap.set_over('white')\n",
    "    cmap.set_bad('0.5') # grey 50%\n",
    "    r, t = np.meshgrid(ax2_scaled, ax1_scaled)\n",
    "    masked_data = np.ma.masked_where(np.isnan(data) | np.isinf(data), data)\n",
    "    im = ax_polar.pcolormesh(t, r, masked_data, cmap=cmap, vmin=vmin, vmax=vmax)\n",
    "\n",
    "    if show_sub:\n",
    "        # convert Idx instance to index if necessarry\n",
    "        if isinstance(index, Idx):\n",
    "            index = int(round(index.index(ax1)))\n",
    "\n",
    "        # draw line over colormesh\n",
    "        vertex0 = np.array([[0,0],[ax1_scaled[index],ax2_max]])\n",
    "        vertex1 = np.array([[0,0],[ax1_scaled[-1-index],ax2_max]])\n",
    "        ax_polar.plot(vertex0[:,0],vertex0[:,1], 'w')\n",
    "        if sym:\n",
    "            ax_polar.plot(vertex1[:,0],vertex1[:,1],'w--')\n",
    "\n",
    "        #\n",
    "        # plot transects\n",
    "        #\n",
    "        ax_cart.plot(ax2, data[index,:],'k-')\n",
    "        if sym:\n",
    "            ax_cart.plot(-ax2, data[-1-index,:],'k--')\n",
    "\n",
    "    # add colorbar\n",
    "    fig.colorbar(im, orientation='horizontal', extend='both', ticks=np.linspace(vmin, vmax, 5))\n",
    "    if lut.desc is not None:\n",
    "        ax_polar.set_title(lut.desc, weight='bold', position=(0.15,0.9))\n"
   ]
  },
  {
   "cell_type": "code",
   "execution_count": null,
   "metadata": {
    "collapsed": false
   },
   "outputs": [],
   "source": [
    "iqu=0\n",
    "VMAX=0.3\n",
    "M=M2['I_up (TOA)']\n",
    "x=M.axes[1]\n",
    "y=M.axes[2]\n",
    "cmap = plt.cm.get_cmap(\"winter\")\n",
    "cmap.set_under(\"black\")\n",
    "cmap.set_over(\"white\")\n",
    "origin = 'lower'\n",
    "w_tran= 766.\n",
    "ths_tran=30.\n",
    "plane_azi=178.\n",
    "\n",
    "for field in M2.params:\n",
    "    if (field != 'Numbers of photons') and ('0-' not in field) and ('down' not in field):\n",
    "        S = SpecInt2(wi, wb, ex, we, dl, M=M2, field=field, Irradiance=False)\n",
    "        z = S.axes[0]\n",
    "        Y, Z = np.meshgrid(y,z)\n",
    "        if iqu==0 : \n",
    "            I = S\n",
    "            desc=field\n",
    "        if iqu==1 : Ip = S\n",
    "        #if iqu==2 : \n",
    "            #Ip.data=np.sqrt(Ip.data**2 + S.data**2)\n",
    "            #Ip.desc=desc + 'P'\n",
    "            \n",
    "        iqu+=1\n",
    "        if iqu==3: \n",
    "            iqu=0\n",
    "            fig=figure(figsize=(8,8))\n",
    "            #plot2dtest(I.sub[:,Idx(plane_azi),:], rect=241, sub=245, swap=True, index=Idx(ths_tran),fig=fig,vmin=0,vmax=VMAX)\n",
    "            semi_polar(I.sub[:,Idx(plane_azi),:], rect=421, sub=423, swap=True, index=Idx(ths_tran),fig=fig,vmin=0,vmax=VMAX)\n",
    "            semi_polar(Ip.sub[:,Idx(plane_azi),:], rect=425, sub=427, swap=True, index=Idx(ths_tran),fig=fig,vmin=-0.12,vmax=0)\n",
    "            #semi_polar(I.sub[:,Idx(plane_azi),:], rect=241, sub=245, swap=True, index=Idx(ths_tran),fig=fig,vmin=0,vmax=VMAX)\n",
    "            #plot2dtest(Ip.sub[:,Idx(plane_azi),:], rect=242, sub=246, swap=True, index=Idx(ths_tran),fig=fig,vmin=0,vmax=VMAX)\n",
    "            semi_polar(I.sub[Idx(w_tran),:,:], rect=422, sub=424, swap=False, index=Idx(180-plane_azi),fig=fig,vmin=0,vmax=VMAX)\n",
    "            semi_polar(Ip.sub[Idx(w_tran),:,:], rect=426, sub=428, swap=False, index=Idx(180-plane_azi),fig=fig,vmin=-0.12,vmax=0.003)\n",
    "    #else :\n",
    "        #fig=figure(figsize=(6,6))\n",
    "        #S = SpecInt2(wi, wb, ex, we, dl, M=M2, field=field, Irradiance=False)\n",
    "        #semi_polar(S.sub[:,Idx(172),:], rect=211, sub=212, swap=True, index=Idx(40.),fig=fig,vmin=0,vmax=10000)"
   ]
  },
  {
   "cell_type": "code",
   "execution_count": null,
   "metadata": {
    "collapsed": false
   },
   "outputs": [],
   "source": [
    "aer=AeroOPAC('urban', 0.3, 550.)\n",
    "atm=Profile('afglms',aer=aer)"
   ]
  },
  {
   "cell_type": "code",
   "execution_count": null,
   "metadata": {
    "collapsed": false
   },
   "outputs": [],
   "source": [
    "jobp_black = Smartg('SMART-G-PP', wl=550.,# wl = np.linspace(400, 700, 2),\n",
    "             THVDEG=30, NBPHOTONS=1e9,NBTHETA=90,\n",
    "             atm=atm,OUTPUT_LAYERS=3,NFAER=10000,NFOCE=10000,\n",
    "             surf=RoughSurface(SUR=3, WIND=5., NH2O=1.34),\n",
    "             water=IOP_SPM(1.,NANG=7201),\n",
    "             overwrite=True)"
   ]
  },
  {
   "cell_type": "code",
   "execution_count": null,
   "metadata": {
    "collapsed": false
   },
   "outputs": [],
   "source": [
    "jobe = Smartg('SMART-G-SP', wl=400.,# wl = np.linspace(400, 700, 2),\n",
    "             THVDEG=29.9, NBPHOTONS=1e9,NBTHETA=180,\n",
    "             atm=atm,OUTPUT_LAYERS=3,NFAER=10000,NFOCE=10000,\n",
    "             surf=RoughSurface(SUR=3, WIND=5., NH2O=1.34),\n",
    "             #water=IOP_MM(1.,NANG=7201),env=Environment(ENV=1,ENV_SIZE=10,X0=-9,ALB=0.4),\n",
    "             overwrite=True)"
   ]
  },
  {
   "cell_type": "code",
   "execution_count": null,
   "metadata": {
    "collapsed": false
   },
   "outputs": [],
   "source": [
    "fig = figure(figsize=(8,8))\n",
    "M=jobe.read()\n",
    "I_up = M['I_up (TOA)']\n",
    "I_up0= M['I_up (0+)']\n",
    "Inp_up = M['Q_up (TOA)']\n",
    "Inp_up.data=I_up.data - np.sqrt(Inp_up.data**2 + M['U_up (TOA)'].data**2)\n",
    "Inp_up.desc='Inp_up (TOA)'\n",
    "Inp_up0= M['Q_up (0+)']\n",
    "Inp_up0.data=I_up0.data - np.sqrt(Ip_up0.data**2 + M['U_up (0+)'].data**2)\n",
    "Inp_up0.desc='Inp_up (0+)'\n",
    "semi_polar(I_up, index=Idx(90), rect=421, sub=423, swap=False, fig=fig,vmin=0,vmax=0.5)\n",
    "semi_polar(Inp_up, index=Idx(90), rect=422, sub=424, swap=False, fig=fig,vmin=0,vmax=0.5)\n",
    "semi_polar(I_up0, index=Idx(90), rect=425, sub=427, swap=False, fig=fig,vmin=0,vmax=0.05) \n",
    "semi_polar(Inp_up0, index=Idx(90), rect=426, sub=428, swap=False, fig=fig,vmin=0,vmax=0.05)"
   ]
  },
  {
   "cell_type": "code",
   "execution_count": null,
   "metadata": {
    "collapsed": false
   },
   "outputs": [],
   "source": [
    "fig1 = figure(figsize=(8,8))\n",
    "M=jobp_black.read()\n",
    "I_up = M['I_up (TOA)']\n",
    "I_up0= M['I_up (0+)']\n",
    "Inp_up = M['Q_up (TOA)']\n",
    "Inp_up.data=M['I_up (TOA)'].data - np.sqrt(M['Q_up (TOA)'].data**2 + M['U_up (TOA)'].data**2)\n",
    "Inp_up.desc='Inp_up (TOA)'\n",
    "Inp_up0= M['Q_up (0+)']\n",
    "Inp_up0.data=M['I_up (0+)'].data - np.sqrt(M['Q_up (0+)'].data**2 + M['U_up (0+)'].data**2)\n",
    "Inp_up0.desc='Inp_up (0+)'\n",
    "semi_polar(I_up, index=Idx(120), rect=421, sub=423, swap=False, fig=fig1,vmin=0,vmax=0.2)\n",
    "semi_polar(Inp_up, index=Idx(120), rect=422, sub=424, swap=False, fig=fig1,vmin=0,vmax=0.2)\n",
    "semi_polar(I_up0, index=Idx(120), rect=425, sub=427, swap=False, fig=fig1,vmin=0,vmax=0.1) \n",
    "semi_polar(Inp_up0, index=Idx(120), rect=426, sub=428, swap=False, fig=fig1,vmin=0,vmax=0.1) \n",
    "fig2 = figure(figsize=(8,4))\n",
    "semi_polar(I_up0/I_up, index=Idx(120), rect=221, sub=223, swap=False, fig=fig2,vmin=0,vmax=1) \n",
    "semi_polar(Inp_up0/Inp_up, index=Idx(120), rect=222, sub=224, swap=False, fig=fig2,vmin=0,vmax=1) \n",
    "semi_polar(M['I_up (0-)'],vmin=0,vmax=0.1)"
   ]
  },
  {
   "cell_type": "code",
   "execution_count": null,
   "metadata": {
    "collapsed": false
   },
   "outputs": [],
   "source": [
    "LMIN=400. # nm\n",
    "LMAX=700. # nm\n",
    "SAMPLING=1\n",
    "PFRES=50. # spectral resolution for phase function (nm)\n",
    "grid='100[20]20[5]10[1]0' # altitude grid for scattering and absorption coefficients\n",
    "o3=300. # DU\n",
    "wref=862. # wavelength for AOT and COT reference\n",
    "aot=0.1\n",
    "aermodel_l=['maritime_clean','continental_average']\n",
    "aermodel=aermodel_l[1]\n",
    "chl=0.1 # mg/l\n",
    "ws=5. # m/s\n",
    "aer = AeroOPAC(aermodel, aot, wref)\n",
    "repname='reptran_solar_msg' # k distribution\n",
    "surf=RoughSurface(SUR=3, WIND=ws, NH2O=1.34)\n",
    "wi,wb,we,ex,dl,bands = ReadREPTRAN_bands(repname,LMIN=LMIN,LMAX=LMAX,SAMPLING=SAMPLING,FULL=True)\n",
    "#pfwav=np.linspace(LMIN, LMAX, num=(LMAX-LMIN)/PFRES+1, endpoint=True)\n",
    "water=IOP_MM(chl,NANG=7201)\n",
    "atm=Profile('afglmw',O3=o3\n",
    "             #,cloud=CloudOPAC('strato',[('wc.sol.mie', 1, 10. , 9., 10.)], 5, 862.)\n",
    "             ,aer=aer \n",
    "           )\n",
    "job = Smartg('SMART-G-PP', THVDEG=30, wl=bands, NBPHOTONS=1e8,\n",
    "                    atm=atm,NBLOOP=5000, OUTPUT_LAYERS=3,env=Environment(ENV=1,ENV_SIZE=10.,X0=0.,ALB=0.5),\n",
    "                    surf=surf, water=water,NFAER=10000,NFOCE=10000,\n",
    "                    overwrite=True)"
   ]
  },
  {
   "cell_type": "code",
   "execution_count": null,
   "metadata": {
    "collapsed": false
   },
   "outputs": [],
   "source": [
    "L=job.read()\n",
    "L.print_info()"
   ]
  }
 ],
 "metadata": {
  "kernelspec": {
   "display_name": "Python 2",
   "language": "python",
   "name": "python2"
  },
  "language_info": {
   "codemirror_mode": {
    "name": "ipython",
    "version": 2
   },
   "file_extension": ".py",
   "mimetype": "text/x-python",
   "name": "python",
   "nbconvert_exporter": "python",
   "pygments_lexer": "ipython2",
   "version": "2.7.10"
  }
 },
 "nbformat": 4,
 "nbformat_minor": 0
}
