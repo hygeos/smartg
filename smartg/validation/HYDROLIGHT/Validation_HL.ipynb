{
 "cells": [
  {
   "cell_type": "code",
   "execution_count": null,
   "metadata": {
    "ExecuteTime": {
     "end_time": "2019-01-18T12:48:37.670563Z",
     "start_time": "2019-01-18T12:48:32.987670Z"
    }
   },
   "outputs": [],
   "source": [
    "%pylab inline\n",
    "# next 2 lines allow to automatically reload modules that have been changed externally\n",
    "%reload_ext autoreload\n",
    "%autoreload 2\n",
    "from __future__ import absolute_import, division, print_function\n",
    "import os, sys\n",
    "\n",
    "sys.path.insert(0, os.path.dirname(os.getcwd()))\n",
    "from smartg.smartg import Smartg, rayleigh, type_Phase, Sensor\n",
    "from smartg.smartg import RoughSurface, LambSurface, FlatSurface, Environment, Albedo_cst\n",
    "from smartg.atmosphere import AtmAFGL, AeroOPAC, CloudOPAC, diff1, read_phase\n",
    "from smartg.water import IOP_1, IOP, IOP_profile\n",
    "from smartg.reptran import REPTRAN, reduce_reptran\n",
    "from smartg.tools.tools import SpherIrr, Irr, reduce_Irr\n",
    "from smartg.tools.luts import LUT, MLUT, Idx, merge, read_mlut\n",
    "from smartg.tools.smartg_view import compare, plot_polar, spectrum , mdesc \n",
    "from smartg.tools.smartg_view import spectrum_view,transect_view,profile_view,phase_view,smartg_view,input_view\n",
    "import warnings\n",
    "warnings.filterwarnings(\"ignore\")"
   ]
  },
  {
   "cell_type": "markdown",
   "metadata": {},
   "source": [
    "# Pure water"
   ]
  },
  {
   "cell_type": "code",
   "execution_count": null,
   "metadata": {
    "ExecuteTime": {
     "end_time": "2019-01-16T09:03:27.479389Z",
     "start_time": "2019-01-16T09:03:27.418698Z"
    }
   },
   "outputs": [],
   "source": [
    "#hydrolight output pure water\n",
    "HL_PW = '''\n",
    "\"R\" \"R = Eu/Ed\"       5       5\n",
    " \" \"\n",
    " \" \" \"wavel\" \"in air\"    0.000    1.000    5.000\n",
    " 440.0   1.0766E-01   1.4224E-01   1.4228E-01   1.4243E-01\n",
    " 495.0   4.9788E-02   3.1616E-02   3.1620E-02   3.1634E-02\n",
    " 550.0   3.6312E-02   5.8226E-03   5.8218E-03   5.8187E-03\n",
    " 575.0   3.4924E-02   3.5155E-03   3.5147E-03   3.5115E-03\n",
    " 600.0   3.3475E-02   1.0209E-03   1.0201E-03   1.0173E-03\n",
    "'''\n",
    "HL_PW_0M =np.array([1.4224E-01, 5.8226E-03, 1.0209E-03])\n",
    "\n",
    "HL_PW_rrs='''\n",
    "\"Lu over Ed\" \"Lu/Ed (1/sr)\"       5       5\n",
    " \" \"\n",
    "\" \" \"wavel\" \"in air\"    0.000    1.000    5.000\n",
    " 440.0   2.9509E-02   4.2502E-02   4.2502E-02   4.2498E-02\n",
    " 495.0   1.0841E-02   9.8604E-03   9.8603E-03   9.8601E-03\n",
    " 550.0   6.5506E-03   1.8459E-03   1.8461E-03   1.8467E-03\n",
    " 575.0   6.1567E-03   1.1166E-03   1.1168E-03   1.1173E-03\n",
    " 600.0   5.7323E-03   3.2492E-04   3.2506E-04   3.2552E-04\n",
    " '''\n",
    "HL_PW_rrs_0M =np.array([4.2502E-02, 1.8459E-03, 3.2492E-04])\n",
    "\n",
    "\n",
    "#hydrolight output petzold\n",
    "HL_PZ='''\n",
    "\"R\" \"R = Eu/Ed\"       5       5\n",
    " \" \"\n",
    "\" \" \"wavel\" \"in air\"    0.000    1.000    5.000\n",
    " 440.0   6.6356E-02   6.7378E-02   6.7755E-02   6.9119E-02\n",
    " 495.0   0.0000E+00   0.0000E+00   0.0000E+00   0.0000E+00\n",
    " 550.0   3.8954E-02   1.2869E-02   1.2959E-02   1.3214E-02\n",
    " 575.0   0.0000E+00   0.0000E+00   0.0000E+00   0.0000E+00\n",
    " 600.0   3.4156E-02   2.8182E-03   2.8298E-03   2.8444E-03\n",
    "'''\n",
    "HL_PZ_0M =np.array([6.7378E-02, 1.2869E-02, 2.8182E-03])\n",
    "\n",
    "HL_PZ_rrs='''\n",
    "\"Lu over Ed\" \"Lu/Ed (1/sr)\"       5       5\n",
    " \" \"\n",
    "\" \" \"wavel\" \"in air\"    0.000    1.000    5.000\n",
    " 440.0   1.5333E-02   1.7863E-02   1.7876E-02   1.7923E-02\n",
    " 495.0          NaN          NaN          NaN          NaN\n",
    " 550.0   7.3211E-03   3.3052E-03   3.3081E-03   3.3164E-03\n",
    " 575.0          NaN          NaN          NaN          NaN\n",
    " 600.0   5.9397E-03   7.2193E-04   7.2245E-04   7.2354E-04\n",
    " '''\n",
    "HL_PZ_rrs_0M =np.array([1.7863E-02, 3.3052E-03, 7.2193E-04])"
   ]
  },
  {
   "cell_type": "code",
   "execution_count": null,
   "metadata": {
    "ExecuteTime": {
     "end_time": "2019-01-16T13:29:39.638965Z",
     "start_time": "2019-01-16T13:29:30.089723Z"
    }
   },
   "outputs": [],
   "source": [
    "import pandas as pd\n",
    "wl=[440.,550.,600.]\n",
    "grid=[0,9990,10000] # in m for water, here sea bottom at 10 km depth, mimic inf. depth\n",
    "th0=30.\n",
    "\n",
    "#add profile directory at the same level as bin under SMART-G, and put all attached files into this directory \n",
    "aw = pd.read_csv('../smartg/validation/HYDROLIGHT/aw1.dat', sep='\\s+', header=None)\n",
    "aph = pd.read_csv('../smartg/validation/HYDROLIGHT/aph1.dat', sep='\\s+', header=None)\n",
    "ag = pd.read_csv('../smartg/validation/HYDROLIGHT/ag1.dat', sep='\\s+', header=None)\n",
    "bw = pd.read_csv('../smartg/validation/HYDROLIGHT/bw1.dat', sep='\\s+', header=None)\n",
    "bph = pd.read_csv('../smartg/validation/HYDROLIGHT/bph1.dat', sep='\\s+', header=None)\n",
    "\n",
    "\n",
    "aw=np.array(aw)\n",
    "aph=np.array(aph)\n",
    "ag=np.array(ag)\n",
    "bw=np.array(bw)\n",
    "bph=np.array(bph)\n",
    "\n",
    "\n",
    "PURE_WATER = True\n",
    "\n",
    "#1) Read one phase matrix for particles petzold.dat\n",
    "phaM=read_phase('../smartg/validation/HYDROLIGHT/petzold.dat', kind='oc', standard=True)\n",
    "\n",
    "#2) Construct a LUT and fill all levels and all wavelengths with the the read phase matrix, You can of course\n",
    "# fill this LUT with several phase matrices\n",
    "pha = LUT(phaM.data[None,None,:,:],\n",
    "          names = ['wav_phase', 'z_phase'] + phaM.names,\n",
    "          axes = [np.array([\n",
    "              wl[0]]), np.array([0.])] + phaM.axes\n",
    "         )\n",
    "\n",
    "if PURE_WATER : #pure water?\n",
    "    aph=np.zeros_like(aw)\n",
    "    ag=np.zeros_like(aw)\n",
    "    bph=np.zeros_like(aw)\n",
    "    pha=None\n",
    "    \n",
    "water_custom = IOP(phase=pha, aw=aw, ap=aph, aCDOM=ag, bw=bw, bp=bph, Z=grid)\n",
    "\n",
    "aer1 = AeroOPAC('maritime_clean', 0.2, 550)\n",
    "atm  = AtmAFGL('afglms', O3=300., NO2=True, P0=1024., comp=[aer1])\n",
    "\n",
    "\n",
    "surf  = RoughSurface(WIND=5., NH2O=1.34)\n",
    "\n",
    "le={}\n",
    "le.update(th_deg = np.array([0.]))\n",
    "le.update(phi_deg= np.array([0.]))\n",
    "\n",
    "m1 = Smartg(double=True).run(wl=wl, THVDEG=th0,\n",
    "                  atm=atm,\n",
    "                  surf=surf,\n",
    "                  water=water_custom,\n",
    "                  OUTPUT_LAYERS=3, NF=1e3, DEPO_WATER=0.0,\n",
    "                  #NBPHI=24, NBTHETA=24,\n",
    "                  le=le, stdev=True,\n",
    "                  NBPHOTONS=1e7)\n",
    "I=m1['I_up (0-)']\n",
    "dI=m1['I_stdev_up (0-)']\n",
    "dI_I = dI/I *100\n",
    "\n",
    "#irradiance\n",
    "f1 = Smartg().run(wl, NBPHOTONS=1e7, THVDEG=th0, OUTPUT_LAYERS=3, stdev=True, DEPO_WATER=0.0,\n",
    "                  atm=atm,  surf=surf, water=water_custom, flux='planar')\n",
    "\n",
    "fd=f1['flux_down (0-)']\n",
    "fu=f1['flux_up (0-)']\n",
    "\n",
    "#remote sensing ref. just below the surface\n",
    "rrs=I[:,0,0] / fd[:] /np.pi\n",
    "\n",
    "#Ref. just below the surface\n",
    "R = (fu/fd)[:]"
   ]
  },
  {
   "cell_type": "code",
   "execution_count": 27,
   "metadata": {
    "ExecuteTime": {
     "end_time": "2019-01-21T17:00:06.368520Z",
     "start_time": "2019-01-21T17:00:00.749433Z"
    }
   },
   "outputs": [
    {
     "name": "stdout",
     "output_type": "stream",
     "text": [
      "\n",
      "------------ Lu/Ed ----------\n"
     ]
    },
    {
     "ename": "NameError",
     "evalue": "name 'rrs' is not defined",
     "output_type": "error",
     "traceback": [
      "\u001b[0;31m---------------------------------------------------------------------------\u001b[0m",
      "\u001b[0;31mNameError\u001b[0m                                 Traceback (most recent call last)",
      "\u001b[0;32m<ipython-input-27-e81366f48ee6>\u001b[0m in \u001b[0;36m<module>\u001b[0;34m()\u001b[0m\n\u001b[1;32m      1\u001b[0m \u001b[0mprint\u001b[0m\u001b[0;34m(\u001b[0m\u001b[0;34m'\\n------------ Lu/Ed ----------'\u001b[0m\u001b[0;34m)\u001b[0m\u001b[0;34m\u001b[0m\u001b[0m\n\u001b[0;32m----> 2\u001b[0;31m \u001b[0mprint\u001b[0m\u001b[0;34m(\u001b[0m\u001b[0;34m(\u001b[0m\u001b[0;34m'SMART-G              : '\u001b[0m\u001b[0;34m+\u001b[0m\u001b[0;34m'{:11.4E} '\u001b[0m\u001b[0;34m*\u001b[0m\u001b[0;36m3\u001b[0m\u001b[0;34m)\u001b[0m\u001b[0;34m.\u001b[0m\u001b[0mformat\u001b[0m\u001b[0;34m(\u001b[0m\u001b[0;34m*\u001b[0m\u001b[0mrrs\u001b[0m\u001b[0;34m)\u001b[0m\u001b[0;34m)\u001b[0m\u001b[0;34m\u001b[0m\u001b[0m\n\u001b[0m\u001b[1;32m      3\u001b[0m \u001b[0mprint\u001b[0m\u001b[0;34m(\u001b[0m\u001b[0;34m(\u001b[0m\u001b[0;34m'SMART-G Delta (%)    : '\u001b[0m\u001b[0;34m+\u001b[0m\u001b[0;34m'{:11.3f} '\u001b[0m\u001b[0;34m*\u001b[0m\u001b[0;36m3\u001b[0m\u001b[0;34m)\u001b[0m\u001b[0;34m.\u001b[0m\u001b[0mformat\u001b[0m\u001b[0;34m(\u001b[0m\u001b[0;34m*\u001b[0m\u001b[0mdI_I\u001b[0m\u001b[0;34m[\u001b[0m\u001b[0;34m:\u001b[0m\u001b[0;34m,\u001b[0m\u001b[0;36m0\u001b[0m\u001b[0;34m,\u001b[0m\u001b[0;36m0\u001b[0m\u001b[0;34m]\u001b[0m\u001b[0;34m)\u001b[0m\u001b[0;34m)\u001b[0m\u001b[0;34m\u001b[0m\u001b[0m\n\u001b[1;32m      4\u001b[0m \u001b[0;32mif\u001b[0m \u001b[0mPURE_WATER\u001b[0m \u001b[0;34m:\u001b[0m\u001b[0;34m\u001b[0m\u001b[0m\n\u001b[1;32m      5\u001b[0m     \u001b[0mprint\u001b[0m\u001b[0;34m(\u001b[0m\u001b[0;34m(\u001b[0m\u001b[0;34m'HYDROLI              : '\u001b[0m\u001b[0;34m+\u001b[0m\u001b[0;34m'{:11.4E} '\u001b[0m\u001b[0;34m*\u001b[0m\u001b[0;36m3\u001b[0m\u001b[0;34m)\u001b[0m\u001b[0;34m.\u001b[0m\u001b[0mformat\u001b[0m\u001b[0;34m(\u001b[0m\u001b[0;34m*\u001b[0m\u001b[0mHL_PW_rrs_0M\u001b[0m\u001b[0;34m)\u001b[0m\u001b[0;34m)\u001b[0m\u001b[0;34m\u001b[0m\u001b[0m\n",
      "\u001b[0;31mNameError\u001b[0m: name 'rrs' is not defined"
     ]
    }
   ],
   "source": [
    "print('\\n------------ Lu/Ed ----------')\n",
    "print(('SMART-G              : '+'{:11.4E} '*3).format(*rrs))\n",
    "print(('SMART-G Delta (%)    : '+'{:11.3f} '*3).format(*dI_I[:,0,0]))\n",
    "if PURE_WATER : \n",
    "    print(('HYDROLI              : '+'{:11.4E} '*3).format(*HL_PW_rrs_0M))\n",
    "    print(('SMART-G - HYDROLI (%): '+'{:11.3f} '*3).format(*((rrs-HL_PW_rrs_0M)/HL_PW_rrs_0M*100)))\n",
    "else: \n",
    "    print(('HYDROLI              : '+'{:11.4E} '*3).format(*HL_PZ_rrs_0M))\n",
    "    print(('SMART-G - HYDROLI (%): '+'{:11.3f} '*3).format(*((rrs-HL_PZ_rrs_0M)/HL_PZ_rrs_0M*100)))\n",
    "print('\\n------------ Eu/Ed ----------')   \n",
    "print(('SMART-G              : '+'{:11.4E} '*3).format(*R))\n",
    "if PURE_WATER : \n",
    "    print(('HYDROLI              : '+'{:11.4E} '*3).format(*HL_PW_0M))\n",
    "    print(('SMART-G - HYDROLI (%): '+'{:11.3f} '*3).format(*((R-HL_PW_0M)/HL_PW_0M*100)))\n",
    "else: \n",
    "    print(('HYDROLI              : '+'{:11.4E} '*3).format(*HL_PZ_0M))\n",
    "    print(('SMART-G - HYDROLI (%): '+'{:11.3f} '*3).format(*((R-HL_PZ_0M)/HL_PZ_0M*100)))"
   ]
  },
  {
   "cell_type": "code",
   "execution_count": null,
   "metadata": {
    "ExecuteTime": {
     "end_time": "2019-01-16T14:51:26.189403Z",
     "start_time": "2019-01-16T14:51:25.567296Z"
    }
   },
   "outputs": [],
   "source": [
    "m1.describe()\n",
    "p=rayleigh(100, 0.0)\n",
    "pw_pf_sm = (p['p_P11'] + p['p_P22'] + 2*p['p_P12']) /2.\n",
    "plot(p['p_ang'], pw_pf_sm)\n",
    "mu= np.cos(p['p_ang'])\n",
    "print(np.trapz(pw_pf_sm,-mu))\n",
    "a=np.cos(p['p_ang'])\n",
    "pw_pf_hi = 0.75 * (1+a*a)\n",
    "plot(p['p_ang'], pw_pf_hi, 'r+')\n",
    "print((1-m1['ssa_oc'].data)*m1['OD_w'].data/1e4, m1['OD_w'].data/1e4*m1['ssa_oc'].data)"
   ]
  },
  {
   "cell_type": "markdown",
   "metadata": {},
   "source": [
    "# Phytoplankton (with Petzold)"
   ]
  },
  {
   "cell_type": "code",
   "execution_count": null,
   "metadata": {
    "ExecuteTime": {
     "end_time": "2019-01-16T15:21:45.495508Z",
     "start_time": "2019-01-16T15:21:14.462592Z"
    }
   },
   "outputs": [],
   "source": [
    "import pandas as pd\n",
    "wl=[440.,550.,600.]\n",
    "grid=[0,9990,10000] # in m for water, here sea bottom at 10 km depth, mimic inf. depth\n",
    "th0=30.\n",
    "\n",
    "\n",
    "#add profile directory at the same level as bin under SMART-G, and put all attached files into this directory \n",
    "aw = pd.read_csv('../smartg/validation/HYDROLIGHT/aw1.dat', sep='\\s+', header=None)\n",
    "aph = pd.read_csv('../smartg/validation/HYDROLIGHT/aph1.dat', sep='\\s+', header=None)\n",
    "ag = pd.read_csv('../smartg/validation/HYDROLIGHT/ag1.dat', sep='\\s+', header=None)\n",
    "bw = pd.read_csv('../smartg/validation/HYDROLIGHT/bw1.dat', sep='\\s+', header=None)\n",
    "bph = pd.read_csv('../smartg/validation/HYDROLIGHT/bph1.dat', sep='\\s+', header=None)\n",
    "\n",
    "\n",
    "aw=np.array(aw)\n",
    "aph=np.array(aph)\n",
    "ag=np.array(ag)\n",
    "bw=np.array(bw)\n",
    "bph=np.array(bph)\n",
    "\n",
    "\n",
    "PURE_WATER = False\n",
    "if PURE_WATER : #pure water?\n",
    "    aph=np.zeros_like(aw)\n",
    "    ag=np.zeros_like(aw)\n",
    "    bph=np.zeros_like(aw)\n",
    "\n",
    "#1) Read one phase matrix for particles petzold.dat\n",
    "phaM=read_phase('../smartg/validation/HYDROLIGHT/petzold.dat', kind='oc', standard=True)\n",
    "\n",
    "### This code will be inserted in the read_phase function in the next release\n",
    "# for the moment the phase function has to be normalized manually\n",
    "# Normalization to SMART-G convention : Sum_-1_+1 P(mu) dmu = 2.\n",
    "f = (phaM.data[0,:] + phaM.data[1,:])/2.\n",
    "mu= np.cos(np.radians(phaM.axis('theta_oc')))\n",
    "Norm = np.trapz(f,-mu)\n",
    "phaM.data *= (2./Norm)\n",
    "###\n",
    "\n",
    "#2) Construct a LUT and fill all levels and all wavelengths with the the read phase matrix, You can of course\n",
    "# fill this LUT with several phase matrices\n",
    "pha = LUT(phaM.data[None,None,:,:],\n",
    "          names = ['wav_phase', 'z_phase'] + phaM.names,\n",
    "          axes = [np.array([\n",
    "              wl[0]]), np.array([0.])] + phaM.axes\n",
    "         )\n",
    "\n",
    "water_custom = IOP(phase=pha, aw=aw, ap=aph, aCDOM=ag, bw=bw, bp=bph, Z=grid)\n",
    "\n",
    "aer1 = AeroOPAC('maritime_clean', 0.2, 550)\n",
    "atm  = AtmAFGL('afglms', O3=300., NO2=True, P0=1024., comp=[aer1])\n",
    "\n",
    "\n",
    "surf  = RoughSurface(WIND=5., NH2O=1.34)\n",
    "\n",
    "le={}\n",
    "le.update(th_deg = np.array([0.]))\n",
    "le.update(phi_deg= np.array([0.]))\n",
    "\n",
    "m1 = Smartg(double=True).run(wl=wl, THVDEG=th0,\n",
    "                  atm=atm,\n",
    "                  surf=surf,\n",
    "                  water=water_custom,\n",
    "                  OUTPUT_LAYERS=3, NF=1e6, DEPO_WATER=0,\n",
    "                  #NBPHI=24, NBTHETA=24,\n",
    "                  le=le, stdev=True,\n",
    "                  NBPHOTONS=1e8)\n",
    "I=m1['I_up (0-)']\n",
    "dI=m1['I_stdev_up (0-)']\n",
    "dI_I = dI/I *100\n",
    "\n",
    "#irradiance\n",
    "f1 = Smartg().run(wl, NBPHOTONS=1e7, THVDEG=th0, OUTPUT_LAYERS=3, stdev=True, DEPO_WATER=0,\n",
    "                  atm=atm,  surf=surf, water=water_custom, flux='planar')\n",
    "\n",
    "fd=f1['flux_down (0-)']\n",
    "fu=f1['flux_up (0-)']\n",
    "\n",
    "#remote sensing ref. just below the surface\n",
    "rrs=I[:,0,0] / fd[:] /np.pi\n",
    "\n",
    "#Ref. just below the surface\n",
    "R = (fu/fd)[:]"
   ]
  },
  {
   "cell_type": "code",
   "execution_count": null,
   "metadata": {
    "ExecuteTime": {
     "end_time": "2019-01-16T15:21:49.392207Z",
     "start_time": "2019-01-16T15:21:48.076531Z"
    }
   },
   "outputs": [],
   "source": [
    "# plot phase function after renormalization\n",
    "loglog(phaM.axis('theta_oc'), phaM[0,:])\n",
    "\n",
    "print('\\n------------ Lu/Ed ----------')\n",
    "print(('SMART-G              : '+'{:11.4E} '*3).format(*rrs))\n",
    "print(('SMART-G Delta (%)    : '+'{:11.3f} '*3).format(*dI_I[:,0,0]))\n",
    "if PURE_WATER : \n",
    "    print(('HYDROLI              : '+'{:11.4E} '*3).format(*HL_PW_rrs_0M))\n",
    "    print(('SMART-G - HYDROLI (%): '+'{:11.3f} '*3).format(*((rrs-HL_PW_rrs_0M)/HL_PW_rrs_0M*100)))\n",
    "else: \n",
    "    print(('HYDROLI              : '+'{:11.4E} '*3).format(*HL_PZ_rrs_0M))\n",
    "    print(('SMART-G - HYDROLI (%): '+'{:11.3f} '*3).format(*((rrs-HL_PZ_rrs_0M)/HL_PZ_rrs_0M*100)))\n",
    "print('\\n------------ Eu/Ed ----------')   \n",
    "print(('SMART-G              : '+'{:11.4E} '*3).format(*R))\n",
    "if PURE_WATER : \n",
    "    print(('HYDROLI              : '+'{:11.4E} '*3).format(*HL_PW_0M))\n",
    "    print(('SMART-G - HYDROLI (%): '+'{:11.3f} '*3).format(*((R-HL_PW_0M)/HL_PW_0M*100)))\n",
    "else: \n",
    "    print(('HYDROLI              : '+'{:11.4E} '*3).format(*HL_PZ_0M))\n",
    "    print(('SMART-G - HYDROLI (%): '+'{:11.3f} '*3).format(*((R-HL_PZ_0M)/HL_PZ_0M*100)))"
   ]
  },
  {
   "cell_type": "code",
   "execution_count": null,
   "metadata": {
    "ExecuteTime": {
     "end_time": "2019-01-16T15:22:11.131489Z",
     "start_time": "2019-01-16T15:22:06.941656Z"
    }
   },
   "outputs": [],
   "source": [
    "input_view(m1, kind='oc', iw=0)\n",
    "_=profile_view(m1, kind='oc', iw=1)\n",
    "_=profile_view(m1, kind='oc', iw=2)"
   ]
  },
  {
   "cell_type": "code",
   "execution_count": null,
   "metadata": {
    "ExecuteTime": {
     "end_time": "2019-01-16T15:22:13.171613Z",
     "start_time": "2019-01-16T15:22:11.133969Z"
    }
   },
   "outputs": [],
   "source": [
    "input_view(m1, kind='atm')"
   ]
  },
  {
   "cell_type": "code",
   "execution_count": 22,
   "metadata": {
    "ExecuteTime": {
     "end_time": "2019-01-18T13:00:22.172136Z",
     "start_time": "2019-01-18T13:00:20.354100Z"
    }
   },
   "outputs": [],
   "source": [
    "atm=AtmAFGL('afglms', comp=[AeroOPAC('urban', 0.51, 550.)], O3=0., NO2=False)\n",
    "wl = np.linspace(350., 3500., num=20)\n",
    "pro = atm.calc(wl)"
   ]
  },
  {
   "cell_type": "code",
   "execution_count": 23,
   "metadata": {
    "ExecuteTime": {
     "end_time": "2019-01-18T13:00:31.399924Z",
     "start_time": "2019-01-18T13:00:22.940247Z"
    }
   },
   "outputs": [
    {
     "data": {
      "application/vnd.jupyter.widget-view+json": {
       "model_id": "522ec698069946b4892701ffef16b74b",
       "version_major": 2,
       "version_minor": 0
      },
      "text/plain": [
       "Box(children=(FloatProgress(value=0.0, max=100000000.0), Label(value='')), layout=Layout(align_items='center',…"
      ]
     },
     "metadata": {},
     "output_type": "display_data"
    }
   ],
   "source": [
    "sensorBOA = Sensor(FOV=90, TYPE=1, LOC='ATMOS')\n",
    "sensorTOA = Sensor(FOV=90, TYPE=1, LOC='ATMOS', POSZ=120., THDEG=180.)\n",
    "m = Smartg().run(wl=wl, atm=pro, sensor=[sensorBOA, sensorTOA], OUTPUT_LAYERS=3, flux='planar', NBPHOTONS=1e8)"
   ]
  },
  {
   "cell_type": "code",
   "execution_count": 26,
   "metadata": {
    "ExecuteTime": {
     "end_time": "2019-01-18T13:01:04.384987Z",
     "start_time": "2019-01-18T13:01:03.924284Z"
    }
   },
   "outputs": [
    {
     "data": {
      "text/plain": [
       "<smartg.tools.luts.LUT at 0x7f6e3a3eab38>"
      ]
     },
     "execution_count": 26,
     "metadata": {},
     "output_type": "execute_result"
    },
    {
     "data": {
      "image/png": "[encoded data removed]",
      "text/plain": [
       "<Figure size 432x288 with 1 Axes>"
      ]
     },
     "metadata": {},
     "output_type": "display_data"
    }
   ],
   "source": [
    "m['flux_down (0+)'].sub()[0,:].plot(fmt='r')\n",
    "m['flux_up (TOA)'].sub()[1,:].plot(vmin=0, vmax=0.5)"
   ]
  },
  {
   "cell_type": "code",
   "execution_count": null,
   "metadata": {
    "ExecuteTime": {
     "end_time": "2019-01-18T11:10:32.865322Z",
     "start_time": "2019-01-18T11:10:32.618056Z"
    }
   },
   "outputs": [],
   "source": [
    "m.describe()"
   ]
  },
  {
   "cell_type": "code",
   "execution_count": null,
   "metadata": {},
   "outputs": [],
   "source": []
  }
 ],
 "metadata": {
  "hide_input": false,
  "kernelspec": {
   "display_name": "Python 3",
   "language": "python",
   "name": "python3"
  },
  "language_info": {
   "codemirror_mode": {
    "name": "ipython",
    "version": 3
   },
   "file_extension": ".py",
   "mimetype": "text/x-python",
   "name": "python",
   "nbconvert_exporter": "python",
   "pygments_lexer": "ipython3",
   "version": "3.6.5"
  },
  "toc": {
   "colors": {
    "hover_highlight": "#DAA520",
    "navigate_num": "#000000",
    "navigate_text": "#333333",
    "running_highlight": "#FF0000",
    "selected_highlight": "#FFD700",
    "sidebar_border": "#EEEEEE",
    "wrapper_background": "#FFFFFF"
   },
   "moveMenuLeft": true,
   "nav_menu": {
    "height": "49.3667px",
    "width": "252.233px"
   },
   "navigate_menu": true,
   "number_sections": true,
   "sideBar": true,
   "threshold": 4,
   "toc_cell": false,
   "toc_section_display": "block",
   "toc_window_display": false,
   "widenNotebook": false
  }
 },
 "nbformat": 4,
 "nbformat_minor": 2
}
