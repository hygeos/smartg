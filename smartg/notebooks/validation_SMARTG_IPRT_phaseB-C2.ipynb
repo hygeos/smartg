{
 "cells": [
  {
   "cell_type": "markdown",
   "metadata": {},
   "source": [
    "# SMART-G validation IPRT phase B - Cubic cloud (C2)\n",
    "- https://www.meteo.physik.uni-muenchen.de/~iprt/doku.php?id=start\n",
    "- Be careful !! This is not a final notebook.\n",
    "  The modules, functions, classes related to the 3D atm mode may drastically change in the new release!\n"
   ]
  },
  {
   "cell_type": "code",
   "execution_count": null,
   "metadata": {},
   "outputs": [],
   "source": [
    "%matplotlib inline\n",
    "# next 2 lines allow to automatically reload modules that have been changed externally\n",
    "%load_ext autoreload\n",
    "%autoreload 2\n",
    "\n",
    "import os, sys\n",
    "\n",
    "try:\n",
    "    import subprocess\n",
    "    check = subprocess.check_call(['git', 'rev-parse', '--show-toplevel'], stdout=subprocess.DEVNULL, stderr=subprocess.STDOUT)\n",
    "    ROOTPATH = subprocess.Popen(['git', 'rev-parse', '--show-toplevel'], stdout=subprocess.PIPE).communicate()[0].rstrip().decode('utf-8') # Root Git Path\n",
    "except subprocess.CalledProcessError:\n",
    "    ROOTPATH = os.getcwd()\n",
    "sys.path.insert(0, ROOTPATH)\n",
    "\n",
    "from smartg.config import DIR_AUXDATA\n",
    "from smartg.libATM3D import satellite_view, Grid3D, Cloud3D, Atm3D, create_sensors, read_cld_nth_cte\n",
    "from smartg.smartg import Smartg, LambSurface, Albedo_cst\n",
    "from smartg.atmosphere import AtmAFGL, diff1\n",
    "import pandas as pd\n",
    "import numpy as np\n",
    "from smartg.iprt import compute_deltam, groupIQUV\n",
    "\n",
    "S3DB = Smartg(opt3D=True, alt_pp=True, alis=False, back=True, double=True, bias=True)\n",
    "S3DF = Smartg(opt3D=True, alt_pp=True, alis=False, back=False, double=True, bias=True)\n",
    "NBPHOTONS = 49e9\n",
    "NBLOOP    = 1e8\n",
    "\n",
    "# In case we want to find the optimal number of block and grid (CUDA) for each sim\n",
    "# The values bellow can (have may be to) be modified (depending on the GPU)\n",
    "FIND_OPTIMAL_XB_XG = False\n",
    "XB = [32, 64, 128]\n",
    "XG = [512, 1024]\n",
    "CHECK_NBLOOP = 1e8\n",
    "CHECK_NBPHOTONS = 1e8\n",
    "\n",
    "# Else take the following number of block and grid (values accepted by most of GPUs after 10xx series)\n",
    "XBLOCK = 128\n",
    "XGRID = 1024"
   ]
  },
  {
   "cell_type": "markdown",
   "metadata": {},
   "source": [
    "## Without atmosphere"
   ]
  },
  {
   "cell_type": "markdown",
   "metadata": {},
   "source": [
    "### Commun to all cases"
   ]
  },
  {
   "cell_type": "markdown",
   "metadata": {},
   "source": [
    "#### Atmosphere profil"
   ]
  },
  {
   "cell_type": "code",
   "execution_count": null,
   "metadata": {},
   "outputs": [],
   "source": [
    "scale = 1 # can be useful for grid with very small cells\n",
    "\n",
    "# ========= phase matrix\n",
    "NTH = 18001 # 1801 is not enough for case 6, then we take 18001\n",
    "file_cld_phase = DIR_AUXDATA + \"/IPRT/phaseB/opt_prop/watercloud_800.mie.cdf\"\n",
    "cld_phase = read_cld_nth_cte(filename=file_cld_phase, nb_theta=NTH)\n",
    "\n",
    "# ========= grid\n",
    "# ********* method reduced grid = faster *********\n",
    "xgrid = np.array([0., 3., 4., 7.])*scale\n",
    "ygrid = np.array([0., 3., 4., 7.])*scale\n",
    "zgrid = np.array([0., 2., 3., 5.])*scale\n",
    "grid3 = Grid3D(xgrid, ygrid, zgrid, periodic=True)\n",
    "# First column x, second y and third z\n",
    "# We follow the IPRT convention for indices (start at 1 instead of 0)\n",
    "# the cubic cloud is between 3 and 4 km in x and y, and between 2 and 3 km in z.\n",
    "cloud_indices1 = np.zeros((1,3), dtype=np.int32)\n",
    "cloud_indices1[0,:] = np.array([2, 2, 2]) #, x, y and z indices according to x, y and z grids\n",
    "cld_ext_coeff1 = np.zeros(1, dtype=np.float64)\n",
    "cld_ext_coeff1[0] = 10.\n",
    "reff = np.zeros_like(cld_ext_coeff1, dtype=np.float64)\n",
    "reff[0] = 10.\n",
    "cloud3 = Cloud3D('wc', w_ref=800., ext_ref=cld_ext_coeff1, xyz_grids=[grid3.xGRID, grid3.yGRID, grid3.zGRID],\n",
    "                 cell_indices=cloud_indices1, reff=reff, phase=cld_phase)\n",
    "# *****************************************************************************************************************\n",
    "\n",
    "# ********* method complete grid = slower but same grid as in IPRT paper *********\n",
    "# cubic_cloud_f= DIR_AUXDATA +'/IPRT/phaseB/grids/C2_cloud_70x70x5.dat'\n",
    "# cloud3 = Cloud3D('wc', w_ref=800., ext_reff_filename=cubic_cloud_f, phase=cld_phase)\n",
    "# xgrid, ygrid, zgrid = cloud3.get_xyz_grid(loc_xgrid=0, loc_ygrid=0)\n",
    "# grid3 = Grid3D(xgrid*scale, ygrid*scale, zgrid*scale, periodic=True)\n",
    "# *****************************************************************************************************************\n",
    "\n",
    "atm3 = Atm3D('afglt', grid3, wls=np.array([800.]), wl_ref= 800., cloud_3d=cloud3, tauR=0., NO2=False, O3=0., H2O=0.)\n",
    "\n",
    "grid = atm3.get_grid()\n",
    "prof_ray = atm3.get_glob_molecular_sca() # Rayleigh\n",
    "prof_abs = atm3.get_glob_molecular_abs()\n",
    "\n",
    "ext_aer = atm3.get_glob_aer_ext()*(1/scale)\n",
    "ssa_aer = np.ones_like(ext_aer) # ssa forced to 1, must have the same form as ext_cld3D\n",
    "prof_aer = (ext_aer, ssa_aer)\n",
    "\n",
    "prof_phases = atm3.get_glob_aer_phase(wl_phase=[800.], NBTHETA=NTH)\n",
    "\n",
    "cells = atm3.get_cells_info()\n",
    "\n",
    "### profiles computations\n",
    "atm3D = AtmAFGL('ATM3D', US=False,\n",
    "                    grid        = grid,\n",
    "                    prof_ray    = prof_ray,\n",
    "                    prof_abs    = prof_abs,\n",
    "                    prof_aer    = prof_aer,\n",
    "                    prof_phases = prof_phases,\n",
    "                    cells       = cells\n",
    "                   )\n",
    "pro3D3_C2_noatm  = atm3D.calc(atm3.wls, NBTHETA=NTH)\n",
    "\n",
    "surf_C2 = LambSurface(ALB=Albedo_cst(0.2))"
   ]
  },
  {
   "cell_type": "markdown",
   "metadata": {},
   "source": [
    "#### Function to print results"
   ]
  },
  {
   "cell_type": "code",
   "execution_count": null,
   "metadata": {},
   "outputs": [],
   "source": [
    "def print_C2_res_noatm(m, norm, TCASE, grid3_sensors, U_sign=1, v_sign=-1, mI=None, mQ=None, mU=None, mV=None):\n",
    "    \n",
    "    if mI is None: I_SMARTG = m[\"I_up (TOA)\"][:,0,0].reshape(70,70)*norm\n",
    "    else:  I_SMARTG = mI.reshape(70,70)*norm\n",
    "    # I_SMARTG_stdev = m[\"I_stdev_up (TOA)\"][:,0,0].reshape(70,70)*norm\n",
    "    if mQ is None: Q_SMARTG = m[\"Q_up (TOA)\"][:,0,0].reshape(70,70)*norm\n",
    "    else:  Q_SMARTG = mQ.reshape(70,70)*norm\n",
    "    # Q_SMARTG_stdev = m[\"Q_stdev_up (TOA)\"][:,0,0].reshape(70,70)*norm\n",
    "    if mU is None: U_SMARTG = m[\"U_up (TOA)\"][:,0,0].reshape(70,70)*norm*U_sign\n",
    "    else:  U_SMARTG = mU.reshape(70,70)*norm*U_sign\n",
    "    # U_SMARTG_stdev = m[\"U_stdev_up (TOA)\"][:,0,0].reshape(70,70)*norm\n",
    "    if mV is None: V_SMARTG = m[\"V_up (TOA)\"][:,0,0].reshape(70,70)*norm*v_sign\n",
    "    else:  V_SMARTG = mV.reshape(70,70)*norm*v_sign\n",
    "    # V_SMARTG_stdev = m[\"V_stdev_up (TOA)\"][:,0,0].reshape(70,70)*norm\n",
    "\n",
    "\n",
    "\n",
    "    file_res = DIR_AUXDATA + \"/IPRT/phaseB/mystic_res/iprt_case_C2_mystic.dat\"\n",
    "    read_res = pd.read_csv(file_res, skiprows = (4900*(TCASE-1)) + 3, nrows = 4900, header=None, sep='\\s+', dtype=float).values\n",
    "    I_MYSTIC = read_res[:,7].reshape(70,70).T\n",
    "    # I_MYSTIC_stdev = read_res[:,11].reshape(70,70).T\n",
    "    Q_MYSTIC = read_res[:,8].reshape(70,70).T\n",
    "    # Q_MYSTIC_stdev = read_res[:,12].reshape(70,70).T\n",
    "    U_MYSTIC = read_res[:,9].reshape(70,70).T\n",
    "    # U_MYSTIC_stdev = read_res[:,13].reshape(70,70).T\n",
    "    V_MYSTIC = read_res[:,10].reshape(70,70).T\n",
    "    # V_MYSTIC_stdev = read_res[:,14].reshape(70,70).T\n",
    "\n",
    "\n",
    "    stk = ['I', 'Q', 'U', 'V']\n",
    "    wl = m.axes['wavelength']\n",
    "    xgrid = grid3_sensors.xgrid\n",
    "    ygrid = grid3_sensors.ygrid\n",
    "    interp_name = 'none'\n",
    "    fig_size = (10.5,7)\n",
    "    font_size=int(16)\n",
    "    cb_shrink = 1\n",
    "    color_bar = ['jet', 'coolwarm', 'coolwarm', 'coolwarm']\n",
    "    vmin = [np.min(np.abs(I_SMARTG)), -np.max(np.abs(Q_SMARTG)), -np.max(np.abs(U_SMARTG)), -np.max(np.abs(V_SMARTG))]\n",
    "    vmax = [np.max(I_SMARTG), np.max(np.abs(Q_SMARTG)), np.max(np.abs(U_SMARTG)), np.max(np.abs(V_SMARTG))]\n",
    "    color_bar_std = ['coolwarm', 'coolwarm', 'coolwarm', 'coolwarm']\n",
    "    vmin_std = [-np.max(I_SMARTG)*0.05, -np.max(np.abs(Q_SMARTG))*0.05, -np.max(np.abs(U_SMARTG))*0.05, -np.max(np.abs(V_SMARTG))*0.015]\n",
    "    vmax_std = [np.max(I_SMARTG)*0.05, np.max(np.abs(Q_SMARTG))*0.05, np.max(np.abs(U_SMARTG))*0.05, np.max(np.abs(V_SMARTG))*0.015]\n",
    "\n",
    "\n",
    "    factor = None\n",
    "    mat_force = [I_SMARTG, Q_SMARTG, U_SMARTG, V_SMARTG]\n",
    "    satellite_view(m, xgrid, ygrid, wl, interp_name,\n",
    "                color_bar, fig_size=fig_size, font_size=font_size,\n",
    "                vmin = vmin, vmax = vmax, scale=False, save_file=None, stk=stk, factor=factor,\n",
    "                mat_force=mat_force, cb_shrink=cb_shrink, cb_sform=True, fig_title=f\"C2 - case {TCASE} - SMART-G - without atm\")\n",
    "\n",
    "    factor = None\n",
    "    mat_force = [I_SMARTG-I_MYSTIC, Q_SMARTG-Q_MYSTIC, U_SMARTG-U_MYSTIC, V_SMARTG-V_MYSTIC]\n",
    "    satellite_view(m, xgrid, ygrid, wl, interp_name,\n",
    "                color_bar_std, fig_size=fig_size, font_size=font_size,\n",
    "                vmin = vmin_std, vmax = vmax_std, scale=False, save_file=None, stk=stk, factor=factor,\n",
    "                mat_force=mat_force, cb_shrink=cb_shrink, cb_sform=True, fig_title=f\"C2 - case {TCASE} - dif(SMART-G - MYSTIC) - without atm\")\n",
    "    \n",
    "\n",
    "    \n",
    "    # print deltam\n",
    "    IQUV_SMARTG = groupIQUV(lI=[I_SMARTG], lQ=[Q_SMARTG], lU=[U_SMARTG], lV=[V_SMARTG])\n",
    "    IQUV_MYSTIC = groupIQUV(lI=[I_MYSTIC], lQ=[Q_MYSTIC], lU=[U_MYSTIC], lV=[V_MYSTIC])\n",
    "\n",
    "    print(\"SMART-G (delta_m):\")\n",
    "    delta_m = compute_deltam(obs=IQUV_MYSTIC, mod=IQUV_SMARTG, print_res=True)"
   ]
  },
  {
   "cell_type": "markdown",
   "metadata": {},
   "source": [
    "### Backward simulations"
   ]
  },
  {
   "cell_type": "markdown",
   "metadata": {},
   "source": [
    "#### Case 1"
   ]
  },
  {
   "cell_type": "markdown",
   "metadata": {},
   "source": [
    "##### Run"
   ]
  },
  {
   "cell_type": "code",
   "execution_count": null,
   "metadata": {},
   "outputs": [],
   "source": [
    "xgrid_sensors = np.linspace(0., 7., 71)*scale\n",
    "ygrid_sensors = np.linspace(0., 7., 71)*scale\n",
    "zgrid_sensors = np.array([0., 1., 2., 3., 4., 5.])*scale\n",
    "grid3_sensors = Grid3D(xgrid_sensors, ygrid_sensors, zgrid_sensors, periodic=True)\n",
    "\n",
    "# Placement of sensors\n",
    "POSZ = grid3_sensors.zGRID[0]\n",
    "\n",
    "print(\"POSZ = \", POSZ)\n",
    "THETA = 40.\n",
    "PHI = 0.\n",
    "# !!!! grid3 is different than sensors grid !!!\n",
    "x0, y0, sensors, icells = create_sensors(grid3_sensors, POSZ=POSZ, THDEG=THETA, PHDEG=PHI, FOV=0., LOC='ATMOS',\n",
    "                                         CELL_SIZE=grid3_sensors.xgrid[1]-grid3_sensors.xgrid[0], grid3D_atm=grid3)\n",
    "\n",
    "# Sun position\n",
    "THETA_0    = 20.\n",
    "PHI_0    = 180.\n",
    "# count_level = 0 -> only COUNT TOA (default value = -2, i.e., count everything)\n",
    "le     = {'th_deg':np.array([THETA_0]), 'phi_deg':np.array([PHI_0]), 'count_level':np.array([0])}#, 'zip':True}\n",
    "\n",
    "if FIND_OPTIMAL_XB_XG:\n",
    "    k_time = np.inf\n",
    "    for xgrid in XG:\n",
    "        for xblock in XB:\n",
    "                m_test = S3DB.run(wl=pro3D3_C2_noatm.axes['wavelength'], NBPHOTONS=CHECK_NBPHOTONS, NBLOOP=CHECK_NBLOOP, atm=pro3D3_C2_noatm,\n",
    "                                sensor=sensors, le=le, surf=surf_C2, NF=NTH, XBLOCK = xblock, XGRID = xgrid, progress=False, stdev=True)\n",
    "                if float(m_test.attrs['kernel time (s)']) < k_time:\n",
    "                    k_time = float(m_test.attrs['kernel time (s)'])\n",
    "                    best_xb = xblock\n",
    "                    best_xg = xgrid\n",
    "                print(\"time (s) =\", m_test.attrs['kernel time (s)'], \"; xblock =\", xblock, \"; xgrid =\", xgrid)\n",
    "    print(\"\\n\\nBest xblock =\", best_xb, \" : best xgrid =\", best_xg)\n",
    "    xBLOCK = best_xb\n",
    "    xGRID = best_xg\n",
    "else:\n",
    "    xBLOCK = XBLOCK\n",
    "    xGRID = XGRID\n",
    "\n",
    "m3D_C2_1_noatm = S3DB.run(wl=pro3D3_C2_noatm.axes['wavelength'], NBPHOTONS=NBPHOTONS, NBLOOP=NBLOOP, atm=pro3D3_C2_noatm,\n",
    "                          sensor=sensors, le=le, surf=surf_C2, NF=NTH, XBLOCK = xBLOCK, XGRID = xGRID, stdev=True)\n",
    "norm_C2_1_noatm = np.cos(np.radians(THETA_0))/np.pi\n",
    "print(\"kernel time (s) =\", \"{:.2f}\".format(float(m3D_C2_1_noatm.attrs['kernel time (s)'])))"
   ]
  },
  {
   "cell_type": "markdown",
   "metadata": {},
   "source": [
    "##### Results"
   ]
  },
  {
   "cell_type": "code",
   "execution_count": null,
   "metadata": {},
   "outputs": [],
   "source": [
    "m = m3D_C2_1_noatm\n",
    "norm = norm_C2_1_noatm\n",
    "TCASE = int(1)\n",
    "\n",
    "print_C2_res_noatm(m, norm, TCASE, grid3_sensors)"
   ]
  },
  {
   "cell_type": "markdown",
   "metadata": {},
   "source": [
    "#### Case 2"
   ]
  },
  {
   "cell_type": "markdown",
   "metadata": {},
   "source": [
    "##### Run"
   ]
  },
  {
   "cell_type": "code",
   "execution_count": null,
   "metadata": {},
   "outputs": [],
   "source": [
    "xgrid_sensors = np.linspace(0., 7., 71)*scale\n",
    "ygrid_sensors = np.linspace(0., 7., 71)*scale\n",
    "zgrid_sensors = np.array([0., 1., 2., 3., 4., 5.])*scale\n",
    "grid3_sensors = Grid3D(xgrid_sensors, ygrid_sensors, zgrid_sensors, periodic=True)\n",
    "\n",
    "# Placement of sensors\n",
    "POSZ = grid3_sensors.zGRID[0]\n",
    "\n",
    "print(\"POSZ = \", POSZ)\n",
    "THETA = 40.\n",
    "PHI = 60.\n",
    "# !!!! grid3 is different than sensors grid !!!\n",
    "x0, y0, sensors, icells = create_sensors(grid3_sensors, POSZ=POSZ, THDEG=THETA, PHDEG=PHI, FOV=0., LOC='ATMOS',\n",
    "                                         CELL_SIZE=grid3_sensors.xgrid[1]-grid3_sensors.xgrid[0], grid3D_atm=grid3)\n",
    "\n",
    "# Sun position\n",
    "THETA_0    = 20.\n",
    "PHI_0    = 180. \n",
    "le     = {'th_deg':np.array([THETA_0]), 'phi_deg':np.array([PHI_0]), 'count_level':np.array([0])}\n",
    "\n",
    "if FIND_OPTIMAL_XB_XG:\n",
    "    k_time = np.inf\n",
    "    for xgrid in XG:\n",
    "        for xblock in XB:\n",
    "                m_test = S3DB.run(wl=pro3D3_C2_noatm.axes['wavelength'], NBPHOTONS=CHECK_NBPHOTONS, NBLOOP=CHECK_NBLOOP, atm=pro3D3_C2_noatm,\n",
    "                                sensor=sensors, le=le, surf=surf_C2, NF=NTH, XBLOCK = xblock, XGRID = xgrid, progress=False, stdev=True)\n",
    "                if float(m_test.attrs['kernel time (s)']) < k_time:\n",
    "                    k_time = float(m_test.attrs['kernel time (s)'])\n",
    "                    best_xb = xblock\n",
    "                    best_xg = xgrid\n",
    "                print(\"time (s) =\", m_test.attrs['kernel time (s)'], \"; xblock =\", xblock, \"; xgrid =\", xgrid)\n",
    "    print(\"\\n\\nBest xblock =\", best_xb, \" : best xgrid =\", best_xg)\n",
    "    xBLOCK = best_xb\n",
    "    xGRID = best_xg\n",
    "else:\n",
    "    xBLOCK = XBLOCK\n",
    "    xGRID = XGRID\n",
    "\n",
    "m3D_C2_2_noatm = S3DB.run(wl=pro3D3_C2_noatm.axes['wavelength'], NBPHOTONS=NBPHOTONS, NBLOOP=NBLOOP, atm=pro3D3_C2_noatm,\n",
    "                          sensor=sensors, le=le, surf=surf_C2, NF=NTH, XBLOCK = xBLOCK, XGRID = xGRID, stdev=True)\n",
    "norm_C2_2_noatm = np.cos(np.radians(THETA_0))/np.pi\n",
    "print(\"kernel time (s) =\", \"{:.2f}\".format(float(m3D_C2_2_noatm.attrs['kernel time (s)'])))"
   ]
  },
  {
   "cell_type": "markdown",
   "metadata": {},
   "source": [
    "##### Results"
   ]
  },
  {
   "cell_type": "code",
   "execution_count": null,
   "metadata": {},
   "outputs": [],
   "source": [
    "m = m3D_C2_2_noatm\n",
    "norm = norm_C2_2_noatm\n",
    "TCASE = int(2)\n",
    "\n",
    "print_C2_res_noatm(m, norm, TCASE, grid3_sensors)"
   ]
  },
  {
   "cell_type": "markdown",
   "metadata": {},
   "source": [
    "#### Case 3"
   ]
  },
  {
   "cell_type": "markdown",
   "metadata": {},
   "source": [
    "##### Run"
   ]
  },
  {
   "cell_type": "code",
   "execution_count": null,
   "metadata": {},
   "outputs": [],
   "source": [
    "xgrid_sensors = np.linspace(0., 7., 71)*scale\n",
    "ygrid_sensors = np.linspace(0., 7., 71)*scale\n",
    "zgrid_sensors = np.array([0., 1., 2., 3., 4., 5.])*scale\n",
    "grid3_sensors = Grid3D(xgrid_sensors, ygrid_sensors, zgrid_sensors, periodic=True)\n",
    "\n",
    "# Placement of sensors\n",
    "POSZ = grid3_sensors.zGRID[0]\n",
    "\n",
    "print(\"POSZ = \", POSZ)\n",
    "THETA = 40.\n",
    "PHI = 120.\n",
    "# !!!! grid3 is different than sensors grid !!!\n",
    "x0, y0, sensors, icells = create_sensors(grid3_sensors, POSZ=POSZ, THDEG=THETA, PHDEG=PHI, FOV=0., LOC='ATMOS',\n",
    "                                         CELL_SIZE=grid3_sensors.xgrid[1]-grid3_sensors.xgrid[0], grid3D_atm=grid3)\n",
    "\n",
    "# Sun position\n",
    "THETA_0    = 20.\n",
    "PHI_0    = 180. \n",
    "le     = {'th_deg':np.array([THETA_0]), 'phi_deg':np.array([PHI_0]), 'count_level':np.array([0])}#, 'zip':True}\n",
    "\n",
    "if FIND_OPTIMAL_XB_XG:\n",
    "    k_time = np.inf\n",
    "    for xgrid in XG:\n",
    "        for xblock in XB:\n",
    "                m_test = S3DB.run(wl=pro3D3_C2_noatm.axes['wavelength'], NBPHOTONS=CHECK_NBPHOTONS, NBLOOP=CHECK_NBLOOP, atm=pro3D3_C2_noatm,\n",
    "                                sensor=sensors, le=le, surf=surf_C2, NF=NTH, XBLOCK = xblock, XGRID = xgrid, progress=False, stdev=True)\n",
    "                if float(m_test.attrs['kernel time (s)']) < k_time:\n",
    "                    k_time = float(m_test.attrs['kernel time (s)'])\n",
    "                    best_xb = xblock\n",
    "                    best_xg = xgrid\n",
    "                print(\"time (s) =\", m_test.attrs['kernel time (s)'], \"; xblock =\", xblock, \"; xgrid =\", xgrid)\n",
    "    print(\"\\n\\nBest xblock =\", best_xb, \" : best xgrid =\", best_xg)\n",
    "    xBLOCK = best_xb\n",
    "    xGRID = best_xg\n",
    "else:\n",
    "    xBLOCK = XBLOCK\n",
    "    xGRID = XGRID\n",
    "\n",
    "m3D_C2_3_noatm = S3DB.run(wl=pro3D3_C2_noatm.axes['wavelength'], NBPHOTONS=NBPHOTONS, NBLOOP=NBLOOP, atm=pro3D3_C2_noatm,\n",
    "                          sensor=sensors, le=le, surf=surf_C2, NF=NTH, XBLOCK = xBLOCK, XGRID = xGRID, stdev=True)\n",
    "norm_C2_3_noatm = np.cos(np.radians(THETA_0))/np.pi\n",
    "print(\"kernel time (s) =\", \"{:.2f}\".format(float(m3D_C2_3_noatm.attrs['kernel time (s)'])))"
   ]
  },
  {
   "cell_type": "markdown",
   "metadata": {},
   "source": [
    "##### Results"
   ]
  },
  {
   "cell_type": "code",
   "execution_count": null,
   "metadata": {},
   "outputs": [],
   "source": [
    "m = m3D_C2_3_noatm\n",
    "norm = norm_C2_3_noatm\n",
    "TCASE = int(3)\n",
    "\n",
    "print_C2_res_noatm(m, norm, TCASE, grid3_sensors)"
   ]
  },
  {
   "cell_type": "markdown",
   "metadata": {},
   "source": [
    "#### Case 4"
   ]
  },
  {
   "cell_type": "markdown",
   "metadata": {},
   "source": [
    "##### Run"
   ]
  },
  {
   "cell_type": "code",
   "execution_count": null,
   "metadata": {},
   "outputs": [],
   "source": [
    "xgrid_sensors = np.linspace(0., 7., 71)*scale\n",
    "ygrid_sensors = np.linspace(0., 7., 71)*scale\n",
    "zgrid_sensors = np.array([0., 1., 2., 3., 4., 5.])*scale\n",
    "grid3_sensors = Grid3D(xgrid_sensors, ygrid_sensors, zgrid_sensors, periodic=True)\n",
    "\n",
    "# Placement of sensors\n",
    "POSZ = grid3_sensors.zGRID[0]\n",
    "\n",
    "print(\"POSZ = \", POSZ)\n",
    "THETA = 40.\n",
    "PHI = 180.\n",
    "# !!!! grid3 is different than sensors grid !!!\n",
    "x0, y0, sensors, icells = create_sensors(grid3_sensors, POSZ=POSZ, THDEG=THETA, PHDEG=PHI, FOV=0., LOC='ATMOS',\n",
    "                                         CELL_SIZE=grid3_sensors.xgrid[1]-grid3_sensors.xgrid[0], grid3D_atm=grid3)\n",
    "\n",
    "# Sun position\n",
    "THETA_0    = 20.\n",
    "PHI_0    = 180. \n",
    "le     = {'th_deg':np.array([THETA_0]), 'phi_deg':np.array([PHI_0]), 'count_level':np.array([0])}#, 'zip':True}\n",
    "\n",
    "if FIND_OPTIMAL_XB_XG:\n",
    "    k_time = np.inf\n",
    "    for xgrid in XG:\n",
    "        for xblock in XB:\n",
    "                m_test = S3DB.run(wl=pro3D3_C2_noatm.axes['wavelength'], NBPHOTONS=CHECK_NBPHOTONS, NBLOOP=CHECK_NBLOOP, atm=pro3D3_C2_noatm,\n",
    "                                sensor=sensors, le=le, surf=surf_C2, NF=NTH, XBLOCK = xblock, XGRID = xgrid, progress=False, stdev=True)\n",
    "                if float(m_test.attrs['kernel time (s)']) < k_time:\n",
    "                    k_time = float(m_test.attrs['kernel time (s)'])\n",
    "                    best_xb = xblock\n",
    "                    best_xg = xgrid\n",
    "                print(\"time (s) =\", m_test.attrs['kernel time (s)'], \"; xblock =\", xblock, \"; xgrid =\", xgrid)\n",
    "    print(\"\\n\\nBest xblock =\", best_xb, \" : best xgrid =\", best_xg)\n",
    "    xBLOCK = best_xb\n",
    "    xGRID = best_xg\n",
    "else:\n",
    "    xBLOCK = XBLOCK\n",
    "    xGRID = XGRID\n",
    "\n",
    "m3D_C2_4_noatm = S3DB.run(wl=pro3D3_C2_noatm.axes['wavelength'], NBPHOTONS=NBPHOTONS, NBLOOP=NBLOOP, atm=pro3D3_C2_noatm,\n",
    "                          sensor=sensors, le=le, surf=surf_C2, NF=NTH, XBLOCK = xBLOCK, XGRID = xGRID, stdev=True)\n",
    "norm_C2_4_noatm = np.cos(np.radians(THETA_0))/np.pi\n",
    "print(\"kernel time (s) =\", \"{:.2f}\".format(float(m3D_C2_4_noatm.attrs['kernel time (s)'])))"
   ]
  },
  {
   "cell_type": "markdown",
   "metadata": {},
   "source": [
    "##### Results"
   ]
  },
  {
   "cell_type": "code",
   "execution_count": null,
   "metadata": {},
   "outputs": [],
   "source": [
    "m = m3D_C2_4_noatm\n",
    "norm = norm_C2_4_noatm\n",
    "TCASE = int(4)\n",
    "\n",
    "print_C2_res_noatm(m, norm, TCASE, grid3_sensors)"
   ]
  },
  {
   "cell_type": "markdown",
   "metadata": {},
   "source": [
    "#### Case 5"
   ]
  },
  {
   "cell_type": "markdown",
   "metadata": {},
   "source": [
    "##### Run"
   ]
  },
  {
   "cell_type": "code",
   "execution_count": null,
   "metadata": {},
   "outputs": [],
   "source": [
    "xgrid_sensors = np.linspace(0., 7., 71)*scale\n",
    "ygrid_sensors = np.linspace(0., 7., 71)*scale\n",
    "zgrid_sensors = np.array([0., 1., 2., 3., 4., 5.])*scale\n",
    "grid3_sensors = Grid3D(xgrid_sensors, ygrid_sensors, zgrid_sensors, periodic=True)\n",
    "\n",
    "# Placement of sensors\n",
    "POSZ = grid3_sensors.zGRID[-1]-1e-6*scale\n",
    "\n",
    "print(\"POSZ = \", POSZ)\n",
    "THETA = 180.\n",
    "PHI = 0.\n",
    "# !!!! grid3 is different than sensors grid !!!\n",
    "x0, y0, sensors, icells = create_sensors(grid3_sensors, POSZ=POSZ, THDEG=THETA, PHDEG=PHI, FOV=0., LOC='ATMOS',\n",
    "                                         CELL_SIZE=grid3_sensors.xgrid[1]-grid3_sensors.xgrid[0], grid3D_atm=grid3)\n",
    "\n",
    "# Sun position\n",
    "THETA_0    = 40.\n",
    "PHI_0    = 180. \n",
    "le     = {'th_deg':np.array([THETA_0]), 'phi_deg':np.array([PHI_0]), 'count_level':np.array([0])}#, 'zip':True}\n",
    "\n",
    "if FIND_OPTIMAL_XB_XG:\n",
    "    k_time = np.inf\n",
    "    for xgrid in XG:\n",
    "        for xblock in XB:\n",
    "                m_test = S3DB.run(wl=pro3D3_C2_noatm.axes['wavelength'], NBPHOTONS=CHECK_NBPHOTONS, NBLOOP=CHECK_NBLOOP, atm=pro3D3_C2_noatm,\n",
    "                                sensor=sensors, le=le, surf=surf_C2, NF=NTH, XBLOCK = xblock, XGRID = xgrid, progress=False, stdev=True)\n",
    "                if float(m_test.attrs['kernel time (s)']) < k_time:\n",
    "                    k_time = float(m_test.attrs['kernel time (s)'])\n",
    "                    best_xb = xblock\n",
    "                    best_xg = xgrid\n",
    "                print(\"time (s) =\", m_test.attrs['kernel time (s)'], \"; xblock =\", xblock, \"; xgrid =\", xgrid)\n",
    "    print(\"\\n\\nBest xblock =\", best_xb, \" : best xgrid =\", best_xg)\n",
    "    xBLOCK = best_xb\n",
    "    xGRID = best_xg\n",
    "else:\n",
    "    xBLOCK = XBLOCK\n",
    "    xGRID = XGRID\n",
    "\n",
    "m3D_C2_5_noatm = S3DB.run(wl=pro3D3_C2_noatm.axes['wavelength'], NBPHOTONS=NBPHOTONS, NBLOOP=NBLOOP, atm=pro3D3_C2_noatm,\n",
    "                          sensor=sensors, le=le, surf=surf_C2, NF=NTH, XBLOCK = xBLOCK, XGRID = xGRID, stdev=True)\n",
    "norm_C2_5_noatm = np.cos(np.radians(THETA_0))/np.pi\n",
    "print(\"kernel time (s) =\", \"{:.2f}\".format(float(m3D_C2_5_noatm.attrs['kernel time (s)'])))"
   ]
  },
  {
   "cell_type": "markdown",
   "metadata": {},
   "source": [
    "##### Results"
   ]
  },
  {
   "cell_type": "code",
   "execution_count": null,
   "metadata": {},
   "outputs": [],
   "source": [
    "m = m3D_C2_5_noatm\n",
    "norm = norm_C2_5_noatm\n",
    "TCASE = int(5)\n",
    "\n",
    "print_C2_res_noatm(m, norm, TCASE, grid3_sensors)"
   ]
  },
  {
   "cell_type": "markdown",
   "metadata": {},
   "source": [
    "#### Case 6"
   ]
  },
  {
   "cell_type": "markdown",
   "metadata": {},
   "source": [
    "##### Run"
   ]
  },
  {
   "cell_type": "code",
   "execution_count": null,
   "metadata": {},
   "outputs": [],
   "source": [
    "xgrid_sensors = np.linspace(0., 7., 71)*scale\n",
    "ygrid_sensors = np.linspace(0., 7., 71)*scale\n",
    "zgrid_sensors = np.array([0., 1., 2., 3., 4., 5.])*scale\n",
    "grid3_sensors = Grid3D(xgrid_sensors, ygrid_sensors, zgrid_sensors, periodic=True)\n",
    "\n",
    "# Placement of sensors\n",
    "POSZ = grid3_sensors.zGRID[-1]-1e-6*scale\n",
    "\n",
    "print(\"POSZ = \", POSZ)\n",
    "THETA = 140.\n",
    "PHI = 0.\n",
    "# !!!! grid3 is different than sensors grid !!!\n",
    "x0, y0, sensors, icells = create_sensors(grid3_sensors, POSZ=POSZ, THDEG=THETA, PHDEG=PHI, FOV=0., LOC='ATMOS',\n",
    "                                         CELL_SIZE=grid3_sensors.xgrid[1]-grid3_sensors.xgrid[0], grid3D_atm=grid3)\n",
    "\n",
    "# Sun position\n",
    "THETA_0    = 40.\n",
    "PHI_0    = 180. \n",
    "le     = {'th_deg':np.array([THETA_0]), 'phi_deg':np.array([PHI_0]), 'count_level':np.array([0])}#, 'zip':True}\n",
    "\n",
    "if FIND_OPTIMAL_XB_XG:\n",
    "    k_time = np.inf\n",
    "    for xgrid in XG:\n",
    "        for xblock in XB:\n",
    "                m_test = S3DB.run(wl=pro3D3_C2_noatm.axes['wavelength'], NBPHOTONS=CHECK_NBPHOTONS, NBLOOP=CHECK_NBLOOP, atm=pro3D3_C2_noatm,\n",
    "                                sensor=sensors, le=le, surf=surf_C2, NF=NTH, XBLOCK = xblock, XGRID = xgrid, progress=False, stdev=True)\n",
    "                if float(m_test.attrs['kernel time (s)']) < k_time:\n",
    "                    k_time = float(m_test.attrs['kernel time (s)'])\n",
    "                    best_xb = xblock\n",
    "                    best_xg = xgrid\n",
    "                print(\"time (s) =\", m_test.attrs['kernel time (s)'], \"; xblock =\", xblock, \"; xgrid =\", xgrid)\n",
    "    print(\"\\n\\nBest xblock =\", best_xb, \" : best xgrid =\", best_xg)\n",
    "    xBLOCK = best_xb\n",
    "    xGRID = best_xg\n",
    "else:\n",
    "    xBLOCK = XBLOCK\n",
    "    xGRID = XGRID\n",
    "\n",
    "m3D_C2_6_noatm = S3DB.run(wl=pro3D3_C2_noatm.axes['wavelength'], NBPHOTONS=NBPHOTONS, NBLOOP=NBLOOP, atm=pro3D3_C2_noatm,\n",
    "                          sensor=sensors, le=le, surf=surf_C2, NF=NTH, XBLOCK = xBLOCK, XGRID = xGRID, stdev=True)\n",
    "norm_C2_6_noatm = np.cos(np.radians(THETA_0))/np.pi\n",
    "print(\"kernel time (s) =\", \"{:.2f}\".format(float(m3D_C2_6_noatm.attrs['kernel time (s)'])))"
   ]
  },
  {
   "cell_type": "markdown",
   "metadata": {},
   "source": [
    "##### Results"
   ]
  },
  {
   "cell_type": "code",
   "execution_count": null,
   "metadata": {},
   "outputs": [],
   "source": [
    "m = m3D_C2_6_noatm\n",
    "norm = norm_C2_6_noatm\n",
    "TCASE = int(6)\n",
    "\n",
    "print_C2_res_noatm(m, norm, TCASE, grid3_sensors)"
   ]
  },
  {
   "cell_type": "markdown",
   "metadata": {},
   "source": [
    "#### Case 7"
   ]
  },
  {
   "cell_type": "markdown",
   "metadata": {},
   "source": [
    "##### Run"
   ]
  },
  {
   "cell_type": "code",
   "execution_count": null,
   "metadata": {},
   "outputs": [],
   "source": [
    "xgrid_sensors = np.linspace(0., 7., 71)*scale\n",
    "ygrid_sensors = np.linspace(0., 7., 71)*scale\n",
    "zgrid_sensors = np.array([0., 1., 2., 3., 4., 5.])*scale\n",
    "grid3_sensors = Grid3D(xgrid_sensors, ygrid_sensors, zgrid_sensors, periodic=True)\n",
    "\n",
    "# Placement of sensors\n",
    "POSZ = grid3_sensors.zGRID[-1]-1e-6*scale\n",
    "\n",
    "print(\"POSZ = \", POSZ)\n",
    "THETA = 140.\n",
    "PHI = 60.\n",
    "# !!!! grid3 is different than sensors grid !!!\n",
    "x0, y0, sensors, icells = create_sensors(grid3_sensors, POSZ=POSZ, THDEG=THETA, PHDEG=PHI, FOV=0., LOC='ATMOS',\n",
    "                                         CELL_SIZE=grid3_sensors.xgrid[1]-grid3_sensors.xgrid[0], grid3D_atm=grid3)\n",
    "\n",
    "# Sun position\n",
    "THETA_0    = 40.\n",
    "PHI_0    = 180. \n",
    "le     = {'th_deg':np.array([THETA_0]), 'phi_deg':np.array([PHI_0]), 'count_level':np.array([0])}#, 'zip':True}\n",
    "\n",
    "if FIND_OPTIMAL_XB_XG:\n",
    "    k_time = np.inf\n",
    "    for xgrid in XG:\n",
    "        for xblock in XB:\n",
    "                m_test = S3DB.run(wl=pro3D3_C2_noatm.axes['wavelength'], NBPHOTONS=CHECK_NBPHOTONS, NBLOOP=CHECK_NBLOOP, atm=pro3D3_C2_noatm,\n",
    "                                sensor=sensors, le=le, surf=surf_C2, NF=NTH, XBLOCK = xblock, XGRID = xgrid, progress=False, stdev=True)\n",
    "                if float(m_test.attrs['kernel time (s)']) < k_time:\n",
    "                    k_time = float(m_test.attrs['kernel time (s)'])\n",
    "                    best_xb = xblock\n",
    "                    best_xg = xgrid\n",
    "                print(\"time (s) =\", m_test.attrs['kernel time (s)'], \"; xblock =\", xblock, \"; xgrid =\", xgrid)\n",
    "    print(\"\\n\\nBest xblock =\", best_xb, \" : best xgrid =\", best_xg)\n",
    "    xBLOCK = best_xb\n",
    "    xGRID = best_xg\n",
    "else:\n",
    "    xBLOCK = XBLOCK\n",
    "    xGRID = XGRID\n",
    "\n",
    "m3D_C2_7_noatm = S3DB.run(wl=pro3D3_C2_noatm.axes['wavelength'], NBPHOTONS=NBPHOTONS, NBLOOP=NBLOOP, atm=pro3D3_C2_noatm,\n",
    "                          sensor=sensors, le=le, surf=surf_C2, NF=NTH, XBLOCK = xBLOCK, XGRID = xGRID, stdev=True)\n",
    "norm_C2_7_noatm = np.cos(np.radians(THETA_0))/np.pi\n",
    "print(\"kernel time (s) =\", \"{:.2f}\".format(float(m3D_C2_7_noatm.attrs['kernel time (s)'])))"
   ]
  },
  {
   "cell_type": "markdown",
   "metadata": {},
   "source": [
    "##### Results"
   ]
  },
  {
   "cell_type": "code",
   "execution_count": null,
   "metadata": {},
   "outputs": [],
   "source": [
    "m = m3D_C2_7_noatm\n",
    "norm = norm_C2_7_noatm\n",
    "TCASE = int(7)\n",
    "\n",
    "print_C2_res_noatm(m, norm, TCASE, grid3_sensors)"
   ]
  },
  {
   "cell_type": "markdown",
   "metadata": {},
   "source": [
    "#### Case 8"
   ]
  },
  {
   "cell_type": "markdown",
   "metadata": {},
   "source": [
    "##### Run"
   ]
  },
  {
   "cell_type": "code",
   "execution_count": null,
   "metadata": {},
   "outputs": [],
   "source": [
    "xgrid_sensors = np.linspace(0., 7., 71)*scale\n",
    "ygrid_sensors = np.linspace(0., 7., 71)*scale\n",
    "zgrid_sensors = np.array([0., 1., 2., 3., 4., 5.])*scale\n",
    "grid3_sensors = Grid3D(xgrid_sensors, ygrid_sensors, zgrid_sensors, periodic=True)\n",
    "\n",
    "# Placement of sensors\n",
    "POSZ = grid3_sensors.zGRID[-1]-1e-6*scale\n",
    "\n",
    "print(\"POSZ = \", POSZ)\n",
    "THETA = 140.\n",
    "PHI = 120.\n",
    "# !!!! grid3 is different than sensors grid !!!\n",
    "x0, y0, sensors, icells = create_sensors(grid3_sensors, POSZ=POSZ, THDEG=THETA, PHDEG=PHI, FOV=0., LOC='ATMOS',\n",
    "                                         CELL_SIZE=grid3_sensors.xgrid[1]-grid3_sensors.xgrid[0], grid3D_atm=grid3)\n",
    "\n",
    "# Sun position\n",
    "THETA_0    = 40.\n",
    "PHI_0    = 180. \n",
    "le     = {'th_deg':np.array([THETA_0]), 'phi_deg':np.array([PHI_0]), 'count_level':np.array([0])}#, 'zip':True}\n",
    "\n",
    "if FIND_OPTIMAL_XB_XG:\n",
    "    k_time = np.inf\n",
    "    for xgrid in XG:\n",
    "        for xblock in XB:\n",
    "                m_test = S3DB.run(wl=pro3D3_C2_noatm.axes['wavelength'], NBPHOTONS=CHECK_NBPHOTONS, NBLOOP=CHECK_NBLOOP, atm=pro3D3_C2_noatm,\n",
    "                                sensor=sensors, le=le, surf=surf_C2, NF=NTH, XBLOCK = xblock, XGRID = xgrid, progress=False, stdev=True)\n",
    "                if float(m_test.attrs['kernel time (s)']) < k_time:\n",
    "                    k_time = float(m_test.attrs['kernel time (s)'])\n",
    "                    best_xb = xblock\n",
    "                    best_xg = xgrid\n",
    "                print(\"time (s) =\", m_test.attrs['kernel time (s)'], \"; xblock =\", xblock, \"; xgrid =\", xgrid)\n",
    "    print(\"\\n\\nBest xblock =\", best_xb, \" : best xgrid =\", best_xg)\n",
    "    xBLOCK = best_xb\n",
    "    xGRID = best_xg\n",
    "else:\n",
    "    xBLOCK = XBLOCK\n",
    "    xGRID = XGRID\n",
    "\n",
    "m3D_C2_8_noatm = S3DB.run(wl=pro3D3_C2_noatm.axes['wavelength'], NBPHOTONS=NBPHOTONS, NBLOOP=NBLOOP, atm=pro3D3_C2_noatm,\n",
    "                          sensor=sensors, le=le, surf=surf_C2, NF=NTH, XBLOCK = xBLOCK, XGRID = xGRID, stdev=True)\n",
    "norm_C2_8_noatm = np.cos(np.radians(THETA_0))/np.pi\n",
    "print(\"kernel time (s) =\", \"{:.2f}\".format(float(m3D_C2_8_noatm.attrs['kernel time (s)'])))"
   ]
  },
  {
   "cell_type": "markdown",
   "metadata": {},
   "source": [
    "##### Results"
   ]
  },
  {
   "cell_type": "code",
   "execution_count": null,
   "metadata": {},
   "outputs": [],
   "source": [
    "m = m3D_C2_8_noatm\n",
    "norm = norm_C2_8_noatm\n",
    "TCASE = int(8)\n",
    "\n",
    "print_C2_res_noatm(m, norm, TCASE, grid3_sensors)"
   ]
  },
  {
   "cell_type": "markdown",
   "metadata": {},
   "source": [
    "#### Case 9"
   ]
  },
  {
   "cell_type": "markdown",
   "metadata": {},
   "source": [
    "##### Run"
   ]
  },
  {
   "cell_type": "code",
   "execution_count": null,
   "metadata": {},
   "outputs": [],
   "source": [
    "xgrid_sensors = np.linspace(0., 7., 71)*scale\n",
    "ygrid_sensors = np.linspace(0., 7., 71)*scale\n",
    "zgrid_sensors = np.array([0., 1., 2., 3., 4., 5.])*scale\n",
    "grid3_sensors = Grid3D(xgrid_sensors, ygrid_sensors, zgrid_sensors, periodic=True)\n",
    "\n",
    "# Placement of sensors\n",
    "POSZ = grid3_sensors.zGRID[-1]-1e-6*scale\n",
    "\n",
    "print(\"POSZ = \", POSZ)\n",
    "THETA = 140.\n",
    "PHI = 180.\n",
    "# !!!! grid3 is different than sensors grid !!!\n",
    "x0, y0, sensors, icells = create_sensors(grid3_sensors, POSZ=POSZ, THDEG=THETA, PHDEG=PHI, FOV=0., LOC='ATMOS',\n",
    "                                         CELL_SIZE=grid3_sensors.xgrid[1]-grid3_sensors.xgrid[0], grid3D_atm=grid3)\n",
    "\n",
    "# Sun position\n",
    "THETA_0    = 40.\n",
    "PHI_0    = 180. \n",
    "le     = {'th_deg':np.array([THETA_0]), 'phi_deg':np.array([PHI_0]), 'count_level':np.array([0])}#, 'zip':True}\n",
    "\n",
    "if FIND_OPTIMAL_XB_XG:\n",
    "    k_time = np.inf\n",
    "    for xgrid in XG:\n",
    "        for xblock in XB:\n",
    "                m_test = S3DB.run(wl=pro3D3_C2_noatm.axes['wavelength'], NBPHOTONS=CHECK_NBPHOTONS, NBLOOP=CHECK_NBLOOP, atm=pro3D3_C2_noatm,\n",
    "                                sensor=sensors, le=le, surf=surf_C2, NF=NTH, XBLOCK = xblock, XGRID = xgrid, progress=False, stdev=True)\n",
    "                if float(m_test.attrs['kernel time (s)']) < k_time:\n",
    "                    k_time = float(m_test.attrs['kernel time (s)'])\n",
    "                    best_xb = xblock\n",
    "                    best_xg = xgrid\n",
    "                print(\"time (s) =\", m_test.attrs['kernel time (s)'], \"; xblock =\", xblock, \"; xgrid =\", xgrid)\n",
    "    print(\"\\n\\nBest xblock =\", best_xb, \" : best xgrid =\", best_xg)\n",
    "    xBLOCK = best_xb\n",
    "    xGRID = best_xg\n",
    "else:\n",
    "    xBLOCK = XBLOCK\n",
    "    xGRID = XGRID\n",
    "\n",
    "m3D_C2_9_noatm = S3DB.run(wl=pro3D3_C2_noatm.axes['wavelength'], NBPHOTONS=NBPHOTONS, NBLOOP=NBLOOP, atm=pro3D3_C2_noatm,\n",
    "                          sensor=sensors, le=le, surf=surf_C2, NF=NTH, XBLOCK = xBLOCK, XGRID = xGRID, stdev=True)\n",
    "norm_C2_9_noatm = np.cos(np.radians(THETA_0))/np.pi\n",
    "print(\"kernel time (s) =\", \"{:.2f}\".format(float(m3D_C2_9_noatm.attrs['kernel time (s)'])))"
   ]
  },
  {
   "cell_type": "markdown",
   "metadata": {},
   "source": [
    "##### Results"
   ]
  },
  {
   "cell_type": "code",
   "execution_count": null,
   "metadata": {},
   "outputs": [],
   "source": [
    "m = m3D_C2_9_noatm\n",
    "norm = norm_C2_9_noatm\n",
    "TCASE = int(9)\n",
    "\n",
    "print_C2_res_noatm(m, norm, TCASE, grid3_sensors)"
   ]
  },
  {
   "cell_type": "markdown",
   "metadata": {},
   "source": [
    "### Forward simulations"
   ]
  },
  {
   "cell_type": "markdown",
   "metadata": {},
   "source": [
    "#### Case 1 - 4"
   ]
  },
  {
   "cell_type": "markdown",
   "metadata": {},
   "source": [
    "##### Run"
   ]
  },
  {
   "cell_type": "code",
   "execution_count": null,
   "metadata": {},
   "outputs": [],
   "source": [
    "xgrid_sensors = np.linspace(0., 7., 71)*scale\n",
    "ygrid_sensors = np.linspace(0., 7., 71)*scale\n",
    "zgrid_sensors = np.array([0., 1., 2., 3., 4., 5.])*scale\n",
    "grid3_sensors = Grid3D(xgrid_sensors, ygrid_sensors, zgrid_sensors, periodic=True)\n",
    "\n",
    "# Placement of sensors\n",
    "POSZ = grid3_sensors.zGRID[-1]-1e-6\n",
    "\n",
    "print(\"POSZ = \", POSZ)\n",
    "\n",
    "# ======= Case 1 - 4\n",
    "    # Sun position\n",
    "THETA_0    = 20.\n",
    "PHI_0    = 180.\n",
    "\n",
    "THETA_0_bis = 180.- THETA_0\n",
    "PHI_0_bis = 180.- PHI_0\n",
    "\n",
    "# !!!! grid3 is different than sensors grid !!!\n",
    "x0, y0, sensors, icells = create_sensors(grid3_sensors, POSZ=POSZ, THDEG=THETA_0_bis, PHDEG=PHI_0_bis, FOV=0., LOC='ATMOS',\n",
    "                                        CELL_SIZE=grid3_sensors.xgrid[1]-grid3_sensors.xgrid[0], grid3D_atm=grid3)\n",
    "\n",
    "THETA = np.array([40., 40., 40., 40.])\n",
    "PHI = np.array([0., 60., 120., 180.])\n",
    "\n",
    "le     = {'th_deg':np.array(THETA),\n",
    "        'phi_deg':np.array(PHI+180.),\n",
    "        'count_level':np.array([1, 1, 1, 1]),\n",
    "        'zip':True}\n",
    "\n",
    "if FIND_OPTIMAL_XB_XG:\n",
    "    k_time = np.inf\n",
    "    for xgrid in XG:\n",
    "        for xblock in XB:\n",
    "                m_test = S3DF.run(THVDEG=THETA_0, wl=pro3D3_C2_noatm.axes['wavelength'],\n",
    "                                    NBPHOTONS=CHECK_NBPHOTONS, NBLOOP=CHECK_NBLOOP, atm=pro3D3_C2_noatm,\n",
    "                                    sensor=sensors, le=le, surf=surf_C2, NF=NTH,\n",
    "                                    XBLOCK = xblock, XGRID = xgrid, progress=False,\n",
    "                                    OUTPUT_LAYERS=3)\n",
    "                if float(m_test.attrs['kernel time (s)']) < k_time:\n",
    "                    k_time = float(m_test.attrs['kernel time (s)'])\n",
    "                    best_xb = xblock\n",
    "                    best_xg = xgrid\n",
    "                print(\"time (s) =\", m_test.attrs['kernel time (s)'], \"; xblock =\", xblock, \"; xgrid =\", xgrid)\n",
    "    print(\"\\n\\nBest xblock =\", best_xb, \" : best xgrid =\", best_xg)\n",
    "    xBLOCK = best_xb\n",
    "    xGRID = best_xg\n",
    "else:\n",
    "    xBLOCK = XBLOCK\n",
    "    xGRID = XGRID\n",
    "\n",
    "m3D_C2_1to4_F_noatm = S3DF.run(THVDEG=THETA_0, wl=pro3D3_C2_noatm.axes['wavelength'], NBPHOTONS=NBPHOTONS, NBLOOP=NBLOOP,\n",
    "                             atm=pro3D3_C2_noatm, sensor=sensors, le=le, surf=surf_C2, NF=NTH,\n",
    "                             XBLOCK = xBLOCK, XGRID = xGRID, OUTPUT_LAYERS=3)\n",
    "norm_C2_1to4_F_noatm = np.cos(np.radians(THETA_0))/np.pi\n",
    "print(\"kernel time (s) =\", \"{:.2f}\".format(float(m3D_C2_1to4_F_noatm.attrs['kernel time (s)'])))"
   ]
  },
  {
   "cell_type": "markdown",
   "metadata": {},
   "source": [
    "##### Results"
   ]
  },
  {
   "cell_type": "code",
   "execution_count": null,
   "metadata": {},
   "outputs": [],
   "source": [
    "m = m3D_C2_1to4_F_noatm\n",
    "norm = norm_C2_1to4_F_noatm\n",
    "for i in range (0, 4):\n",
    "    TCASE = int(i+1)\n",
    "    indZA = round(TCASE - 1)\n",
    "    print(\"TESTCASE:\", TCASE)\n",
    "    print_C2_res_noatm(m, norm, TCASE, grid3_sensors, U_sign=-1, v_sign=1,\n",
    "                    mI=m['I_down (0+)'][:,indZA], mQ=m['Q_down (0+)'][:,indZA],\n",
    "                    mU=m['U_down (0+)'][:,indZA], mV=m['V_down (0+)'][:,indZA])"
   ]
  },
  {
   "cell_type": "markdown",
   "metadata": {},
   "source": [
    "#### Case 5 -9"
   ]
  },
  {
   "cell_type": "markdown",
   "metadata": {},
   "source": [
    "##### Run"
   ]
  },
  {
   "cell_type": "code",
   "execution_count": null,
   "metadata": {},
   "outputs": [],
   "source": [
    "xgrid_sensors = np.linspace(0., 7., 71)*scale\n",
    "ygrid_sensors = np.linspace(0., 7., 71)*scale\n",
    "zgrid_sensors = np.array([0., 1., 2., 3., 4., 5.])*scale\n",
    "grid3_sensors = Grid3D(xgrid_sensors, ygrid_sensors, zgrid_sensors, periodic=True)\n",
    "\n",
    "# Placement of sensors\n",
    "POSZ = grid3_sensors.zGRID[-1]-1e-6\n",
    "\n",
    "print(\"POSZ = \", POSZ)\n",
    "\n",
    "# Sun position\n",
    "THETA_0    = 40.\n",
    "PHI_0    = 180.\n",
    "\n",
    "THETA_0_bis = 180.- THETA_0\n",
    "PHI_0_bis = 180.- PHI_0\n",
    "\n",
    "# !!!! grid3 is different than sensors grid !!!\n",
    "x0, y0, sensors, icells = create_sensors(grid3_sensors, POSZ=POSZ, THDEG=THETA_0_bis, PHDEG=PHI_0_bis, FOV=0., LOC='ATMOS',\n",
    "                                         CELL_SIZE=grid3_sensors.xgrid[1]-grid3_sensors.xgrid[0], grid3D_atm=grid3)\n",
    "\n",
    "THETA = np.array([180., 140., 140., 140., 140.])\n",
    "PHI = np.array([0., 0., 60., 120., 180.])\n",
    "\n",
    "le     = {'th_deg':np.array(180.-THETA),\n",
    "        'phi_deg':np.array(PHI+180.),\n",
    "        'count_level':np.array([0, 0, 0, 0, 0]),\n",
    "        'zip':True}\n",
    "\n",
    "if FIND_OPTIMAL_XB_XG:\n",
    "    k_time = np.inf\n",
    "    for xgrid in XG:\n",
    "        for xblock in XB:\n",
    "                m_test = S3DF.run(THVDEG=THETA_0, wl=pro3D3_C2_noatm.axes['wavelength'],\n",
    "                                    NBPHOTONS=CHECK_NBPHOTONS, NBLOOP=CHECK_NBLOOP, atm=pro3D3_C2_noatm,\n",
    "                                    sensor=sensors, le=le, surf=surf_C2, NF=NTH,\n",
    "                                    XBLOCK = xblock, XGRID = xgrid, progress=False,\n",
    "                                    OUTPUT_LAYERS=1)\n",
    "                if float(m_test.attrs['kernel time (s)']) < k_time:\n",
    "                    k_time = float(m_test.attrs['kernel time (s)'])\n",
    "                    best_xb = xblock\n",
    "                    best_xg = xgrid\n",
    "                print(\"time (s) =\", m_test.attrs['kernel time (s)'], \"; xblock =\", xblock, \"; xgrid =\", xgrid)\n",
    "    print(\"\\n\\nBest xblock =\", best_xb, \" : best xgrid =\", best_xg)\n",
    "    xBLOCK = best_xb\n",
    "    xGRID = best_xg\n",
    "else:\n",
    "    xBLOCK = XBLOCK\n",
    "    xGRID = XGRID\n",
    "\n",
    "m3D_C2_5to9_F_noatm = S3DF.run(THVDEG=THETA_0, wl=pro3D3_C2_noatm.axes['wavelength'], NBPHOTONS=NBPHOTONS, NBLOOP=NBLOOP,\n",
    "                atm=pro3D3_C2_noatm, sensor=sensors, le=le, surf=surf_C2, NF=NTH,\n",
    "                XBLOCK = xBLOCK, XGRID = xGRID, OUTPUT_LAYERS=1)\n",
    "norm_C2_5to9_F_noatm = np.cos(np.radians(THETA_0))/np.pi\n",
    "print(\"kernel time (s) =\", \"{:.2f}\".format(float(m3D_C2_5to9_F_noatm.attrs['kernel time (s)'])))"
   ]
  },
  {
   "cell_type": "markdown",
   "metadata": {},
   "source": [
    "##### Results"
   ]
  },
  {
   "cell_type": "code",
   "execution_count": null,
   "metadata": {},
   "outputs": [],
   "source": [
    "m = m3D_C2_5to9_F_noatm\n",
    "norm = norm_C2_5to9_F_noatm\n",
    "for i in range (0, 5):\n",
    "    TCASE = int(i+5)\n",
    "    indZA = round(TCASE - 5)\n",
    "    print(\"TESTCASE:\", TCASE)\n",
    "    print_C2_res_noatm(m, norm, TCASE, grid3_sensors, U_sign=-1, v_sign=1,\n",
    "                    mI=m['I_up (TOA)'][:,indZA], mQ=m['Q_up (TOA)'][:,indZA],\n",
    "                    mU=m['U_up (TOA)'][:,indZA], mV=m['V_up (TOA)'][:,indZA])"
   ]
  },
  {
   "cell_type": "markdown",
   "metadata": {},
   "source": [
    "## With atmosphere"
   ]
  },
  {
   "cell_type": "markdown",
   "metadata": {},
   "source": [
    "### commun to all cases"
   ]
  },
  {
   "cell_type": "markdown",
   "metadata": {},
   "source": [
    "#### Atmosphere profil"
   ]
  },
  {
   "cell_type": "code",
   "execution_count": null,
   "metadata": {},
   "outputs": [],
   "source": [
    "scale = 1 # can be useful for grid with very small cells\n",
    "\n",
    "# ========= phase matrix\n",
    "NTH = 18001 # 1801 is not enough for case 6, then we take 18001\n",
    "file_cld_phase = DIR_AUXDATA + \"/IPRT/phaseB/opt_prop/watercloud_800.mie.cdf\"\n",
    "cld_phase = read_cld_nth_cte(filename=file_cld_phase, nb_theta=NTH)\n",
    "\n",
    "# ========= grid\n",
    "# ********* method reduced grid = faster *********\n",
    "xgrid = np.array([0., 3., 4., 7.])*scale\n",
    "ygrid = np.array([0., 3., 4., 7.])*scale\n",
    "zgrid = np.array([0., 2., 3., 5.])*scale\n",
    "grid3 = Grid3D(xgrid, ygrid, zgrid, periodic=True)\n",
    "# First column x, second y and third z\n",
    "# We follow the IPRT convention for indices (start at 1 instead of 0)\n",
    "# the cubic cloud is between 3 and 4 km in x and y, and between 2 and 3 km in z.\n",
    "cloud_indices1 = np.zeros((1,3), dtype=np.int32)\n",
    "cloud_indices1[0,:] = np.array([2, 2, 2]) #, x, y and z indices according to x, y and z grids\n",
    "cld_ext_coeff1 = np.zeros(1, dtype=np.float64)\n",
    "cld_ext_coeff1[0] = 10.\n",
    "reff = np.zeros_like(cld_ext_coeff1, dtype=np.float64)\n",
    "reff[0] = 10.\n",
    "cloud3 = Cloud3D('wc', w_ref=800., ext_ref=cld_ext_coeff1, xyz_grids=[grid3.xGRID, grid3.yGRID, grid3.zGRID],\n",
    "                 cell_indices=cloud_indices1, reff=reff, phase=cld_phase)\n",
    "# *****************************************************************************************************************\n",
    "\n",
    "# ********* method complete grid = slower but same grid as in IPRT paper *********\n",
    "# cubic_cloud_f= DIR_AUXDATA +'/IPRT/phaseB/grids/C2_cloud_70x70x5.dat'\n",
    "# cloud3 = Cloud3D('wc', w_ref=800., ext_reff_filename=cubic_cloud_f, phase=cld_phase)\n",
    "# xgrid, ygrid, zgrid = cloud3.get_xyz_grid(loc_xgrid=0, loc_ygrid=0)\n",
    "# grid3 = Grid3D(xgrid*scale, ygrid*scale, zgrid*scale, periodic=True)\n",
    "# *****************************************************************************************************************\n",
    "\n",
    "#sca_ray = np.array([[0., 0.1, 0.1, 0.1]])\n",
    "tauR = 0.5 # total optical rayleigh depth\n",
    "\n",
    "dz = diff1(grid3.zGRID)\n",
    "tauRcs = np.cumsum((dz/grid3.zGRID[-1])*tauR).reshape(1,len(dz)) # homogeneous distri\n",
    "ot = diff1(tauRcs, axis=1)\n",
    "k  = abs(ot/dz)\n",
    "k[np.isnan(k)] = 0\n",
    "sl = slice(None,None,1)\n",
    "\n",
    "sca_ray = k[:,sl]  # rayleigh sca coefficient\n",
    "abs_gas = np.zeros_like(sca_ray)\n",
    "\n",
    "atm3 = Atm3D('afglt', grid3, wls=np.array([800.]), wl_ref= 800., cloud_3d=cloud3,\n",
    "             mol_sca_1d=sca_ray, mol_abs_1d=abs_gas)\n",
    "\n",
    "\n",
    "\n",
    "grid = atm3.get_grid()\n",
    "prof_ray = atm3.get_glob_molecular_sca() # Rayleigh\n",
    "prof_abs = atm3.get_glob_molecular_abs()\n",
    "\n",
    "ext_aer = atm3.get_glob_aer_ext()*(1/scale)\n",
    "ssa_aer = np.ones_like(ext_aer) # ssa forced to 1, must have the same form as ext_cld3D\n",
    "prof_aer = (ext_aer, ssa_aer)\n",
    "\n",
    "prof_phases = atm3.get_glob_aer_phase(wl_phase=[800.], NBTHETA=NTH)\n",
    "\n",
    "cells = atm3.get_cells_info()\n",
    "\n",
    "### profiles computations\n",
    "atm3D = AtmAFGL('ATM3D', US=False,\n",
    "                    grid        = grid,\n",
    "                    prof_ray    = prof_ray,\n",
    "                    prof_abs    = prof_abs,\n",
    "                    prof_aer    = prof_aer,\n",
    "                    prof_phases = prof_phases,\n",
    "                    cells       = cells\n",
    "                   )\n",
    "pro3D3_C2_atm  = atm3D.calc(atm3.wls, NBTHETA=NTH)\n",
    "\n",
    "surf_C2 = LambSurface(ALB=Albedo_cst(0.2))"
   ]
  },
  {
   "cell_type": "markdown",
   "metadata": {},
   "source": [
    "#### Function to print results"
   ]
  },
  {
   "cell_type": "code",
   "execution_count": null,
   "metadata": {},
   "outputs": [],
   "source": [
    "def print_C2_res_atm(m, norm, TCASE, grid3_sensors, U_sign=1, v_sign=-1, mI=None, mQ=None, mU=None, mV=None):\n",
    "\n",
    "    if mI is None: I_SMARTG = m[\"I_up (TOA)\"][:,0,0].reshape(70,70)*norm\n",
    "    else:  I_SMARTG = mI.reshape(70,70)*norm\n",
    "    # I_SMARTG_stdev = m[\"I_stdev_up (TOA)\"][:,0,0].reshape(70,70)*norm\n",
    "    if mQ is None: Q_SMARTG = m[\"Q_up (TOA)\"][:,0,0].reshape(70,70)*norm\n",
    "    else:  Q_SMARTG = mQ.reshape(70,70)*norm\n",
    "    # Q_SMARTG_stdev = m[\"Q_stdev_up (TOA)\"][:,0,0].reshape(70,70)*norm\n",
    "    if mU is None: U_SMARTG = m[\"U_up (TOA)\"][:,0,0].reshape(70,70)*norm*U_sign\n",
    "    else:  U_SMARTG = mU.reshape(70,70)*norm*U_sign\n",
    "    # U_SMARTG_stdev = m[\"U_stdev_up (TOA)\"][:,0,0].reshape(70,70)*norm\n",
    "    if mV is None: V_SMARTG = m[\"V_up (TOA)\"][:,0,0].reshape(70,70)*norm*v_sign\n",
    "    else:  V_SMARTG = mV.reshape(70,70)*norm*v_sign\n",
    "    # V_SMARTG_stdev = m[\"V_stdev_up (TOA)\"][:,0,0].reshape(70,70)*norm\n",
    "\n",
    "    TCASE_bis = TCASE + int(9)\n",
    "    file_res = DIR_AUXDATA + \"/IPRT/phaseB/mystic_res/iprt_case_C2_mystic.dat\"\n",
    "    read_res = pd.read_csv(file_res, skiprows = (4900*(TCASE_bis-1)) + 3, nrows = 4900, header=None, sep='\\s+', dtype=float).values\n",
    "    I_MYSTIC = read_res[:,7].reshape(70,70).T\n",
    "    # I_MYSTIC_stdev = read_res[:,11].reshape(70,70).T\n",
    "    Q_MYSTIC = read_res[:,8].reshape(70,70).T\n",
    "    # Q_MYSTIC_stdev = read_res[:,12].reshape(70,70).T\n",
    "    U_MYSTIC = read_res[:,9].reshape(70,70).T\n",
    "    # U_MYSTIC_stdev = read_res[:,13].reshape(70,70).T\n",
    "    V_MYSTIC = read_res[:,10].reshape(70,70).T\n",
    "    # V_MYSTIC_stdev = read_res[:,14].reshape(70,70).T\n",
    "\n",
    "\n",
    "    stk = ['I', 'Q', 'U', 'V']\n",
    "    wl = m.axes['wavelength']\n",
    "    xgrid = grid3_sensors.xgrid\n",
    "    ygrid = grid3_sensors.ygrid\n",
    "    interp_name = 'none'\n",
    "    fig_size = (10.5,7)\n",
    "    font_size=int(16)\n",
    "    cb_shrink = 1\n",
    "    color_bar = ['jet', 'coolwarm', 'coolwarm', 'coolwarm']\n",
    "    vmin = [0., -np.max(np.abs(Q_SMARTG)), -np.max(np.abs(U_SMARTG)), -np.max(np.abs(V_SMARTG))]\n",
    "    vmax = [np.max(I_SMARTG), np.max(np.abs(Q_SMARTG)), np.max(np.abs(U_SMARTG)), np.max(np.abs(V_SMARTG))]\n",
    "    color_bar_std = ['coolwarm', 'coolwarm', 'coolwarm', 'coolwarm']\n",
    "    vmin_std = [-np.max(I_SMARTG)*0.05, -np.max(np.abs(Q_SMARTG))*0.05, -np.max(np.abs(U_SMARTG))*0.05, -np.max(np.abs(V_SMARTG))*0.05]\n",
    "    vmax_std = [np.max(I_SMARTG)*0.05, np.max(np.abs(Q_SMARTG))*0.05, np.max(np.abs(U_SMARTG))*0.05, np.max(np.abs(V_SMARTG))*0.05]\n",
    "\n",
    "\n",
    "    factor = None\n",
    "    mat_force = [I_SMARTG, Q_SMARTG, U_SMARTG, V_SMARTG]\n",
    "    satellite_view(m, xgrid, ygrid, wl, interp_name,\n",
    "                color_bar, fig_size=fig_size, font_size=font_size,\n",
    "                vmin = vmin, vmax = vmax, scale=False, save_file=None, stk=stk, factor=factor,\n",
    "                mat_force=mat_force, cb_shrink=cb_shrink, cb_sform=True, fig_title=f\"C2 - case {TCASE} - SMART-G - with atm\")\n",
    "\n",
    "    factor = None\n",
    "    mat_force = [I_SMARTG-I_MYSTIC, Q_SMARTG-Q_MYSTIC, U_SMARTG-U_MYSTIC, V_SMARTG-V_MYSTIC]\n",
    "    satellite_view(m, xgrid, ygrid, wl, interp_name,\n",
    "                color_bar_std, fig_size=fig_size, font_size=font_size,\n",
    "                vmin = vmin_std, vmax = vmax_std, scale=False, save_file=None, stk=stk, factor=factor,\n",
    "                mat_force=mat_force, cb_shrink=cb_shrink, cb_sform=True, fig_title=f\"C2 - case {TCASE} - dif(SMART-G - MYSTIC) - with atm\")\n",
    "    \n",
    "\n",
    "    # print deltam\n",
    "    IQUV_SMARTG = groupIQUV(lI=[I_SMARTG], lQ=[Q_SMARTG], lU=[U_SMARTG], lV=[V_SMARTG])\n",
    "    IQUV_MYSTIC = groupIQUV(lI=[I_MYSTIC], lQ=[Q_MYSTIC], lU=[U_MYSTIC], lV=[V_MYSTIC])\n",
    "\n",
    "    print(\"SMART-G (delta_m):\")\n",
    "    delta_m = compute_deltam(obs=IQUV_MYSTIC, mod=IQUV_SMARTG, print_res=True)\n",
    "\n",
    "    "
   ]
  },
  {
   "cell_type": "markdown",
   "metadata": {},
   "source": [
    "### Backward simulations"
   ]
  },
  {
   "cell_type": "markdown",
   "metadata": {},
   "source": [
    "#### Case 1"
   ]
  },
  {
   "cell_type": "markdown",
   "metadata": {},
   "source": [
    "##### Run"
   ]
  },
  {
   "cell_type": "code",
   "execution_count": null,
   "metadata": {},
   "outputs": [],
   "source": [
    "xgrid_sensors = np.linspace(0., 7., 71)*scale\n",
    "ygrid_sensors = np.linspace(0., 7., 71)*scale\n",
    "zgrid_sensors = np.array([0., 1., 2., 3., 4., 5.])*scale\n",
    "grid3_sensors = Grid3D(xgrid_sensors, ygrid_sensors, zgrid_sensors, periodic=True)\n",
    "\n",
    "# Placement of sensors\n",
    "POSZ = grid3_sensors.zGRID[0]\n",
    "\n",
    "print(\"POSZ = \", POSZ)\n",
    "THETA = 40.\n",
    "PHI = 0.\n",
    "# !!!! grid3 is different than sensors grid !!!\n",
    "x0, y0, sensors, icells = create_sensors(grid3_sensors, POSZ=POSZ, THDEG=THETA, PHDEG=PHI, FOV=0., LOC='ATMOS',\n",
    "                                         CELL_SIZE=grid3_sensors.xgrid[1]-grid3_sensors.xgrid[0], grid3D_atm=grid3)\n",
    "\n",
    "# Sun position\n",
    "THETA_0    = 20.\n",
    "PHI_0    = 180. \n",
    "le     = {'th_deg':np.array([THETA_0]), 'phi_deg':np.array([PHI_0]), 'count_level':np.array([0])}#, 'zip':True}\n",
    "\n",
    "if FIND_OPTIMAL_XB_XG:\n",
    "    k_time = np.inf\n",
    "    for xgrid in XG:\n",
    "        for xblock in XB:\n",
    "                m_test = S3DB.run(wl=pro3D3_C2_atm.axes['wavelength'], NBPHOTONS=CHECK_NBPHOTONS, NBLOOP=CHECK_NBLOOP, atm=pro3D3_C2_atm,\n",
    "                                sensor=sensors, le=le, surf=surf_C2, NF=NTH, XBLOCK = xblock, XGRID = xgrid, progress=False, stdev=True, DEPO=0)\n",
    "                if float(m_test.attrs['kernel time (s)']) < k_time:\n",
    "                    k_time = float(m_test.attrs['kernel time (s)'])\n",
    "                    best_xb = xblock\n",
    "                    best_xg = xgrid\n",
    "                print(\"time (s) =\", m_test.attrs['kernel time (s)'], \"; xblock =\", xblock, \"; xgrid =\", xgrid)\n",
    "    print(\"\\n\\nBest xblock =\", best_xb, \" : best xgrid =\", best_xg)\n",
    "    xBLOCK = best_xb\n",
    "    xGRID = best_xg\n",
    "else:\n",
    "    xBLOCK = XBLOCK\n",
    "    xGRID = XGRID\n",
    "\n",
    "m3D_C2_1_atm = S3DB.run(wl=pro3D3_C2_atm.axes['wavelength'], NBPHOTONS=NBPHOTONS, NBLOOP=NBLOOP, atm=pro3D3_C2_atm,\n",
    "                          sensor=sensors, le=le, surf=surf_C2, NF=NTH, XBLOCK = xBLOCK, XGRID = xGRID, stdev=True, DEPO=0)\n",
    "norm_C2_1_atm = np.cos(np.radians(THETA_0))/np.pi\n",
    "print(\"kernel time (s) =\", \"{:.2f}\".format(float(m3D_C2_1_atm.attrs['kernel time (s)'])))"
   ]
  },
  {
   "cell_type": "markdown",
   "metadata": {},
   "source": [
    "##### Results"
   ]
  },
  {
   "cell_type": "code",
   "execution_count": null,
   "metadata": {},
   "outputs": [],
   "source": [
    "m = m3D_C2_1_atm\n",
    "norm = norm_C2_1_atm\n",
    "TCASE = int(1)\n",
    "\n",
    "print_C2_res_atm(m, norm, TCASE, grid3_sensors)"
   ]
  },
  {
   "cell_type": "markdown",
   "metadata": {},
   "source": [
    "#### Case 2"
   ]
  },
  {
   "cell_type": "markdown",
   "metadata": {},
   "source": [
    "##### Run"
   ]
  },
  {
   "cell_type": "code",
   "execution_count": null,
   "metadata": {},
   "outputs": [],
   "source": [
    "xgrid_sensors = np.linspace(0., 7., 71)*scale\n",
    "ygrid_sensors = np.linspace(0., 7., 71)*scale\n",
    "zgrid_sensors = np.array([0., 1., 2., 3., 4., 5.])*scale\n",
    "grid3_sensors = Grid3D(xgrid_sensors, ygrid_sensors, zgrid_sensors, periodic=True)\n",
    "\n",
    "# Placement of sensors\n",
    "POSZ = grid3_sensors.zGRID[0]\n",
    "\n",
    "print(\"POSZ = \", POSZ)\n",
    "THETA = 40.\n",
    "PHI = 60.\n",
    "# !!!! grid3 is different than sensors grid !!!\n",
    "x0, y0, sensors, icells = create_sensors(grid3_sensors, POSZ=POSZ, THDEG=THETA, PHDEG=PHI, FOV=0., LOC='ATMOS',\n",
    "                                         CELL_SIZE=grid3_sensors.xgrid[1]-grid3_sensors.xgrid[0], grid3D_atm=grid3)\n",
    "\n",
    "# Sun position\n",
    "THETA_0    = 20.\n",
    "PHI_0    = 180. \n",
    "le     = {'th_deg':np.array([THETA_0]), 'phi_deg':np.array([PHI_0]), 'count_level':np.array([0])}#, 'zip':True}\n",
    "\n",
    "if FIND_OPTIMAL_XB_XG:\n",
    "    k_time = np.inf\n",
    "    for xgrid in XG:\n",
    "        for xblock in XB:\n",
    "                m_test = S3DB.run(wl=pro3D3_C2_atm.axes['wavelength'], NBPHOTONS=CHECK_NBPHOTONS, NBLOOP=CHECK_NBLOOP, atm=pro3D3_C2_atm,\n",
    "                                sensor=sensors, le=le, surf=surf_C2, NF=NTH, XBLOCK = xblock, XGRID = xgrid, progress=False, stdev=True, DEPO=0)\n",
    "                if float(m_test.attrs['kernel time (s)']) < k_time:\n",
    "                    k_time = float(m_test.attrs['kernel time (s)'])\n",
    "                    best_xb = xblock\n",
    "                    best_xg = xgrid\n",
    "                print(\"time (s) =\", m_test.attrs['kernel time (s)'], \"; xblock =\", xblock, \"; xgrid =\", xgrid)\n",
    "    print(\"\\n\\nBest xblock =\", best_xb, \" : best xgrid =\", best_xg)\n",
    "    xBLOCK = best_xb\n",
    "    xGRID = best_xg\n",
    "else:\n",
    "    xBLOCK = XBLOCK\n",
    "    xGRID = XGRID\n",
    "\n",
    "m3D_C2_2_atm = S3DB.run(wl=pro3D3_C2_atm.axes['wavelength'], NBPHOTONS=NBPHOTONS, NBLOOP=NBLOOP, atm=pro3D3_C2_atm,\n",
    "                          sensor=sensors, le=le, surf=surf_C2, NF=NTH, XBLOCK = xBLOCK, XGRID = xGRID, stdev=True, DEPO=0)\n",
    "norm_C2_2_atm = np.cos(np.radians(THETA_0))/np.pi\n",
    "print(\"kernel time (s) =\", \"{:.2f}\".format(float(m3D_C2_2_atm.attrs['kernel time (s)'])))"
   ]
  },
  {
   "cell_type": "markdown",
   "metadata": {},
   "source": [
    "##### Results"
   ]
  },
  {
   "cell_type": "code",
   "execution_count": null,
   "metadata": {},
   "outputs": [],
   "source": [
    "m = m3D_C2_2_atm\n",
    "norm = norm_C2_2_atm\n",
    "TCASE = int(2)\n",
    "\n",
    "print_C2_res_atm(m, norm, TCASE, grid3_sensors)"
   ]
  },
  {
   "cell_type": "markdown",
   "metadata": {},
   "source": [
    "#### Case 3"
   ]
  },
  {
   "cell_type": "markdown",
   "metadata": {},
   "source": [
    "##### Run"
   ]
  },
  {
   "cell_type": "code",
   "execution_count": null,
   "metadata": {},
   "outputs": [],
   "source": [
    "xgrid_sensors = np.linspace(0., 7., 71)*scale\n",
    "ygrid_sensors = np.linspace(0., 7., 71)*scale\n",
    "zgrid_sensors = np.array([0., 1., 2., 3., 4., 5.])*scale\n",
    "grid3_sensors = Grid3D(xgrid_sensors, ygrid_sensors, zgrid_sensors, periodic=True)\n",
    "\n",
    "# Placement of sensors\n",
    "POSZ = grid3_sensors.zGRID[0]\n",
    "\n",
    "print(\"POSZ = \", POSZ)\n",
    "THETA = 40.\n",
    "PHI = 120.\n",
    "# !!!! grid3 is different than sensors grid !!!\n",
    "x0, y0, sensors, icells = create_sensors(grid3_sensors, POSZ=POSZ, THDEG=THETA, PHDEG=PHI, FOV=0., LOC='ATMOS',\n",
    "                                         CELL_SIZE=grid3_sensors.xgrid[1]-grid3_sensors.xgrid[0], grid3D_atm=grid3)\n",
    "\n",
    "# Sun position\n",
    "THETA_0    = 20.\n",
    "PHI_0    = 180. \n",
    "le     = {'th_deg':np.array([THETA_0]), 'phi_deg':np.array([PHI_0]), 'count_level':np.array([0])}#, 'zip':True}\n",
    "\n",
    "if FIND_OPTIMAL_XB_XG:\n",
    "    k_time = np.inf\n",
    "    for xgrid in XG:\n",
    "        for xblock in XB:\n",
    "                m_test = S3DB.run(wl=pro3D3_C2_atm.axes['wavelength'], NBPHOTONS=CHECK_NBPHOTONS, NBLOOP=CHECK_NBLOOP, atm=pro3D3_C2_atm,\n",
    "                                sensor=sensors, le=le, surf=surf_C2, NF=NTH, XBLOCK = xblock, XGRID = xgrid, progress=False, stdev=True, DEPO=0)\n",
    "                if float(m_test.attrs['kernel time (s)']) < k_time:\n",
    "                    k_time = float(m_test.attrs['kernel time (s)'])\n",
    "                    best_xb = xblock\n",
    "                    best_xg = xgrid\n",
    "                print(\"time (s) =\", m_test.attrs['kernel time (s)'], \"; xblock =\", xblock, \"; xgrid =\", xgrid)\n",
    "    print(\"\\n\\nBest xblock =\", best_xb, \" : best xgrid =\", best_xg)\n",
    "    xBLOCK = best_xb\n",
    "    xGRID = best_xg\n",
    "else:\n",
    "    xBLOCK = XBLOCK\n",
    "    xGRID = XGRID\n",
    "\n",
    "m3D_C2_3_atm = S3DB.run(wl=pro3D3_C2_atm.axes['wavelength'], NBPHOTONS=NBPHOTONS, NBLOOP=NBLOOP, atm=pro3D3_C2_atm,\n",
    "                          sensor=sensors, le=le, surf=surf_C2, NF=NTH, XBLOCK = xBLOCK, XGRID = xGRID, stdev=True, DEPO=0)\n",
    "norm_C2_3_atm = np.cos(np.radians(THETA_0))/np.pi\n",
    "print(\"kernel time (s) =\", \"{:.2f}\".format(float(m3D_C2_3_atm.attrs['kernel time (s)'])))"
   ]
  },
  {
   "cell_type": "markdown",
   "metadata": {},
   "source": [
    "##### Results"
   ]
  },
  {
   "cell_type": "code",
   "execution_count": null,
   "metadata": {},
   "outputs": [],
   "source": [
    "m = m3D_C2_3_atm\n",
    "norm = norm_C2_3_atm\n",
    "TCASE = int(3)\n",
    "\n",
    "print_C2_res_atm(m, norm, TCASE, grid3_sensors)"
   ]
  },
  {
   "cell_type": "markdown",
   "metadata": {},
   "source": [
    "#### Case 4"
   ]
  },
  {
   "cell_type": "markdown",
   "metadata": {},
   "source": [
    "##### Run"
   ]
  },
  {
   "cell_type": "code",
   "execution_count": null,
   "metadata": {},
   "outputs": [],
   "source": [
    "xgrid_sensors = np.linspace(0., 7., 71)*scale\n",
    "ygrid_sensors = np.linspace(0., 7., 71)*scale\n",
    "zgrid_sensors = np.array([0., 1., 2., 3., 4., 5.])*scale\n",
    "grid3_sensors = Grid3D(xgrid_sensors, ygrid_sensors, zgrid_sensors, periodic=True)\n",
    "\n",
    "# Placement of sensors\n",
    "POSZ = grid3_sensors.zGRID[0]\n",
    "\n",
    "print(\"POSZ = \", POSZ)\n",
    "THETA = 40.\n",
    "PHI = 180.\n",
    "# !!!! grid3 is different than sensors grid !!!\n",
    "x0, y0, sensors, icells = create_sensors(grid3_sensors, POSZ=POSZ, THDEG=THETA, PHDEG=PHI, FOV=0., LOC='ATMOS',\n",
    "                                         CELL_SIZE=grid3_sensors.xgrid[1]-grid3_sensors.xgrid[0], grid3D_atm=grid3)\n",
    "\n",
    "# Sun position\n",
    "THETA_0    = 20.\n",
    "PHI_0    = 180. \n",
    "le     = {'th_deg':np.array([THETA_0]), 'phi_deg':np.array([PHI_0]), 'count_level':np.array([0])}#, 'zip':True}\n",
    "\n",
    "if FIND_OPTIMAL_XB_XG:\n",
    "    k_time = np.inf\n",
    "    for xgrid in XG:\n",
    "        for xblock in XB:\n",
    "                m_test = S3DB.run(wl=pro3D3_C2_atm.axes['wavelength'], NBPHOTONS=CHECK_NBPHOTONS, NBLOOP=CHECK_NBLOOP, atm=pro3D3_C2_atm,\n",
    "                                sensor=sensors, le=le, surf=surf_C2, NF=NTH, XBLOCK = xblock, XGRID = xgrid, progress=False, stdev=True, DEPO=0)\n",
    "                if float(m_test.attrs['kernel time (s)']) < k_time:\n",
    "                    k_time = float(m_test.attrs['kernel time (s)'])\n",
    "                    best_xb = xblock\n",
    "                    best_xg = xgrid\n",
    "                print(\"time (s) =\", m_test.attrs['kernel time (s)'], \"; xblock =\", xblock, \"; xgrid =\", xgrid)\n",
    "    print(\"\\n\\nBest xblock =\", best_xb, \" : best xgrid =\", best_xg)\n",
    "    xBLOCK = best_xb\n",
    "    xGRID = best_xg\n",
    "else:\n",
    "    xBLOCK = XBLOCK\n",
    "    xGRID = XGRID\n",
    "\n",
    "m3D_C2_4_atm = S3DB.run(wl=pro3D3_C2_atm.axes['wavelength'], NBPHOTONS=NBPHOTONS, NBLOOP=NBLOOP, atm=pro3D3_C2_atm,\n",
    "                          sensor=sensors, le=le, surf=surf_C2, NF=NTH, XBLOCK = xBLOCK, XGRID = xGRID, stdev=True, DEPO=0)\n",
    "norm_C2_4_atm = np.cos(np.radians(THETA_0))/np.pi\n",
    "print(\"kernel time (s) =\", \"{:.2f}\".format(float(m3D_C2_4_atm.attrs['kernel time (s)'])))"
   ]
  },
  {
   "cell_type": "markdown",
   "metadata": {},
   "source": [
    "##### Results"
   ]
  },
  {
   "cell_type": "code",
   "execution_count": null,
   "metadata": {},
   "outputs": [],
   "source": [
    "m = m3D_C2_4_atm\n",
    "norm = norm_C2_4_atm\n",
    "TCASE = int(4)\n",
    "\n",
    "print_C2_res_atm(m, norm, TCASE, grid3_sensors)"
   ]
  },
  {
   "cell_type": "markdown",
   "metadata": {},
   "source": [
    "#### Case 5"
   ]
  },
  {
   "cell_type": "markdown",
   "metadata": {},
   "source": [
    "##### Run"
   ]
  },
  {
   "cell_type": "code",
   "execution_count": null,
   "metadata": {},
   "outputs": [],
   "source": [
    "xgrid_sensors = np.linspace(0., 7., 71)*scale\n",
    "ygrid_sensors = np.linspace(0., 7., 71)*scale\n",
    "zgrid_sensors = np.array([0., 1., 2., 3., 4., 5.])*scale\n",
    "grid3_sensors = Grid3D(xgrid_sensors, ygrid_sensors, zgrid_sensors, periodic=True)\n",
    "\n",
    "# Placement of sensors\n",
    "POSZ = grid3_sensors.zGRID[-1]-1e-6*scale\n",
    "\n",
    "print(\"POSZ = \", POSZ)\n",
    "THETA = 180.\n",
    "PHI = 0.\n",
    "# !!!! grid3 is different than sensors grid !!!\n",
    "x0, y0, sensors, icells = create_sensors(grid3_sensors, POSZ=POSZ, THDEG=THETA, PHDEG=PHI, FOV=0., LOC='ATMOS',\n",
    "                                         CELL_SIZE=grid3_sensors.xgrid[1]-grid3_sensors.xgrid[0], grid3D_atm=grid3)\n",
    "\n",
    "# Sun position\n",
    "THETA_0    = 40.\n",
    "PHI_0    = 180. \n",
    "le     = {'th_deg':np.array([THETA_0]), 'phi_deg':np.array([PHI_0]), 'count_level':np.array([0])}#, 'zip':True}\n",
    "\n",
    "if FIND_OPTIMAL_XB_XG:\n",
    "    k_time = np.inf\n",
    "    for xgrid in XG:\n",
    "        for xblock in XB:\n",
    "                m_test = S3DB.run(wl=pro3D3_C2_atm.axes['wavelength'], NBPHOTONS=CHECK_NBPHOTONS, NBLOOP=CHECK_NBLOOP, atm=pro3D3_C2_atm,\n",
    "                                sensor=sensors, le=le, surf=surf_C2, NF=NTH, XBLOCK = xblock, XGRID = xgrid, progress=False, stdev=True, DEPO=0)\n",
    "                if float(m_test.attrs['kernel time (s)']) < k_time:\n",
    "                    k_time = float(m_test.attrs['kernel time (s)'])\n",
    "                    best_xb = xblock\n",
    "                    best_xg = xgrid\n",
    "                print(\"time (s) =\", m_test.attrs['kernel time (s)'], \"; xblock =\", xblock, \"; xgrid =\", xgrid)\n",
    "    print(\"\\n\\nBest xblock =\", best_xb, \" : best xgrid =\", best_xg)\n",
    "    xBLOCK = best_xb\n",
    "    xGRID = best_xg\n",
    "else:\n",
    "    xBLOCK = XBLOCK\n",
    "    xGRID = XGRID\n",
    "\n",
    "m3D_C2_5_atm = S3DB.run(wl=pro3D3_C2_atm.axes['wavelength'], NBPHOTONS=1e9, NBLOOP=NBLOOP, atm=pro3D3_C2_atm,\n",
    "                          sensor=sensors, le=le, surf=surf_C2, NF=NTH, XBLOCK = xBLOCK, XGRID = xGRID, stdev=True, DEPO=0)\n",
    "norm_C2_5_atm = np.cos(np.radians(THETA_0))/np.pi\n",
    "print(\"kernel time (s) =\", \"{:.2f}\".format(float(m3D_C2_5_atm.attrs['kernel time (s)'])))"
   ]
  },
  {
   "cell_type": "markdown",
   "metadata": {},
   "source": [
    "##### Results"
   ]
  },
  {
   "cell_type": "code",
   "execution_count": null,
   "metadata": {},
   "outputs": [],
   "source": [
    "m = m3D_C2_5_atm\n",
    "norm = norm_C2_5_atm\n",
    "TCASE = int(5)\n",
    "\n",
    "print_C2_res_atm(m, norm, TCASE, grid3_sensors)"
   ]
  },
  {
   "cell_type": "markdown",
   "metadata": {},
   "source": [
    "#### Case 6"
   ]
  },
  {
   "cell_type": "markdown",
   "metadata": {},
   "source": [
    "##### Run"
   ]
  },
  {
   "cell_type": "code",
   "execution_count": null,
   "metadata": {},
   "outputs": [],
   "source": [
    "xgrid_sensors = np.linspace(0., 7., 71)*scale\n",
    "ygrid_sensors = np.linspace(0., 7., 71)*scale\n",
    "zgrid_sensors = np.array([0., 1., 2., 3., 4., 5.])*scale\n",
    "grid3_sensors = Grid3D(xgrid_sensors, ygrid_sensors, zgrid_sensors, periodic=True)\n",
    "\n",
    "# Placement of sensors\n",
    "POSZ = grid3_sensors.zGRID[-1]-1e-6*scale\n",
    "\n",
    "print(\"POSZ = \", POSZ)\n",
    "THETA = 140.\n",
    "PHI = 0.\n",
    "# !!!! grid3 is different than sensors grid !!!\n",
    "x0, y0, sensors, icells = create_sensors(grid3_sensors, POSZ=POSZ, THDEG=THETA, PHDEG=PHI, FOV=0., LOC='ATMOS',\n",
    "                                         CELL_SIZE=grid3_sensors.xgrid[1]-grid3_sensors.xgrid[0], grid3D_atm=grid3)\n",
    "\n",
    "# Sun position\n",
    "THETA_0    = 40.\n",
    "PHI_0    = 180. \n",
    "le     = {'th_deg':np.array([THETA_0]), 'phi_deg':np.array([PHI_0]), 'count_level':np.array([0])}#, 'zip':True}\n",
    "\n",
    "if FIND_OPTIMAL_XB_XG:\n",
    "    k_time = np.inf\n",
    "    for xgrid in XG:\n",
    "        for xblock in XB:\n",
    "                m_test = S3DB.run(wl=pro3D3_C2_atm.axes['wavelength'], NBPHOTONS=CHECK_NBPHOTONS, NBLOOP=CHECK_NBLOOP, atm=pro3D3_C2_atm,\n",
    "                                sensor=sensors, le=le, surf=surf_C2, NF=NTH, XBLOCK = xblock, XGRID = xgrid, progress=False, stdev=True, DEPO=0)\n",
    "                if float(m_test.attrs['kernel time (s)']) < k_time:\n",
    "                    k_time = float(m_test.attrs['kernel time (s)'])\n",
    "                    best_xb = xblock\n",
    "                    best_xg = xgrid\n",
    "                print(\"time (s) =\", m_test.attrs['kernel time (s)'], \"; xblock =\", xblock, \"; xgrid =\", xgrid)\n",
    "    print(\"\\n\\nBest xblock =\", best_xb, \" : best xgrid =\", best_xg)\n",
    "    xBLOCK = best_xb\n",
    "    xGRID = best_xg\n",
    "else:\n",
    "    xBLOCK = XBLOCK\n",
    "    xGRID = XGRID\n",
    "\n",
    "m3D_C2_6_atm = S3DB.run(wl=pro3D3_C2_atm.axes['wavelength'], NBPHOTONS=1e9, NBLOOP=NBLOOP, atm=pro3D3_C2_atm,\n",
    "                          sensor=sensors, le=le, surf=surf_C2, NF=NTH, XBLOCK = xBLOCK, XGRID = xGRID, stdev=True, DEPO=0)\n",
    "norm_C2_6_atm = np.cos(np.radians(THETA_0))/np.pi\n",
    "print(\"kernel time (s) =\", \"{:.2f}\".format(float(m3D_C2_6_atm.attrs['kernel time (s)'])))"
   ]
  },
  {
   "cell_type": "markdown",
   "metadata": {},
   "source": [
    "##### Results"
   ]
  },
  {
   "cell_type": "code",
   "execution_count": null,
   "metadata": {},
   "outputs": [],
   "source": [
    "m = m3D_C2_6_atm\n",
    "norm = norm_C2_6_atm\n",
    "TCASE = int(6)\n",
    "\n",
    "print_C2_res_atm(m, norm, TCASE, grid3_sensors)"
   ]
  },
  {
   "cell_type": "markdown",
   "metadata": {},
   "source": [
    "#### Case 7"
   ]
  },
  {
   "cell_type": "markdown",
   "metadata": {},
   "source": [
    "##### Run"
   ]
  },
  {
   "cell_type": "code",
   "execution_count": null,
   "metadata": {},
   "outputs": [],
   "source": [
    "xgrid_sensors = np.linspace(0., 7., 71)*scale\n",
    "ygrid_sensors = np.linspace(0., 7., 71)*scale\n",
    "zgrid_sensors = np.array([0., 1., 2., 3., 4., 5.])*scale\n",
    "grid3_sensors = Grid3D(xgrid_sensors, ygrid_sensors, zgrid_sensors, periodic=True)\n",
    "\n",
    "# Placement of sensors\n",
    "POSZ = grid3_sensors.zGRID[-1]-1e-6*scale\n",
    "\n",
    "print(\"POSZ = \", POSZ)\n",
    "THETA = 140.\n",
    "PHI = 60.\n",
    "# !!!! grid3 is different than sensors grid !!!\n",
    "x0, y0, sensors, icells = create_sensors(grid3_sensors, POSZ=POSZ, THDEG=THETA, PHDEG=PHI, FOV=0., LOC='ATMOS',\n",
    "                                         CELL_SIZE=grid3_sensors.xgrid[1]-grid3_sensors.xgrid[0], grid3D_atm=grid3)\n",
    "\n",
    "# Sun position\n",
    "THETA_0    = 40.\n",
    "PHI_0    = 180. \n",
    "le     = {'th_deg':np.array([THETA_0]), 'phi_deg':np.array([PHI_0]), 'count_level':np.array([0])}#, 'zip':True}\n",
    "\n",
    "if FIND_OPTIMAL_XB_XG:\n",
    "    k_time = np.inf\n",
    "    for xgrid in XG:\n",
    "        for xblock in XB:\n",
    "                m_test = S3DB.run(wl=pro3D3_C2_atm.axes['wavelength'], NBPHOTONS=CHECK_NBPHOTONS, NBLOOP=CHECK_NBLOOP, atm=pro3D3_C2_atm,\n",
    "                                sensor=sensors, le=le, surf=surf_C2, NF=NTH, XBLOCK = xblock, XGRID = xgrid, progress=False, stdev=True, DEPO=0)\n",
    "                if float(m_test.attrs['kernel time (s)']) < k_time:\n",
    "                    k_time = float(m_test.attrs['kernel time (s)'])\n",
    "                    best_xb = xblock\n",
    "                    best_xg = xgrid\n",
    "                print(\"time (s) =\", m_test.attrs['kernel time (s)'], \"; xblock =\", xblock, \"; xgrid =\", xgrid)\n",
    "    print(\"\\n\\nBest xblock =\", best_xb, \" : best xgrid =\", best_xg)\n",
    "    xBLOCK = best_xb\n",
    "    xGRID = best_xg\n",
    "else:\n",
    "    xBLOCK = XBLOCK\n",
    "    xGRID = XGRID\n",
    "\n",
    "m3D_C2_7_atm = S3DB.run(wl=pro3D3_C2_atm.axes['wavelength'], NBPHOTONS=1e9, NBLOOP=NBLOOP, atm=pro3D3_C2_atm,\n",
    "                          sensor=sensors, le=le, surf=surf_C2, NF=NTH, XBLOCK = xBLOCK, XGRID = xGRID, stdev=True, DEPO=0)\n",
    "norm_C2_7_atm = np.cos(np.radians(THETA_0))/np.pi\n",
    "print(\"kernel time (s) =\", \"{:.2f}\".format(float(m3D_C2_7_atm.attrs['kernel time (s)'])))"
   ]
  },
  {
   "cell_type": "markdown",
   "metadata": {},
   "source": [
    "##### Results"
   ]
  },
  {
   "cell_type": "code",
   "execution_count": null,
   "metadata": {},
   "outputs": [],
   "source": [
    "m = m3D_C2_7_atm\n",
    "norm = norm_C2_7_atm\n",
    "TCASE = int(7)\n",
    "\n",
    "print_C2_res_atm(m, norm, TCASE, grid3_sensors)"
   ]
  },
  {
   "cell_type": "markdown",
   "metadata": {},
   "source": [
    "#### Case 8"
   ]
  },
  {
   "cell_type": "markdown",
   "metadata": {},
   "source": [
    "##### Run"
   ]
  },
  {
   "cell_type": "code",
   "execution_count": null,
   "metadata": {},
   "outputs": [],
   "source": [
    "xgrid_sensors = np.linspace(0., 7., 71)*scale\n",
    "ygrid_sensors = np.linspace(0., 7., 71)*scale\n",
    "zgrid_sensors = np.array([0., 1., 2., 3., 4., 5.])*scale\n",
    "grid3_sensors = Grid3D(xgrid_sensors, ygrid_sensors, zgrid_sensors, periodic=True)\n",
    "\n",
    "# Placement of sensors\n",
    "POSZ = grid3_sensors.zGRID[-1]-1e-6*scale\n",
    "\n",
    "print(\"POSZ = \", POSZ)\n",
    "THETA = 140.\n",
    "PHI = 120.\n",
    "# !!!! grid3 is different than sensors grid !!!\n",
    "x0, y0, sensors, icells = create_sensors(grid3_sensors, POSZ=POSZ, THDEG=THETA, PHDEG=PHI, FOV=0., LOC='ATMOS',\n",
    "                                         CELL_SIZE=grid3_sensors.xgrid[1]-grid3_sensors.xgrid[0], grid3D_atm=grid3)\n",
    "\n",
    "# Sun position\n",
    "THETA_0    = 40.\n",
    "PHI_0    = 180. \n",
    "le     = {'th_deg':np.array([THETA_0]), 'phi_deg':np.array([PHI_0]), 'count_level':np.array([0])}#, 'zip':True}\n",
    "\n",
    "if FIND_OPTIMAL_XB_XG:\n",
    "    k_time = np.inf\n",
    "    for xgrid in XG:\n",
    "        for xblock in XB:\n",
    "                m_test = S3DB.run(wl=pro3D3_C2_atm.axes['wavelength'], NBPHOTONS=CHECK_NBPHOTONS, NBLOOP=CHECK_NBLOOP, atm=pro3D3_C2_atm,\n",
    "                                sensor=sensors, le=le, surf=surf_C2, NF=NTH, XBLOCK = xblock, XGRID = xgrid, progress=False, stdev=True, DEPO=0)\n",
    "                if float(m_test.attrs['kernel time (s)']) < k_time:\n",
    "                    k_time = float(m_test.attrs['kernel time (s)'])\n",
    "                    best_xb = xblock\n",
    "                    best_xg = xgrid\n",
    "                print(\"time (s) =\", m_test.attrs['kernel time (s)'], \"; xblock =\", xblock, \"; xgrid =\", xgrid)\n",
    "    print(\"\\n\\nBest xblock =\", best_xb, \" : best xgrid =\", best_xg)\n",
    "    xBLOCK = best_xb\n",
    "    xGRID = best_xg\n",
    "else:\n",
    "    xBLOCK = XBLOCK\n",
    "    xGRID = XGRID\n",
    "\n",
    "m3D_C2_8_atm = S3DB.run(wl=pro3D3_C2_atm.axes['wavelength'], NBPHOTONS=1e9, NBLOOP=NBLOOP, atm=pro3D3_C2_atm,\n",
    "                          sensor=sensors, le=le, surf=surf_C2, NF=NTH, XBLOCK = xBLOCK, XGRID = xGRID, stdev=True, DEPO=0)\n",
    "norm_C2_8_atm = np.cos(np.radians(THETA_0))/np.pi\n",
    "print(\"kernel time (s) =\", \"{:.2f}\".format(float(m3D_C2_8_atm.attrs['kernel time (s)'])))"
   ]
  },
  {
   "cell_type": "markdown",
   "metadata": {},
   "source": [
    "##### Results"
   ]
  },
  {
   "cell_type": "code",
   "execution_count": null,
   "metadata": {},
   "outputs": [],
   "source": [
    "m = m3D_C2_8_atm\n",
    "norm = norm_C2_8_atm\n",
    "TCASE = int(8)\n",
    "\n",
    "print_C2_res_atm(m, norm, TCASE, grid3_sensors)"
   ]
  },
  {
   "cell_type": "markdown",
   "metadata": {},
   "source": [
    "#### Case 9"
   ]
  },
  {
   "cell_type": "markdown",
   "metadata": {},
   "source": [
    "##### Run"
   ]
  },
  {
   "cell_type": "code",
   "execution_count": null,
   "metadata": {},
   "outputs": [],
   "source": [
    "xgrid_sensors = np.linspace(0., 7., 71)*scale\n",
    "ygrid_sensors = np.linspace(0., 7., 71)*scale\n",
    "zgrid_sensors = np.array([0., 1., 2., 3., 4., 5.])*scale\n",
    "grid3_sensors = Grid3D(xgrid_sensors, ygrid_sensors, zgrid_sensors, periodic=True)\n",
    "\n",
    "# Placement of sensors\n",
    "POSZ = grid3_sensors.zGRID[-1]-1e-6*scale\n",
    "\n",
    "print(\"POSZ = \", POSZ)\n",
    "THETA = 140.\n",
    "PHI = 180.\n",
    "# !!!! grid3 is different than sensors grid !!!\n",
    "x0, y0, sensors, icells = create_sensors(grid3_sensors, POSZ=POSZ, THDEG=THETA, PHDEG=PHI, FOV=0., LOC='ATMOS',\n",
    "                                         CELL_SIZE=grid3_sensors.xgrid[1]-grid3_sensors.xgrid[0], grid3D_atm=grid3)\n",
    "\n",
    "# Sun position\n",
    "THETA_0    = 40.\n",
    "PHI_0    = 180. \n",
    "le     = {'th_deg':np.array([THETA_0]), 'phi_deg':np.array([PHI_0]), 'count_level':np.array([0])}#, 'zip':True}\n",
    "\n",
    "if FIND_OPTIMAL_XB_XG:\n",
    "    k_time = np.inf\n",
    "    for xgrid in XG:\n",
    "        for xblock in XB:\n",
    "                m_test = S3DB.run(wl=pro3D3_C2_atm.axes['wavelength'], NBPHOTONS=CHECK_NBPHOTONS, NBLOOP=CHECK_NBLOOP, atm=pro3D3_C2_atm,\n",
    "                                sensor=sensors, le=le, surf=surf_C2, NF=NTH, XBLOCK = xblock, XGRID = xgrid, progress=False, stdev=True, DEPO=0)\n",
    "                if float(m_test.attrs['kernel time (s)']) < k_time:\n",
    "                    k_time = float(m_test.attrs['kernel time (s)'])\n",
    "                    best_xb = xblock\n",
    "                    best_xg = xgrid\n",
    "                print(\"time (s) =\", m_test.attrs['kernel time (s)'], \"; xblock =\", xblock, \"; xgrid =\", xgrid)\n",
    "    print(\"\\n\\nBest xblock =\", best_xb, \" : best xgrid =\", best_xg)\n",
    "    xBLOCK = best_xb\n",
    "    xGRID = best_xg\n",
    "else:\n",
    "    xBLOCK = XBLOCK\n",
    "    xGRID = XGRID\n",
    "\n",
    "m3D_C2_9_atm = S3DB.run(wl=pro3D3_C2_atm.axes['wavelength'], NBPHOTONS=1e9, NBLOOP=NBLOOP, atm=pro3D3_C2_atm,\n",
    "                          sensor=sensors, le=le, surf=surf_C2, NF=NTH, XBLOCK = xBLOCK, XGRID = xGRID, stdev=True, DEPO=0)\n",
    "norm_C2_9_atm = np.cos(np.radians(THETA_0))/np.pi\n",
    "print(\"kernel time (s) =\", \"{:.2f}\".format(float(m3D_C2_9_atm.attrs['kernel time (s)'])))"
   ]
  },
  {
   "cell_type": "markdown",
   "metadata": {},
   "source": [
    "##### Results"
   ]
  },
  {
   "cell_type": "code",
   "execution_count": null,
   "metadata": {},
   "outputs": [],
   "source": [
    "m = m3D_C2_9_atm\n",
    "norm = norm_C2_9_atm\n",
    "TCASE = int(9)\n",
    "\n",
    "print_C2_res_atm(m, norm, TCASE, grid3_sensors)"
   ]
  },
  {
   "cell_type": "markdown",
   "metadata": {},
   "source": [
    "### Forward simulations"
   ]
  },
  {
   "cell_type": "markdown",
   "metadata": {},
   "source": [
    "#### Case 1 - 4"
   ]
  },
  {
   "cell_type": "markdown",
   "metadata": {},
   "source": [
    "##### Run"
   ]
  },
  {
   "cell_type": "code",
   "execution_count": null,
   "metadata": {},
   "outputs": [],
   "source": [
    "xgrid_sensors = np.linspace(0., 7., 71)*scale\n",
    "ygrid_sensors = np.linspace(0., 7., 71)*scale\n",
    "zgrid_sensors = np.array([0., 1., 2., 3., 4., 5.])*scale\n",
    "grid3_sensors = Grid3D(xgrid_sensors, ygrid_sensors, zgrid_sensors, periodic=True)\n",
    "\n",
    "# Placement of sensors\n",
    "POSZ = grid3_sensors.zGRID[-1]-1e-6\n",
    "\n",
    "print(\"POSZ = \", POSZ)\n",
    "\n",
    "# ======= Case 1 - 4\n",
    "    # Sun position\n",
    "THETA_0    = 20.\n",
    "PHI_0    = 180.\n",
    "\n",
    "THETA_0_bis = 180.- THETA_0\n",
    "PHI_0_bis = 180.- PHI_0\n",
    "\n",
    "# !!!! grid3 is different than sensors grid !!!\n",
    "x0, y0, sensors, icells = create_sensors(grid3_sensors, POSZ=POSZ, THDEG=THETA_0_bis, PHDEG=PHI_0_bis, FOV=0., LOC='ATMOS',\n",
    "                                        CELL_SIZE=grid3_sensors.xgrid[1]-grid3_sensors.xgrid[0], grid3D_atm=grid3)\n",
    "\n",
    "THETA = np.array([40., 40., 40., 40.])\n",
    "PHI = np.array([0., 60., 120., 180.])\n",
    "\n",
    "le     = {'th_deg':np.array(THETA),\n",
    "        'phi_deg':np.array(PHI+180.),\n",
    "        'count_level':np.array([1, 1, 1, 1]),\n",
    "        'zip':True}\n",
    "\n",
    "if FIND_OPTIMAL_XB_XG:\n",
    "    k_time = np.inf\n",
    "    for xgrid in XG:\n",
    "        for xblock in XB:\n",
    "                m_test = S3DF.run(THVDEG=THETA_0, PHVDEG=PHI_0, wl=pro3D3_C2_atm.axes['wavelength'],\n",
    "                                    NBPHOTONS=CHECK_NBPHOTONS, NBLOOP=CHECK_NBLOOP, atm=pro3D3_C2_atm,\n",
    "                                    sensor=sensors, le=le, surf=surf_C2, NF=NTH,\n",
    "                                    XBLOCK = xblock, XGRID = xgrid, progress=False,\n",
    "                                    OUTPUT_LAYERS=3, DEPO=0)\n",
    "                if float(m_test.attrs['kernel time (s)']) < k_time:\n",
    "                    k_time = float(m_test.attrs['kernel time (s)'])\n",
    "                    best_xb = xblock\n",
    "                    best_xg = xgrid\n",
    "                print(\"time (s) =\", m_test.attrs['kernel time (s)'], \"; xblock =\", xblock, \"; xgrid =\", xgrid)\n",
    "    print(\"\\n\\nBest xblock =\", best_xb, \" : best xgrid =\", best_xg)\n",
    "    xBLOCK = best_xb\n",
    "    xGRID = best_xg\n",
    "else:\n",
    "    xBLOCK = XBLOCK\n",
    "    xGRID = XGRID\n",
    "\n",
    "m3D_C2_1to4_F_atm = S3DF.run(THVDEG=THETA_0, wl=pro3D3_C2_atm.axes['wavelength'], NBPHOTONS=NBPHOTONS, NBLOOP=NBLOOP,\n",
    "                             atm=pro3D3_C2_atm, sensor=sensors, le=le, surf=surf_C2, NF=NTH,\n",
    "                             XBLOCK = xBLOCK, XGRID = xGRID, OUTPUT_LAYERS=3, DEPO=0)\n",
    "norm_C2_1to4_F_atm = np.cos(np.radians(THETA_0))/np.pi\n",
    "print(\"kernel time (s) =\", \"{:.2f}\".format(float(m3D_C2_1to4_F_atm.attrs['kernel time (s)'])))"
   ]
  },
  {
   "cell_type": "markdown",
   "metadata": {},
   "source": [
    "##### Results"
   ]
  },
  {
   "cell_type": "code",
   "execution_count": null,
   "metadata": {},
   "outputs": [],
   "source": [
    "m = m3D_C2_1to4_F_atm\n",
    "norm = norm_C2_1to4_F_atm\n",
    "for i in range (0, 4):\n",
    "    TCASE = int(i+1)\n",
    "    indZA = round(TCASE - 1)\n",
    "    print(\"TESTCASE:\", TCASE)\n",
    "    print_C2_res_atm(m, norm, TCASE, grid3_sensors, U_sign=-1, v_sign=1,\n",
    "                     mI=m['I_down (0+)'][:,indZA], mQ=m['Q_down (0+)'][:,indZA],\n",
    "                     mU=m['U_down (0+)'][:,indZA], mV=m['V_down (0+)'][:,indZA])"
   ]
  },
  {
   "cell_type": "markdown",
   "metadata": {},
   "source": [
    "#### Case 5 - 9"
   ]
  },
  {
   "cell_type": "markdown",
   "metadata": {},
   "source": [
    "##### Run"
   ]
  },
  {
   "cell_type": "code",
   "execution_count": null,
   "metadata": {},
   "outputs": [],
   "source": [
    "xgrid_sensors = np.linspace(0., 7., 71)*scale\n",
    "ygrid_sensors = np.linspace(0., 7., 71)*scale\n",
    "zgrid_sensors = np.array([0., 1., 2., 3., 4., 5.])*scale\n",
    "grid3_sensors = Grid3D(xgrid_sensors, ygrid_sensors, zgrid_sensors, periodic=True)\n",
    "\n",
    "# Placement of sensors\n",
    "POSZ = grid3_sensors.zGRID[-1]-1e-6\n",
    "\n",
    "print(\"POSZ = \", POSZ)\n",
    "\n",
    "# Sun position\n",
    "THETA_0    = 40.\n",
    "PHI_0    = 180.\n",
    "\n",
    "THETA_0_bis = 180.- THETA_0\n",
    "PHI_0_bis = 180.- PHI_0\n",
    "\n",
    "# !!!! grid3 is different than sensors grid !!!\n",
    "x0, y0, sensors, icells = create_sensors(grid3_sensors, POSZ=POSZ, THDEG=THETA_0_bis, PHDEG=PHI_0_bis, FOV=0., LOC='ATMOS',\n",
    "                                         CELL_SIZE=grid3_sensors.xgrid[1]-grid3_sensors.xgrid[0], grid3D_atm=grid3)\n",
    "\n",
    "THETA = np.array([180., 140., 140., 140., 140.])\n",
    "PHI = np.array([0., 0., 60., 120., 180.])\n",
    "\n",
    "le     = {'th_deg':np.array(180.-THETA),\n",
    "        'phi_deg':np.array(PHI+180.),\n",
    "        'count_level':np.array([0, 0, 0, 0, 0]),\n",
    "        'zip':True}\n",
    "\n",
    "if FIND_OPTIMAL_XB_XG:\n",
    "    k_time = np.inf\n",
    "    for xgrid in XG:\n",
    "        for xblock in XB:\n",
    "                m_test = S3DF.run(THVDEG=THETA_0, wl=pro3D3_C2_atm.axes['wavelength'],\n",
    "                                    NBPHOTONS=CHECK_NBPHOTONS, NBLOOP=CHECK_NBLOOP, atm=pro3D3_C2_atm,\n",
    "                                    sensor=sensors, le=le, surf=surf_C2, NF=NTH,\n",
    "                                    XBLOCK = xblock, XGRID = xgrid, progress=False,\n",
    "                                    OUTPUT_LAYERS=1, DEPO=0)\n",
    "                if float(m_test.attrs['kernel time (s)']) < k_time:\n",
    "                    k_time = float(m_test.attrs['kernel time (s)'])\n",
    "                    best_xb = xblock\n",
    "                    best_xg = xgrid\n",
    "                print(\"time (s) =\", m_test.attrs['kernel time (s)'], \"; xblock =\", xblock, \"; xgrid =\", xgrid)\n",
    "    print(\"\\n\\nBest xblock =\", best_xb, \" : best xgrid =\", best_xg)\n",
    "    xBLOCK = best_xb\n",
    "    xGRID = best_xg\n",
    "else:\n",
    "    xBLOCK = XBLOCK\n",
    "    xGRID = XGRID\n",
    "\n",
    "m3D_C2_5to9_F_atm = S3DF.run(THVDEG=THETA_0, wl=pro3D3_C2_atm.axes['wavelength'], NBPHOTONS=NBPHOTONS, NBLOOP=NBLOOP,\n",
    "                atm=pro3D3_C2_atm, sensor=sensors, le=le, surf=surf_C2, NF=NTH,\n",
    "                XBLOCK = xBLOCK, XGRID = xGRID, OUTPUT_LAYERS=1, DEPO=0)\n",
    "norm_C2_5to9_F_atm = np.cos(np.radians(THETA_0))/np.pi\n",
    "print(\"kernel time (s) =\", \"{:.2f}\".format(float(m3D_C2_5to9_F_atm.attrs['kernel time (s)'])))"
   ]
  },
  {
   "cell_type": "markdown",
   "metadata": {},
   "source": [
    "##### Results"
   ]
  },
  {
   "cell_type": "code",
   "execution_count": null,
   "metadata": {},
   "outputs": [],
   "source": [
    "m = m3D_C2_5to9_F_atm\n",
    "norm = norm_C2_5to9_F_atm\n",
    "for i in range (0, 5):\n",
    "    TCASE = int(i+5)\n",
    "    indZA = round(TCASE - 5)\n",
    "    print(\"TESTCASE:\", TCASE)\n",
    "    print_C2_res_atm(m, norm, TCASE, grid3_sensors, U_sign=-1, v_sign=1,\n",
    "                     mI=m['I_up (TOA)'][:,indZA], mQ=m['Q_up (TOA)'][:,indZA],\n",
    "                     mU=m['U_up (TOA)'][:,indZA], mV=m['V_up (TOA)'][:,indZA])"
   ]
  }
 ],
 "metadata": {
  "kernelspec": {
   "display_name": "base",
   "language": "python",
   "name": "python3"
  },
  "language_info": {
   "codemirror_mode": {
    "name": "ipython",
    "version": 3
   },
   "file_extension": ".py",
   "mimetype": "text/x-python",
   "name": "python",
   "nbconvert_exporter": "python",
   "pygments_lexer": "ipython3",
   "version": "3.11.9"
  }
 },
 "nbformat": 4,
 "nbformat_minor": 2
}
