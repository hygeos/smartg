{
 "cells": [
  {
   "cell_type": "markdown",
   "metadata": {},
   "source": [
    "# SMART-G validation of object surface roughness\n",
    "\n",
    "This is an interactive document allowing to run Smart-G with python and visualize the results. <br>\n",
    "*Tips*: cells can be executed with shift-enter. Tooltips can be obtained with shift-tab. More information [here](http://ipython.org/notebook.html) or in the help menu. [A table of content can also be added](https://github.com/minrk/ipython_extensions#table-of-contents)."
   ]
  },
  {
   "cell_type": "markdown",
   "metadata": {},
   "source": [
    "## Initialisation"
   ]
  },
  {
   "cell_type": "code",
   "execution_count": null,
   "metadata": {},
   "outputs": [],
   "source": [
    "%pylab inline\n",
    "# next 2 lines allow to automatically reload modules that have been changed externally\n",
    "%reload_ext autoreload\n",
    "%autoreload 2\n",
    "from __future__ import absolute_import, division, print_function\n",
    "import os, sys\n",
    "sys.path.insert(0, os.path.dirname(os.getcwd()))\n",
    "from smartg.smartg import Smartg\n",
    "from smartg.smartg import RoughSurface\n",
    "from smartg.atmosphere import AtmAFGL\n",
    "# from smartg.tools.luts import LUT, MLUT, Idx, merge, read_mlut\n",
    "from luts.luts import Idx\n",
    "from smartg.tools.smartg_view import smartg_view\n",
    "# from ipywidgets import interact, interact_manual\n",
    "from matplotlib import colors\n",
    "colors_ = list(six.iteritems(colors.cnames))\n",
    "\n",
    "import smartg.geometry\n",
    "from smartg.geometry import Point\n",
    "import smartg.visualizegeo\n",
    "from smartg.visualizegeo import receiver_view, cat_view, Mirror, Plane, Transformation, \\\n",
    "    Entity, Analyse_create_entity, Matte, generateHfP, generateHfA\n",
    "from smartg.smartg import CusForward\n",
    "import warnings\n",
    "warnings.filterwarnings(\"ignore\")"
   ]
  },
  {
   "cell_type": "markdown",
   "metadata": {},
   "source": [
    "## Cox and Munk\n",
    "\n",
    "This part is a copy from paper-smartg-figure-2018"
   ]
  },
  {
   "cell_type": "code",
   "execution_count": null,
   "metadata": {},
   "outputs": [],
   "source": [
    "from scipy.special import erfc\n",
    "def Fresnel(thetai, NW=1.33):\n",
    "    thetat = np.arcsin(sin(thetai)/NW)\n",
    "    rper   = (NW*np.cos(thetai)-np.cos(thetat))/(NW*np.cos(thetai)+np.cos(thetat))\n",
    "    rpar   = (np.cos(thetai)-NW*np.cos(thetat))/(np.cos(thetai)+NW*np.cos(thetat))\n",
    "    return rper**2, rpar**2\n",
    "\n",
    "def P(beta, WS=2.):\n",
    "    sig = sqrt(0.003 + 0.00512 *WS)\n",
    "    return exp(-np.tan(beta)**2/(sig**2))/(np.pi*sig**2)\n",
    "\n",
    "def Shadow(mus, muv, WS=2.):\n",
    "    sigp = sqrt(0.5)*sqrt(0.003 + 0.00512 *WS)\n",
    "    nus = 1/np.tan(np.arccos(mus))/sigp/sqrt(2.)\n",
    "    lambdaS = (np.exp(-nus**2) -nus*sqrt(np.pi)*erfc(nus))/(2*nus*sqrt(np.pi))\n",
    "    nuv = 1/np.tan(np.arccos(muv))/sigp/sqrt(2.)\n",
    "    lambdaV = (np.exp(-nuv**2) -nuv*sqrt(np.pi)*erfc(nuv))/(2*nuv*sqrt(np.pi))\n",
    "    return 1./(1.+lambdaS+lambdaV)\n",
    "\n",
    "def LambdaM(avz, sig2) :\n",
    "    #Mischenko implementation\n",
    "    if (avz == 1.) : l = 0.;\n",
    "    else :\n",
    "        s1 = np.sqrt(np.float64(2)*sig2/np.pi);\n",
    "        s3 = np.float64(1)/np.sqrt(np.float64(2)*sig2);\n",
    "        s2 = s3*s3;\n",
    "        xi = avz;\n",
    "        xxi=xi*xi;\n",
    "        dcot =  xi / np.sqrt(np.float64(1)-xxi);\n",
    "        t1 = np.exp(-dcot*dcot*s2);\n",
    "        t2 = erfc(dcot*s3);\n",
    "        l  = 0.5*(s1*t1/dcot-t2);\n",
    "    return l\n",
    "\n",
    "def Shadow2(mus, muv, WS=2.):\n",
    "    sigp = sqrt(0.5)*sqrt(0.003 + 0.00512 *WS)\n",
    "    return 1./(1.+LambdaM(mus,sigp*sigp)+LambdaM(muv,sigp*sigp))"
   ]
  },
  {
   "cell_type": "code",
   "execution_count": null,
   "metadata": {},
   "outputs": [],
   "source": [
    "def Glint(thetas, thetav, dphi, WS=2., SHADOW=False):\n",
    "    mus = cos(thetas*np.pi/180.)\n",
    "    muv = cos(thetav*np.pi/180.)\n",
    "    shadow = Shadow(mus,muv,WS=WS) if SHADOW else 1.\n",
    "    cosp= cos(dphi*np.pi/180.)\n",
    "    mu  = mus*muv + sqrt(1-mus**2)*sqrt(1-muv**2)*cosp\n",
    "    mub = (mus+muv)/(sqrt(2.+2*mu))\n",
    "    rho = np.pi*P(np.arccos(mub),WS=WS)/(4*mus*muv*mub**4) * shadow\n",
    "    rper, rpar= Fresnel(np.arccos(mu)/2.)\n",
    "    return rper*rho, rpar*rho"
   ]
  },
  {
   "cell_type": "code",
   "execution_count": null,
   "metadata": {},
   "outputs": [],
   "source": [
    "%%time\n",
    "Dphi=180.\n",
    "\n",
    "NBPHOTONS=1e5\n",
    "S=Smartg(double=True, back=False)\n",
    "th = np.concatenate((np.linspace(0.,80.,num=30), np.array([82.,84.,86.,88., 89.])),axis=0)\n",
    "fig,ax = subplots(2,3)\n",
    "ws_l=[2.,15.]\n",
    "color_l=['r','b']\n",
    "##########\n",
    "le={'th_deg':th}\n",
    "le.update(phi_deg=np.array([Dphi]))\n",
    "for it, (th0, line) in enumerate(zip([25., 70., 80.],['-','-','-'])):\n",
    "    for WS, color in zip(ws_l, color_l):\n",
    "        for shadow, sym in zip([True,False],['.','+']):\n",
    "            col = it\n",
    "            surf=RoughSurface(SUR=1,NH2O=1.33, WIND=WS, WAVE_SHADOW=shadow, SINGLE=True)\n",
    "            m=S.run(THVDEG=th0, NBPHOTONS=NBPHOTONS, surf=surf, wl=443., le=le, water=None, OUTPUT_LAYERS=3)\n",
    "            ax[0,col].plot(th,abs(m['I_up (0+)'].sub()[Idx(Dphi),:].data), sym, color=color)\n",
    "\n",
    "            Iper, Ipar = Glint(th0, th, Dphi, WS=WS, SHADOW=shadow)\n",
    "            ax[0,col].plot(th, abs(0.5*(Iper+Ipar)), line, color=color)            \n",
    "            ax[0,col].set_title(r'$\\theta_s$:%.0f'%th0)\n",
    "            if it==0:                \n",
    "                ax[0,col].set_ylim([0.001,2])\n",
    "                label=''\n",
    "            else : \n",
    "                if shadow:\n",
    "                    label = r'$w_s$= {0:.0f}m/s + wave shadows'.format(WS)\n",
    "                else :\n",
    "                    label = r'$w_s$= {0:.0f}m/s'.format(WS)\n",
    "                ax[0,col].set_ylim([0.001,100])\n",
    "            ax[1,col].plot(th,100* (abs(m['I_up (TOA)'].sub()[Idx(Dphi),:].data) - abs(0.5*(Iper+Ipar)))/abs(0.5*(Iper+Ipar)), \n",
    "                           sym+color, label=label)\n",
    "            ax[1,col].set_ylim([-1,1])\n",
    "            ax[1,col].set_xlabel(r'$\\theta_v$',fontsize=14)\n",
    "        ax[1,0].set_ylabel(r'$\\Delta (\\%)$',fontsize=14)\n",
    "        ax[0,0].set_ylabel(r'$\\rho_g$',fontsize=14)\n",
    "\n",
    "sca(ax[0,2])\n",
    "plot([0,6],[90,90],'.'+color_l[0])\n",
    "text(8,90,r'$w_s$= {0:.0f}m/s + wave shadows'.format(ws_l[0]), color=color_l[0])\n",
    "plot([0,6],[80,80],'+'+color_l[0])\n",
    "text(8,80,r'$w_s$= {0:.0f}m/s'.format(ws_l[0]), color=color_l[0])\n",
    "plot([0,6],[70,70],'.'+color_l[1])\n",
    "text(8,70,r'$w_s$= {0:.0f}m/s + wave shadows'.format(ws_l[1]), color=color_l[1])\n",
    "plot([0,6],[60,60],'+'+color_l[1])\n",
    "text(8,60,r'$w_s$= {0:.0f}m/s'.format(ws_l[1]), color=color_l[1])\n",
    "plot([0,6],[50,50],'-k')\n",
    "text(8,50,'BRDF', color='k')\n",
    "fig.set_size_inches(12,8)\n",
    "#fig.savefig('/home/did/RTC/SMART-G/notebooks/Validation_paper_smartg/2018_v2/glitter_single.png', dpi=600)\n",
    "#fig.savefig('/home/did/RTC/SMART-G/notebooks/Validation_paper_smartg/2018_v2/glitter.png', dpi=600)"
   ]
  },
  {
   "cell_type": "code",
   "execution_count": null,
   "metadata": {},
   "outputs": [],
   "source": [
    "# le={'th_deg':th}\n",
    "# Dphi = np.linspace(0,360, num=37)\n",
    "# le.update(phi_deg=np.array([Dphi]))\n",
    "surf=RoughSurface(SUR=1,NH2O=1.33, WIND=2, WAVE_SHADOW=False, SINGLE=True)\n",
    "m=S.run(THVDEG=25., NBPHOTONS=NBPHOTONS*1000, atm = AtmAFGL('afglms', tauR=1e-19), NBPHI=90, NBTHETA=900,\n",
    "        surf=surf, wl=443., le=None, water=None, OUTPUT_LAYERS=3)"
   ]
  },
  {
   "cell_type": "code",
   "execution_count": null,
   "metadata": {},
   "outputs": [],
   "source": [
    "_=smartg_view(m, QU=True, ind=Idx([0, 10]))"
   ]
  },
  {
   "cell_type": "markdown",
   "metadata": {},
   "source": [
    "## Replication of Cox and Munk with a plane object at BOA"
   ]
  },
  {
   "cell_type": "code",
   "execution_count": null,
   "metadata": {},
   "outputs": [],
   "source": [
    "# Size of the plane (doesn't really matter since all rays target the point x=0,y=0,z=0)\n",
    "wMx = 1\n",
    "wMy = 1\n",
    "\n",
    "#relative refractive index air/water\n",
    "NH2O = 1.33\n",
    "\n",
    "# Parameter(alpha) for the slope error according to Cox and Munk, function of the speed of wind\n",
    "WINDSPEED02=2\n",
    "alpha02 = sqrt(0.003 + 0.00512*WINDSPEED02)\n",
    "\n",
    "# Distribution used for the microfacet model\n",
    "dist = \"Beckmann\"\n",
    "#dist = \"GGX\" # alpha GGX need to be modified compared to alpha beckmann\n",
    "\n",
    "# The plane created as a Mirror with roughness = alpha\n",
    "Mir02 = Entity(name = \"reflector\", \\\n",
    "               materialAV = Mirror(reflectivity = 1., roughness = alpha02, shadow = False,\\\n",
    "                                   nind = NH2O, distribution = dist), \\\n",
    "               materialAR = Matte(), \\\n",
    "               geo = Plane( p1 = Point(-wMx, -wMy, 0.),\n",
    "                            p2 = Point(wMx, -wMy, 0.),\n",
    "                            p3 = Point(-wMx, wMy, 0.),\n",
    "                            p4 = Point(wMx, wMy, 0.) ), \\\n",
    "               transformation = Transformation( rotation = np.array([0., 0., 0.]), \\\n",
    "                                                translation = np.array([0., 0., 0.]) ))\n",
    "\n",
    "# With consideration of Shadowing-Masking effect\n",
    "Mir02S = Entity(Mir02)\n",
    "Mir02S.materialAV = Mirror(reflectivity = 1., roughness = alpha02, shadow = True, nind = NH2O, \\\n",
    "                           distribution = dist)\n",
    "\n",
    "# The same but with a wind speed equal 15 m/s\n",
    "WINDSPEED15=15\n",
    "alpha15 = sqrt(0.003 + 0.00512*WINDSPEED15)\n",
    "\n",
    "Mir15 = Entity(Mir02); Mir15S = Entity(Mir02);\n",
    "Mir15.materialAV = Mirror(reflectivity = 1., roughness = alpha15, shadow = False, nind = NH2O, \n",
    "                          distribution = dist)\n",
    "Mir15S.materialAV = Mirror(reflectivity = 1., roughness = alpha15, shadow = True, nind = NH2O, \\\n",
    "                           distribution = dist)"
   ]
  },
  {
   "cell_type": "markdown",
   "metadata": {},
   "source": [
    "### Solar zenith angle = 25 degrees"
   ]
  },
  {
   "cell_type": "code",
   "execution_count": null,
   "metadata": {},
   "outputs": [],
   "source": [
    "m1 = Smartg(double = True, obj3D = True).run( surf = None, atm = AtmAFGL('afglms', tauR=1e-19),\n",
    "    THVDEG=25., wl=443., NBPHOTONS=1e8, NBPHI=90, NBTHETA=900, IsAtm = 0,\n",
    "    myObjects=[Mir02], water = None, OUTPUT_LAYERS=3)"
   ]
  },
  {
   "cell_type": "code",
   "execution_count": null,
   "metadata": {},
   "outputs": [],
   "source": [
    "_=smartg_view(m1, QU=True, ind=Idx([0, 10])) # 2 m/s"
   ]
  },
  {
   "cell_type": "code",
   "execution_count": null,
   "metadata": {},
   "outputs": [],
   "source": [
    "m2 = Smartg(double = True, obj3D = True).run( surf = None, atm = AtmAFGL('afglms', tauR=1e-19),\n",
    "    THVDEG=25., wl=443., NBPHOTONS=1e8, NBPHI=90, NBTHETA=900, IsAtm = 0,\n",
    "    myObjects=[Mir02S], water = None, OUTPUT_LAYERS=3)"
   ]
  },
  {
   "cell_type": "code",
   "execution_count": null,
   "metadata": {},
   "outputs": [],
   "source": [
    "_=smartg_view(m2, QU=True, ind=Idx([0, 10])) # 2 m/s + shadow"
   ]
  },
  {
   "cell_type": "code",
   "execution_count": null,
   "metadata": {},
   "outputs": [],
   "source": [
    "m3 = Smartg(double = True, obj3D = True).run( surf = None, atm = AtmAFGL('afglms', tauR=1e-19),\n",
    "    THVDEG=25., wl=443., NBPHOTONS=1e8, NBPHI=90, NBTHETA=900, IsAtm = 0,\n",
    "    myObjects=[Mir15], water = None, OUTPUT_LAYERS=3)"
   ]
  },
  {
   "cell_type": "code",
   "execution_count": null,
   "metadata": {},
   "outputs": [],
   "source": [
    "_=smartg_view(m3, QU=True, ind=Idx([0, 10])) # 15 m/s"
   ]
  },
  {
   "cell_type": "code",
   "execution_count": null,
   "metadata": {},
   "outputs": [],
   "source": [
    "m4 = Smartg(double = True, obj3D = True).run( surf = None, atm = AtmAFGL('afglms', tauR=1e-19),\n",
    "    THVDEG=25., wl=443., NBPHOTONS=1e8, NBPHI=90, NBTHETA=900, IsAtm = 1,\n",
    "    myObjects=[Mir15S], water = None, OUTPUT_LAYERS=3)"
   ]
  },
  {
   "cell_type": "code",
   "execution_count": null,
   "metadata": {},
   "outputs": [],
   "source": [
    "_=smartg_view(m4, QU=True, ind=Idx([0, 10])) # 15 m/s + shadow"
   ]
  },
  {
   "cell_type": "markdown",
   "metadata": {},
   "source": [
    "### Solar zenith angle = 70 degrees"
   ]
  },
  {
   "cell_type": "code",
   "execution_count": null,
   "metadata": {},
   "outputs": [],
   "source": [
    "m5 = Smartg(double = True, obj3D = True).run( surf = None, atm = AtmAFGL('afglms', tauR=1e-19),\n",
    "    THVDEG=70., wl=443., NBPHOTONS=1e8, NBPHI=90, NBTHETA=900, IsAtm = 0,\n",
    "    myObjects=[Mir02], water = None, OUTPUT_LAYERS=3)"
   ]
  },
  {
   "cell_type": "code",
   "execution_count": null,
   "metadata": {},
   "outputs": [],
   "source": [
    "_=smartg_view(m5, QU=True, ind=Idx([0, 10])) # 2 m/s"
   ]
  },
  {
   "cell_type": "code",
   "execution_count": null,
   "metadata": {},
   "outputs": [],
   "source": [
    "m6 = Smartg(double = True, obj3D = True).run( surf = None, atm = AtmAFGL('afglms', tauR=1e-19),\n",
    "    THVDEG=70., wl=443., NBPHOTONS=1e8, NBPHI=90, NBTHETA=900, IsAtm = 0,\n",
    "    myObjects=[Mir02S], water = None, OUTPUT_LAYERS=3)"
   ]
  },
  {
   "cell_type": "code",
   "execution_count": null,
   "metadata": {},
   "outputs": [],
   "source": [
    "_=smartg_view(m6, QU=True, ind=Idx([0, 10])) # 2 m/s + shadow"
   ]
  },
  {
   "cell_type": "code",
   "execution_count": null,
   "metadata": {},
   "outputs": [],
   "source": [
    "m7 = Smartg(double = True, obj3D = True).run( surf = None, atm = AtmAFGL('afglms', tauR=1e-19),\n",
    "    THVDEG=70., wl=443., NBPHOTONS=1e8, NBPHI=90, NBTHETA=900, IsAtm = 0,\n",
    "    myObjects=[Mir15], water = None, OUTPUT_LAYERS=3)"
   ]
  },
  {
   "cell_type": "code",
   "execution_count": null,
   "metadata": {},
   "outputs": [],
   "source": [
    "_=smartg_view(m7, QU=True, ind=Idx([0, 10])) # 15 m/s"
   ]
  },
  {
   "cell_type": "code",
   "execution_count": null,
   "metadata": {},
   "outputs": [],
   "source": [
    "m8 = Smartg(double = True, obj3D = True).run( surf = None, atm = AtmAFGL('afglms', tauR=1e-19),\n",
    "    THVDEG=70., wl=443., NBPHOTONS=1e8, NBPHI=90, NBTHETA=900, IsAtm = 0,\n",
    "    myObjects=[Mir15S], water = None, OUTPUT_LAYERS=3)"
   ]
  },
  {
   "cell_type": "code",
   "execution_count": null,
   "metadata": {},
   "outputs": [],
   "source": [
    "_=smartg_view(m8, QU=True, ind=Idx([0, 10])) # 15 m/s + shadow"
   ]
  },
  {
   "cell_type": "markdown",
   "metadata": {},
   "source": [
    "### Solar zenith angle = 80 degrees"
   ]
  },
  {
   "cell_type": "code",
   "execution_count": null,
   "metadata": {},
   "outputs": [],
   "source": [
    "m9 = Smartg(double = True, obj3D = True).run( surf = None, atm = AtmAFGL('afglms', tauR=1e-19),\n",
    "    THVDEG=80., wl=443., NBPHOTONS=1e8, NBPHI=90, NBTHETA=900, IsAtm = 0,\n",
    "    myObjects=[Mir02], water = None, OUTPUT_LAYERS=3)"
   ]
  },
  {
   "cell_type": "code",
   "execution_count": null,
   "metadata": {},
   "outputs": [],
   "source": [
    "_=smartg_view(m9, QU=True, ind=Idx([0, 10])) # 2 m/s"
   ]
  },
  {
   "cell_type": "code",
   "execution_count": null,
   "metadata": {},
   "outputs": [],
   "source": [
    "m10 = Smartg(double = True, obj3D = True).run( surf = None, atm = AtmAFGL('afglms', tauR=1e-19),\n",
    "    THVDEG=80., wl=443., NBPHOTONS=1e8, NBPHI=90, NBTHETA=900, IsAtm = 0,\n",
    "    myObjects=[Mir02S], water = None, OUTPUT_LAYERS=3)"
   ]
  },
  {
   "cell_type": "code",
   "execution_count": null,
   "metadata": {},
   "outputs": [],
   "source": [
    "_=smartg_view(m10, QU=True, ind=Idx([0, 10])) # 2 m/s + shadow"
   ]
  },
  {
   "cell_type": "code",
   "execution_count": null,
   "metadata": {},
   "outputs": [],
   "source": [
    "m11 = Smartg(double = True, obj3D = True).run( surf = None, atm = AtmAFGL('afglms', tauR=1e-19),\n",
    "    THVDEG=80., wl=443., NBPHOTONS=1e8, NBPHI=90, NBTHETA=900, IsAtm = 0,\n",
    "    myObjects=[Mir15], water = None, OUTPUT_LAYERS=3)"
   ]
  },
  {
   "cell_type": "code",
   "execution_count": null,
   "metadata": {},
   "outputs": [],
   "source": [
    "_=smartg_view(m11, QU=True, ind=Idx([0, 10])) # 15 m/s"
   ]
  },
  {
   "cell_type": "code",
   "execution_count": null,
   "metadata": {},
   "outputs": [],
   "source": [
    "m12 = Smartg(double = True, obj3D = True).run( surf = None, atm = AtmAFGL('afglms', tauR=1e-19),\n",
    "    THVDEG=80., wl=443., NBPHOTONS=1e8, NBPHI=90, NBTHETA=900, IsAtm = 0,\n",
    "    myObjects=[Mir15S], water = None, OUTPUT_LAYERS=3)"
   ]
  },
  {
   "cell_type": "code",
   "execution_count": null,
   "metadata": {},
   "outputs": [],
   "source": [
    "_=smartg_view(m11, QU=True, ind=Idx([0, 10])) # 15 m/s + shadow"
   ]
  },
  {
   "cell_type": "code",
   "execution_count": null,
   "metadata": {},
   "outputs": [],
   "source": []
  }
 ],
 "metadata": {
  "kernelspec": {
   "display_name": "Python [conda env:py3-v1.0]",
   "language": "python",
   "name": "conda-env-py3-v1.0-py"
  },
  "language_info": {
   "codemirror_mode": {
    "name": "ipython",
    "version": 3
   },
   "file_extension": ".py",
   "mimetype": "text/x-python",
   "name": "python",
   "nbconvert_exporter": "python",
   "pygments_lexer": "ipython3",
   "version": "3.6.6"
  }
 },
 "nbformat": 4,
 "nbformat_minor": 2
}
