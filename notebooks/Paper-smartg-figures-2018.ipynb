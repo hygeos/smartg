{
 "cells": [
  {
   "cell_type": "markdown",
   "metadata": {
    "toc": "true"
   },
   "source": [
    "# Table of Contents\n",
    " <p><div class=\"lev1 toc-item\"><a href=\"#Rayleigh-scattering--unbiased-sampling-:-Natraj-benchmark\" data-toc-modified-id=\"Rayleigh-scattering--unbiased-sampling-:-Natraj-benchmark-1\"><span class=\"toc-item-num\">1&nbsp;&nbsp;</span>Rayleigh scattering  unbiased sampling : Natraj benchmark</a></div><div class=\"lev2 toc-item\"><a href=\"#Define-functions-&amp;-Read-data\" data-toc-modified-id=\"Define-functions-&amp;-Read-data-11\"><span class=\"toc-item-num\">1.1&nbsp;&nbsp;</span>Define functions &amp; Read data</a></div><div class=\"lev2 toc-item\"><a href=\"#Select-test-case-&amp;-run\" data-toc-modified-id=\"Select-test-case-&amp;-run-12\"><span class=\"toc-item-num\">1.2&nbsp;&nbsp;</span>Select test case &amp; run</a></div><div class=\"lev2 toc-item\"><a href=\"#Code-version\" data-toc-modified-id=\"Code-version-13\"><span class=\"toc-item-num\">1.3&nbsp;&nbsp;</span>Code version</a></div><div class=\"lev2 toc-item\"><a href=\"#Compare\" data-toc-modified-id=\"Compare-14\"><span class=\"toc-item-num\">1.4&nbsp;&nbsp;</span>Compare</a></div><div class=\"lev1 toc-item\"><a href=\"#Scattering-biased-sampling-:-Kokhanovsky-et-al.-benchmarks\" data-toc-modified-id=\"Scattering-biased-sampling-:-Kokhanovsky-et-al.-benchmarks-2\"><span class=\"toc-item-num\">2&nbsp;&nbsp;</span>Scattering biased sampling : Kokhanovsky et al. benchmarks</a></div><div class=\"lev2 toc-item\"><a href=\"#Rayleigh\" data-toc-modified-id=\"Rayleigh-21\"><span class=\"toc-item-num\">2.1&nbsp;&nbsp;</span>Rayleigh</a></div><div class=\"lev3 toc-item\"><a href=\"#Define-functions-&amp;-Read-data\" data-toc-modified-id=\"Define-functions-&amp;-Read-data-211\"><span class=\"toc-item-num\">2.1.1&nbsp;&nbsp;</span>Define functions &amp; Read data</a></div><div class=\"lev3 toc-item\"><a href=\"#Select-test-case-&amp;-run\" data-toc-modified-id=\"Select-test-case-&amp;-run-212\"><span class=\"toc-item-num\">2.1.2&nbsp;&nbsp;</span>Select test case &amp; run</a></div><div class=\"lev3 toc-item\"><a href=\"#Compare\" data-toc-modified-id=\"Compare-213\"><span class=\"toc-item-num\">2.1.3&nbsp;&nbsp;</span>Compare</a></div><div class=\"lev2 toc-item\"><a href=\"#Aerosols\" data-toc-modified-id=\"Aerosols-22\"><span class=\"toc-item-num\">2.2&nbsp;&nbsp;</span>Aerosols</a></div><div class=\"lev3 toc-item\"><a href=\"#Define-functions-&amp;-Read-data\" data-toc-modified-id=\"Define-functions-&amp;-Read-data-221\"><span class=\"toc-item-num\">2.2.1&nbsp;&nbsp;</span>Define functions &amp; Read data</a></div><div class=\"lev3 toc-item\"><a href=\"#Select-test-case\" data-toc-modified-id=\"Select-test-case-222\"><span class=\"toc-item-num\">2.2.2&nbsp;&nbsp;</span>Select test case</a></div><div class=\"lev3 toc-item\"><a href=\"#Run-Local-Estimate\" data-toc-modified-id=\"Run-Local-Estimate-223\"><span class=\"toc-item-num\">2.2.3&nbsp;&nbsp;</span>Run Local Estimate</a></div><div class=\"lev3 toc-item\"><a href=\"#Compare\" data-toc-modified-id=\"Compare-224\"><span class=\"toc-item-num\">2.2.4&nbsp;&nbsp;</span>Compare</a></div><div class=\"lev2 toc-item\"><a href=\"#Cloud\" data-toc-modified-id=\"Cloud-23\"><span class=\"toc-item-num\">2.3&nbsp;&nbsp;</span>Cloud</a></div><div class=\"lev3 toc-item\"><a href=\"#Define-functions-&amp;-Read-data\" data-toc-modified-id=\"Define-functions-&amp;-Read-data-231\"><span class=\"toc-item-num\">2.3.1&nbsp;&nbsp;</span>Define functions &amp; Read data</a></div><div class=\"lev3 toc-item\"><a href=\"#Select-test-case\" data-toc-modified-id=\"Select-test-case-232\"><span class=\"toc-item-num\">2.3.2&nbsp;&nbsp;</span>Select test case</a></div><div class=\"lev3 toc-item\"><a href=\"#Run-Local-Estimate\" data-toc-modified-id=\"Run-Local-Estimate-233\"><span class=\"toc-item-num\">2.3.3&nbsp;&nbsp;</span>Run Local Estimate</a></div><div class=\"lev3 toc-item\"><a href=\"#Compare\" data-toc-modified-id=\"Compare-234\"><span class=\"toc-item-num\">2.3.4&nbsp;&nbsp;</span>Compare</a></div><div class=\"lev1 toc-item\"><a href=\"#Atmosphere-Glitter:-IRS--IPRT-Test-case-A6\" data-toc-modified-id=\"Atmosphere-Glitter:-IRS--IPRT-Test-case-A6-3\"><span class=\"toc-item-num\">3&nbsp;&nbsp;</span>Atmosphere-Glitter: IRS- IPRT Test case A6</a></div><div class=\"lev2 toc-item\"><a href=\"#Define-functions-&amp;-Read-data\" data-toc-modified-id=\"Define-functions-&amp;-Read-data-31\"><span class=\"toc-item-num\">3.1&nbsp;&nbsp;</span>Define functions &amp; Read data</a></div><div class=\"lev2 toc-item\"><a href=\"#Select-test-case-and-run\" data-toc-modified-id=\"Select-test-case-and-run-32\"><span class=\"toc-item-num\">3.2&nbsp;&nbsp;</span>Select test case and run</a></div><div class=\"lev3 toc-item\"><a href=\"#with-wave-facet-sampling\" data-toc-modified-id=\"with-wave-facet-sampling-321\"><span class=\"toc-item-num\">3.2.1&nbsp;&nbsp;</span>with wave facet sampling</a></div><div class=\"lev3 toc-item\"><a href=\"#with-BRDF-sampling\" data-toc-modified-id=\"with-BRDF-sampling-322\"><span class=\"toc-item-num\">3.2.2&nbsp;&nbsp;</span>with BRDF sampling</a></div><div class=\"lev1 toc-item\"><a href=\"#Atmosphere-Glitter-Ocean-:-Examples\" data-toc-modified-id=\"Atmosphere-Glitter-Ocean-:-Examples-4\"><span class=\"toc-item-num\">4&nbsp;&nbsp;</span>Atmosphere-Glitter-Ocean : Examples</a></div><div class=\"lev1 toc-item\"><a href=\"#Paper-SMART-G,-performance\" data-toc-modified-id=\"Paper-SMART-G,-performance-5\"><span class=\"toc-item-num\">5&nbsp;&nbsp;</span>Paper SMART-G, performance</a></div><div class=\"lev2 toc-item\"><a href=\"#One-Geometry,-Plane-Parallel,-LE,-Rayleigh,-in-single-precision,\" data-toc-modified-id=\"One-Geometry,-Plane-Parallel,-LE,-Rayleigh,-in-single-precision,-51\"><span class=\"toc-item-num\">5.1&nbsp;&nbsp;</span>One Geometry, Plane Parallel, LE, Rayleigh, in single precision,</a></div><div class=\"lev2 toc-item\"><a href=\"#One-Geometry,-Plane-Parallel,-LE,-full-simulation,-in-single-precision\" data-toc-modified-id=\"One-Geometry,-Plane-Parallel,-LE,-full-simulation,-in-single-precision-52\"><span class=\"toc-item-num\">5.2&nbsp;&nbsp;</span>One Geometry, Plane Parallel, LE, full simulation, in single precision</a></div><div class=\"lev2 toc-item\"><a href=\"#Variation-with-number-of-geometries,-PP-versus-spherical\" data-toc-modified-id=\"Variation-with-number-of-geometries,-PP-versus-spherical-53\"><span class=\"toc-item-num\">5.3&nbsp;&nbsp;</span>Variation with number of geometries, PP versus spherical</a></div><div class=\"lev2 toc-item\"><a href=\"#Variation-with-OT\" data-toc-modified-id=\"Variation-with-OT-54\"><span class=\"toc-item-num\">5.4&nbsp;&nbsp;</span>Variation with OT</a></div><div class=\"lev1 toc-item\"><a href=\"#Paper-SMART-G,-applications\" data-toc-modified-id=\"Paper-SMART-G,-applications-6\"><span class=\"toc-item-num\">6&nbsp;&nbsp;</span>Paper SMART-G, applications</a></div><div class=\"lev2 toc-item\"><a href=\"#Spherical-Shell-Atmosphere\" data-toc-modified-id=\"Spherical-Shell-Atmosphere-61\"><span class=\"toc-item-num\">6.1&nbsp;&nbsp;</span>Spherical Shell Atmosphere</a></div><div class=\"lev2 toc-item\"><a href=\"#Adjacency-effects\" data-toc-modified-id=\"Adjacency-effects-62\"><span class=\"toc-item-num\">6.2&nbsp;&nbsp;</span>Adjacency effects</a></div><div class=\"lev1 toc-item\"><a href=\"#Cox-and-Munk\" data-toc-modified-id=\"Cox-and-Munk-7\"><span class=\"toc-item-num\">7&nbsp;&nbsp;</span>Cox and Munk</a></div>"
   ]
  },
  {
   "cell_type": "markdown",
   "metadata": {
    "collapsed": true
   },
   "source": [
    "**Paper SMART-G, validation, 2018**"
   ]
  },
  {
   "cell_type": "code",
   "execution_count": null,
   "metadata": {
    "ExecuteTime": {
     "end_time": "2018-04-19T13:58:23.758703Z",
     "start_time": "2018-04-19T13:58:23.043988Z"
    },
    "scrolled": true
   },
   "outputs": [],
   "source": [
    "%pylab inline\n",
    "# next 2 lines allow to automatically reload modules that have been changed externally\n",
    "%reload_ext autoreload\n",
    "%autoreload 2\n",
    "from __future__ import absolute_import, division, print_function\n",
    "import os, sys\n",
    "sys.path.insert(0, os.path.dirname(os.getcwd()))\n",
    "from smartg.smartg import Smartg\n",
    "from smartg.smartg import RoughSurface, LambSurface, FlatSurface, Environment,  Sensor\n",
    "from smartg.albedo import Albedo_cst, Albedo_spectrum\n",
    "from smartg.atmosphere import AtmAFGL, AeroOPAC, CloudOPAC, diff1, read_phase\n",
    "from smartg.water import IOP_1, IOP\n",
    "from smartg.reptran import REPTRAN, reduce_reptran\n",
    "from smartg.kdis import KDIS, reduce_kdis\n",
    "from smartg.tools.tools import SpherIrr, Irr, reduce_Irr\n",
    "from smartg.tools.luts import LUT, MLUT, Idx, merge, read_mlut\n",
    "from smartg.tools.smartg_view import compare, plot_polar, smartg_view, input_view, phase_view, mdesc, transect_view\n",
    "from ipywidgets import interact, interact_manual\n",
    "from matplotlib import colors\n",
    "colors_ = list(six.iteritems(colors.cnames))"
   ]
  },
  {
   "cell_type": "markdown",
   "metadata": {},
   "source": [
    "# Rayleigh scattering  unbiased sampling : Natraj benchmark\n",
    "The benchmark result may be found  [here](https://authors.library.caltech.edu/27737/12/index.html):\n",
    "\n",
    "the reference is\n",
    "> Natraj, V., and J. W. Hovenier (2012), Polarized Light Reflected and Transmitted by Thick Rayleigh Scattering Atmospheres, Astrophys. J., 748(1), 28, doi: 10.1088/0004-637X/748/1/28."
   ]
  },
  {
   "cell_type": "markdown",
   "metadata": {},
   "source": [
    "## Define functions & Read data"
   ]
  },
  {
   "cell_type": "code",
   "execution_count": null,
   "metadata": {
    "ExecuteTime": {
     "end_time": "2018-04-19T13:58:45.670425Z",
     "start_time": "2018-04-19T13:58:30.830948Z"
    },
    "hide_input": false
   },
   "outputs": [],
   "source": [
    "def read_natraj():\n",
    "    \n",
    "    dir_natraj = \"../smartg/validation/Rayleigh_Slab_Natraj_2011/\"\n",
    "    tau = np.array([1,2,4,8,16,32,64,100,128,256,512,1024])\n",
    "    taus = list(map(lambda x : str(x), tau))\n",
    "    albedo = np.array([0.0, 0.25, 0.8])\n",
    "    mu0    = np.linspace(0.02, 1.0, num=50, endpoint=True)\n",
    "    mu     = np.linspace(0.0, 1.0, num=51, endpoint=True)\n",
    "    phi    = np.array([0, 30, 60, 90, 120, 150, 180])\n",
    "    phi2   = np.array([0, 30, 60, 90, 120, 150, 180, 210, 240, 270, 300, 330, 360])\n",
    "\n",
    "\n",
    "\n",
    "    mSvR = MLUT()\n",
    "    ths = np.arccos(mu0)*180./np.pi\n",
    "    thv = np.arccos(mu) *180./np.pi\n",
    "    mSvR.add_axis('Azimuth angles', phi2)\n",
    "    mSvR.add_axis('SZA', ths[::-1])\n",
    "    mSvR.add_axis('Zenith angles',thv[::-1])\n",
    "    mSvR.add_axis('alb',albedo)\n",
    "    mSvR.add_axis('tau',tau)\n",
    "    \n",
    "    #for (lev,lev2) in zip(['UP'],['up (TOA)']):\n",
    "    for (lev,lev2) in zip(['UP','DN'],['up (TOA)','down (0+)']):\n",
    "        I = np.full( (len(tau), len(albedo), len(mu0), len(phi2), len(mu) ), np.nan)\n",
    "        Q = np.full( (len(tau), len(albedo), len(mu0), len(phi2), len(mu) ), np.nan)\n",
    "        U = np.full( (len(tau), len(albedo), len(mu0), len(phi2), len(mu) ), np.nan)\n",
    "        \n",
    "        for itau in range(len(tau)):\n",
    "\n",
    "            f = open(dir_natraj+\"I_\"+lev+\"_TAU_%s\"%taus[itau])\n",
    "            f.readline()\n",
    "            f.readline()\n",
    "            f.readline()\n",
    "            f.readline()\n",
    "            for ialb in range(len(albedo)):\n",
    "                f.readline()\n",
    "                tmp  = f.readline()\n",
    "                if albedo[ialb]!=float(tmp.split(\"=\")[1]):\n",
    "                    print (\"Pb alb\")\n",
    "                    return        \n",
    "                f.readline()\n",
    "                for imu0 in range(len(mu0)):\n",
    "                    for imu in range(len(mu)):\n",
    "                        tmp = f.readline()\n",
    "                        for iphi in range(len(phi)):                    \n",
    "                            I[itau,ialb,imu0,iphi,imu] = tmp.split()[2+iphi]\n",
    "                            I[itau,ialb,imu0,-iphi-1,imu] = tmp.split()[2+iphi]\n",
    "            f.close()\n",
    "\n",
    "            f = open(dir_natraj+\"Q_\"+lev+\"_TAU_%s\"%taus[itau])\n",
    "            f.readline()\n",
    "            f.readline()\n",
    "            f.readline()\n",
    "            f.readline()\n",
    "            for ialb in range(len(albedo)):\n",
    "                f.readline()\n",
    "                tmp  = f.readline()\n",
    "                if albedo[ialb]!=float(tmp.split(\"=\")[1]):\n",
    "                    print (\"Pb alb\")\n",
    "                    return        \n",
    "                f.readline()\n",
    "                for imu0 in range(len(mu0)):\n",
    "                    for imu in range(len(mu)):\n",
    "                        tmp = f.readline()\n",
    "                        for iphi in range(len(phi)):                    \n",
    "                            Q[itau,ialb,imu0,iphi,imu] = tmp.split()[2+iphi] \n",
    "                            Q[itau,ialb,imu0,-iphi-1,imu] = tmp.split()[2+iphi] \n",
    "            f.close()\n",
    "\n",
    "            f = open(dir_natraj+\"U_\"+lev+\"_TAU_%s\"%taus[itau])\n",
    "            f.readline()\n",
    "            f.readline()\n",
    "            f.readline()\n",
    "            f.readline()\n",
    "            for ialb in range(len(albedo)):\n",
    "                f.readline()\n",
    "                tmp  = f.readline()\n",
    "                if albedo[ialb]!=float(tmp.split(\"=\")[1]):\n",
    "                    print (\"Pb alb\")\n",
    "                    return        \n",
    "                f.readline()\n",
    "                for imu0 in range(len(mu0)):\n",
    "                    for imu in range(len(mu)):\n",
    "                        tmp = f.readline()\n",
    "                        for iphi in range(len(phi)):                    \n",
    "                            U[itau,ialb,imu0,iphi,imu] = tmp.split()[2+iphi]\n",
    "                            U[itau,ialb,imu0,-iphi-1,imu] = tmp.split()[2+iphi]\n",
    "            f.close()\n",
    "\n",
    "\n",
    "        mSvR.add_dataset('I_'+lev2, I[:,:,::-1,:,::-1], [\"tau\",\"alb\",\"SZA\",\"Azimuth angles\",\"Zenith angles\"])\n",
    "        mSvR.add_dataset('Q_'+lev2, Q[:,:,::-1,:,::-1], [\"tau\",\"alb\",\"SZA\",\"Azimuth angles\",\"Zenith angles\"])\n",
    "        mSvR.add_dataset('U_'+lev2, U[:,:,::-1,:,::-1], [\"tau\",\"alb\",\"SZA\",\"Azimuth angles\",\"Zenith angles\"])\n",
    "        mSvR.add_dataset('V_'+lev2, np.zeros_like(I),   [\"tau\",\"alb\",\"SZA\",\"Azimuth angles\",\"Zenith angles\"])\n",
    "        mSvR.add_dataset('N_'+lev2, np.zeros_like(I),   [\"tau\",\"alb\",\"SZA\",\"Azimuth angles\",\"Zenith angles\"])\n",
    "\n",
    "    return mSvR \n",
    "\n",
    "natraj=read_natraj()\n",
    "natraj.describe()"
   ]
  },
  {
   "cell_type": "code",
   "execution_count": null,
   "metadata": {
    "ExecuteTime": {
     "end_time": "2018-04-19T13:58:50.281961Z",
     "start_time": "2018-04-19T13:58:50.125514Z"
    }
   },
   "outputs": [],
   "source": [
    "natraj.axis('tau')"
   ]
  },
  {
   "cell_type": "markdown",
   "metadata": {
    "hide_input": true
   },
   "source": [
    "## Select test case & run"
   ]
  },
  {
   "cell_type": "code",
   "execution_count": null,
   "metadata": {
    "ExecuteTime": {
     "end_time": "2018-04-19T13:59:12.414284Z",
     "start_time": "2018-04-19T13:59:01.410612Z"
    }
   },
   "outputs": [],
   "source": [
    "TAU = 4.\n",
    "THS = 60.\n",
    "DEPO= 0.\n",
    "atm = AtmAFGL('afglt', O3=0., NO2=False, tauR=TAU)\n",
    "\n",
    "ref = natraj.sub(d={'SZA':Idx(THS),'tau': Idx(TAU), 'alb':Idx(0),\n",
    "                    'Zenith angles': slice(0,-1,3),\n",
    "                    'Azimuth angles':slice(0,-1,3)})\n",
    "refn = MLUT()\n",
    "refn.add_axis('Zenith angles',  ref.axis('Zenith angles'))\n",
    "refn.add_axis('Azimuth angles', ref.axis('Azimuth angles'))\n",
    "for l in ref:\n",
    "    refn.add_lut(l/np.cos(THS*np.pi/180))\n",
    "\n",
    "le={}\n",
    "le.update(th_deg = refn.axis('Zenith angles'))\n",
    "le.update(phi_deg= refn.axis('Azimuth angles'))\n",
    "print(le)\n",
    "\n",
    "Pfu=Smartg(pp     = True, \n",
    "           back   = False, \n",
    "           bias   = False, # Unbiased sampling\n",
    "           double = True) "
   ]
  },
  {
   "cell_type": "code",
   "execution_count": null,
   "metadata": {
    "ExecuteTime": {
     "end_time": "2018-04-19T14:07:51.486355Z",
     "start_time": "2018-04-19T13:59:12.418356Z"
    }
   },
   "outputs": [],
   "source": [
    "%%time\n",
    "mvalid8 = Pfu.run(wl=320.,THVDEG=THS, DEPO=DEPO, atm=atm, le=le, NBPHOTONS=1e8, stdev=True, OUTPUT_LAYERS=0)"
   ]
  },
  {
   "cell_type": "code",
   "execution_count": null,
   "metadata": {
    "ExecuteTime": {
     "end_time": "2018-04-19T14:07:59.597416Z",
     "start_time": "2018-04-19T14:07:59.192478Z"
    }
   },
   "outputs": [],
   "source": [
    "TAU = 4.\n",
    "THS = 60.\n",
    "DEPO= 0.\n",
    "atm = AtmAFGL('afglt', O3=0., NO2=False, tauR=TAU)\n",
    "ref = natraj.sub(d={'SZA':Idx(THS),'tau': Idx(TAU), 'alb':Idx(0),\n",
    "                    'Zenith angles': slice(0,-1,3),\n",
    "                    'Azimuth angles':slice(0,-1,3)})\n",
    "refn = MLUT()\n",
    "refn.add_axis('Zenith angles',  ref.axis('Zenith angles'))\n",
    "refn.add_axis('Azimuth angles', ref.axis('Azimuth angles'))\n",
    "for l in ref:\n",
    "    refn.add_lut(l/np.cos(THS*np.pi/180))"
   ]
  },
  {
   "cell_type": "code",
   "execution_count": null,
   "metadata": {
    "ExecuteTime": {
     "end_time": "2018-04-19T14:07:59.183475Z",
     "start_time": "2018-04-19T14:07:52.343328Z"
    }
   },
   "outputs": [],
   "source": [
    "%%time\n",
    "mvalid6 = Pfu.run(wl=320.,THVDEG=THS, DEPO=DEPO, atm=atm, le=le, NBPHOTONS=1e6, stdev=True, OUTPUT_LAYERS=0)"
   ]
  },
  {
   "cell_type": "markdown",
   "metadata": {},
   "source": [
    "## Code version"
   ]
  },
  {
   "cell_type": "code",
   "execution_count": null,
   "metadata": {
    "ExecuteTime": {
     "end_time": "2018-04-19T14:08:05.776926Z",
     "start_time": "2018-04-19T14:08:05.648084Z"
    }
   },
   "outputs": [],
   "source": [
    "# Source code Commit number\n",
    "print(mvalid8.attrs['git_commit_ref'])"
   ]
  },
  {
   "cell_type": "markdown",
   "metadata": {},
   "source": [
    "## Compare"
   ]
  },
  {
   "cell_type": "code",
   "execution_count": null,
   "metadata": {
    "ExecuteTime": {
     "end_time": "2018-04-19T14:08:21.684263Z",
     "start_time": "2018-04-19T14:08:19.009541Z"
    }
   },
   "outputs": [],
   "source": [
    "vmin=  [0.5, -0.3 , -0.5, 0]\n",
    "vmax=  [1.5,  0.3 ,  0., 100]\n",
    "emax=  [5e-4, 5e-4, 5e-4, 0.1]\n",
    "ermax= [.05, .1, .1, .1]\n",
    "h=compare(mvalid8, refn, Nparam=4, vmax=vmax, vmin=vmin, emax=emax, ermax=ermax, U_sign=+1,\n",
    "          errb=True, logI=False, same_azimuth_convention=False, field='up (TOA)')"
   ]
  },
  {
   "cell_type": "code",
   "execution_count": null,
   "metadata": {
    "ExecuteTime": {
     "end_time": "2018-04-19T14:09:15.090308Z",
     "start_time": "2018-04-19T14:09:11.969010Z"
    }
   },
   "outputs": [],
   "source": [
    "h.savefig('/home/did/RTC/SMART-G/notebooks/Validation_paper_smartg/2018/natraj_ray1e8.png', dpi=300)"
   ]
  },
  {
   "cell_type": "code",
   "execution_count": null,
   "metadata": {
    "ExecuteTime": {
     "end_time": "2018-04-19T14:09:35.699492Z",
     "start_time": "2018-04-19T14:09:33.076828Z"
    }
   },
   "outputs": [],
   "source": [
    "vmin=  [0.5, -0.3 , -0.5, 0]\n",
    "vmax=  [1.5,  0.3 ,  0., 100]\n",
    "emax=  [2e-3, 2e-3, 2e-3, 0.2]\n",
    "ermax= [.25, .5, .5, .5]\n",
    "h=compare(mvalid6, refn, Nparam=4, vmax=vmax, vmin=vmin, emax=emax, ermax=ermax, U_sign=+1,\n",
    "          errb=True, logI=False, same_azimuth_convention=False, field='up (TOA)')"
   ]
  },
  {
   "cell_type": "markdown",
   "metadata": {},
   "source": [
    "# Scattering biased sampling : Kokhanovsky et al. benchmarks\n",
    "\n",
    "This code enables testing the Kokhanovsky pure Rayleigh, Aerosols and Cloud\n",
    "the reference is\n",
    "> Kokhanovsky, Alexander A and Budak, Vladimir P and Cornet, Celine and Duan, Minzheng and Emde, Claudia and Katsev, Iosif L and Klyukov, Dmitriy A and Korkin, Sergey V and C-Labonnote, L and Mayer, Bernhard (2010)\n",
    "Benchmark results in vector atmospheric radiative transfer, *Journal of Quantitative Spectroscopy and Radiative Transfer*,111, pp1931-1946.\n",
    "(http://linkinghub.elsevier.com/retrieve/pii/S0022407310000919) "
   ]
  },
  {
   "cell_type": "markdown",
   "metadata": {},
   "source": [
    "## Rayleigh"
   ]
  },
  {
   "cell_type": "markdown",
   "metadata": {},
   "source": [
    "### Define functions & Read data"
   ]
  },
  {
   "cell_type": "code",
   "execution_count": null,
   "metadata": {
    "ExecuteTime": {
     "end_time": "2018-04-19T08:55:15.156732Z",
     "start_time": "2018-04-19T08:55:12.251726Z"
    },
    "hide_input": false,
    "init_cell": true,
    "run_control": {
     "marked": false
    },
    "scrolled": true
   },
   "outputs": [],
   "source": [
    "def compare_kokha(mlut, mref, field='up (TOA)',errb=False, logI=False,\n",
    "                  Nparam=4, vmax=None, vmin=None, emax=None, ermax=None, same_convention=False):\n",
    "    from pylab import subplots, setp\n",
    "    if vmax is None : vmax=[0.1]*Nparam \n",
    "    if vmin is None : vmin=[-0.1]*Nparam \n",
    "    if emax is None : emax=[0.1]*Nparam\n",
    "    if ermax is None : ermax=[0.1]*Nparam\n",
    "    stokesT = ['I','Q','U','V']\n",
    "    stokes=stokesT[:Nparam-1]\n",
    "    signT = [1,1,-1,-1,1] # sign convention for first half space\n",
    "    #signT = [1,1,1,-1,1] # sign convention for first half space\n",
    "    sign=signT[:Nparam-1]+[1]\n",
    "    fig,ax = subplots(3,Nparam, sharey=False,sharex=True)\n",
    "    fig.set_size_inches(Nparam*3,10)\n",
    "    fig.set_dpi=600\n",
    "    N = mlut['N' + '_' + field]\n",
    "    Pre = (1./N).apply(sqrt)\n",
    "    epsilon=1e-6\n",
    "    \n",
    "    \n",
    "    for i in range(Nparam):\n",
    "        if i!=Nparam-1 :\n",
    "            S = mlut[stokes[i] + '_' + field]\n",
    "            if S.names.index('Azimuth angles') == 0: th = S.axes[1]   \n",
    "            else: th = S.axes[0]\n",
    "            Sref = mref[stokes[i] + '_' + field]\n",
    "            S.desc = mdesc(S.desc)\n",
    "            E = mlut[stokes[i] + '_' + 'stdev' + '_' + field]\n",
    "            if logI and stokes[i]=='I':\n",
    "                S=S.apply(np.log10)\n",
    "                Sref=Sref.apply(np.log10)\n",
    "                S.desc=r'$log_{10}$ '+S.desc\n",
    "        else:\n",
    "            I=mlut['I' + '_' + field]\n",
    "            Q=mlut['Q' + '_' + field]\n",
    "            U=mlut['U' + '_' + field]\n",
    "            \n",
    "            dI=mlut['I' + '_' + 'stdev' + '_' + field]\n",
    "            dQ=mlut['Q' + '_' + 'stdev' + '_' + field]\n",
    "            dU=mlut['U' + '_' + 'stdev' + '_' + field]\n",
    "            Ip= ((Q*Q+U*U).apply(np.sqrt))\n",
    "            dIp= ((dQ*dQ+dU*dU).apply(np.sqrt))\n",
    "            S= (Ip/I) * 100\n",
    "            S.desc= r'$DoLP' + I.desc[1:3] + I.desc[4:] + '$'\n",
    "            S.desc= 'DoLP' + I.desc[1:]\n",
    "            S.desc = mdesc(S.desc)\n",
    "            Iref=mref['I' + '_' + field]\n",
    "            Qref=mref['Q' + '_' + field]\n",
    "            Uref=mref['U' + '_' + field]\n",
    "            Sref= (((Qref*Qref+Uref*Uref).apply(np.sqrt))/Iref) * 100           \n",
    "            E = (dI/I + dIp/Ip) * S\n",
    "     \n",
    "       \n",
    "        vmi=vmin[i]\n",
    "        vma=vmax[i]\n",
    "        ema=emax[i]\n",
    "        erma=ermax[i]\n",
    "      \n",
    "\n",
    "        for phi0,sym1,sym2,labref in [(180.,'r','.','ref.'),(90.,'g','.','')]:\n",
    "        #for phi0,sym1,sym2, labref in [(0.,'r','.','')]:\n",
    "\n",
    "            # both points at their own abscissas\n",
    "            if not same_convention:\n",
    "\n",
    "                if S.names.index('Azimuth angles') == 0: # check right order of axes\n",
    "                    refp = Sref[Idx(180.-phi0,round=True),:] # reference for >0 view angle\n",
    "                    refm = Sref[Idx(phi0,round=True),:] #      reference for <0 view angle\n",
    "                    sp   = sign[i]*S[Idx(phi0),:]       #     simulation for >0 view angle\n",
    "                    sm   = sign[i]*S[Idx(180-phi0),:]\n",
    "                    if errb:\n",
    "                        dsp  = E[Idx(phi0),:]         #     simulation error for >0 view angle\n",
    "                        dsm  = E[Idx(180.-phi0),:]\n",
    "                    else:\n",
    "                        (dsp,dsm) = (0,0)\n",
    "                else:\n",
    "                    refm = Sref.swapaxes(0,1)[Idx(180.-phi0,round=True),:] # reference for >0 view angle\n",
    "                    refp = Sref.swapaxes(0,1)[Idx(phi0,round=True),:] #      reference for <0 view angle\n",
    "                    sp   = sign[i]*S.swapaxes(0,1)[Idx(phi0),:]       #     simulation for >0 view angle\n",
    "                    sm   = sign[i]*S.swapaxes(0,1)[Idx(180-phi0),:]\n",
    "                    if errb:\n",
    "                        dsp  = E.swapaxes(0,1)[Idx(phi0),:]         #     simulation error for >0 view angle\n",
    "                        dsm  = E.swapaxes(0,1)[Idx(180.-phi0),:]\n",
    "                    else:\n",
    "                        (dsp,dsm) = (0,0)\n",
    "                        \n",
    "            else:\n",
    "                refp = Sref[Idx(180.-phi0,round=True),:] # reference for >0 view angle\n",
    "                refm = Sref[Idx(phi0,round=True),:] #      reference for <0 view angle\n",
    "                sp   = sign[i]*S[Idx(180-phi0),:]       #     simulation for >0 view angle\n",
    "                sm   = sign[i]*S[Idx(phi0),:]\n",
    "                if errb:\n",
    "                    dsp  = E[Idx(180-phi0),:]         #     simulation error for >0 view angle\n",
    "                    dsm  = E[Idx(phi0),:]\n",
    "                else:\n",
    "                    (dsp,dsm) = (0,0)\n",
    "                \n",
    "            \n",
    "                    \n",
    "            ax[0,i].plot(th, refp,'k'+sym2)\n",
    "            ax[0,i].plot(-th,refm,'k'+sym2,label=labref)\n",
    "            ax[0,i].errorbar(th, sp, fmt=sym1+'')\n",
    "            ax[0,i].errorbar(-th,sm, fmt=sym1+'', \\\n",
    "                        label=r'smartg $\\Phi=%.0f-%.0f$'%(phi0,180.-phi0))\n",
    "            ax[0,i].set_ylim([vmi, vma])\n",
    "            ax[0,i].set_xlim([-89., 89.])\n",
    "            ax[0,i].ticklabel_format(axis='y', style='sci', scilimits=(-2,2))\n",
    "            \n",
    "            if logI and i==0:\n",
    "                ax[1,i].errorbar(th,10**sp-10**refp, yerr=dsp,\\\n",
    "                                 fmt=sym1+sym2,label=r'$\\Phi=%.0f-%.0f$'%(phi0,180.-phi0),ecolor='k')\n",
    "                ax[1,i].errorbar(-th,10**sm-10**refm,yerr=dsm,fmt=sym1+sym2,ecolor='k') \n",
    "    \n",
    "            else:\n",
    "                ax[1,i].errorbar(th,sp-refp, yerr=dsp,\\\n",
    "                                 fmt=sym1+sym2,label=r'$\\Phi=%.0f-%.0f$'%(phi0,180.-phi0),ecolor='k')\n",
    "                ax[1,i].errorbar(-th,sm-refm,yerr=dsm,fmt=sym1+sym2,ecolor='k') \n",
    "            ax[1,i].set_ylim([-1*ema,ema])\n",
    "            ax[1,i].set_xlim([-89., 89.])  \n",
    "\n",
    "            ax[2,i].errorbar(th,(sp-refp)/refp*100,\\\n",
    "                             fmt=sym1+sym2,label=r'$\\Phi=%.0f-%.0f$'%(phi0,180.-phi0),ecolor='k')\n",
    "            ax[2,i].errorbar(-th,(sm-refm)/refm*100,fmt=sym1+sym2,ecolor='k')  \n",
    "            \n",
    "            if i!=Nparam-1 : ax[2,i].set_ylim([-1*erma,erma])\n",
    "            else : ax[2,i].set_ylim([-1*erma,erma])\n",
    "                \n",
    "            ax[2,i].set_xlim([-89., 89.])    \n",
    "            ax[1,i].plot([-89,89],[0.,0.],'k--')\n",
    "            ax[2,i].plot([-89,89],[0.,0.],'k--')\n",
    "            ax[1,i].ticklabel_format(axis='y', style='sci', scilimits=(-2,2))\n",
    "\n",
    "            ax[0,i].set_title(S.desc)   \n",
    "            if i==0: \n",
    " \n",
    "                ax[0,i].legend(loc='upper center',fontsize = 8,labelspacing=0.0)\n",
    "                ax[1,i].text(-50.,ema*0.75,r'$N_{\\Phi}$:%i, $N_{\\theta}$:%i'%\\\n",
    "                         (S.axes[0].shape[0],S.axes[1].shape[0]))\n",
    "                ax[1,i].set_ylabel(r'$\\Delta$')\n",
    "                ax[2,i].set_ylabel(r'$\\Delta (\\%)$')\n",
    "    return fig\n",
    "\n",
    "def kokha_ray60(filename) :\n",
    "    f = open(filename, 'r')\n",
    "    nvza=90\n",
    "    nraa=4\n",
    "    mSvR=MLUT()\n",
    "    mSvR.add_axis('Azimuth angles',np.linspace(0.,360.,num=nraa,endpoint=False))\n",
    "    mSvR.add_axis('Zenith angles',np.linspace(0.,90.,num=nvza,endpoint=False))\n",
    "    \n",
    "    SvR = np.zeros((nraa,nvza,4),dtype=float)\n",
    "    for i in range(nvza):\n",
    "        tmp = f.readline()\n",
    "        SvR[0,i,0] =  float(tmp.split()[1])\n",
    "        SvR[0,i,1] = -float(tmp.split()[2])\n",
    "        SvR[0,i,2] =  float(tmp.split()[3])\n",
    "        SvR[0,i,3] =  float(tmp.split()[4])\n",
    "        SvR[1,i,0] =  float(tmp.split()[5])\n",
    "        SvR[1,i,1] = -float(tmp.split()[6])\n",
    "        SvR[1,i,2] =  float(tmp.split()[7])\n",
    "        SvR[1,i,3] = -float(tmp.split()[8])\n",
    "        SvR[2,i,0] =  float(tmp.split()[9])\n",
    "        SvR[2,i,1] = -float(tmp.split()[10])\n",
    "        SvR[2,i,2] =  float(tmp.split()[11])\n",
    "        SvR[2,i,3] = -float(tmp.split()[12])\n",
    "        SvR[3,i,0] =  SvR[1,i,0] \n",
    "        SvR[3,i,1] =  SvR[1,i,1]\n",
    "        SvR[3,i,2] = -SvR[1,i,2]\n",
    "        SvR[3,i,3] =  SvR[1,i,3]\n",
    "    f.close()\n",
    "    mSvR.add_dataset('I_up (TOA)', SvR[:,:,0], ['Azimuth angles','Zenith angles'])\n",
    "    mSvR.add_dataset('Q_up (TOA)', SvR[:,:,1], ['Azimuth angles','Zenith angles'])\n",
    "    mSvR.add_dataset('U_up (TOA)', SvR[:,:,2], ['Azimuth angles','Zenith angles'])\n",
    "    mSvR.add_dataset('V_up (TOA)', SvR[:,:,3], ['Azimuth angles','Zenith angles'])\n",
    "\n",
    "    return mSvR\n",
    "\n",
    "filename =  '../smartg/validation/Rayleigh_refl_N_60.dat'\n",
    "mSvR60 = kokha_ray60(filename)"
   ]
  },
  {
   "cell_type": "markdown",
   "metadata": {
    "hide_input": true
   },
   "source": [
    "### Select test case & run"
   ]
  },
  {
   "cell_type": "code",
   "execution_count": null,
   "metadata": {
    "ExecuteTime": {
     "end_time": "2018-04-06T16:45:09.262909Z",
     "start_time": "2018-04-06T16:43:41.823089Z"
    },
    "scrolled": false
   },
   "outputs": [],
   "source": [
    "%%time\n",
    "TAU  = 0.3262\n",
    "wl   = 409.71678\n",
    "DEPO = 0.\n",
    "THS  = 60.\n",
    "atm = AtmAFGL('afglt', O3=0., NO2=False, tauR=TAU, grid='100[1]0')\n",
    "ref  = mSvR60.sub(d={'Zenith angles': slice(0,-1,4)})\n",
    "\n",
    "le={}\n",
    "le.update(th_deg = ref.axis('Zenith angles'))\n",
    "le.update(phi_deg= ref.axis('Azimuth angles'))\n",
    "print(le)\n",
    "\n",
    "Pfb=Smartg(pp     = True, \n",
    "           back   = False, \n",
    "           bias   = True, # Biased sampling\n",
    "           double = True) \n",
    "\n",
    "mvalidb8 = Pfb.run(wl=wl, THVDEG=THS, DEPO=DEPO, atm=atm, le=le, NBPHOTONS=1e8, stdev=True, OUTPUT_LAYERS=0)"
   ]
  },
  {
   "cell_type": "markdown",
   "metadata": {},
   "source": [
    "### Compare"
   ]
  },
  {
   "cell_type": "code",
   "execution_count": null,
   "metadata": {
    "ExecuteTime": {
     "end_time": "2018-04-06T16:45:12.252622Z",
     "start_time": "2018-04-06T16:45:09.266321Z"
    }
   },
   "outputs": [],
   "source": [
    "vmin= [0,-0.3,0.,0]\n",
    "vmax=[1,0.3, 0.3, 100]\n",
    "emax= [2e-4, 2e-4, 2e-4, 0.05]\n",
    "ermax= [0.05, 0.05, 0.05, 0.05] # from Khokanovsky MYSTIC performance\n",
    "h=compare(mvalidb8, ref, Nparam=4, vmax=vmax, vmin=vmin, emax=emax, ermax=ermax, U_sign=1,\n",
    "          same_U_convention=False,\n",
    "          errb=True, logI=False, same_azimuth_convention=False, field='up (TOA)')"
   ]
  },
  {
   "cell_type": "code",
   "execution_count": null,
   "metadata": {
    "ExecuteTime": {
     "end_time": "2018-04-06T13:40:50.728622Z",
     "start_time": "2018-04-06T13:40:47.819356Z"
    }
   },
   "outputs": [],
   "source": [
    "#h.savefig('/home/did/RTC/SMART-G/notebooks/Validation_paper_smartg/2018/kokha_ray1e8.png', dpi=300)"
   ]
  },
  {
   "cell_type": "code",
   "execution_count": null,
   "metadata": {
    "ExecuteTime": {
     "end_time": "2018-04-06T13:40:53.228257Z",
     "start_time": "2018-04-06T13:40:53.144068Z"
    },
    "scrolled": true
   },
   "outputs": [],
   "source": [
    "print ('Agreement with 10^8 photons is around of 0.02% in intensity and 0.02% in DoLP for 48 geometries \\n' + \\\n",
    "'kernel time (s) : %s'%mvalidb8.attrs['kernel time (s)'])"
   ]
  },
  {
   "cell_type": "code",
   "execution_count": null,
   "metadata": {
    "ExecuteTime": {
     "end_time": "2018-04-06T13:41:09.645061Z",
     "start_time": "2018-04-06T13:40:59.679833Z"
    }
   },
   "outputs": [],
   "source": [
    "Pfb=Smartg(pp     = True, \n",
    "           back   = False, \n",
    "           bias   = True, # Biased sampling\n",
    "           double = True,\n",
    "           alt_pp = True) \n",
    "atm = AtmAFGL('afglt', O3=0., NO2=False, tauR=TAU, grid='100[20]0')"
   ]
  },
  {
   "cell_type": "code",
   "execution_count": null,
   "metadata": {
    "ExecuteTime": {
     "end_time": "2018-04-06T13:41:15.473953Z",
     "start_time": "2018-04-06T13:41:13.967432Z"
    },
    "run_control": {
     "marked": true
    }
   },
   "outputs": [],
   "source": [
    "mvalidb6 = Pfb.run(wl=wl, THVDEG=THS, DEPO=DEPO, atm=atm, le=le, NBPHOTONS=1e6, stdev=True, OUTPUT_LAYERS=0)"
   ]
  },
  {
   "cell_type": "code",
   "execution_count": null,
   "metadata": {
    "ExecuteTime": {
     "end_time": "2018-04-06T13:41:17.932329Z",
     "start_time": "2018-04-06T13:41:15.477097Z"
    },
    "run_control": {
     "marked": true
    },
    "scrolled": false
   },
   "outputs": [],
   "source": [
    "vmin= [0,-0.3,0.,0]\n",
    "vmax=[0.5,0.3, 0.3, 100]\n",
    "emax= [2e-3, 2e-3, 2e-3, 0.5]\n",
    "ermax= [0.5, 0.5, 0.5, 0.5] # from Khokanovsky MYSTIC performance\n",
    "h=compare(mvalidb6, ref, Nparam=4, vmax=vmax, vmin=vmin, emax=emax, ermax=ermax, U_sign=+1, \n",
    "          same_U_convention=False,\n",
    "          errb=True, logI=False, same_azimuth_convention=False, field='up (TOA)')"
   ]
  },
  {
   "cell_type": "code",
   "execution_count": null,
   "metadata": {
    "ExecuteTime": {
     "end_time": "2018-04-06T13:41:28.710410Z",
     "start_time": "2018-04-06T13:41:28.624410Z"
    },
    "scrolled": true
   },
   "outputs": [],
   "source": [
    "print ('Agreement with 10^6 photons is around of 0.2% in intensity and 0.2% in DoLP for 48 geometries \\n' + \\\n",
    "'kernel time (s) : %s'%mvalidb6.attrs['kernel time (s)'])"
   ]
  },
  {
   "cell_type": "markdown",
   "metadata": {},
   "source": [
    "## Aerosols\n",
    " Atmosphere : Aerosols scattering with AOT=0.3262, SSA=1.,\n",
    "   AFGL MS and lat=0., NO gaseous absorption.\n",
    "    Solar zenith angle 60°\n",
    "    View zenith angle from 0 to 89° by steps of 2°\n"
   ]
  },
  {
   "cell_type": "markdown",
   "metadata": {},
   "source": [
    "### Define functions & Read data"
   ]
  },
  {
   "cell_type": "code",
   "execution_count": null,
   "metadata": {
    "ExecuteTime": {
     "end_time": "2018-04-04T16:27:26.035391Z",
     "start_time": "2018-04-04T16:27:25.606160Z"
    },
    "hide_input": false,
    "scrolled": true
   },
   "outputs": [],
   "source": [
    "# Read and format Phase function\n",
    "tab=np.loadtxt('../smartg/validation/opt_kokha_aer.dat', dtype=float, skiprows=17)\n",
    "tab=tab[::-1,:]\n",
    "tab[:,0]=np.arccos(tab[:,0])*180/np.pi\n",
    "tab[:, 2], tab[:, 3] = tab[:, 3], (tab[:, 2].copy())\n",
    "fout=open('/home/did/RTC/SMART-G/validation/opt_kokha_aer_standard.dat','w')\n",
    "fout2=open('/home/did/RTC/SMART-G/validation/opt_kokha_aer_nostandard.dat','w')\n",
    "n=tab[:,0].shape[0]\n",
    "mu=np.cos(tab[:,0]*np.pi/180)\n",
    "#print (np.trapz(tab[:,1],-mu))\n",
    "for i in range(n):\n",
    "    fout.write((4*'{:14.7e} '+'{:14.7e}').format(*tab[i,:])+'\\n')\n",
    "    fout2.write((4*'{:14.7e} '+'{:14.7e}').format(tab[i,0],tab[i,1]+tab[i,2],tab[i,1]-tab[i,2],*tab[i,3:])+'\\n')\n",
    "fout.close()\n",
    "fout2.close()\n",
    "pha=read_phase('/home/did/RTC/SMART-G/validation/opt_kokha_aer_nostandard.dat')\n",
    "\n",
    "def kokha_aer60(filename) :\n",
    "    f = open(filename, 'r')\n",
    "    nvza=90\n",
    "    nraa=4\n",
    "    mSvR=MLUT()\n",
    "    mSvR.add_axis('Azimuth angles',np.linspace(0.,360.,num=nraa,endpoint=False))\n",
    "    mSvR.add_axis('Zenith angles',np.linspace(0.,90.,num=nvza,endpoint=False))\n",
    "    \n",
    "    SvR = np.zeros((nraa,nvza,4),dtype=float)\n",
    "    for i in range(nvza):\n",
    "        tmp = f.readline().split()\n",
    "        SvR[0,i,0] =  float(tmp[1])\n",
    "        SvR[0,i,1] = -float(tmp[2])\n",
    "        SvR[0,i,2] =  float(tmp[3])\n",
    "        SvR[0,i,3] =  float(tmp[4])\n",
    "        SvR[1,i,0] =  float(tmp[5])\n",
    "        SvR[1,i,1] = -float(tmp[6])\n",
    "        SvR[1,i,2] =  float(tmp[7])\n",
    "        SvR[1,i,3] = -float(tmp[8])\n",
    "        SvR[2,i,0] =  float(tmp[9])\n",
    "        SvR[2,i,1] = -float(tmp[10])\n",
    "        SvR[2,i,2] =  float(tmp[11])\n",
    "        SvR[2,i,3] = -float(tmp[12])\n",
    "        SvR[3,i,0] =  SvR[1,i,0] \n",
    "        SvR[3,i,1] =  SvR[1,i,1]\n",
    "        SvR[3,i,2] = -SvR[1,i,2]\n",
    "        SvR[3,i,3] =  SvR[1,i,3]\n",
    "    f.close()\n",
    "    mSvR.add_dataset('I_up (TOA)', SvR[:,:,0], ['Azimuth angles','Zenith angles'])\n",
    "    mSvR.add_dataset('Q_up (TOA)', SvR[:,:,1], ['Azimuth angles','Zenith angles'])\n",
    "    mSvR.add_dataset('U_up (TOA)', SvR[:,:,2], ['Azimuth angles','Zenith angles'])\n",
    "    mSvR.add_dataset('V_up (TOA)', SvR[:,:,3], ['Azimuth angles','Zenith angles'])\n",
    "\n",
    "    return mSvR\n",
    "\n",
    "filename =  '../smartg/validation/aerosol_refl_N_240.dat'\n",
    "mSvA60 = kokha_aer60(filename)"
   ]
  },
  {
   "cell_type": "markdown",
   "metadata": {
    "hide_input": true
   },
   "source": [
    "### Select test case"
   ]
  },
  {
   "cell_type": "code",
   "execution_count": null,
   "metadata": {
    "ExecuteTime": {
     "start_time": "2018-04-04T16:07:51.050Z"
    },
    "scrolled": true
   },
   "outputs": [],
   "source": [
    "TAU  = 0.3262\n",
    "wl   = 409.71678\n",
    "DEPO = 0.\n",
    "THS  = 60.\n",
    "#mu0  = np.cos(th0/180*np.pi)\n",
    "aer=AeroOPAC('maritime_clean', TAU, wl, ssa=1., phase=pha)\n",
    "atm  = AtmAFGL('afglt', O3=0., NO2=False, tauR=0., comp=[aer])\n",
    "\n",
    "ref  = mSvA60.sub(d={'Zenith angles': slice(0,-1,2)})\n",
    "\n",
    "le={}\n",
    "le.update(th_deg = ref.axis('Zenith angles'))\n",
    "le.update(phi_deg= ref.axis('Azimuth angles'))\n",
    "print(le)"
   ]
  },
  {
   "cell_type": "markdown",
   "metadata": {},
   "source": [
    "### Run Local Estimate"
   ]
  },
  {
   "cell_type": "code",
   "execution_count": null,
   "metadata": {
    "ExecuteTime": {
     "start_time": "2018-04-04T16:07:51.604Z"
    }
   },
   "outputs": [],
   "source": [
    "%%time\n",
    "mvalidAb8 = Pfb.run(wl=wl, THVDEG=THS, DEPO=DEPO, atm=atm, le=le, NBPHOTONS=1e8, stdev=True, OUTPUT_LAYERS=0)"
   ]
  },
  {
   "cell_type": "markdown",
   "metadata": {},
   "source": [
    "### Compare"
   ]
  },
  {
   "cell_type": "code",
   "execution_count": null,
   "metadata": {
    "ExecuteTime": {
     "start_time": "2018-04-04T16:07:52.172Z"
    }
   },
   "outputs": [],
   "source": [
    "vmax= [0.5,0.06,0.002,0.00002,100]\n",
    "vmin= [-2,-0.12,-0.01,-0.00012,0]\n",
    "emax= [1e-3, 1e-4, 1e-4, 1e-5, 0.2]\n",
    "ermax= [0.6, 2, 2, 20, 10] # from Khokanovsky MYSTIC performance\n",
    "h=compare(mvalidAb8, ref, Nparam=5, vmax=vmax, vmin=vmin, emax=emax, ermax=ermax, U_sign=1, \n",
    "          same_U_convention=False,\n",
    "          errb=True, logI=True, same_azimuth_convention=False, field='up (TOA)')"
   ]
  },
  {
   "cell_type": "code",
   "execution_count": null,
   "metadata": {
    "ExecuteTime": {
     "start_time": "2018-04-04T16:07:52.184Z"
    }
   },
   "outputs": [],
   "source": [
    "#h.savefig('/home/did/RTC/SMART-G/notebooks/Validation_paper_smartg/2018/kokha_aer1e8.png', dpi=300)"
   ]
  },
  {
   "cell_type": "markdown",
   "metadata": {},
   "source": [
    "## Cloud\n",
    " Atmosphere : Cloud scattering with AOT=5.0, SSA=1.,\n",
    "   AFGL MS and lat=0., NO gaseous absorption.\n",
    "    Solar zenith angle 60°\n",
    "    View zenith angle from 0 to 89° by steps of 2°\n"
   ]
  },
  {
   "cell_type": "markdown",
   "metadata": {},
   "source": [
    "### Define functions & Read data"
   ]
  },
  {
   "cell_type": "code",
   "execution_count": null,
   "metadata": {
    "ExecuteTime": {
     "start_time": "2018-04-04T16:07:53.678Z"
    },
    "hide_input": false
   },
   "outputs": [],
   "source": [
    "# read and format phase function\n",
    "tab=np.loadtxt('../smartg/validation/opt_kokha_cl.dat', dtype=float)\n",
    "tab=tab[::-1,:]\n",
    "tab[:,0]=np.arccos(tab[:,0])*180/np.pi\n",
    "tab[:, 2], tab[:, 3] = tab[:, 3], tab[:, 2].copy()\n",
    "fout=open('../smartg/validation/opt_kokha_cl_standard.dat','w')\n",
    "fout2=open('../smartg/validation/opt_kokha_cl_nostandard.dat','w')\n",
    "n=tab[:,0].shape[0]\n",
    "mu=np.cos(tab[:,0]*np.pi/180)\n",
    "#print (np.trapz(tab[:,1],-mu))\n",
    "for i in range(n):\n",
    "    fout.write((4*'{:14.7e} '+'{:14.7e}').format(*tab[i,:])+'\\n')\n",
    "    fout2.write((4*'{:14.7e} '+'{:14.7e}').format(tab[i,0],tab[i,1]+tab[i,2],tab[i,1]-tab[i,2],*tab[i,3:])+'\\n')\n",
    "fout.close()\n",
    "fout2.close()\n",
    "pha=read_phase('../smartg/validation/opt_kokha_cl_nostandard.dat')\n",
    "\n",
    "def kokha_cl60(filename) :\n",
    "    f = open(filename, 'r')\n",
    "    nvza=90\n",
    "    nraa=4\n",
    "    mSvR=MLUT()\n",
    "    mSvR.add_axis('Azimuth angles',np.linspace(0.,360.,num=nraa,endpoint=False))\n",
    "    mSvR.add_axis('Zenith angles',np.linspace(0.,90.,num=nvza,endpoint=False))\n",
    "    \n",
    "    SvR = np.zeros((nraa,nvza,4),dtype=float)\n",
    "    for i in range(nvza):\n",
    "        tmp = f.readline().split()\n",
    "        SvR[0,i,0] =  float(tmp[1])\n",
    "        SvR[0,i,1] = -float(tmp[2])\n",
    "        SvR[0,i,2] =  float(tmp[3])\n",
    "        SvR[0,i,3] =  float(tmp[4])\n",
    "        SvR[1,i,0] =  float(tmp[5])\n",
    "        SvR[1,i,1] = -float(tmp[6])\n",
    "        SvR[1,i,2] =  float(tmp[7])\n",
    "        SvR[1,i,3] = -float(tmp[8])\n",
    "        SvR[2,i,0] =  float(tmp[9])\n",
    "        SvR[2,i,1] = -float(tmp[10])\n",
    "        SvR[2,i,2] =  float(tmp[11])\n",
    "        SvR[2,i,3] = -float(tmp[12])\n",
    "        SvR[3,i,0] =  SvR[1,i,0] \n",
    "        SvR[3,i,1] =  SvR[1,i,1]\n",
    "        SvR[3,i,2] = -SvR[1,i,2]\n",
    "        SvR[3,i,3] =  SvR[1,i,3]\n",
    "    f.close()\n",
    "    mSvR.add_dataset('I_up (TOA)', SvR[:,:,0], ['Azimuth angles','Zenith angles'])\n",
    "    mSvR.add_dataset('Q_up (TOA)', SvR[:,:,1], ['Azimuth angles','Zenith angles'])\n",
    "    mSvR.add_dataset('U_up (TOA)', SvR[:,:,2], ['Azimuth angles','Zenith angles'])\n",
    "    mSvR.add_dataset('V_up (TOA)', SvR[:,:,3], ['Azimuth angles','Zenith angles'])\n",
    "\n",
    "    return mSvR\n",
    "\n",
    "filename =  '../smartg/validation/cloud_refl_N_360.dat'\n",
    "mSvC60 = kokha_cl60(filename)"
   ]
  },
  {
   "cell_type": "markdown",
   "metadata": {},
   "source": [
    "### Select test case"
   ]
  },
  {
   "cell_type": "code",
   "execution_count": null,
   "metadata": {
    "ExecuteTime": {
     "start_time": "2018-04-04T16:07:54.260Z"
    },
    "scrolled": true
   },
   "outputs": [],
   "source": [
    "TAU  = 5.\n",
    "wl   = 409.71678\n",
    "DEPO = 0.\n",
    "THS  = 60.\n",
    "#mu0 = np.cos(th0/180*np.pi)\n",
    "aer  = AeroOPAC('maritime_clean', TAU, wl, ssa=1., phase=pha)\n",
    "atm  = AtmAFGL('afglt', O3=0., NO2=False, tauR=0., comp=[aer])\n",
    "\n",
    "ref  = mSvC60.sub(d={'Zenith angles': slice(0,-1,2)})\n",
    "\n",
    "le={}\n",
    "le.update(th_deg = ref.axis('Zenith angles'))\n",
    "le.update(phi_deg= ref.axis('Azimuth angles'))\n",
    "print(le)"
   ]
  },
  {
   "cell_type": "markdown",
   "metadata": {},
   "source": [
    "### Run Local Estimate"
   ]
  },
  {
   "cell_type": "code",
   "execution_count": null,
   "metadata": {
    "ExecuteTime": {
     "start_time": "2018-04-04T16:07:54.892Z"
    }
   },
   "outputs": [],
   "source": [
    "%%time\n",
    "mvalidCb8 = Pfb.run(wl=wl, THVDEG=THS, DEPO=DEPO, atm=atm, le=le, NBPHOTONS=1e8, stdev=True, OUTPUT_LAYERS=0)"
   ]
  },
  {
   "cell_type": "markdown",
   "metadata": {},
   "source": [
    "### Compare"
   ]
  },
  {
   "cell_type": "code",
   "execution_count": null,
   "metadata": {
    "ExecuteTime": {
     "start_time": "2018-04-04T16:07:55.596Z"
    },
    "scrolled": false
   },
   "outputs": [],
   "source": [
    "vmax= [0.5,0.12,0.007,0.0001,50]\n",
    "vmin= [-1,-0.12,-0.001,-0.0001,0]\n",
    "emax= [2e-2, 2e-3, 2e-3, 5e-5, 1]\n",
    "ermax= [3, 3, 10, 50, 10] # from Khokanovsky MYSTIC performance\n",
    "h=compare(mvalidCb8, ref, Nparam=5, vmax=vmax, vmin=vmin, emax=emax, ermax=ermax, U_sign=-1,\n",
    "          errb=True, logI=True, same_convention=False, field='up (TOA)')"
   ]
  },
  {
   "cell_type": "code",
   "execution_count": null,
   "metadata": {
    "ExecuteTime": {
     "start_time": "2018-04-04T16:07:55.610Z"
    }
   },
   "outputs": [],
   "source": [
    "#h.savefig('/home/did/RTC/SMART-G/notebooks/Validation_paper_smartg/2018/kokha_cloud_1e8_LE.png', dpi=300)"
   ]
  },
  {
   "cell_type": "code",
   "execution_count": null,
   "metadata": {
    "ExecuteTime": {
     "start_time": "2018-04-04T16:07:55.624Z"
    },
    "scrolled": false
   },
   "outputs": [],
   "source": [
    "p,axes=phase_view(mvalidCb8)\n",
    "_=phase_view(mvalidCb8, fig=p, axarr=axes)"
   ]
  },
  {
   "cell_type": "markdown",
   "metadata": {},
   "source": [
    "# Atmosphere-Glitter: IRS- IPRT Test case A6\n",
    "This code enables testing the Rayleigh and ocean surface <br>"
   ]
  },
  {
   "cell_type": "markdown",
   "metadata": {},
   "source": [
    "## Define functions & Read data"
   ]
  },
  {
   "cell_type": "code",
   "execution_count": null,
   "metadata": {
    "ExecuteTime": {
     "end_time": "2018-04-06T16:54:04.726328Z",
     "start_time": "2018-04-06T16:54:03.641237Z"
    },
    "run_control": {
     "marked": false
    }
   },
   "outputs": [],
   "source": [
    "def read_shdom():\n",
    "    \n",
    "    f_iprt = \"../smartg/validation/iprt_case_a6_shdom3.dat\"\n",
    "    th0    = 45.\n",
    "    thv    = np.arange(0.0, 85.0, 5.)\n",
    "    phi    = np.arange(0.0, 365.0, 5.)\n",
    "    \n",
    "    mSvRG = MLUT()\n",
    "    mSvRG.add_axis('Azimuth angles', phi)\n",
    "    mSvRG.add_axis('Zenith angles',  thv)\n",
    "    \n",
    "    f=open(f_iprt)\n",
    "    f.readline()\n",
    "    f.readline()\n",
    "    f.readline()\n",
    "    for lev2 in ['down (0+)','up (TOA)']:\n",
    "        I = np.full( (len(phi), len(thv) ), np.nan)\n",
    "        Q = np.full( (len(phi), len(thv) ), np.nan)\n",
    "        U = np.full( (len(phi), len(thv) ), np.nan)\n",
    "        V = np.full( (len(phi), len(thv) ), np.nan)\n",
    "        for imu in range(len(thv)):\n",
    "            for iphi in range(len(phi)):   \n",
    "                tmp = f.readline().split()\n",
    "                I[-iphi-1,-imu-1] = float(tmp[6]) * np.pi/np.cos(th0*np.pi/180)\n",
    "                Q[-iphi-1,-imu-1] = float(tmp[7]) * np.pi/np.cos(th0*np.pi/180)\n",
    "                U[-iphi-1,-imu-1] = float(tmp[8]) * np.pi/np.cos(th0*np.pi/180)\n",
    "                V[-iphi-1,-imu-1] = float(tmp[9]) * np.pi/np.cos(th0*np.pi/180)\n",
    "\n",
    "        mSvRG.add_dataset('I_'+lev2, I, [\"Azimuth angles\",\"Zenith angles\"])\n",
    "        mSvRG.add_dataset('Q_'+lev2, Q, [\"Azimuth angles\",\"Zenith angles\"])\n",
    "        mSvRG.add_dataset('U_'+lev2, U, [\"Azimuth angles\",\"Zenith angles\"])\n",
    "        mSvRG.add_dataset('V_'+lev2, V, [\"Azimuth angles\",\"Zenith angles\"])\n",
    "        mSvRG.add_dataset('N_'+lev2, np.zeros_like(I),   [\"Azimuth angles\",\"Zenith angles\"])\n",
    "\n",
    "    return mSvRG \n",
    "\n",
    "shdom=read_shdom()\n",
    "\n",
    "def read_mystic():\n",
    "    \n",
    "    f_iprt = '../smartg/validation/iprt_case_a6_mystic.dat'\n",
    "    th0    = 45.\n",
    "    thv    = np.arange(0.0, 85.0, 5.)\n",
    "    phi    = np.arange(360,-5, -5.)\n",
    "    phi2   = np.arange(180.0, -5.0, -5.)\n",
    "    \n",
    "    mSvRG = MLUT()\n",
    "    mSvRG.add_axis('Azimuth angles', phi[::-1])\n",
    "    mSvRG.add_axis('Zenith angles',  thv)\n",
    "    \n",
    "    f=open(f_iprt)\n",
    "    f.readline()\n",
    "    f.readline()\n",
    "    f.readline()\n",
    "    #for (lev,lev2) in zip(['UP'],['up (TOA)']):\n",
    "    for lev2 in ['down (0+)','up (TOA)']:\n",
    "        I = np.full( (len(phi), len(thv) ), np.nan)\n",
    "        Q = np.full( (len(phi), len(thv) ), np.nan)\n",
    "        U = np.full( (len(phi), len(thv) ), np.nan)\n",
    "        V = np.full( (len(phi), len(thv) ), np.nan)\n",
    "        Is = np.full( (len(phi), len(thv) ), np.nan)\n",
    "        Qs = np.full( (len(phi), len(thv) ), np.nan)\n",
    "        Us = np.full( (len(phi), len(thv) ), np.nan)\n",
    "        Vs = np.full( (len(phi), len(thv) ), np.nan)\n",
    "        for imu in range(len(thv)):\n",
    "            for iphi2 in range(len(phi2)): \n",
    "                tmp = f.readline().split()\n",
    "                #print phi2(iphi), thv[imu]\n",
    "                iphi = len(phi2)-iphi2-1\n",
    "                I[iphi,-imu-1] = float(tmp[6]) * np.pi/np.cos(th0*np.pi/180)\n",
    "                Q[iphi,-imu-1] = float(tmp[7]) * np.pi/np.cos(th0*np.pi/180)\n",
    "                U[iphi,-imu-1] = float(tmp[8]) * np.pi/np.cos(th0*np.pi/180)\n",
    "                V[iphi,-imu-1] = float(tmp[9]) * np.pi/np.cos(th0*np.pi/180)\n",
    "                Is[iphi,-imu-1] = float(tmp[10]) * np.pi/np.cos(th0*np.pi/180)\n",
    "                Qs[iphi,-imu-1] = float(tmp[11]) * np.pi/np.cos(th0*np.pi/180)\n",
    "                Us[iphi,-imu-1] = float(tmp[12]) * np.pi/np.cos(th0*np.pi/180)\n",
    "                Vs[iphi,-imu-1] = float(tmp[13]) * np.pi/np.cos(th0*np.pi/180)\n",
    "                I[-iphi-1,-imu-1] = I[iphi,-imu-1]\n",
    "                Q[-iphi-1,-imu-1] = Q[iphi,-imu-1]\n",
    "                U[-iphi-1,-imu-1] = U[iphi,-imu-1]\n",
    "                V[-iphi-1,-imu-1] = V[iphi,-imu-1]\n",
    "                Is[-iphi-1,-imu-1] = Is[iphi,-imu-1]\n",
    "                Qs[-iphi-1,-imu-1] = Qs[iphi,-imu-1]\n",
    "                Us[-iphi-1,-imu-1] = Us[iphi,-imu-1]\n",
    "                Vs[-iphi-1,-imu-1] = Vs[iphi,-imu-1]\n",
    "\n",
    "\n",
    "        mSvRG.add_dataset('I_'+lev2, I, [\"Azimuth angles\",\"Zenith angles\"])\n",
    "        mSvRG.add_dataset('Q_'+lev2, Q, [\"Azimuth angles\",\"Zenith angles\"])\n",
    "        mSvRG.add_dataset('U_'+lev2, U, [\"Azimuth angles\",\"Zenith angles\"])\n",
    "        mSvRG.add_dataset('V_'+lev2, V, [\"Azimuth angles\",\"Zenith angles\"])\n",
    "        mSvRG.add_dataset('N_'+lev2, np.zeros_like(I),   [\"Azimuth angles\",\"Zenith angles\"])\n",
    "        mSvRG.add_dataset('I_stdev_'+lev2, Is, [\"Azimuth angles\",\"Zenith angles\"])\n",
    "        mSvRG.add_dataset('Q_stdev_'+lev2, Qs, [\"Azimuth angles\",\"Zenith angles\"])\n",
    "        mSvRG.add_dataset('U_stdev_'+lev2, Us, [\"Azimuth angles\",\"Zenith angles\"])\n",
    "        mSvRG.add_dataset('V_stdev_'+lev2, Vs, [\"Azimuth angles\",\"Zenith angles\"])\n",
    "\n",
    "    return mSvRG \n",
    "\n",
    "mystic=read_mystic()"
   ]
  },
  {
   "cell_type": "markdown",
   "metadata": {},
   "source": [
    "## Select test case and run\n",
    "\n",
    "    Atmosphere : Rayleigh scattering with 1 wavelengths for which OT=0.1, depolarization factor 0.03,\n",
    "    it gives lambda=549.0904 nm with AFGL MS and lat=0., NO gaseous absorption.\n",
    "    Ocean: Cox and Munk isotropic with n=1.33-0*i and w=2 m/s, including wave shadows"
   ]
  },
  {
   "cell_type": "code",
   "execution_count": null,
   "metadata": {
    "ExecuteTime": {
     "end_time": "2018-04-06T16:54:14.363409Z",
     "start_time": "2018-04-06T16:54:13.950805Z"
    },
    "run_control": {
     "marked": false
    }
   },
   "outputs": [],
   "source": [
    "TAU = 0.1\n",
    "THS = 45.\n",
    "DEPO= 0.03\n",
    "atm = AtmAFGL('afglt', O3=0., NO2=False, tauR=TAU, grid=np.linspace(100.,0.,num=100))\n",
    "\n",
    "refs = shdom.sub(d={'Zenith angles': slice(0,None,1),'Azimuth angles':slice(0,-1,9)})\n",
    "refm = mystic.sub(d={'Zenith angles': slice(0,None,1),'Azimuth angles':slice(0,-1,9)})\n",
    "\n",
    "le={}\n",
    "le.update(th_deg = refs.axis('Zenith angles'))\n",
    "le.update(phi_deg= refs.axis('Azimuth angles'))\n",
    "print(le)"
   ]
  },
  {
   "cell_type": "code",
   "execution_count": null,
   "metadata": {
    "ExecuteTime": {
     "end_time": "2018-04-06T16:54:20.849322Z",
     "start_time": "2018-04-06T16:54:18.393326Z"
    },
    "run_control": {
     "marked": false
    }
   },
   "outputs": [],
   "source": [
    "vmin= np.concatenate((np.array([0, -0.2, 0])/np.cos(THS*np.pi/180)*np.pi,np.array([0.])))\n",
    "vmax= np.concatenate((np.array([0.2, 0.02, 0.04])/np.cos(THS*np.pi/180)*np.pi,np.array([100.])))\n",
    "emax= np.concatenate((np.array([3e-4, 3e-4, 3e-4])/np.cos(THS*np.pi/180)*np.pi,np.array([1])))\n",
    "ermax= [1, 1, 1, 1] # Similar scale as IPRT paper\n",
    "h=compare(refm, refs, Nparam=4, vmax=vmax, vmin=vmin, emax=emax, ermax=ermax, U_sign=+1,\n",
    "          errb=True, logI=False, same_azimuth_convention=False, field='up (TOA)')"
   ]
  },
  {
   "cell_type": "code",
   "execution_count": null,
   "metadata": {
    "ExecuteTime": {
     "start_time": "2018-04-04T16:07:58.044Z"
    }
   },
   "outputs": [],
   "source": [
    "Pfb=Smartg(pp     = True, \n",
    "           back   = False, \n",
    "           bias   = True, # biased sampling\n",
    "           double = True) "
   ]
  },
  {
   "cell_type": "markdown",
   "metadata": {},
   "source": [
    "### with wave facet sampling"
   ]
  },
  {
   "cell_type": "code",
   "execution_count": null,
   "metadata": {
    "ExecuteTime": {
     "end_time": "2018-04-06T16:59:10.045009Z",
     "start_time": "2018-04-06T16:54:27.662263Z"
    }
   },
   "outputs": [],
   "source": [
    "%%time\n",
    "surf= RoughSurface(SUR=1, WIND=2., NH2O=1.33, WAVE_SHADOW=True, SINGLE=True)\n",
    "a6valid8_wfs = Pfb.run(wl=320.,THVDEG=THS, DEPO=DEPO, atm=atm, le=le, surf=surf, NBPHOTONS=1e8, stdev=True, \n",
    "                  OUTPUT_LAYERS=0)"
   ]
  },
  {
   "cell_type": "code",
   "execution_count": null,
   "metadata": {
    "ExecuteTime": {
     "end_time": "2018-04-06T16:59:15.896222Z",
     "start_time": "2018-04-06T16:59:13.093861Z"
    },
    "scrolled": false
   },
   "outputs": [],
   "source": [
    "vmin= np.concatenate((np.array([0, -0.2, -0])/np.cos(THS*np.pi/180)*np.pi,np.array([0.])))\n",
    "vmax= np.concatenate((np.array([0.2, 0.02, 0.04])/np.cos(THS*np.pi/180)*np.pi,np.array([100.])))\n",
    "emax= np.concatenate((np.array([3e-4, 3e-4, 3e-4])/np.cos(THS*np.pi/180)*np.pi,np.array([1])))\n",
    "ermax= [1, 1, 1, 1] # Similar scale as IPRT paper\n",
    "h=compare(a6valid8_wfs, refs, Nparam=4, vmax=vmax, vmin=vmin, emax=emax, ermax=ermax, U_sign=1,\n",
    "          same_U_convention=False,\n",
    "          errb=True, logI=False, same_azimuth_convention=False, field='up (TOA)')"
   ]
  },
  {
   "cell_type": "code",
   "execution_count": null,
   "metadata": {
    "ExecuteTime": {
     "start_time": "2018-04-04T16:07:59.050Z"
    },
    "scrolled": true
   },
   "outputs": [],
   "source": [
    "#h.savefig('/home/did/RTC/SMART-G/notebooks/Validation_paper_smartg/2018/iprt_case_a6_shdom_1e8.png', dpi=300)"
   ]
  },
  {
   "cell_type": "markdown",
   "metadata": {},
   "source": [
    "### with BRDF sampling"
   ]
  },
  {
   "cell_type": "code",
   "execution_count": null,
   "metadata": {
    "ExecuteTime": {
     "end_time": "2018-04-06T17:01:52.143231Z",
     "start_time": "2018-04-06T16:59:25.104652Z"
    }
   },
   "outputs": [],
   "source": [
    "%%time\n",
    "surf= RoughSurface(SUR=1, WIND=2., NH2O=1.33, WAVE_SHADOW=True, BRDF=True)\n",
    "a6valid8_bs = Pfb.run(wl=320.,THVDEG=THS, DEPO=DEPO, atm=atm, le=le, surf=surf, NBPHOTONS=1e8, stdev=True, \n",
    "                  OUTPUT_LAYERS=0)"
   ]
  },
  {
   "cell_type": "code",
   "execution_count": null,
   "metadata": {
    "ExecuteTime": {
     "end_time": "2018-04-06T17:03:11.518356Z",
     "start_time": "2018-04-06T17:03:08.799787Z"
    },
    "scrolled": false
   },
   "outputs": [],
   "source": [
    "vmin= np.concatenate((np.array([0, -0.2, -0])/np.cos(THS*np.pi/180)*np.pi,np.array([0.])))\n",
    "vmax= np.concatenate((np.array([0.2, 0.02, 0.04])/np.cos(THS*np.pi/180)*np.pi,np.array([100.])))\n",
    "emax= np.concatenate((np.array([3e-4, 3e-4, 3e-4])/np.cos(THS*np.pi/180)*np.pi,np.array([1])))\n",
    "ermax= [1, 1, 1, 1] # Similar scale as IPRT paper\n",
    "h=compare(a6valid8_bs, refs, Nparam=4, vmax=vmax, vmin=vmin, emax=emax, ermax=ermax, U_sign=1,\n",
    "          errb=True, logI=False, same_U_convention=False, same_azimuth_convention=False, field='up (TOA)')"
   ]
  },
  {
   "cell_type": "markdown",
   "metadata": {},
   "source": [
    "# Atmosphere-Glitter-Ocean : Examples"
   ]
  },
  {
   "cell_type": "code",
   "execution_count": null,
   "metadata": {
    "ExecuteTime": {
     "end_time": "2018-04-19T09:03:56.433945Z",
     "start_time": "2018-04-19T09:03:46.666293Z"
    }
   },
   "outputs": [],
   "source": [
    "%%time\n",
    "# Complete Simulation\n",
    "wl   = [450.]\n",
    "surf = RoughSurface(SUR=3, WIND=7., NH2O=1.34, WAVE_SHADOW=True)\n",
    "atm  = AtmAFGL('afglms', O3=0., NO2=False)\n",
    "water= IOP_1(chl=1., pfwav=[450.], DEPTH=10., ALB=Albedo_cst(0.)) \n",
    "TH0  = 45.\n",
    "S=Smartg(double=True)\n",
    "NBPHOTONS=1e9"
   ]
  },
  {
   "cell_type": "code",
   "execution_count": null,
   "metadata": {
    "ExecuteTime": {
     "end_time": "2018-04-19T09:07:16.828708Z",
     "start_time": "2018-04-19T09:06:05.334369Z"
    }
   },
   "outputs": [],
   "source": [
    "%%time\n",
    "mc9=S.run(THVDEG=TH0, wl=wl, le=None, surf=surf, water=water, atm=atm, NBTHETA=17, NBPHI=16,\n",
    "                        NBPHOTONS=NBPHOTONS, BEER=1, OUTPUT_LAYERS=3, stdev=True)"
   ]
  },
  {
   "cell_type": "code",
   "execution_count": null,
   "metadata": {
    "ExecuteTime": {
     "end_time": "2018-04-19T12:20:31.251505Z",
     "start_time": "2018-04-19T12:20:11.981206Z"
    }
   },
   "outputs": [],
   "source": [
    "%%time\n",
    "le={'th_deg':mc9.axis('Zenith angles'), 'phi_deg':mc9.axis('Azimuth angles')}\n",
    "mle7=S.run(THVDEG=TH0, wl=wl, le=le, surf=surf, water=water, atm=atm,\n",
    "                        NBPHOTONS=NBPHOTONS/1000, BEER=1, OUTPUT_LAYERS=3, stdev=True)"
   ]
  },
  {
   "cell_type": "code",
   "execution_count": null,
   "metadata": {
    "ExecuteTime": {
     "end_time": "2018-04-19T09:32:39.757067Z",
     "start_time": "2018-04-19T09:32:02.102248Z"
    },
    "scrolled": false
   },
   "outputs": [],
   "source": [
    "fname='/home/did/RTC/SMART-G/notebooks/Validation_paper_smartg/2018/example_output_cone_'\n",
    "for field in ['up (TOA)','up (0+)', 'up (0-)','down (0+)','down (0-)','down (B)']:\n",
    "    t=smartg_view(mc9.sub({'wavelength':0}), Imin=-2.5, Imax=0.5, field=field, \n",
    "                  Circ=False, QU=False, logI=True, ind=Idx([0,90]), full=False)\n",
    "    t.savefig(fname+field.replace(\" \",\"\").replace(\"(\",\"\").replace(\")\",\"\"), dpi=600)"
   ]
  },
  {
   "cell_type": "code",
   "execution_count": null,
   "metadata": {
    "ExecuteTime": {
     "end_time": "2018-04-19T12:20:51.340872Z",
     "start_time": "2018-04-19T12:20:40.416224Z"
    },
    "scrolled": false
   },
   "outputs": [],
   "source": [
    "#fname='/home/did/RTC/SMART-G/notebooks/Validation_paper_smartg/example_output_le_'\n",
    "for field in ['up (TOA)','up (0+)', 'up (0-)','down (0+)','down (0-)','down (B)']:\n",
    "    t=smartg_view(mle7.sub({'wavelength':0}), Imin=-2.5, Imax=0.5, field=field, \n",
    "                  Circ=False, QU=False, logI=True, ind=Idx([0,90]), full=False)\n",
    "    #t.savefig(fname+field.replace(\" \",\"\").replace(\"(\",\"\").replace(\")\",\"\"), dpi=600)"
   ]
  },
  {
   "cell_type": "markdown",
   "metadata": {},
   "source": [
    "# Paper SMART-G, performance"
   ]
  },
  {
   "cell_type": "markdown",
   "metadata": {},
   "source": [
    "## One Geometry, Plane Parallel, LE, Rayleigh, in single precision, \n",
    "<br> Emde etal., 2010 : 10^7 phtons 171 s for Rayleigh"
   ]
  },
  {
   "cell_type": "code",
   "execution_count": null,
   "metadata": {
    "ExecuteTime": {
     "end_time": "2018-04-06T17:03:38.635635Z",
     "start_time": "2018-04-06T17:03:30.789391Z"
    }
   },
   "outputs": [],
   "source": [
    "wl=[500.]\n",
    "atm=AtmAFGL('afglt', NO2=False, O3=0., grid=[120.,0.])\n",
    "S=Smartg(pp=True)"
   ]
  },
  {
   "cell_type": "code",
   "execution_count": null,
   "metadata": {
    "ExecuteTime": {
     "end_time": "2018-04-06T17:03:43.180364Z",
     "start_time": "2018-04-06T17:03:43.122164Z"
    }
   },
   "outputs": [],
   "source": [
    "NBPHOTONS=1e6\n",
    "NG=1\n",
    "le={}\n",
    "le.update(phi=np.array([90.]*NG)*np.pi/180,dtype=np.float32)\n",
    "le.update(th=np.array([0.])*np.pi/180,dtype=np.float32)"
   ]
  },
  {
   "cell_type": "code",
   "execution_count": null,
   "metadata": {
    "ExecuteTime": {
     "end_time": "2018-04-06T17:03:54.945084Z",
     "start_time": "2018-04-06T17:03:53.486189Z"
    }
   },
   "outputs": [],
   "source": [
    "m=S.run(THVDEG=30., wl=wl, NBPHOTONS=NBPHOTONS, le=le, atm=atm, stdev=True, DEPO=0.)"
   ]
  },
  {
   "cell_type": "code",
   "execution_count": null,
   "metadata": {
    "ExecuteTime": {
     "end_time": "2018-04-06T17:03:59.118063Z",
     "start_time": "2018-04-06T17:03:58.708111Z"
    },
    "scrolled": true
   },
   "outputs": [],
   "source": [
    "mean=m['I_up (TOA)'].data[0][0]\n",
    "std=m['I_stdev_up (TOA)'].data[0][0]\n",
    "print ('N Geometry: %i, kernel time: %s s, dI/I=%.3e)'%(NG,m.attrs['kernel time (s)'],std/mean))"
   ]
  },
  {
   "cell_type": "markdown",
   "metadata": {},
   "source": [
    "## One Geometry, Plane Parallel, LE, full simulation, in single precision"
   ]
  },
  {
   "cell_type": "code",
   "execution_count": null,
   "metadata": {
    "ExecuteTime": {
     "end_time": "2018-04-06T17:04:40.550516Z",
     "start_time": "2018-04-06T17:04:39.894147Z"
    },
    "scrolled": true
   },
   "outputs": [],
   "source": [
    "wl=[443.]\n",
    "DEPTH=10.\n",
    "water=IOP_1(0.1, DEPTH=DEPTH)\n",
    "#atm=AtmAFGL('afglt', comp=[AeroOPAC('urban', 0.2, 550.)])\n",
    "atm=AtmAFGL('afglt')\n",
    "surf=RoughSurface(SUR=3, NH2O=1.34, WIND=10., SINGLE=False)\n",
    "pp=True\n",
    "S=Smartg(pp=pp)"
   ]
  },
  {
   "cell_type": "code",
   "execution_count": null,
   "metadata": {
    "ExecuteTime": {
     "end_time": "2018-04-06T17:04:41.836633Z",
     "start_time": "2018-04-06T17:04:40.554036Z"
    },
    "scrolled": true
   },
   "outputs": [],
   "source": [
    "NBPHOTONS=1e6\n",
    "NG=1\n",
    "le={}\n",
    "le.update(phi=np.array([90.]*NG)*np.pi/180,dtype=np.float32)\n",
    "le.update(th=np.array([60.])*np.pi/180,dtype=np.float32)\n",
    "m50le=S.run(THVDEG=50., wl=wl, NBPHOTONS=NBPHOTONS, le=le,\n",
    "       atm=atm, water=water, surf=surf, OUTPUT_LAYERS=3, stdev=True)"
   ]
  },
  {
   "cell_type": "code",
   "execution_count": null,
   "metadata": {
    "ExecuteTime": {
     "end_time": "2018-04-06T17:04:41.904450Z",
     "start_time": "2018-04-06T17:04:41.874831Z"
    },
    "scrolled": true
   },
   "outputs": [],
   "source": [
    "mean=m50le['I_up (TOA)'].data[0][0]\n",
    "std=m50le['I_stdev_up (TOA)'].data[0][0]\n",
    "print ('PP: %s, N Geometry: %i, kernel time: %s s, dI/I=%.3e'%(pp,NG,m50le.attrs['kernel time (s)'],std/mean))"
   ]
  },
  {
   "cell_type": "markdown",
   "metadata": {},
   "source": [
    "## Variation with number of geometries, PP versus spherical"
   ]
  },
  {
   "cell_type": "code",
   "execution_count": null,
   "metadata": {
    "ExecuteTime": {
     "end_time": "2018-04-06T17:06:02.953557Z",
     "start_time": "2018-04-06T17:04:57.289781Z"
    }
   },
   "outputs": [],
   "source": [
    "NBPHOTONS=1e6\n",
    "for pp in [True, False]:\n",
    "    S=Smartg(pp=pp)\n",
    "    for NG in [1, 10, 100]:\n",
    "        le.update(phi=np.array([90.]*NG)*np.pi/180,dtype=np.float32)\n",
    "        m50le=S.run(THVDEG=50., wl=wl, NBPHOTONS=NBPHOTONS, le=le,\n",
    "            atm=atm, water=water, surf=surf, OUTPUT_LAYERS=3, stdev=False)\n",
    "        print ('PP: %s, N Geometry: %i, kernel time: %s s'%(pp,NG,m50le.attrs['kernel time (s)']))\n",
    "        "
   ]
  },
  {
   "cell_type": "markdown",
   "metadata": {},
   "source": [
    "## Variation with OT"
   ]
  },
  {
   "cell_type": "code",
   "execution_count": null,
   "metadata": {
    "ExecuteTime": {
     "end_time": "2018-04-06T17:06:16.288065Z",
     "start_time": "2018-04-06T17:06:02.956706Z"
    },
    "run_control": {
     "marked": false
    }
   },
   "outputs": [],
   "source": [
    "pp=True\n",
    "NG=1\n",
    "S=Smartg(pp=pp)\n",
    "le.update(phi=np.array([90.]*NG)*np.pi/180,dtype=np.float32)\n",
    "for ROT in [0.1,0.3, 1. ,3., 10., 50]:\n",
    "\n",
    "    atm=AtmAFGL('afglt', tauR=ROT)\n",
    "    m50le=S.run(THVDEG=50., wl=wl, NBPHOTONS=NBPHOTONS, le=le,\n",
    "            atm=atm, water=water, surf=surf, OUTPUT_LAYERS=3, stdev=True)\n",
    "    mean=m50le['I_up (TOA)'].data[0][0]\n",
    "    std=m50le['I_stdev_up (TOA)'].data[0][0]\n",
    "    print ('PP: %s, N Geometry: %i, OT: %f, kernel time: %s s, dI/I=%.3e'%(pp,NG,ROT,m50le.attrs['kernel time (s)'],std/mean))"
   ]
  },
  {
   "cell_type": "markdown",
   "metadata": {},
   "source": [
    "# Paper SMART-G, applications"
   ]
  },
  {
   "cell_type": "markdown",
   "metadata": {},
   "source": [
    "## Spherical Shell Atmosphere"
   ]
  },
  {
   "cell_type": "code",
   "execution_count": null,
   "metadata": {
    "ExecuteTime": {
     "end_time": "2018-04-06T17:06:41.799290Z",
     "start_time": "2018-04-06T17:06:23.467482Z"
    }
   },
   "outputs": [],
   "source": [
    "Ssp = Smartg(pp=False, back=True, double=True)\n",
    "Spp = Smartg(pp=True,  back=True, double=True)\n",
    "\n",
    "from smartg.atmosphere import Fair\n",
    "def rho(F) :\n",
    "    return (6.*F-6)/(3+7.*F)\n",
    "\n",
    "def F(rho):\n",
    "    return (6+3*rho)/(6-7*rho)\n",
    "\n",
    "def depo(lam,atm):\n",
    "    F = Fair(np.array([wl]), atm.prof.dens_co2/atm.prof.dens_air*1e6)\n",
    "    return rho(F)\n",
    "DEPO = depo(np.array([wl]), atm)[0,0]\n",
    "#AU  = 0.3262\n",
    "TAU  = 0.32617\n",
    "wl   = 409.71678\n",
    "#DEPO = 0.0279\n",
    "print (DEPO)\n",
    "atm  = AtmAFGL('afglms', O3=0., NO2=False, tauR=TAU, grid='120[1]0')\n",
    "ref  = mSvR60.sub(d={'Zenith angles': slice(0,-1,3)})\n",
    "le={}\n",
    "le.update(th_deg = ref.axis('Zenith angles'))\n",
    "le.update(phi_deg= ref.axis('Azimuth angles'))\n",
    "print(le)\n",
    "\n",
    "# Goal: to simulate an observation from a sensor at TOA and for 1 thv.\n",
    "# In backward mode: the sensor will 'emit' photons in this direction\n",
    "thv = le['th_deg'][20] # 60deg\n",
    "RTER= 6370. # km\n",
    "HTOA= 120.  # km\n",
    "\n",
    "## 1st option, thv is defined from the sensor\n",
    "sensor_sp_thvtoa = Sensor(POSX = 0.,      # Sensor coordinates (in km) (default:origin(0.,0.,0.))\n",
    "                POSY = 0.,\n",
    "                POSZ = HTOA+RTER,# in spherical mode set Z to the distance from Earth center, in pp Z is the altitude\n",
    "                THDEG= 180-thv, # Sensor 'Emitting' zenith angle, from 0: Zenith to 180.: Nadir (default:0.)\n",
    "                PHDEG= 180.,      # Sensor 'Emitting' azimuth angle (default:0.)\n",
    "                LOC  = 'ATMOS', # location of sensor (default: (SURF0P, just above surface)\n",
    "                FOV  = 0.,      # Sensor FOV (default 0.)\n",
    "                TYPE = 0        # Sensor type :Radiance (0), Planar flux (1), Spherical Flux (2), (default 0)\n",
    "               )\n",
    "\n",
    "## 2nd option, thv is defined from the ground\n",
    "POSX = HTOA*np.tan(thv*np.pi/180)\n",
    "POSZ = np.sqrt(POSX**2 + (HTOA+RTER)**2)\n",
    "sensor_sp_thvboa = Sensor(POSX = POSX,      # Sensor coordinates (in km) (default:origin(0.,0.,0.))\n",
    "                POSY = 0.,\n",
    "                POSZ = POSZ,# in spherical mode set Z to the distance from Earth center, in pp Z is the altitude\n",
    "                THDEG= 180-thv, # Sensor 'Emitting' zenith angle, from 0: Zenith to 180.: Nadir (default:0.)\n",
    "                PHDEG= 180.,      # Sensor 'Emitting' azimuth angle (default:0.)\n",
    "                LOC  = 'ATMOS', # location of sensor (default: (SURF0P, just above surface)\n",
    "                FOV  = 0.,      # Sensor FOV (default 0.)\n",
    "                TYPE = 0        # Sensor type :Radiance (0), Planar flux (1), Spherical Flux (2), (default 0)\n",
    "               )\n",
    "sensor_pp = Sensor(POSX = 0.,      # Sensor coordinates (in km) (default:origin(0.,0.,0.))\n",
    "                POSY = 0.,\n",
    "                POSZ =  HTOA    ,# in spherical mode set Z to the distance from Earth center, in pp Z is the altitude\n",
    "                THDEG= 180-thv, # Sensor 'Emitting' zenith angle, from 0: Zenith to 180.: Nadir (default:0.)\n",
    "                PHDEG= 180.,      # Sensor 'Emitting' azimuth angle (default:0.)\n",
    "                LOC  = 'ATMOS', # location of sensor (default: (SURF0P, just above surface)\n",
    "                FOV  = 0.,      # Sensor FOV (default 0.)\n",
    "                TYPE = 0        # Sensor type :Radiance (0), Planar flux (1), Spherical Flux (2), (default 0)\n",
    "               )"
   ]
  },
  {
   "cell_type": "code",
   "execution_count": null,
   "metadata": {
    "ExecuteTime": {
     "end_time": "2018-04-06T17:07:40.466340Z",
     "start_time": "2018-04-06T17:06:51.489011Z"
    },
    "scrolled": true
   },
   "outputs": [],
   "source": [
    "%%time\n",
    "NBP = 1e6\n",
    "msp_thvboa = Ssp.run(THVDEG=thv, wl=wl, NBPHOTONS=NBP, DEPO=DEPO, le=le, atm=atm, stdev=True, \n",
    "                     sensor=sensor_sp_thvboa, reflectance=True)\n",
    "msp_thvtoa = Ssp.run(THVDEG=thv, wl=wl, NBPHOTONS=NBP, DEPO=DEPO, le=le, atm=atm, stdev=True, \n",
    "                     sensor=sensor_sp_thvtoa, reflectance=True)\n",
    "mpp        = Spp.run(THVDEG=thv, wl=wl, NBPHOTONS=NBP, DEPO=DEPO, le=le, atm=atm, stdev=True, sensor=sensor_pp)"
   ]
  },
  {
   "cell_type": "code",
   "execution_count": null,
   "metadata": {
    "ExecuteTime": {
     "end_time": "2018-04-06T17:07:53.132246Z",
     "start_time": "2018-04-06T17:07:51.246058Z"
    }
   },
   "outputs": [],
   "source": [
    "# SP - PP where Thetav is defined at the BOA\n",
    "vmin= [0., 0.]\n",
    "vmax= [0.8, 100]\n",
    "emax= [5e-3, 1]\n",
    "ermax= [1, 1] \n",
    "h=compare(msp_thvboa, mpp, Nparam=2, vmax=vmax, vmin=vmin, emax=emax, ermax=ermax, U_sign=1,\n",
    "          errb=True, logI=False, same_azimuth_convention=True, field='up (TOA)')"
   ]
  },
  {
   "cell_type": "code",
   "execution_count": null,
   "metadata": {
    "ExecuteTime": {
     "start_time": "2018-04-04T16:08:10.736Z"
    }
   },
   "outputs": [],
   "source": [
    "#h.savefig('/home/did/RTC/SMART-G/notebooks/Validation_paper_smartg/2018/spherical_thetav',dpi=600)"
   ]
  },
  {
   "cell_type": "code",
   "execution_count": null,
   "metadata": {
    "ExecuteTime": {
     "end_time": "2018-04-06T17:08:10.656415Z",
     "start_time": "2018-04-06T17:08:09.141220Z"
    }
   },
   "outputs": [],
   "source": [
    "# SP - PP where Thetav is defined at the TOA\n",
    "vmin= [0.,0.]\n",
    "vmax= [0.8, 100]\n",
    "emax= [5e-2, 1]\n",
    "ermax= [10, 10] \n",
    "h=compare(msp_thvtoa, mpp, Nparam=2, vmax=vmax, vmin=vmin, emax=emax, ermax=ermax, U_sign=1,\n",
    "          errb=True, logI=False, same_azimuth_convention=True, field='up (TOA)')"
   ]
  },
  {
   "cell_type": "code",
   "execution_count": null,
   "metadata": {
    "ExecuteTime": {
     "end_time": "2018-04-06T17:08:42.793217Z",
     "start_time": "2018-04-06T17:08:41.318575Z"
    }
   },
   "outputs": [],
   "source": [
    "# Comparison with MYSTIC with Thetav at the TOA in SP\n",
    "mystic_pp=read_mlut('/home/did/RTC/SMART-G/validation/MYSTIC_valid.nc')\\\n",
    "    .sub(d={'wavelength':0,'VZA':0,'Spherical':0})\n",
    "mystic_sp=read_mlut('/home/did/RTC/SMART-G/validation/MYSTIC_valid.nc')\\\n",
    "    .sub(d={'wavelength':0,'VZA':0,'Spherical':1})\n",
    "vmin= [0,0.,0]\n",
    "vmax= [0.8, 100]\n",
    "emax= [1e-2, 1]\n",
    "ermax= [1, 1] \n",
    "h=compare(msp_thvtoa, mystic_sp, Nparam=2, vmax=vmax, vmin=vmin, emax=emax, ermax=ermax, U_sign=1,\n",
    "          errb=True, logI=False, same_azimuth_convention=False, field='up (TOA)')"
   ]
  },
  {
   "cell_type": "code",
   "execution_count": null,
   "metadata": {
    "ExecuteTime": {
     "end_time": "2018-04-06T17:08:57.927331Z",
     "start_time": "2018-04-06T17:08:56.110674Z"
    }
   },
   "outputs": [],
   "source": [
    "# SP - PP where Thetav is defined at the TOA (MYSTIC)\n",
    "vmin= [0.,0.]\n",
    "vmax= [0.8, 100]\n",
    "emax= [5e-2, 1]\n",
    "ermax= [10, 10] \n",
    "h=compare(mystic_sp, mystic_pp, Nparam=2, vmax=vmax, vmin=vmin, emax=emax, ermax=ermax, U_sign=1,\n",
    "          errb=True, logI=False, same_azimuth_convention=True, field='up (TOA)')"
   ]
  },
  {
   "cell_type": "markdown",
   "metadata": {},
   "source": [
    "## Adjacency effects"
   ]
  },
  {
   "cell_type": "code",
   "execution_count": null,
   "metadata": {
    "ExecuteTime": {
     "end_time": "2018-04-06T17:10:48.062471Z",
     "start_time": "2018-04-06T17:10:46.480650Z"
    }
   },
   "outputs": [],
   "source": [
    "# Goal: to simulate an observation from a satellite sensor \n",
    "# for 1 thv and all azimuths (Almucantar)\n",
    "# with a coastline (limit ocean land for x=0km)\n",
    "# the sensor is looking at a varying distance to the coastline\n",
    "# we simulate a coastline as being the zone near a big circle, whose radius is 10000 km\n",
    "# centred on a point located far from the sensor (-10000 km)\n",
    "# Principal plane reflectance and DoLP for 380, 500 and 800 nm\n",
    "wl =[380., 500., 800.]\n",
    "col=['b','g','r']\n",
    "nsaa=4\n",
    "nsza=24\n",
    "SZA_MAX=70.\n",
    "SAA  = np.linspace(0., 270.,    num=nsaa, dtype=np.float32, endpoint=True)\n",
    "SZA  = np.linspace(0., SZA_MAX, num=nsza, dtype=np.float32, endpoint=True)\n",
    "le={'th_deg':SZA,'phi_deg':SAA}\n",
    "\n",
    "aer=AeroOPAC('desert',0.3, 500.)\n",
    "atm=AtmAFGL('afglms', comp=[aer])\n",
    "#surf=RoughSurface(WIND=5., WAVE_SHADOW=True, BRDF=True)\n",
    "surf=RoughSurface(WIND=5., WAVE_SHADOW=True, SINGLE=True)\n",
    "\n",
    "VZA = 30.\n",
    "D   = 10000.\n",
    "env = Environment(ENV=1, \n",
    "                  ENV_SIZE= D ,       # radius of the circle with ocean surface condition\n",
    "                  X0= -D,             # X coordinate of the center of the circle\n",
    "                  Y0= 0,\n",
    "                  ALB=Albedo_cst(0.5) # Lambertian grey albedo of the land zone\n",
    "                 )\n",
    "Sb = Smartg(back=True,  double=True)\n",
    "Sf = Smartg(back=False, double=True)"
   ]
  },
  {
   "cell_type": "code",
   "execution_count": null,
   "metadata": {
    "ExecuteTime": {
     "end_time": "2018-04-06T17:12:20.388155Z",
     "start_time": "2018-04-06T17:10:57.288419Z"
    }
   },
   "outputs": [],
   "source": [
    "%%time\n",
    "MBS=[]\n",
    "dist_l= [0.250, 5., 10000.]\n",
    "HTOA  = 120.\n",
    "for VAA in [0., 90., 180., 270.]:\n",
    "    for dist in dist_l:\n",
    "        DeltaX = HTOA*np.tan(VZA*np.pi/180) * cos((180-VAA)*np.pi/180.)\n",
    "        DeltaY = HTOA*np.tan(VZA*np.pi/180) * sin((180-VAA)*np.pi/180.)\n",
    "        sensor = Sensor(\n",
    "                POSX = -dist + DeltaX,      # Sensor coordinates (in km) (default:origin(0.,0.,0.))\n",
    "                POSY = DeltaY,\n",
    "                POSZ = HTOA,\n",
    "                THDEG= 180-VZA, # Sensor 'Emitting' zenith angle, from 0: Zenith to 180.: Nadir (default:0.)\n",
    "                PHDEG= VAA,     # Sensor 'Emitting' azimuth angle (default:0.)\n",
    "                LOC  = 'ATMOS', # location of sensor (default: (SURF0P, just above surface)\n",
    "                FOV  = 0.,      # Sensor FOV (default 0.)\n",
    "                TYPE = 0        # Sensor type :Radiance (0), Planar flux (1), Spherical Flux (2), (default 0)\n",
    "        )\n",
    "        m=Sb.run(wl=wl, atm=atm, surf=surf, env=env, NBPHOTONS=1e6, le=le, \n",
    "                 sensor=sensor, BEER=0, progress=False)\n",
    "        m.set_attr('VAA', VAA)\n",
    "        m.set_attr('dist',dist)\n",
    "        MBS.append(m)\n",
    "mb = merge(MBS, ['VAA','dist'])"
   ]
  },
  {
   "cell_type": "code",
   "execution_count": null,
   "metadata": {
    "ExecuteTime": {
     "end_time": "2018-04-06T17:13:22.102591Z",
     "start_time": "2018-04-06T17:13:19.213121Z"
    }
   },
   "outputs": [],
   "source": [
    "RAA=0.\n",
    "\n",
    "for i,w in enumerate(wl):\n",
    "    f=transect_view(mb.sub(d={'dist':0, 'wavelength':Idx(w), 'VAA': 0}), color='m', fmt=':', ind=Idx([RAA]) )\n",
    "    _=transect_view(mb.sub(d={'dist':-2,'wavelength':Idx(w), 'VAA': 0}), color='m', fmt='--',ind=Idx([RAA])   , fig=f)\n",
    "    \n",
    "    _=transect_view(mb.sub(d={'dist':0, 'wavelength':Idx(w), 'VAA':-1}), color='C1',fmt=':', ind=Idx([RAA+90]), fig=f)\n",
    "    _=transect_view(mb.sub(d={'dist':-2,'wavelength':Idx(w), 'VAA':-1}), color='C1',fmt='--',ind=Idx([RAA+90]), fig=f)\n",
    "\n",
    "    _=transect_view(mb.sub(d={'dist':0, 'wavelength':Idx(w), 'VAA': 2}), color='g', fmt=':', ind=Idx([RAA+180]),fig=f)\n",
    "    _=transect_view(mb.sub(d={'dist':-2,'wavelength':Idx(w), 'VAA': 2}), color='g', fmt='--',ind=Idx([RAA+180]),fig=f)\n",
    "    \n",
    "    _=transect_view(mb.sub(d={'dist':-1,'wavelength':Idx(w), 'VAA':0}) , color='k', fmt='-', ind=Idx([RAA]),    fig=f, vmin=0,vmax=.4)\n",
    "    text(-50.,95,r'$\\lambda$=%.0f nm'%w)\n",
    "    if i==2:\n",
    "        plot([-50,-25],[90,90],'k-')\n",
    "        text(-23,90,'homogeneous ocean')\n",
    "        plot([-50,-25],[85,85],'k:')\n",
    "        text(-23,85,'d=250 m')\n",
    "        plot([-50,-25],[80,80],'k--')\n",
    "        text(-23,80,'d=5000 m')\n",
    "        plot([-50,-25],[75,75],'m-')\n",
    "        text(-23,75,r'VAA=0$\\degree$  (above water)', color='m')\n",
    "        plot([-50,-25],[70,70],'C1-')\n",
    "        text(-23,70,r'VAA=90$\\degree$ (along the coast)', color='C1')\n",
    "        plot([-50,-25],[65,65],'g-')\n",
    "        text(-23,65,r'VAA=180$\\degree$ (above land)', color='g')\n",
    "    #f.savefig('/home/did/RTC/SMART-G/notebooks/Validation_paper_smartg/2018/adjacency_thetav%i'%i,dpi=600)\n"
   ]
  },
  {
   "cell_type": "markdown",
   "metadata": {
    "collapsed": true
   },
   "source": [
    "# Cox and Munk"
   ]
  },
  {
   "cell_type": "code",
   "execution_count": null,
   "metadata": {
    "ExecuteTime": {
     "end_time": "2018-04-06T17:13:36.164817Z",
     "start_time": "2018-04-06T17:13:35.893015Z"
    }
   },
   "outputs": [],
   "source": [
    "from scipy.special import erfc\n",
    "def Fresnel(thetai, NW=1.33):\n",
    "    \n",
    "    thetat = np.arcsin(sin(thetai)/NW)\n",
    "    rper   = (NW*np.cos(thetai)-np.cos(thetat))/(NW*np.cos(thetai)+np.cos(thetat))\n",
    "    rpar   = (np.cos(thetai)-NW*np.cos(thetat))/(np.cos(thetai)+NW*np.cos(thetat))\n",
    "    return rper**2, rpar**2\n",
    "\n",
    "def P(beta, WS=2.):\n",
    "    sig = sqrt(0.003 + 0.00512 *WS)\n",
    "    return exp(-np.tan(beta)**2/(sig**2))/(np.pi*sig**2)\n",
    "\n",
    "def Shadow(mus, muv, WS=2.):\n",
    "    sig = sqrt(0.003 + 0.00512 *WS)\n",
    "    nus = 1/np.tan(np.arccos(mus))/sig/sqrt(2.)\n",
    "    lambdaS = (np.exp(-nus**2) -nus*sqrt(np.pi)*erfc(nus))/(2*nus*sqrt(np.pi))\n",
    "    nuv = 1/np.tan(np.arccos(muv))/sig/sqrt(2.)\n",
    "    lambdaV = (np.exp(-nuv**2) -nuv*sqrt(np.pi)*erfc(nuv))/(2*nuv*sqrt(np.pi))\n",
    "    return 1./(1.+lambdaS+lambdaV)\n",
    "\n",
    "def LambdaM(avz, sig2) :\n",
    "    #Mischenko implementation\n",
    "    if (avz == 1.) : l = 0.;\n",
    "    else :\n",
    "        s1 = np.sqrt(np.float64(2)*sig2/np.pi);\n",
    "        s3 = np.float64(1)/np.sqrt(np.float64(2)*sig2);\n",
    "        s2 = s3*s3;\n",
    "        xi = avz;\n",
    "        xxi=xi*xi;\n",
    "        dcot =  xi / np.sqrt(np.float64(1)-xxi);\n",
    "        t1 = np.exp(-dcot*dcot*s2);\n",
    "        t2 = erfc(dcot*s3);\n",
    "        l  = 0.5*(s1*t1/dcot-t2);\n",
    "    return l\n",
    "\n",
    "def Shadow2(mus, muv, WS=2.):\n",
    "    sig = sqrt(0.003 + 0.00512 *WS)\n",
    "    return 1./(1.+LambdaM(mus,sig*sig)+LambdaM(muv,sig*sig))"
   ]
  },
  {
   "cell_type": "code",
   "execution_count": null,
   "metadata": {
    "ExecuteTime": {
     "end_time": "2018-04-06T17:13:38.408370Z",
     "start_time": "2018-04-06T17:13:38.311799Z"
    }
   },
   "outputs": [],
   "source": [
    "def Glint(thetas, thetav, dphi, WS=2., SHADOW=False):\n",
    "    mus = cos(thetas*np.pi/180.)\n",
    "    muv = cos(thetav*np.pi/180.)\n",
    "    shadow = Shadow(mus,muv,WS=WS) if SHADOW else 1.\n",
    "    cosp= cos(dphi*np.pi/180.)\n",
    "    mu  = mus*muv + sqrt(1-mus**2)*sqrt(1-muv**2)*cosp\n",
    "    mub = (mus+muv)/(sqrt(2.+2*mu))\n",
    "    rho = np.pi*P(np.arccos(mub),WS=WS)/(4*mus*muv*mub**4) * shadow\n",
    "    rper, rpar= Fresnel(np.arccos(mu)/2.)\n",
    "    return rper*rho, rpar*rho"
   ]
  },
  {
   "cell_type": "code",
   "execution_count": null,
   "metadata": {
    "ExecuteTime": {
     "end_time": "2018-04-06T17:13:44.316317Z",
     "start_time": "2018-04-06T17:13:39.462513Z"
    }
   },
   "outputs": [],
   "source": [
    "%%time\n",
    "Dphi=180.\n",
    "\n",
    "NBPHOTONS=1e5\n",
    "S=Smartg(double=True, back=False)\n",
    "th = np.concatenate((np.linspace(0.,80.,num=30), np.array([82.,84.,86.,88., 89.])),axis=0)\n",
    "fig,ax = subplots(2,2)\n",
    "ws_l=[2.,15.]\n",
    "color_l=['r','b']\n",
    "##########\n",
    "le={'th_deg':th}\n",
    "le.update(phi_deg=np.array([Dphi]))\n",
    "for it, (th0, line) in enumerate(zip([45., 70.],['-','-'])):\n",
    "    for WS, color in zip(ws_l, color_l):\n",
    "        for shadow, sym in zip([True,False],['.','+']):\n",
    "            col = it\n",
    "            surf=RoughSurface(SUR=1,NH2O=1.33, WIND=WS, WAVE_SHADOW=shadow, SINGLE=False)\n",
    "            m=S.run(THVDEG=th0, NBPHOTONS=NBPHOTONS, surf=surf, wl=443., le=le, water=None, OUTPUT_LAYERS=3)\n",
    "            ax[0,col].plot(th,abs(m['I_up (0+)'].sub()[Idx(Dphi),:].data), sym, color=color)\n",
    "\n",
    "            Iper, Ipar = Glint(th0, th, Dphi, WS=WS, SHADOW=shadow)\n",
    "            ax[0,col].plot(th, abs(0.5*(Iper+Ipar)), line, color=color)            \n",
    "            ax[0,col].set_title(r'$\\theta_s$:%.0f'%th0)\n",
    "            if it==0:                \n",
    "                ax[0,col].set_ylim([0.001,2])\n",
    "                label=''\n",
    "            else : \n",
    "                if shadow:\n",
    "                    label = r'$w_s$= {0:.0f}m/s + wave shadows'.format(WS)\n",
    "                else :\n",
    "                    label = r'$w_s$= {0:.0f}m/s'.format(WS)\n",
    "                ax[0,col].set_ylim([0.001,100])\n",
    "            ax[1,col].plot(th,100* (abs(m['I_up (TOA)'].sub()[Idx(Dphi),:].data) - abs(0.5*(Iper+Ipar)))/abs(0.5*(Iper+Ipar)), \n",
    "                           sym+color, label=label)\n",
    "            ax[1,col].set_ylim([-5,10])\n",
    "            ax[1,col].set_xlabel(r'$\\theta_v$',fontsize=14)\n",
    "        ax[1,0].set_ylabel(r'$\\Delta (\\%)$',fontsize=14)\n",
    "        ax[0,0].set_ylabel(r'$\\rho_g$',fontsize=14)\n",
    "\n",
    "sca(ax[0,1])\n",
    "plot([0,6],[90,90],'.'+color_l[0])\n",
    "text(8,90,r'$w_s$= {0:.0f}m/s + wave shadows'.format(ws_l[0]), color=color_l[0])\n",
    "plot([0,6],[80,80],'+'+color_l[0])\n",
    "text(8,80,r'$w_s$= {0:.0f}m/s'.format(ws_l[0]), color=color_l[0])\n",
    "plot([0,6],[70,70],'.'+color_l[1])\n",
    "text(8,70,r'$w_s$= {0:.0f}m/s + wave shadows'.format(ws_l[1]), color=color_l[1])\n",
    "plot([0,6],[60,60],'+'+color_l[1])\n",
    "text(8,60,r'$w_s$= {0:.0f}m/s'.format(ws_l[1]), color=color_l[1])\n",
    "plot([0,6],[50,50],'-k')\n",
    "text(8,50,'Analytical (see text)', color='k')\n",
    "fig.set_size_inches(10,8)\n",
    "#fig.savefig('/home/did/RTC/SMART-G/notebooks/Validation_paper_smartg/2018/glitter.png', dpi=600)"
   ]
  }
 ],
 "metadata": {
  "anaconda-cloud": {},
  "hide_input": false,
  "kernelspec": {
   "display_name": "Python [conda env:py3v4.4]",
   "language": "python",
   "name": "conda-env-py3v4.4-py"
  },
  "language_info": {
   "codemirror_mode": {
    "name": "ipython",
    "version": 3
   },
   "file_extension": ".py",
   "mimetype": "text/x-python",
   "name": "python",
   "nbconvert_exporter": "python",
   "pygments_lexer": "ipython3",
   "version": "3.6.2"
  },
  "toc": {
   "colors": {
    "hover_highlight": "#DAA520",
    "navigate_num": "#000000",
    "navigate_text": "#333333",
    "running_highlight": "#FF0000",
    "selected_highlight": "#FFD700",
    "sidebar_border": "#EEEEEE",
    "wrapper_background": "#FFFFFF"
   },
   "moveMenuLeft": true,
   "nav_menu": {
    "height": "512px",
    "width": "252px"
   },
   "navigate_menu": true,
   "number_sections": false,
   "sideBar": true,
   "threshold": 4,
   "toc_cell": true,
   "toc_number_sections": true,
   "toc_position": {
    "height": "793px",
    "left": "0px",
    "right": "1180.33px",
    "top": "161px",
    "width": "249px"
   },
   "toc_section_display": "block",
   "toc_threshold": 4,
   "toc_window_display": true,
   "widenNotebook": false
  },
  "toc_position": {
   "left": "1588px",
   "right": "32px",
   "top": "95px",
   "width": "300px"
  },
  "widgets": {
   "state": {
    "18d577d8c5e54cab8b002be98b41be0e": {
     "views": [
      {
       "cell_index": 53
      }
     ]
    },
    "19219e6c2c3a4fbd9ea46bc35650f79d": {
     "views": [
      {
       "cell_index": 53
      }
     ]
    },
    "1df36386c5e64ebf884c81aa2051d6f5": {
     "views": [
      {
       "cell_index": 52
      }
     ]
    },
    "20d23fd831414c89852ffa609372c8ec": {
     "views": [
      {
       "cell_index": 52
      }
     ]
    },
    "30e1420996dd4008bee5dcf02078d4e9": {
     "views": [
      {
       "cell_index": 53
      }
     ]
    },
    "389c5d7fcd2e47f2aa5bc01593698c0e": {
     "views": [
      {
       "cell_index": 53
      }
     ]
    },
    "478704c20b5d4c43bee67182c4d54799": {
     "views": [
      {
       "cell_index": 5
      }
     ]
    },
    "494d9403f3c34114bc21eb5f85a87c31": {
     "views": [
      {
       "cell_index": 43
      }
     ]
    },
    "49838619df7641dfa80498ac15059d4b": {
     "views": [
      {
       "cell_index": 53
      }
     ]
    },
    "4e5fa074f2d543a8851f267baa23c778": {
     "views": [
      {
       "cell_index": 53
      }
     ]
    },
    "7431c046e7f04b1da45cbdd8ecfcbbcd": {
     "views": [
      {
       "cell_index": 11
      }
     ]
    },
    "754f91ccc1754daeb8eb014f6eea76df": {
     "views": [
      {
       "cell_index": 53
      }
     ]
    },
    "96cf6fc3142647e5b3985b76c65382fa": {
     "views": [
      {
       "cell_index": 53
      }
     ]
    },
    "98d18a6fc1f745ae8e41278f138a5f0c": {
     "views": [
      {
       "cell_index": 52
      }
     ]
    },
    "af1b90fcdffc43a8ac4e5133ad2ac204": {
     "views": [
      {
       "cell_index": 52
      }
     ]
    },
    "e3ab31e85a9d4d6cbb9e6f497d29df8b": {
     "views": [
      {
       "cell_index": 52
      }
     ]
    },
    "ef572a6040f14f63aa2e061d1364bd57": {
     "views": [
      {
       "cell_index": 53
      }
     ]
    },
    "f449b50878f947aca2f4796b2a19545f": {
     "views": [
      {
       "cell_index": 53
      }
     ]
    }
   },
   "version": "1.2.0"
  }
 },
 "nbformat": 4,
 "nbformat_minor": 1
}
