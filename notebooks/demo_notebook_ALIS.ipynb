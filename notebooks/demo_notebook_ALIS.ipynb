{
 "cells": [
  {
   "cell_type": "markdown",
   "metadata": {},
   "source": [
    "# Smart-G demo notebook\n",
    "\n",
    "This is an interactive document allowing to run Smart-G with python and visualize the results. <br>\n",
    "*Tips*: cells can be executed with shift-enter. Tooltips can be obtained with shift-tab. More information [here](http://ipython.org/notebook.html) or in the help menu. [A table of content can also be added](https://github.com/minrk/ipython_extensions#table-of-contents)."
   ]
  },
  {
   "cell_type": "code",
   "execution_count": null,
   "metadata": {
    "collapsed": false,
    "scrolled": false
   },
   "outputs": [],
   "source": [
    "%pylab inline\n",
    "# next 2 lines allow to automatically reload modules that have been changed externally\n",
    "%reload_ext autoreload\n",
    "%autoreload 2\n",
    "import sys\n",
    "sys.path.append('..')\n",
    "from smartg import Smartg, reptran_merge\n",
    "from smartg import RoughSurface, LambSurface, FlatSurface, Environment\n",
    "from smartg import Profile, AeroOPAC, CloudOPAC, IOP_SPM, IOP_MM, REPTRAN, REPTRAN_IBAND, REPTRAN_IBAND_LIST\n",
    "from tools.tools import SpecInt, SpecInt2, Irr, ReadREPTRAN_bands, reduce_reptran\n",
    "from tools.luts import LUT, MLUT, Idx, merge, read_lut_hdf, read_mlut\n",
    "from tools.smartg_view import plot_polar, smartg_view, input_view, mdesc, transect_view\n",
    "from ipywidgets import interact, interact_manual\n",
    "from matplotlib import colors\n",
    "colors_ = list(six.iteritems(colors.cnames))\n",
    "# Add the single letter colors.\n",
    "for name, rgb in six.iteritems(colors.ColorConverter.colors):\n",
    "    hex_ = colors.rgb2hex(rgb)\n",
    "    colors_.append((name, hex_))\n",
    "\n",
    "# Transform to hex color values.\n",
    "hex_ = [color[1] for color in colors_]\n",
    "# Get the rgb equivalent.\n",
    "rgb = [colors.hex2color(color) for color in hex_]\n",
    "\n",
    "# Split the hsv values to sort.\n",
    "rr = [color[0] for color in rgb]\n",
    "gg = [color[1] for color in rgb]\n",
    "bb = [color[2] for color in rgb]\n",
    "\n",
    "# Sort by hue, saturation and value.\n",
    "ind = np.lexsort((rr, gg, bb))\n",
    "sorted_colors = [colors_[i] for i in ind]"
   ]
  },
  {
   "cell_type": "markdown",
   "metadata": {},
   "source": [
    "# Equivalence Theorem"
   ]
  },
  {
   "cell_type": "code",
   "execution_count": null,
   "metadata": {
    "collapsed": false
   },
   "outputs": [],
   "source": [
    "# Here we compare the TOA radiance simulated with\n",
    "# plane parallel and spherical atmospheres, at 443 nm.\n",
    "atm=Profile('afglt',grid=np.linspace(100.,0.,num=100), O3=400., NO2=False)\n",
    "results = []\n",
    "le={}\n",
    "le.update(th=np.linspace(0.,89.,num=24)*np.pi/180)\n",
    "le.update(phi=np.array([0.],dtype=np.float32)*np.pi/180)\n",
    "for pp in [True, False]:\n",
    "    S=Smartg(pp=pp, alt_move=True)\n",
    "    for BEER in [0, 1]:\n",
    "        results.append(S.run(THVDEG=0., wl=550., NBPHOTONS=1e8, le=le, atm=atm, BEER=BEER))\n",
    "    \n",
    "SSA_PP = results[0]['I_up (TOA)']\n",
    "ET_PP  = results[1]['I_up (TOA)']\n",
    "SSA_SP = results[2]['I_up (TOA)']\n",
    "ET_SP  = results[3]['I_up (TOA)']"
   ]
  },
  {
   "cell_type": "code",
   "execution_count": null,
   "metadata": {
    "collapsed": false
   },
   "outputs": [],
   "source": [
    "((ET_SP-ET_PP)/ET_SP*100.).sub()[0,:].plot(fmt='k-o',vmin=-2,vmax=2)\n",
    "((SSA_SP-SSA_PP)/SSA_SP*100.).sub()[0,:].plot(fmt='r-o',vmin=-2,vmax=2)\n",
    "figure()\n",
    "((SSA_SP-ET_SP)/SSA_SP*100.).sub()[0,:].plot(fmt='r-x',vmin=-.5,vmax=.5)\n",
    "((SSA_PP-ET_PP)/SSA_PP*100.).sub()[0,:].plot(fmt='k-x',vmin=-.5,vmax=.5)"
   ]
  },
  {
   "cell_type": "code",
   "execution_count": null,
   "metadata": {
    "collapsed": false
   },
   "outputs": [],
   "source": [
    "# Here we compare the TOA radiance simulated with\n",
    "# plane parallel and spherical atmospheres, in the EPIC 317 channel for slant view along the day\n",
    "atm=Profile('afglt',grid=np.linspace(100.,0.,num=100),  NO2=False)\n",
    "results = []\n",
    "le={}\n",
    "le.update(th=np.linspace(0.,89.,num=24)*np.pi/180)\n",
    "le.update(phi=np.array([0.],dtype=np.float32)*np.pi/180)\n",
    "for pp in [True, False]:\n",
    "    S=Smartg(pp=pp, alt_move=True)\n",
    "    for BEER in [0, 1]:\n",
    "        results.append(S.run(THVDEG=70., wl=317., NBPHOTONS=1e7, le=le, atm=atm, BEER=BEER))\n",
    "    \n",
    "SSA_PP = results[0]['I_up (TOA)']\n",
    "ET_PP  = results[1]['I_up (TOA)']\n",
    "SSA_SP = results[2]['I_up (TOA)']\n",
    "ET_SP  = results[3]['I_up (TOA)']"
   ]
  },
  {
   "cell_type": "code",
   "execution_count": null,
   "metadata": {
    "collapsed": false
   },
   "outputs": [],
   "source": [
    "((ET_SP-ET_PP)/ET_SP*100.).sub()[0,:].plot(fmt='k-o',vmin=-2,vmax=5)\n",
    "((SSA_SP-SSA_PP)/SSA_SP*100.).sub()[0,:].plot(fmt='r-o',vmin=-2,vmax=5)\n",
    "figure()\n",
    "((SSA_SP-ET_SP)/SSA_SP*100.).sub()[0,:].plot(fmt='r-x',vmin=-.5,vmax=.5)\n",
    "((SSA_PP-ET_PP)/SSA_PP*100.).sub()[0,:].plot(fmt='k-x',vmin=-.5,vmax=.5)"
   ]
  },
  {
   "cell_type": "code",
   "execution_count": null,
   "metadata": {
    "collapsed": true
   },
   "outputs": [],
   "source": [
    "SSA_PP = results[0]['I_up (TOA)']\n",
    "ET_PP  = results[1]['I_up (TOA)']\n",
    "SSA_SP = results[2]['I_up (TOA)']\n",
    "ET_SP  = results[3]['I_up (TOA)']"
   ]
  },
  {
   "cell_type": "code",
   "execution_count": null,
   "metadata": {
    "collapsed": false
   },
   "outputs": [],
   "source": [
    "ET_PP.sub()[0,:].plot(fmt='kx')\n",
    "ET_SP.sub()[0,:].plot(fmt='ro')"
   ]
  },
  {
   "cell_type": "markdown",
   "metadata": {},
   "source": [
    "## HITRAN"
   ]
  },
  {
   "cell_type": "code",
   "execution_count": null,
   "metadata": {
    "collapsed": false
   },
   "outputs": [],
   "source": [
    "import hapi_gpu as hapi"
   ]
  },
  {
   "cell_type": "code",
   "execution_count": null,
   "metadata": {
    "collapsed": false
   },
   "outputs": [],
   "source": [
    "hapi.db_begin('data')"
   ]
  },
  {
   "cell_type": "code",
   "execution_count": null,
   "metadata": {
    "collapsed": false,
    "hide_input": true,
    "init_cell": true
   },
   "outputs": [],
   "source": [
    "def create_profile(z, taur=None, taug=None, taua=None, tauc=None, ssaa=None, ssac=None):\n",
    "    profile = np.zeros(len(z), dtype=[('I', int),\n",
    "                                 ('ALT', float),\n",
    "                                 ('hmol', float),\n",
    "                                 ('haer', float),\n",
    "                                 ('H', float),\n",
    "                                 ('HSCA', float),\n",
    "                                 ('HABS', float),\n",
    "                                 ('XDEL', float),\n",
    "                                 ('YDEL', float),\n",
    "                                 ('XSSA', float),\n",
    "                                 ('percent_abs', float),\n",
    "                                 ('IPHA', int),\n",
    "                                ])\n",
    "    \n",
    "    if taur is None : taur = np.zeros(z.shape)\n",
    "    if taug is None : taug = np.zeros_like(z)\n",
    "    if taua is None : taua = np.zeros_like(z)\n",
    "    if tauc is None : tauc = np.zeros_like(z)\n",
    "    if ssaa is None : ssaa = np.ones_like(z)\n",
    "    if ssac is None : ssac = np.ones_like(z)\n",
    "  \n",
    "    hray = 0. #cumulated rayl. extinction OT\n",
    "    haer = 0. #cumulated aero. extinction OT\n",
    "    hclo = 0. #cumulated clou. extinction OT\n",
    "    hgas = 0. #cumulated gas   absorption OT\n",
    "    htot = 0. #cumulated total extinction OT\n",
    "    hsca = 0. #cumulated total scattering OT\n",
    "    habs = 0. #cumulated total absorption OT\n",
    "    \n",
    "    for m in xrange(len(z)):\n",
    "\n",
    "        if m==0 :\n",
    "            profile[m] = (m, z[m], 0., 0., 0., 0., 0., 0., 1., 1., 0., 0)\n",
    "            \n",
    "        else :\n",
    "            hray  += taur[m]\n",
    "            haer  += taua[m]\n",
    "            hclo  += tauc[m]\n",
    "            hgas  += taug[m]\n",
    "            tau  = taur[m]+ taua[m]+ tauc[m]+ taug[m]\n",
    "            pabs = taug[m]/tau\n",
    "           \n",
    "            if ((taua[m]+tauc[m]) <=0):\n",
    "                xssa=1.\n",
    "            else:\n",
    "                xssa=(ssaa[m]*taua[m] + ssac[m]*tauc[m])/(taua[m]+tauc[m])\n",
    "                \n",
    "            tausca = taur[m] + (taua[m]+tauc[m]) * xssa\n",
    "            ydel = taur[m]/ tausca\n",
    "            xdel = (taua[m]+tauc[m]) * xssa/ tausca\n",
    "            hsca += tausca\n",
    "            \n",
    "            tauabs = taug[m] + (taua[m]+tauc[m]) * (1.-xssa)\n",
    "            habs += tauabs\n",
    "            htot += (tauabs + tausca)\n",
    "            profile[m] = (m, z[m], hray, haer+hclo, htot , hsca, habs, xdel, ydel, xssa, pabs, 0)\n",
    "\n",
    "    return profile"
   ]
  },
  {
   "cell_type": "markdown",
   "metadata": {},
   "source": [
    "### O2"
   ]
  },
  {
   "cell_type": "code",
   "execution_count": null,
   "metadata": {
    "collapsed": false
   },
   "outputs": [],
   "source": [
    "%%time\n",
    "dl= 0.001\n",
    "lmin=765.4\n",
    "lmax=765.5 + dl\n",
    "\n",
    "NW=int((lmax-lmin)/dl)+1\n",
    "vmin=1e7/lmax\n",
    "vmax=1e7/lmin\n",
    "dv=(vmax-vmin)/NW\n",
    "#vmin=12980. #cm-1\n",
    "#vmax=13200.25 #cm-1\n",
    "#hapi.fetch('O2i1',7,1,vmin-100,vmax+100)\n",
    "#hapi.fetch('O2i2',7,2,vmin-100,vmax+100)\n",
    "#hapi.fetch('O2i3',7,3,vmin-100,vmax+100)\n",
    "#dv=.25 #cm-1\n",
    "NL=101\n",
    "#NW= int((vmax-vmin)/dv)\n",
    "print 'NW: ', NW\n",
    "pmin=0.001\n",
    "pmax=1012.\n",
    "pnew=np.linspace(pmin,pmax, num=NL)\n",
    "#znew=abs(-8. *np.log(pnew/pmax))\n",
    "znew =np.linspace(100.,0.,num=NL)\n",
    "aer=AeroOPAC('maritime_clean', 0.2, 760.)\n",
    "atm=Profile('afglmw', grid=znew, O3=0., NO2=False, aer=None, pfwav=[760.],force_cache=True)\n",
    "dz = np.ediff1d(atm.z, to_begin=0)\n",
    "\n",
    "ao2=np.zeros((NW,NL),dtype=float)\n",
    "cao2=np.zeros((NW,NL),dtype=float)\n",
    "i=0\n",
    "for p,t,o2,z in zip(atm.P,atm.T,atm.o2,atm.z):\n",
    "    nuo2,coefo2 = hapi.absorptionCoefficient_Voigt_gpu(SourceTables=['O2i1','O2i2','O2i3'],HITRAN_units=False,\n",
    "            OmegaRange=[vmin,vmax],OmegaStep=dv,GammaL='gamma_self',\n",
    "            Environment={'p':p/1013.,'T':t})\n",
    "    ao2[:,i] = coefo2*1e5\n",
    "    #ao2[:,i] = 0.\n",
    "    i=i+1\n",
    "wl=1e7/nuo2\n",
    "\n",
    "\n",
    "for i,w in enumerate(wl[::1]):\n",
    "    \n",
    "    taur= np.ediff1d(atm.calc(w)['hmol'], to_begin=0)\n",
    "    \n",
    "    atm.cache_prof_keys.append(w)\n",
    "    pro=create_profile(znew, taur=taur, taug=ao2[i,:])\n",
    "    atm.cache_prof_values.append(pro)                                 "
   ]
  },
  {
   "cell_type": "code",
   "execution_count": null,
   "metadata": {
    "collapsed": true
   },
   "outputs": [],
   "source": [
    "S=Smartg(alis={'nlow':-1}, double=True)"
   ]
  },
  {
   "cell_type": "code",
   "execution_count": null,
   "metadata": {
    "collapsed": false
   },
   "outputs": [],
   "source": [
    "S.run(wl=wl,atm=atm,flux='planar', NBPHOTONS=1e8, progress=False)['flux_up (TOA)'].plot(fmt='.-')"
   ]
  },
  {
   "cell_type": "markdown",
   "metadata": {},
   "source": [
    "### O3"
   ]
  },
  {
   "cell_type": "code",
   "execution_count": null,
   "metadata": {
    "collapsed": false
   },
   "outputs": [],
   "source": [
    "%%time\n",
    "dl= 0.1\n",
    "lmin=280.\n",
    "lmax=310. + dl\n",
    "\n",
    "NW=int((lmax-lmin)/dl)\n",
    "vmin=1e7/lmax\n",
    "vmax=1e7/lmin\n",
    "dv=(vmax-vmin)/NW\n",
    "\n",
    "#hapi.fetch('O3i1',3,1,vmin,vmax)\n",
    "\n",
    "NL=101\n",
    "print 'NW: ', NW\n",
    "pmin=0.001\n",
    "pmax=1012.\n",
    "#pnew=np.linspace(pmin,pmax, num=NL)\n",
    "#znew=abs(-8. *np.log(pnew/pmax))\n",
    "znew =np.linspace(100.,0.,num=NL)\n",
    "#aer=AeroOPAC('maritime_clean', 0.2, 760.)\n",
    "atm=Profile('afglmw', grid=znew, NO2=False, aer=None, pfwav=[300.])\n",
    "dz = np.ediff1d(atm.z, to_begin=0)\n",
    "\n",
    "ao3=np.zeros((NW,NL),dtype=float)\n",
    "cao3=np.zeros((NW,NL),dtype=float)\n",
    "i=0\n",
    "for p,t,z in zip(atm.P,atm.T,atm.z):\n",
    "    nuo3,coefo3 = hapi.absorptionCoefficient_Voigt_gpu(SourceTables=['O3'],HITRAN_units=False,\n",
    "            OmegaRange=[vmin,vmax],OmegaStep=dv,GammaL='gamma_self',\n",
    "            Environment={'p':p/1013.,'T':t})\n",
    "    ao3[:,i] = coefo3*1e5\n",
    "    i=i+1\n",
    "wl=1e7/nuo3\n",
    "\n",
    "\n",
    "for i,w in enumerate(wl[::1]):\n",
    "    \n",
    "    taur= np.ediff1d(atm.calc(w)['hmol'], to_begin=0)\n",
    "    atm.cache_prof_keys.append(w)\n",
    "    pro=create_profile(znew, taur=taur, taug=ao3[i,:])\n",
    "    atm.cache_prof_values.append(pro)                                 "
   ]
  },
  {
   "cell_type": "code",
   "execution_count": null,
   "metadata": {
    "collapsed": false
   },
   "outputs": [],
   "source": [
    "S0=Smartg(alis=False, double=True)\n",
    "S=Smartg(alis=True, double=True, debug_photon=False)"
   ]
  },
  {
   "cell_type": "code",
   "execution_count": null,
   "metadata": {
    "collapsed": false,
    "run_control": {
     "marked": false
    }
   },
   "outputs": [],
   "source": [
    "##%prun  \n",
    "le={}\n",
    "le.update(th=np.array([20.])*np.pi/180)\n",
    "le.update(phi=np.array([180.])*np.pi/180)\n",
    "#le={}\n",
    "#le.update(th=np.linspace(0.,89.,num=12)*np.pi/180)\n",
    "#le.update(phi=np.linspace(0.,360,num=36)*np.pi/180)\n",
    "surf=RoughSurface(SUR=1)\n",
    "surf=None\n",
    "#m=S.run(THVDEG=60., wl=wl, le=None,  surf=surf, OUTPUT_LAYERS=1, \n",
    "        #NBPHOTONS=1e8, atm=atm, BEER=1)\n",
    "mle1=S.run(THVDEG=30., wl=wl, le=le,  surf=surf, OUTPUT_LAYERS=1, \n",
    "        NBPHOTONS=1e6, atm=atm)\n",
    "#m0=S0.run(THVDEG=0., wl=wl, le=None,  surf=surf,OUTPUT_LAYERS=1, \n",
    "          #NBPHOTONS=1e8, atm=atm, BEER=1)\n",
    "m0le=S0.run(THVDEG=30., wl=wl, le=le,  surf=surf, OUTPUT_LAYERS=1, \n",
    "          NBPHOTONS=1e6, atm=atm, BEER=1)\n",
    "#print m.attrs['kernel time (s)']\n",
    "print mle1.attrs['kernel time (s)']"
   ]
  },
  {
   "cell_type": "code",
   "execution_count": null,
   "metadata": {
    "collapsed": false
   },
   "outputs": [],
   "source": [
    "input_view(mle1)\n",
    "f=figure()\n",
    "#f.set_size_inches(22,8)\n",
    "mle1['I_up (TOA)'].sub()[:,0,0].plot(fmt='r.-')\n",
    "m0le['I_up (TOA)'].sub()[:,0,0].plot(fmt='k-')"
   ]
  },
  {
   "cell_type": "markdown",
   "metadata": {},
   "source": [
    "# ALIS"
   ]
  },
  {
   "cell_type": "markdown",
   "metadata": {},
   "source": [
    "## Pure scattering"
   ]
  },
  {
   "cell_type": "code",
   "execution_count": null,
   "metadata": {
    "collapsed": false
   },
   "outputs": [],
   "source": [
    "S0=Smartg(alis=None, double=True)"
   ]
  },
  {
   "cell_type": "code",
   "execution_count": null,
   "metadata": {
    "collapsed": false
   },
   "outputs": [],
   "source": [
    "S=Smartg(alis={'nlow':3}, double=True)"
   ]
  },
  {
   "cell_type": "code",
   "execution_count": null,
   "metadata": {
    "collapsed": false
   },
   "outputs": [],
   "source": [
    "%%time\n",
    "dl= 50.\n",
    "lmin=800.\n",
    "lmax=900.\n",
    "wref=(lmax-lmin)/2 +lmin\n",
    "NW=int((lmax-lmin)/dl)+1\n",
    "wl=np.linspace(lmin,lmax,num=NW)\n",
    "NL=51\n",
    "print 'NW: ', NW\n",
    "znew =np.linspace(100.,0.,num=NL)\n",
    "aer=AeroOPAC('urban',0.1, wref)\n",
    "aer=None\n",
    "#atm=Profile('afglmw', grid=znew, aer=aer, O3=0.,NO2=False, force_cache=False, pfwav=[wref])\n",
    "atm=Profile('afglmw', grid=znew, aer=aer, O3=0.,NO2=False, force_cache=False)\n",
    "surf=RoughSurface(SUR=1)\n",
    "surf=None\n",
    "le={}\n",
    "le.update(th=np.array([20.])*np.pi/180)\n",
    "le.update(phi=np.array([0.])*np.pi/180)\n",
    "NB=5e7\n",
    "mle=   S.run(THVDEG=30., wl=wl, le=le, surf=surf, NBPHOTONS=NB, atm=atm)\n",
    "m0le= S0.run(THVDEG=30., wl=wl, le=le, surf=surf, NBPHOTONS=NB*5, atm=atm, BEER=1)\n",
    "print mle.attrs['kernel time (s)']"
   ]
  },
  {
   "cell_type": "code",
   "execution_count": null,
   "metadata": {
    "collapsed": false
   },
   "outputs": [],
   "source": [
    "mle['I_up (TOA)'].sub()[:,0,0].plot(fmt='x-b')\n",
    "m0le['I_up (TOA)'].sub()[:,0,0].plot(fmt='-xr')\n",
    "figure()\n",
    "#mle.describe()\n",
    "((m0le['I_up (TOA)'].sub()[:,0,0]-mle['I_up (TOA)'].sub()[:,0,0])/(mle['I_up (TOA)'].sub()[:,0,0])).plot(fmt='o-r')"
   ]
  },
  {
   "cell_type": "code",
   "execution_count": null,
   "metadata": {
    "collapsed": false
   },
   "outputs": [],
   "source": [
    "input_view(mle)"
   ]
  },
  {
   "cell_type": "code",
   "execution_count": null,
   "metadata": {
    "collapsed": false
   },
   "outputs": [],
   "source": [
    "%%time\n",
    "dl= 5.\n",
    "lmin=500.\n",
    "lmax=650.\n",
    "NW=int((lmax-lmin)/dl)+1\n",
    "wl=np.linspace(lmin,lmax,num=NW)\n",
    "NL=51\n",
    "print 'NW: ', NW\n",
    "znew =np.linspace(100.,0.,num=NL)\n",
    "surf=RoughSurface(SUR=1)\n",
    "le={}\n",
    "le.update(th=np.array([20.])*np.pi/180)\n",
    "le.update(phi=np.array([0.])*np.pi/180)\n",
    "NB=1e7\n",
    "atms=[]\n",
    "for O3 in [180.,200.,220.]:\n",
    "    atms.append(Profile('afglmw', grid=znew, NO2=False, O3=O3))\n",
    "    S.run(THVDEG=30., wl=wl, le=le,  DEPO=0., surf=surf, NBPHOTONS=1e5, atm=atm)        "
   ]
  },
  {
   "cell_type": "code",
   "execution_count": null,
   "metadata": {
    "collapsed": false
   },
   "outputs": [],
   "source": [
    "for atm, col in zip(atms, ['r','g','b']):   \n",
    "    mle=   S.run(THVDEG=30., wl=wl, le=le, OUTPUT_LAYERS=3,surf=None, NBPHOTONS=NB, atm=atm, progress=False)\n",
    "    mle['I_down (0+)'].sub()[:,0,0].plot(fmt='.-'+col)\n",
    "    print mle.attrs['kernel time (s)']"
   ]
  },
  {
   "cell_type": "markdown",
   "metadata": {},
   "source": [
    "## Jacobian"
   ]
  },
  {
   "cell_type": "code",
   "execution_count": null,
   "metadata": {
    "collapsed": false
   },
   "outputs": [],
   "source": [
    "%%time\n",
    "dl= 5.\n",
    "lmin=500.\n",
    "lmax=650.\n",
    "NW=int((lmax-lmin)/dl)+1\n",
    "print 3*NW\n",
    "wl=np.linspace(lmin,lmax,num=NW)\n",
    "_O3 = 300.\n",
    "O3l=[_O3*0.5, _O3, _O3*1.5]\n",
    "NL=50.\n",
    "znew =np.linspace(100.,0.,num=NL)\n",
    "surf=RoughSurface(SUR=1)\n",
    "le={}\n",
    "le.update(th=np.array([20.])*np.pi/180)\n",
    "le.update(phi=np.array([180.])*np.pi/180)\n",
    "NB=1e7\n",
    "atms =Profile('afglmw', grid=znew, NO2=False, O3=0., force_cache=True)\n",
    "for O3 in O3l:\n",
    "    atm =Profile('afglmw', grid=znew, NO2=False, O3=O3)\n",
    "    for w in wl:\n",
    "        tmp=atm.calc(w)\n",
    "        taur= np.ediff1d(tmp['hmol'], to_begin=0)\n",
    "        taug= np.ediff1d(tmp['HABS'], to_begin=0)\n",
    "        atms.cache_prof_keys.append(w+1e-1)\n",
    "        pro=create_profile(znew, taur=taur, taug=taug)\n",
    "        atms.cache_prof_values.append(pro)  "
   ]
  },
  {
   "cell_type": "code",
   "execution_count": null,
   "metadata": {
    "collapsed": false
   },
   "outputs": [],
   "source": [
    "surf=RoughSurface(SUR=1)\n",
    "mle1=S.run(THVDEG=30., wl=np.concatenate((wl,wl,wl)), le=le, surf=surf,NBPHOTONS=5e7, atm=atms, progress=False)\n",
    "print mle1.attrs['kernel time (s)']\n",
    "print mle1['N_up (TOA)'].data[0][0][0]\n",
    "mle2=S.run(THVDEG=30., wl=np.concatenate((wl,wl,wl)), le=le, surf=surf,NBPHOTONS=5e7, atm=atms, progress=False)"
   ]
  },
  {
   "cell_type": "code",
   "execution_count": null,
   "metadata": {
    "collapsed": false
   },
   "outputs": [],
   "source": [
    "Ip1=mle1['Q_up (TOA)']*mle1['Q_up (TOA)']+mle1['U_up (TOA)']*mle1['U_up (TOA)']\n",
    "DoLP1=(Ip1.apply(np.sqrt)/mle1['I_up (TOA)'])*100.\n",
    "Ip2=mle2['Q_up (TOA)']*mle2['Q_up (TOA)']+mle2['U_up (TOA)']*mle2['U_up (TOA)']\n",
    "DoLP2=(Ip2.apply(np.sqrt)/mle2['I_up (TOA)'])*100.\n",
    "DoLP1.sub()[:,0,0].plot(fmt='b.')\n",
    "figure()\n",
    "diff1 =DoLP1.sub()[:,0,0]/DoLP1.sub()[0,0,0]\n",
    "diff2 =DoLP2.sub()[:,0,0]/DoLP2.sub()[0,0,0]\n",
    "diff1.plot(fmt='b.')\n",
    "diff2.plot(fmt='rx')\n",
    "figure()\n",
    "(diff1/diff2).plot(fmt='kx')"
   ]
  },
  {
   "cell_type": "markdown",
   "metadata": {},
   "source": [
    "### O2A jacobian"
   ]
  },
  {
   "cell_type": "code",
   "execution_count": null,
   "metadata": {
    "collapsed": false
   },
   "outputs": [],
   "source": [
    "%%time\n",
    "dl= 0.100\n",
    "lmin=759.5\n",
    "lmax=769.6\n",
    "NW=int((lmax-lmin)/dl)\n",
    "vmin=1e7/lmax\n",
    "vmax=1e7/lmin\n",
    "dv=(vmax-vmin)/NW\n",
    "#vmin=12980. #cm-1\n",
    "#vmax=13200.25 #cm-1\n",
    "hapi.fetch('O2i1',7,1,vmin-100,vmax+100)\n",
    "hapi.fetch('O2i2',7,2,vmin-100,vmax+100)\n",
    "hapi.fetch('O2i3',7,3,vmin-100,vmax+100)\n",
    "#dv=.25 #cm-1\n",
    "NL=101\n",
    "#NW= int((vmax-vmin)/dv)\n",
    "print 'NW: ', NW\n",
    "pmin=0.001\n",
    "pmax=1012.\n",
    "pnew=np.linspace(pmin,pmax, num=NL)\n",
    "#znew=abs(-8. *np.log(pnew/pmax))\n",
    "znew =np.linspace(100.,0.,num=NL)\n",
    "\n",
    "NB=1e7\n",
    "atms =Profile('afglmw', grid=znew, NO2=False, O3=0., force_cache=True)\n",
    "\n",
    "P0l=[950., 1010.]\n",
    "\n",
    "ao2=np.zeros((NW,NL),dtype=float)\n",
    "cao2=np.zeros((NW,NL),dtype=float)\n",
    "for P0 in P0l:\n",
    "    i=0\n",
    "    atm =Profile('afglmw', grid=znew, NO2=False, O3=0., P0=P0)\n",
    "    for p,t,o2,z in zip(atm.P,atm.T,atm.o2,atm.z):\n",
    "        nuo2,coefo2 = hapi.absorptionCoefficient_Voigt_gpu(SourceTables=['O2i1','O2i2','O2i3'],HITRAN_units=False,\n",
    "            OmegaRange=[vmin,vmax],OmegaStep=dv,GammaL='gamma_self',\n",
    "            Environment={'p':p/1013.,'T':t})\n",
    "        ao2[:,i] = coefo2*1e5\n",
    "        #ao2[:,i] = 0.\n",
    "        i=i+1\n",
    "    wl=(1e7/nuo2)\n",
    "    wl=wl[::-1]\n",
    "   \n",
    "    for i,w in enumerate(wl):\n",
    "        tmp=atm.calc(w)\n",
    "        taur= np.ediff1d(tmp['hmol'], to_begin=0)\n",
    "        atms.cache_prof_keys.append(w)\n",
    "        pro=create_profile(znew, taur=taur, taug=ao2[-i,:])\n",
    "        atms.cache_prof_values.append(pro)  "
   ]
  },
  {
   "cell_type": "code",
   "execution_count": null,
   "metadata": {
    "collapsed": true
   },
   "outputs": [],
   "source": [
    "S0=Smartg(alis={'nlow':3}, double=True)\n",
    "le={}\n",
    "le.update(th=np.linspace(0.,89.,num=10)*np.pi/180)\n",
    "le.update(phi=np.linspace(0.,360.,num=1)*np.pi/180)"
   ]
  },
  {
   "cell_type": "code",
   "execution_count": null,
   "metadata": {
    "collapsed": false
   },
   "outputs": [],
   "source": [
    "field='I_up (TOA)'\n",
    "m=S0.run(THVDEG=30., wl=np.concatenate((wl,wl)),atm=atms, surf=RoughSurface(SUR=1),le=le, NBPHOTONS=1e6, progress=False)\n",
    "I=m[field].sub()[:NW,0,0]\n",
    "I.names=['Wavelength']\n",
    "I.axes[0]=wl\n",
    "I.desc=mdesc(field)\n",
    "f0I=I.plot(fmt='.-b')\n",
    "\n",
    "figure()\n",
    "\n",
    "jac=(m[field].sub()[NW:2*NW,0,0]-m[field].sub()[0:NW,0,0])/(P0l[-1]-P0l[0])\n",
    "jac.names=['Wavelength']\n",
    "jac.axes[0]=wl\n",
    "jac.desc=r'$d$'+mdesc(field)+r'$/dP_0$'\n",
    "figure()\n",
    "f0j=jac.plot(fmt='.-b', vmax=0.00003, vmin=-0.00003)\n",
    "figure()"
   ]
  },
  {
   "cell_type": "code",
   "execution_count": null,
   "metadata": {
    "collapsed": false
   },
   "outputs": [],
   "source": [
    "leg=[]\n",
    "cmap=None; azt=0.; wlt=765.6\n",
    "\n",
    "for i,(w,(name, color)) in enumerate(zip(wl,colors_)):\n",
    "    leg.append(str(w))\n",
    "    if i==0: f=transect_view(m.sub(d={'Wavelength':Idx(w)}), logI=False,ind=Idx(azt), vmin=0, vmax=0.2)\n",
    "    else: _= transect_view(m.sub(d={'Wavelength':Idx(w)}), ind=Idx(azt), fig=f, color=color, logI=False, vmin=0, vmax=0.2)  \n",
    "#legend(leg, loc='best')\n",
    "\n",
    "leg=[]\n",
    "for i,(az,(name, color)) in enumerate(zip(m.axis('Azimuth angles'),colors_)):\n",
    "    leg.append(str(az))\n",
    "    if i==0: f=transect_view(m.sub(d={'Wavelength':Idx(w)}), logI=False,ind=i, vmin=0, vmax=0.2)\n",
    "    else: _= transect_view(m.sub(d={'Wavelength':Idx(w)}), ind=i, fig=f, color=color, logI=False, vmin=0, vmax=0.2)  \n",
    "#legend(leg, loc='best') \n",
    "\n",
    "leg=[]\n",
    "for i,(az,(name, color)) in enumerate(zip(m.axis('Azimuth angles'),colors_)):\n",
    "    leg.append(str(az))\n",
    "    if i==0: f=transect_view(m.sub(d={'Azimuth angles':i}), swap=True,logI=False,ind=0, sym=False, vmax=0.05)\n",
    "    else: _= transect_view(m.sub(d={'Azimuth angles':i}), swap=True,ind=0, fig=f, color=color, logI=False, sym=False, vmax=0.05)\n",
    "#legend(leg, loc='best')"
   ]
  },
  {
   "cell_type": "markdown",
   "metadata": {},
   "source": [
    "### PARASOL O2"
   ]
  },
  {
   "cell_type": "code",
   "execution_count": null,
   "metadata": {
    "collapsed": false
   },
   "outputs": [],
   "source": [
    "thv = np.linspace(0., 60. , num=2)\n",
    "phi = np.linspace(0., 180., num=1)\n",
    "#thv = np.linspace(0., 60. , num=8)\n",
    "#phi = np.linspace(0., 180., num=2)\n",
    "PARASOL_SOLAR = REPTRAN('reptran_solar_parasol')\n",
    "ibands = PARASOL_SOLAR.to_smartg(lmin=630, lmax=830)\n",
    "NL = 25; wref = 700.\n",
    "znew =np.linspace(100.,0.,num=NL)\n",
    "S = Smartg(alis={'nlow':-1}, double=True)\n",
    "S0 = Smartg(double=True)\n",
    "le={}\n",
    "le.update(th=thv*np.pi/180)\n",
    "le.update(phi=phi*np.pi/180)"
   ]
  },
  {
   "cell_type": "code",
   "execution_count": null,
   "metadata": {
    "collapsed": false,
    "run_control": {
     "marked": false
    }
   },
   "outputs": [],
   "source": [
    "delta = 0.5\n",
    "zmin  = 1.\n",
    "alb=0.1\n",
    "mult  = np.array([1., 1+delta])\n",
    "th0   = 30.\n",
    "COT_l   = 10. * mult\n",
    "#COT_l   = np.array([1.])\n",
    "CGT_l   = 2.  * mult\n",
    "#CGT_l   = np.array([2.])\n",
    "#REFF_l  = 5.  * mult\n",
    "REFF_l  = np.array([5.])\n",
    "\n",
    "surf  = LambSurface(ALB=alb)\n",
    "atms  = Profile('afglmw', grid=znew, pfwav=[wref], force_cache=True)\n",
    "for COT in COT_l:\n",
    "    for CGT in CGT_l:\n",
    "        for REFF in REFF_l:\n",
    "            ZMAX = zmin + CGT\n",
    "            cloud = CloudOPAC('CUMA',[('wc.sol.mie', zmin, ZMAX , 1., REFF)], COT, wref)\n",
    "            aer = AeroOPAC('desert', COT, wref)\n",
    "            atm = Profile('afglmw', grid=znew, cloud=cloud, pfwav=[wref], force_cache=False)                           \n",
    "            #atms.cache_prof_keys.append(ibands.l)\n",
    "            tmp,_ = atm.calc_bands(ibands.l)\n",
    "            atms.cache_prof_values.append(tmp)\n",
    "                \n",
    "NSIM = len(COT_l)*len(CGT_l)*len(REFF_l)\n",
    "wl = ibands.l * NSIM    "
   ]
  },
  {
   "cell_type": "code",
   "execution_count": null,
   "metadata": {
    "collapsed": false,
    "scrolled": true
   },
   "outputs": [],
   "source": [
    "m= S.run(THVDEG=th0, wl=wl, NBPHOTONS=1e5, le=le, atm=atm, surf=surf)\n",
    "print 'time :                            %s'%m.attrs['kernel time (s)']"
   ]
  },
  {
   "cell_type": "code",
   "execution_count": null,
   "metadata": {
    "collapsed": false
   },
   "outputs": [],
   "source": [
    "#m.describe(show_attrs=True)\n",
    "print m['tauaer'][:,-1]"
   ]
  },
  {
   "cell_type": "code",
   "execution_count": null,
   "metadata": {
    "collapsed": false,
    "run_control": {
     "marked": false
    }
   },
   "outputs": [],
   "source": [
    "NW=len(ibands.l)\n",
    "for i in range(NSIM):\n",
    "    s=reduce_reptran(m.sub(d={'Wavelength':np.arange(i*NW, (i+1)*NW)}), ibands)\n",
    "    if i==0:\n",
    "        f1=transect_view(s.sub(d={'Wavelength':0}), field='up (TOA)')\n",
    "        f2=transect_view(s.sub(d={'Wavelength':1}), field='up (TOA)')\n",
    "        f3=transect_view(s.sub(d={'Wavelength':2}), field='up (TOA)')\n",
    "    else:\n",
    "        _=transect_view(s.sub(d={'Wavelength':0}), field='up (TOA)', fig=f1)\n",
    "        _=transect_view(s.sub(d={'Wavelength':1}), field='up (TOA)', fig=f2)\n",
    "        _=transect_view(s.sub(d={'Wavelength':2}), field='up (TOA)', fig=f3)"
   ]
  },
  {
   "cell_type": "markdown",
   "metadata": {},
   "source": [
    "## Emde et al 2010"
   ]
  },
  {
   "cell_type": "code",
   "execution_count": null,
   "metadata": {
    "collapsed": false
   },
   "outputs": [],
   "source": [
    "fgas = '/home/mathieu/work/MCCuda/artdeco_output/cTauGas_ray_O2.dat'\n",
    "gas_valid = np.loadtxt(fgas, skiprows=7)[:,1:]\n",
    "z_valid   = np.loadtxt(fgas, skiprows=7)[:,0]\n",
    "w_valid   = np.array(open(fgas).readlines()[5].split()).astype(float)\n",
    "fray = '/home/mathieu/work/MCCuda/artdeco_output/cTauRay_ray_O2.dat'\n",
    "ray_valid = np.loadtxt(fray, skiprows=7)[:,1:]\n",
    "data_valid=np.loadtxt('/home/mathieu/work/MCCuda/resultat/artdeco_lbl_nstr_32_ray_O2.dat')"
   ]
  },
  {
   "cell_type": "code",
   "execution_count": null,
   "metadata": {
    "collapsed": false
   },
   "outputs": [],
   "source": [
    "atm_valid=Profile('afglmw', grid=z_valid, O3=0., NO2=False, pfwav=[760.],force_cache=True)\n",
    "for i,w in enumerate(w_valid):    \n",
    "    taur= np.ediff1d(ray_valid[:,i], to_begin=0) \n",
    "    taug= np.ediff1d(gas_valid[:,i], to_begin=0)\n",
    "    atm_valid.cache_prof_keys.append(w)\n",
    "    pro=create_profile(z_valid, taur=taur, taug=taug)\n",
    "    atm_valid.cache_prof_values.append(pro) \n",
    "print w_valid.shape"
   ]
  },
  {
   "cell_type": "code",
   "execution_count": null,
   "metadata": {
    "collapsed": false,
    "run_control": {
     "marked": false
    }
   },
   "outputs": [],
   "source": [
    "##%prun  \n",
    "le={}\n",
    "le.update(th=np.array([20.])*np.pi/180)\n",
    "le.update(phi=np.array([180.])*np.pi/180)\n",
    "mle_valid5=  S.run(THVDEG=30., wl=w_valid, le=le,  DEPO=0., NBPHOTONS=1e9, atm=atm_valid, NBLOOP=10000)\n",
    "#m0le_valid=S0.run(THVDEG=30., wl=w_valid, le=le,  OUTPUT_LAYERS=1, NBPHOTONS=1e9, atm=atm_valid)\n",
    "print mle_valid5.attrs['kernel time (s)']"
   ]
  },
  {
   "cell_type": "code",
   "execution_count": null,
   "metadata": {
    "collapsed": false
   },
   "outputs": [],
   "source": [
    "i_valid=data_valid[:,1]\n",
    "ip_valid=np.sqrt(data_valid[:,2]*data_valid[:,2]+data_valid[:,3]*data_valid[:,3])\n",
    "ip=mle_valid5['Q_up (TOA)']*mle_valid5['Q_up (TOA)']+mle_valid5['U_up (TOA)']*mle_valid5['U_up (TOA)']\n",
    "ip=ip.apply(np.sqrt,mdesc('Ip_up (TOA)'))\n",
    "i=mle_valid5['I_up (TOA)']\n",
    "##\n",
    "plot(w_valid,  i_valid, 'r')\n",
    "f= i.sub()[:,0,0].plot(fmt='g-', vmax=0.01)\n",
    "figure()\n",
    "df=i.sub()[:,0,0]- i_valid\n",
    "dff=df/i_valid*100\n",
    "dff.plot(fmt='k-', vmax=3, vmin=-3)\n",
    "##\n",
    "figure()\n",
    "plot(w_valid,  ip_valid, 'r')\n",
    "f= ip.sub()[:,0,0].plot(fmt='g-', vmax=0.005)\n",
    "figure()\n",
    "df=ip.sub()[:,0,0]- ip_valid\n",
    "dff=df/ip_valid*100\n",
    "dff.plot(fmt='k-', vmax=3, vmin=-3)"
   ]
  },
  {
   "cell_type": "markdown",
   "metadata": {},
   "source": [
    "## Tanso FTS"
   ]
  },
  {
   "cell_type": "code",
   "execution_count": null,
   "metadata": {
    "collapsed": false
   },
   "outputs": [],
   "source": [
    "S=Smartg(alis=True, double=True)"
   ]
  },
  {
   "cell_type": "code",
   "execution_count": null,
   "metadata": {
    "collapsed": false
   },
   "outputs": [],
   "source": [
    "fgas = '/home/mathieu/work/MCCuda/artdeco_output/cTauGas_ray_O2_fts1.dat'\n",
    "gas_valid = np.loadtxt(fgas, skiprows=7)[:,1:]\n",
    "z_valid   = np.loadtxt(fgas, skiprows=7)[:,0]\n",
    "w_valid   = np.array(open(fgas).readlines()[5].split()).astype(float)\n",
    "fray = '/home/mathieu/work/MCCuda/artdeco_output/cTauRay_ray_O2_fts1.dat'\n",
    "ray_valid = np.loadtxt(fray, skiprows=7)[:,1:]\n",
    "data_valid=np.loadtxt('/home/mathieu/work/MCCuda/resultat/artdeco_lbl_nstr_32_ray_glitter_O2_fts1.dat')\n",
    "#data_valid=np.loadtxt('/home/mathieu/work/MCCuda/resultat/artdeco_lbl_nstr_32_ray_O2_fts1.dat')"
   ]
  },
  {
   "cell_type": "code",
   "execution_count": null,
   "metadata": {
    "collapsed": false
   },
   "outputs": [],
   "source": [
    "atm_valid=Profile('afglmw', grid=z_valid, O3=0., NO2=False, pfwav=[760.],force_cache=True)\n",
    "for i,w in enumerate(w_valid):    \n",
    "    taur= np.ediff1d(ray_valid[:,i], to_begin=0) \n",
    "    taug= np.ediff1d(gas_valid[:,i], to_begin=0)\n",
    "    atm_valid.cache_prof_keys.append(w)\n",
    "    pro=create_profile(z_valid, taur=taur, taug=taug)\n",
    "    atm_valid.cache_prof_values.append(pro)    "
   ]
  },
  {
   "cell_type": "code",
   "execution_count": null,
   "metadata": {
    "collapsed": false
   },
   "outputs": [],
   "source": [
    "##%prun  \n",
    "le={}\n",
    "le.update(th=np.array([20.])*np.pi/180)\n",
    "le.update(phi=np.array([180.])*np.pi/180)\n",
    "surf=RoughSurface(SUR=1)\n",
    "#surf=None\n",
    "mle_valid_fts1=  S.run(THVDEG=30., wl=w_valid, le=le,  DEPO=0., NBPHOTONS=1e8, \n",
    "                       surf=surf, atm=atm_valid, NBLOOP=5000)\n",
    "print mle_valid_fts1.attrs['kernel time (s)']"
   ]
  },
  {
   "cell_type": "code",
   "execution_count": null,
   "metadata": {
    "collapsed": false
   },
   "outputs": [],
   "source": [
    "f=figure()\n",
    "f.set_size_inches(22,8)\n",
    "mle_valid_fts1['Q_up (TOA)'].sub()[:,0,0].plot(fmt='b-')\n",
    "mle_valid_fts1['I_up (TOA)'].sub()[:,0,0].plot(fmt='r-', vmax=0.02, vmin=-0.01)"
   ]
  },
  {
   "cell_type": "code",
   "execution_count": null,
   "metadata": {
    "collapsed": false
   },
   "outputs": [],
   "source": [
    "i_valid=data_valid[:,1]\n",
    "ip_valid=np.sqrt(data_valid[:,2]*data_valid[:,2]+data_valid[:,3]*data_valid[:,3])\n",
    "ip=mle_valid_fts1['Q_up (TOA)']*mle_valid_fts1['Q_up (TOA)']+mle_valid_fts1['U_up (TOA)']*mle_valid_fts1['U_up (TOA)']\n",
    "ip=ip.apply(np.sqrt,mdesc('Ip_up (TOA)'))\n",
    "\n",
    "i=mle_valid_fts1['I_up (TOA)']\n",
    "\n",
    "##\n",
    "plot(w_valid,  i_valid, 'r')\n",
    "f= i.sub()[:,0,0].plot(fmt='g-', vmax=0.20)\n",
    "figure()\n",
    "df=i.sub()[:,0,0]- i_valid\n",
    "dff=df/i_valid*100\n",
    "dff.plot(fmt='k-', vmax=5, vmin=-5)\n",
    "##\n",
    "ff=figure()\n",
    "ff.set_size_inches(44,6)\n",
    "plot(w_valid,  ip_valid, 'r')\n",
    "f= ip.sub()[:,0,0].plot(fmt='.g', vmax=0.06)\n",
    "ff.savefig('/home/did/RTC/SMART-G/validation/alis_fts.png',dpi=300)\n",
    "ff=figure()\n",
    "ff.set_size_inches(44,6)\n",
    "df=ip.sub()[:,0,0]- ip_valid\n",
    "dff=df/ip_valid*100\n",
    "dff.plot(fmt='.k-', vmax=5, vmin=-5)\n",
    "ff.savefig('/home/did/RTC/SMART-G/validation/alis_fts_dif.png',dpi=300)"
   ]
  },
  {
   "cell_type": "markdown",
   "metadata": {},
   "source": [
    "## CO2"
   ]
  },
  {
   "cell_type": "code",
   "execution_count": null,
   "metadata": {
    "collapsed": false
   },
   "outputs": [],
   "source": [
    "fgas = '/home/mathieu/work/MCCuda/artdeco_output/cTauGas_ray_glitter_CO2.dat'\n",
    "gas_valid = np.loadtxt(fgas, skiprows=7)[:,1:]\n",
    "z_valid   = np.loadtxt(fgas, skiprows=7)[:,0]\n",
    "w_valid   = np.array(open(fgas).readlines()[5].split()).astype(float)\n",
    "fray = '/home/mathieu/work/MCCuda/artdeco_output/old/Emde_like/cTauRay_ray_glitter_CO2.dat'\n",
    "ray_valid = np.loadtxt(fray, skiprows=7)[:,1:]\n",
    "data_valid=np.loadtxt('/home/mathieu/work/MCCuda/resultat/artdeco_lbl_nstr_32_ray_glitter_CO2.dat')"
   ]
  },
  {
   "cell_type": "code",
   "execution_count": null,
   "metadata": {
    "collapsed": false
   },
   "outputs": [],
   "source": [
    "atm_valid=Profile('afglmw', grid=z_valid, O3=0., NO2=False, pfwav=[760.],force_cache=True)\n",
    "for i,w in enumerate(w_valid):    \n",
    "    taur= np.ediff1d(ray_valid[:,i], to_begin=0) \n",
    "    taug= np.ediff1d(gas_valid[:,i], to_begin=0)\n",
    "    atm_valid.cache_prof_keys.append(w)\n",
    "    pro=create_profile(z_valid, taur=taur, taug=taug)\n",
    "    atm_valid.cache_prof_values.append(pro)    "
   ]
  },
  {
   "cell_type": "code",
   "execution_count": null,
   "metadata": {
    "collapsed": false
   },
   "outputs": [],
   "source": [
    "##%prun  \n",
    "le={}\n",
    "le.update(th=np.array([20.])*np.pi/180)\n",
    "le.update(phi=np.array([180.])*np.pi/180)\n",
    "surf=RoughSurface(SUR=1)\n",
    "mle_valid_co2=  S.run(THVDEG=30., wl=w_valid, le=le,  DEPO=0., NBPHOTONS=1e8, \n",
    "                       surf=surf, atm=atm_valid, NBLOOP=10000)\n",
    "print mle_valid_co2.attrs['kernel time (s)']"
   ]
  },
  {
   "cell_type": "code",
   "execution_count": null,
   "metadata": {
    "collapsed": false
   },
   "outputs": [],
   "source": [
    "i_valid=data_valid[:,1]\n",
    "ip_valid=np.sqrt(data_valid[:,2]*data_valid[:,2]+data_valid[:,3]*data_valid[:,3])\n",
    "ip=mle_valid_co2['Q_up (TOA)']*mle_valid_co2['Q_up (TOA)']+mle_valid_co2['U_up (TOA)']*mle_valid_co2['U_up (TOA)']\n",
    "ip=ip.apply(np.sqrt,mdesc('Ip_up (TOA)'))\n",
    "\n",
    "i=mle_valid_co2['I_up (TOA)']\n",
    "\n",
    "##\n",
    "plot(w_valid,  i_valid, 'r')\n",
    "f= i.sub()[:,0,0].plot(fmt='g-', vmax=0.2)\n",
    "figure()\n",
    "df=i.sub()[:,0,0]- i_valid\n",
    "dff=df/i_valid*100\n",
    "dff.plot(fmt='k-', vmax=.3, vmin=-.3)\n",
    "##\n",
    "figure()\n",
    "plot(w_valid,  ip_valid, 'r')\n",
    "f= ip.sub()[:,0,0].plot(fmt='g-', vmax=0.1, vmin=0)\n",
    "figure()\n",
    "df=ip.sub()[:,0,0]- ip_valid\n",
    "dff=df/ip_valid*100\n",
    "dff.plot(fmt='k-', vmax=.3, vmin=-.3)"
   ]
  },
  {
   "cell_type": "markdown",
   "metadata": {},
   "source": [
    "## REPTRAN"
   ]
  },
  {
   "cell_type": "code",
   "execution_count": null,
   "metadata": {
    "collapsed": false
   },
   "outputs": [],
   "source": [
    "thv = np.linspace( 60., 60. , num=1)\n",
    "phi = np.linspace(180., 180., num=1)\n",
    "#thv = np.linspace(0., 60. , num=8)\n",
    "#phi = np.linspace(0., 180., num=2)\n",
    "FINE_SOLAR = REPTRAN('reptran_solar_fine')\n",
    "ibands = FINE_SOLAR.to_smartg(lmin=758, lmax=772)\n",
    "NL = 25; wref = 760.\n",
    "znew =np.linspace(100.,0.,num=NL)\n",
    "S = Smartg(alis={'nlow':11}, double=True)\n",
    "S0 = Smartg(double=True)\n",
    "le={}\n",
    "le.update(th=thv*np.pi/180)\n",
    "le.update(phi=phi*np.pi/180)\n",
    "atm=Profile('afglt', grid=znew, pfwav=[wref])"
   ]
  },
  {
   "cell_type": "code",
   "execution_count": null,
   "metadata": {
    "collapsed": false
   },
   "outputs": [],
   "source": [
    "rep=S.run(wl=ibands.l, atm=atm, le=le, NBPHOTONS=1e6, progress=False)"
   ]
  },
  {
   "cell_type": "code",
   "execution_count": null,
   "metadata": {
    "collapsed": false,
    "scrolled": true
   },
   "outputs": [],
   "source": [
    "reduce_reptran(rep,ibands)['I_up (TOA)'].sub()[:,0,0].plot()"
   ]
  },
  {
   "cell_type": "code",
   "execution_count": null,
   "metadata": {
    "collapsed": false,
    "scrolled": true
   },
   "outputs": [],
   "source": [
    "%%time\n",
    "dl= 0.01\n",
    "lmin=758\n",
    "lmax=772.01 + dl\n",
    "\n",
    "NW=int((lmax-lmin)/dl)\n",
    "vmin=1e7/lmax\n",
    "vmax=1e7/lmin\n",
    "dv=(vmax-vmin)/NW\n",
    "hapi.fetch('O2i1',7,1,vmin-100,vmax+100)\n",
    "hapi.fetch('O2i2',7,2,vmin-100,vmax+100)\n",
    "hapi.fetch('O2i3',7,3,vmin-100,vmax+100)\n",
    "\n",
    "dz = np.ediff1d(atm.z, to_begin=0)\n",
    "ao2=np.zeros((NW,NL),dtype=float)\n",
    "cao2=np.zeros((NW,NL),dtype=float)\n",
    "i=0\n",
    "for p,t,o2,z in zip(atm.P,atm.T,atm.o2,atm.z):\n",
    "    nuo2,coefo2 = hapi.absorptionCoefficient_Voigt_gpu(SourceTables=['O2i1','O2i2','O2i3'],HITRAN_units=False,\n",
    "            OmegaRange=[vmin,vmax],OmegaStep=dv,GammaL='gamma_self',\n",
    "            Environment={'p':p/1013.,'T':t})\n",
    "    ao2[:,i] = coefo2*1e5\n",
    "    #ao2[:,i] = 0.\n",
    "    i=i+1\n",
    "wl=1e7/nuo2\n",
    "print len(wl)\n",
    "\n",
    "for i,w in enumerate(wl[::1]):\n",
    "    \n",
    "    taur= np.ediff1d(atm.calc(w)['hmol'], to_begin=0)\n",
    "    \n",
    "    atm.cache_prof_keys.append(w)\n",
    "    pro=create_profile(znew, taur=taur, taug=ao2[i,:])\n",
    "    atm.cache_prof_values.append(pro)                                 "
   ]
  },
  {
   "cell_type": "code",
   "execution_count": null,
   "metadata": {
    "collapsed": false
   },
   "outputs": [],
   "source": [
    "hitran=S.run(wl=wl,THVDEG=30., atm=atm, le=le, NBPHOTONS=1e6, surf=RoughSurface(), progress=False)\n",
    "#hitran0=S0.run(wl=wl, atm=atm, le=le, NBPHOTONS=1e7, surf=surf, progress=False)"
   ]
  },
  {
   "cell_type": "code",
   "execution_count": null,
   "metadata": {
    "collapsed": false
   },
   "outputs": [],
   "source": [
    "hitran['I_up (TOA)'].sub()[:,0,0].plot(fmt='g')\n",
    "reduce_reptran(rep,ibands)['I_up (TOA)'].sub()[:,0,0].plot(fmt='r')"
   ]
  },
  {
   "cell_type": "code",
   "execution_count": null,
   "metadata": {
    "collapsed": false
   },
   "outputs": [],
   "source": [
    "I=hitran['I_up (TOA)']\n",
    "Ip=(hitran['Q_up (TOA)']*hitran['Q_up (TOA)'])+(hitran['U_up (TOA)']*hitran['U_up (TOA)'])\n",
    "hitran['I_up (TOA)'].sub()[:,0,0].plot(fmt='g-')"
   ]
  },
  {
   "cell_type": "markdown",
   "metadata": {},
   "source": [
    "## Ocean"
   ]
  },
  {
   "cell_type": "code",
   "execution_count": null,
   "metadata": {
    "collapsed": false
   },
   "outputs": [],
   "source": [
    "wl = np.linspace(450., 550., num=3)\n",
    "water = IOP_MM(0.001, pfwav=[500.], DEPTH=100.)\n",
    "atm=Profile('afglms', pfwav=[500.])\n",
    "surf=RoughSurface(SUR=3)\n",
    "thv = np.linspace(60., 60. , num=1)\n",
    "phi = np.linspace(180.,180., num=1)\n",
    "S = Smartg(alis={'nlow':-1}, double=True, debug_photon=True)\n",
    "S0 = Smartg(double=True, debug_photon=False)\n",
    "le={}\n",
    "le.update(th=thv*np.pi/180)\n",
    "le.update(phi=phi*np.pi/180)"
   ]
  },
  {
   "cell_type": "code",
   "execution_count": null,
   "metadata": {
    "collapsed": false
   },
   "outputs": [],
   "source": [
    "m0=S0.run(wl=wl,THVDEG=50., water=water, surf=None, atm=None, OUTPUT_LAYERS=3,le=le, NBPHOTONS=1e7, progress=False, BEER=0)"
   ]
  },
  {
   "cell_type": "code",
   "execution_count": null,
   "metadata": {
    "collapsed": false
   },
   "outputs": [],
   "source": [
    "m0.describe()"
   ]
  },
  {
   "cell_type": "code",
   "execution_count": null,
   "metadata": {
    "collapsed": false
   },
   "outputs": [],
   "source": [
    "m0['I_up (0-)'].sub()[:,0,0].plot()\n",
    "#m0['I_up (0-)'].sub()[0,:,:].plot_polar(vmax=0.5, index=0)\n",
    "#m['I_up (TOA)'].sub()[Idx(490.),:,:].plot_polar(vmax=0.1)"
   ]
  },
  {
   "cell_type": "code",
   "execution_count": null,
   "metadata": {
    "collapsed": false
   },
   "outputs": [],
   "source": [
    "m.plot()"
   ]
  }
 ],
 "metadata": {
  "anaconda-cloud": {},
  "hide_input": false,
  "kernelspec": {
   "display_name": "Python [default]",
   "language": "python",
   "name": "python2"
  },
  "language_info": {
   "codemirror_mode": {
    "name": "ipython",
    "version": 2
   },
   "file_extension": ".py",
   "mimetype": "text/x-python",
   "name": "python",
   "nbconvert_exporter": "python",
   "pygments_lexer": "ipython2",
   "version": "2.7.12"
  },
  "toc": {
   "toc_cell": false,
   "toc_number_sections": true,
   "toc_section_display": "none",
   "toc_threshold": 4,
   "toc_window_display": true
  },
  "toc_position": {
   "left": "1116px",
   "right": "-136px",
   "top": "156px",
   "width": "300px"
  }
 },
 "nbformat": 4,
 "nbformat_minor": 0
}
