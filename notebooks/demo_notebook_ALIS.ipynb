{
 "cells": [
  {
   "cell_type": "markdown",
   "metadata": {},
   "source": [
    "# Smart-G demo notebook , part 2</b>\n",
    "\n",
    "This is an interactive document allowing to run Smart-G with python and visualize the results. <br>\n",
    "*Tips*: cells can be executed with shift-enter. Tooltips can be obtained with shift-tab. More information [here](http://ipython.org/notebook.html) or in the help menu. [A table of content can also be added](https://github.com/minrk/ipython_extensions#table-of-contents)."
   ]
  },
  {
   "cell_type": "code",
   "execution_count": null,
   "metadata": {
    "collapsed": false,
    "scrolled": false
   },
   "outputs": [],
   "source": [
    "%pylab inline\n",
    "# next 2 lines allow to automatically reload modules that have been changed externally\n",
    "%reload_ext autoreload\n",
    "%autoreload 2\n",
    "import sys\n",
    "sys.path.append('..')\n",
    "from smartg import Smartg, reptran_merge\n",
    "from smartg import RoughSurface, LambSurface, FlatSurface, Environment\n",
    "from atmosphere import AtmAFGL, AeroOPAC, CloudOPAC, diff1\n",
    "from water import IOP_Rw\n",
    "from tools.tools import SpecInt, SpecInt2, Irr, ReadREPTRAN_bands, reduce_reptran\n",
    "from tools.luts import LUT, MLUT, Idx, merge, read_lut_hdf, read_mlut\n",
    "from tools.smartg_view import plot_polar, smartg_view, input_view, mdesc, transect_view\n",
    "from ipywidgets import interact, interact_manual\n",
    "import hapi_gpu as hapi\n",
    "from matplotlib import colors\n",
    "colors_ = list(six.iteritems(colors.cnames))\n",
    "# Add the single letter colors.\n",
    "for name, rgb in six.iteritems(colors.ColorConverter.colors):\n",
    "    hex_ = colors.rgb2hex(rgb)\n",
    "    colors_.append((name, hex_))\n",
    "\n",
    "# Transform to hex color values.\n",
    "hex_ = [color[1] for color in colors_]\n",
    "# Get the rgb equivalent.\n",
    "rgb = [colors.hex2color(color) for color in hex_]\n",
    "\n",
    "# Split the hsv values to sort.\n",
    "rr = [color[0] for color in rgb]\n",
    "gg = [color[1] for color in rgb]\n",
    "bb = [color[2] for color in rgb]\n",
    "\n",
    "# Sort by hue, saturation and value.\n",
    "ind = np.lexsort((rr, gg, bb))\n",
    "sorted_colors = [colors_[i] for i in ind]"
   ]
  },
  {
   "cell_type": "markdown",
   "metadata": {},
   "source": [
    "# Equivalence Theorem"
   ]
  },
  {
   "cell_type": "code",
   "execution_count": null,
   "metadata": {
    "collapsed": false
   },
   "outputs": [],
   "source": [
    "%%time\n",
    "# Here we compare the TOA radiance simulated with\n",
    "# plane parallel and spherical atmospheres, at 443 nm.\n",
    "atm=AtmAFGL('afglt',grid=np.linspace(100.,0.,num=100), O3=400., NO2=False)\n",
    "results = []\n",
    "le={}\n",
    "le.update(th=np.linspace(0.,89.,num=24)*np.pi/180)\n",
    "le.update(phi=np.array([0.],dtype=np.float32)*np.pi/180)\n",
    "for pp in [True, False]:\n",
    "    S=Smartg(pp=pp, alt_move=True, double=True)\n",
    "    for BEER in [0, 1]:\n",
    "        # Absorption is computed with Beer Law (BEER=1) or Single scattering albedo (BEER=0)\n",
    "        results.append(S.run(THVDEG=0., wl=550., NBPHOTONS=1e8, le=le, atm=atm, BEER=BEER))\n",
    "    \n",
    "SSA_PP = results[0]['I_up (TOA)']\n",
    "ET_PP  = results[1]['I_up (TOA)']\n",
    "SSA_SP = results[2]['I_up (TOA)']\n",
    "ET_SP  = results[3]['I_up (TOA)']"
   ]
  },
  {
   "cell_type": "code",
   "execution_count": null,
   "metadata": {
    "collapsed": false
   },
   "outputs": [],
   "source": [
    "((ET_SP-ET_PP)/ET_SP*100.).sub()[0,:].plot(fmt='k-o',vmin=-2,vmax=2)\n",
    "((SSA_SP-SSA_PP)/SSA_SP*100.).sub()[0,:].plot(fmt='r-x',vmin=-2,vmax=2)\n",
    "figure()\n",
    "((SSA_SP-ET_SP)/SSA_SP*100.).sub()[0,:].plot(fmt='r-o')\n",
    "((SSA_PP-ET_PP)/SSA_PP*100.).sub()[0,:].plot(fmt='k-o',vmin=-1,vmax=1)"
   ]
  },
  {
   "cell_type": "markdown",
   "metadata": {},
   "source": [
    "# ALIS"
   ]
  },
  {
   "cell_type": "markdown",
   "metadata": {},
   "source": [
    "## Pure scattering"
   ]
  },
  {
   "cell_type": "code",
   "execution_count": null,
   "metadata": {
    "collapsed": false
   },
   "outputs": [],
   "source": [
    "S0= Smartg(alis=None       , double=True)\n",
    "S = Smartg(alis={'nlow':-1}, double=True)"
   ]
  },
  {
   "cell_type": "code",
   "execution_count": null,
   "metadata": {
    "collapsed": false
   },
   "outputs": [],
   "source": [
    "%%time\n",
    "dl  = 50.\n",
    "lmin= 400.\n",
    "lmax= 700.\n",
    "wref= (lmax-lmin)/2 + lmin\n",
    "NW  = int((lmax-lmin)/dl) + 1\n",
    "wl  = np.linspace(lmin,lmax,num=NW)\n",
    "NL=51\n",
    "aer=AeroOPAC('maritime_clean',.1,550.)\n",
    "comp=[aer]\n",
    "#comp=[]\n",
    "znew =np.linspace(100.,0.,num=NL)\n",
    "pfwav=[550.]\n",
    "pfwav=None\n",
    "atm=AtmAFGL('afglmw', grid=znew, O3=0., NO2=False, comp=comp, pfwav=pfwav)\n",
    "\n",
    "surf=RoughSurface(SUR=1)\n",
    "surf=None\n",
    "le={}\n",
    "le.update(th=np.array([20.])*np.pi/180)\n",
    "le.update(phi=np.array([0.])*np.pi/180)\n",
    "NB=5e6\n",
    "mle=   S.run(THVDEG=30., wl=wl, le=le, surf=surf, NBPHOTONS=NB  , atm=atm, progress=False)\n",
    "m0le= S0.run(THVDEG=30., wl=wl, le=le, surf=surf, NBPHOTONS=NB*5, atm=atm, progress=False, BEER=1)\n",
    "print mle.attrs['kernel time (s)']"
   ]
  },
  {
   "cell_type": "code",
   "execution_count": null,
   "metadata": {
    "collapsed": false
   },
   "outputs": [],
   "source": [
    "m0le['I_up (TOA)'].sub()[:,0,0].plot(fmt='-xr')\n",
    "mle['I_up (TOA)'].sub()[:,0,0].plot(fmt='x-b')\n",
    "\n",
    "figure()\n",
    "((m0le['I_up (TOA)'].sub()[:,0,0]-mle['I_up (TOA)'].sub()[:,0,0])/(mle['I_up (TOA)'].sub()[:,0,0])).plot(fmt='o-r')"
   ]
  },
  {
   "cell_type": "markdown",
   "metadata": {},
   "source": [
    "## HITRAN"
   ]
  },
  {
   "cell_type": "code",
   "execution_count": null,
   "metadata": {
    "collapsed": false
   },
   "outputs": [],
   "source": [
    "hapi.db_begin('data')"
   ]
  },
  {
   "cell_type": "markdown",
   "metadata": {},
   "source": [
    "### O2"
   ]
  },
  {
   "cell_type": "code",
   "execution_count": null,
   "metadata": {
    "collapsed": false
   },
   "outputs": [],
   "source": [
    "%%time\n",
    "dl= 0.001\n",
    "lmin=759.\n",
    "lmax=769.001\n",
    "\n",
    "NW=int((lmax-lmin)/dl)+1\n",
    "vmin=1e7/lmax\n",
    "vmax=1e7/lmin\n",
    "dv=(vmax-vmin)/NW\n",
    "#vmin=12980. #cm-1\n",
    "#vmax=13200.25 #cm-1\n",
    "hapi.fetch('O2i1',7,1,vmin-100,vmax+100)\n",
    "hapi.fetch('O2i2',7,2,vmin-100,vmax+100)\n",
    "hapi.fetch('O2i3',7,3,vmin-100,vmax+100)\n",
    "#dv=.25 #cm-1\n",
    "NL=21\n",
    "#NW= int((vmax-vmin)/dv)\n",
    "print 'NW: ', NW\n",
    "pmin=0.001\n",
    "pmax=1012.\n",
    "pnew=np.linspace(pmin,pmax, num=NL)\n",
    "#znew=abs(-8. *np.log(pnew/pmax))\n",
    "znew =np.linspace(100.,0.,num=NL)\n",
    "\n",
    "atm=AtmAFGL('afglmw', grid=znew, O3=0., NO2=False, pfwav=[760.])\n",
    "\n",
    "ao2=np.zeros((NW,NL),dtype=float)\n",
    "cao2=np.zeros((NW,NL),dtype=float)\n",
    "i=0\n",
    "for p,t,o2,z in zip(atm.prof.P,atm.prof.T,atm.prof.dens_o2,atm.prof.z):\n",
    "    nuo2,coefo2 = hapi.absorptionCoefficient_Voigt_gpu(SourceTables=['O2i1','O2i2','O2i3'],HITRAN_units=False,\n",
    "            OmegaRange=[vmin,vmax],OmegaStep=dv,GammaL='gamma_self',\n",
    "            Environment={'p':p/1013.,'T':t})\n",
    "    ao2[:,i] = coefo2*1e5\n",
    "    i=i+1\n",
    "wl=1e7/nuo2                             "
   ]
  },
  {
   "cell_type": "code",
   "execution_count": null,
   "metadata": {
    "collapsed": false
   },
   "outputs": [],
   "source": [
    "atm=AtmAFGL('afglmw', grid=znew, O3=0., NO2=False, pfwav=[760.], prof_abs=LUT(ao2))\n",
    "atm.calc(wl).describe()"
   ]
  },
  {
   "cell_type": "code",
   "execution_count": null,
   "metadata": {
    "collapsed": true
   },
   "outputs": [],
   "source": [
    "S3=Smartg(alis={'nlow':3}, double=True)\n",
    "le={}\n",
    "le.update(th=np.array([20., 70.])*np.pi/180)\n",
    "le.update(phi=np.array([180.])*np.pi/180)"
   ]
  },
  {
   "cell_type": "code",
   "execution_count": null,
   "metadata": {
    "collapsed": false,
    "run_control": {
     "marked": false
    }
   },
   "outputs": [],
   "source": [
    "m=S3.run(wl=wl, atm=atm, le=le, NBPHOTONS=1e6, progress=False)\n",
    "print m.attrs['kernel time (s)']"
   ]
  },
  {
   "cell_type": "code",
   "execution_count": null,
   "metadata": {
    "collapsed": false
   },
   "outputs": [],
   "source": [
    "f=figure()\n",
    "f.set_size_inches(12,3)\n",
    "m['I_up (TOA)'].sub()[:,0,0].plot(fmt='-')\n",
    "m['I_up (TOA)'].sub()[:,0,1].plot(fmt='g-')"
   ]
  },
  {
   "cell_type": "markdown",
   "metadata": {},
   "source": [
    "## Jacobians"
   ]
  },
  {
   "cell_type": "markdown",
   "metadata": {},
   "source": [
    "### Sensitivity to O3 column amount"
   ]
  },
  {
   "cell_type": "code",
   "execution_count": null,
   "metadata": {
    "collapsed": false
   },
   "outputs": [],
   "source": [
    "%%time\n",
    "dl= 5.\n",
    "lmin=500.\n",
    "lmax=650.\n",
    "NW=int((lmax-lmin)/dl)+1\n",
    "print 'N Wavelength: ', NW\n",
    "wl=np.linspace(lmin,lmax,num=NW) \n",
    "wls  = np.concatenate((wl,wl,wl))\n",
    "_O3 = 300. # standard level in DU\n",
    "O3l=[_O3*0.5, _O3, _O3*1.5] # ranges\n",
    "NL=50.\n",
    "znew =np.linspace(100.,0.,num=NL)\n",
    "surf=RoughSurface(SUR=1)\n",
    "le={}\n",
    "le.update(th=np.array([20.])*np.pi/180)\n",
    "le.update(phi=np.array([180.])*np.pi/180)\n",
    "NB=1e7\n",
    "\n",
    "# we build 3 profiles concatenated in the wavelength dimension, coresponding to 3 Ozone amounts\n",
    "for i,O3 in enumerate(O3l):\n",
    "    pro = AtmAFGL('afglmw', grid=znew, NO2=False, O3=O3).calc(wl)\n",
    "    if i!=0 :      \n",
    "        ab  = np.concatenate((ab , pro['tau_abs'].data), axis=0)\n",
    "        ray = np.concatenate((ray, pro['tau_sca'].data), axis=0)\n",
    "        \n",
    "    else: \n",
    "        ab = pro['tau_abs'].data\n",
    "        ray= pro['tau_sca'].data\n",
    "\n",
    "atm = AtmAFGL('afglmw', grid=znew, prof_ray=ray, prof_abs=LUT(diff1(ab, axis=1)))\n",
    "atm.calc(wls).describe()\n",
    "\n",
    "S = Smartg(alis={'nlow':3}, double=True)"
   ]
  },
  {
   "cell_type": "code",
   "execution_count": null,
   "metadata": {
    "collapsed": false
   },
   "outputs": [],
   "source": [
    "surf=RoughSurface(SUR=1)\n",
    "mle1=S.run(THVDEG=30., wl=wls, le=le, surf=surf,NBPHOTONS=5e7, atm=atm, progress=False)\n",
    "print mle1.attrs['kernel time (s)']\n",
    "mle2=S.run(THVDEG=30., wl=wls, le=le, surf=surf,NBPHOTONS=5e7, atm=atm, progress=False)"
   ]
  },
  {
   "cell_type": "code",
   "execution_count": null,
   "metadata": {
    "collapsed": false
   },
   "outputs": [],
   "source": [
    "Ip1=mle1['Q_up (TOA)']*mle1['Q_up (TOA)']+mle1['U_up (TOA)']*mle1['U_up (TOA)']\n",
    "DoLP1=(Ip1.apply(np.sqrt)/mle1['I_up (TOA)'])*100.\n",
    "Ip2=mle2['Q_up (TOA)']*mle2['Q_up (TOA)']+mle2['U_up (TOA)']*mle2['U_up (TOA)']\n",
    "DoLP2=(Ip2.apply(np.sqrt)/mle2['I_up (TOA)'])*100.\n",
    "DoLP1.sub()[:,0,0].plot(fmt='b.')\n",
    "figure()\n",
    "diff1 =DoLP1.sub()[:,0,0]/DoLP1.sub()[0,0,0]\n",
    "diff2 =DoLP2.sub()[:,0,0]/DoLP2.sub()[0,0,0]\n",
    "diff1.plot(fmt='b.')\n",
    "diff2.plot(fmt='rx')\n",
    "figure()\n",
    "(diff1/diff2).plot(fmt='kx')"
   ]
  },
  {
   "cell_type": "markdown",
   "metadata": {},
   "source": [
    "### Sensitivity of O2A to surface pressure"
   ]
  },
  {
   "cell_type": "code",
   "execution_count": null,
   "metadata": {
    "collapsed": false
   },
   "outputs": [],
   "source": [
    "%%time\n",
    "dl= 0.0100\n",
    "lmin=759.\n",
    "lmax=769.001\n",
    "NW=int((lmax-lmin)/dl)\n",
    "vmin=1e7/lmax\n",
    "vmax=1e7/lmin\n",
    "dv=(vmax-vmin)/NW\n",
    "#vmin=12980. #cm-1\n",
    "#vmax=13200.25 #cm-1\n",
    "hapi.fetch('O2i1',7,1,vmin-100,vmax+100)\n",
    "hapi.fetch('O2i2',7,2,vmin-100,vmax+100)\n",
    "hapi.fetch('O2i3',7,3,vmin-100,vmax+100)\n",
    "#dv=.25 #cm-1\n",
    "NL=21\n",
    "#NW= int((vmax-vmin)/dv)\n",
    "print 'NW: ', NW\n",
    "pmin=0.001\n",
    "pmax=1012.\n",
    "pnew=np.linspace(pmin,pmax, num=NL)\n",
    "#znew=abs(-8. *np.log(pnew/pmax))\n",
    "znew =np.linspace(100.,0.,num=NL)\n",
    "\n",
    "NB=1e7\n",
    "\n",
    "P0l=[950., 1010.]\n",
    "\n",
    "ao2=np.zeros((NW,NL),dtype=float)\n",
    "\n",
    "for i,P0 in enumerate(P0l):\n",
    "    j=0\n",
    "    atm = AtmAFGL('afglmw', grid=znew, NO2=False, O3=0., P0=P0)\n",
    "    \n",
    "    for p,t,o2,z in zip(atm.prof.P,atm.prof.T,atm.prof.dens_o2,atm.prof.z):\n",
    "        nuo2,coefo2 = hapi.absorptionCoefficient_Voigt_gpu(SourceTables=['O2i1','O2i2','O2i3'],HITRAN_units=False,\n",
    "            OmegaRange=[vmin,vmax],OmegaStep=dv,GammaL='gamma_self',\n",
    "            Environment={'p':p/1013.,'T':t})\n",
    "        ao2[:,j] = coefo2*1e5\n",
    "        j=j+1\n",
    "    wl=(1e7/nuo2)\n",
    "    wl=wl[::1]\n",
    "\n",
    "    pro = AtmAFGL('afglmw', grid=znew, NO2=False, O3=0., P0=P0).calc(wl)\n",
    "    if i!=0 :      \n",
    "        ab  = np.concatenate((ab , ao2), axis=0)\n",
    "        ray = np.concatenate((ray, pro['tau_r'].data), axis=0)\n",
    "        \n",
    "    else: \n",
    "        ab = ao2\n",
    "        ray= pro['tau_r'].data\n",
    "\n",
    "wls = np.concatenate((wl,wl))\n",
    "print ao2.max()\n",
    "atm = AtmAFGL('afglmw', grid=znew, prof_ray=ray, prof_abs=LUT(ab))\n",
    "#atm.calc(wls).describe()\n"
   ]
  },
  {
   "cell_type": "code",
   "execution_count": null,
   "metadata": {
    "collapsed": true
   },
   "outputs": [],
   "source": [
    "S0=Smartg(alis={'nlow':3}, double=True)\n",
    "tv=np.linspace(0.,75.,num=6)\n",
    "le={}\n",
    "le.update(th=tv*np.pi/180)\n",
    "le.update(phi=np.linspace(0.,360.,num=1)*np.pi/180)\n",
    "surf=RoughSurface(SUR=1)\n",
    "surf=None"
   ]
  },
  {
   "cell_type": "code",
   "execution_count": null,
   "metadata": {
    "collapsed": false
   },
   "outputs": [],
   "source": [
    "%%time\n",
    "m=S0.run(THVDEG=30., wl=wls, atm=atm, surf=surf, le=le, NBPHOTONS=1e5, progress=False)"
   ]
  },
  {
   "cell_type": "code",
   "execution_count": null,
   "metadata": {
    "collapsed": false
   },
   "outputs": [],
   "source": [
    "field='I_up (TOA)'\n",
    "I=m[field].sub(d={'wavelength':arange(NW)})\n",
    "I.names[0]=r'$\\lambda (nm)$'\n",
    "I.axes[0]=wl\n",
    "I.desc=mdesc(field)\n",
    "for t in tv[:-1]:\n",
    "    _= I.sub()[:,0,Idx(t)].plot(fmt='-', vmax=0.02, vmin=0, label='%.0f'%t)\n",
    "#legend()\n",
    "\n",
    "figure()\n",
    "jac= (m[field].sub(d={'wavelength':arange(NW)+NW}) - \n",
    "      m[field].sub(d={'wavelength':arange(NW)}) ) / (P0l[-1]-P0l[0]) \n",
    "jac.names[0]=r'$\\lambda (nm)$'\n",
    "jac.axes[0]=wl\n",
    "jac.desc=r'$d$'+mdesc(field)+r'$/dP_0$' + '  ' + r'$(hPa^{-1})$'\n",
    "\n",
    "for t in tv[:-1]:\n",
    "    _=jac.sub()[:,0,Idx(t)].plot(fmt='-', vmax=2e-5, vmin=0, label='%.0f'%t)\n",
    "legend()\n",
    "\n",
    "figure()\n",
    "field='Q_up (TOA)'\n",
    "I=m[field].sub(d={'wavelength':arange(NW)})\n",
    "I.names[0]=r'$\\lambda (nm)$'\n",
    "I.axes[0]=wl\n",
    "I.desc=mdesc(field)\n",
    "for t in tv[:-1]:\n",
    "    _= I.sub()[:,0,Idx(t)].plot(fmt='-', vmax=0.001, vmin=-0.003, label='%.0f'%t)\n",
    "#legend()\n",
    "\n",
    "figure()\n",
    "jac= (m[field].sub(d={'wavelength':arange(NW)+NW}) - \n",
    "      m[field].sub(d={'wavelength':arange(NW)}) ) / (P0l[-1]-P0l[0]) \n",
    "jac.names[0]=r'$\\lambda (nm)$'\n",
    "jac.axes[0]=wl\n",
    "jac.desc=r'$d$'+mdesc(field)+r'$/dP_0$' + '  ' + r'$(hPa^{-1})$'\n",
    "\n",
    "for t in tv[:-1]:\n",
    "    _=jac.sub()[:,0,Idx(t)].plot(fmt='-', vmax=0.5e-6, vmin=-2.5e-6, label='%.0f'%t)\n",
    "#legend(loc='best')"
   ]
  },
  {
   "cell_type": "markdown",
   "metadata": {},
   "source": [
    "### PARASOL O2"
   ]
  },
  {
   "cell_type": "code",
   "execution_count": null,
   "metadata": {
    "collapsed": false
   },
   "outputs": [],
   "source": [
    "thv = np.linspace(0., 60. , num=2)\n",
    "phi = np.linspace(0., 180., num=1)\n",
    "#thv = np.linspace(0., 60. , num=8)\n",
    "#phi = np.linspace(0., 180., num=2)\n",
    "PARASOL_SOLAR = REPTRAN('reptran_solar_parasol')\n",
    "ibands = PARASOL_SOLAR.to_smartg(lmin=630, lmax=830)\n",
    "NL = 25; wref = 700.\n",
    "znew =np.linspace(100.,0.,num=NL)\n",
    "S = Smartg(alis={'nlow':-1}, double=True)\n",
    "S0 = Smartg(double=True)\n",
    "le={}\n",
    "le.update(th=thv*np.pi/180)\n",
    "le.update(phi=phi*np.pi/180)"
   ]
  },
  {
   "cell_type": "code",
   "execution_count": null,
   "metadata": {
    "collapsed": false,
    "run_control": {
     "marked": false
    }
   },
   "outputs": [],
   "source": [
    "delta = 0.5\n",
    "zmin  = 1.\n",
    "alb=0.1\n",
    "mult  = np.array([1., 1+delta])\n",
    "th0   = 30.\n",
    "COT_l   = 10. * mult\n",
    "#COT_l   = np.array([1.])\n",
    "CGT_l   = 2.  * mult\n",
    "#CGT_l   = np.array([2.])\n",
    "#REFF_l  = 5.  * mult\n",
    "REFF_l  = np.array([5.])\n",
    "\n",
    "surf  = LambSurface(ALB=alb)\n",
    "atms  = Profile('afglmw', grid=znew, pfwav=[wref], force_cache=True)\n",
    "for COT in COT_l:\n",
    "    for CGT in CGT_l:\n",
    "        for REFF in REFF_l:\n",
    "            ZMAX = zmin + CGT\n",
    "            cloud = CloudOPAC('CUMA',[('wc.sol.mie', zmin, ZMAX , 1., REFF)], COT, wref)\n",
    "            aer = AeroOPAC('desert', COT, wref)\n",
    "            atm = Profile('afglmw', grid=znew, cloud=cloud, pfwav=[wref], force_cache=False)                           \n",
    "            #atms.cache_prof_keys.append(ibands.l)\n",
    "            tmp,_ = atm.calc_bands(ibands.l)\n",
    "            atms.cache_prof_values.append(tmp)\n",
    "                \n",
    "NSIM = len(COT_l)*len(CGT_l)*len(REFF_l)\n",
    "wl = ibands.l * NSIM    "
   ]
  },
  {
   "cell_type": "code",
   "execution_count": null,
   "metadata": {
    "collapsed": false,
    "scrolled": true
   },
   "outputs": [],
   "source": [
    "m= S.run(THVDEG=th0, wl=wl, NBPHOTONS=1e5, le=le, atm=atm, surf=surf)\n",
    "print 'time :                            %s'%m.attrs['kernel time (s)']"
   ]
  },
  {
   "cell_type": "code",
   "execution_count": null,
   "metadata": {
    "collapsed": false
   },
   "outputs": [],
   "source": [
    "#m.describe(show_attrs=True)\n",
    "print m['tauaer'][:,-1]"
   ]
  },
  {
   "cell_type": "code",
   "execution_count": null,
   "metadata": {
    "collapsed": false,
    "run_control": {
     "marked": false
    }
   },
   "outputs": [],
   "source": [
    "NW=len(ibands.l)\n",
    "for i in range(NSIM):\n",
    "    s=reduce_reptran(m.sub(d={'Wavelength':np.arange(i*NW, (i+1)*NW)}), ibands)\n",
    "    if i==0:\n",
    "        f1=transect_view(s.sub(d={'Wavelength':0}), field='up (TOA)')\n",
    "        f2=transect_view(s.sub(d={'Wavelength':1}), field='up (TOA)')\n",
    "        f3=transect_view(s.sub(d={'Wavelength':2}), field='up (TOA)')\n",
    "    else:\n",
    "        _=transect_view(s.sub(d={'Wavelength':0}), field='up (TOA)', fig=f1)\n",
    "        _=transect_view(s.sub(d={'Wavelength':1}), field='up (TOA)', fig=f2)\n",
    "        _=transect_view(s.sub(d={'Wavelength':2}), field='up (TOA)', fig=f3)"
   ]
  },
  {
   "cell_type": "markdown",
   "metadata": {},
   "source": [
    "## Emde et al 2010"
   ]
  },
  {
   "cell_type": "markdown",
   "metadata": {},
   "source": [
    "### Rayleigh  and black surface"
   ]
  },
  {
   "cell_type": "code",
   "execution_count": null,
   "metadata": {
    "collapsed": true
   },
   "outputs": [],
   "source": [
    "S=Smartg(alis={'nlow':3}, double=True)"
   ]
  },
  {
   "cell_type": "code",
   "execution_count": null,
   "metadata": {
    "collapsed": false
   },
   "outputs": [],
   "source": [
    "fgas = '/home/mathieu/work/MCCuda/artdeco_output/cTauGas_ray_O2.dat'\n",
    "gas_valid = diff1(np.loadtxt(fgas, skiprows=7)[:,1:].T, axis=1)\n",
    "z_valid   = np.loadtxt(fgas, skiprows=7)[:,0]\n",
    "w_valid   = np.array(open(fgas).readlines()[5].split()).astype(float)\n",
    "fray = '/home/mathieu/work/MCCuda/artdeco_output/cTauRay_ray_O2.dat'\n",
    "ray_valid = diff1(np.loadtxt(fray, skiprows=7)[:,1:].T, axis=1)\n",
    "data_valid=np.loadtxt('/home/mathieu/work/MCCuda/resultat/artdeco_lbl_nstr_32_ray_O2.dat')"
   ]
  },
  {
   "cell_type": "code",
   "execution_count": null,
   "metadata": {
    "collapsed": false
   },
   "outputs": [],
   "source": [
    "atm_valid = AtmAFGL('afglmw', grid=z_valid, O3=0., NO2=False, pfwav=[760.], \n",
    "                    prof_ray= ray_valid, prof_abs= gas_valid)"
   ]
  },
  {
   "cell_type": "code",
   "execution_count": null,
   "metadata": {
    "collapsed": false,
    "run_control": {
     "marked": false
    }
   },
   "outputs": [],
   "source": [
    "le={}\n",
    "le.update(th=np.array([20.])*np.pi/180)\n",
    "le.update(phi=np.array([180.])*np.pi/180)\n",
    "mle_valid5=  S.run(THVDEG=30., wl=w_valid, le=le,  DEPO=0., NBPHOTONS=1e9, atm=atm_valid, \n",
    "                   NBLOOP=10000, progress=False)\n",
    "print mle_valid5.attrs['kernel time (s)']"
   ]
  },
  {
   "cell_type": "code",
   "execution_count": null,
   "metadata": {
    "collapsed": false
   },
   "outputs": [],
   "source": [
    "i_valid=data_valid[:,1]\n",
    "ip_valid=np.sqrt(data_valid[:,2]*data_valid[:,2]+data_valid[:,3]*data_valid[:,3])\n",
    "ip=mle_valid5['Q_up (TOA)']*mle_valid5['Q_up (TOA)']+mle_valid5['U_up (TOA)']*mle_valid5['U_up (TOA)']\n",
    "ip=ip.apply(np.sqrt,mdesc('Ip_up (TOA)'))\n",
    "i=mle_valid5['I_up (TOA)']\n",
    "##\n",
    "plot(w_valid,  i_valid, 'r')\n",
    "f= i.sub()[:,0,0].plot(fmt='g-', vmax=0.01)\n",
    "figure()\n",
    "df=i.sub()[:,0,0]- i_valid\n",
    "dff=df/i_valid*100\n",
    "dff.plot(fmt='k-', vmax=3, vmin=-3)\n",
    "##\n",
    "figure()\n",
    "plot(w_valid,  ip_valid, 'r')\n",
    "f= ip.sub()[:,0,0].plot(fmt='g-', vmax=0.005)\n",
    "figure()\n",
    "df=ip.sub()[:,0,0]- ip_valid\n",
    "dff=df/ip_valid*100\n",
    "dff.plot(fmt='k-', vmax=3, vmin=-3)"
   ]
  },
  {
   "cell_type": "markdown",
   "metadata": {},
   "source": [
    "### Rayleigh , aerosol and black surface"
   ]
  },
  {
   "cell_type": "code",
   "execution_count": null,
   "metadata": {
    "collapsed": true
   },
   "outputs": [],
   "source": [
    "S=Smartg(alis={'nlow':3}, double=True)"
   ]
  },
  {
   "cell_type": "code",
   "execution_count": null,
   "metadata": {
    "collapsed": false
   },
   "outputs": [],
   "source": [
    "fgas = '/home/mathieu/work/MCCuda/artdeco_output/cTauGas_ray_desert_O2.dat'\n",
    "gas_valid = diff1(np.loadtxt(fgas, skiprows=7)[:,1:].T, axis=1)\n",
    "z_valid   = np.loadtxt(fgas, skiprows=7)[:,0]\n",
    "w_valid   = np.array(open(fgas).readlines()[5].split()).astype(float)\n",
    "fray = '/home/mathieu/work/MCCuda/artdeco_output/cTauRay_ray_desert_O2.dat'\n",
    "ray_valid = diff1(np.loadtxt(fray, skiprows=7)[:,1:].T, axis=1)\n",
    "faer_abs = '/home/mathieu/work/MCCuda/artdeco_output/cTauAbs_ptcle_ray_desert_O2.dat'\n",
    "aer_abs_valid = diff1(np.loadtxt(faer_abs, skiprows=7)[:,1:].T, axis=1)\n",
    "faer_sca = '/home/mathieu/work/MCCuda/artdeco_output/cTauSca_ptcle_ray_desert_O2.dat'\n",
    "aer_sca_valid = diff1(np.loadtxt(faer_sca, skiprows=7)[:,1:].T, axis=1)\n",
    "\n",
    "# aerosols phase matrix import\n",
    "faer_phase= '/home/mathieu/work/MCCuda/artdeco_output/phasemat_ray_desert_O2.dat'\n",
    "f=open(faer_phase,'r')\n",
    "N=np.genfromtxt(faer_phase, usecols=range(1), max_rows=1, dtype=int)\n",
    "pfwav=[]\n",
    "P=[]\n",
    "Npf=3\n",
    "data=np.zeros((Npf,1,N,5), dtype=float32) \n",
    "for k in range(Npf):\n",
    "    pfwav.append(np.genfromtxt(faer_phase, usecols=range(1), skip_header=(1+(2+N)*k), max_rows=1))\n",
    "    pizero=np.genfromtxt(faer_phase, usecols=range(1), skip_header=(1+(2+N)*k+1), max_rows=1)\n",
    "    data[k,0,:,:] = np.genfromtxt(faer_phase, usecols=range(5), skip_header=(1+(2+N)*k+2), max_rows=N)\n",
    "    \n",
    "data=data.swapaxes(2,3)\n",
    "phase_valid = LUT(data[:,:,1:,:],\n",
    "          names = ['wav_phase_atm', 'z_phase_atm', 'stk','theta'] ,\n",
    "          axes  = [pfwav, [0], None, data[0,0,0,:]])\n",
    "   \n",
    "data_valid=np.loadtxt('/home/mathieu/work/MCCuda/resultat/artdeco_lbl_nstr_32_ray_desert_O2.dat')"
   ]
  },
  {
   "cell_type": "code",
   "execution_count": null,
   "metadata": {
    "collapsed": false
   },
   "outputs": [],
   "source": [
    "aer_ext_valid  = aer_sca_valid + aer_abs_valid\n",
    "aer_ssa_valid  = aer_sca_valid / aer_ext_valid\n",
    "aer_ssa_valid[aer_ext_valid==0]=1.\n",
    "comp=[AeroOPAC('desert',0.5, 550., phase= phase_valid)]\n",
    "atm_valid = AtmAFGL('afglmw', grid=z_valid, O3=0., NO2=False, pfwav=pfwav, comp=comp,\n",
    "                    prof_ray= ray_valid,\n",
    "                    prof_aer= (aer_ext_valid,aer_ssa_valid),\n",
    "                    prof_abs= gas_valid\n",
    "                    )"
   ]
  },
  {
   "cell_type": "code",
   "execution_count": null,
   "metadata": {
    "collapsed": false,
    "run_control": {
     "marked": false
    }
   },
   "outputs": [],
   "source": [
    "le={}\n",
    "le.update(th=np.array([20.])*np.pi/180)\n",
    "le.update(phi=np.array([180.])*np.pi/180)\n",
    "mle_valid5=  S.run(THVDEG=30., wl=w_valid, le=le,  DEPO=0., NBPHOTONS=1e8, atm=atm_valid, \n",
    "                   NBLOOP=10000, progress=False)\n",
    "print mle_valid5.attrs['kernel time (s)']"
   ]
  },
  {
   "cell_type": "code",
   "execution_count": null,
   "metadata": {
    "collapsed": false
   },
   "outputs": [],
   "source": [
    "i_valid=data_valid[:,1]\n",
    "ip_valid=np.sqrt(data_valid[:,2]*data_valid[:,2]+data_valid[:,3]*data_valid[:,3])\n",
    "ip=mle_valid5['Q_up (TOA)']*mle_valid5['Q_up (TOA)']+mle_valid5['U_up (TOA)']*mle_valid5['U_up (TOA)']\n",
    "ip=ip.apply(np.sqrt,mdesc('Ip_up (TOA)'))\n",
    "i=mle_valid5['I_up (TOA)']\n",
    "##\n",
    "plot(w_valid,  i_valid, 'r')\n",
    "f= i.sub()[:,0,0].plot(fmt='g-', vmax=0.01)\n",
    "figure()\n",
    "df=i.sub()[:,0,0]- i_valid\n",
    "dff=df/i_valid*100\n",
    "dff.plot(fmt='k-', vmax=10, vmin=-6)\n",
    "##\n",
    "figure()\n",
    "plot(w_valid,  ip_valid, 'r')\n",
    "f= ip.sub()[:,0,0].plot(fmt='g-', vmax=0.005)\n",
    "figure()\n",
    "df=ip.sub()[:,0,0]- ip_valid\n",
    "dff=df/ip_valid*100\n",
    "dff.plot(fmt='k-', vmax=10, vmin=-10)"
   ]
  },
  {
   "cell_type": "markdown",
   "metadata": {},
   "source": [
    "## Tanso FTS"
   ]
  },
  {
   "cell_type": "code",
   "execution_count": null,
   "metadata": {
    "collapsed": false
   },
   "outputs": [],
   "source": [
    "S=Smartg(alis={'nlow':3}, double=True)"
   ]
  },
  {
   "cell_type": "code",
   "execution_count": null,
   "metadata": {
    "collapsed": false
   },
   "outputs": [],
   "source": [
    "fgas = '/home/mathieu/work/MCCuda/artdeco_output/cTauGas_ray_O2_fts1.dat'\n",
    "gas_valid = np.loadtxt(fgas, skiprows=7)[:,1:].T\n",
    "z_valid   = np.loadtxt(fgas, skiprows=7)[:,0]\n",
    "w_valid   = np.array(open(fgas).readlines()[5].split()).astype(float)\n",
    "fray = '/home/mathieu/work/MCCuda/artdeco_output/cTauRay_ray_O2_fts1.dat'\n",
    "ray_valid = np.loadtxt(fray, skiprows=7)[:,1:].T\n",
    "#data_valid=np.loadtxt('/home/mathieu/work/MCCuda/resultat/artdeco_lbl_nstr_32_ray_glitter_O2_fts1.dat')\n",
    "data_valid=np.loadtxt('/home/mathieu/work/MCCuda/resultat/artdeco_lbl_nstr_32_ray_O2_fts1.dat')"
   ]
  },
  {
   "cell_type": "code",
   "execution_count": null,
   "metadata": {
    "collapsed": false
   },
   "outputs": [],
   "source": [
    "gg=LUT(diff1(gas_valid,axis=1))\n",
    "atm_valid = AtmAFGL('afglmw', grid=z_valid, O3=0., NO2=False, pfwav=[760.], prof_ray= ray_valid, \n",
    "                    prof_abs=gg)"
   ]
  },
  {
   "cell_type": "code",
   "execution_count": null,
   "metadata": {
    "collapsed": false
   },
   "outputs": [],
   "source": [
    "##%prun  \n",
    "le={}\n",
    "le.update(th=np.array([20.])*np.pi/180)\n",
    "le.update(phi=np.array([180.])*np.pi/180)\n",
    "surf=RoughSurface(SUR=1)\n",
    "surf=None\n",
    "mle_valid_fts1=  S.run(THVDEG=30., wl=w_valid, le=le,  DEPO=0., NBPHOTONS=1e7, \n",
    "                       surf=surf, atm=atm_valid, NBLOOP=5000)\n",
    "print mle_valid_fts1.attrs['kernel time (s)']"
   ]
  },
  {
   "cell_type": "code",
   "execution_count": null,
   "metadata": {
    "collapsed": false
   },
   "outputs": [],
   "source": [
    "f=figure()\n",
    "f.set_size_inches(22,8)\n",
    "mle_valid_fts1['Q_up (TOA)'].sub()[:,0,0].plot(fmt='b-')\n",
    "mle_valid_fts1['I_up (TOA)'].sub()[:,0,0].plot(fmt='r-', vmax=0.02, vmin=-0.01)"
   ]
  },
  {
   "cell_type": "code",
   "execution_count": null,
   "metadata": {
    "collapsed": false
   },
   "outputs": [],
   "source": [
    "i_valid=data_valid[:,1]\n",
    "ip_valid=np.sqrt(data_valid[:,2]*data_valid[:,2]+data_valid[:,3]*data_valid[:,3])\n",
    "ip=mle_valid_fts1['Q_up (TOA)']*mle_valid_fts1['Q_up (TOA)']+mle_valid_fts1['U_up (TOA)']*mle_valid_fts1['U_up (TOA)']\n",
    "ip=ip.apply(np.sqrt,mdesc('Ip_up (TOA)'))\n",
    "\n",
    "i=mle_valid_fts1['I_up (TOA)']\n",
    "\n",
    "##\n",
    "plot(w_valid,  i_valid, 'r')\n",
    "f= i.sub()[:,0,0].plot(fmt='g-', vmax=0.01)\n",
    "figure()\n",
    "df=i.sub()[:,0,0]- i_valid\n",
    "dff=df/i_valid*100\n",
    "dff.plot(fmt='k-', vmax=5, vmin=-5)\n",
    "##\n",
    "ff=figure()\n",
    "ff.set_size_inches(44,6)\n",
    "plot(w_valid,  ip_valid, 'r')\n",
    "f= ip.sub()[:,0,0].plot(fmt='.g', vmax=0.005)\n",
    "ff.savefig('/home/did/RTC/SMART-G/validation/alis_fts.png',dpi=300)\n",
    "ff=figure()\n",
    "ff.set_size_inches(44,6)\n",
    "df=ip.sub()[:,0,0]- ip_valid\n",
    "dff=df/ip_valid*100\n",
    "dff.plot(fmt='.k-', vmax=5, vmin=-5)\n",
    "ff.savefig('/home/did/RTC/SMART-G/validation/alis_fts_dif.png',dpi=300)"
   ]
  },
  {
   "cell_type": "markdown",
   "metadata": {},
   "source": [
    "## CO2"
   ]
  },
  {
   "cell_type": "code",
   "execution_count": null,
   "metadata": {
    "collapsed": false
   },
   "outputs": [],
   "source": [
    "S=Smartg(alis={'nlow':3}, double=True)"
   ]
  },
  {
   "cell_type": "code",
   "execution_count": null,
   "metadata": {
    "collapsed": false
   },
   "outputs": [],
   "source": [
    "fgas = '/home/mathieu/work/MCCuda/artdeco_output/cTauGas_ray_glitter_CO2.dat'\n",
    "gas_valid = np.loadtxt(fgas, skiprows=7)[:,1:].T\n",
    "z_valid   = np.loadtxt(fgas, skiprows=7)[:,0]\n",
    "w_valid   = np.array(open(fgas).readlines()[5].split()).astype(float)\n",
    "fray = '/home/mathieu/work/MCCuda/artdeco_output/old/Emde_like/cTauRay_ray_glitter_CO2.dat'\n",
    "ray_valid = np.loadtxt(fray, skiprows=7)[:,1:].T\n",
    "data_valid=np.loadtxt('/home/mathieu/work/MCCuda/resultat/artdeco_lbl_nstr_32_ray_glitter_CO2.dat')"
   ]
  },
  {
   "cell_type": "code",
   "execution_count": null,
   "metadata": {
    "collapsed": false
   },
   "outputs": [],
   "source": [
    "gg=LUT(diff1(gas_valid,axis=1))\n",
    "atm_valid = AtmAFGL('afglmw', grid=z_valid, O3=0., NO2=False, pfwav=[760.], prof_ray= ray_valid, \n",
    "                    prof_abs=gg)"
   ]
  },
  {
   "cell_type": "code",
   "execution_count": null,
   "metadata": {
    "collapsed": false
   },
   "outputs": [],
   "source": [
    "##%prun  \n",
    "le={}\n",
    "le.update(th=np.array([20.])*np.pi/180)\n",
    "le.update(phi=np.array([180.])*np.pi/180)\n",
    "surf=RoughSurface(SUR=1)\n",
    "mle_valid_co2=  S.run(THVDEG=30., wl=w_valid, le=le,  DEPO=0., NBPHOTONS=1e8, \n",
    "                       surf=surf, atm=atm_valid, NBLOOP=10000)\n",
    "print mle_valid_co2.attrs['kernel time (s)']"
   ]
  },
  {
   "cell_type": "code",
   "execution_count": null,
   "metadata": {
    "collapsed": false
   },
   "outputs": [],
   "source": [
    "i_valid=data_valid[:,1]\n",
    "ip_valid=np.sqrt(data_valid[:,2]*data_valid[:,2]+data_valid[:,3]*data_valid[:,3])\n",
    "ip=mle_valid_co2['Q_up (TOA)']*mle_valid_co2['Q_up (TOA)']+mle_valid_co2['U_up (TOA)']*mle_valid_co2['U_up (TOA)']\n",
    "ip=ip.apply(np.sqrt,mdesc('Ip_up (TOA)'))\n",
    "\n",
    "i=mle_valid_co2['I_up (TOA)']\n",
    "i.desc=mdesc('I_up (TOA)')\n",
    "##\n",
    "plot(w_valid,  i_valid, 'r')\n",
    "f= i.sub()[:,0,0].plot(fmt='g-', vmax=0.2)\n",
    "figure()\n",
    "df=i.sub()[:,0,0]- i_valid\n",
    "dff=df/i_valid*100\n",
    "dff.plot(fmt='k-', vmax=.3, vmin=-.3)\n",
    "##\n",
    "figure()\n",
    "plot(w_valid,  ip_valid, 'r')\n",
    "f= ip.sub()[:,0,0].plot(fmt='g-', vmax=0.1, vmin=0)\n",
    "figure()\n",
    "df=ip.sub()[:,0,0]- ip_valid\n",
    "dff=df/ip_valid*100\n",
    "dff.plot(fmt='k-', vmax=.3, vmin=-.3)"
   ]
  }
 ],
 "metadata": {
  "anaconda-cloud": {},
  "hide_input": false,
  "kernelspec": {
   "display_name": "Python [default]",
   "language": "python",
   "name": "python2"
  },
  "language_info": {
   "codemirror_mode": {
    "name": "ipython",
    "version": 2
   },
   "file_extension": ".py",
   "mimetype": "text/x-python",
   "name": "python",
   "nbconvert_exporter": "python",
   "pygments_lexer": "ipython2",
   "version": "2.7.12"
  },
  "toc": {
   "toc_cell": false,
   "toc_number_sections": true,
   "toc_section_display": "block",
   "toc_threshold": 4,
   "toc_window_display": true
  },
  "toc_position": {
   "left": "1543px",
   "right": "33px",
   "top": "123px",
   "width": "300px"
  },
  "widgets": {
   "state": {
    "098159b87ce640a99198067cd54ab678": {
     "views": [
      {
       "cell_index": 3
      }
     ]
    },
    "1921f473839341f388a1e9377d80589a": {
     "views": [
      {
       "cell_index": 3
      }
     ]
    },
    "1fa758d1d96f45f087bf8a5f885862da": {
     "views": [
      {
       "cell_index": 3
      }
     ]
    },
    "5bcbe180c7034ef09a83eb0c2e04469c": {
     "views": [
      {
       "cell_index": 3
      }
     ]
    },
    "66b0f04325fa413da0229bf257752733": {
     "views": [
      {
       "cell_index": 3
      }
     ]
    },
    "b071eef5e27f48f6be7750fe988dbf07": {
     "views": [
      {
       "cell_index": 3
      }
     ]
    },
    "c0ccf18d483e4060b401b2146eb2a34f": {
     "views": [
      {
       "cell_index": 3
      }
     ]
    },
    "c940c2f9d86347da801ee680976d4176": {
     "views": [
      {
       "cell_index": 3
      }
     ]
    },
    "dd1a91bd82664a3c900ddf3eb9f15205": {
     "views": [
      {
       "cell_index": 3
      }
     ]
    }
   },
   "version": "1.2.0"
  }
 },
 "nbformat": 4,
 "nbformat_minor": 0
}
