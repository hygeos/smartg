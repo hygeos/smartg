{
 "cells": [
  {
   "cell_type": "markdown",
   "metadata": {},
   "source": [
    "# Smart-G demo notebook , part 2</b>\n",
    "\n",
    "This is an interactive document allowing to run Smart-G with python and visualize the results. <br>\n",
    "*Tips*: cells can be executed with shift-enter. Tooltips can be obtained with shift-tab. More information [here](http://ipython.org/notebook.html) or in the help menu. [A table of content can also be added](https://github.com/minrk/ipython_extensions#table-of-contents)."
   ]
  },
  {
   "cell_type": "code",
   "execution_count": null,
   "metadata": {
    "ExecuteTime": {
     "end_time": "2018-09-13T13:26:44.176246Z",
     "start_time": "2018-09-13T13:26:41.019775Z"
    },
    "scrolled": false
   },
   "outputs": [],
   "source": [
    "%pylab inline\n",
    "# next 2 lines allow to automatically reload modules that have been changed externally\n",
    "%reload_ext autoreload\n",
    "%autoreload 2\n",
    "from __future__ import absolute_import, division, print_function\n",
    "import os, sys\n",
    "sys.path.insert(0, os.path.dirname(os.getcwd()))\n",
    "from smartg.smartg import Smartg, Sensor\n",
    "#from smartg.smartg import multi_profiles, reduce_diff\n",
    "from smartg.smartg import RoughSurface, LambSurface, FlatSurface, Environment, Albedo_cst\n",
    "from smartg.atmosphere import AtmAFGL, AeroOPAC, CloudOPAC, diff1, read_phase\n",
    "from smartg.water import IOP_1, IOP, IOP_profile\n",
    "from smartg.reptran import REPTRAN, reduce_reptran\n",
    "from smartg.tools.tools import SpherIrr, Irr, reduce_Irr\n",
    "from smartg.tools.luts import LUT, MLUT, Idx, merge, read_mlut\n",
    "from smartg.tools.smartg_view import compare, plot_polar, spectrum , mdesc \n",
    "from smartg.tools.smartg_view import spectrum_view,transect_view,profile_view,phase_view,smartg_view,input_view\n",
    "from ipywidgets import interact, interact_manual\n",
    "# this module depends on the external HAPI Hitran Python interface\n",
    "import hapi2018_gpu as hapi\n",
    "from matplotlib import colors\n",
    "colors_ = list(six.iteritems(colors.cnames))\n",
    "import warnings\n",
    "warnings.filterwarnings(\"ignore\")\n",
    "def get_spaced_colors(n):\n",
    "    max_value = 16581375 #255**3\n",
    "    interval = int(max_value / n)\n",
    "    colors = [hex(I)[2:].zfill(6) for I in range(0, max_value, interval)]\n",
    "    return [(int(i[:2], 16)/256., int(i[2:4], 16)/256., int(i[4:], 16)/256.) for i in colors]"
   ]
  },
  {
   "cell_type": "markdown",
   "metadata": {},
   "source": [
    "# Equivalence Theorem"
   ]
  },
  {
   "cell_type": "code",
   "execution_count": null,
   "metadata": {
    "ExecuteTime": {
     "end_time": "2018-09-07T13:20:24.100742Z",
     "start_time": "2018-09-07T13:17:45.758645Z"
    }
   },
   "outputs": [],
   "source": [
    "%%time\n",
    "# Here we compare the TOA radiance simulated at 500 nm in the Chappuis band.\n",
    "# Absorption is computed with Beer-Lambert Law (BEER=1) or layer single scattering albedo (BEER=0)\n",
    "\n",
    "atm=AtmAFGL('afglt',grid=np.linspace(100.,0.,num=100), O3=300., NO2=False)\n",
    "results = []\n",
    "le={}\n",
    "le.update(th=np.linspace(1.,85.,num=17)*np.pi/180)\n",
    "le.update(phi=np.array([0., 90, 180, 270],dtype=np.float32)*np.pi/180)\n",
    "S=Smartg(double=True, alt_pp=True)\n",
    "for BEER in [0, 1]:\n",
    "    results.append(S.run(THVDEG=45., wl=500., NBPHOTONS=1e7, le=le, atm=atm, BEER=BEER, stdev=True))"
   ]
  },
  {
   "cell_type": "code",
   "execution_count": null,
   "metadata": {
    "ExecuteTime": {
     "end_time": "2018-09-07T13:22:40.410698Z",
     "start_time": "2018-09-07T13:22:37.876567Z"
    }
   },
   "outputs": [],
   "source": [
    "# reference is Beer law\n",
    "vmin = [0,  -0.15, -0.2, 0.]\n",
    "vmax = [0.2, 0.05, 0.05, 100]\n",
    "emax = [2e-4, 2e-4, 2e-4, .1]\n",
    "ermax= [.2, .2, .2, .2]\n",
    "_=compare(results[0], results[1], errb=True, vmin=vmin, vmax=vmax, \n",
    "      emax=emax, ermax=ermax, zenith_title='$VZA (^\\circ)$')"
   ]
  },
  {
   "cell_type": "markdown",
   "metadata": {},
   "source": [
    "# ALIS"
   ]
  },
  {
   "cell_type": "markdown",
   "metadata": {},
   "source": [
    "## Atmosphere"
   ]
  },
  {
   "cell_type": "markdown",
   "metadata": {},
   "source": [
    "### Pure scattering"
   ]
  },
  {
   "cell_type": "code",
   "execution_count": null,
   "metadata": {
    "ExecuteTime": {
     "end_time": "2018-09-11T14:17:07.868513Z",
     "start_time": "2018-09-11T14:16:49.589065Z"
    }
   },
   "outputs": [],
   "source": [
    "NWP= 1\n",
    "S0= Smartg(alis=False, double=True, pp=True)\n",
    "S = Smartg(alis=True , double=True, pp=True)"
   ]
  },
  {
   "cell_type": "code",
   "execution_count": null,
   "metadata": {
    "ExecuteTime": {
     "end_time": "2018-09-11T14:17:25.293166Z",
     "start_time": "2018-09-11T14:17:16.972338Z"
    },
    "run_control": {
     "marked": true
    }
   },
   "outputs": [],
   "source": [
    "%%time\n",
    "dl  = 2.\n",
    "lmin= 500.\n",
    "lmax= 600.\n",
    "wref= (lmax-lmin)/2 + lmin\n",
    "NW  = int((lmax-lmin)/dl) + 1\n",
    "wl  = np.linspace(lmin,lmax,num=NW)\n",
    "NL  = 40\n",
    "aer = AeroOPAC('urban',.3, 550.)\n",
    "cld = CloudOPAC('wc.sol', 11., 9., 10., .3, 550.)\n",
    "comp=[cld,aer]\n",
    "znew =np.linspace(100.,0.,num=NL+1)\n",
    "pfwav= np.linspace(lmin,lmax,num=NWP)\n",
    "pfgrid = [100., 12., 7., 5., 3., 0.]\n",
    "atm=AtmAFGL('afglus', grid=znew , O3=0., NO2=False, comp=comp, pfwav=pfwav, pfgrid=pfgrid)\n",
    "pro=atm.calc(wl)\n",
    "\n",
    "le={}\n",
    "le.update(th=np.array([0.])*np.pi/180)\n",
    "le.update(phi=np.array([90.])*np.pi/180)\n",
    "NB=1e6\n",
    "\n",
    "## !! nlow-1 has to divide NW-1 where NW is the number of wavelengths\n",
    "\n",
    "mle1 = S.run( THVDEG=65., wl=wl, le=le,  NBPHOTONS=NB, atm=pro, progress=True, alis_options={'nlow':-1})\n",
    "mle2 = S.run( THVDEG=65., wl=wl, le=le,  NBPHOTONS=NB, atm=pro, progress=True, alis_options={'nlow':-1})\n",
    "m0le = S0.run(THVDEG=65., wl=wl, le=le,  NBPHOTONS=NB, atm=pro, progress=True)\n",
    "print (mle2.attrs['kernel time (s)'])"
   ]
  },
  {
   "cell_type": "code",
   "execution_count": null,
   "metadata": {
    "ExecuteTime": {
     "end_time": "2018-09-11T14:17:32.254831Z",
     "start_time": "2018-09-11T14:17:31.418456Z"
    }
   },
   "outputs": [],
   "source": [
    "f=spectrum_view(mle1.sub({ 'Azimuth angles':0, 'Zenith angles':0}), fmt='-', color='r')\n",
    "_=spectrum_view(mle2.sub({ 'Azimuth angles':0, 'Zenith angles':0}), fmt='-', color='g', fig=f)\n",
    "_=spectrum_view(m0le.sub({ 'Azimuth angles':0, 'Zenith angles':0}), fmt='.', color='b', fig=f)#"
   ]
  },
  {
   "cell_type": "markdown",
   "metadata": {},
   "source": [
    "## HITRAN"
   ]
  },
  {
   "cell_type": "code",
   "execution_count": null,
   "metadata": {
    "ExecuteTime": {
     "end_time": "2018-09-11T14:17:46.331267Z",
     "start_time": "2018-09-11T14:17:44.503742Z"
    }
   },
   "outputs": [],
   "source": [
    "hapi.db_begin('data')"
   ]
  },
  {
   "cell_type": "markdown",
   "metadata": {},
   "source": [
    "### Spectrum and Jacobians"
   ]
  },
  {
   "cell_type": "code",
   "execution_count": null,
   "metadata": {
    "ExecuteTime": {
     "end_time": "2018-09-11T14:31:39.243553Z",
     "start_time": "2018-09-11T14:31:32.641436Z"
    },
    "run_control": {
     "marked": true
    }
   },
   "outputs": [],
   "source": [
    "%%time\n",
    "# Sensitivity of O2A to surface pressure¶\n",
    "# Just Rayleigh atmosphere\n",
    "\n",
    "dl= 0.0200\n",
    "lmin=759.\n",
    "lmax=769.001\n",
    "NW=int((lmax-lmin)/dl)\n",
    "vmin=1e7/lmax\n",
    "vmax=1e7/lmin\n",
    "dv=(vmax-vmin)/NW\n",
    "\n",
    "hapi.fetch('O2i1',7,1,vmin-100,vmax+100)\n",
    "hapi.fetch('O2i2',7,2,vmin-100,vmax+100)\n",
    "hapi.fetch('O2i3',7,3,vmin-100,vmax+100)\n",
    "\n",
    "NL=21\n",
    "print ('NW: ', NW)\n",
    "znew =np.linspace(100.,0.,num=NL)\n",
    "\n",
    "NB=1e7\n",
    "\n",
    "P0l=[1000., 1010.]\n",
    "\n",
    "ao2=np.zeros((NW,NL),dtype=float)\n",
    "\n",
    "for i,P0 in enumerate(P0l):\n",
    "    j=0\n",
    "    atm = AtmAFGL('afglmw', grid=znew, NO2=False, O3=0., P0=P0)\n",
    "    \n",
    "    for p,t,o2,z in zip(atm.prof.P,atm.prof.T,atm.prof.dens_o2,atm.prof.z):\n",
    "        nuo2,coefo2 = hapi.absorptionCoefficient_Voigt_gpu(SourceTables=['O2i1','O2i2','O2i3'],HITRAN_units=True,\n",
    "            OmegaRange=[vmin,vmax],OmegaStep=dv,GammaL='gamma_self',\n",
    "            Environment={'p':p/1013.,'T':t})\n",
    "        ao2[:,j] = coefo2 * o2 * 1e5\n",
    "        j=j+1\n",
    "    wl=(1e7/nuo2)\n",
    "    wl=wl[::1]\n",
    "\n",
    "    # We concatenate both atmospheres (perturbed and une perturbed) along the 'wavelength' dimension\n",
    "    pro = AtmAFGL('afglmw', grid=znew, NO2=False, O3=0., P0=P0).calc(wl)\n",
    "    if i!=0 :      \n",
    "        ab  = np.concatenate((ab , ao2), axis=0)\n",
    "        ray = np.concatenate((ray, pro['OD_r'].data), axis=0)\n",
    "        \n",
    "    else: \n",
    "        ab = ao2\n",
    "        ray= pro['OD_r'].data\n",
    "\n",
    "wls = np.concatenate((wl,wl))\n",
    "print (ao2.max())\n",
    "atm = AtmAFGL('afglmw', grid=znew, prof_ray=ray, prof_abs=ab)"
   ]
  },
  {
   "cell_type": "code",
   "execution_count": null,
   "metadata": {
    "ExecuteTime": {
     "end_time": "2018-09-11T14:31:39.681517Z",
     "start_time": "2018-09-11T14:31:39.254336Z"
    }
   },
   "outputs": [],
   "source": [
    "S0=Smartg(alis=True, double=True, pp=True)\n",
    "tv=np.linspace(0.,75.,num=6)\n",
    "le={}\n",
    "le.update(th=tv*np.pi/180)\n",
    "le.update(phi=np.linspace(0.,360.,num=1)*np.pi/180)\n",
    "#surf=RoughSurface(SUR=1)\n",
    "surf=None"
   ]
  },
  {
   "cell_type": "code",
   "execution_count": null,
   "metadata": {
    "ExecuteTime": {
     "end_time": "2018-09-11T14:31:43.579736Z",
     "start_time": "2018-09-11T14:31:40.263650Z"
    }
   },
   "outputs": [],
   "source": [
    "%%time\n",
    "# Compute spectrum with 3 low resolution wavelength for scattering correctiuons, one jacobian\n",
    "alis_options={'nlow':3, 'njac':1}\n",
    "m=S0.run(THVDEG=30., wl=wls, atm=atm, surf=surf, le=le, NBPHOTONS=1e5, \n",
    "         progress=False, alis_options=alis_options)"
   ]
  },
  {
   "cell_type": "code",
   "execution_count": null,
   "metadata": {
    "ExecuteTime": {
     "end_time": "2018-09-11T14:31:45.967555Z",
     "start_time": "2018-09-11T14:31:44.259486Z"
    }
   },
   "outputs": [],
   "source": [
    "field='I_up (TOA)'\n",
    "I=m[field].sub(d={'wavelength':arange(NW)})\n",
    "I.names[0]=r'$\\lambda (nm)$'\n",
    "I.axes[0]=wl\n",
    "I.desc=mdesc(field)\n",
    "for t in tv[:-1]:\n",
    "    _= I.sub()[:,0,Idx(t)].plot(fmt='-', vmax=0.04, vmin=0, label='%.0f'%t)\n",
    "legend()\n",
    "\n",
    "figure()\n",
    "jac= (m[field].sub(d={'wavelength':arange(NW)+NW}) - \n",
    "      m[field].sub(d={'wavelength':arange(NW)}) ) / (P0l[-1]-P0l[0]) \n",
    "jac.names[0]=r'$\\lambda (nm)$'\n",
    "jac.axes[0]=wl\n",
    "jac.desc=r'$d$'+mdesc(field)+r'$/dP_0$' + '  ' + r'$(hPa^{-1})$'\n",
    "\n",
    "for t in tv[:-1]:\n",
    "    _=jac.sub()[:,0,Idx(t)].plot(fmt='-', vmax=2.e-4, vmin=0, label='%.0f'%t)\n",
    "legend()\n",
    "\n",
    "figure()\n",
    "field='Q_up (TOA)'\n",
    "I=m[field].sub(d={'wavelength':arange(NW)})\n",
    "I.names[0]=r'$\\lambda (nm)$'\n",
    "I.axes[0]=wl\n",
    "I.desc=mdesc(field)\n",
    "for t in tv[:-1]:\n",
    "    _= I.sub()[:,0,Idx(t)].plot(fmt='-', vmax=0.001, vmin=-0.005, label='%.0f'%t)\n",
    "#legend()\n",
    "\n",
    "figure()\n",
    "jac= (m[field].sub(d={'wavelength':arange(NW)+NW}) - \n",
    "      m[field].sub(d={'wavelength':arange(NW)}) ) / (P0l[-1]-P0l[0]) \n",
    "jac.names[0]=r'$\\lambda (nm)$'\n",
    "jac.axes[0]=wl\n",
    "jac.desc=r'$d$'+mdesc(field)+r'$/dP_0$' + '  ' + r'$(hPa^{-1})$'\n",
    "\n",
    "for t in tv[:-1]:\n",
    "    _=jac.sub()[:,0,Idx(t)].plot(fmt='-', vmax=0.5e-5, vmin=-3.e-5, label='%.0f'%t)\n",
    "#legend(loc='best')"
   ]
  },
  {
   "cell_type": "markdown",
   "metadata": {},
   "source": [
    "## Validation against ART-DECO\n",
    "\n",
    "Doubling Adding; 32 streams"
   ]
  },
  {
   "cell_type": "markdown",
   "metadata": {},
   "source": [
    "### Rayleigh  and black surface"
   ]
  },
  {
   "cell_type": "code",
   "execution_count": null,
   "metadata": {
    "ExecuteTime": {
     "end_time": "2018-09-13T13:26:47.192957Z",
     "start_time": "2018-09-13T13:26:46.676063Z"
    }
   },
   "outputs": [],
   "source": [
    "S=Smartg(alis=True, double=True, pp=True, alt_pp=True)"
   ]
  },
  {
   "cell_type": "code",
   "execution_count": null,
   "metadata": {
    "ExecuteTime": {
     "end_time": "2018-09-13T13:26:48.188358Z",
     "start_time": "2018-09-13T13:26:47.725783Z"
    }
   },
   "outputs": [],
   "source": [
    "fgas = '../smartg/validation/cTauGas_ray_O2.dat'\n",
    "gas_valid = diff1(np.loadtxt(fgas, skiprows=7)[:,1:].T, axis=1)\n",
    "z_valid   = np.loadtxt(fgas, skiprows=7)[:,0]\n",
    "w_valid   = np.array(open(fgas).readlines()[5].split()).astype(float)\n",
    "fray = '../smartg/validation/cTauRay_ray_O2.dat'\n",
    "ray_valid = diff1(np.loadtxt(fray, skiprows=7)[:,1:].T, axis=1)\n",
    "data_valid=np.loadtxt('../smartg/validation/artdeco_lbl_nstr_32_ray_O2.dat')"
   ]
  },
  {
   "cell_type": "code",
   "execution_count": null,
   "metadata": {
    "ExecuteTime": {
     "end_time": "2018-09-13T13:26:49.021264Z",
     "start_time": "2018-09-13T13:26:48.649547Z"
    }
   },
   "outputs": [],
   "source": [
    "atm_valid = AtmAFGL('afglmw', grid=z_valid, O3=0., NO2=False, pfwav=[760.], \n",
    "                    prof_ray= ray_valid, prof_abs= gas_valid)"
   ]
  },
  {
   "cell_type": "code",
   "execution_count": null,
   "metadata": {
    "ExecuteTime": {
     "end_time": "2018-09-13T13:26:55.278301Z",
     "start_time": "2018-09-13T13:26:49.368110Z"
    },
    "run_control": {
     "marked": false
    }
   },
   "outputs": [],
   "source": [
    "le={}\n",
    "le.update(th=np.array([20.])*np.pi/180)\n",
    "le.update(phi=np.array([180.])*np.pi/180)\n",
    "mle_valid5=  S.run(THVDEG=30., wl=w_valid, le=le,  DEPO=0., NBPHOTONS=1e9, atm=atm_valid, \n",
    "               NBLOOP=1e5, progress=True, alis_options={'nlow':3})\n",
    "print (mle_valid5.attrs['kernel time (s)'])"
   ]
  },
  {
   "cell_type": "code",
   "execution_count": null,
   "metadata": {
    "ExecuteTime": {
     "end_time": "2018-09-13T13:26:58.779564Z",
     "start_time": "2018-09-13T13:26:57.395625Z"
    }
   },
   "outputs": [],
   "source": [
    "i_valid=data_valid[:,1]\n",
    "ip_valid=np.sqrt(data_valid[:,2]*data_valid[:,2]+data_valid[:,3]*data_valid[:,3])\n",
    "ip=mle_valid5['Q_up (TOA)']*mle_valid5['Q_up (TOA)']+mle_valid5['U_up (TOA)']*mle_valid5['U_up (TOA)']\n",
    "ip=ip.apply(np.sqrt,mdesc('Ip_up (TOA)'))\n",
    "i=mle_valid5['I_up (TOA)']\n",
    "##\n",
    "plot(w_valid,  i_valid, 'r')\n",
    "f= i.sub()[:,0,0].plot(fmt='g-', vmax=0.01)\n",
    "figure()\n",
    "df=i.sub()[:,0,0]- i_valid\n",
    "dff=df/i_valid*100\n",
    "dff.plot(fmt='k-', vmax=1, vmin=-1)\n",
    "##\n",
    "figure()\n",
    "plot(w_valid,  ip_valid, 'r')\n",
    "f= ip.sub()[:,0,0].plot(fmt='g-', vmax=0.005)\n",
    "figure()\n",
    "df=ip.sub()[:,0,0]- ip_valid\n",
    "dff=df/ip_valid*100\n",
    "dff.plot(fmt='k-', vmax=1, vmin=-1)"
   ]
  },
  {
   "cell_type": "markdown",
   "metadata": {},
   "source": [
    "### Rayleigh , aerosol and black surface"
   ]
  },
  {
   "cell_type": "code",
   "execution_count": null,
   "metadata": {
    "ExecuteTime": {
     "end_time": "2018-09-13T13:27:09.405553Z",
     "start_time": "2018-09-13T13:27:08.941554Z"
    }
   },
   "outputs": [],
   "source": [
    "S=Smartg(alis=True, double=True, pp=True, alt_pp=True)"
   ]
  },
  {
   "cell_type": "code",
   "execution_count": null,
   "metadata": {
    "ExecuteTime": {
     "end_time": "2018-09-13T13:27:11.221684Z",
     "start_time": "2018-09-13T13:27:10.532867Z"
    }
   },
   "outputs": [],
   "source": [
    "#typ='desert'\n",
    "typ='urban' # tau=0.25\n",
    "####################\"\"\"\"\"\"\n",
    "fgas = '../smartg/validation/cTauGas_ray_%s_O2.dat'%typ\n",
    "gas_valid = diff1(np.loadtxt(fgas, skiprows=7)[:,1:].T, axis=1)\n",
    "z_valid   = np.loadtxt(fgas, skiprows=7)[:,0]\n",
    "w_valid   = np.array(open(fgas).readlines()[5].split()).astype(float)\n",
    "fray = '../smartg/validation/cTauRay_ray_%s_O2.dat'%typ\n",
    "ray_valid = diff1(np.loadtxt(fray, skiprows=7)[:,1:].T, axis=1)\n",
    "faer_abs = '../smartg/validation/cTauAbs_ptcle_ray_%s_O2.dat'%typ\n",
    "aer_abs_valid = diff1(np.loadtxt(faer_abs, skiprows=7)[:,1:].T, axis=1)\n",
    "faer_sca = '../smartg/validation/cTauSca_ptcle_ray_%s_O2.dat'%typ\n",
    "aer_sca_valid = diff1(np.loadtxt(faer_sca, skiprows=7)[:,1:].T, axis=1)\n",
    "\n",
    "# aerosols phase matrix import\n",
    "faer_phase= '../smartg/validation/phasemat_ray_%s_O2.dat'%typ\n",
    "f=open(faer_phase,'r')\n",
    "N=np.genfromtxt(faer_phase, usecols=range(1), max_rows=1, dtype=int)\n",
    "pfwav=[]\n",
    "P=[]\n",
    "Npf=3\n",
    "data=np.zeros((Npf,1,N,5), dtype=float32) \n",
    "for k in range(Npf):\n",
    "    pfwav.append(np.genfromtxt(faer_phase, usecols=range(1), skip_header=(1+(2+N)*k), max_rows=1))\n",
    "    pizero=np.genfromtxt(faer_phase, usecols=range(1), skip_header=(1+(2+N)*k+1), max_rows=1)\n",
    "    data[k,0,:,:] = np.genfromtxt(faer_phase, usecols=range(5), skip_header=(1+(2+N)*k+2), max_rows=N)\n",
    "    \n",
    "data=data.swapaxes(2,3)\n",
    "phase_valid = LUT(data[:,:,1:,:],\n",
    "          names = ['wav_phase_atm', 'z_phase_atm', 'stk','theta'] ,\n",
    "          axes  = [pfwav, [0], None, data[0,0,0,:]])\n",
    "   \n",
    "data_valid=np.loadtxt('../smartg/validation/artdeco_lbl_nstr_32_ray_%s_O2.dat'%typ)"
   ]
  },
  {
   "cell_type": "code",
   "execution_count": null,
   "metadata": {
    "ExecuteTime": {
     "end_time": "2018-09-13T13:27:12.179238Z",
     "start_time": "2018-09-13T13:27:11.867850Z"
    }
   },
   "outputs": [],
   "source": [
    "aer_ext_valid  = aer_sca_valid + aer_abs_valid\n",
    "aer_ssa_valid  = aer_sca_valid / aer_ext_valid\n",
    "aer_ssa_valid[aer_ext_valid==0]=1.\n",
    "\n",
    "comp=[AeroOPAC('desert',0.5, 550., phase= phase_valid)]\n",
    "atm_valid = AtmAFGL('afglmw', grid=z_valid, O3=0., NO2=False, pfwav=pfwav, comp=comp,\n",
    "                    prof_ray= ray_valid,\n",
    "                    prof_aer= (aer_ext_valid,aer_ssa_valid),\n",
    "                    prof_abs= gas_valid\n",
    "                    )"
   ]
  },
  {
   "cell_type": "code",
   "execution_count": null,
   "metadata": {
    "ExecuteTime": {
     "end_time": "2018-09-13T13:28:30.955033Z",
     "start_time": "2018-09-13T13:27:21.409374Z"
    },
    "run_control": {
     "marked": false
    }
   },
   "outputs": [],
   "source": [
    "le={}\n",
    "le.update(th=np.array([20.])*np.pi/180)\n",
    "le.update(phi=np.array([180.])*np.pi/180)\n",
    "mle_valid5=  S.run(THVDEG=30., wl=w_valid, le=le,  DEPO=0., NBPHOTONS=1e10, atm=atm_valid, \n",
    "                   NBLOOP=1e5, progress=True, alis_options={'nlow':9})\n",
    "print (mle_valid5.attrs['kernel time (s)'])"
   ]
  },
  {
   "cell_type": "code",
   "execution_count": null,
   "metadata": {
    "ExecuteTime": {
     "end_time": "2018-09-13T13:28:33.801110Z",
     "start_time": "2018-09-13T13:28:32.734894Z"
    }
   },
   "outputs": [],
   "source": [
    "i_valid=data_valid[:,1]\n",
    "ip_valid=np.sqrt(data_valid[:,2]*data_valid[:,2]+data_valid[:,3]*data_valid[:,3])\n",
    "ip=mle_valid5['Q_up (TOA)']*mle_valid5['Q_up (TOA)']+mle_valid5['U_up (TOA)']*mle_valid5['U_up (TOA)']\n",
    "ip=ip.apply(np.sqrt,mdesc('Ip_up (TOA)'))\n",
    "i=mle_valid5['I_up (TOA)']\n",
    "##\n",
    "figure(figsize=(8,4))\n",
    "plot(w_valid,  i_valid, 'r-')\n",
    "f= i.sub()[:,0,0].plot(fmt='g--', vmax=0.02)\n",
    "figure(figsize=(8,4))\n",
    "df=i.sub()[:,0,0]- i_valid\n",
    "dff=df/i_valid*100\n",
    "dff.plot(fmt='k-', vmax=1, vmin=-1)\n",
    "##\n",
    "figure()\n",
    "plot(w_valid,  ip_valid, 'r-')\n",
    "f= ip.sub()[:,0,0].plot(fmt='g--', vmax=0.006)\n",
    "figure()\n",
    "df=ip.sub()[:,0,0]- ip_valid\n",
    "dff=df/ip_valid*100\n",
    "dff.plot(fmt='k-', vmax=1, vmin=-1)"
   ]
  },
  {
   "cell_type": "markdown",
   "metadata": {},
   "source": [
    "## With water"
   ]
  },
  {
   "cell_type": "code",
   "execution_count": null,
   "metadata": {
    "ExecuteTime": {
     "end_time": "2018-09-13T13:29:45.679040Z",
     "start_time": "2018-09-13T13:29:44.986734Z"
    }
   },
   "outputs": [],
   "source": [
    "# alt_pp=True is mandatory\n",
    "NWP= 1\n",
    "S0= Smartg(alis=None , double=True, pp=True, alt_pp=True)\n",
    "S = Smartg(alis=True , double=True, pp=True, alt_pp=True)\n",
    "\n",
    "dl  = 2\n",
    "lmin= 500.\n",
    "lmax= 550.\n",
    "wref= (lmax-lmin)/2 + lmin\n",
    "NW  = int((lmax-lmin)/dl) + 1\n",
    "wl  = np.linspace(lmin,lmax,num=NW)\n",
    "NL  = 40\n",
    "pfwav= np.linspace(lmin,lmax,num=NWP)\n",
    "atm=AtmAFGL('afglus', pfwav=pfwav)\n",
    "water = IOP_1(0.3, pfwav=pfwav, DEPTH=10)\n",
    "surf  = RoughSurface(WIND=12.)\n",
    "le={}\n",
    "le.update(th=np.array([45.])*np.pi/180)\n",
    "le.update(phi=np.array([90.])*np.pi/180)"
   ]
  },
  {
   "cell_type": "code",
   "execution_count": null,
   "metadata": {
    "ExecuteTime": {
     "end_time": "2018-09-13T13:29:16.667498Z",
     "start_time": "2018-09-13T13:29:15.166667Z"
    },
    "run_control": {
     "marked": true
    }
   },
   "outputs": [],
   "source": [
    "%%time\n",
    "alis={'nlow':-1, 'njac':0}\n",
    "NB=1e7\n",
    "\n",
    "mle1 = S.run( THVDEG=65., wl=wl, le=le,  NBPHOTONS=NB, atm=atm, surf=surf, water=water, \n",
    "             OUTPUT_LAYERS=3, alis_options=alis)\n",
    "mle2 = S.run( THVDEG=65., wl=wl, le=le,  NBPHOTONS=NB, atm=atm, surf=surf, water=water, \n",
    "             OUTPUT_LAYERS=3, alis_options=alis)\n",
    "m0le = S0.run(THVDEG=65., wl=wl, le=le,  NBPHOTONS=NB, atm=atm, surf=surf, water=water, \n",
    "              OUTPUT_LAYERS=3)\n",
    "print (mle2.attrs['kernel time (s)'])"
   ]
  },
  {
   "cell_type": "code",
   "execution_count": null,
   "metadata": {
    "ExecuteTime": {
     "end_time": "2018-09-12T14:30:27.544965Z",
     "start_time": "2018-09-12T14:30:26.934570Z"
    }
   },
   "outputs": [],
   "source": [
    "f=spectrum_view(mle1.sub({ 'Azimuth angles':0, 'Zenith angles':0}), fmt='-', color='r', field='up (0-)')\n",
    "_=spectrum_view(mle2.sub({ 'Azimuth angles':0, 'Zenith angles':0}), fmt='-', color='g', field='up (0-)', fig=f)\n",
    "_=spectrum_view(m0le.sub({ 'Azimuth angles':0, 'Zenith angles':0}), fmt='.', color='b', field='up (0-)', fig=f)#"
   ]
  },
  {
   "cell_type": "markdown",
   "metadata": {},
   "source": [
    "### Spectrum and Jacobians"
   ]
  },
  {
   "cell_type": "code",
   "execution_count": null,
   "metadata": {
    "ExecuteTime": {
     "end_time": "2018-09-12T14:51:13.910941Z",
     "start_time": "2018-09-12T14:51:12.747298Z"
    },
    "run_control": {
     "marked": false
    }
   },
   "outputs": [],
   "source": [
    "# Ozone and Chlorophyll sensitivities\n",
    "# 1 profile + 2 perturbed profiles (2 jacobians) = 3 profiles\n",
    "atms = []\n",
    "O3_base = 200.\n",
    "DO3 = 20.\n",
    "waters = []\n",
    "Chl_base = 0.3\n",
    "DChl = 0.03\n",
    "\n",
    "for O3 in [O3_base, O3_base + DO3, O3_base]: # 2nd profile is O3 perturbation\n",
    "    atms.append(AtmAFGL('afglt', O3=O3, grid='120[20]0').calc(wl))\n",
    "\n",
    "for Chl in [Chl_base, Chl_base, Chl_base + DChl]: # 3rd profile is Chl perturbation                                                          \n",
    "    waters.append(IOP_profile(Chl, NLAYER=11, DEPTH=100, ang_trunc=5, pfwav = pfwav, NANG=7201).calc(wl))\n",
    "    #waters.append(IOP_1(Chl, DEPTH=10, pfwav = pfwav, NANG=7201).calc(wl))\n",
    "    \n",
    "# wavelengths is the repetition of wl  for 3 profiles\n",
    "wls   = np.concatenate((wl,wl,wl))\n",
    "# construction of multi_profiles from profiles list, to be ingested by smartg.run() method\n",
    "water = multi_profiles(waters, kind='oc')\n",
    "atm   = multi_profiles(atms,   kind='atm')"
   ]
  },
  {
   "cell_type": "code",
   "execution_count": null,
   "metadata": {
    "ExecuteTime": {
     "end_time": "2018-09-12T14:51:27.416699Z",
     "start_time": "2018-09-12T14:51:15.015934Z"
    }
   },
   "outputs": [],
   "source": [
    "%%time\n",
    "tv=np.linspace(0., 75.,num=1)\n",
    "phi=np.linspace(0.,360,num=1)\n",
    "le={'th_deg':tv, 'phi_deg':phi}\n",
    "alis_options={'nlow':-1, 'njac':2}\n",
    "# two jacobians here\n",
    "m=S.run(THVDEG=65., wl=wls, atm=atm, surf=surf, water=water, le=le, OUTPUT_LAYERS=3,\n",
    "         NBPHOTONS=1e5, alis_options=alis_options)"
   ]
  },
  {
   "cell_type": "code",
   "execution_count": null,
   "metadata": {
    "ExecuteTime": {
     "end_time": "2018-09-12T14:51:27.491984Z",
     "start_time": "2018-09-12T14:51:27.419683Z"
    },
    "scrolled": false
   },
   "outputs": [],
   "source": [
    "Jacobians = reduce_diff(m, ['O3', 'Chl'], delta=[DO3, DChl]).dropaxis('Azimuth angles','Zenith angles')\n",
    "#Jacobians.describe()\n",
    "m.describe()"
   ]
  },
  {
   "cell_type": "code",
   "execution_count": null,
   "metadata": {
    "ExecuteTime": {
     "end_time": "2018-09-12T14:41:03.387486Z",
     "start_time": "2018-09-12T14:41:02.582741Z"
    },
    "scrolled": false
   },
   "outputs": [],
   "source": [
    "fig, ax= subplots(3)\n",
    "fig.set_size_inches(8,10)\n",
    "\n",
    "for (i,field) in enumerate(['I_up (0-)', 'dI_up (0-)/dO3', 'dI_up (0-)/dChl']):\n",
    "    sca(ax[i])\n",
    "    l = Jacobians[field]\n",
    "    l.desc = mdesc(field)\n",
    "    _= l.plot(fmt='.-')"
   ]
  },
  {
   "cell_type": "code",
   "execution_count": null,
   "metadata": {
    "ExecuteTime": {
     "end_time": "2018-09-12T14:45:45.751337Z",
     "start_time": "2018-09-12T14:45:45.646748Z"
    }
   },
   "outputs": [],
   "source": [
    "m.dropaxis('Azimuth angles','Zenith angles')['cdist_up (0-)'].data[:4]\\\n",
    "/m.dropaxis('Azimuth angles','Zenith angles')['N_up (0-)'].data[:4]"
   ]
  },
  {
   "cell_type": "code",
   "execution_count": null,
   "metadata": {
    "ExecuteTime": {
     "end_time": "2018-09-11T15:26:23.073019Z",
     "start_time": "2018-09-11T15:26:22.041904Z"
    }
   },
   "outputs": [],
   "source": [
    "#m.sub(d={'wavelength':arange(NW), 'Azimuth angles':0, 'Zenith angles':0}).describe()\n",
    "f=spectrum_view(m.sub(d={'wavelength':arange(NW)+2*NW, 'Azimuth angles':1, 'Zenith angles':0}),\n",
    "               field='up (0-)', QU=True)\n",
    "for (i,t) in enumerate(tv[1:-1]):\n",
    "    _=spectrum_view(m.sub(d={'wavelength':arange(NW)+2*NW, 'Azimuth angles':1, 'Zenith angles':i+1}),\n",
    "               field='up (0-)', fig=f, QU=True)"
   ]
  },
  {
   "cell_type": "code",
   "execution_count": null,
   "metadata": {
    "ExecuteTime": {
     "end_time": "2018-09-11T15:26:29.175712Z",
     "start_time": "2018-09-11T15:26:26.808043Z"
    }
   },
   "outputs": [],
   "source": [
    "_=smartg_view(Jacobians.sub(d={'wavelength':Idx(530)}), field='up (0-)', \n",
    "              prefix='')\n",
    "\n",
    "_=smartg_view(Jacobians.sub(d={'wavelength':Idx(530)}), field='up (0-)/dChl', \n",
    "              prefix='d')"
   ]
  },
  {
   "cell_type": "code",
   "execution_count": null,
   "metadata": {
    "ExecuteTime": {
     "end_time": "2018-09-11T15:25:03.700096Z",
     "start_time": "2018-09-11T15:25:02.122815Z"
    }
   },
   "outputs": [],
   "source": [
    "f=spectrum_view(Jacobians.sub(d={'Zenith angles':Idx(45),'Azimuth angles':0}), field='up (0-)', \n",
    "              prefix='')\n",
    "df=spectrum_view(Jacobians.sub(d={'Zenith angles':Idx(45),'Azimuth angles':0}), field='up (0-)/dChl', \n",
    "              prefix='d')\n",
    "for k in range(5):\n",
    "    _=spectrum_view(Jacobians.sub(d={'Zenith angles':Idx(45),'Azimuth angles':k+1}), field='up (0-)', \n",
    "              prefix='', fig=f)\n",
    "    _=spectrum_view(Jacobians.sub(d={'Zenith angles':Idx(45),'Azimuth angles':k+1}), field='up (0-)/dChl', \n",
    "              prefix='d', fig=df)"
   ]
  },
  {
   "cell_type": "code",
   "execution_count": null,
   "metadata": {},
   "outputs": [],
   "source": []
  }
 ],
 "metadata": {
  "anaconda-cloud": {},
  "hide_input": false,
  "kernelspec": {
   "display_name": "Python 3",
   "language": "python",
   "name": "python3"
  },
  "language_info": {
   "codemirror_mode": {
    "name": "ipython",
    "version": 3
   },
   "file_extension": ".py",
   "mimetype": "text/x-python",
   "name": "python",
   "nbconvert_exporter": "python",
   "pygments_lexer": "ipython3",
   "version": "3.6.5"
  },
  "toc": {
   "colors": {
    "hover_highlight": "#DAA520",
    "navigate_num": "#000000",
    "navigate_text": "#333333",
    "running_highlight": "#FF0000",
    "selected_highlight": "#FFD700",
    "sidebar_border": "#EEEEEE",
    "wrapper_background": "#FFFFFF"
   },
   "moveMenuLeft": true,
   "nav_menu": {
    "height": "250px",
    "width": "252px"
   },
   "navigate_menu": true,
   "number_sections": true,
   "sideBar": true,
   "threshold": 4,
   "toc_cell": false,
   "toc_number_sections": true,
   "toc_position": {
    "height": "788.917px",
    "left": "0px",
    "right": "1217.33px",
    "top": "161.083px",
    "width": "212px"
   },
   "toc_section_display": "block",
   "toc_threshold": 4,
   "toc_window_display": true,
   "widenNotebook": false
  },
  "toc_position": {
   "left": "1543px",
   "right": "33px",
   "top": "123px",
   "width": "300px"
  },
  "widgets": {
   "state": {
    "1921f473839341f388a1e9377d80589a": {
     "views": [
      {
       "cell_index": 3
      }
     ]
    },
    "1fa758d1d96f45f087bf8a5f885862da": {
     "views": [
      {
       "cell_index": 3
      }
     ]
    },
    "5bcbe180c7034ef09a83eb0c2e04469c": {
     "views": [
      {
       "cell_index": 3
      }
     ]
    },
    "66b0f04325fa413da0229bf257752733": {
     "views": [
      {
       "cell_index": 3
      }
     ]
    },
    "b071eef5e27f48f6be7750fe988dbf07": {
     "views": [
      {
       "cell_index": 3
      }
     ]
    },
    "c940c2f9d86347da801ee680976d4176": {
     "views": [
      {
       "cell_index": 3
      }
     ]
    },
    "dd1a91bd82664a3c900ddf3eb9f15205": {
     "views": [
      {
       "cell_index": 3
      }
     ]
    }
   },
   "version": "1.2.0"
  }
 },
 "nbformat": 4,
 "nbformat_minor": 1
}
