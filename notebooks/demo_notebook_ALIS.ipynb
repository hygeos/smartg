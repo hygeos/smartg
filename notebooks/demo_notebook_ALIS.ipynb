{
 "cells": [
  {
   "cell_type": "markdown",
   "metadata": {},
   "source": [
    "# Smart-G demo notebook , part 2</b>\n",
    "\n",
    "This is an interactive document allowing to run Smart-G with python and visualize the results. <br>\n",
    "*Tips*: cells can be executed with shift-enter. Tooltips can be obtained with shift-tab. More information [here](http://ipython.org/notebook.html) or in the help menu. [A table of content can also be added](https://github.com/minrk/ipython_extensions#table-of-contents)."
   ]
  },
  {
   "cell_type": "code",
   "execution_count": null,
   "metadata": {
    "ExecuteTime": {
     "end_time": "2018-04-06T12:37:09.976141Z",
     "start_time": "2018-04-06T12:37:04.091507Z"
    },
    "scrolled": false
   },
   "outputs": [],
   "source": [
    "%pylab inline\n",
    "# next 2 lines allow to automatically reload modules that have been changed externally\n",
    "%reload_ext autoreload\n",
    "%autoreload 2\n",
    "from __future__ import absolute_import, division, print_function\n",
    "import os, sys\n",
    "sys.path.insert(0, os.path.dirname(os.getcwd()))\n",
    "from smartg.smartg import Smartg\n",
    "from smartg.smartg import RoughSurface, LambSurface, FlatSurface, Environment, Albedo_cst\n",
    "from smartg.atmosphere import AtmAFGL, AeroOPAC, CloudOPAC, diff1, read_phase\n",
    "from smartg.water import IOP_1, IOP, IOP_profile\n",
    "from smartg.reptran import REPTRAN, reduce_reptran\n",
    "from smartg.tools.tools import SpherIrr, Irr, reduce_Irr\n",
    "from smartg.tools.luts import LUT, MLUT, Idx, merge, read_mlut\n",
    "from smartg.tools.smartg_view import compare, plot_polar, spectrum , mdesc \n",
    "from smartg.tools.smartg_view import spectrum_view,transect_view,profile_view,phase_view,smartg_view,input_view\n",
    "from ipywidgets import interact, interact_manual\n",
    "# this module depends on the external HAPI Hitran Python interface\n",
    "import hapi_gpu as hapi\n",
    "from matplotlib import colors\n",
    "colors_ = list(six.iteritems(colors.cnames))"
   ]
  },
  {
   "cell_type": "markdown",
   "metadata": {},
   "source": [
    "# Equivalence Theorem"
   ]
  },
  {
   "cell_type": "code",
   "execution_count": null,
   "metadata": {
    "ExecuteTime": {
     "end_time": "2018-04-05T16:38:13.356522Z",
     "start_time": "2018-04-05T16:37:55.962159Z"
    }
   },
   "outputs": [],
   "source": [
    "%%time\n",
    "# Here we compare the TOA radiance simulated with\n",
    "# plane parallel and spherical atmospheres, at 443 nm.\n",
    "atm=AtmAFGL('afglt',grid=np.linspace(100.,0.,num=100), O3=400., NO2=False)\n",
    "results = []\n",
    "le={}\n",
    "le.update(th=np.linspace(0.,89.,num=24)*np.pi/180)\n",
    "le.update(phi=np.array([0.],dtype=np.float32)*np.pi/180)\n",
    "for pp in [True, False]:\n",
    "    S=Smartg(pp=pp, double=True)\n",
    "    for BEER in [0, 1]:\n",
    "        # Absorption is computed with Beer Law (BEER=1) or Single scattering albedo (BEER=0)\n",
    "        results.append(S.run(THVDEG=0., wl=550., NBPHOTONS=1e6, le=le, atm=atm, BEER=BEER))\n",
    "    \n",
    "SSA_PP = results[0]['I_up (TOA)']\n",
    "ET_PP  = results[1]['I_up (TOA)']\n",
    "SSA_SP = results[2]['I_up (TOA)']\n",
    "ET_SP  = results[3]['I_up (TOA)']"
   ]
  },
  {
   "cell_type": "code",
   "execution_count": null,
   "metadata": {
    "ExecuteTime": {
     "end_time": "2018-04-05T16:38:16.753554Z",
     "start_time": "2018-04-05T16:38:16.032498Z"
    }
   },
   "outputs": [],
   "source": [
    "((ET_SP-ET_PP)/ET_SP*100.).sub()[0,:].plot(fmt='k-o',vmin=-2,vmax=2)\n",
    "((SSA_SP-SSA_PP)/SSA_SP*100.).sub()[0,:].plot(fmt='r-x',vmin=-2,vmax=2)\n",
    "figure()\n",
    "((SSA_SP-ET_SP)/SSA_SP*100.).sub()[0,:].plot(fmt='r-o')\n",
    "((SSA_PP-ET_PP)/SSA_PP*100.).sub()[0,:].plot(fmt='k-o',vmin=-1,vmax=1)"
   ]
  },
  {
   "cell_type": "markdown",
   "metadata": {},
   "source": [
    "# ALIS"
   ]
  },
  {
   "cell_type": "markdown",
   "metadata": {},
   "source": [
    "## Pure scattering"
   ]
  },
  {
   "cell_type": "code",
   "execution_count": null,
   "metadata": {
    "ExecuteTime": {
     "end_time": "2018-04-06T12:46:33.238335Z",
     "start_time": "2018-04-06T12:46:31.967175Z"
    }
   },
   "outputs": [],
   "source": [
    "NWP= 1\n",
    "S0= Smartg(alis=None        , double=True, pp=True)\n",
    "S = Smartg(alis={'nlow':-1} , double=True, pp=True)"
   ]
  },
  {
   "cell_type": "code",
   "execution_count": null,
   "metadata": {
    "ExecuteTime": {
     "end_time": "2018-04-06T12:46:45.626452Z",
     "start_time": "2018-04-06T12:46:38.002582Z"
    },
    "run_control": {
     "marked": true
    }
   },
   "outputs": [],
   "source": [
    "%%time\n",
    "dl  = 2.\n",
    "lmin= 500.\n",
    "lmax= 600.\n",
    "wref= (lmax-lmin)/2 + lmin\n",
    "NW  = int((lmax-lmin)/dl) + 1\n",
    "wl  = np.linspace(lmin,lmax,num=NW)\n",
    "NL  = 40\n",
    "aer = AeroOPAC('urban',.3, 550.)\n",
    "cld = CloudOPAC('wc.sol', 11., 9., 10., .3, 550.)\n",
    "comp=[cld,aer]\n",
    "znew =np.linspace(100.,0.,num=NL+1)\n",
    "pfwav= np.linspace(lmin,lmax,num=NWP)\n",
    "pfgrid = [100., 12., 7., 5., 3., 0.]\n",
    "atm=AtmAFGL('afglus', grid=znew , O3=0., NO2=False, comp=comp, pfwav=pfwav, pfgrid=pfgrid)\n",
    "pro=atm.calc(wl)\n",
    "\n",
    "le={}\n",
    "le.update(th=np.array([0.])*np.pi/180)\n",
    "le.update(phi=np.array([90.])*np.pi/180)\n",
    "NB=1e6\n",
    "mle1 = S.run( THVDEG=65., wl=wl, le=le,  NBPHOTONS=NB, atm=pro, progress=True)\n",
    "mle2 = S.run( THVDEG=65., wl=wl, le=le,  NBPHOTONS=NB, atm=pro, progress=True)\n",
    "m0le = S0.run(THVDEG=65., wl=wl, le=le,  NBPHOTONS=NB, atm=pro, progress=True)\n",
    "print (mle2.attrs['kernel time (s)'])"
   ]
  },
  {
   "cell_type": "code",
   "execution_count": null,
   "metadata": {
    "ExecuteTime": {
     "end_time": "2018-04-06T12:46:48.953878Z",
     "start_time": "2018-04-06T12:46:48.182284Z"
    }
   },
   "outputs": [],
   "source": [
    "f=spectrum_view(mle1.sub({ 'Azimuth angles':0, 'Zenith angles':0}), fmt='-', color='r')\n",
    "_=spectrum_view(mle2.sub({ 'Azimuth angles':0, 'Zenith angles':0}), fmt='-', color='g', fig=f)\n",
    "_=spectrum_view(m0le.sub({ 'Azimuth angles':0, 'Zenith angles':0}), fmt='.', color='b', fig=f)#"
   ]
  },
  {
   "cell_type": "code",
   "execution_count": null,
   "metadata": {
    "ExecuteTime": {
     "end_time": "2018-04-06T11:46:51.546124Z",
     "start_time": "2018-04-06T11:46:47.567715Z"
    }
   },
   "outputs": [],
   "source": [
    "input_view(mle1, zmax=20)"
   ]
  },
  {
   "cell_type": "markdown",
   "metadata": {},
   "source": [
    "## HITRAN"
   ]
  },
  {
   "cell_type": "code",
   "execution_count": null,
   "metadata": {
    "ExecuteTime": {
     "end_time": "2018-04-06T12:47:06.997006Z",
     "start_time": "2018-04-06T12:47:04.109038Z"
    }
   },
   "outputs": [],
   "source": [
    "hapi.db_begin('data')"
   ]
  },
  {
   "cell_type": "markdown",
   "metadata": {},
   "source": [
    "## Jacobians"
   ]
  },
  {
   "cell_type": "markdown",
   "metadata": {},
   "source": [
    "### Sensitivity of O2A to surface pressure"
   ]
  },
  {
   "cell_type": "code",
   "execution_count": null,
   "metadata": {
    "ExecuteTime": {
     "end_time": "2018-04-06T12:47:14.415579Z",
     "start_time": "2018-04-06T12:47:10.506636Z"
    }
   },
   "outputs": [],
   "source": [
    "%%time\n",
    "dl= 0.0100\n",
    "lmin=759.\n",
    "lmax=769.001\n",
    "NW=int((lmax-lmin)/dl)\n",
    "vmin=1e7/lmax\n",
    "vmax=1e7/lmin\n",
    "dv=(vmax-vmin)/NW\n",
    "\n",
    "hapi.fetch('O2i1',7,1,vmin-100,vmax+100)\n",
    "hapi.fetch('O2i2',7,2,vmin-100,vmax+100)\n",
    "hapi.fetch('O2i3',7,3,vmin-100,vmax+100)\n",
    "\n",
    "NL=21\n",
    "print ('NW: ', NW)\n",
    "znew =np.linspace(100.,0.,num=NL)\n",
    "\n",
    "NB=1e7\n",
    "\n",
    "P0l=[1000., 1010.]\n",
    "\n",
    "ao2=np.zeros((NW,NL),dtype=float)\n",
    "\n",
    "for i,P0 in enumerate(P0l):\n",
    "    j=0\n",
    "    atm = AtmAFGL('afglmw', grid=znew, NO2=False, O3=0., P0=P0)\n",
    "    \n",
    "    for p,t,o2,z in zip(atm.prof.P,atm.prof.T,atm.prof.dens_o2,atm.prof.z):\n",
    "        nuo2,coefo2 = hapi.absorptionCoefficient_Voigt_gpu(SourceTables=['O2i1','O2i2','O2i3'],HITRAN_units=True,\n",
    "            OmegaRange=[vmin,vmax],OmegaStep=dv,GammaL='gamma_self',\n",
    "            Environment={'p':p/1013.,'T':t})\n",
    "        ao2[:,j] = coefo2 * o2 * 1e5\n",
    "        j=j+1\n",
    "    wl=(1e7/nuo2)\n",
    "    wl=wl[::1]\n",
    "\n",
    "    # We concatenate both atmospheres (perturbed and une perturbed) along the 'wavelength' dimension\n",
    "    pro = AtmAFGL('afglmw', grid=znew, NO2=False, O3=0., P0=P0).calc(wl)\n",
    "    if i!=0 :      \n",
    "        ab  = np.concatenate((ab , ao2), axis=0)\n",
    "        ray = np.concatenate((ray, pro['OD_r'].data), axis=0)\n",
    "        \n",
    "    else: \n",
    "        ab = ao2\n",
    "        ray= pro['OD_r'].data\n",
    "\n",
    "wls = np.concatenate((wl,wl))\n",
    "print (ao2.max())\n",
    "atm = AtmAFGL('afglmw', grid=znew, prof_ray=ray, prof_abs=ab)"
   ]
  },
  {
   "cell_type": "code",
   "execution_count": null,
   "metadata": {
    "ExecuteTime": {
     "end_time": "2018-04-06T12:47:14.870820Z",
     "start_time": "2018-04-06T12:47:14.424870Z"
    }
   },
   "outputs": [],
   "source": [
    "S0=Smartg(alis={'nlow':3}, double=True, pp=True)\n",
    "tv=np.linspace(0.,75.,num=6)\n",
    "le={}\n",
    "le.update(th=tv*np.pi/180)\n",
    "le.update(phi=np.linspace(0.,360.,num=1)*np.pi/180)\n",
    "surf=RoughSurface(SUR=1)\n",
    "surf=None"
   ]
  },
  {
   "cell_type": "code",
   "execution_count": null,
   "metadata": {
    "ExecuteTime": {
     "end_time": "2018-04-06T12:47:28.480089Z",
     "start_time": "2018-04-06T12:47:20.488558Z"
    }
   },
   "outputs": [],
   "source": [
    "%%time\n",
    "m=S0.run(THVDEG=30., wl=wls, atm=atm, surf=surf, le=le, NBPHOTONS=1e5, progress=False)"
   ]
  },
  {
   "cell_type": "code",
   "execution_count": null,
   "metadata": {
    "ExecuteTime": {
     "end_time": "2018-04-06T12:47:30.759260Z",
     "start_time": "2018-04-06T12:47:28.483456Z"
    }
   },
   "outputs": [],
   "source": [
    "field='I_up (TOA)'\n",
    "field='I_up (TOA)'\n",
    "I=m[field].sub(d={'wavelength':arange(NW)})\n",
    "I.names[0]=r'$\\lambda (nm)$'\n",
    "I.axes[0]=wl\n",
    "I.desc=mdesc(field)\n",
    "for t in tv[:-1]:\n",
    "    _= I.sub()[:,0,Idx(t)].plot(fmt='-', vmax=0.04, vmin=0, label='%.0f'%t)\n",
    "legend()\n",
    "\n",
    "figure()\n",
    "jac= (m[field].sub(d={'wavelength':arange(NW)+NW}) - \n",
    "      m[field].sub(d={'wavelength':arange(NW)}) ) / (P0l[-1]-P0l[0]) \n",
    "jac.names[0]=r'$\\lambda (nm)$'\n",
    "jac.axes[0]=wl\n",
    "jac.desc=r'$d$'+mdesc(field)+r'$/dP_0$' + '  ' + r'$(hPa^{-1})$'\n",
    "\n",
    "for t in tv[:-1]:\n",
    "    _=jac.sub()[:,0,Idx(t)].plot(fmt='-', vmax=2.e-4, vmin=0, label='%.0f'%t)\n",
    "legend()\n",
    "\n",
    "figure()\n",
    "field='Q_up (TOA)'\n",
    "I=m[field].sub(d={'wavelength':arange(NW)})\n",
    "I.names[0]=r'$\\lambda (nm)$'\n",
    "I.axes[0]=wl\n",
    "I.desc=mdesc(field)\n",
    "for t in tv[:-1]:\n",
    "    _= I.sub()[:,0,Idx(t)].plot(fmt='-', vmax=0.001, vmin=-0.005, label='%.0f'%t)\n",
    "#legend()\n",
    "\n",
    "figure()\n",
    "jac= (m[field].sub(d={'wavelength':arange(NW)+NW}) - \n",
    "      m[field].sub(d={'wavelength':arange(NW)}) ) / (P0l[-1]-P0l[0]) \n",
    "jac.names[0]=r'$\\lambda (nm)$'\n",
    "jac.axes[0]=wl\n",
    "jac.desc=r'$d$'+mdesc(field)+r'$/dP_0$' + '  ' + r'$(hPa^{-1})$'\n",
    "\n",
    "for t in tv[:-1]:\n",
    "    _=jac.sub()[:,0,Idx(t)].plot(fmt='-', vmax=0.5e-5, vmin=-3.e-5, label='%.0f'%t)\n",
    "#legend(loc='best')"
   ]
  },
  {
   "cell_type": "markdown",
   "metadata": {},
   "source": [
    "## Emde et al 2010"
   ]
  },
  {
   "cell_type": "markdown",
   "metadata": {},
   "source": [
    "### Rayleigh  and black surface"
   ]
  },
  {
   "cell_type": "code",
   "execution_count": null,
   "metadata": {
    "ExecuteTime": {
     "end_time": "2018-04-06T12:47:38.101713Z",
     "start_time": "2018-04-06T12:47:37.113540Z"
    }
   },
   "outputs": [],
   "source": [
    "S=Smartg(alis={'nlow':3}, double=True, pp=True)"
   ]
  },
  {
   "cell_type": "code",
   "execution_count": null,
   "metadata": {
    "ExecuteTime": {
     "end_time": "2018-04-06T12:47:38.407705Z",
     "start_time": "2018-04-06T12:47:38.110874Z"
    }
   },
   "outputs": [],
   "source": [
    "fgas = '../smartg/validation/cTauGas_ray_O2.dat'\n",
    "gas_valid = diff1(np.loadtxt(fgas, skiprows=7)[:,1:].T, axis=1)\n",
    "z_valid   = np.loadtxt(fgas, skiprows=7)[:,0]\n",
    "w_valid   = np.array(open(fgas).readlines()[5].split()).astype(float)\n",
    "fray = '../smartg/validation/cTauRay_ray_O2.dat'\n",
    "ray_valid = diff1(np.loadtxt(fray, skiprows=7)[:,1:].T, axis=1)\n",
    "data_valid=np.loadtxt('../smartg/validation/artdeco_lbl_nstr_32_ray_O2.dat')"
   ]
  },
  {
   "cell_type": "code",
   "execution_count": null,
   "metadata": {
    "ExecuteTime": {
     "end_time": "2018-04-06T12:47:38.594461Z",
     "start_time": "2018-04-06T12:47:38.411181Z"
    }
   },
   "outputs": [],
   "source": [
    "atm_valid = AtmAFGL('afglmw', grid=z_valid, O3=0., NO2=False, pfwav=[760.], \n",
    "                    prof_ray= ray_valid, prof_abs= gas_valid)"
   ]
  },
  {
   "cell_type": "code",
   "execution_count": null,
   "metadata": {
    "ExecuteTime": {
     "end_time": "2018-04-06T12:47:57.516881Z",
     "start_time": "2018-04-06T12:47:38.597852Z"
    },
    "run_control": {
     "marked": false
    }
   },
   "outputs": [],
   "source": [
    "le={}\n",
    "le.update(th=np.array([20.])*np.pi/180)\n",
    "le.update(phi=np.array([180.])*np.pi/180)\n",
    "mle_valid5=  S.run(THVDEG=30., wl=w_valid, le=le,  DEPO=0., NBPHOTONS=1e10, atm=atm_valid, \n",
    "               NBLOOP=1e5, progress=True)\n",
    "print (mle_valid5.attrs['kernel time (s)'])"
   ]
  },
  {
   "cell_type": "code",
   "execution_count": null,
   "metadata": {
    "ExecuteTime": {
     "end_time": "2018-04-06T12:48:18.384108Z",
     "start_time": "2018-04-06T12:48:17.072839Z"
    }
   },
   "outputs": [],
   "source": [
    "i_valid=data_valid[:,1]\n",
    "ip_valid=np.sqrt(data_valid[:,2]*data_valid[:,2]+data_valid[:,3]*data_valid[:,3])\n",
    "ip=mle_valid5['Q_up (TOA)']*mle_valid5['Q_up (TOA)']+mle_valid5['U_up (TOA)']*mle_valid5['U_up (TOA)']\n",
    "ip=ip.apply(np.sqrt,mdesc('Ip_up (TOA)'))\n",
    "i=mle_valid5['I_up (TOA)']\n",
    "##\n",
    "plot(w_valid,  i_valid, 'r')\n",
    "f= i.sub()[:,0,0].plot(fmt='g-', vmax=0.01)\n",
    "figure()\n",
    "df=i.sub()[:,0,0]- i_valid\n",
    "dff=df/i_valid*100\n",
    "dff.plot(fmt='k-', vmax=1, vmin=-1)\n",
    "##\n",
    "figure()\n",
    "plot(w_valid,  ip_valid, 'r')\n",
    "f= ip.sub()[:,0,0].plot(fmt='g-', vmax=0.005)\n",
    "figure()\n",
    "df=ip.sub()[:,0,0]- ip_valid\n",
    "dff=df/ip_valid*100\n",
    "dff.plot(fmt='k-', vmax=1, vmin=-1)"
   ]
  },
  {
   "cell_type": "markdown",
   "metadata": {},
   "source": [
    "### Rayleigh , aerosol and black surface"
   ]
  },
  {
   "cell_type": "code",
   "execution_count": null,
   "metadata": {
    "ExecuteTime": {
     "end_time": "2018-04-06T12:48:38.887654Z",
     "start_time": "2018-04-06T12:48:37.939086Z"
    }
   },
   "outputs": [],
   "source": [
    "S=Smartg(alis={'nlow':11}, double=True, pp=True)"
   ]
  },
  {
   "cell_type": "code",
   "execution_count": null,
   "metadata": {
    "ExecuteTime": {
     "end_time": "2018-04-06T12:48:39.419581Z",
     "start_time": "2018-04-06T12:48:38.897777Z"
    }
   },
   "outputs": [],
   "source": [
    "fgas = '../smartg/validation/cTauGas_ray_desert_O2.dat'\n",
    "gas_valid = diff1(np.loadtxt(fgas, skiprows=7)[:,1:].T, axis=1)\n",
    "z_valid   = np.loadtxt(fgas, skiprows=7)[:,0]\n",
    "w_valid   = np.array(open(fgas).readlines()[5].split()).astype(float)\n",
    "fray = '../smartg/validation/cTauRay_ray_desert_O2.dat'\n",
    "ray_valid = diff1(np.loadtxt(fray, skiprows=7)[:,1:].T, axis=1)\n",
    "faer_abs = '../smartg/validation/cTauAbs_ptcle_ray_desert_O2.dat'\n",
    "aer_abs_valid = diff1(np.loadtxt(faer_abs, skiprows=7)[:,1:].T, axis=1)\n",
    "faer_sca = '../smartg/validation/cTauSca_ptcle_ray_desert_O2.dat'\n",
    "aer_sca_valid = diff1(np.loadtxt(faer_sca, skiprows=7)[:,1:].T, axis=1)\n",
    "\n",
    "# aerosols phase matrix import\n",
    "faer_phase= '../smartg/validation/phasemat_ray_desert_O2.dat'\n",
    "f=open(faer_phase,'r')\n",
    "N=np.genfromtxt(faer_phase, usecols=range(1), max_rows=1, dtype=int)\n",
    "pfwav=[]\n",
    "P=[]\n",
    "Npf=3\n",
    "data=np.zeros((Npf,1,N,5), dtype=float32) \n",
    "for k in range(Npf):\n",
    "    pfwav.append(np.genfromtxt(faer_phase, usecols=range(1), skip_header=(1+(2+N)*k), max_rows=1))\n",
    "    pizero=np.genfromtxt(faer_phase, usecols=range(1), skip_header=(1+(2+N)*k+1), max_rows=1)\n",
    "    data[k,0,:,:] = np.genfromtxt(faer_phase, usecols=range(5), skip_header=(1+(2+N)*k+2), max_rows=N)\n",
    "    \n",
    "data=data.swapaxes(2,3)\n",
    "phase_valid = LUT(data[:,:,1:,:],\n",
    "          names = ['wav_phase_atm', 'z_phase_atm', 'stk','theta'] ,\n",
    "          axes  = [pfwav, [0], None, data[0,0,0,:]])\n",
    "   \n",
    "data_valid=np.loadtxt('../smartg/validation/artdeco_lbl_nstr_32_ray_desert_O2.dat')"
   ]
  },
  {
   "cell_type": "code",
   "execution_count": null,
   "metadata": {
    "ExecuteTime": {
     "end_time": "2018-04-06T12:48:45.009562Z",
     "start_time": "2018-04-06T12:48:44.618863Z"
    }
   },
   "outputs": [],
   "source": [
    "aer_ext_valid  = aer_sca_valid + aer_abs_valid\n",
    "aer_ssa_valid  = aer_sca_valid / aer_ext_valid\n",
    "aer_ssa_valid[aer_ext_valid==0]=1.\n",
    "\n",
    "comp=[AeroOPAC('desert',0.5, 550., phase= phase_valid)]\n",
    "atm_valid = AtmAFGL('afglmw', grid=z_valid, O3=0., NO2=False, pfwav=pfwav, comp=comp,\n",
    "                    prof_ray= ray_valid,\n",
    "                    prof_aer= (aer_ext_valid,aer_ssa_valid),\n",
    "                    prof_abs= gas_valid\n",
    "                    )"
   ]
  },
  {
   "cell_type": "code",
   "execution_count": null,
   "metadata": {
    "ExecuteTime": {
     "end_time": "2018-04-06T12:49:30.074950Z",
     "start_time": "2018-04-06T12:49:03.560576Z"
    },
    "run_control": {
     "marked": false
    }
   },
   "outputs": [],
   "source": [
    "le={}\n",
    "le.update(th=np.array([20.])*np.pi/180)\n",
    "le.update(phi=np.array([180.])*np.pi/180)\n",
    "mle_valid5=  S.run(THVDEG=30., wl=w_valid, le=le,  DEPO=0., NBPHOTONS=1e10, atm=atm_valid, \n",
    "                   NBLOOP=1e5, progress=False)\n",
    "print (mle_valid5.attrs['kernel time (s)'])"
   ]
  },
  {
   "cell_type": "code",
   "execution_count": null,
   "metadata": {
    "ExecuteTime": {
     "end_time": "2018-04-06T12:49:31.521573Z",
     "start_time": "2018-04-06T12:49:30.083826Z"
    }
   },
   "outputs": [],
   "source": [
    "i_valid=data_valid[:,1]\n",
    "ip_valid=np.sqrt(data_valid[:,2]*data_valid[:,2]+data_valid[:,3]*data_valid[:,3])\n",
    "ip=mle_valid5['Q_up (TOA)']*mle_valid5['Q_up (TOA)']+mle_valid5['U_up (TOA)']*mle_valid5['U_up (TOA)']\n",
    "ip=ip.apply(np.sqrt,mdesc('Ip_up (TOA)'))\n",
    "i=mle_valid5['I_up (TOA)']\n",
    "##\n",
    "figure(figsize=(8,4))\n",
    "plot(w_valid,  i_valid, 'r-')\n",
    "f= i.sub()[:,0,0].plot(fmt='g--', vmax=0.01)\n",
    "figure(figsize=(8,4))\n",
    "df=i.sub()[:,0,0]- i_valid\n",
    "dff=df/i_valid*100\n",
    "dff.plot(fmt='k-', vmax=1, vmin=-1)\n",
    "##\n",
    "figure()\n",
    "plot(w_valid,  ip_valid, 'r-')\n",
    "f= ip.sub()[:,0,0].plot(fmt='g--', vmax=0.005)\n",
    "figure()\n",
    "df=ip.sub()[:,0,0]- ip_valid\n",
    "dff=df/ip_valid*100\n",
    "dff.plot(fmt='k-', vmax=1, vmin=-1)"
   ]
  }
 ],
 "metadata": {
  "anaconda-cloud": {},
  "hide_input": false,
  "kernelspec": {
   "display_name": "Python [conda env:py2v4.4]",
   "language": "python",
   "name": "conda-env-py2v4.4-py"
  },
  "language_info": {
   "codemirror_mode": {
    "name": "ipython",
    "version": 2
   },
   "file_extension": ".py",
   "mimetype": "text/x-python",
   "name": "python",
   "nbconvert_exporter": "python",
   "pygments_lexer": "ipython2",
   "version": "2.7.13"
  },
  "toc": {
   "colors": {
    "hover_highlight": "#DAA520",
    "navigate_num": "#000000",
    "navigate_text": "#333333",
    "running_highlight": "#FF0000",
    "selected_highlight": "#FFD700",
    "sidebar_border": "#EEEEEE",
    "wrapper_background": "#FFFFFF"
   },
   "moveMenuLeft": true,
   "nav_menu": {
    "height": "250px",
    "width": "252px"
   },
   "navigate_menu": true,
   "number_sections": true,
   "sideBar": true,
   "threshold": 4,
   "toc_cell": false,
   "toc_number_sections": true,
   "toc_position": {
    "height": "793px",
    "left": "0px",
    "right": "1217.33px",
    "top": "161px",
    "width": "212px"
   },
   "toc_section_display": "block",
   "toc_threshold": 4,
   "toc_window_display": true,
   "widenNotebook": false
  },
  "toc_position": {
   "left": "1543px",
   "right": "33px",
   "top": "123px",
   "width": "300px"
  },
  "widgets": {
   "state": {
    "1921f473839341f388a1e9377d80589a": {
     "views": [
      {
       "cell_index": 3
      }
     ]
    },
    "1fa758d1d96f45f087bf8a5f885862da": {
     "views": [
      {
       "cell_index": 3
      }
     ]
    },
    "5bcbe180c7034ef09a83eb0c2e04469c": {
     "views": [
      {
       "cell_index": 3
      }
     ]
    },
    "66b0f04325fa413da0229bf257752733": {
     "views": [
      {
       "cell_index": 3
      }
     ]
    },
    "b071eef5e27f48f6be7750fe988dbf07": {
     "views": [
      {
       "cell_index": 3
      }
     ]
    },
    "c940c2f9d86347da801ee680976d4176": {
     "views": [
      {
       "cell_index": 3
      }
     ]
    },
    "dd1a91bd82664a3c900ddf3eb9f15205": {
     "views": [
      {
       "cell_index": 3
      }
     ]
    }
   },
   "version": "1.2.0"
  }
 },
 "nbformat": 4,
 "nbformat_minor": 1
}
