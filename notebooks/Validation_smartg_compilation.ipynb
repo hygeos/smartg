{
 "cells": [
  {
   "cell_type": "markdown",
   "metadata": {},
   "source": [
    " <span style=\"font-size: 2em;\"> Validation of SMART-G</span>\n"
   ]
  },
  {
   "cell_type": "markdown",
   "metadata": {
    "toc": "true"
   },
   "source": [
    "# Table of Contents\n",
    " <p><div class=\"lev1 toc-item\"><a href=\"#Initialization\" data-toc-modified-id=\"Initialization-1\"><span class=\"toc-item-num\">1&nbsp;&nbsp;</span>Initialization</a></div><div class=\"lev1 toc-item\"><a href=\"#SMART-G-Paper,-JQSRT-2018\" data-toc-modified-id=\"SMART-G-Paper,-JQSRT-2018-2\"><span class=\"toc-item-num\">2&nbsp;&nbsp;</span>SMART-G Paper, JQSRT 2018</a></div><div class=\"lev2 toc-item\"><a href=\"#Rayleigh-scattering--unbiased-sampling-:-Natraj-benchmark\" data-toc-modified-id=\"Rayleigh-scattering--unbiased-sampling-:-Natraj-benchmark-21\"><span class=\"toc-item-num\">2.1&nbsp;&nbsp;</span>Rayleigh scattering  unbiased sampling : Natraj benchmark</a></div><div class=\"lev3 toc-item\"><a href=\"#Define-functions-&amp;-Read-data\" data-toc-modified-id=\"Define-functions-&amp;-Read-data-211\"><span class=\"toc-item-num\">2.1.1&nbsp;&nbsp;</span>Define functions &amp; Read data</a></div><div class=\"lev3 toc-item\"><a href=\"#Select-test-case-&amp;-run\" data-toc-modified-id=\"Select-test-case-&amp;-run-212\"><span class=\"toc-item-num\">2.1.2&nbsp;&nbsp;</span>Select test case &amp; run</a></div><div class=\"lev3 toc-item\"><a href=\"#Code-version\" data-toc-modified-id=\"Code-version-213\"><span class=\"toc-item-num\">2.1.3&nbsp;&nbsp;</span>Code version</a></div><div class=\"lev3 toc-item\"><a href=\"#Compare\" data-toc-modified-id=\"Compare-214\"><span class=\"toc-item-num\">2.1.4&nbsp;&nbsp;</span>Compare</a></div><div class=\"lev2 toc-item\"><a href=\"#Scattering-biased-sampling-:-Kokhanovsky-et-al.-benchmarks\" data-toc-modified-id=\"Scattering-biased-sampling-:-Kokhanovsky-et-al.-benchmarks-22\"><span class=\"toc-item-num\">2.2&nbsp;&nbsp;</span>Scattering biased sampling : Kokhanovsky et al. benchmarks</a></div><div class=\"lev3 toc-item\"><a href=\"#Rayleigh\" data-toc-modified-id=\"Rayleigh-221\"><span class=\"toc-item-num\">2.2.1&nbsp;&nbsp;</span>Rayleigh</a></div><div class=\"lev4 toc-item\"><a href=\"#Define-functions-&amp;-Read-data\" data-toc-modified-id=\"Define-functions-&amp;-Read-data-2211\"><span class=\"toc-item-num\">2.2.1.1&nbsp;&nbsp;</span>Define functions &amp; Read data</a></div><div class=\"lev4 toc-item\"><a href=\"#Select-test-case-&amp;-run\" data-toc-modified-id=\"Select-test-case-&amp;-run-2212\"><span class=\"toc-item-num\">2.2.1.2&nbsp;&nbsp;</span>Select test case &amp; run</a></div><div class=\"lev4 toc-item\"><a href=\"#Compare\" data-toc-modified-id=\"Compare-2213\"><span class=\"toc-item-num\">2.2.1.3&nbsp;&nbsp;</span>Compare</a></div><div class=\"lev3 toc-item\"><a href=\"#Aerosols\" data-toc-modified-id=\"Aerosols-222\"><span class=\"toc-item-num\">2.2.2&nbsp;&nbsp;</span>Aerosols</a></div><div class=\"lev4 toc-item\"><a href=\"#Define-functions-&amp;-Read-data\" data-toc-modified-id=\"Define-functions-&amp;-Read-data-2221\"><span class=\"toc-item-num\">2.2.2.1&nbsp;&nbsp;</span>Define functions &amp; Read data</a></div><div class=\"lev4 toc-item\"><a href=\"#Select-test-case\" data-toc-modified-id=\"Select-test-case-2222\"><span class=\"toc-item-num\">2.2.2.2&nbsp;&nbsp;</span>Select test case</a></div><div class=\"lev4 toc-item\"><a href=\"#Run-Local-Estimate\" data-toc-modified-id=\"Run-Local-Estimate-2223\"><span class=\"toc-item-num\">2.2.2.3&nbsp;&nbsp;</span>Run Local Estimate</a></div><div class=\"lev4 toc-item\"><a href=\"#Compare\" data-toc-modified-id=\"Compare-2224\"><span class=\"toc-item-num\">2.2.2.4&nbsp;&nbsp;</span>Compare</a></div><div class=\"lev3 toc-item\"><a href=\"#Cloud\" data-toc-modified-id=\"Cloud-223\"><span class=\"toc-item-num\">2.2.3&nbsp;&nbsp;</span>Cloud</a></div><div class=\"lev4 toc-item\"><a href=\"#Define-functions-&amp;-Read-data\" data-toc-modified-id=\"Define-functions-&amp;-Read-data-2231\"><span class=\"toc-item-num\">2.2.3.1&nbsp;&nbsp;</span>Define functions &amp; Read data</a></div><div class=\"lev4 toc-item\"><a href=\"#Select-test-case\" data-toc-modified-id=\"Select-test-case-2232\"><span class=\"toc-item-num\">2.2.3.2&nbsp;&nbsp;</span>Select test case</a></div><div class=\"lev4 toc-item\"><a href=\"#Run-Local-Estimate\" data-toc-modified-id=\"Run-Local-Estimate-2233\"><span class=\"toc-item-num\">2.2.3.3&nbsp;&nbsp;</span>Run Local Estimate</a></div><div class=\"lev4 toc-item\"><a href=\"#Compare\" data-toc-modified-id=\"Compare-2234\"><span class=\"toc-item-num\">2.2.3.4&nbsp;&nbsp;</span>Compare</a></div><div class=\"lev2 toc-item\"><a href=\"#Atmosphere-Glitter:-IRS--IPRT-Test-case-A6\" data-toc-modified-id=\"Atmosphere-Glitter:-IRS--IPRT-Test-case-A6-23\"><span class=\"toc-item-num\">2.3&nbsp;&nbsp;</span>Atmosphere-Glitter: IRS- IPRT Test case A6</a></div><div class=\"lev3 toc-item\"><a href=\"#Define-functions-&amp;-Read-data\" data-toc-modified-id=\"Define-functions-&amp;-Read-data-231\"><span class=\"toc-item-num\">2.3.1&nbsp;&nbsp;</span>Define functions &amp; Read data</a></div><div class=\"lev3 toc-item\"><a href=\"#Select-test-case-and-run\" data-toc-modified-id=\"Select-test-case-and-run-232\"><span class=\"toc-item-num\">2.3.2&nbsp;&nbsp;</span>Select test case and run</a></div><div class=\"lev4 toc-item\"><a href=\"#with-wave-facet-sampling\" data-toc-modified-id=\"with-wave-facet-sampling-2321\"><span class=\"toc-item-num\">2.3.2.1&nbsp;&nbsp;</span>with wave facet sampling</a></div><div class=\"lev4 toc-item\"><a href=\"#with-BRDF-sampling\" data-toc-modified-id=\"with-BRDF-sampling-2322\"><span class=\"toc-item-num\">2.3.2.2&nbsp;&nbsp;</span>with BRDF sampling</a></div><div class=\"lev2 toc-item\"><a href=\"#Atmosphere-Glitter-Ocean-:-Examples\" data-toc-modified-id=\"Atmosphere-Glitter-Ocean-:-Examples-24\"><span class=\"toc-item-num\">2.4&nbsp;&nbsp;</span>Atmosphere-Glitter-Ocean : Examples</a></div><div class=\"lev2 toc-item\"><a href=\"#Paper-SMART-G,-performance\" data-toc-modified-id=\"Paper-SMART-G,-performance-25\"><span class=\"toc-item-num\">2.5&nbsp;&nbsp;</span>Paper SMART-G, performance</a></div><div class=\"lev3 toc-item\"><a href=\"#One-Geometry,-Plane-Parallel,-LE,-Rayleigh,-in-double-precision,\" data-toc-modified-id=\"One-Geometry,-Plane-Parallel,-LE,-Rayleigh,-in-double-precision,-251\"><span class=\"toc-item-num\">2.5.1&nbsp;&nbsp;</span>One Geometry, Plane Parallel, LE, Rayleigh, in double precision,</a></div><div class=\"lev3 toc-item\"><a href=\"#One-Geometry,-Plane-Parallel,-LE,-full-simulation,-in-double-precision\" data-toc-modified-id=\"One-Geometry,-Plane-Parallel,-LE,-full-simulation,-in-double-precision-252\"><span class=\"toc-item-num\">2.5.2&nbsp;&nbsp;</span>One Geometry, Plane Parallel, LE, full simulation, in double precision</a></div><div class=\"lev3 toc-item\"><a href=\"#Variation-with-number-of-geometries,-PP-versus-spherical\" data-toc-modified-id=\"Variation-with-number-of-geometries,-PP-versus-spherical-253\"><span class=\"toc-item-num\">2.5.3&nbsp;&nbsp;</span>Variation with number of geometries, PP versus spherical</a></div><div class=\"lev4 toc-item\"><a href=\"#Pure-atmosphere\" data-toc-modified-id=\"Pure-atmosphere-2531\"><span class=\"toc-item-num\">2.5.3.1&nbsp;&nbsp;</span>Pure atmosphere</a></div><div class=\"lev4 toc-item\"><a href=\"#full-simulation\" data-toc-modified-id=\"full-simulation-2532\"><span class=\"toc-item-num\">2.5.3.2&nbsp;&nbsp;</span>full simulation</a></div><div class=\"lev3 toc-item\"><a href=\"#Variation-with-OT\" data-toc-modified-id=\"Variation-with-OT-254\"><span class=\"toc-item-num\">2.5.4&nbsp;&nbsp;</span>Variation with OT</a></div><div class=\"lev2 toc-item\"><a href=\"#Applications\" data-toc-modified-id=\"Applications-26\"><span class=\"toc-item-num\">2.6&nbsp;&nbsp;</span>Applications</a></div><div class=\"lev3 toc-item\"><a href=\"#Spherical-Shell-Atmosphere\" data-toc-modified-id=\"Spherical-Shell-Atmosphere-261\"><span class=\"toc-item-num\">2.6.1&nbsp;&nbsp;</span>Spherical Shell Atmosphere</a></div><div class=\"lev4 toc-item\"><a href=\"#With-refraction-(!-DEV-!)\" data-toc-modified-id=\"With-refraction-(!-DEV-!)-2611\"><span class=\"toc-item-num\">2.6.1.1&nbsp;&nbsp;</span>With refraction (! DEV !)</a></div><div class=\"lev3 toc-item\"><a href=\"#Adjacency-effects\" data-toc-modified-id=\"Adjacency-effects-262\"><span class=\"toc-item-num\">2.6.2&nbsp;&nbsp;</span>Adjacency effects</a></div><div class=\"lev4 toc-item\"><a href=\"#Case-of-sea-ice\" data-toc-modified-id=\"Case-of-sea-ice-2621\"><span class=\"toc-item-num\">2.6.2.1&nbsp;&nbsp;</span>Case of sea-ice</a></div><div class=\"lev2 toc-item\"><a href=\"#Cox-and-Munk\" data-toc-modified-id=\"Cox-and-Munk-27\"><span class=\"toc-item-num\">2.7&nbsp;&nbsp;</span>Cox and Munk</a></div><div class=\"lev1 toc-item\"><a href=\"#Equivalence-Theorem\" data-toc-modified-id=\"Equivalence-Theorem-3\"><span class=\"toc-item-num\">3&nbsp;&nbsp;</span>Equivalence Theorem</a></div><div class=\"lev1 toc-item\"><a href=\"#ALIS\" data-toc-modified-id=\"ALIS-4\"><span class=\"toc-item-num\">4&nbsp;&nbsp;</span>ALIS</a></div><div class=\"lev2 toc-item\"><a href=\"#Atmosphere\" data-toc-modified-id=\"Atmosphere-41\"><span class=\"toc-item-num\">4.1&nbsp;&nbsp;</span>Atmosphere</a></div><div class=\"lev3 toc-item\"><a href=\"#Pure-scattering\" data-toc-modified-id=\"Pure-scattering-411\"><span class=\"toc-item-num\">4.1.1&nbsp;&nbsp;</span>Pure scattering</a></div><div class=\"lev3 toc-item\"><a href=\"#Validation-against-ART-DECO\" data-toc-modified-id=\"Validation-against-ART-DECO-412\"><span class=\"toc-item-num\">4.1.2&nbsp;&nbsp;</span>Validation against ART-DECO</a></div><div class=\"lev4 toc-item\"><a href=\"#Rayleigh--and-black-surface\" data-toc-modified-id=\"Rayleigh--and-black-surface-4121\"><span class=\"toc-item-num\">4.1.2.1&nbsp;&nbsp;</span>Rayleigh  and black surface</a></div><div class=\"lev4 toc-item\"><a href=\"#Rayleigh-,-aerosol-and-black-surface\" data-toc-modified-id=\"Rayleigh-,-aerosol-and-black-surface-4122\"><span class=\"toc-item-num\">4.1.2.2&nbsp;&nbsp;</span>Rayleigh , aerosol and black surface</a></div><div class=\"lev2 toc-item\"><a href=\"#With-water\" data-toc-modified-id=\"With-water-42\"><span class=\"toc-item-num\">4.2&nbsp;&nbsp;</span>With water</a></div><div class=\"lev3 toc-item\"><a href=\"#Jacobians\" data-toc-modified-id=\"Jacobians-421\"><span class=\"toc-item-num\">4.2.1&nbsp;&nbsp;</span>Jacobians</a></div><div class=\"lev1 toc-item\"><a href=\"#Validation-against-HYDROLIGHT\" data-toc-modified-id=\"Validation-against-HYDROLIGHT-5\"><span class=\"toc-item-num\">5&nbsp;&nbsp;</span>Validation against HYDROLIGHT</a></div><div class=\"lev1 toc-item\"><a href=\"#Thermal-source\" data-toc-modified-id=\"Thermal-source-6\"><span class=\"toc-item-num\">6&nbsp;&nbsp;</span>Thermal source</a></div>"
   ]
  },
  {
   "cell_type": "markdown",
   "metadata": {},
   "source": [
    "# Initialization"
   ]
  },
  {
   "cell_type": "code",
   "execution_count": null,
   "metadata": {
    "ExecuteTime": {
     "end_time": "2021-10-26T11:18:52.543943Z",
     "start_time": "2021-10-26T11:18:50.343666Z"
    },
    "scrolled": true
   },
   "outputs": [],
   "source": [
    "%matplotlib inline\n",
    "# next 2 lines allow to automatically reload modules that have been changed externally\n",
    "%reload_ext autoreload\n",
    "%autoreload 2\n",
    "from __future__ import absolute_import, division, print_function\n",
    "import os, sys\n",
    "\n",
    "try:\n",
    "    import subprocess\n",
    "    check = subprocess.check_call(['git', 'rev-parse', '--show-toplevel'], stdout=subprocess.DEVNULL, stderr=subprocess.STDOUT)\n",
    "    ROOTPATH = subprocess.Popen(['git', 'rev-parse', '--show-toplevel'], stdout=subprocess.PIPE).communicate()[0].rstrip().decode('utf-8') # Root Git Path\n",
    "except subprocess.CalledProcessError:\n",
    "    ROOTPATH = os.getcwd()\n",
    "sys.path.insert(0, ROOTPATH)\n",
    "\n",
    "from smartg.smartg import Smartg, Sensor\n",
    "from smartg.smartg import multi_profiles, reduce_diff\n",
    "from smartg.smartg import RoughSurface, LambSurface, FlatSurface, Environment, Albedo_cst\n",
    "from smartg.atmosphere import AtmAFGL, AerOPAC, Cloud, diff1, read_phase\n",
    "from smartg.water import IOP_1, IOP, IOP_profile\n",
    "from smartg.reptran import REPTRAN, reduce_reptran\n",
    "from smartg.tools.tools import SpherIrr, Irr, reduce_Irr\n",
    "from luts.luts import LUT, MLUT, Idx, merge, read_mlut\n",
    "from smartg.tools.smartg_view import compare, plot_polar, spectrum , mdesc \n",
    "from smartg.tools.smartg_view import spectrum_view,transect_view,profile_view,phase_view,smartg_view,input_view\n",
    "from ipywidgets import interact, interact_manual\n",
    "# this module depends on the external HAPI Hitran Python interface\n",
    "import hapi as hapi\n",
    "from matplotlib import colors\n",
    "import warnings\n",
    "warnings.filterwarnings(\"ignore\")\n",
    "import numpy as np\n",
    "import matplotlib.pyplot as plt\n",
    "def get_spaced_colors(n):\n",
    "    max_value = 16581375 #255**3\n",
    "    interval = int(max_value / n)\n",
    "    colors = [hex(I)[2:].zfill(6) for I in range(0, max_value, interval)]\n",
    "    return [(int(i[:2], 16)/256., int(i[2:4], 16)/256., int(i[4:], 16)/256.) for i in colors]"
   ]
  },
  {
   "cell_type": "markdown",
   "metadata": {
    "collapsed": true
   },
   "source": [
    "# SMART-G Paper, JQSRT 2018"
   ]
  },
  {
   "cell_type": "markdown",
   "metadata": {},
   "source": [
    "## Rayleigh scattering  unbiased sampling : Natraj benchmark\n",
    "The benchmark result may be found  [here](https://authors.library.caltech.edu/27737/12/index.html):\n",
    "\n",
    "the reference is\n",
    "> Natraj, V., and J. W. Hovenier (2012), Polarized Light Reflected and Transmitted by Thick Rayleigh Scattering Atmospheres, Astrophys. J., 748(1), 28, doi: 10.1088/0004-637X/748/1/28."
   ]
  },
  {
   "cell_type": "markdown",
   "metadata": {},
   "source": [
    "### Define functions & Read data"
   ]
  },
  {
   "cell_type": "code",
   "execution_count": null,
   "metadata": {
    "ExecuteTime": {
     "end_time": "2021-09-22T13:47:02.503104Z",
     "start_time": "2021-09-22T13:47:02.426002Z"
    },
    "hide_input": false
   },
   "outputs": [],
   "source": [
    "def read_natraj():\n",
    "    \n",
    "    dir_natraj = ROOTPATH + \"/smartg/validation/Rayleigh_Slab_Natraj_2011/\"\n",
    "    tau = np.array([1,2,4,8,16,32,64,100,128,256,512,1024])\n",
    "    taus = list(map(lambda x : str(x), tau))\n",
    "    albedo = np.array([0.0, 0.25, 0.8])\n",
    "    mu0    = np.linspace(0.02, 1.0, num=50, endpoint=True)\n",
    "    mu     = np.linspace(0.0, 1.0, num=51, endpoint=True)\n",
    "    phi    = np.array([0, 30, 60, 90, 120, 150, 180])\n",
    "    phi2   = np.array([0, 30, 60, 90, 120, 150, 180, 210, 240, 270, 300, 330, 360])\n",
    "\n",
    "\n",
    "\n",
    "    mSvR = MLUT()\n",
    "    ths = np.arccos(mu0)*180./np.pi\n",
    "    thv = np.arccos(mu) *180./np.pi\n",
    "    mSvR.add_axis('Azimuth angles', phi2)\n",
    "    mSvR.add_axis('SZA', ths[::-1])\n",
    "    mSvR.add_axis('Zenith angles',thv[::-1])\n",
    "    mSvR.add_axis('alb',albedo)\n",
    "    mSvR.add_axis('tau',tau)\n",
    "    \n",
    "    #for (lev,lev2) in zip(['UP'],['up (TOA)']):\n",
    "    for (lev,lev2) in zip(['UP','DN'],['up (TOA)','down (0+)']):\n",
    "        I = np.full( (len(tau), len(albedo), len(mu0), len(phi2), len(mu) ), np.nan)\n",
    "        Q = np.full( (len(tau), len(albedo), len(mu0), len(phi2), len(mu) ), np.nan)\n",
    "        U = np.full( (len(tau), len(albedo), len(mu0), len(phi2), len(mu) ), np.nan)\n",
    "        \n",
    "        for itau in range(len(tau)):\n",
    "\n",
    "            f = open(dir_natraj+\"I_\"+lev+\"_TAU_%s\"%taus[itau])\n",
    "            f.readline()\n",
    "            f.readline()\n",
    "            f.readline()\n",
    "            f.readline()\n",
    "            for ialb in range(len(albedo)):\n",
    "                f.readline()\n",
    "                tmp  = f.readline()\n",
    "                if albedo[ialb]!=float(tmp.split(\"=\")[1]):\n",
    "                    print (\"Pb alb\")\n",
    "                    return        \n",
    "                f.readline()\n",
    "                for imu0 in range(len(mu0)):\n",
    "                    for imu in range(len(mu)):\n",
    "                        tmp = f.readline()\n",
    "                        for iphi in range(len(phi)):                    \n",
    "                            I[itau,ialb,imu0,iphi,imu] = tmp.split()[2+iphi]\n",
    "                            I[itau,ialb,imu0,-iphi-1,imu] = tmp.split()[2+iphi]\n",
    "            f.close()\n",
    "\n",
    "            f = open(dir_natraj+\"Q_\"+lev+\"_TAU_%s\"%taus[itau])\n",
    "            f.readline()\n",
    "            f.readline()\n",
    "            f.readline()\n",
    "            f.readline()\n",
    "            for ialb in range(len(albedo)):\n",
    "                f.readline()\n",
    "                tmp  = f.readline()\n",
    "                if albedo[ialb]!=float(tmp.split(\"=\")[1]):\n",
    "                    print (\"Pb alb\")\n",
    "                    return        \n",
    "                f.readline()\n",
    "                for imu0 in range(len(mu0)):\n",
    "                    for imu in range(len(mu)):\n",
    "                        tmp = f.readline()\n",
    "                        for iphi in range(len(phi)):                    \n",
    "                            Q[itau,ialb,imu0,iphi,imu] = tmp.split()[2+iphi] \n",
    "                            Q[itau,ialb,imu0,-iphi-1,imu] = tmp.split()[2+iphi] \n",
    "            f.close()\n",
    "\n",
    "            f = open(dir_natraj+\"U_\"+lev+\"_TAU_%s\"%taus[itau])\n",
    "            f.readline()\n",
    "            f.readline()\n",
    "            f.readline()\n",
    "            f.readline()\n",
    "            for ialb in range(len(albedo)):\n",
    "                f.readline()\n",
    "                tmp  = f.readline()\n",
    "                if albedo[ialb]!=float(tmp.split(\"=\")[1]):\n",
    "                    print (\"Pb alb\")\n",
    "                    return        \n",
    "                f.readline()\n",
    "                for imu0 in range(len(mu0)):\n",
    "                    for imu in range(len(mu)):\n",
    "                        tmp = f.readline()\n",
    "                        for iphi in range(len(phi)):                    \n",
    "                            U[itau,ialb,imu0,iphi,imu] = tmp.split()[2+iphi]\n",
    "                            U[itau,ialb,imu0,-iphi-1,imu] = tmp.split()[2+iphi]\n",
    "            f.close()\n",
    "\n",
    "\n",
    "        mSvR.add_dataset('I_'+lev2, I[:,:,::-1,:,::-1], [\"tau\",\"alb\",\"SZA\",\"Azimuth angles\",\"Zenith angles\"])\n",
    "        mSvR.add_dataset('Q_'+lev2, Q[:,:,::-1,:,::-1], [\"tau\",\"alb\",\"SZA\",\"Azimuth angles\",\"Zenith angles\"])\n",
    "        mSvR.add_dataset('U_'+lev2, U[:,:,::-1,:,::-1], [\"tau\",\"alb\",\"SZA\",\"Azimuth angles\",\"Zenith angles\"])\n",
    "        mSvR.add_dataset('V_'+lev2, np.zeros_like(I),   [\"tau\",\"alb\",\"SZA\",\"Azimuth angles\",\"Zenith angles\"])\n",
    "        mSvR.add_dataset('N_'+lev2, np.zeros_like(I),   [\"tau\",\"alb\",\"SZA\",\"Azimuth angles\",\"Zenith angles\"])\n",
    "\n",
    "    return mSvR \n",
    "\n",
    "natraj=read_natraj()\n",
    "natraj.describe()"
   ]
  },
  {
   "cell_type": "code",
   "execution_count": null,
   "metadata": {
    "ExecuteTime": {
     "end_time": "2021-01-28T13:40:54.456806Z",
     "start_time": "2021-01-28T13:40:54.329290Z"
    }
   },
   "outputs": [],
   "source": [
    "natraj.axis('tau'), natraj.axis('alb')"
   ]
  },
  {
   "cell_type": "markdown",
   "metadata": {
    "hide_input": true
   },
   "source": [
    "### Select test case & run"
   ]
  },
  {
   "cell_type": "code",
   "execution_count": null,
   "metadata": {
    "ExecuteTime": {
     "end_time": "2020-03-09T16:36:47.811507Z",
     "start_time": "2020-03-09T16:36:25.277075Z"
    }
   },
   "outputs": [],
   "source": [
    "TAU = 4\n",
    "THS = 60.\n",
    "DEPO= 0.\n",
    "ALB = 0.\n",
    "atm = AtmAFGL('afglt', O3=0., NO2=False, tauR=TAU)\n",
    "\n",
    "# subset of view angles (1 over 3)\n",
    "ref = natraj.sub(d={'SZA':Idx(THS),'tau': Idx(TAU), 'alb':Idx(ALB),\n",
    "                    'Zenith angles': slice(0,-1,3),\n",
    "                    'Azimuth angles':slice(0,-1,3)})\n",
    "# normalisation to mus\n",
    "refn = MLUT()\n",
    "refn.add_axis('Zenith angles',  ref.axis('Zenith angles'))\n",
    "refn.add_axis('Azimuth angles', ref.axis('Azimuth angles'))\n",
    "for l in ref:\n",
    "    refn.add_lut(l/np.cos(THS*np.pi/180))\n",
    "\n",
    "# local estimate angles\n",
    "le={}\n",
    "le.update(th_deg = refn.axis('Zenith angles'))\n",
    "le.update(phi_deg= refn.axis('Azimuth angles'))\n",
    "print(le)\n",
    "\n",
    "# compilation\n",
    "Pfu=Smartg(pp     = True, \n",
    "           back   = False, \n",
    "           bias   = False, # Unbiased scattering sampling\n",
    "           double = True) "
   ]
  },
  {
   "cell_type": "code",
   "execution_count": null,
   "metadata": {
    "ExecuteTime": {
     "end_time": "2019-02-25T09:21:08.679711Z",
     "start_time": "2019-02-25T09:21:04.120491Z"
    },
    "run_control": {
     "marked": false
    }
   },
   "outputs": [],
   "source": [
    "#%%time\n",
    "#mvalid8 = Pfu.run(wl=320.,THVDEG=THS, DEPO=DEPO, atm=atm, le=le, NBPHOTONS=1e8, stdev=True, OUTPUT_LAYERS=0, SEED=1)"
   ]
  },
  {
   "cell_type": "code",
   "execution_count": null,
   "metadata": {
    "ExecuteTime": {
     "end_time": "2018-08-17T14:19:25.022474Z",
     "start_time": "2018-08-17T14:19:24.617327Z"
    }
   },
   "outputs": [],
   "source": [
    "#mvalid8.save('/home/did/RTC/SMART-G/notebooks/Validation_paper_smartg/2018_v2/natraj_ray1e8.nc', overwrite=True)"
   ]
  },
  {
   "cell_type": "code",
   "execution_count": null,
   "metadata": {
    "ExecuteTime": {
     "end_time": "2020-03-09T16:36:50.817587Z",
     "start_time": "2020-03-09T16:36:47.818222Z"
    }
   },
   "outputs": [],
   "source": [
    "%%time\n",
    "mvalid6 = Pfu.run(wl=320.,THVDEG=THS, DEPO=DEPO, atm=atm, le=le, NBPHOTONS=1e6, stdev=True, OUTPUT_LAYERS=0,\n",
    "                 NF=1e4)"
   ]
  },
  {
   "cell_type": "code",
   "execution_count": null,
   "metadata": {
    "ExecuteTime": {
     "end_time": "2020-03-09T16:36:55.578533Z",
     "start_time": "2020-03-09T16:36:53.335630Z"
    }
   },
   "outputs": [],
   "source": [
    "# to see pbs when using biased scattering sampling in that case\n",
    "mvalid6b = Smartg(pp     = True, back   = False, bias   = True, double = True).run(wl=320.,THVDEG=THS, DEPO=DEPO, atm=atm, le=le, NBPHOTONS=1e6, stdev=True, OUTPUT_LAYERS=0,\n",
    "                 NF=1e4)"
   ]
  },
  {
   "cell_type": "markdown",
   "metadata": {},
   "source": [
    "### Code version"
   ]
  },
  {
   "cell_type": "code",
   "execution_count": null,
   "metadata": {
    "ExecuteTime": {
     "end_time": "2020-03-09T16:36:58.669901Z",
     "start_time": "2020-03-09T16:36:58.585059Z"
    }
   },
   "outputs": [],
   "source": [
    "# Source code Commit number\n",
    "print(mvalid6.attrs['git_commit_ref'])"
   ]
  },
  {
   "cell_type": "markdown",
   "metadata": {},
   "source": [
    "### Compare"
   ]
  },
  {
   "cell_type": "code",
   "execution_count": null,
   "metadata": {
    "ExecuteTime": {
     "end_time": "2020-03-09T16:37:03.312773Z",
     "start_time": "2020-03-09T16:37:00.932238Z"
    }
   },
   "outputs": [],
   "source": [
    "mvalid8 = read_mlut('/home/did/RTC/SMART-G/notebooks/Validation_paper_smartg/2018_v2/natraj_ray1e8.nc')\n",
    "vmin=  [0.5, -0.3 , -0.5, 0]\n",
    "vmax=  [1.5,  0.3 ,  0., 100]\n",
    "emax=  [5e-4, 5e-4, 5e-4, 0.1]\n",
    "ermax= [.05, .1, .1, .1]\n",
    "h=compare(mvalid8, refn, Nparam=4, vmax=vmax, vmin=vmin, emax=emax, ermax=ermax, U_sign=+1,\n",
    "          errb=True, logI=False, same_azimuth_convention=False, field='up (TOA)', zenith_title='$VZA (°)$' )"
   ]
  },
  {
   "cell_type": "code",
   "execution_count": null,
   "metadata": {
    "ExecuteTime": {
     "end_time": "2019-03-02T19:55:47.858397Z",
     "start_time": "2019-03-02T19:55:47.834634Z"
    }
   },
   "outputs": [],
   "source": [
    "## FIGURE 7\n",
    "# h.savefig('/home/did/RTC/SMART-G/notebooks/Validation_paper_smartg/2018_v2/natraj_ray1e8.png', dpi=300)"
   ]
  },
  {
   "cell_type": "code",
   "execution_count": null,
   "metadata": {
    "ExecuteTime": {
     "end_time": "2020-03-09T16:37:49.009944Z",
     "start_time": "2020-03-09T16:37:44.776896Z"
    }
   },
   "outputs": [],
   "source": [
    "# Eventually compare to 10^6 phtons, update scales of precisions to 1/10\n",
    "vmin=  [0.5, -0.3 , -0.5, 0]\n",
    "vmax=  [1.5,  0.3 ,  0., 100]\n",
    "emax=  [5e-3, 5e-3, 5e-3, 1]\n",
    "ermax= [.5, 1, 1, 1]\n",
    "h=compare(mvalid6, refn, Nparam=4, vmax=vmax, vmin=vmin, emax=emax, ermax=ermax, U_sign=+1,\n",
    "          errb=True, logI=False, same_azimuth_convention=False, field='up (TOA)')\n",
    "# Pbs of biased scattering sampling for highly polarizing conservative medium : Biases appear and variance increases\n",
    "h=compare(mvalid6b, refn, Nparam=4, vmax=vmax, vmin=vmin, emax=emax, ermax=ermax, U_sign=+1,\n",
    "          errb=True, logI=False, same_azimuth_convention=False, field='up (TOA)')\n",
    "print(mvalid6.attrs[\"processing time (s)\"], mvalid8.attrs[\"processing time (s)\"])"
   ]
  },
  {
   "cell_type": "markdown",
   "metadata": {},
   "source": [
    "## Scattering biased sampling : Kokhanovsky et al. benchmarks\n",
    "\n",
    "This code enables testing the Kokhanovsky pure Rayleigh, Aerosols and Cloud\n",
    "the reference is\n",
    "> Kokhanovsky, Alexander A and Budak, Vladimir P and Cornet, Celine and Duan, Minzheng and Emde, Claudia and Katsev, Iosif L and Klyukov, Dmitriy A and Korkin, Sergey V and C-Labonnote, L and Mayer, Bernhard (2010)\n",
    "Benchmark results in vector atmospheric radiative transfer, *Journal of Quantitative Spectroscopy and Radiative Transfer*,111, pp1931-1946.\n",
    "(http://linkinghub.elsevier.com/retrieve/pii/S0022407310000919) "
   ]
  },
  {
   "cell_type": "markdown",
   "metadata": {},
   "source": [
    "### Rayleigh"
   ]
  },
  {
   "cell_type": "markdown",
   "metadata": {},
   "source": [
    "#### Define functions & Read data"
   ]
  },
  {
   "cell_type": "code",
   "execution_count": null,
   "metadata": {
    "ExecuteTime": {
     "end_time": "2021-10-26T11:18:48.770784Z",
     "start_time": "2021-10-26T11:18:48.548406Z"
    },
    "hide_input": false,
    "init_cell": true,
    "run_control": {
     "marked": false
    },
    "scrolled": true
   },
   "outputs": [],
   "source": [
    "def compare_kokha(mlut, mref, field='up (TOA)',errb=False, logI=False,\n",
    "                  Nparam=4, vmax=None, vmin=None, emax=None, ermax=None, same_convention=False):\n",
    "    from pylab import subplots, setp\n",
    "    if vmax is None : vmax=[0.1]*Nparam \n",
    "    if vmin is None : vmin=[-0.1]*Nparam \n",
    "    if emax is None : emax=[0.1]*Nparam\n",
    "    if ermax is None : ermax=[0.1]*Nparam\n",
    "    stokesT = ['I','Q','U','V']\n",
    "    stokes=stokesT[:Nparam-1]\n",
    "    signT = [1,1,-1,-1,1] # sign convention for first half space\n",
    "    #signT = [1,1,1,-1,1] # sign convention for first half space\n",
    "    sign=signT[:Nparam-1]+[1]\n",
    "    fig,ax = subplots(3,Nparam, sharey=False,sharex=True)\n",
    "    fig.set_size_inches(Nparam*3,10)\n",
    "    fig.set_dpi=600\n",
    "    N = mlut['N' + '_' + field]\n",
    "    Pre = (1./N).apply(sqrt)\n",
    "    epsilon=1e-6\n",
    "    \n",
    "    \n",
    "    for i in range(Nparam):\n",
    "        if i!=Nparam-1 :\n",
    "            S = mlut[stokes[i] + '_' + field]\n",
    "            if S.names.index('Azimuth angles') == 0: th = S.axes[1]   \n",
    "            else: th = S.axes[0]\n",
    "            Sref = mref[stokes[i] + '_' + field]\n",
    "            S.desc = mdesc(S.desc)\n",
    "            E = mlut[stokes[i] + '_' + 'stdev' + '_' + field]\n",
    "            if logI and stokes[i]=='I':\n",
    "                S=S.apply(np.log10)\n",
    "                Sref=Sref.apply(np.log10)\n",
    "                S.desc=r'$log_{10}$ '+S.desc\n",
    "        else:\n",
    "            I=mlut['I' + '_' + field]\n",
    "            Q=mlut['Q' + '_' + field]\n",
    "            U=mlut['U' + '_' + field]\n",
    "            \n",
    "            dI=mlut['I' + '_' + 'stdev' + '_' + field]\n",
    "            dQ=mlut['Q' + '_' + 'stdev' + '_' + field]\n",
    "            dU=mlut['U' + '_' + 'stdev' + '_' + field]\n",
    "            Ip= ((Q*Q+U*U).apply(np.sqrt))\n",
    "            dIp= ((dQ*dQ+dU*dU).apply(np.sqrt))\n",
    "            S= (Ip/I) * 100\n",
    "            S.desc= r'$DoLP' + I.desc[1:3] + I.desc[4:] + '$'\n",
    "            S.desc= 'DoLP' + I.desc[1:]\n",
    "            S.desc = mdesc(S.desc)\n",
    "            Iref=mref['I' + '_' + field]\n",
    "            Qref=mref['Q' + '_' + field]\n",
    "            Uref=mref['U' + '_' + field]\n",
    "            Sref= (((Qref*Qref+Uref*Uref).apply(np.sqrt))/Iref) * 100           \n",
    "            E = (dI/I + dIp/Ip) * S\n",
    "     \n",
    "       \n",
    "        vmi=vmin[i]\n",
    "        vma=vmax[i]\n",
    "        ema=emax[i]\n",
    "        erma=ermax[i]\n",
    "      \n",
    "\n",
    "        for phi0,sym1,sym2,labref in [(180.,'r','.','ref.'),(90.,'g','.','')]:\n",
    "        #for phi0,sym1,sym2, labref in [(0.,'r','.','')]:\n",
    "\n",
    "            # both points at their own abscissas\n",
    "            if not same_convention:\n",
    "\n",
    "                if S.names.index('Azimuth angles') == 0: # check right order of axes\n",
    "                    refp = Sref[Idx(180.-phi0,round=True),:] # reference for >0 view angle\n",
    "                    refm = Sref[Idx(phi0,round=True),:] #      reference for <0 view angle\n",
    "                    sp   = sign[i]*S[Idx(phi0),:]       #     simulation for >0 view angle\n",
    "                    sm   = sign[i]*S[Idx(180-phi0),:]\n",
    "                    if errb:\n",
    "                        dsp  = E[Idx(phi0),:]         #     simulation error for >0 view angle\n",
    "                        dsm  = E[Idx(180.-phi0),:]\n",
    "                    else:\n",
    "                        (dsp,dsm) = (0,0)\n",
    "                else:\n",
    "                    refm = Sref.swapaxes(0,1)[Idx(180.-phi0,round=True),:] # reference for >0 view angle\n",
    "                    refp = Sref.swapaxes(0,1)[Idx(phi0,round=True),:] #      reference for <0 view angle\n",
    "                    sp   = sign[i]*S.swapaxes(0,1)[Idx(phi0),:]       #     simulation for >0 view angle\n",
    "                    sm   = sign[i]*S.swapaxes(0,1)[Idx(180-phi0),:]\n",
    "                    if errb:\n",
    "                        dsp  = E.swapaxes(0,1)[Idx(phi0),:]         #     simulation error for >0 view angle\n",
    "                        dsm  = E.swapaxes(0,1)[Idx(180.-phi0),:]\n",
    "                    else:\n",
    "                        (dsp,dsm) = (0,0)\n",
    "                        \n",
    "            else:\n",
    "                refp = Sref[Idx(180.-phi0,round=True),:] # reference for >0 view angle\n",
    "                refm = Sref[Idx(phi0,round=True),:] #      reference for <0 view angle\n",
    "                sp   = sign[i]*S[Idx(180-phi0),:]       #     simulation for >0 view angle\n",
    "                sm   = sign[i]*S[Idx(phi0),:]\n",
    "                if errb:\n",
    "                    dsp  = E[Idx(180-phi0),:]         #     simulation error for >0 view angle\n",
    "                    dsm  = E[Idx(phi0),:]\n",
    "                else:\n",
    "                    (dsp,dsm) = (0,0)\n",
    "                \n",
    "            \n",
    "                    \n",
    "            ax[0,i].plot(th, refp,'k'+sym2)\n",
    "            ax[0,i].plot(-th,refm,'k'+sym2,label=labref)\n",
    "            ax[0,i].errorbar(th, sp, fmt=sym1+'')\n",
    "            ax[0,i].errorbar(-th,sm, fmt=sym1+'', \\\n",
    "                        label=r'smartg $\\Phi=%.0f-%.0f$'%(phi0,180.-phi0))\n",
    "            ax[0,i].set_ylim([vmi, vma])\n",
    "            ax[0,i].set_xlim([-89., 89.])\n",
    "            ax[0,i].ticklabel_format(axis='y', style='sci', scilimits=(-2,2))\n",
    "            \n",
    "            if logI and i==0:\n",
    "                ax[1,i].errorbar(th,10**sp-10**refp, yerr=dsp,\\\n",
    "                                 fmt=sym1+sym2,label=r'$\\Phi=%.0f-%.0f$'%(phi0,180.-phi0),ecolor='k')\n",
    "                ax[1,i].errorbar(-th,10**sm-10**refm,yerr=dsm,fmt=sym1+sym2,ecolor='k') \n",
    "    \n",
    "            else:\n",
    "                ax[1,i].errorbar(th,sp-refp, yerr=dsp,\\\n",
    "                                 fmt=sym1+sym2,label=r'$\\Phi=%.0f-%.0f$'%(phi0,180.-phi0),ecolor='k')\n",
    "                ax[1,i].errorbar(-th,sm-refm,yerr=dsm,fmt=sym1+sym2,ecolor='k') \n",
    "            ax[1,i].set_ylim([-1*ema,ema])\n",
    "            ax[1,i].set_xlim([-89., 89.])  \n",
    "\n",
    "            ax[2,i].errorbar(th,(sp-refp)/refp*100,\\\n",
    "                             fmt=sym1+sym2,label=r'$\\Phi=%.0f-%.0f$'%(phi0,180.-phi0),ecolor='k')\n",
    "            ax[2,i].errorbar(-th,(sm-refm)/refm*100,fmt=sym1+sym2,ecolor='k')  \n",
    "            \n",
    "            if i!=Nparam-1 : ax[2,i].set_ylim([-1*erma,erma])\n",
    "            else : ax[2,i].set_ylim([-1*erma,erma])\n",
    "                \n",
    "            ax[2,i].set_xlim([-89., 89.])    \n",
    "            ax[1,i].plot([-89,89],[0.,0.],'k--')\n",
    "            ax[2,i].plot([-89,89],[0.,0.],'k--')\n",
    "            ax[1,i].ticklabel_format(axis='y', style='sci', scilimits=(-2,2))\n",
    "\n",
    "            ax[0,i].set_title(S.desc)   \n",
    "            if i==0: \n",
    " \n",
    "                ax[0,i].legend(loc='upper center',fontsize = 8,labelspacing=0.0)\n",
    "                ax[1,i].text(-50.,ema*0.75,r'$N_{\\Phi}$:%i, $N_{\\theta}$:%i'%\\\n",
    "                         (S.axes[0].shape[0],S.axes[1].shape[0]))\n",
    "                ax[1,i].set_ylabel(r'$\\Delta$')\n",
    "                ax[2,i].set_ylabel(r'$\\Delta (\\%)$')\n",
    "    return fig\n",
    "\n",
    "def kokha_ray60(filename) :\n",
    "    f = open(filename, 'r')\n",
    "    nvza=90\n",
    "    nraa=4\n",
    "    mSvR=MLUT()\n",
    "    mSvR.add_axis('Azimuth angles',np.linspace(0.,360.,num=nraa,endpoint=False))\n",
    "    mSvR.add_axis('Zenith angles',np.linspace(0.,90.,num=nvza,endpoint=False))\n",
    "    \n",
    "    SvR = np.zeros((nraa,nvza,4),dtype=float)\n",
    "    for i in range(nvza):\n",
    "        tmp = f.readline()\n",
    "        SvR[0,i,0] =  float(tmp.split()[1])\n",
    "        SvR[0,i,1] = -float(tmp.split()[2])\n",
    "        SvR[0,i,2] =  float(tmp.split()[3])\n",
    "        SvR[0,i,3] =  float(tmp.split()[4])\n",
    "        SvR[1,i,0] =  float(tmp.split()[5])\n",
    "        SvR[1,i,1] = -float(tmp.split()[6])\n",
    "        SvR[1,i,2] =  float(tmp.split()[7])\n",
    "        SvR[1,i,3] = -float(tmp.split()[8])\n",
    "        SvR[2,i,0] =  float(tmp.split()[9])\n",
    "        SvR[2,i,1] = -float(tmp.split()[10])\n",
    "        SvR[2,i,2] =  float(tmp.split()[11])\n",
    "        SvR[2,i,3] = -float(tmp.split()[12])\n",
    "        SvR[3,i,0] =  SvR[1,i,0] \n",
    "        SvR[3,i,1] =  SvR[1,i,1]\n",
    "        SvR[3,i,2] = -SvR[1,i,2]\n",
    "        SvR[3,i,3] =  SvR[1,i,3]\n",
    "    f.close()\n",
    "    mSvR.add_dataset('I_up (TOA)', SvR[:,:,0], ['Azimuth angles','Zenith angles'])\n",
    "    mSvR.add_dataset('Q_up (TOA)', SvR[:,:,1], ['Azimuth angles','Zenith angles'])\n",
    "    mSvR.add_dataset('U_up (TOA)', SvR[:,:,2], ['Azimuth angles','Zenith angles'])\n",
    "    mSvR.add_dataset('V_up (TOA)', SvR[:,:,3], ['Azimuth angles','Zenith angles'])\n",
    "\n",
    "    return mSvR\n",
    "\n",
    "filename =  ROOTPATH + '/smartg/validation/Rayleigh_refl_N_60.dat'\n",
    "mSvR60 = kokha_ray60(filename)"
   ]
  },
  {
   "cell_type": "markdown",
   "metadata": {
    "hide_input": true
   },
   "source": [
    "#### Select test case & run"
   ]
  },
  {
   "cell_type": "code",
   "execution_count": null,
   "metadata": {
    "ExecuteTime": {
     "end_time": "2020-03-09T16:38:00.560064Z",
     "start_time": "2020-03-09T16:37:59.805440Z"
    }
   },
   "outputs": [],
   "source": [
    "%%time\n",
    "TAU  = 0.3262\n",
    "wl   = 409.71678 # for information\n",
    "DEPO = 0.\n",
    "THS  = 60.\n",
    "atm = AtmAFGL('afglt', O3=0., NO2=False, tauR=TAU, grid='100[1]0')\n",
    "\n",
    "# subset of viewing angles (1 over 4)\n",
    "ref  = mSvR60.sub(d={'Zenith angles': slice(0,-1,4)})\n",
    "\n",
    "le={}\n",
    "le.update(th_deg = ref.axis('Zenith angles'))\n",
    "le.update(phi_deg= ref.axis('Azimuth angles'))\n",
    "print(le)\n",
    "\n",
    "Pfb=Smartg(pp     = True, \n",
    "           back   = False, \n",
    "           bias   = True, # Biased scattering sampling\n",
    "           double = True) "
   ]
  },
  {
   "cell_type": "code",
   "execution_count": null,
   "metadata": {
    "ExecuteTime": {
     "end_time": "2019-02-26T10:33:22.802211Z",
     "start_time": "2019-02-26T10:32:44.180543Z"
    },
    "scrolled": false
   },
   "outputs": [],
   "source": [
    "#mvalidb8 = Pfb.run(wl=wl, THVDEG=THS, DEPO=DEPO, atm=atm, le=le, NBPHOTONS=1e8, stdev=True, OUTPUT_LAYERS=0, SEED=1)\n",
    "#mvalidb8.save('/home/did/RTC/SMART-G/notebooks/Validation_paper_smartg/2018_v2/kokha_ray1e8.nc', overwrite=True)"
   ]
  },
  {
   "cell_type": "markdown",
   "metadata": {},
   "source": [
    "#### Compare"
   ]
  },
  {
   "cell_type": "code",
   "execution_count": null,
   "metadata": {
    "ExecuteTime": {
     "end_time": "2020-03-09T16:38:06.638696Z",
     "start_time": "2020-03-09T16:38:04.258768Z"
    }
   },
   "outputs": [],
   "source": [
    "mvalidb8=read_mlut('/home/did/RTC/SMART-G/notebooks/Validation_paper_smartg/2018_v2/kokha_ray1e8.nc')\n",
    "vmin= [0,-0.3,0.,0]\n",
    "vmax=[1,0.3, 0.3, 100]\n",
    "emax= [2e-4, 2e-4, 2e-4, 0.05]\n",
    "ermax= [0.05, 0.05, 0.05, 0.05] \n",
    "h=compare(mvalidb8, ref, Nparam=4, vmax=vmax, vmin=vmin, emax=emax, ermax=ermax, U_sign=1,\n",
    "          same_U_convention=False,\n",
    "          errb=True, logI=False, same_azimuth_convention=False, field='up (TOA)')"
   ]
  },
  {
   "cell_type": "code",
   "execution_count": null,
   "metadata": {
    "ExecuteTime": {
     "end_time": "2018-08-21T11:36:14.268642Z",
     "start_time": "2018-08-21T11:36:12.101223Z"
    }
   },
   "outputs": [],
   "source": [
    "## FIGURE 8\n",
    "#h.savefig('/home/did/RTC/SMART-G/notebooks/Validation_paper_smartg/2018_v2/kokha_ray1e8.png', dpi=300)"
   ]
  },
  {
   "cell_type": "code",
   "execution_count": null,
   "metadata": {
    "ExecuteTime": {
     "end_time": "2018-08-21T11:32:12.580446Z",
     "start_time": "2018-08-21T11:32:12.504565Z"
    },
    "scrolled": true
   },
   "outputs": [],
   "source": [
    "print ('Agreement with 10^8 photons is around of 0.02% in intensity and 0.02% in DoLP for 48 geometries \\n' + \\\n",
    "'kernel time (s) : %s'%mvalidb8.attrs['kernel time (s)'])"
   ]
  },
  {
   "cell_type": "code",
   "execution_count": null,
   "metadata": {
    "ExecuteTime": {
     "end_time": "2020-03-09T16:38:15.029778Z",
     "start_time": "2020-03-09T16:38:14.002064Z"
    }
   },
   "outputs": [],
   "source": [
    "Pfb=Smartg(pp     = True, \n",
    "           back   = False, \n",
    "           bias   = True, # Biased sampling\n",
    "           double = True) \n",
    "atm = AtmAFGL('afglt', O3=0., NO2=False, tauR=TAU, grid='100[1]0')"
   ]
  },
  {
   "cell_type": "code",
   "execution_count": null,
   "metadata": {
    "ExecuteTime": {
     "end_time": "2020-03-09T16:38:41.882725Z",
     "start_time": "2020-03-09T16:38:40.905919Z"
    },
    "run_control": {
     "marked": true
    }
   },
   "outputs": [],
   "source": [
    "mvalidb6 = Pfb.run(wl=wl, THVDEG=THS, DEPO=DEPO, atm=atm, le=le, NBPHOTONS=1e6, stdev=True, OUTPUT_LAYERS=0)"
   ]
  },
  {
   "cell_type": "code",
   "execution_count": null,
   "metadata": {
    "ExecuteTime": {
     "end_time": "2020-03-09T16:38:45.486347Z",
     "start_time": "2020-03-09T16:38:43.400219Z"
    },
    "run_control": {
     "marked": true
    },
    "scrolled": false
   },
   "outputs": [],
   "source": [
    "vmin= [0,-0.3,0.,0]\n",
    "vmax=[0.8,0.3, 0.3, 100]\n",
    "emax= [2e-3, 2e-3, 2e-3, 0.5]\n",
    "ermax= [0.05, 0.5, 0.5, 0.5] # from Khokanovsky MYSTIC performance\n",
    "h=compare(mvalidb6, ref, Nparam=4, vmax=vmax, vmin=vmin, emax=emax, ermax=ermax, U_sign=1, \n",
    "          same_U_convention=False, U_symetry=True,\n",
    "          errb=True, logI=False, same_azimuth_convention=False, field='up (TOA)')"
   ]
  },
  {
   "cell_type": "code",
   "execution_count": null,
   "metadata": {
    "ExecuteTime": {
     "end_time": "2019-02-26T10:33:28.924577Z",
     "start_time": "2019-02-26T10:33:28.879746Z"
    },
    "scrolled": true
   },
   "outputs": [],
   "source": [
    "print ('Agreement with 10^6 photons is around of 0.2% in intensity and 0.2% in DoLP for 48 geometries \\n' + \\\n",
    "'kernel time (s) : %s'%mvalidb6.attrs['kernel time (s)'])"
   ]
  },
  {
   "cell_type": "markdown",
   "metadata": {},
   "source": [
    "### Aerosols\n",
    " Atmosphere : Aerosols scattering with AOT=0.3262, SSA=1.,\n",
    "   AFGL MS and lat=0., NO gaseous absorption.\n",
    "    Solar zenith angle 60°\n",
    "    View zenith angle from 0 to 89° by steps of 2°\n"
   ]
  },
  {
   "cell_type": "markdown",
   "metadata": {},
   "source": [
    "#### Define functions & Read data"
   ]
  },
  {
   "cell_type": "code",
   "execution_count": null,
   "metadata": {
    "ExecuteTime": {
     "end_time": "2019-10-21T12:40:51.282904Z",
     "start_time": "2019-10-21T12:40:50.817270Z"
    },
    "hide_input": false,
    "scrolled": true
   },
   "outputs": [],
   "source": [
    "# Read and format Phase function (Once)\n",
    "if False:\n",
    "    tab=np.loadtxt(ROOTPATH + '/smartg/validation/opt_kokha_aer.dat', dtype=float, skiprows=17)\n",
    "    tab=tab[::-1,:]\n",
    "    tab[:,0]=np.arccos(tab[:,0])*180/np.pi\n",
    "    tab[:, 2], tab[:, 3] = tab[:, 3], (tab[:, 2].copy())\n",
    "    fout=open(ROOTPATH + '/smartg/validation/opt_kokha_aer_standard.dat','w')\n",
    "    fout2=open(ROOTPATH + '/smartg/validation/opt_kokha_aer_nostandard.dat','w')\n",
    "    n=tab[:,0].shape[0]\n",
    "    mu=np.cos(tab[:,0]*np.pi/180)\n",
    "    #print (np.trapz(tab[:,1],-mu))\n",
    "    for i in range(n):\n",
    "        fout.write((4*'{:14.7e} '+'{:14.7e}').format(*tab[i,:])+'\\n')\n",
    "        fout2.write((4*'{:14.7e} '+'{:14.7e}').format(tab[i,0],tab[i,1]+tab[i,2],tab[i,1]-tab[i,2],*tab[i,3:])+'\\n')\n",
    "    fout.close()\n",
    "    fout2.close()\n",
    "    \n",
    "pha=read_phase(ROOTPATH + '/smartg/validation/opt_kokha_aer_nostandard.dat')\n",
    "\n",
    "def kokha_aer60(filename) :\n",
    "    f = open(filename, 'r')\n",
    "    nvza=90\n",
    "    nraa=4\n",
    "    mSvR=MLUT()\n",
    "    mSvR.add_axis('Azimuth angles',np.linspace(0.,360.,num=nraa,endpoint=False))\n",
    "    mSvR.add_axis('Zenith angles',np.linspace(0.,90.,num=nvza,endpoint=False))\n",
    "    \n",
    "    SvR = np.zeros((nraa,nvza,4),dtype=float)\n",
    "    for i in range(nvza):\n",
    "        tmp = f.readline().split()\n",
    "        SvR[0,i,0] =  float(tmp[1])\n",
    "        SvR[0,i,1] = -float(tmp[2])\n",
    "        SvR[0,i,2] =  float(tmp[3])\n",
    "        SvR[0,i,3] =  float(tmp[4])\n",
    "        SvR[1,i,0] =  float(tmp[5])\n",
    "        SvR[1,i,1] = -float(tmp[6])\n",
    "        SvR[1,i,2] =  float(tmp[7])\n",
    "        SvR[1,i,3] = -float(tmp[8])\n",
    "        SvR[2,i,0] =  float(tmp[9])\n",
    "        SvR[2,i,1] = -float(tmp[10])\n",
    "        SvR[2,i,2] =  float(tmp[11])\n",
    "        SvR[2,i,3] = -float(tmp[12])\n",
    "        SvR[3,i,0] =  SvR[1,i,0] \n",
    "        SvR[3,i,1] =  SvR[1,i,1]\n",
    "        SvR[3,i,2] = -SvR[1,i,2]\n",
    "        SvR[3,i,3] =  SvR[1,i,3]\n",
    "    f.close()\n",
    "    mSvR.add_dataset('I_up (TOA)', SvR[:,:,0], ['Azimuth angles','Zenith angles'])\n",
    "    mSvR.add_dataset('Q_up (TOA)', SvR[:,:,1], ['Azimuth angles','Zenith angles'])\n",
    "    mSvR.add_dataset('U_up (TOA)', SvR[:,:,2], ['Azimuth angles','Zenith angles'])\n",
    "    mSvR.add_dataset('V_up (TOA)', SvR[:,:,3], ['Azimuth angles','Zenith angles'])\n",
    "\n",
    "    return mSvR\n",
    "\n",
    "filename =  ROOTPATH + '/smartg/validation/aerosol_refl_N_240.dat'\n",
    "mSvA60 = kokha_aer60(filename)"
   ]
  },
  {
   "cell_type": "markdown",
   "metadata": {
    "hide_input": true
   },
   "source": [
    "#### Select test case"
   ]
  },
  {
   "cell_type": "code",
   "execution_count": null,
   "metadata": {},
   "outputs": [],
   "source": [
    "TAU  = 0.3262\n",
    "wl   = 409.71678\n",
    "DEPO = 0.\n",
    "THS  = 60.\n",
    "\n",
    "# Aerosols 'maritime clean' model is erased by setting ssa=1 and phase matrix to pha\n",
    "aer=AerOPAC('maritime_clean', TAU, wl, ssa=1., phase=pha)\n",
    "atm  = AtmAFGL('afglt', O3=0., NO2=False, tauR=0., comp=[aer])\n",
    "\n",
    "# subset of viewing angles (1 over 2)\n",
    "ref  = mSvA60.sub(d={'Zenith angles': slice(0,-1,2)})\n",
    "\n",
    "le={}\n",
    "le.update(th_deg = ref.axis('Zenith angles'))\n",
    "le.update(phi_deg= ref.axis('Azimuth angles'))\n",
    "print(le)"
   ]
  },
  {
   "cell_type": "markdown",
   "metadata": {},
   "source": [
    "#### Run Local Estimate"
   ]
  },
  {
   "cell_type": "code",
   "execution_count": null,
   "metadata": {
    "ExecuteTime": {
     "end_time": "2019-04-29T08:58:50.159401Z",
     "start_time": "2019-04-29T08:58:50.067674Z"
    }
   },
   "outputs": [],
   "source": [
    "#%%time\n",
    "## We now run 10^9 photons\n",
    "#mvalidAb9 = Pfb.run(wl=wl, THVDEG=THS, DEPO=DEPO, atm=atm, le=le, NBPHOTONS=1e9, stdev=True, OUTPUT_LAYERS=0, SEED=1)\n",
    "#mvalidAb8.save('/home/did/RTC/SMART-G/notebooks/Validation_paper_smartg/2018_v2/kokha_aer1e9.nc', overwrite=True)"
   ]
  },
  {
   "cell_type": "code",
   "execution_count": null,
   "metadata": {
    "ExecuteTime": {
     "end_time": "2020-03-09T16:39:01.426154Z",
     "start_time": "2020-03-09T16:39:00.337111Z"
    }
   },
   "outputs": [],
   "source": [
    "%%time\n",
    "mvalidAb6 = Pfb.run(wl=wl, THVDEG=THS, DEPO=DEPO, atm=atm, le=le, NBPHOTONS=1e9, stdev=True, OUTPUT_LAYERS=0,\n",
    "                   NF=1e6, SEED=1)"
   ]
  },
  {
   "cell_type": "markdown",
   "metadata": {},
   "source": [
    "#### Compare"
   ]
  },
  {
   "cell_type": "code",
   "execution_count": null,
   "metadata": {
    "ExecuteTime": {
     "end_time": "2020-03-09T16:39:56.710611Z",
     "start_time": "2020-03-09T16:39:54.444290Z"
    },
    "scrolled": false
   },
   "outputs": [],
   "source": [
    "mvalidAb9 = read_mlut('/home/did/RTC/SMART-G/notebooks/Validation_paper_smartg/2018_v2/kokha_aer1e9.nc')\n",
    "vmax= [2,0.06,0.002,0.00002,50]\n",
    "vmin= [0,-0.12,-0.01,-0.00012,0]\n",
    "emax= [2e-4, 2e-4, 2e-4, 2e-5, 0.1]\n",
    "ermax= [.5, 2, 2, 20, 1] \n",
    "\n",
    "h=compare(mvalidAb9, ref, Nparam=5, vmax=vmax, vmin=vmin, emax=emax, ermax=ermax, U_sign=1, \n",
    "          same_U_convention=False, azimuth=[0,90],\n",
    "          errb=True, logI=False, same_azimuth_convention=False, field='up (TOA)')"
   ]
  },
  {
   "cell_type": "code",
   "execution_count": null,
   "metadata": {
    "ExecuteTime": {
     "end_time": "2019-10-21T12:41:12.950743Z",
     "start_time": "2019-10-21T12:41:10.011616Z"
    },
    "scrolled": false
   },
   "outputs": [],
   "source": [
    "vmax= [2,0.06,0.002,0.00002,50]\n",
    "vmin= [0,-0.12,-0.01,-0.00012,0]\n",
    "emax= [2e-4, 2e-4, 2e-4, 2e-5, 0.1]\n",
    "ermax= [.5, 2, 2, 20, 1] \n",
    "\n",
    "h=compare(mvalidAb6, ref, Nparam=5, vmax=vmax, vmin=vmin, emax=emax, ermax=ermax, U_sign=1, \n",
    "          same_U_convention=False, azimuth=[0,90],\n",
    "          errb=True, logI=False, same_azimuth_convention=False, field='up (TOA)')"
   ]
  },
  {
   "cell_type": "code",
   "execution_count": null,
   "metadata": {
    "ExecuteTime": {
     "end_time": "2018-08-21T11:52:28.031419Z",
     "start_time": "2018-08-21T11:52:24.885876Z"
    }
   },
   "outputs": [],
   "source": [
    "## FIGURE 9\n",
    "#h.savefig('/home/did/RTC/SMART-G/notebooks/Validation_paper_smartg/2018_v2/kokha_aer1e9.png', dpi=300)"
   ]
  },
  {
   "cell_type": "code",
   "execution_count": null,
   "metadata": {
    "ExecuteTime": {
     "end_time": "2019-04-29T08:59:10.794081Z",
     "start_time": "2019-04-29T08:59:08.378302Z"
    }
   },
   "outputs": [],
   "source": [
    "input_view(mvalidAb9)"
   ]
  },
  {
   "cell_type": "markdown",
   "metadata": {},
   "source": [
    "### Cloud\n",
    " Atmosphere : Cloud scattering with AOT=5.0, SSA=1.,\n",
    "   AFGL MS and lat=0., NO gaseous absorption.\n",
    "    Solar zenith angle 60°\n",
    "    View zenith angle from 0 to 89° by steps of 2°\n"
   ]
  },
  {
   "cell_type": "markdown",
   "metadata": {},
   "source": [
    "#### Define functions & Read data"
   ]
  },
  {
   "cell_type": "code",
   "execution_count": null,
   "metadata": {
    "ExecuteTime": {
     "end_time": "2020-03-09T16:40:03.409337Z",
     "start_time": "2020-03-09T16:40:02.595617Z"
    },
    "hide_input": false
   },
   "outputs": [],
   "source": [
    "# read and format phase function\n",
    "tab=np.loadtxt(ROOTPATH + '/smartg/validation/opt_kokha_cl.dat', dtype=float)\n",
    "tab=tab[::-1,:]\n",
    "tab[:,0]=np.arccos(tab[:,0])*180/np.pi\n",
    "tab[:, 2], tab[:, 3] = tab[:, 3], tab[:, 2].copy()\n",
    "fout=open(ROOTPATH + '/smartg/validation/opt_kokha_cl_standard.dat','w')\n",
    "fout2=open(ROOTPATH + '/smartg/validation/opt_kokha_cl_nostandard.dat','w')\n",
    "n=tab[:,0].shape[0]\n",
    "mu=np.cos(tab[:,0]*np.pi/180)\n",
    "#print (np.trapz(tab[:,1],-mu))\n",
    "for i in range(n):\n",
    "    fout.write((4*'{:14.7e} '+'{:14.7e}').format(*tab[i,:])+'\\n')\n",
    "    fout2.write((4*'{:14.7e} '+'{:14.7e}').format(tab[i,0],tab[i,1]+tab[i,2],tab[i,1]-tab[i,2],*tab[i,3:])+'\\n')\n",
    "fout.close()\n",
    "fout2.close()\n",
    "pha=read_phase(ROOTPATH + '/smartg/validation/opt_kokha_cl_nostandard.dat')\n",
    "\n",
    "def kokha_cl60(filename) :\n",
    "    f = open(filename, 'r')\n",
    "    nvza=90\n",
    "    nraa=4\n",
    "    mSvR=MLUT()\n",
    "    mSvR.add_axis('Azimuth angles',np.linspace(0.,360.,num=nraa,endpoint=False))\n",
    "    mSvR.add_axis('Zenith angles',np.linspace(0.,90.,num=nvza,endpoint=False))\n",
    "    \n",
    "    SvR = np.zeros((nraa,nvza,4),dtype=float)\n",
    "    for i in range(nvza):\n",
    "        tmp = f.readline().split()\n",
    "        SvR[0,i,0] =  float(tmp[1])\n",
    "        SvR[0,i,1] = -float(tmp[2])\n",
    "        SvR[0,i,2] =  float(tmp[3])\n",
    "        SvR[0,i,3] =  float(tmp[4])\n",
    "        SvR[1,i,0] =  float(tmp[5])\n",
    "        SvR[1,i,1] = -float(tmp[6])\n",
    "        SvR[1,i,2] =  float(tmp[7])\n",
    "        SvR[1,i,3] = -float(tmp[8])\n",
    "        SvR[2,i,0] =  float(tmp[9])\n",
    "        SvR[2,i,1] = -float(tmp[10])\n",
    "        SvR[2,i,2] =  float(tmp[11])\n",
    "        SvR[2,i,3] = -float(tmp[12])\n",
    "        SvR[3,i,0] =  SvR[1,i,0] \n",
    "        SvR[3,i,1] =  SvR[1,i,1]\n",
    "        SvR[3,i,2] = -SvR[1,i,2]\n",
    "        SvR[3,i,3] =  SvR[1,i,3]\n",
    "    f.close()\n",
    "    mSvR.add_dataset('I_up (TOA)', SvR[:,:,0], ['Azimuth angles','Zenith angles'])\n",
    "    mSvR.add_dataset('Q_up (TOA)', SvR[:,:,1], ['Azimuth angles','Zenith angles'])\n",
    "    mSvR.add_dataset('U_up (TOA)', SvR[:,:,2], ['Azimuth angles','Zenith angles'])\n",
    "    mSvR.add_dataset('V_up (TOA)', SvR[:,:,3], ['Azimuth angles','Zenith angles'])\n",
    "\n",
    "    return mSvR\n",
    "\n",
    "filename =  ROOTPATH + '/smartg/validation/cloud_refl_N_360.dat'\n",
    "mSvC60 = kokha_cl60(filename)"
   ]
  },
  {
   "cell_type": "markdown",
   "metadata": {},
   "source": [
    "#### Select test case"
   ]
  },
  {
   "cell_type": "code",
   "execution_count": null,
   "metadata": {
    "ExecuteTime": {
     "end_time": "2020-03-09T16:40:08.290337Z",
     "start_time": "2020-03-09T16:40:07.826996Z"
    },
    "scrolled": true
   },
   "outputs": [],
   "source": [
    "TAU  = 5.\n",
    "wl   = 409.71678\n",
    "DEPO = 0.\n",
    "THS  = 60.\n",
    "\n",
    "# Aerosols 'maritime clean' model is erased by setting ssa=1 and phase matrix to pha\n",
    "aer  = AerOPAC('maritime_clean', TAU, wl, ssa=1., phase=pha)\n",
    "atm  = AtmAFGL('afglt', O3=0., NO2=False, tauR=0., comp=[aer])\n",
    "\n",
    "# subset of viewing angles (1 over 2)\n",
    "ref  = mSvC60.sub(d={'Zenith angles': slice(0,-1,2)})\n",
    "\n",
    "le={}\n",
    "le.update(th_deg = ref.axis('Zenith angles'))\n",
    "le.update(phi_deg= ref.axis('Azimuth angles'))\n",
    "print(le)"
   ]
  },
  {
   "cell_type": "markdown",
   "metadata": {},
   "source": [
    "#### Run Local Estimate"
   ]
  },
  {
   "cell_type": "code",
   "execution_count": null,
   "metadata": {
    "ExecuteTime": {
     "end_time": "2018-09-21T12:37:53.187672Z",
     "start_time": "2018-09-21T12:37:39.578386Z"
    }
   },
   "outputs": [],
   "source": [
    "#%%time\n",
    "mvalidCb9 = Pfb.run(wl=wl, THVDEG=THS, DEPO=DEPO, atm=atm, le=le, NBPHOTONS=1e9, stdev=True, OUTPUT_LAYERS=0, SEED=1)\n",
    "#mvalidCb9.save('/home/did/RTC/SMART-G/notebooks/Validation_paper_smartg/2018_v2/kokha_cloud1e9.nc', overwrite=True)"
   ]
  },
  {
   "cell_type": "markdown",
   "metadata": {},
   "source": [
    "#### Compare"
   ]
  },
  {
   "cell_type": "code",
   "execution_count": null,
   "metadata": {
    "ExecuteTime": {
     "end_time": "2020-03-09T16:40:16.376391Z",
     "start_time": "2020-03-09T16:40:13.480375Z"
    },
    "scrolled": false
   },
   "outputs": [],
   "source": [
    "mvalidCb9 = read_mlut('/home/did/RTC/SMART-G/notebooks/Validation_paper_smartg/2018_v2/kokha_cloud1e9.nc')\n",
    "vmax= [3.,0.12,0.007,0.0001,50]\n",
    "vmin= [0,-0.12,-0.001,-0.0001,0]\n",
    "emax= [5e-3, 2e-3, 2e-3, 5e-5, .1]\n",
    "ermax= [1, 3, 10, 100, 10] # from Khokanovsky MYSTIC performance\n",
    "h=compare(mvalidCb9, ref, Nparam=5, vmax=vmax, vmin=vmin, emax=emax, ermax=ermax, U_sign=1, \n",
    "          same_U_convention=False, azimuth=[0,90],\n",
    "          errb=True, logI=False, same_azimuth_convention=False, field='up (TOA)')"
   ]
  },
  {
   "cell_type": "code",
   "execution_count": null,
   "metadata": {},
   "outputs": [],
   "source": [
    "vmax= [3.,0.12,0.007,0.0001,50]\n",
    "vmin= [0,-0.12,-0.001,-0.0001,0]\n",
    "emax= [5e-3, 2e-3, 2e-3, 5e-5, .1]\n",
    "ermax= [1, 3, 10, 100, 10] # from Khokanovsky MYSTIC performance\n",
    "h=compare(mvalidCb9, ref, Nparam=5, vmax=vmax, vmin=vmin, emax=emax, ermax=ermax, U_sign=1, \n",
    "          same_U_convention=False, azimuth=[0,90],\n",
    "          errb=True, logI=False, same_azimuth_convention=False, field='up (TOA)')"
   ]
  },
  {
   "cell_type": "code",
   "execution_count": null,
   "metadata": {
    "ExecuteTime": {
     "end_time": "2019-04-29T08:59:30.816496Z",
     "start_time": "2019-04-29T08:59:30.724426Z"
    }
   },
   "outputs": [],
   "source": [
    "## FIGURE 10\n",
    "#h.savefig('/home/did/RTC/SMART-G/notebooks/Validation_paper_smartg/2018_v2/kokha_cloud_1e9_LE.png', dpi=300)"
   ]
  },
  {
   "cell_type": "code",
   "execution_count": null,
   "metadata": {
    "ExecuteTime": {
     "end_time": "2020-03-09T16:40:23.868525Z",
     "start_time": "2020-03-09T16:40:22.557702Z"
    },
    "scrolled": false
   },
   "outputs": [],
   "source": [
    "p,axes=phase_view(mvalidCb9)\n",
    "_=phase_view(mvalidCb9, fig=p, axarr=axes)"
   ]
  },
  {
   "cell_type": "markdown",
   "metadata": {},
   "source": [
    "## Atmosphere-Glitter: IRS- IPRT Test case A6\n",
    "This code enables testing the Rayleigh and ocean surface <br>"
   ]
  },
  {
   "cell_type": "markdown",
   "metadata": {},
   "source": [
    "### Define functions & Read data"
   ]
  },
  {
   "cell_type": "code",
   "execution_count": null,
   "metadata": {
    "ExecuteTime": {
     "end_time": "2020-03-09T16:40:28.785253Z",
     "start_time": "2020-03-09T16:40:28.426058Z"
    },
    "run_control": {
     "marked": false
    }
   },
   "outputs": [],
   "source": [
    "def read_shdom():\n",
    "    \n",
    "    f_iprt = ROOTPATH + \"/smartg/validation/iprt_case_a6_shdom3.dat\"\n",
    "    th0    = 45.\n",
    "    thv    = np.arange(0.0, 85.0, 5.)\n",
    "    phi    = np.arange(0.0, 365.0, 5.)\n",
    "    \n",
    "    mSvRG = MLUT()\n",
    "    mSvRG.add_axis('Azimuth angles', phi)\n",
    "    mSvRG.add_axis('Zenith angles',  thv)\n",
    "    \n",
    "    f=open(f_iprt)\n",
    "    f.readline()\n",
    "    f.readline()\n",
    "    f.readline()\n",
    "    for lev2 in ['down (0+)','up (TOA)']:\n",
    "        I = np.full( (len(phi), len(thv) ), np.nan)\n",
    "        Q = np.full( (len(phi), len(thv) ), np.nan)\n",
    "        U = np.full( (len(phi), len(thv) ), np.nan)\n",
    "        V = np.full( (len(phi), len(thv) ), np.nan)\n",
    "        for imu in range(len(thv)):\n",
    "            for iphi in range(len(phi)):   \n",
    "                tmp = f.readline().split()\n",
    "                I[-iphi-1,-imu-1] = float(tmp[6]) * np.pi/np.cos(th0*np.pi/180)\n",
    "                Q[-iphi-1,-imu-1] = float(tmp[7]) * np.pi/np.cos(th0*np.pi/180)\n",
    "                U[-iphi-1,-imu-1] = float(tmp[8]) * np.pi/np.cos(th0*np.pi/180)\n",
    "                V[-iphi-1,-imu-1] = float(tmp[9]) * np.pi/np.cos(th0*np.pi/180)\n",
    "\n",
    "        mSvRG.add_dataset('I_'+lev2, I, [\"Azimuth angles\",\"Zenith angles\"])\n",
    "        mSvRG.add_dataset('Q_'+lev2, Q, [\"Azimuth angles\",\"Zenith angles\"])\n",
    "        mSvRG.add_dataset('U_'+lev2, U, [\"Azimuth angles\",\"Zenith angles\"])\n",
    "        mSvRG.add_dataset('V_'+lev2, V, [\"Azimuth angles\",\"Zenith angles\"])\n",
    "        mSvRG.add_dataset('N_'+lev2, np.zeros_like(I),   [\"Azimuth angles\",\"Zenith angles\"])\n",
    "\n",
    "    return mSvRG \n",
    "\n",
    "shdom=read_shdom()\n",
    "\n",
    "def read_mystic():\n",
    "    \n",
    "    f_iprt = ROOTPATH + '/smartg/validation/iprt_case_a6_mystic.dat'\n",
    "    th0    = 45.\n",
    "    thv    = np.arange(0.0, 85.0, 5.)\n",
    "    phi    = np.arange(360,-5, -5.)\n",
    "    phi2   = np.arange(180.0, -5.0, -5.)\n",
    "    \n",
    "    mSvRG = MLUT()\n",
    "    mSvRG.add_axis('Azimuth angles', phi[::-1])\n",
    "    mSvRG.add_axis('Zenith angles',  thv)\n",
    "    \n",
    "    f=open(f_iprt)\n",
    "    f.readline()\n",
    "    f.readline()\n",
    "    f.readline()\n",
    "    #for (lev,lev2) in zip(['UP'],['up (TOA)']):\n",
    "    for lev2 in ['down (0+)','up (TOA)']:\n",
    "        I = np.full( (len(phi), len(thv) ), np.nan)\n",
    "        Q = np.full( (len(phi), len(thv) ), np.nan)\n",
    "        U = np.full( (len(phi), len(thv) ), np.nan)\n",
    "        V = np.full( (len(phi), len(thv) ), np.nan)\n",
    "        Is = np.full( (len(phi), len(thv) ), np.nan)\n",
    "        Qs = np.full( (len(phi), len(thv) ), np.nan)\n",
    "        Us = np.full( (len(phi), len(thv) ), np.nan)\n",
    "        Vs = np.full( (len(phi), len(thv) ), np.nan)\n",
    "        for imu in range(len(thv)):\n",
    "            for iphi2 in range(len(phi2)): \n",
    "                tmp = f.readline().split()\n",
    "                #print phi2(iphi), thv[imu]\n",
    "                iphi = len(phi2)-iphi2-1\n",
    "                I[iphi,-imu-1] = float(tmp[6]) * np.pi/np.cos(th0*np.pi/180)\n",
    "                Q[iphi,-imu-1] = float(tmp[7]) * np.pi/np.cos(th0*np.pi/180)\n",
    "                U[iphi,-imu-1] = float(tmp[8]) * np.pi/np.cos(th0*np.pi/180)\n",
    "                V[iphi,-imu-1] = float(tmp[9]) * np.pi/np.cos(th0*np.pi/180)\n",
    "                Is[iphi,-imu-1] = float(tmp[10]) * np.pi/np.cos(th0*np.pi/180)\n",
    "                Qs[iphi,-imu-1] = float(tmp[11]) * np.pi/np.cos(th0*np.pi/180)\n",
    "                Us[iphi,-imu-1] = float(tmp[12]) * np.pi/np.cos(th0*np.pi/180)\n",
    "                Vs[iphi,-imu-1] = float(tmp[13]) * np.pi/np.cos(th0*np.pi/180)\n",
    "                I[-iphi-1,-imu-1] = I[iphi,-imu-1]\n",
    "                Q[-iphi-1,-imu-1] = Q[iphi,-imu-1]\n",
    "                U[-iphi-1,-imu-1] = U[iphi,-imu-1]\n",
    "                V[-iphi-1,-imu-1] = V[iphi,-imu-1]\n",
    "                Is[-iphi-1,-imu-1] = Is[iphi,-imu-1]\n",
    "                Qs[-iphi-1,-imu-1] = Qs[iphi,-imu-1]\n",
    "                Us[-iphi-1,-imu-1] = Us[iphi,-imu-1]\n",
    "                Vs[-iphi-1,-imu-1] = Vs[iphi,-imu-1]\n",
    "\n",
    "\n",
    "        mSvRG.add_dataset('I_'+lev2, I, [\"Azimuth angles\",\"Zenith angles\"])\n",
    "        mSvRG.add_dataset('Q_'+lev2, Q, [\"Azimuth angles\",\"Zenith angles\"])\n",
    "        mSvRG.add_dataset('U_'+lev2, U, [\"Azimuth angles\",\"Zenith angles\"])\n",
    "        mSvRG.add_dataset('V_'+lev2, V, [\"Azimuth angles\",\"Zenith angles\"])\n",
    "        mSvRG.add_dataset('N_'+lev2, np.zeros_like(I),   [\"Azimuth angles\",\"Zenith angles\"])\n",
    "        mSvRG.add_dataset('I_stdev_'+lev2, Is, [\"Azimuth angles\",\"Zenith angles\"])\n",
    "        mSvRG.add_dataset('Q_stdev_'+lev2, Qs, [\"Azimuth angles\",\"Zenith angles\"])\n",
    "        mSvRG.add_dataset('U_stdev_'+lev2, Us, [\"Azimuth angles\",\"Zenith angles\"])\n",
    "        mSvRG.add_dataset('V_stdev_'+lev2, Vs, [\"Azimuth angles\",\"Zenith angles\"])\n",
    "\n",
    "    return mSvRG \n",
    "\n",
    "mystic=read_mystic()"
   ]
  },
  {
   "cell_type": "markdown",
   "metadata": {},
   "source": [
    "### Select test case and run\n",
    "\n",
    "    Atmosphere : Rayleigh scattering with 1 wavelengths for which OT=0.1, depolarization factor 0.03,\n",
    "    it gives lambda=549.0904 nm with AFGL MS and lat=0., NO gaseous absorption.\n",
    "    Ocean: Cox and Munk isotropic with n=1.33-0*i and w=2 m/s, including wave shadows: ! BRDF modeling"
   ]
  },
  {
   "cell_type": "code",
   "execution_count": null,
   "metadata": {
    "ExecuteTime": {
     "end_time": "2020-03-09T16:40:33.432326Z",
     "start_time": "2020-03-09T16:40:33.022840Z"
    },
    "run_control": {
     "marked": false
    }
   },
   "outputs": [],
   "source": [
    "TAU = 0.1\n",
    "THS = 45.\n",
    "DEPO= 0.03\n",
    "atm = AtmAFGL('afglt', O3=0., NO2=False, tauR=TAU, grid=np.linspace(100.,0.,num=100))\n",
    "\n",
    "refs = shdom.sub(d={'Zenith angles': slice(0,None,1),'Azimuth angles':slice(0,-1,9)})\n",
    "refm = mystic.sub(d={'Zenith angles': slice(0,None,1),'Azimuth angles':slice(0,-1,9)})\n",
    "\n",
    "le={}\n",
    "le.update(th_deg = refs.axis('Zenith angles'))\n",
    "le.update(phi_deg= refs.axis('Azimuth angles'))\n",
    "print(le)"
   ]
  },
  {
   "cell_type": "code",
   "execution_count": null,
   "metadata": {
    "ExecuteTime": {
     "end_time": "2020-03-09T16:40:36.337436Z",
     "start_time": "2020-03-09T16:40:34.203439Z"
    },
    "run_control": {
     "marked": false
    }
   },
   "outputs": [],
   "source": [
    "# differences between MYSTIC and SHDOM\n",
    "vmin= np.concatenate((np.array([0, -0.2, 0])/np.cos(THS*np.pi/180)*np.pi,np.array([0.])))\n",
    "vmax= np.concatenate((np.array([0.2, 0.02, 0.04])/np.cos(THS*np.pi/180)*np.pi,np.array([100.])))\n",
    "emax= np.concatenate((np.array([3e-4, 3e-4, 3e-4])/np.cos(THS*np.pi/180)*np.pi,np.array([1])))\n",
    "ermax= [1, 1, 1, 1] # Similar scale as IPRT paper\n",
    "h=compare(refm, refs, Nparam=4, vmax=vmax, vmin=vmin, emax=emax, ermax=ermax, U_sign=+1,\n",
    "          errb=True, logI=False, same_azimuth_convention=False, field='up (TOA)')"
   ]
  },
  {
   "cell_type": "code",
   "execution_count": null,
   "metadata": {
    "ExecuteTime": {
     "end_time": "2019-02-26T10:34:06.195028Z",
     "start_time": "2019-02-26T10:34:06.151850Z"
    }
   },
   "outputs": [],
   "source": [
    "#h.savefig('/home/did/RTC/SMART-G/notebooks/Validation_paper_smartg/2018_v2/iprt_case_a6_mystic_shdom_1e8.png', dpi=300)"
   ]
  },
  {
   "cell_type": "code",
   "execution_count": null,
   "metadata": {
    "ExecuteTime": {
     "end_time": "2020-03-09T16:40:42.758391Z",
     "start_time": "2020-03-09T16:40:42.102923Z"
    }
   },
   "outputs": [],
   "source": [
    "Pfb=Smartg(pp     = True, \n",
    "           back   = False, \n",
    "           bias   = True, # biased sampling\n",
    "           double = True) "
   ]
  },
  {
   "cell_type": "markdown",
   "metadata": {},
   "source": [
    "#### with wave facet sampling"
   ]
  },
  {
   "cell_type": "code",
   "execution_count": null,
   "metadata": {
    "ExecuteTime": {
     "end_time": "2020-03-09T16:40:49.009751Z",
     "start_time": "2020-03-09T16:40:47.615447Z"
    },
    "scrolled": true
   },
   "outputs": [],
   "source": [
    "%%time\n",
    "surf= RoughSurface(SUR=1, WIND=2., NH2O=1.33, WAVE_SHADOW=True, SINGLE=True)\n",
    "a6valid8_wfs = Pfb.run(wl=320.,THVDEG=THS, DEPO=DEPO, atm=atm, le=le, surf=surf, NBPHOTONS=1e8, stdev=True, \n",
    "                  OUTPUT_LAYERS=0)"
   ]
  },
  {
   "cell_type": "code",
   "execution_count": null,
   "metadata": {
    "ExecuteTime": {
     "end_time": "2020-03-09T16:40:49.870927Z",
     "start_time": "2020-03-09T16:40:49.800225Z"
    }
   },
   "outputs": [],
   "source": [
    "#a6valid8_wfs.save('/home/did/RTC/SMART-G/notebooks/Validation_paper_smartg/2018_v2/a6valid8_wfs.nc', overwrite=True)\n",
    "#a6valid8_wfs.save('/home/did/RTC/SMART-G/notebooks/Validation_paper_smartg/2018_v2/a6valid8_wfs_single.nc', overwrite=True)"
   ]
  },
  {
   "cell_type": "code",
   "execution_count": null,
   "metadata": {
    "ExecuteTime": {
     "end_time": "2020-03-09T16:40:52.557007Z",
     "start_time": "2020-03-09T16:40:50.387208Z"
    },
    "scrolled": false
   },
   "outputs": [],
   "source": [
    "#a6valid8_wfs=read_mlut('/home/did/RTC/SMART-G/notebooks/Validation_paper_smartg/2018_v2/a6valid8_wfs.nc')\n",
    "vmin= np.concatenate((np.array([0, -0.2, -0])/np.cos(THS*np.pi/180)*np.pi,np.array([0.])))\n",
    "vmax= np.concatenate((np.array([0.2, 0.02, 0.04])/np.cos(THS*np.pi/180)*np.pi,np.array([100.])))\n",
    "emax= np.concatenate((np.array([3e-4, 3e-4, 3e-4])/np.cos(THS*np.pi/180)*np.pi,np.array([1])))\n",
    "ermax= [1, 1, 1, 1] # Similar scale as IPRT paper\n",
    "h=compare(a6valid8_wfs, refs, Nparam=4, vmax=vmax, vmin=vmin, emax=emax, ermax=ermax, U_sign=1,\n",
    "          same_U_convention=False,\n",
    "          errb=True, logI=False, same_azimuth_convention=False, field='up (TOA)')"
   ]
  },
  {
   "cell_type": "code",
   "execution_count": null,
   "metadata": {
    "ExecuteTime": {
     "end_time": "2020-03-09T16:40:52.584817Z",
     "start_time": "2020-03-09T16:40:52.559250Z"
    }
   },
   "outputs": [],
   "source": [
    "# FIGURE 11 (complement)\n",
    "#h.savefig('/home/did/RTC/SMART-G/notebooks/Validation_paper_smartg/2018_v2/iprt_case_a6_smartg_wfs_shdom_1e8.png', dpi=300)\n",
    "#h.savefig('/home/did/RTC/SMART-G/notebooks/Validation_paper_smartg/2018_v2/iprt_case_a6_smartg_wfs_single_shdom_1e8.png', dpi=300)"
   ]
  },
  {
   "cell_type": "markdown",
   "metadata": {},
   "source": [
    "#### with BRDF sampling"
   ]
  },
  {
   "cell_type": "code",
   "execution_count": null,
   "metadata": {
    "ExecuteTime": {
     "end_time": "2020-03-09T16:41:00.408515Z",
     "start_time": "2020-03-09T16:40:56.269250Z"
    }
   },
   "outputs": [],
   "source": [
    "%%time\n",
    "surf= RoughSurface(SUR=1, WIND=2., NH2O=1.33, WAVE_SHADOW=True, BRDF=True)\n",
    "a6valid8_bs = Pfb.run(wl=320.,THVDEG=THS, DEPO=DEPO, atm=atm, le=le, surf=surf, NBPHOTONS=1e7, stdev=True, \n",
    "                  OUTPUT_LAYERS=0)"
   ]
  },
  {
   "cell_type": "code",
   "execution_count": null,
   "metadata": {
    "ExecuteTime": {
     "end_time": "2020-03-09T16:41:04.857562Z",
     "start_time": "2020-03-09T16:41:02.733068Z"
    },
    "scrolled": false
   },
   "outputs": [],
   "source": [
    "vmin= np.concatenate((np.array([0, -0.2, 0])/np.cos(THS*np.pi/180)*np.pi,np.array([0.])))\n",
    "vmax= np.concatenate((np.array([0.2, 0.02, 0.04])/np.cos(THS*np.pi/180)*np.pi,np.array([100.])))\n",
    "emax= np.concatenate((np.array([3e-4, 3e-4, 3e-4])/np.cos(THS*np.pi/180)*np.pi,np.array([1])))\n",
    "ermax= [1, 1, 1, 1] # Similar scale as IPRT paper\n",
    "h=compare(a6valid8_bs, refs, Nparam=4, vmax=vmax, vmin=vmin, emax=emax, ermax=ermax, U_sign=1,\n",
    "          errb=True, logI=False, same_U_convention=False, same_azimuth_convention=False, field='up (TOA)')"
   ]
  },
  {
   "cell_type": "code",
   "execution_count": null,
   "metadata": {
    "ExecuteTime": {
     "end_time": "2018-08-22T13:45:52.774939Z",
     "start_time": "2018-08-22T13:45:50.383109Z"
    }
   },
   "outputs": [],
   "source": [
    "# FIGURE 11\n",
    "# h.savefig('/home/did/RTC/SMART-G/notebooks/Validation_paper_smartg/2018_v2/iprt_case_a6_smartg_brdf_shdom_1e8.png', dpi=300)"
   ]
  },
  {
   "cell_type": "markdown",
   "metadata": {},
   "source": [
    "## Atmosphere-Glitter-Ocean : Examples"
   ]
  },
  {
   "cell_type": "code",
   "execution_count": null,
   "metadata": {
    "ExecuteTime": {
     "end_time": "2019-10-21T12:43:24.126098Z",
     "start_time": "2019-10-21T12:43:22.290341Z"
    }
   },
   "outputs": [],
   "source": [
    "# Complete Simulation\n",
    "wl   = [450.]\n",
    "surf = RoughSurface(SUR=3, WIND=7., NH2O=1.34, WAVE_SHADOW=True)\n",
    "atm  = AtmAFGL('afglms', O3=0., NO2=False)\n",
    "water= IOP_1(chl=1., pfwav=[450.], DEPTH=10., ALB=Albedo_cst(0.)) \n",
    "TH0  = 45.\n",
    "S=Smartg(double=True, alt_pp=True)\n",
    "NBPHOTONS=1e9"
   ]
  },
  {
   "cell_type": "code",
   "execution_count": null,
   "metadata": {
    "ExecuteTime": {
     "end_time": "2019-10-21T12:44:24.247979Z",
     "start_time": "2019-10-21T12:43:30.566232Z"
    }
   },
   "outputs": [],
   "source": [
    "%%time\n",
    "# Cone sampling with 10^9 photons\n",
    "mc9=S.run(THVDEG=TH0, wl=wl, le=None, surf=surf, water=water, atm=atm, NBTHETA=17, NBPHI=16,\n",
    "                        NBPHOTONS=NBPHOTONS, BEER=1, OUTPUT_LAYERS=3, stdev=True)"
   ]
  },
  {
   "cell_type": "code",
   "execution_count": null,
   "metadata": {
    "ExecuteTime": {
     "end_time": "2019-10-21T12:45:05.337277Z",
     "start_time": "2019-10-21T12:44:45.123128Z"
    }
   },
   "outputs": [],
   "source": [
    "%%time\n",
    "# Local Estimate with 10^7 photons\n",
    "le={'th_deg':mc9.axis('Zenith angles'), 'phi_deg':mc9.axis('Azimuth angles')}\n",
    "mle7=S.run(THVDEG=TH0, wl=wl, le=le, surf=surf, water=water, atm=atm,\n",
    "                        NBPHOTONS=1e6, BEER=1, OUTPUT_LAYERS=3, stdev=True)"
   ]
  },
  {
   "cell_type": "code",
   "execution_count": null,
   "metadata": {
    "ExecuteTime": {
     "end_time": "2019-10-21T12:45:15.030834Z",
     "start_time": "2019-10-21T12:45:07.786224Z"
    },
    "scrolled": false
   },
   "outputs": [],
   "source": [
    "# Cone sampling graphs\n",
    "# FIGURES 12-17\n",
    "fname='/home/did/RTC/SMART-G/notebooks/Validation_paper_smartg/2018_v2/example_output_cone_'\n",
    "for field in ['up (TOA)','up (0+)', 'up (0-)','down (0+)','down (0-)','down (B)']:\n",
    "    t=smartg_view(mc9.sub({'wavelength':0}), Imin=-2.5, Imax=0.5, field=field, \n",
    "                  Circ=False, QU=False, logI=True, ind=Idx([0,90]), full=False)\n",
    "    #t.savefig(fname+field.replace(\" \",\"\").replace(\"(\",\"\").replace(\")\",\"\"), dpi=600)"
   ]
  },
  {
   "cell_type": "code",
   "execution_count": null,
   "metadata": {
    "ExecuteTime": {
     "end_time": "2019-10-21T12:45:24.745003Z",
     "start_time": "2019-10-21T12:45:17.371031Z"
    },
    "scrolled": false
   },
   "outputs": [],
   "source": [
    "# Local Estimate graphs\n",
    "fname='/home/did/RTC/SMART-G/notebooks/Validation_paper_smartg/2018_v2/example_output_le_'\n",
    "for field in ['up (TOA)','up (0+)', 'up (0-)','down (0+)','down (0-)','down (B)']:\n",
    "    t=smartg_view(mle7.sub({'wavelength':0}), Imin=-2.5, Imax=0.5, field=field, \n",
    "                  Circ=False, QU=False, logI=True, ind=Idx([0,90]), full=False)\n",
    "    #t.savefig(fname+field.replace(\" \",\"\").replace(\"(\",\"\").replace(\")\",\"\"), dpi=600)"
   ]
  },
  {
   "cell_type": "markdown",
   "metadata": {},
   "source": [
    "## Paper SMART-G, performance"
   ]
  },
  {
   "cell_type": "markdown",
   "metadata": {},
   "source": [
    "### One Geometry, Plane Parallel, LE, Rayleigh, in double precision, "
   ]
  },
  {
   "cell_type": "code",
   "execution_count": null,
   "metadata": {
    "ExecuteTime": {
     "end_time": "2020-03-14T14:16:25.004493Z",
     "start_time": "2020-03-14T14:16:23.691270Z"
    }
   },
   "outputs": [],
   "source": [
    "wl=[443.]\n",
    "atm=AtmAFGL('afglt', NO2=False, O3=0., grid=np.linspace(120,0,num=50), tauR=0.235).calc(wl)\n",
    "S=Smartg(pp=True, double=True, alt_pp=False)\n",
    "NF=1e3"
   ]
  },
  {
   "cell_type": "code",
   "execution_count": null,
   "metadata": {
    "ExecuteTime": {
     "end_time": "2020-03-14T14:17:51.524509Z",
     "start_time": "2020-03-14T14:17:51.417359Z"
    }
   },
   "outputs": [],
   "source": [
    "NBPHOTONS= 1e6\n",
    "NBLOOP   = max(1e6, NBPHOTONS)\n",
    "NG=1\n",
    "le={}\n",
    "le.update(phi=np.array([90.]*NG)*np.pi/180,dtype=np.float32)\n",
    "le.update(th=np.array([0.])*np.pi/180,dtype=np.float32)"
   ]
  },
  {
   "cell_type": "code",
   "execution_count": null,
   "metadata": {
    "ExecuteTime": {
     "end_time": "2020-03-14T14:17:53.244103Z",
     "start_time": "2020-03-14T14:17:53.020317Z"
    },
    "scrolled": true
   },
   "outputs": [],
   "source": [
    "%%time\n",
    "m=S.run(THVDEG=30., wl=wl, NBPHOTONS=NBPHOTONS, NBLOOP=NBLOOP, le=le, atm=atm, stdev=True, NF=NF, DEPO=0., SEED=1)\n",
    "\n",
    "mean=m['I_up (TOA)'].data[0][0]\n",
    "std=m['I_stdev_up (TOA)'].data[0][0]\n",
    "print ('N Geometry: %i, kernel time: %s s, dI/I=%.3e)'%(NG,m.attrs['kernel time (s)'],std/mean))\n",
    "print ('                total time: %s s\\n'%(m.attrs['processing time (s)']))"
   ]
  },
  {
   "cell_type": "markdown",
   "metadata": {},
   "source": [
    "### One Geometry, Plane Parallel, LE, full simulation, in double precision"
   ]
  },
  {
   "cell_type": "code",
   "execution_count": null,
   "metadata": {
    "ExecuteTime": {
     "end_time": "2020-03-14T14:18:05.024571Z",
     "start_time": "2020-03-14T14:18:04.209413Z"
    },
    "scrolled": false
   },
   "outputs": [],
   "source": [
    "wl=[443.]\n",
    "NF=1e5\n",
    "DEPTH=100.\n",
    "water=IOP_1(0.1, DEPTH=DEPTH)\n",
    "atm=AtmAFGL('afglt', NO2=False, O3=0., grid=np.linspace(120,0,num=50), tauR=0.235).calc(wl)\n",
    "\n",
    "surf=RoughSurface(SUR=3, NH2O=1.34, WIND=10., SINGLE=False)\n",
    "pp=True\n",
    "S=Smartg(pp=pp, double=True, alt_pp=True)"
   ]
  },
  {
   "cell_type": "code",
   "execution_count": null,
   "metadata": {
    "ExecuteTime": {
     "end_time": "2020-03-14T14:18:27.212436Z",
     "start_time": "2020-03-14T14:18:26.508425Z"
    },
    "scrolled": true
   },
   "outputs": [],
   "source": [
    "NBPHOTONS=1e6\n",
    "NBLOOP   = max(1e6, NBPHOTONS)\n",
    "NG=10\n",
    "le={}\n",
    "le.update(phi=np.array([90.]*NG)*np.pi/180,dtype=np.float32)\n",
    "le.update(th=np.array([60.])*np.pi/180,dtype=np.float32)\n",
    "m50le=S.run(THVDEG=30., wl=wl, NBPHOTONS=NBPHOTONS,NBLOOP=NBLOOP, le=le, NF=NF,\n",
    "       atm=atm, water=water, surf=surf, OUTPUT_LAYERS=0, stdev=True, SEED=1)\n",
    "mean=m50le['I_up (TOA)'].data[0][0]\n",
    "std=m50le['I_stdev_up (TOA)'].data[0][0]\n",
    "print ('PP: %s, N Geometry: %i, kernel time: %s s, dI/I=%.3e'%(pp,NG,m50le.attrs['kernel time (s)'],std/mean))\n",
    "print ('                total time: %s s\\n'%(m50le.attrs['processing time (s)']))"
   ]
  },
  {
   "cell_type": "markdown",
   "metadata": {},
   "source": [
    "### Variation with number of geometries, PP versus spherical"
   ]
  },
  {
   "cell_type": "markdown",
   "metadata": {},
   "source": [
    "#### Pure atmosphere"
   ]
  },
  {
   "cell_type": "code",
   "execution_count": null,
   "metadata": {
    "ExecuteTime": {
     "end_time": "2020-03-14T14:18:41.942878Z",
     "start_time": "2020-03-14T14:18:40.272583Z"
    }
   },
   "outputs": [],
   "source": [
    "SP=Smartg(pp=True,  double=True) # quick PP move\n",
    "SP2=Smartg(pp=True,  double=True, alt_pp=True) # alternative PP move (similar to SP)\n",
    "SS=Smartg(pp=False, double=True)"
   ]
  },
  {
   "cell_type": "code",
   "execution_count": null,
   "metadata": {
    "ExecuteTime": {
     "end_time": "2020-03-14T14:18:58.100693Z",
     "start_time": "2020-03-14T14:18:57.578929Z"
    },
    "scrolled": false
   },
   "outputs": [],
   "source": [
    "NBPHOTONS=1e6\n",
    "NBLOOP   = max(1e6, NBPHOTONS)\n",
    "wl=[443.]\n",
    "NF=1e3\n",
    "atm=AtmAFGL('afglt', NO2=False, O3=0., grid=np.linspace(120,0,num=50), tauR=0.235).calc(wl)\n",
    "for S,pp in zip([SP,SP2,SS],[True, True, False]):   \n",
    "    for NG in [10]:\n",
    "        le={}\n",
    "        le.update(phi=np.array([90.]*NG)*np.pi/180,dtype=np.float32)\n",
    "        le.update(th=np.array([0.])*np.pi/180,dtype=np.float32)\n",
    "        m50le=S.run(THVDEG=30., wl=wl, NBPHOTONS=NBPHOTONS, NBLOOP=NBLOOP, le=le, NF=NF, SEED=1,\n",
    "            atm=atm, water=None, surf=None, OUTPUT_LAYERS=0, stdev=False)\n",
    "        print ('PP: %s, N Geometry: %i, kernel time: %s s'%(pp,NG,m50le.attrs['kernel time (s)']))\n",
    "        print ('                total time: %s s\\n'%(m50le.attrs['processing time (s)']))    "
   ]
  },
  {
   "cell_type": "markdown",
   "metadata": {},
   "source": [
    "#### full simulation"
   ]
  },
  {
   "cell_type": "code",
   "execution_count": null,
   "metadata": {
    "ExecuteTime": {
     "end_time": "2020-03-14T14:19:31.501780Z",
     "start_time": "2020-03-14T14:19:24.199622Z"
    },
    "run_control": {
     "marked": true
    }
   },
   "outputs": [],
   "source": [
    "NBPHOTONS=1e6\n",
    "NF=1e5\n",
    "atm=AtmAFGL('afglt', NO2=False, O3=0., grid=np.linspace(120,0,num=50), tauR=0.235).calc(wl)\n",
    "DEPTH=10.\n",
    "water=IOP_1(0.1, DEPTH=DEPTH)\n",
    "surf=RoughSurface(SUR=3, NH2O=1.34, WIND=10., SINGLE=False)\n",
    "for S,pp in zip([SP,SS],[True, False]):  \n",
    "    for NG in [1, 10, 100]:\n",
    "        le.update(phi=np.array([90.]*NG)*np.pi/180,dtype=np.float32)\n",
    "        m50le=S.run(THVDEG=30., wl=wl, NBPHOTONS=NBPHOTONS, le=le, NF=NF, SEED=1,\n",
    "            atm=atm, water=water, surf=surf, OUTPUT_LAYERS=0, stdev=False)\n",
    "        print ('PP: %s, N Geometry: %i, kernel time: %s s'%(pp,NG,m50le.attrs['kernel time (s)']))\n",
    "        print ('                total time: %s s\\n'%(m50le.attrs['processing time (s)']))\n",
    "        "
   ]
  },
  {
   "cell_type": "markdown",
   "metadata": {},
   "source": [
    "### Variation with OT"
   ]
  },
  {
   "cell_type": "code",
   "execution_count": null,
   "metadata": {
    "ExecuteTime": {
     "end_time": "2020-03-14T14:19:40.337818Z",
     "start_time": "2020-03-14T14:19:35.111633Z"
    },
    "run_control": {
     "marked": false
    }
   },
   "outputs": [],
   "source": [
    "wl=[443.]\n",
    "DEPTH=10.\n",
    "NG=1\n",
    "NF=1e5\n",
    "NBPHOTONS=1e6\n",
    "pha=read_phase(ROOTPATH + '/smartg/validation/opt_kokha_aer_nostandard.dat')\n",
    "le={'th_deg':0, 'phi_deg':np.array([90.]*NG)}\n",
    "water=IOP_1(0.1, DEPTH=DEPTH)\n",
    "surf=RoughSurface(SUR=3, NH2O=1.34, WIND=10., SINGLE=False)\n",
    "\n",
    "for AOD in [0.3, 1. , 3., 10., 30.]:\n",
    "    aer = AerOPAC('maritime_clean', AOD, wl, ssa=1., phase=pha)\n",
    "    atm = AtmAFGL('afglt', NO2=False, O3=0., comp=[aer], grid=np.linspace(120,0,num=50), tauR=0.235).calc(wl)\n",
    "    m50le=SP.run(THVDEG=50., wl=wl, NBPHOTONS=NBPHOTONS, le=le, NF=NF, SEED=1,\n",
    "            atm=atm, water=water, surf=surf, OUTPUT_LAYERS=0, stdev=True)\n",
    "    mean=m50le['I_up (TOA)'].data[0][0]\n",
    "    std=m50le['I_stdev_up (TOA)'].data[0][0]\n",
    "    print ('PP: %s, N Geometry: %i, AOD: %f, kernel time: %s s, dI/I=%.3e'%(True,NG,AOD,m50le.attrs['kernel time (s)'],std/mean))\n",
    "    print ('                total time: %s s\\n'%(m50le.attrs['processing time (s)']))"
   ]
  },
  {
   "cell_type": "markdown",
   "metadata": {},
   "source": [
    "## Applications"
   ]
  },
  {
   "cell_type": "markdown",
   "metadata": {},
   "source": [
    "### Spherical Shell Atmosphere"
   ]
  },
  {
   "cell_type": "code",
   "execution_count": null,
   "metadata": {
    "ExecuteTime": {
     "end_time": "2021-09-22T13:31:58.212478Z",
     "start_time": "2021-09-22T13:31:11.816830Z"
    }
   },
   "outputs": [],
   "source": [
    "Ssp  = Smartg(pp=False, back=True,  double=True)\n",
    "Sspf = Smartg(pp=False, back=False, double=True)\n",
    "Spp  = Smartg(pp=True,  back=True,  double=True, alt_pp=True)\n",
    "Sppf = Smartg(pp=True,  back=False, double=True, alt_pp=True)"
   ]
  },
  {
   "cell_type": "code",
   "execution_count": null,
   "metadata": {
    "ExecuteTime": {
     "end_time": "2021-09-22T13:32:43.282120Z",
     "start_time": "2021-09-22T13:32:43.124784Z"
    }
   },
   "outputs": [],
   "source": [
    "from smartg.atmosphere import Fair\n",
    "def rho(F) :\n",
    "    return (6.*F-6)/(3+7.*F)\n",
    "\n",
    "def F(rho):\n",
    "    return (6+3*rho)/(6-7*rho)\n",
    "\n",
    "def depo(lam,atm):\n",
    "    F = Fair(np.array([lam]), atm.prof.dens_co2/atm.prof.dens_air*1e6)\n",
    "    return rho(F)\n",
    "\n",
    "wl   = 369.8639262 \n",
    "tauR = 0.3262\n",
    "atm  = AtmAFGL('afglms', O3=0., NO2=False, grid='120[1]0', lat=0., tauR=0.3262)\n",
    "#atm  = AtmAFGL('afglms', O3=0., NO2=False, grid=np.linspace(120,0,num=1201), lat=0., tauR=0.3262,)\n",
    "#DEPO = depo(np.array([wl]), atm)[0,0]\n",
    "DEPO = 0.\n",
    "TAU  = atm.calc([wl])['OD_r'][0,-1]\n",
    "print ('depol:', DEPO,  ' ROD:', TAU)\n",
    "ref  = mSvR60.sub(d={'Zenith angles': slice(0,-1,3)})\n",
    "le={}\n",
    "le.update(th_deg = ref.axis('Zenith angles'))\n",
    "le.update(phi_deg= ref.axis('Azimuth angles'))\n",
    "print('Zenith and relative azimuth angles :', le)\n",
    "RTER= 6370. # km\n",
    "HTOA= 120.  # km\n",
    "# Goal: to simulate an observation from a sensor at TOA and for 1 thv.\n",
    "# In backward mode: the sensor will 'emit' photons in this direction\n",
    "thv = le['th_deg'][10] # 30deg\n",
    "## 1st option, thv is defined from the TOA\n",
    "sensor_sp_thvtoa = Sensor(POSX = 0.,      # Sensor coordinates (in km) (default:origin(0.,0.,0.))\n",
    "                POSY = 0.,\n",
    "                POSZ = HTOA+RTER,# in spherical mode set Z to the distance from Earth center, in pp Z is the altitude\n",
    "                THDEG= 180-thv, # Sensor 'Emitting' zenith angle, from 0: Zenith to 180.: Nadir (default:0.)\n",
    "                PHDEG= 180.,      # Sensor 'Emitting' azimuth angle (default:0.)\n",
    "                LOC  = 'ATMOS', # location of sensor (default: (SURF0P, just above surface)\n",
    "                FOV  = 0.,      # Sensor FOV (default 0.)\n",
    "                TYPE = 0        # Sensor type :Radiance (0), Planar flux (1), Spherical Flux (2), (default 0)\n",
    "               )\n",
    "\n",
    "## 2nd option, thv is defined from the ground\n",
    "POSX = HTOA*np.tan(thv*np.pi/180)\n",
    "POSZ = np.sqrt(POSX**2 + (HTOA+RTER)**2)\n",
    "sensor_sp_thvboa = Sensor(POSX = POSX,      # Sensor coordinates (in km) (default:origin(0.,0.,0.))\n",
    "                POSY = 0.,\n",
    "                POSZ = POSZ,# in spherical mode set Z to the distance from Earth center, in pp Z is the altitude\n",
    "                THDEG= 180-thv, # Sensor 'Emitting' zenith angle, from 0: Zenith to 180.: Nadir (default:0.)\n",
    "                PHDEG= 180.,      # Sensor 'Emitting' azimuth angle (default:0.)\n",
    "                LOC  = 'ATMOS', # location of sensor (default: (SURF0P, just above surface)\n",
    "                FOV  = 0.,      # Sensor FOV (default 0.)\n",
    "                TYPE = 0        # Sensor type :Radiance (0), Planar flux (1), Spherical Flux (2), (default 0)\n",
    "               )\n",
    "\n",
    "## 3nd option, thv is defined from the ground, in Plane Parallel, it is the default\n",
    "sensor_pp = Sensor(POSX = 0.,      # Sensor coordinates (in km) (default:origin(0.,0.,0.))\n",
    "                POSY = 0.,\n",
    "                POSZ =  HTOA    ,# in spherical mode set Z to the distance from Earth center, in pp Z is the altitude\n",
    "                THDEG= 180-thv, # Sensor 'Emitting' zenith angle, from 0: Zenith to 180.: Nadir (default:0.)\n",
    "                PHDEG= 180.,      # Sensor 'Emitting' azimuth angle (default:0.)\n",
    "                LOC  = 'ATMOS', # location of sensor (default: (SURF0P, just above surface)\n",
    "                FOV  = 0.,      # Sensor FOV (default 0.)\n",
    "                TYPE = 0        # Sensor type :Radiance (0), Planar flux (1), Spherical Flux (2), (default 0)\n",
    "               )"
   ]
  },
  {
   "cell_type": "code",
   "execution_count": null,
   "metadata": {
    "ExecuteTime": {
     "end_time": "2021-09-22T13:33:27.887809Z",
     "start_time": "2021-09-22T13:32:47.277359Z"
    },
    "scrolled": true
   },
   "outputs": [],
   "source": [
    "%%time\n",
    "NBP = 1e7\n",
    "surf= None # no surface\n",
    "msp_thvboa = Ssp.run(THVDEG=thv, wl=wl, NBPHOTONS=NBP, DEPO=DEPO, le=le, atm=atm, stdev=True, RTER=RTER,\n",
    "                     sensor=sensor_sp_thvboa, reflectance=True, surf=surf)\n",
    "msp_thvtoa = Ssp.run(THVDEG=thv, wl=wl, NBPHOTONS=NBP, DEPO=DEPO, le=le, atm=atm, stdev=True, RTER=RTER,\n",
    "                     sensor=sensor_sp_thvtoa, reflectance=True, surf=surf)\n",
    "mpp        = Spp.run(THVDEG=thv, wl=wl, NBPHOTONS=NBP, DEPO=DEPO, le=le, atm=atm, stdev=True, \n",
    "                     sensor=sensor_pp, surf=surf)"
   ]
  },
  {
   "cell_type": "code",
   "execution_count": null,
   "metadata": {},
   "outputs": [],
   "source": [
    "#h.savefig('/home/did/RTC/SMART-G/notebooks/Validation_paper_smartg/2018_v2/spherical_thetav30_TOA',dpi=600)"
   ]
  },
  {
   "cell_type": "code",
   "execution_count": null,
   "metadata": {},
   "outputs": [],
   "source": [
    "vmin= [0.,0.]\n",
    "vmax= [0.5, 100]\n",
    "emax= [1e-2, 1]\n",
    "ermax= [1, 1]\n",
    "h=compare(mpp , msp_thvtoa,  Nparam=2, vmax=vmax, vmin=vmin, emax=emax, ermax=ermax, U_sign=1, same_U_convention=True,\n",
    "          errb=True, logI=False, same_azimuth_convention=True, field='up (TOA)',azimuth=[180,90])"
   ]
  },
  {
   "cell_type": "code",
   "execution_count": null,
   "metadata": {
    "ExecuteTime": {
     "end_time": "2019-02-26T10:47:26.661531Z",
     "start_time": "2019-02-26T10:47:26.617020Z"
    }
   },
   "outputs": [],
   "source": [
    "#h.savefig('/home/did/RTC/SMART-G/notebooks/Validation_paper_smartg/2018/spherical_thetav_TOA',dpi=600)\n",
    "#h.savefig('/home/did/RTC/SMART-G/notebooks/Validation_paper_smartg/2018/spherical_thetav10_for_EUMETSAT', dpi=300)"
   ]
  },
  {
   "cell_type": "code",
   "execution_count": null,
   "metadata": {},
   "outputs": [],
   "source": [
    "vmin= [0.,0.]\n",
    "vmax= [0.5, 100]\n",
    "emax= [5e-3, 1]\n",
    "ermax= [1, 1]\n",
    "h=compare(mpp , msp_thvboa,  Nparam=2, vmax=vmax, vmin=vmin, emax=emax, ermax=ermax, U_sign=1, same_U_convention=True,\n",
    "          errb=True, logI=False, same_azimuth_convention=True, field='up (TOA)',azimuth=[180,90])"
   ]
  },
  {
   "cell_type": "code",
   "execution_count": null,
   "metadata": {
    "ExecuteTime": {
     "end_time": "2018-07-24T09:44:45.577582Z",
     "start_time": "2018-07-24T09:44:43.858291Z"
    },
    "scrolled": false
   },
   "outputs": [],
   "source": [
    "#h.savefig('/home/did/RTC/SMART-G/notebooks/Validation_paper_smartg/2018_v2/spherical_thetav30_BOA',dpi=600)"
   ]
  },
  {
   "cell_type": "markdown",
   "metadata": {},
   "source": [
    "#### With refraction (! DEV !)"
   ]
  },
  {
   "cell_type": "code",
   "execution_count": null,
   "metadata": {
    "ExecuteTime": {
     "end_time": "2020-03-09T16:45:15.453323Z",
     "start_time": "2020-03-09T16:44:39.772586Z"
    }
   },
   "outputs": [],
   "source": [
    "%%time\n",
    "NBP  = 1e7\n",
    "surf = None # no surface\n",
    "msp_thvboa_r = Ssp.run(THVDEG=thv, wl=wl, NBPHOTONS=NBP, DEPO=DEPO, le=le, atm=atm, stdev=True, RTER=RTER, refraction=True,\n",
    "                     sensor=sensor_sp_thvboa, reflectance=True, surf=surf)"
   ]
  },
  {
   "cell_type": "code",
   "execution_count": null,
   "metadata": {
    "ExecuteTime": {
     "end_time": "2020-03-09T16:45:16.506957Z",
     "start_time": "2020-03-09T16:45:15.456299Z"
    },
    "scrolled": false
   },
   "outputs": [],
   "source": [
    "vmin= [0.,0.]\n",
    "vmax= [0.5, 100]\n",
    "emax= [1e-2, 1]\n",
    "ermax= [1, 1]\n",
    "h=compare(msp_thvboa , msp_thvboa_r,  Nparam=2, vmax=vmax, vmin=vmin, emax=emax, ermax=ermax, U_sign=1, same_U_convention=True,\n",
    "          errb=True, logI=False, same_azimuth_convention=True, field='up (TOA)',azimuth=[180,90])"
   ]
  },
  {
   "cell_type": "markdown",
   "metadata": {},
   "source": [
    "### Adjacency effects"
   ]
  },
  {
   "cell_type": "markdown",
   "metadata": {},
   "source": [
    "#### Case of sea-ice"
   ]
  },
  {
   "cell_type": "code",
   "execution_count": null,
   "metadata": {
    "ExecuteTime": {
     "end_time": "2020-03-09T16:45:41.119128Z",
     "start_time": "2020-03-09T16:45:27.559893Z"
    }
   },
   "outputs": [],
   "source": [
    "# Goal: to simulate an observation from a satellite sensor \n",
    "# for 1 thv and several azimuths (Almucantar)\n",
    "# with a straight coastline (limit ocean land)\n",
    "# the sensor is looking at a varying distance to the coastline\n",
    "# we simulate a coastline as being the zone near a big circle, whose radius is 10000 km\n",
    "# centred on a point located far from the sensor (-10000 km)\n",
    "# The interior of the circle is the ocean\n",
    "# Principal plane reflectance and DoLP for 380, 500 and 800 nm\n",
    "wl =[380., 500., 800.]\n",
    "col=['b','g','r']\n",
    "\n",
    "# Solar geometries in backward mode\n",
    "nsaa=4\n",
    "nsza=24\n",
    "SZA_MAX=70.\n",
    "SAA  = np.linspace(0., 270.,    num=nsaa, dtype=np.float32, endpoint=True)\n",
    "SZA  = np.linspace(0., SZA_MAX, num=nsza, dtype=np.float32, endpoint=True)\n",
    "le={'th_deg':SZA,'phi_deg':SAA}\n",
    "\n",
    "aer=AerOPAC('maritime_polluted', 0.3, 500.)\n",
    "atm=AtmAFGL('afglms', comp=[aer])\n",
    "surf=RoughSurface(WIND=5., WAVE_SHADOW=True, SINGLE=True)\n",
    "\n",
    "VZA = 30.\n",
    "D   = 10000.\n",
    "env = Environment(ENV=1, \n",
    "                  ENV_SIZE= D ,       # radius of the circle with ocean surface condition\n",
    "                  X0= -D,             # X coordinate of the center of the circle\n",
    "                  Y0= 0,\n",
    "                  ALB=Albedo_cst(0.5) # Lambertian grey albedo of the land zone\n",
    "                 )\n",
    "Sb = Smartg(back=True,  double=False)"
   ]
  },
  {
   "cell_type": "code",
   "execution_count": null,
   "metadata": {
    "ExecuteTime": {
     "end_time": "2020-03-09T16:46:19.856122Z",
     "start_time": "2020-03-09T16:45:41.126129Z"
    }
   },
   "outputs": [],
   "source": [
    "%%time\n",
    "MBS=[]\n",
    "dist_l= [0.250, 5., 10000.]\n",
    "HTOA  = 120.\n",
    "for VAA in [0., 90., 180., 270.]:\n",
    "    for dist in dist_l:\n",
    "        DeltaX = HTOA*np.tan(VZA*np.pi/180) * np.cos((180-VAA)*np.pi/180.)\n",
    "        DeltaY = HTOA*np.tan(VZA*np.pi/180) * np.sin((180-VAA)*np.pi/180.)\n",
    "        sensor = Sensor(\n",
    "                POSX = -dist + DeltaX,      # Sensor coordinates (in km) (default:origin(0.,0.,0.))\n",
    "                POSY = DeltaY,\n",
    "                POSZ = HTOA,\n",
    "                THDEG= 180-VZA, # Sensor 'Emitting' zenith angle, from 0: Zenith to 180.: Nadir (default:0.)\n",
    "                PHDEG= VAA,     # Sensor 'Emitting' azimuth angle (default:0.)\n",
    "                LOC  = 'ATMOS', # location of sensor (default: (SURF0P, just above surface)\n",
    "                FOV  = 0.,      # Sensor FOV (default 0.)\n",
    "                TYPE = 0        # Sensor type :Radiance (0), Planar flux (1), Spherical Flux (2), (default 0)\n",
    "        )\n",
    "        m=Sb.run(wl=wl, atm=atm, surf=surf, env=env, NBPHOTONS=1e5, le=le, \n",
    "                 sensor=sensor, BEER=0, progress=True)\n",
    "        m.set_attr('VAA', VAA)\n",
    "        m.set_attr('dist',dist)\n",
    "        MBS.append(m)\n",
    "mb = merge(MBS, ['VAA','dist'])"
   ]
  },
  {
   "cell_type": "code",
   "execution_count": null,
   "metadata": {
    "ExecuteTime": {
     "end_time": "2020-03-09T16:46:21.801909Z",
     "start_time": "2020-03-09T16:46:19.859065Z"
    },
    "scrolled": false
   },
   "outputs": [],
   "source": [
    "RAA=0.\n",
    "for i,w in enumerate(wl):\n",
    "    f=transect_view(mb.sub(d={'dist':0, 'wavelength':Idx(w), 'VAA': 0}), color='m', fmt=':', ind=Idx([RAA]) )\n",
    "    _=transect_view(mb.sub(d={'dist':-2,'wavelength':Idx(w), 'VAA': 0}), color='m', fmt='--',ind=Idx([RAA])   , fig=f)\n",
    "    \n",
    "    _=transect_view(mb.sub(d={'dist':0, 'wavelength':Idx(w), 'VAA':-1}), color='C1',fmt=':', ind=Idx([RAA+90]), fig=f)\n",
    "    _=transect_view(mb.sub(d={'dist':-2,'wavelength':Idx(w), 'VAA':-1}), color='C1',fmt='--',ind=Idx([RAA+90]), fig=f)\n",
    "\n",
    "    _=transect_view(mb.sub(d={'dist':0, 'wavelength':Idx(w), 'VAA': 2}), color='g', fmt=':', ind=Idx([RAA+180]),fig=f)\n",
    "    _=transect_view(mb.sub(d={'dist':-2,'wavelength':Idx(w), 'VAA': 2}), color='g', fmt='--',ind=Idx([RAA+180]),fig=f)\n",
    "    \n",
    "    _=transect_view(mb.sub(d={'dist':-1,'wavelength':Idx(w), 'VAA':0}) , color='k', fmt='-', ind=Idx([RAA]),    fig=f, vmin=0,vmax=.4)\n",
    "    plt.text(-50.,95,r'$\\lambda$=%.0f nm'%w)\n",
    "    if i==2:\n",
    "        plt.plot([-50,-25],[90,90],'k-')\n",
    "        plt.text(-23,90,'homogeneous ocean')\n",
    "        plt.plot([-50,-25],[85,85],'k:')\n",
    "        plt.text(-23,85,'d=250 m')\n",
    "        plt.plot([-50,-25],[80,80],'k--')\n",
    "        plt.text(-23,80,'d=5000 m')\n",
    "        plt.plot([-50,-25],[75,75],'m-')\n",
    "        plt.text(-23,75,r'VAA=0$\\degree$  (above water)', color='m')\n",
    "        plt.plot([-50,-25],[70,70],'C1-')\n",
    "        plt.text(-23,70,r'VAA=90$\\degree$ (along the coast)', color='C1')\n",
    "        plt.plot([-50,-25],[65,65],'g-')\n",
    "        plt.text(-23,65,r'VAA=180$\\degree$ (above land)', color='g')\n",
    "    # FIGURE 19\n",
    "    #f.savefig('/home/did/RTC/SMART-G/notebooks/Validation_paper_smartg/2018_v2/adjacency_thetav%i'%i,dpi=600)"
   ]
  },
  {
   "cell_type": "code",
   "execution_count": null,
   "metadata": {
    "ExecuteTime": {
     "end_time": "2020-03-09T16:46:29.796329Z",
     "start_time": "2020-03-09T16:46:26.244550Z"
    }
   },
   "outputs": [],
   "source": [
    "f,a=phase_view(m,iw=0)\n",
    "_,_=phase_view(m,iw=1,fig=f,axarr=a)\n",
    "_,_=phase_view(m,iw=2,fig=f,axarr=a)\n",
    "input_view(m,iw=2)"
   ]
  },
  {
   "cell_type": "markdown",
   "metadata": {
    "ExecuteTime": {
     "end_time": "2019-04-29T09:06:11.718285Z",
     "start_time": "2019-04-29T09:06:11.591045Z"
    },
    "run_control": {
     "marked": true
    }
   },
   "source": [
    "## Cox and Munk"
   ]
  },
  {
   "cell_type": "code",
   "execution_count": null,
   "metadata": {
    "ExecuteTime": {
     "end_time": "2020-03-09T16:46:32.881923Z",
     "start_time": "2020-03-09T16:46:32.412303Z"
    },
    "run_control": {
     "marked": true
    }
   },
   "outputs": [],
   "source": [
    "from scipy.special import erfc\n",
    "def Fresnel(thetai, NW=1.33):\n",
    "    thetat = np.arcsin(np.sin(thetai)/NW)\n",
    "    rper   = (NW*np.cos(thetai)-np.cos(thetat))/(NW*np.cos(thetai)+np.cos(thetat))\n",
    "    rpar   = (np.cos(thetai)-NW*np.cos(thetat))/(np.cos(thetai)+NW*np.cos(thetat))\n",
    "    return rper**2, rpar**2\n",
    "\n",
    "def P(beta, WS=2.):\n",
    "    sig = np.sqrt(0.003 + 0.00512 *WS)\n",
    "    return np.exp(-np.tan(beta)**2/(sig**2))/(np.pi*sig**2)\n",
    "\n",
    "def Shadow(mus, muv, WS=2.):\n",
    "    sigp = np.sqrt(0.5)*np.sqrt(0.003 + 0.00512 *WS)\n",
    "    nus = 1/np.tan(np.arccos(mus))/sigp/np.sqrt(2.)\n",
    "    lambdaS = (np.exp(-nus**2) -nus*np.sqrt(np.pi)*erfc(nus))/(2*nus*np.sqrt(np.pi))\n",
    "    nuv = 1/np.tan(np.arccos(muv))/sigp/np.sqrt(2.)\n",
    "    lambdaV = (np.exp(-nuv**2) -nuv*np.sqrt(np.pi)*erfc(nuv))/(2*nuv*np.sqrt(np.pi))\n",
    "    return 1./(1.+lambdaS+lambdaV)\n",
    "\n",
    "def LambdaM(avz, sig2) :\n",
    "    #Mischenko implementation\n",
    "    if (avz == 1.) : l = 0.;\n",
    "    else :\n",
    "        s1 = np.sqrt(np.float64(2)*sig2/np.pi);\n",
    "        s3 = np.float64(1)/np.sqrt(np.float64(2)*sig2);\n",
    "        s2 = s3*s3;\n",
    "        xi = avz;\n",
    "        xxi=xi*xi;\n",
    "        dcot =  xi / np.sqrt(np.float64(1)-xxi);\n",
    "        t1 = np.exp(-dcot*dcot*s2);\n",
    "        t2 = erfc(dcot*s3);\n",
    "        l  = 0.5*(s1*t1/dcot-t2);\n",
    "    return l\n",
    "\n",
    "def Shadow2(mus, muv, WS=2.):\n",
    "    sigp = np.sqrt(0.5)*np.sqrt(0.003 + 0.00512 *WS)\n",
    "    return 1./(1.+LambdaM(mus,sigp*sigp)+LambdaM(muv,sigp*sigp))\n",
    "\n",
    "def Glint(thetas, thetav, dphi, WS=2., SHADOW=False):\n",
    "    mus = np.cos(thetas*np.pi/180.)\n",
    "    muv = np.cos(thetav*np.pi/180.)\n",
    "    shadow = Shadow(mus,muv,WS=WS) if SHADOW else 1.\n",
    "    cosp= np.cos(dphi*np.pi/180.)\n",
    "    mu  = mus*muv + np.sqrt(1-mus**2)*np.sqrt(1-muv**2)*cosp\n",
    "    mub = (mus+muv)/(np.sqrt(2.+2*mu))\n",
    "    rho = np.pi*P(np.arccos(mub),WS=WS)/(4*mus*muv*mub**4) * shadow\n",
    "    rper, rpar= Fresnel(np.arccos(mu)/2.)\n",
    "    return rper*rho, rpar*rho"
   ]
  },
  {
   "cell_type": "code",
   "execution_count": null,
   "metadata": {
    "ExecuteTime": {
     "end_time": "2020-03-09T16:46:40.992446Z",
     "start_time": "2020-03-09T16:46:38.477791Z"
    }
   },
   "outputs": [],
   "source": [
    "#%%time\n",
    "Dphi=180.\n",
    "\n",
    "NBPHOTONS=1e5\n",
    "S=Smartg(double=True, back=False)\n",
    "th = np.concatenate((np.linspace(0.,80.,num=30), np.array([82.,84.,86.,88., 89.])),axis=0)\n",
    "fig,ax = plt.subplots(2,3)\n",
    "ws_l=[2.,15.]\n",
    "color_l=['r','b']\n",
    "##########\n",
    "le={'th_deg':th}\n",
    "le.update(phi_deg=np.array([Dphi]))\n",
    "for it, (th0, line) in enumerate(zip([25., 70., 80.],['-','-','-'])):\n",
    "    for WS, color in zip(ws_l, color_l):\n",
    "        for shadow, sym in zip([True,False],['.','+']):\n",
    "            col = it\n",
    "            surf=RoughSurface(SUR=1,NH2O=1.33, WIND=WS, WAVE_SHADOW=shadow, SINGLE=True)\n",
    "            m=S.run(THVDEG=th0, NBPHOTONS=NBPHOTONS, surf=surf, wl=443., le=le, water=None, OUTPUT_LAYERS=3)\n",
    "            ax[0,col].plot(th,abs(m['I_up (0+)'].sub()[Idx(Dphi),:].data), sym, color=color)\n",
    "\n",
    "            Iper, Ipar = Glint(th0, th, Dphi, WS=WS, SHADOW=shadow)\n",
    "            ax[0,col].plot(th, abs(0.5*(Iper+Ipar)), line, color=color)            \n",
    "            ax[0,col].set_title(r'$\\theta_s$:%.0f'%th0)\n",
    "            if it==0:                \n",
    "                ax[0,col].set_ylim([0.001,2])\n",
    "                label=''\n",
    "            else : \n",
    "                if shadow:\n",
    "                    label = r'$w_s$= {0:.0f}m/s + wave shadows'.format(WS)\n",
    "                else :\n",
    "                    label = r'$w_s$= {0:.0f}m/s'.format(WS)\n",
    "                ax[0,col].set_ylim([0.001,100])\n",
    "            ax[1,col].plot(th,100* (abs(m['I_up (TOA)'].sub()[Idx(Dphi),:].data) - abs(0.5*(Iper+Ipar)))/abs(0.5*(Iper+Ipar)), \n",
    "                           sym+color, label=label)\n",
    "            ax[1,col].set_ylim([-1,1])\n",
    "            ax[1,col].set_xlabel(r'$\\theta_v$',fontsize=14)\n",
    "        ax[1,0].set_ylabel(r'$\\Delta (\\%)$',fontsize=14)\n",
    "        ax[0,0].set_ylabel(r'$\\rho_g$',fontsize=14)\n",
    "\n",
    "plt.sca(ax[0,2])\n",
    "plt.plot([0,6],[90,90],'.'+color_l[0])\n",
    "plt.text(8,90,r'$w_s$= {0:.0f}m/s + wave shadows'.format(ws_l[0]), color=color_l[0])\n",
    "plt.plot([0,6],[80,80],'+'+color_l[0])\n",
    "plt.text(8,80,r'$w_s$= {0:.0f}m/s'.format(ws_l[0]), color=color_l[0])\n",
    "plt.plot([0,6],[70,70],'.'+color_l[1])\n",
    "plt.text(8,70,r'$w_s$= {0:.0f}m/s + wave shadows'.format(ws_l[1]), color=color_l[1])\n",
    "plt.plot([0,6],[60,60],'+'+color_l[1])\n",
    "plt.text(8,60,r'$w_s$= {0:.0f}m/s'.format(ws_l[1]), color=color_l[1])\n",
    "plt.plot([0,6],[50,50],'-k')\n",
    "plt.text(8,50,'BRDF', color='k')\n",
    "fig.set_size_inches(12,8)\n",
    "#fig.savefig('/home/did/RTC/SMART-G/notebooks/Validation_paper_smartg/2018_v2/glitter_single.png', dpi=600)\n",
    "#fig.savefig('/home/did/RTC/SMART-G/notebooks/Validation_paper_smartg/2018_v2/glitter.png', dpi=600)"
   ]
  },
  {
   "cell_type": "markdown",
   "metadata": {},
   "source": [
    "# Equivalence Theorem"
   ]
  },
  {
   "cell_type": "code",
   "execution_count": null,
   "metadata": {
    "ExecuteTime": {
     "end_time": "2020-03-14T14:12:06.130224Z",
     "start_time": "2020-03-14T14:11:22.965995Z"
    }
   },
   "outputs": [],
   "source": [
    "%%time\n",
    "# Here we compare the TOA radiance simulated at 580 nm in the Chappuis band.\n",
    "# Absorption is computed with Beer-Lambert Law (BEER=1) or layer single scattering albedo (BEER=0)\n",
    "atm=AtmAFGL('afglt',grid=np.linspace(100.,0.,num=101), O3=300., NO2=False)\n",
    "results = []\n",
    "le={}\n",
    "le.update(th=np.linspace(0.,80.,num=9)*np.pi/180)\n",
    "le.update(phi=np.array([0., 180],dtype=np.float32)*np.pi/180)\n",
    "S=Smartg(double=True)\n",
    "for BEER in [0, 1]:\n",
    "    results.append(S.run(THVDEG=45., wl=580., NBPHOTONS=1e9, le=le, \n",
    "                         NBLOOP=1e8, atm=atm, BEER=BEER, stdev=True))"
   ]
  },
  {
   "cell_type": "code",
   "execution_count": null,
   "metadata": {
    "ExecuteTime": {
     "end_time": "2020-03-14T14:15:17.016702Z",
     "start_time": "2020-03-14T14:15:14.861424Z"
    }
   },
   "outputs": [],
   "source": [
    "# reference is Beer law\n",
    "vmin = [0,  -0.05, -0.005, 0.]\n",
    "vmax = [0.15, 0.05, 0.005, 100]\n",
    "emax = [1e-4, 1e-4, 1e-4, .2]\n",
    "ermax= [.05, .5, .5, .2]\n",
    "_=compare(results[0], results[1], errb=True, vmin=vmin, vmax=vmax, azimuth=[0,0],\n",
    "      emax=emax, ermax=ermax, zenith_title='$VZA (^\\circ)$')"
   ]
  },
  {
   "cell_type": "markdown",
   "metadata": {},
   "source": [
    "# ALIS"
   ]
  },
  {
   "cell_type": "markdown",
   "metadata": {},
   "source": [
    "## Atmosphere"
   ]
  },
  {
   "cell_type": "markdown",
   "metadata": {},
   "source": [
    "### Pure scattering"
   ]
  },
  {
   "cell_type": "code",
   "execution_count": null,
   "metadata": {
    "ExecuteTime": {
     "end_time": "2021-10-26T10:57:48.405169Z",
     "start_time": "2021-10-26T10:57:24.040535Z"
    }
   },
   "outputs": [],
   "source": [
    "S0= Smartg(alis=False, double=True, alt_pp=True)\n",
    "S = Smartg(alis=True , double=True, alt_pp=True)"
   ]
  },
  {
   "cell_type": "code",
   "execution_count": null,
   "metadata": {
    "ExecuteTime": {
     "end_time": "2021-10-26T10:57:52.667856Z",
     "start_time": "2021-10-26T10:57:51.555786Z"
    }
   },
   "outputs": [],
   "source": [
    "#%%time\n",
    "dl  = 10.\n",
    "lmin= 400.\n",
    "lmax= 501.\n",
    "wref= (lmax-lmin)/2 + lmin\n",
    "NW  = int((lmax-lmin)/dl) + 1\n",
    "wl  = np.linspace(lmin,lmax,num=NW)\n",
    "NL  = 20\n",
    "aer = AerOPAC('urban',.3, 550.)\n",
    "cld = Cloud('wc', 11., 9., 10., .3, 550.)\n",
    "comp=[aer]\n",
    "comp=[cld,aer]\n",
    "znew=np.linspace(100.,0.,num=NL+1)\n",
    "NWP = 1\n",
    "pfwav= np.linspace(lmin,lmax,num=NWP)\n",
    "pfgrid = [100., 12., 7., 5., 3., 0.]\n",
    "pfgrid = [100., 0.]\n",
    "atm=AtmAFGL('afglus', grid=znew , O3=0., NO2=False, comp=comp, pfwav=pfwav, pfgrid=pfgrid)\n",
    "pro=atm.calc(wl)\n",
    "\n",
    "le={}\n",
    "le.update(th=np.array([0.])*np.pi/180)\n",
    "le.update(phi=np.array([90.])*np.pi/180)\n",
    "NB=1e7\n",
    "NLOW = int((NW-1)/3)"
   ]
  },
  {
   "cell_type": "code",
   "execution_count": null,
   "metadata": {
    "ExecuteTime": {
     "end_time": "2021-10-26T10:57:53.558247Z",
     "start_time": "2021-10-26T10:57:53.522363Z"
    }
   },
   "outputs": [],
   "source": [
    "from smartg.tools.cdf import ICDF\n",
    "ODR = pro['OD_r'][:,-1]\n",
    "wl_proba = ICDF(ODR, N=1000)\n",
    "wl_proba=None"
   ]
  },
  {
   "cell_type": "code",
   "execution_count": null,
   "metadata": {
    "ExecuteTime": {
     "end_time": "2021-10-26T10:58:25.449802Z",
     "start_time": "2021-10-26T10:57:55.979678Z"
    }
   },
   "outputs": [],
   "source": [
    "mle1 = S.run( THVDEG=65., wl=wl, le=le,  NBPHOTONS=NB, atm=pro, progress=True, NF=1e3, wl_proba=wl_proba,\n",
    "             stdev=True, OUTPUT_LAYERS=3, NBLOOP=NB/10, alis_options={'nlow':-1})\n",
    "m0le = S0.run(THVDEG=65., wl=wl, le=le,  NBPHOTONS=NB*NW, atm=pro, progress=True, NF=1e3, wl_proba=wl_proba,\n",
    "             stdev=True, OUTPUT_LAYERS=3, NBLOOP=NB*NW/100)\n",
    "print ('GPU time: ', mle1.attrs['kernel time (s)'], ' s')"
   ]
  },
  {
   "cell_type": "code",
   "execution_count": null,
   "metadata": {},
   "outputs": [],
   "source": [
    "for field in ['down (0+)', 'up (TOA)']:\n",
    "    plt.figure()\n",
    "    mm=mle1.sub({ 'Azimuth angles':0, 'Zenith angles':0})\n",
    "    mm0=m0le.sub({ 'Azimuth angles':0, 'Zenith angles':0})\n",
    "    plt.errorbar(mm.axis('wavelength'), (mm['I_'+field]-mm0['I_'+field]).data,\n",
    "            yerr=mm['I_stdev_'+field].data, label='alis-standard')\n",
    "    plt.title(mdesc('I_'+field))\n",
    "    plt.xlabel(r'$\\lambda (nm)$')\n",
    "    plt.legend()"
   ]
  },
  {
   "cell_type": "code",
   "execution_count": null,
   "metadata": {},
   "outputs": [],
   "source": [
    "for field in ['down (0+)', 'up (TOA)']:\n",
    "    plt.figure()\n",
    "    mm=mle1.sub({ 'Azimuth angles':0, 'Zenith angles':0})\n",
    "    mm0=m0le.sub({ 'Azimuth angles':0, 'Zenith angles':0})\n",
    "    plt.errorbar(mm.axis('wavelength'), mm['I_'+field].data,\n",
    "            yerr=mm['I_stdev_'+field].data, label='alis')\n",
    "    plt.errorbar(mm0.axis('wavelength'), mm0['I_'+field].data, \n",
    "            yerr=mm0['I_stdev_'+field].data, label='standard', fmt='.')\n",
    "    plt.title(mdesc('I_'+field))\n",
    "    plt.xlabel(r'$\\lambda (nm)$')\n",
    "    plt.legend()"
   ]
  },
  {
   "cell_type": "markdown",
   "metadata": {},
   "source": [
    "### Validation against ART-DECO\n",
    "Doubling Adding; 32 streams"
   ]
  },
  {
   "cell_type": "code",
   "execution_count": null,
   "metadata": {
    "ExecuteTime": {
     "end_time": "2021-10-26T10:58:43.652126Z",
     "start_time": "2021-10-26T10:58:42.848195Z"
    }
   },
   "outputs": [],
   "source": [
    "S0= Smartg(alis=False, double=True, alt_pp=True)\n",
    "S = Smartg(alis=True , double=True, alt_pp=True)"
   ]
  },
  {
   "cell_type": "markdown",
   "metadata": {
    "run_control": {
     "marked": false
    }
   },
   "source": [
    "#### Rayleigh  and black surface"
   ]
  },
  {
   "cell_type": "code",
   "execution_count": null,
   "metadata": {
    "ExecuteTime": {
     "end_time": "2021-10-26T11:16:35.823813Z",
     "start_time": "2021-10-26T11:16:35.063248Z"
    }
   },
   "outputs": [],
   "source": [
    "fgas = ROOTPATH + '/smartg/validation/cTauGas_ray_O2.dat'\n",
    "gas_valid = diff1(np.loadtxt(fgas, skiprows=7)[:,1:].T, axis=1)\n",
    "z_valid   = np.loadtxt(fgas, skiprows=7)[:,0]\n",
    "w_valid   = np.array(open(fgas).readlines()[5].split()).astype(float)\n",
    "fray = ROOTPATH + '/smartg/validation/cTauRay_ray_O2.dat'\n",
    "ray_valid = diff1(np.loadtxt(fray, skiprows=7)[:,1:].T, axis=1)\n",
    "data_valid=np.loadtxt(ROOTPATH + '/smartg/validation/artdeco_lbl_nstr_32_ray_O2.dat')"
   ]
  },
  {
   "cell_type": "code",
   "execution_count": null,
   "metadata": {
    "ExecuteTime": {
     "end_time": "2021-10-26T11:16:37.098067Z",
     "start_time": "2021-10-26T11:16:36.965678Z"
    }
   },
   "outputs": [],
   "source": [
    "atm_valid = AtmAFGL('afglmw', grid=z_valid, O3=0., NO2=False, pfwav=[760.], \n",
    "                    prof_ray= ray_valid, prof_abs= gas_valid)"
   ]
  },
  {
   "cell_type": "code",
   "execution_count": null,
   "metadata": {
    "ExecuteTime": {
     "end_time": "2021-10-26T11:17:58.663485Z",
     "start_time": "2021-10-26T11:16:38.059240Z"
    }
   },
   "outputs": [],
   "source": [
    "le={}\n",
    "NLOW = 3\n",
    "le.update(th=np.array([20.])*np.pi/180)\n",
    "le.update(phi=np.array([180.])*np.pi/180)\n",
    "mle_valid5=  S.run(THVDEG=30., wl=w_valid, le=le,  DEPO=0., NBPHOTONS=1e7, atm=atm_valid, \n",
    "                   NBLOOP=1e5, progress=True, alis_options={'nlow':NLOW})\n",
    "print ('GPU time: %.4f'%float(mle_valid5.attrs['kernel time (s)']), 's')"
   ]
  },
  {
   "cell_type": "code",
   "execution_count": null,
   "metadata": {
    "ExecuteTime": {
     "end_time": "2021-10-26T11:18:02.888841Z",
     "start_time": "2021-10-26T11:18:01.737980Z"
    }
   },
   "outputs": [],
   "source": [
    "i_valid=data_valid[:,1]\n",
    "ip_valid=np.sqrt(data_valid[:,2]*data_valid[:,2]+data_valid[:,3]*data_valid[:,3])\n",
    "ip=mle_valid5['Q_up (TOA)']*mle_valid5['Q_up (TOA)']+mle_valid5['U_up (TOA)']*mle_valid5['U_up (TOA)']\n",
    "ip=ip.apply(np.sqrt,mdesc('Ip_up (TOA)'))\n",
    "i=mle_valid5['I_up (TOA)']\n",
    "##\n",
    "figure(figsize=(12,4))\n",
    "plot(w_valid,  i_valid, 'r', label='Doubling Adding: 32 streams')\n",
    "m = i.sub()[:,0,0]\n",
    "m.desc=mdesc(m.desc)\n",
    "f= m.plot(fmt='g-', vmax=0.01, label='SMARTG')\n",
    "legend()\n",
    "figure(figsize=(12,4))\n",
    "df=i.sub()[:,0,0]- i_valid\n",
    "dff=df/i_valid*100\n",
    "dff.desc='(SMARTG - DA) rel. diff. (%)'\n",
    "dff.plot(fmt='k-', vmax=1, vmin=-1)\n",
    "##\n",
    "figure(figsize=(12,4))\n",
    "plot(w_valid,  ip_valid, 'r', label='Doubling Adding: 32 streams')\n",
    "m = ip.sub()[:,0,0]\n",
    "f= ip.sub()[:,0,0].plot(fmt='g-', vmax=0.005, label='SMARTG')\n",
    "legend()\n",
    "figure(figsize=(12,4))\n",
    "df=ip.sub()[:,0,0]- ip_valid\n",
    "dff=df/ip_valid*100\n",
    "dff.desc='(SMARTG - DA) rel. diff. (%)'\n",
    "dff.plot(fmt='k-', vmax=1, vmin=-1)"
   ]
  },
  {
   "cell_type": "code",
   "execution_count": null,
   "metadata": {},
   "outputs": [],
   "source": [
    "i_valid=data_valid[:,1]\n",
    "ip_valid=np.sqrt(data_valid[:,2]*data_valid[:,2]+data_valid[:,3]*data_valid[:,3])\n",
    "ip=mle_valid5['Q_up (TOA)']*mle_valid5['Q_up (TOA)']+mle_valid5['U_up (TOA)']*mle_valid5['U_up (TOA)']\n",
    "ip=ip.apply(np.sqrt,mdesc('Ip_up (TOA)'))\n",
    "i=mle_valid5['I_up (TOA)']\n",
    "##\n",
    "plt.figure(figsize=(12,4))\n",
    "plt.plot(w_valid,  i_valid, 'r', label='Doubling Adding: 32 streams')\n",
    "m = i.sub()[:,0,0]\n",
    "m.desc=mdesc(m.desc)\n",
    "f= m.plot(fmt='g--', vmax=0.01, label='SMARTG')\n",
    "plt.legend()\n",
    "plt.figure(figsize=(12,4))\n",
    "df=i.sub()[:,0,0]- i_valid\n",
    "dff=df/i_valid*100\n",
    "dff.desc='(SMARTG - DA) rel. diff. (%)'\n",
    "dff.plot(fmt='k-', vmax=1, vmin=-1)\n",
    "##\n",
    "plt.figure(figsize=(12,4))\n",
    "plt.plot(w_valid,  ip_valid, 'r', label='Doubling Adding: 32 streams')\n",
    "m = ip.sub()[:,0,0]\n",
    "f= ip.sub()[:,0,0].plot(fmt='g--', vmax=0.005, label='SMARTG')\n",
    "plt.legend()\n",
    "plt.figure(figsize=(12,4))\n",
    "df=ip.sub()[:,0,0]- ip_valid\n",
    "dff=df/ip_valid*100\n",
    "dff.desc='(SMARTG - DA) rel. diff. (%)'\n",
    "dff.plot(fmt='k-', vmax=1, vmin=-1)"
   ]
  },
  {
   "cell_type": "markdown",
   "metadata": {},
   "source": [
    "#### Rayleigh , aerosol and black surface"
   ]
  },
  {
   "cell_type": "code",
   "execution_count": null,
   "metadata": {
    "ExecuteTime": {
     "end_time": "2020-03-09T16:47:53.893653Z",
     "start_time": "2020-03-09T16:47:53.230054Z"
    }
   },
   "outputs": [],
   "source": [
    "#typ='desert'\n",
    "typ='urban' # tau=0.25\n",
    "####################\"\"\"\"\"\"\n",
    "fgas = ROOTPATH + '/smartg/validation/cTauGas_ray_%s_O2.dat'%typ\n",
    "gas_valid = diff1(np.loadtxt(fgas, skiprows=7)[:,1:].T, axis=1)\n",
    "z_valid   = np.loadtxt(fgas, skiprows=7)[:,0]\n",
    "w_valid   = np.array(open(fgas).readlines()[5].split()).astype(float)\n",
    "fray = ROOTPATH + '/smartg/validation/cTauRay_ray_%s_O2.dat'%typ\n",
    "ray_valid = diff1(np.loadtxt(fray, skiprows=7)[:,1:].T, axis=1)\n",
    "faer_abs = ROOTPATH + '/smartg/validation/cTauAbs_ptcle_ray_%s_O2.dat'%typ\n",
    "aer_abs_valid = diff1(np.loadtxt(faer_abs, skiprows=7)[:,1:].T, axis=1)\n",
    "faer_sca = ROOTPATH + '/smartg/validation/cTauSca_ptcle_ray_%s_O2.dat'%typ\n",
    "aer_sca_valid = diff1(np.loadtxt(faer_sca, skiprows=7)[:,1:].T, axis=1)\n",
    "\n",
    "# aerosols phase matrix import\n",
    "faer_phase= ROOTPATH + '/smartg/validation/phasemat_ray_%s_O2.dat'%typ\n",
    "f=open(faer_phase,'r')\n",
    "N=np.genfromtxt(faer_phase, usecols=range(1), max_rows=1, dtype=int)\n",
    "pfwav=[]\n",
    "P=[]\n",
    "Npf=3\n",
    "data=np.zeros((Npf,1,N,5), dtype=np.float32) \n",
    "for k in range(Npf):\n",
    "    pfwav.append(np.genfromtxt(faer_phase, usecols=range(1), skip_header=(1+(2+N)*k), max_rows=1))\n",
    "    pizero=np.genfromtxt(faer_phase, usecols=range(1), skip_header=(1+(2+N)*k+1), max_rows=1)\n",
    "    data[k,0,:,:] = np.genfromtxt(faer_phase, usecols=range(5), skip_header=(1+(2+N)*k+2), max_rows=N)\n",
    "    \n",
    "data=data.swapaxes(2,3)\n",
    "phase_valid = LUT(data[:,:,1:,:],\n",
    "          names = ['wav_phase_atm', 'z_phase_atm', 'stk','theta'] ,\n",
    "          axes  = [pfwav, [0], None, data[0,0,0,:]])\n",
    "   \n",
    "data_valid=np.loadtxt(ROOTPATH + '/smartg/validation/artdeco_lbl_nstr_32_ray_%s_O2.dat'%typ)"
   ]
  },
  {
   "cell_type": "code",
   "execution_count": null,
   "metadata": {
    "ExecuteTime": {
     "end_time": "2020-03-09T16:47:54.181591Z",
     "start_time": "2020-03-09T16:47:53.915334Z"
    }
   },
   "outputs": [],
   "source": [
    "aer_ext_valid  = aer_sca_valid + aer_abs_valid\n",
    "aer_ssa_valid  = aer_sca_valid / aer_ext_valid\n",
    "aer_ssa_valid[aer_ext_valid==0]=1.\n",
    "\n",
    "comp=[AerOPAC('desert',0.5, 550., phase= phase_valid)]\n",
    "atm_valid = AtmAFGL('afglmw', grid=z_valid, O3=0., NO2=False, pfwav=pfwav, comp=comp,\n",
    "                    prof_ray= ray_valid,\n",
    "                    prof_aer= (aer_ext_valid,aer_ssa_valid),\n",
    "                    prof_abs= gas_valid\n",
    "                    )"
   ]
  },
  {
   "cell_type": "code",
   "execution_count": null,
   "metadata": {
    "ExecuteTime": {
     "end_time": "2020-03-09T16:48:06.890075Z",
     "start_time": "2020-03-09T16:47:55.023013Z"
    }
   },
   "outputs": [],
   "source": [
    "NLOW=3\n",
    "le={}\n",
    "le.update(th=np.array([20.])*np.pi/180)\n",
    "le.update(phi=np.array([180.])*np.pi/180)\n",
    "mle_valid5=  S.run(THVDEG=30., wl=w_valid, le=le,  DEPO=0., NBPHOTONS=1e7, atm=atm_valid, \n",
    "                   NBLOOP=1e6, progress=True, alis_options={'nlow':NLOW})\n",
    "print ('GPU time: %.4f'%float(mle_valid5.attrs['kernel time (s)']), 's')"
   ]
  },
  {
   "cell_type": "code",
   "execution_count": null,
   "metadata": {
    "ExecuteTime": {
     "end_time": "2020-03-09T16:48:11.057475Z",
     "start_time": "2020-03-09T16:48:06.892771Z"
    }
   },
   "outputs": [],
   "source": [
    "i_valid=data_valid[:,1]\n",
    "ip_valid=np.sqrt(data_valid[:,2]*data_valid[:,2]+data_valid[:,3]*data_valid[:,3])\n",
    "ip=mle_valid5['Q_up (TOA)']*mle_valid5['Q_up (TOA)']+mle_valid5['U_up (TOA)']*mle_valid5['U_up (TOA)']\n",
    "ip=ip.apply(np.sqrt,mdesc('Ip_up (TOA)'))\n",
    "i=mle_valid5['I_up (TOA)']\n",
    "##\n",
    "plt.figure(figsize=(12,4))\n",
    "plt.plot(w_valid,  i_valid, 'r', label='Doubling Adding: 32 streams')\n",
    "m = i.sub()[:,0,0]\n",
    "m.desc=mdesc(m.desc)\n",
    "f= m.plot(fmt='g--', vmax=0.02, label='SMARTG')\n",
    "plt.legend()\n",
    "plt.tight_layout()\n",
    "#plt.savefig('/home/documents/ESA/LPS2019/ALIS_DA.png', dpi=200)\n",
    "\n",
    "plt.figure(figsize=(12,4))\n",
    "df=i.sub()[:,0,0]- i_valid\n",
    "dff=df/i_valid*100\n",
    "dff.desc='(SMARTG - DA) rel. diff. (%)'\n",
    "dff.plot(fmt='k-', vmax=1, vmin=-1)\n",
    "plt.tight_layout()\n",
    "#savefig('/home/documents/ESA/LPS2019/ALIS_DA_diff.png', dpi=200)\n",
    "##\n",
    "plt.figure(figsize=(12,4))\n",
    "plt.plot(w_valid,  ip_valid, 'r', label='Doubling Adding: 32 streams')\n",
    "m = ip.sub()[:,0,0]\n",
    "f= ip.sub()[:,0,0].plot(fmt='g--', vmax=0.006, label='SMARTG')\n",
    "plt.legend()\n",
    "plt.tight_layout()\n",
    "#plt.savefig('/home/documents/ESA/LPS2019/ALIS_DApol.png', dpi=200)\n",
    "\n",
    "plt.figure(figsize=(12,4))\n",
    "df=ip.sub()[:,0,0]- ip_valid\n",
    "dff=df/ip_valid*100\n",
    "dff.desc='(SMARTG - DA) rel. diff. (%)'\n",
    "dff.plot(fmt='k-', vmax=1, vmin=-1)\n",
    "plt.tight_layout()\n",
    "#plt.savefig('/home/documents/ESA/LPS2019/ALIS_DApol_diff.png', dpi=200)"
   ]
  },
  {
   "cell_type": "code",
   "execution_count": null,
   "metadata": {
    "ExecuteTime": {
     "end_time": "2020-03-09T16:48:13.383939Z",
     "start_time": "2020-03-09T16:48:11.060705Z"
    }
   },
   "outputs": [],
   "source": [
    "input_view(mle_valid5)"
   ]
  },
  {
   "cell_type": "markdown",
   "metadata": {},
   "source": [
    "## With water"
   ]
  },
  {
   "cell_type": "code",
   "execution_count": null,
   "metadata": {
    "ExecuteTime": {
     "end_time": "2021-10-26T11:19:05.276787Z",
     "start_time": "2021-10-26T11:19:03.751495Z"
    }
   },
   "outputs": [],
   "source": [
    "# alt_pp=True is mandatory\n",
    "NWP= 1\n",
    "S0= Smartg(alis=None , double=True, pp=True, alt_pp=True, device=0)\n",
    "S = Smartg(alis=True , double=True, pp=True, alt_pp=True)\n",
    "\n",
    "dl  = 2\n",
    "lmin= 500.\n",
    "lmax= 550.\n",
    "wref= (lmax-lmin)/2 + lmin\n",
    "NW  = int((lmax-lmin)/dl) + 1\n",
    "wl  = np.linspace(lmin,lmax,num=NW)\n",
    "znew=np.linspace(100.,0.,num=51)\n",
    "NL  = 100\n",
    "pfwav= np.linspace(lmin,lmax,num=NWP)\n",
    "atm  =AtmAFGL('afglus', pfwav=pfwav, grid=znew)\n",
    "#water = IOP_1(0.3, pfwav=pfwav, DEPTH=10)\n",
    "Chl_base = 0.3\n",
    "NLO= 5\n",
    "water = IOP_profile(Chl_base, NLAYER=5, DEPTH=10, ang_trunc=5., pfwav = pfwav, NANG=721)\n",
    "surf  = RoughSurface(WIND=12.)\n",
    "le={}\n",
    "\n",
    "le.update(th=np.array([45.])*np.pi/180)\n",
    "le.update(phi=np.array([90.])*np.pi/180)"
   ]
  },
  {
   "cell_type": "code",
   "execution_count": null,
   "metadata": {
    "ExecuteTime": {
     "end_time": "2021-10-26T11:19:26.216248Z",
     "start_time": "2021-10-26T11:19:08.292994Z"
    }
   },
   "outputs": [],
   "source": [
    "%%time\n",
    "alis={'nlow':-1, 'njac':0}\n",
    "NB=1e7\n",
    "\n",
    "mle1 = S.run( THVDEG=65., wl=wl, le=le,  NBPHOTONS=NB, atm=atm, surf=surf, water=water, \n",
    "             OUTPUT_LAYERS=3, alis_options=alis, stdev=True)\n",
    "m0le = S0.run(THVDEG=65., wl=wl, le=le,  NBPHOTONS=NB, atm=atm, surf=surf, water=water, \n",
    "              OUTPUT_LAYERS=3, stdev=True)\n",
    "print ('GPU time: ', mle1.attrs['kernel time (s)'], ' s')"
   ]
  },
  {
   "cell_type": "code",
   "execution_count": null,
   "metadata": {
    "ExecuteTime": {
     "end_time": "2021-10-26T11:19:31.120614Z",
     "start_time": "2021-10-26T11:19:29.190399Z"
    }
   },
   "outputs": [],
   "source": [
    "for field in ['up (0-)', 'down (0-)', 'up (0+)', 'down (0+)', 'up (TOA)', 'down (B)']:\n",
    "    plt.figure()\n",
    "    mm=mle1.sub({ 'Azimuth angles':0, 'Zenith angles':0})\n",
    "    mm0=m0le.sub({ 'Azimuth angles':0, 'Zenith angles':0})\n",
    "    plt.errorbar(mm.axis('wavelength'), mm['I_'+field].data,\n",
    "            yerr=mm['I_stdev_'+field].data, label='alis')\n",
    "    plt.errorbar(mm0.axis('wavelength'), mm0['I_'+field].data, \n",
    "            yerr=mm0['I_stdev_'+field].data, label='standard', fmt='o')\n",
    "    plt.title(mdesc('I_'+field))\n",
    "    plt.xlabel(r'$\\lambda (nm)$')\n",
    "    plt.legend()"
   ]
  },
  {
   "cell_type": "markdown",
   "metadata": {},
   "source": [
    "### Jacobians"
   ]
  },
  {
   "cell_type": "code",
   "execution_count": null,
   "metadata": {
    "ExecuteTime": {
     "end_time": "2021-10-26T11:19:40.258175Z",
     "start_time": "2021-10-26T11:19:40.022833Z"
    }
   },
   "outputs": [],
   "source": [
    "# Ozone and Chlorophyll sensitivities\n",
    "# 1 profile + 2 perturbed profiles (2 jacobians) = 3 profiles\n",
    "atms = []\n",
    "O3_base = 300.\n",
    "DO3 = 30.\n",
    "waters = []\n",
    "Chl_base = 0.3\n",
    "DChl = 0.03\n",
    "\n",
    "for O3 in [O3_base, O3_base + DO3, O3_base]: # 2nd profile is O3 perturbation\n",
    "    atms.append(AtmAFGL('afglt', O3=O3, grid='120[20]0').calc(wl))\n",
    "\n",
    "for Chl in [Chl_base, Chl_base, Chl_base + DChl]: # 3rd profile is Chl perturbation                                                          \n",
    "    waters.append(IOP_profile(Chl, NLAYER=5, DEPTH=10, ang_trunc=5., pfwav = pfwav, NANG=721).calc(wl))\n",
    "    \n",
    "# wavelengths is the repetition of wl  for 3 profiles\n",
    "wls   = np.concatenate((wl,wl,wl))\n",
    "# construction of multi_profiles from profiles list, to be ingested by smartg.run() method\n",
    "water = multi_profiles(waters, kind='oc')\n",
    "atm   = multi_profiles(atms,   kind='atm')"
   ]
  },
  {
   "cell_type": "code",
   "execution_count": null,
   "metadata": {
    "ExecuteTime": {
     "end_time": "2021-10-26T11:19:47.826741Z",
     "start_time": "2021-10-26T11:19:42.944063Z"
    }
   },
   "outputs": [],
   "source": [
    "%%time\n",
    "tv=np.linspace(45., 60.,num=1)\n",
    "phi=np.linspace(45.,360,num=1)\n",
    "le={'th_deg':tv, 'phi_deg':phi}\n",
    "alis_options={'nlow':-1, 'njac':2}\n",
    "# two jacobians here\n",
    "m=S.run(THVDEG=65., wl=wls, atm=atm, surf=surf, water=water, le=le, OUTPUT_LAYERS=3,\n",
    "         NBPHOTONS=1e5, alis_options=alis_options)\n",
    "\n",
    "mdiff = reduce_diff(m, ['O3', 'Chl'], delta=[DO3, DChl]).dropaxis('Azimuth angles','Zenith angles')"
   ]
  },
  {
   "cell_type": "code",
   "execution_count": null,
   "metadata": {},
   "outputs": [],
   "source": [
    "M=6 # Levels\n",
    "N=6 # Quantities\n",
    "fig=plt.figure(figsize=(M*3, N*2))\n",
    "i=0\n",
    "for d in mdiff:\n",
    "    if not ('transmission' in d.desc or 'V_' in d.desc or 'U_' in d.desc):\n",
    "        i+=1\n",
    "        ax=fig.add_subplot(M,N,i)\n",
    "        d.desc = mdesc(d.desc)\n",
    "        d.plot(fmt='-')\n",
    "fig.tight_layout()\n",
    "#fig.savefig('/home/did/RTC/SMART-G/smartg/validation/ALIS_water_jacobians.png', dpi=100)\n",
    "#fig.savefig('/home/documents/ESA/LPS2019/ALIS_water_jacobians.png', dpi=200)"
   ]
  },
  {
   "cell_type": "markdown",
   "metadata": {},
   "source": [
    "# Validation against HYDROLIGHT"
   ]
  },
  {
   "cell_type": "code",
   "execution_count": null,
   "metadata": {
    "ExecuteTime": {
     "end_time": "2021-01-28T13:47:23.770881Z",
     "start_time": "2021-01-28T13:47:23.744914Z"
    }
   },
   "outputs": [],
   "source": [
    "#hydrolight output pure water\n",
    "HL_PW = '''\n",
    "\"R\" \"R = Eu/Ed\"       5       5\n",
    " \" \"\n",
    " \" \" \"wavel\" \"in air\"    0.000    1.000    5.000\n",
    " 440.0   1.0766E-01   1.4224E-01   1.4228E-01   1.4243E-01\n",
    " 495.0   4.9788E-02   3.1616E-02   3.1620E-02   3.1634E-02\n",
    " 550.0   3.6312E-02   5.8226E-03   5.8218E-03   5.8187E-03\n",
    " 575.0   3.4924E-02   3.5155E-03   3.5147E-03   3.5115E-03\n",
    " 600.0   3.3475E-02   1.0209E-03   1.0201E-03   1.0173E-03\n",
    "'''\n",
    "HL_PW_0M =np.array([1.4224E-01, 5.8226E-03, 1.0209E-03])\n",
    "\n",
    "HL_PW_rrs='''\n",
    "\"Lu over Ed\" \"Lu/Ed (1/sr)\"       5       5\n",
    " \" \"\n",
    "\" \" \"wavel\" \"in air\"    0.000    1.000    5.000\n",
    " 440.0   2.9509E-02   4.2502E-02   4.2502E-02   4.2498E-02\n",
    " 495.0   1.0841E-02   9.8604E-03   9.8603E-03   9.8601E-03\n",
    " 550.0   6.5506E-03   1.8459E-03   1.8461E-03   1.8467E-03\n",
    " 575.0   6.1567E-03   1.1166E-03   1.1168E-03   1.1173E-03\n",
    " 600.0   5.7323E-03   3.2492E-04   3.2506E-04   3.2552E-04\n",
    " '''\n",
    "HL_PW_rrs_0M =np.array([4.2502E-02, 1.8459E-03, 3.2492E-04])"
   ]
  },
  {
   "cell_type": "code",
   "execution_count": null,
   "metadata": {
    "ExecuteTime": {
     "end_time": "2021-01-28T13:51:09.848971Z",
     "start_time": "2021-01-28T13:50:55.989062Z"
    },
    "run_control": {
     "marked": false
    }
   },
   "outputs": [],
   "source": [
    "import pandas as pd\n",
    "S=Smartg(double=True)\n",
    "wl=[440.,550.,600.]\n",
    "grid=[0,-9990,-10000] # in m for water, here sea bottom at 10 km depth, mimic inf. depth\n",
    "th0=30.\n",
    "\n",
    "# Workaround\n",
    "# Consider pure water as general sccaterer with imported phase function\n",
    "aph = pd.read_csv(ROOTPATH + '/smartg/validation/HYDROLIGHT/aw1.dat' , sep='\\s+', header=None)\n",
    "bph = pd.read_csv(ROOTPATH + '/smartg/validation/HYDROLIGHT/bw1.dat' , sep='\\s+', header=None)\n",
    "aw  = np.zeros_like(aph)\n",
    "ag  = np.zeros_like(aph)\n",
    "bw  = np.zeros_like(aph)\n",
    "\n",
    "aph = np.array(aph)\n",
    "bph = np.array(bph)\n",
    "\n",
    "PURE_WATER=True\n",
    "\n",
    "#1) Read one phase matrix unpolarized Rayleigh\n",
    "data = np.loadtxt(ROOTPATH + '/smartg/validation/HYDROLIGHT/petzold.dat')\n",
    "#data[:,1] = 3./4.*(1.+np.cos(np.radians(data[:,0]))**2)\n",
    "# Replace it by Pure water phase function used in Hydrolight\n",
    "data[:,1] = 0.06225*(1. + 0.835*np.cos(np.radians(data[:,0]))**2) # Mobley Light and Water chapter 3 , equ. 3.30\n",
    "np.savetxt(ROOTPATH + '/smartg/validation/HYDROLIGHT/pure_water.dat', data)\n",
    "phaR=read_phase(ROOTPATH + '/smartg/validation/HYDROLIGHT/pure_water.dat', kind='oc', standard=True)\n",
    "\n",
    "#2) Construct a LUT and fill all levels and all wavelengths with the the read phase matrix, You can of course\n",
    "# fill this LUT with several phase matrices\n",
    "pha = LUT(phaR.data[None,None,:,:],\n",
    "          names = ['wav_phase', 'z_phase'] + phaR.names,\n",
    "          axes = [np.array([\n",
    "              wl[0]]), np.array([0.])] + phaR.axes\n",
    "         )\n",
    "\n",
    "water_custom = IOP(phase=pha, aw=aw, ap=aph, aCDOM=ag, bw=bw, bp=bph, Z=grid)\n",
    "\n",
    "#) Add atmosphere and surface\n",
    "aer1 = AerOPAC('maritime_clean', 0.2, 550)\n",
    "atm  = AtmAFGL('afglms', O3=300., NO2=True, P0=1024., comp=[aer1])\n",
    "surf  = RoughSurface(WIND=5., NH2O=1.34)\n",
    "\n",
    "le={}\n",
    "le.update(th_deg = np.array([0.]))\n",
    "le.update(phi_deg= np.array([0.]))\n",
    "\n",
    "m1 = S.run(wl=wl, THVDEG=th0,\n",
    "                  atm=atm,\n",
    "                  surf=surf,\n",
    "                  water=water_custom,\n",
    "                  OUTPUT_LAYERS=3, NF=1e3,\n",
    "                  le=le, stdev=True,\n",
    "                  NBPHOTONS=1e6,\n",
    "                  alis_options={'nlow':-1, 'njac':0}\n",
    "                  )\n",
    "I=m1['I_up (0-)']\n",
    "dI=m1['I_stdev_up (0-)']\n",
    "dI_I = dI/I *100\n",
    "\n",
    "#irradiance\n",
    "f1 = S.run(wl, NBPHOTONS=1e6, THVDEG=th0, OUTPUT_LAYERS=3, stdev=True, alis_options={'nlow':-1, 'njac':0},\n",
    "                  atm=atm,  surf=surf, water=water_custom, flux='planar')\n",
    "\n",
    "fd=f1['flux_down (0-)']\n",
    "fu=f1['flux_up (0-)']\n",
    "\n",
    "#remote sensing ref. just below the surface\n",
    "rrs=I[:,0,0] / fd[:] /np.pi\n",
    "\n",
    "#Ref. just below the surface\n",
    "R = (fu/fd)[:]"
   ]
  },
  {
   "cell_type": "code",
   "execution_count": null,
   "metadata": {},
   "outputs": [],
   "source": [
    "print('\\n------------ Lu/Ed ----------')\n",
    "print(('SMART-G              : '+'{:11.4E} '*3).format(*rrs))\n",
    "print(('SMART-G Delta (%)    : '+'{:11.3f} '*3).format(*dI_I[:,0,0]))\n",
    "if PURE_WATER : \n",
    "    print(('HYDROLI              : '+'{:11.4E} '*3).format(*HL_PW_rrs_0M))\n",
    "    print(('SMART-G - HYDROLI (%): '+'{:11.3f} '*3).format(*((rrs-HL_PW_rrs_0M)/HL_PW_rrs_0M*100)))\n",
    "else: \n",
    "    print(('HYDROLI              : '+'{:11.4E} '*3).format(*HL_PZ_rrs_0M))\n",
    "    print(('SMART-G - HYDROLI (%): '+'{:11.3f} '*3).format(*((rrs-HL_PZ_rrs_0M)/HL_PZ_rrs_0M*100)))\n",
    "print('\\n------------ Eu/Ed ----------')   \n",
    "print(('SMART-G              : '+'{:11.4E} '*3).format(*R))\n",
    "if PURE_WATER : \n",
    "    print(('HYDROLI              : '+'{:11.4E} '*3).format(*HL_PW_0M))\n",
    "    print(('SMART-G - HYDROLI (%): '+'{:11.3f} '*3).format(*((R-HL_PW_0M)/HL_PW_0M*100)))\n",
    "else: \n",
    "    print(('HYDROLI              : '+'{:11.4E} '*3).format(*HL_PZ_0M))\n",
    "    print(('SMART-G - HYDROLI (%): '+'{:11.3f} '*3).format(*((R-HL_PZ_0M)/HL_PZ_0M*100)))"
   ]
  },
  {
   "cell_type": "markdown",
   "metadata": {},
   "source": [
    "# Thermal source"
   ]
  },
  {
   "cell_type": "code",
   "execution_count": null,
   "metadata": {
    "ExecuteTime": {
     "end_time": "2021-01-28T15:34:02.114433Z",
     "start_time": "2021-01-28T15:33:40.112720Z"
    }
   },
   "outputs": [],
   "source": [
    "from smartg.kdis import KDIS, KDIS_BAND, reduce_kdis, Kdis_Avg_Emission, Kdis_Emission\n",
    "from smartg.tools.cdf import ICDF2D\n",
    "\n",
    "# Validation gainst ARTDECO SLSTR thermal channels\n",
    "THERMAL  = KDIS('s3a_slstr_th', '/archive/proj/pykdis/output/s3a_slstr_th/')\n",
    "ibands  = THERMAL.to_smartg()\n",
    "\n",
    "# Atmosphere with 1000 m layers\n",
    "NZ= 36\n",
    "atm          = AtmAFGL('/home/mathieu/tmp/atm_afgl_midsum_red.dat', grid=np.linspace(35, 0, num=NZ), US=False)\n",
    "prof_atm     = atm.calc(ibands.l)\n",
    "z            = -prof_atm.axis('z_atm') * 1e3 # m\n",
    "\n",
    "Norm_Emission = (4*np.pi) * Kdis_Emission(prof_atm, ibands).reduce(np.sum, 'z_atm')\n",
    "P_Emission   = Kdis_Emission(prof_atm, ibands) * (4*np.pi) / Norm_Emission\n",
    "cell_proba   = ICDF2D(P_Emission.data, N=10000).T\n",
    "\n",
    "surf = None\n",
    "m = Smartg(device=0, thermal=True, alt_pp=True).run(BEER=0, DIRECT=True,\n",
    "          cell_proba=cell_proba, wl=ibands.l, \n",
    "          NBPHOTONS=1e6, NBLOOP=1e6, OUTPUT_LAYERS=1, atm=prof_atm, surf=surf)\n",
    "m_int = reduce_kdis(m, ibands, integrated=True,  extern_weights=Kdis_Avg_Emission(m,ibands))\n",
    "fl = Smartg(thermal=True, alt_pp=True).run(BEER=0, DIRECT=True,\n",
    "          cell_proba=cell_proba, wl=ibands.l, flux='planar',\n",
    "          NBPHOTONS=1e6, NBLOOP=1e6, OUTPUT_LAYERS=1, atm=prof_atm, surf=surf)\n",
    "fl_int = reduce_kdis(fl, ibands, integrated=True,  extern_weights=Kdis_Avg_Emission(m,ibands))"
   ]
  },
  {
   "cell_type": "code",
   "execution_count": null,
   "metadata": {
    "ExecuteTime": {
     "end_time": "2021-01-28T15:34:05.175374Z",
     "start_time": "2021-01-28T15:34:05.054278Z"
    }
   },
   "outputs": [],
   "source": [
    "lines = open('/home/mathieu/tmp/test_th_atm_midsum_12_10mres.dat','r').readlines()\n",
    "lines[-8], lines[8]"
   ]
  },
  {
   "cell_type": "code",
   "execution_count": null,
   "metadata": {
    "ExecuteTime": {
     "end_time": "2021-01-28T15:34:05.547998Z",
     "start_time": "2021-01-28T15:34:05.520667Z"
    }
   },
   "outputs": [],
   "source": [
    "lines = open('/home/mathieu/tmp/test_th_atm_midsum_10p85_10mres.dat','r').readlines()\n",
    "lines[-9], lines[7]"
   ]
  },
  {
   "cell_type": "code",
   "execution_count": null,
   "metadata": {
    "ExecuteTime": {
     "end_time": "2021-01-28T15:34:06.055566Z",
     "start_time": "2021-01-28T15:34:06.029302Z"
    }
   },
   "outputs": [],
   "source": [
    "fl_int['flux_up (TOA)'].data, fl_int['flux_down (0+)'].data"
   ]
  },
  {
   "cell_type": "code",
   "execution_count": null,
   "metadata": {},
   "outputs": [],
   "source": []
  }
 ],
 "metadata": {
  "anaconda-cloud": {},
  "hide_input": false,
  "kernelspec": {
   "display_name": "Python 3 (ipykernel)",
   "language": "python",
   "name": "python3"
  },
  "language_info": {
   "codemirror_mode": {
    "name": "ipython",
    "version": 3
   },
   "file_extension": ".py",
   "mimetype": "text/x-python",
   "name": "python",
   "nbconvert_exporter": "python",
   "pygments_lexer": "ipython3",
   "version": "3.11.9"
  },
  "toc": {
   "colors": {
    "hover_highlight": "#DAA520",
    "navigate_num": "#000000",
    "navigate_text": "#333333",
    "running_highlight": "#FF0000",
    "selected_highlight": "#FFD700",
    "sidebar_border": "#EEEEEE",
    "wrapper_background": "#FFFFFF"
   },
   "moveMenuLeft": true,
   "nav_menu": {
    "height": "512px",
    "width": "252px"
   },
   "navigate_menu": true,
   "number_sections": true,
   "sideBar": true,
   "threshold": 4,
   "toc_cell": true,
   "toc_number_sections": true,
   "toc_position": {
    "height": "610.467px",
    "left": "0px",
    "right": "1683px",
    "top": "158.867px",
    "width": "237px"
   },
   "toc_section_display": "block",
   "toc_threshold": 4,
   "toc_window_display": true,
   "widenNotebook": false
  },
  "toc_position": {
   "left": "1588px",
   "right": "32px",
   "top": "95px",
   "width": "300px"
  },
  "widgets": {
   "state": {
    "18d577d8c5e54cab8b002be98b41be0e": {
     "views": [
      {
       "cell_index": 53
      }
     ]
    },
    "19219e6c2c3a4fbd9ea46bc35650f79d": {
     "views": [
      {
       "cell_index": 53
      }
     ]
    },
    "1df36386c5e64ebf884c81aa2051d6f5": {
     "views": [
      {
       "cell_index": 52
      }
     ]
    },
    "20d23fd831414c89852ffa609372c8ec": {
     "views": [
      {
       "cell_index": 52
      }
     ]
    },
    "30e1420996dd4008bee5dcf02078d4e9": {
     "views": [
      {
       "cell_index": 53
      }
     ]
    },
    "389c5d7fcd2e47f2aa5bc01593698c0e": {
     "views": [
      {
       "cell_index": 53
      }
     ]
    },
    "478704c20b5d4c43bee67182c4d54799": {
     "views": [
      {
       "cell_index": 5
      }
     ]
    },
    "494d9403f3c34114bc21eb5f85a87c31": {
     "views": [
      {
       "cell_index": 43
      }
     ]
    },
    "49838619df7641dfa80498ac15059d4b": {
     "views": [
      {
       "cell_index": 53
      }
     ]
    },
    "4e5fa074f2d543a8851f267baa23c778": {
     "views": [
      {
       "cell_index": 53
      }
     ]
    },
    "7431c046e7f04b1da45cbdd8ecfcbbcd": {
     "views": [
      {
       "cell_index": 11
      }
     ]
    },
    "754f91ccc1754daeb8eb014f6eea76df": {
     "views": [
      {
       "cell_index": 53
      }
     ]
    },
    "96cf6fc3142647e5b3985b76c65382fa": {
     "views": [
      {
       "cell_index": 53
      }
     ]
    },
    "98d18a6fc1f745ae8e41278f138a5f0c": {
     "views": [
      {
       "cell_index": 52
      }
     ]
    },
    "af1b90fcdffc43a8ac4e5133ad2ac204": {
     "views": [
      {
       "cell_index": 52
      }
     ]
    },
    "e3ab31e85a9d4d6cbb9e6f497d29df8b": {
     "views": [
      {
       "cell_index": 52
      }
     ]
    },
    "ef572a6040f14f63aa2e061d1364bd57": {
     "views": [
      {
       "cell_index": 53
      }
     ]
    },
    "f449b50878f947aca2f4796b2a19545f": {
     "views": [
      {
       "cell_index": 53
      }
     ]
    }
   },
   "version": "1.2.0"
  }
 },
 "nbformat": 4,
 "nbformat_minor": 1
}
