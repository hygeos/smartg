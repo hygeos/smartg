{
 "cells": [
  {
   "cell_type": "markdown",
   "metadata": {},
   "source": [
    "# SMART-G validation IPRT phase A \n",
    "- https://www.meteo.physik.uni-muenchen.de/~iprt/doku.php?id=start"
   ]
  },
  {
   "cell_type": "code",
   "execution_count": null,
   "metadata": {},
   "outputs": [],
   "source": [
    "%matplotlib inline\n",
    "# next 2 lines allow to automatically reload modules that have been changed externally\n",
    "%reload_ext autoreload\n",
    "%autoreload 2\n",
    "\n",
    "import os, sys\n",
    "\n",
    "try:\n",
    "    import subprocess\n",
    "    check = subprocess.check_call(['git', 'rev-parse', '--show-toplevel'], stdout=subprocess.DEVNULL, stderr=subprocess.STDOUT)\n",
    "    ROOTPATH = subprocess.Popen(['git', 'rev-parse', '--show-toplevel'], stdout=subprocess.PIPE).communicate()[0].rstrip().decode('utf-8') # Root Git Path\n",
    "except subprocess.CalledProcessError:\n",
    "    ROOTPATH = os.getcwd()\n",
    "sys.path.insert(0, ROOTPATH)\n",
    "\n",
    "from smartg.smartg import Smartg, Sensor, RoughSurface, LambSurface, Albedo_cst\n",
    "from smartg.atmosphere import AtmAFGL, diff1, trapzinterp\n",
    "\n",
    "from luts.luts import LUT, Idx\n",
    "import pandas as pd\n",
    "import numpy as np\n",
    "from pathlib import Path\n",
    "\n",
    "from smartg.tools.phase import calc_iphase\n",
    "import matplotlib.pyplot as plt\n",
    "\n",
    "from smartg.iprt import convert_SGout_to_IPRTout, select_and_plot_polar_iprt, seclect_iprt_IQUV, compute_deltam, plot_iprt_radiances, groupIQUV, read_phase_nth_cte\n",
    "\n",
    "\n",
    "output_folder_path = ROOTPATH + \"/notebooks/SMARTG_RES_IPRT_REF/\"\n",
    "Path(output_folder_path).mkdir(parents=True, exist_ok=True)\n",
    "\n",
    "OPT_PROP_PATH = ROOTPATH + \"/auxdata/IPRT/phaseA/opt_prop/\"\n",
    "MYSTIC_RES_PATH = ROOTPATH + \"/auxdata/IPRT/phaseA/mystic_res/\"\n",
    "\n",
    "# Compilation in forward and backward\n",
    "S1DF = Smartg(alt_pp=False, back=False, double=True, bias=True)\n",
    "S1DB = Smartg(alt_pp=False, back=True, double=True, bias=True)\n",
    "\n",
    "SEED = 1e8"
   ]
  },
  {
   "cell_type": "markdown",
   "metadata": {},
   "source": [
    "## Test cases including a single layer"
   ]
  },
  {
   "cell_type": "markdown",
   "metadata": {},
   "source": [
    "### Case A1"
   ]
  },
  {
   "cell_type": "markdown",
   "metadata": {},
   "source": [
    "#### Atmosphere profil"
   ]
  },
  {
   "cell_type": "code",
   "execution_count": null,
   "metadata": {},
   "outputs": [],
   "source": [
    "mol_sca = np.array([0., 0.5])[None,:]\n",
    "mol_abs= np.array([0., 0.])[None,:]\n",
    "z = np.array([1., 0.])\n",
    "wl = 550.\n",
    "\n",
    "proA1 = AtmAFGL('afglt', grid=z, prof_ray=mol_sca, prof_abs=mol_abs).calc(wl)\n",
    "surfA1  = None\n",
    "NBPH = 1e8"
   ]
  },
  {
   "cell_type": "markdown",
   "metadata": {},
   "source": [
    "#### Compute radiances depol=0, sza=0, saa=65\n",
    "- Note: In forward there is a bug for SZA near to 0 (see Q and U values), then simulation is performed in backward (more comsuming) "
   ]
  },
  {
   "cell_type": "code",
   "execution_count": null,
   "metadata": {},
   "outputs": [],
   "source": [
    "SZA = 0.\n",
    "SAA = 65.\n",
    "PHI_0 = 180.-SAA # To follow MYSTIC convention\n",
    "le     = {'th_deg':np.array([SZA]), 'phi_deg':np.array([PHI_0])}\n",
    "\n",
    "# BOA radiances\n",
    "VZAMIN = 0.\n",
    "VZAMAX = 80.\n",
    "VZAINC = 5.\n",
    "VZA = np.arange(VZAMIN, VZAMAX+VZAINC, VZAINC)\n",
    "\n",
    "# VAA from 0. to 180.\n",
    "VAAMIN = 0.\n",
    "VAAMAX = 360.\n",
    "VAAINC = 5.\n",
    "VAA = np.arange(VAAMIN, VAAMAX+VAAINC, VAAINC)\n",
    "\n",
    "lsensors = []\n",
    "NBVZA = len(VZA)\n",
    "NBVAA = len(VAA)\n",
    "NBDIR = round(NBVAA*NBVZA)\n",
    "for iza, za in enumerate(VZA):\n",
    "    for iaa, aa in enumerate(VAA):\n",
    "        PHI = -aa+180\n",
    "        lsensors.append(Sensor(POSZ=np.min(z), THDEG=za, PHDEG=PHI, LOC='ATMOS'))\n",
    "\n",
    "mA1B = S1DB.run(wl=550., NBPHOTONS=NBPH*NBDIR, NBLOOP=1e8, atm=proA1, sensor=lsensors,\n",
    "                le=le, surf=surfA1, XBLOCK = 64, XGRID = 1024, BEER=1, DEPO=0.0, stdev=True, progress=True, SEED=SEED)\n",
    "\n",
    "mA1B = mA1B.dropaxis('Azimuth angles', 'Zenith angles')\n",
    "mA1B.add_axis('Azimuth angles', -VAA+180.)\n",
    "mA1B.add_axis('Zenith angles', VZA)\n",
    "\n",
    "for name in mA1B.datasets():\n",
    "    if 'sensor index' in mA1B[name].names:\n",
    "        mat_tmp = np.swapaxes(mA1B[name][:].reshape(len(VZA), len(VAA)), 0, 1)\n",
    "        attrs_tmp = mA1B[name].attrs\n",
    "        mA1B.rm_lut(name)\n",
    "        mA1B.add_dataset(name, mat_tmp, ['Azimuth angles', 'Zenith angles'], attrs=attrs_tmp)\n",
    "\n",
    "mA1B_boa_dep0 = mA1B.dropaxis('sensor index')\n",
    "\n",
    "# TOA radiances\n",
    "VZAMIN = 100.\n",
    "VZAMAX = 180.\n",
    "VZAINC = 5.\n",
    "VZA = np.arange(VZAMIN, VZAMAX+VZAINC, VZAINC)\n",
    "\n",
    "lsensors = []\n",
    "NBVZA = len(VZA)\n",
    "NBVAA = len(VAA)\n",
    "NBDIR = round(NBVAA*NBVZA)\n",
    "for iza, za in enumerate(VZA):\n",
    "    for iaa, aa in enumerate(VAA):\n",
    "        PHI = -aa+180\n",
    "        lsensors.append(Sensor(POSZ=np.max(z), THDEG=za, PHDEG=PHI, LOC='ATMOS'))\n",
    "\n",
    "mA1B = S1DB.run(wl=wl, NBPHOTONS=NBPH*NBDIR, NBLOOP=1e8, atm=proA1, sensor=lsensors,\n",
    "                le=le, surf=surfA1, XBLOCK = 64, XGRID = 1024, BEER=1, DEPO=0.0, stdev=True, progress=True, SEED=SEED)\n",
    "\n",
    "mA1B = mA1B.dropaxis('Azimuth angles', 'Zenith angles')\n",
    "mA1B.add_axis('Azimuth angles', -VAA+180.)\n",
    "mA1B.add_axis('Zenith angles', VZA)\n",
    "\n",
    "for name in mA1B.datasets():\n",
    "    if 'sensor index' in mA1B[name].names:\n",
    "        mat_tmp = np.swapaxes(mA1B[name][:].reshape(len(VZA), len(VAA)), 0, 1)\n",
    "        attrs_tmp = mA1B[name].attrs\n",
    "        mA1B.rm_lut(name)\n",
    "        mA1B.add_dataset(name, mat_tmp, ['Azimuth angles', 'Zenith angles'], attrs=attrs_tmp)\n",
    "\n",
    "mA1B_toa_dep0 = mA1B.dropaxis('sensor index')"
   ]
  },
  {
   "cell_type": "code",
   "execution_count": null,
   "metadata": {},
   "outputs": [],
   "source": [
    "mA1B_boa_dep0.save(output_folder_path + \"iprt_a1_smartg_dep0_boa_ref.nc\", overwrite=True)\n",
    "mA1B_toa_dep0.save(output_folder_path + \"iprt_a1_smartg_dep0_toa_ref.nc\", overwrite=True)"
   ]
  },
  {
   "cell_type": "markdown",
   "metadata": {},
   "source": [
    "#### Compute radiances depol=0.03, sza=30, saa=0"
   ]
  },
  {
   "cell_type": "code",
   "execution_count": null,
   "metadata": {},
   "outputs": [],
   "source": [
    "VZAMIN = 100.\n",
    "VZAMAX = 180.\n",
    "VZAINC = 5.\n",
    "VZA = np.arange(VZAMIN, VZAMAX+VZAINC, VZAINC)\n",
    "\n",
    "VAAMIN = 0.\n",
    "VAAMAX = 360.\n",
    "VAAINC = 5.\n",
    "VAA = np.arange(VAAMIN, VAAMAX+VAAINC, VAAINC)\n",
    "\n",
    "# SMART-G Forward TH and PHI using local estimate (anticlockwise) conversion with VZA and VAA MYSTIC (clockwise)\n",
    "TH  = 180.-VZA\n",
    "PHI = -VAA\n",
    "TH[TH==0] = 1e-6  # avoid problem due to special case of 0\n",
    "le     = {'th_deg':TH, 'phi_deg':PHI}#, 'zip':True}\n",
    "\n",
    "SZA = 30.0\n",
    "SAA = 0.\n",
    "PHI_0 = 180.-SAA # SMART-G anticlockwise converted to be consistent with MYSTIC\n",
    "\n",
    "mA1F_dep003 = S1DF.run(THVDEG=SZA, PHVDEG=PHI_0, wl=wl, NBPHOTONS=NBPH, NBLOOP=min(1e6, round(NBPH/10.)), atm=proA1, OUTPUT_LAYERS=int(1),\n",
    "                       le=le, surf=surfA1, XBLOCK = 64, XGRID = 1024, BEER=1, DEPO=0.03, stdev=True, SEED=SEED)"
   ]
  },
  {
   "cell_type": "code",
   "execution_count": null,
   "metadata": {},
   "outputs": [],
   "source": [
    "mA1F_dep003.save(output_folder_path + \"iprt_a1_smartg_dep003_ref.nc\", overwrite=True)"
   ]
  },
  {
   "cell_type": "markdown",
   "metadata": {},
   "source": [
    "#### Compute radiances depol=0.1, sza=30, saa=65"
   ]
  },
  {
   "cell_type": "code",
   "execution_count": null,
   "metadata": {},
   "outputs": [],
   "source": [
    "VZAMIN = 100.\n",
    "VZAMAX = 180.\n",
    "VZAINC = 5.\n",
    "VZA = np.arange(VZAMIN, VZAMAX+VZAINC, VZAINC)\n",
    "\n",
    "VAAMIN = 0.\n",
    "VAAMAX = 360.\n",
    "VAAINC = 5.\n",
    "VAA = np.arange(VAAMIN, VAAMAX+VAAINC, VAAINC)\n",
    "\n",
    "# SMART-G Forward TH and PHI using local estimate (anticlockwise) conversion with VZA and VAA MYSTIC (clockwise)\n",
    "TH  = 180.-VZA\n",
    "PHI = -VAA\n",
    "TH[TH==0] = 1e-6  # avoid problem due to special case of 0\n",
    "le     = {'th_deg':TH, 'phi_deg':PHI}#, 'zip':True}\n",
    "\n",
    "SZA = 30.0\n",
    "SAA = 65.0\n",
    "PHI_0 = 180.-SAA # SMART-G anticlockwise converted to be consistent with MYSTIC\n",
    "\n",
    "# stdev_lim = StdevLim(err_rel_min=1e-2, format=\".2e\", verbose=True)\n",
    "mA1F_dep01 = S1DF.run(THVDEG=SZA, PHVDEG=PHI_0, wl=wl, NBPHOTONS=NBPH, NBLOOP=min(1e6, round(NBPH/10.)), atm=proA1, OUTPUT_LAYERS=int(1),\n",
    "                       le=le, surf=surfA1, XBLOCK = 64, XGRID = 1024, BEER=1, DEPO=0.1, stdev=True, SEED=SEED)"
   ]
  },
  {
   "cell_type": "code",
   "execution_count": null,
   "metadata": {},
   "outputs": [],
   "source": [
    "mA1F_dep01.save(output_folder_path + \"iprt_a1_smartg_dep01_ref.nc\", overwrite=True)"
   ]
  },
  {
   "cell_type": "markdown",
   "metadata": {},
   "source": [
    "#### Convert into iprt output format"
   ]
  },
  {
   "cell_type": "code",
   "execution_count": null,
   "metadata": {},
   "outputs": [],
   "source": [
    "# Radiances \n",
    "VZA_boa_dep0 = mA1B_boa_dep0.axes['Zenith angles']\n",
    "VAA_boa_dep0 = 180.-mA1B_boa_dep0.axes['Azimuth angles']\n",
    "VZA_toa_dep0 = mA1B_toa_dep0.axes['Zenith angles']\n",
    "VAA_toa_dep0 = 180.-mA1B_toa_dep0.axes['Azimuth angles']\n",
    "\n",
    "VZA_dep003 = 180.-mA1F_dep003.axes['Zenith angles']\n",
    "VAA_dep003 = -mA1F_dep003.axes['Azimuth angles']\n",
    "VZA_dep01 = 180.-mA1F_dep01.axes['Zenith angles']\n",
    "VAA_dep01 = -mA1F_dep01.axes['Azimuth angles']\n",
    "\n",
    "filename  = output_folder_path + \"iprt_case_a1_smartg_ref.dat\"\n",
    "case_name = \"A1\"\n",
    "ldepol    = [0., 0., 0.03, 0.03, 0.1, 0.1]\n",
    "lalt      = [0., 1., 0., 1., 0., 1.]\n",
    "lSZA      = [0., 0., 30., 30., 30., 30.]\n",
    "lSAA      = [65., 65., 0., 0., 65., 65.]\n",
    "\n",
    "# convert\n",
    "convert_SGout_to_IPRTout(lm=[mA1B_boa_dep0, mA1B_toa_dep0, mA1F_dep003, mA1F_dep003, mA1F_dep01, mA1F_dep01], lU_sign=[1., 1, -1, -1, -1, -1], case_name=case_name,\n",
    "                         ldepol=ldepol, lalt=lalt, lSZA=lSZA, lSAA=lSAA,lVZA=[VZA_boa_dep0, VZA_toa_dep0, 180.-VZA_dep003, VZA_dep003, 180.-VZA_dep01, VZA_dep01],\n",
    "                         lVAA=[VAA_boa_dep0, VAA_toa_dep0, VAA_dep003, VAA_dep003, VAA_dep01, VAA_dep01], file_name=filename,\n",
    "                         output_layer=['_up (TOA)', '_up (TOA)', '_down (0+)', '_up (TOA)', '_down (0+)', '_up (TOA)'])"
   ]
  },
  {
   "cell_type": "markdown",
   "metadata": {},
   "source": [
    "#### Comparison with MYSTIC"
   ]
  },
  {
   "cell_type": "code",
   "execution_count": null,
   "metadata": {},
   "outputs": [],
   "source": [
    "filename  = output_folder_path + \"iprt_case_a1_smartg_ref.dat\"\n",
    "case_name = \"A1\"\n",
    "ldepol    = [0., 0., 0.03, 0.03, 0.1, 0.1]\n",
    "lalt      = [0., 1., 0., 1., 0., 1.]\n",
    "lSZA      = [0., 0., 30., 30., 30., 30.]\n",
    "lSAA      = [65., 65., 0., 0., 65., 65.]\n",
    "lINVTH    = [False, True, False, True, False, True]\n",
    "\n",
    "smartg_a1 = pd.read_csv(filename, header=None, sep=r'\\s+', dtype=float, comment=\"#\").values\n",
    "mystic_a1 = pd.read_csv(MYSTIC_RES_PATH + \"iprt_case_a1_mystic.dat\", header=None, sep=r'\\s+', dtype=float, comment=\"#\").values\n",
    "model     = smartg_a1\n",
    "ref_model = mystic_a1\n",
    "mod_name  = \"SMARTG\"\n",
    "rmod_name = \"MYSTIC\"\n",
    "lINVTH_rmod  = [False, True, False, True, False, True]\n",
    "lINVTH_mod   = [False, True, False, True, False, True]\n",
    "lU_sign_rmod  =[True, True, True, True, True, True]\n",
    "lU_sign_mod  = [True, True, True, True, True, True]\n",
    "lV_sign_rmod  =[False, False, False, False, False, False]\n",
    "lV_sign_mod  = [False, False, False, False, False, False]\n",
    "avoidP_rmod = False\n",
    "avoidP_mod  = True\n",
    "avoidP_dif  = False\n",
    "sym = False\n",
    "\n",
    "NBRES = len(ldepol)\n",
    "for ires in range (0,NBRES):\n",
    "    title = f\"IPRT case {case_name} - depol = {ldepol[ires]} - SZA = {lSZA[ires]:.0f} - SAA = {lSAA[ires]:.0f}  - {lalt[ires]:.0f}km - {rmod_name}\"\n",
    "    I_rmod, Q_rmod, U_rmod, V_rmod = select_and_plot_polar_iprt(ref_model, z_alti=lalt[ires], depol=ldepol[ires], title=title, change_U_sign=lU_sign_rmod[ires], change_V_sign=lV_sign_rmod[ires],\n",
    "                                                                        inv_thetas=lINVTH[ires], sym=sym, outputIQUV=True, avoid_plot=avoidP_rmod)\n",
    "    \n",
    "    title = f\"IPRT case {case_name} - depol = {ldepol[ires]} - SZA = {lSZA[ires]:.0f} - SAA = {lSAA[ires]:.0f} - {lalt[ires]:.0f}km - {mod_name}\"\n",
    "    I_mod, Q_mod, U_mod, V_mod = select_and_plot_polar_iprt(model, z_alti=lalt[ires], depol=ldepol[ires], title=title, change_U_sign=lU_sign_mod[ires], change_V_sign=lV_sign_mod[ires],\n",
    "                                                                        inv_thetas=lINVTH[ires], sym=sym, outputIQUV=True, avoid_plot=avoidP_mod)\n",
    "    \n",
    "    if (ires == 0):\n",
    "        IQUV_mod_tot = groupIQUV(lI=[I_mod], lQ=[Q_mod], lU=[U_mod], lV=[V_mod])\n",
    "        IQUV_rmod_tot = groupIQUV(lI=[I_rmod], lQ=[Q_rmod], lU=[U_rmod], lV=[V_rmod])\n",
    "    else:\n",
    "        IQUV_mod_tot = np.concatenate((IQUV_mod_tot, groupIQUV(lI=[I_mod], lQ=[Q_mod], lU=[U_mod], lV=[V_mod])), axis=1)\n",
    "        IQUV_rmod_tot = np.concatenate((IQUV_rmod_tot, groupIQUV(lI=[I_rmod], lQ=[Q_rmod], lU=[U_rmod], lV=[V_rmod])), axis=1)\n",
    "\n",
    "    I_val = I_rmod-I_mod\n",
    "    Q_val = Q_rmod-Q_mod\n",
    "    U_val = U_rmod-U_mod\n",
    "    V_val = V_rmod-V_mod\n",
    "    maxI = max(np.abs(np.min(I_val)), np.abs(np.max(I_val)))\n",
    "    maxQ = max(np.abs(np.min(Q_val)), np.abs(np.max(Q_val)))\n",
    "    maxU = max(np.abs(np.min(U_val)), np.abs(np.max(U_val)))\n",
    "    maxV = max(np.abs(np.min(V_val)), np.abs(np.max(V_val)))\n",
    "    title = f\"IPRT case {case_name} - depol = {ldepol[ires]}  - SZA = {lSZA[ires]:.0f} - SAA = {lSAA[ires]:.0f} - {ldepol[ires]:.0f}km - dif ({rmod_name}-{mod_name})\"\n",
    "    select_and_plot_polar_iprt(ref_model, z_alti=lalt[ires], depol=ldepol[ires], title=title, forceIQUV=[I_val, Q_val, U_val, V_val],\n",
    "                               maxI=maxI, maxQ=maxQ, maxU=maxU, maxV=maxV, cmapI='RdBu_r', avoid_plot=avoidP_dif)\n"
   ]
  },
  {
   "cell_type": "markdown",
   "metadata": {},
   "source": [
    "#### Compute delta_m"
   ]
  },
  {
   "cell_type": "code",
   "execution_count": null,
   "metadata": {},
   "outputs": [],
   "source": [
    "delta_m_a1 = compute_deltam(obs=IQUV_rmod_tot, mod=IQUV_mod_tot, print_res=True)"
   ]
  },
  {
   "cell_type": "markdown",
   "metadata": {},
   "source": [
    "### Case A2"
   ]
  },
  {
   "cell_type": "markdown",
   "metadata": {},
   "source": [
    "#### Atmosphere profil"
   ]
  },
  {
   "cell_type": "code",
   "execution_count": null,
   "metadata": {},
   "outputs": [],
   "source": [
    "mol_sca = np.array([0., 0.1])[None,:]\n",
    "mol_abs= np.array([0., 0.])[None,:]\n",
    "z = np.array([1., 0.])\n",
    "wl = 550.\n",
    "proA2 = AtmAFGL('afglt', grid=z, prof_ray=mol_sca, prof_abs=mol_abs).calc(wl)\n",
    "surfA2  = LambSurface(ALB=Albedo_cst(0.3))\n",
    "NBPH = 1e8"
   ]
  },
  {
   "cell_type": "markdown",
   "metadata": {},
   "source": [
    "#### Compute radiances"
   ]
  },
  {
   "cell_type": "code",
   "execution_count": null,
   "metadata": {},
   "outputs": [],
   "source": [
    "VZAMIN = 100.\n",
    "VZAMAX = 180.\n",
    "VZAINC = 5.\n",
    "VZA = np.arange(VZAMIN, VZAMAX+VZAINC, VZAINC)\n",
    "\n",
    "VAAMIN = 0.\n",
    "VAAMAX = 180.\n",
    "VAAINC = 5.\n",
    "VAA = np.arange(VAAMIN, VAAMAX+VAAINC, VAAINC)\n",
    "\n",
    "# SMART-G Forward TH and PHI using local estimate (anticlockwise) conversion with VZA and VAA MYSTIC (clockwise)\n",
    "TH  = 180.-VZA\n",
    "PHI = -VAA\n",
    "TH[TH==0] = 1e-6  # avoid problem due to special case of 0\n",
    "le     = {'th_deg':TH, 'phi_deg':PHI}#, 'zip':True}\n",
    "\n",
    "SZA = 50.\n",
    "SAA = 0.\n",
    "PHI_0 = 180.-SAA # SMART-G anticlockwise converted to be consistent with MYSTIC\n",
    "\n",
    "mA2F = S1DF.run(THVDEG=SZA, PHVDEG=PHI_0, wl=550., NBPHOTONS=NBPH, NBLOOP=min(1e6, round(NBPH/10.)), atm=proA2, OUTPUT_LAYERS=int(1),\n",
    "                le=le, surf=surfA2, XBLOCK = 64, XGRID = 1024, BEER=1, DEPO=0.03, stdev=True, SEED=SEED)"
   ]
  },
  {
   "cell_type": "code",
   "execution_count": null,
   "metadata": {},
   "outputs": [],
   "source": [
    "mA2F.save(output_folder_path + \"iprt_a2_smartg_ref.nc\", overwrite=True)"
   ]
  },
  {
   "cell_type": "markdown",
   "metadata": {},
   "source": [
    "#### Convert into iprt output format"
   ]
  },
  {
   "cell_type": "code",
   "execution_count": null,
   "metadata": {},
   "outputs": [],
   "source": [
    "# Radiances (Forward, U must be multiplied by -1)\n",
    "m = mA2F\n",
    "VZA = 180.-m.axes['Zenith angles']\n",
    "VAA = -m.axes['Azimuth angles']\n",
    "\n",
    "filename  = output_folder_path + \"iprt_case_a2_smartg_ref.dat\"\n",
    "case_name = \"A2\"\n",
    "ldepol    = [0.03, 0.03]\n",
    "lalt      = [0., 1.]\n",
    "lSZA      = [50., 50.]\n",
    "lSAA      = [0., 0.]\n",
    "\n",
    "# convert\n",
    "convert_SGout_to_IPRTout(lm=[m, m], lU_sign=[-1, -1], case_name=case_name, ldepol=ldepol, lalt=lalt, lSZA=lSZA, lSAA=lSAA, lVZA=[180.-VZA, VZA],\n",
    "                         lVAA=[VAA, VAA], file_name=filename, output_layer=['_down (0+)', '_up (TOA)'])"
   ]
  },
  {
   "cell_type": "markdown",
   "metadata": {},
   "source": [
    "#### Comparison with MYSTIC"
   ]
  },
  {
   "cell_type": "code",
   "execution_count": null,
   "metadata": {},
   "outputs": [],
   "source": [
    "filename  = output_folder_path + \"iprt_case_a2_smartg_ref.dat\"\n",
    "case_name = \"A2\"\n",
    "ldepol    = [0.03, 0.03]\n",
    "lalt      = [0., 1.]\n",
    "lSZA      = [50., 50.]\n",
    "lSAA      = [0., 0.]\n",
    "\n",
    "smartg_a2 = pd.read_csv(filename, header=None, sep=r'\\s+', dtype=float, comment=\"#\").values\n",
    "mystic_a2 = pd.read_csv(MYSTIC_RES_PATH + \"iprt_case_a2_mystic.dat\", header=None, sep=r'\\s+', dtype=float, comment=\"#\").values\n",
    "model     = smartg_a2\n",
    "ref_model = mystic_a2\n",
    "mod_name  = \"SMARTG\"\n",
    "rmod_name = \"MYSTIC\"\n",
    "lINVTH_rmod  = [False, True]\n",
    "lINVTH_mod   = [False, True]\n",
    "lU_sign_rmod  =[True, True]\n",
    "lU_sign_mod  = [True, True]\n",
    "lV_sign_rmod  =[False, False]\n",
    "lV_sign_mod  = [False, False]\n",
    "avoidP_rmod = False\n",
    "avoidP_mod  = True\n",
    "avoidP_dif  = False\n",
    "sym = True\n",
    "\n",
    "NBRES = len(ldepol)\n",
    "for ires in range (0,NBRES):\n",
    "    title = f\"IPRT case {case_name} - depol = {ldepol[ires]} - SZA = {lSZA[ires]:.0f} - SAA = {lSAA[ires]:.0f}  - {lalt[ires]:.0f}km - {rmod_name}\"\n",
    "    I_rmod, Q_rmod, U_rmod, V_rmod = select_and_plot_polar_iprt(ref_model, z_alti=lalt[ires], depol=ldepol[ires], title=title, change_U_sign=lU_sign_rmod[ires], change_V_sign=lV_sign_rmod[ires],\n",
    "                                                                        inv_thetas=lINVTH[ires], sym=sym, outputIQUV=True, avoid_plot=avoidP_rmod)\n",
    "    \n",
    "    title = f\"IPRT case {case_name} - depol = {ldepol[ires]} - SZA = {lSZA[ires]:.0f} - SAA = {lSAA[ires]:.0f} - {lalt[ires]:.0f}km - {mod_name}\"\n",
    "    I_mod, Q_mod, U_mod, V_mod = select_and_plot_polar_iprt(model, z_alti=lalt[ires], depol=ldepol[ires], title=title, change_U_sign=lU_sign_mod[ires], change_V_sign=lV_sign_mod[ires],\n",
    "                                                                        inv_thetas=lINVTH[ires], sym=sym, outputIQUV=True, avoid_plot=avoidP_mod)\n",
    "    \n",
    "    if (ires == 0):\n",
    "        IQUV_mod_tot = groupIQUV(lI=[I_mod], lQ=[Q_mod], lU=[U_mod], lV=[V_mod])\n",
    "        IQUV_rmod_tot = groupIQUV(lI=[I_rmod], lQ=[Q_rmod], lU=[U_rmod], lV=[V_rmod])\n",
    "    else:\n",
    "        IQUV_mod_tot = np.concatenate((IQUV_mod_tot, groupIQUV(lI=[I_mod], lQ=[Q_mod], lU=[U_mod], lV=[V_mod])), axis=1)\n",
    "        IQUV_rmod_tot = np.concatenate((IQUV_rmod_tot, groupIQUV(lI=[I_rmod], lQ=[Q_rmod], lU=[U_rmod], lV=[V_rmod])), axis=1)\n",
    "\n",
    "    I_val = I_rmod-I_mod\n",
    "    Q_val = Q_rmod-Q_mod\n",
    "    U_val = U_rmod-U_mod\n",
    "    V_val = V_rmod-V_mod\n",
    "    maxI = max(np.abs(np.min(I_val)), np.abs(np.max(I_val)))\n",
    "    maxQ = max(np.abs(np.min(Q_val)), np.abs(np.max(Q_val)))\n",
    "    maxU = max(np.abs(np.min(U_val)), np.abs(np.max(U_val)))\n",
    "    maxV = max(np.abs(np.min(V_val)), np.abs(np.max(V_val)))\n",
    "    title = f\"IPRT case {case_name} - depol = {ldepol[ires]}  - SZA = {lSZA[ires]:.0f} - SAA = {lSAA[ires]:.0f} - {ldepol[ires]:.0f}km - dif ({rmod_name}-{mod_name})\"\n",
    "    select_and_plot_polar_iprt(ref_model, z_alti=lalt[ires], depol=ldepol[ires], title=title, forceIQUV=[I_val, Q_val, U_val, V_val],\n",
    "                               maxI=maxI, maxQ=maxQ, maxU=maxU, maxV=maxV, cmapI='RdBu_r', avoid_plot=avoidP_dif)"
   ]
  },
  {
   "cell_type": "markdown",
   "metadata": {},
   "source": [
    "#### Compute delta_m"
   ]
  },
  {
   "cell_type": "code",
   "execution_count": null,
   "metadata": {},
   "outputs": [],
   "source": [
    "delta_m_a2 = compute_deltam(obs=IQUV_rmod_tot, mod=IQUV_mod_tot, print_res=True)"
   ]
  },
  {
   "cell_type": "markdown",
   "metadata": {},
   "source": [
    "### Case A3"
   ]
  },
  {
   "cell_type": "markdown",
   "metadata": {},
   "source": [
    "#### Atmosphere profil"
   ]
  },
  {
   "cell_type": "code",
   "execution_count": null,
   "metadata": {},
   "outputs": [],
   "source": [
    "# z profil\n",
    "z = np.array([1., 0.])\n",
    "nz = len(z[1:])\n",
    "\n",
    "# molecular scattering and absorption\n",
    "mol_sca = np.array([0., 0.])[None,:]\n",
    "mol_abs= np.array([0., 0.])[None,:]\n",
    "\n",
    "# aerosol extinction and single scattering albedo\n",
    "aer_tau_ext = np.full_like(mol_sca, 0.2, dtype=np.float32)\n",
    "aer_tau_ext[:,0] = 0. # dtau TOA equal to 0\n",
    "aer_ssa = np.full_like(mol_sca, 0.975683, dtype=np.float32)\n",
    "prof_aer = (aer_tau_ext, aer_ssa)\n",
    "\n",
    "# aerosol phase matrix\n",
    "NTH = 18001\n",
    "theta = np.linspace(0, 180, NTH)\n",
    "wl = np.array([350.])\n",
    "nwl = len(wl)\n",
    "file_aer_phase = OPT_PROP_PATH + \"waso.mie.cdf\"\n",
    "aer_phase = read_phase_nth_cte(filename=file_aer_phase, nb_theta=NTH, normalize=True)\n",
    "nstk = aer_phase.shape[2]\n",
    "\n",
    "aer_pha = np.zeros((nwl, nz, nstk, NTH), dtype=np.float32)\n",
    "# Same phase for all altitude (here only one)\n",
    "for iz in range (0, nz):\n",
    "    aer_pha[:,iz,:,:] = aer_phase.sub()[:,0,:,:].sub({'wav_phase':Idx(wl)}).sub({'theta_atm':Idx(theta)}).data\n",
    "aer_phase = LUT(aer_pha, axes=[wl, z[1:], None, theta], names=['wav', 'z', 'stk', 'theta'])\n",
    "pha_atm, ipha_atm = calc_iphase(aer_phase, np.array([wl]), z)\n",
    "lpha_lut = []\n",
    "for i in range (0, pha_atm.shape[0]):\n",
    "    lpha_lut.append(LUT(pha_atm[i,:,:], axes=[None, np.linspace(0, 180, NTH)], names=['stk', 'theta_atm'])) \n",
    "\n",
    "# atmosphere profil\n",
    "proA3 = AtmAFGL('afglt', grid=z, prof_ray=mol_sca, prof_abs=mol_abs, prof_aer=prof_aer, prof_phases=(ipha_atm, lpha_lut)).calc(wl, phase=False)\n",
    "\n",
    "# ground surface\n",
    "surfA3  = None\n",
    "NBPH = 1e8"
   ]
  },
  {
   "cell_type": "markdown",
   "metadata": {},
   "source": [
    "#### Compute radiances"
   ]
  },
  {
   "cell_type": "code",
   "execution_count": null,
   "metadata": {},
   "outputs": [],
   "source": [
    "SZA = 40.\n",
    "SAA = 0.\n",
    "PHI_0 = 180.-SAA # SMART-G anticlockwise converted to be consistent with MYSTIC\n",
    "\n",
    "VZAMIN = 100.\n",
    "VZAMAX = 180.\n",
    "VZAINC = 5.\n",
    "VZA = np.arange(VZAMIN, VZAMAX+VZAINC, VZAINC)\n",
    "\n",
    "VAAMIN = 0.\n",
    "VAAMAX = 180.\n",
    "VAAINC = 5.\n",
    "VAA = np.arange(VAAMIN, VAAMAX+VAAINC, VAAINC)\n",
    "\n",
    "# SMART-G Forward TH and PHI using local estimate (anticlockwise) conversion with VZA and VAA MYSTIC (clockwise)\n",
    "TH  = 180.-VZA\n",
    "PHI = -VAA\n",
    "TH[TH==0] = 1e-6 # avoid problem due to special case of 0\n",
    "le     = {'th_deg':TH, 'phi_deg':PHI}#, 'zip':True}\n",
    "\n",
    "mA3F = S1DF.run(THVDEG=SZA, PHVDEG=PHI_0, wl=wl, NBPHOTONS=NBPH, NBLOOP=min(1e6, round(NBPH/10.)), NF=NTH,atm=proA3, OUTPUT_LAYERS=int(1),\n",
    "                le=le, surf=surfA3, XBLOCK = 64, XGRID = 1024, BEER=1, DEPO=0.0, stdev=True, SEED=SEED*2)"
   ]
  },
  {
   "cell_type": "code",
   "execution_count": null,
   "metadata": {},
   "outputs": [],
   "source": [
    "mA3F.save(output_folder_path + \"iprt_a3_smartg_ref.nc\", overwrite=True)"
   ]
  },
  {
   "cell_type": "markdown",
   "metadata": {},
   "source": [
    "#### Convert into iprt output format"
   ]
  },
  {
   "cell_type": "code",
   "execution_count": null,
   "metadata": {},
   "outputs": [],
   "source": [
    "# Radiances (Forward, U must be multiplied by -1)\n",
    "m = mA3F\n",
    "VZA = 180.-m.axes['Zenith angles']\n",
    "VAA = -m.axes['Azimuth angles']\n",
    "\n",
    "filename  = output_folder_path + \"iprt_case_a3_smartg_ref.dat\"\n",
    "case_name = \"A3\"\n",
    "ldepol    = [0.0, 0.0]\n",
    "lalt      = [0., 1.]\n",
    "lSZA      = [40., 40.]\n",
    "lSAA      = [0., 0.]\n",
    "\n",
    "# convert\n",
    "convert_SGout_to_IPRTout(lm=[m, m], lU_sign=[-1, -1], case_name=case_name, ldepol=ldepol, lalt=lalt, lSZA=lSZA, lSAA=lSAA, lVZA=[VZA, VZA],\n",
    "                         lVAA=[VAA, VAA], file_name=filename, output_layer=['_down (0+)', '_up (TOA)'])"
   ]
  },
  {
   "cell_type": "markdown",
   "metadata": {},
   "source": [
    "#### Comparison with MYSTIC"
   ]
  },
  {
   "cell_type": "code",
   "execution_count": null,
   "metadata": {},
   "outputs": [],
   "source": [
    "filename     = output_folder_path + \"iprt_case_a3_smartg_ref.dat\"\n",
    "case_name    = \"A3\"\n",
    "ldepol       = [0.0, 0.0]\n",
    "lalt         = [0., 1.]\n",
    "lSZA         = [40., 40.]\n",
    "lSAA         = [0., 0.]\n",
    "\n",
    "smartg_a3 = pd.read_csv(filename, header=None, sep=r'\\s+', dtype=float, comment=\"#\").values\n",
    "mystic_a3 = pd.read_csv(MYSTIC_RES_PATH + \"iprt_case_a3_mystic.dat\", header=None, sep=r'\\s+', dtype=float, comment=\"#\").values\n",
    "model     = smartg_a3\n",
    "ref_model = mystic_a3\n",
    "mod_name  = \"SMARTG\"\n",
    "rmod_name = \"MYSTIC\"\n",
    "lINVTH_rmod  = [False, True]\n",
    "lINVTH_mod   = [True, True]\n",
    "lU_sign_rmod  =[True, True]\n",
    "lU_sign_mod  = [True, True]\n",
    "lV_sign_rmod  =[True, True]\n",
    "lV_sign_mod  = [True, True]\n",
    "avoidP_rmod = False\n",
    "avoidP_mod  = True\n",
    "avoidP_dif  = False\n",
    "sym = True\n",
    "\n",
    "NBRES = len(ldepol)\n",
    "for ires in range (0,NBRES):\n",
    "    title = f\"IPRT case {case_name} - depol = {ldepol[ires]} - SZA = {lSZA[ires]:.0f} - SAA = {lSAA[ires]:.0f}  - {lalt[ires]:.0f}km - {rmod_name}\"\n",
    "    I_rmod, Q_rmod, U_rmod, V_rmod = select_and_plot_polar_iprt(ref_model, z_alti=lalt[ires], depol=ldepol[ires], title=title, change_U_sign=lU_sign_rmod[ires], change_V_sign=lV_sign_rmod[ires],\n",
    "                                                                        inv_thetas=lINVTH_rmod[ires], sym=sym, outputIQUV=True, avoid_plot=avoidP_rmod)\n",
    "    \n",
    "    title = f\"IPRT case {case_name} - depol = {ldepol[ires]} - SZA = {lSZA[ires]:.0f} - SAA = {lSAA[ires]:.0f} - {lalt[ires]:.0f}km - {mod_name}\"\n",
    "    I_mod, Q_mod, U_mod, V_mod = select_and_plot_polar_iprt(model, z_alti=lalt[ires], depol=ldepol[ires], title=title, change_U_sign=lU_sign_mod[ires], change_V_sign=lV_sign_mod[ires],\n",
    "                                                                        inv_thetas=lINVTH_mod[ires], sym=sym, outputIQUV=True, avoid_plot=avoidP_mod)\n",
    "    \n",
    "    if (ires == 0):\n",
    "        IQUV_mod_tot = groupIQUV(lI=[I_mod], lQ=[Q_mod], lU=[U_mod], lV=[V_mod])\n",
    "        IQUV_rmod_tot = groupIQUV(lI=[I_rmod], lQ=[Q_rmod], lU=[U_rmod], lV=[V_rmod])\n",
    "    else:\n",
    "        IQUV_mod_tot = np.concatenate((IQUV_mod_tot, groupIQUV(lI=[I_mod], lQ=[Q_mod], lU=[U_mod], lV=[V_mod])), axis=1)\n",
    "        IQUV_rmod_tot = np.concatenate((IQUV_rmod_tot, groupIQUV(lI=[I_rmod], lQ=[Q_rmod], lU=[U_rmod], lV=[V_rmod])), axis=1)\n",
    "\n",
    "    I_val = I_rmod-I_mod\n",
    "    Q_val = Q_rmod-Q_mod\n",
    "    U_val = U_rmod-U_mod\n",
    "    V_val = V_rmod-V_mod\n",
    "    maxI = max(np.abs(np.min(I_val)), np.abs(np.max(I_val)))\n",
    "    maxQ = max(np.abs(np.min(Q_val)), np.abs(np.max(Q_val)))\n",
    "    maxU = max(np.abs(np.min(U_val)), np.abs(np.max(U_val)))\n",
    "    maxV = max(np.abs(np.min(V_val)), np.abs(np.max(V_val)))\n",
    "    title = f\"IPRT case {case_name} - depol = {ldepol[ires]}  - SZA = {lSZA[ires]:.0f} - SAA = {lSAA[ires]:.0f} - {ldepol[ires]:.0f}km - dif ({rmod_name}-{mod_name})\"\n",
    "    select_and_plot_polar_iprt(ref_model, z_alti=lalt[ires], depol=ldepol[ires], title=title, forceIQUV=[I_val, Q_val, U_val, V_val],\n",
    "                               maxI=maxI, maxQ=maxQ, maxU=maxU, maxV=maxV, cmapI='RdBu_r', avoid_plot=avoidP_dif)"
   ]
  },
  {
   "cell_type": "markdown",
   "metadata": {},
   "source": [
    "#### Compute delta_m"
   ]
  },
  {
   "cell_type": "code",
   "execution_count": null,
   "metadata": {},
   "outputs": [],
   "source": [
    "delta_m_a3 = compute_deltam(obs=IQUV_rmod_tot, mod=IQUV_mod_tot, print_res=True)"
   ]
  },
  {
   "cell_type": "markdown",
   "metadata": {},
   "source": [
    "### Case A4"
   ]
  },
  {
   "cell_type": "markdown",
   "metadata": {},
   "source": [
    "#### Atmosphere profil"
   ]
  },
  {
   "cell_type": "code",
   "execution_count": null,
   "metadata": {},
   "outputs": [],
   "source": [
    "# z profil\n",
    "z = np.array([1., 0.])\n",
    "nz = len(z[1:])\n",
    "\n",
    "# molecular scattering and absorption\n",
    "mol_sca = np.array([0., 0.])[None,:]\n",
    "mol_abs= np.array([0., 0.])[None,:]\n",
    "\n",
    "# aerosol extinction and single scattering albedo\n",
    "aer_tau_ext = np.full_like(mol_sca, 0.2, dtype=np.float32)\n",
    "aer_tau_ext[:,0] = 0. # dtau TOA equal to 0\n",
    "aer_ssa = np.full_like(mol_sca, 0.787581, dtype=np.float32)\n",
    "prof_aer = (aer_tau_ext, aer_ssa)\n",
    "\n",
    "# aerosol phase matrix\n",
    "NTH = 180001\n",
    "theta = np.linspace(0, 180, NTH)\n",
    "wl = np.array([350.])\n",
    "nwl = len(wl)\n",
    "\n",
    "file_aer_phase = OPT_PROP_PATH + \"sizedistr_spheroid.cdf\"\n",
    "aer_phase = read_phase_nth_cte(filename=file_aer_phase, nb_theta=NTH, normalize=True)\n",
    "nstk = aer_phase.shape[2]\n",
    "aer_pha = np.zeros((nwl, nz, nstk, NTH), dtype=np.float32)\n",
    "# Same phase for all altitude (here only one)\n",
    "for iz in range (0, nz):\n",
    "    aer_pha[:,iz,:,:] = aer_phase.sub()[:,0,:,:].sub({'wav_phase':Idx(wl)}).sub({'theta_atm':Idx(theta)}).data\n",
    "aer_phase = LUT(aer_pha, axes=[wl, z[1:], None, theta], names=['wav', 'z', 'stk', 'theta'])\n",
    "\n",
    "pha_atm, ipha_atm = calc_iphase(aer_phase, np.array([wl]), z)\n",
    "lpha_lut = []\n",
    "for i in range (0, pha_atm.shape[0]):\n",
    "    lpha_lut.append(LUT(pha_atm[i,:,:], axes=[None, np.linspace(0, 180, NTH)], names=['stk', 'theta_atm'])) \n",
    "\n",
    "# atmosphere profil\n",
    "proA4 = AtmAFGL('afglt', grid=z, prof_ray=mol_sca, prof_abs=mol_abs, prof_aer=prof_aer, prof_phases=(ipha_atm, lpha_lut)).calc(wl, phase=False)\n",
    "\n",
    "# ground surface\n",
    "surfA4  = None\n",
    "NBPH = 1e8"
   ]
  },
  {
   "cell_type": "markdown",
   "metadata": {},
   "source": [
    "#### Compute radiances"
   ]
  },
  {
   "cell_type": "code",
   "execution_count": null,
   "metadata": {},
   "outputs": [],
   "source": [
    "SZA = 40.\n",
    "SAA = 0.\n",
    "PHI_0 = 180.-SAA # SMART-G anticlockwise converted to be consistent with MYSTIC\n",
    "\n",
    "VZAMIN = 100.\n",
    "VZAMAX = 180.\n",
    "VZAINC = 5.\n",
    "VZA = np.arange(VZAMIN, VZAMAX+VZAINC, VZAINC)\n",
    "\n",
    "VAAMIN = 0.\n",
    "VAAMAX = 180.\n",
    "VAAINC = 5.\n",
    "VAA = np.arange(VAAMIN, VAAMAX+VAAINC, VAAINC)\n",
    "\n",
    "# SMART-G Forward TH and PHI using local estimate (anticlockwise) conversion with VZA and VAA MYSTIC (clockwise)\n",
    "TH  = 180.-VZA\n",
    "PHI = -VAA\n",
    "TH[TH==0] = 1e-6 # avoid problem due to special case of 0\n",
    "le     = {'th_deg':TH, 'phi_deg':PHI}#, 'zip':True}\n",
    "\n",
    "mA4F = S1DF.run(THVDEG=SZA, PHVDEG=PHI_0, wl=wl, NBPHOTONS=NBPH, NBLOOP=min(1e6, round(NBPH/100.)), NF=NTH,atm=proA4, OUTPUT_LAYERS=int(1),\n",
    "                le=le, surf=surfA4, XBLOCK = 64, XGRID = 1024, BEER=1, DEPO=0.0, stdev=True, SEED=SEED)"
   ]
  },
  {
   "cell_type": "code",
   "execution_count": null,
   "metadata": {},
   "outputs": [],
   "source": [
    "mA4F.save(output_folder_path + \"iprt_a4_smartg_ref.nc\", overwrite=True)"
   ]
  },
  {
   "cell_type": "markdown",
   "metadata": {},
   "source": [
    "#### Convert into iprt output format"
   ]
  },
  {
   "cell_type": "code",
   "execution_count": null,
   "metadata": {},
   "outputs": [],
   "source": [
    "# Radiances (Forward, U must be multiplied by -1)\n",
    "m = mA4F\n",
    "VZA = 180.-m.axes['Zenith angles']\n",
    "VAA = -m.axes['Azimuth angles']\n",
    "\n",
    "filename  = output_folder_path + \"iprt_case_a4_smartg_ref.dat\"\n",
    "case_name = \"A4\"\n",
    "ldepol    = [0.0, 0.0]\n",
    "lalt      = [0., 1.]\n",
    "lSZA      = [40., 40.]\n",
    "lSAA      = [0., 0.]\n",
    "\n",
    "# convert\n",
    "convert_SGout_to_IPRTout(lm=[m, m], lU_sign=[-1, -1], case_name=case_name, ldepol=ldepol, lalt=lalt, lSZA=lSZA, lSAA=lSAA, lVZA=[VZA, VZA],\n",
    "                         lVAA=[VAA, VAA], file_name=filename, output_layer=['_down (0+)', '_up (TOA)'])"
   ]
  },
  {
   "cell_type": "markdown",
   "metadata": {},
   "source": [
    "#### Comparison with MYSTIC"
   ]
  },
  {
   "cell_type": "code",
   "execution_count": null,
   "metadata": {},
   "outputs": [],
   "source": [
    "filename     = output_folder_path + \"iprt_case_a4_smartg_ref.dat\"\n",
    "case_name    = \"A4\"\n",
    "ldepol       = [0.0, 0.0]\n",
    "lalt         = [0., 1.]\n",
    "lSZA         = [40., 40.]\n",
    "lSAA         = [0., 0.]\n",
    "\n",
    "smartg_a4 = pd.read_csv(filename, header=None, sep=r'\\s+', dtype=float, comment=\"#\").values\n",
    "mystic_a4 = pd.read_csv(MYSTIC_RES_PATH + \"iprt_case_a4_mystic.dat\", header=None, sep=r'\\s+', dtype=float, comment=\"#\").values\n",
    "model     = smartg_a4\n",
    "ref_model = mystic_a4\n",
    "mod_name  = \"SMARTG\"\n",
    "rmod_name = \"MYSTIC\"\n",
    "lINVTH_rmod  = [False, True]\n",
    "lINVTH_mod   = [True, True]\n",
    "lU_sign_rmod  =[True, True]\n",
    "lU_sign_mod  = [True, True]\n",
    "lV_sign_rmod  =[True, True]\n",
    "lV_sign_mod  = [True, True]\n",
    "avoidP_rmod = False\n",
    "avoidP_mod  = True\n",
    "avoidP_dif  = False\n",
    "sym = True\n",
    "\n",
    "NBRES = len(ldepol)\n",
    "for ires in range (0,NBRES):\n",
    "    title = f\"IPRT case {case_name} - depol = {ldepol[ires]} - SZA = {lSZA[ires]:.0f} - SAA = {lSAA[ires]:.0f}  - {lalt[ires]:.0f}km - {rmod_name}\"\n",
    "    I_rmod, Q_rmod, U_rmod, V_rmod = select_and_plot_polar_iprt(ref_model, z_alti=lalt[ires], depol=ldepol[ires], title=title, change_U_sign=lU_sign_rmod[ires], change_V_sign=lV_sign_rmod[ires],\n",
    "                                                                        inv_thetas=lINVTH_rmod[ires], sym=sym, outputIQUV=True, avoid_plot=avoidP_rmod)\n",
    "    \n",
    "    title = f\"IPRT case {case_name} - depol = {ldepol[ires]} - SZA = {lSZA[ires]:.0f} - SAA = {lSAA[ires]:.0f} - {lalt[ires]:.0f}km - {mod_name}\"\n",
    "    I_mod, Q_mod, U_mod, V_mod = select_and_plot_polar_iprt(model, z_alti=lalt[ires], depol=ldepol[ires], title=title, change_U_sign=lU_sign_mod[ires], change_V_sign=lV_sign_mod[ires],\n",
    "                                                                        inv_thetas=lINVTH_mod[ires], sym=sym, outputIQUV=True, avoid_plot=avoidP_mod)\n",
    "    \n",
    "    if (ires == 0):\n",
    "        IQUV_mod_tot = groupIQUV(lI=[I_mod], lQ=[Q_mod], lU=[U_mod], lV=[V_mod])\n",
    "        IQUV_rmod_tot = groupIQUV(lI=[I_rmod], lQ=[Q_rmod], lU=[U_rmod], lV=[V_rmod])\n",
    "    else:\n",
    "        IQUV_mod_tot = np.concatenate((IQUV_mod_tot, groupIQUV(lI=[I_mod], lQ=[Q_mod], lU=[U_mod], lV=[V_mod])), axis=1)\n",
    "        IQUV_rmod_tot = np.concatenate((IQUV_rmod_tot, groupIQUV(lI=[I_rmod], lQ=[Q_rmod], lU=[U_rmod], lV=[V_rmod])), axis=1)\n",
    "\n",
    "    I_val = I_rmod-I_mod\n",
    "    Q_val = Q_rmod-Q_mod\n",
    "    U_val = U_rmod-U_mod\n",
    "    V_val = V_rmod-V_mod\n",
    "    maxI = max(np.abs(np.min(I_val)), np.abs(np.max(I_val)))\n",
    "    maxQ = max(np.abs(np.min(Q_val)), np.abs(np.max(Q_val)))\n",
    "    maxU = max(np.abs(np.min(U_val)), np.abs(np.max(U_val)))\n",
    "    maxV = max(np.abs(np.min(V_val)), np.abs(np.max(V_val)))\n",
    "    title = f\"IPRT case {case_name} - depol = {ldepol[ires]}  - SZA = {lSZA[ires]:.0f} - SAA = {lSAA[ires]:.0f} - {ldepol[ires]:.0f}km - dif ({rmod_name}-{mod_name})\"\n",
    "    select_and_plot_polar_iprt(ref_model, z_alti=lalt[ires], depol=ldepol[ires], title=title, forceIQUV=[I_val, Q_val, U_val, V_val],\n",
    "                               maxI=maxI, maxQ=maxQ, maxU=maxU, maxV=maxV, cmapI='RdBu_r', avoid_plot=avoidP_dif)"
   ]
  },
  {
   "cell_type": "markdown",
   "metadata": {},
   "source": [
    "#### Compute delta_m"
   ]
  },
  {
   "cell_type": "code",
   "execution_count": null,
   "metadata": {},
   "outputs": [],
   "source": [
    "delta_m_a4 = compute_deltam(obs=IQUV_rmod_tot, mod=IQUV_mod_tot, print_res=True)"
   ]
  },
  {
   "cell_type": "markdown",
   "metadata": {},
   "source": [
    "### Case A5"
   ]
  },
  {
   "cell_type": "markdown",
   "metadata": {},
   "source": [
    "#### Atmosphere profil"
   ]
  },
  {
   "cell_type": "code",
   "execution_count": null,
   "metadata": {},
   "outputs": [],
   "source": [
    "# z profil\n",
    "z = np.array([1., 0.])\n",
    "nz = len(z[1:])\n",
    "\n",
    "# molecular scattering and absorption\n",
    "mol_sca = np.array([0., 0.])[None,:]\n",
    "mol_abs= np.array([0., 0.])[None,:]\n",
    "\n",
    "# cloud extinction and single scattering albedo\n",
    "cld_tau_ext = np.full_like(mol_sca, 5., dtype=np.float32)\n",
    "cld_tau_ext[:,0] = 0. # dtau TOA equal to 0\n",
    "cld_ssa = np.full_like(mol_sca, 0.999979, dtype=np.float32)\n",
    "prof_aer = (cld_tau_ext, cld_ssa)\n",
    "\n",
    "# cloud phase matrix\n",
    "NTH = 18001\n",
    "wl = np.array([800.])\n",
    "nwl = len(wl)\n",
    "theta = np.linspace(0, 180, NTH)\n",
    "file_cld_phase = OPT_PROP_PATH + \"watercloud.mie.cdf\"\n",
    "cld_phase = read_phase_nth_cte(filename=file_cld_phase, nb_theta=NTH, normalize=True)\n",
    "nstk = cld_phase.shape[2]\n",
    "\n",
    "cld_pha = np.zeros((nwl, nz, nstk, NTH), dtype=np.float32)\n",
    "# Same phase for all altitude (here only one)\n",
    "for iz in range (0, nz):\n",
    "    cld_pha[:,iz,:,:] = cld_phase.sub()[:,0,:,:].sub({'wav_phase':Idx(wl)}).sub({'theta_atm':Idx(theta)}).data\n",
    "cld_phase = LUT(cld_pha, axes=[wl, z[1:], None, theta], names=['wav', 'z', 'stk', 'theta'])\n",
    "\n",
    "pha_atm, ipha_atm = calc_iphase(cld_phase, np.array([wl]), z)\n",
    "lpha_lut = []\n",
    "for i in range (0, pha_atm.shape[0]):\n",
    "    lpha_lut.append(LUT(pha_atm[i,:,:], axes=[None, theta], names=['stk', 'theta_atm']))  \n",
    "\n",
    "# atmosphere profil\n",
    "proA5 = AtmAFGL('afglt', grid=z, prof_ray=mol_sca, prof_abs=mol_abs, prof_aer=prof_aer, prof_phases=(ipha_atm, lpha_lut)).calc(wl, phase=False)\n",
    "\n",
    "# ground surface\n",
    "surfA5  = None\n",
    "NBPH = 1e8"
   ]
  },
  {
   "cell_type": "markdown",
   "metadata": {},
   "source": [
    "#### Compute radiances (principal plane)"
   ]
  },
  {
   "cell_type": "code",
   "execution_count": null,
   "metadata": {},
   "outputs": [],
   "source": [
    "SZA = 50.\n",
    "SAA = 0.\n",
    "PHI_0 = 180.-SAA # SMART-G anticlockwise converted to be consistent with MYSTIC\n",
    "\n",
    "VZAMIN = 100.\n",
    "VZAMAX = 180.\n",
    "VZAINC = 1.\n",
    "VZA = np.arange(VZAMIN, VZAMAX+VZAINC, VZAINC)\n",
    "\n",
    "VAA = np.array([0., 180.])\n",
    "\n",
    "# SMART-G Forward TH and PHI using local estimate (anticlockwise) conversion with VZA and VAA MYSTIC (clockwise)\n",
    "TH  = 180.-VZA\n",
    "PHI = -VAA\n",
    "TH[TH==0] = 1e-6 # avoid problem due to special case of 0\n",
    "le     = {'th_deg':TH, 'phi_deg':PHI}#, 'zip':True}\n",
    "\n",
    "mA5F_pp = S1DF.run(THVDEG=SZA, PHVDEG=PHI_0, wl=wl, NBPHOTONS=NBPH, NBLOOP=min(1e6, round(NBPH/10.)), NF=NTH,atm=proA5, OUTPUT_LAYERS=int(1),\n",
    "                le=le, surf=surfA5, XBLOCK = 64, XGRID = 1024, BEER=1, DEPO=0.03, stdev=True, SEED=SEED)"
   ]
  },
  {
   "cell_type": "code",
   "execution_count": null,
   "metadata": {},
   "outputs": [],
   "source": [
    "mA5F_pp.save(output_folder_path + \"iprt_a5_smartg_pp_ref.nc\", overwrite=True)"
   ]
  },
  {
   "cell_type": "markdown",
   "metadata": {},
   "source": [
    "#### Convert into iprt output format (principal plane)"
   ]
  },
  {
   "cell_type": "code",
   "execution_count": null,
   "metadata": {},
   "outputs": [],
   "source": [
    "# Radiances (Forward, U must be multiplied by -1)\n",
    "m = mA5F_pp\n",
    "VZA = 180.-m.axes['Zenith angles']\n",
    "VAA = -m.axes['Azimuth angles']\n",
    "\n",
    "filename  = output_folder_path + \"iprt_case_a5_smartg_pp_ref.dat\"\n",
    "case_name = \"A5_pp\"\n",
    "ldepol    = [0.03, 0.03]\n",
    "lalt      = [0., 1.]\n",
    "lSZA      = [50., 50.]\n",
    "lSAA      = [0., 0.]\n",
    "\n",
    "# convert\n",
    "convert_SGout_to_IPRTout(lm=[m, m], lU_sign=[-1, -1], case_name=case_name, ldepol=ldepol, lalt=lalt, lSZA=lSZA, lSAA=lSAA, lVZA=[VZA, VZA],\n",
    "                         lVAA=[VAA, VAA], file_name=filename, output_layer=['_down (0+)', '_up (TOA)'])"
   ]
  },
  {
   "cell_type": "markdown",
   "metadata": {},
   "source": [
    "#### Comparison with MYSTIC (principal plane)"
   ]
  },
  {
   "cell_type": "code",
   "execution_count": null,
   "metadata": {},
   "outputs": [],
   "source": [
    "filename  = output_folder_path + \"iprt_case_a5_smartg_pp_ref.dat\"\n",
    "case_name = \"A5_pp\"\n",
    "ldepol    = [0.03, 0.03]\n",
    "lalt      = [0., 1.]\n",
    "\n",
    "smartg_a5_pp = pd.read_csv(filename, header=None, sep=r'\\s+', dtype=float, comment=\"#\").values\n",
    "mystic_a5_pp = pd.read_csv(MYSTIC_RES_PATH + \"iprt_case_a5_pp_mystic.dat\", header=None, sep=r'\\s+', dtype=float, comment=\"#\").values\n",
    "model        = smartg_a5_pp\n",
    "ref_model    = mystic_a5_pp\n",
    "mod_name     = \"SMARTG\"\n",
    "rmod_name    = \"MYSTIC\"\n",
    "\n",
    "lINVTH_rmod  = [True, True]\n",
    "lINVTH_mod   = [True, True]\n",
    "lU_sign_rmod  =[False, False]\n",
    "lU_sign_mod  = [False, False]\n",
    "\n",
    "lIQUVyMin = [[0., -3e-3, -1.5e-4, -2e-5], [0., -2e-2, -1.2e-4, -1e-5]]\n",
    "lIQUVyMax = [[3.5, 4e-3, 2e-4, 3e-5], [2.5e-1, 1.5e-2, 6e-5, 1e-5]]\n",
    "\n",
    "quantity = ['transmittance', 'reflectance']\n",
    "\n",
    "NBRES = len(ldepol)\n",
    "for ires in range (0,NBRES):\n",
    "    I_rmod, Q_rmod, U_rmod, V_rmod, Istd_rmod, Qstd_rmod, Ustd_rmod, Vstd_rmod = seclect_iprt_IQUV(ref_model, lalt[ires], change_U_sign=lU_sign_rmod[ires], inv_thetas=lINVTH_rmod[ires], I_index=5, va_index=3, phi_index=4, z_index=0, stdev=True)\n",
    "    I_mod, Q_mod, U_mod, V_mod, Istd_mod, Qstd_mod, Ustd_mod, Vstd_mod = seclect_iprt_IQUV(model, lalt[ires], change_U_sign=lU_sign_mod[ires], inv_thetas=lINVTH_mod[ires], stdev=True)\n",
    "\n",
    "    VZA = np.unique(model[:,4])\n",
    "    VZAn = np.sort(np.concatenate((VZA-180, 180-VZA)))\n",
    "    NVZA = round(I_mod.shape[0]*2)\n",
    "\n",
    "    # ref_model IQUV and stdev IQUV\n",
    "    IQUV_pp_rmod = np.zeros((4,NVZA), dtype=np.float32)\n",
    "    IQUV_pp_rmod[0,:]=np.concatenate((I_rmod[:,1], I_rmod[::-1,0]))\n",
    "    IQUV_pp_rmod[1,:]=np.concatenate((Q_rmod[:,1], Q_rmod[::-1,0]))\n",
    "    IQUV_pp_rmod[2,:]=np.concatenate((U_rmod[:,1], U_rmod[::-1,0]))\n",
    "    IQUV_pp_rmod[3,:]=np.concatenate((V_rmod[:,1], V_rmod[::-1,0]))\n",
    "    IQUVstd_pp_rmod = np.zeros((4,NVZA), dtype=np.float32)\n",
    "    IQUVstd_pp_rmod[0,:]=np.concatenate((Istd_rmod[:,1], Istd_rmod[::-1,0]))\n",
    "    IQUVstd_pp_rmod[1,:]=np.concatenate((Qstd_rmod[:,1], Qstd_rmod[::-1,0]))\n",
    "    IQUVstd_pp_rmod[2,:]=np.concatenate((Ustd_rmod[:,1], Ustd_rmod[::-1,0]))\n",
    "    IQUVstd_pp_rmod[3,:]=np.concatenate((Vstd_rmod[:,1], Vstd_rmod[::-1,0]))\n",
    "\n",
    "    # model IQUV and stdev IQUV\n",
    "    IQUV_pp_mod = np.zeros((4,NVZA), dtype=np.float32)\n",
    "    IQUV_pp_mod[0,:]=np.concatenate((I_mod[:,1], I_mod[::-1,0]))\n",
    "    IQUV_pp_mod[1,:]=np.concatenate((Q_mod[:,1], Q_mod[::-1,0]))\n",
    "    IQUV_pp_mod[2,:]=np.concatenate((U_mod[:,1], U_mod[::-1,0]))\n",
    "    IQUV_pp_mod[3,:]=np.concatenate((V_mod[:,1], V_mod[::-1,0]))\n",
    "    IQUVstd_pp_mod = np.zeros((4,NVZA), dtype=np.float32)\n",
    "    IQUVstd_pp_mod[0,:]=np.concatenate((Istd_mod[:,1], Istd_mod[::-1,0]))\n",
    "    IQUVstd_pp_mod[1,:]=np.concatenate((Qstd_mod[:,1], Qstd_mod[::-1,0]))\n",
    "    IQUVstd_pp_mod[2,:]=np.concatenate((Ustd_mod[:,1], Ustd_mod[::-1,0]))\n",
    "    IQUVstd_pp_mod[3,:]=np.concatenate((Vstd_mod[:,1], Vstd_mod[::-1,0]))\n",
    "\n",
    "    plot_iprt_radiances(IQUV_obs=IQUV_pp_rmod, IQUV_mod=IQUV_pp_mod, IQUVstd_obs=IQUVstd_pp_rmod, IQUVstd_mod=IQUVstd_pp_mod, xaxis=VZAn,\n",
    "                        xlabel= 'VZA [deg]', IQUVyMin=lIQUVyMin[ires], IQUVyMax=lIQUVyMax[ires], title=f'{quantity[ires]}  {rmod_name}-red {mod_name}-blue')\n",
    "    \n",
    "    if (ires == 0):\n",
    "        IQUV_pp_mod_tot = IQUV_pp_mod.copy()\n",
    "        IQUV_pp_rmod_tot = IQUV_pp_rmod.copy()\n",
    "    else:\n",
    "        IQUV_pp_mod_tot = np.concatenate((IQUV_pp_mod_tot, IQUV_pp_mod), axis=1)\n",
    "        IQUV_pp_rmod_tot = np.concatenate((IQUV_pp_rmod_tot, IQUV_pp_rmod), axis=1)\n"
   ]
  },
  {
   "cell_type": "markdown",
   "metadata": {},
   "source": [
    "#### Compute delta_m (principal plane)"
   ]
  },
  {
   "cell_type": "code",
   "execution_count": null,
   "metadata": {},
   "outputs": [],
   "source": [
    "delta_m_a5_pp = compute_deltam(IQUV_pp_rmod_tot, IQUV_pp_mod_tot)"
   ]
  },
  {
   "cell_type": "markdown",
   "metadata": {},
   "source": [
    "#### Compute radiances (almucantar)"
   ]
  },
  {
   "cell_type": "code",
   "execution_count": null,
   "metadata": {},
   "outputs": [],
   "source": [
    "SZA = 50.\n",
    "SAA = 0.\n",
    "PHI_0 = 180.-SAA # SMART-G anticlockwise converted to be consistent with MYSTIC\n",
    "\n",
    "VZA = np.array([130.])\n",
    "\n",
    "VAAMIN = 0.\n",
    "VAAMAX = 180.\n",
    "VAAINC = 1.\n",
    "VAA = np.arange(VAAMIN, VAAMAX+VAAINC, VAAINC)\n",
    "\n",
    "# SMART-G Forward TH and PHI using local estimate (anticlockwise) conversion with VZA and VAA MYSTIC (clockwise)\n",
    "TH  = 180.-VZA\n",
    "PHI = -VAA\n",
    "TH[TH==0] = 1e-6 # avoid problem due to special case of 0\n",
    "le     = {'th_deg':TH, 'phi_deg':PHI}\n",
    "\n",
    "mA5F_al = S1DF.run(THVDEG=SZA, PHVDEG=PHI_0, wl=wl, NBPHOTONS=NBPH, NBLOOP=min(1e6, round(NBPH/10.)), NF=NTH,atm=proA5, OUTPUT_LAYERS=int(1),\n",
    "                le=le, surf=surfA5, XBLOCK = 64, XGRID = 1024, BEER=1, DEPO=0.03, stdev=True, SEED=SEED)"
   ]
  },
  {
   "cell_type": "code",
   "execution_count": null,
   "metadata": {},
   "outputs": [],
   "source": [
    "mA5F_al.save(output_folder_path + \"iprt_a5_smartg_al_ref.nc\", overwrite=True)"
   ]
  },
  {
   "cell_type": "markdown",
   "metadata": {},
   "source": [
    "#### Convert into iprt output format (almucantar)"
   ]
  },
  {
   "cell_type": "code",
   "execution_count": null,
   "metadata": {},
   "outputs": [],
   "source": [
    "# Radiances (Forward, U must be multiplied by -1)\n",
    "m = mA5F_al\n",
    "VZA = 180.-m.axes['Zenith angles']\n",
    "VAA = -m.axes['Azimuth angles']\n",
    "\n",
    "filename  = output_folder_path + \"iprt_case_a5_smartg_al_ref.dat\"\n",
    "case_name = \"A5_al\"\n",
    "ldepol    = [0.03, 0.03]\n",
    "lalt      = [0., 1.]\n",
    "lSZA      = [50., 50.]\n",
    "lSAA      = [0., 0.]\n",
    "\n",
    "# convert\n",
    "convert_SGout_to_IPRTout(lm=[m, m], lU_sign=[-1, -1], case_name=case_name, ldepol=ldepol, lalt=lalt, lSZA=lSZA, lSAA=lSAA, lVZA=[VZA, VZA],\n",
    "                         lVAA=[VAA, VAA], file_name=filename, output_layer=['_down (0+)', '_up (TOA)'])"
   ]
  },
  {
   "cell_type": "markdown",
   "metadata": {},
   "source": [
    "#### Comparison with MYSTIC (almucantar)"
   ]
  },
  {
   "cell_type": "code",
   "execution_count": null,
   "metadata": {},
   "outputs": [],
   "source": [
    "filename  = output_folder_path + \"iprt_case_a5_smartg_al_ref.dat\"\n",
    "case_name = \"A5_al\"\n",
    "ldepol    = [0.03, 0.03]\n",
    "lalt      = [0., 1.]\n",
    "\n",
    "smartg_a5_al = pd.read_csv(filename, header=None, sep=r'\\s+', dtype=float, comment=\"#\").values\n",
    "mystic_a5_al = pd.read_csv(MYSTIC_RES_PATH + \"iprt_case_a5_al_mystic.dat\", header=None, sep=r'\\s+', dtype=float, comment=\"#\").values\n",
    "model        = smartg_a5_al\n",
    "ref_model    = mystic_a5_al\n",
    "mod_name     = \"SMARTG\"\n",
    "rmod_name    = \"MYSTIC\"\n",
    "\n",
    "lINVTH_rmod  = [True, True]\n",
    "lINVTH_mod   = [True, True]\n",
    "lU_sign_rmod  =[False, False]\n",
    "lU_sign_mod  = [False, False]\n",
    "\n",
    "lIQUVyMin = [[0., -3.5e-3, -3e-3, -1.5e-5], [6e-2, -1e-2, -2e-3, -5e-5]]\n",
    "lIQUVyMax = [[3.5, 5e-4, 5e-4, 2.5e-5], [1.2e-1, 2e-2, 1.2e-2, 2e-5]]\n",
    "\n",
    "quantity = ['transmittance', 'reflectance']\n",
    "\n",
    "NBRES = len(ldepol)\n",
    "for ires in range (0,NBRES):\n",
    "    I_rmod, Q_rmod, U_rmod, V_rmod, Istd_rmod, Qstd_rmod, Ustd_rmod, Vstd_rmod = seclect_iprt_IQUV(ref_model, lalt[ires], change_U_sign=lU_sign_rmod[ires], inv_thetas=lINVTH_rmod[ires], I_index=5, va_index=3, phi_index=4, z_index=0, stdev=True)\n",
    "    I_mod, Q_mod, U_mod, V_mod, Istd_mod, Qstd_mod, Ustd_mod, Vstd_mod = seclect_iprt_IQUV(model, lalt[ires], change_U_sign=lU_sign_mod[ires], inv_thetas=lINVTH_mod[ires], stdev=True)\n",
    "\n",
    "    VAA = np.unique(smartg_a5_al[:,5])\n",
    "    VAAn = VAA\n",
    "    NVAA = round(I_mod.shape[1])\n",
    "\n",
    "    # ref_model IQUV and stdev IQUV\n",
    "    IQUV_al_rmod = np.zeros((4,NVAA), dtype=np.float32)\n",
    "    IQUV_al_rmod[0,:]=I_rmod[0,:]\n",
    "    IQUV_al_rmod[1,:]=Q_rmod[0,:]\n",
    "    IQUV_al_rmod[2,:]=U_rmod[0,:]\n",
    "    IQUV_al_rmod[3,:]=V_rmod[0,:]\n",
    "    IQUVstd_al_rmod = np.zeros((4,NVAA), dtype=np.float32)\n",
    "    IQUVstd_al_rmod[0,:]=Istd_rmod[0,:]\n",
    "    IQUVstd_al_rmod[1,:]=Qstd_rmod[0,:]\n",
    "    IQUVstd_al_rmod[2,:]=Ustd_rmod[0,:]\n",
    "    IQUVstd_al_rmod[3,:]=Vstd_rmod[0,:]\n",
    "\n",
    "    # model IQUV and stdev IQUV\n",
    "    IQUV_al_mod = np.zeros((4,NVAA), dtype=np.float32)\n",
    "    IQUV_al_mod[0,:]=I_mod[0,:]\n",
    "    IQUV_al_mod[1,:]=Q_mod[0,:]\n",
    "    IQUV_al_mod[2,:]=U_mod[0,:]\n",
    "    IQUV_al_mod[3,:]=V_mod[0,:]\n",
    "    IQUVstd_al_mod = np.zeros((4,NVAA), dtype=np.float32)\n",
    "    IQUVstd_al_mod[0,:]=Istd_mod[0,:]\n",
    "    IQUVstd_al_mod[1,:]=Qstd_mod[0,:]\n",
    "    IQUVstd_al_mod[2,:]=Ustd_mod[0,:]\n",
    "    IQUVstd_al_mod[3,:]=Vstd_mod[0,:]\n",
    "\n",
    "    plot_iprt_radiances(IQUV_obs=IQUV_al_rmod, IQUV_mod=IQUV_al_mod, IQUVstd_obs=IQUVstd_al_rmod, IQUVstd_mod=IQUVstd_al_mod, xaxis=VAAn,\n",
    "                        xlabel= 'VZA [deg]', IQUVyMin=lIQUVyMin[ires], IQUVyMax=lIQUVyMax[ires], title=f'{quantity[ires]}  {rmod_name}-red {mod_name}-blue')\n",
    "    \n",
    "    if (ires == 0):\n",
    "        IQUV_al_mod_tot = IQUV_al_mod.copy()\n",
    "        IQUV_al_rmod_tot = IQUV_al_rmod.copy()\n",
    "    else:\n",
    "        IQUV_al_mod_tot = np.concatenate((IQUV_al_mod_tot, IQUV_al_mod), axis=1)\n",
    "        IQUV_al_rmod_tot = np.concatenate((IQUV_al_rmod_tot, IQUV_al_rmod), axis=1)"
   ]
  },
  {
   "cell_type": "markdown",
   "metadata": {},
   "source": [
    "#### Compute delta_m (almucantar)"
   ]
  },
  {
   "cell_type": "code",
   "execution_count": null,
   "metadata": {},
   "outputs": [],
   "source": [
    "delta_m_a5_al = compute_deltam(IQUV_al_rmod_tot, IQUV_al_mod_tot)"
   ]
  },
  {
   "cell_type": "markdown",
   "metadata": {},
   "source": [
    "### Case A6"
   ]
  },
  {
   "cell_type": "markdown",
   "metadata": {},
   "source": [
    "#### Atmosphere profil"
   ]
  },
  {
   "cell_type": "code",
   "execution_count": null,
   "metadata": {},
   "outputs": [],
   "source": [
    "mol_sca = np.array([0., 0.1])[None,:]\n",
    "mol_abs= np.array([0., 0.])[None,:]\n",
    "z = np.array([1., 0.])\n",
    "wl = 550.\n",
    "proA6 = AtmAFGL('afglt', grid=z, prof_ray=mol_sca, prof_abs=mol_abs).calc(550.)\n",
    "surfA6  = RoughSurface(WIND=2., BRDF=True, WAVE_SHADOW=True, NH2O=1.33)\n",
    "NBPH = 1e8"
   ]
  },
  {
   "cell_type": "markdown",
   "metadata": {},
   "source": [
    "#### Compute radiances"
   ]
  },
  {
   "cell_type": "code",
   "execution_count": null,
   "metadata": {},
   "outputs": [],
   "source": [
    "VZAMIN = 100.\n",
    "VZAMAX = 180.\n",
    "VZAINC = 5.\n",
    "VZA = np.arange(VZAMIN, VZAMAX+VZAINC, VZAINC)\n",
    "\n",
    "VAAMIN = 0.\n",
    "VAAMAX = 180.\n",
    "VAAINC = 5.\n",
    "VAA = np.arange(VAAMIN, VAAMAX+VAAINC, VAAINC)\n",
    "\n",
    "# SMART-G Forward TH and PHI using local estimate (anticlockwise) conversion with VZA and VAA MYSTIC (clockwise)\n",
    "TH  = 180.-VZA\n",
    "PHI = -VAA\n",
    "TH[TH==0] = 1e-6  # avoid problem due to special case of 0\n",
    "le     = {'th_deg':TH, 'phi_deg':PHI}#, 'zip':True}\n",
    "\n",
    "SZA = 45.0\n",
    "SAA = 0.\n",
    "PHI_0 = 180.-SAA # SMART-G anticlockwise converted to be consistent with MYSTIC\n",
    "\n",
    "mA6F = S1DF.run(THVDEG=SZA, PHVDEG=PHI_0, wl=wl, NBPHOTONS=NBPH, NBLOOP=min(1e6, round(NBPH/10.)), atm=proA6, OUTPUT_LAYERS=int(1),\n",
    "                le=le, surf=surfA6, XBLOCK = 64, XGRID = 1024, BEER=1, DEPO=0.03, stdev=True, SEED=SEED)"
   ]
  },
  {
   "cell_type": "code",
   "execution_count": null,
   "metadata": {},
   "outputs": [],
   "source": [
    "mA6F.save(output_folder_path + \"iprt_a6_smartg_ref.nc\", overwrite=True)"
   ]
  },
  {
   "cell_type": "markdown",
   "metadata": {},
   "source": [
    "#### Convert into iprt output format"
   ]
  },
  {
   "cell_type": "code",
   "execution_count": null,
   "metadata": {},
   "outputs": [],
   "source": [
    "# Radiances \n",
    "VZA = 180.-mA6F.axes['Zenith angles']\n",
    "VAA = -mA6F.axes['Azimuth angles']\n",
    "\n",
    "filename  = output_folder_path + \"iprt_case_a6_smartg_ref.dat\"\n",
    "case_name = \"A6\"\n",
    "ldepol    = [0.03, 0.03]\n",
    "lalt      = [0., 1.]\n",
    "lSZA      = [45., 45.]\n",
    "lSAA      = [0., 0.]\n",
    "\n",
    "# convert\n",
    "convert_SGout_to_IPRTout(lm=[mA6F, mA6F], lU_sign=[-1, -1], case_name=\"A6\", ldepol=ldepol, lalt=lalt, lSZA=lSZA, lSAA=lSAA,\n",
    "                        lVZA=[180.-VZA, VZA], lVAA=[VAA, VAA], file_name=filename, output_layer=['_down (0+)', '_up (TOA)'])"
   ]
  },
  {
   "cell_type": "markdown",
   "metadata": {},
   "source": [
    "#### Comparison with MYSTIC"
   ]
  },
  {
   "cell_type": "code",
   "execution_count": null,
   "metadata": {},
   "outputs": [],
   "source": [
    "filename     = output_folder_path + \"iprt_case_a6_smartg_ref.dat\"\n",
    "case_name    = \"A6\"\n",
    "ldepol       = [0.03, 0.03]\n",
    "lalt         = [0., 1.]\n",
    "lSZA         = [45., 45.]\n",
    "lSAA         = [0., 0.]\n",
    "\n",
    "smartg_a6 = pd.read_csv(filename, header=None, sep=r'\\s+', dtype=float, comment=\"#\").values\n",
    "mystic_a6 = pd.read_csv(MYSTIC_RES_PATH + \"iprt_case_a6_mystic.dat\", header=None, sep=r'\\s+', dtype=float, comment=\"#\").values\n",
    "model     = smartg_a6\n",
    "ref_model = mystic_a6\n",
    "mod_name  = \"SMARTG\"\n",
    "rmod_name = \"MYSTIC\"\n",
    "lINVTH_rmod  = [False, True]\n",
    "lINVTH_mod   = [False, True]\n",
    "lU_sign_rmod  =[True, True]\n",
    "lU_sign_mod  = [True, True]\n",
    "lV_sign_rmod  =[True, True]\n",
    "lV_sign_mod  = [True, True]\n",
    "avoidP_rmod = False\n",
    "avoidP_mod  = True\n",
    "avoidP_dif  = False\n",
    "sym = True\n",
    "\n",
    "NBRES = len(ldepol)\n",
    "for ires in range (0,NBRES):\n",
    "    title = f\"IPRT case {case_name} - depol = {ldepol[ires]} - SZA = {lSZA[ires]:.0f} - SAA = {lSAA[ires]:.0f}  - {lalt[ires]:.0f}km - {rmod_name}\"\n",
    "    I_rmod, Q_rmod, U_rmod, V_rmod = select_and_plot_polar_iprt(ref_model, z_alti=lalt[ires], depol=ldepol[ires], title=title, change_U_sign=lU_sign_rmod[ires], change_V_sign=lV_sign_rmod[ires],\n",
    "                                                                        inv_thetas=lINVTH_rmod[ires], sym=sym, outputIQUV=True, avoid_plot=avoidP_rmod)\n",
    "    \n",
    "    title = f\"IPRT case {case_name} - depol = {ldepol[ires]} - SZA = {lSZA[ires]:.0f} - SAA = {lSAA[ires]:.0f} - {lalt[ires]:.0f}km - {mod_name}\"\n",
    "    I_mod, Q_mod, U_mod, V_mod = select_and_plot_polar_iprt(model, z_alti=lalt[ires], depol=ldepol[ires], title=title, change_U_sign=lU_sign_mod[ires], change_V_sign=lV_sign_mod[ires],\n",
    "                                                                        inv_thetas=lINVTH_mod[ires], sym=sym, outputIQUV=True, avoid_plot=avoidP_mod)\n",
    "    \n",
    "    if (ires == 0):\n",
    "        IQUV_mod_tot = groupIQUV(lI=[I_mod], lQ=[Q_mod], lU=[U_mod], lV=[V_mod])\n",
    "        IQUV_rmod_tot = groupIQUV(lI=[I_rmod], lQ=[Q_rmod], lU=[U_rmod], lV=[V_rmod])\n",
    "    else:\n",
    "        IQUV_mod_tot = np.concatenate((IQUV_mod_tot, groupIQUV(lI=[I_mod], lQ=[Q_mod], lU=[U_mod], lV=[V_mod])), axis=1)\n",
    "        IQUV_rmod_tot = np.concatenate((IQUV_rmod_tot, groupIQUV(lI=[I_rmod], lQ=[Q_rmod], lU=[U_rmod], lV=[V_rmod])), axis=1)\n",
    "\n",
    "    I_val = I_rmod-I_mod\n",
    "    Q_val = Q_rmod-Q_mod\n",
    "    U_val = U_rmod-U_mod\n",
    "    V_val = V_rmod-V_mod\n",
    "    maxI = max(np.abs(np.min(I_val)), np.abs(np.max(I_val)))\n",
    "    maxQ = max(np.abs(np.min(Q_val)), np.abs(np.max(Q_val)))\n",
    "    maxU = max(np.abs(np.min(U_val)), np.abs(np.max(U_val)))\n",
    "    maxV = max(np.abs(np.min(V_val)), np.abs(np.max(V_val)))\n",
    "    title = f\"IPRT case {case_name} - depol = {ldepol[ires]}  - SZA = {lSZA[ires]:.0f} - SAA = {lSAA[ires]:.0f} - {ldepol[ires]:.0f}km - dif ({rmod_name}-{mod_name})\"\n",
    "    select_and_plot_polar_iprt(ref_model, z_alti=lalt[ires], depol=ldepol[ires], title=title, forceIQUV=[I_val, Q_val, U_val, V_val],\n",
    "                               maxI=maxI, maxQ=maxQ, maxU=maxU, maxV=maxV, cmapI='RdBu_r', avoid_plot=avoidP_dif)"
   ]
  },
  {
   "cell_type": "markdown",
   "metadata": {},
   "source": [
    "#### compute delta_m"
   ]
  },
  {
   "cell_type": "code",
   "execution_count": null,
   "metadata": {},
   "outputs": [],
   "source": [
    "delta_m_a6 = compute_deltam(obs=IQUV_rmod_tot, mod=IQUV_mod_tot, print_res=True)"
   ]
  },
  {
   "cell_type": "markdown",
   "metadata": {},
   "source": [
    "## Test cases with realistic atmospheric profiles"
   ]
  },
  {
   "cell_type": "markdown",
   "metadata": {},
   "source": [
    "### Case B1\n",
    "- In the paper and plots are not considered VZA = 95 deg (30km) and 85 deg (0km),\n",
    "mistake in the description at (https://www.meteo.physik.uni-muenchen.de/~iprt/doku.php?id=intercomparisons:b1_rayleigh)."
   ]
  },
  {
   "cell_type": "markdown",
   "metadata": {},
   "source": [
    "#### Atmosphere profil"
   ]
  },
  {
   "cell_type": "code",
   "execution_count": null,
   "metadata": {},
   "outputs": [],
   "source": [
    "mol_sca_filename  = OPT_PROP_PATH + \"tau_rayleigh_450.dat\"\n",
    "wl = 450.\n",
    "z = np.squeeze(pd.read_csv(mol_sca_filename, header=None, usecols=[0], dtype=float, skiprows=1, sep=r'\\s+').values)\n",
    "ZS = len(z)\n",
    "sca = pd.read_csv(mol_sca_filename, header=None, usecols=[1], dtype=float, skiprows=1, sep=r'\\s+').values.reshape(1,ZS)\n",
    "proB1 = AtmAFGL('afglt', grid=z, prof_ray=sca, prof_abs=np.zeros_like(sca)).calc(wl)\n",
    "surfB1 = None\n",
    "NBPH = 1e8"
   ]
  },
  {
   "cell_type": "markdown",
   "metadata": {},
   "source": [
    "#### Compute radiances at 0 and 30 km (BOA and TOA)"
   ]
  },
  {
   "cell_type": "code",
   "execution_count": null,
   "metadata": {},
   "outputs": [],
   "source": [
    "VZAMIN = 100.\n",
    "VZAMAX = 180.\n",
    "VZAINC = 5.\n",
    "VZA = np.arange(VZAMIN, VZAMAX+VZAINC, VZAINC)\n",
    "\n",
    "VAAMIN = 0.\n",
    "VAAMAX = 180.\n",
    "VAAINC = 5.\n",
    "VAA = np.arange(VAAMIN, VAAMAX+VAAINC, VAAINC)\n",
    "\n",
    "# SMART-G Forward TH and PHI using local estimate (anticlockwise) conversion with VZA and VAA MYSTIC (clockwise)\n",
    "TH  = 180.-VZA\n",
    "PHI = -VAA\n",
    "TH[TH==0] = 1e-6  # avoid problem due to special case of 0\n",
    "le     = {'th_deg':TH, 'phi_deg':PHI}#, 'zip':True}\n",
    "\n",
    "SZA = 60.0\n",
    "SAA = 0.\n",
    "PHI_0 = 180.-SAA # SMART-G anticlockwise converted to be consistent with MYSTIC\n",
    "\n",
    "mB1F = S1DF.run(THVDEG=SZA, PHVDEG=PHI_0, wl=wl, NBPHOTONS=NBPH, NBLOOP=min(1e6, round(NBPH/10.)), atm=proB1, OUTPUT_LAYERS=int(1),\n",
    "                le=le, surf=surfB1, XBLOCK = 64, XGRID = 1024, BEER=1, DEPO=0.03, stdev=True, SEED=SEED)"
   ]
  },
  {
   "cell_type": "code",
   "execution_count": null,
   "metadata": {},
   "outputs": [],
   "source": [
    "mB1F.save(output_folder_path + \"iprt_b1_smartg_ref.nc\", overwrite=True)"
   ]
  },
  {
   "cell_type": "markdown",
   "metadata": {},
   "source": [
    "#### Convert into iprt output form"
   ]
  },
  {
   "cell_type": "code",
   "execution_count": null,
   "metadata": {},
   "outputs": [],
   "source": [
    "# Radiances \n",
    "m = mB1F\n",
    "VZA = 180.-m.axes['Zenith angles']\n",
    "VAA = -m.axes['Azimuth angles']\n",
    "\n",
    "filename  = output_folder_path + \"iprt_case_b1_smartg_ref.dat\"\n",
    "case_name = \"B1\"\n",
    "ldepol    = [0.03, 0.03]\n",
    "lalt      = [0., 30.]\n",
    "lSZA      = [60., 60.]\n",
    "lSAA      = [0., 0.]\n",
    "\n",
    "# convert\n",
    "convert_SGout_to_IPRTout(lm=[m, m], lU_sign=[-1, -1], case_name=case_name, ldepol=ldepol, lalt=lalt, lSZA=lSZA, lSAA=lSAA,\n",
    "                        lVZA=[180.-VZA, VZA], lVAA=[VAA, VAA], file_name=filename, output_layer=['_down (0+)', '_up (TOA)'])"
   ]
  },
  {
   "cell_type": "markdown",
   "metadata": {},
   "source": [
    "#### Comparison with MYSTIC"
   ]
  },
  {
   "cell_type": "code",
   "execution_count": null,
   "metadata": {},
   "outputs": [],
   "source": [
    "filename     = output_folder_path + \"iprt_case_b1_smartg_ref.dat\"\n",
    "case_name    = \"B1\"\n",
    "ldepol       = [0.03, 0.03]\n",
    "lalt         = [0., 30.]\n",
    "lSZA         = [60., 60.]\n",
    "lSAA         = [0., 0.]\n",
    "lVZA         = [np.round(180.-VZA), np.round(VZA)]\n",
    "\n",
    "smartg_b1 = pd.read_csv(filename, header=None, sep=r'\\s+', dtype=float, comment=\"#\").values\n",
    "mystic_b1 = pd.read_csv(MYSTIC_RES_PATH + \"iprt_case_b1_mystic.dat\", header=None, sep=r'\\s+', dtype=float, comment=\"#\").values\n",
    "model     = smartg_b1\n",
    "ref_model = mystic_b1\n",
    "mod_name  = \"SMARTG\"\n",
    "rmod_name = \"MYSTIC\"\n",
    "lINVTH_rmod  = [False, True]\n",
    "lINVTH_mod   = [False, True]\n",
    "lU_sign_rmod  =[True, True]\n",
    "lU_sign_mod  = [True, True]\n",
    "lV_sign_rmod  =[True, True]\n",
    "lV_sign_mod  = [True, True]\n",
    "avoidP_rmod = False\n",
    "avoidP_mod  = True\n",
    "avoidP_dif  = False\n",
    "sym = True\n",
    "\n",
    "NBRES = len(ldepol)\n",
    "for ires in range (0,NBRES):\n",
    "    title = f\"IPRT case {case_name} - depol = {ldepol[ires]} - SZA = {lSZA[ires]:.0f} - SAA = {lSAA[ires]:.0f}  - {lalt[ires]:.0f}km - {rmod_name}\"\n",
    "    I_rmod, Q_rmod, U_rmod, V_rmod = select_and_plot_polar_iprt(ref_model, z_alti=lalt[ires], depol=ldepol[ires], title=title, change_U_sign=lU_sign_rmod[ires], change_V_sign=lV_sign_rmod[ires],\n",
    "                                                                        inv_thetas=lINVTH_rmod[ires], sym=sym, outputIQUV=True, avoid_plot=avoidP_rmod, thetas=lVZA[ires])\n",
    "    \n",
    "    title = f\"IPRT case {case_name} - depol = {ldepol[ires]} - SZA = {lSZA[ires]:.0f} - SAA = {lSAA[ires]:.0f} - {lalt[ires]:.0f}km - {mod_name}\"\n",
    "    I_mod, Q_mod, U_mod, V_mod = select_and_plot_polar_iprt(model, z_alti=lalt[ires], depol=ldepol[ires], title=title, change_U_sign=lU_sign_mod[ires], change_V_sign=lV_sign_mod[ires],\n",
    "                                                                        inv_thetas=lINVTH_mod[ires], sym=sym, outputIQUV=True, avoid_plot=avoidP_mod, thetas=lVZA[ires])\n",
    "    \n",
    "    if (ires == 0):\n",
    "        IQUV_mod_tot = groupIQUV(lI=[I_mod], lQ=[Q_mod], lU=[U_mod], lV=[V_mod])\n",
    "        IQUV_rmod_tot = groupIQUV(lI=[I_rmod], lQ=[Q_rmod], lU=[U_rmod], lV=[V_rmod])\n",
    "    else:\n",
    "        IQUV_mod_tot = np.concatenate((IQUV_mod_tot, groupIQUV(lI=[I_mod], lQ=[Q_mod], lU=[U_mod], lV=[V_mod])), axis=1)\n",
    "        IQUV_rmod_tot = np.concatenate((IQUV_rmod_tot, groupIQUV(lI=[I_rmod], lQ=[Q_rmod], lU=[U_rmod], lV=[V_rmod])), axis=1)\n",
    "\n",
    "    I_val = I_rmod-I_mod\n",
    "    Q_val = Q_rmod-Q_mod\n",
    "    U_val = U_rmod-U_mod\n",
    "    V_val = V_rmod-V_mod\n",
    "    maxI = max(np.abs(np.min(I_val)), np.abs(np.max(I_val)))\n",
    "    maxQ = max(np.abs(np.min(Q_val)), np.abs(np.max(Q_val)))\n",
    "    maxU = max(np.abs(np.min(U_val)), np.abs(np.max(U_val)))\n",
    "    maxV = max(np.abs(np.min(V_val)), np.abs(np.max(V_val)))\n",
    "    title = f\"IPRT case {case_name} - depol = {ldepol[ires]}  - SZA = {lSZA[ires]:.0f} - SAA = {lSAA[ires]:.0f} - {ldepol[ires]:.0f}km - dif ({rmod_name}-{mod_name})\"\n",
    "    select_and_plot_polar_iprt(ref_model, z_alti=lalt[ires], depol=ldepol[ires], title=title, forceIQUV=[I_val, Q_val, U_val, V_val],\n",
    "                               maxI=maxI, maxQ=maxQ, maxU=maxU, maxV=maxV, cmapI='RdBu_r', avoid_plot=avoidP_dif, thetas=lVZA[ires])"
   ]
  },
  {
   "cell_type": "markdown",
   "metadata": {},
   "source": [
    "#### Compute delta_m"
   ]
  },
  {
   "cell_type": "code",
   "execution_count": null,
   "metadata": {},
   "outputs": [],
   "source": [
    "delta_m_b1 = compute_deltam(obs=IQUV_rmod_tot, mod=IQUV_mod_tot, print_res=True)"
   ]
  },
  {
   "cell_type": "markdown",
   "metadata": {},
   "source": [
    "### Case B2"
   ]
  },
  {
   "cell_type": "markdown",
   "metadata": {},
   "source": [
    "#### Atmosphere profil"
   ]
  },
  {
   "cell_type": "code",
   "execution_count": null,
   "metadata": {},
   "outputs": [],
   "source": [
    "mol_sca_filename  = OPT_PROP_PATH + \"tau_rayleigh_325.dat\"\n",
    "mol_abs_filename  = OPT_PROP_PATH + \"tau_molabs_325.dat\"\n",
    "wl = 325.\n",
    "z = np.squeeze(pd.read_csv(mol_sca_filename, header=None, usecols=[0], dtype=float, skiprows=1, sep=r'\\s+').values)\n",
    "ZS = len(z)\n",
    "sca = pd.read_csv(mol_sca_filename, header=None, usecols=[1], dtype=float, skiprows=1, sep=r'\\s+').values.reshape(1,ZS)\n",
    "abs = pd.read_csv(mol_abs_filename, header=None, usecols=[1], dtype=float, skiprows=1, sep=r'\\s+').values.reshape(1,ZS)\n",
    "proB2 = AtmAFGL('afglt', grid=z, prof_ray=sca, prof_abs=abs).calc(wl)\n",
    "surfB2 = None\n",
    "NBPH = 1e8"
   ]
  },
  {
   "cell_type": "markdown",
   "metadata": {},
   "source": [
    "#### Compute radiances at 0 and 30 km"
   ]
  },
  {
   "cell_type": "code",
   "execution_count": null,
   "metadata": {},
   "outputs": [],
   "source": [
    "VZAMIN = 100.\n",
    "VZAMAX = 180.\n",
    "VZAINC = 5.\n",
    "VZA = np.arange(VZAMIN, VZAMAX+VZAINC, VZAINC)\n",
    "\n",
    "VAAMIN = 0.\n",
    "VAAMAX = 180.\n",
    "VAAINC = 5.\n",
    "VAA = np.arange(VAAMIN, VAAMAX+VAAINC, VAAINC)\n",
    "\n",
    "# SMART-G Forward TH and PHI using local estimate (anticlockwise) conversion with VZA and VAA MYSTIC (clockwise)\n",
    "TH  = 180.-VZA\n",
    "PHI = -VAA\n",
    "TH[TH==0] = 1e-6  # avoid problem due to special case of 0\n",
    "le     = {'th_deg':TH, 'phi_deg':PHI}\n",
    "\n",
    "SZA = 60.0\n",
    "SAA = 0.\n",
    "PHI_0 = 180.-SAA # SMART-G anticlockwise converted to be consistent with MYSTIC\n",
    "\n",
    "mB2F = S1DF.run(THVDEG=SZA, PHVDEG=PHI_0, wl=wl, NBPHOTONS=NBPH, NBLOOP=min(1e6, round(NBPH/10.)), atm=proB2, OUTPUT_LAYERS=int(1),\n",
    "                le=le, surf=surfB2, XBLOCK = 64, XGRID = 1024, BEER=1, DEPO=0.03, stdev=True, SEED=SEED)"
   ]
  },
  {
   "cell_type": "code",
   "execution_count": null,
   "metadata": {},
   "outputs": [],
   "source": [
    "mB2F.save(output_folder_path + \"iprt_b2_smartg_ref.nc\", overwrite=True)"
   ]
  },
  {
   "cell_type": "markdown",
   "metadata": {},
   "source": [
    "#### Convert into iprt output format"
   ]
  },
  {
   "cell_type": "code",
   "execution_count": null,
   "metadata": {},
   "outputs": [],
   "source": [
    "m = mB2F\n",
    "# Radiances\n",
    "VZA = 180.-m.axes['Zenith angles']\n",
    "VAA = -m.axes['Azimuth angles']\n",
    "\n",
    "filename  = output_folder_path + \"iprt_case_b2_smartg_ref.dat\"\n",
    "case_name = \"B2\"\n",
    "ldepol    = [0.03, 0.03]\n",
    "lalt      = [0., 30.]\n",
    "lSZA      = [60., 60.]\n",
    "lSAA      = [0., 0.]\n",
    "\n",
    "# convert\n",
    "convert_SGout_to_IPRTout(lm=[m, m], lU_sign=[-1, -1], case_name=case_name, ldepol=ldepol, lalt=lalt, lSZA=lSZA, lSAA=lSAA,\n",
    "                        lVZA=[180.-VZA, VZA], lVAA=[VAA, VAA], file_name=filename, output_layer=['_down (0+)', '_up (TOA)'])"
   ]
  },
  {
   "cell_type": "markdown",
   "metadata": {},
   "source": [
    "#### Comparison with MYSTIC"
   ]
  },
  {
   "cell_type": "code",
   "execution_count": null,
   "metadata": {},
   "outputs": [],
   "source": [
    "filename     = output_folder_path + \"iprt_case_b2_smartg_ref.dat\"\n",
    "case_name    = \"B2\"\n",
    "ldepol       = [0.03, 0.03]\n",
    "lalt         = [0., 30.]\n",
    "lSZA         = [60., 60.]\n",
    "lSAA         = [0., 0.]\n",
    "lVZA         = [np.round(180.-VZA), np.round(VZA)]\n",
    "\n",
    "smartg_b2 = pd.read_csv(filename, header=None, sep=r'\\s+', dtype=float, comment=\"#\").values\n",
    "mystic_b2 = pd.read_csv(MYSTIC_RES_PATH + \"iprt_case_b2_mystic.dat\", header=None, sep=r'\\s+', dtype=float, comment=\"#\").values\n",
    "model     = smartg_b2\n",
    "ref_model = mystic_b2\n",
    "mod_name  = \"SMARTG\"\n",
    "rmod_name = \"MYSTIC\"\n",
    "lINVTH_rmod  = [False, True]\n",
    "lINVTH_mod   = [False, True]\n",
    "lU_sign_rmod  =[True, True]\n",
    "lU_sign_mod  = [True, True]\n",
    "lV_sign_rmod  =[True, True]\n",
    "lV_sign_mod  = [True, True]\n",
    "avoidP_rmod = False\n",
    "avoidP_mod  = True\n",
    "avoidP_dif  = False\n",
    "sym = True\n",
    "\n",
    "NBRES = len(ldepol)\n",
    "for ires in range (0,NBRES):\n",
    "    # !!!! mistake in MYSTIC depol, depol is set to 0 instead of 0.03 !!!!\n",
    "    title = f\"IPRT case {case_name} - depol = {ldepol[ires]} - SZA = {lSZA[ires]:.0f} - SAA = {lSAA[ires]:.0f}  - {lalt[ires]:.0f}km - {rmod_name}\"\n",
    "    I_rmod, Q_rmod, U_rmod, V_rmod = select_and_plot_polar_iprt(ref_model, z_alti=lalt[ires], depol=0., title=title, change_U_sign=lU_sign_rmod[ires], change_V_sign=lV_sign_rmod[ires],\n",
    "                                                                        inv_thetas=lINVTH_rmod[ires], sym=sym, outputIQUV=True, avoid_plot=avoidP_rmod, thetas=lVZA[ires])\n",
    "    \n",
    "    title = f\"IPRT case {case_name} - depol = {ldepol[ires]} - SZA = {lSZA[ires]:.0f} - SAA = {lSAA[ires]:.0f} - {lalt[ires]:.0f}km - {mod_name}\"\n",
    "    I_mod, Q_mod, U_mod, V_mod = select_and_plot_polar_iprt(model, z_alti=lalt[ires], depol=ldepol[ires], title=title, change_U_sign=lU_sign_mod[ires], change_V_sign=lV_sign_mod[ires],\n",
    "                                                                        inv_thetas=lINVTH_mod[ires], sym=sym, outputIQUV=True, avoid_plot=avoidP_mod, thetas=lVZA[ires])\n",
    "    \n",
    "    if (ires == 0):\n",
    "        IQUV_mod_tot = groupIQUV(lI=[I_mod], lQ=[Q_mod], lU=[U_mod], lV=[V_mod])\n",
    "        IQUV_rmod_tot = groupIQUV(lI=[I_rmod], lQ=[Q_rmod], lU=[U_rmod], lV=[V_rmod])\n",
    "    else:\n",
    "        IQUV_mod_tot = np.concatenate((IQUV_mod_tot, groupIQUV(lI=[I_mod], lQ=[Q_mod], lU=[U_mod], lV=[V_mod])), axis=1)\n",
    "        IQUV_rmod_tot = np.concatenate((IQUV_rmod_tot, groupIQUV(lI=[I_rmod], lQ=[Q_rmod], lU=[U_rmod], lV=[V_rmod])), axis=1)\n",
    "\n",
    "    I_val = I_rmod-I_mod\n",
    "    Q_val = Q_rmod-Q_mod\n",
    "    U_val = U_rmod-U_mod\n",
    "    V_val = V_rmod-V_mod\n",
    "    maxI = max(np.abs(np.min(I_val)), np.abs(np.max(I_val)))\n",
    "    maxQ = max(np.abs(np.min(Q_val)), np.abs(np.max(Q_val)))\n",
    "    maxU = max(np.abs(np.min(U_val)), np.abs(np.max(U_val)))\n",
    "    maxV = max(np.abs(np.min(V_val)), np.abs(np.max(V_val)))\n",
    "    title = f\"IPRT case {case_name} - depol = {ldepol[ires]}  - SZA = {lSZA[ires]:.0f} - SAA = {lSAA[ires]:.0f} - {ldepol[ires]:.0f}km - dif ({rmod_name}-{mod_name})\"\n",
    "    select_and_plot_polar_iprt(ref_model, z_alti=lalt[ires], depol=0., title=title, forceIQUV=[I_val, Q_val, U_val, V_val],\n",
    "                               maxI=maxI, maxQ=maxQ, maxU=maxU, maxV=maxV, cmapI='RdBu_r', avoid_plot=avoidP_dif, thetas=lVZA[ires])"
   ]
  },
  {
   "cell_type": "markdown",
   "metadata": {},
   "source": [
    "#### Compute delta_m"
   ]
  },
  {
   "cell_type": "code",
   "execution_count": null,
   "metadata": {},
   "outputs": [],
   "source": [
    "delta_m_b2 = compute_deltam(obs=IQUV_rmod_tot, mod=IQUV_mod_tot, print_res=True)"
   ]
  },
  {
   "cell_type": "markdown",
   "metadata": {},
   "source": [
    "### Case B3"
   ]
  },
  {
   "cell_type": "markdown",
   "metadata": {},
   "source": [
    "#### Atmosphere profil"
   ]
  },
  {
   "cell_type": "code",
   "execution_count": null,
   "metadata": {},
   "outputs": [],
   "source": [
    "# molecular scattering and absorption\n",
    "mol_sca_filename  = OPT_PROP_PATH + \"tau_rayleigh_350.dat\"\n",
    "mol_abs_filename  = OPT_PROP_PATH + \"tau_molabs_350.dat\"\n",
    "wl = np.array([350.])\n",
    "nwl= len(wl)\n",
    "z = np.squeeze(pd.read_csv(mol_sca_filename, header=None, usecols=[0], dtype=float, skiprows=1, sep=r'\\s+').values)\n",
    "ZS = len(z)\n",
    "nz = len(z[1:])\n",
    "mol_sca = pd.read_csv(mol_sca_filename, header=None, usecols=[1], dtype=float, skiprows=1, sep=r'\\s+').values.reshape(1,ZS)\n",
    "mol_abs = pd.read_csv(mol_abs_filename, header=None, usecols=[1], dtype=float, skiprows=1, sep=r'\\s+').values.reshape(1,ZS)\n",
    "\n",
    "# aerosol extinction and single scattering albedo\n",
    "aer_ext_filename  = OPT_PROP_PATH + \"tau_aerosol.dat\"\n",
    "aer_tau_ext  = pd.read_csv(aer_ext_filename, header=None, usecols=[1], dtype=float, skiprows=1, sep=r'\\s+').values.reshape(1,ZS)\n",
    "aer_ssa  = np.full_like(aer_tau_ext, 0.787581)\n",
    "prof_aer = (aer_tau_ext, aer_ssa)\n",
    "\n",
    "# aerosol phase matrix\n",
    "NTH = 18001 \n",
    "theta = np.linspace(0, 180, NTH)\n",
    "file_aer_phase = OPT_PROP_PATH + \"sizedistr_spheroid.cdf\"\n",
    "aer_phase = read_phase_nth_cte(filename=file_aer_phase, nb_theta=NTH, normalize=True)\n",
    "nstk = aer_phase.shape[2]\n",
    "aer_pha = np.zeros((nwl, nz, nstk, NTH), dtype=np.float32)\n",
    "# Same phase for all altitude (here only one)\n",
    "for iz in range (0, nz):\n",
    "    aer_pha[:,iz,:,:] = aer_phase.sub()[:,0,:,:].sub({'wav_phase':Idx(wl)}).sub({'theta_atm':Idx(theta)}).data\n",
    "aer_phase = LUT(aer_pha, axes=[wl, z[1:], None, theta], names=['wav', 'z', 'stk', 'theta'])\n",
    "pha_atm, ipha_atm = calc_iphase(aer_phase, wl, z)\n",
    "lpha_lut = []\n",
    "for i in range (0, pha_atm.shape[0]):\n",
    "    lpha_lut.append(LUT(pha_atm[i,:,:], axes=[None, theta], names=['stk', 'theta_atm'])) \n",
    "\n",
    "# atmosphere profil\n",
    "proB3 = AtmAFGL('afglt', grid=z, prof_ray=mol_sca, prof_abs=mol_abs, prof_aer=prof_aer, prof_phases=(ipha_atm, lpha_lut)).calc(wl, phase=False)\n",
    "surfB3 = None\n",
    "NBPH = 1e8"
   ]
  },
  {
   "cell_type": "markdown",
   "metadata": {},
   "source": [
    "#### Compute radiances"
   ]
  },
  {
   "cell_type": "code",
   "execution_count": null,
   "metadata": {},
   "outputs": [],
   "source": [
    "VZAMIN = 100\n",
    "VZAMAX = 180.\n",
    "VZAINC = 5.\n",
    "VZA = np.arange(VZAMIN, VZAMAX+VZAINC, VZAINC)\n",
    "\n",
    "VAAMIN = 0.\n",
    "VAAMAX = 180.\n",
    "VAAINC = 5.\n",
    "VAA = np.arange(VAAMIN, VAAMAX+VAAINC, VAAINC)\n",
    "\n",
    "# SMART-G Forward TH and PHI using local estimate (anticlockwise) conversion with VZA and VAA MYSTIC (clockwise)\n",
    "TH  = 180.-VZA\n",
    "PHI = -VAA\n",
    "TH[TH==0] = 1e-6  # avoid problem due to special case of 0\n",
    "le     = {'th_deg':TH, 'phi_deg':PHI}\n",
    "\n",
    "SZA = 30.0\n",
    "SAA = 0.\n",
    "PHI_0 = 180.-SAA # SMART-G anticlockwise converted to be consistent with MYSTIC\n",
    "\n",
    "mB3F = S1DF.run(THVDEG=SZA, PHVDEG=PHI_0, wl=wl, NBPHOTONS=NBPH, NBLOOP=min(1e6, round(NBPH/10.)), atm=proB3, OUTPUT_LAYERS=int(1),\n",
    "                le=le, surf=surfB3, XBLOCK = 64, XGRID = 1024, BEER=1, DEPO=0.03, stdev=True, SEED=SEED)"
   ]
  },
  {
   "cell_type": "code",
   "execution_count": null,
   "metadata": {},
   "outputs": [],
   "source": [
    "mB3F.save(output_folder_path + \"iprt_b3_smartg_ref.nc\", overwrite=True)"
   ]
  },
  {
   "cell_type": "markdown",
   "metadata": {},
   "source": [
    "#### Convert into iprt output format"
   ]
  },
  {
   "cell_type": "code",
   "execution_count": null,
   "metadata": {},
   "outputs": [],
   "source": [
    "m = mB3F\n",
    "# Radiances\n",
    "VZA = 180.-m.axes['Zenith angles']\n",
    "VAA = -m.axes['Azimuth angles']\n",
    "\n",
    "filename  = output_folder_path + \"iprt_case_b3_smartg_ref.dat\"\n",
    "case_name = \"B3\"\n",
    "ldepol    = [0.03, 0.03]\n",
    "lalt      = [0., 30.]\n",
    "lSZA      = [30., 30.]\n",
    "lSAA      = [0., 0.]\n",
    "\n",
    "# convert\n",
    "convert_SGout_to_IPRTout(lm=[m, m], lU_sign=[-1, -1], case_name=case_name, ldepol=ldepol, lalt=lalt, lSZA=lSZA, lSAA=lSAA,\n",
    "                        lVZA=[180.-VZA, VZA], lVAA=[VAA, VAA], file_name=filename, output_layer=['_down (0+)', '_up (TOA)'])"
   ]
  },
  {
   "cell_type": "markdown",
   "metadata": {},
   "source": [
    "#### Comparison with MYSTIC"
   ]
  },
  {
   "cell_type": "code",
   "execution_count": null,
   "metadata": {},
   "outputs": [],
   "source": [
    "filename     = output_folder_path + \"iprt_case_b3_smartg_ref.dat\"\n",
    "case_name    = \"B3\"\n",
    "ldepol       = [0.03, 0.03]\n",
    "lalt         = [0., 30.]\n",
    "lSZA         = [30., 30.]\n",
    "lSAA         = [0., 0.]\n",
    "lVZA         = [np.round(180.-VZA), np.round(VZA)]\n",
    "\n",
    "smartg_b3 = pd.read_csv(filename, header=None, sep=r'\\s+', dtype=float, comment=\"#\").values\n",
    "mystic_b3 = pd.read_csv(MYSTIC_RES_PATH + \"iprt_case_b3_mystic.dat\", header=None, sep=r'\\s+', dtype=float, comment=\"#\").values\n",
    "model     = smartg_b3\n",
    "ref_model = mystic_b3\n",
    "mod_name  = \"SMARTG\"\n",
    "rmod_name = \"MYSTIC\"\n",
    "lINVTH_rmod  = [False, True]\n",
    "lINVTH_mod   = [False, True]\n",
    "lU_sign_rmod  =[True, True]\n",
    "lU_sign_mod  = [True, True]\n",
    "lV_sign_rmod  =[True, True]\n",
    "lV_sign_mod  = [True, True]\n",
    "avoidP_rmod = False\n",
    "avoidP_mod  = True\n",
    "avoidP_dif  = False\n",
    "sym = True\n",
    "\n",
    "NBRES = len(ldepol)\n",
    "for ires in range (0,NBRES):\n",
    "    # !!!! mistake in MYSTIC depol, depol is set to 0 instead of 0.03 !!!!\n",
    "    title = f\"IPRT case {case_name} - depol = {ldepol[ires]} - SZA = {lSZA[ires]:.0f} - SAA = {lSAA[ires]:.0f}  - {lalt[ires]:.0f}km - {rmod_name}\"\n",
    "    I_rmod, Q_rmod, U_rmod, V_rmod = select_and_plot_polar_iprt(ref_model, z_alti=lalt[ires], depol=0., title=title, change_U_sign=lU_sign_rmod[ires], change_V_sign=lV_sign_rmod[ires],\n",
    "                                                                        inv_thetas=lINVTH_rmod[ires], sym=sym, outputIQUV=True, avoid_plot=avoidP_rmod, thetas=lVZA[ires])\n",
    "    \n",
    "    title = f\"IPRT case {case_name} - depol = {ldepol[ires]} - SZA = {lSZA[ires]:.0f} - SAA = {lSAA[ires]:.0f} - {lalt[ires]:.0f}km - {mod_name}\"\n",
    "    I_mod, Q_mod, U_mod, V_mod = select_and_plot_polar_iprt(model, z_alti=lalt[ires], depol=ldepol[ires], title=title, change_U_sign=lU_sign_mod[ires], change_V_sign=lV_sign_mod[ires],\n",
    "                                                                        inv_thetas=lINVTH_mod[ires], sym=sym, outputIQUV=True, avoid_plot=avoidP_mod, thetas=lVZA[ires])\n",
    "    \n",
    "    if (ires == 0):\n",
    "        IQUV_mod_tot = groupIQUV(lI=[I_mod], lQ=[Q_mod], lU=[U_mod], lV=[V_mod])\n",
    "        IQUV_rmod_tot = groupIQUV(lI=[I_rmod], lQ=[Q_rmod], lU=[U_rmod], lV=[V_rmod])\n",
    "    else:\n",
    "        IQUV_mod_tot = np.concatenate((IQUV_mod_tot, groupIQUV(lI=[I_mod], lQ=[Q_mod], lU=[U_mod], lV=[V_mod])), axis=1)\n",
    "        IQUV_rmod_tot = np.concatenate((IQUV_rmod_tot, groupIQUV(lI=[I_rmod], lQ=[Q_rmod], lU=[U_rmod], lV=[V_rmod])), axis=1)\n",
    "\n",
    "    I_val = I_rmod-I_mod\n",
    "    Q_val = Q_rmod-Q_mod\n",
    "    U_val = U_rmod-U_mod\n",
    "    V_val = V_rmod-V_mod\n",
    "    maxI = max(np.abs(np.min(I_val)), np.abs(np.max(I_val)))\n",
    "    maxQ = max(np.abs(np.min(Q_val)), np.abs(np.max(Q_val)))\n",
    "    maxU = max(np.abs(np.min(U_val)), np.abs(np.max(U_val)))\n",
    "    maxV = max(np.abs(np.min(V_val)), np.abs(np.max(V_val)))\n",
    "    title = f\"IPRT case {case_name} - depol = {ldepol[ires]}  - SZA = {lSZA[ires]:.0f} - SAA = {lSAA[ires]:.0f} - {ldepol[ires]:.0f}km - dif ({rmod_name}-{mod_name})\"\n",
    "    select_and_plot_polar_iprt(ref_model, z_alti=lalt[ires], depol=0., title=title, forceIQUV=[I_val, Q_val, U_val, V_val],\n",
    "                               maxI=maxI, maxQ=maxQ, maxU=maxU, maxV=maxV, cmapI='RdBu_r', avoid_plot=avoidP_dif, thetas=lVZA[ires])"
   ]
  },
  {
   "cell_type": "markdown",
   "metadata": {},
   "source": [
    "#### Compute delta_m"
   ]
  },
  {
   "cell_type": "code",
   "execution_count": null,
   "metadata": {},
   "outputs": [],
   "source": [
    "delta_m_b3 = compute_deltam(obs=IQUV_rmod_tot, mod=IQUV_mod_tot, print_res=True)"
   ]
  },
  {
   "cell_type": "markdown",
   "metadata": {},
   "source": [
    "### Case B4"
   ]
  },
  {
   "cell_type": "markdown",
   "metadata": {},
   "source": [
    "#### Atmosphere profil"
   ]
  },
  {
   "cell_type": "code",
   "execution_count": null,
   "metadata": {},
   "outputs": [],
   "source": [
    "# molecular scattering, no absorption\n",
    "mol_sca_filename  = OPT_PROP_PATH + \"tau_rayleigh_800.dat\"\n",
    "wl = np.array([800.])\n",
    "nwl = len(wl)\n",
    "z = np.squeeze(pd.read_csv(mol_sca_filename, header=None, usecols=[0], dtype=float, skiprows=1, sep=r'\\s+').values)\n",
    "ZS = len(z)\n",
    "nz = len(z[1:])\n",
    "mol_sca = pd.read_csv(mol_sca_filename, header=None, usecols=[1], dtype=float, skiprows=1, sep=r'\\s+').values.reshape(1,ZS)\n",
    "\n",
    "# cloud extinction and single scattering albedo\n",
    "COT                         = 5 # cloud optical thickness\n",
    "cld_zmin                    = 2 # cloud zmin\n",
    "cld_zmax                    = 3 # cloud zmax\n",
    "cld_tau_ext                 = np.zeros((1, len(z)), dtype='float32') # len(wl), len(dZ)\n",
    "z_bis                       = np.array([cld_zmax, cld_zmax, cld_zmin, cld_zmin, 0.], dtype='float32')\n",
    "densities                   = np.array([0., 1., 1., 0., 0.], dtype='float32')[:,None]\n",
    "dZ                          = -diff1(z)\n",
    "dens                        = trapzinterp(densities[:,0], z_bis, z)\n",
    "cld_tau_ext[0,:]            = COT * dens * dZ\n",
    "cld_tau_ext[cld_tau_ext<=0] = 0\n",
    "cld_ssa                     = np.full_like(cld_tau_ext, 0.999979)\n",
    "cld_ssa[cld_tau_ext==0]     = 1\n",
    "prof_aer                    = (cld_tau_ext, cld_ssa)\n",
    "\n",
    "# cloud phase matrix\n",
    "NTH = 18001  # The water cloud has a phase function with a non-negligible peak, then a sufficiently fine resolution is required.\n",
    "theta = np.linspace(0, 180, NTH)\n",
    "file_cld_phase = OPT_PROP_PATH + \"watercloud.mie.cdf\"\n",
    "cld_phase = read_phase_nth_cte(filename=file_cld_phase, nb_theta=NTH, normalize=True)\n",
    "nstk = cld_phase.shape[2]\n",
    "cld_pha = np.zeros((nwl, nz, nstk, NTH), dtype=np.float32)\n",
    "# Same phase for all altitude (here only one)\n",
    "for iz in range (0, nz):\n",
    "    cld_pha[:,iz,:,:] = cld_phase.sub()[:,0,:,:].sub({'wav_phase':Idx(wl)}).sub({'theta_atm':Idx(theta)}).data\n",
    "cld_phase = LUT(cld_pha, axes=[wl, z[1:], None, theta], names=['wav', 'z', 'stk', 'theta'])\n",
    "pha_atm, ipha_atm = calc_iphase(cld_phase, wl, z)\n",
    "lpha_lut = []\n",
    "for i in range (0, pha_atm.shape[0]):\n",
    "    lpha_lut.append(LUT(pha_atm[i,:,:], axes=[None, theta], names=['stk', 'theta_atm'])) \n",
    "\n",
    "# atmosphere profil\n",
    "proB4  = AtmAFGL('afglt', grid=z, prof_ray=mol_sca, prof_abs=np.zeros_like(mol_sca), prof_aer=prof_aer, prof_phases=(ipha_atm, lpha_lut)).calc(wl, phase=False)\n",
    "surfB4 = RoughSurface(WIND=2., BRDF=True, WAVE_SHADOW=True, NH2O=1.33)\n",
    "NBPH   = 1e8"
   ]
  },
  {
   "cell_type": "markdown",
   "metadata": {},
   "source": [
    "#### Compute radiances (0 and 30 km)"
   ]
  },
  {
   "cell_type": "code",
   "execution_count": null,
   "metadata": {},
   "outputs": [],
   "source": [
    "VZAMIN = 100\n",
    "VZAMAX = 180.\n",
    "VZAINC = 5.\n",
    "VZA = np.arange(VZAMIN, VZAMAX+VZAINC, VZAINC)\n",
    "\n",
    "VAAMIN = 0.\n",
    "VAAMAX = 180.\n",
    "VAAINC = 5.\n",
    "VAA = np.arange(VAAMIN, VAAMAX+VAAINC, VAAINC)\n",
    "\n",
    "# SMART-G Forward TH and PHI using local estimate (anticlockwise) conversion with VZA and VAA MYSTIC (clockwise)\n",
    "TH  = 180.-VZA\n",
    "PHI = -VAA\n",
    "TH[TH==0] = 1e-6  # avoid problem due to special case of 0\n",
    "le     = {'th_deg':TH, 'phi_deg':PHI}\n",
    "\n",
    "SZA = 60.0\n",
    "SAA = 0.\n",
    "PHI_0 = 180.-SAA # SMART-G anticlockwise converted to be consistent with MYSTIC\n",
    "\n",
    "mB4F = S1DF.run(THVDEG=SZA, PHVDEG=PHI_0, wl=wl, NBPHOTONS=NBPH, NBLOOP=min(1e6, round(NBPH/10.)), atm=proB4, OUTPUT_LAYERS=int(1),\n",
    "                le=le, surf=surfB4, XBLOCK = 64, XGRID = 1024, BEER=1, DEPO=0.03, stdev=True, SEED=SEED, NF=NTH)#, RR=1, WEIGHTRR=0.1)\n",
    "mB4F2 = S1DF.run(THVDEG=SZA, PHVDEG=PHI_0, wl=wl, NBPHOTONS=NBPH, NBLOOP=min(1e6, round(NBPH/10.)), atm=proB4, OUTPUT_LAYERS=int(1),\n",
    "                le=le, surf=surfB4, XBLOCK = 64, XGRID = 1024, BEER=1, DEPO=0.03, stdev=True, SEED=SEED*2, NF=NTH)"
   ]
  },
  {
   "cell_type": "code",
   "execution_count": null,
   "metadata": {},
   "outputs": [],
   "source": [
    "mB4F.save(output_folder_path + \"iprt_b4_smartg_ref.nc\", overwrite=True)\n",
    "mB4F2.save(output_folder_path + \"iprt_b4_smartg_ref2.nc\", overwrite=True)"
   ]
  },
  {
   "cell_type": "markdown",
   "metadata": {},
   "source": [
    "#### Convert into iprt output format"
   ]
  },
  {
   "cell_type": "code",
   "execution_count": null,
   "metadata": {},
   "outputs": [],
   "source": [
    "m = mB4F\n",
    "# Radiances\n",
    "VZA = 180.-m.axes['Zenith angles']\n",
    "VAA = -m.axes['Azimuth angles']\n",
    "\n",
    "filename  = output_folder_path + \"iprt_case_b4_smartg_ref.dat\"\n",
    "filename2  = output_folder_path + \"iprt_case_b4_smartg_ref2.dat\"\n",
    "case_name = \"B4\"\n",
    "ldepol    = [0.03, 0.03]\n",
    "lalt      = [0., 30.]\n",
    "lSZA      = [60., 60.]\n",
    "lSAA      = [0., 0.]\n",
    "\n",
    "# convert\n",
    "convert_SGout_to_IPRTout(lm=[m, m], lU_sign=[-1, -1], case_name=case_name, ldepol=ldepol, lalt=lalt, lSZA=lSZA, lSAA=lSAA,\n",
    "                        lVZA=[180.-VZA, VZA], lVAA=[VAA, VAA], file_name=filename, output_layer=['_down (0+)', '_up (TOA)'])\n",
    "m = mB4F2\n",
    "convert_SGout_to_IPRTout(lm=[m, m], lU_sign=[-1, -1], case_name=case_name, ldepol=ldepol, lalt=lalt, lSZA=lSZA, lSAA=lSAA,\n",
    "                        lVZA=[180.-VZA, VZA], lVAA=[VAA, VAA], file_name=filename2, output_layer=['_down (0+)', '_up (TOA)'])"
   ]
  },
  {
   "cell_type": "markdown",
   "metadata": {},
   "source": [
    "#### Comparison with MYSTIC"
   ]
  },
  {
   "cell_type": "code",
   "execution_count": null,
   "metadata": {},
   "outputs": [],
   "source": [
    "filename     = output_folder_path + \"iprt_case_b4_smartg_ref.dat\"\n",
    "case_name    = \"B4\"\n",
    "ldepol       = [0.03, 0.03]\n",
    "lalt         = [0., 30.]\n",
    "lSZA         = [60., 60.]\n",
    "lSAA         = [0., 0.]\n",
    "lVZA         = [np.round(180.-VZA), np.round(VZA)]\n",
    "lVAA         = [None, None]#[VAA, VAA]\n",
    "\n",
    "smartg_b4 = pd.read_csv(filename, header=None, sep=r'\\s+', dtype=float, comment=\"#\").values\n",
    "mystic_b4 = pd.read_csv(MYSTIC_RES_PATH + \"iprt_case_b4_mystic.dat\", header=None, sep=r'\\s+', dtype=float, comment=\"#\").values\n",
    "model     = smartg_b4\n",
    "ref_model = mystic_b4\n",
    "mod_name  = \"SMARTG\"\n",
    "rmod_name = \"MYSTIC\"\n",
    "lINVTH_rmod  = [False, True]\n",
    "lINVTH_mod   = [False, True]\n",
    "lU_sign_rmod  =[True, True]\n",
    "lU_sign_mod  = [True, True]\n",
    "lV_sign_rmod  =[True, True]\n",
    "lV_sign_mod  = [True, True]\n",
    "avoidP_rmod = False\n",
    "avoidP_mod  = False\n",
    "avoidP_dif  = False\n",
    "sym = True\n",
    "use_2sim = True\n",
    "\n",
    "if use_2sim:\n",
    "    filename2 = output_folder_path + \"iprt_case_b4_smartg_ref2.dat\"\n",
    "    model2    = pd.read_csv(filename2, header=None, sep=r'\\s+', dtype=float, comment=\"#\").values\n",
    "\n",
    "NBRES = len(ldepol)\n",
    "for ires in range (0,NBRES):\n",
    "    # !!!! mistake in MYSTIC depol, depol is set to 0 instead of 0.03 !!!!\n",
    "    title = f\"IPRT case {case_name} - depol = {ldepol[ires]} - SZA = {lSZA[ires]:.0f} - SAA = {lSAA[ires]:.0f}  - {lalt[ires]:.0f}km - {rmod_name}\"\n",
    "    I_rmod, Q_rmod, U_rmod, V_rmod = select_and_plot_polar_iprt(ref_model, z_alti=lalt[ires], depol=0., title=title, change_U_sign=lU_sign_rmod[ires], change_V_sign=lV_sign_rmod[ires],\n",
    "                                                                        inv_thetas=lINVTH_rmod[ires], sym=sym, outputIQUV=True, avoid_plot=avoidP_rmod, thetas=lVZA[ires], phis=lVAA[ires])\n",
    "    if not use_2sim:\n",
    "        title = f\"IPRT case {case_name} - depol = {ldepol[ires]} - SZA = {lSZA[ires]:.0f} - SAA = {lSAA[ires]:.0f} - {lalt[ires]:.0f}km - {mod_name}\"\n",
    "        I_mod, Q_mod, U_mod, V_mod = select_and_plot_polar_iprt(model, z_alti=lalt[ires], depol=ldepol[ires], title=title, change_U_sign=lU_sign_mod[ires], change_V_sign=lV_sign_mod[ires],\n",
    "                                                                            inv_thetas=lINVTH_mod[ires], sym=sym, outputIQUV=True, avoid_plot=avoidP_mod, thetas=lVZA[ires], phis=lVAA[ires])\n",
    "    else:\n",
    "        title = f\"IPRT case {case_name} - depol = {ldepol[ires]} - SZA = {lSZA[ires]:.0f} - SAA = {lSAA[ires]:.0f} - {lalt[ires]:.0f}km - {mod_name}\"\n",
    "        I_mod, Q_mod, U_mod, V_mod, Istd_mod, Qstd_mod, Ustd_mod, Vstd_mod = \\\n",
    "            select_and_plot_polar_iprt(model, z_alti=lalt[ires], depol=ldepol[ires], title=title, change_U_sign=lU_sign_mod[ires], change_V_sign=lV_sign_mod[ires],\n",
    "                                    inv_thetas=lINVTH_mod[ires], sym=sym, outputIQUV=True, avoid_plot=True, thetas=lVZA[ires], phis=lVAA[ires], outputIQUVstd=True)\n",
    "        I_mod2, Q_mod2, U_mod2, V_mod2, Istd_mod2, Qstd_mod2, Ustd_mod2, Vstd_mod2 = \\\n",
    "            select_and_plot_polar_iprt(model2, z_alti=lalt[ires], depol=ldepol[ires], title=title, change_U_sign=lU_sign_mod[ires], change_V_sign=lV_sign_mod[ires],\n",
    "                                    inv_thetas=lINVTH_mod[ires], sym=sym, outputIQUV=True, avoid_plot=True, thetas=lVZA[ires], phis=lVAA[ires], outputIQUVstd=True)\n",
    "        I_mod3 = np.zeros_like(I_mod)\n",
    "        Q_mod3 = np.zeros_like(Q_mod)\n",
    "        U_mod3 = np.zeros_like(U_mod)\n",
    "        V_mod3 = np.zeros_like(V_mod)\n",
    "        for i in range (0, I_mod.shape[0]):\n",
    "            for j in range (0, I_mod.shape[1]):\n",
    "                if (Istd_mod[i,j] < Istd_mod2[i,j]): I_mod3[i,j] = I_mod[i,j]\n",
    "                else: I_mod3[i,j]  = I_mod2[i,j]\n",
    "                if (Qstd_mod[i,j] < Qstd_mod2[i,j]): Q_mod3[i,j]  = Q_mod[i,j]\n",
    "                else: Q_mod3[i,j]  = Q_mod2[i,j]\n",
    "                if (Ustd_mod[i,j] < Ustd_mod2[i,j]): U_mod3[i,j]  = U_mod[i,j]\n",
    "                else: U_mod3[i,j]  = U_mod2[i,j]\n",
    "                if (Vstd_mod[i,j] < Vstd_mod2[i,j]): V_mod3[i,j]  = V_mod[i,j]\n",
    "                else: V_mod3[i,j]  = V_mod2[i,j]\n",
    "        I_mod = I_mod3.copy()\n",
    "        Q_mod = Q_mod3.copy()\n",
    "        U_mod = U_mod3.copy()\n",
    "        V_mod = V_mod3.copy()\n",
    "        select_and_plot_polar_iprt(ref_model, z_alti=lalt[0], depol=0., title=title, forceIQUV=[I_mod, Q_mod, U_mod, V_mod], avoid_plot=avoidP_mod, sym=sym, thetas=lVZA[ires], phis=lVAA[ires], \n",
    "                                   maxQ=max(np.abs(np.min(Q_rmod)), np.abs(np.max(Q_rmod))), maxU=max(np.abs(np.min(U_rmod)), np.abs(np.max(U_rmod))), maxV=max(np.abs(np.min(V_rmod)), np.abs(np.max(V_rmod))))\n",
    "    \n",
    "    if (ires == 0):\n",
    "        IQUV_mod_tot = groupIQUV(lI=[I_mod], lQ=[Q_mod], lU=[U_mod], lV=[V_mod])\n",
    "        IQUV_rmod_tot = groupIQUV(lI=[I_rmod], lQ=[Q_rmod], lU=[U_rmod], lV=[V_rmod])\n",
    "    else:\n",
    "        IQUV_mod_tot = np.concatenate((IQUV_mod_tot, groupIQUV(lI=[I_mod], lQ=[Q_mod], lU=[U_mod], lV=[V_mod])), axis=1)\n",
    "        IQUV_rmod_tot = np.concatenate((IQUV_rmod_tot, groupIQUV(lI=[I_rmod], lQ=[Q_rmod], lU=[U_rmod], lV=[V_rmod])), axis=1)\n",
    "\n",
    "    I_val = I_rmod-I_mod\n",
    "    Q_val = Q_rmod-Q_mod\n",
    "    U_val = U_rmod-U_mod\n",
    "    V_val = V_rmod-V_mod\n",
    "    maxI = max(np.abs(np.min(I_val)), np.abs(np.max(I_val)))\n",
    "    maxQ = max(np.abs(np.min(Q_val)), np.abs(np.max(Q_val)))\n",
    "    maxU = max(np.abs(np.min(U_val)), np.abs(np.max(U_val)))\n",
    "    maxV = max(np.abs(np.min(V_val)), np.abs(np.max(V_val)))\n",
    "    title = f\"IPRT case {case_name} - depol = {ldepol[ires]}  - SZA = {lSZA[ires]:.0f} - SAA = {lSAA[ires]:.0f} - {ldepol[ires]:.0f}km - dif ({rmod_name}-{mod_name})\"\n",
    "    select_and_plot_polar_iprt(ref_model, z_alti=lalt[ires], depol=0., title=title, forceIQUV=[I_val, Q_val, U_val, V_val],\n",
    "                               maxI=maxI, maxQ=maxQ, maxU=maxU, maxV=maxV, cmapI='RdBu_r', avoid_plot=avoidP_dif, thetas=lVZA[ires], phis=lVAA[ires])"
   ]
  },
  {
   "cell_type": "markdown",
   "metadata": {},
   "source": [
    "#### Compute delta_m"
   ]
  },
  {
   "cell_type": "code",
   "execution_count": null,
   "metadata": {},
   "outputs": [],
   "source": [
    "delta_m_b4 = compute_deltam(obs=IQUV_rmod_tot, mod=IQUV_mod_tot, print_res=True)"
   ]
  },
  {
   "cell_type": "markdown",
   "metadata": {},
   "source": [
    "#### Compute radiances in backward mode (0 km)"
   ]
  },
  {
   "cell_type": "code",
   "execution_count": null,
   "metadata": {},
   "outputs": [],
   "source": [
    "SZA = 60.\n",
    "SAA = 0.\n",
    "PHI_0 = 180.-SAA # To follow MYSTIC convention\n",
    "le     = {'th_deg':np.array([SZA]), 'phi_deg':np.array([PHI_0])}\n",
    "\n",
    "# VZA\n",
    "VZAMIN = 0.\n",
    "VZAMAX = 80.\n",
    "VZAINC = 5.\n",
    "VZA = np.arange(VZAMIN, VZAMAX+VZAINC, VZAINC)\n",
    "\n",
    "# VAA from 0. to 180.\n",
    "VAAMIN = 0.\n",
    "VAAMAX = 180.\n",
    "VAAINC = 5.\n",
    "VAA = np.arange(VAAMIN, VAAMAX+VAAINC, VAAINC)\n",
    "\n",
    "lsensors = []\n",
    "NBVZA = len(VZA)\n",
    "NBVAA = len(VAA)\n",
    "NBDIR = round(NBVAA*NBVZA)\n",
    "for iza, za in enumerate(VZA):\n",
    "    for iaa, aa in enumerate(VAA):\n",
    "        PHI = -aa+180\n",
    "        lsensors.append(Sensor(POSZ=0.0, THDEG=za, PHDEG=PHI, LOC='ATMOS')) ### Sensor at 1km altitude\n",
    "\n",
    "mB4B_0km = S1DB.run(wl=wl, NBPHOTONS=NBPH*NBDIR, NBLOOP=NBPH, atm=proB4, sensor=lsensors, NF=NTH,\n",
    "                    le=le, surf=surfB4, XBLOCK = 64, XGRID = 1024, BEER=1, DEPO=0.03, stdev=True, progress=True, SEED=SEED)\n",
    "\n",
    "mB4B_0km = mB4B_0km.dropaxis('Azimuth angles', 'Zenith angles')\n",
    "mB4B_0km.add_axis('Azimuth angles', -VAA+180.)\n",
    "mB4B_0km.add_axis('Zenith angles', VZA)\n",
    "\n",
    "for name in mB4B_0km.datasets():\n",
    "    if 'sensor index' in mB4B_0km[name].names:\n",
    "        mat_tmp = np.swapaxes(mB4B_0km[name][:].reshape(len(VZA), len(VAA)), 0, 1)\n",
    "        attrs_tmp = mB4B_0km[name].attrs\n",
    "        mB4B_0km.rm_lut(name)\n",
    "        mB4B_0km.add_dataset(name, mat_tmp, ['Azimuth angles', 'Zenith angles'], attrs=attrs_tmp)\n",
    "\n",
    "mB4B_0km = mB4B_0km.dropaxis('sensor index')\n",
    "\n",
    "mB4B_0km2 = S1DB.run(wl=wl, NBPHOTONS=NBPH*NBDIR, NBLOOP=NBPH, atm=proB4, sensor=lsensors, NF=NTH,\n",
    "                     le=le, surf=surfB4, XBLOCK = 64, XGRID = 1024, BEER=1, DEPO=0.03, stdev=True, progress=True, SEED=SEED*2)\n",
    "\n",
    "mB4B_0km2 = mB4B_0km2.dropaxis('Azimuth angles', 'Zenith angles')\n",
    "mB4B_0km2.add_axis('Azimuth angles', -VAA+180.)\n",
    "mB4B_0km2.add_axis('Zenith angles', VZA)\n",
    "\n",
    "for name in mB4B_0km2.datasets():\n",
    "    if 'sensor index' in mB4B_0km2[name].names:\n",
    "        mat_tmp = np.swapaxes(mB4B_0km2[name][:].reshape(len(VZA), len(VAA)), 0, 1)\n",
    "        attrs_tmp = mB4B_0km2[name].attrs\n",
    "        mB4B_0km2.rm_lut(name)\n",
    "        mB4B_0km2.add_dataset(name, mat_tmp, ['Azimuth angles', 'Zenith angles'], attrs=attrs_tmp)\n",
    "\n",
    "mB4B_0km2 = mB4B_0km2.dropaxis('sensor index')"
   ]
  },
  {
   "cell_type": "code",
   "execution_count": null,
   "metadata": {},
   "outputs": [],
   "source": [
    "mB4B_0km.save(output_folder_path + \"iprt_b4_smartg_ref_BAK_0km.nc\", overwrite=True)\n",
    "mB4B_0km2.save(output_folder_path + \"iprt_b4_smartg_ref_BAK_0km2.nc\", overwrite=True)"
   ]
  },
  {
   "cell_type": "markdown",
   "metadata": {},
   "source": [
    "#### Compute radiances in backward mode (30km)"
   ]
  },
  {
   "cell_type": "code",
   "execution_count": null,
   "metadata": {},
   "outputs": [],
   "source": [
    "SZA = 60.\n",
    "SAA = 0.\n",
    "PHI_0 = 180.-SAA # To follow MYSTIC convention\n",
    "le     = {'th_deg':np.array([SZA]), 'phi_deg':np.array([PHI_0])}\n",
    "\n",
    "# VZA\n",
    "VZAMIN = 100.\n",
    "VZAMAX = 180.\n",
    "VZAINC = 5.\n",
    "VZA = np.arange(VZAMIN, VZAMAX+VZAINC, VZAINC)\n",
    "\n",
    "# VAA from 0. to 180.\n",
    "VAAMIN = 0.\n",
    "VAAMAX = 180.\n",
    "VAAINC = 5.\n",
    "VAA = np.arange(VAAMIN, VAAMAX+VAAINC, VAAINC)\n",
    "\n",
    "lsensors = []\n",
    "NBVZA = len(VZA)\n",
    "NBVAA = len(VAA)\n",
    "NBDIR = round(NBVAA*NBVZA)\n",
    "for iza, za in enumerate(VZA):\n",
    "    for iaa, aa in enumerate(VAA):\n",
    "        PHI = -aa+180\n",
    "        lsensors.append(Sensor(POSZ=30.0, THDEG=za, PHDEG=PHI, LOC='ATMOS')) ### Sensor at 1km altitude\n",
    "\n",
    "mB4B_30km = S1DB.run(wl=wl, NBPHOTONS=NBPH*NBDIR, NBLOOP=NBPH, atm=proB4, sensor=lsensors, NF=NTH,\n",
    "                     le=le, surf=surfB4, XBLOCK = 64, XGRID = 1024, BEER=1, DEPO=0.03, stdev=True, progress=True, SEED=SEED)\n",
    "\n",
    "mB4B_30km = mB4B_30km.dropaxis('Azimuth angles', 'Zenith angles')\n",
    "mB4B_30km.add_axis('Azimuth angles', -VAA+180.)\n",
    "mB4B_30km.add_axis('Zenith angles', VZA)\n",
    "\n",
    "for name in mB4B_30km.datasets():\n",
    "    if 'sensor index' in mB4B_30km[name].names:\n",
    "        mat_tmp = np.swapaxes(mB4B_30km[name][:].reshape(len(VZA), len(VAA)), 0, 1)\n",
    "        attrs_tmp = mB4B_30km[name].attrs\n",
    "        mB4B_30km.rm_lut(name)\n",
    "        mB4B_30km.add_dataset(name, mat_tmp, ['Azimuth angles', 'Zenith angles'], attrs=attrs_tmp)\n",
    "\n",
    "mB4B_30km = mB4B_30km.dropaxis('sensor index')\n",
    "\n",
    "mB4B_30km2 = S1DB.run(wl=wl, NBPHOTONS=NBPH*NBDIR, NBLOOP=NBPH, atm=proB4, sensor=lsensors, NF=NTH,\n",
    "                      le=le, surf=surfB4, XBLOCK = 64, XGRID = 1024, BEER=1, DEPO=0.03, stdev=True, progress=True, SEED=SEED*2)\n",
    "\n",
    "mB4B_30km2 = mB4B_30km2.dropaxis('Azimuth angles', 'Zenith angles')\n",
    "mB4B_30km2.add_axis('Azimuth angles', -VAA+180.)\n",
    "mB4B_30km2.add_axis('Zenith angles', VZA)\n",
    "\n",
    "for name in mB4B_30km2.datasets():\n",
    "    if 'sensor index' in mB4B_30km2[name].names:\n",
    "        mat_tmp = np.swapaxes(mB4B_30km2[name][:].reshape(len(VZA), len(VAA)), 0, 1)\n",
    "        attrs_tmp = mB4B_30km2[name].attrs\n",
    "        mB4B_30km2.rm_lut(name)\n",
    "        mB4B_30km2.add_dataset(name, mat_tmp, ['Azimuth angles', 'Zenith angles'], attrs=attrs_tmp)\n",
    "\n",
    "mB4B_30km2 = mB4B_30km2.dropaxis('sensor index')"
   ]
  },
  {
   "cell_type": "code",
   "execution_count": null,
   "metadata": {},
   "outputs": [],
   "source": [
    "mB4B_30km.save(output_folder_path + \"iprt_b4_smartg_ref_BAK_30km.nc\", overwrite=True)\n",
    "mB4B_30km2.save(output_folder_path + \"iprt_b4_smartg_ref_BAK_30km2.nc\", overwrite=True)"
   ]
  },
  {
   "cell_type": "markdown",
   "metadata": {},
   "source": [
    "#### Convert into iprt output format"
   ]
  },
  {
   "cell_type": "code",
   "execution_count": null,
   "metadata": {},
   "outputs": [],
   "source": [
    "# Radiances\n",
    "VZA_0km = mB4B_0km.axes['Zenith angles']\n",
    "VAA_0km = 180-mB4B_0km.axes['Azimuth angles']\n",
    "\n",
    "VZA_30km = mB4B_30km.axes['Zenith angles']\n",
    "VAA_30km = 180.-mB4B_30km.axes['Azimuth angles']\n",
    "\n",
    "filename  = output_folder_path + \"iprt_case_b4_smartg_BAK_ref.dat\"\n",
    "filename2  = output_folder_path + \"iprt_case_b4_smartg_BAK_ref2.dat\"\n",
    "case_name = \"B4\"\n",
    "ldepol    = [0.03, 0.03]\n",
    "lalt      = [0., 30.]\n",
    "lSZA      = [60., 60.]\n",
    "lSAA      = [0., 0.]\n",
    "\n",
    "# convert\n",
    "convert_SGout_to_IPRTout(lm=[mB4B_0km, mB4B_30km], lU_sign=[1, 1], case_name=case_name, ldepol=ldepol, lalt=lalt, lSZA=lSZA, lSAA=lSAA,\n",
    "                         lVZA=[VZA_0km, VZA_30km], lVAA=[VAA_0km, VAA_30km], file_name=filename, output_layer=['_up (TOA)', '_up (TOA)'])\n",
    "\n",
    "convert_SGout_to_IPRTout(lm=[mB4B_0km2, mB4B_30km2], lU_sign=[1, 1], case_name=case_name, ldepol=ldepol, lalt=lalt, lSZA=lSZA, lSAA=lSAA,\n",
    "                         lVZA=[VZA_0km, VZA_30km], lVAA=[VAA_0km, VAA_30km], file_name=filename2, output_layer=['_up (TOA)', '_up (TOA)'])"
   ]
  },
  {
   "cell_type": "markdown",
   "metadata": {},
   "source": [
    "#### Comparison with MYSTIC"
   ]
  },
  {
   "cell_type": "code",
   "execution_count": null,
   "metadata": {},
   "outputs": [],
   "source": [
    "filename     = output_folder_path + \"iprt_case_b4_smartg_BAK_ref.dat\"\n",
    "case_name    = \"B4\"\n",
    "ldepol       = [0.03, 0.03]\n",
    "lalt         = [0., 30.]\n",
    "lSZA         = [60., 60.]\n",
    "lSAA         = [0., 0.]\n",
    "lVZA         = [np.round(180.-VZA_30km), np.round(VZA_30km)]\n",
    "lVAA         = [None, None]#[VAA, VAA]\n",
    "\n",
    "smartg_b4 = pd.read_csv(filename, header=None, sep=r'\\s+', dtype=float, comment=\"#\").values\n",
    "mystic_b4 = pd.read_csv(MYSTIC_RES_PATH + \"iprt_case_b4_mystic.dat\", header=None, sep=r'\\s+', dtype=float, comment=\"#\").values\n",
    "model     = smartg_b4\n",
    "ref_model = mystic_b4\n",
    "mod_name  = \"SMARTG\"\n",
    "rmod_name = \"MYSTIC\"\n",
    "lINVTH_rmod  = [False, True]\n",
    "lINVTH_mod   = [False, True]\n",
    "lU_sign_rmod  =[True, True]\n",
    "lU_sign_mod  = [True, True]\n",
    "lV_sign_rmod  =[True, True]\n",
    "lV_sign_mod  = [False, False]\n",
    "avoidP_rmod = False\n",
    "avoidP_mod  = False\n",
    "avoidP_dif  = False\n",
    "sym = True\n",
    "use_2sim = True\n",
    "\n",
    "if use_2sim:\n",
    "    filename2 = output_folder_path + \"iprt_case_b4_smartg_BAK_ref2.dat\"\n",
    "    model2    = pd.read_csv(filename2, header=None, sep=r'\\s+', dtype=float, comment=\"#\").values\n",
    "\n",
    "NBRES = len(ldepol)\n",
    "for ires in range (0,NBRES):\n",
    "    # !!!! mistake in MYSTIC depol, depol is set to 0 instead of 0.03 !!!!\n",
    "    title = f\"IPRT case {case_name} - depol = {ldepol[ires]} - SZA = {lSZA[ires]:.0f} - SAA = {lSAA[ires]:.0f}  - {lalt[ires]:.0f}km - {rmod_name}\"\n",
    "    I_rmod, Q_rmod, U_rmod, V_rmod = select_and_plot_polar_iprt(ref_model, z_alti=lalt[ires], depol=0., title=title, change_U_sign=lU_sign_rmod[ires], change_V_sign=lV_sign_rmod[ires],\n",
    "                                                                        inv_thetas=lINVTH_rmod[ires], sym=sym, outputIQUV=True, avoid_plot=avoidP_rmod, thetas=lVZA[ires], phis=lVAA[ires])\n",
    "    \n",
    "    \n",
    "    if not use_2sim:\n",
    "        title = f\"IPRT case {case_name} - depol = {ldepol[ires]} - SZA = {lSZA[ires]:.0f} - SAA = {lSAA[ires]:.0f} - {lalt[ires]:.0f}km - {mod_name}\"\n",
    "        I_mod, Q_mod, U_mod, V_mod = select_and_plot_polar_iprt(model, z_alti=lalt[ires], depol=ldepol[ires], title=title, change_U_sign=lU_sign_mod[ires], change_V_sign=lV_sign_mod[ires],\n",
    "                                                                inv_thetas=lINVTH_mod[ires], sym=sym, outputIQUV=True, avoid_plot=avoidP_mod, thetas=lVZA[ires], phis=lVAA[ires],\n",
    "                                                                maxQ=max(np.abs(np.min(Q_rmod)), np.abs(np.max(Q_rmod))), maxU=max(np.abs(np.min(U_rmod)), np.abs(np.max(U_rmod))), maxV=max(np.abs(np.min(V_rmod)), np.abs(np.max(V_rmod))))\n",
    "    else:\n",
    "        title = f\"IPRT case {case_name} - depol = {ldepol[ires]} - SZA = {lSZA[ires]:.0f} - SAA = {lSAA[ires]:.0f} - {lalt[ires]:.0f}km - {mod_name}\"\n",
    "        I_mod, Q_mod, U_mod, V_mod, Istd_mod, Qstd_mod, Ustd_mod, Vstd_mod = \\\n",
    "            select_and_plot_polar_iprt(model, z_alti=lalt[ires], depol=ldepol[ires], title=title, change_U_sign=lU_sign_mod[ires], change_V_sign=lV_sign_mod[ires],\n",
    "                                    inv_thetas=lINVTH_mod[ires], sym=sym, outputIQUV=True, avoid_plot=True, thetas=lVZA[ires], phis=lVAA[ires], outputIQUVstd=True)\n",
    "        I_mod2, Q_mod2, U_mod2, V_mod2, Istd_mod2, Qstd_mod2, Ustd_mod2, Vstd_mod2 = \\\n",
    "            select_and_plot_polar_iprt(model2, z_alti=lalt[ires], depol=ldepol[ires], title=title, change_U_sign=lU_sign_mod[ires], change_V_sign=lV_sign_mod[ires],\n",
    "                                    inv_thetas=lINVTH_mod[ires], sym=sym, outputIQUV=True, avoid_plot=True, thetas=lVZA[ires], phis=lVAA[ires], outputIQUVstd=True)\n",
    "        I_mod3 = np.zeros_like(I_mod)\n",
    "        Q_mod3 = np.zeros_like(Q_mod)\n",
    "        U_mod3 = np.zeros_like(U_mod)\n",
    "        V_mod3 = np.zeros_like(V_mod)\n",
    "        for i in range (0, I_mod.shape[0]):\n",
    "            for j in range (0, I_mod.shape[1]):\n",
    "                if (Istd_mod[i,j] < Istd_mod2[i,j]): I_mod3[i,j] = I_mod[i,j]\n",
    "                else: I_mod3[i,j]  = I_mod2[i,j]\n",
    "                if (Qstd_mod[i,j] < Qstd_mod2[i,j]): Q_mod3[i,j]  = Q_mod[i,j]\n",
    "                else: Q_mod3[i,j]  = Q_mod2[i,j]\n",
    "                if (Ustd_mod[i,j] < Ustd_mod2[i,j]): U_mod3[i,j]  = U_mod[i,j]\n",
    "                else: U_mod3[i,j]  = U_mod2[i,j]\n",
    "                if (Vstd_mod[i,j] < Vstd_mod2[i,j]): V_mod3[i,j]  = V_mod[i,j]\n",
    "                else: V_mod3[i,j]  = V_mod2[i,j]\n",
    "        I_mod = I_mod3.copy()\n",
    "        Q_mod = Q_mod3.copy()\n",
    "        U_mod = U_mod3.copy()\n",
    "        V_mod = V_mod3.copy()\n",
    "        select_and_plot_polar_iprt(ref_model, z_alti=lalt[0], depol=0., title=title, forceIQUV=[I_mod, Q_mod, U_mod, V_mod], avoid_plot=avoidP_mod, sym=sym, thetas=lVZA[ires], phis=lVAA[ires], \n",
    "                                   maxQ=max(np.abs(np.min(Q_rmod)), np.abs(np.max(Q_rmod))), maxU=max(np.abs(np.min(U_rmod)), np.abs(np.max(U_rmod))), maxV=max(np.abs(np.min(V_rmod)), np.abs(np.max(V_rmod))))\n",
    "    \n",
    "    if (ires == 0):\n",
    "        IQUV_mod_tot = groupIQUV(lI=[I_mod], lQ=[Q_mod], lU=[U_mod], lV=[V_mod])\n",
    "        IQUV_rmod_tot = groupIQUV(lI=[I_rmod], lQ=[Q_rmod], lU=[U_rmod], lV=[V_rmod])\n",
    "    else:\n",
    "        IQUV_mod_tot = np.concatenate((IQUV_mod_tot, groupIQUV(lI=[I_mod], lQ=[Q_mod], lU=[U_mod], lV=[V_mod])), axis=1)\n",
    "        IQUV_rmod_tot = np.concatenate((IQUV_rmod_tot, groupIQUV(lI=[I_rmod], lQ=[Q_rmod], lU=[U_rmod], lV=[V_rmod])), axis=1)\n",
    "\n",
    "    I_val = I_rmod-I_mod\n",
    "    Q_val = Q_rmod-Q_mod\n",
    "    U_val = U_rmod-U_mod\n",
    "    V_val = V_rmod-V_mod\n",
    "    maxI = max(np.abs(np.min(I_val)), np.abs(np.max(I_val)))\n",
    "    maxQ = max(np.abs(np.min(Q_val)), np.abs(np.max(Q_val)))\n",
    "    maxU = max(np.abs(np.min(U_val)), np.abs(np.max(U_val)))\n",
    "    maxV = max(np.abs(np.min(V_val)), np.abs(np.max(V_val)))\n",
    "    title = f\"IPRT case {case_name} - depol = {ldepol[ires]}  - SZA = {lSZA[ires]:.0f} - SAA = {lSAA[ires]:.0f} - {ldepol[ires]:.0f}km - dif ({rmod_name}-{mod_name})\"\n",
    "    select_and_plot_polar_iprt(ref_model, z_alti=lalt[ires], depol=0., title=title, forceIQUV=[I_val, Q_val, U_val, V_val],\n",
    "                               maxI=maxI, maxQ=maxQ, maxU=maxU, maxV=maxV, cmapI='RdBu_r', avoid_plot=avoidP_dif, thetas=lVZA[ires], phis=lVAA[ires])"
   ]
  },
  {
   "cell_type": "markdown",
   "metadata": {},
   "source": [
    "#### Compute delta_m"
   ]
  },
  {
   "cell_type": "code",
   "execution_count": null,
   "metadata": {},
   "outputs": [],
   "source": [
    "delta_m_b4_BAK = compute_deltam(obs=IQUV_rmod_tot, mod=IQUV_mod_tot, print_res=True)"
   ]
  }
 ],
 "metadata": {
  "kernelspec": {
   "display_name": "smartg",
   "language": "python",
   "name": "python3"
  },
  "language_info": {
   "codemirror_mode": {
    "name": "ipython",
    "version": 3
   },
   "file_extension": ".py",
   "mimetype": "text/x-python",
   "name": "python",
   "nbconvert_exporter": "python",
   "pygments_lexer": "ipython3",
   "version": "3.11.9"
  },
  "orig_nbformat": 4
 },
 "nbformat": 4,
 "nbformat_minor": 2
}
