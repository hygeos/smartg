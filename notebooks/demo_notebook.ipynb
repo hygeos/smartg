{
 "cells": [
  {
   "cell_type": "markdown",
   "metadata": {},
   "source": [
    "# Smart-G demo notebook\n",
    "\n",
    "This is an interactive document allowing to run Smart-G with python and visualize the results. <br>\n",
    "*Tips*: cells can be executed with shift-enter. Tooltips can be obtained with shift-tab. More information [here](http://ipython.org/notebook.html) or in the help menu. [A table of content can also be added](https://github.com/minrk/ipython_extensions#table-of-contents)."
   ]
  },
  {
   "cell_type": "code",
   "execution_count": null,
   "metadata": {
    "collapsed": false,
    "scrolled": false
   },
   "outputs": [],
   "source": [
    "%pylab inline\n",
    "# next 2 lines allow to automatically reload modules that have been changed externally\n",
    "%reload_ext autoreload\n",
    "%autoreload 2\n",
    "import sys\n",
    "sys.path.append('..')\n",
    "from smartg import Smartg, reptran_merge\n",
    "from smartg import RoughSurface, LambSurface, FlatSurface, Environment\n",
    "from smartg import Profile, AeroOPAC, CloudOPAC, IOP_SPM, IOP_MM\n",
    "from tools.tools import SpecInt, SpecInt2, Irr, ReadREPTRAN_bands\n",
    "from tools.luts import LUT, MLUT, Idx, merge, read_lut_hdf, read_mlut\n",
    "from tools.smartg_view import plot_polar, smartg_view\n",
    "from ipywidgets import interact, interact_manual"
   ]
  },
  {
   "cell_type": "markdown",
   "metadata": {},
   "source": [
    "## How to run Smart-G"
   ]
  },
  {
   "cell_type": "code",
   "execution_count": null,
   "metadata": {
    "collapsed": false,
    "scrolled": false
   },
   "outputs": [],
   "source": [
    "# run SMART-G\n",
    "# this simulation uses an AFGL tropical atmosphere without aerosols\n",
    "# Reflectance computation in Cone Sampling mode (default)\n",
    "m = Smartg().run(THVDEG=30, wl=500., NBPHOTONS=1e8,\n",
    "           atm=Profile('afglt'),\n",
    "           surf=RoughSurface(SUR=1))"
   ]
  },
  {
   "cell_type": "code",
   "execution_count": null,
   "metadata": {
    "collapsed": false
   },
   "outputs": [],
   "source": [
    "# the result is a MLUT\n",
    "m.print_info()\n",
    "# it can be written with m.save(filename)\n",
    "# and then reloaded with read_mlut_hdf(filename)"
   ]
  },
  {
   "cell_type": "markdown",
   "metadata": {},
   "source": [
    "## How to view the results"
   ]
  },
  {
   "cell_type": "code",
   "execution_count": null,
   "metadata": {
    "collapsed": false
   },
   "outputs": [],
   "source": [
    "# basic visualization\n",
    "smartg_view(m)"
   ]
  },
  {
   "cell_type": "code",
   "execution_count": null,
   "metadata": {
    "collapsed": false
   },
   "outputs": [],
   "source": [
    "# access a LUT within the MLUT\n",
    "I = m['I_up (TOA)']  # or by index: m[0]"
   ]
  },
  {
   "cell_type": "code",
   "execution_count": null,
   "metadata": {
    "collapsed": false
   },
   "outputs": [],
   "source": [
    "I.print_info()"
   ]
  },
  {
   "cell_type": "code",
   "execution_count": null,
   "metadata": {
    "collapsed": false
   },
   "outputs": [],
   "source": [
    "# access values in this LUT\n",
    "print I[5, ::5]  # by index (can be float indices to interpolate)\n",
    "print I[Idx(90.), Idx(45.)]  # or by index finding + interpolation"
   ]
  },
  {
   "cell_type": "code",
   "execution_count": null,
   "metadata": {
    "collapsed": false
   },
   "outputs": [],
   "source": [
    "# calculate polarized light\n",
    "# use operations between LUT's, and apply sqrt\n",
    "Q, U = m['Q_up (TOA)'], m['U_up (TOA)']\n",
    "LP = (Q*Q + U*U).apply(sqrt, 'LP')   # second parameter of apply sets the LUT's desc"
   ]
  },
  {
   "cell_type": "code",
   "execution_count": null,
   "metadata": {
    "collapsed": false
   },
   "outputs": [],
   "source": [
    "#Different visualizations\n",
    "LP.plot_semi()\n",
    "LP.plot()\n",
    "LP.plot_polar()"
   ]
  },
  {
   "cell_type": "code",
   "execution_count": null,
   "metadata": {
    "collapsed": false
   },
   "outputs": [],
   "source": [
    "I.plot_semi(index=Idx(45), vmin=0, vmax=0.3)   # the arguments are optional"
   ]
  },
  {
   "cell_type": "code",
   "execution_count": null,
   "metadata": {
    "collapsed": false
   },
   "outputs": [],
   "source": [
    "# get a sub-LUT from a LUT (here 2D -> 1D)\n",
    "I.sub()[Idx(90),:].plot()"
   ]
  },
  {
   "cell_type": "markdown",
   "metadata": {},
   "source": [
    "## A few examples"
   ]
  },
  {
   "cell_type": "code",
   "execution_count": null,
   "metadata": {
    "collapsed": false
   },
   "outputs": [],
   "source": [
    "# Basic Rayleigh example, no surface\n",
    "smartg_view(Smartg().run(wl=500., THVDEG=30., NBPHOTONS=1e9, atm=Profile('afglt')))"
   ]
  },
  {
   "cell_type": "code",
   "execution_count": null,
   "metadata": {
    "collapsed": false
   },
   "outputs": [],
   "source": [
    "# only Rayleigh with a custom grid, a customes depolarization ratio and a custom surface pressure\n",
    "smartg_view(Smartg().run(wl=500., THVDEG=30., DEPO=0., NBPHOTONS=1e9,\n",
    "        atm=Profile('afglt', grid='100[75]25[5]10[0.5]0.5', P0=990.)))"
   ]
  },
  {
   "cell_type": "code",
   "execution_count": null,
   "metadata": {
    "collapsed": false
   },
   "outputs": [],
   "source": [
    "# Rayleigh + aerosols\n",
    "aer = AeroOPAC('urban', 0.4, 550.)\n",
    "pro = Profile('afglms', aer=aer)\n",
    "smartg_view(Smartg().run(wl=300., THVDEG=60, atm=pro, NBPHOTONS=1e8))"
   ]
  },
  {
   "cell_type": "code",
   "execution_count": null,
   "metadata": {
    "collapsed": false
   },
   "outputs": [],
   "source": [
    "# atmosphere + surface\n",
    "smartg_view(Smartg().run(490., NBPHOTONS=1e8, THVDEG=45.,\n",
    "        atm=Profile('afglms'),\n",
    "        surf=LambSurface(ALB=0.1)))"
   ]
  },
  {
   "cell_type": "code",
   "execution_count": null,
   "metadata": {
    "collapsed": false
   },
   "outputs": [],
   "source": [
    "# atmosphere + surface + océan\n",
    "smartg_view(Smartg().run(490., NBPHOTONS=1e8, THVDEG=30.,\n",
    "            atm=Profile('afglms'),\n",
    "            surf=RoughSurface(),\n",
    "            water=IOP_MM(1.)))"
   ]
  },
  {
   "cell_type": "code",
   "execution_count": null,
   "metadata": {
    "collapsed": false,
    "run_control": {
     "marked": false
    }
   },
   "outputs": [],
   "source": [
    "# surface + océan (SPM model)\n",
    "smartg_view(Smartg().run(750., THVDEG=30., NBPHOTONS=1e8,\n",
    "        surf=RoughSurface(),\n",
    "        water=IOP_SPM(SPM=100.)))"
   ]
  },
  {
   "cell_type": "code",
   "execution_count": null,
   "metadata": {
    "collapsed": false
   },
   "outputs": [],
   "source": [
    "# océan seul (chl model)\n",
    "smartg_view(Smartg().run(wl=350., THVDEG=30., water=IOP_MM(0.1), NBPHOTONS=1e8))"
   ]
  },
  {
   "cell_type": "markdown",
   "metadata": {},
   "source": [
    "## Multispectral"
   ]
  },
  {
   "cell_type": "code",
   "execution_count": null,
   "metadata": {
    "collapsed": false
   },
   "outputs": [],
   "source": [
    "# multispectral simulation\n",
    "pro = Profile('afglt',\n",
    "              grid=[100, 75, 50, 30, 20, 10, 5, 1, 0.],  # optional, otherwise use default grid\n",
    "              pfgrid=[100, 20, 0.],   # optional, otherwise use a single band 100-0\n",
    "              pfwav=[400, 500, 600], # optional, otherwise phase functions are calculated at all bands\n",
    "              aer=AeroOPAC('maritime_clean', 0.3, 550.),\n",
    "              verbose=True)\n",
    "water = IOP_MM(1.,\n",
    "              pfwav=[400, 500, 600])\n",
    "m = Smartg().run(wl=np.linspace(400, 600, 11.),\n",
    "           THVDEG=60., NBPHOTONS=1e8,\n",
    "           atm=pro,\n",
    "           surf=RoughSurface(),\n",
    "           water=water)\n",
    "m['I_up (TOA)'].sub()[0,:,:].plot()\n",
    "figure()\n",
    "m['I_up (TOA)'].sub()[:,Idx(60),Idx(30)].plot(fmt='o-')"
   ]
  },
  {
   "cell_type": "markdown",
   "metadata": {},
   "source": [
    "## Atmospheric profile"
   ]
  },
  {
   "cell_type": "code",
   "execution_count": null,
   "metadata": {
    "collapsed": false,
    "run_control": {
     "marked": false
    }
   },
   "outputs": [],
   "source": [
    "# monochromatic computation for custom aerosols\n",
    "wl = 550.\n",
    "pro = Profile('afglt',\n",
    "              aer=AeroOPAC('urban',0.3, wl), # set AOT to 0.3 and aerosol vertical profile to 'urban' type\n",
    "              ssa=0.98,  # set single scattering albedo of aerosols to 0.98 for each layer\n",
    "              O3 = 0.,   # scale ozone vertical column to 0 Dobson units (here no absoprtion by ozone)\n",
    "              NO2= False,# disable absorption by NO2\n",
    "              H2O= 4.,   # scale water vapour column to 2 g/cm-2\n",
    "              P0 = 980., # set sea level pressure to 980 hPa\n",
    "              tauR=0.,   # force Rayleigh optical thickness\n",
    "              grid = [100, 75, 50, 30, 20, 10, 5, 2., 1.15], # set vertical grid, surface altitude at 1.15 km\n",
    "              )\n",
    "# import aerosols scattering matrix from external text file with 5 columns:\n",
    "# angle, (P11+P12)/2, (P11-P12)/2, P33, P43\n",
    "pro.aer.setphase('/home/did/RTC/SMART-G/validation/opt_kokha_aer_phase.dat')\n",
    "smartg_view(Smartg().run(wl=wl, THVDEG=60., atm=pro, NBPHOTONS=1e8), QU=True)"
   ]
  },
  {
   "cell_type": "markdown",
   "metadata": {},
   "source": [
    "## Band gaseous absorption using REPTRAN"
   ]
  },
  {
   "cell_type": "markdown",
   "metadata": {},
   "source": [
    "### Example 1: Computation of reflectance in MSG-SEVIRI VIS08 channel"
   ]
  },
  {
   "cell_type": "code",
   "execution_count": null,
   "metadata": {
    "collapsed": false,
    "scrolled": true
   },
   "outputs": [],
   "source": [
    "# REPTRAN (example 1)\n",
    "repname = 'reptran_solar_msg' # REPTRAN k distribution file here MSG/SEVIRI solar channels\n",
    "BAND = 'msg1_seviri_ch008'\n",
    "surf=RoughSurface(SUR=1, WIND=5., NH2O=1.34) \n",
    "atm=Profile('afglms', H2O=4.)\n",
    "# Read Reptran band characteristics\n",
    "wi, wb, we, ex, dl, bands = ReadREPTRAN_bands(repname, BAND=BAND, FULL=True)\n",
    "M1 = Smartg().run(THVDEG=30, wl=bands, NBPHOTONS=1e8, atm=atm, surf=surf)\n",
    "(M1['I_up (TOA)']*we).reduce(sum,'Wavelength').plot_polar(index=0,vmin=0.0,vmax=0.3)"
   ]
  },
  {
   "cell_type": "markdown",
   "metadata": {},
   "source": [
    "### Example 2: Polarized reflectance in O2A band in sun glint view with Local Estimate"
   ]
  },
  {
   "cell_type": "code",
   "execution_count": null,
   "metadata": {
    "collapsed": false
   },
   "outputs": [],
   "source": [
    "%%time\n",
    "# REPTRAN (example 2) Preparation of data\n",
    "repname = 'reptran_solar_coarse' # k distribution file, here full solar channels at coarse resolution\n",
    "LMIN=758. # nm within O2A bands\n",
    "LMAX=770. # nm\n",
    "SAMPLING=1 # sampling of individual channels 1: all microchannels\n",
    "surf=RoughSurface(SUR=1, WIND=5., NH2O=1.34)\n",
    "atm=Profile('afglms', P0=900., aer=AeroOPAC('continental_average',0.5,764.), pfwav=[764.])\n",
    "# Evaluate reflectance in specific direction Ths=[60.] and RAA=[180.] using LE\n",
    "# dict containig directions vectors in radians and coded as float32\n",
    "le={}\n",
    "le.update(thv=np.array([60.],dtype=np.float32)*np.pi/180)\n",
    "le.update(phi=np.array([180.],dtype=np.float32)*np.pi/180)\n",
    "# Read Reptran band characteristics \n",
    "wi,wb,we,ex,dl,bands = ReadREPTRAN_bands(repname, LMIN=LMIN, LMAX=LMAX, SAMPLING=SAMPLING, FULL=True)\n",
    "Spp=Smartg()\n",
    "Spp.run(wl=bands, atm=atm, NBPHOTONS=1e5, progress=False)"
   ]
  },
  {
   "cell_type": "code",
   "execution_count": null,
   "metadata": {
    "collapsed": false
   },
   "outputs": [],
   "source": [
    "%%time\n",
    "# REPTRAN (example 2) Radiative Transfer\n",
    "M2 = Spp.run(THVDEG=60, wl=bands, NBPHOTONS=1e6, atm=atm, surf=surf, le=le)\n",
    "I = (M2['I_up (TOA)']*we).reduce(sum,'Wavelength',grouping=wb.data)\n",
    "Q = (M2['Q_up (TOA)']*we).reduce(sum,'Wavelength',grouping=wb.data)\n",
    "U = (M2['U_up (TOA)']*we).reduce(sum,'Wavelength',grouping=wb.data)\n",
    "LP = (Q*Q + U*U).apply(sqrt, 'LP')\n",
    "P = (LP/I*100).apply(abs,'DoLP')\n",
    "I.sub()[:,0,0].plot(fmt='.-',vmin=0,vmax=1.,label='Reflec.')\n",
    "LP.sub()[:,0,0].plot(fmt='.-',vmin=0,vmax=1.,label='Pol. Reflec.')\n",
    "legend(loc='best')"
   ]
  },
  {
   "cell_type": "markdown",
   "metadata": {},
   "source": [
    "## Fluxes"
   ]
  },
  {
   "cell_type": "code",
   "execution_count": null,
   "metadata": {
    "collapsed": false
   },
   "outputs": [],
   "source": [
    "# Fluxes in the PAR spectral range for different levels in the ocean atmosphere system\n",
    "# SUR=3 for letting reflection and transmission at interface\n",
    "Spp=Smartg()\n",
    "surf=RoughSurface(SUR=3, WIND=10., NH2O=1.34)\n",
    "atm=Profile('afglms', H2O=4.)\n",
    "water=IOP_MM(1, pfwav=[550.]) # Morel and Maritorena water IOPs , phase function computed only at 550. nm\n",
    "wl = np.linspace(400.,700.,num=11)\n",
    "# planar and spherical fluxes and OUTPUT_LAYERS=3 for intermediate output levels\n",
    "P = Spp.run(THVDEG=45, wl=wl, NBPHOTONS=1e6, atm=atm, surf=surf, water=water, \n",
    "                 flux='planar', OUTPUT_LAYERS=3)\n",
    "S = Spp.run(THVDEG=45, wl=wl, NBPHOTONS=1e6, atm=atm, surf=surf, water=water, \n",
    "                 flux='spherical', OUTPUT_LAYERS=3)\n",
    "# plot downward fluxes spectra just underwater after summing in both directions\n",
    "P['I_down (0-)'].reduce(sum,'Azimuth angles').reduce(sum,'Zenith angles').plot(fmt='.-',\n",
    "                                                        vmin=0,vmax=1.,label='down 0- planar')\n",
    "S['I_down (0-)'].reduce(sum,'Azimuth angles').reduce(sum,'Zenith angles').plot(fmt='.-',\n",
    "                                                        vmin=0,vmax=1.,label='down 0- spherical')\n",
    "legend(loc='best')\n",
    "# plot upward fluxes spectra just underwater after summing in both directions\n",
    "figure()\n",
    "P['I_up (0-)'].reduce(sum,'Azimuth angles').reduce(sum,'Zenith angles').plot(fmt='.-',\n",
    "                                                        vmin=0,vmax=0.05,label='up 0- planar')\n",
    "S['I_up (0-)'].reduce(sum,'Azimuth angles').reduce(sum,'Zenith angles').plot(fmt='.-',\n",
    "                                                        vmin=0,vmax=0.05,label='up 0- spherical')\n",
    "legend(loc='best')"
   ]
  },
  {
   "cell_type": "markdown",
   "metadata": {},
   "source": [
    "## Looping over parameters"
   ]
  },
  {
   "cell_type": "code",
   "execution_count": null,
   "metadata": {
    "collapsed": false
   },
   "outputs": [],
   "source": [
    "# loop over some wavelengths\n",
    "MLUTS = []\n",
    "Spp=Smartg()\n",
    "for aot in linspace(0, 1.5, 5):\n",
    "    M = Spp.run(THVDEG=30,\n",
    "               wl=443., NBPHOTONS=1e7,\n",
    "               atm=Profile('afglt',aer=AeroOPAC('desert',aot,443.)),\n",
    "               surf=RoughSurface(WIND=5.))\n",
    "    M.set_attr('AOT', aot)\n",
    "    MLUTS.append(M)"
   ]
  },
  {
   "cell_type": "code",
   "execution_count": null,
   "metadata": {
    "collapsed": false
   },
   "outputs": [],
   "source": [
    "M = merge(MLUTS, ['AOT'], dtype=float)"
   ]
  },
  {
   "cell_type": "code",
   "execution_count": null,
   "metadata": {
    "collapsed": false
   },
   "outputs": [],
   "source": [
    "M[0].sub()[:,Idx(90),Idx(45)].plot(fmt='o-')"
   ]
  },
  {
   "cell_type": "markdown",
   "metadata": {},
   "source": [
    "## Difference between two LUTs"
   ]
  },
  {
   "cell_type": "code",
   "execution_count": null,
   "metadata": {
    "collapsed": false
   },
   "outputs": [],
   "source": [
    "# Here we compare the TOA radiance simulated with\n",
    "# plane parallel and spherical atmospheres, at 443 nm.\n",
    "results = []\n",
    "for pp in [True, False]:\n",
    "    results.append(Smartg(pp=pp).run(THVDEG=60, wl=443., NBPHOTONS=1e9,\n",
    "                          NBTHETA=20., NBPHI=20.,\n",
    "                          atm=Profile('afglt')))\n",
    "    \n",
    "PP = results[0]['I_up (TOA)']\n",
    "SP = results[1]['I_up (TOA)']"
   ]
  },
  {
   "cell_type": "code",
   "execution_count": null,
   "metadata": {
    "collapsed": false
   },
   "outputs": [],
   "source": [
    "# show relative difference\n",
    "plot_polar(100.*(SP-PP)/PP, Idx(175.), fig=figure(figsize(8, 8)), vmin=-20, vmax=20)"
   ]
  },
  {
   "cell_type": "markdown",
   "metadata": {},
   "source": [
    "## Interactive simulation"
   ]
  },
  {
   "cell_type": "code",
   "execution_count": null,
   "metadata": {
    "collapsed": false,
    "scrolled": true
   },
   "outputs": [],
   "source": [
    "from IPython.html.widgets.interaction import interact, interact_manual\n",
    "\n",
    "S=Smartg()\n",
    "le={}\n",
    "le={}\n",
    "le.update(phi=np.array([0.]),dtype=np.float32)\n",
    "le.update(thv=np.array([60.])*np.pi/180,dtype=np.float32)\n",
    "\n",
    "def simulate(thvdeg, surface, aerosol_model, aot550):\n",
    "    surf = {True:RoughSurface(), False:None}[surface]\n",
    "    aer = AeroOPAC(aerosol_model, aot550, 550.)\n",
    "    print 'TOA Intensity : %.5f'%S.run(THVDEG=thvdeg,\n",
    "             wl=443., NBPHOTONS=1e5,le=le,\n",
    "             atm=Profile('afglt', aer=aer), surf=surf, OUTPUT_LAYERS=3, progress=False\n",
    "          )['I_up (TOA)'].data\n",
    "\n",
    "interact_manual(simulate, thvdeg=(0, 90), surface=True,\n",
    "                aerosol_model=AeroOPAC.listStandardAerosolFiles(), aot550=(0.001, 5., 0.01)\n",
    "                )"
   ]
  }
 ],
 "metadata": {
  "hide_input": false,
  "kernelspec": {
   "display_name": "Python 2",
   "language": "python",
   "name": "python2"
  },
  "language_info": {
   "codemirror_mode": {
    "name": "ipython",
    "version": 2
   },
   "file_extension": ".py",
   "mimetype": "text/x-python",
   "name": "python",
   "nbconvert_exporter": "python",
   "pygments_lexer": "ipython2",
   "version": "2.7.11"
  },
  "toc": {
   "toc_cell": false,
   "toc_number_sections": true,
   "toc_threshold": 4,
   "toc_window_display": false
  }
 },
 "nbformat": 4,
 "nbformat_minor": 0
}
