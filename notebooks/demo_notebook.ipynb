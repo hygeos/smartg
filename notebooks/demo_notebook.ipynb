{
 "cells": [
  {
   "cell_type": "markdown",
   "metadata": {
    "ExecuteTime": {
     "end_time": "2018-04-07T20:34:09.930253Z",
     "start_time": "2018-04-07T20:34:09.864857Z"
    }
   },
   "source": [
    "# Smart-G demo notebook\n",
    "\n",
    "This is an interactive document allowing to run Smart-G with python and visualize the results. <br>\n",
    "*Tips*: cells can be executed with shift-enter. Tooltips can be obtained with shift-tab. More information [here](http://ipython.org/notebook.html) or in the help menu. [A table of content can also be added](https://github.com/minrk/ipython_extensions#table-of-contents)."
   ]
  },
  {
   "cell_type": "code",
   "execution_count": 1,
   "metadata": {
    "ExecuteTime": {
     "end_time": "2021-01-28T15:47:21.836416Z",
     "start_time": "2021-01-28T15:47:19.616821Z"
    },
    "init_cell": true,
    "scrolled": false
   },
   "outputs": [
    {
     "name": "stdout",
     "output_type": "stream",
     "text": [
      "Populating the interactive namespace from numpy and matplotlib\n"
     ]
    }
   ],
   "source": [
    "%pylab inline\n",
    "# next 2 lines allow to automatically reload modules that have been changed externally\n",
    "%reload_ext autoreload\n",
    "%autoreload 2\n",
    "import os, sys\n",
    "sys.path.insert(0, os.path.dirname(os.getcwd()))\n",
    "from smartg.smartg import Smartg, Sensor\n",
    "from smartg.smartg import RoughSurface, LambSurface, FlatSurface, Environment, Albedo_cst\n",
    "from smartg.atmosphere import AtmAFGL, AeroOPAC, CloudOPAC, diff1, read_phase\n",
    "from smartg.water import IOP_1, IOP, IOP_profile\n",
    "from smartg.reptran import REPTRAN, reduce_reptran\n",
    "from smartg.tools.tools import SpherIrr, Irr, reduce_Irr\n",
    "from luts.luts import LUT, MLUT, Idx, merge, read_mlut\n",
    "from smartg.tools.smartg_view import compare, plot_polar, spectrum , mdesc \n",
    "from smartg.tools.smartg_view import spectrum_view,transect_view,profile_view,phase_view,smartg_view,input_view\n",
    "import warnings\n",
    "warnings.filterwarnings(\"ignore\")"
   ]
  },
  {
   "cell_type": "markdown",
   "metadata": {},
   "source": [
    "# Quick Start"
   ]
  },
  {
   "cell_type": "markdown",
   "metadata": {},
   "source": [
    "## Run your first simulation"
   ]
  },
  {
   "cell_type": "code",
   "execution_count": null,
   "metadata": {
    "ExecuteTime": {
     "end_time": "2021-01-28T15:35:52.033166Z",
     "start_time": "2021-01-28T15:35:41.592889Z"
    }
   },
   "outputs": [],
   "source": [
    "m = Smartg().run(wl=500., THVDEG=30.,  NBPHOTONS=1e9, atm=AtmAFGL('afglt'))"
   ]
  },
  {
   "cell_type": "markdown",
   "metadata": {},
   "source": [
    "## How to view the results"
   ]
  },
  {
   "cell_type": "code",
   "execution_count": null,
   "metadata": {
    "ExecuteTime": {
     "end_time": "2021-01-28T15:35:55.975819Z",
     "start_time": "2021-01-28T15:35:54.349246Z"
    }
   },
   "outputs": [],
   "source": [
    "# basic visualization\n",
    "fig = smartg_view(m)"
   ]
  },
  {
   "cell_type": "code",
   "execution_count": null,
   "metadata": {
    "ExecuteTime": {
     "end_time": "2021-01-28T15:35:57.229367Z",
     "start_time": "2021-01-28T15:35:57.205205Z"
    }
   },
   "outputs": [],
   "source": [
    "# access a LUT within the MLUT\n",
    "I = m['I_up (TOA)']  # or by index: m[0]\n",
    "I.desc = mdesc(I.desc) # I descriptor in math Latex format"
   ]
  },
  {
   "cell_type": "code",
   "execution_count": null,
   "metadata": {
    "ExecuteTime": {
     "end_time": "2021-01-28T15:36:00.714487Z",
     "start_time": "2021-01-28T15:36:00.687475Z"
    }
   },
   "outputs": [],
   "source": [
    "I.print_info()"
   ]
  },
  {
   "cell_type": "code",
   "execution_count": null,
   "metadata": {
    "ExecuteTime": {
     "end_time": "2021-01-28T15:36:00.949271Z",
     "start_time": "2021-01-28T15:36:00.923882Z"
    }
   },
   "outputs": [],
   "source": [
    "# access values in this LUT\n",
    "print(I[5, ::5])  # by index (can be float indices to interpolate)\n",
    "print(I[Idx(90.), Idx(45.)])  # or by index finding + interpolation"
   ]
  },
  {
   "cell_type": "code",
   "execution_count": null,
   "metadata": {
    "ExecuteTime": {
     "end_time": "2021-01-28T15:36:01.159632Z",
     "start_time": "2021-01-28T15:36:01.135135Z"
    }
   },
   "outputs": [],
   "source": [
    "# calculate polarized light\n",
    "# use operations between LUT's, and apply sqrt\n",
    "Q, U = m['Q_up (TOA)'], m['U_up (TOA)']\n",
    "LP = (Q*Q + U*U).apply(sqrt, mdesc('Lp_up (TOA)'))   # second parameter of apply sets the LUT's desc"
   ]
  },
  {
   "cell_type": "code",
   "execution_count": null,
   "metadata": {
    "ExecuteTime": {
     "end_time": "2021-01-28T15:36:03.005375Z",
     "start_time": "2021-01-28T15:36:01.350288Z"
    }
   },
   "outputs": [],
   "source": [
    "#Different visualizations\n",
    "LP.plot_semi()\n",
    "LP.plot()\n",
    "LP.plot_polar()"
   ]
  },
  {
   "cell_type": "code",
   "execution_count": null,
   "metadata": {
    "ExecuteTime": {
     "end_time": "2021-01-28T15:36:03.718555Z",
     "start_time": "2021-01-28T15:36:03.007187Z"
    },
    "run_control": {
     "marked": false
    }
   },
   "outputs": [],
   "source": [
    "I.plot_semi(index=Idx([45]), vmin=0, vmax=0.3)   # the arguments are optional"
   ]
  },
  {
   "cell_type": "code",
   "execution_count": null,
   "metadata": {
    "ExecuteTime": {
     "end_time": "2021-01-28T15:36:03.988542Z",
     "start_time": "2021-01-28T15:36:03.720465Z"
    }
   },
   "outputs": [],
   "source": [
    "# get a sub-LUT from a LUT (here 2D -> 1D)\n",
    "I.sub()[Idx(90),:].plot()"
   ]
  },
  {
   "cell_type": "markdown",
   "metadata": {},
   "source": [
    "## A few examples"
   ]
  },
  {
   "cell_type": "code",
   "execution_count": null,
   "metadata": {
    "ExecuteTime": {
     "end_time": "2021-01-28T15:36:33.628781Z",
     "start_time": "2021-01-28T15:36:06.683723Z"
    }
   },
   "outputs": [],
   "source": [
    "# Basic Rayleigh example, no surface, full view\n",
    "fig= smartg_view(Smartg(rng='CURAND_PHILOX').run(wl=500., THVDEG=30., NBPHOTONS=1e9, atm=AtmAFGL('afglt')), full=True)"
   ]
  },
  {
   "cell_type": "code",
   "execution_count": null,
   "metadata": {
    "ExecuteTime": {
     "end_time": "2021-01-28T15:36:36.624512Z",
     "start_time": "2021-01-28T15:36:33.630644Z"
    }
   },
   "outputs": [],
   "source": [
    "# only Rayleigh with a custom grid, a custom depolarization ratio and a custom surface pressure\n",
    "fig= smartg_view(Smartg().run(wl=500., THVDEG=30., DEPO=0., NBPHOTONS=1e8,\n",
    "        atm=AtmAFGL('afglt', grid=np.linspace(100.,0., num=16), P0=990.)))"
   ]
  },
  {
   "cell_type": "code",
   "execution_count": null,
   "metadata": {
    "ExecuteTime": {
     "end_time": "2021-01-28T15:36:44.067541Z",
     "start_time": "2021-01-28T15:36:36.626600Z"
    }
   },
   "outputs": [],
   "source": [
    "# Rayleigh + aerosols (UV), downward radiance at the ground\n",
    "aer = AeroOPAC('urban', 0.4, 550.)\n",
    "pro = AtmAFGL('afglms', comp=[aer])\n",
    "fig= smartg_view(Smartg().run(wl=322., THVDEG=60., atm=pro, NBPHOTONS=1e8, OUTPUT_LAYERS=1), field='down (0+)')"
   ]
  },
  {
   "cell_type": "code",
   "execution_count": null,
   "metadata": {
    "ExecuteTime": {
     "end_time": "2021-01-28T15:36:52.997652Z",
     "start_time": "2021-01-28T15:36:44.069472Z"
    }
   },
   "outputs": [],
   "source": [
    "# atmosphere + surface\n",
    "wl= 490.\n",
    "azimuth_transect = 10.\n",
    "fig= smartg_view(Smartg().run(wl, NBPHOTONS=1e8, THVDEG=45.,\n",
    "        atm=pro,\n",
    "        surf=LambSurface(ALB=Albedo_cst(0.1))), ind=Idx([azimuth_transect]), QU=True)"
   ]
  },
  {
   "cell_type": "code",
   "execution_count": null,
   "metadata": {
    "ExecuteTime": {
     "end_time": "2021-01-28T15:37:10.477374Z",
     "start_time": "2021-01-28T15:36:52.999358Z"
    },
    "scrolled": false
   },
   "outputs": [],
   "source": [
    "# atmosphere + surface + océan\n",
    "atm   = AtmAFGL('afglms', O3=0., NO2=False)\n",
    "surf  = RoughSurface(WIND=5., NH2O=1.34)\n",
    "# Case I water Inherent Optical Properties depending on Chlorophyll concentration only\n",
    "water = IOP_1(chl=0.5, DEPTH=5.)\n",
    "# compute outputs at the surface and bottom of ocean also, \n",
    "# view results for upwelling and downwelling radiances\n",
    "wl = 500.\n",
    "th0= 60.\n",
    "m=Smartg().run(wl, NBPHOTONS=1e8, THVDEG=th0, OUTPUT_LAYERS=3, BEER=1,\n",
    "                atm=atm,  surf=surf, water=water)\n",
    "fields=['up (TOA)','up (0+)','up (0-)','down (0+)','down (0-)','down (B)']\n",
    "logIs =[True,True,True,True,True,False]\n",
    "for logI,field in zip(logIs,fields):\n",
    "        fig= smartg_view(m, field=field, logI=logI)"
   ]
  },
  {
   "cell_type": "code",
   "execution_count": null,
   "metadata": {
    "ExecuteTime": {
     "end_time": "2021-01-28T15:37:19.604572Z",
     "start_time": "2021-01-28T15:37:10.479529Z"
    },
    "run_control": {
     "marked": false
    }
   },
   "outputs": [],
   "source": [
    "# surface + ocean\n",
    "atm   = None\n",
    "surf  = RoughSurface(WIND=5., NH2O=1.34)\n",
    "water = IOP_1(chl=0.5, DEPTH=5.)\n",
    "# compute outputs at the surface also, view results for downwelling at bottom of ocean\n",
    "fig= smartg_view(Smartg().run(wl, NBPHOTONS=1e8, THVDEG=th0, OUTPUT_LAYERS=3, BEER=1,\n",
    "            atm=None,  surf=surf, water=water), \n",
    "            field='down (B)', logI=True)"
   ]
  },
  {
   "cell_type": "code",
   "execution_count": null,
   "metadata": {
    "ExecuteTime": {
     "end_time": "2021-01-28T15:37:23.815270Z",
     "start_time": "2021-01-28T15:37:19.606344Z"
    }
   },
   "outputs": [],
   "source": [
    "# ocean only\n",
    "atm   = None\n",
    "surf  = None\n",
    "water = IOP_1(chl=0.5, DEPTH=5.)\n",
    "# compute outputs at the surface also, view results for downwelling at bottom of ocean\n",
    "fig= smartg_view(Smartg().run(wl, NBPHOTONS=1e8, THVDEG=th0, OUTPUT_LAYERS=3, BEER=1,\n",
    "            atm=None,  surf=surf, water=water), \n",
    "            field='down (B)', logI=True)"
   ]
  },
  {
   "cell_type": "markdown",
   "metadata": {},
   "source": [
    "# Advanced use"
   ]
  },
  {
   "cell_type": "markdown",
   "metadata": {},
   "source": [
    "## Local Estimate"
   ]
  },
  {
   "cell_type": "code",
   "execution_count": null,
   "metadata": {
    "ExecuteTime": {
     "end_time": "2021-01-28T15:37:46.058627Z",
     "start_time": "2021-01-28T15:37:31.270174Z"
    }
   },
   "outputs": [],
   "source": [
    "%%time\n",
    "# In order to compute accurately radiances in particular directions, set the LE mode\n",
    "# 'le' keyword is a dictionnary containig directions vectors (in radians or deg) and coded as float32\n",
    "# by default the result is calculated for each Ntheta x Nphi combination\n",
    "le = {'th_deg': np.linspace(0, 89., num=8), 'phi_deg': np.linspace(360, 0., num=12)}\n",
    "# revisit atmosphere + surface + ocean\n",
    "# the number of photons should be dramatically reduces since\n",
    "# each photon participates to the computation of all directions\n",
    "wl = 500.\n",
    "th0= 60.\n",
    "m = Smartg().run(wl=wl, NBPHOTONS=1e6, THVDEG=th0, OUTPUT_LAYERS=3, le=le,\n",
    "            atm   = AtmAFGL('afglms', O3=0., NO2=False), \n",
    "            surf  = RoughSurface(WIND=5., NH2O=1.34),\n",
    "            water=IOP_1(chl=0.5, DEPTH=5.))\n",
    "\n",
    "fig= smartg_view(m, field='up (0-)', logI=True, Imin=-2.5, Imax=-1.)"
   ]
  },
  {
   "cell_type": "code",
   "execution_count": null,
   "metadata": {
    "ExecuteTime": {
     "end_time": "2021-01-28T15:37:50.044377Z",
     "start_time": "2021-01-28T15:37:46.060460Z"
    },
    "scrolled": false
   },
   "outputs": [],
   "source": [
    "# you can also speficy only couples of zenith and azimuth angles, resulting in only 1-dimensional Ncouple output\n",
    "# using the keyword 'zip':True in the le dictionary. in that case Nphi=Ntheta=Ncouple. \n",
    "# You can also specify angles in degree\n",
    "N  = 12\n",
    "le = {'th_deg': np.linspace(0, 89., num=N), 'phi_deg': np.linspace(360., 0., num=N), 'zip':True}\n",
    "mz = Smartg().run(wl=wl, NBPHOTONS=1e6, THVDEG=th0, OUTPUT_LAYERS=3, le=le,\n",
    "            atm   = AtmAFGL('afglms', O3=0., NO2=False), \n",
    "            surf  = RoughSurface(WIND=5., NH2O=1.34),\n",
    "            water=IOP_1(chl=0.5, DEPTH=5.))\n",
    "# the result has an \"Azimuth angles\" axis, but no LUT exhibits dependency on Azimuth angles\n",
    "mz.describe()"
   ]
  },
  {
   "cell_type": "code",
   "execution_count": null,
   "metadata": {
    "ExecuteTime": {
     "end_time": "2021-01-28T15:37:50.759139Z",
     "start_time": "2021-01-28T15:37:50.046388Z"
    }
   },
   "outputs": [],
   "source": [
    "# Comparison of outputs\n",
    "# polar scatter plot, with color proportional to I and size to DoLP\n",
    "f  = figure()\n",
    "ax = f.add_subplot(111, projection='polar')\n",
    "I, Q, U = m['I_up (0-)'], m['Q_up (0-)'], m['U_up (0-)']\n",
    "P = ((Q*Q + U*U)/(I*I)*100).apply(sqrt, mdesc('DoLP_up (0-)'))\n",
    "r, theta = np.meshgrid(m.axis('Zenith angles'), m.axis('Azimuth angles')/180*np.pi)\n",
    "ax.scatter(theta.ravel(), r.ravel(), \n",
    "               c=np.log10(I.data.ravel()), s=P.data.ravel()*50, cmap='jet', alpha=0.5, vmin=-2.5, vmax=-1.)\n",
    "\n",
    "I, Q, U = mz['I_up (0-)'], mz['Q_up (0-)'], mz['U_up (0-)']\n",
    "P = ((Q*Q + U*U)/(I*I)*100).apply(sqrt, mdesc('DoLP_up (0-)'))\n",
    "ax.set_ylim([0,90])\n",
    "ax.scatter(mz.axis('Azimuth angles')/180*np.pi, mz.axis('Zenith angles'), \n",
    "               c=np.log10(I.data), s=P.data*50, cmap='jet', alpha=0.5, vmin=-2.5, vmax=-1., marker='s', edgecolors='k')"
   ]
  },
  {
   "cell_type": "markdown",
   "metadata": {},
   "source": [
    "## Atmospheric profile\n",
    "Aerosols and Cloud optical properties are those of OPAC. The files containing these properties have been\n",
    "generated by www.libradtran.org. <br>\n",
    "For the moment Only spherical particles are handled"
   ]
  },
  {
   "cell_type": "code",
   "execution_count": null,
   "metadata": {
    "ExecuteTime": {
     "end_time": "2021-01-28T15:38:36.315989Z",
     "start_time": "2021-01-28T15:37:56.321740Z"
    },
    "run_control": {
     "marked": false
    }
   },
   "outputs": [],
   "source": [
    "# monochromatic computation for custom aerosols and cloud\n",
    "wlref = 550.\n",
    "# Aerosols and cloud optical properties using OPAC database as processed by the the libradtran (www.libradtran.org)\n",
    "aer = AeroOPAC( 'desert', 0.3, wlref) # set AOT at the reference wavelength wl to 0.3 \n",
    "                                # and set aerosol type to 'desert'\n",
    "cld = CloudOPAC('wc.sol', 11., 2, 3., 1., wlref) # set cloud to water cloud with reff=11 mic.  \n",
    "                                # the cloud is located between 2. and 3 km, with\n",
    "                                # Optical thickness at the reference wavelength wl set to 1. \n",
    "                                                              \n",
    "pro = AtmAFGL('afglt',    # tropical atmosphere\n",
    "              comp=[aer, cld], # particles in atmosphere are a mix of aerosols and cloud            \n",
    "              O3 = 0.,   # scale ozone vertical column to 0 Dobson units (here no absoprtion by ozone)\n",
    "              NO2= False,# disable absorption by NO2\n",
    "              H2O= 2.,   # scale water vapour column to 2 g/cm-2, but no H2O absoprtion, just hygroscopic computation for aerosols\n",
    "              P0 = 980., # set sea level pressure to 980 hPa\n",
    "              tauR=0.1,   # force Rayleigh optical thickness\n",
    "              grid =   [100., 75., 50., 25., 15., 10., 5., 3., 2., 1.15], # set vertical grid, surface altitude at 1.15 km\n",
    "              pfgrid = [100., 25., 15., 10., 5., 3., 2., 1.15] # vertical grid for the computation of particles phase functions\n",
    "             )\n",
    "\n",
    "azimuth_transect = 30. \n",
    "m = Smartg().run(wl=wlref, THVDEG=60., atm=pro, NBPHOTONS=1e9)\n",
    "_ = smartg_view(m, ind=Idx([azimuth_transect]), logI=True)"
   ]
  },
  {
   "cell_type": "code",
   "execution_count": null,
   "metadata": {
    "ExecuteTime": {
     "end_time": "2021-01-28T15:38:39.417698Z",
     "start_time": "2021-01-28T15:38:36.317866Z"
    }
   },
   "outputs": [],
   "source": [
    "# View inputs\n",
    "input_view(m, kind='atm', zmax=50)"
   ]
  },
  {
   "cell_type": "code",
   "execution_count": null,
   "metadata": {
    "ExecuteTime": {
     "end_time": "2021-01-28T15:38:59.637934Z",
     "start_time": "2021-01-28T15:38:42.239614Z"
    }
   },
   "outputs": [],
   "source": [
    "# Full aerosol customization\n",
    "#1) import aerosols scattering matrix from external text file with 5 columns:\n",
    "# angle, P11, P12, P33, P43\n",
    "pha=read_phase('../smartg/validation/opt_kokha_aer_nostandard.dat')\n",
    "# OR angle, (P11+P12)/2, (P11-P12)/2, P33, P43 (Smartg standard format)\n",
    "pha=read_phase('../smartg/validation/opt_kokha_aer_standard.dat', standard=True)\n",
    "\n",
    "#2) Set single scattering albedo of aerosols to 0.80 for each layer and set the aerosol phase function\n",
    "aer=AeroOPAC('maritime_clean',0.3262, wlref, ssa=0.80, phase=pha)\n",
    "\n",
    "#3) build profile\n",
    "atm_custom = AtmAFGL('afglmw', comp=[aer]\n",
    "                    #4) Could also import aerosol profiles (extinction and ssa) from external files\n",
    "                    #,prof_aer= (aer_ext_valid,aer_ssa_valid)\n",
    "                    )\n",
    "\n",
    "azimuth_transect = 5. \n",
    "m = Smartg().run(wl=wlref, THVDEG=60., atm=atm_custom, NBPHOTONS=1e9)\n",
    "_ = smartg_view(m, ind=Idx([azimuth_transect]))"
   ]
  },
  {
   "cell_type": "markdown",
   "metadata": {},
   "source": [
    "## Multispectral"
   ]
  },
  {
   "cell_type": "markdown",
   "metadata": {},
   "source": [
    "### Independant spectral computations"
   ]
  },
  {
   "cell_type": "code",
   "execution_count": null,
   "metadata": {
    "ExecuteTime": {
     "end_time": "2021-01-28T15:39:12.750609Z",
     "start_time": "2021-01-28T15:39:06.391290Z"
    }
   },
   "outputs": [],
   "source": [
    "%%time\n",
    "# multispectral simulation\n",
    "# computation done independently for each wavelegnth, NBPHOTONS is shared equally\n",
    "# between all wavelegths (thus Monte Carlo NOISE in the spectrum)\n",
    "# wavelengths is a list or numpy array\n",
    "wl = np.linspace(400., 430., num=301)\n",
    "\n",
    "# monochromatic computation for custom aerosols and cloud\n",
    "wl0 = 415.\n",
    "# Aerosols and cloud optical properties using OPAC database as processed by the the libradtran (www.libradtran.org)\n",
    "aer1 = AeroOPAC( 'urban',  0.5, wl0) # set AOT at the reference wavelength wl0 to 0.5 \n",
    "                                # and set aerosol type to 'urban'\n",
    "pro = AtmAFGL('afglt',    # tropical atmosphere\n",
    "              comp   = [aer1], # particles in atmosphere are a mix of aerosols 1 and 2            \n",
    "              grid   = [100, 75, 50, 30, 20, 10, 5, 2., 1.15], # set vertical grid, surface altitude at 1.15 km\n",
    "              pfgrid = [100, 10, 5, 2., 1.15],           \n",
    "              pfwav  = [400., 430.], # wavelengths for which the phase function is computed\n",
    "                                     # optional, otherwise phase functions are calculated at all bands\n",
    "                                     # nearest neighbour is then used during the RT computation\n",
    "              NO2 = True, # NO2 included\n",
    "              O3  = 0. # no ozone\n",
    "             )\n",
    "\n",
    "le={}\n",
    "le.update(th = np.array([0.]) *np.pi/180)\n",
    "le.update(phi= np.array([0.]) *np.pi/180)\n",
    "m = Smartg(alt_pp=True, double=True).run(wl=wl, le=le,\n",
    "           THVDEG=60., NBPHOTONS=1e7,\n",
    "           atm=pro, OUTPUT_LAYERS=0,\n",
    "           surf=RoughSurface())\n",
    "\n",
    "m['I_up (TOA)'].sub()[:,0,0].plot(fmt='.r', vmin=0.14, vmax=0.18)\n",
    "print(' GPU time: ', m.attrs['kernel time (s)'], 's')"
   ]
  },
  {
   "cell_type": "markdown",
   "metadata": {},
   "source": [
    "### Profiles reuse"
   ]
  },
  {
   "cell_type": "code",
   "execution_count": null,
   "metadata": {
    "ExecuteTime": {
     "end_time": "2021-01-28T15:39:19.802244Z",
     "start_time": "2021-01-28T15:39:15.749897Z"
    }
   },
   "outputs": [],
   "source": [
    "%%time\n",
    "# once computed, profiles may be re-used\n",
    "# it could save a lot of time for multi spectral computation \n",
    "m2 = Smartg(alt_pp=True, double=True).run(wl=wl, le=le,\n",
    "           THVDEG=60., NBPHOTONS=1e7,\n",
    "           atm=m, OUTPUT_LAYERS=0,\n",
    "           surf=RoughSurface())\n",
    "m2['I_up (TOA)'].sub()[:,0,0].plot(fmt='.c', vmin=0.14, vmax=0.18)\n",
    "print(' GPU time: ', m2.attrs['kernel time (s)'], 's')"
   ]
  },
  {
   "cell_type": "markdown",
   "metadata": {},
   "source": [
    "### Correlated spectral computations: ALIS method \n",
    "The ALIS method is described in <br>\n",
    "Emde, C., Buras, R., and Mayer, B.: ALIS: An efficient method to\n",
    "compute high spectral resolution polarized solar radiances using the Monte Carlo approach, J. Quant. Spectrosc. Ra., 112, 1622–1631, 2011."
   ]
  },
  {
   "cell_type": "code",
   "execution_count": null,
   "metadata": {
    "ExecuteTime": {
     "end_time": "2021-01-28T15:39:24.282054Z",
     "start_time": "2021-01-28T15:39:19.804155Z"
    }
   },
   "outputs": [],
   "source": [
    "%%time\n",
    "# Compile with the alis options\n",
    "Salis = Smartg(alt_pp=True, double=True, alis=True) # with ALIS options, alt_pp is mandatory\n",
    "# then run specifying the alis_options dictionary\n",
    "# main keyword is 'nlow' , the number of low spectral resolution computation\n",
    "# of the scattering correction terms: specify -1 for all wavelengths\n",
    "# if the alt_pp option is chosen for compilation: slowest procedure for photon propagation but\n",
    "# then the cumulative distance traveled by photons in the atmospheric layer is recorded\n",
    "m3 = Salis.run(wl=wl, le=le, alis_options={'nlow':31},\n",
    "           THVDEG=60., NBPHOTONS=3e5, stdev=True,\n",
    "           atm=m, OUTPUT_LAYERS=0,\n",
    "           surf=RoughSurface())\n",
    "\n",
    "# for the same number of photons, the spectrum is much less noisy\n",
    "m ['I_up (TOA)'].sub()[:,0,0].plot(fmt='.r', label='no alis 1 : 1e7 phot.', vmin=0.14, vmax=0.18)\n",
    "m2['I_up (TOA)'].sub()[:,0,0].plot(fmt='.c', label='no alis 2 : 1e7 phot.', vmin=0.14, vmax=0.18)\n",
    "m3['I_up (TOA)'].sub()[:,0,0].plot(fmt='-k',  label='alis          :3e5 phot.', vmin=0.14, vmax=0.18)\n",
    "legend()\n",
    "print(' GPU time: ', m3.attrs['kernel time (s)'], 's')"
   ]
  },
  {
   "cell_type": "code",
   "execution_count": null,
   "metadata": {
    "ExecuteTime": {
     "end_time": "2021-01-28T15:39:30.461891Z",
     "start_time": "2021-01-28T15:39:24.284217Z"
    }
   },
   "outputs": [],
   "source": [
    "# As remarked in Emde et al., 2011, alis method is very efficient for DOAS.\n",
    "# example : differences in spectra with and without NO2\n",
    "pro0 = AtmAFGL('afglt', NO2=False, O3=0.,\n",
    "              comp   = [aer1],       \n",
    "              grid   = [100, 75, 50, 30, 20, 10, 5, 2., 1.15],\n",
    "              pfgrid = [100, 10, 5, 2., 1.15],           \n",
    "              pfwav  = [400., 430.])\n",
    "\n",
    "m0 = Salis.run(wl=wl, le=le, alis_options={'nlow':31},\n",
    "           THVDEG=60., NBPHOTONS=3e5, stdev=True,\n",
    "           atm=pro0, OUTPUT_LAYERS=0,\n",
    "           surf=RoughSurface())\n",
    "print(' GPU time: ', m0.attrs['kernel time (s)'], 's')"
   ]
  },
  {
   "cell_type": "code",
   "execution_count": null,
   "metadata": {
    "ExecuteTime": {
     "end_time": "2021-01-28T15:39:30.813403Z",
     "start_time": "2021-01-28T15:39:30.463620Z"
    }
   },
   "outputs": [],
   "source": [
    "# Differential absorption\n",
    "DA = (m3['I_up (TOA)']/m0['I_up (TOA)']).sub()[:,0,0]\n",
    "DA.desc = 'DA'\n",
    "DA.plot(fmt='.b-')\n",
    "# Overplot NO2 direct transmission\n",
    "Tdown = (m3['OD_g'].sub()[:,-1]*(-1)/cos(radians(60.))).apply(exp)\n",
    "Tup   = (m3['OD_g'].sub()[:,-1]*(-1)).apply(exp)\n",
    "T = Tup*Tdown\n",
    "T.desc = 'T'\n",
    "T.plot(vmin=0.97, vmax=1, fmt='r.-')\n",
    "legend(['DOAS at the TOA', 'Direct gaseous transmission Sun-ground-sensor'])"
   ]
  },
  {
   "cell_type": "code",
   "execution_count": null,
   "metadata": {
    "ExecuteTime": {
     "end_time": "2021-01-28T15:39:31.204508Z",
     "start_time": "2021-01-28T15:39:30.815021Z"
    }
   },
   "outputs": [],
   "source": [
    "# We can obtain the Air Mass Factors\n",
    "cd = m0['cdist_up (TOA)'].sub()[:,0,0].data # cumulative distance in each layer\n",
    "N  = m0['N_up (TOA)'].sub()[0,0,0].data # number of photons\n",
    "mean_dist = cd/N\n",
    "fig, ax=subplots()\n",
    "width=0.4\n",
    "ax.bar(arange(cd.size)-width/2, mean_dist, color='b', width=width)\n",
    "ax.set_ylabel('mean distance traveled (km)', color='b')\n",
    "ax.set_xlabel('layer #')\n",
    "# layer thicknesses\n",
    "thick = abs(np.diff(m0.axis('z_atm')))\n",
    "# AMF's\n",
    "ax2 = ax.twinx()\n",
    "ax2.bar(arange(cd.size)+width/2, mean_dist/thick, color='r', width=width)\n",
    "ax2.set_ylabel('AMF', color='r')"
   ]
  },
  {
   "cell_type": "markdown",
   "metadata": {},
   "source": [
    "## Water profile\n",
    "Full profile customization"
   ]
  },
  {
   "cell_type": "code",
   "execution_count": null,
   "metadata": {
    "ExecuteTime": {
     "end_time": "2021-01-28T15:41:11.726923Z",
     "start_time": "2021-01-28T15:41:04.390834Z"
    },
    "run_control": {
     "marked": false
    }
   },
   "outputs": [],
   "source": [
    "wl  = array([450.,550.]) # N=2\n",
    "grid= [0., -2.5, -5., -7.5, -10.]\n",
    "# Seafloor albedo, here grey lambertian reflection with albedo of 0.05\n",
    "ALB=Albedo_cst(0.05)\n",
    "\n",
    "#1) Read one phase matrix for particles\n",
    "phaM=read_phase('../smartg/validation/opt_hydrosols.dat', kind='oc', standard=True)\n",
    "#2) Construct a LUT and fill all levels and all wavelengths with the the read phase matrix, You can of course\n",
    "# fill this LUT with several phase matrices\n",
    "pha = LUT(phaM.data[None,None,:,:],\n",
    "          names = ['wav_phase', 'z_phase'] + phaM.names,\n",
    "          axes = [np.array([\n",
    "              wl[0]]), np.array([0.])] + phaM.axes\n",
    "         )\n",
    "#3) import vertical profiles of pure water absorption and scattering coefficient, \n",
    "# particle absorption and scattering coefficient profiles (in m-1)\n",
    "# with shape (N wavelengths, M levels)\n",
    "# !! level Number 0 is not used, the first layer (L=0) is homogeneous with coefficient\n",
    "# index 1, layer number L-1 is homogeneous with coefficient index M-1\n",
    "\n",
    "atot = array([[0., 0.21841, 0.05465, 0.00924, 0.00924], \n",
    "              [0., 0.09881, 0.06415, 0.05650, 0.05650]])\n",
    "ap   = array([[0., 1.25744e-01, 1.34828e-02, 4.79320e-10, 4.79320e-10],\n",
    "              [0., 3.10215e-02, 3.32626e-03, 1.18250e-10, 1.18250e-10]])\n",
    "aCDOM= array([[0., 8.34474e-02, 3.19477e-02, 2.00125e-05, 2.00125e-05],\n",
    "              [0., 1.12934e-02, 4.32364e-03, 2.70840e-06, 2.70840e-06]])\n",
    "aw   = array([[0., 0.00922, 0.00922, 0.00922, 0.00922],\n",
    "              [0., 0.05650, 0.05650, 0.05650, 0.05650]])\n",
    "bw   = array([[0., 0.00459, 0.00459, 0.00459, 0.00459],\n",
    "              [0., 0.00193, 0.00193, 0.00193, 0.00193]])\n",
    "bp   = array([[0., 2.83546e-01, 3.04030e-02, 1.08084e-09, 1.08084e-09],\n",
    "              [0., 2.31992e-01, 2.48752e-02, 8.84323e-10, 8.84323e-10]])            \n",
    "             \n",
    "water_custom = IOP(phase=pha, aw=aw, bw=bw, bp=bp, aCDOM=aCDOM, ap=ap, Z=grid, ALB=ALB)\n",
    "\n",
    "azimuth_transect = 30. \n",
    "m1 = Smartg().run(wl=wl, THVDEG=60.,water=water_custom, NBPHOTONS=1e8, NBPHI=24, NBTHETA=24, NBLOOP=1e7)\n",
    "_ = smartg_view(m1, ind=Idx([azimuth_transect]),subdict={'wavelength':Idx(450.)}, Imin=0, Imax=0.015)\n",
    "_ = smartg_view(m1, ind=Idx([azimuth_transect]),subdict={'wavelength':Idx(550.)}, Imin=0, Imax=0.015)"
   ]
  },
  {
   "cell_type": "code",
   "execution_count": null,
   "metadata": {
    "ExecuteTime": {
     "end_time": "2021-01-28T15:42:12.791891Z",
     "start_time": "2021-01-28T15:42:10.063248Z"
    }
   },
   "outputs": [],
   "source": [
    "fig = input_view(m1,  kind='oc', iw=0, zmax=-10)"
   ]
  },
  {
   "cell_type": "markdown",
   "metadata": {},
   "source": [
    "## Absorption"
   ]
  },
  {
   "cell_type": "markdown",
   "metadata": {},
   "source": [
    "### Monochromatic absorption"
   ]
  },
  {
   "cell_type": "code",
   "execution_count": null,
   "metadata": {
    "ExecuteTime": {
     "end_time": "2021-01-28T15:42:39.578591Z",
     "start_time": "2021-01-28T15:42:18.006248Z"
    }
   },
   "outputs": [],
   "source": [
    "# standard gaseous absorption with ozone and NO2\n",
    "# we use the single scattering albedo (ssa) method for computing absorption (BEER=0)\n",
    "# this is the default method\n",
    "atm = AtmAFGL('afglms', O3=300., NO2=True\n",
    "             # optionally import gaseous absorption vertical profile\n",
    "             #,prof_abs= gas_profile\n",
    "              )\n",
    "_ = smartg_view(Smartg().run(THVDEG=60., wl=550., NBPHOTONS=1e9, atm=atm, BEER=0))\n",
    "# we can also use the equivalent theorem (Beer Lambert law) method for computing absorption (BEER=1)\n",
    "_ = smartg_view(Smartg().run(THVDEG=60., wl=550., NBPHOTONS=1e9, atm=atm, BEER=1))"
   ]
  },
  {
   "cell_type": "markdown",
   "metadata": {},
   "source": [
    "### Band gaseous absorption using REPTRAN\n",
    "<br> REPTRAN is described in Gasteiger et al., 2014 and the data is available at www.libradtran.org <br>\n",
    "J. Gasteiger, C. Emde, B. Mayer, R. Buras, S.A. Buehler, O. Lemke, Representative wavelengths absorption parameterization applied to satellite channels and spectral bands, Journal of Quantitative Spectroscopy and Radiative Transfer, Volume 148, November 2014, Pages 99-115, ISSN 0022-4073, http://dx.doi.org/10.1016/j.jqsrt.2014.06.024."
   ]
  },
  {
   "cell_type": "markdown",
   "metadata": {},
   "source": [
    "#### Example 1: Computation of reflectance in MSG-SEVIRI VIS08 channel"
   ]
  },
  {
   "cell_type": "code",
   "execution_count": null,
   "metadata": {
    "ExecuteTime": {
     "end_time": "2021-01-28T15:43:27.995388Z",
     "start_time": "2021-01-28T15:43:08.848603Z"
    },
    "run_control": {
     "marked": false
    },
    "scrolled": false
   },
   "outputs": [],
   "source": [
    "# REPTRAN k distribution file here MSG/SEVIRI solar channels\n",
    "SEVIRI_SOLAR = REPTRAN('reptran_solar_msg')\n",
    "\n",
    "# several ways of selecting bands\n",
    "# 1) selecting all bands \n",
    "ibands = SEVIRI_SOLAR.to_smartg()\n",
    "# 2) selecting one specific band\n",
    "ibands = SEVIRI_SOLAR.to_smartg(include='msg1_seviri_ch008')\n",
    "# 3) selecting all bands that contains \"msg1\" in the band name\n",
    "ibands = SEVIRI_SOLAR.to_smartg(include='msg1')\n",
    "# 4) selecting all bands whose wavelengths of internal bands satisfy the min and max conditions\n",
    "ibands = SEVIRI_SOLAR.to_smartg(lmax=700.)\n",
    "# 5) a mix of 3) and 4)\n",
    "ibands = SEVIRI_SOLAR.to_smartg(include='msg1', lmin=600., lmax=1000.)\n",
    "# 6) note that lmin and lmax can be lists (they should have the same length)\n",
    "ibands = SEVIRI_SOLAR.to_smartg(include='msg1', lmin=[600., 1400.], lmax=[700., 2000.])\n",
    "\n",
    "surf= RoughSurface(SUR=1, WIND=5., NH2O=1.34) \n",
    "atm = AtmAFGL('afglms', H2O=4.)\n",
    "\n",
    "# Run Smart-g for Reptran list of ibands\n",
    "m1  = Smartg(double=True).run(THVDEG=30, wl=ibands.l, NBPHOTONS=1e9, atm=atm, surf=surf, BEER=1, progress=False)\n",
    "\n",
    "# Postprocessing: regrouping internal bands information into real band (spectral integration)\n",
    "m1r = reduce_reptran(m1, ibands)\n",
    "\n",
    "# Plotting bands \n",
    "for i,w in enumerate(m1r.axis('wavelength')):\n",
    "    # we use for that a subset of m1r MLUT\n",
    "    _ = smartg_view(m1r.sub(d={'wavelength':i}), ind=Idx([0.]))\n",
    "    print(ibands.get_names()[i])"
   ]
  },
  {
   "cell_type": "markdown",
   "metadata": {},
   "source": [
    "#### Example 2: Polarized reflectance in O2A band in sun glint view with Local Estimate"
   ]
  },
  {
   "cell_type": "code",
   "execution_count": null,
   "metadata": {
    "ExecuteTime": {
     "end_time": "2020-09-21T10:03:11.744432Z",
     "start_time": "2020-09-21T10:03:07.907050Z"
    }
   },
   "outputs": [],
   "source": [
    "%%time\n",
    "# k distribution file, here full solar channels at coarse resolution\n",
    "SOLAR_COARSE = REPTRAN('reptran_solar_coarse')\n",
    "ibands = SOLAR_COARSE.to_smartg(lmin=757., lmax=770.) # within O2A bands\n",
    "surf=RoughSurface(SUR=1, WIND=5., NH2O=1.34)\n",
    "atm=AtmAFGL('afglms', P0=900., comp=[AeroOPAC('continental_average',1.,764.)], pfwav=[764.])\n",
    "# Evaluate reflectance in specific direction Ths=[60.] and RAA=[180.] using LE\n",
    "# dict containig directions vectors in radians and coded as float32\n",
    "le={}\n",
    "le.update(th =np.array([60.], dtype=np.float32)*np.pi/180)\n",
    "le.update(phi=np.array([180.],dtype=np.float32)*np.pi/180)\n",
    "\n",
    "Spp_mult=Smartg(double=True)"
   ]
  },
  {
   "cell_type": "code",
   "execution_count": null,
   "metadata": {
    "ExecuteTime": {
     "end_time": "2020-09-21T10:03:14.627562Z",
     "start_time": "2020-09-21T10:03:11.749274Z"
    }
   },
   "outputs": [],
   "source": [
    "%%time\n",
    "# Compute first atmosphere profiles at all wavelengths and phase functions for re-use\n",
    "atmbase=atm.calc(ibands.l)"
   ]
  },
  {
   "cell_type": "code",
   "execution_count": null,
   "metadata": {
    "ExecuteTime": {
     "end_time": "2020-09-21T10:03:19.913835Z",
     "start_time": "2020-09-21T10:03:14.629571Z"
    }
   },
   "outputs": [],
   "source": [
    "%%time\n",
    "# Several runs: it goes faster as long as atmosphere does not change\n",
    "for col,th0 in zip(['r','g','b','k'],[0.,30.,60.,75.]):\n",
    "    # we use the single scattering albedo (ssa) method for computing absorption (BEER=0)\n",
    "    # this is the default method\n",
    "    m2_ssa = Spp_mult.run(THVDEG=th0, wl=ibands.l, NBPHOTONS=1e7, BEER=0, atm=atmbase, surf=surf, \n",
    "                          le=le, progress=False)\n",
    "    m2r_ssa = reduce_reptran(m2_ssa, ibands)\n",
    "    I=m2r_ssa['I_up (TOA)']\n",
    "    Q=m2r_ssa['Q_up (TOA)']\n",
    "    U=m2r_ssa['U_up (TOA)']\n",
    "\n",
    "    LP = (Q*Q + U*U).apply(sqrt, 'LP')\n",
    "    P = (LP/I*100).apply(abs,'DoLP')\n",
    "    LP.sub()[:,0,0].plot(fmt='.-'+col,vmin=0, vmax=0.15, label=str(th0))\n",
    "legend(loc='best')"
   ]
  },
  {
   "cell_type": "markdown",
   "metadata": {},
   "source": [
    "#### Example 3: Computation of Sentinel3/OLCI spectrum"
   ]
  },
  {
   "cell_type": "code",
   "execution_count": null,
   "metadata": {
    "ExecuteTime": {
     "end_time": "2020-09-21T10:03:28.683950Z",
     "start_time": "2020-09-21T10:03:19.915376Z"
    }
   },
   "outputs": [],
   "source": [
    "SPP=Smartg()\n",
    "\n",
    "# REPTRAN k distribution file here Sentinel 3 solar channels\n",
    "SENTINEL_SOLAR = REPTRAN('reptran_solar_sentinel')\n",
    "ibands = SENTINEL_SOLAR.to_smartg(include='olci') # select OLCI bands\n",
    "\n",
    "th0=50.\n",
    "le={}\n",
    "le.update(th=np.array([th0],dtype=np.float32)*np.pi/180)\n",
    "le.update(phi=np.array([150.],dtype=np.float32)*np.pi/180)\n",
    "atm=AtmAFGL('afglms',      pfwav=[400., 700., 1000., 1300., 1600, 1900., 2200.])\n",
    "\n",
    "water=IOP_1(1., DEPTH=50., pfwav=[400., 700.])\n",
    "\n",
    "surf=RoughSurface()\n",
    "\n",
    "# full simulation\n",
    "m_wsa=reduce_reptran(SPP.run(THVDEG=th0, wl=ibands.l,  le=le, atm=atm , surf=surf, water=water, BEER=1,\n",
    "             progress=True, OUTPUT_LAYERS=3, NBPHOTONS=1e8), ibands)\n",
    "\n",
    "# just water\n",
    "m_w= reduce_reptran(SPP.run(THVDEG=th0, wl=ibands.l,  le=le,  atm=None, surf=None, water=water, BEER=1,\n",
    "             progress=True, OUTPUT_LAYERS=3, NBPHOTONS=1e8,), ibands)\n",
    "\n",
    "# just surface\n",
    "m_s= reduce_reptran(SPP.run(THVDEG=th0, wl=ibands.l,  le=le,  atm=None, surf=surf, water=None,  BEER=1,\n",
    "             progress=True, OUTPUT_LAYERS=3, NBPHOTONS=1e8,), ibands)\n",
    "\n",
    "# no atmosphere\n",
    "m_ws=reduce_reptran(SPP.run(THVDEG=th0, wl=ibands.l,  le=le,  atm=None, surf=surf, water=water, BEER=1,\n",
    "             progress=True, OUTPUT_LAYERS=3, NBPHOTONS=1e8,), ibands)"
   ]
  },
  {
   "cell_type": "markdown",
   "metadata": {},
   "source": [
    "* plots in the perspective of atmospheric corrections"
   ]
  },
  {
   "cell_type": "code",
   "execution_count": null,
   "metadata": {
    "ExecuteTime": {
     "end_time": "2020-09-21T10:03:29.083332Z",
     "start_time": "2020-09-21T10:03:28.686263Z"
    }
   },
   "outputs": [],
   "source": [
    "m_ws['I_up (0-)'].sub()[:,0,0].plot( fmt='c^-', label=r'$0^-  \\uparrow$, no atm.')\n",
    "m_ws['I_up (0+)'].sub()[:,0,0].plot( fmt='c.-', label=r'$0^+  \\uparrow$, no atm.')\n",
    "\n",
    "m_w['I_up (0-)'].sub()[:,0,0].plot( fmt='g^-', label=r'$0^-  \\uparrow$, just water')\n",
    "\n",
    "m_s['I_up (0+)'].sub()[:,0,0].plot( fmt='r.-', label=r'$0^+  \\uparrow$, just surf',)\n",
    "\n",
    "m_wsa['I_up (0-)'].sub()[:,0,0].plot( fmt='k^-', label=r'$0^-  \\uparrow$')\n",
    "m_wsa['I_up (0+)'].sub()[:,0,0].plot( fmt='k.-', label=r'$0^+  \\uparrow$')\n",
    "m_wsa['I_up (TOA)'].sub()[:,0,0].plot(fmt='kx-', label=r'$TOA \\uparrow$', vmax=0.2,vmin=0)\n",
    "legend(loc='best')"
   ]
  },
  {
   "cell_type": "code",
   "execution_count": null,
   "metadata": {
    "ExecuteTime": {
     "end_time": "2020-09-21T10:03:29.534488Z",
     "start_time": "2020-09-21T10:03:29.085449Z"
    }
   },
   "outputs": [],
   "source": [
    "f=spectrum_view(m_w.sub({'Zenith angles':0,'Azimuth angles':0}), field='up (0-)',  color='r', fmt='.-', logI=True)\n",
    "_=spectrum_view(m_ws.sub({'Zenith angles':0,'Azimuth angles':0}), field='up (0-)', color='b', fmt='.-', logI=True,\n",
    "                fig=f)\n",
    "_=spectrum_view(m_wsa.sub({'Zenith angles':0,'Azimuth angles':0}), field='up (0-)',color='k', fmt='.-', logI=True,\n",
    "                fig=f, vmax=-1,vmin=-5)"
   ]
  },
  {
   "cell_type": "markdown",
   "metadata": {},
   "source": [
    "#### S2-MSI spectral response functions"
   ]
  },
  {
   "cell_type": "code",
   "execution_count": null,
   "metadata": {
    "ExecuteTime": {
     "end_time": "2020-09-21T10:04:32.131627Z",
     "start_time": "2020-09-21T10:04:30.492572Z"
    }
   },
   "outputs": [],
   "source": [
    "import pandas as pd\n",
    "from scipy.interpolate import InterpolatedUnivariateSpline\n",
    "SRF = pd.read_excel('../smartg/validation/Sentinel-2A MSI Spectral Responses.xlsx',\n",
    "                   sheet_name='Spectral Responses')\n",
    "w=np.array(SRF['SR_WL'])\n",
    "winf=[]\n",
    "wsup=[]\n",
    "wmedian=[]\n",
    "w_l=np.array([])\n",
    "srf_l=np.array([])\n",
    "\n",
    "for b,srf in enumerate(SRF):\n",
    "    y=np.array(SRF[srf])\n",
    "    if b!=0 :\n",
    "        # edge detection for Filter wavelength boundaries\n",
    "        # Get a function that evaluates the linear spline at any x\n",
    "        f = InterpolatedUnivariateSpline(w, y, k=1)\n",
    "        # Get a function that evaluates the derivative of the linear spline at any x\n",
    "        dfdw =  f.derivative()\n",
    "        dydw =  dfdw(w)\n",
    "\n",
    "        ok=np.where(abs(dydw)>0.0001) # detect edges for SRFs with a threshold on first derivative\n",
    "        plot(w[ok],y[ok])\n",
    "        #store boundaries of filter for further reptran, add a 2 nm margin\n",
    "        w0=w[ok[0][0]]-2\n",
    "        w1=w[ok[0][-1]]+2\n",
    "        winf.append(w0)\n",
    "        wsup.append(w1)\n",
    "        wmedian.append((w0+w1)/2.)\n",
    "print(SRF.columns.tolist()[1:])\n",
    "print(winf,wsup)"
   ]
  },
  {
   "cell_type": "code",
   "execution_count": null,
   "metadata": {
    "ExecuteTime": {
     "end_time": "2020-09-21T10:04:43.772827Z",
     "start_time": "2020-09-21T10:04:39.426946Z"
    }
   },
   "outputs": [],
   "source": [
    "#1) use reptran with solar regular wavelength grid\n",
    "SOLAR_COARSE = REPTRAN('reptran_solar_coarse')\n",
    "ibands = SOLAR_COARSE.to_smartg(lmin=winf, lmax=wsup)\n",
    "\n",
    "#2) use reprtran parametrization for S2/MSI channels directly\n",
    "SENTINEL_SOLAR = REPTRAN('reptran_solar_sentinel')\n",
    "ibands2 = SENTINEL_SOLAR.to_smartg(include='sentinel2a') # select S2/MSI bands\n",
    "atm=AtmAFGL('afglms', pfwav=[400., 800., 1200., 1600., 2200.])\n",
    "surf=RoughSurface()\n",
    "le={}\n",
    "th = np.linspace(0., 60.,  num=6, dtype=np.float32)\n",
    "phi= np.linspace(0., 180., num=9, dtype=np.float32)\n",
    "le.update(th =th *np.pi/180)\n",
    "le.update(phi=phi*np.pi/180)\n",
    "Spp_mult=Smartg()"
   ]
  },
  {
   "cell_type": "code",
   "execution_count": null,
   "metadata": {
    "ExecuteTime": {
     "end_time": "2020-09-21T10:05:52.283416Z",
     "start_time": "2020-09-21T10:04:43.778084Z"
    }
   },
   "outputs": [],
   "source": [
    "%%time\n",
    "# Compute first atmospheric profiles at all wavelengths and phase functions for re-use\n",
    "atmbase=atm.calc(ibands.l)"
   ]
  },
  {
   "cell_type": "code",
   "execution_count": null,
   "metadata": {
    "ExecuteTime": {
     "end_time": "2020-09-21T10:05:54.496973Z",
     "start_time": "2020-09-21T10:05:52.287582Z"
    }
   },
   "outputs": [],
   "source": [
    "%%time\n",
    "# Run Smart-g for Reptran list of ibands and reduce\n",
    "m  = reduce_reptran(Spp_mult.run(THVDEG=60, wl=ibands.l, NBPHOTONS=1e6, le=le, surf=surf, BEER=1, atm=atmbase), ibands)"
   ]
  },
  {
   "cell_type": "code",
   "execution_count": null,
   "metadata": {
    "ExecuteTime": {
     "end_time": "2020-09-21T10:05:55.671104Z",
     "start_time": "2020-09-21T10:05:54.498989Z"
    }
   },
   "outputs": [],
   "source": [
    "%%time\n",
    "# Run directly smart-g without atmospheric pre computations\n",
    "# Run Smart-g for Reptran list of ibands2 and reduce\n",
    "m2  = reduce_reptran(Spp_mult.run(THVDEG=60, wl=ibands2.l, NBPHOTONS=1e6, le=le, surf=surf, BEER=1, atm=atm), ibands2)"
   ]
  },
  {
   "cell_type": "code",
   "execution_count": null,
   "metadata": {
    "ExecuteTime": {
     "end_time": "2020-09-21T10:05:56.063794Z",
     "start_time": "2020-09-21T10:05:55.673272Z"
    }
   },
   "outputs": [],
   "source": [
    "# final multiplication with SRFs\n",
    "print('--------------------------------------')\n",
    "print('REPTRAN SPECTRUM OUTPUT')\n",
    "print('--------------------------------------')\n",
    "m.describe()\n",
    "wr=m.axis('wavelength') # reptran wavelength grid\n",
    "MLUTS=[]\n",
    "for b,srf in enumerate(SRF.columns.tolist()[1:]):\n",
    "    y=np.array(SRF[srf])\n",
    "    # interpolate SRFs to reptran wavelengths\n",
    "    f = InterpolatedUnivariateSpline(w, y, k=1)\n",
    "    fr= LUT(f(wr), axes=[wr], names=['wavelength'])\n",
    "    ml = MLUT()\n",
    "    for l in m:\n",
    "        for pref in ['I_','Q_','U_','V_','transmission'] :\n",
    "            if pref in l.desc:\n",
    "                norm= fr.reduce(np.mean,'wavelength')\n",
    "                lr = (l * fr).reduce(np.mean,'wavelength', as_lut=True)/norm\n",
    "                ml.add_lut(lr, desc=l.desc )\n",
    "    ml.set_attrs(m.attrs)\n",
    "    ml.set_attr('median wavelength', wmedian[b])\n",
    "    ml.set_attr('band', b+1)\n",
    "\n",
    "    MLUTS.append(ml)\n",
    "ms2 = merge(MLUTS, ['median wavelength'])\n",
    "ms2.add_axis('band', np.arange(len(wmedian))+1)\n",
    "print('')\n",
    "print('--------------------------------------')\n",
    "print('S2 CHANNELS OUTPUT')\n",
    "print('--------------------------------------')\n",
    "ms2.describe()\n",
    "print('')\n",
    "print('--------------------------------------')\n",
    "print('REPTRAN S2 CHANNELS OUTPUT')\n",
    "print('--------------------------------------')\n",
    "ms2.describe()\n",
    "\n",
    "m['I_up (TOA)'].sub()[:,Idx(160),Idx(50)].plot(fmt='g.',vmin=0, vmax=0.3, label=r'$TOA^\\uparrow$ : Reptran coarse')\n",
    "ms2['I_up (TOA)'].sub()[:,Idx(160),Idx(50)].plot(fmt='r^-', vmax=0.3, label=r'$TOA^\\uparrow$ : Reptran coarse + S2 SRFs')\n",
    "m2['I_up (TOA)'].sub()[:,Idx(160),Idx(50)].plot(fmt='bv:', vmax=0.3, label=r'$TOA^\\uparrow$ : Reptran S2')\n",
    "legend()"
   ]
  },
  {
   "cell_type": "code",
   "execution_count": null,
   "metadata": {
    "ExecuteTime": {
     "end_time": "2020-09-21T10:05:56.649051Z",
     "start_time": "2020-09-21T10:05:56.065287Z"
    }
   },
   "outputs": [],
   "source": [
    "for i,(b,col) in enumerate(zip(wmedian, ['r','b','g','c']*2)):\n",
    "    if i==0:\n",
    "        fig=transect_view(ms2.sub(d={'median wavelength':i}), ind=Idx(180), logI=True, color='k', fmt='-')    \n",
    "    _=transect_view(ms2.sub(d={'median wavelength':i}), ind=Idx(180), logI=True, fig=fig, color=col, fmt='-')\n",
    "    _=transect_view(m2.sub(d={'wavelength':i}), ind=Idx(180), logI=True, fig=fig, color=col,  fmt=':')"
   ]
  },
  {
   "cell_type": "markdown",
   "metadata": {},
   "source": [
    "### High Spectral Resolution gaseous absorption using HITRAN\n",
    "<br> HITRAN online API interface (HAPI) in python is used. Sources are availabe at http://hitran.org/hapi/.\n",
    "<br>R.V. Kochanov, I.E. Gordon, L.S. Rothman, P. Wcislo, C. Hill, J.S. Wilzewski, HITRAN Application Programming Interface (HAPI): A comprehensive approach to working with spectroscopic data, J. Quant. Spectrosc. Radiat. Transfer 177, 15-30 (2016)\n",
    "<br> **It is recommended to use ALIS to avoid spectral MC noise (see advanced ALIS notebook)**"
   ]
  },
  {
   "cell_type": "markdown",
   "metadata": {},
   "source": [
    "#### Polarized radiances in the O2A band"
   ]
  },
  {
   "cell_type": "markdown",
   "metadata": {},
   "source": [
    "##### LBL GPU accelerated"
   ]
  },
  {
   "cell_type": "code",
   "execution_count": null,
   "metadata": {
    "ExecuteTime": {
     "end_time": "2021-01-28T15:44:12.433050Z",
     "start_time": "2021-01-28T15:44:11.746687Z"
    }
   },
   "outputs": [],
   "source": [
    "# get HAPI \n",
    "# you can also include a GPU accelerated Voigt Profile routine\n",
    "import hapi\n",
    "from Voigt_gpu import absorptionCoefficient_Voigt_gpu"
   ]
  },
  {
   "cell_type": "code",
   "execution_count": null,
   "metadata": {
    "ExecuteTime": {
     "end_time": "2021-01-28T15:44:36.248533Z",
     "start_time": "2021-01-28T15:44:13.185547Z"
    }
   },
   "outputs": [],
   "source": [
    "%%time\n",
    "warnings.filterwarnings(\"ignore\")\n",
    "# Initialize Local spectroscopic database\n",
    "hapi.db_begin('data')\n",
    "\n",
    "# Set spectral interval in wavelength space\n",
    "dl= 0.01 # resolution (nm)\n",
    "lmin=759.\n",
    "lmax=769.001\n",
    "NW=int((lmax-lmin)/dl)+1\n",
    "\n",
    "\n",
    "# convert into the wavenumber space for Hitran\n",
    "vmin=1e7/lmax\n",
    "vmax=1e7/lmin\n",
    "dv=(vmax-vmin)/NW\n",
    "print('NW: ', NW, 'dv: ', dv, ' cm-1')\n",
    "\n",
    "# Download trough internet the required spectroscopic data if necessary\n",
    "if False:\n",
    "    hapi.fetch('O2i1',7,1,vmin-100,vmax+100)\n",
    "    hapi.fetch('O2i2',7,2,vmin-100,vmax+100)\n",
    "    hapi.fetch('O2i3',7,3,vmin-100,vmax+100)\n",
    "\n",
    "# Set the vertical grid\n",
    "NL=21 # number of levels\n",
    "znew =np.linspace(100.,0.,num=NL)\n",
    "\n",
    "# define the atmosphere for absorption coefficient computation\n",
    "#atm=AtmAFGL('afglmw', grid=znew, O3=0., NO2=False, pfwav=[765.])\n",
    "atm=AtmAFGL('afglmw', grid=znew, O3=0., NO2=False, pfwav=[765.], comp=[AeroOPAC('continental_average', 1, 550.)])\n",
    "\n",
    "# absorption optical thickness profile array\n",
    "ao2=np.zeros((NW,NL),dtype=float)\n",
    "\n",
    "i=0\n",
    "# loop on each vertical level\n",
    "for p,t,o2,z in zip(atm.prof.P,atm.prof.T,atm.prof.dens_o2,atm.prof.z):\n",
    "\n",
    "    # get absorption coefficient and wavenumber for each level\n",
    "    # nuo2,coefo2 = hapi.absorptionCoefficient_Voigt(SourceTables=['O2i1','O2i2','O2i3'],HITRAN_units=True,\n",
    "    #    OmegaRange=[vmin,vmax],OmegaStep=dv,GammaL='gamma_self',\n",
    "    #    Environment={'p':p/1013.,'T':t})\n",
    "    \n",
    "    # alternatively use GPU accelerated Voigt Profile\n",
    "    nuo2,coefo2 = absorptionCoefficient_Voigt_gpu(SourceTables=['O2i1','O2i2','O2i3'],HITRAN_units=True,\n",
    "            OmegaRange=[vmin,vmax],OmegaStep=dv,GammaL='gamma_self',\n",
    "            Environment={'p':p/1013.,'T':t})\n",
    "    #increasing wavelengths\n",
    "    nuo2     = nuo2  [::-1]\n",
    "    coefo2   = coefo2[::-1]\n",
    "    #\n",
    "    ao2[:,i] = coefo2 * o2 * 1e5\n",
    "    i=i+1\n",
    "\n",
    "#convert the wavenumber grid (cm-1) into a wavelength grid (in nm)\n",
    "wl=1e7/nuo2\n",
    "\n",
    "# Add absorption to the atm\n",
    "atm=AtmAFGL('afglmw', grid=znew, O3=0., NO2=False, pfwav=[765.], comp=[AeroOPAC('continental_average', 1, 550.)], prof_abs=ao2)\n",
    "# Compute profiles for further use\n",
    "pro = atm.calc(wl)\n",
    "\n",
    "# build a Smartg object with ALIS\n",
    "S3=Smartg(pp=True, alis=True, double=True)\n",
    "# if ALIS is False (the default), the spectrum will be noisy\n",
    "\n",
    "thv = [0.,30.,60., 75.]\n",
    "le={}\n",
    "le.update(th=np.array(thv)*np.pi/180)\n",
    "le.update(phi=np.array([180.])*np.pi/180)"
   ]
  },
  {
   "cell_type": "code",
   "execution_count": null,
   "metadata": {
    "ExecuteTime": {
     "end_time": "2021-01-28T15:44:47.075770Z",
     "start_time": "2021-01-28T15:44:36.250650Z"
    }
   },
   "outputs": [],
   "source": [
    "alis_options={'nlow':3}\n",
    "m3 = S3.run(THVDEG=30., wl=wl, atm=atm, le=le, NBPHOTONS=1e5, progress=True, alis_options=alis_options)\n",
    "print('GPU time: ', m3.attrs['kernel time (s)'], 's')\n",
    "\n",
    "f=figure()\n",
    "f.set_size_inches(12,3)\n",
    "for k,(col,th) in enumerate(zip(['r','g','b','k'],thv)):\n",
    "    I=m3['I_up (TOA)'].sub()[:,0,k]\n",
    "    Q=m3['Q_up (TOA)'].sub()[:,0,k]\n",
    "    U=m3['U_up (TOA)'].sub()[:,0,k]\n",
    "\n",
    "    LP = (Q*Q + U*U).apply(sqrt, mdesc('LP_up (TOA)'))\n",
    "    P = (LP/I*100).apply(abs,'DoLP')\n",
    "    LP.plot(fmt='-'+col,vmin=0, label=str(th))\n",
    "\n",
    "legend(loc='best')"
   ]
  },
  {
   "cell_type": "markdown",
   "metadata": {},
   "source": [
    "## Irradiances"
   ]
  },
  {
   "cell_type": "code",
   "execution_count": null,
   "metadata": {
    "ExecuteTime": {
     "end_time": "2020-09-21T10:06:21.666739Z",
     "start_time": "2020-09-21T10:06:20.922597Z"
    }
   },
   "outputs": [],
   "source": [
    "Spp  = Smartg()\n",
    "surf = RoughSurface(SUR=3, WIND=10., NH2O=1.34)\n",
    "atm  = AtmAFGL('afglms')\n",
    "water= IOP_1(chl=1.1, pfwav=[550.], DEPTH=100.) \n",
    "wl   = np.linspace(400., 700., num=11)\n",
    "TH0  = 75."
   ]
  },
  {
   "cell_type": "code",
   "execution_count": null,
   "metadata": {
    "ExecuteTime": {
     "end_time": "2020-09-21T10:06:27.588407Z",
     "start_time": "2020-09-21T10:06:21.668611Z"
    }
   },
   "outputs": [],
   "source": [
    "# 1) planar and spherical fluxes using the \"flux\" keyword\n",
    "# Flux are computed FAST in Cone sampling mode\n",
    "NB=1e7\n",
    "P = Spp.run(THVDEG=TH0, wl=wl, NBPHOTONS=NB, atm=atm, surf=surf, water=water,\n",
    "                 flux='planar', OUTPUT_LAYERS=3)\n",
    "S = Spp.run(THVDEG=TH0, wl=wl, NBPHOTONS=NB, atm=atm, surf=surf, water=water, \n",
    "                 flux='spherical', OUTPUT_LAYERS=3)\n",
    "\n",
    "# 2) fluxes could be recomputed from radiances, with care about the directional sampling and statistics\n",
    "# in general, longer and less accurate\n",
    "M  = Spp.run(THVDEG=TH0, wl=wl, NBPHOTONS=NB, atm=atm, NBTHETA=360, NBPHI=360, surf=surf, water=water, OUTPUT_LAYERS=3)\n",
    "# directional integration for irradiances\n",
    "Mr = reduce_Irr(M)"
   ]
  },
  {
   "cell_type": "code",
   "execution_count": null,
   "metadata": {
    "ExecuteTime": {
     "end_time": "2020-09-21T10:06:28.330444Z",
     "start_time": "2020-09-21T10:06:27.590684Z"
    },
    "run_control": {
     "marked": false
    }
   },
   "outputs": [],
   "source": [
    "# plot downward fluxes spectra just underwater \n",
    "P['flux_down (0-)'].plot(fmt='r.-',vmin=0,vmax=1.5,label='down 0- planar')\n",
    "S['flux_down (0-)'].plot(fmt='b.-',vmin=0,vmax=1.5,label='down 0- spherical')\n",
    "Mr['Pflux_down (0-)'].plot(fmt='rx-',vmin=0,vmax=1.5,label='down 0- planar from radiance')\n",
    "Mr['Sflux_down (0-)'].plot(fmt='bx-',vmin=0,vmax=1.5,label='down 0- spherical from radiance')\n",
    "legend(loc='best')\n",
    "# plot upward fluxes spectra just underwater \n",
    "figure()\n",
    "P['flux_up (0-)'].plot(fmt='r.-',vmin=0,vmax=0.05,label='up 0- planar')\n",
    "S['flux_up (0-)'].plot(fmt='b.-',vmin=0,vmax=0.05,label='up 0- spherical')\n",
    "Mr['Pflux_up (0-)'].plot(fmt='rx-',vmin=0,vmax=0.05,label='up 0- planar from radiance')\n",
    "Mr['Sflux_up (0-)'].plot(fmt='bx-',vmin=0,vmax=0.05,label='up 0- spherical from radiance')\n",
    "legend(loc='best')\n",
    "\n",
    "# 3) For the particular \"Down (0+)\" Irradiance, it contains only Diffuse component, the direct component\n",
    "# is obtained trough the 'direct transmission' field\n",
    "T = P['direct transmission']\n",
    "figure()\n",
    "P['flux_down (0+)'].plot(fmt='r.--',vmin=0,vmax=1.5,label='down 0+ diffuse planar')\n",
    "(P['flux_down (0+)']+T).plot(fmt='r.-',vmin=0,vmax=1.5,label='down 0+ total planar')\n",
    "S['flux_down (0+)'].plot(fmt='b.--',vmin=0,vmax=1.5,label='down 0+ diffuse spherical')\n",
    "(S['flux_down (0+)']+T).plot(fmt='b.-',vmin=0,vmax=1.5,label='down 0+ total spherical')\n",
    "P['flux_down (0-)'].plot(fmt='rx-',vmin=0,vmax=1.5,label='down 0- planar')\n",
    "S['flux_down (0-)'].plot(fmt='bx-',vmin=0,vmax=1.5,label='down 0- spherical')\n",
    "legend(loc='best')\n"
   ]
  },
  {
   "cell_type": "markdown",
   "metadata": {},
   "source": [
    "## Thermal source (dev)"
   ]
  },
  {
   "cell_type": "code",
   "execution_count": null,
   "metadata": {
    "ExecuteTime": {
     "end_time": "2021-01-28T15:45:04.601760Z",
     "start_time": "2021-01-28T15:45:04.560296Z"
    }
   },
   "outputs": [],
   "source": [
    "#REPTRAN k distribution file here MSG/SEVIRI1 thermal channels\n",
    "from smartg.reptran import Reptran_Emission, Reptran_Avg_Emission\n",
    "SEVIRI_THERMAL = REPTRAN('reptran_thermal_msg')"
   ]
  },
  {
   "cell_type": "code",
   "execution_count": null,
   "metadata": {
    "ExecuteTime": {
     "end_time": "2021-01-28T15:45:27.705991Z",
     "start_time": "2021-01-28T15:45:19.865974Z"
    }
   },
   "outputs": [],
   "source": [
    "# Compile with thermal option\n",
    "# Only in forward mode for the moment, no ground\n",
    "ST = Smartg(thermal=True, alt_pp=True, back=False)\n",
    "for platform in ['1','2','3','4']:\n",
    "    ibands         = SEVIRI_THERMAL.to_smartg(include='msg'+platform)\n",
    "    atm            = AtmAFGL('afglt', grid=np.linspace(50, 0, num=51))\n",
    "    prof_atm       = atm.calc(ibands.l)\n",
    "    # DIRECT option activated i.e direct transmitted radiance form source to receiver counted\n",
    "    # (as opposite to solar computation where the direct light is not counted)\n",
    "    # cell_proba has to be set to 'auto' : Distribution of thermal source within the atmosphere set automatically\n",
    "    fl = ST.run(DIRECT=True, wl=ibands.l, flux='planar', NBPHOTONS=1e6, atm=prof_atm, cell_proba='auto')\n",
    "    # The Column integrated thermal Emission is computed using the function Avg_Emission\n",
    "    # is it used in the reduce final computation\n",
    "    fl_int = reduce_reptran(fl, ibands, integrated=True,  extern_weights=Reptran_Avg_Emission(prof_atm, ibands))\n",
    "    errorbar(fl_int.axis('wavelength'),\n",
    "              fl_int['flux_up (TOA)'].data,\n",
    "              label=platform, marker='^')\n",
    "ylim(0,2)\n",
    "ylabel('TOA irradiance (W.m-2)')\n",
    "legend()"
   ]
  },
  {
   "cell_type": "markdown",
   "metadata": {},
   "source": [
    "## Looping over parameters"
   ]
  },
  {
   "cell_type": "code",
   "execution_count": null,
   "metadata": {
    "ExecuteTime": {
     "end_time": "2020-09-21T10:07:04.119980Z",
     "start_time": "2020-09-21T10:06:51.031177Z"
    }
   },
   "outputs": [],
   "source": [
    "# loop over Aerosol Optical Thickness\n",
    "MLUTS = []\n",
    "Spp=Smartg()\n",
    "for aot in linspace(0, 1.5, 5):\n",
    "    M = Spp.run(THVDEG=30.,\n",
    "               wl=443., NBPHOTONS=1e7,\n",
    "               atm=AtmAFGL('afglt',comp=[AeroOPAC('desert',aot,443.)]),\n",
    "               surf=RoughSurface(WIND=5.))\n",
    "    M.set_attr('AOT', aot) # to define a new axis 'aot' later\n",
    "    MLUTS.append(M)"
   ]
  },
  {
   "cell_type": "code",
   "execution_count": null,
   "metadata": {
    "ExecuteTime": {
     "end_time": "2020-09-21T10:07:04.682256Z",
     "start_time": "2020-09-21T10:07:04.121574Z"
    }
   },
   "outputs": [],
   "source": [
    "#Merge all previous looped MLUTs into a single one\n",
    "M = merge(MLUTS, ['AOT'], dtype=float)\n",
    "M.describe()"
   ]
  },
  {
   "cell_type": "code",
   "execution_count": null,
   "metadata": {
    "ExecuteTime": {
     "end_time": "2020-09-21T10:07:04.966860Z",
     "start_time": "2020-09-21T10:07:04.684551Z"
    }
   },
   "outputs": [],
   "source": [
    "M[0].sub()[:,Idx(90),Idx(45)].plot(fmt='o-')"
   ]
  },
  {
   "cell_type": "markdown",
   "metadata": {},
   "source": [
    "## Difference between two LUTs"
   ]
  },
  {
   "cell_type": "code",
   "execution_count": null,
   "metadata": {
    "ExecuteTime": {
     "end_time": "2020-09-21T10:08:00.287567Z",
     "start_time": "2020-09-21T10:07:04.969175Z"
    },
    "run_control": {
     "marked": true
    }
   },
   "outputs": [],
   "source": [
    "%%time\n",
    "# Here we compare the TOA radiance simulated with\n",
    "# plane parallel and spherical atmospheres, at 400 nm.\n",
    "atm=AtmAFGL('afglt', O3=0., NO2=False)\n",
    "ths = np.concatenate((\n",
    "            np.linspace(0. ,75., num=12, dtype=np.float32),\n",
    "            np.linspace(76.,89., num=12, dtype=np.float32)))\n",
    "le={}\n",
    "le.update(th_deg = ths)\n",
    "le.update(phi_deg= np.array([0.,180.], dtype=np.float32))\n",
    "\n",
    "Spp=Smartg(pp=True,   double=True, back=True, alt_pp=True)\n",
    "Ssp=Smartg(pp=False,  double=True, back=True)\n",
    "\n",
    "# show relative difference\n",
    "figure(figsize=(6,6))\n",
    "results = []\n",
    "for S in [Spp, Ssp]:\n",
    "    results.append(S.run(RTER= 6370., THVDEG=30., wl=400., NBPHOTONS=5e7, le=le, atm=atm, stdev=True))\n",
    "\n",
    "PP = results[0]['I_up (TOA)'].sub()[Idx(0),:]\n",
    "SP = results[1]['I_up (TOA)'].sub()[Idx(0),:]\n",
    "PP_std = results[0]['I_stdev_up (TOA)'].sub()[Idx(0),:]\n",
    "SP_std = results[1]['I_stdev_up (TOA)'].sub()[Idx(0),:]\n",
    "diff = 100.*(PP-SP)/SP\n",
    "diff.desc = 'Plane Parallel - Spherical (%)'\n",
    "(diff).plot(fmt='.:', vmin=-3., vmax=3.)\n",
    "unc = ((SP_std*SP_std/SP/SP) + (PP_std*PP_std/PP/PP)).apply(np.sqrt,'uncertainty')*100\n",
    "errorbar(diff.axis('Zenith angles'), diff[:], yerr=unc[:], fmt='none')"
   ]
  },
  {
   "cell_type": "markdown",
   "metadata": {},
   "source": [
    "## Interactive simulation"
   ]
  },
  {
   "cell_type": "code",
   "execution_count": null,
   "metadata": {
    "ExecuteTime": {
     "end_time": "2020-09-21T10:08:01.032628Z",
     "start_time": "2020-09-21T10:08:00.289185Z"
    },
    "scrolled": true
   },
   "outputs": [],
   "source": [
    "from ipywidgets import interact, interact_manual\n",
    "\n",
    "S=Smartg()\n",
    "le={}\n",
    "le={}\n",
    "le.update(phi=np.array([0.]),dtype=np.float32)\n",
    "le.update(th=np.array([60.])*np.pi/180,dtype=np.float32)\n",
    "\n",
    "def simulate(thvdeg, surface, aerosol_model, aot550):\n",
    "    surf = {True:RoughSurface(), False:None}[surface]\n",
    "    aer = AeroOPAC(aerosol_model, aot550, 550.)\n",
    "    print('TOA Intensity : %.5f'%S.run(THVDEG=thvdeg,\n",
    "             wl=[443.], NBPHOTONS=1e5, le=le,\n",
    "             atm=AtmAFGL('afglt', comp=[aer]), surf=surf, progress=False\n",
    "          )['I_up (TOA)'].data)\n",
    "\n",
    "interact_manual(simulate, thvdeg=(0, 90), surface=True,\n",
    "                aerosol_model= AeroOPAC('desert', 0.1, 550.).list(), aot550=(0.0, 5., 0.05)\n",
    "                )"
   ]
  },
  {
   "cell_type": "markdown",
   "metadata": {},
   "source": [
    "# Backward mode and Sensor class"
   ]
  },
  {
   "cell_type": "markdown",
   "metadata": {},
   "source": [
    "## Limb geometry"
   ]
  },
  {
   "cell_type": "code",
   "execution_count": null,
   "metadata": {
    "ExecuteTime": {
     "end_time": "2021-01-28T15:46:58.929855Z",
     "start_time": "2021-01-28T15:46:35.609661Z"
    },
    "run_control": {
     "marked": false
    }
   },
   "outputs": [],
   "source": [
    "%%time\n",
    "# Backward mode is needed when the scene is not invariant by horizontal translation anymore\n",
    "# e.g. spherical shell atmosphere or horizontally varying surface reflectance\n",
    "# In that case, the keyword back=True should be used for compilation \n",
    "# (the bias sampling scheme for scattering (default) is mandatory, bias=True)\n",
    "# Here the example deals with spherical shell atmosphere (pp=False)\n",
    "S = Smartg(back=True, pp=False, double=True)\n",
    "# in backward mode, photons are injected FROM the sensor, and the outputs correspond to solar geometries\n",
    "# So we define where the sensor is located with the Sensor class\n",
    "# in this example, the sensor is placed at the TOA and is looking at the limb\n",
    "HTOA = 120.\n",
    "RTER = 6371. # Earth's radius\n",
    "wl   = [430., 660., 840.]\n",
    "#\n",
    "#\n",
    "grid    = np.linspace(HTOA, 0., num=51)\n",
    "atm1  = AtmAFGL('afglsw', grid=grid)\n",
    "\n",
    "# lambertian surface\n",
    "ALB  = Albedo_cst(0.1)\n",
    "surf = LambSurface(ALB=ALB)\n",
    "\n",
    "def zt2thv(zt, RTER=6371., HTOA=120.):\n",
    "    return np.arcsin((RTER+zt)/(RTER+HTOA))*180/np.pi\n",
    "# For a vertical profile in backward mode, several sensors are needed\n",
    "# we make a loop on trigonometric tangent heights and also viewing azimuths\n",
    "# and make a LIST of sensors\n",
    "\n",
    "from itertools import product\n",
    "sensors= []\n",
    "NT = 16 # number of tangent heights\n",
    "NP = 4 # relative azimuths to the sun\n",
    "ZT   = np.linspace(2., 50,  num=NT)\n",
    "DPHI = np.linspace(0., 91, num=NP)\n",
    "for zt,dphi in product(ZT, DPHI):\n",
    "    sensors.append( \n",
    "                # sensor object creation\n",
    "                Sensor(POSX = 0.,   # Sensor coordinates (in km) (default:origin(0.,0.,0.))\n",
    "                POSY = 0.,\n",
    "                POSZ = HTOA+RTER,   # in spherical mode set Z to the distance from Earth center, \n",
    "                                    # in PP, Z is the altitude\n",
    "                THDEG= 180.-zt2thv(zt, HTOA=HTOA),         \n",
    "                                    # Sensor 'Emitting' zenith angle, from 0: Zenith,\n",
    "                                           #  to 180.: Nadir (default:0.)\n",
    "                PHDEG= dphi,        # Sensor 'Emitting' azimuth angle (default:0.)\n",
    "                LOC  = 'ATMOS',     # location of sensor (default: (SURF0P, just above surface)\n",
    "                FOV  = 0.,          # Sensor FOV (default 0.)\n",
    "                TYPE = 0            # Sensor type :Radiance (0), Planar flux (1), \n",
    "                                           # Spherical Flux (2), (default 0)\n",
    "                    )\n",
    "               )    \n",
    "NB = 2e5 * NT * NP # so 2e5 photons per sensor\n",
    "\n",
    "ths    = array([60., 80., 91., 94.]) # different SZA\n",
    "phis   = array([0.])\n",
    "# Local estimate directions correspond to solar positions\n",
    "le = {'th_deg':ths, 'phi_deg':phis}\n",
    "\n",
    "# the sensor keyword accepts a list of sensor obsjects\n",
    "m1  = S.run(wl=wl, surf=surf, le=le, atm=atm1, NBPHOTONS=NB, RTER=RTER, NF=1e5,\n",
    "              refraction=True, sensor=sensors, reflectance=False)\n",
    "# look at the result: a new dimension  'sensor index' is present in the MLUT"
   ]
  },
  {
   "cell_type": "code",
   "execution_count": null,
   "metadata": {
    "ExecuteTime": {
     "end_time": "2021-01-28T15:47:02.915301Z",
     "start_time": "2021-01-28T15:47:01.736827Z"
    }
   },
   "outputs": [],
   "source": [
    "# You can get back a 2D output of intensities by reshaping to (NT, NP) what is inside the 'sensor index'\n",
    "# dimension\n",
    "col = ['r','g','b']\n",
    "lin = ['-',':','--','-.']\n",
    "fig,ax =subplots(1,4)\n",
    "fig.set_size_inches(12,4)\n",
    "\n",
    "for i,(ts,l) in enumerate(zip(ths, lin)):\n",
    "    for  j,dp in enumerate(DPHI):\n",
    "        for k,(lam,c) in enumerate(zip(wl[::-1], col)):\n",
    "            I1 = m1['I_up (TOA)']\\\n",
    "                   [:, Idx(lam, fill_value='extrapolate'), 0, Idx(ts)].reshape(NT,NP)\n",
    "            if( i==0 and j==0) : ax[j].semilogx(I1[:,j], ZT, l, color=c, label='%.0f nm'%(lam))\n",
    "            if( k==0 and j==1) : ax[j].semilogx(I1[:,j], ZT, l, color=c, label='%.0f°'%(ts))   \n",
    "            else               : ax[j].semilogx(I1[:,j], ZT, l, color=c)\n",
    "        ax[j].grid()\n",
    "        ax[j].set_xlim([0.0002, 2])\n",
    "        ax[j].set_xlabel(r'$\\pi I$')\n",
    "        ax[j].set_title(r'$\\Delta\\Phi:%.0f$°'%dp)\n",
    "    ax[0].set_ylabel(r'$z_t (km)$')\n",
    "    ax[0].legend(title=r'$\\lambda$')\n",
    "    ax[1].legend(title=r'$SZA$')"
   ]
  },
  {
   "cell_type": "markdown",
   "metadata": {},
   "source": [
    "## Horizontal inhomogeneity"
   ]
  },
  {
   "cell_type": "code",
   "execution_count": null,
   "metadata": {
    "ExecuteTime": {
     "end_time": "2020-09-21T10:08:15.015436Z",
     "start_time": "2020-09-21T10:08:06.037936Z"
    }
   },
   "outputs": [],
   "source": [
    "# Goal: to simulate an observation from a satellite sensor \n",
    "# for 1 thv and several azimuths (Almucantar)\n",
    "# with a straight coastline (limit ocean land at x=0, ocean for x <0)\n",
    "# the sensor is looking to a water pixel located at a varying distance from the coastline\n",
    "# we simulate a coastline as being the zone near a big circle, whose radius is 1e6 km\n",
    "# centred on a point located far from the sensor (-1e6 km from the origin )\n",
    "# The interior of the circle is the ocean\n",
    "# Principal plane reflectance and DoLP for 380, 500 and 800 nm\n",
    "wl      = [ 380., 500., 800.]\n",
    "col     = ['b','g','r']\n",
    "\n",
    "# Solar geometries in backward mode\n",
    "nsaa    = 4\n",
    "nsza    = 24\n",
    "SZA_MAX = 70.\n",
    "SAAs    = np.linspace(0., 270.,    num=nsaa, dtype=np.float32, endpoint=True)\n",
    "SZAs    = np.linspace(0., SZA_MAX, num=nsza, dtype=np.float32, endpoint=True)\n",
    "le      = {'th_deg':SZAs, 'phi_deg':SAAs}\n",
    "\n",
    "aer     = AeroOPAC('maritime_polluted', 0.3, 500.)\n",
    "atm     = AtmAFGL('afglms', comp=[aer])\n",
    "surf    = RoughSurface(WIND=5., BRDF=True) # Cox & Munk BRDF, time symetrical\n",
    "\n",
    "VZA     = 30.\n",
    "D       = 1.0e6 #(km)\n",
    "# The Environement object creates a disk of ocean surface with radius ENV_SIZE\n",
    "# centred on X0,Y0 , surrounded by lambertian reflector of albedo ALB\n",
    "env     = Environment(ENV=1, \n",
    "                  ENV_SIZE= D ,       # radius of the circle with ocean surface condition\n",
    "                  X0= -D,             # X coordinate of the center of the circle\n",
    "                  Y0= 0,\n",
    "                  ALB=Albedo_cst(0.5) # Lambertian grey albedo of the land zone (snow)\n",
    "                 )\n",
    "Sb      = Smartg(back=True,  double=True) ## Plane Parallel"
   ]
  },
  {
   "cell_type": "code",
   "execution_count": null,
   "metadata": {
    "ExecuteTime": {
     "end_time": "2020-09-21T10:10:12.111209Z",
     "start_time": "2020-09-21T10:09:53.978810Z"
    }
   },
   "outputs": [],
   "source": [
    "%%time\n",
    "HTOA  = 120.\n",
    "VAAs  = [0., 90., 180., 270.] # 4 View Azimuth Angles; VAA=0 the sensor is 'above water'\n",
    "dists = [0.250, 5., D]   # 3 distances to the coast (km)\n",
    "\n",
    "sensors= []\n",
    "cases  = list(product(VAAs, dists))\n",
    "for VAA, dist in cases:\n",
    "    # sensor is placed at the TOA and is looking down\n",
    "    # to the point (-dist, 0., 0.) from several relative azimuths\n",
    "    # to the coastline (VAA); \n",
    "    DeltaH = HTOA   * np.tan(np.radians(VZA))\n",
    "    DeltaX = DeltaH * np.cos(np.radians(180-VAA))\n",
    "    DeltaY = DeltaH * np.sin(np.radians(180-VAA))\n",
    "    sensors.append(\n",
    "            Sensor(\n",
    "            POSX = -dist + DeltaX,      # Sensor coordinates (in km) (default:origin(0.,0.,0.))\n",
    "            POSY = DeltaY,\n",
    "            POSZ = HTOA,\n",
    "            THDEG= 180-VZA, # Sensor 'Emitting' zenith angle, from 0: Zenith to 180.: Nadir (default:0.)\n",
    "            PHDEG= VAA,     # Sensor 'Emitting' azimuth angle (default:0.)\n",
    "            LOC  = 'ATMOS', # location of sensor (default: (SURF0P, just above surface)\n",
    "            FOV  = 0.,      # Sensor FOV (default 0.)\n",
    "            TYPE = 0        # Sensor type :Radiance (0), Planar flux (1), Spherical Flux (2), (default 0)\n",
    "            )\n",
    "    )\n",
    "NB = 1e6 * len(VAAs) * len(dists)\n",
    "m  = Sb.run(wl=wl, atm=atm, surf=surf, env=env, NBPHOTONS=NB, le=le, \n",
    "         sensor=sensors, progress=True)"
   ]
  },
  {
   "cell_type": "code",
   "execution_count": null,
   "metadata": {
    "ExecuteTime": {
     "end_time": "2020-09-21T10:10:14.384015Z",
     "start_time": "2020-09-21T10:10:12.113623Z"
    },
    "scrolled": false
   },
   "outputs": [],
   "source": [
    "# the transects are plotted for RAA=0, (principal plane)\n",
    "RAA = 0.\n",
    "\n",
    "for i,w in enumerate(wl):\n",
    "    # for VAA=0, the sensor is 'above water'\n",
    "    VAA = VAAs[0]\n",
    "    SAA = VAA - RAA\n",
    "    ind = cases.index((VAA, dists[0])) # retrieving sensor index from the cases\n",
    "    f=transect_view(m.sub(d={'sensor index':ind, 'wavelength':Idx(w)}), \n",
    "                    color='m', fmt=':', ind=Idx([SAA]) )\n",
    "    ind = cases.index((VAA, dists[1]))\n",
    "    _=transect_view(m.sub(d={'sensor index':ind, 'wavelength':Idx(w)}),\n",
    "                    color='m', fmt='--',ind=Idx([SAA])   , fig=f)\n",
    "    \n",
    "    # for VAA=90, the sensor is 'above the coastline'\n",
    "    VAA = VAAs[1]\n",
    "    SAA = VAA - RAA\n",
    "    ind = cases.index((VAA, dists[0]))\n",
    "    _=transect_view(m.sub(d={'sensor index':ind, 'wavelength':Idx(w)}),\n",
    "                    color='C1',fmt=':', ind=Idx([SAA]), fig=f)\n",
    "    ind = cases.index((VAA, dists[1]))\n",
    "    _=transect_view(m.sub(d={'sensor index':ind, 'wavelength':Idx(w)}),\n",
    "                    color='C1',fmt='--',ind=Idx([SAA]), fig=f)\n",
    "\n",
    "    # for VAA=180, the sensor is 'above land'\n",
    "    VAA = VAAs[2]\n",
    "    SAA = VAA - RAA\n",
    "    ind = cases.index((VAA, dists[0]))\n",
    "    _=transect_view(m.sub(d={'sensor index':ind, 'wavelength':Idx(w)}),\n",
    "                    color='g', fmt=':', ind=Idx([SAA]), fig=f)\n",
    "    ind = cases.index((VAA, dists[1]))\n",
    "    _=transect_view(m.sub(d={'sensor index':ind, 'wavelength':Idx(w)}),\n",
    "                    color='g', fmt='--',ind=Idx([SAA]), fig=f)\n",
    "    \n",
    "    # whatever VAA, the last distance is 1e6 km similar to the infinite homogeneous ocean case\n",
    "    ind = cases.index((VAA, dists[-1]))\n",
    "    _=transect_view(m.sub(d={'sensor index':ind, 'wavelength':Idx(w)}),\n",
    "                    color='k', fmt='-', ind=Idx([SAA]), fig=f, vmin=0, vmax=.4)\n",
    "    text(-50.,95,r'$\\lambda$=%.0f nm'%w)\n",
    "    if i==2:\n",
    "        plot([-50,-25],[90,90],'k-')\n",
    "        text(-23,90,'homogeneous ocean')\n",
    "        plot([-50,-25],[85,85],'k:')\n",
    "        text(-23,85,'d=250 m')\n",
    "        plot([-50,-25],[80,80],'k--')\n",
    "        text(-23,80,'d=5000 m')\n",
    "        plot([-50,-25],[75,75],'m-')\n",
    "        text(-23,75,r'VAA=0$\\degree$  (above water)', color='m')\n",
    "        plot([-50,-25],[70,70],'C1-')\n",
    "        text(-23,70,r'VAA=90$\\degree$ (along the coast)', color='C1')\n",
    "        plot([-50,-25],[65,65],'g-')\n",
    "        text(-23,65,r'VAA=180$\\degree$ (above land)', color='g')"
   ]
  }
 ],
 "metadata": {
  "anaconda-cloud": {},
  "hide_input": false,
  "kernelspec": {
   "display_name": "Python 3",
   "language": "python",
   "name": "python3"
  },
  "language_info": {
   "codemirror_mode": {
    "name": "ipython",
    "version": 3
   },
   "file_extension": ".py",
   "mimetype": "text/x-python",
   "name": "python",
   "nbconvert_exporter": "python",
   "pygments_lexer": "ipython3",
   "version": "3.8.0"
  },
  "toc": {
   "colors": {
    "hover_highlight": "#DAA520",
    "navigate_num": "#000000",
    "navigate_text": "#333333",
    "running_highlight": "#FF0000",
    "selected_highlight": "#FFD700",
    "sidebar_border": "#EEEEEE",
    "wrapper_background": "#FFFFFF"
   },
   "moveMenuLeft": true,
   "nav_menu": {
    "height": "509px",
    "width": "252px"
   },
   "navigate_menu": true,
   "number_sections": true,
   "sideBar": true,
   "threshold": 4,
   "toc_cell": false,
   "toc_number_sections": true,
   "toc_position": {
    "height": "742.733px",
    "left": "0px",
    "right": "1708px",
    "top": "160.267px",
    "width": "212px"
   },
   "toc_section_display": "block",
   "toc_threshold": 4,
   "toc_window_display": true,
   "widenNotebook": false
  },
  "toc_position": {
   "left": "1540px",
   "right": "36px",
   "top": "83px",
   "width": "300px"
  },
  "widgets": {
   "state": {
    "24d74e057a524c8c8349c8380b4cfc8c": {
     "views": [
      {
       "cell_index": 4
      }
     ]
    }
   },
   "version": "1.2.0"
  }
 },
 "nbformat": 4,
 "nbformat_minor": 2
}
