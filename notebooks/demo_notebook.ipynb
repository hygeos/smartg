{
 "cells": [
  {
   "cell_type": "markdown",
   "metadata": {},
   "source": [
    "# Smart-G demo notebook\n",
    "\n",
    "This is an interactive document allowing to run Smart-G with python and visualize the results. <br>\n",
    "*Tips*: cells can be executed with shift-enter. Tooltips can be obtained with shift-tab. More information [here](http://ipython.org/notebook.html) or in the help menu. [A table of content can also be added](https://github.com/minrk/ipython_extensions#table-of-contents)."
   ]
  },
  {
   "cell_type": "code",
   "execution_count": null,
   "metadata": {
    "collapsed": false,
    "scrolled": false
   },
   "outputs": [],
   "source": [
    "%pylab inline\n",
    "# next 2 lines allow to automatically reload modules that have been changed externally\n",
    "%reload_ext autoreload\n",
    "%autoreload 2\n",
    "import sys\n",
    "sys.path.append('..')\n",
    "from smartg import Smartg, reptran_merge\n",
    "from smartg import RoughSurface, LambSurface, FlatSurface, Environment\n",
    "from atmosphere import AtmAFGL, AeroOPAC, CloudOPAC\n",
    "from water import IOP_1\n",
    "from tools.tools import SpecInt, SpecInt2, Irr, ReadREPTRAN_bands, reduce_reptran\n",
    "from tools.luts import LUT, MLUT, Idx, merge, read_lut_hdf, read_mlut\n",
    "from tools.smartg_view import plot_polar, smartg_view, input_view, mdesc, transect_view\n",
    "from ipywidgets import interact, interact_manual\n",
    "from matplotlib import colors\n",
    "colors_ = list(six.iteritems(colors.cnames))"
   ]
  },
  {
   "cell_type": "markdown",
   "metadata": {},
   "source": [
    "## How to run Smart-G"
   ]
  },
  {
   "cell_type": "code",
   "execution_count": null,
   "metadata": {
    "collapsed": false,
    "scrolled": false
   },
   "outputs": [],
   "source": [
    "# run SMART-G\n",
    "# this simulation uses an AFGL tropical atmosphere without aerosols\n",
    "# Reflectance computation in Cone Sampling mode (default)\n",
    "m = Smartg().run(THVDEG=30, wl=500., NBPHOTONS=1e8,\n",
    "           atm=AtmAFGL('afglt'),\n",
    "           surf=RoughSurface(SUR=1))"
   ]
  },
  {
   "cell_type": "code",
   "execution_count": null,
   "metadata": {
    "collapsed": false
   },
   "outputs": [],
   "source": [
    "# the result is a MLUT\n",
    "m.print_info()\n",
    "# it can be written with m.save(filename)\n",
    "# and then reloaded with read_mlut_hdf(filename)"
   ]
  },
  {
   "cell_type": "markdown",
   "metadata": {},
   "source": [
    "## How to view the results"
   ]
  },
  {
   "cell_type": "code",
   "execution_count": null,
   "metadata": {
    "collapsed": false
   },
   "outputs": [],
   "source": [
    "# basic visualization\n",
    "fig = smartg_view(m)"
   ]
  },
  {
   "cell_type": "code",
   "execution_count": null,
   "metadata": {
    "collapsed": false
   },
   "outputs": [],
   "source": [
    "# access a LUT within the MLUT\n",
    "I = m['I_up (TOA)']  # or by index: m[0]\n",
    "I.desc = mdesc(I.desc) # I descriptor in math Latex format"
   ]
  },
  {
   "cell_type": "code",
   "execution_count": null,
   "metadata": {
    "collapsed": false
   },
   "outputs": [],
   "source": [
    "I.print_info()"
   ]
  },
  {
   "cell_type": "code",
   "execution_count": null,
   "metadata": {
    "collapsed": false
   },
   "outputs": [],
   "source": [
    "# access values in this LUT\n",
    "print I[5, ::5]  # by index (can be float indices to interpolate)\n",
    "print I[Idx(90.), Idx(45.)]  # or by index finding + interpolation"
   ]
  },
  {
   "cell_type": "code",
   "execution_count": null,
   "metadata": {
    "collapsed": false
   },
   "outputs": [],
   "source": [
    "# calculate polarized light\n",
    "# use operations between LUT's, and apply sqrt\n",
    "Q, U = m['Q_up (TOA)'], m['U_up (TOA)']\n",
    "LP = (Q*Q + U*U).apply(sqrt, mdesc('LP_up (TOA)'))   # second parameter of apply sets the LUT's desc"
   ]
  },
  {
   "cell_type": "code",
   "execution_count": null,
   "metadata": {
    "collapsed": false
   },
   "outputs": [],
   "source": [
    "#Different visualizations\n",
    "LP.plot_semi()\n",
    "LP.plot()\n",
    "LP.plot_polar()"
   ]
  },
  {
   "cell_type": "code",
   "execution_count": null,
   "metadata": {
    "collapsed": false
   },
   "outputs": [],
   "source": [
    "I.plot_semi(index=Idx(45), vmin=0, vmax=0.3)   # the arguments are optional"
   ]
  },
  {
   "cell_type": "code",
   "execution_count": null,
   "metadata": {
    "collapsed": false
   },
   "outputs": [],
   "source": [
    "# get a sub-LUT from a LUT (here 2D -> 1D)\n",
    "I.sub()[Idx(90),:].plot()"
   ]
  },
  {
   "cell_type": "markdown",
   "metadata": {},
   "source": [
    "## A few examples"
   ]
  },
  {
   "cell_type": "code",
   "execution_count": null,
   "metadata": {
    "collapsed": false
   },
   "outputs": [],
   "source": [
    "# Basic Rayleigh example, no surface, full view\n",
    "fig= smartg_view(Smartg().run(wl=500., THVDEG=30., NBPHOTONS=1e9, atm=AtmAFGL('afglt')), full=True)"
   ]
  },
  {
   "cell_type": "code",
   "execution_count": null,
   "metadata": {
    "collapsed": false
   },
   "outputs": [],
   "source": [
    "# only Rayleigh with a custom grid, a customes depolarization ratio and a custom surface pressure\n",
    "fig= smartg_view(Smartg().run(wl=500., THVDEG=30., DEPO=0., NBPHOTONS=1e9,\n",
    "        atm=AtmAFGL('afglt', grid='100[75]25[5]10[0.5]0.5', P0=990.)))"
   ]
  },
  {
   "cell_type": "code",
   "execution_count": null,
   "metadata": {
    "collapsed": false
   },
   "outputs": [],
   "source": [
    "# Rayleigh + aerosols\n",
    "aer = AeroOPAC('urban', 0.4, 550.)\n",
    "pro = AtmAFGL('afglms', comp=[aer])\n",
    "fig= smartg_view(Smartg().run(wl=300., THVDEG=60., atm=pro, NBPHOTONS=1e8))"
   ]
  },
  {
   "cell_type": "code",
   "execution_count": null,
   "metadata": {
    "collapsed": false
   },
   "outputs": [],
   "source": [
    "# atmosphere + surface\n",
    "wl= 490.\n",
    "azimuth_transect = 90.\n",
    "atm_prop = AtmAFGL('afglms').calc(wl)\n",
    "fig= transect_view(Smartg().run(wl, NBPHOTONS=1e8, THVDEG=45.,\n",
    "        atm=atm_prop,\n",
    "        surf=LambSurface(ALB=0.1)), ind=Idx(azimuth_transect), QU=True, color='r')"
   ]
  },
  {
   "cell_type": "code",
   "execution_count": null,
   "metadata": {
    "collapsed": false
   },
   "outputs": [],
   "source": [
    "# atmosphere + surface + océan\n",
    "# compute outputs at the surface also, view results for upwelling at 0+\n",
    "fig= smartg_view(Smartg().run(490., NBPHOTONS=1e8, THVDEG=30., OUTPUT_LAYERS=3,\n",
    "            atm=AtmAFGL('afglms'), BEER=1,\n",
    "            surf=RoughSurface(),\n",
    "            water=IOP_1(1.)), field='up (0+)', logI=True)"
   ]
  },
  {
   "cell_type": "code",
   "execution_count": null,
   "metadata": {
    "collapsed": false,
    "run_control": {
     "marked": false
    }
   },
   "outputs": [],
   "source": [
    "# surface + océan \n",
    "# compute outputs at the surface also, view results for downwelling at 0-\n",
    "fig= smartg_view(Smartg().run(380., THVDEG=30., NBPHOTONS=1e8, OUTPUT_LAYERS=3,\n",
    "        surf=RoughSurface(WIND=15., NH2O=1.34),\n",
    "        water=IOP_1(0.1)), field='up (0-)')"
   ]
  },
  {
   "cell_type": "code",
   "execution_count": null,
   "metadata": {
    "collapsed": false
   },
   "outputs": [],
   "source": [
    "# océan seul (chl model)\n",
    "fig = smartg_view(Smartg().run(wl=380., THVDEG=30., water=IOP_1(0.1), NBPHOTONS=1e6))"
   ]
  },
  {
   "cell_type": "markdown",
   "metadata": {},
   "source": [
    "## Multispectral"
   ]
  },
  {
   "cell_type": "code",
   "execution_count": null,
   "metadata": {
    "collapsed": false
   },
   "outputs": [],
   "source": [
    "%%time\n",
    "# multispectral simulation\n",
    "pro = AtmAFGL('afglt',\n",
    "              grid=[100, 75, 50, 30, 20, 10, 5, 1, 0.],  # optional, otherwise use default grid\n",
    "              pfgrid=[100, 20, 0.],   # optional, otherwise use a single band 100-0\n",
    "              pfwav=[400, 500, 600], # optional, otherwise phase functions are calculated at all bands\n",
    "              comp=[AeroOPAC('maritime_clean', 0.3, 550.)])\n",
    "water = IOP_1(1., pfwav=[400, 500, 600])\n",
    "water=None\n",
    "m = Smartg().run(wl=np.linspace(400, 600, 51.),\n",
    "           THVDEG=60., NBPHOTONS=1e8,\n",
    "           atm=pro, BEER=1,\n",
    "           surf=RoughSurface(),\n",
    "           water=water)\n",
    "m['I_up (TOA)'].sub()[0,:,:].plot_polar()\n",
    "figure()\n",
    "m['I_up (TOA)'].sub()[:,Idx(60),Idx(30)].plot(fmt='o-')"
   ]
  },
  {
   "cell_type": "markdown",
   "metadata": {},
   "source": [
    "### Atmospheric profile reuse"
   ]
  },
  {
   "cell_type": "code",
   "execution_count": null,
   "metadata": {
    "collapsed": false
   },
   "outputs": [],
   "source": [
    "%%time\n",
    "m2 = Smartg().run(wl=np.linspace(400, 600, 51.),\n",
    "           THVDEG=40., NBPHOTONS=1e8,\n",
    "           atm=m, # use of precedent atmosphere computations, just run for another THVDEG\n",
    "           surf=RoughSurface(),\n",
    "           water=water)"
   ]
  },
  {
   "cell_type": "markdown",
   "metadata": {},
   "source": [
    "## Atmospheric profile"
   ]
  },
  {
   "cell_type": "code",
   "execution_count": null,
   "metadata": {
    "collapsed": false,
    "run_control": {
     "marked": false
    }
   },
   "outputs": [],
   "source": [
    "# monochromatic computation for custom aerosols\n",
    "wl = 550.\n",
    "pro = AtmAFGL('afglt',\n",
    "              comp=[AeroOPAC('urban',0.3, wl, ssa=0.98)], # set AOT to 0.3 and aerosol vertical profile to 'urban' type\n",
    "              # and set single scattering albedo of aerosols to 0.98 for each layer\n",
    "              O3 = 0.,   # scale ozone vertical column to 0 Dobson units (here no absoprtion by ozone)\n",
    "              NO2= False,# disable absorption by NO2\n",
    "              H2O= 2.,   # scale water vapour column to 2 g/cm-2\n",
    "              P0 = 980., # set sea level pressure to 980 hPa\n",
    "              tauR=0.,   # force Rayleigh optical thickness\n",
    "              grid = [100, 75, 50, 30, 20, 10, 5, 2., 1.15], # set vertical grid, surface altitude at 1.15 km\n",
    "              )\n",
    "# import aerosols scattering matrix from external text file with 5 columns:\n",
    "# angle, (P11+P12)/2, (P11-P12)/2, P33, P43\n",
    "#pro.aer.setphase('/home/did/RTC/SMART-G/validation/opt_kokha_aer_phase.dat')\n",
    "azimuth_transect = 30. \n",
    "_ = smartg_view(Smartg().run(wl=wl, THVDEG=60., atm=pro, NBPHOTONS=1e8), ind=Idx(azimuth_transect), QU=True, logI=True)"
   ]
  },
  {
   "cell_type": "markdown",
   "metadata": {},
   "source": [
    "## Band gaseous absorption using REPTRAN"
   ]
  },
  {
   "cell_type": "markdown",
   "metadata": {},
   "source": [
    "### Example 1: Computation of reflectance in MSG-SEVIRI VIS08 channel"
   ]
  },
  {
   "cell_type": "code",
   "execution_count": null,
   "metadata": {
    "collapsed": false,
    "run_control": {
     "marked": false
    },
    "scrolled": true
   },
   "outputs": [],
   "source": [
    "## REPTRAN (example 1)\n",
    "# REPTRAN k distribution file here MSG/SEVIRI solar channels\n",
    "SEVIRI_SOLAR = REPTRAN('reptran_solar_msg')\n",
    "\n",
    "## Select REPTRAN bands  and returning a REPTRAN_IBAND_LIST object (containing all necessary REPTRAN internal bands)\n",
    "# several ways of selecting bands\n",
    "# 1) selecting all bands \n",
    "ibands = SEVIRI_SOLAR.to_smartg()\n",
    "# 2) selecting one specific band\n",
    "ibands = SEVIRI_SOLAR.to_smartg(include='msg1_seviri_ch008')\n",
    "# 3) selecting all bands that contains \"msg1\" in the band name\n",
    "ibands = SEVIRI_SOLAR.to_smartg(include='msg1')\n",
    "# 4) selecting all bands whose wavelengths of internal bands satisfy the min and max conditions\n",
    "ibands = SEVIRI_SOLAR.to_smartg(lmax=700.)\n",
    "# 5) a mix of 3) and 4)\n",
    "ibands = SEVIRI_SOLAR.to_smartg(include='msg1', lmin=700., lmax=2000.)\n",
    "\n",
    "surf=RoughSurface(SUR=1, WIND=5., NH2O=1.34) \n",
    "atm=Profile('afglms', H2O=4.)\n",
    "\n",
    "# Run Smart-g for Reptran list of ibands\n",
    "m1 = Smartg().run(THVDEG=30, wl=ibands.l, NBPHOTONS=1e8, atm=atm, surf=surf, progress=False)\n",
    "\n",
    "# Postprocessing: regrouping internal bands information into real band (spectral integration)\n",
    "m1r = reduce_reptran(m1, ibands)\n",
    "\n",
    "# Plotting bands \n",
    "for i,w in enumerate(m1r.axis('Wavelength')):\n",
    "    # we use for that a subset of m1r MLUT\n",
    "    _=smartg_view(m1r.sub(d={'Wavelength':i}), ind=Idx(0.))\n",
    "    print ibands.get_names()[i]"
   ]
  },
  {
   "cell_type": "markdown",
   "metadata": {},
   "source": [
    "### Example 2: Polarized reflectance in O2A band in sun glint view with Local Estimate"
   ]
  },
  {
   "cell_type": "code",
   "execution_count": null,
   "metadata": {
    "collapsed": false
   },
   "outputs": [],
   "source": [
    "%%time\n",
    "# REPTRAN (example 2) Preparation of data\n",
    "# k distribution file, here full solar channels at coarse resolution\n",
    "SOLAR_COARSE = REPTRAN('reptran_solar_coarse')\n",
    "ibands = SOLAR_COARSE.to_smartg(lmin=757., lmax=770.) # within O2A bands\n",
    "\n",
    "surf=RoughSurface(SUR=1, WIND=5., NH2O=1.34)\n",
    "atm=Profile('afglms', P0=900., aer=AeroOPAC('continental_average',1.,764.), pfwav=[764.])\n",
    "# Evaluate reflectance in specific direction Ths=[60.] and RAA=[180.] using LE\n",
    "# dict containig directions vectors in radians and coded as float32\n",
    "le={}\n",
    "le.update(th=np.array([60.],dtype=np.float32)*np.pi/180)\n",
    "le.update(phi=np.array([180.],dtype=np.float32)*np.pi/180)\n",
    "\n",
    "Spp=Smartg()"
   ]
  },
  {
   "cell_type": "code",
   "execution_count": null,
   "metadata": {
    "collapsed": false
   },
   "outputs": [],
   "source": [
    "%%time\n",
    "# REPTRAN (example 2) Radiative Transfer (first run)\n",
    "# first run takes longer as it computes all atmospheric absoprtions\n",
    "m2 = Spp.run(THVDEG=30., wl=ibands.l, NBPHOTONS=1e6, atm=atm, surf=surf, le=le, progress=False)\n",
    "m2r = reduce_reptran(m2, ibands)"
   ]
  },
  {
   "cell_type": "code",
   "execution_count": null,
   "metadata": {
    "collapsed": false
   },
   "outputs": [],
   "source": [
    "%%time\n",
    "# REPTRAN (example 2) Radiative Transfer (other runs)\n",
    "# it goes faster a slong as atmosphere does not change\n",
    "for th0 in [0.,30.,60., 75.]:\n",
    "    m2 = Spp.run(THVDEG=th0, wl=ibands.l, NBPHOTONS=1e6, atm=atm, surf=surf, le=le, progress=False)\n",
    "    m2r = reduce_reptran(m2, ibands)\n",
    "    I=m2r['I_up (TOA)']\n",
    "    Q=m2r['Q_up (TOA)']\n",
    "    U=m2r['U_up (TOA)']\n",
    "\n",
    "    LP = (Q*Q + U*U).apply(sqrt, 'LP')\n",
    "    P = (LP/I*100).apply(abs,'DoLP')\n",
    "    LP.sub()[:,0,0].plot(fmt='.-',vmin=0, vmax=.15, label=str(th0))\n",
    "legend(loc='best')"
   ]
  },
  {
   "cell_type": "markdown",
   "metadata": {},
   "source": [
    "### Example 3: Computation of Sentinel3/OLCI spectrum"
   ]
  },
  {
   "cell_type": "code",
   "execution_count": null,
   "metadata": {
    "collapsed": false
   },
   "outputs": [],
   "source": [
    "SPP=Smartg()"
   ]
  },
  {
   "cell_type": "code",
   "execution_count": null,
   "metadata": {
    "collapsed": false
   },
   "outputs": [],
   "source": [
    "# REPTRAN k distribution file here Sentinel 3 solar channels\n",
    "SENTINEL_SOLAR = REPTRAN('reptran_solar_sentinel')\n",
    "ibands = SENTINEL_SOLAR.to_smartg(include='olci') # select OLCI bands\n",
    "\n",
    "surf=RoughSurface(SUR=3, WIND=5., NH2O=1.34) \n",
    "atm=Profile('afglms', P0=990., aer=AeroOPAC('desert',0.2, 550.), pfwav=[700.])\n",
    "water=IOP_SPM(SPM=100.) # very turbid waters\n",
    "le={}\n",
    "le.update(th=np.array([30.],dtype=np.float32)*np.pi/180)\n",
    "le.update(phi=np.array([0, 90., 180.],dtype=np.float32)*np.pi/180)\n",
    "\n",
    "# Run Smart-g for Reptran list of ibands\n",
    "m1 = reduce_reptran(SPP.run(THVDEG=60, wl=ibands.l, NBPHOTONS=1e7, le=le, \\\n",
    "                         water=water, atm=atm, surf=surf, progress=True, OUTPUT_LAYERS=3), ibands)"
   ]
  },
  {
   "cell_type": "code",
   "execution_count": null,
   "metadata": {
    "collapsed": true
   },
   "outputs": [],
   "source": [
    "# Additional runs\n",
    "# 1 no atmosphere\n",
    "surf=RoughSurface(SUR=2, WIND=5., NH2O=1.34)\n",
    "m1_ws = reduce_reptran(SPP.run(THVDEG=60, wl=ibands.l, NBPHOTONS=1e7, le=le, \\\n",
    "                         water=water, atm=None, surf=surf, progress=True, OUTPUT_LAYERS=3), ibands)\n",
    "surf=RoughSurface(SUR=1, WIND=5., NH2O=1.34) \n",
    "# 2 no ocean\n",
    "m1_as = reduce_reptran(SPP.run(THVDEG=60, wl=ibands.l, NBPHOTONS=1e7, le=le, \\\n",
    "                         water=None, atm=atm, surf=surf, progress=True), ibands)\n",
    "# just atmosphere\n",
    "m1_a = reduce_reptran(SPP.run(THVDEG=60, wl=ibands.l, NBPHOTONS=1e7, le=le, \\\n",
    "                         water=None, atm=atm, surf=None, progress=True), ibands)"
   ]
  },
  {
   "cell_type": "code",
   "execution_count": null,
   "metadata": {
    "collapsed": false
   },
   "outputs": [],
   "source": [
    "# plot the spectra in the principal plane outside glint\n",
    "m1['I_up (TOA)'].sub()[:,0,0].plot(fmt='.-',vmin=0, vmax=.3, label=r'$TOA \\uparrow$')\n",
    "m1['I_up (0+)'].sub()[:,0,0].plot(fmt='.-',vmin=0, vmax=.3,  label=r'$0^+ \\uparrow$')\n",
    "m1_ws['I_up (0+)'].sub()[:,0,0].plot(fmt='.-',vmin=0, vmax=.3,  label=r'$0^+ \\uparrow$, no atm.')\n",
    "m1_as['I_up (TOA)'].sub()[:,0,0].plot(fmt='.-',vmin=0, vmax=.3, label=r'$TOA \\uparrow$, no water')\n",
    "m1_a['I_up (TOA)'].sub()[:,0,0].plot(fmt='.-',vmin=0, vmax=.3, label=r'$TOA \\uparrow$,'+' \\n no water, no glint')\n",
    "legend()"
   ]
  },
  {
   "cell_type": "markdown",
   "metadata": {},
   "source": [
    "## Fluxes"
   ]
  },
  {
   "cell_type": "code",
   "execution_count": null,
   "metadata": {
    "collapsed": false
   },
   "outputs": [],
   "source": [
    "# Fluxes in the PAR spectral range for different levels in the ocean atmosphere system\n",
    "# SUR=3 for letting reflection and transmission at interface\n",
    "Spp=Smartg()\n",
    "surf=RoughSurface(SUR=3, WIND=10., NH2O=1.34)\n",
    "atm=AtmAFGL('afglms', H2O=4.)\n",
    "water=IOP_1(0.1, pfwav=[550.]) # Morel and Maritorena water IOPs , phase function computed only at 550. nm\n",
    "#water=None\n",
    "wl = np.linspace(400.,700.,num=11)\n",
    "# planar and spherical fluxes and OUTPUT_LAYERS=3 for intermediate output levels\n",
    "P = Spp.run(THVDEG=45., wl=wl, NBPHOTONS=1e6, atm=atm, surf=surf, water=water, BEER=1, \n",
    "                 flux='planar', OUTPUT_LAYERS=3)\n",
    "S = Spp.run(THVDEG=45., wl=wl, NBPHOTONS=1e6, atm=atm, surf=surf, water=water, BEER=1,\n",
    "                 flux='spherical', OUTPUT_LAYERS=3)\n",
    "# plot downward fluxes spectra just underwater after summing in both directions\n",
    "P['flux_down (0+)'].plot(fmt='.-',vmin=0,vmax=1.,label='down 0+ planar')\n",
    "S['flux_down (0+)'].plot(fmt='.-',vmin=0,vmax=1.,label='down 0+ spherical')\n",
    "legend(loc='best')\n",
    "# plot upward fluxes spectra just underwater after summing in both directions\n",
    "figure()\n",
    "P['flux_up (0+)'].plot(fmt='.-',vmin=0,vmax=0.05,label='up 0+ planar')\n",
    "S['flux_up (0+)'].plot(fmt='.-',vmin=0,vmax=0.05,label='up 0+ spherical')\n",
    "legend(loc='best')"
   ]
  },
  {
   "cell_type": "markdown",
   "metadata": {},
   "source": [
    "## Looping over parameters"
   ]
  },
  {
   "cell_type": "code",
   "execution_count": null,
   "metadata": {
    "collapsed": false
   },
   "outputs": [],
   "source": [
    "# loop over some wavelengths\n",
    "MLUTS = []\n",
    "Spp=Smartg()\n",
    "for aot in linspace(0, 1.5, 5):\n",
    "    M = Spp.run(THVDEG=30.,\n",
    "               wl=443., NBPHOTONS=1e7,\n",
    "               atm=AtmAFGL('afglt',comp=[AeroOPAC('desert',aot,443.)]),\n",
    "               surf=RoughSurface(WIND=5.))\n",
    "    M.set_attr('AOT', aot)\n",
    "    MLUTS.append(M)"
   ]
  },
  {
   "cell_type": "code",
   "execution_count": null,
   "metadata": {
    "collapsed": false
   },
   "outputs": [],
   "source": [
    "M = merge(MLUTS, ['AOT'], dtype=float)"
   ]
  },
  {
   "cell_type": "code",
   "execution_count": null,
   "metadata": {
    "collapsed": false
   },
   "outputs": [],
   "source": [
    "M[0].sub()[:,Idx(90),Idx(45)].plot(fmt='o-')"
   ]
  },
  {
   "cell_type": "markdown",
   "metadata": {},
   "source": [
    "## Difference between two LUTs"
   ]
  },
  {
   "cell_type": "code",
   "execution_count": null,
   "metadata": {
    "collapsed": false
   },
   "outputs": [],
   "source": [
    "# Here we compare the TOA radiance simulated with\n",
    "# plane parallel and spherical atmospheres, at 443 nm.\n",
    "results = []\n",
    "for pp in [True, False]:\n",
    "    results.append(Smartg(pp=pp).run(THVDEG=60., wl=443., NBPHOTONS=1e9,\n",
    "                          NBTHETA=20, NBPHI=20,\n",
    "                          atm=AtmAFGL('afglt')))\n",
    "    \n",
    "PP = results[0]['I_up (TOA)']\n",
    "SP = results[1]['I_up (TOA)']"
   ]
  },
  {
   "cell_type": "code",
   "execution_count": null,
   "metadata": {
    "collapsed": false
   },
   "outputs": [],
   "source": [
    "# show relative difference\n",
    "plot_polar(100.*(SP-PP)/PP, Idx(175.), fig=figure(figsize(8, 8)), vmin=-20, vmax=20)"
   ]
  },
  {
   "cell_type": "markdown",
   "metadata": {},
   "source": [
    "## Interactive simulation"
   ]
  },
  {
   "cell_type": "code",
   "execution_count": null,
   "metadata": {
    "collapsed": false,
    "scrolled": true
   },
   "outputs": [],
   "source": [
    "from IPython.html.widgets.interaction import interact, interact_manual\n",
    "\n",
    "S=Smartg()\n",
    "le={}\n",
    "le={}\n",
    "le.update(phi=np.array([0.]),dtype=np.float32)\n",
    "le.update(th=np.array([60.])*np.pi/180,dtype=np.float32)\n",
    "\n",
    "def simulate(thvdeg, surface, aerosol_model, aot550):\n",
    "    surf = {True:RoughSurface(), False:None}[surface]\n",
    "    aer = AeroOPAC(aerosol_model, aot550, 550.)\n",
    "    print 'TOA Intensity : %.5f'%S.run(THVDEG=thvdeg,\n",
    "             wl=[443.], NBPHOTONS=1e5,le=le,\n",
    "             atm=AtmAFGL('afglt', comp=[aer]), surf=surf, OUTPUT_LAYERS=3, progress=False\n",
    "          )['I_up (TOA)'].data\n",
    "\n",
    "interact_manual(simulate, thvdeg=(0, 90), surface=True,\n",
    "                aerosol_model= AeroOPAC('desert', 0.1, 550.).list(), aot550=(0.001, 5., 0.01)\n",
    "                )"
   ]
  }
 ],
 "metadata": {
  "anaconda-cloud": {},
  "hide_input": false,
  "kernelspec": {
   "display_name": "Python [default]",
   "language": "python",
   "name": "python2"
  },
  "language_info": {
   "codemirror_mode": {
    "name": "ipython",
    "version": 2
   },
   "file_extension": ".py",
   "mimetype": "text/x-python",
   "name": "python",
   "nbconvert_exporter": "python",
   "pygments_lexer": "ipython2",
   "version": "2.7.12"
  },
  "toc": {
   "toc_cell": false,
   "toc_number_sections": true,
   "toc_threshold": 4,
   "toc_window_display": true
  },
  "widgets": {
   "state": {
    "07e9bb0b6b2341bf833e1f84977782af": {
     "views": [
      {
       "cell_index": 20
      }
     ]
    },
    "200d373a37064386997774b74ec09aa5": {
     "views": [
      {
       "cell_index": 16
      }
     ]
    },
    "3d8033f8e9424940a8334fcd23a74733": {
     "views": [
      {
       "cell_index": 43
      }
     ]
    },
    "422bfb6019d14ea485fa1828e27fb317": {
     "views": [
      {
       "cell_index": 27
      }
     ]
    },
    "4519c17b8fcd488da84f31e0fac1474f": {
     "views": [
      {
       "cell_index": 43
      }
     ]
    },
    "472ad5680dbe4d1989e00f3b8cc5fe68": {
     "views": [
      {
       "cell_index": 25
      }
     ]
    },
    "4f7ceacffdcc4cb4bc6947c5e6ca1993": {
     "views": [
      {
       "cell_index": 17
      }
     ]
    },
    "4ff049601abd43a9862f3d45b76a0e86": {
     "views": [
      {
       "cell_index": 21
      }
     ]
    },
    "68cdb2d6dffc4eadb7f9fb7c9803d25b": {
     "views": [
      {
       "cell_index": 47
      }
     ]
    },
    "7dfc3047c2604c7d9b06b89712a6caa5": {
     "views": [
      {
       "cell_index": 19
      }
     ]
    },
    "83a5b23c0ba442a6a6384438d5f5df2f": {
     "views": [
      {
       "cell_index": 43
      }
     ]
    },
    "8dafcc5754aa4dea8f8f938976e1c877": {
     "views": [
      {
       "cell_index": 50
      }
     ]
    },
    "9af6749ae2074587a7ad6014415c997f": {
     "views": [
      {
       "cell_index": 23
      }
     ]
    },
    "ace46e2d21074f0fb3fd9805ccc24592": {
     "views": [
      {
       "cell_index": 18
      }
     ]
    },
    "b06cb553542a48f58a5d7fafbde71e57": {
     "views": [
      {
       "cell_index": 3
      }
     ]
    },
    "bad801c201534e93a60026b2d2ed00bc": {
     "views": [
      {
       "cell_index": 43
      }
     ]
    },
    "cb828083d5fd408fbd023b73e7423c7f": {
     "views": [
      {
       "cell_index": 43
      }
     ]
    },
    "e5cb24272c3e4de7b1da09258b7e361e": {
     "views": [
      {
       "cell_index": 15
      }
     ]
    },
    "e844860d22954c83b14c2de1d8d460be": {
     "views": [
      {
       "cell_index": 47
      }
     ]
    }
   },
   "version": "1.2.0"
  }
 },
 "nbformat": 4,
 "nbformat_minor": 0
}
