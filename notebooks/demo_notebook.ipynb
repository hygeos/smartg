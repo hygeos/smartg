{
 "cells": [
  {
   "cell_type": "markdown",
   "metadata": {},
   "source": [
    "# Smart-G demo notebook\n",
    "\n",
    "This is an interactive document allowing to run Smart-G with python and visualize the results. <br>\n",
    "*Tips*: cells can be executed with shift-enter. Tooltips can be obtained with shift-tab. More information [here](http://ipython.org/notebook.html) or in the help menu. [A table of content can also be added](https://github.com/minrk/ipython_extensions#table-of-contents)."
   ]
  },
  {
   "cell_type": "code",
   "execution_count": null,
   "metadata": {
    "collapsed": false,
    "scrolled": false
   },
   "outputs": [],
   "source": [
    "%pylab inline\n",
    "# next 2 lines allow to automatically reload modules that have been changed externally\n",
    "%reload_ext autoreload\n",
    "%autoreload 2\n",
    "import sys\n",
    "sys.path.append('..')\n",
    "from smartg import Smartg\n",
    "from smartg import RoughSurface, LambSurface, FlatSurface, Environment\n",
    "from atmosphere import AtmAFGL, AeroOPAC, CloudOPAC, diff1, read_phase\n",
    "from water import IOP_1\n",
    "from reptran import REPTRAN, reduce_reptran\n",
    "from tools.tools import SpherIrr, Irr, reduce_Irr\n",
    "from tools.luts import LUT, MLUT, Idx, merge, read_lut_hdf, read_mlut\n",
    "from tools.smartg_view import plot_polar, smartg_view, input_view, mdesc, transect_view\n",
    "from ipywidgets import interact, interact_manual\n",
    "from matplotlib import colors\n",
    "colors_ = list(six.iteritems(colors.cnames))"
   ]
  },
  {
   "cell_type": "markdown",
   "metadata": {},
   "source": [
    "# Quick Start"
   ]
  },
  {
   "cell_type": "markdown",
   "metadata": {},
   "source": [
    "## Run your first simulation"
   ]
  },
  {
   "cell_type": "code",
   "execution_count": null,
   "metadata": {
    "collapsed": false,
    "scrolled": false
   },
   "outputs": [],
   "source": [
    "# run SMART-G\n",
    "# this simulation uses an AFGL tropical atmosphere without aerosols (and absorption by Ozone and NO2)\n",
    "# and a wind roughened sea surface\n",
    "# Reflectance computation in Cone Sampling mode (default)\n",
    "m = Smartg().run(THVDEG=30, wl=500., NBPHOTONS=1e7,\n",
    "           atm=AtmAFGL('afglt'),\n",
    "           surf=RoughSurface())"
   ]
  },
  {
   "cell_type": "code",
   "execution_count": null,
   "metadata": {
    "collapsed": false
   },
   "outputs": [],
   "source": [
    "# the result is a MLUT\n",
    "m.print_info()\n",
    "# it can be written with m.save(filename)\n",
    "# and then reloaded with read_mlut_hdf(filename)"
   ]
  },
  {
   "cell_type": "markdown",
   "metadata": {},
   "source": [
    "## How to view the results"
   ]
  },
  {
   "cell_type": "code",
   "execution_count": null,
   "metadata": {
    "collapsed": false
   },
   "outputs": [],
   "source": [
    "# basic visualization\n",
    "fig = smartg_view(m)"
   ]
  },
  {
   "cell_type": "code",
   "execution_count": null,
   "metadata": {
    "collapsed": false
   },
   "outputs": [],
   "source": [
    "# access a LUT within the MLUT\n",
    "I = m['I_up (TOA)']  # or by index: m[0]\n",
    "I.desc = mdesc(I.desc) # I descriptor in math Latex format"
   ]
  },
  {
   "cell_type": "code",
   "execution_count": null,
   "metadata": {
    "collapsed": false
   },
   "outputs": [],
   "source": [
    "I.print_info()"
   ]
  },
  {
   "cell_type": "code",
   "execution_count": null,
   "metadata": {
    "collapsed": false
   },
   "outputs": [],
   "source": [
    "# access values in this LUT\n",
    "print I[5, ::5]  # by index (can be float indices to interpolate)\n",
    "print I[Idx(90.), Idx(45.)]  # or by index finding + interpolation"
   ]
  },
  {
   "cell_type": "code",
   "execution_count": null,
   "metadata": {
    "collapsed": false
   },
   "outputs": [],
   "source": [
    "# calculate polarized light\n",
    "# use operations between LUT's, and apply sqrt\n",
    "Q, U = m['Q_up (TOA)'], m['U_up (TOA)']\n",
    "LP = (Q*Q + U*U).apply(sqrt, mdesc('Lp_up (TOA)'))   # second parameter of apply sets the LUT's desc"
   ]
  },
  {
   "cell_type": "code",
   "execution_count": null,
   "metadata": {
    "collapsed": false
   },
   "outputs": [],
   "source": [
    "#Different visualizations\n",
    "LP.plot_semi()\n",
    "LP.plot()\n",
    "LP.plot_polar()"
   ]
  },
  {
   "cell_type": "code",
   "execution_count": null,
   "metadata": {
    "collapsed": false
   },
   "outputs": [],
   "source": [
    "I.plot_semi(index=Idx(45), vmin=0, vmax=0.3)   # the arguments are optional"
   ]
  },
  {
   "cell_type": "code",
   "execution_count": null,
   "metadata": {
    "collapsed": false
   },
   "outputs": [],
   "source": [
    "# get a sub-LUT from a LUT (here 2D -> 1D)\n",
    "I.sub()[Idx(90),:].plot()"
   ]
  },
  {
   "cell_type": "markdown",
   "metadata": {},
   "source": [
    "## A few examples"
   ]
  },
  {
   "cell_type": "code",
   "execution_count": null,
   "metadata": {
    "collapsed": false
   },
   "outputs": [],
   "source": [
    "# Basic Rayleigh example, no surface, full view\n",
    "fig= smartg_view(Smartg().run(wl=500., THVDEG=30., NBPHOTONS=1e9, atm=AtmAFGL('afglt')), full=True)"
   ]
  },
  {
   "cell_type": "code",
   "execution_count": null,
   "metadata": {
    "collapsed": false
   },
   "outputs": [],
   "source": [
    "# only Rayleigh with a custom grid, a customes depolarization ratio and a custom surface pressure\n",
    "fig= smartg_view(Smartg().run(wl=500., THVDEG=30., DEPO=0., NBPHOTONS=1e9,\n",
    "        atm=AtmAFGL('afglt', grid='100[75]25[5]10[0.5]0.5', P0=990.)))"
   ]
  },
  {
   "cell_type": "code",
   "execution_count": null,
   "metadata": {
    "collapsed": false
   },
   "outputs": [],
   "source": [
    "# Rayleigh + aerosols (UV)\n",
    "aer = AeroOPAC('urban', 0.4, 550.)\n",
    "pro = AtmAFGL('afglms', comp=[aer])\n",
    "fig= smartg_view(Smartg().run(wl=322., THVDEG=60., atm=pro, NBPHOTONS=1e8))"
   ]
  },
  {
   "cell_type": "code",
   "execution_count": null,
   "metadata": {
    "collapsed": false
   },
   "outputs": [],
   "source": [
    "# atmosphere + surface\n",
    "wl= 490.\n",
    "azimuth_transect = 10.\n",
    "atm_prop = AtmAFGL('afglms').calc(wl)\n",
    "fig= transect_view(Smartg().run(wl, NBPHOTONS=1e8, THVDEG=45.,\n",
    "        atm=atm_prop,\n",
    "        surf=LambSurface(ALB=0.1)), ind=Idx(azimuth_transect), QU=True, color='r')"
   ]
  },
  {
   "cell_type": "code",
   "execution_count": null,
   "metadata": {
    "collapsed": false
   },
   "outputs": [],
   "source": [
    "# atmosphere + surface + océan\n",
    "# compute outputs at the surface also, view results for upwelling at 0+\n",
    "fig= smartg_view(Smartg().run(490., NBPHOTONS=1e8, THVDEG=30., OUTPUT_LAYERS=3,\n",
    "            atm=AtmAFGL('afglms'), BEER=1,\n",
    "            surf=RoughSurface(),\n",
    "            water=IOP_1(chl=1., DEPTH=100.)), field='up (0-)', logI=True)"
   ]
  },
  {
   "cell_type": "code",
   "execution_count": null,
   "metadata": {
    "collapsed": false,
    "run_control": {
     "marked": false
    }
   },
   "outputs": [],
   "source": [
    "# surface + ocean \n",
    "# compute outputs at the surface also, view results for downwelling at 0-\n",
    "fig= smartg_view(Smartg().run(380., THVDEG=30., NBPHOTONS=1e8, OUTPUT_LAYERS=3, \n",
    "        surf=RoughSurface(WIND=15., NH2O=1.34),\n",
    "        water=IOP_1(chl=0.1, DEPTH=100)), field='up (0-)')"
   ]
  },
  {
   "cell_type": "code",
   "execution_count": null,
   "metadata": {
    "collapsed": false
   },
   "outputs": [],
   "source": [
    "# ocean seul\n",
    "fig = smartg_view(Smartg().run(wl=380., THVDEG=30., water=IOP_1(chl=0.1,DEPTH=100), NBPHOTONS=1e8))"
   ]
  },
  {
   "cell_type": "markdown",
   "metadata": {},
   "source": [
    "# Advanced use"
   ]
  },
  {
   "cell_type": "markdown",
   "metadata": {},
   "source": [
    "## Local Estimate"
   ]
  },
  {
   "cell_type": "code",
   "execution_count": null,
   "metadata": {
    "collapsed": false
   },
   "outputs": [],
   "source": [
    "%%time\n",
    "# In order to compute accurately radiances in particular directions, set the LE mode\n",
    "# 'le' keyword is a dictionnary containig directions vectors in radians and coded as float32\n",
    "le={}\n",
    "le.update(th= np.linspace(0,85, num=12)*np.pi/180)\n",
    "le.update(phi=np.linspace(0,360,num=39)*np.pi/180)\n",
    "# revisit atmosphere + surface + ocean\n",
    "# the number of photons shloud be dramatically reduces since\n",
    "# all photons particpates to the computations of all directions\n",
    "fig= smartg_view(Smartg().run(490., NBPHOTONS=1e5, THVDEG=30., OUTPUT_LAYERS=3, le=le,\n",
    "            atm=AtmAFGL('afglms'), \n",
    "            surf=RoughSurface(),\n",
    "            water=IOP_1(chl=1., DEPTH=100.)), field='up (0-)', logI=True)"
   ]
  },
  {
   "cell_type": "markdown",
   "metadata": {},
   "source": [
    "## Atmospheric profile"
   ]
  },
  {
   "cell_type": "code",
   "execution_count": null,
   "metadata": {
    "collapsed": false,
    "run_control": {
     "marked": false
    }
   },
   "outputs": [],
   "source": [
    "# monochromatic computation for custom aerosols and cloud\n",
    "wl = 550.\n",
    "# Aerosols and cloud optical properties using OPAC database as processed by the the libradtran (www.libradtran.org)\n",
    "aer = AeroOPAC( 'urban', 0.3, wl) # set AOT at the reference wavelength wl to 0.3 \n",
    "                                # and set aerosol type to 'urban'\n",
    "cld = CloudOPAC('wc.sol', 11., 2., 4. ,1., wl) # set cloud to water cloud with reff=11 mic.  \n",
    "                                # the cloud is located between 2 and 4 km, with\n",
    "                                # Optical thickness at the reference wavelength wl set to 1. \n",
    "                                                              \n",
    "pro = AtmAFGL('afglt',    # tropical atmosphere\n",
    "              comp=[aer, cld], # particles in atmosphere are a mix of aerosols and cloud            \n",
    "              O3 = 0.,   # scale ozone vertical column to 0 Dobson units (here no absoprtion by ozone)\n",
    "              NO2= False,# disable absorption by NO2\n",
    "              H2O= 2.,   # scale water vapour column to 2 g/cm-2\n",
    "              P0 = 980., # set sea level pressure to 980 hPa\n",
    "              tauR=0.1,   # force Rayleigh optical thickness\n",
    "              grid = [100, 75, 50, 30, 20, 10, 5, 2., 1.15], # set vertical grid, surface altitude at 1.15 km\n",
    "              pfgrid = [100., 10., 3., 1.15] # vertical grid for the computation of particles phase functions\n",
    "              # here 3 phases functions between 1.15 and 3, 3 and 10, and 10 to TOA\n",
    "             )\n",
    "\n",
    "azimuth_transect = 30. \n",
    "m = Smartg().run(wl=wl, THVDEG=60., atm=pro, NBPHOTONS=1e8)\n",
    "_ = smartg_view(m, ind=Idx(azimuth_transect), QU=True, logI=True)"
   ]
  },
  {
   "cell_type": "code",
   "execution_count": null,
   "metadata": {
    "collapsed": false,
    "run_control": {
     "marked": false
    }
   },
   "outputs": [],
   "source": [
    "# Input Profile and phase function description\n",
    "m.describe()\n",
    "P11 = (m['phase_atm'].sub()[:,0,:] + m['phase_atm'].sub()[:,1,:])/2.\n",
    "for k in range(3):\n",
    "    P11.sub()[k,:].apply(np.log10).plot(label='%d'%k, vmin=-2, vmax=4)\n",
    "legend()\n",
    "figure()\n",
    "m['OD_atm'].apply(np.log10).plot(swap=False, vmin=-4)\n",
    "m['OD_abs_atm'].apply(np.log10).plot(swap=False, vmin=-4)"
   ]
  },
  {
   "cell_type": "code",
   "execution_count": null,
   "metadata": {
    "collapsed": false
   },
   "outputs": [],
   "source": [
    "# Full aerosol customization\n",
    "#1) import aerosols scattering matrix from external text file with 5 columns:\n",
    "# angle, P11, P12, P33, P43\n",
    "pha=read_phase('/home/did/RTC/SMART-G/validation/opt_kokha_aer_nostandard.dat')\n",
    "# OR angle, (P11+P12)/2, (P11-P12)/2, P33, P43 (Smartg standard format)\n",
    "pha=read_phase('/home/did/RTC/SMART-G/validation/opt_kokha_aer_standard.dat', standard=True)\n",
    "\n",
    "#2) Set single scattering albedo of aerosols to 0.98 for each layer and set the aerosol phase function\n",
    "aer=AeroOPAC('maritime_clean',0.3262, wl, ssa=0.98, phase=pha)\n",
    "\n",
    "#3) build profile\n",
    "atm_custom = AtmAFGL('afglmw', comp=[aer]\n",
    "                    #4) Could also import aerosol profiles (extinction and ssa) from external files\n",
    "                    #,prof_aer= (aer_ext_valid,aer_ssa_valid)\n",
    "                    )\n",
    "\n",
    "azimuth_transect = 30. \n",
    "m = Smartg().run(wl=wl, THVDEG=60., atm=atm_custom, NBPHOTONS=1e8)\n",
    "_ = smartg_view(m, ind=Idx(azimuth_transect))"
   ]
  },
  {
   "cell_type": "markdown",
   "metadata": {},
   "source": [
    "## Multispectral"
   ]
  },
  {
   "cell_type": "markdown",
   "metadata": {},
   "source": [
    "### Independant spectral computations"
   ]
  },
  {
   "cell_type": "code",
   "execution_count": null,
   "metadata": {
    "collapsed": false
   },
   "outputs": [],
   "source": [
    "# multispectral simulation\n",
    "# computation done independently for each wavelegnth, NBPHOTONS is shared equally\n",
    "# between all wavelegths (thus Monte Carlo NOISE in the spectrum)\n",
    "# wavelengths is a list or numpy array\n",
    "wl = np.linspace(550., 570., num=11)\n",
    "\n",
    "pro = AtmAFGL('afglt',\n",
    "              pfwav=[550, 560, 570], # wavelengths for which the phase function is computed\n",
    "                                     # optional, otherwise phase functions are calculated at all bands\n",
    "                                     # nearest neighbour is then used during the RT computation\n",
    "              comp=[AeroOPAC('maritime_clean', 0.3, 550.)])\n",
    "\n",
    "# same possibility for water\n",
    "water = IOP_1(chl=1., pfwav=[500, 600, 700])\n",
    "\n",
    "m = Smartg().run(wl=wl,\n",
    "           THVDEG=60., NBPHOTONS=1e8,\n",
    "           atm=pro,\n",
    "           surf=RoughSurface(),\n",
    "           water=water)\n",
    "m['I_up (TOA)'].sub()[0,:,:].plot_polar()\n",
    "figure()\n",
    "m['I_up (TOA)'].sub()[:,Idx(60),Idx(30)].plot(fmt='o-')"
   ]
  },
  {
   "cell_type": "markdown",
   "metadata": {},
   "source": [
    "### Profiles reuse"
   ]
  },
  {
   "cell_type": "code",
   "execution_count": null,
   "metadata": {
    "collapsed": false
   },
   "outputs": [],
   "source": [
    "# once computed profiles may be re-used\n",
    "# it could save a lot of time for multi spectral coomputation\n",
    "m2 = Smartg().run(wl=wl,\n",
    "               THVDEG=40., NBPHOTONS=1e8,\n",
    "               atm=m, #water=m, # use of precedent atmosphere and water computations,\n",
    "               surf=RoughSurface())\n",
    "m2['I_up (TOA)'].sub()[:,Idx(60),Idx(30)].plot(fmt='o-')"
   ]
  },
  {
   "cell_type": "markdown",
   "metadata": {},
   "source": [
    "### Correlated spectral computations: ALIS method"
   ]
  },
  {
   "cell_type": "code",
   "execution_count": null,
   "metadata": {
    "collapsed": true
   },
   "outputs": [],
   "source": [
    "# The ALIS method is described in Emde et al., 2010, There are some restrictions and it is still in devlopment.\n",
    "# Not ready with water simulations\n",
    "# a smartg object has to be created with the alis option as a dictionary.\n",
    "# it contains one field 'nlow': the numer of wavelengths for which scattering corrections are performed\n",
    "# it should be equal to -1 for a systematic correction for all wavelengths, or any odd numer for which nlow-1 is a divisor of NW-1\n",
    "# in any case it should be < 201.\n",
    "S = Smartg(alis={'nlow':-1}, double=True)"
   ]
  },
  {
   "cell_type": "code",
   "execution_count": null,
   "metadata": {
    "collapsed": false
   },
   "outputs": [],
   "source": [
    "wl = np.linspace(550., 570., num=11)\n",
    "m3 = S.run(wl=wl,\n",
    "               THVDEG=40., NBPHOTONS=1e8,\n",
    "               atm=m,\n",
    "               surf=RoughSurface())\n",
    "m2['I_up (TOA)'].sub()[:,Idx(60),Idx(30)].plot(fmt='o-',label='independent')\n",
    "m3['I_up (TOA)'].sub()[:,Idx(60),Idx(30)].plot(fmt='r-x',label='ALIS', vmin=0.05, vmax=0.1)\n",
    "legend()"
   ]
  },
  {
   "cell_type": "markdown",
   "metadata": {},
   "source": [
    "## Absorption"
   ]
  },
  {
   "cell_type": "markdown",
   "metadata": {},
   "source": [
    "### Monochromatic absorption"
   ]
  },
  {
   "cell_type": "code",
   "execution_count": null,
   "metadata": {
    "collapsed": false
   },
   "outputs": [],
   "source": [
    "# standard gaseous absorption with ozone and NO2\n",
    "# we use the single scattering albedo (ssa) method for computing absorption (BEER=0)\n",
    "# this is the default method\n",
    "atm = AtmAFGL('afglms', O3=300., NO2=True\n",
    "             # optionally import gaseous absorption vertical profile\n",
    "             #,prof_abs= gas_profile\n",
    "              )\n",
    "_ = smartg_view(Smartg().run(THVDEG=60., wl=550., NBPHOTONS=1e8, atm=atm, BEER=0))\n",
    "# we can also use the equivalent theorem (Beer Lambert law) method for computing absorption (BEER=1)\n",
    "_ = smartg_view(Smartg().run(THVDEG=60., wl=550., NBPHOTONS=1e8, atm=atm, BEER=1))"
   ]
  },
  {
   "cell_type": "markdown",
   "metadata": {},
   "source": [
    "### Band gaseous absorption using REPTRAN\n",
    "<br> REPTRAN is described in Gasteiger et al., 2014 and the data is available at www.libradtran.org"
   ]
  },
  {
   "cell_type": "markdown",
   "metadata": {},
   "source": [
    "#### Example 1: Computation of reflectance in MSG-SEVIRI VIS08 channel"
   ]
  },
  {
   "cell_type": "code",
   "execution_count": null,
   "metadata": {
    "collapsed": false,
    "run_control": {
     "marked": false
    },
    "scrolled": true
   },
   "outputs": [],
   "source": [
    "# REPTRAN k distribution file here MSG/SEVIRI solar channels\n",
    "SEVIRI_SOLAR = REPTRAN('reptran_solar_msg')\n",
    "\n",
    "# several ways of selecting bands\n",
    "# 1) selecting all bands \n",
    "ibands = SEVIRI_SOLAR.to_smartg()\n",
    "# 2) selecting one specific band\n",
    "ibands = SEVIRI_SOLAR.to_smartg(include='msg1_seviri_ch008')\n",
    "# 3) selecting all bands that contains \"msg1\" in the band name\n",
    "ibands = SEVIRI_SOLAR.to_smartg(include='msg1')\n",
    "# 4) selecting all bands whose wavelengths of internal bands satisfy the min and max conditions\n",
    "ibands = SEVIRI_SOLAR.to_smartg(lmax=700.)\n",
    "# 5) a mix of 3) and 4)\n",
    "ibands = SEVIRI_SOLAR.to_smartg(include='msg1', lmin=600., lmax=1000.)\n",
    "\n",
    "surf= RoughSurface(SUR=1, WIND=5., NH2O=1.34) \n",
    "atm = AtmAFGL('afglms', H2O=4.)\n",
    "\n",
    "# Run Smart-g for Reptran list of ibands\n",
    "m1  = Smartg().run(THVDEG=30, wl=ibands.l, NBPHOTONS=1e8, atm=atm, surf=surf, BEER=1, progress=False)\n",
    "\n",
    "# Postprocessing: regrouping internal bands information into real band (spectral integration)\n",
    "m1r = reduce_reptran(m1, ibands)\n",
    "\n",
    "# Plotting bands \n",
    "for i,w in enumerate(m1r.axis('wavelength')):\n",
    "    # we use for that a subset of m1r MLUT\n",
    "    _ = smartg_view(m1r.sub(d={'wavelength':i}), ind=Idx(0.))\n",
    "    print ibands.get_names()[i]"
   ]
  },
  {
   "cell_type": "markdown",
   "metadata": {},
   "source": [
    "#### Example 2: Polarized reflectance in O2A band in sun glint view with Local Estimate"
   ]
  },
  {
   "cell_type": "code",
   "execution_count": null,
   "metadata": {
    "collapsed": false
   },
   "outputs": [],
   "source": [
    "%%time\n",
    "# k distribution file, here full solar channels at coarse resolution\n",
    "SOLAR_COARSE = REPTRAN('reptran_solar_coarse')\n",
    "ibands = SOLAR_COARSE.to_smartg(lmin=757., lmax=770.) # within O2A bands\n",
    "\n",
    "surf=RoughSurface(SUR=1, WIND=5., NH2O=1.34)\n",
    "atm=AtmAFGL('afglms', P0=900., comp=[AeroOPAC('continental_average',1.,764.)], pfwav=[764.])\n",
    "# Evaluate reflectance in specific direction Ths=[60.] and RAA=[180.] using LE\n",
    "# dict containig directions vectors in radians and coded as float32\n",
    "le={}\n",
    "le.update(th =np.array([60.], dtype=np.float32)*np.pi/180)\n",
    "le.update(phi=np.array([180.],dtype=np.float32)*np.pi/180)\n",
    "\n",
    "Spp_mult=Smartg(double=False)"
   ]
  },
  {
   "cell_type": "code",
   "execution_count": null,
   "metadata": {
    "collapsed": false
   },
   "outputs": [],
   "source": [
    "%%time\n",
    "# Compute first atmospheric profiles at all wavelengths and phase functions for re-use\n",
    "atmbase=atm.calc(ibands.l)"
   ]
  },
  {
   "cell_type": "code",
   "execution_count": null,
   "metadata": {
    "collapsed": false
   },
   "outputs": [],
   "source": [
    "%%time\n",
    "# Several runs: it goes faster a slong as atmosphere does not change\n",
    "for col,th0 in zip(['r','g','b','k'],[0.,30.,60., 75.]):\n",
    "    # we use the single scattering albedo (ssa) method for computaing absorption (BEER=0)\n",
    "    # this is the default method\n",
    "    m2_ssa = Spp_mult.run(THVDEG=th0, wl=ibands.l, NBPHOTONS=1e5, BEER=0, atm=atmbase, surf=surf, \n",
    "                          le=le, progress=False)\n",
    "    m2r_ssa = reduce_reptran(m2_ssa, ibands)\n",
    "    I=m2r_ssa['I_up (TOA)']\n",
    "    Q=m2r_ssa['Q_up (TOA)']\n",
    "    U=m2r_ssa['U_up (TOA)']\n",
    "\n",
    "    LP = (Q*Q + U*U).apply(sqrt, 'LP')\n",
    "    P = (LP/I*100).apply(abs,'DoLP')\n",
    "    LP.sub()[:,0,0].plot(fmt='.-'+col,vmin=0, vmax=.15, label=str(th0))\n",
    "legend(loc='best')"
   ]
  },
  {
   "cell_type": "markdown",
   "metadata": {},
   "source": [
    "#### REPTRAN + ALIS"
   ]
  },
  {
   "cell_type": "code",
   "execution_count": null,
   "metadata": {
    "collapsed": false
   },
   "outputs": [],
   "source": [
    "%%time\n",
    "Spp_alis=Smartg(alis={'nlow':3}, double=False)\n",
    "# it goes faster a slong as atmosphere does not change\n",
    "for col,th0 in zip(['r','g','b','k'],[0.,30.,60., 75.]):\n",
    "    m2_alis  = Spp_alis.run(THVDEG=th0, wl=ibands.l, NBPHOTONS=1e5/37, atm=atmbase, surf=surf, le=le, progress=True)\n",
    "    m2r_alis = reduce_reptran(m2_alis, ibands)\n",
    "    I=m2r_alis['I_up (TOA)']\n",
    "    Q=m2r_alis['Q_up (TOA)']\n",
    "    U=m2r_alis['U_up (TOA)']\n",
    "\n",
    "    LP = (Q*Q + U*U).apply(sqrt, 'LP')\n",
    "    P = (LP/I*100).apply(abs,'DoLP')\n",
    "    LP.sub()[:,0,0].plot(fmt='.-'+col,vmin=0, vmax=.15, label=str(th0))\n",
    "    print m2_alis.attrs['kernel time (s)']\n",
    "legend(loc='best')"
   ]
  },
  {
   "cell_type": "markdown",
   "metadata": {},
   "source": [
    "#### Example 3: Computation of Sentinel3/OLCI spectrum"
   ]
  },
  {
   "cell_type": "code",
   "execution_count": null,
   "metadata": {
    "collapsed": false
   },
   "outputs": [],
   "source": [
    "SPP=Smartg()"
   ]
  },
  {
   "cell_type": "code",
   "execution_count": null,
   "metadata": {
    "collapsed": false
   },
   "outputs": [],
   "source": [
    "# REPTRAN k distribution file here Sentinel 3 solar channels\n",
    "SENTINEL_SOLAR = REPTRAN('reptran_solar_sentinel')\n",
    "ibands = SENTINEL_SOLAR.to_smartg(include='olci') # select OLCI bands\n",
    "\n",
    "surf=RoughSurface(SUR=3, WIND=5., NH2O=1.34) \n",
    "atm=AtmAFGL('afglms', P0=990., comp=[AeroOPAC('desert',0.2, 550.)], pfwav=[700.])\n",
    "water=IOP_1(chl=10., pfwav=[700.])\n",
    "le={}\n",
    "le.update(th=np.array([30.],dtype=np.float32)*np.pi/180)\n",
    "le.update(phi=np.array([0, 90., 180.],dtype=np.float32)*np.pi/180)\n",
    "\n",
    "# Run Smart-g for Reptran list of ibands\n",
    "m  = SPP.run(THVDEG=60, wl=ibands.l, NBPHOTONS=1e7, le=le, \\\n",
    "                         water=water, atm=atm, surf=surf, progress=True, OUTPUT_LAYERS=3)\n",
    "m1 = reduce_reptran(m, ibands)"
   ]
  },
  {
   "cell_type": "code",
   "execution_count": null,
   "metadata": {
    "collapsed": false
   },
   "outputs": [],
   "source": [
    "# Additional runs\n",
    "# 1 no atmosphere\n",
    "surf=RoughSurface(WIND=5., NH2O=1.34)\n",
    "m1_ws = reduce_reptran(SPP.run(THVDEG=60, wl=ibands.l, NBPHOTONS=1e7, le=le, \\\n",
    "                         water=m, atm=None, surf=surf, progress=True, OUTPUT_LAYERS=3), ibands)\n",
    "surf=RoughSurface(SUR=1, WIND=5., NH2O=1.34) \n",
    "# 2 no ocean\n",
    "m1_as = reduce_reptran(SPP.run(THVDEG=60, wl=ibands.l, NBPHOTONS=1e7, le=le, \\\n",
    "                         water=None, atm=m, surf=surf, progress=True), ibands)\n",
    "# just atmosphere\n",
    "m1_a = reduce_reptran(SPP.run(THVDEG=60, wl=ibands.l, NBPHOTONS=1e7, le=le, \\\n",
    "                         water=None, atm=m, surf=None, progress=True), ibands)"
   ]
  },
  {
   "cell_type": "code",
   "execution_count": null,
   "metadata": {
    "collapsed": false
   },
   "outputs": [],
   "source": [
    "# plot the spectra in the principal plane outside glint\n",
    "m1['I_up (TOA)'].sub()[:,0,0].plot(fmt='.-',vmin=0, vmax=.3, label=r'$TOA \\uparrow$')\n",
    "m1['I_up (0+)'].sub()[:,0,0].plot(fmt='.-',vmin=0, vmax=.3,  label=r'$0^+ \\uparrow$')\n",
    "m1_ws['I_up (0+)'].sub()[:,0,0].plot(fmt='.-',vmin=0, vmax=.3,  label=r'$0^+ \\uparrow$, no atm.')\n",
    "m1_as['I_up (TOA)'].sub()[:,0,0].plot(fmt='.-',vmin=0, vmax=.3, label=r'$TOA \\uparrow$, no water')\n",
    "m1_a['I_up (TOA)'].sub()[:,0,0].plot(fmt='.-',vmin=0, vmax=.3, label=r'$TOA \\uparrow$,'+' \\n no water, no glint')\n",
    "legend()"
   ]
  },
  {
   "cell_type": "markdown",
   "metadata": {},
   "source": [
    "### High Spectral Resolution gaseous absorption using HITRAN\n",
    "<br> HITRAN online API interface (HAPI) in python is used. Sources are availabe at http://hitran.org/hapi/.\n",
    "<br>R.V. Kochanov, I.E. Gordon, L.S. Rothman, P. Wcislo, C. Hill, J.S. Wilzewski, HITRAN Application Programming Interface (HAPI): A comprehensive approach to working with spectroscopic data, J. Quant. Spectrosc. Radiat. Transfer 177, 15-30 (2016)\n",
    "<br> It is recommended to use ALIS to avoid spectral MC noise"
   ]
  },
  {
   "cell_type": "markdown",
   "metadata": {},
   "source": [
    "#### Example in O2A band"
   ]
  },
  {
   "cell_type": "code",
   "execution_count": null,
   "metadata": {
    "collapsed": false
   },
   "outputs": [],
   "source": [
    "%%time\n",
    "\n",
    "# get HAPI \n",
    "#import hapi\n",
    "# alternatively use hapi_gpu module which include a GPU accelerated Voigt Profile routine\n",
    "import hapi_gpu as hapi\n",
    "\n",
    "# Initialize Local spectroscopic database\n",
    "#hapi.db_begin('data')\n",
    "\n",
    "# Set spectral interval in wavelength space\n",
    "dl= 0.01 # resolution (nm)\n",
    "lmin=759.\n",
    "lmax=769.001\n",
    "NW=int((lmax-lmin)/dl)+1\n",
    "\n",
    "\n",
    "# convert into the wavenumber space for Hitran\n",
    "vmin=1e7/lmax\n",
    "vmax=1e7/lmin\n",
    "dv=(vmax-vmin)/NW\n",
    "print 'NW: ', NW, 'dv: ', dv, ' cm-1'\n",
    "\n",
    "# Download trough internet the required spectroscopic data if necessary\n",
    "if False:\n",
    "    hapi.fetch('O2i1',7,1,vmin-100,vmax+100)\n",
    "    hapi.fetch('O2i2',7,2,vmin-100,vmax+100)\n",
    "    hapi.fetch('O2i3',7,3,vmin-100,vmax+100)\n",
    "\n",
    "# Set the vertical grid\n",
    "NL=21 # number of levels\n",
    "znew =np.linspace(100.,0.,num=NL)\n",
    "\n",
    "# define the atmosphere for absorption coefficient computation\n",
    "atm=AtmAFGL('afglmw', grid=znew, O3=0., NO2=False, pfwav=[765.])\n",
    "\n",
    "# absorption optical thickness profile array\n",
    "ao2=np.zeros((NW,NL),dtype=float)\n",
    "\n",
    "i=0\n",
    "# loop on each vertical level\n",
    "for p,t,o2,z in zip(atm.prof.P,atm.prof.T,atm.prof.dens_o2,atm.prof.z):\n",
    "\n",
    "    # get absorption coefficient and wavenumber for each level\n",
    "    #nuo2,coefo2 = hapi.absorptionCoefficient_Voigt(SourceTables=['O2i1','O2i2','O2i3'],HITRAN_units=False,\n",
    "    #    OmegaRange=[vmin,vmax],OmegaStep=dv,GammaL='gamma_self',\n",
    "    #    Environment={'p':p/1013.,'T':t})\n",
    "    \n",
    "    # alternatively use GPU accelerated Voigt Profile\n",
    "    nuo2,coefo2 = hapi.absorptionCoefficient_Voigt_gpu(SourceTables=['O2i1','O2i2','O2i3'],HITRAN_units=False,\n",
    "            OmegaRange=[vmin,vmax],OmegaStep=dv,GammaL='gamma_self',\n",
    "            Environment={'p':p/1013.,'T':t})\n",
    "    \n",
    "    ao2[:,i] = coefo2*1e5\n",
    "    i=i+1\n",
    "\n",
    "#convert the wavenumber grid (cm-1) into a wavelength grid (in nm)\n",
    "wl=1e7/nuo2  \n",
    "\n",
    "# Add absorption to the atm\n",
    "atm=AtmAFGL('afglmw', grid=znew, O3=0., NO2=False, pfwav=[765.], prof_abs=ao2)\n",
    "# Compute profiles for further use\n",
    "pro = atm.calc(wl)\n",
    "\n",
    "# build a Smartg object with ALIS\n",
    "S3=Smartg(alis={'nlow':3}, double=True)\n",
    "\n",
    "thv = [0.,30.,60., 75.]\n",
    "le={}\n",
    "le.update(th=np.array(thv)*np.pi/180)\n",
    "le.update(phi=np.array([180.])*np.pi/180)"
   ]
  },
  {
   "cell_type": "code",
   "execution_count": null,
   "metadata": {
    "collapsed": false
   },
   "outputs": [],
   "source": [
    "%%time\n",
    "m3 = S3.run(THVDEG=30., wl=wl, atm=atm, le=le, NBPHOTONS=1e7, progress=True)\n",
    "print m3.attrs['kernel time (s)']"
   ]
  },
  {
   "cell_type": "code",
   "execution_count": null,
   "metadata": {
    "collapsed": false
   },
   "outputs": [],
   "source": [
    "f=figure()\n",
    "f.set_size_inches(12,3)\n",
    "for k,(col,th) in enumerate(zip(['r','g','b','k'],thv)):\n",
    "    I=m3['I_up (TOA)'].sub()[:,0,k]\n",
    "    Q=m3['Q_up (TOA)'].sub()[:,0,k]\n",
    "    U=m3['U_up (TOA)'].sub()[:,0,k]\n",
    "\n",
    "    LP = (Q*Q + U*U).apply(sqrt, mdesc('LP_up (TOA'))\n",
    "    P = (LP/I*100).apply(abs,'DoLP')\n",
    "    LP.plot(fmt='-'+col,vmin=0, label=str(th))\n",
    "\n",
    "legend(loc='best')"
   ]
  },
  {
   "cell_type": "markdown",
   "metadata": {},
   "source": [
    "## Irradiances"
   ]
  },
  {
   "cell_type": "code",
   "execution_count": null,
   "metadata": {
    "collapsed": true
   },
   "outputs": [],
   "source": [
    "Spp=Smartg()\n",
    "surf=RoughSurface(SUR=3, WIND=10., NH2O=1.34)\n",
    "atm=AtmAFGL('afglms')\n",
    "water=IOP_1(chl=1.1, pfwav=[550.], DEPTH=100.) \n",
    "wl = np.linspace(400.,700.,num=11)\n",
    "TH0=75"
   ]
  },
  {
   "cell_type": "code",
   "execution_count": null,
   "metadata": {
    "collapsed": true
   },
   "outputs": [],
   "source": [
    "# 1) planar and spherical fluxes using the \"flux\" keyword\n",
    "# Flux are computed FAST in Cone sampling mode\n",
    "P = Spp.run(THVDEG=TH0, wl=wl, NBPHOTONS=1e7, atm=atm, surf=surf, water=water,\n",
    "                 flux='planar', OUTPUT_LAYERS=3)\n",
    "S = Spp.run(THVDEG=TH0, wl=wl, NBPHOTONS=1e7, atm=atm, surf=surf, water=water, \n",
    "                 flux='spherical', OUTPUT_LAYERS=3)\n",
    "\n",
    "# 2) fluxes could be recomputed from radiances, with care about the directional sampling\n",
    "M  = Spp.run(THVDEG=TH0, wl=wl, NBPHOTONS=1e7, atm=atm, surf=surf, water=water, OUTPUT_LAYERS=3)\n",
    "\n",
    "# directional integration for irradiances\n",
    "Mr = reduce_Irr(M)"
   ]
  },
  {
   "cell_type": "code",
   "execution_count": null,
   "metadata": {
    "collapsed": false,
    "run_control": {
     "marked": false
    }
   },
   "outputs": [],
   "source": [
    "# plot downward fluxes spectra just underwater \n",
    "P['flux_down (0-)'].plot(fmt='r.-',vmin=0,vmax=1.5,label='down 0- planar')\n",
    "S['flux_down (0-)'].plot(fmt='b.-',vmin=0,vmax=1.5,label='down 0- spherical')\n",
    "Mr['Pflux_down (0-)'].plot(fmt='rx-',vmin=0,vmax=1.5,label='down 0- planar from radiance')\n",
    "Mr['Sflux_down (0-)'].plot(fmt='bx-',vmin=0,vmax=1.5,label='down 0- spherical from radiance')\n",
    "legend(loc='best')\n",
    "# plot upward fluxes spectra just underwater \n",
    "figure()\n",
    "P['flux_up (0-)'].plot(fmt='r.-',vmin=0,vmax=0.3,label='up 0- planar')\n",
    "S['flux_up (0-)'].plot(fmt='b.-',vmin=0,vmax=0.3,label='up 0- spherical')\n",
    "Mr['Pflux_up (0-)'].plot(fmt='rx-',vmin=0,vmax=0.3,label='up 0- planar from radiance')\n",
    "Mr['Sflux_up (0-)'].plot(fmt='bx-',vmin=0,vmax=0.3,label='up 0- spherical from radiance')\n",
    "legend(loc='best')\n",
    "\n",
    "# 3) For the particular \"Down (0+)\" Irradiance, it contains only Diffuse component, the direct component\n",
    "# is obtained trough the 'direct transmission' field\n",
    "T = P['direct transmission']\n",
    "figure()\n",
    "P['flux_down (0+)'].plot(fmt='r.--',vmin=0,vmax=1.5,label='down 0+ diffuse planar')\n",
    "(P['flux_down (0+)']+T).plot(fmt='r.-',vmin=0,vmax=1.5,label='down 0+ total planar')\n",
    "S['flux_down (0+)'].plot(fmt='b.--',vmin=0,vmax=1.5,label='down 0+ diffuse spherical')\n",
    "(S['flux_down (0+)']+T).plot(fmt='b.-',vmin=0,vmax=1.5,label='down 0+ total planar')\n",
    "legend(loc='best')\n"
   ]
  },
  {
   "cell_type": "code",
   "execution_count": null,
   "metadata": {
    "collapsed": false
   },
   "outputs": [],
   "source": [
    "M['I_down (0-)'].plot()"
   ]
  },
  {
   "cell_type": "markdown",
   "metadata": {},
   "source": [
    "## Looping over parameters"
   ]
  },
  {
   "cell_type": "code",
   "execution_count": null,
   "metadata": {
    "collapsed": false
   },
   "outputs": [],
   "source": [
    "# loop over some wavelengths\n",
    "MLUTS = []\n",
    "Spp=Smartg()\n",
    "for aot in linspace(0, 1.5, 5):\n",
    "    M = Spp.run(THVDEG=30.,\n",
    "               wl=443., NBPHOTONS=1e7,\n",
    "               atm=AtmAFGL('afglt',comp=[AeroOPAC('desert',aot,443.)]),\n",
    "               surf=RoughSurface(WIND=5.))\n",
    "    M.set_attr('AOT', aot) # to define a new axis 'aot' later\n",
    "    MLUTS.append(M)"
   ]
  },
  {
   "cell_type": "code",
   "execution_count": null,
   "metadata": {
    "collapsed": false
   },
   "outputs": [],
   "source": [
    "#Merge all previous looped MLUTs into a single one\n",
    "M = merge(MLUTS, ['AOT'], dtype=float)\n",
    "M.describe()"
   ]
  },
  {
   "cell_type": "code",
   "execution_count": null,
   "metadata": {
    "collapsed": false
   },
   "outputs": [],
   "source": [
    "M[0].sub()[:,Idx(90),Idx(45)].plot(fmt='o-')"
   ]
  },
  {
   "cell_type": "markdown",
   "metadata": {},
   "source": [
    "## Difference between two LUTs"
   ]
  },
  {
   "cell_type": "code",
   "execution_count": null,
   "metadata": {
    "collapsed": false
   },
   "outputs": [],
   "source": [
    "# Here we compare the TOA radiance simulated with\n",
    "# plane parallel and spherical atmospheres, at 443 nm.\n",
    "results = []\n",
    "for pp in [True, False]:\n",
    "    results.append(Smartg(pp=pp).run(THVDEG=60., wl=443., NBPHOTONS=1e9,\n",
    "                          NBTHETA=20, NBPHI=20,\n",
    "                          atm=AtmAFGL('afglt')))\n",
    "    \n",
    "PP = results[0]['I_up (TOA)']\n",
    "SP = results[1]['I_up (TOA)']"
   ]
  },
  {
   "cell_type": "code",
   "execution_count": null,
   "metadata": {
    "collapsed": false
   },
   "outputs": [],
   "source": [
    "# show relative difference\n",
    "plot_polar(100.*(SP-PP)/PP, Idx(175.), fig=figure(figsize(8, 8)), vmin=-20, vmax=20)"
   ]
  },
  {
   "cell_type": "markdown",
   "metadata": {},
   "source": [
    "## Interactive simulation"
   ]
  },
  {
   "cell_type": "code",
   "execution_count": null,
   "metadata": {
    "collapsed": false,
    "scrolled": true
   },
   "outputs": [],
   "source": [
    "from IPython.html.widgets.interaction import interact, interact_manual\n",
    "\n",
    "S=Smartg()\n",
    "le={}\n",
    "le={}\n",
    "le.update(phi=np.array([0.]),dtype=np.float32)\n",
    "le.update(th=np.array([60.])*np.pi/180,dtype=np.float32)\n",
    "\n",
    "def simulate(thvdeg, surface, aerosol_model, aot550):\n",
    "    surf = {True:RoughSurface(), False:None}[surface]\n",
    "    aer = AeroOPAC(aerosol_model, aot550, 550.)\n",
    "    print 'TOA Intensity : %.5f'%S.run(THVDEG=thvdeg,\n",
    "             wl=[443.], NBPHOTONS=1e5,le=le,\n",
    "             atm=AtmAFGL('afglt', comp=[aer]), surf=surf, OUTPUT_LAYERS=3, progress=False\n",
    "          )['I_up (TOA)'].data\n",
    "\n",
    "interact_manual(simulate, thvdeg=(0, 90), surface=True,\n",
    "                aerosol_model= AeroOPAC('desert', 0.1, 550.).list(), aot550=(0.001, 5., 0.01)\n",
    "                )"
   ]
  }
 ],
 "metadata": {
  "anaconda-cloud": {},
  "hide_input": false,
  "kernelspec": {
   "display_name": "Python [conda env:py2v4.2]",
   "language": "python",
   "name": "conda-env-py2v4.2-py"
  },
  "language_info": {
   "codemirror_mode": {
    "name": "ipython",
    "version": 2
   },
   "file_extension": ".py",
   "mimetype": "text/x-python",
   "name": "python",
   "nbconvert_exporter": "python",
   "pygments_lexer": "ipython2",
   "version": "2.7.12"
  },
  "toc": {
   "toc_cell": false,
   "toc_number_sections": true,
   "toc_section_display": "block",
   "toc_threshold": 4,
   "toc_window_display": true
  },
  "toc_position": {
   "left": "1359px",
   "right": "21px",
   "top": "104px",
   "width": "300px"
  },
  "widgets": {
   "state": {
    "00f1ca7c78724a49898e86c15a8db630": {
     "views": [
      {
       "cell_index": 53
      }
     ]
    },
    "0384248c95c747c2933f14cec9920cc5": {
     "views": [
      {
       "cell_index": 60
      }
     ]
    },
    "0392f68b3c084b99b2656f31e2d8d8d6": {
     "views": [
      {
       "cell_index": 60
      }
     ]
    },
    "049b25a5dea34e24b551adf16e56add6": {
     "views": [
      {
       "cell_index": 25
      }
     ]
    },
    "056488acaa2b42f5b97a9af5e3003c42": {
     "views": [
      {
       "cell_index": 59
      }
     ]
    },
    "0c66816a971a4834a181d54ada8f9ad4": {
     "views": [
      {
       "cell_index": 59
      }
     ]
    },
    "0dae10399e754924985746a0dfc80329": {
     "views": [
      {
       "cell_index": 60
      }
     ]
    },
    "0dd12f7e26a2493b9ff9fa673edf08f0": {
     "views": [
      {
       "cell_index": 62
      }
     ]
    },
    "0fb7c109cc2e4c76a80e8b90deaeae6b": {
     "views": [
      {
       "cell_index": 40
      }
     ]
    },
    "112c83dba808433caf00f923d487fee0": {
     "views": [
      {
       "cell_index": 60
      }
     ]
    },
    "11e6d28a4213453696330ce0894f28cd": {
     "views": [
      {
       "cell_index": 62
      }
     ]
    },
    "12693357721d446c8fbc4e80ece382e7": {
     "views": [
      {
       "cell_index": 59
      }
     ]
    },
    "14bf342ad6fb4e9997be3604889546f4": {
     "views": [
      {
       "cell_index": 60
      }
     ]
    },
    "180a9810e8af467eb347b6d90e3afd07": {
     "views": [
      {
       "cell_index": 61
      }
     ]
    },
    "1a9b22d124c842ad8f15bcb3d57019b0": {
     "views": [
      {
       "cell_index": 59
      }
     ]
    },
    "1ca9e6127c0944b8afea5b56722ba910": {
     "views": [
      {
       "cell_index": 59
      }
     ]
    },
    "2f939498208445e58c50485eef38e675": {
     "views": [
      {
       "cell_index": 59
      }
     ]
    },
    "32672182964047149952a238684eb701": {
     "views": [
      {
       "cell_index": 60
      }
     ]
    },
    "371497ccf614491aa8b7b90f2a9e584f": {
     "views": [
      {
       "cell_index": 60
      }
     ]
    },
    "3bb501dd0b4d4fd8ad990acb6d02c294": {
     "views": [
      {
       "cell_index": 60
      }
     ]
    },
    "3d1ab33a438a4bbab39c4f745a6a5a4a": {
     "views": [
      {
       "cell_index": 60
      }
     ]
    },
    "405631531e554f2aa49f363a83bdf17f": {
     "views": [
      {
       "cell_index": 59
      }
     ]
    },
    "445cf9a98b9641659883893a9216a109": {
     "views": [
      {
       "cell_index": 51
      }
     ]
    },
    "4561e9e35a674cb58a3919e79bcff854": {
     "views": [
      {
       "cell_index": 60
      }
     ]
    },
    "4718ac9c5b57430cbb433496a9817ce4": {
     "views": [
      {
       "cell_index": 4
      }
     ]
    },
    "48fdb73d2a274902acec38c446a7bde1": {
     "views": [
      {
       "cell_index": 60
      }
     ]
    },
    "4c6a6c3c3c73408cb0657822eb33ff3b": {
     "views": [
      {
       "cell_index": 60
      }
     ]
    },
    "4d68c90d433041c287ab8b611904e5a0": {
     "views": [
      {
       "cell_index": 60
      }
     ]
    },
    "4dc1a2ce95af4b2bb2d1a80aa264abf2": {
     "views": [
      {
       "cell_index": 59
      }
     ]
    },
    "4f0ab327f60443fda7d718b058b0e01a": {
     "views": [
      {
       "cell_index": 59
      }
     ]
    },
    "4f3b4d6517714064ae1a75186a142b5e": {
     "views": [
      {
       "cell_index": 60
      }
     ]
    },
    "4f88411fbe964fa5821f7b686b9aff78": {
     "views": [
      {
       "cell_index": 20
      }
     ]
    },
    "5341749372a341cb9ec486db83cd7d3c": {
     "views": [
      {
       "cell_index": 60
      }
     ]
    },
    "5508ecf18cad4bbb824630d1b82259c6": {
     "views": [
      {
       "cell_index": 60
      }
     ]
    },
    "59018c4a9c7e4ad0afee2de739a65da7": {
     "views": [
      {
       "cell_index": 62
      }
     ]
    },
    "5b98d295c21642559e70f803b7c60947": {
     "views": [
      {
       "cell_index": 59
      }
     ]
    },
    "62b55a55bb41494b8c2d85035e8c6596": {
     "views": [
      {
       "cell_index": 60
      }
     ]
    },
    "67ea9275335c4337a481223b830ec7a4": {
     "views": [
      {
       "cell_index": 60
      }
     ]
    },
    "6851f21ddd7641c7b58a0be474430d94": {
     "views": [
      {
       "cell_index": 62
      }
     ]
    },
    "6e7c7392d9c14072b3b2ba566727e890": {
     "views": [
      {
       "cell_index": 60
      }
     ]
    },
    "704a7a54cdf3421a96a33e3816b1cad1": {
     "views": [
      {
       "cell_index": 59
      }
     ]
    },
    "7536e0726ea741299162d16c12a64af4": {
     "views": [
      {
       "cell_index": 62
      }
     ]
    },
    "771a08eab31e4b5eae26af4ea44c0026": {
     "views": [
      {
       "cell_index": 59
      }
     ]
    },
    "7902523e071e4d6bbee79fbb9514d1c8": {
     "views": [
      {
       "cell_index": 60
      }
     ]
    },
    "7922226eae4844b7bb3080bb8b89a8fe": {
     "views": [
      {
       "cell_index": 62
      }
     ]
    },
    "7b85c6927fd04a64a5ffd485bf0cde11": {
     "views": [
      {
       "cell_index": 59
      }
     ]
    },
    "7bb2ac1452374cdd90d6149ec568b138": {
     "views": [
      {
       "cell_index": 60
      }
     ]
    },
    "7e4a65fcd2094102a5b21d8bb9ad86aa": {
     "views": [
      {
       "cell_index": 60
      }
     ]
    },
    "804aea83dc214d37b07e47a13853240e": {
     "views": [
      {
       "cell_index": 59
      }
     ]
    },
    "8073e0e1346a4a53b1a4d03cec8bec6b": {
     "views": [
      {
       "cell_index": 53
      }
     ]
    },
    "80c5872be5214df4bef2257f07e5179d": {
     "views": [
      {
       "cell_index": 32
      }
     ]
    },
    "8304b9f962694fc4975b2988fd627d64": {
     "views": [
      {
       "cell_index": 60
      }
     ]
    },
    "87e9c4fa4f5e4479be5a413c297a8388": {
     "views": [
      {
       "cell_index": 60
      }
     ]
    },
    "888127d82abe46dc8492a30ef207d540": {
     "views": [
      {
       "cell_index": 29
      }
     ]
    },
    "8b179b46b250412dbdda5084a227e63f": {
     "views": [
      {
       "cell_index": 59
      }
     ]
    },
    "8bc92e9d010343db887df1b9bd96a635": {
     "views": [
      {
       "cell_index": 62
      }
     ]
    },
    "8c1580b251044321bfad4222c1de05a2": {
     "views": [
      {
       "cell_index": 59
      }
     ]
    },
    "908536d427cc41ef812693ab1d47d52b": {
     "views": [
      {
       "cell_index": 61
      }
     ]
    },
    "91ae09572ee345b0b13c747341ff25c3": {
     "views": [
      {
       "cell_index": 62
      }
     ]
    },
    "92b1850146834caca88db7a9761349b6": {
     "views": [
      {
       "cell_index": 60
      }
     ]
    },
    "92c44f0c48a44fa38ee691481dd5a7e6": {
     "views": [
      {
       "cell_index": 62
      }
     ]
    },
    "944e95d33e4b48b38f54f8db92e213d1": {
     "views": [
      {
       "cell_index": 61
      }
     ]
    },
    "99d827c1e1104dc896d86fd3a21b2125": {
     "views": [
      {
       "cell_index": 59
      }
     ]
    },
    "9c56cc86a83a48c4a4427da9ef31ef39": {
     "views": [
      {
       "cell_index": 60
      }
     ]
    },
    "9c9f0f28086144679f96ef02bc45c084": {
     "views": [
      {
       "cell_index": 60
      }
     ]
    },
    "9fb4f3d2cdb14f6a8f60f2b27699eafc": {
     "views": [
      {
       "cell_index": 62
      }
     ]
    },
    "a185d96f12454b078c12d3eac12c8343": {
     "views": [
      {
       "cell_index": 60
      }
     ]
    },
    "a43453e4920a4992a8f070eb1f3077be": {
     "views": [
      {
       "cell_index": 60
      }
     ]
    },
    "a58978688b1f4061afbb0b661f15d312": {
     "views": [
      {
       "cell_index": 60
      }
     ]
    },
    "ab02103cad61459dbfc2af2696d7a659": {
     "views": [
      {
       "cell_index": 27
      }
     ]
    },
    "ac5bb6972a7e46628f3507e1e25818c6": {
     "views": [
      {
       "cell_index": 61
      }
     ]
    },
    "b0326099e54a42dfbe1ae3cf68e58fb8": {
     "views": [
      {
       "cell_index": 59
      }
     ]
    },
    "b03efcaf8af5487281eb062d0ec13001": {
     "views": [
      {
       "cell_index": 59
      }
     ]
    },
    "b4aaadfda0bf42faa6eb7553003541a8": {
     "views": [
      {
       "cell_index": 60
      }
     ]
    },
    "b65558f2892f4017b0e854363bce8c8b": {
     "views": [
      {
       "cell_index": 60
      }
     ]
    },
    "b8277d826ecb48b18d3db7c32626c484": {
     "views": [
      {
       "cell_index": 63
      }
     ]
    },
    "b873cce67f2d4655975c948253bb7ab7": {
     "views": [
      {
       "cell_index": 60
      }
     ]
    },
    "bb256e6945ac44b5a39c5591815aba0a": {
     "views": [
      {
       "cell_index": 60
      }
     ]
    },
    "bd5bafd62d234709a61c506c7d956751": {
     "views": [
      {
       "cell_index": 34
      }
     ]
    },
    "c1fe35747c22435494732ec64973ab0d": {
     "views": [
      {
       "cell_index": 59
      }
     ]
    },
    "c5c29de64725425e88daeaed7164174a": {
     "views": [
      {
       "cell_index": 60
      }
     ]
    },
    "c5e12aa0871d40f09055b784855632fb": {
     "views": [
      {
       "cell_index": 60
      }
     ]
    },
    "c6122131aaf44a32bd2a8c358dbea965": {
     "views": [
      {
       "cell_index": 60
      }
     ]
    },
    "c6d2c588b462480da669c0d4a0b94c00": {
     "views": [
      {
       "cell_index": 61
      }
     ]
    },
    "ca22fe733dcb4213a8cf8fcd75d69518": {
     "views": [
      {
       "cell_index": 60
      }
     ]
    },
    "d1781ab8f33a4517b593706e710fc268": {
     "views": [
      {
       "cell_index": 59
      }
     ]
    },
    "d18b5dc7c1ce40c5b32ef7ad8417f15d": {
     "views": [
      {
       "cell_index": 60
      }
     ]
    },
    "d46df9145ae34e39adca07eda73f3fc0": {
     "views": [
      {
       "cell_index": 59
      }
     ]
    },
    "d5b2ed5252154fc382a078f61a61aa65": {
     "views": [
      {
       "cell_index": 60
      }
     ]
    },
    "d5babdfbc6604240a6e11ee6fdf82fab": {
     "views": [
      {
       "cell_index": 60
      }
     ]
    },
    "d5ce4d919a474724ab104c11b983e66d": {
     "views": [
      {
       "cell_index": 60
      }
     ]
    },
    "d73aa6e3d4b249fc99b9167e85fd4ee6": {
     "views": [
      {
       "cell_index": 56
      }
     ]
    },
    "d75c98bbe2af492f83235814646f2dd7": {
     "views": [
      {
       "cell_index": 62
      }
     ]
    },
    "d8636daae11e423f9c8a71bd4acf8098": {
     "views": [
      {
       "cell_index": 60
      }
     ]
    },
    "d9905040a4d94f8fb7b5c889c136eee2": {
     "views": [
      {
       "cell_index": 60
      }
     ]
    },
    "dc73e6cb31164e4f95c24eb8280bc967": {
     "views": [
      {
       "cell_index": 60
      }
     ]
    },
    "dcd603b47f2948eaa95b69740a2aede6": {
     "views": [
      {
       "cell_index": 62
      }
     ]
    },
    "ddad3955e7ff4774ba92867875c44531": {
     "views": [
      {
       "cell_index": 60
      }
     ]
    },
    "de68e757465849eabeb2bed6c882d687": {
     "views": [
      {
       "cell_index": 53
      }
     ]
    },
    "dfd70e1fd0154e34873d5d8024d2fa52": {
     "views": [
      {
       "cell_index": 60
      }
     ]
    },
    "e1d04bd5effe4e78a2552a29199959cf": {
     "views": [
      {
       "cell_index": 60
      }
     ]
    },
    "e345625b45f24555bc7ce54fdff171fa": {
     "views": [
      {
       "cell_index": 59
      }
     ]
    },
    "e40f0484df9d4d5c898d0007a9ea1355": {
     "views": [
      {
       "cell_index": 60
      }
     ]
    },
    "e88c79e34fea4f91b8540c699a9f8261": {
     "views": [
      {
       "cell_index": 62
      }
     ]
    },
    "e9e9f48cd73d4050b223d27e6d705db5": {
     "views": [
      {
       "cell_index": 62
      }
     ]
    },
    "ea93c07845e54014afacde0a335e1f87": {
     "views": [
      {
       "cell_index": 59
      }
     ]
    },
    "eae4a4b9f8df4ce0a19e193938fb40ee": {
     "views": [
      {
       "cell_index": 60
      }
     ]
    },
    "ec3694ded8d549f5988d9a86b87e35c4": {
     "views": [
      {
       "cell_index": 52
      }
     ]
    },
    "ec9cc41eb48e4083804bdec7574b58bd": {
     "views": [
      {
       "cell_index": 62
      }
     ]
    },
    "edf466020c89476e8e86cb6959b6491f": {
     "views": [
      {
       "cell_index": 63
      }
     ]
    },
    "eef1c60b876f45dcaa34d4d33292c513": {
     "views": [
      {
       "cell_index": 60
      }
     ]
    },
    "f0f7c6eba2de42b4bc39a9ece38b0486": {
     "views": [
      {
       "cell_index": 40
      }
     ]
    },
    "f1e680af39cd4a4dbcbbd4b82396b509": {
     "views": [
      {
       "cell_index": 62
      }
     ]
    },
    "f38152b0c9b24721b696f2a338f99f9d": {
     "views": [
      {
       "cell_index": 59
      }
     ]
    },
    "f50aebe68d924d1c98fcd5c0e79b5eb2": {
     "views": [
      {
       "cell_index": 37
      }
     ]
    },
    "f6d7d9f72d2847d7aa6d2924786574eb": {
     "views": [
      {
       "cell_index": 59
      }
     ]
    },
    "f8467ea09f684736a35e391b89a88fc0": {
     "views": [
      {
       "cell_index": 62
      }
     ]
    },
    "f9b38026041f40b99a600515b6284140": {
     "views": [
      {
       "cell_index": 60
      }
     ]
    },
    "feb3fdb153ea48b0b010b000cfb3f5ce": {
     "views": [
      {
       "cell_index": 60
      }
     ]
    }
   },
   "version": "1.2.0"
  }
 },
 "nbformat": 4,
 "nbformat_minor": 0
}
