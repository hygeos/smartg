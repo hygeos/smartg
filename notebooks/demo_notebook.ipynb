{
 "cells": [
  {
   "cell_type": "markdown",
   "metadata": {},
   "source": [
    "# Smart-G demo notebook\n",
    "\n",
    "This is an interactive document allowing to run Smart-G with python and visualize the results. <br>\n",
    "*Tips*: cells can be executed with shift-enter. Tooltips can be obtained with shift-tab. More information [here](http://ipython.org/notebook.html) or in the help menu. [A table of content can also be added](https://github.com/minrk/ipython_extensions#table-of-contents)."
   ]
  },
  {
   "cell_type": "code",
   "execution_count": null,
   "metadata": {
    "ExecuteTime": {
     "end_time": "2018-03-13T17:19:33.778550Z",
     "start_time": "2018-03-13T17:19:33.093819Z"
    },
    "init_cell": true,
    "scrolled": false
   },
   "outputs": [],
   "source": [
    "%pylab inline\n",
    "# next 2 lines allow to automatically reload modules that have been changed externally\n",
    "%reload_ext autoreload\n",
    "%autoreload 2\n",
    "from __future__ import absolute_import, division, print_function\n",
    "import os, sys\n",
    "sys.path.insert(0, os.path.dirname(os.getcwd()))\n",
    "from smartg.smartg import Smartg\n",
    "from smartg.smartg import RoughSurface, LambSurface, FlatSurface, Environment, Albedo_cst\n",
    "from smartg.atmosphere import AtmAFGL, AeroOPAC, CloudOPAC, diff1, read_phase\n",
    "from smartg.water import IOP_1, IOP\n",
    "from smartg.reptran import REPTRAN, reduce_reptran\n",
    "from smartg.tools.tools import SpherIrr, Irr, reduce_Irr\n",
    "from smartg.tools.luts import LUT, MLUT, Idx, merge, read_mlut\n",
    "from smartg.tools.smartg_view import plot_polar, smartg_view, input_view, mdesc, transect_view, profile_view, phase_view\n",
    "from ipywidgets import interact, interact_manual\n",
    "from matplotlib import colors\n",
    "colors_ = list(six.iteritems(colors.cnames))"
   ]
  },
  {
   "cell_type": "markdown",
   "metadata": {},
   "source": [
    "# Quick Start"
   ]
  },
  {
   "cell_type": "markdown",
   "metadata": {},
   "source": [
    "## Run your first simulation"
   ]
  },
  {
   "cell_type": "code",
   "execution_count": null,
   "metadata": {
    "ExecuteTime": {
     "end_time": "2018-03-13T12:33:36.326483Z",
     "start_time": "2018-03-13T12:33:31.353511Z"
    },
    "scrolled": false
   },
   "outputs": [],
   "source": [
    "# run SMART-G\n",
    "# this simulation uses an AFGL tropical atmosphere without aerosols (and absorption by Ozone and NO2)\n",
    "# and a wind roughened sea surface\n",
    "# Reflectance computation in Cone Sampling mode (default)\n",
    "m = Smartg().run(THVDEG=30, wl=500., NBPHOTONS=1e8,\n",
    "           atm=AtmAFGL('afglt'),\n",
    "           surf=RoughSurface())"
   ]
  },
  {
   "cell_type": "code",
   "execution_count": null,
   "metadata": {
    "ExecuteTime": {
     "end_time": "2018-03-13T12:33:49.582737Z",
     "start_time": "2018-03-13T12:33:49.151943Z"
    }
   },
   "outputs": [],
   "source": [
    "# the result is a MLUT\n",
    "m.describe(show_attrs=True)\n",
    "# it can be written with m.save(filename)\n",
    "# and then reloaded with read_mlut(filename)"
   ]
  },
  {
   "cell_type": "markdown",
   "metadata": {},
   "source": [
    "## How to view the results"
   ]
  },
  {
   "cell_type": "code",
   "execution_count": null,
   "metadata": {
    "ExecuteTime": {
     "end_time": "2018-03-13T12:33:57.935345Z",
     "start_time": "2018-03-13T12:33:55.538009Z"
    }
   },
   "outputs": [],
   "source": [
    "# basic visualization\n",
    "fig = smartg_view(m)"
   ]
  },
  {
   "cell_type": "code",
   "execution_count": null,
   "metadata": {
    "ExecuteTime": {
     "end_time": "2018-03-13T12:33:57.992506Z",
     "start_time": "2018-03-13T12:33:57.938640Z"
    }
   },
   "outputs": [],
   "source": [
    "# access a LUT within the MLUT\n",
    "I = m['I_up (TOA)']  # or by index: m[0]\n",
    "I.desc = mdesc(I.desc) # I descriptor in math Latex format"
   ]
  },
  {
   "cell_type": "code",
   "execution_count": null,
   "metadata": {
    "ExecuteTime": {
     "end_time": "2018-03-13T12:33:58.055335Z",
     "start_time": "2018-03-13T12:33:57.995211Z"
    }
   },
   "outputs": [],
   "source": [
    "I.print_info()"
   ]
  },
  {
   "cell_type": "code",
   "execution_count": null,
   "metadata": {
    "ExecuteTime": {
     "end_time": "2018-03-13T12:33:58.189543Z",
     "start_time": "2018-03-13T12:33:58.063370Z"
    }
   },
   "outputs": [],
   "source": [
    "# access values in this LUT\n",
    "print(I[5, ::5])  # by index (can be float indices to interpolate)\n",
    "print(I[Idx(90.), Idx(45.)])  # or by index finding + interpolation"
   ]
  },
  {
   "cell_type": "code",
   "execution_count": null,
   "metadata": {
    "ExecuteTime": {
     "end_time": "2018-03-13T12:34:05.232503Z",
     "start_time": "2018-03-13T12:34:05.039166Z"
    }
   },
   "outputs": [],
   "source": [
    "# calculate polarized light\n",
    "# use operations between LUT's, and apply sqrt\n",
    "Q, U = m['Q_up (TOA)'], m['U_up (TOA)']\n",
    "LP = (Q*Q + U*U).apply(sqrt, mdesc('Lp_up (TOA)'))   # second parameter of apply sets the LUT's desc"
   ]
  },
  {
   "cell_type": "code",
   "execution_count": null,
   "metadata": {
    "ExecuteTime": {
     "end_time": "2018-03-13T12:34:08.055411Z",
     "start_time": "2018-03-13T12:34:05.366172Z"
    }
   },
   "outputs": [],
   "source": [
    "#Different visualizations\n",
    "LP.plot_semi()\n",
    "LP.plot()\n",
    "LP.plot_polar()"
   ]
  },
  {
   "cell_type": "code",
   "execution_count": null,
   "metadata": {
    "ExecuteTime": {
     "end_time": "2018-03-13T12:34:09.287224Z",
     "start_time": "2018-03-13T12:34:08.058620Z"
    },
    "run_control": {
     "marked": false
    }
   },
   "outputs": [],
   "source": [
    "I.plot_semi(index=Idx([45]), vmin=0, vmax=0.3)   # the arguments are optional"
   ]
  },
  {
   "cell_type": "code",
   "execution_count": null,
   "metadata": {
    "ExecuteTime": {
     "end_time": "2018-03-13T12:34:09.824160Z",
     "start_time": "2018-03-13T12:34:09.292620Z"
    }
   },
   "outputs": [],
   "source": [
    "# get a sub-LUT from a LUT (here 2D -> 1D)\n",
    "I.sub()[Idx(90),:].plot()"
   ]
  },
  {
   "cell_type": "markdown",
   "metadata": {},
   "source": [
    "## A few examples"
   ]
  },
  {
   "cell_type": "code",
   "execution_count": null,
   "metadata": {
    "ExecuteTime": {
     "end_time": "2018-03-13T12:34:32.656753Z",
     "start_time": "2018-03-13T12:34:13.964788Z"
    }
   },
   "outputs": [],
   "source": [
    "# Basic Rayleigh example, no surface, full view\n",
    "fig= smartg_view(Smartg(rng='CURAND_PHILOX').run(wl=500., THVDEG=30., NBPHOTONS=1e8, atm=AtmAFGL('afglt')), full=True)"
   ]
  },
  {
   "cell_type": "code",
   "execution_count": null,
   "metadata": {
    "ExecuteTime": {
     "end_time": "2018-03-13T12:34:36.506545Z",
     "start_time": "2018-03-13T12:34:32.660188Z"
    }
   },
   "outputs": [],
   "source": [
    "# only Rayleigh with a custom grid, a customes depolarization ratio and a custom surface pressure\n",
    "fig= smartg_view(Smartg().run(wl=500., THVDEG=30., DEPO=0., NBPHOTONS=1e8,\n",
    "        atm=AtmAFGL('afglt', grid='100[75]25[5]10[0.5]0.5', P0=990.)))"
   ]
  },
  {
   "cell_type": "code",
   "execution_count": null,
   "metadata": {
    "ExecuteTime": {
     "end_time": "2018-03-13T12:34:43.082887Z",
     "start_time": "2018-03-13T12:34:36.514992Z"
    }
   },
   "outputs": [],
   "source": [
    "# Rayleigh + aerosols (UV), downward radiance at the ground\n",
    "aer = AeroOPAC('urban', 0.4, 550.)\n",
    "pro = AtmAFGL('afglms', comp=[aer])\n",
    "fig= smartg_view(Smartg().run(wl=322., THVDEG=60., atm=pro, NBPHOTONS=1e8, OUTPUT_LAYERS=3), field='down (0+)')"
   ]
  },
  {
   "cell_type": "code",
   "execution_count": null,
   "metadata": {
    "ExecuteTime": {
     "end_time": "2018-03-13T12:34:50.823452Z",
     "start_time": "2018-03-13T12:34:43.085300Z"
    }
   },
   "outputs": [],
   "source": [
    "# atmosphere + surface\n",
    "wl= 490.\n",
    "azimuth_transect = 10.\n",
    "fig= smartg_view(Smartg().run(wl, NBPHOTONS=1e8, THVDEG=45.,\n",
    "        atm=pro,\n",
    "        surf=LambSurface(ALB=0.1)), ind=Idx([azimuth_transect]), QU=True)"
   ]
  },
  {
   "cell_type": "code",
   "execution_count": null,
   "metadata": {
    "ExecuteTime": {
     "end_time": "2018-03-13T12:35:08.474405Z",
     "start_time": "2018-03-13T12:34:50.825988Z"
    },
    "scrolled": false
   },
   "outputs": [],
   "source": [
    "# atmosphere + surface + océan\n",
    "atm   = AtmAFGL('afglms', O3=0., NO2=False)\n",
    "surf  = RoughSurface(WIND=5., NH2O=1.34)\n",
    "# Case I water Inherent Optical Properties depending on Chlorophyll concentration only\n",
    "water = IOP_1(chl=0.5, DEPTH=5.)\n",
    "# compute outputs at the surface and bottom of ocean also, \n",
    "# view results for upwelling and downwelling radiances\n",
    "wl = 500.\n",
    "th0= 60.\n",
    "m=Smartg().run(wl, NBPHOTONS=1e8, THVDEG=th0, OUTPUT_LAYERS=3, BEER=1,\n",
    "                atm=atm,  surf=surf, water=water)\n",
    "fields=['up (TOA)','up (0+)','up (0-)','down (0+)','down (0-)','down (B)']\n",
    "logIs =[True]*6\n",
    "for logI,field in zip(logIs,fields):\n",
    "        fig= smartg_view(m, field=field, logI=logI)"
   ]
  },
  {
   "cell_type": "code",
   "execution_count": null,
   "metadata": {
    "ExecuteTime": {
     "end_time": "2018-03-13T12:35:17.648712Z",
     "start_time": "2018-03-13T12:35:12.151201Z"
    },
    "run_control": {
     "marked": false
    }
   },
   "outputs": [],
   "source": [
    "# surface + ocean\n",
    "atm   = None\n",
    "surf  = RoughSurface(WIND=5., NH2O=1.34)\n",
    "water = IOP_1(chl=0.5, DEPTH=5.)\n",
    "# compute outputs at the surface also, view results for downwelling at bottom of ocean\n",
    "fig= smartg_view(Smartg().run(wl, NBPHOTONS=1e8, THVDEG=th0, OUTPUT_LAYERS=3, BEER=1,\n",
    "            atm=None,  surf=surf, water=water), \n",
    "            field='down (B)', logI=True)"
   ]
  },
  {
   "cell_type": "code",
   "execution_count": null,
   "metadata": {
    "ExecuteTime": {
     "end_time": "2018-03-13T12:35:21.907268Z",
     "start_time": "2018-03-13T12:35:17.651986Z"
    }
   },
   "outputs": [],
   "source": [
    "# ocean only\n",
    "atm   = None\n",
    "surf  = None\n",
    "water = IOP_1(chl=0.5, DEPTH=5.)\n",
    "# compute outputs at the surface also, view results for downwelling at bottom of ocean\n",
    "fig= smartg_view(Smartg().run(wl, NBPHOTONS=1e8, THVDEG=th0, OUTPUT_LAYERS=3, BEER=1,\n",
    "            atm=None,  surf=surf, water=water), \n",
    "            field='down (B)', logI=True)"
   ]
  },
  {
   "cell_type": "markdown",
   "metadata": {},
   "source": [
    "# Advanced use"
   ]
  },
  {
   "cell_type": "markdown",
   "metadata": {},
   "source": [
    "## Local Estimate"
   ]
  },
  {
   "cell_type": "code",
   "execution_count": null,
   "metadata": {
    "ExecuteTime": {
     "end_time": "2018-03-13T12:35:56.786282Z",
     "start_time": "2018-03-13T12:35:37.182346Z"
    }
   },
   "outputs": [],
   "source": [
    "%%time\n",
    "# In order to compute accurately radiances in particular directions, set the LE mode\n",
    "# 'le' keyword is a dictionnary containig directions vectors in radians and coded as float32\n",
    "le={}\n",
    "le.update(th = np.linspace(0,89., num=12)*np.pi/180)\n",
    "le.update(phi= np.linspace(0,360, num=19)*np.pi/180)\n",
    "# revisit atmosphere + surface + ocean\n",
    "# the number of photons should be dramatically reduces since\n",
    "# each photon participates to the computation of all directions\n",
    "wl = 500.\n",
    "th0= 60.\n",
    "m = Smartg().run(wl=wl, NBPHOTONS=1e6, THVDEG=th0, OUTPUT_LAYERS=3, le=le,\n",
    "            atm   = AtmAFGL('afglms', O3=0., NO2=False), \n",
    "            surf  = RoughSurface(WIND=5., NH2O=1.34),\n",
    "            water=IOP_1(chl=0.5, DEPTH=5.))\n",
    "\n",
    "fig= smartg_view(m, field='up (0-)', logI=True)"
   ]
  },
  {
   "cell_type": "markdown",
   "metadata": {},
   "source": [
    "## Atmospheric profile\n",
    "Aerosols and Cloud optical properties are those of OPAC. The files containing these properties have been\n",
    "generated by www.libradtran.org. <br>\n",
    "For the moment Only spherical particles are handled"
   ]
  },
  {
   "cell_type": "code",
   "execution_count": null,
   "metadata": {
    "ExecuteTime": {
     "end_time": "2018-03-13T12:36:34.279486Z",
     "start_time": "2018-03-13T12:36:26.565694Z"
    },
    "run_control": {
     "marked": false
    }
   },
   "outputs": [],
   "source": [
    "# monochromatic computation for custom aerosols and cloud\n",
    "wl = 550.\n",
    "# Aerosols and cloud optical properties using OPAC database as processed by the the libradtran (www.libradtran.org)\n",
    "aer = AeroOPAC( 'desert', 0.001, wl) # set AOT at the reference wavelength wl to 0.3 \n",
    "                                # and set aerosol type to 'desert'\n",
    "cld = CloudOPAC('wc.sol', 11., 5., 10., 1., wl) # set cloud to water cloud with reff=11 mic.  \n",
    "                                # the cloud is located between 2 and 4 km, with\n",
    "                                # Optical thickness at the reference wavelength wl set to 1. \n",
    "                                                              \n",
    "pro = AtmAFGL('afglt',    # tropical atmosphere\n",
    "              comp=[aer, cld], # particles in atmosphere are a mix of aerosols and cloud            \n",
    "              O3 = 0.,   # scale ozone vertical column to 0 Dobson units (here no absoprtion by ozone)\n",
    "              NO2= False,# disable absorption by NO2\n",
    "              H2O= 2.,   # scale water vapour column to 2 g/cm-2\n",
    "              P0 = 980., # set sea level pressure to 980 hPa\n",
    "              tauR=0.1,   # force Rayleigh optical thickness\n",
    "              grid = [100, 75, 50, 30, 20, 10, 5, 2., 1.15], # set vertical grid, surface altitude at 1.15 km\n",
    "              #pfgrid = [100., 10., 3., 1.15] # vertical grid for the computation of particles phase functions\n",
    "              # here 3 phases functions between 1.15 and 3, 3 and 10, and 10 to TOA\n",
    "              pfgrid=[100, 50, 30, 20, 10, 5, 2., 1.15]\n",
    "             )\n",
    "\n",
    "azimuth_transect = 30. \n",
    "m = Smartg().run(wl=wl, THVDEG=60., atm=pro, NBPHOTONS=1e8)\n",
    "_ = smartg_view(m, ind=Idx([azimuth_transect]), logI=True)"
   ]
  },
  {
   "cell_type": "code",
   "execution_count": null,
   "metadata": {
    "ExecuteTime": {
     "end_time": "2018-03-13T12:36:45.522165Z",
     "start_time": "2018-03-13T12:36:41.648110Z"
    }
   },
   "outputs": [],
   "source": [
    "# View inputs\n",
    "input_view(m, kind='atm')"
   ]
  },
  {
   "cell_type": "code",
   "execution_count": null,
   "metadata": {
    "ExecuteTime": {
     "end_time": "2018-03-13T12:37:33.913771Z",
     "start_time": "2018-03-13T12:37:28.716731Z"
    }
   },
   "outputs": [],
   "source": [
    "# Full aerosol customization\n",
    "#1) import aerosols scattering matrix from external text file with 5 columns:\n",
    "# angle, P11, P12, P33, P43\n",
    "pha=read_phase('/home/did/RTC/SMART-G/validation/opt_kokha_aer_nostandard.dat')\n",
    "# OR angle, (P11+P12)/2, (P11-P12)/2, P33, P43 (Smartg standard format)\n",
    "pha=read_phase('/home/did/RTC/SMART-G/validation/opt_kokha_aer_standard.dat', standard=True)\n",
    "\n",
    "#2) Set single scattering albedo of aerosols to 0.80 for each layer and set the aerosol phase function\n",
    "aer=AeroOPAC('maritime_clean',0.3262, wl, ssa=0.80, phase=pha)\n",
    "\n",
    "#3) build profile\n",
    "atm_custom = AtmAFGL('afglmw', comp=[aer]\n",
    "                    #4) Could also import aerosol profiles (extinction and ssa) from external files\n",
    "                    #,prof_aer= (aer_ext_valid,aer_ssa_valid)\n",
    "                    )\n",
    "\n",
    "azimuth_transect = 30. \n",
    "m = Smartg().run(wl=wl, THVDEG=60., atm=atm_custom, NBPHOTONS=1e8)\n",
    "_ = smartg_view(m, ind=Idx([azimuth_transect]))"
   ]
  },
  {
   "cell_type": "markdown",
   "metadata": {},
   "source": [
    "## Multispectral"
   ]
  },
  {
   "cell_type": "markdown",
   "metadata": {},
   "source": [
    "### Independant spectral computations"
   ]
  },
  {
   "cell_type": "code",
   "execution_count": null,
   "metadata": {
    "ExecuteTime": {
     "end_time": "2018-03-13T12:37:55.379260Z",
     "start_time": "2018-03-13T12:37:52.527999Z"
    }
   },
   "outputs": [],
   "source": [
    "# multispectral simulation\n",
    "# computation done independently for each wavelegnth, NBPHOTONS is shared equally\n",
    "# between all wavelegths (thus Monte Carlo NOISE in the spectrum)\n",
    "# wavelengths is a list or numpy array\n",
    "wl = np.linspace(555., 565., num=21)\n",
    "\n",
    "pro = AtmAFGL('afglt',\n",
    "              pfwav=[560.], # wavelengths for which the phase function is computed\n",
    "                                     # optional, otherwise phase functions are calculated at all bands\n",
    "                                     # nearest neighbour is then used during the RT computation\n",
    "              comp=[AeroOPAC('maritime_clean', 0.3, 550.)])\n",
    "water = None\n",
    "\n",
    "le={}\n",
    "le.update(th = np.array([0.]) *np.pi/180)\n",
    "le.update(phi= np.array([0.]) *np.pi/180)\n",
    "m = Smartg().run(wl=wl, le=le,\n",
    "           THVDEG=40., NBPHOTONS=1e7,\n",
    "           atm=pro, OUTPUT_LAYERS=3,\n",
    "           surf=RoughSurface(),\n",
    "           water=water)\n",
    "\n",
    "m['I_up (TOA)'].sub()[:,0,0].plot(fmt='o-')"
   ]
  },
  {
   "cell_type": "markdown",
   "metadata": {},
   "source": [
    "### Profiles reuse"
   ]
  },
  {
   "cell_type": "code",
   "execution_count": null,
   "metadata": {
    "ExecuteTime": {
     "end_time": "2018-03-13T12:38:06.691428Z",
     "start_time": "2018-03-13T12:38:01.811338Z"
    }
   },
   "outputs": [],
   "source": [
    "# once computed, profiles may be re-used\n",
    "# it could save a lot of time for multi spectral coomputation\n",
    "m2 = Smartg(double=True).run(wl=wl, le=le,\n",
    "           THVDEG=40., NBPHOTONS=1e8,\n",
    "           atm=pro, OUTPUT_LAYERS=0,\n",
    "           surf=RoughSurface())\n",
    "m2['I_up (TOA)'].sub()[:,0,0].plot(fmt='o-')"
   ]
  },
  {
   "cell_type": "markdown",
   "metadata": {},
   "source": [
    "### Correlated spectral computations: ALIS method <br>\n",
    "Still in development.\n",
    "Not ready with water simulations"
   ]
  },
  {
   "cell_type": "code",
   "execution_count": null,
   "metadata": {
    "ExecuteTime": {
     "end_time": "2018-03-13T12:38:11.306477Z",
     "start_time": "2018-03-13T12:38:10.750482Z"
    }
   },
   "outputs": [],
   "source": [
    "# The ALIS method is described in Emde et al., 2010, There are some restrictions (see paper) \n",
    "# a smartg object has to be created with the alis option as a dictionary.\n",
    "# it contains one field 'nlow': the numer of wavelengths for which scattering corrections are performed\n",
    "# it should be equal to -1 for a systematic correction for all wavelengths, or any odd numer for which nlow-1 is a divisor of NW-1\n",
    "# in any case it should be < 201.\n",
    "S = Smartg(alis={'nlow':-1}, double=True)"
   ]
  },
  {
   "cell_type": "code",
   "execution_count": null,
   "metadata": {
    "ExecuteTime": {
     "end_time": "2018-03-13T12:38:42.765889Z",
     "start_time": "2018-03-13T12:38:35.925105Z"
    }
   },
   "outputs": [],
   "source": [
    "le={}\n",
    "le.update(th = np.array([0.]) *np.pi/180)\n",
    "le.update(phi= np.array([0.]) *np.pi/180)\n",
    "m3 = S.run(wl=wl, le=le,\n",
    "           THVDEG=40., NBPHOTONS=1e8,\n",
    "           atm=pro,OUTPUT_LAYERS=0,\n",
    "           surf=RoughSurface())\n",
    "m2['I_up (TOA)'].sub()[:,0,0].plot(fmt='o-').plot(fmt='o-', label='independent')\n",
    "m3['I_up (TOA)'].sub()[:,0,0].plot(fmt='r-x', label='ALIS', vmin=0.0545, vmax=0.0590)\n",
    "legend()"
   ]
  },
  {
   "cell_type": "markdown",
   "metadata": {},
   "source": [
    "## Water profile\n",
    "Full profile customization"
   ]
  },
  {
   "cell_type": "code",
   "execution_count": null,
   "metadata": {
    "ExecuteTime": {
     "end_time": "2018-03-13T14:52:53.580841Z",
     "start_time": "2018-03-13T14:52:44.879090Z"
    }
   },
   "outputs": [],
   "source": [
    "wl=[390.,450.,550.]\n",
    "grid=[0., 5., 10.] # in m for water, here sea bottom at 10 m depth\n",
    "# Seafloor albedo, here grey lambertian reflection with albedo of 0.05\n",
    "ALB=Albedo_cst(0.05)\n",
    "\n",
    "#1) Read one phase matrix for particles\n",
    "phaM=read_phase('/home/did/RTC/SMART-G/validation/opt_hydrosols.dat', kind='oc', standard=True)\n",
    "#2) Construct a LUT and fill all levels and all wavelengths with the the read phase matrix, You can of course\n",
    "# fill this LUT with several phase matrices\n",
    "pha = LUT(phaM.data[None,None,:,:],\n",
    "          names = ['wav_phase', 'z_phase'] + phaM.names,\n",
    "          axes = [np.array([\n",
    "              wl[0]]), np.array([0.])] + phaM.axes\n",
    "         )\n",
    "#3) import vertical profiles of pure water absorption and scattering coefficient, \n",
    "# particle absorption and scatering coefficient profiles (in m-1) and grid\n",
    "# with shape (N wavelengths, N levels)\n",
    "aw=np.array([[0., 0., 0.],[0.0204, 0.0092, 0.0565],[0.0204, 0.0092, 0.0565]]).T \n",
    "bw=np.array([[0., 0., 0.],[0.0134, 0.0045, 0.0019],[0.0134, 0.0045, 0.0019]]).T\n",
    "bp=np.array([[0., 0., 0.],[0.0100, 0.0100, 0.0100],[0.01, 0.01, 0.01]]).T\n",
    "water_custom = IOP(phase=pha, aw=aw, bw=bw, bp=bp, Z=grid, ALB=ALB)\n",
    "\n",
    "azimuth_transect = 30. \n",
    "m1 = Smartg().run(wl=wl, THVDEG=60.,water=water_custom, NBPHOTONS=1e8, NBPHI=24, NBTHETA=24)\n",
    "_ = smartg_view(m1, ind=Idx([azimuth_transect]),subdict={'wavelength':Idx(390.)}, Imin=0, Imax=0.1)\n",
    "_ = smartg_view(m1, ind=Idx([azimuth_transect]),subdict={'wavelength':Idx(450.)}, Imin=0, Imax=0.1)\n",
    "_ = smartg_view(m1, ind=Idx([azimuth_transect]),subdict={'wavelength':Idx(550.)}, Imin=0, Imax=0.1)"
   ]
  },
  {
   "cell_type": "code",
   "execution_count": null,
   "metadata": {
    "ExecuteTime": {
     "end_time": "2018-03-13T14:54:38.415393Z",
     "start_time": "2018-03-13T14:54:36.730543Z"
    }
   },
   "outputs": [],
   "source": [
    "fig = phase_view(m1,  kind='oc', iw=1)"
   ]
  },
  {
   "cell_type": "markdown",
   "metadata": {},
   "source": [
    "## Absorption"
   ]
  },
  {
   "cell_type": "markdown",
   "metadata": {},
   "source": [
    "### Monochromatic absorption"
   ]
  },
  {
   "cell_type": "code",
   "execution_count": null,
   "metadata": {
    "ExecuteTime": {
     "end_time": "2018-03-13T14:55:28.089016Z",
     "start_time": "2018-03-13T14:55:20.197781Z"
    }
   },
   "outputs": [],
   "source": [
    "# standard gaseous absorption with ozone and NO2\n",
    "# we use the single scattering albedo (ssa) method for computing absorption (BEER=0)\n",
    "# this is the default method\n",
    "atm = AtmAFGL('afglms', O3=300., NO2=True\n",
    "             # optionally import gaseous absorption vertical profile\n",
    "             #,prof_abs= gas_profile\n",
    "              )\n",
    "_ = smartg_view(Smartg().run(THVDEG=60., wl=550., NBPHOTONS=1e8, atm=atm, BEER=0))\n",
    "# we can also use the equivalent theorem (Beer Lambert law) method for computing absorption (BEER=1)\n",
    "_ = smartg_view(Smartg().run(THVDEG=60., wl=550., NBPHOTONS=1e8, atm=atm, BEER=1))"
   ]
  },
  {
   "cell_type": "markdown",
   "metadata": {},
   "source": [
    "### Band gaseous absorption using REPTRAN\n",
    "<br> REPTRAN is described in Gasteiger et al., 2014 and the data is available at www.libradtran.org <br>\n",
    "J. Gasteiger, C. Emde, B. Mayer, R. Buras, S.A. Buehler, O. Lemke, Representative wavelengths absorption parameterization applied to satellite channels and spectral bands, Journal of Quantitative Spectroscopy and Radiative Transfer, Volume 148, November 2014, Pages 99-115, ISSN 0022-4073, http://dx.doi.org/10.1016/j.jqsrt.2014.06.024."
   ]
  },
  {
   "cell_type": "markdown",
   "metadata": {},
   "source": [
    "#### Example 1: Computation of reflectance in MSG-SEVIRI VIS08 channel"
   ]
  },
  {
   "cell_type": "code",
   "execution_count": null,
   "metadata": {
    "ExecuteTime": {
     "end_time": "2018-03-13T14:55:51.720790Z",
     "start_time": "2018-03-13T14:55:44.800160Z"
    },
    "run_control": {
     "marked": false
    },
    "scrolled": false
   },
   "outputs": [],
   "source": [
    "# REPTRAN k distribution file here MSG/SEVIRI solar channels\n",
    "SEVIRI_SOLAR = REPTRAN('reptran_solar_msg')\n",
    "\n",
    "# several ways of selecting bands\n",
    "# 1) selecting all bands \n",
    "ibands = SEVIRI_SOLAR.to_smartg()\n",
    "# 2) selecting one specific band\n",
    "ibands = SEVIRI_SOLAR.to_smartg(include='msg1_seviri_ch008')\n",
    "# 3) selecting all bands that contains \"msg1\" in the band name\n",
    "ibands = SEVIRI_SOLAR.to_smartg(include='msg1')\n",
    "# 4) selecting all bands whose wavelengths of internal bands satisfy the min and max conditions\n",
    "ibands = SEVIRI_SOLAR.to_smartg(lmax=700.)\n",
    "# 5) a mix of 3) and 4)\n",
    "ibands = SEVIRI_SOLAR.to_smartg(include='msg1', lmin=600., lmax=1000.)\n",
    "# 6) note that lmin and lmax can be lists (they should have the same length)\n",
    "ibands = SEVIRI_SOLAR.to_smartg(include='msg1', lmin=[600., 1400.], lmax=[700., 2000.])\n",
    "\n",
    "surf= RoughSurface(SUR=1, WIND=5., NH2O=1.34) \n",
    "atm = AtmAFGL('afglms', H2O=4.)\n",
    "\n",
    "# Run Smart-g for Reptran list of ibands\n",
    "m1  = Smartg().run(THVDEG=30, wl=ibands.l, NBPHOTONS=1e8, atm=atm, surf=surf, BEER=1, progress=False)\n",
    "\n",
    "# Postprocessing: regrouping internal bands information into real band (spectral integration)\n",
    "m1r = reduce_reptran(m1, ibands)\n",
    "\n",
    "# Plotting bands \n",
    "for i,w in enumerate(m1r.axis('wavelength')):\n",
    "    # we use for that a subset of m1r MLUT\n",
    "    _ = smartg_view(m1r.sub(d={'wavelength':i}), ind=Idx([0.]))\n",
    "    print(ibands.get_names()[i])"
   ]
  },
  {
   "cell_type": "markdown",
   "metadata": {},
   "source": [
    "#### Example 2: Polarized reflectance in O2A band in sun glint view with Local Estimate"
   ]
  },
  {
   "cell_type": "code",
   "execution_count": null,
   "metadata": {
    "ExecuteTime": {
     "end_time": "2018-03-13T14:56:09.763265Z",
     "start_time": "2018-03-13T14:56:07.570442Z"
    }
   },
   "outputs": [],
   "source": [
    "%%time\n",
    "# k distribution file, here full solar channels at coarse resolution\n",
    "SOLAR_COARSE = REPTRAN('reptran_solar_coarse')\n",
    "ibands = SOLAR_COARSE.to_smartg(lmin=757., lmax=770.) # within O2A bands\n",
    "surf=RoughSurface(SUR=1, WIND=5., NH2O=1.34)\n",
    "atm=AtmAFGL('afglms', P0=900., comp=[AeroOPAC('continental_average',1.,764.)], pfwav=[764.])\n",
    "# Evaluate reflectance in specific direction Ths=[60.] and RAA=[180.] using LE\n",
    "# dict containig directions vectors in radians and coded as float32\n",
    "le={}\n",
    "le.update(th =np.array([60.], dtype=np.float32)*np.pi/180)\n",
    "le.update(phi=np.array([180.],dtype=np.float32)*np.pi/180)\n",
    "\n",
    "Spp_mult=Smartg(double=False)"
   ]
  },
  {
   "cell_type": "code",
   "execution_count": null,
   "metadata": {
    "ExecuteTime": {
     "end_time": "2018-03-13T14:56:14.841198Z",
     "start_time": "2018-03-13T14:56:12.379277Z"
    }
   },
   "outputs": [],
   "source": [
    "%%time\n",
    "# Compute first atmosphere profiles at all wavelengths and phase functions for re-use\n",
    "atmbase=atm.calc(ibands.l)"
   ]
  },
  {
   "cell_type": "code",
   "execution_count": null,
   "metadata": {
    "ExecuteTime": {
     "end_time": "2018-03-13T14:56:23.660171Z",
     "start_time": "2018-03-13T14:56:17.153531Z"
    }
   },
   "outputs": [],
   "source": [
    "%%time\n",
    "# Several runs: it goes faster as long as atmosphere does not change\n",
    "for col,th0 in zip(['r','g','b','k'],[0.,30.,60.,75.]):\n",
    "    # we use the single scattering albedo (ssa) method for computing absorption (BEER=0)\n",
    "    # this is the default method\n",
    "    m2_ssa = Spp_mult.run(THVDEG=th0, wl=ibands.l, NBPHOTONS=1e7, BEER=0, atm=atmbase, surf=surf, \n",
    "                          le=le, progress=False)\n",
    "    m2r_ssa = reduce_reptran(m2_ssa, ibands)\n",
    "    I=m2r_ssa['I_up (TOA)']\n",
    "    Q=m2r_ssa['Q_up (TOA)']\n",
    "    U=m2r_ssa['U_up (TOA)']\n",
    "\n",
    "    LP = (Q*Q + U*U).apply(sqrt, 'LP')\n",
    "    P = (LP/I*100).apply(abs,'DoLP')\n",
    "    LP.sub()[:,0,0].plot(fmt='.-'+col,vmin=0, vmax=0.15, label=str(th0))\n",
    "legend(loc='best')"
   ]
  },
  {
   "cell_type": "markdown",
   "metadata": {},
   "source": [
    "#### Example 3: Computation of Sentinel3/OLCI spectrum"
   ]
  },
  {
   "cell_type": "code",
   "execution_count": null,
   "metadata": {
    "ExecuteTime": {
     "end_time": "2018-03-13T14:58:19.698565Z",
     "start_time": "2018-03-13T14:58:11.555344Z"
    }
   },
   "outputs": [],
   "source": [
    "SPP=Smartg()\n",
    "\n",
    "# REPTRAN k distribution file here Sentinel 3 solar channels\n",
    "SENTINEL_SOLAR = REPTRAN('reptran_solar_sentinel')\n",
    "ibands = SENTINEL_SOLAR.to_smartg(include='olci') # select OLCI bands\n",
    "\n",
    "th0=50.\n",
    "le={}\n",
    "le.update(th=np.array([th0],dtype=np.float32)*np.pi/180)\n",
    "le.update(phi=np.array([150.],dtype=np.float32)*np.pi/180)\n",
    "atm=AtmAFGL('afglms', pfwav=[400.,700.,1000.])\n",
    "\n",
    "water=IOP_1(.1, DEPTH=50., pfwav=[400.,700.,1000.])\n",
    "surf=RoughSurface()\n",
    "\n",
    "# full simulation\n",
    "m_wsa=reduce_reptran(SPP.run(THVDEG=th0, wl=ibands.l,  le=le, atm=atm , surf=surf, water=water, BEER=1,\n",
    "             progress=True, OUTPUT_LAYERS=3, NBPHOTONS=1e7,), ibands)\n",
    "\n",
    "# just water\n",
    "m_w= reduce_reptran(SPP.run(THVDEG=th0, wl=ibands.l,  le=le,  atm=None, surf=None, water=water, BEER=1,\n",
    "             progress=True, OUTPUT_LAYERS=3, NBPHOTONS=1e7,), ibands)\n",
    "\n",
    "# just surface\n",
    "m_s= reduce_reptran(SPP.run(THVDEG=th0, wl=ibands.l,  le=le,  atm=None, surf=surf, water=None,  BEER=1,\n",
    "             progress=True, OUTPUT_LAYERS=3, NBPHOTONS=1e7,), ibands)\n",
    "\n",
    "# no atmosphere\n",
    "m_ws=reduce_reptran(SPP.run(THVDEG=th0, wl=ibands.l,  le=le,  atm=None, surf=surf, water=water, BEER=1,\n",
    "             progress=True, OUTPUT_LAYERS=3, NBPHOTONS=1e7,), ibands)"
   ]
  },
  {
   "cell_type": "markdown",
   "metadata": {},
   "source": [
    "* plots in the perspective of atmospheric corrections"
   ]
  },
  {
   "cell_type": "code",
   "execution_count": null,
   "metadata": {
    "ExecuteTime": {
     "end_time": "2018-03-13T15:01:10.364757Z",
     "start_time": "2018-03-13T15:01:09.254611Z"
    }
   },
   "outputs": [],
   "source": [
    "m_ws['I_up (0-)'].sub()[:,0,0].plot( fmt='c^-', label=r'$0^-  \\uparrow$, no atm.')\n",
    "m_ws['I_up (0+)'].sub()[:,0,0].plot( fmt='c.-', label=r'$0^+  \\uparrow$, no atm.')\n",
    "\n",
    "m_w['I_up (0-)'].sub()[:,0,0].plot( fmt='g^-', label=r'$0^-  \\uparrow$, just water')\n",
    "\n",
    "m_s['I_up (0+)'].sub()[:,0,0].plot( fmt='r.-', label=r'$0^+  \\uparrow$, just surf',)\n",
    "\n",
    "m_wsa['I_up (0-)'].sub()[:,0,0].plot( fmt='k^-', label=r'$0^-  \\uparrow$')\n",
    "m_wsa['I_up (0+)'].sub()[:,0,0].plot( fmt='k.-', label=r'$0^+  \\uparrow$')\n",
    "m_wsa['I_up (TOA)'].sub()[:,0,0].plot(fmt='kx-', label=r'$TOA \\uparrow$', vmax=0.2,vmin=0)\n",
    "legend(loc='best')"
   ]
  },
  {
   "cell_type": "markdown",
   "metadata": {},
   "source": [
    "#### S2-MSI spectral response functions"
   ]
  },
  {
   "cell_type": "code",
   "execution_count": null,
   "metadata": {
    "ExecuteTime": {
     "end_time": "2018-03-13T15:01:43.362814Z",
     "start_time": "2018-03-13T15:01:40.625548Z"
    }
   },
   "outputs": [],
   "source": [
    "import pandas as pd\n",
    "from scipy.interpolate import InterpolatedUnivariateSpline\n",
    "SRF = pd.read_excel('/home/did/RTC/SMART-G/validation/Sentinel-2A MSI Spectral Responses.xlsx',\n",
    "                   sheetname='Spectral Responses')\n",
    "w=np.array(SRF['SR_WL'])\n",
    "winf=[]\n",
    "wsup=[]\n",
    "wmedian=[]\n",
    "w_l=np.array([])\n",
    "srf_l=np.array([])\n",
    "\n",
    "for b,srf in enumerate(SRF):\n",
    "    y=np.array(SRF[srf])\n",
    "    if b!=0 :\n",
    "        # edge detection for Filter wavelength boundaries\n",
    "        # Get a function that evaluates the linear spline at any x\n",
    "        f = InterpolatedUnivariateSpline(w, y, k=1)\n",
    "        # Get a function that evaluates the derivative of the linear spline at any x\n",
    "        dfdw =  f.derivative()\n",
    "        dydw =  dfdw(w)\n",
    "\n",
    "        ok=np.where(abs(dydw)>0.0001) # detect edges for SRFs with a threshold on first derivative\n",
    "        plot(w[ok],y[ok])\n",
    "        #store boundaries of filter for further reptran, add a 2 nm margin\n",
    "        w0=w[ok[0][0]]-2\n",
    "        w1=w[ok[0][-1]]+2\n",
    "        winf.append(w0)\n",
    "        wsup.append(w1)\n",
    "        wmedian.append((w0+w1)/2.)\n",
    "print(SRF.columns.tolist()[1:])\n",
    "print(winf,wsup)"
   ]
  },
  {
   "cell_type": "code",
   "execution_count": null,
   "metadata": {
    "ExecuteTime": {
     "end_time": "2018-03-13T15:01:51.859209Z",
     "start_time": "2018-03-13T15:01:49.686266Z"
    }
   },
   "outputs": [],
   "source": [
    "SOLAR_COARSE = REPTRAN('reptran_solar_coarse')\n",
    "ibands = SOLAR_COARSE.to_smartg()\n",
    "ibands = SOLAR_COARSE.to_smartg(lmin=winf, lmax=wsup)\n",
    "atm=AtmAFGL('afglms', pfwav=[400., 800., 1200., 1600., 2200.])\n",
    "surf=RoughSurface()\n",
    "le={}\n",
    "th = np.linspace(0., 60.,  num=6, dtype=np.float32)\n",
    "phi= np.linspace(0., 180., num=9, dtype=np.float32)\n",
    "le.update(th =th *np.pi/180)\n",
    "le.update(phi=phi*np.pi/180)\n",
    "Spp_mult=Smartg(double=False)"
   ]
  },
  {
   "cell_type": "code",
   "execution_count": null,
   "metadata": {
    "ExecuteTime": {
     "end_time": "2018-03-13T15:03:25.983398Z",
     "start_time": "2018-03-13T15:01:54.207443Z"
    }
   },
   "outputs": [],
   "source": [
    "%%time\n",
    "# Compute first atmospheric profiles at all wavelengths and phase functions for re-use\n",
    "atmbase=atm.calc(ibands.l)"
   ]
  },
  {
   "cell_type": "code",
   "execution_count": null,
   "metadata": {
    "ExecuteTime": {
     "end_time": "2018-03-13T15:05:48.269421Z",
     "start_time": "2018-03-13T15:05:46.042629Z"
    }
   },
   "outputs": [],
   "source": [
    "%%time\n",
    "# Run Smart-g for Reptran list of ibands and reduce\n",
    "m  = reduce_reptran(Spp_mult.run(THVDEG=60, wl=ibands.l, NBPHOTONS=1e6, le=le, surf=surf, BEER=1, atm=atmbase), ibands)"
   ]
  },
  {
   "cell_type": "code",
   "execution_count": null,
   "metadata": {
    "ExecuteTime": {
     "end_time": "2018-03-13T15:10:36.772353Z",
     "start_time": "2018-03-13T15:10:36.138212Z"
    }
   },
   "outputs": [],
   "source": [
    "# final multiplication with SRFs\n",
    "print('--------------------------------------')\n",
    "print('REPTRAN SPECTRUM OUTPUT')\n",
    "print('--------------------------------------')\n",
    "m.describe()\n",
    "wr=m.axis('wavelength') # reptran wavelength grid\n",
    "MLUTS=[]\n",
    "for b,srf in enumerate(SRF.columns.tolist()[1:]):\n",
    "    y=np.array(SRF[srf])\n",
    "    # interpolate SRFs to reptran wavelengths\n",
    "    f = InterpolatedUnivariateSpline(w, y, k=1)\n",
    "    fr= LUT(f(wr), axes=[wr], names=['wavelength'])\n",
    "    ml = MLUT()\n",
    "    for l in m:\n",
    "        for pref in ['I_','Q_','U_','V_','transmission'] :\n",
    "            if pref in l.desc:\n",
    "                norm= fr.reduce(np.mean,'wavelength')\n",
    "                lr = (l * fr).reduce(np.mean,'wavelength', as_lut=True)/norm\n",
    "                ml.add_lut(lr, desc=l.desc )\n",
    "    ml.set_attrs(m.attrs)\n",
    "    ml.set_attr('median wavelength', wmedian[b])\n",
    "    ml.set_attr('band', b+1)\n",
    "\n",
    "    MLUTS.append(ml)\n",
    "ms2 = merge(MLUTS, ['median wavelength'])\n",
    "ms2.add_axis('band', np.arange(len(wmedian))+1)\n",
    "print('')\n",
    "print('--------------------------------------')\n",
    "print('S2 CHANNELS OUTPUT')\n",
    "print('--------------------------------------')\n",
    "ms2.describe()\n",
    "\n",
    "\n",
    "m['I_up (TOA)'].sub()[:,Idx(160),Idx(50)].plot(fmt='.',vmin=0, vmax=0.3, label=r'$TOA^\\uparrow$ : Reptran coarse')\n",
    "ms2['I_up (TOA)'].sub()[:,Idx(160),Idx(50)].plot(fmt='r^-', vmax=0.3, label=r'$TOA^\\uparrow : S2$')\n",
    "legend()"
   ]
  },
  {
   "cell_type": "code",
   "execution_count": null,
   "metadata": {
    "ExecuteTime": {
     "end_time": "2018-03-13T15:12:13.410067Z",
     "start_time": "2018-03-13T15:12:12.076326Z"
    }
   },
   "outputs": [],
   "source": [
    "for i,(b,col) in enumerate(zip(wmedian, ['r','b','g','c']*2)):\n",
    "    if i==0:\n",
    "        fig=transect_view(ms2.sub(d={'median wavelength':i}), ind=Idx(180), logI=True, color='k')    \n",
    "    _=transect_view(ms2.sub(d={'median wavelength':i}), ind=Idx(180), logI=True, fig=fig, color=col)"
   ]
  },
  {
   "cell_type": "markdown",
   "metadata": {},
   "source": [
    "### High Spectral Resolution gaseous absorption using HITRAN\n",
    "<br> HITRAN online API interface (HAPI) in python is used. Sources are availabe at http://hitran.org/hapi/.\n",
    "<br>R.V. Kochanov, I.E. Gordon, L.S. Rothman, P. Wcislo, C. Hill, J.S. Wilzewski, HITRAN Application Programming Interface (HAPI): A comprehensive approach to working with spectroscopic data, J. Quant. Spectrosc. Radiat. Transfer 177, 15-30 (2016)\n",
    "<br> It is recommended to use ALIS to avoid spectral MC noise"
   ]
  },
  {
   "cell_type": "markdown",
   "metadata": {},
   "source": [
    "#### Example in O2A band"
   ]
  },
  {
   "cell_type": "code",
   "execution_count": null,
   "metadata": {
    "ExecuteTime": {
     "end_time": "2018-03-13T15:19:31.269094Z",
     "start_time": "2018-03-13T15:19:26.362999Z"
    }
   },
   "outputs": [],
   "source": [
    "%%time\n",
    "\n",
    "# get HAPI \n",
    "#import hapi\n",
    "# alternatively use hapi_gpu module which include a GPU accelerated Voigt Profile routine\n",
    "import hapi_gpu as hapi\n",
    "\n",
    "# Initialize Local spectroscopic database\n",
    "hapi.db_begin('data')\n",
    "\n",
    "# Set spectral interval in wavelength space\n",
    "dl= 0.01 # resolution (nm)\n",
    "lmin=759.\n",
    "lmax=769.001\n",
    "NW=int((lmax-lmin)/dl)+1\n",
    "\n",
    "\n",
    "# convert into the wavenumber space for Hitran\n",
    "vmin=1e7/lmax\n",
    "vmax=1e7/lmin\n",
    "dv=(vmax-vmin)/NW\n",
    "print('NW: ', NW, 'dv: ', dv, ' cm-1')\n",
    "\n",
    "# Download trough internet the required spectroscopic data if necessary\n",
    "if False:\n",
    "    hapi.fetch('O2i1',7,1,vmin-100,vmax+100)\n",
    "    hapi.fetch('O2i2',7,2,vmin-100,vmax+100)\n",
    "    hapi.fetch('O2i3',7,3,vmin-100,vmax+100)\n",
    "\n",
    "# Set the vertical grid\n",
    "NL=21 # number of levels\n",
    "znew =np.linspace(100.,0.,num=NL)\n",
    "\n",
    "# define the atmosphere for absorption coefficient computation\n",
    "atm=AtmAFGL('afglmw', grid=znew, O3=0., NO2=False, pfwav=[765.])\n",
    "\n",
    "# absorption optical thickness profile array\n",
    "ao2=np.zeros((NW,NL),dtype=float)\n",
    "\n",
    "i=0\n",
    "# loop on each vertical level\n",
    "for p,t,o2,z in zip(atm.prof.P,atm.prof.T,atm.prof.dens_o2,atm.prof.z):\n",
    "\n",
    "    # get absorption coefficient and wavenumber for each level\n",
    "    #nuo2,coefo2 = hapi.absorptionCoefficient_Voigt(SourceTables=['O2i1','O2i2','O2i3'],HITRAN_units=True,\n",
    "    #    OmegaRange=[vmin,vmax],OmegaStep=dv,GammaL='gamma_self',\n",
    "    #    Environment={'p':p/1013.,'T':t})\n",
    "    \n",
    "    # alternatively use GPU accelerated Voigt Profile\n",
    "    nuo2,coefo2 = hapi.absorptionCoefficient_Voigt_gpu(SourceTables=['O2i1','O2i2','O2i3'],HITRAN_units=True,\n",
    "            OmegaRange=[vmin,vmax],OmegaStep=dv,GammaL='gamma_self',\n",
    "            Environment={'p':p/1013.,'T':t})\n",
    "    \n",
    "    ao2[:,i] = coefo2 * o2 * 1e5\n",
    "    i=i+1\n",
    "\n",
    "#convert the wavenumber grid (cm-1) into a wavelength grid (in nm)\n",
    "wl=1e7/nuo2[::-1]  \n",
    "\n",
    "# Add absorption to the atm\n",
    "atm=AtmAFGL('afglmw', grid=znew, O3=0., NO2=False, pfwav=[765.], prof_abs=ao2[::-1,:])\n",
    "# Compute profiles for further use\n",
    "pro = atm.calc(wl)\n",
    "\n",
    "# build a Smartg object with ALIS\n",
    "S3=Smartg(alis={'nlow':3}, double=True)\n",
    "\n",
    "thv = [0.,30.,60., 75.]\n",
    "le={}\n",
    "le.update(th=np.array(thv)*np.pi/180)\n",
    "le.update(phi=np.array([180.])*np.pi/180)"
   ]
  },
  {
   "cell_type": "code",
   "execution_count": null,
   "metadata": {
    "ExecuteTime": {
     "end_time": "2018-03-13T15:19:36.712790Z",
     "start_time": "2018-03-13T15:19:33.429127Z"
    }
   },
   "outputs": [],
   "source": [
    "%%time\n",
    "m3 = S3.run(THVDEG=30., wl=wl, atm=atm, le=le, NBPHOTONS=1e7, progress=True)\n",
    "m3.attrs['kernel time (s)']"
   ]
  },
  {
   "cell_type": "code",
   "execution_count": null,
   "metadata": {
    "ExecuteTime": {
     "end_time": "2018-03-13T15:19:40.517635Z",
     "start_time": "2018-03-13T15:19:39.913690Z"
    }
   },
   "outputs": [],
   "source": [
    "f=figure()\n",
    "f.set_size_inches(12,3)\n",
    "for k,(col,th) in enumerate(zip(['r','g','b','k'],thv)):\n",
    "    I=m3['I_up (TOA)'].sub()[:,0,k]\n",
    "    Q=m3['Q_up (TOA)'].sub()[:,0,k]\n",
    "    U=m3['U_up (TOA)'].sub()[:,0,k]\n",
    "\n",
    "    LP = (Q*Q + U*U).apply(sqrt, mdesc('LP_up (TOA)'))\n",
    "    P = (LP/I*100).apply(abs,'DoLP')\n",
    "    LP.plot(fmt='-'+col,vmin=0, label=str(th))\n",
    "\n",
    "legend(loc='best')"
   ]
  },
  {
   "cell_type": "markdown",
   "metadata": {},
   "source": [
    "## Irradiances"
   ]
  },
  {
   "cell_type": "code",
   "execution_count": null,
   "metadata": {
    "ExecuteTime": {
     "end_time": "2018-03-13T16:07:39.144974Z",
     "start_time": "2018-03-13T16:07:37.819757Z"
    }
   },
   "outputs": [],
   "source": [
    "Spp=Smartg()\n",
    "surf=RoughSurface(SUR=3, WIND=10., NH2O=1.34)\n",
    "atm=AtmAFGL('afglms')\n",
    "water=IOP_1(chl=1.1, pfwav=[550.], DEPTH=100.) \n",
    "wl = np.linspace(400.,700.,num=11)\n",
    "TH0=75"
   ]
  },
  {
   "cell_type": "code",
   "execution_count": null,
   "metadata": {
    "ExecuteTime": {
     "end_time": "2018-03-13T16:07:46.452147Z",
     "start_time": "2018-03-13T16:07:39.147560Z"
    }
   },
   "outputs": [],
   "source": [
    "# 1) planar and spherical fluxes using the \"flux\" keyword\n",
    "# Flux are computed FAST in Cone sampling mode\n",
    "P = Spp.run(THVDEG=TH0, wl=wl, NBPHOTONS=1e7, atm=atm, surf=surf, water=water,\n",
    "                 flux='planar', OUTPUT_LAYERS=3)\n",
    "S = Spp.run(THVDEG=TH0, wl=wl, NBPHOTONS=1e7, atm=atm, surf=surf, water=water, \n",
    "                 flux='spherical', OUTPUT_LAYERS=3)\n",
    "\n",
    "# 2) fluxes could be recomputed from radiances, with care about the directional sampling\n",
    "M  = Spp.run(THVDEG=TH0, wl=wl, NBPHOTONS=1e7, atm=atm, surf=surf, water=water, OUTPUT_LAYERS=3)\n",
    "\n",
    "# directional integration for irradiances\n",
    "Mr = reduce_Irr(M)"
   ]
  },
  {
   "cell_type": "code",
   "execution_count": null,
   "metadata": {
    "ExecuteTime": {
     "end_time": "2018-03-13T16:07:47.921695Z",
     "start_time": "2018-03-13T16:07:46.458981Z"
    },
    "run_control": {
     "marked": false
    }
   },
   "outputs": [],
   "source": [
    "# plot downward fluxes spectra just underwater \n",
    "P['flux_down (0-)'].plot(fmt='r.-',vmin=0,vmax=1.5,label='down 0- planar')\n",
    "S['flux_down (0-)'].plot(fmt='b.-',vmin=0,vmax=1.5,label='down 0- spherical')\n",
    "Mr['Pflux_down (0-)'].plot(fmt='rx-',vmin=0,vmax=1.5,label='down 0- planar from radiance')\n",
    "Mr['Sflux_down (0-)'].plot(fmt='bx-',vmin=0,vmax=1.5,label='down 0- spherical from radiance')\n",
    "legend(loc='best')\n",
    "# plot upward fluxes spectra just underwater \n",
    "figure()\n",
    "P['flux_up (0-)'].plot(fmt='r.-',vmin=0,vmax=0.05,label='up 0- planar')\n",
    "S['flux_up (0-)'].plot(fmt='b.-',vmin=0,vmax=0.05,label='up 0- spherical')\n",
    "Mr['Pflux_up (0-)'].plot(fmt='rx-',vmin=0,vmax=0.05,label='up 0- planar from radiance')\n",
    "Mr['Sflux_up (0-)'].plot(fmt='bx-',vmin=0,vmax=0.05,label='up 0- spherical from radiance')\n",
    "legend(loc='best')\n",
    "\n",
    "# 3) For the particular \"Down (0+)\" Irradiance, it contains only Diffuse component, the direct component\n",
    "# is obtained trough the 'direct transmission' field\n",
    "T = P['direct transmission']\n",
    "figure()\n",
    "P['flux_down (0+)'].plot(fmt='r.--',vmin=0,vmax=1.5,label='down 0+ diffuse planar')\n",
    "(P['flux_down (0+)']+T).plot(fmt='r.-',vmin=0,vmax=1.5,label='down 0+ total planar')\n",
    "S['flux_down (0+)'].plot(fmt='b.--',vmin=0,vmax=1.5,label='down 0+ diffuse spherical')\n",
    "(S['flux_down (0+)']+T).plot(fmt='b.-',vmin=0,vmax=1.5,label='down 0+ total spherical')\n",
    "P['flux_down (0-)'].plot(fmt='rx-',vmin=0,vmax=1.5,label='down 0- planar')\n",
    "S['flux_down (0-)'].plot(fmt='bx-',vmin=0,vmax=1.5,label='down 0- spherical')\n",
    "legend(loc='best')\n"
   ]
  },
  {
   "cell_type": "markdown",
   "metadata": {},
   "source": [
    "## Looping over parameters"
   ]
  },
  {
   "cell_type": "code",
   "execution_count": null,
   "metadata": {
    "ExecuteTime": {
     "end_time": "2018-03-13T16:08:00.771844Z",
     "start_time": "2018-03-13T16:07:52.975298Z"
    }
   },
   "outputs": [],
   "source": [
    "# loop over some wavelengths\n",
    "MLUTS = []\n",
    "Spp=Smartg()\n",
    "for aot in linspace(0, 1.5, 5):\n",
    "    M = Spp.run(THVDEG=30.,\n",
    "               wl=443., NBPHOTONS=1e7,\n",
    "               atm=AtmAFGL('afglt',comp=[AeroOPAC('desert',aot,443.)]),\n",
    "               surf=RoughSurface(WIND=5.))\n",
    "    M.set_attr('AOT', aot) # to define a new axis 'aot' later\n",
    "    MLUTS.append(M)"
   ]
  },
  {
   "cell_type": "code",
   "execution_count": null,
   "metadata": {
    "ExecuteTime": {
     "end_time": "2018-03-13T16:08:00.844929Z",
     "start_time": "2018-03-13T16:08:00.775122Z"
    }
   },
   "outputs": [],
   "source": [
    "#Merge all previous looped MLUTs into a single one\n",
    "M = merge(MLUTS, ['AOT'], dtype=float)\n",
    "M.describe()"
   ]
  },
  {
   "cell_type": "code",
   "execution_count": null,
   "metadata": {
    "ExecuteTime": {
     "end_time": "2018-03-13T16:08:01.132781Z",
     "start_time": "2018-03-13T16:08:00.848330Z"
    }
   },
   "outputs": [],
   "source": [
    "M[0].sub()[:,Idx(90),Idx(45)].plot(fmt='o-')"
   ]
  },
  {
   "cell_type": "markdown",
   "metadata": {},
   "source": [
    "## Difference between two LUTs"
   ]
  },
  {
   "cell_type": "code",
   "execution_count": null,
   "metadata": {
    "ExecuteTime": {
     "end_time": "2018-03-13T17:16:31.924106Z",
     "start_time": "2018-03-13T17:16:28.317621Z"
    }
   },
   "outputs": [],
   "source": [
    "%%time\n",
    "# Here we compare the TOA radiance simulated with\n",
    "# plane parallel and spherical atmospheres, at 443 nm.\n",
    "atm=AtmAFGL('afglt',grid=np.linspace(100.,0.,num=100), O3=400., NO2=False)\n",
    "ths = np.concatenate((\n",
    "            np.linspace(0. ,75., num=12, dtype=np.float32),\n",
    "            np.linspace(76.,89., num=12, dtype=np.float32)))\n",
    "results = []\n",
    "le={}\n",
    "le.update(th_deg = ths)\n",
    "le.update(phi_deg= np.array([0.], dtype=np.float32))\n",
    "for pp in [True, False]:\n",
    "    S=Smartg(pp=pp, alt_move=False, double=True, back=True)\n",
    "    results.append(S.run(THVDEG=0., wl=550., NBPHOTONS=1e6, le=le, atm=atm, BEER=1, stdev=True))\n",
    "    \n",
    "PP = results[0]['I_up (TOA)'].sub()[0,:]\n",
    "SP = results[1]['I_up (TOA)'].sub()[0,:]\n",
    "\n",
    "PP_std = results[0]['I_stdev_up (TOA)'].sub()[0,:]\n",
    "SP_std = results[1]['I_stdev_up (TOA)'].sub()[0,:]"
   ]
  },
  {
   "cell_type": "code",
   "execution_count": null,
   "metadata": {
    "ExecuteTime": {
     "end_time": "2018-03-13T17:18:15.417804Z",
     "start_time": "2018-03-13T17:18:15.012265Z"
    }
   },
   "outputs": [],
   "source": [
    "# show relative difference\n",
    "figure(figsize=(6,6))\n",
    "diff = 100.*(SP-PP)/SP\n",
    "diff.desc = 'Spherical - Plane parallel (%)'\n",
    "(diff).plot(fmt='ko:', vmin=-2, vmax=10.)\n",
    "unc = (((SP_std*SP_std + PP_std*PP_std)/2).apply(np.sqrt,r'$\\Delta$')/PP)*100.\n",
    "errorbar(diff.axis('Zenith angles'), diff[:], yerr=(SP_std/SP*200)[:], fmt=None, ecolor='k')"
   ]
  },
  {
   "cell_type": "markdown",
   "metadata": {},
   "source": [
    "## Interactive simulation"
   ]
  },
  {
   "cell_type": "code",
   "execution_count": null,
   "metadata": {
    "ExecuteTime": {
     "end_time": "2018-03-13T15:22:39.554954Z",
     "start_time": "2018-03-13T15:22:38.542860Z"
    },
    "scrolled": true
   },
   "outputs": [],
   "source": [
    "from IPython.html.widgets.interaction import interact, interact_manual\n",
    "\n",
    "S=Smartg()\n",
    "le={}\n",
    "le={}\n",
    "le.update(phi=np.array([0.]),dtype=np.float32)\n",
    "le.update(th=np.array([60.])*np.pi/180,dtype=np.float32)\n",
    "\n",
    "def simulate(thvdeg, surface, aerosol_model, aot550):\n",
    "    surf = {True:RoughSurface(), False:None}[surface]\n",
    "    aer = AeroOPAC(aerosol_model, aot550, 550.)\n",
    "    print('TOA Intensity : %.5f'%S.run(THVDEG=thvdeg,\n",
    "             wl=[443.], NBPHOTONS=1e5,le=le,\n",
    "             atm=AtmAFGL('afglt', comp=[aer]), surf=surf, OUTPUT_LAYERS=3, progress=False\n",
    "          )['I_up (TOA)'].data)\n",
    "\n",
    "interact_manual(simulate, thvdeg=(0, 90), surface=True,\n",
    "                aerosol_model= AeroOPAC('desert', 0.1, 550.).list(), aot550=(0.001, 5., 0.01)\n",
    "                )"
   ]
  }
 ],
 "metadata": {
  "anaconda-cloud": {},
  "hide_input": false,
  "kernelspec": {
   "display_name": "Python [conda env:py2v4.4]",
   "language": "python",
   "name": "conda-env-py2v4.4-py"
  },
  "language_info": {
   "codemirror_mode": {
    "name": "ipython",
    "version": 2
   },
   "file_extension": ".py",
   "mimetype": "text/x-python",
   "name": "python",
   "nbconvert_exporter": "python",
   "pygments_lexer": "ipython2",
   "version": "2.7.13"
  },
  "toc": {
   "colors": {
    "hover_highlight": "#DAA520",
    "navigate_num": "#000000",
    "navigate_text": "#333333",
    "running_highlight": "#FF0000",
    "selected_highlight": "#FFD700",
    "sidebar_border": "#EEEEEE",
    "wrapper_background": "#FFFFFF"
   },
   "moveMenuLeft": true,
   "nav_menu": {
    "height": "509px",
    "width": "252px"
   },
   "navigate_menu": true,
   "number_sections": true,
   "sideBar": true,
   "threshold": 4,
   "toc_cell": false,
   "toc_number_sections": true,
   "toc_position": {
    "height": "793px",
    "left": "0px",
    "right": "1217.33px",
    "top": "161px",
    "width": "212px"
   },
   "toc_section_display": "block",
   "toc_threshold": 4,
   "toc_window_display": true,
   "widenNotebook": false
  },
  "toc_position": {
   "left": "1540px",
   "right": "36px",
   "top": "83px",
   "width": "300px"
  },
  "widgets": {
   "state": {
    "24d74e057a524c8c8349c8380b4cfc8c": {
     "views": [
      {
       "cell_index": 4
      }
     ]
    }
   },
   "version": "1.2.0"
  }
 },
 "nbformat": 4,
 "nbformat_minor": 1
}
