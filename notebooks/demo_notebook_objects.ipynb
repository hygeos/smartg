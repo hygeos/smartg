{
 "cells": [
  {
   "cell_type": "markdown",
   "metadata": {},
   "source": [
    "# Smart-G demo notebook for Objects\n",
    "\n",
    "This is an interactive document allowing to run Smart-G with python and visualize the results. <br>\n",
    "*Tips*: cells can be executed with shift-enter. Tooltips can be obtained with shift-tab. More information [here](http://ipython.org/notebook.html) or in the help menu. [A table of content can also be added](https://github.com/minrk/ipython_extensions#table-of-contents)."
   ]
  },
  {
   "cell_type": "code",
   "execution_count": null,
   "metadata": {
    "ExecuteTime": {
     "end_time": "2018-01-16T16:11:29.712730Z",
     "start_time": "2018-01-16T16:11:28.250075Z"
    },
    "init_cell": true
   },
   "outputs": [],
   "source": [
    "%pylab inline\n",
    "# next 2 lines allow to automatically reload modules that have been changed externally\n",
    "%reload_ext autoreload\n",
    "%autoreload 2\n",
    "\n",
    "import os, sys\n",
    "sys.path.insert(0, os.path.dirname(os.getcwd()))\n",
    "from smartg.smartg import Smartg\n",
    "from smartg.smartg import LambSurface\n",
    "from smartg.atmosphere import AtmAFGL, AeroOPAC\n",
    "\n",
    "import smartg.geometry\n",
    "from smartg.geometry import Point\n",
    "import smartg.visualizegeo\n",
    "from smartg.visualizegeo import receiver_view, cat_view, Mirror, Plane, Transformation, \\\n",
    "    Entity, Analyse_create_entity, Matte\n",
    "from smartg.smartg import CusForward"
   ]
  },
  {
   "cell_type": "markdown",
   "metadata": {},
   "source": [
    "# Quick Start"
   ]
  },
  {
   "cell_type": "markdown",
   "metadata": {},
   "source": [
    "## Creation of objects"
   ]
  },
  {
   "cell_type": "code",
   "execution_count": null,
   "metadata": {
    "ExecuteTime": {
     "end_time": "2018-01-12T13:11:47.759719Z",
     "start_time": "2018-01-12T13:11:45.235512Z"
    }
   },
   "outputs": [],
   "source": [
    "# We want to create a simple case with a receiver and four heliostats (MirA, B, C and D).\n",
    "# The receiver will be created a x = 1km, the first heliostat at x = 950m, the\n",
    "# second heliostat at x = 900m and so on. The mirror will be oriented such that the\n",
    "# direct rays reflected by the mirrors will totally reach the receiver.\n",
    "\n",
    "# The solar zenith angle\n",
    "solarDir = 14.3\n",
    "# Create the heliostats MirA, MirB, MirC and MirD (smartg unit is the kilometer)\n",
    "wMx = 0.004725\n",
    "wMy = 0.00642\n",
    "MirA = Entity(name = \"reflector\", \\\n",
    "              materialAV = Mirror(reflectivity = 0.88), \\\n",
    "              materialAR = Matte(reflectivity = 0.), \\\n",
    "              geo = Plane( p1 = Point(-wMx, -wMy, 0.),\n",
    "                           p2 = Point(wMx, -wMy, 0.),\n",
    "                           p3 = Point(-wMx, wMy, 0.),\n",
    "                           p4 = Point(wMx, wMy, 0.) ), \\\n",
    "              transformation = Transformation( rotation = np.array([0., 20.281725, 0.]), \\\n",
    "                                               translation = np.array([0.95, 0., 0.00517]) ))\n",
    "\n",
    "MirB = Entity(MirA); MirC = Entity(MirA); MirD = Entity(MirA);\n",
    "MirB.transformation = Transformation( rotation = np.array([0., 29.460753, 0.]), \\\n",
    "                                      translation = np.array([0.9, 0., 0.00517]) )\n",
    "MirC.transformation = Transformation( rotation = np.array([0., 35.129831, 0.]), \\\n",
    "                                      translation = np.array([0.85, 0., 0.00517]) )\n",
    "MirD.transformation = Transformation( rotation = np.array([0., 38.715473, 0.]), \\\n",
    "                                      translation = np.array([0.8, 0., 0.00517]) )\n",
    "\n",
    "# Create the receiver Recept1\n",
    "wRx = 0.006\n",
    "wRy = 0.007\n",
    "# TC = Taille cellule. The receiver is devided in several cells to visualize the flux distribution \n",
    "Recept1 = Entity(name = \"receiver\", TC = 0.0005, \\\n",
    "                 materialAV = Matte(reflectivity = 0.), \\\n",
    "                 materialAR = Matte(reflectivity = 0.), \\\n",
    "                 geo = Plane( p1 = Point(-wRx, -wRy, 0.),\n",
    "                              p2 = Point(wRx, -wRy, 0.),\n",
    "                              p3 = Point(-wRx, wRy, 0.),\n",
    "                              p4 = Point(wRx, wRy, 0.) ), \\\n",
    "                 transformation = Transformation( rotation = np.array([0., -101.5, 0.]), \\\n",
    "                                                  translation = np.array([1., 0., 0.1065]) ))\n",
    "\n",
    "# Create the list containing all the objects\n",
    "listobjs = [MirA, MirB, MirC, MirD, Recept1]"
   ]
  },
  {
   "cell_type": "markdown",
   "metadata": {},
   "source": [
    "## Run the simulation"
   ]
  },
  {
   "cell_type": "code",
   "execution_count": null,
   "metadata": {},
   "outputs": [],
   "source": [
    "# In this simulation the photons from TOA are launched to fill only the\n",
    "# mirrors (ray tracing method or restricted forward method) --> cusForward = CusForward(LMODE=\"RF\")\n",
    "# By default the sun is a ponctual sun source targeting the origin (0,0,0) --> --> cusForward = None\n",
    "# For a full forward mode i.g. specify in Smartg.run() -> cusForward = CusForward(CFX=10, CFY=10, LMODE=\"FF\")\n",
    "# Where CFX is the size in kilometer in the x axis of the rectangle. Be careful, the full forward mode \n",
    "# need a big number of photons to obtain a good accuracy !\n",
    "\n",
    "w2 = 120.\n",
    "Pmin = [-w2, -w2, -0.5]\n",
    "Pmax = [w2, w2, 121]\n",
    "interval0 = [Pmin, Pmax]\n",
    "aer = AeroOPAC('desert', 0.25, 550.)\n",
    "pro = AtmAFGL('afglms', comp=[aer], P0 = 877, H2O=1.2)\n",
    "m = Smartg(double = True, obj3D = True).run( surf = LambSurface(ALB=0.25), \n",
    "    THVDEG=solarDir, NF=1e6, wl=550., NBPHOTONS=1e8, NBLOOP = 1e7, atm=pro,\n",
    "    myObjects=listobjs, interval = interval0, cusForward = CusForward(LMODE=\"RF\"))"
   ]
  },
  {
   "cell_type": "markdown",
   "metadata": {},
   "source": [
    "## How to show the results ?"
   ]
  },
  {
   "cell_type": "code",
   "execution_count": null,
   "metadata": {},
   "outputs": [],
   "source": [
    "# Show the description of the simulation\n",
    "m.print_info(show_attrs=True)"
   ]
  },
  {
   "cell_type": "code",
   "execution_count": null,
   "metadata": {},
   "outputs": [],
   "source": [
    "# 3D print of objects, the notebook give only a given 2D print of the 3D one\n",
    "fig1 = Analyse_create_entity(listobjs, Theta = solarDir)"
   ]
  },
  {
   "cell_type": "code",
   "execution_count": null,
   "metadata": {},
   "outputs": [],
   "source": [
    "# print the infomation at the receiver\n",
    "cat_view(m)"
   ]
  },
  {
   "cell_type": "code",
   "execution_count": null,
   "metadata": {},
   "outputs": [],
   "source": [
    "# print the flux distribution at the receiver\n",
    "receiver_view(m['C_Receiver'][:,:], [wRx, wRy], logI=False, nameFile = None)"
   ]
  },
  {
   "cell_type": "code",
   "execution_count": null,
   "metadata": {},
   "outputs": [],
   "source": [
    "# print the flux distribution at the receiver from only the direct (cat1)\n",
    "receiver_view(m['C1_Receiver'][:,:], [wRx, wRy], logI=False, nameFile = '1H_02_CAT1')"
   ]
  },
  {
   "cell_type": "code",
   "execution_count": null,
   "metadata": {},
   "outputs": [],
   "source": [
    "# print the flux distribution at the receiver from beams from the process H only (cat2)\n",
    "receiver_view(m['C2_Receiver'][:,:], [wRx, wRy], logI=False, nameFile = '1H_02_CAT2')"
   ]
  },
  {
   "cell_type": "code",
   "execution_count": null,
   "metadata": {},
   "outputs": [],
   "source": [
    "# print the flux distribution at the receiver from beams from the process E only (cat3)\n",
    "receiver_view(m['C3_Receiver'][:,:], [wRx, wRy], logI=False, nameFile = '1H_02_CAT3')"
   ]
  },
  {
   "cell_type": "code",
   "execution_count": null,
   "metadata": {},
   "outputs": [],
   "source": [
    "# print the flux distribution at the receiver from beams from the process A only (cat4)\n",
    "receiver_view(m['C4_Receiver'][:,:], [wRx, wRy], logI=False, nameFile = '1H_02_CAT4')"
   ]
  },
  {
   "cell_type": "code",
   "execution_count": null,
   "metadata": {},
   "outputs": [],
   "source": [
    "# print the flux distribution at the receiver from beams from the two processes H and A (cat5)\n",
    "receiver_view(m['C5_Receiver'][:,:], [wRx, wRy], logI=True, nameFile = '1H_02_CAT5')"
   ]
  },
  {
   "cell_type": "code",
   "execution_count": null,
   "metadata": {},
   "outputs": [],
   "source": [
    "# print the flux distribution at the receiver from beams from the two processes H and E (cat6)\n",
    "receiver_view(m['C6_Receiver'][:,:], [wRx, wRy], logI=False, nameFile = '1H_02_CAT6')"
   ]
  },
  {
   "cell_type": "code",
   "execution_count": null,
   "metadata": {},
   "outputs": [],
   "source": [
    "# print the flux distribution at the receiver from beams from the two processes E and A (cat7)\n",
    "receiver_view(m['C7_Receiver'][:,:], [wRx, wRy], logI=False, nameFile = '1H_02_CAT7')"
   ]
  },
  {
   "cell_type": "code",
   "execution_count": null,
   "metadata": {},
   "outputs": [],
   "source": [
    "# print the flux distribution at the receiver from beams from the three processes H , E and A (cat8)\n",
    "receiver_view(m['C8_Receiver'][:,:], [wRx, wRy], logI=False, nameFile = '1H_02_CAT8')"
   ]
  },
  {
   "cell_type": "code",
   "execution_count": null,
   "metadata": {},
   "outputs": [],
   "source": []
  }
 ],
 "metadata": {
  "anaconda-cloud": {},
  "hide_input": false,
  "kernelspec": {
   "display_name": "Python [conda env:py3-v1.0]",
   "language": "python",
   "name": "conda-env-py3-v1.0-py"
  },
  "language_info": {
   "codemirror_mode": {
    "name": "ipython",
    "version": 3
   },
   "file_extension": ".py",
   "mimetype": "text/x-python",
   "name": "python",
   "nbconvert_exporter": "python",
   "pygments_lexer": "ipython3",
   "version": "3.6.6"
  },
  "toc": {
   "colors": {
    "hover_highlight": "#DAA520",
    "navigate_num": "#000000",
    "navigate_text": "#333333",
    "running_highlight": "#FF0000",
    "selected_highlight": "#FFD700",
    "sidebar_border": "#EEEEEE",
    "wrapper_background": "#FFFFFF"
   },
   "moveMenuLeft": true,
   "nav_menu": {
    "height": "509px",
    "width": "252px"
   },
   "navigate_menu": true,
   "number_sections": true,
   "sideBar": true,
   "threshold": 4,
   "toc_cell": false,
   "toc_number_sections": true,
   "toc_section_display": "block",
   "toc_threshold": 4,
   "toc_window_display": true,
   "widenNotebook": false
  },
  "toc_position": {
   "left": "1540px",
   "right": "36px",
   "top": "83px",
   "width": "300px"
  },
  "widgets": {
   "state": {
    "24d74e057a524c8c8349c8380b4cfc8c": {
     "views": [
      {
       "cell_index": 4
      }
     ]
    }
   },
   "version": "1.2.0"
  }
 },
 "nbformat": 4,
 "nbformat_minor": 1
}
