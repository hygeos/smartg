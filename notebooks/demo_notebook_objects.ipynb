{
 "cells": [
  {
   "cell_type": "markdown",
   "metadata": {},
   "source": [
    "# Smart-G demo notebook for Objects\n",
    "\n",
    "This is an interactive document allowing to run Smart-G with python and visualize the results. <br>\n",
    "*Tips*: cells can be executed with shift-enter. Tooltips can be obtained with shift-tab. More information [here](http://ipython.org/notebook.html) or in the help menu. [A table of content can also be added](https://github.com/minrk/ipython_extensions#table-of-contents)."
   ]
  },
  {
   "cell_type": "code",
   "execution_count": null,
   "metadata": {
    "ExecuteTime": {
     "end_time": "2021-12-30T10:50:31.213391Z",
     "start_time": "2021-12-30T10:50:30.017874Z"
    },
    "init_cell": true
   },
   "outputs": [],
   "source": [
    "# next 2 lines allow to automatically reload modules that have been changed externally\n",
    "%reload_ext autoreload\n",
    "%autoreload 2\n",
    "\n",
    "import os, sys\n",
    "try:\n",
    "    import subprocess\n",
    "    check = subprocess.check_call(['git', 'rev-parse', '--show-toplevel'], stdout=subprocess.DEVNULL, stderr=subprocess.STDOUT)\n",
    "    ROOTPATH = subprocess.Popen(['git', 'rev-parse', '--show-toplevel'], stdout=subprocess.PIPE).communicate()[0].rstrip().decode('utf-8') # Root Git Path\n",
    "except subprocess.CalledProcessError:\n",
    "    ROOTPATH = os.getcwd()\n",
    "sys.path.insert(0, ROOTPATH)\n",
    "\n",
    "from smartg.smartg import Smartg, LambSurface, CusForward, CusBackward, Sensor\n",
    "from smartg.atmosphere import AtmAFGL, AerOPAC\n",
    "from smartg.albedo import Albedo_cst\n",
    "from smartg.geometry import Point, Vector, Normalize\n",
    "from smartg.visualizegeo import receiver_view, cat_view, Mirror, Plane, Transformation, \\\n",
    "    Entity, Matte, generateHfP, generateHfA, extractPoints, Heliostat, visualize_entity\n",
    "from luts.luts import Idx\n",
    "from smartg.tools.smartg_view import smartg_view\n",
    "from smartg.transform import Transform\n",
    "import numpy as np"
   ]
  },
  {
   "cell_type": "code",
   "execution_count": null,
   "metadata": {
    "ExecuteTime": {
     "end_time": "2020-03-17T17:36:11.940261Z",
     "start_time": "2020-03-17T17:36:11.706039Z"
    }
   },
   "outputs": [],
   "source": [
    "# Uncomment below for 3D views\n",
    "%matplotlib widget"
   ]
  },
  {
   "cell_type": "markdown",
   "metadata": {
    "toc-hr-collapsed": true
   },
   "source": [
    "# Quick Start"
   ]
  },
  {
   "cell_type": "markdown",
   "metadata": {},
   "source": [
    "## Creation of objects (simple example)"
   ]
  },
  {
   "cell_type": "code",
   "execution_count": null,
   "metadata": {
    "ExecuteTime": {
     "end_time": "2020-03-17T17:36:15.351247Z",
     "start_time": "2020-03-17T17:36:15.087087Z"
    }
   },
   "outputs": [],
   "source": [
    "# We want to create a simple case with a receiver and four heliostats (MirA, B, C and D).\n",
    "# The receiver will be created a x = 1km, the first heliostat at x = 950m, the\n",
    "# second heliostat at x = 900m and so on. The mirror will be oriented such that the\n",
    "# direct rays reflected by the mirrors will totally reach the receiver.\n",
    "\n",
    "# The sun zenith angle\n",
    "SZA = 14.3\n",
    "# Create the heliostats MirA, MirB, MirC and MirD (smartg unit is the kilometer)\n",
    "wMx = 0.004725\n",
    "wMy = 0.00642\n",
    "MirA = Entity(name = \"reflector\", \\\n",
    "              materialAV = Mirror(reflectivity = 0.88), \\\n",
    "              materialAR = Matte(), \\\n",
    "              geo = Plane( p1 = Point(-wMx, -wMy, 0.),\n",
    "                           p2 = Point(wMx, -wMy, 0.),\n",
    "                           p3 = Point(-wMx, wMy, 0.),\n",
    "                           p4 = Point(wMx, wMy, 0.) ), \\\n",
    "              transformation = Transformation( rotation = np.array([0., 20.281725, 0.]), \\\n",
    "                                               translation = np.array([-0.05, 0., 0.00517]) ))\n",
    "\n",
    "MirB = Entity(MirA); MirC = Entity(MirA); MirD = Entity(MirA);\n",
    "MirB.transformation = Transformation( rotation = np.array([0., 29.460753, 0.]), \\\n",
    "                                      translation = np.array([-0.1, 0., 0.00517]) )\n",
    "MirC.transformation = Transformation( rotation = np.array([0., 35.129831, 0.]), \\\n",
    "                                      translation = np.array([-0.15, 0., 0.00517]) )\n",
    "MirD.transformation = Transformation( rotation = np.array([0., 38.715473, 0.]), \\\n",
    "                                      translation = np.array([-0.2, 0., 0.00517]) )\n",
    "\n",
    "# Create the receiver Recept1\n",
    "wRx = 0.006\n",
    "wRy = 0.007\n",
    "# TC = Taille cellule. The receiver is devided in several cells to visualize the flux distribution \n",
    "Rec1 = Entity(name = \"receiver\", TC = 0.0005, \\\n",
    "                 materialAV = Matte(reflectivity = 0.), \\\n",
    "                 materialAR = Matte(reflectivity = 0.), \\\n",
    "                 geo = Plane( p1 = Point(-wRx, -wRy, 0.),\n",
    "                              p2 = Point(wRx, -wRy, 0.),\n",
    "                              p3 = Point(-wRx, wRy, 0.),\n",
    "                              p4 = Point(wRx, wRy, 0.) ), \\\n",
    "                 transformation = Transformation( rotation = np.array([0., -101.5, 0.]), \\\n",
    "                                                  translation = np.array([0., 0., 0.1065]) ))\n",
    "\n",
    "# Create the list containing all the objects\n",
    "LOBJ1 = [MirA, MirB, MirC, MirD, Rec1]"
   ]
  },
  {
   "cell_type": "markdown",
   "metadata": {},
   "source": [
    "## How to verify the drawing of objects"
   ]
  },
  {
   "cell_type": "code",
   "execution_count": null,
   "metadata": {},
   "outputs": [],
   "source": [
    "# 3D print of objects (the notebook give only a 2D print of the 3D one)\n",
    "fig1 = visualize_entity(ENTITY = [MirA, MirB, MirC, MirD, Rec1], THEDEG = SZA, show_rays=True, SR_VIEW=1, rs_fac=1)"
   ]
  },
  {
   "cell_type": "markdown",
   "metadata": {},
   "source": [
    "## Run the simulation"
   ]
  },
  {
   "cell_type": "code",
   "execution_count": null,
   "metadata": {
    "ExecuteTime": {
     "end_time": "2020-03-17T17:36:42.412945Z",
     "start_time": "2020-03-17T17:36:36.236657Z"
    }
   },
   "outputs": [],
   "source": [
    "# In this simulation the photons from TOA are launched to fill only the\n",
    "# mirrors (ray tracing method or restricted forward method) --> cusForward = CusForward(LMODE=\"RF\")\n",
    "# By default the sun is a ponctual sun source targeting the origin (0,0,0) --> --> cusForward = None\n",
    "# For a full forward mode i.g. specify in Smartg.run() -> cusForward = CusForward(CFX=10, CFY=10, LMODE=\"FF\")\n",
    "# Where CFX is the size in kilometer in the x axis of the rectangle. Be careful, the full forward mode \n",
    "# need a big number of photons to obtain a good accuracy !\n",
    "\n",
    "w2 = 0.5\n",
    "Pmin = [-w2, -w2, -0.005]\n",
    "Pmax = [w2, w2, 0.125]\n",
    "interval0 = [Pmin, Pmax] # enable to earn some computational time, can be very usefull in FF mode\n",
    "aer = AerOPAC('desert', 0.25, 550.)\n",
    "pro = AtmAFGL('afglms', comp=[aer], P0 = 877, H2O=1.2)\n",
    "m = Smartg(double = True, obj3D = True).run( surf = LambSurface(ALB=Albedo_cst(0.25)), \n",
    "    THVDEG=SZA, NF=1e6, wl=550., NBPHOTONS=4e7, NBLOOP = 5e6, atm=pro,\n",
    "    myObjects=LOBJ1, interval = interval0, cusL = CusForward(LMODE=\"RF\"))"
   ]
  },
  {
   "cell_type": "markdown",
   "metadata": {},
   "source": [
    "## How to show the results ?"
   ]
  },
  {
   "cell_type": "code",
   "execution_count": null,
   "metadata": {
    "ExecuteTime": {
     "end_time": "2020-03-17T17:39:29.229015Z",
     "start_time": "2020-03-17T17:39:28.468387Z"
    }
   },
   "outputs": [],
   "source": [
    "# Show the description of the simulation\n",
    "m.print_info(show_attrs=True)"
   ]
  },
  {
   "cell_type": "code",
   "execution_count": null,
   "metadata": {
    "ExecuteTime": {
     "end_time": "2020-03-17T17:39:29.422850Z",
     "start_time": "2020-03-17T17:39:29.232888Z"
    }
   },
   "outputs": [],
   "source": [
    "# print the infomation at the receiver\n",
    "output = cat_view(SMLUT=m)\n",
    "print(\"\\noutput:\")\n",
    "output.describe(show_attrs=True)"
   ]
  },
  {
   "cell_type": "code",
   "execution_count": null,
   "metadata": {},
   "outputs": [],
   "source": [
    "# print the infomation at the receiver\n",
    "output = cat_view(SMLUT=m)\n",
    "print(\"\\noutput:\")\n",
    "output.describe(show_attrs=True)"
   ]
  },
  {
   "cell_type": "code",
   "execution_count": null,
   "metadata": {
    "ExecuteTime": {
     "end_time": "2020-03-17T17:39:30.118930Z",
     "start_time": "2020-03-17T17:39:29.427490Z"
    }
   },
   "outputs": [],
   "source": [
    "# print the total flux distribution at the receiver\n",
    "receiver_view(SMLUT=m)"
   ]
  },
  {
   "cell_type": "code",
   "execution_count": null,
   "metadata": {
    "ExecuteTime": {
     "end_time": "2020-03-17T17:39:30.679033Z",
     "start_time": "2020-03-17T17:39:30.126079Z"
    }
   },
   "outputs": [],
   "source": [
    "# print the flux distribution at the receiver from only the direct D (cat1)\n",
    "receiver_view(SMLUT=m, CAT=1)"
   ]
  },
  {
   "cell_type": "code",
   "execution_count": null,
   "metadata": {
    "ExecuteTime": {
     "end_time": "2020-03-17T17:39:31.101377Z",
     "start_time": "2020-03-17T17:39:30.681818Z"
    }
   },
   "outputs": [],
   "source": [
    "# print the flux distribution at the receiver from beams from the process H only (cat2)\n",
    "receiver_view(SMLUT=m, CAT=2)"
   ]
  },
  {
   "cell_type": "code",
   "execution_count": null,
   "metadata": {
    "ExecuteTime": {
     "end_time": "2020-03-17T17:39:42.765960Z",
     "start_time": "2020-03-17T17:39:42.143551Z"
    }
   },
   "outputs": [],
   "source": [
    "# print the flux distribution at the receiver from beams from the process E only (cat3)\n",
    "receiver_view(SMLUT=m, CAT=3)"
   ]
  },
  {
   "cell_type": "code",
   "execution_count": null,
   "metadata": {
    "ExecuteTime": {
     "end_time": "2020-03-17T17:39:43.192280Z",
     "start_time": "2020-03-17T17:39:42.768531Z"
    }
   },
   "outputs": [],
   "source": [
    "# print the flux distribution at the receiver from beams from the process A only (cat4)\n",
    "receiver_view(SMLUT=m, CAT=4)"
   ]
  },
  {
   "cell_type": "code",
   "execution_count": null,
   "metadata": {
    "ExecuteTime": {
     "end_time": "2020-03-17T17:39:43.622308Z",
     "start_time": "2020-03-17T17:39:43.195421Z"
    }
   },
   "outputs": [],
   "source": [
    "# print the flux distribution at the receiver from beams from the two processes H and A (cat5)\n",
    "receiver_view(SMLUT=m, CAT=5)"
   ]
  },
  {
   "cell_type": "code",
   "execution_count": null,
   "metadata": {
    "ExecuteTime": {
     "end_time": "2020-03-17T17:39:44.165894Z",
     "start_time": "2020-03-17T17:39:43.629506Z"
    }
   },
   "outputs": [],
   "source": [
    "# print the flux distribution at the receiver from beams from the two processes H and E (cat6)\n",
    "receiver_view(SMLUT=m, CAT=6)"
   ]
  },
  {
   "cell_type": "code",
   "execution_count": null,
   "metadata": {
    "ExecuteTime": {
     "end_time": "2020-03-17T17:39:44.605844Z",
     "start_time": "2020-03-17T17:39:44.168285Z"
    }
   },
   "outputs": [],
   "source": [
    "# print the flux distribution at the receiver from beams from the two processes E and A (cat7)\n",
    "receiver_view(SMLUT=m, CAT=7)"
   ]
  },
  {
   "cell_type": "code",
   "execution_count": null,
   "metadata": {
    "ExecuteTime": {
     "end_time": "2020-03-17T17:39:45.122663Z",
     "start_time": "2020-03-17T17:39:44.609567Z"
    }
   },
   "outputs": [],
   "source": [
    "# print the flux distribution at the receiver from beams from the three processes H , E and A (cat8)\n",
    "receiver_view(SMLUT=m, CAT=8)"
   ]
  },
  {
   "cell_type": "markdown",
   "metadata": {
    "toc-hr-collapsed": false
   },
   "source": [
    "# Complex cases"
   ]
  },
  {
   "cell_type": "markdown",
   "metadata": {},
   "source": [
    "## Quick heliostat generation by giving two angles"
   ]
  },
  {
   "cell_type": "code",
   "execution_count": null,
   "metadata": {
    "ExecuteTime": {
     "end_time": "2020-03-17T17:39:54.875989Z",
     "start_time": "2020-03-17T17:39:54.614096Z"
    }
   },
   "outputs": [],
   "source": [
    "# Specify the sun zenith angle\n",
    "SZA= 14.3\n",
    "\n",
    "# Creation of a receiver\n",
    "wRx = 0.006\n",
    "wRy = 0.007\n",
    "\n",
    "Rec2 = Entity(name = \"receiver\", TC = 0.0005, \\\n",
    "                 materialAV = Matte(reflectivity = 0.), \\\n",
    "                 materialAR = Matte(reflectivity = 0.), \\\n",
    "                 geo = Plane( p1 = Point(-wRx, -wRy, 0.),\n",
    "                              p2 = Point(wRx, -wRy, 0.),\n",
    "                              p3 = Point(-wRx, wRy, 0.),\n",
    "                              p4 = Point(wRx, wRy, 0.) ), \\\n",
    "                 transformation = Transformation( rotation = np.array([0., -101.5, 0.]), \\\n",
    "                                                  translation = np.array([0., 0., 0.1065]) ))\n",
    "\n",
    "pRe = Point(Rec2.transformation.transx, Rec2.transformation.transy, Rec2.transformation.transz)\n",
    "\n",
    "# Generation of heliostats thanks to two angles, MINANG and MAXANG.\n",
    "LOBJ2 = generateHfA(THEDEG=SZA, PR=pRe, MINANG=150, MAXANG=210, GAPDEG = 10,\n",
    "                        FDRH=0.1, NBH = 3, GAPDIST = 0.008, HSX = 0.005, HSY = 0.01,\n",
    "                        PILLH= 0.00517, REF=0.88)\n",
    "\n",
    "# Without forgetting to add the reveicer at the list of objects\n",
    "LOBJ2.append(Rec2)"
   ]
  },
  {
   "cell_type": "markdown",
   "metadata": {},
   "source": [
    "### Drawing verification"
   ]
  },
  {
   "cell_type": "code",
   "execution_count": null,
   "metadata": {
    "ExecuteTime": {
     "end_time": "2020-03-17T17:39:55.580739Z",
     "start_time": "2020-03-17T17:39:54.927923Z"
    }
   },
   "outputs": [],
   "source": [
    "fig1 = visualize_entity(LOBJ2, THEDEG = SZA)"
   ]
  },
  {
   "cell_type": "markdown",
   "metadata": {},
   "source": [
    "### Run the simulation"
   ]
  },
  {
   "cell_type": "code",
   "execution_count": null,
   "metadata": {
    "ExecuteTime": {
     "end_time": "2020-03-17T17:40:03.779253Z",
     "start_time": "2020-03-17T17:39:58.924440Z"
    }
   },
   "outputs": [],
   "source": [
    "aer = AerOPAC('desert', 1, 550.)\n",
    "pro = AtmAFGL('afglms', comp=[aer])\n",
    "lMode1 = CusForward(LMODE=\"RF\")\n",
    "\n",
    "m2 = Smartg(double = True, obj3D = True).run( surf = LambSurface(ALB=Albedo_cst(0.25)), \n",
    "        THVDEG=SZA, NF=1e6, wl=550., NBPHOTONS=1e7, NBLOOP = 1e6, atm=pro,\n",
    "        myObjects=LOBJ2, cusL = lMode1)"
   ]
  },
  {
   "cell_type": "code",
   "execution_count": null,
   "metadata": {
    "ExecuteTime": {
     "end_time": "2019-05-13T08:09:39.721130Z",
     "start_time": "2019-05-13T08:09:39.625065Z"
    }
   },
   "outputs": [],
   "source": [
    "m2.print_info(show_attrs=True)"
   ]
  },
  {
   "cell_type": "markdown",
   "metadata": {},
   "source": [
    "### Results"
   ]
  },
  {
   "cell_type": "code",
   "execution_count": null,
   "metadata": {
    "ExecuteTime": {
     "end_time": "2020-03-09T21:06:03.512125Z",
     "start_time": "2020-03-09T21:06:03.171920Z"
    }
   },
   "outputs": [],
   "source": [
    "cat_view(SMLUT=m2, ACC=3)"
   ]
  },
  {
   "cell_type": "code",
   "execution_count": null,
   "metadata": {
    "ExecuteTime": {
     "end_time": "2020-03-09T21:05:37.943305Z",
     "start_time": "2020-03-09T21:05:37.251667Z"
    }
   },
   "outputs": [],
   "source": [
    "receiver_view(SMLUT=m2, LOG_I=True)"
   ]
  },
  {
   "cell_type": "markdown",
   "metadata": {},
   "source": [
    "## Quick heliostat generation by giving positions from a file"
   ]
  },
  {
   "cell_type": "code",
   "execution_count": null,
   "metadata": {
    "ExecuteTime": {
     "end_time": "2019-05-13T08:13:51.558490Z",
     "start_time": "2019-05-13T08:13:50.994964Z"
    }
   },
   "outputs": [],
   "source": [
    "# You need a file with the x, y and z positions, see the file HPOS_STP1.dat as example\n",
    "# Points of heliostats are extracted from the given file as a list of class point\n",
    "lPH = extractPoints(filename = \"../auxdata/STPs/STP1.dat\")\n",
    "\n",
    "# Specify the solar zenith angle\n",
    "SZA = 14.3\n",
    "\n",
    "# Creation of a receiver\n",
    "wRx = 0.006\n",
    "wRy = 0.007\n",
    "\n",
    "Rec3 = Entity(name = \"receiver\", TC = 0.0005, \\\n",
    "                 materialAV = Matte(reflectivity = 0.), \\\n",
    "                 materialAR = Matte(reflectivity = 0.), \\\n",
    "                 geo = Plane( p1 = Point(-wRx, -wRy, 0.),\n",
    "                              p2 = Point(wRx, -wRy, 0.),\n",
    "                              p3 = Point(-wRx, wRy, 0.),\n",
    "                              p4 = Point(wRx, wRy, 0.) ), \\\n",
    "                 transformation = Transformation( rotation = np.array([0., -101.5, 0.]), \\\n",
    "                                                  translation = np.array([0., 0., 0.1065]) ))\n",
    "\n",
    "# Coordinate of the center of the created receiver needed for heliostat generation\n",
    "pRe = Point(Rec3.transformation.transx, Rec3.transformation.transy, Rec3.transformation.transz)\n",
    "\n",
    "# Generate heliostats thanks to a list of Points, lPH.\n",
    "LOBJ3 = generateHfP(THEDEG = SZA, PH = lPH, PR = pRe,\n",
    "                        HSX = 0.00945, HSY = 0.01284, REF = 0.88)\n",
    "\n",
    "# Without forgetting to add the reveicer at the list of objects\n",
    "LOBJ3.append(Rec3)"
   ]
  },
  {
   "cell_type": "markdown",
   "metadata": {},
   "source": [
    "### Drawing verification"
   ]
  },
  {
   "cell_type": "code",
   "execution_count": null,
   "metadata": {
    "ExecuteTime": {
     "end_time": "2019-05-13T08:13:52.920900Z",
     "start_time": "2019-05-13T08:13:52.369516Z"
    }
   },
   "outputs": [],
   "source": [
    "fig1 = visualize_entity(LOBJ3, THEDEG = SZA)"
   ]
  },
  {
   "cell_type": "markdown",
   "metadata": {},
   "source": [
    "### Run the simulation"
   ]
  },
  {
   "cell_type": "code",
   "execution_count": null,
   "metadata": {
    "ExecuteTime": {
     "end_time": "2019-05-10T13:24:28.855357Z",
     "start_time": "2019-05-10T13:23:33.415898Z"
    }
   },
   "outputs": [],
   "source": [
    "Pmin = [-0.12, -0.05, -0.05]\n",
    "Pmax = [0.05, 0.05, 0.125]\n",
    "interval0 = [Pmin, Pmax] # enable to earn some computational time, can be very usefull in FF mode\n",
    "aer = AerOPAC('desert', 0.2, 550.)\n",
    "pro = AtmAFGL('afglms', comp=[aer])\n",
    "lMode = CusForward(CFX = 0.06, CFY = 0.08, CFTX = -0.08, CFTY = 0., LMODE=\"FF\")\n",
    "m3 = Smartg(double = True, obj3D = True).run( surf = LambSurface(Albedo_cst(0.25)), \n",
    "        THVDEG=SZA, NF=1e6, wl=550., NBPHOTONS=4e7, NBLOOP = 2e6, atm=pro,\n",
    "        myObjects=LOBJ3, interval = interval0, cusL = lMode)"
   ]
  },
  {
   "cell_type": "code",
   "execution_count": null,
   "metadata": {
    "ExecuteTime": {
     "end_time": "2019-05-10T13:24:32.602976Z",
     "start_time": "2019-05-10T13:24:32.181640Z"
    }
   },
   "outputs": [],
   "source": [
    "m3.print_info(show_attrs=True)"
   ]
  },
  {
   "cell_type": "markdown",
   "metadata": {},
   "source": [
    "### Results"
   ]
  },
  {
   "cell_type": "code",
   "execution_count": null,
   "metadata": {
    "ExecuteTime": {
     "end_time": "2019-05-10T13:24:38.799993Z",
     "start_time": "2019-05-10T13:24:38.688408Z"
    }
   },
   "outputs": [],
   "source": [
    "cat_view(SMLUT=m3)"
   ]
  },
  {
   "cell_type": "code",
   "execution_count": null,
   "metadata": {
    "ExecuteTime": {
     "end_time": "2019-05-10T13:24:46.229797Z",
     "start_time": "2019-05-10T13:24:45.535916Z"
    }
   },
   "outputs": [],
   "source": [
    "receiver_view(SMLUT=m3, VMIN=0)"
   ]
  },
  {
   "cell_type": "markdown",
   "metadata": {
    "toc-hr-collapsed": false
   },
   "source": [
    "# More complex cases"
   ]
  },
  {
   "cell_type": "markdown",
   "metadata": {},
   "source": [
    "## Deals with 3D object in backward mode"
   ]
  },
  {
   "cell_type": "markdown",
   "metadata": {},
   "source": [
    "### Creation of the objects"
   ]
  },
  {
   "cell_type": "code",
   "execution_count": null,
   "metadata": {
    "ExecuteTime": {
     "end_time": "2021-10-22T12:20:06.764940Z",
     "start_time": "2021-10-22T12:20:06.677810Z"
    }
   },
   "outputs": [],
   "source": [
    "# Zenith and Azimuth angle of the sun, respectively Theta and phi\n",
    "SZA = 50\n",
    "SAA = 45\n",
    "PHI = 180.-SAA\n",
    "\n",
    "# Position of heliostats (list) [pH] and position of the sensor pS\n",
    "pH = [Point(-0.05, 0., 0.00517)] # here only one\n",
    "pS = Point(0., 0., 0.1065)\n",
    "\n",
    "# create the heliostats : here we need the zenith and azimuth angles\n",
    "LOBJ4 = generateHfP(THEDEG = SZA, PHIDEG = PHI, PH = pH, PR = pS, \n",
    "                   HSX = 0.00945, HSY = 0.01284, REF = 0.88)\n",
    "\n",
    "# Modify the rugosity ? here -->\n",
    "LOBJ4[0].materialAV = Mirror(reflectivity = 0.88, roughness=0.1, shadow=True)\n",
    "\n",
    "# Creation of the sensor\n",
    "vS = Vector(pH[0]-pS) # direction of the sensor described by a vector\n",
    "SEN = Sensor(POSX = pS.x, POSY = pS.y, POSZ = pS.z, LOC  = 'ATMOS', FOV  = 0., TYPE = 0, V=vS)"
   ]
  },
  {
   "cell_type": "markdown",
   "metadata": {},
   "source": [
    "### Run the simulation"
   ]
  },
  {
   "cell_type": "code",
   "execution_count": null,
   "metadata": {
    "ExecuteTime": {
     "end_time": "2021-10-22T12:20:51.649971Z",
     "start_time": "2021-10-22T12:20:11.868590Z"
    }
   },
   "outputs": [],
   "source": [
    "aer = AerOPAC('desert', 0.2, 550.)\n",
    "pro = AtmAFGL('afglms', comp=[aer]).calc(550.)\n",
    "\n",
    "m4 = Smartg(double = True, obj3D = True, back = True).run( surf = LambSurface(ALB=Albedo_cst(0.25)),\n",
    "                NF=1e6, wl=550., NBPHOTONS=1e8, NBLOOP = 1e7, atm=pro,\n",
    "                myObjects=LOBJ4, sensor = SEN)"
   ]
  },
  {
   "cell_type": "markdown",
   "metadata": {},
   "source": [
    "### See the results"
   ]
  },
  {
   "cell_type": "code",
   "execution_count": null,
   "metadata": {
    "ExecuteTime": {
     "end_time": "2021-10-22T12:20:59.005589Z",
     "start_time": "2021-10-22T12:20:56.178650Z"
    },
    "scrolled": false
   },
   "outputs": [],
   "source": [
    "_=smartg_view(m4, QU=True, ind=Idx([0, 22, 44, 68, 90, 112, 134, 156]))"
   ]
  },
  {
   "cell_type": "markdown",
   "metadata": {
    "toc-hr-collapsed": false
   },
   "source": [
    "## STP construction with heliostats composed of facets"
   ]
  },
  {
   "cell_type": "code",
   "execution_count": null,
   "metadata": {
    "ExecuteTime": {
     "end_time": "2021-10-22T12:21:25.486881Z",
     "start_time": "2021-10-22T12:21:25.227311Z"
    }
   },
   "outputs": [],
   "source": [
    "# Specify the sun zenith angle and sun azimuth angle\n",
    "SZA = 50\n",
    "SAA = 100\n",
    "PHI = 180. - SAA\n",
    "\n",
    "# Creation of a receiver\n",
    "wRx = 0.006\n",
    "wRy = 0.007\n",
    "\n",
    "Rec5 = Entity(name = \"receiver\", TC = 0.0005, \\\n",
    "                 materialAV = Matte(reflectivity = 0.), \\\n",
    "                 materialAR = Matte(reflectivity = 0.), \\\n",
    "                 geo = Plane( p1 = Point(-wRx, -wRy, 0.),\n",
    "                              p2 = Point(wRx, -wRy, 0.),\n",
    "                              p3 = Point(-wRx, wRy, 0.),\n",
    "                              p4 = Point(wRx, wRy, 0.) ), \\\n",
    "                 transformation = Transformation( rotation = np.array([0., -101.5, 0.]), \\\n",
    "                                                  translation = np.array([0., 0., 0.1065]) ))\n",
    "\n",
    "pRe = Point(Rec5.transformation.transx, Rec5.transformation.transy, Rec5.transformation.transz)\n",
    "\n",
    "# Generation of heliostats with facets\n",
    "H0 = Heliostat(SPX = 2, SPY = 2, HSX = 0.00945, HSY = 0.01284)\n",
    "LOBJ5 = generateHfA(THEDEG=SZA, PHIDEG= PHI, PR=pRe, MINANG=140, MAXANG=220, GAPDEG = 10, FDRH=0.15,\n",
    "                        NBH = 4, GAPDIST = 0.03, PILLH= 0.00517, REF=0.88, ROUGH = 0.001, HTYPE=H0)\n",
    "\n",
    "# Without forgetting to add the reveicer at the list of objects\n",
    "LOBJ5.append(Rec5)"
   ]
  },
  {
   "cell_type": "markdown",
   "metadata": {},
   "source": [
    "### Drawing verification"
   ]
  },
  {
   "cell_type": "code",
   "execution_count": null,
   "metadata": {},
   "outputs": [],
   "source": [
    "# visualize without facets\n",
    "LOBJ5_bis = generateHfA(THEDEG=SZA, PHIDEG= PHI, PR=pRe, MINANG=140, MAXANG=220, GAPDEG = 10, FDRH=0.15,\n",
    "                        NBH = 4, GAPDIST = 0.03, PILLH= 0.00517, HSX = 0.00945, HSY = 0.01284, REF=0.88, ROUGH = 0.001)\n",
    "LOBJ5_bis.append(Rec5)\n",
    "fig1 = visualize_entity(LOBJ5_bis, THEDEG = SZA, PHIDEG=PHI, show_rays=True)"
   ]
  },
  {
   "cell_type": "markdown",
   "metadata": {},
   "source": [
    "### Run the simulation"
   ]
  },
  {
   "cell_type": "code",
   "execution_count": null,
   "metadata": {
    "ExecuteTime": {
     "end_time": "2020-03-09T21:10:15.439583Z",
     "start_time": "2020-03-09T21:09:16.265677Z"
    }
   },
   "outputs": [],
   "source": [
    "Pmin = [-0.6, -0.6, 0.]\n",
    "Pmax = [0.6, 0.6, 0.125]\n",
    "interval0 = [Pmin, Pmax] # enable to earn some computational time, can be very usefull in FF mode\n",
    "aer = AerOPAC('desert', 0.5, 550.)\n",
    "pro = AtmAFGL('afglms', comp=[aer])\n",
    "lMode = CusForward(CFX = 8, CFY = 8, CFTX = -0.1, CFTY = 0., LMODE=\"FF\", TYPE='isotropic', FOV=0.266)\n",
    "m5 = Smartg(double = True, obj3D = True).run( surf = LambSurface(ALB=Albedo_cst(0.25)), \n",
    "        THVDEG=SZA, PHVDEG=PHI, NF=1e6, wl=550., NBPHOTONS=4e9, NBLOOP = 5e7, atm=pro,\n",
    "        myObjects=LOBJ5, interval = interval0, cusL = lMode, DIRECT=True)"
   ]
  },
  {
   "cell_type": "markdown",
   "metadata": {},
   "source": [
    "### Results"
   ]
  },
  {
   "cell_type": "code",
   "execution_count": null,
   "metadata": {
    "ExecuteTime": {
     "end_time": "2020-03-09T21:10:18.290926Z",
     "start_time": "2020-03-09T21:10:17.727775Z"
    }
   },
   "outputs": [],
   "source": [
    "m5.print_info(show_attrs=True)"
   ]
  },
  {
   "cell_type": "code",
   "execution_count": null,
   "metadata": {
    "ExecuteTime": {
     "end_time": "2020-03-09T21:10:19.377437Z",
     "start_time": "2020-03-09T21:10:19.248385Z"
    }
   },
   "outputs": [],
   "source": [
    "print(\"kernel time(s)=\", m5.attrs['kernel time (s)'])\n",
    "cat_view(SMLUT=m5, UNIT='FLUX', W_VIEW='kW')"
   ]
  },
  {
   "cell_type": "code",
   "execution_count": null,
   "metadata": {
    "ExecuteTime": {
     "end_time": "2020-03-09T21:10:23.197428Z",
     "start_time": "2020-03-09T21:10:22.679385Z"
    }
   },
   "outputs": [],
   "source": [
    "receiver_view(SMLUT=m5, VMIN=0, W_VIEW='kW')"
   ]
  },
  {
   "cell_type": "markdown",
   "metadata": {},
   "source": [
    "## The Same in backward"
   ]
  },
  {
   "cell_type": "code",
   "execution_count": null,
   "metadata": {
    "ExecuteTime": {
     "end_time": "2021-10-22T12:21:38.450289Z",
     "start_time": "2021-10-22T12:21:38.141599Z"
    }
   },
   "outputs": [],
   "source": [
    "# Specify the sun zenith angle and sun azimuth angle\n",
    "SZA = 50\n",
    "SAA = 100\n",
    "PHI = 180. - SAA\n",
    "\n",
    "# Creation of a receiver\n",
    "wRx = 0.006\n",
    "wRy = 0.007\n",
    "\n",
    "Rec6 = Entity(name = \"receiver\", TC = 0.0005, \\\n",
    "                 materialAV = Matte(reflectivity = 0.), \\\n",
    "                 materialAR = Matte(reflectivity = 0.), \\\n",
    "                 geo = Plane( p1 = Point(-wRx, -wRy, 0.),\n",
    "                              p2 = Point(wRx, -wRy, 0.),\n",
    "                              p3 = Point(-wRx, wRy, 0.),\n",
    "                              p4 = Point(wRx, wRy, 0.) ), \\\n",
    "                 transformation = Transformation( rotation = np.array([0., -101.5, 0.]), \\\n",
    "                                                  translation = np.array([0., 0., 0.1065]) ))\n",
    "\n",
    "pRe = Point(Rec6.transformation.transx, Rec6.transformation.transy, Rec6.transformation.transz)\n",
    "\n",
    "# Generation of heliostats with facets\n",
    "H0 = Heliostat(SPX = 2, SPY = 2, HSX = 0.00945, HSY = 0.01284)\n",
    "LOBJ6 = generateHfA(THEDEG=SZA, PHIDEG= PHI, PR=pRe, MINANG=140, MAXANG=220, GAPDEG = 10, FDRH=0.15,\n",
    "                        NBH = 4, GAPDIST = 0.03, PILLH= 0.00517, REF=0.88, ROUGH = 0.001, HTYPE=H0)\n",
    "\n",
    "# Without forgetting to add the reveicer at the list of objects\n",
    "LOBJ6.append(Rec6)"
   ]
  },
  {
   "cell_type": "markdown",
   "metadata": {},
   "source": [
    "### Drawing verification"
   ]
  },
  {
   "cell_type": "code",
   "execution_count": null,
   "metadata": {
    "ExecuteTime": {
     "end_time": "2021-10-22T12:21:43.403560Z",
     "start_time": "2021-10-22T12:21:41.210031Z"
    }
   },
   "outputs": [],
   "source": [
    "# visualize without facets\n",
    "LOBJ6_bis = generateHfA(THEDEG=SZA, PHIDEG= PHI, PR=pRe, MINANG=140, MAXANG=220, GAPDEG = 10, FDRH=0.15,\n",
    "                        NBH = 4, GAPDIST = 0.03, PILLH= 0.00517, HSX = 0.00945, HSY = 0.01284, REF=0.88, ROUGH = 0.001)\n",
    "LOBJ6_bis.append(Rec6)\n",
    "fig1 = visualize_entity(LOBJ6_bis, THEDEG = SZA, PHIDEG=PHI)"
   ]
  },
  {
   "cell_type": "markdown",
   "metadata": {},
   "source": [
    "### Run the simulation"
   ]
  },
  {
   "cell_type": "code",
   "execution_count": null,
   "metadata": {
    "ExecuteTime": {
     "end_time": "2021-10-22T12:25:26.105608Z",
     "start_time": "2021-10-22T12:21:46.034088Z"
    }
   },
   "outputs": [],
   "source": [
    "NormalRec = Vector(0, 0, 1)\n",
    "TT = Transform()\n",
    "TT = TT.rotateY(Rec6.transformation.rotation[1])\n",
    "NormalRec = TT[NormalRec]\n",
    "NormalRec = Normalize(NormalRec)\n",
    "\n",
    "Pmin = [-0.6, -0.6, 0.]\n",
    "Pmax = [0.6, 0.6, 0.03]\n",
    "interval0 = [Pmin, Pmax] # enable to earn some computational time, can be very usefull in FF mode\n",
    "aer = AerOPAC('desert', 0.5, 550.)\n",
    "pro = AtmAFGL('afglms', comp=[aer])\n",
    "lMode = CusBackward(POS=pRe, V=NormalRec, ALDEG=90, LMODE=\"BR\", REC=Rec6)\n",
    "m6 = Smartg(double = True, obj3D = True, back=True).run( surf = LambSurface(ALB=Albedo_cst(0.25)), \n",
    "        THVDEG=SZA, PHVDEG=PHI, NF=1e6, wl=550., NBPHOTONS=1e9, NBLOOP = 1e7, atm=pro,\n",
    "        myObjects=LOBJ6, interval = interval0, cusL = lMode, SUN_DISC=0.266, DIRECT=True)"
   ]
  },
  {
   "cell_type": "markdown",
   "metadata": {},
   "source": [
    "### Results"
   ]
  },
  {
   "cell_type": "code",
   "execution_count": null,
   "metadata": {},
   "outputs": [],
   "source": [
    "print(\"kernel time(s)=\", m6.attrs['kernel time (s)'])\n",
    "cat_view(SMLUT=m6, UNIT='FLUX', W_VIEW='kW')"
   ]
  },
  {
   "cell_type": "code",
   "execution_count": null,
   "metadata": {
    "ExecuteTime": {
     "end_time": "2021-10-22T12:26:38.974745Z",
     "start_time": "2021-10-22T12:26:38.536600Z"
    }
   },
   "outputs": [],
   "source": [
    "receiver_view(SMLUT=m6, VMIN=0, W_VIEW='kW')"
   ]
  },
  {
   "cell_type": "code",
   "execution_count": null,
   "metadata": {},
   "outputs": [],
   "source": []
  }
 ],
 "metadata": {
  "anaconda-cloud": {},
  "hide_input": false,
  "kernelspec": {
   "display_name": "Python 3 (ipykernel)",
   "language": "python",
   "name": "python3"
  },
  "language_info": {
   "codemirror_mode": {
    "name": "ipython",
    "version": 3
   },
   "file_extension": ".py",
   "mimetype": "text/x-python",
   "name": "python",
   "nbconvert_exporter": "python",
   "pygments_lexer": "ipython3",
   "version": "3.11.9"
  },
  "toc": {
   "colors": {
    "hover_highlight": "#DAA520",
    "navigate_num": "#000000",
    "navigate_text": "#333333",
    "running_highlight": "#FF0000",
    "selected_highlight": "#FFD700",
    "sidebar_border": "#EEEEEE",
    "wrapper_background": "#FFFFFF"
   },
   "moveMenuLeft": true,
   "nav_menu": {
    "height": "509px",
    "width": "252px"
   },
   "navigate_menu": true,
   "number_sections": true,
   "sideBar": true,
   "threshold": 4,
   "toc_cell": false,
   "toc_number_sections": true,
   "toc_position": {
    "height": "425.967px",
    "left": "0px",
    "right": "1068px",
    "top": "158.033px",
    "width": "212px"
   },
   "toc_section_display": "block",
   "toc_threshold": 4,
   "toc_window_display": true,
   "widenNotebook": false
  },
  "toc_position": {
   "left": "1540px",
   "right": "36px",
   "top": "83px",
   "width": "300px"
  },
  "widgets": {
   "state": {
    "24d74e057a524c8c8349c8380b4cfc8c": {
     "views": [
      {
       "cell_index": 4
      }
     ]
    }
   },
   "version": "1.2.0"
  }
 },
 "nbformat": 4,
 "nbformat_minor": 4
}
