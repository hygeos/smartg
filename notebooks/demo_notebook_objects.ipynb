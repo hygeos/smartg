{
 "cells": [
  {
   "cell_type": "markdown",
   "metadata": {},
   "source": [
    "# Smart-G demo notebook for Objects\n",
    "\n",
    "This is an interactive document allowing to run Smart-G with python and visualize the results. <br>\n",
    "*Tips*: cells can be executed with shift-enter. Tooltips can be obtained with shift-tab. More information [here](http://ipython.org/notebook.html) or in the help menu. [A table of content can also be added](https://github.com/minrk/ipython_extensions#table-of-contents)."
   ]
  },
  {
   "cell_type": "code",
   "execution_count": null,
   "metadata": {
    "ExecuteTime": {
     "end_time": "2018-01-16T16:11:29.712730Z",
     "start_time": "2018-01-16T16:11:28.250075Z"
    },
    "init_cell": true,
    "scrolled": false
   },
   "outputs": [],
   "source": [
    "%pylab inline\n",
    "# next 2 lines allow to automatically reload modules that have been changed externally\n",
    "%reload_ext autoreload\n",
    "%autoreload 2\n",
    "from __future__ import absolute_import, division, print_function\n",
    "import os, sys\n",
    "sys.path.insert(0, os.path.dirname(os.getcwd()))\n",
    "from smartg.smartg import Smartg\n",
    "from smartg.smartg import LambSurface, RoughSurface, CusForward\n",
    "from smartg.atmosphere import AtmAFGL, AeroOPAC\n",
    "from smartg.tools.luts import merge\n",
    "from smartg.water import IOP_1\n",
    "import numpy as np\n",
    "#import sys\n",
    "import imp\n",
    "\n",
    "import smartg.geometry\n",
    "from smartg.geometry import Vector, Point, Normal, Ray, BBox\n",
    "import smartg.transform\n",
    "from smartg.transform import Transform, Aff\n",
    "import smartg.visualizegeo\n",
    "from smartg.visualizegeo import receiver_view, Mirror, Plane, Spheric, Transformation, \\\n",
    "    Entity, Analyse_create_entity, LambMirror, Matte\n",
    "\n",
    "from matplotlib.ticker import MaxNLocator\n",
    "from mpl_toolkits.mplot3d import Axes3D\n",
    "import matplotlib\n",
    "import matplotlib.pyplot as plt\n",
    "from matplotlib import cm as cm\n",
    "from smartg.tools.smartg_view import smartg_view, input_view\n",
    "import math\n",
    "from matplotlib.colors import LogNorm"
   ]
  },
  {
   "cell_type": "markdown",
   "metadata": {},
   "source": [
    "# Quick Start"
   ]
  },
  {
   "cell_type": "markdown",
   "metadata": {},
   "source": [
    "## Creation of objects"
   ]
  },
  {
   "cell_type": "code",
   "execution_count": null,
   "metadata": {
    "ExecuteTime": {
     "end_time": "2018-01-12T13:11:47.759719Z",
     "start_time": "2018-01-12T13:11:45.235512Z"
    },
    "scrolled": false
   },
   "outputs": [],
   "source": [
    "# We want to create a simple case with a receiver and four heliostats (MirA, B, C and D).\n",
    "# The receiver will be created a x = 1km, the first heliostat at x = 950m, the\n",
    "# second heliostat at x = 900m and so on. The mirror will be oriented such that the\n",
    "# direct rays reflected by the mirrors will totally reach the receiver.\n",
    "\n",
    "# The solar zenith angle\n",
    "solarDir = 14.3\n",
    "# Create the heliostats MirA, MirB, MirC and MirD\n",
    "wMx = 0.004725\n",
    "wMy = 0.00642\n",
    "MirA = Entity(name = \"reflector\", \\\n",
    "              materialAV = Mirror(reflectivity = 0.88), \\\n",
    "              materialAR = Matte(reflectivity = 0.), \\\n",
    "              geo = Plane( p1 = Point(-wMx, -wMy, 0.),\n",
    "                           p2 = Point(wMx, -wMy, 0.),\n",
    "                           p3 = Point(-wMx, wMy, 0.),\n",
    "                           p4 = Point(wMx, wMy, 0.) ), \\\n",
    "              transformation = Transformation( rotation = np.array([0., 20.281725, 0.]), \\\n",
    "                                               translation = np.array([0.95, 0., 0.00517]) ))\n",
    "\n",
    "MirB = Entity(MirA); MirC = Entity(MirA); MirD = Entity(MirA);\n",
    "MirB.transformation = Transformation( rotation = np.array([0., 29.460753, 0.]), \\\n",
    "                                      translation = np.array([0.9, 0., 0.00517]) )\n",
    "MirC.transformation = Transformation( rotation = np.array([0., 35.129831, 0.]), \\\n",
    "                                      translation = np.array([0.85, 0., 0.00517]) )\n",
    "MirD.transformation = Transformation( rotation = np.array([0., 38.715473, 0.]), \\\n",
    "                                      translation = np.array([0.8, 0., 0.00517]) )\n",
    "\n",
    "# Create the receiver Recept1\n",
    "wRx = 0.006\n",
    "wRy = 0.007\n",
    "Recept1 = Entity(name = \"receptor\", TC = 0.0005, \\\n",
    "                 materialAV = Matte(reflectivity = 0.), \\\n",
    "                 materialAR = Matte(reflectivity = 0.), \\\n",
    "                 geo = Plane( p1 = Point(-wRx, -wRy, 0.),\n",
    "                              p2 = Point(wRx, -wRy, 0.),\n",
    "                              p3 = Point(-wRx, wRy, 0.),\n",
    "                              p4 = Point(wRx, wRy, 0.) ), \\\n",
    "                 transformation = Transformation( rotation = np.array([0., -101.5, 0.]), \\\n",
    "                                                  translation = np.array([1., 0., 0.1065]) ))\n",
    "\n",
    "# Create the list containing all the objects\n",
    "listobjs = [MirA, MirB, MirC, MirD, Recept1]"
   ]
  },
  {
   "cell_type": "markdown",
   "metadata": {},
   "source": [
    "## Run the simulation"
   ]
  },
  {
   "cell_type": "code",
   "execution_count": null,
   "metadata": {},
   "outputs": [],
   "source": [
    "w2 = 120.\n",
    "Pmin = [-w2, -w2, -0.5]\n",
    "Pmax = [w2, w2, 121]\n",
    "interval0 = [Pmin, Pmax]\n",
    "aer = AeroOPAC('desert', 0.25, 550.)\n",
    "pro = AtmAFGL('afglms', comp=[aer], P0 = 877, H2O=1.2)\n",
    "m = Smartg(debug_photon=False, double = True).run( surf = LambSurface(ALB=0.25), \n",
    "    THVDEG=solarDir, NF=1e6, wl=550., NBPHOTONS=1e7, NBLOOP = 1e7, atm=pro, \n",
    "    progress=False, myObjects=listobjs, BEER=1, #le={'th_deg':  np.array([0, 15, 30, 45, 60, 80]),'phi_deg': 0.,},\n",
    "    interval = interval0, IsAtm = 1, PHVDEG = 0.) #, cusForward=custumF,)"
   ]
  },
  {
   "cell_type": "markdown",
   "metadata": {},
   "source": [
    "## How to show the results ?"
   ]
  },
  {
   "cell_type": "code",
   "execution_count": null,
   "metadata": {},
   "outputs": [],
   "source": [
    "# Show the description of the simulation\n",
    "m.print_info(show_attrs=True)"
   ]
  },
  {
   "cell_type": "code",
   "execution_count": null,
   "metadata": {
    "scrolled": true
   },
   "outputs": [],
   "source": [
    "# 3D print of objects, the notebook give only a given 2D print of the 3D one\n",
    "fig1 = Analyse_create_entity(listobjs, Theta = solarDir)"
   ]
  },
  {
   "cell_type": "code",
   "execution_count": null,
   "metadata": {},
   "outputs": [],
   "source": [
    "# print the flux distribution at the receiver\n",
    "receiver_view(m, [wRx, wRy], logI=False, nameFile = '1H_02_test')"
   ]
  },
  {
   "cell_type": "code",
   "execution_count": null,
   "metadata": {},
   "outputs": [],
   "source": []
  }
 ],
 "metadata": {
  "anaconda-cloud": {},
  "hide_input": false,
  "kernelspec": {
   "display_name": "Python 3",
   "language": "python",
   "name": "python3"
  },
  "language_info": {
   "codemirror_mode": {
    "name": "ipython",
    "version": 3
   },
   "file_extension": ".py",
   "mimetype": "text/x-python",
   "name": "python",
   "nbconvert_exporter": "python",
   "pygments_lexer": "ipython3",
   "version": "3.6.5"
  },
  "toc": {
   "colors": {
    "hover_highlight": "#DAA520",
    "navigate_num": "#000000",
    "navigate_text": "#333333",
    "running_highlight": "#FF0000",
    "selected_highlight": "#FFD700",
    "sidebar_border": "#EEEEEE",
    "wrapper_background": "#FFFFFF"
   },
   "moveMenuLeft": true,
   "nav_menu": {
    "height": "509px",
    "width": "252px"
   },
   "navigate_menu": true,
   "number_sections": true,
   "sideBar": true,
   "threshold": 4,
   "toc_cell": false,
   "toc_number_sections": true,
   "toc_section_display": "block",
   "toc_threshold": 4,
   "toc_window_display": true,
   "widenNotebook": false
  },
  "toc_position": {
   "left": "1540px",
   "right": "36px",
   "top": "83px",
   "width": "300px"
  },
  "widgets": {
   "state": {
    "24d74e057a524c8c8349c8380b4cfc8c": {
     "views": [
      {
       "cell_index": 4
      }
     ]
    }
   },
   "version": "1.2.0"
  }
 },
 "nbformat": 4,
 "nbformat_minor": 1
}
