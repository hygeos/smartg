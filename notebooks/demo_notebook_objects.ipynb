{
 "cells": [
  {
   "cell_type": "markdown",
   "metadata": {},
   "source": [
    "# Smart-G demo notebook for Objects\n",
    "\n",
    "This is an interactive document allowing to run Smart-G with python and visualize the results. <br>\n",
    "*Tips*: cells can be executed with shift-enter. Tooltips can be obtained with shift-tab. More information [here](http://ipython.org/notebook.html) or in the help menu. [A table of content can also be added](https://github.com/minrk/ipython_extensions#table-of-contents)."
   ]
  },
  {
   "cell_type": "code",
   "execution_count": null,
   "metadata": {
    "ExecuteTime": {
     "end_time": "2019-05-13T08:07:57.124066Z",
     "start_time": "2019-05-13T08:07:56.910428Z"
    },
    "init_cell": true
   },
   "outputs": [],
   "source": [
    "%pylab inline\n",
    "# next 2 lines allow to automatically reload modules that have been changed externally\n",
    "%reload_ext autoreload\n",
    "%autoreload 2\n",
    "\n",
    "import os, sys, re\n",
    "sys.path.insert(0, os.path.dirname(os.getcwd()))\n",
    "from smartg.smartg import Smartg\n",
    "from smartg.smartg import LambSurface\n",
    "from smartg.atmosphere import AtmAFGL, AeroOPAC\n",
    "\n",
    "import smartg.geometry\n",
    "from smartg.geometry import Point, Vector\n",
    "import smartg.visualizegeo\n",
    "from smartg.visualizegeo import receiver_view, cat_view, Mirror, Plane, Transformation, \\\n",
    "    Entity, Analyse_create_entity, Matte, generateHfP, generateHfA, extractPoints\n",
    "from smartg.smartg import CusForward, Sensor\n",
    "from luts.luts import Idx\n",
    "from smartg.tools.smartg_view import smartg_view"
   ]
  },
  {
   "cell_type": "code",
   "execution_count": null,
   "metadata": {},
   "outputs": [],
   "source": [
    "# Uncomment below for 3D views in (only) jupyter lab\n",
    "# %matplotlib widget \n",
    "# import matplotlib.pyplot as plt"
   ]
  },
  {
   "cell_type": "markdown",
   "metadata": {},
   "source": [
    "# Quick Start"
   ]
  },
  {
   "cell_type": "markdown",
   "metadata": {},
   "source": [
    "## Creation of objects (simple example)"
   ]
  },
  {
   "cell_type": "code",
   "execution_count": null,
   "metadata": {
    "ExecuteTime": {
     "end_time": "2019-05-13T08:08:00.124877Z",
     "start_time": "2019-05-13T08:08:00.000338Z"
    }
   },
   "outputs": [],
   "source": [
    "# We want to create a simple case with a receiver and four heliostats (MirA, B, C and D).\n",
    "# The receiver will be created a x = 1km, the first heliostat at x = 950m, the\n",
    "# second heliostat at x = 900m and so on. The mirror will be oriented such that the\n",
    "# direct rays reflected by the mirrors will totally reach the receiver.\n",
    "\n",
    "# The solar zenith angle\n",
    "solarDir = 14.3\n",
    "# Create the heliostats MirA, MirB, MirC and MirD (smartg unit is the kilometer)\n",
    "wMx = 0.004725\n",
    "wMy = 0.00642\n",
    "MirA = Entity(name = \"reflector\", \\\n",
    "              materialAV = Mirror(reflectivity = 0.88), \\\n",
    "              materialAR = Matte(), \\\n",
    "              geo = Plane( p1 = Point(-wMx, -wMy, 0.),\n",
    "                           p2 = Point(wMx, -wMy, 0.),\n",
    "                           p3 = Point(-wMx, wMy, 0.),\n",
    "                           p4 = Point(wMx, wMy, 0.) ), \\\n",
    "              transformation = Transformation( rotation = np.array([0., 20.281725, 0.]), \\\n",
    "                                               translation = np.array([-0.05, 0., 0.00517]) ))\n",
    "\n",
    "MirB = Entity(MirA); MirC = Entity(MirA); MirD = Entity(MirA);\n",
    "MirB.transformation = Transformation( rotation = np.array([0., 29.460753, 0.]), \\\n",
    "                                      translation = np.array([-0.1, 0., 0.00517]) )\n",
    "MirC.transformation = Transformation( rotation = np.array([0., 35.129831, 0.]), \\\n",
    "                                      translation = np.array([-0.15, 0., 0.00517]) )\n",
    "MirD.transformation = Transformation( rotation = np.array([0., 38.715473, 0.]), \\\n",
    "                                      translation = np.array([-0.2, 0., 0.00517]) )\n",
    "\n",
    "# Create the receiver Recept1\n",
    "wRx = 0.006\n",
    "wRy = 0.007\n",
    "# TC = Taille cellule. The receiver is devided in several cells to visualize the flux distribution \n",
    "Recept1 = Entity(name = \"receiver\", TC = 0.0005, \\\n",
    "                 materialAV = Matte(reflectivity = 0.), \\\n",
    "                 materialAR = Matte(reflectivity = 0.), \\\n",
    "                 geo = Plane( p1 = Point(-wRx, -wRy, 0.),\n",
    "                              p2 = Point(wRx, -wRy, 0.),\n",
    "                              p3 = Point(-wRx, wRy, 0.),\n",
    "                              p4 = Point(wRx, wRy, 0.) ), \\\n",
    "                 transformation = Transformation( rotation = np.array([0., -101.5, 0.]), \\\n",
    "                                                  translation = np.array([0., 0., 0.1065]) ))\n",
    "\n",
    "# Create the list containing all the objects\n",
    "listobjs = [MirA, MirB, MirC, MirD, Recept1]"
   ]
  },
  {
   "cell_type": "markdown",
   "metadata": {},
   "source": [
    "## How to verify the drawing of objects"
   ]
  },
  {
   "cell_type": "code",
   "execution_count": null,
   "metadata": {
    "ExecuteTime": {
     "end_time": "2019-05-13T08:08:03.070932Z",
     "start_time": "2019-05-13T08:08:02.501398Z"
    }
   },
   "outputs": [],
   "source": [
    "# 3D print of objects (the notebook give only a 2D print of the 3D one)\n",
    "fig1 = Analyse_create_entity(ENTITY = listobjs, THEDEG = solarDir)"
   ]
  },
  {
   "cell_type": "markdown",
   "metadata": {},
   "source": [
    "## Run the simulation"
   ]
  },
  {
   "cell_type": "code",
   "execution_count": null,
   "metadata": {
    "ExecuteTime": {
     "end_time": "2019-05-13T08:08:55.794931Z",
     "start_time": "2019-05-13T08:08:08.705894Z"
    }
   },
   "outputs": [],
   "source": [
    "# In this simulation the photons from TOA are launched to fill only the\n",
    "# mirrors (ray tracing method or restricted forward method) --> cusForward = CusForward(LMODE=\"RF\")\n",
    "# By default the sun is a ponctual sun source targeting the origin (0,0,0) --> --> cusForward = None\n",
    "# For a full forward mode i.g. specify in Smartg.run() -> cusForward = CusForward(CFX=10, CFY=10, LMODE=\"FF\")\n",
    "# Where CFX is the size in kilometer in the x axis of the rectangle. Be careful, the full forward mode \n",
    "# need a big number of photons to obtain a good accuracy !\n",
    "\n",
    "w2 = 0.5\n",
    "Pmin = [-w2, -w2, -0.005]\n",
    "Pmax = [w2, w2, 0.125]\n",
    "interval0 = [Pmin, Pmax] # enable to earn some computational time, can be very usefull in FF mode\n",
    "aer = AeroOPAC('desert', 0.25, 550.)\n",
    "pro = AtmAFGL('afglms', comp=[aer], P0 = 877, H2O=1.2)\n",
    "# pro = AtmAFGL('afglms', P0 = 877, H2O=1.2)\n",
    "m = Smartg(double = True, obj3D = True).run( surf = LambSurface(ALB=0.25), \n",
    "    THVDEG=solarDir, NF=1e6, wl=550., NBPHOTONS=4e7, NBLOOP = 5e6, atm=pro,\n",
    "    myObjects=listobjs, interval = interval0, cusL = CusForward(LMODE=\"RF\"))"
   ]
  },
  {
   "cell_type": "markdown",
   "metadata": {},
   "source": [
    "## How to show the results ?"
   ]
  },
  {
   "cell_type": "code",
   "execution_count": null,
   "metadata": {
    "ExecuteTime": {
     "end_time": "2019-05-13T08:09:00.331709Z",
     "start_time": "2019-05-13T08:08:59.822740Z"
    }
   },
   "outputs": [],
   "source": [
    "# Show the description of the simulation\n",
    "m.print_info(show_attrs=True)"
   ]
  },
  {
   "cell_type": "code",
   "execution_count": null,
   "metadata": {
    "ExecuteTime": {
     "end_time": "2019-05-13T08:09:05.104889Z",
     "start_time": "2019-05-13T08:09:05.008672Z"
    }
   },
   "outputs": [],
   "source": [
    "# print the infomation at the receiver\n",
    "cat_view(m)"
   ]
  },
  {
   "cell_type": "code",
   "execution_count": null,
   "metadata": {
    "ExecuteTime": {
     "end_time": "2019-05-13T08:09:07.051192Z",
     "start_time": "2019-05-13T08:09:06.289842Z"
    }
   },
   "outputs": [],
   "source": [
    "# print the flux distribution at the receiver\n",
    "receiver_view(m['C_Receiver'][:,:], [wRx, wRy], logI=False)"
   ]
  },
  {
   "cell_type": "code",
   "execution_count": null,
   "metadata": {
    "ExecuteTime": {
     "end_time": "2019-05-13T08:09:09.413856Z",
     "start_time": "2019-05-13T08:09:08.858882Z"
    }
   },
   "outputs": [],
   "source": [
    "# print the flux distribution at the receiver from only the direct D (cat1)\n",
    "receiver_view(m['C1_Receiver'][:,:], [wRx, wRy], logI=False)"
   ]
  },
  {
   "cell_type": "code",
   "execution_count": null,
   "metadata": {
    "ExecuteTime": {
     "end_time": "2019-05-13T08:09:10.039308Z",
     "start_time": "2019-05-13T08:09:09.421518Z"
    }
   },
   "outputs": [],
   "source": [
    "# print the flux distribution at the receiver from beams from the process H only (cat2)\n",
    "receiver_view(m['C2_Receiver'][:,:], [wRx, wRy], logI=False)"
   ]
  },
  {
   "cell_type": "code",
   "execution_count": null,
   "metadata": {
    "ExecuteTime": {
     "end_time": "2019-05-13T08:09:10.443982Z",
     "start_time": "2019-05-13T08:09:10.041488Z"
    }
   },
   "outputs": [],
   "source": [
    "# print the flux distribution at the receiver from beams from the process E only (cat3)\n",
    "receiver_view(m['C3_Receiver'][:,:], [wRx, wRy], logI=False)"
   ]
  },
  {
   "cell_type": "code",
   "execution_count": null,
   "metadata": {
    "ExecuteTime": {
     "end_time": "2019-05-13T08:09:10.828902Z",
     "start_time": "2019-05-13T08:09:10.447215Z"
    }
   },
   "outputs": [],
   "source": [
    "# print the flux distribution at the receiver from beams from the process A only (cat4)\n",
    "receiver_view(m['C4_Receiver'][:,:], [wRx, wRy], logI=False)"
   ]
  },
  {
   "cell_type": "code",
   "execution_count": null,
   "metadata": {
    "ExecuteTime": {
     "end_time": "2019-05-13T08:09:13.692558Z",
     "start_time": "2019-05-13T08:09:13.097616Z"
    }
   },
   "outputs": [],
   "source": [
    "# print the flux distribution at the receiver from beams from the two processes H and A (cat5)\n",
    "receiver_view(m['C5_Receiver'][:,:], [wRx, wRy], logI=True)"
   ]
  },
  {
   "cell_type": "code",
   "execution_count": null,
   "metadata": {
    "ExecuteTime": {
     "end_time": "2019-05-13T08:09:14.087501Z",
     "start_time": "2019-05-13T08:09:13.695513Z"
    }
   },
   "outputs": [],
   "source": [
    "# print the flux distribution at the receiver from beams from the two processes H and E (cat6)\n",
    "receiver_view(m['C6_Receiver'][:,:], [wRx, wRy], logI=False)"
   ]
  },
  {
   "cell_type": "code",
   "execution_count": null,
   "metadata": {
    "ExecuteTime": {
     "end_time": "2019-05-13T08:09:14.469955Z",
     "start_time": "2019-05-13T08:09:14.089890Z"
    }
   },
   "outputs": [],
   "source": [
    "# print the flux distribution at the receiver from beams from the two processes E and A (cat7)\n",
    "receiver_view(m['C7_Receiver'][:,:], [wRx, wRy], logI=False)"
   ]
  },
  {
   "cell_type": "code",
   "execution_count": null,
   "metadata": {
    "ExecuteTime": {
     "end_time": "2019-05-13T08:09:14.927392Z",
     "start_time": "2019-05-13T08:09:14.472827Z"
    }
   },
   "outputs": [],
   "source": [
    "# print the flux distribution at the receiver from beams from the three processes H , E and A (cat8)\n",
    "receiver_view(m['C8_Receiver'][:,:], [wRx, wRy], logI=False)"
   ]
  },
  {
   "cell_type": "markdown",
   "metadata": {},
   "source": [
    "# More complex cases"
   ]
  },
  {
   "cell_type": "markdown",
   "metadata": {},
   "source": [
    "## Quick heliostat generation by giving two angles"
   ]
  },
  {
   "cell_type": "code",
   "execution_count": null,
   "metadata": {
    "ExecuteTime": {
     "end_time": "2019-05-13T08:09:17.621518Z",
     "start_time": "2019-05-13T08:09:17.409385Z"
    }
   },
   "outputs": [],
   "source": [
    "# Specify the solar zenith angle\n",
    "solarDir = 14.3\n",
    "\n",
    "# Creation of a receiver\n",
    "wRx = 0.006\n",
    "wRy = 0.007\n",
    "\n",
    "Recept2 = Entity(name = \"receiver\", TC = 0.0005, \\\n",
    "                 materialAV = Matte(reflectivity = 0.), \\\n",
    "                 materialAR = Matte(reflectivity = 0.), \\\n",
    "                 geo = Plane( p1 = Point(-wRx, -wRy, 0.),\n",
    "                              p2 = Point(wRx, -wRy, 0.),\n",
    "                              p3 = Point(-wRx, wRy, 0.),\n",
    "                              p4 = Point(wRx, wRy, 0.) ), \\\n",
    "                 transformation = Transformation( rotation = np.array([0., -101.5, 0.]), \\\n",
    "                                                  translation = np.array([0., 0., 0.1065]) ))\n",
    "\n",
    "pRe = Point(Recept2.transformation.transx, Recept2.transformation.transy, Recept2.transformation.transz)\n",
    "\n",
    "# Generation of heliostats thanks to two angles, MINANG and MAXANG.\n",
    "listobjs1 = generateHfA(THEDEG=solarDir, PR=pRe, MINANG=150, MAXANG=210, GAPDEG = 10,\n",
    "                        FDRH=0.1, NBH = 3, GAPDIST = 0.008, HSX = 0.005, HSY = 0.01,\n",
    "                        PILLH= 0.00517, REF=0.88)\n",
    "\n",
    "# Without forgetting to add the reveicer at the list of objects\n",
    "listobjs1.append(Recept2)"
   ]
  },
  {
   "cell_type": "markdown",
   "metadata": {},
   "source": [
    "## Drawing verification"
   ]
  },
  {
   "cell_type": "code",
   "execution_count": null,
   "metadata": {
    "ExecuteTime": {
     "end_time": "2019-05-13T08:09:20.297543Z",
     "start_time": "2019-05-13T08:09:19.641204Z"
    }
   },
   "outputs": [],
   "source": [
    "fig1 = Analyse_create_entity(listobjs1, THEDEG = solarDir)"
   ]
  },
  {
   "cell_type": "markdown",
   "metadata": {},
   "source": [
    "## Run the simulation"
   ]
  },
  {
   "cell_type": "code",
   "execution_count": null,
   "metadata": {
    "ExecuteTime": {
     "end_time": "2019-05-13T08:09:39.615226Z",
     "start_time": "2019-05-13T08:09:26.076264Z"
    }
   },
   "outputs": [],
   "source": [
    "aer = AeroOPAC('desert', 1, 550.)\n",
    "pro = AtmAFGL('afglms', comp=[aer])\n",
    "lMode1 = CusForward(LMODE=\"RF\")\n",
    "\n",
    "m2 = Smartg(double = True, obj3D = True).run( surf = LambSurface(ALB=0.25), \n",
    "        THVDEG=solarDir, NF=1e6, wl=550., NBPHOTONS=1e7, NBLOOP = 1e6, atm=pro,\n",
    "        myObjects=listobjs1, cusL = lMode1)"
   ]
  },
  {
   "cell_type": "code",
   "execution_count": null,
   "metadata": {
    "ExecuteTime": {
     "end_time": "2019-05-13T08:09:39.721130Z",
     "start_time": "2019-05-13T08:09:39.625065Z"
    }
   },
   "outputs": [],
   "source": [
    "m2.print_info(show_attrs=True)"
   ]
  },
  {
   "cell_type": "markdown",
   "metadata": {},
   "source": [
    "## Results"
   ]
  },
  {
   "cell_type": "code",
   "execution_count": null,
   "metadata": {
    "ExecuteTime": {
     "end_time": "2019-05-13T08:09:45.575495Z",
     "start_time": "2019-05-13T08:09:45.394631Z"
    }
   },
   "outputs": [],
   "source": [
    "cat_view(m2, acc=3)"
   ]
  },
  {
   "cell_type": "code",
   "execution_count": null,
   "metadata": {
    "ExecuteTime": {
     "end_time": "2019-05-13T08:09:46.775842Z",
     "start_time": "2019-05-13T08:09:46.183717Z"
    }
   },
   "outputs": [],
   "source": [
    "receiver_view(m2['C_Receiver'][:,:], [wRx, wRy], logI=True)"
   ]
  },
  {
   "cell_type": "markdown",
   "metadata": {},
   "source": [
    "## Quick heliostat generation by giving positions from a file"
   ]
  },
  {
   "cell_type": "code",
   "execution_count": null,
   "metadata": {
    "ExecuteTime": {
     "end_time": "2019-05-13T08:13:51.558490Z",
     "start_time": "2019-05-13T08:13:50.994964Z"
    }
   },
   "outputs": [],
   "source": [
    "# You need a file with the x, y and z positions, see the file HPOS_STP1.dat as example\n",
    "# Points of heliostats are extracted from the given file as a list of class point\n",
    "lPH = extractPoints(filename = \"../auxdata/STPs/STP1.dat\")\n",
    "\n",
    "# Specify the solar zenith angle\n",
    "solarDir = 14.3\n",
    "\n",
    "# Creation of a receiver\n",
    "wRx = 0.006\n",
    "wRy = 0.007\n",
    "\n",
    "Recept3 = Entity(name = \"receiver\", TC = 0.0005, \\\n",
    "                 materialAV = Matte(reflectivity = 0.), \\\n",
    "                 materialAR = Matte(reflectivity = 0.), \\\n",
    "                 geo = Plane( p1 = Point(-wRx, -wRy, 0.),\n",
    "                              p2 = Point(wRx, -wRy, 0.),\n",
    "                              p3 = Point(-wRx, wRy, 0.),\n",
    "                              p4 = Point(wRx, wRy, 0.) ), \\\n",
    "                 transformation = Transformation( rotation = np.array([0., -101.5, 0.]), \\\n",
    "                                                  translation = np.array([0., 0., 0.1065]) ))\n",
    "\n",
    "# Coordinate of the center of the created receiver needed for heliostat generation\n",
    "pRe = Point(Recept3.transformation.transx, Recept3.transformation.transy, Recept3.transformation.transz)\n",
    "\n",
    "# Generate heliostats thanks to a list of Points, lPH.\n",
    "listobjs2 = generateHfP(THEDEG = 14.3, PH = lPH, PR = pRe,\n",
    "                        HSX = 0.00945, HSY = 0.01284, REF = 0.88)\n",
    "\n",
    "# Without forgetting to add the reveicer at the list of objects\n",
    "listobjs2.append(Recept3)"
   ]
  },
  {
   "cell_type": "markdown",
   "metadata": {},
   "source": [
    "## Drawing verification"
   ]
  },
  {
   "cell_type": "code",
   "execution_count": null,
   "metadata": {
    "ExecuteTime": {
     "end_time": "2019-05-13T08:13:52.920900Z",
     "start_time": "2019-05-13T08:13:52.369516Z"
    }
   },
   "outputs": [],
   "source": [
    "fig1 = Analyse_create_entity(listobjs2, THEDEG = solarDir)"
   ]
  },
  {
   "cell_type": "markdown",
   "metadata": {},
   "source": [
    "## Run the simulation"
   ]
  },
  {
   "cell_type": "code",
   "execution_count": null,
   "metadata": {
    "ExecuteTime": {
     "end_time": "2019-05-10T13:24:28.855357Z",
     "start_time": "2019-05-10T13:23:33.415898Z"
    }
   },
   "outputs": [],
   "source": [
    "Pmin = [-0.12, -0.05, -0.05]\n",
    "Pmax = [0.05, 0.05, 0.125]\n",
    "# Pmin = [-120, -120, -0.05]\n",
    "# Pmax = [120, 120, 121]\n",
    "interval0 = [Pmin, Pmax] # enable to earn some computational time, can be very usefull in FF mode\n",
    "aer = AeroOPAC('desert', 0.2, 550.)\n",
    "pro = AtmAFGL('afglms', comp=[aer])\n",
    "lMode = CusForward(CFX = 0.06, CFY = 0.08, CFTX = -0.08, CFTY = 0., LMODE=\"FF\")\n",
    "m3 = Smartg(double = True, obj3D = True).run( surf = LambSurface(ALB=0.25), \n",
    "        THVDEG=solarDir, NF=1e6, wl=550., NBPHOTONS=4e7, NBLOOP = 2e6, atm=pro,\n",
    "        myObjects=listobjs2, interval = interval0, cusL = lMode)"
   ]
  },
  {
   "cell_type": "code",
   "execution_count": null,
   "metadata": {
    "ExecuteTime": {
     "end_time": "2019-05-10T13:24:32.602976Z",
     "start_time": "2019-05-10T13:24:32.181640Z"
    }
   },
   "outputs": [],
   "source": [
    "m3.print_info(show_attrs=True)"
   ]
  },
  {
   "cell_type": "markdown",
   "metadata": {},
   "source": [
    "## Results"
   ]
  },
  {
   "cell_type": "code",
   "execution_count": null,
   "metadata": {
    "ExecuteTime": {
     "end_time": "2019-05-10T13:24:38.799993Z",
     "start_time": "2019-05-10T13:24:38.688408Z"
    }
   },
   "outputs": [],
   "source": [
    "cat_view(m3)"
   ]
  },
  {
   "cell_type": "code",
   "execution_count": null,
   "metadata": {
    "ExecuteTime": {
     "end_time": "2019-05-10T13:24:46.229797Z",
     "start_time": "2019-05-10T13:24:45.535916Z"
    }
   },
   "outputs": [],
   "source": [
    "receiver_view(m3['C_Receiver'][:,:], [wRx, wRy], logI=False, vmin=0)"
   ]
  },
  {
   "cell_type": "markdown",
   "metadata": {},
   "source": [
    "# Backward mode with objects"
   ]
  },
  {
   "cell_type": "markdown",
   "metadata": {},
   "source": [
    "## Creation of the objects"
   ]
  },
  {
   "cell_type": "code",
   "execution_count": null,
   "metadata": {
    "ExecuteTime": {
     "end_time": "2019-05-13T08:14:05.275812Z",
     "start_time": "2019-05-13T08:14:05.097680Z"
    }
   },
   "outputs": [],
   "source": [
    "# Zenith and Azimuth angle of the sun, respectively Theta and phi\n",
    "Theta = 50\n",
    "Phi   = 45\n",
    "\n",
    "# Position of heliostats (list) [pH] and position of the sensor pS\n",
    "pH = [Point(-0.05, 0., 0.00517)] # here only one\n",
    "pS = Point(0., 0., 0.1065)\n",
    "\n",
    "# create the heliostats : here we need the zenith and azimuth angles\n",
    "objs = generateHfP(THEDEG = Theta, PHIDEG = Phi, PH = pH, PR = pS, \n",
    "                   HSX = 0.00945, HSY = 0.01284, REF = 0.88)\n",
    "\n",
    "# Modify the rugosity ? here -->\n",
    "objs[0].materialAV = Mirror(reflectivity = 0.88, roughness=0.1, shadow=True)\n",
    "\n",
    "# Creation of the sensor\n",
    "vS = Vector(pH[0]-pS) # direction of the sensor described by a vector\n",
    "SEN = Sensor(POSX = pS.x, POSY = pS.y, POSZ = pS.z, LOC  = 'ATMOS', FOV  = 0., TYPE = 0, V=vS)"
   ]
  },
  {
   "cell_type": "markdown",
   "metadata": {},
   "source": [
    "## Run the simulation"
   ]
  },
  {
   "cell_type": "code",
   "execution_count": null,
   "metadata": {
    "ExecuteTime": {
     "end_time": "2019-05-13T08:15:24.404153Z",
     "start_time": "2019-05-13T08:14:08.499908Z"
    }
   },
   "outputs": [],
   "source": [
    "aer = AeroOPAC('desert', 0.2, 550.)\n",
    "pro = AtmAFGL('afglms', comp=[aer])\n",
    "m4 = Smartg(double = True, obj3D = True, back = True).run( surf = LambSurface(ALB=0.25),\n",
    "                NF=1e6, wl=550., NBPHOTONS=1e8, NBLOOP = 1e7, atm=pro,\n",
    "                myObjects=objs, sensor = SEN)"
   ]
  },
  {
   "cell_type": "markdown",
   "metadata": {},
   "source": [
    "## See the results"
   ]
  },
  {
   "cell_type": "code",
   "execution_count": null,
   "metadata": {
    "ExecuteTime": {
     "end_time": "2019-05-13T08:15:31.836689Z",
     "start_time": "2019-05-13T08:15:29.157262Z"
    }
   },
   "outputs": [],
   "source": [
    "_=smartg_view(m4, QU=True, ind=Idx([0, 22, 44, 68, 90, 112, 134, 156]))"
   ]
  },
  {
   "cell_type": "code",
   "execution_count": null,
   "metadata": {},
   "outputs": [],
   "source": []
  }
 ],
 "metadata": {
  "anaconda-cloud": {},
  "hide_input": false,
  "kernelspec": {
   "display_name": "Python 3",
   "language": "python",
   "name": "python3"
  },
  "language_info": {
   "codemirror_mode": {
    "name": "ipython",
    "version": 3
   },
   "file_extension": ".py",
   "mimetype": "text/x-python",
   "name": "python",
   "nbconvert_exporter": "python",
   "pygments_lexer": "ipython3",
   "version": "3.6.5"
  },
  "toc": {
   "colors": {
    "hover_highlight": "#DAA520",
    "navigate_num": "#000000",
    "navigate_text": "#333333",
    "running_highlight": "#FF0000",
    "selected_highlight": "#FFD700",
    "sidebar_border": "#EEEEEE",
    "wrapper_background": "#FFFFFF"
   },
   "moveMenuLeft": true,
   "nav_menu": {
    "height": "509px",
    "width": "252px"
   },
   "navigate_menu": true,
   "number_sections": true,
   "sideBar": true,
   "threshold": 4,
   "toc_cell": false,
   "toc_number_sections": true,
   "toc_section_display": "block",
   "toc_threshold": 4,
   "toc_window_display": true,
   "widenNotebook": false
  },
  "toc_position": {
   "left": "1540px",
   "right": "36px",
   "top": "83px",
   "width": "300px"
  },
  "widgets": {
   "state": {
    "24d74e057a524c8c8349c8380b4cfc8c": {
     "views": [
      {
       "cell_index": 4
      }
     ]
    }
   },
   "version": "1.2.0"
  }
 },
 "nbformat": 4,
 "nbformat_minor": 2
}
