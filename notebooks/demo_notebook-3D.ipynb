{
 "cells": [
  {
   "cell_type": "markdown",
   "metadata": {
    "ExecuteTime": {
     "end_time": "2018-04-07T20:34:09.930253Z",
     "start_time": "2018-04-07T20:34:09.864857Z"
    }
   },
   "source": [
    "# Smart-G 3D demo notebook\n",
    "\n",
    "This is an interactive document allowing to run Smart-G in 3D with python and visualize the results. <br>\n",
    "*Tips*: cells can be executed with shift-enter. Tooltips can be obtained with shift-tab. More information [here](http://ipython.org/notebook.html) or in the help menu. [A table of content can also be added](https://github.com/minrk/ipython_extensions#table-of-contents)."
   ]
  },
  {
   "cell_type": "code",
   "execution_count": null,
   "metadata": {
    "ExecuteTime": {
     "end_time": "2020-03-09T20:11:12.757196Z",
     "start_time": "2020-03-09T20:11:10.150727Z"
    }
   },
   "outputs": [],
   "source": [
    "%pylab inline\n",
    "# next 2 lines allow to automatically reload modules that have been changed externally\n",
    "%reload_ext autoreload\n",
    "%autoreload 2\n",
    "from __future__ import absolute_import, division, print_function\n",
    "import os, sys\n",
    "#sys.path.insert(0, os.path.dirname(os.getcwd()))\n",
    "sys.path.insert(0, '/home/did/RTC/SMART-G/')\n",
    "from smartg.albedo import Albedo_speclib, Albedo_cst, Albedo_spectrum\n",
    "from smartg.smartg import Smartg, Sensor, type_Cell,type_Profile, type_Sensor\n",
    "from smartg.smartg import RoughSurface, LambSurface, FlatSurface, Environment\n",
    "from smartg.atmosphere import AtmAFGL, AeroOPAC, CloudOPAC, diff1, read_phase, od2k, get_o2_abs, get_co2_abs\n",
    "from smartg.water import IOP_1, IOP, IOP_profile\n",
    "from smartg.geometry import BBox, Point, Vector, CommonFace, CommonVertices\n",
    "from smartg.reptran import REPTRAN, reduce_reptran\n",
    "from smartg.tools.tools import SpherIrr, Irr, reduce_Irr\n",
    "from smartg.rrs import L2d_inv, is_odd\n",
    "from smartg.bandset import spectral_grids\n",
    "from smartg.lib3D import Get_3Dcells, Get_3Dcells_indices, Get_3Dcells_neighbours, locate_3Dregular_cells\n",
    "from luts.luts import LUT, MLUT, Idx, merge, read_mlut\n",
    "from smartg.tools.smartg_view import compare, plot_polar, spectrum , mdesc \n",
    "from smartg.tools.smartg_view import spectrum_view,transect_view,profile_view,phase_view,smartg_view,input_view\n",
    "from itertools import combinations\n",
    "import warnings\n",
    "warnings.filterwarnings(\"ignore\")\n",
    "from scipy.interpolate import interp1d\n",
    "import scipy.constants as cst\n",
    "\n",
    "# Kernel 2\n",
    "from smartg.tools.modified_environ import modified_environ\n",
    "import pycuda.driver as drv\n",
    "import pycuda.tools\n",
    "\n",
    "env_modif = {'CUDA_DEVICE': str(0)}\n",
    "with modified_environ(**env_modif):\n",
    "    import pycuda.autoinit\n",
    "print(pycuda.autoinit.device.name())\n",
    "from pycuda.compiler import SourceModule\n",
    "from pycuda.gpuarray import to_gpu, zeros as gpuzeros\n",
    "src_device = '/home/did/RTC/SMART-G/smartg/kernel2.cu'\n",
    "source=open(src_device).read()\n",
    "mod = SourceModule(source, nvcc='nvcc', no_extern_c=True)\n",
    "reduce_absorption_gpu2 = mod.get_function(\"reduce_absorption_gpu2\")\n",
    "reduce_absorption_gpu  = mod.get_function(\"reduce_absorption_gpu\")"
   ]
  },
  {
   "cell_type": "code",
   "execution_count": null,
   "metadata": {
    "ExecuteTime": {
     "end_time": "2020-03-09T20:11:15.316343Z",
     "start_time": "2020-03-09T20:11:15.198153Z"
    }
   },
   "outputs": [],
   "source": [
    "def locate_3D_cells(pro3D, xs, ys, zs):\n",
    "    cond = np.greater_equal(pro3D['pmax_atm'].data[0,:][None,:], xs[:,None]) &\\\n",
    "        np.less(            pro3D['pmin_atm'].data[0,:][None,:], xs[:,None]) &\\\n",
    "        np.greater_equal(   pro3D['pmax_atm'].data[1,:][None,:], ys[:,None]) &\\\n",
    "        np.less(            pro3D['pmin_atm'].data[1,:][None,:], ys[:,None]) &\\\n",
    "        np.greater_equal(   pro3D['pmax_atm'].data[2,:][None,:], zs[:,None]) &\\\n",
    "        np.less(            pro3D['pmin_atm'].data[2,:][None,:], zs[:,None])\n",
    "    \n",
    "    return np.where(cond)[1]"
   ]
  },
  {
   "cell_type": "markdown",
   "metadata": {},
   "source": [
    "# TOSCA 1D"
   ]
  },
  {
   "cell_type": "markdown",
   "metadata": {},
   "source": [
    "## IPRT A5 case"
   ]
  },
  {
   "cell_type": "code",
   "execution_count": null,
   "metadata": {
    "ExecuteTime": {
     "end_time": "2020-03-09T16:50:37.374821Z",
     "start_time": "2020-03-09T16:50:37.270560Z"
    }
   },
   "outputs": [],
   "source": [
    "def read_3dmcpol_a5_pp(): \n",
    "    f_iprt = '../smartg/validation/IPRT/iprt_case_a5pp_3dmcpol.dat'\n",
    "    th0    = 50.\n",
    "    mu0    = np.cos(np.radians(th0))\n",
    "    thv    = np.arange(0.0, 81.0, 1.0)\n",
    "    phi    = np.array([0.0, 180.0])\n",
    "\n",
    "    mSvRG = MLUT()\n",
    "    mSvRG.add_axis('Azimuth angles', phi)\n",
    "    mSvRG.add_axis('Zenith angles',  thv)\n",
    "    \n",
    "    f=open(f_iprt)\n",
    "    for k, lev2 in enumerate(['down (0+)','up (TOA)']):\n",
    "        I = np.full( (len(phi), len(thv) ), np.nan)\n",
    "        Q = np.full( (len(phi), len(thv) ), np.nan)\n",
    "        U = np.full( (len(phi), len(thv) ), np.nan)\n",
    "        V = np.full( (len(phi), len(thv) ), np.nan)\n",
    "        Is = np.full( (len(phi), len(thv) ), np.nan)\n",
    "        Qs = np.full( (len(phi), len(thv) ), np.nan)\n",
    "        Us = np.full( (len(phi), len(thv) ), np.nan)\n",
    "        Vs = np.full( (len(phi), len(thv) ), np.nan)\n",
    "        for iphi in range(len(phi)): \n",
    "            for imu in range(len(thv)):\n",
    "                tmp = f.readline().split()\n",
    "                if (k==0):\n",
    "                    I[iphi,imu] = float(tmp[6])   * np.pi/mu0\n",
    "                    Q[iphi,imu] = float(tmp[7])   * np.pi/mu0\n",
    "                    U[iphi,imu] = float(tmp[8])   * np.pi/mu0\n",
    "                    V[iphi,imu] = float(tmp[9])   * np.pi/mu0\n",
    "                    Is[iphi,imu] = float(tmp[10]) * np.pi/mu0\n",
    "                    Qs[iphi,imu] = float(tmp[11]) * np.pi/mu0\n",
    "                    Us[iphi,imu] = float(tmp[12]) * np.pi/mu0\n",
    "                    Vs[iphi,imu] = float(tmp[13]) * np.pi/mu0\n",
    "                else:\n",
    "                    I[iphi,-imu-1] = float(tmp[6])   * np.pi/mu0\n",
    "                    Q[iphi,-imu-1] = float(tmp[7])   * np.pi/mu0\n",
    "                    U[iphi,-imu-1] = float(tmp[8])   * np.pi/mu0\n",
    "                    V[iphi,-imu-1] = float(tmp[9])   * np.pi/mu0\n",
    "                    Is[iphi,-imu-1] = float(tmp[10]) * np.pi/mu0\n",
    "                    Qs[iphi,-imu-1] = float(tmp[11]) * np.pi/mu0\n",
    "                    Us[iphi,-imu-1] = float(tmp[12]) * np.pi/mu0\n",
    "                    Vs[iphi,-imu-1] = float(tmp[13]) * np.pi/mu0\n",
    "\n",
    "        mSvRG.add_dataset('I_'+lev2, I, [\"Azimuth angles\",\"Zenith angles\"])\n",
    "        mSvRG.add_dataset('Q_'+lev2, Q, [\"Azimuth angles\",\"Zenith angles\"])\n",
    "        mSvRG.add_dataset('U_'+lev2, U, [\"Azimuth angles\",\"Zenith angles\"])\n",
    "        mSvRG.add_dataset('V_'+lev2, V, [\"Azimuth angles\",\"Zenith angles\"])\n",
    "        mSvRG.add_dataset('N_'+lev2, np.zeros_like(I),   [\"Azimuth angles\",\"Zenith angles\"])\n",
    "        mSvRG.add_dataset('I_stdev_'+lev2, Is, [\"Azimuth angles\",\"Zenith angles\"])\n",
    "        mSvRG.add_dataset('Q_stdev_'+lev2, Qs, [\"Azimuth angles\",\"Zenith angles\"])\n",
    "        mSvRG.add_dataset('U_stdev_'+lev2, Us, [\"Azimuth angles\",\"Zenith angles\"])\n",
    "        mSvRG.add_dataset('V_stdev_'+lev2, Vs, [\"Azimuth angles\",\"Zenith angles\"])\n",
    "\n",
    "    return mSvRG \n",
    "\n",
    "def read_3dmcpol_c2_pp(iset=1, icase=4):\n",
    "    \n",
    "    f_iprt = '../smartg/validation/IPRT/iprt_case_C2_3DMCPOL.dat'\n",
    "    th0    = 40.\n",
    "    mu0    = np.cos(np.radians(th0))\n",
    "    thv    = np.array([0.])\n",
    "    phi    = np.array([0.])\n",
    "    si     = np.arange(4900)\n",
    "\n",
    "    mSvRG = MLUT()\n",
    "    mSvRG.add_axis('Zenith angles',  thv)\n",
    "    mSvRG.add_axis('sensor index' ,  si)\n",
    "    \n",
    "    f=open(f_iprt)\n",
    "    lev2 = 'up (TOA)'\n",
    "\n",
    "    I  = np.full( (len(si), len(thv) ), np.nan)\n",
    "    Q  = np.full( (len(si), len(thv) ), np.nan)\n",
    "    U  = np.full( (len(si), len(thv) ), np.nan)\n",
    "    V  = np.full( (len(si), len(thv) ), np.nan)\n",
    "    Is = np.full( (len(si), len(thv) ), np.nan)\n",
    "    Qs = np.full( (len(si), len(thv) ), np.nan)\n",
    "    Us = np.full( (len(si), len(thv) ), np.nan)\n",
    "    Vs = np.full( (len(si), len(thv) ), np.nan)\n",
    "    \n",
    "    imu=0\n",
    "\n",
    "    for k in range(3 + (4900*9*iset) + (4900*icase)):\n",
    "        f.readline()\n",
    "    for i in range(4900):\n",
    "        tmp = f.readline().split()\n",
    "        I[i,imu]  = float(tmp[7])  * np.pi/mu0\n",
    "        Q[i,imu]  = float(tmp[8])  * np.pi/mu0\n",
    "        U[i,imu]  = float(tmp[9])  * np.pi/mu0\n",
    "        V[i,imu]  = float(tmp[10])  * np.pi/mu0\n",
    "        Is[i,imu] = float(tmp[11]) * np.pi/mu0\n",
    "        Qs[i,imu] = float(tmp[12]) * np.pi/mu0\n",
    "        Us[i,imu] = float(tmp[13]) * np.pi/mu0\n",
    "        Vs[i,imu] = float(tmp[14]) * np.pi/mu0\n",
    "        \n",
    "    mSvRG.add_dataset('I_'+lev2, I, [\"sensor index\",\"Zenith angles\"])\n",
    "    mSvRG.add_dataset('Q_'+lev2, Q, [\"sensor index\",\"Zenith angles\"])\n",
    "    mSvRG.add_dataset('U_'+lev2, U, [\"sensor index\",\"Zenith angles\"])\n",
    "    mSvRG.add_dataset('V_'+lev2, V, [\"sensor index\",\"Zenith angles\"])\n",
    "    mSvRG.add_dataset('N_'+lev2, np.zeros_like(I),   [\"sensor index\",\"Zenith angles\"])\n",
    "    mSvRG.add_dataset('I_stdev_'+lev2, Is, [\"sensor index\",\"Zenith angles\"])\n",
    "    mSvRG.add_dataset('Q_stdev_'+lev2, Qs, [\"sensor index\",\"Zenith angles\"])\n",
    "    mSvRG.add_dataset('U_stdev_'+lev2, Us, [\"sensor index\",\"Zenith angles\"])\n",
    "    mSvRG.add_dataset('V_stdev_'+lev2, Vs, [\"sensor index\",\"Zenith angles\"])\n",
    "\n",
    "    return mSvRG "
   ]
  },
  {
   "cell_type": "code",
   "execution_count": null,
   "metadata": {
    "ExecuteTime": {
     "end_time": "2020-03-09T16:50:41.707238Z",
     "start_time": "2020-03-09T16:50:41.234950Z"
    }
   },
   "outputs": [],
   "source": [
    "# Read 3DMCPOL from IPRT website\n",
    "mcpol_pp=read_3dmcpol_a5_pp()\n",
    "\n",
    "# Cloud Phase matrix\n",
    "cld_phase = read_mlut('/home/did/RTC/SMART-G/smartg/validation/watercloud_IPRT_A5.mie.nc')\n",
    "ntheta = cld_phase['ntheta'][0,0,0]\n",
    "wl     = cld_phase['wavelen'].data*1e3\n",
    "wl=[350.]\n",
    "l=[]\n",
    "l.append(cld_phase['phase'][:,:,0,:ntheta].ravel() + cld_phase['phase'][:,:,1,:ntheta].ravel())\n",
    "l.append(cld_phase['phase'][:,:,0,:ntheta].ravel() - cld_phase['phase'][:,:,1,:ntheta].ravel())\n",
    "l.append(cld_phase['phase'][:,:,2,:ntheta].ravel())\n",
    "l.append(cld_phase['phase'][:,:,3,:ntheta].ravel())\n",
    "# Normalization to 2\n",
    "p=cld_phase['phase'][:,:,0,:ntheta].ravel()\n",
    "theta=cld_phase['theta'][:,:,0,:ntheta].ravel()[::-1]\n",
    "mu= np.cos(np.radians(theta))\n",
    "Norm = np.trapz(p,-mu)\n",
    "data = np.array(l) \n",
    "print ('phase function norm: ', Norm)\n",
    "#data = np.array(l) * (2./Norm)\n",
    "# 2) store data in a LUT object with 4 dimensions, the z dimension is restricted to one level of altitude 0\n",
    "pha_cld = LUT(data[None, None, :, ::-1], names=['wav_phase', 'z_phase', 'stk', 'theta_atm'],\n",
    "          axes=[wl, np.array([0.]), None, cld_phase['theta'][:,:,0,:ntheta].ravel()[::-1]]\n",
    "         )\n",
    "\n",
    "# Layering and angles\n",
    "th0  = 50.\n",
    "COT  = 5. # at 800 nm\n",
    "cld  = CloudOPAC('wc.sol', 3., 0.5, 10., COT, wl, phase=pha_cld)\n",
    "NL   = 1\n",
    "grid = np.linspace(100, 0., num=NL+1)\n",
    "atm  = AtmAFGL('afglt', O3=0., comp=[cld], tauR=1e-20, NO2=False, grid=grid)\n",
    "le   = {'phi_deg':np.linspace(0.,180., num=2), 'th_deg':np.linspace(0., 80., num=81)}"
   ]
  },
  {
   "cell_type": "markdown",
   "metadata": {},
   "source": [
    "### Principal plane"
   ]
  },
  {
   "cell_type": "code",
   "execution_count": null,
   "metadata": {
    "ExecuteTime": {
     "end_time": "2020-03-09T16:51:00.062654Z",
     "start_time": "2020-03-09T16:50:44.535920Z"
    }
   },
   "outputs": [],
   "source": [
    "%%time\n",
    "ma5_1e6 = Smartg(double=True, alt_pp=True).run(wl=800., atm=atm, le=le, \n",
    "                                            NBPHOTONS=1e6, OUTPUT_LAYERS=3, THVDEG=th0,\n",
    "                                           stdev=True)"
   ]
  },
  {
   "cell_type": "code",
   "execution_count": null,
   "metadata": {
    "ExecuteTime": {
     "end_time": "2020-03-09T16:51:06.967261Z",
     "start_time": "2020-03-09T16:51:06.859569Z"
    }
   },
   "outputs": [],
   "source": [
    "# 3DMCPOL 1e8 photons 21 hours 25 min for one field (TOA)\n",
    "# T = (21*3600+ 25*60)*2.\n",
    "# 3DMCPOL 1e6 photons 20 mins 06 sec  for one field (TOA)\n",
    "T = 20*60 + 6\n",
    "print ('3DMCPOL: %.1f'%T)\n",
    "print('%.2f'%(float(ma5_1e6.attrs['kernel time (s)'])))"
   ]
  },
  {
   "cell_type": "code",
   "execution_count": null,
   "metadata": {
    "ExecuteTime": {
     "end_time": "2020-03-09T16:51:33.815203Z",
     "start_time": "2020-03-09T16:51:33.043471Z"
    }
   },
   "outputs": [],
   "source": [
    "_=compare(ma5_1e8, mcpol_pp,same_azimuth_convention=False, azimuth=[0.0, 0.0], errb=True,\n",
    "        vmax=[1.5, 0.1, 0.01, 50], vmin=[0, -0.1, -0.01, 0], \n",
    "        emax=[0.01, 0.001, 0.001, 0.5], ermax=[1,5,20,5])"
   ]
  },
  {
   "cell_type": "code",
   "execution_count": null,
   "metadata": {
    "ExecuteTime": {
     "end_time": "2019-12-26T20:17:41.372266Z",
     "start_time": "2019-12-26T20:17:38.994468Z"
    }
   },
   "outputs": [],
   "source": [
    "_=compare(ma5_1e8, mcpol_pp,same_azimuth_convention=True, azimuth=[0.0, 0.0], errb=True,\n",
    "        vmax=[1.5, 0.05, 0.001, 10], vmin=[-1., -0.05, -0.001, 0], field='down (0+)', logI=True,\n",
    "        emax=[0.5, 0.001, 0.001, 0.5], ermax=[5,5,20,5])"
   ]
  },
  {
   "cell_type": "code",
   "execution_count": null,
   "metadata": {
    "ExecuteTime": {
     "end_time": "2020-03-09T16:51:54.539551Z",
     "start_time": "2020-03-09T16:51:41.281020Z"
    }
   },
   "outputs": [],
   "source": [
    "%%time\n",
    "ma5_1e6 = Smartg(double=True, alt_pp=False).run(wl=800., atm=atm, le=le, \n",
    "                                            NBPHOTONS=1e6, OUTPUT_LAYERS=3, THVDEG=th0,\n",
    "                                           stdev=True)"
   ]
  },
  {
   "cell_type": "code",
   "execution_count": null,
   "metadata": {
    "ExecuteTime": {
     "end_time": "2020-03-09T16:51:57.063680Z",
     "start_time": "2020-03-09T16:51:54.542711Z"
    }
   },
   "outputs": [],
   "source": [
    "_=compare(ma5_1e6, mcpol_pp,same_azimuth_convention=False, azimuth=[0.0, 0.0], errb=True,\n",
    "        vmax=[1.5, 0.1, 0.01, 50], vmin=[0, -0.1, -0.01, 0], \n",
    "        emax=[0.1, 0.01, 0.01, 1], ermax=[10,10,10,10])"
   ]
  },
  {
   "cell_type": "code",
   "execution_count": null,
   "metadata": {
    "ExecuteTime": {
     "end_time": "2020-03-09T16:52:10.831475Z",
     "start_time": "2020-03-09T16:51:57.066019Z"
    }
   },
   "outputs": [],
   "source": [
    "%%time\n",
    "ma5_alt_1e6 = Smartg(double=True, alt_pp=True).run(wl=800., atm=atm, le=le,\n",
    "                                            NBPHOTONS=1e6, OUTPUT_LAYERS=3, THVDEG=th0,\n",
    "                                            stdev=True)"
   ]
  },
  {
   "cell_type": "code",
   "execution_count": null,
   "metadata": {
    "ExecuteTime": {
     "end_time": "2020-03-09T16:52:13.026965Z",
     "start_time": "2020-03-09T16:52:10.834721Z"
    }
   },
   "outputs": [],
   "source": [
    "_=compare(ma5_alt_1e6, mcpol_pp,same_azimuth_convention=False, azimuth=[0.0, 0.0], errb=True,\n",
    "        vmax=[1.5, 0.1, 0.01, 50], vmin=[0, -0.1, -0.01, 0], \n",
    "        emax=[0.1, 0.01, 0.01, 1], ermax=[10,10,10,10])"
   ]
  },
  {
   "cell_type": "markdown",
   "metadata": {},
   "source": [
    "## IPRT B1 case"
   ]
  },
  {
   "cell_type": "code",
   "execution_count": null,
   "metadata": {
    "ExecuteTime": {
     "end_time": "2020-03-09T16:52:20.415830Z",
     "start_time": "2020-03-09T16:52:20.040295Z"
    }
   },
   "outputs": [],
   "source": [
    "NL   = 30\n",
    "grid = np.linspace(30, 0., num=NL+1)\n",
    "atm  = AtmAFGL('afglt', O3=0., NO2=False, grid=grid)\n",
    "le   = {'phi_deg':np.linspace(0.,180., num=37), 'th_deg':np.linspace(0., 85., num=19)}\n",
    "th0  = 50."
   ]
  },
  {
   "cell_type": "code",
   "execution_count": null,
   "metadata": {
    "ExecuteTime": {
     "end_time": "2020-03-09T16:53:10.686231Z",
     "start_time": "2020-03-09T16:52:21.341473Z"
    }
   },
   "outputs": [],
   "source": [
    "%%time\n",
    "m1DA_B1_1e6 = Smartg(double=True, alt_pp=True, alis=True).run(wl=450., atm=atm, le=le, NBLOOP=1e5, NF=1e3,\n",
    "                                            NBPHOTONS=1e6, OUTPUT_LAYERS=0, THVDEG=th0,\n",
    "                                           stdev=False, alis_options={'nlow':-1})"
   ]
  },
  {
   "cell_type": "code",
   "execution_count": null,
   "metadata": {
    "ExecuteTime": {
     "end_time": "2020-03-09T16:53:44.385463Z",
     "start_time": "2020-03-09T16:53:16.176791Z"
    }
   },
   "outputs": [],
   "source": [
    "%%time\n",
    "mfast1DA_B1_1e6 = Smartg(double=True, alt_pp=False, alis=True).run(wl=450., atm=atm, le=le, NBLOOP=1e5, NF=1e3,\n",
    "                                            NBPHOTONS=1e6, OUTPUT_LAYERS=0, THVDEG=th0,\n",
    "                                           stdev=False, alis_options={'nlow':-1})"
   ]
  },
  {
   "cell_type": "code",
   "execution_count": null,
   "metadata": {
    "ExecuteTime": {
     "end_time": "2020-03-09T16:53:55.812413Z",
     "start_time": "2020-03-09T16:53:44.388281Z"
    }
   },
   "outputs": [],
   "source": [
    "%%time\n",
    "m1D_B1_1e6 = Smartg(double=True, alt_pp=True, alis=False).run(wl=450., atm=atm, le=le, NBLOOP=1e5, NF=1e3,\n",
    "                                            NBPHOTONS=1e6, OUTPUT_LAYERS=0, THVDEG=th0,\n",
    "                                           stdev=False, alis_options={'nlow':-1})"
   ]
  },
  {
   "cell_type": "code",
   "execution_count": null,
   "metadata": {
    "ExecuteTime": {
     "end_time": "2020-03-09T16:53:59.582090Z",
     "start_time": "2020-03-09T16:53:55.815221Z"
    }
   },
   "outputs": [],
   "source": [
    "%%time\n",
    "mfast1D_B1_1e6 = Smartg(double=True, alt_pp=False, alis=False).run(wl=450., atm=atm, le=le, NBLOOP=1e5, NF=1e3,\n",
    "                                            NBPHOTONS=1e6, OUTPUT_LAYERS=0, THVDEG=th0,\n",
    "                                           stdev=False, alis_options={'nlow':-1})"
   ]
  },
  {
   "cell_type": "code",
   "execution_count": null,
   "metadata": {
    "ExecuteTime": {
     "end_time": "2020-03-09T16:54:01.531384Z",
     "start_time": "2020-03-09T16:54:00.314324Z"
    }
   },
   "outputs": [],
   "source": [
    "_=smartg_view(mfast1DA_B1_1e6)"
   ]
  },
  {
   "cell_type": "markdown",
   "metadata": {},
   "source": [
    "# TOSCA 3D"
   ]
  },
  {
   "cell_type": "markdown",
   "metadata": {},
   "source": [
    "## Bounding Box"
   ]
  },
  {
   "cell_type": "markdown",
   "metadata": {},
   "source": [
    "![Image of Bounding Box](https://static.packt-cdn.com/products/9781787123663/graphics/B05887_7_5.jpg)"
   ]
  },
  {
   "cell_type": "markdown",
   "metadata": {},
   "source": [
    "## Cube Mapping"
   ]
  },
  {
   "cell_type": "markdown",
   "metadata": {},
   "source": [
    "![Image of Cube Mapping](https://upload.wikimedia.org/wikipedia/commons/thumb/e/ea/Cube_map.svg/599px-Cube_map.svg.png)"
   ]
  },
  {
   "cell_type": "markdown",
   "metadata": {},
   "source": [
    "## IPRT B1"
   ]
  },
  {
   "cell_type": "code",
   "execution_count": null,
   "metadata": {
    "ExecuteTime": {
     "end_time": "2020-03-09T16:54:09.341316Z",
     "start_time": "2020-03-09T16:54:08.657045Z"
    }
   },
   "outputs": [],
   "source": [
    "# B1 IPRT data\n",
    "Nz      = 30\n",
    "zgrid   = np.linspace(0, 30., num=Nz+1)\n",
    "Nx, Ny  = 1, 1\n",
    "Nl      = Nz + 1                  # number of levels in Z\n",
    "Dx, Dy  = 1e6, 1e6           # horizontal grid interval in km\n",
    "assert Nl==zgrid.size\n",
    "\n",
    "#zgrid = np.concatenate([zgrid, np.array([120.])])\n",
    "(idx,idy,idz), (NX,NY,NZ), (xgrid, ygrid, zgrid), neigh, pmin, pmax = \\\n",
    "    Get_3Dcells(Nx=Nx, Ny=Ny, Dx=Dx, Dy=Dy, z=zgrid, SAT_ALTITUDE=110, periodic=False, HORIZ_EXTENT_LENGTH=0)\n",
    "Ncell   = NX*NY*NZ\n",
    "znew    = zgrid[::-1]\n",
    "atm     = AtmAFGL('afglt', O3=0., NO2=False, grid=znew)\n",
    "\n",
    "# Sun position\n",
    "SAA    = 0.\n",
    "SZA    = 50.\n",
    "POSX   = 0.\n",
    "POSY   = 0.\n",
    "POSZ   = 29.99\n",
    "# LE directions\n",
    "le   = {'phi_deg':np.linspace(0.,180., num=37), 'th_deg':np.linspace(0., 85., num=19)}\n",
    "# cell index\n",
    "ICELL = locate_3Dregular_cells(xgrid, ygrid,zgrid, POSX, POSY, POSZ)\n",
    "# sensor object\n",
    "sensor = Sensor(POSX=POSX, POSY=POSY, POSZ=POSZ, FOV=0., TYPE=0,\n",
    "                          THDEG=180.-SZA, PHDEG=180.-SAA, LOC='ATMOS', ICELL=ICELL)\n",
    "\n",
    "#Rayleigh\n",
    "wls         = [450.]\n",
    "sca_ray     = od2k(AtmAFGL('afglt', O3=0., NO2=True, grid=znew).calc(wls), 'OD_r')\n",
    "sca_ray3D   = np.concatenate([sca_ray], axis=1)\n",
    "sca_ray3D   = sca_ray"
   ]
  },
  {
   "cell_type": "code",
   "execution_count": null,
   "metadata": {
    "ExecuteTime": {
     "end_time": "2020-03-09T16:54:11.750427Z",
     "start_time": "2020-03-09T16:54:11.351117Z"
    },
    "run_control": {
     "marked": false
    }
   },
   "outputs": [],
   "source": [
    "## Mapping optical propoerties and cells\n",
    "# 1 clear profile + number of cloud cells opt. prop. (here 1 per cell)\n",
    "Nopt        = NZ + 1 \n",
    "iopt        = np.zeros(Ncell, dtype=np.int32)\n",
    "iabs        = np.zeros_like(iopt)\n",
    "iopt[:]     = np.arange(Nopt)[NZ-idz] # Scattering depending on Z for clear atmosphere (Rayleigh)\n",
    "iabs[:]     = np.arange(Nopt)[NZ-idz] # Absorption depending on Z only\n",
    "\n",
    "atm_arr = np.zeros((Nopt,9))\n",
    "#atm_arr[:,0] = np.arange(Nopt)[::-1]\n",
    "atm_arr[:,0] = zgrid\n",
    "np.savetxt('./tmp.dat', atm_arr)\n",
    "Nabs        = iabs.max().astype(np.int32)\n",
    "\n",
    "### profiles computations\n",
    "#atm3D = AtmAFGL('./tmp.dat', US=False,\n",
    "atm3D = AtmAFGL('afglt', US=False,\n",
    "                    grid        = zgrid,\n",
    "                    prof_ray    = sca_ray3D,\n",
    "                    cells       = (iopt, iabs, pmin, pmax, neigh)\n",
    "                   )\n",
    "pro3D  = atm3D.calc(wls)"
   ]
  },
  {
   "cell_type": "code",
   "execution_count": null,
   "metadata": {
    "ExecuteTime": {
     "end_time": "2020-03-09T16:54:55.250269Z",
     "start_time": "2020-03-09T16:54:14.281446Z"
    }
   },
   "outputs": [],
   "source": [
    "%%time\n",
    "NB     = 1e6\n",
    "m3D_B1_1e6    = Smartg(opt3D=True).run(wl=wls, NBPHOTONS=NB, NBLOOP=1e5, atm=pro3D.sub({'wavelength':np.arange(1)}), \n",
    "                 sensor=sensor, le=le, NF=1e3).sub({'wavelength':np.arange(1)})"
   ]
  },
  {
   "cell_type": "code",
   "execution_count": null,
   "metadata": {
    "ExecuteTime": {
     "end_time": "2020-03-09T16:56:03.824653Z",
     "start_time": "2020-03-09T16:54:55.253042Z"
    }
   },
   "outputs": [],
   "source": [
    "NB      = 1e6\n",
    "m3DA_B1_1e6    = Smartg(opt3D=True, alis=True).run(wl=wls, NBPHOTONS=NB, NBLOOP=1e5, atm=pro3D.sub({'wavelength':np.arange(1)}), \n",
    "                 sensor=sensor, le=le, NF=1e3, alis_options={'nlow':-1}).sub({'wavelength':np.arange(1)})"
   ]
  },
  {
   "cell_type": "code",
   "execution_count": null,
   "metadata": {
    "ExecuteTime": {
     "end_time": "2020-03-09T16:56:04.191230Z",
     "start_time": "2020-03-09T16:56:03.834496Z"
    }
   },
   "outputs": [],
   "source": [
    "# 3DMCPOL 1e6 photons 8 mins 03 sec  for one field (TOA)\n",
    "T = 8*60 + 3\n",
    "print ('3DMCPOL: %.1f'%T)\n",
    "print('%.2f'%(float(m3DA_B1_1e6.attrs['kernel time (s)'])))\n",
    "print('%.2f'%(float(m3D_B1_1e6.attrs['kernel time (s)'])))\n",
    "print('%.2f'%(float(m1DA_B1_1e6.attrs['kernel time (s)'])))\n",
    "print('%.2f'%(float(m1D_B1_1e6.attrs['kernel time (s)'])))\n",
    "print('%.2f'%(float(mfast1DA_B1_1e6.attrs['kernel time (s)'])))\n",
    "print('%.2f'%(float(mfast1D_B1_1e6.attrs['kernel time (s)'])))"
   ]
  },
  {
   "cell_type": "code",
   "execution_count": null,
   "metadata": {
    "ExecuteTime": {
     "end_time": "2020-01-21T09:38:18.442789Z",
     "start_time": "2020-01-21T09:38:18.314815Z"
    }
   },
   "outputs": [],
   "source": [
    "m3DA.describe()"
   ]
  },
  {
   "cell_type": "markdown",
   "metadata": {},
   "source": [
    "# 3D profiles from 1D profiles an Bounding Boxes Grid"
   ]
  },
  {
   "cell_type": "markdown",
   "metadata": {},
   "source": [
    "**1D profiles with \"OPT3D\" option**"
   ]
  },
  {
   "cell_type": "code",
   "execution_count": null,
   "metadata": {
    "ExecuteTime": {
     "end_time": "2019-12-18T12:02:51.815023Z",
     "start_time": "2019-12-18T12:02:50.362108Z"
    }
   },
   "outputs": [],
   "source": [
    "wl = [510.]\n",
    "wl = np.linspace(420., 500., num=21)\n",
    "znew = np.array([100.,80.,60.,40.,20.,15.,10.,9.,8.,7.,6.,5.,4.,3.,2.,1.,0.])\n",
    "NL   = len(znew)\n",
    "print('NLayer:', NL)\n",
    "COT = 5. # at 800 nm\n",
    "cld  = CloudOPAC('wc.sol', 3., 9., 10., COT, wl[0], phase=pha_cld)\n",
    "cld0 = CloudOPAC('wc.sol', 3., 1., 2., 2.,  wl[0], phase=pha_cld)\n",
    "pfwav = [wl[0]]\n",
    "pro_clr3D = AtmAFGL('afglt', grid=znew, OPT3D=True,  pfwav= pfwav).calc(wl, phase=True)\n",
    "pro_cld3D = AtmAFGL('afglt', grid=znew, comp=[cld0,cld],  OPT3D=True,  pfwav=pfwav).calc(wl, phase=True)\n",
    "pro_clr1D = AtmAFGL('afglt', grid=znew, OPT3D=False, pfwav= pfwav).calc(wl, phase=True)\n",
    "pro_cld1D = AtmAFGL('afglt', grid=znew, comp=[cld0,cld] , OPT3D=False, pfwav= pfwav).calc(wl, phase=True)\n",
    "\n",
    "pro_aer3D = AtmAFGL('afglt', grid=znew, comp=[AeroOPAC('urban', 5., 550.)],  OPT3D=True,  pfwav=pfwav).calc(wl, phase=True)\n",
    "\n",
    "# Dev Image\n",
    "pro_clr3D2= AtmAFGL('afglt', grid=znew, comp=[cld0],OPT3D=True,  O3=1000.,  \n",
    "                    pfwav= pfwav).calc(wl, phase=True)"
   ]
  },
  {
   "cell_type": "code",
   "execution_count": null,
   "metadata": {
    "ExecuteTime": {
     "end_time": "2019-12-11T13:35:44.985701Z",
     "start_time": "2019-12-11T13:35:44.869728Z"
    }
   },
   "outputs": [],
   "source": [
    "# OPT3D=True allows vertical limits of Bounding Boxes to be \n",
    "# defined\n",
    "pro_cld3D.describe()"
   ]
  },
  {
   "cell_type": "markdown",
   "metadata": {},
   "source": [
    "**3D profile from 1D profiles : Horizontal Boundaries**"
   ]
  },
  {
   "cell_type": "code",
   "execution_count": null,
   "metadata": {
    "ExecuteTime": {
     "end_time": "2019-12-18T12:56:56.827684Z",
     "start_time": "2019-12-18T12:56:56.403199Z"
    },
    "run_control": {
     "marked": false
    }
   },
   "outputs": [],
   "source": [
    "# Simplest case : just one profile\n",
    "HLONGX= 1e4\n",
    "HLONGY= 1e4\n",
    "H_boundaries = np.array([[-HLONGX, HLONGX, -HLONGY, HLONGY]])\n",
    "p3D = pro3D_from_1D([pro_clr3D], H_boundaries=H_boundaries).describe()\n",
    "p1D = pro_clr1D.describe()"
   ]
  },
  {
   "cell_type": "code",
   "execution_count": null,
   "metadata": {
    "ExecuteTime": {
     "end_time": "2019-12-11T13:35:57.202093Z",
     "start_time": "2019-12-11T13:35:56.748836Z"
    }
   },
   "outputs": [],
   "source": [
    "pcolormesh(p3D['neighbour_atm'].data, vmin=-5, vmax=None, cmap=cm.jet)\n",
    "xlabel('BBox index')\n",
    "ylabel('Face number')\n",
    "title('Neighbouring box indices per face')\n",
    "colorbar()\n",
    "# -5 : absorbing boundary\n",
    "# -2 : surface\n",
    "# -1 : TOA"
   ]
  },
  {
   "cell_type": "code",
   "execution_count": null,
   "metadata": {
    "ExecuteTime": {
     "end_time": "2019-12-11T13:40:08.273949Z",
     "start_time": "2019-12-11T13:40:06.543115Z"
    }
   },
   "outputs": [],
   "source": [
    "S3D = Smartg(opt3D=True, alt_pp=True) # 3D"
   ]
  },
  {
   "cell_type": "code",
   "execution_count": null,
   "metadata": {
    "ExecuteTime": {
     "start_time": "2019-12-11T13:37:27.451Z"
    }
   },
   "outputs": [],
   "source": [
    "le={'th_deg':np.linspace(0., 80., num=1), 'phi_deg':np.linspace(30., 210., num=1)}\n",
    "surf=None\n",
    "\n",
    "POSZ, POSX, POSY = 99.99, -0.1, -0.1 # TOA sensor\n",
    "THDEG, PHDEG = 120., 0.   # Oblique view (VZA : 180-120 = 60)\n",
    "IBOX = get_iboxes(p3D, poss=[Point(POSX, POSY, POSZ)]) # inittialize BBox id from position and 3D profile\n",
    "sensor = Sensor(POSZ=POSZ, POSX=POSX, POSY=POSY, THDEG=THDEG, PHDEG=PHDEG, LOC='ATMOS', IBOX=IBOX)\n",
    "NB=1e6\n",
    "\n",
    "m3D  = S3D.run(wl=wl,  NBPHOTONS=NB, atm=p3D, sensor=sensor, le=le, surf=surf, \n",
    "               stdev=True, NF=1e4, progress=False)"
   ]
  },
  {
   "cell_type": "code",
   "execution_count": null,
   "metadata": {
    "ExecuteTime": {
     "end_time": "2019-12-11T09:43:38.987805Z",
     "start_time": "2019-12-11T09:43:38.528237Z"
    }
   },
   "outputs": [],
   "source": [
    "m3D['I_up (TOA)'].sub()[:,0,0].plot()"
   ]
  },
  {
   "cell_type": "markdown",
   "metadata": {
    "heading_collapsed": true
   },
   "source": [
    "## Compilation options"
   ]
  },
  {
   "cell_type": "code",
   "execution_count": null,
   "metadata": {
    "ExecuteTime": {
     "end_time": "2019-12-09T14:37:00.130274Z",
     "start_time": "2019-12-09T14:35:16.797652Z"
    },
    "hidden": true
   },
   "outputs": [],
   "source": [
    "# Backward mode activated for 3D comparisons\n",
    "S   = Smartg(back=True, double=True, device=0) # \"Fast\" 1D PP (~ Maximum cross section or Null ?)\n",
    "S0  = Smartg(alt_pp=True, back=True, double=True) # Layers loop 1D PP\n",
    "S3D = Smartg(opt3D=True, alt_pp=True, back=True, double=True) # 3D\n",
    "Ssp = Smartg(pp=False, back=True, double=True) # Layers loop 1S Spherical\n",
    "\n",
    "# ALIS version (for clear atmospheres)\n",
    "S0A = Smartg(alt_pp=True, alis=True, back=True, double=True)\n",
    "S3DA= Smartg(opt3D=True,  alt_pp=True, alis=True, back=True, double=True)\n",
    "SspA= Smartg(pp=False,    alis=True, back=True, double=True)\n",
    "surf  = None"
   ]
  },
  {
   "cell_type": "markdown",
   "metadata": {
    "hidden": true
   },
   "source": [
    "### One solar direction, One pixel"
   ]
  },
  {
   "cell_type": "markdown",
   "metadata": {
    "hidden": true
   },
   "source": [
    "#### Local estimate"
   ]
  },
  {
   "cell_type": "code",
   "execution_count": null,
   "metadata": {
    "ExecuteTime": {
     "end_time": "2019-12-09T14:42:25.315365Z",
     "start_time": "2019-12-09T14:42:23.510076Z"
    },
    "hidden": true,
    "scrolled": false
   },
   "outputs": [],
   "source": [
    "le={'th_deg':np.linspace(0., 80., num=1), 'phi_deg':np.linspace(30., 210., num=1)}\n",
    "\n",
    "POSZ, POSX, POSY = 99.99, -0.1, -0.1 # TOA sensor\n",
    "THDEG, PHDEG = 120., 0.   # Oblique view (VZA : 180-120 = 60)\n",
    "IBOX = get_iboxes(p3D, poss=[Point(POSX, POSY, POSZ)]) # inittialize BBox id from position and 3D profile\n",
    "sensor = Sensor(POSZ=POSZ, POSX=POSX, POSY=POSY, THDEG=THDEG, PHDEG=PHDEG, LOC='ATMOS', IBOX=IBOX)\n",
    "NB=1e6\n",
    "m    = S.run(  wl=wl,  NBPHOTONS=NB, atm=p1D, sensor=sensor, le=le, surf=surf, \n",
    "             stdev=True, NF=1e4, progress=False)\n",
    "m0   = S0.run( wl=wl,  NBPHOTONS=NB, atm=p1D, sensor=sensor, le=le, surf=surf, \n",
    "              stdev=True, NF=1e4, progress=False)\n",
    "m3D  = S3D.run(wl=wl,  NBPHOTONS=NB, atm=p3D, sensor=sensor, le=le, surf=surf, \n",
    "               stdev=True, NF=1e4, progress=False)\n",
    "\n",
    "m0A =   S0A.run(wl=wl,  NBPHOTONS=NB, atm=p1D, sensor=sensor, le=le, surf=surf, \n",
    "              alis_options={'nlow':-1}, stdev=True, NF=1e4, progress=False)\n",
    "m3DA = S3DA.run(wl=wl,  NBPHOTONS=NB, atm=p3D, sensor=sensor, le=le, surf=surf, \n",
    "              alis_options={'nlow':-1}, stdev=True, NF=1e4, progress=False)\n",
    "\n",
    "RTER   = 6370.\n",
    "sensor = Sensor(POSZ=POSZ+RTER, POSX=POSX, POSY=POSY, THDEG=THDEG, PHDEG=PHDEG, LOC='ATMOS', IBOX=IBOX)\n",
    "msp    = Ssp.run(wl=wl,   NBPHOTONS=NB, atm=p1D, sensor=sensor, le=le, surf=surf, \n",
    "                 stdev=True, NF=1e4, RTER=RTER, progress=False)\n",
    "mspA   = SspA.run(wl=wl,  NBPHOTONS=NB, atm=p1D, sensor=sensor, le=le, surf=surf, \n",
    "                 RTER=RTER, alis_options={'nlow':-1}, stdev=True, NF=1e4, progress=False)\n",
    "\n",
    "print ('No ALIS, NB: %.0e'%NB)\n",
    "for version, result in zip(['fast_1D_PP','1D_PP','1D_SP', '3D_PP'], [m,m0,msp,m3D]):\n",
    "    print(\"{0:10s} I: {1:10.3e}+-{4:9.3e},Q: {2:10.3e}+-{5:9.3e},U: {3:10.3e}+-{6:9.3e}, k. time (s): {7:.3f}\"\\\n",
    "                          .format(version, float(result['I_up (TOA)'].data[0]), \n",
    "                                  float(result['Q_up (TOA)'].data[0]), \n",
    "                                  float(result['U_up (TOA)'].data[0]),\n",
    "                                  float(result['I_stdev_up (TOA)'].data[0]), \n",
    "                                  float(result['Q_stdev_up (TOA)'].data[0]), \n",
    "                                  float(result['U_stdev_up (TOA)'].data[0]),\n",
    "                                  float(result.attrs['kernel time (s)'])))\n",
    "print('=====')\n",
    "print ('ALIS, NB: %.0e'%NB)\n",
    "for version, result in zip(['1D_PP','1D_SP', '3D_PP'], [m0A,mspA,m3DA]):\n",
    "    print(\"{0:10s} I: {1:10.3e}+-{4:9.3e},Q: {2:10.3e}+-{5:9.3e},U: {3:10.3e}+-{6:9.3e}, k. time (s): {7:.3f}\"\\\n",
    "                          .format(version, float(result['I_up (TOA)'].data[0]), \n",
    "                                  float(result['Q_up (TOA)'].data[0]), \n",
    "                                  float(result['U_up (TOA)'].data[0]),\n",
    "                                  float(result['I_stdev_up (TOA)'].data[0]), \n",
    "                                  float(result['Q_stdev_up (TOA)'].data[0]), \n",
    "                                  float(result['U_stdev_up (TOA)'].data[0]),\n",
    "                                  float(result.attrs['kernel time (s)'])))\n",
    "print ('-----------------------')\n"
   ]
  },
  {
   "cell_type": "markdown",
   "metadata": {
    "hidden": true
   },
   "source": [
    "#### Cone sampling"
   ]
  },
  {
   "cell_type": "code",
   "execution_count": null,
   "metadata": {
    "ExecuteTime": {
     "end_time": "2019-10-08T11:45:45.169910Z",
     "start_time": "2019-10-08T11:45:38.789378Z"
    },
    "hidden": true,
    "scrolled": false
   },
   "outputs": [],
   "source": [
    "le=None\n",
    "\n",
    "POSZ, POSX, POSY = 99.99, -0.1, -0.1 # TOA sensor\n",
    "THDEG, PHDEG = 120., 0.   # Oblique view (VZA : 180-120 = 60)\n",
    "IBOX = get_iboxes(p3D, poss=[Point(POSX, POSY, POSZ)]) # inittialize BBox id from position and 3D profile\n",
    "sensor = Sensor(POSZ=POSZ, POSX=POSX, POSY=POSY, THDEG=THDEG, PHDEG=PHDEG, LOC='ATMOS', IBOX=IBOX)\n",
    "NB=1e7\n",
    "m    = S.run(  wl=wl,  NBPHOTONS=NB, atm=p1D, sensor=sensor, le=le, surf=surf, \n",
    "             stdev=True, NF=1e4, progress=False)\n",
    "m0   = S0.run( wl=wl,  NBPHOTONS=NB, atm=p1D, sensor=sensor, le=le, surf=surf, \n",
    "              stdev=True, NF=1e4, progress=False)\n",
    "m3D  = S3D.run(wl=wl,  NBPHOTONS=NB, atm=p3D, sensor=sensor, le=le, surf=surf, \n",
    "               stdev=True, NF=1e4, progress=False)\n",
    "\n",
    "m0A =   S0A.run(wl=wl,  NBPHOTONS=NB, atm=p1D, sensor=sensor, le=le, surf=surf, \n",
    "               alis_options={'nlow':-1}, stdev=True, NF=1e4, progress=False)\n",
    "m3DA = S3DA.run(wl=wl,  NBPHOTONS=NB, atm=p3D, sensor=sensor, le=le, surf=surf, \n",
    "               alis_options={'nlow':-1}, stdev=True, NF=1e4, progress=False)\n",
    "\n",
    "RTER   = 6370.\n",
    "sensor = Sensor(POSZ=POSZ+RTER, POSX=POSX, POSY=POSY, THDEG=THDEG, PHDEG=PHDEG, LOC='ATMOS', IBOX=IBOX)\n",
    "msp    = Ssp.run(wl=wl,   NBPHOTONS=NB, atm=p1D, sensor=sensor, le=le, surf=surf, \n",
    "                 stdev=True, NF=1e4, RTER=RTER, progress=False)\n",
    "mspA   = SspA.run(wl=wl,  NBPHOTONS=NB, atm=p1D, sensor=sensor, le=le, surf=surf, \n",
    "                  RTER=RTER,\n",
    "               alis_options={'nlow':-1}, stdev=True, NF=1e4, progress=False)\n",
    "\n",
    "print ('No ALIS, NB: %.0e'%NB)\n",
    "for version, result in zip(['fast_1D_PP','1D_PP','1D_SP', '3D_PP'], [m,m0,msp,m3D]):\n",
    "    result=result.sub({'Azimuth angles':0, 'Zenith angles':0})\n",
    "    print(\"{0:10s} I: {1:10.3e}+-{4:9.3e},Q: {2:10.3e}+-{5:9.3e},U: {3:10.3e}+-{6:9.3e}, k. time (s): {7:.3f}\"\\\n",
    "                          .format(version, float(result['I_up (TOA)'].data[0]), \n",
    "                                  float(result['Q_up (TOA)'].data[0]), \n",
    "                                  float(result['U_up (TOA)'].data[0]),\n",
    "                                  float(result['I_stdev_up (TOA)'].data[0]), \n",
    "                                  float(result['Q_stdev_up (TOA)'].data[0]), \n",
    "                                  float(result['U_stdev_up (TOA)'].data[0]),\n",
    "                                  float(result.attrs['kernel time (s)'])))\n",
    "print('=====')\n",
    "print ('ALIS, NB: %.0e'%NB)\n",
    "for version, result in zip(['1D_PP','1D_SP', '3D_PP'], [m0A,mspA,m3DA]):\n",
    "    result=result.sub({'Azimuth angles':0, 'Zenith angles':0})\n",
    "    print(\"{0:10s} I: {1:10.3e}+-{4:9.3e},Q: {2:10.3e}+-{5:9.3e},U: {3:10.3e}+-{6:9.3e}, k. time (s): {7:.3f}\"\\\n",
    "                          .format(version, float(result['I_up (TOA)'].data[0]), \n",
    "                                  float(result['Q_up (TOA)'].data[0]), \n",
    "                                  float(result['U_up (TOA)'].data[0]),\n",
    "                                  float(result['I_stdev_up (TOA)'].data[0]), \n",
    "                                  float(result['Q_stdev_up (TOA)'].data[0]), \n",
    "                                  float(result['U_stdev_up (TOA)'].data[0]),\n",
    "                                  float(result.attrs['kernel time (s)'])))\n",
    "print ('-----------------------')\n"
   ]
  },
  {
   "cell_type": "markdown",
   "metadata": {
    "hidden": true
   },
   "source": [
    "### Several direction, One pixel"
   ]
  },
  {
   "cell_type": "code",
   "execution_count": null,
   "metadata": {
    "ExecuteTime": {
     "end_time": "2019-12-09T14:43:59.259070Z",
     "start_time": "2019-12-09T14:43:46.950513Z"
    },
    "hidden": true,
    "scrolled": false
   },
   "outputs": [],
   "source": [
    "le={'th_deg':np.linspace(0., 80., num=6), 'phi_deg':np.linspace(30., 210., num=2)}\n",
    "NB=1e6\n",
    "POSZ, POSX, POSY  = 99.99, -0.1, -0.1\n",
    "THDEG, PHDEG = 120., 0.\n",
    "IBOX = get_iboxes(p3D, poss=[Point(POSX, POSY, POSZ)])\n",
    "sensor = Sensor(POSZ=POSZ, POSX=POSX, POSY=POSY, THDEG=THDEG, PHDEG=PHDEG, LOC='ATMOS', IBOX=IBOX)\n",
    "m    = S.run(  wl=wl,  NBPHOTONS=NB, atm=p1D, sensor=sensor, le=le, surf=surf, stdev=True, NF=1e4)\n",
    "m0   = S0.run( wl=wl,  NBPHOTONS=NB, atm=p1D, sensor=sensor, le=le, surf=surf, stdev=True, NF=1e4)\n",
    "m3D  = S3D.run(wl=wl,  NBPHOTONS=NB, atm=p3D, sensor=sensor, le=le, surf=surf, stdev=True, NF=1e4)\n",
    "\n",
    "m0A =   S0A.run(wl=wl,  NBPHOTONS=NB, atm=p1D, sensor=sensor, le=le, surf=surf, \n",
    "               alis_options={'nlow':-1}, stdev=True, NF=1e4)\n",
    "m3DA = S3DA.run(wl=wl,  NBPHOTONS=NB, atm=p3D, sensor=sensor, le=le, surf=surf, \n",
    "               alis_options={'nlow':-1}, stdev=True, NF=1e4)\n",
    "\n",
    "RTER   = 6370.\n",
    "sensor = Sensor(POSZ=POSZ+RTER, POSX=POSX, POSY=POSY, THDEG=THDEG, PHDEG=PHDEG, LOC='ATMOS', IBOX=IBOX)\n",
    "msp    = Ssp.run(wl=wl,   NBPHOTONS=NB, atm=p1D, sensor=sensor, le=le, surf=surf, stdev=True, NF=1e4, RTER=RTER)\n",
    "mspA   = SspA.run(wl=wl,  NBPHOTONS=NB, atm=p1D, sensor=sensor, le=le, surf=surf, RTER=RTER,\n",
    "               alis_options={'nlow':-1}, stdev=True, NF=1e4)"
   ]
  },
  {
   "cell_type": "code",
   "execution_count": null,
   "metadata": {
    "ExecuteTime": {
     "end_time": "2019-12-09T14:44:03.746547Z",
     "start_time": "2019-12-09T14:44:02.610577Z"
    },
    "hidden": true,
    "run_control": {
     "marked": false
    },
    "scrolled": false
   },
   "outputs": [],
   "source": [
    "QU=True\n",
    "f=transect_view(m3D.sub({'wavelength':0}), ind=Idx([30]), color='r', fmt='--', QU=QU)\n",
    "_=transect_view(msp.sub({'wavelength':0}), ind=Idx([30]), fig=f,    color='b', fmt=':', QU=QU)\n",
    "_=transect_view(m0.sub({'wavelength':0}),  ind=Idx([30]), fig=f,    color='k', fmt='x', QU=QU)\n",
    "_=transect_view(m.sub({'wavelength':0}),   ind=Idx([30]), vmin=None, vmax=None, fig=f, color='k', fmt='.', QU=QU)"
   ]
  },
  {
   "cell_type": "code",
   "execution_count": null,
   "metadata": {
    "ExecuteTime": {
     "end_time": "2019-12-09T14:44:08.434542Z",
     "start_time": "2019-12-09T14:44:07.479884Z"
    },
    "hidden": true,
    "run_control": {
     "marked": false
    },
    "scrolled": false
   },
   "outputs": [],
   "source": [
    "QU=True\n",
    "f=transect_view(m3DA.sub({'wavelength':0}), ind=Idx([30]), color='r', fmt='--', QU=QU)\n",
    "_=transect_view(mspA.sub({'wavelength':0}), ind=Idx([30]), fig=f,    color='b', fmt=':', QU=QU)\n",
    "_=transect_view(m0A.sub({'wavelength':0}),  ind=Idx([30]), fig=f,    color='k', fmt='x', QU=QU)"
   ]
  },
  {
   "cell_type": "code",
   "execution_count": null,
   "metadata": {
    "ExecuteTime": {
     "end_time": "2019-12-09T14:44:12.857340Z",
     "start_time": "2019-12-09T14:44:12.297020Z"
    },
    "hidden": true,
    "run_control": {
     "marked": true
    }
   },
   "outputs": [],
   "source": [
    "f=figure()\n",
    "f.set_size_inches(12,3)\n",
    "for k,(col,th) in enumerate(zip(['r','g','b','k','m','y'], np.rad2deg(le['th']))):\n",
    "    I=m3DA['I_up (TOA)'].sub()[:,0,k]\n",
    "    Q=m3DA['Q_up (TOA)'].sub()[:,0,k]\n",
    "    U=m3DA['U_up (TOA)'].sub()[:,0,k]\n",
    "\n",
    "    LP = (Q*Q + U*U).apply(sqrt, mdesc('LP_up (TOA)'))\n",
    "    P = (LP/I*100).apply(abs,'DoLP')\n",
    "    LP.plot(fmt='-'+col,vmin=0, label='3D '+'%.1f'%th)\n",
    "    \n",
    "for k,(col,th) in enumerate(zip(['r','g','b','k','m','y'], np.rad2deg(le['th']))):\n",
    "    I=m0A['I_up (TOA)'].sub()[:,0,k]\n",
    "    Q=m0A['Q_up (TOA)'].sub()[:,0,k]\n",
    "    U=m0A['U_up (TOA)'].sub()[:,0,k]\n",
    "\n",
    "    LP = (Q*Q + U*U).apply(sqrt, mdesc('LP_up (TOA)'))\n",
    "    P = (LP/I*100).apply(abs,'DoLP')\n",
    "    LP.plot(fmt='s'+col,vmin=0.0, vmax=0.25, label='1D')\n",
    "\n",
    "legend(loc=3, ncol=4)"
   ]
  },
  {
   "cell_type": "code",
   "execution_count": null,
   "metadata": {
    "ExecuteTime": {
     "end_time": "2019-12-09T14:56:07.959668Z",
     "start_time": "2019-12-09T14:56:07.582744Z"
    },
    "hidden": true
   },
   "outputs": [],
   "source": [
    "ith=-1\n",
    "norm=m3DA['N_up (TOA)'][0,0,ith]\n",
    "plot(m3DA['cdist_up (TOA)'][:,0,ith]/norm, m3DA.axis('z_atm')[:-1],'-+', label='3D')\n",
    "norm=m0A ['N_up (TOA)'][0,0,ith]\n",
    "plot(m0A ['cdist_up (TOA)'][:,0,ith]/norm, m3DA.axis('z_atm')[0:-1],':', label='1D')\n",
    "norm=mspA['N_up (TOA)'][0,0,ith]\n",
    "plot(mspA['cdist_up (TOA)'][:,0,ith]/norm, m3DA.axis('z_atm')[0:-1],'--', label='1D sph.')\n",
    "xlabel('Mean Distance in layer (km)')\n",
    "ylabel('z (km)')\n",
    "ylim([0,100])\n",
    "legend()"
   ]
  },
  {
   "cell_type": "code",
   "execution_count": null,
   "metadata": {
    "ExecuteTime": {
     "end_time": "2019-12-09T14:44:49.973710Z",
     "start_time": "2019-12-09T14:44:49.529672Z"
    },
    "hidden": true
   },
   "outputs": [],
   "source": [
    "m3D.attrs['kernel time (s)'], m0.attrs['kernel time (s)'] , m.attrs['kernel time (s)'], msp.attrs['kernel time (s)']"
   ]
  },
  {
   "cell_type": "code",
   "execution_count": null,
   "metadata": {
    "ExecuteTime": {
     "end_time": "2019-12-09T14:45:33.710727Z",
     "start_time": "2019-12-09T14:45:33.618309Z"
    },
    "hidden": true
   },
   "outputs": [],
   "source": [
    "m3DA.attrs['kernel time (s)'], m0A.attrs['kernel time (s)'] , mspA.attrs['kernel time (s)']"
   ]
  },
  {
   "cell_type": "markdown",
   "metadata": {
    "heading_collapsed": true
   },
   "source": [
    "## 3D vs 1D, two clear profile"
   ]
  },
  {
   "cell_type": "code",
   "execution_count": null,
   "metadata": {
    "ExecuteTime": {
     "end_time": "2019-12-10T10:40:57.674847Z",
     "start_time": "2019-12-10T10:40:57.156107Z"
    },
    "hidden": true,
    "run_control": {
     "marked": false
    }
   },
   "outputs": [],
   "source": [
    "HLONGX= 1e4\n",
    "HLONGY= 1e4\n",
    "H_boundaries = np.array([[-HLONGX, 0., -HLONGY, HLONGY], [0., HLONGX, -HLONGY, HLONGY]])\n",
    "p3D = pro3D_from_1D([pro_clr3D, pro_clr3D],\n",
    "                   H_boundaries=H_boundaries).describe()"
   ]
  },
  {
   "cell_type": "code",
   "execution_count": null,
   "metadata": {
    "ExecuteTime": {
     "end_time": "2019-12-09T16:02:46.618841Z",
     "start_time": "2019-12-09T16:02:46.575132Z"
    },
    "hidden": true
   },
   "outputs": [],
   "source": [
    "p3D['i_atm'][:]"
   ]
  },
  {
   "cell_type": "code",
   "execution_count": null,
   "metadata": {
    "ExecuteTime": {
     "end_time": "2019-12-09T14:45:52.911007Z",
     "start_time": "2019-12-09T14:45:52.554159Z"
    },
    "hidden": true
   },
   "outputs": [],
   "source": [
    "pcolormesh(p3D['neighbour_atm'].data, vmin=-5, vmax=None, cmap=cm.jet)\n",
    "colorbar()\n",
    "p3D.axis('z_atm')"
   ]
  },
  {
   "cell_type": "code",
   "execution_count": null,
   "metadata": {
    "ExecuteTime": {
     "end_time": "2019-12-09T14:48:16.585535Z",
     "start_time": "2019-12-09T14:48:11.251630Z"
    },
    "hidden": true,
    "scrolled": false
   },
   "outputs": [],
   "source": [
    "POSZ, POSX, POSY = 99.99, -0.1, -0.1\n",
    "THDEG, PHDEG = 120., 0.\n",
    "IBOX = get_iboxes(p3D, poss=[Point(POSX, POSY, POSZ)])\n",
    "sensor = Sensor(POSZ=POSZ, POSX=POSX, POSY=POSY, THDEG=THDEG, PHDEG=PHDEG, LOC='ATMOS', IBOX=IBOX)\n",
    "\n",
    "NB=1e6\n",
    "m3D  = S3D.run(wl=wl,  NBPHOTONS=NB, atm=p3D, sensor=sensor, le=le, surf=surf, stdev=True, NF=1e4)\n",
    "\n",
    "NB=1e6\n",
    "m3DA = S3DA.run(wl=wl,  NBPHOTONS=NB, atm=p3D, sensor=sensor, le=le, surf=surf, NF=1e4,\n",
    "               alis_options={'nlow':-1}, stdev=True)"
   ]
  },
  {
   "cell_type": "code",
   "execution_count": null,
   "metadata": {
    "ExecuteTime": {
     "end_time": "2019-12-09T14:48:19.826504Z",
     "start_time": "2019-12-09T14:48:18.528983Z"
    },
    "hidden": true,
    "run_control": {
     "marked": false
    },
    "scrolled": false
   },
   "outputs": [],
   "source": [
    "QU=True\n",
    "f=transect_view(m3DA.sub({'wavelength':0}), ind=Idx([30]), color='r', fmt='--', QU=QU)\n",
    "_=transect_view(mspA.sub({'wavelength':0}), ind=Idx([30]), fig=f,    color='b', fmt=':', QU=QU)\n",
    "_=transect_view(m0A.sub({'wavelength':0}),  ind=Idx([30]), fig=f,    color='k', fmt='x', QU=QU)"
   ]
  },
  {
   "cell_type": "code",
   "execution_count": null,
   "metadata": {
    "ExecuteTime": {
     "end_time": "2019-12-09T14:48:23.063314Z",
     "start_time": "2019-12-09T14:48:22.233951Z"
    },
    "hidden": true,
    "run_control": {
     "marked": false
    }
   },
   "outputs": [],
   "source": [
    "f=figure()\n",
    "f.set_size_inches(12,3)\n",
    "for k,(col,th) in enumerate(zip(['r','g','b','k','m','y'], np.rad2deg(le['th']))):\n",
    "    I=m3DA['I_up (TOA)'].sub()[:,0,k]\n",
    "    Q=m3DA['Q_up (TOA)'].sub()[:,0,k]\n",
    "    U=m3DA['U_up (TOA)'].sub()[:,0,k]\n",
    "\n",
    "    LP = (Q*Q + U*U).apply(sqrt, mdesc('LP_up (TOA)'))\n",
    "    P = (LP/I*100).apply(abs,'DoLP')\n",
    "    LP.plot(fmt='-'+col,vmin=0, label='3D '+'%.1f'%th)\n",
    "    \n",
    "for k,(col,th) in enumerate(zip(['r','g','b','k','m','y'], np.rad2deg(le['th']))):\n",
    "    I=m0A['I_up (TOA)'].sub()[:,0,k]\n",
    "    Q=m0A['Q_up (TOA)'].sub()[:,0,k]\n",
    "    U=m0A['U_up (TOA)'].sub()[:,0,k]\n",
    "\n",
    "    LP = (Q*Q + U*U).apply(sqrt, mdesc('LP_up (TOA)'))\n",
    "    P = (LP/I*100).apply(abs,'DoLP')\n",
    "    LP.plot(fmt='s'+col,vmin=0, vmax=0.25, label='1D')\n",
    "\n",
    "legend(loc=3, ncol=4)"
   ]
  },
  {
   "cell_type": "code",
   "execution_count": null,
   "metadata": {
    "ExecuteTime": {
     "end_time": "2019-12-09T14:48:27.790022Z",
     "start_time": "2019-12-09T14:48:27.368558Z"
    },
    "hidden": true
   },
   "outputs": [],
   "source": [
    "ith=-1\n",
    "norm=m3DA['N_up (TOA)'][0,0,ith]\n",
    "plot(m3DA['cdist_up (TOA)'][:,0,ith]/norm, m3DA.axis('z_atm')[0:-1],'.b', label='3D')\n",
    "plot((m3DA['cdist_up (TOA)'][1:NL,0,ith]+m3DA['cdist_up (TOA)'][NL:,0,ith])/norm, \n",
    "         m0A.axis('z_atm')[0:-1],'-b', label='3D (total)')\n",
    "norm=m0A ['N_up (TOA)'][0,0,ith]\n",
    "plot(m0A ['cdist_up (TOA)'][:,0,ith]/norm, m0A.axis('z_atm')[0:-1],':', label='1D')\n",
    "xlabel('Mean Distance in layer (km)')\n",
    "ylabel('z (km)')\n",
    "ylim([0,100])\n",
    "legend()"
   ]
  },
  {
   "cell_type": "code",
   "execution_count": null,
   "metadata": {
    "ExecuteTime": {
     "end_time": "2019-12-09T14:48:35.214047Z",
     "start_time": "2019-12-09T14:48:35.121568Z"
    },
    "hidden": true
   },
   "outputs": [],
   "source": [
    "m3D.attrs['kernel time (s)'], m0.attrs['kernel time (s)'] , m.attrs['kernel time (s)'], msp.attrs['kernel time (s)']"
   ]
  },
  {
   "cell_type": "code",
   "execution_count": null,
   "metadata": {
    "ExecuteTime": {
     "end_time": "2019-12-09T14:48:36.747342Z",
     "start_time": "2019-12-09T14:48:36.648297Z"
    },
    "hidden": true
   },
   "outputs": [],
   "source": [
    "m3DA.attrs['kernel time (s)'], m0A.attrs['kernel time (s)'] , mspA.attrs['kernel time (s)']"
   ]
  },
  {
   "cell_type": "markdown",
   "metadata": {
    "heading_collapsed": true
   },
   "source": [
    "## 3D vs 1D, NxM clear profiles"
   ]
  },
  {
   "cell_type": "code",
   "execution_count": null,
   "metadata": {
    "ExecuteTime": {
     "end_time": "2019-12-09T14:48:49.192459Z",
     "start_time": "2019-12-09T14:48:49.047740Z"
    },
    "hidden": true,
    "run_control": {
     "marked": false
    }
   },
   "outputs": [],
   "source": [
    "HLONGX = 1e4\n",
    "HLONGY = 1e4\n",
    "HX     = 3.\n",
    "HY     = 3.\n",
    "N  = 1\n",
    "M  = 1\n",
    "DX = 2*HX/N\n",
    "DY = 2*HY/M\n",
    "x  = np.zeros((N+2))\n",
    "y  = np.zeros((M+2))\n",
    "DXbound = (HLONGX-HX)\n",
    "DYbound = (HLONGY-HY)\n",
    "x[0]    = -HLONGX + DXbound/2\n",
    "x[-1]   =  HLONGX - DXbound/2.\n",
    "x[1:-1] =  np.linspace(-HX + DX/2., HX - DX/2., num=N)\n",
    "y[0]    = -HLONGY + DYbound/2\n",
    "y[-1]   =  HLONGY - DYbound/2.\n",
    "y[1:-1] =  np.linspace(-HY + DY/2., HY - DY/2., num=M)\n",
    "X0, Y0  =  np.meshgrid(x,y)\n",
    "Lx=[DXbound]\n",
    "Lx.extend([DX]*N)\n",
    "Lx.extend([DXbound])\n",
    "Ly=[DYbound]\n",
    "Ly.extend([DY]*M)\n",
    "Ly.extend([DYbound])\n",
    "DX0, DY0=  np.meshgrid(Lx,Ly)\n",
    "H = []\n",
    "for xi,yi,dxi,dyi in zip(X0.ravel(),Y0.ravel(),DX0.ravel(),DY0.ravel()):\n",
    "    H.append(list((xi-dxi/2, xi+dxi/2, yi-dyi/2, yi+dyi/2)))\n",
    "H_boundaries = np.array(H).reshape(((N+2)*(M+2),4))\n",
    "\n",
    "plist=[pro_clr3D]*4\n",
    "plist.extend([pro_cld3D])\n",
    "plist.extend([pro_clr3D]*4)\n",
    "p3D_NxM = pro3D_from_1D(plist, H_boundaries=H_boundaries).describe()"
   ]
  },
  {
   "cell_type": "code",
   "execution_count": null,
   "metadata": {
    "ExecuteTime": {
     "end_time": "2019-12-09T14:48:52.215924Z",
     "start_time": "2019-12-09T14:48:51.639561Z"
    },
    "hidden": true
   },
   "outputs": [],
   "source": [
    "pcolormesh(p3D_NxM['neighbour_atm'].data, vmin=0, vmax=None, cmap=cm.jet)\n",
    "colorbar()"
   ]
  },
  {
   "cell_type": "code",
   "execution_count": null,
   "metadata": {
    "ExecuteTime": {
     "end_time": "2019-12-09T14:49:10.157289Z",
     "start_time": "2019-12-09T14:48:59.134671Z"
    },
    "hidden": true,
    "scrolled": false
   },
   "outputs": [],
   "source": [
    "POSZ, POSX, POSY = 99.99, 0., 0.\n",
    "THDEG, PHDEG = 120., 0.\n",
    "IBOX = get_iboxes(p3D_NxM, poss=[Point(POSX, POSY, POSZ)])\n",
    "sensor = Sensor(POSZ=POSZ, POSX=POSX, POSY=POSY, THDEG=THDEG, PHDEG=PHDEG, LOC='ATMOS', IBOX=IBOX)\n",
    "\n",
    "NB=1e6\n",
    "m3D_NxM  = S3D.run(wl=wl, NF=1e3, NBPHOTONS=NB, atm=p3D_NxM, sensor=sensor, le=le, surf=surf, stdev=True)\n",
    "\n",
    "NB=1e6\n",
    "m3DA_NxM = S3DA.run(wl=wl, NF=1e3, NBPHOTONS=NB, atm=p3D_NxM, sensor=sensor, le=le, surf=surf, \n",
    "               alis_options={'nlow':-1}, stdev=True)"
   ]
  },
  {
   "cell_type": "code",
   "execution_count": null,
   "metadata": {
    "ExecuteTime": {
     "end_time": "2019-12-09T14:49:13.468699Z",
     "start_time": "2019-12-09T14:49:12.533678Z"
    },
    "hidden": true,
    "run_control": {
     "marked": false
    },
    "scrolled": false
   },
   "outputs": [],
   "source": [
    "QU=True\n",
    "f=transect_view(m3D_NxM.sub({'wavelength':0}), ind=Idx([30]), color='r', fmt='--', QU=QU)\n",
    "_=transect_view(msp.sub({'wavelength':0}), ind=Idx([30]), fig=f,    color='b', fmt=':', QU=QU)\n",
    "_=transect_view(m0.sub({'wavelength':0}),  ind=Idx([30]), fig=f,    color='k', fmt='x', QU=QU)\n",
    "_=transect_view(m.sub({'wavelength':0}),   ind=Idx([30]), vmin=None, vmax=None, fig=f, color='k', fmt='.', QU=QU)"
   ]
  },
  {
   "cell_type": "code",
   "execution_count": null,
   "metadata": {
    "ExecuteTime": {
     "end_time": "2019-12-09T14:49:17.490292Z",
     "start_time": "2019-12-09T14:49:16.428423Z"
    },
    "hidden": true,
    "run_control": {
     "marked": false
    },
    "scrolled": false
   },
   "outputs": [],
   "source": [
    "QU=True\n",
    "f=transect_view(m3DA_NxM.sub({'wavelength':0}), ind=Idx([30]), color='r', fmt='--', QU=QU)\n",
    "_=transect_view(mspA.sub({'wavelength':0}), ind=Idx([30]), fig=f,    color='b', fmt=':', QU=QU)\n",
    "_=transect_view(m0A.sub({'wavelength':0}),  ind=Idx([30]), fig=f,    color='k', fmt='x', QU=QU)"
   ]
  },
  {
   "cell_type": "code",
   "execution_count": null,
   "metadata": {
    "ExecuteTime": {
     "end_time": "2019-12-09T14:49:21.410050Z",
     "start_time": "2019-12-09T14:49:20.366459Z"
    },
    "hidden": true,
    "run_control": {
     "marked": false
    }
   },
   "outputs": [],
   "source": [
    "f=figure()\n",
    "f.set_size_inches(12,3)\n",
    "for k,(col,th) in enumerate(zip(['r','g','b','k','m','y'], np.rad2deg(le['th']))):\n",
    "    I=m3DA_NxM['I_up (TOA)'].sub()[:,0,k]\n",
    "    Q=m3DA_NxM['Q_up (TOA)'].sub()[:,0,k]\n",
    "    U=m3DA_NxM['U_up (TOA)'].sub()[:,0,k]\n",
    "\n",
    "    LP = (Q*Q + U*U).apply(sqrt, mdesc('LP_up (TOA)'))\n",
    "    P = (LP/I*100).apply(abs,'DoLP')\n",
    "    LP.plot(fmt='-'+col,vmin=0, label='3D '+'%.1f'%th)\n",
    "    \n",
    "for k,(col,th) in enumerate(zip(['r','g','b','k','m','y'], np.rad2deg(le['th']))):\n",
    "    I=m0A['I_up (TOA)'].sub()[:,0,k]\n",
    "    Q=m0A['Q_up (TOA)'].sub()[:,0,k]\n",
    "    U=m0A['U_up (TOA)'].sub()[:,0,k]\n",
    "\n",
    "    LP = (Q*Q + U*U).apply(sqrt, mdesc('LP_up (TOA)'))\n",
    "    P = (LP/I*100).apply(abs,'DoLP')\n",
    "    LP.plot(fmt='s'+col,vmin=0, vmax=0.25, label='1D')\n",
    "\n",
    "legend(loc=3, ncol=4)"
   ]
  },
  {
   "cell_type": "code",
   "execution_count": null,
   "metadata": {
    "ExecuteTime": {
     "end_time": "2019-12-09T15:07:56.483573Z",
     "start_time": "2019-12-09T15:07:55.741490Z"
    },
    "hidden": true
   },
   "outputs": [],
   "source": [
    "ith=-1\n",
    "norm=m3DA_NxM['N_up (TOA)'][0,0,ith]\n",
    "plot(m3DA_NxM['cdist_up (TOA)'][1:,0,ith]/norm, m3DA_NxM.axis('z_atm')[1:-1],'.b', label='3D')\n",
    "norm=m0A ['N_up (TOA)'][0,0,ith]\n",
    "plot(m0A ['cdist_up (TOA)'][:,0,ith]/norm, m0A.axis('z_atm')[:-1],':', label='1D')\n",
    "xlabel('Mean Distance in cell (km)')\n",
    "ylabel('z (km)')\n",
    "ylim([0,100])\n",
    "xlim(0,300)\n",
    "legend()"
   ]
  },
  {
   "cell_type": "code",
   "execution_count": null,
   "metadata": {
    "ExecuteTime": {
     "end_time": "2019-12-09T15:14:28.151292Z",
     "start_time": "2019-12-09T15:14:27.521841Z"
    },
    "hidden": true
   },
   "outputs": [],
   "source": [
    "norm=m3DA_NxM ['N_up (TOA)'][0,0,0]\n",
    "dz = abs(np.diff(m3DA_NxM.axis('z_atm')))\n",
    "plot(m3DA_NxM['cdist_up (TOA)'][:,0,0]/norm/dz, m3DA_NxM.axis('z_atm')[:-1], '.b', label='3D')\n",
    "norm=m0A ['N_up (TOA)'][0,0,0]\n",
    "dz = abs(np.diff(m0A.axis('z_atm')))\n",
    "plot(m0A['cdist_up (TOA)'][:,0,0]/norm/dz, m0A.axis('z_atm')[:-1], ':', label='1D')\n",
    "xlabel('Mean Air mass factor in cell')\n",
    "ylabel('z (km)')\n",
    "ylim([0,100])\n",
    "xlim(0,50)\n",
    "legend()"
   ]
  },
  {
   "cell_type": "code",
   "execution_count": null,
   "metadata": {
    "ExecuteTime": {
     "end_time": "2019-12-09T15:14:49.323283Z",
     "start_time": "2019-12-09T15:14:49.260849Z"
    },
    "hidden": true
   },
   "outputs": [],
   "source": [
    "m3D_NxM.attrs['kernel time (s)'], m0.attrs['kernel time (s)'] , m.attrs['kernel time (s)'], msp.attrs['kernel time (s)']"
   ]
  },
  {
   "cell_type": "code",
   "execution_count": null,
   "metadata": {
    "ExecuteTime": {
     "end_time": "2019-12-09T15:14:50.418019Z",
     "start_time": "2019-12-09T15:14:50.370269Z"
    },
    "hidden": true
   },
   "outputs": [],
   "source": [
    "m3DA_NxM.attrs['kernel time (s)'], m0A.attrs['kernel time (s)'] , mspA.attrs['kernel time (s)']"
   ]
  },
  {
   "cell_type": "markdown",
   "metadata": {
    "ExecuteTime": {
     "end_time": "2019-02-13T12:40:48.396602Z",
     "start_time": "2019-02-13T12:40:47.869896Z"
    },
    "heading_collapsed": true
   },
   "source": [
    "# Advanced: IPRT Case Cube Cloud"
   ]
  },
  {
   "cell_type": "code",
   "execution_count": null,
   "metadata": {
    "ExecuteTime": {
     "end_time": "2019-12-09T15:14:57.003166Z",
     "start_time": "2019-12-09T15:14:56.367499Z"
    },
    "hidden": true
   },
   "outputs": [],
   "source": [
    "#S3DA = Smartg(opt3D=True, alt_pp=True, back=True, double=True, alis=True)\n",
    "S3D  = Smartg(opt3D=True, alt_pp=True, back=True, double=True, alis=False)"
   ]
  },
  {
   "cell_type": "code",
   "execution_count": null,
   "metadata": {
    "ExecuteTime": {
     "end_time": "2019-12-09T15:14:59.054396Z",
     "start_time": "2019-12-09T15:14:58.947611Z"
    },
    "hidden": true
   },
   "outputs": [],
   "source": [
    "# Cloud Phase matrix\n",
    "cld_phase = read_mlut('/home/did/RTC/SMART-G/smartg/validation/watercloud_IPRT_A5.mie.nc')\n",
    "ntheta = cld_phase['ntheta'][0,0,0]\n",
    "wl     = cld_phase['wavelen'].data*1e3\n",
    "wl=[350.]\n",
    "l=[]\n",
    "l.append(cld_phase['phase'][:,:,0,:ntheta].ravel() + cld_phase['phase'][:,:,1,:ntheta].ravel())\n",
    "l.append(cld_phase['phase'][:,:,0,:ntheta].ravel() - cld_phase['phase'][:,:,1,:ntheta].ravel())\n",
    "l.append(cld_phase['phase'][:,:,2,:ntheta].ravel())\n",
    "l.append(cld_phase['phase'][:,:,3,:ntheta].ravel())\n",
    "# Normalization to 2\n",
    "p=cld_phase['phase'][:,:,0,:ntheta].ravel()\n",
    "theta=cld_phase['theta'][:,:,0,:ntheta].ravel()[::-1]\n",
    "mu= np.cos(np.radians(theta))\n",
    "Norm = np.trapz(p,-mu)\n",
    "data = np.array(l) \n",
    "print ('phase function norm: ', Norm)\n",
    "#data = np.array(l) * (2./Norm)\n",
    "# 2) store data in a LUT object with 4 dimensions, the z dimension is restricted to one level of altitude 0\n",
    "pha_cld = LUT(data[None, None, :, ::-1], names=['wav_phase', 'z_phase', 'stk', 'theta_atm'],\n",
    "          axes=[wl, np.array([0.]), None, cld_phase['theta'][:,:,0,:ntheta].ravel()[::-1]]\n",
    "         )"
   ]
  },
  {
   "cell_type": "code",
   "execution_count": null,
   "metadata": {
    "ExecuteTime": {
     "end_time": "2019-12-09T15:15:03.414097Z",
     "start_time": "2019-12-09T15:15:02.620903Z"
    },
    "hidden": true
   },
   "outputs": [],
   "source": [
    "# Layering and angles\n",
    "'''le   = {'th_deg':np.array([20,20,20,20,40,40,40,40,40], dtype=float), \n",
    "        'phi_deg': np.array([0,60,120,180,0,0,60,120,180], dtype=float), 'zip':True}'''\n",
    "wl = [800.]\n",
    "\n",
    "znew = [5., 3., 2., 0.]\n",
    "#znew = [50., 3., 2.5, 2., 1., 0.]\n",
    "#znew = np.linspace(5, 0, num=25)\n",
    "NL   = len(znew)\n",
    "print('NLayer:', NL)\n",
    "COT = 10. # at 800 nm\n",
    "cld  = CloudOPAC('wc.sol', 10., 2., 3., COT, wl, phase=pha_cld)\n",
    "pfwav = [wl[0]]\n",
    "\n",
    "if False:\n",
    "    ray  = np.atleast_2d([0., 0., 0., 0.])\n",
    "    #ray  = np.atleast_2d([0.]*25)\n",
    "else:\n",
    "    ray  = np.atleast_2d([0., 0.2, 0.1, 0.2])\n",
    "    \n",
    "pro_clr3D = AtmAFGL('afglt', O3=0., NO2=False, grid=znew, OPT3D=True, prof_ray=ray,\n",
    "                    pfwav= pfwav).calc(wl, phase=True)\n",
    "pro_cld3D = AtmAFGL('afglt', O3=0., NO2=False, grid=znew, comp=[cld], OPT3D=True,  \n",
    "                    prof_ray=ray, pfwav=pfwav).calc(wl, phase=True)"
   ]
  },
  {
   "cell_type": "code",
   "execution_count": null,
   "metadata": {
    "ExecuteTime": {
     "end_time": "2019-12-09T15:15:05.915241Z",
     "start_time": "2019-12-09T15:15:05.760687Z"
    },
    "hidden": true,
    "run_control": {
     "marked": false
    }
   },
   "outputs": [],
   "source": [
    "HLONGX = 1e4\n",
    "HLONGY = 1e4\n",
    "HX     = 0.5\n",
    "HY     = 0.5\n",
    "N  = 1\n",
    "M  = 1\n",
    "DX = 2*HX/N\n",
    "DY = 2*HY/M\n",
    "x  = np.zeros((N+2))\n",
    "y  = np.zeros((M+2))\n",
    "DXbound = (HLONGX-HX)\n",
    "DYbound = (HLONGY-HY)\n",
    "x[0]    = -HLONGX + DXbound/2\n",
    "x[-1]   =  HLONGX - DXbound/2.\n",
    "x[1:-1] =  np.linspace(-HX + DX/2., HX - DX/2., num=N)\n",
    "y[0]    = -HLONGY + DYbound/2\n",
    "y[-1]   =  HLONGY - DYbound/2.\n",
    "y[1:-1] =  np.linspace(-HY + DY/2., HY - DY/2., num=M)\n",
    "X0, Y0  =  np.meshgrid(x,y)\n",
    "Lx=[DXbound]\n",
    "Lx.extend([DX]*N)\n",
    "Lx.extend([DXbound])\n",
    "Ly=[DYbound]\n",
    "Ly.extend([DY]*M)\n",
    "Ly.extend([DYbound])\n",
    "DX0, DY0=  np.meshgrid(Lx,Ly)\n",
    "H = []\n",
    "for xi,yi,dxi,dyi in zip(X0.ravel(),Y0.ravel(),DX0.ravel(),DY0.ravel()):\n",
    "    H.append(list((xi-dxi/2, xi+dxi/2, yi-dyi/2, yi+dyi/2)))\n",
    "H_boundaries = np.array(H).reshape(((N+2)*(M+2),4))\n",
    "\n",
    "plist=[pro_clr3D]*4\n",
    "plist.extend([pro_cld3D])\n",
    "plist.extend([pro_clr3D]*4)\n",
    "p3D_NxM = pro3D_from_1D(plist, H_boundaries=H_boundaries).describe()"
   ]
  },
  {
   "cell_type": "code",
   "execution_count": null,
   "metadata": {
    "ExecuteTime": {
     "end_time": "2019-12-09T15:54:42.958384Z",
     "start_time": "2019-12-09T15:54:42.912762Z"
    },
    "hidden": true
   },
   "outputs": [],
   "source": [
    "p3D_NxM['OD_r'][0,:]"
   ]
  },
  {
   "cell_type": "code",
   "execution_count": null,
   "metadata": {
    "ExecuteTime": {
     "end_time": "2019-12-09T15:15:09.555262Z",
     "start_time": "2019-12-09T15:15:09.153118Z"
    },
    "hidden": true
   },
   "outputs": [],
   "source": [
    "pcolormesh(p3D_NxM['neighbour_atm'].data, vmin=0, vmax=None, cmap=cm.jet)\n",
    "colorbar()"
   ]
  },
  {
   "cell_type": "code",
   "execution_count": null,
   "metadata": {
    "ExecuteTime": {
     "end_time": "2019-12-09T15:18:15.462792Z",
     "start_time": "2019-12-09T15:18:14.758101Z"
    },
    "hidden": true
   },
   "outputs": [],
   "source": [
    "%%time\n",
    "POSZ = 4.9999\n",
    "THDEG, PHDEG = 180., 0.\n",
    "#pixels\n",
    "NX = 70\n",
    "NY = 70\n",
    "NP = NX*NY\n",
    "VX = 3.5\n",
    "VY = 3.5\n",
    "Ix = np.linspace(-VX, VX, num=NX) \n",
    "Iy = np.linspace(-VY, VY, num=NY) \n",
    "\n",
    "px, py   = np.meshgrid(Ix, Iy)\n",
    "poss = []\n",
    "for POSX,POSY in zip(px.ravel(), py.ravel()):\n",
    "    poss.append(Point(POSX, POSY, POSZ))\n",
    "iboxes = get_iboxes(p3D_NxM, poss)\n",
    "\n",
    "sensors=[]\n",
    "for pos,IBOX in zip(poss,iboxes):\n",
    "    sensors.append(Sensor(POSZ=pos.z, POSX=pos.x, POSY=pos.y, FOV=90., TYPE=0,\n",
    "                          THDEG=THDEG, PHDEG=PHDEG, LOC='ATMOS', IBOX=IBOX))\n",
    "    \n",
    "\n",
    "IBOX0   = get_iboxes(p3D_NxM, [Point(0, 0, POSZ)])\n",
    "sensor0 = Sensor(POSZ=POSZ, THDEG=THDEG, PHDEG=PHDEG, LOC='ATMOS', IBOX=IBOX0)   "
   ]
  },
  {
   "cell_type": "code",
   "execution_count": null,
   "metadata": {
    "ExecuteTime": {
     "end_time": "2019-12-09T15:15:45.611466Z",
     "start_time": "2019-12-09T15:15:12.592337Z"
    },
    "hidden": true
   },
   "outputs": [],
   "source": [
    "%%time\n",
    "POSZ = 4.9999\n",
    "THDEG, PHDEG = 180., 0.\n",
    "#pixels\n",
    "NX = 70\n",
    "NY = 70\n",
    "NP = NX*NY\n",
    "VX = 3.5\n",
    "VY = 3.5\n",
    "Ix = np.linspace(-VX, VX, num=NX) \n",
    "Iy = np.linspace(-VY, VY, num=NY) \n",
    "\n",
    "px, py   = np.meshgrid(Ix, Iy)\n",
    "sensors=[]\n",
    "for POSX,POSY in zip(px.ravel(), py.ravel()):\n",
    "    IBOX = get_iboxes(p3D_NxM, poss=[Point(POSX, POSY, POSZ)])\n",
    "    sensors.append(Sensor(POSZ=POSZ, POSX=POSX, POSY=POSY, THDEG=THDEG, PHDEG=PHDEG, LOC='ATMOS', IBOX=IBOX)) "
   ]
  },
  {
   "cell_type": "code",
   "execution_count": null,
   "metadata": {
    "ExecuteTime": {
     "end_time": "2019-12-09T15:20:16.047010Z",
     "start_time": "2019-12-09T15:19:07.208770Z"
    },
    "hidden": true
   },
   "outputs": [],
   "source": [
    "%%time\n",
    "# case 5\n",
    "le   = {'th_deg':np.array([40], dtype=float), \n",
    "        'phi_deg': np.array([180], dtype=float), 'zip':True}\n",
    "surf=LambSurface(ALB=0.2)\n",
    "NB=1e5*NP\n",
    "#NB=1e7\n",
    "m3D_NxM  = S3D.run(wl=wl, NF=1e3, NBPHOTONS=NB, atm=p3D_NxM, sensor=sensors,NBLOOP=NB/10, XGRID=624, XBLOCK=256,\n",
    "                   reflectance=True, le=le, surf=surf, stdev=True)\n",
    "print(m3D_NxM.attrs['kernel time (s)'])"
   ]
  },
  {
   "cell_type": "code",
   "execution_count": null,
   "metadata": {
    "ExecuteTime": {
     "end_time": "2019-12-09T15:20:16.630784Z",
     "start_time": "2019-12-09T15:20:16.054156Z"
    },
    "hidden": true
   },
   "outputs": [],
   "source": [
    "smartg_c2 = m3D_NxM.dropaxis('Zenith angles').dropaxis('Azimuth angles').dropaxis('wavelength')\n",
    "mcpol_c2  = read_3dmcpol_c2_pp(iset=1).dropaxis('Zenith angles')"
   ]
  },
  {
   "cell_type": "code",
   "execution_count": null,
   "metadata": {
    "ExecuteTime": {
     "end_time": "2019-12-09T15:20:17.877297Z",
     "start_time": "2019-12-09T15:20:16.637746Z"
    },
    "hidden": true,
    "scrolled": false
   },
   "outputs": [],
   "source": [
    "for k in range(1):\n",
    "    fig,ax=subplots(2,2)\n",
    "    fig.set_size_inches((14,10))\n",
    "    I = smartg_c2['I_up (TOA)'][:].reshape((NX,NY))\n",
    "    Q = smartg_c2['Q_up (TOA)'][:].reshape((NX,NY))\n",
    "    U = smartg_c2['U_up (TOA)'][:].reshape((NX,NY))\n",
    "    V = smartg_c2['V_up (TOA)'][:].reshape((NX,NY))\n",
    "    P1=ax[0,0].imshow(I, vmin=0.0, vmax=0.6, cmap=cm.jet)\n",
    "    colorbar(P1, ax=ax[0,0], shrink=0.8)\n",
    "    P2=ax[0,1].imshow(Q, vmin=-0.1, vmax=0.1, cmap=cm.RdBu_r)\n",
    "    colorbar(P2, ax=ax[0,1], shrink=0.8)\n",
    "    P3=ax[1,0].imshow(-U, vmin=-0.0005, vmax=0.0005, cmap=cm.RdBu_r)\n",
    "    colorbar(P3, ax=ax[1,0], shrink=0.8)\n",
    "    P4=ax[1,1].imshow(V, vmin=-0.0001, vmax=0.0001, cmap=cm.RdBu_r)\n",
    "    colorbar(P4, ax=ax[1,1], shrink=0.8)\n",
    "    #P4=ax[1,1].imshow(np.sqrt(Q**2+U**2)/I*100, vmin=0, vmax=40, cmap=cm.RdBu_r)\n",
    "    #colorbar(P4, ax=ax[1,1], shrink=0.8)"
   ]
  },
  {
   "cell_type": "code",
   "execution_count": null,
   "metadata": {
    "ExecuteTime": {
     "end_time": "2019-12-09T15:18:42.037368Z",
     "start_time": "2019-12-09T15:18:40.630554Z"
    },
    "hidden": true,
    "scrolled": false
   },
   "outputs": [],
   "source": [
    "for k in range(1):\n",
    "    fig,ax=subplots(2,2)\n",
    "    fig.set_size_inches((14,10))\n",
    "    I = mcpol_c2['I_up (TOA)'][:].reshape((NX,NY))\n",
    "    Q = mcpol_c2['Q_up (TOA)'][:].reshape((NX,NY))\n",
    "    U = mcpol_c2['U_up (TOA)'][:].reshape((NX,NY))\n",
    "    V = mcpol_c2['V_up (TOA)'][:].reshape((NX,NY))\n",
    "    P1=ax[0,0].imshow(I.T, vmin=0., vmax=0.6, cmap=cm.jet)\n",
    "    colorbar(P1, ax=ax[0,0], shrink=0.8)\n",
    "    P2=ax[0,1].imshow(Q.T, vmin=-0.1, vmax=0.1, cmap=cm.RdBu_r)\n",
    "    colorbar(P2, ax=ax[0,1], shrink=0.8)\n",
    "    P3=ax[1,0].imshow(-U.T, vmin=-0.0005, vmax=0.0005, cmap=cm.RdBu_r)\n",
    "    colorbar(P3, ax=ax[1,0], shrink=0.8)\n",
    "    P4=ax[1,1].imshow(V.T, vmin=-0.0001, vmax=0.0001, cmap=cm.RdBu_r)\n",
    "    colorbar(P4, ax=ax[1,1], shrink=0.8)\n",
    "    #P4=ax[1,1].imshow(np.sqrt(Q**2+U**2)/I*100, vmin=0, vmax=40, cmap=cm.RdBu_r)\n",
    "    #colorbar(P4, ax=ax[1,1], shrink=0.8)"
   ]
  },
  {
   "cell_type": "markdown",
   "metadata": {
    "ExecuteTime": {
     "end_time": "2019-02-13T12:40:48.396602Z",
     "start_time": "2019-02-13T12:40:47.869896Z"
    },
    "heading_collapsed": true
   },
   "source": [
    "# LPS2019"
   ]
  },
  {
   "cell_type": "code",
   "execution_count": null,
   "metadata": {
    "ExecuteTime": {
     "end_time": "2019-11-07T20:55:59.699793Z",
     "start_time": "2019-11-07T20:55:58.650047Z"
    },
    "hidden": true
   },
   "outputs": [],
   "source": [
    "# Layering and angles\n",
    "'''le   = {'th_deg':np.array([20,20,20,20,40,40,40,40,40], dtype=float), \n",
    "        'phi_deg': np.array([0,60,120,180,0,0,60,120,180], dtype=float), 'zip':True}'''\n",
    "#SENTINEL_SOLAR = REPTRAN('reptran_solar_sentinel')\n",
    "wl_ref = 865.\n",
    "pfwav= [wl_ref]\n",
    "znew = np.array([100, 75, 50, 30, 20, 10, 5, 2., 0])\n",
    "aer1 = AeroOPAC('continental_polluted', 1., wl_ref)\n",
    "#ph=AtmAFGL('afglmw', grid=znew, OPT3D=True, comp=[aer1], pfwav= pfwav).calc(wl_ref, phase=True)['phase_atm']\n",
    "cld  = CloudOPAC('wc.sol', 1., 8., 10., .5, wl_ref)\n",
    "\n",
    "wl = np.linspace(680, 450, num=201)\n",
    "#wl = [680., 550., 450.]\n",
    "#wl = [865., 680., 450.]\n",
    "#ibands = SENTINEL_SOLAR.to_smartg(include='sentinel2a_msi_b0', \n",
    " #                           lmin=[400., 500., 600], lmax=[500., 600., 700.])\n",
    "#wl = [wl_ref]\n",
    "NL   = len(znew)\n",
    "print('NLayer:', NL)\n",
    "pfwav = wl_ref\n",
    "   \n",
    "pro_clr3D = AtmAFGL('afglmw', grid=znew, OPT3D=True,\n",
    "                    pfwav= pfwav).calc(wl, phase=True)\n",
    "pro1_cld3D = AtmAFGL('afglmw', grid=znew, comp=[cld], OPT3D=True,\n",
    "                    pfwav=pfwav).calc(wl, phase=True)"
   ]
  },
  {
   "cell_type": "code",
   "execution_count": null,
   "metadata": {
    "ExecuteTime": {
     "end_time": "2019-11-07T20:56:02.864951Z",
     "start_time": "2019-11-07T20:56:02.596929Z"
    },
    "hidden": true,
    "run_control": {
     "marked": false
    }
   },
   "outputs": [],
   "source": [
    "HLONGX = 1e4\n",
    "HLONGY = 1e4\n",
    "HX     = 4.\n",
    "HY     = 4.\n",
    "N  = 3\n",
    "M  = 3\n",
    "#N  = 1\n",
    "#M  = 1\n",
    "DX = 2*HX/N\n",
    "DY = 2*HY/M\n",
    "x  = np.zeros((N+2))\n",
    "y  = np.zeros((M+2))\n",
    "DXbound = (HLONGX-HX)\n",
    "DYbound = (HLONGY-HY)\n",
    "x[0]    = -HLONGX + DXbound/2\n",
    "x[-1]   =  HLONGX - DXbound/2.\n",
    "x[1:-1] =  np.linspace(-HX + DX/2., HX - DX/2., num=N)\n",
    "y[0]    = -HLONGY + DYbound/2\n",
    "y[-1]   =  HLONGY - DYbound/2.\n",
    "y[1:-1] =  np.linspace(-HY + DY/2., HY - DY/2., num=M)\n",
    "X0, Y0  =  np.meshgrid(x,y)\n",
    "Lx=[DXbound]\n",
    "Lx.extend([DX]*N)\n",
    "Lx.extend([DXbound])\n",
    "Ly=[DYbound]\n",
    "Ly.extend([DY]*M)\n",
    "Ly.extend([DYbound])\n",
    "DX0, DY0=  np.meshgrid(Lx,Ly)\n",
    "H = []\n",
    "for xi,yi,dxi,dyi in zip(X0.ravel(),Y0.ravel(),DX0.ravel(),DY0.ravel()):\n",
    "    H.append(list((xi-dxi/2, xi+dxi/2, yi-dyi/2, yi+dyi/2)))\n",
    "H_boundaries = np.array(H).reshape(((N+2)*(M+2),4))\n",
    "# 1x1\n",
    "'''plist=[pro_clr3D]*4\n",
    "plist.extend([pro_cld3D])\n",
    "plist.extend([pro_clr3D]*4)'''\n",
    "\n",
    "# 2x2 (avec 2 clouds differents)\n",
    "'''plist=[pro_clr3D]*5\n",
    "plist.extend([pro1_cld3D, pro2_cld3D])\n",
    "plist.extend([pro_clr3D]*2)\n",
    "plist.extend([pro2_cld3D, pro1_cld3D])\n",
    "plist.extend([pro_clr3D]*5)'''\n",
    "\n",
    "# 3x3 (anneau)\n",
    "plist=[pro_clr3D]*6\n",
    "plist.extend([pro1_cld3D]*3)\n",
    "plist.extend([pro_clr3D]*2)\n",
    "plist.extend([pro1_cld3D, pro_clr3D, pro1_cld3D])\n",
    "plist.extend([pro_clr3D]*2)\n",
    "plist.extend([pro1_cld3D]*3)\n",
    "plist.extend([pro_clr3D]*6)\n",
    "\n",
    "p3D_NxM = pro3D_from_1D(plist, H_boundaries=H_boundaries).describe()"
   ]
  },
  {
   "cell_type": "code",
   "execution_count": null,
   "metadata": {
    "ExecuteTime": {
     "end_time": "2019-11-07T20:56:07.839876Z",
     "start_time": "2019-11-07T20:56:07.337889Z"
    },
    "hidden": true
   },
   "outputs": [],
   "source": [
    "%%time\n",
    "POSZ = 19.9999\n",
    "THDEG, PHDEG = 170., 0.\n",
    "#pixels\n",
    "NX = 40\n",
    "NY = 40\n",
    "NZ = 10\n",
    "NP = NX*NY\n",
    "VX = 10.\n",
    "VY = 10.\n",
    "VZ = 4.9999\n",
    "Ix = np.linspace(-VX, VX, num=NX) \n",
    "Iy = np.linspace(-VY, VY, num=NY) \n",
    "Iz = np.linspace(0.0001, VZ, num=NZ) \n",
    "px, py   = np.meshgrid(Ix, Iy)\n",
    "\n",
    "poss = []\n",
    "for POSX,POSY in zip(px.ravel(), py.ravel()):\n",
    "    poss.append(Point(POSX, POSY, POSZ))\n",
    "iboxes = get_iboxes(p3D_NxM, poss)\n",
    "\n",
    "sensors=[]\n",
    "for pos,IBOX in zip(poss,iboxes):\n",
    "    sensors.append(Sensor(POSZ=pos.z, POSX=pos.x, POSY=pos.y, FOV=90., TYPE=0,\n",
    "                          THDEG=THDEG, PHDEG=PHDEG, LOC='ATMOS', IBOX=IBOX))\n",
    "    \n",
    "\n",
    "IBOX0   = get_iboxes(p3D_NxM, [Point(0, 0, POSZ)])\n",
    "sensor0 = Sensor(POSZ=POSZ, THDEG=THDEG, PHDEG=PHDEG, LOC='ATMOS', IBOX=IBOX0)   "
   ]
  },
  {
   "cell_type": "code",
   "execution_count": null,
   "metadata": {
    "ExecuteTime": {
     "end_time": "2019-10-08T12:22:17.603439Z",
     "start_time": "2019-10-08T12:22:17.527620Z"
    },
    "hidden": true
   },
   "outputs": [],
   "source": [
    "import ephem\n",
    "\n",
    "def Get_SunEarth(obs):\n",
    "    \"\"\"\n",
    "    Get Earth-Sun distance correction\n",
    "    \"\"\"\n",
    "    date = str(obs.date).split()[0]\n",
    "    jday = datetime.datetime.strptime(date, '%Y/%m/%d').timetuple().tm_yday\n",
    "    SE_corr_c1 = 1.00011\n",
    "    SE_corr_c2 = 0.034221\n",
    "    SE_corr_c3 = 0.00128\n",
    "    SE_corr_c4 = 0.000719\n",
    "    SE_corr_c5 = 0.000077\n",
    "\n",
    "    d_qo = 2.0 * np.arccos(-1.) * (jday + 0.35) / 365.\n",
    "    d_corr = SE_corr_c1 +                       \\\n",
    "             SE_corr_c2 * np.cos(d_qo) +           \\\n",
    "             SE_corr_c3 * np.sin(d_qo) +           \\\n",
    "             SE_corr_c4 * np.cos(d_qo * 2.) +      \\\n",
    "             SE_corr_c5 * np.sin(d_qo * 2.)\n",
    "    dist = 1.0 / np.sqrt(d_corr)\n",
    "\n",
    "    return dist * dist\n",
    "\n",
    "\n",
    "lon = 0.\n",
    "lat = 35.\n",
    "\n",
    "dates= ['2015/6/21','2015/9/20']\n",
    "\n",
    "dt  = 75./(24*60) # time interval in fraction of day, here 30 minutes\n",
    "\n",
    "obs      = ephem.Observer()\n",
    "obs.lon  = str(lon)\n",
    "obs.lat  = str(lat)\n",
    "obs.pressure=0.\n",
    "obs.horizon = '0:34'\n",
    "obs.date = dates[1]\n",
    "sun      = ephem.Sun()\n",
    "drise    = obs.next_rising (sun, start=obs.date)\n",
    "dset     = obs.next_setting(sun, start=obs.date)\n",
    "dnoon    = obs.next_transit(sun, start=obs.date)\n",
    "#halfday  = dnoon - drise # computation from noon to sunrise\n",
    "fullday  = dset  - drise # computation from noon to sunrise\n",
    "\n",
    "#t        = np.linspace(0.001, halfday, num=halfday/dt, endpoint=True)\n",
    "t        = np.linspace(0.00, fullday, num=fullday/dt, endpoint=False)\n",
    "\n",
    "dates=[]\n",
    "th0=[]\n",
    "sed=[]\n",
    "ph0 = []\n",
    "for i,dt in enumerate(t):\n",
    "    #da       = dnoon - dt\n",
    "    da       = dset  - dt\n",
    "    obs.date = da\n",
    "    sun.compute(obs)\n",
    "    th0.append( 90.-float(sun.alt)*180/np.pi)\n",
    "    ph0.append(float(sun.az)*180./np.pi)\n",
    "    dates.append(str(obs.date))\n",
    "    sed.append(Get_SunEarth(obs))\n",
    "th0=np.array(th0)\n",
    "ph0=np.array(ph0)\n",
    "mus = cos(th0*np.pi/180)\n",
    "\n",
    "# Solar geometries\n",
    "le={'th_deg':th0, 'phi_deg':ph0, 'zip':True}"
   ]
  },
  {
   "cell_type": "code",
   "execution_count": null,
   "metadata": {
    "ExecuteTime": {
     "end_time": "2019-11-07T20:56:23.690003Z",
     "start_time": "2019-11-07T20:56:22.852646Z"
    },
    "hidden": true
   },
   "outputs": [],
   "source": [
    "%%time\n",
    "# case 5\n",
    "water = IOP_1(10.1, ang_trunc=30, DEPTH=10, FQYC=0.1)\n",
    "water = None\n",
    "ALB = Albedo_speclib('/rfs/data/speclib2.0/data/jhu.becknic.vegetation.grass.green.solid.gras.spectrum.txt')\n",
    "#ALB = Albedo_speclib('/rfs/data/speclib2.0/data/jhu.becknic.vegetation.grass.dry.solid.drygras.spectrum.txt')\n",
    "'''le   = {'th_deg':np.array([0], dtype=float), \n",
    "        'phi_deg': np.array([0], dtype=float), 'zip':True}'''\n",
    "surf= RoughSurface()\n",
    "#env = Environment(ENV=1, ALB=Albedo_cst(0.2), ENV_SIZE=3, X0=2.5)\n",
    "env = Environment(ENV=1, ALB=ALB, ENV_SIZE=3, X0=2.5)\n",
    "env = None\n",
    "NB=1e4*NP\n",
    "#NB=1e7\n",
    "#m3D_NxM  = S3D.run(wl=wl, NF=1e3, NBPHOTONS=NB, atm=p3D_NxM, sensor=sensors, env=env, water=water,\n",
    "                   #reflectance=True, le=le, surf=surf, stdev=True)\n",
    "NB=1e6\n",
    "m3D_NxM0  = S3D.run(wl=wl, NF=1e3, NBPHOTONS=NB, atm=p3D_NxM, sensor=sensor0, env=env, water=water,\n",
    "                   reflectance=True, le=le, surf=surf, stdev=True, alis_options={'nlow':-1})\n",
    "#m3D_NxM  = S3D.run(wl=wl, NF=1e3, NBPHOTONS=NB, atm=p3D_NxM, sensor=sensors, env=env,\n",
    "                   #reflectance=True, le=le, surf=surf, stdev=True)\n",
    "#m3DA_NxM  = S3DA.run(wl=wl, NF=1e3, NBPHOTONS=NB, atm=p3D_NxM, sensor=sensors, env=env,\n",
    "                   #reflectance=True, le=le, surf=surf, stdev=True, alis_options={'nlow':3})\n",
    "print(m3D_NxM0.attrs['kernel time (s)'])\n",
    "\n",
    "#smartg_c2 = m3D_NxM.dropaxis('Zenith angles').dropaxis('Azimuth angles').dropaxis('wavelength')"
   ]
  },
  {
   "cell_type": "code",
   "execution_count": null,
   "metadata": {
    "ExecuteTime": {
     "end_time": "2019-11-07T20:56:32.266179Z",
     "start_time": "2019-11-07T20:56:32.178648Z"
    },
    "hidden": true
   },
   "outputs": [],
   "source": [
    "m3D_NxM0.describe()"
   ]
  },
  {
   "cell_type": "code",
   "execution_count": null,
   "metadata": {
    "ExecuteTime": {
     "end_time": "2019-11-07T20:56:37.785360Z",
     "start_time": "2019-11-07T20:56:36.757366Z"
    },
    "hidden": true,
    "run_control": {
     "marked": false
    },
    "scrolled": false
   },
   "outputs": [],
   "source": [
    "from itertools import product\n",
    "NROWS = 2\n",
    "NCOLS = 4\n",
    "f,ax = subplots(nrows=NROWS, ncols=NCOLS)\n",
    "f.set_size_inches(12,6)\n",
    "I = m3D_NxM['I_up (TOA)'].data\n",
    "I2 = (I/I.max()*255).astype(int)\n",
    "k=1\n",
    "for i,j in product(np.arange(NROWS), np.arange(NCOLS)):\n",
    "    ax[i,j].imshow(I2[:,:,k].reshape((NX,NY,3)))\n",
    "    k+=1\n",
    "f.savefig('/home/documents/TOSCA/Hagolle_3D.png', dpi=100)"
   ]
  },
  {
   "cell_type": "code",
   "execution_count": null,
   "metadata": {
    "ExecuteTime": {
     "end_time": "2019-10-08T11:56:18.928180Z",
     "start_time": "2019-10-08T11:56:18.145068Z"
    },
    "hidden": true
   },
   "outputs": [],
   "source": [
    "from itertools import product\n",
    "NROWS = 2\n",
    "NCOLS = 4\n",
    "k=1\n",
    "for i,j in product(np.arange(NROWS), np.arange(NCOLS)):\n",
    "    m3D_NxM0['I_up (TOA)'].sub()[:,k].plot(vmin=0, vmax=.2)\n",
    "    k+=1"
   ]
  },
  {
   "cell_type": "code",
   "execution_count": null,
   "metadata": {
    "ExecuteTime": {
     "end_time": "2019-10-08T12:24:11.868415Z",
     "start_time": "2019-10-08T12:24:10.975213Z"
    },
    "hidden": true,
    "scrolled": false
   },
   "outputs": [],
   "source": [
    "smartg_c2 = m3D_NxM.dropaxis('Zenith angles').dropaxis('Azimuth angles')\n",
    "\n",
    "extent=[Ix[0], Ix[-1], Iy[0], Iy[-1]]\n",
    "fig,ax=subplots(1,2)\n",
    "fig.set_size_inches((14,10))\n",
    "I = smartg_c2['I_up (TOA)'][:,:].reshape((NX,NY,3))\n",
    "Q = smartg_c2['Q_up (TOA)'][:,:].reshape((NX,NY,3))\n",
    "U = smartg_c2['U_up (TOA)'][:,:].reshape((NX,NY,3))\n",
    "LP = np.sqrt(U**2+Q**2)\n",
    "DoLP = LP/I*100\n",
    "P1=ax[0].imshow(I, vmin=0.0, vmax=.3, cmap=cm.Blues_r, extent=extent)\n",
    "colorbar(P1, ax=ax[0], shrink=0.5, label=r'$\\rho^{TOA} (865 nm) $')\n",
    "P4=ax[1].imshow(LP, vmin=0, vmax=.05, cmap=cm.Blues_r, extent=extent)\n",
    "colorbar(P4, ax=ax[1], shrink=0.5, label='DoLP (%)')\n",
    "ax[0].set_xlabel('X (km)')\n",
    "ax[1].set_xlabel('X (km)')\n",
    "ax[0].set_ylabel('Y (km)')\n",
    "ax[1].set_ylabel('Y (km)')\n",
    "fig.tight_layout()\n",
    "fig.savefig('/home/documents/ESA/LPS2019/Lake_865.png', dpi=200)\n",
    "\n",
    "fig,ax=subplots(1,2)\n",
    "fig.set_size_inches((12,2))\n",
    "ax[0].plot(Ix,I[int(NX/2),:,:],'+')\n",
    "ax[0].set_xlabel('X (km)')\n",
    "ax[0].set_ylim([0.005,0.25])\n",
    "ax[0].set_title('Y=0 transect')\n",
    "ax[0].set_ylabel(r'$\\rho^{TOA} (865 nm) $')\n",
    "ax[1].plot(Ix,LP[int(NX/2),:,:],'+')\n",
    "ax[1].set_ylim([0.,0.25])\n",
    "ax[1].set_ylabel('X (km)')\n",
    "ax[1].set_title('Y=0 transect')\n",
    "ax[1].set_ylabel('DoLP (%)')\n",
    "fig.tight_layout()\n",
    "fig.savefig('/home/documents/ESA/LPS2019/Lake_865_transect.png', dpi=200)"
   ]
  },
  {
   "cell_type": "code",
   "execution_count": null,
   "metadata": {
    "ExecuteTime": {
     "end_time": "2019-10-08T12:24:16.056294Z",
     "start_time": "2019-10-08T12:24:15.183547Z"
    },
    "hidden": true,
    "scrolled": false
   },
   "outputs": [],
   "source": [
    "extent=[Ix[0], Ix[-1], Iy[0], Iy[-1]]\n",
    "fig,ax=subplots(1,2)\n",
    "fig.set_size_inches((14,10))\n",
    "I = smartg_c2['I_up (TOA)'][:].reshape((NX,NY))\n",
    "Q = smartg_c2['Q_up (TOA)'][:].reshape((NX,NY))\n",
    "U = smartg_c2['U_up (TOA)'][:].reshape((NX,NY))\n",
    "LP = np.sqrt(U**2+Q**2)\n",
    "DoLP = LP/I*100\n",
    "P1=ax[0].imshow(I, vmin=0.0, vmax=.3, cmap=cm.Blues_r, extent=extent)\n",
    "colorbar(P1, ax=ax[0], shrink=0.5, label=r'$\\rho^{TOA} (865 nm) $')\n",
    "P4=ax[1].imshow(DoLP, vmin=0, vmax=30, cmap=cm.Blues_r, extent=extent)\n",
    "colorbar(P4, ax=ax[1], shrink=0.5, label='DoLP (%)')\n",
    "ax[0].set_xlabel('X (km)')\n",
    "ax[1].set_xlabel('X (km)')\n",
    "ax[0].set_ylabel('Y (km)')\n",
    "ax[1].set_ylabel('Y (km)')\n",
    "fig.tight_layout()\n",
    "fig.savefig('/home/documents/ESA/LPS2019/Lake_865.png', dpi=200)\n",
    "\n",
    "fig,ax=subplots(1,2)\n",
    "fig.set_size_inches((12,2))\n",
    "ax[0].plot(Ix,I[int(NX/2),:],'+')\n",
    "ax[0].set_xlabel('X (km)')\n",
    "ax[0].set_ylim([0.005,0.05])\n",
    "ax[0].set_title('Y=0 transect')\n",
    "ax[0].set_ylabel(r'$\\rho^{TOA} (865 nm) $')\n",
    "ax[1].plot(Ix,DoLP[int(NX/2),:],'+')\n",
    "ax[1].set_ylim([0.,40])\n",
    "ax[1].set_ylabel('X (km)')\n",
    "ax[1].set_title('Y=0 transect')\n",
    "ax[1].set_ylabel('DoLP (%)')\n",
    "fig.tight_layout()\n",
    "fig.savefig('/home/documents/ESA/LPS2019/Lake_865_transect.png', dpi=200)"
   ]
  },
  {
   "cell_type": "code",
   "execution_count": null,
   "metadata": {
    "ExecuteTime": {
     "end_time": "2019-10-08T11:56:34.013624Z",
     "start_time": "2019-10-08T11:56:33.832261Z"
    },
    "hidden": true
   },
   "outputs": [],
   "source": [
    "import matplotlib.pyplot as plt\n",
    "fig = plt.figure()\n",
    "\n",
    "# ims is a list of lists, each row is a list of artists to draw in the\n",
    "# current frame; here we are just animating one artist, the image, in\n",
    "# each frame\n",
    "ims = []\n",
    "for th in m3D_NxM.axis('Zenith angles'):\n",
    "    I = m3D_NxM.sub({'Zenith angles':Idx(th)})['I_up (TOA)'][:,:].reshape((NX,NY,3))\n",
    "    im=plt.imshow((I/I.max()*255).astype(int), animated=True)\n",
    "    ims.append([im])\n",
    "'''for i in range(60):\n",
    "    x += np.pi / 15.\n",
    "    y += np.pi / 20.\n",
    "    im = plt.imshow(f(x, y), animated=True)\n",
    "    ims.append([im])'''\n",
    "\n",
    "#ani = animation.ArtistAnimation(fig, ims, interval=2000, blit=True,\n",
    " #                               repeat_delay=None)\n",
    "\n",
    "# To save the animation, use e.g.\n",
    "#\n",
    "# ani.save(\"/home/did/work/movie.mp4\")\n",
    "#\n",
    "# or\n",
    "#\n",
    "from matplotlib.animation import FFMpegWriter\n",
    "writer = FFMpegWriter(fps=5, metadata=dict(artist='Me'), bitrate=1800)\n",
    "ani.save(\"/home/did/work/movie.mp4\", writer=writer)\n",
    "\n",
    "plt.show()\n"
   ]
  },
  {
   "cell_type": "markdown",
   "metadata": {},
   "source": [
    "# Profile to Cell"
   ]
  },
  {
   "cell_type": "markdown",
   "metadata": {
    "heading_collapsed": true
   },
   "source": [
    "## Simple atmosphere"
   ]
  },
  {
   "cell_type": "code",
   "execution_count": null,
   "metadata": {
    "ExecuteTime": {
     "end_time": "2019-12-24T14:23:01.245205Z",
     "start_time": "2019-12-24T14:23:00.715469Z"
    },
    "hidden": true
   },
   "outputs": [],
   "source": [
    "# vertical grid in descending order as usual for SmartG 1D\n",
    "znew = np.linspace(50., 0. , num=26)\n",
    "#znew = np.array([100., 99., 20., 5., 3., 2., 0.])\n",
    "Nx=1\n",
    "Ny=1\n",
    "Dx=1e5\n",
    "Dy=1e5\n",
    "# vertical grid in ascending order for 3D grid\n",
    "zgrid = znew[::-1]\n",
    "\n",
    "# grid building\n",
    "(idx,idy,idz), (NX,NY,NZ), (xgrid, ygrid, zgrid), neigh, pmin, pmax = \\\n",
    "    Get_3Dcells(Nx=Nx,Dx=Dx,Ny=Ny,Dy=Dy, z=zgrid, SAT_ALTITUDE=120, \n",
    "                periodic=False, HORIZ_EXTENT_LENGTH=0)\n",
    "Ncell   = NX*NY*NZ\n",
    "\n",
    "# cells optical properties\n",
    "iopt           = np.zeros(NX*NY*NZ, dtype= int32)\n",
    "# properties depend only on z\n",
    "iatm           = np.arange(NZ)\n",
    "iopt[:]        = iatm[idz]+1\n",
    "\n",
    "atm3D_clr = AtmAFGL('afglt', O3=0., NO2=False,\n",
    "                    grid        = zgrid,\n",
    "                    cells       = (iopt, pmin, pmax, neigh)\n",
    "                   )\n",
    "atm_clr   = AtmAFGL('afglt', O3=0., NO2=False,\n",
    "                    grid        = zgrid[::-1]\n",
    "                   )\n",
    "wl = np.linspace(400., 420., num=5)\n",
    "wl = [400.]\n",
    "\n",
    "pro3D_clr = atm3D_clr.calc(wl)\n",
    "pro_clr   = atm_clr.calc(wl)"
   ]
  },
  {
   "cell_type": "code",
   "execution_count": null,
   "metadata": {
    "ExecuteTime": {
     "end_time": "2019-12-24T14:23:04.255739Z",
     "start_time": "2019-12-24T14:23:04.130010Z"
    },
    "hidden": true
   },
   "outputs": [],
   "source": [
    "(idx,idy,idz), (NX,NY,NZ), (xgrid, ygrid, zgrid), neigh, pmin, pmax"
   ]
  },
  {
   "cell_type": "code",
   "execution_count": null,
   "metadata": {
    "ExecuteTime": {
     "end_time": "2019-12-24T14:23:09.374745Z",
     "start_time": "2019-12-24T14:23:09.248856Z"
    },
    "hidden": true
   },
   "outputs": [],
   "source": [
    "# Sensors position\n",
    "POSX = 0.005\n",
    "POSY = 0.005\n",
    "POSZ = 110.00001\n",
    "P    = Point(z=POSZ)\n",
    "icells = locate_3D_cells(pro3D_clr, np.array([POSX]), np.array([POSY]), np.array([POSZ]))\n",
    "ICELL = icells[0]\n",
    "print(ICELL)\n",
    "# pixels centers on the ground\n",
    "x0    = xgrid # central domain (cumulus) boundaries\n",
    "y0    = ygrid\n",
    "# centers\n",
    "xx,yy = np.meshgrid(np.diff(x0)/2. + x0[:-1], np.diff(y0)/2. + y0[:-1])\n",
    "# view angles\n",
    "PHDEG = np.degrees(np.arctan2(xx, yy))\n",
    "THDEG = 180-np.degrees(np.arctan2(np.sqrt(xx**2+yy**2), POSZ))\n",
    "\n",
    "sensors=[]\n",
    "for th, ph in zip(THDEG.ravel(), PHDEG.ravel()):\n",
    "    sensors.append(Sensor(POSX=POSX, POSY=POSY, POSZ=POSZ, FOV=0., TYPE=0,\n",
    "                          THDEG=th, PHDEG=ph, LOC='ATMOS', ICELL=ICELL))"
   ]
  },
  {
   "cell_type": "code",
   "execution_count": null,
   "metadata": {
    "ExecuteTime": {
     "start_time": "2019-12-24T14:23:10.232Z"
    },
    "hidden": true
   },
   "outputs": [],
   "source": [
    "%%time\n",
    "S3D    = Smartg(opt3D=True,  alt_pp=True) # 3D\n",
    "S      = Smartg(opt3D=False, alt_pp=True) # 3D\n",
    "le     = {'th_deg':np.linspace(0, 80., num=1), 'phi_deg':np.linspace(0., 210., num=1)}\n",
    "\n",
    "NB     = 1e7\n",
    "surf   = RoughSurface()\n",
    "surf   = None\n",
    "m3D    = S3D.run(wl=wl,  NBPHOTONS=NB, atm=pro3D_clr, sensor=sensors, le=None, surf=surf, NBLOOP=1e6,\n",
    "               stdev=False, NF=1e4, NBPHI=18, NBTHETA=35)\n",
    "m0     = S.run(wl=wl,  NBPHOTONS=NB, atm=pro_clr, sensor=sensors, le=None, surf=surf, NBLOOP=1e6,\n",
    "               stdev=False, NF=1e4, NBPHI=18, NBTHETA=35)"
   ]
  },
  {
   "cell_type": "code",
   "execution_count": null,
   "metadata": {
    "ExecuteTime": {
     "end_time": "2019-12-23T10:13:05.238327Z",
     "start_time": "2019-12-23T10:13:03.214585Z"
    },
    "hidden": true
   },
   "outputs": [],
   "source": [
    "_=smartg_view(m3D.sub({'sensor index':0}))\n",
    "_=smartg_view(m0.sub({'sensor index':0}))"
   ]
  },
  {
   "cell_type": "markdown",
   "metadata": {
    "heading_collapsed": true
   },
   "source": [
    "## Cloud"
   ]
  },
  {
   "cell_type": "code",
   "execution_count": null,
   "metadata": {
    "ExecuteTime": {
     "end_time": "2020-01-08T13:33:37.412401Z",
     "start_time": "2020-01-08T13:33:36.367383Z"
    },
    "hidden": true
   },
   "outputs": [],
   "source": [
    "# Cloud Phase matrix\n",
    "cld_phase = read_mlut('/home/did/RTC/SMART-G/smartg/validation/IPRT/watercloud.mie.nc')\n",
    "ntheta = cld_phase['ntheta'][0,0,0]\n",
    "wl     = [670.]\n",
    "l      = []\n",
    "l.append(cld_phase['phase'][:,:,0,:ntheta].ravel() + cld_phase['phase'][:,:,1,:ntheta].ravel())\n",
    "l.append(cld_phase['phase'][:,:,0,:ntheta].ravel() - cld_phase['phase'][:,:,1,:ntheta].ravel())\n",
    "l.append(cld_phase['phase'][:,:,2,:ntheta].ravel())\n",
    "l.append(cld_phase['phase'][:,:,3,:ntheta].ravel())\n",
    "# Normalization to 2\n",
    "p      = cld_phase['phase'][:,:,0,:ntheta].ravel()\n",
    "theta  = cld_phase['theta'][:,:,0,:ntheta].ravel()[::-1]\n",
    "mu     = np.cos(np.radians(theta))\n",
    "NORM   = np.trapz(p,-mu)\n",
    "data   = np.array(l) \n",
    "print ('phase function norm: ', NORM)\n",
    "#data = np.array(l) * (2./Norm)\n",
    "# 2) store data in a LUT object with 4 dimensions, the z dimension is restricted to one level of altitude 0\n",
    "pha_cld = LUT(data[:, ::-1], names=['stk', 'theta_atm'],\n",
    "          axes=[None, cld_phase['theta'][:,:,0,:ntheta].ravel()[::-1]]\n",
    "         )"
   ]
  },
  {
   "cell_type": "code",
   "execution_count": null,
   "metadata": {
    "ExecuteTime": {
     "end_time": "2020-01-09T17:10:12.918146Z",
     "start_time": "2020-01-09T17:10:02.446208Z"
    },
    "hidden": true
   },
   "outputs": [],
   "source": [
    "cloud_LUT=read_mlut('/home/did/RTC/SMART-G/smartg/data/opt_liquid_cloud.nc')"
   ]
  },
  {
   "cell_type": "markdown",
   "metadata": {
    "hidden": true
   },
   "source": [
    "### Step cloud C1"
   ]
  },
  {
   "cell_type": "code",
   "execution_count": null,
   "metadata": {
    "ExecuteTime": {
     "end_time": "2020-01-08T13:34:07.706387Z",
     "start_time": "2020-01-08T13:34:07.062937Z"
    },
    "hidden": true
   },
   "outputs": [],
   "source": [
    "#alternative reff = 2 micron phase function\n",
    "wl = 1020.\n",
    "cld = CloudOPAC('wc.sol', 2., 2, 3., 1., wl)\n",
    "pha_cld = AtmAFGL('afglt', comp=[cld]).calc(wl)['phase_atm'].sub()[0,:,:]"
   ]
  },
  {
   "cell_type": "code",
   "execution_count": null,
   "metadata": {
    "ExecuteTime": {
     "end_time": "2019-12-24T13:39:16.601786Z",
     "start_time": "2019-12-24T13:39:16.569078Z"
    },
    "hidden": true
   },
   "outputs": [],
   "source": [
    "Nx = 2\n",
    "Ny = 1\n",
    "Nz = 1\n",
    "Dx = 0.5/Nx\n",
    "Dy = 1e5\n",
    "Dz = 0.25\n",
    "\n",
    "(idx,idy,idz), (NX,NY,NZ), (xgrid, ygrid, zgrid), neigh, pmin, pmax = \\\n",
    "    Get_3Dcells(Nx=Nx, Ny=Ny, Nz=Nz, Dx=Dx, Dy=Dy, Dz=Dz, periodic=True,\n",
    "                SAT_ALTITUDE=120, HORIZ_EXTENT_LENGTH=0)\n",
    "\n",
    "Ncell   = NX*NY*NZ\n",
    "Natm    = 3 # 2 cloud cells + void\n",
    "# cells optical properties indices\n",
    "iopt    = np.array([0, 1, 2, 1], dtype=int32)\n",
    "# optical properties \n",
    "ptc_sca = np.array([2./0.25, 0., 18./0.25])\n",
    "ptc_ssa = np.array([0.99, 1., 0.99])\n",
    "ray_sca = np.zeros_like(ptc_sca)\n",
    "gas_abs = np.zeros_like(ptc_sca)\n",
    "ipha    = np.zeros_like(ptc_sca, dtype=int32)"
   ]
  },
  {
   "cell_type": "code",
   "execution_count": null,
   "metadata": {
    "ExecuteTime": {
     "end_time": "2019-12-24T13:39:17.683614Z",
     "start_time": "2019-12-24T13:39:17.650559Z"
    },
    "hidden": true
   },
   "outputs": [],
   "source": [
    "(idx,idy,idz), (NX,NY,NZ), (xgrid, ygrid, zgrid), neigh, pmin, pmax"
   ]
  },
  {
   "cell_type": "code",
   "execution_count": null,
   "metadata": {
    "ExecuteTime": {
     "end_time": "2019-12-24T13:39:18.865900Z",
     "start_time": "2019-12-24T13:39:18.643125Z"
    },
    "hidden": true
   },
   "outputs": [],
   "source": [
    "atm3D_cld = AtmAFGL('afglt',\n",
    "                    grid        = zgrid,\n",
    "                    prof_ray    = ray_sca[None,:],\n",
    "                    prof_abs    = gas_abs[None,:],\n",
    "                    prof_aer    = (ptc_sca[None,:], ptc_ssa[None,:]),\n",
    "                    prof_phases = (ipha[None,:], [pha_cld]),\n",
    "                    cells       = (iopt, pmin, pmax, neigh)\n",
    "                   )\n",
    "wl = [800.]\n",
    "\n",
    "pro3D_cld = atm3D_cld.calc(wl).describe()"
   ]
  },
  {
   "cell_type": "code",
   "execution_count": null,
   "metadata": {
    "ExecuteTime": {
     "end_time": "2019-12-24T13:39:20.431790Z",
     "start_time": "2019-12-24T13:39:20.395010Z"
    },
    "hidden": true,
    "run_control": {
     "marked": false
    }
   },
   "outputs": [],
   "source": [
    "# Sun position\n",
    "SAA    = 180.\n",
    "SZA    = 20.\n",
    "# Sensors position\n",
    "Npix   = 32\n",
    "POSZ   = 0.25\n",
    "THDEG  = 120.\n",
    "PHDEG  = 135.\n",
    "# pixels centers on the ground\n",
    "x0    = np.linspace(xgrid[0]+Dx/2., xgrid[-1]-Dx/2., num=Npix) # central domain (cumulus) boundaries\n",
    "y0    = np.array([0.])\n",
    "#\n",
    "xx,yy = np.meshgrid(x0, y0)\n",
    "zz    = np.zeros_like(xx) + POSZ\n",
    "# cells indices\n",
    "icells = locate_3D_cells(pro3D_cld, xx.ravel(), yy.ravel(), zz.ravel())\n",
    "\n",
    "sensors=[]\n",
    "for POSX,POSY,ICELL in zip(xx.ravel(), yy.ravel(), icells):\n",
    "    sensors.append(Sensor(POSX=POSX, POSY=POSY, POSZ=POSZ, FOV=0., TYPE=0,\n",
    "                          THDEG=THDEG, PHDEG=PHDEG, LOC='ATMOS', ICELL=ICELL))"
   ]
  },
  {
   "cell_type": "code",
   "execution_count": null,
   "metadata": {
    "ExecuteTime": {
     "end_time": "2019-12-24T13:39:21.740671Z",
     "start_time": "2019-12-24T13:39:21.385186Z"
    },
    "hidden": true
   },
   "outputs": [],
   "source": [
    "S3D    = Smartg(opt3D=True,  alt_pp=True, alis=False) # 3D"
   ]
  },
  {
   "cell_type": "code",
   "execution_count": null,
   "metadata": {
    "ExecuteTime": {
     "start_time": "2019-12-24T13:39:22.614Z"
    },
    "hidden": true
   },
   "outputs": [],
   "source": [
    "%%time\n",
    "#S3D    = Smartg(opt3D=True,  alt_pp=True) # 3D\n",
    "le     = {'th_deg':np.array([SZA]), 'phi_deg':np.array([SAA])}\n",
    "\n",
    "NB     = len(sensors) * 1e5\n",
    "surf   = None\n",
    "m3D    = S3D.run(wl=wl,  NBPHOTONS=NB, atm=pro3D_cld, sensor=sensors, le=le, surf=surf, NBLOOP=1e5,\n",
    "               stdev=False, NF=1e4, NBPHI=18, NBTHETA=35, alis_options={'nlow':-1})"
   ]
  },
  {
   "cell_type": "code",
   "execution_count": null,
   "metadata": {
    "ExecuteTime": {
     "end_time": "2019-12-23T10:35:44.423940Z",
     "start_time": "2019-12-23T10:35:44.169917Z"
    },
    "hidden": true
   },
   "outputs": [],
   "source": [
    "(m3D['I_up (TOA)'].sub()[:,0,0]/np.pi*1e3).plot(vmin=0, fmt='-')"
   ]
  },
  {
   "cell_type": "code",
   "execution_count": null,
   "metadata": {
    "ExecuteTime": {
     "end_time": "2019-12-23T10:45:03.055556Z",
     "start_time": "2019-12-23T10:45:02.692402Z"
    },
    "hidden": true
   },
   "outputs": [],
   "source": [
    "(m3D['V_up (TOA)'].sub()[:,0,0]/np.pi*1e3).plot( fmt='-')"
   ]
  },
  {
   "cell_type": "code",
   "execution_count": null,
   "metadata": {
    "ExecuteTime": {
     "end_time": "2019-12-23T10:21:55.024390Z",
     "start_time": "2019-12-23T10:21:54.913981Z"
    },
    "hidden": true
   },
   "outputs": [],
   "source": [
    "len(sensors)"
   ]
  },
  {
   "cell_type": "markdown",
   "metadata": {
    "hidden": true
   },
   "source": [
    "### Cubic cloud C2"
   ]
  },
  {
   "cell_type": "code",
   "execution_count": null,
   "metadata": {
    "ExecuteTime": {
     "end_time": "2019-12-25T21:21:33.177134Z",
     "start_time": "2019-12-25T21:21:32.598953Z"
    },
    "hidden": true
   },
   "outputs": [],
   "source": [
    "#alternative reff = 2 micron phase function\n",
    "wl = 1020.\n",
    "cld = CloudOPAC('wc.sol', 2., 2, 3., 1., wl)\n",
    "pha_cld = AtmAFGL('afglt', comp=[cld]).calc(wl)['phase_atm'].sub()[0,:,:]"
   ]
  },
  {
   "cell_type": "code",
   "execution_count": null,
   "metadata": {
    "ExecuteTime": {
     "end_time": "2019-12-25T21:21:33.665192Z",
     "start_time": "2019-12-25T21:21:33.628478Z"
    },
    "hidden": true
   },
   "outputs": [],
   "source": [
    "#xgrid = np.array([-1e5, -3.5, -0.5, 0.5, 3.5, 1e5])\n",
    "#ygrid = np.array([-1e5, -3.5, -0.5, 0.5, 3.5, 1e5])\n",
    "#xgrid = np.array([ -3.5, -0.5, 0.5, 3.5])\n",
    "#ygrid = np.array([ -3.5, -0.5, 0.5, 3.5])\n",
    "Nx=1\n",
    "Ny=1\n",
    "Dx=1.\n",
    "Dy=1.\n",
    "zgrid = np.array([0., 2., 3., 5., 120.])\n",
    "\n",
    "(idx,idy,idz), (NX,NY,NZ), (xgrid, ygrid, zgrid), neigh, pmin, pmax = \\\n",
    "    Get_3Dcells(Nx=Nx,Dx=Dx,Ny=Ny,Dy=Dy, z=zgrid, SAT_ALTITUDE=120, \n",
    "                periodic=False, HORIZ_EXTENT_LENGTH=1e5)\n",
    "\n",
    "Ncell   = NX*NY*NZ\n",
    "#Natm    = 2 # 1 cloud cell + void\n",
    "# cells optical properties indices\n",
    "cloud_cell = np.ravel_multi_index((1, 1, 1), dims=(NX,NY,NZ), order='C')\n",
    "iopt    = np.zeros(Ncell, dtype=int32)\n",
    "iopt[cloud_cell] = 1\n",
    "# optical properties \n",
    "ptc_sca = np.array([0., 10.])\n",
    "ptc_ssa = np.array([1., 1.])\n",
    "ray_sca = np.zeros_like(ptc_sca)\n",
    "gas_abs = np.zeros_like(ptc_sca)\n",
    "ipha    = np.zeros_like(ptc_sca, dtype=int32)"
   ]
  },
  {
   "cell_type": "code",
   "execution_count": null,
   "metadata": {
    "ExecuteTime": {
     "end_time": "2019-12-25T21:21:37.325544Z",
     "start_time": "2019-12-25T21:21:36.958917Z"
    },
    "hidden": true
   },
   "outputs": [],
   "source": [
    "atm3D_cld = AtmAFGL('afglt',\n",
    "                    grid        = np.array([120.,0]),\n",
    "                    #grid        = zgrid,\n",
    "                    prof_ray    = ray_sca[None,:],\n",
    "                    prof_abs    = gas_abs[None,:],\n",
    "                    prof_aer    = (ptc_sca[None,:], ptc_ssa[None,:]),\n",
    "                    prof_phases = (ipha[None,:], [pha_cld]),\n",
    "                    cells       = (iopt, pmin, pmax, neigh)\n",
    "                   )\n",
    "wl = [800.]\n",
    "\n",
    "pro3D_cld = atm3D_cld.calc(wl).describe()"
   ]
  },
  {
   "cell_type": "code",
   "execution_count": null,
   "metadata": {
    "ExecuteTime": {
     "end_time": "2019-12-25T21:21:40.645044Z",
     "start_time": "2019-12-25T21:21:40.182603Z"
    },
    "hidden": true,
    "run_control": {
     "marked": true
    }
   },
   "outputs": [],
   "source": [
    "# Sun position\n",
    "SAA    = 0.\n",
    "SZA    = 40.\n",
    "# Sensors position\n",
    "Npix   = 70\n",
    "POSZ   = 5.0001\n",
    "POSX   = 3.4999\n",
    "POSY   = 3.4999\n",
    "THDEG  = 180.\n",
    "PHDEG  = 0.\n",
    "# pixels centers on the ground\n",
    "#x0    = np.linspace(xgrid[1], xgrid[-2], num=Npix) # central domain (cumulus) boundaries\n",
    "#y0    = np.linspace(ygrid[1], ygrid[-2], num=Npix)\n",
    "x0    = np.linspace(-POSX, POSX, num=Npix) # central domain (cumulus) boundaries\n",
    "y0    = np.linspace(-POSY, POSY, num=Npix)\n",
    "z0    = np.linspace( POSZ,   5 , num=Npix)\n",
    "#\n",
    "xx,yy = np.meshgrid(x0, y0)\n",
    "zz    = np.zeros_like(xx) + POSZ\n",
    "\n",
    "#xx,zz = np.meshgrid(x0, z0)\n",
    "#yy    = np.zeros_like(xx) + POSY\n",
    "# cells indices\n",
    "icells = locate_3Dregular_cells(xgrid, ygrid, zgrid, xx.ravel(), yy.ravel(), zz.ravel())\n",
    "\n",
    "sensors=[]\n",
    "for POSX,POSY,POSZ,ICELL in zip(xx.ravel(), yy.ravel(), zz.ravel(), icells):\n",
    "    sensors.append(Sensor(POSX=POSX, POSY=POSY, POSZ=POSZ, FOV=0., TYPE=0,\n",
    "                          THDEG=THDEG, PHDEG=PHDEG, LOC='ATMOS', ICELL=ICELL))"
   ]
  },
  {
   "cell_type": "code",
   "execution_count": null,
   "metadata": {
    "ExecuteTime": {
     "end_time": "2019-12-25T21:22:29.162267Z",
     "start_time": "2019-12-25T21:22:26.414024Z"
    },
    "hidden": true
   },
   "outputs": [],
   "source": [
    "%%time\n",
    "S3D    = Smartg(opt3D=True,  alt_pp=True, alis=True) # 3D\n",
    "le     = {'th_deg':np.array([SZA]), 'phi_deg':np.array([SAA])}\n",
    "\n",
    "NB     = len(sensors) * 1e4\n",
    "surf   = LambSurface(ALB=0.2)\n",
    "m3D    = S3D.run(wl=wl,  NBPHOTONS=NB, atm=pro3D_cld, sensor=sensors, le=le, surf=surf, NBLOOP=1e5,\n",
    "               stdev=False, NF=1e4, NBPHI=18, NBTHETA=35, alis_options={'nlow':-1})"
   ]
  },
  {
   "cell_type": "code",
   "execution_count": null,
   "metadata": {
    "ExecuteTime": {
     "end_time": "2019-12-25T21:22:13.168162Z",
     "start_time": "2019-12-25T21:22:12.344558Z"
    },
    "hidden": true
   },
   "outputs": [],
   "source": [
    "print(NB)\n",
    "imshow(m3D['I_up (TOA)'].sub()[:,0,0].data.reshape(Npix,Npix)[::-1,:], cmap='jet')\n",
    "colorbar()\n",
    "figure()\n",
    "imshow(m3D['Q_up (TOA)'].sub()[:,0,0].data.reshape(Npix,Npix)[::-1,:], cmap='jet')\n",
    "colorbar()"
   ]
  },
  {
   "cell_type": "markdown",
   "metadata": {
    "hidden": true
   },
   "source": [
    "### Cumulus C3"
   ]
  },
  {
   "cell_type": "code",
   "execution_count": null,
   "metadata": {
    "ExecuteTime": {
     "end_time": "2019-12-28T17:01:56.488329Z",
     "start_time": "2019-12-28T17:01:55.907571Z"
    },
    "hidden": true
   },
   "outputs": [],
   "source": [
    "#alternative reff = 2 micron phase function\n",
    "wl = 670.\n",
    "cld = CloudOPAC('wc.sol', 2., 2, 3., 1., wl)\n",
    "pha_cld = AtmAFGL('afglt', comp=[cld]).calc(wl)['phase_atm'].sub()[0,:,:]\n",
    "\n",
    "# Cloud Phase matrix\n",
    "# alternative reff = 5 micron phase function\n",
    "cloud_sub = cloud_LUT.sub({'effective_radius':Idx(5.),'effective_variance':0, 'wavelength':Idx(0.670)})\n",
    "pha = np.stack([(cloud_sub['p11_phase_function']+cloud_sub['p21_phase_function'])[::-1],\n",
    "               (cloud_sub['p11_phase_function']-cloud_sub['p21_phase_function'])[::-1],\n",
    "                cloud_sub['p34_phase_function'][::-1], cloud_sub['p44_phase_function'][::-1]])\n",
    "pha_cld = LUT(pha, axes=[None, cloud_sub.axis('phase_angles')[::-1]], names=['stk', 'theta_atm'])"
   ]
  },
  {
   "cell_type": "code",
   "execution_count": null,
   "metadata": {
    "ExecuteTime": {
     "end_time": "2019-12-28T17:02:03.511856Z",
     "start_time": "2019-12-28T17:02:03.008050Z"
    },
    "hidden": true
   },
   "outputs": [],
   "source": [
    "# C3 IPRT Cumulus data\n",
    "cumulus_f='/home/did/RTC/SMART-G/smartg/validation/IPRT/cumulus.dat'\n",
    "f       = open(cumulus_f, 'r')\n",
    "f.readline(); \n",
    "l       = f.readline().split()\n",
    "Nx, Ny, Nz, _ = list(map(int, l)) # number of cumulus cells in X, Y, X\n",
    "Nl      = Nz + 1                  # number of levels in Z\n",
    "l       = f.readline()\n",
    "g_info  = list(map(float, l.split()))\n",
    "Dx, Dy  = g_info[0:2]              # horizontal grid interval in km\n",
    "#zgrid   = np.array(g_info[2:][::-1])# vertical grid in km\n",
    "zgrid   = np.array(g_info[2:])# vertical grid in km\n",
    "assert Nl==zgrid.size\n",
    "\n",
    "zgrid = np.concatenate([zgrid, np.array([120.])])\n",
    "(idx,idy,idz), (NX,NY,NZ), (xgrid, ygrid, zgrid), neigh, pmin, pmax = \\\n",
    "    Get_3Dcells(Nx=Nx, Ny=Ny, Dx=Dx, Dy=Dy, z=zgrid, SAT_ALTITUDE=120, periodic=False, HORIZ_EXTENT_LENGTH=1e5)\n",
    "Ncell   = NX*NY*NZ"
   ]
  },
  {
   "cell_type": "code",
   "execution_count": null,
   "metadata": {
    "ExecuteTime": {
     "end_time": "2019-12-28T17:02:06.738692Z",
     "start_time": "2019-12-28T17:02:06.623155Z"
    },
    "hidden": true
   },
   "outputs": [],
   "source": [
    "(idx,idy,idz), (NX,NY,NZ), neigh, pmin, pmax"
   ]
  },
  {
   "cell_type": "code",
   "execution_count": null,
   "metadata": {
    "ExecuteTime": {
     "end_time": "2019-12-28T17:03:21.186750Z",
     "start_time": "2019-12-28T17:03:20.499743Z"
    },
    "hidden": true
   },
   "outputs": [],
   "source": [
    "# cumulus geometrical and optical data\n",
    "cumulus = np.loadtxt(cumulus_f, skiprows=3, dtype=np.float32)\n",
    "ptc_sca = cumulus[:,3]            # km-1\n",
    "# we add a zero optical property for void\n",
    "ptc_sca = np.concatenate([np.array([0.]), ptc_sca])\n",
    "ptc_ssa = np.ones_like( ptc_sca)\n",
    "ray_sca = np.zeros_like(ptc_sca)  # No Rayleigh\n",
    "gas_abs = np.zeros_like(ptc_sca)  # No absorption\n",
    "ipha    = np.zeros_like(ptc_sca, dtype=int32)\n",
    "\n",
    "# indexing of C3 cells into SMART-G grid\n",
    "cum_geo = cumulus[:,:3].astype(int32)-1\n",
    "cum_cell= np.ravel_multi_index((cum_geo[:,0], cum_geo[:,1], cum_geo[:,2]),\n",
    "                    dims=(NX, NY, NZ))\n",
    "# cells optical properties\n",
    "iopt    = np.zeros(Ncell, dtype=int32)\n",
    "iabs    = np.zeros(Ncell, dtype=int32)\n",
    "iopt[cum_cell] = np.arange(len(cum_cell)) + 1 # number zero is reserved for void\n",
    "Nopt    = iopt.max()+1\n",
    "atm_arr = np.zeros((Nopt,9))\n",
    "atm_arr[:,0] = np.arange(Nopt)[::-1]\n",
    "np.savetxt('./tmp.dat', atm_arr)"
   ]
  },
  {
   "cell_type": "code",
   "execution_count": null,
   "metadata": {
    "ExecuteTime": {
     "end_time": "2019-12-28T17:03:22.594699Z",
     "start_time": "2019-12-28T17:03:21.804914Z"
    },
    "hidden": true
   },
   "outputs": [],
   "source": [
    "atm3D_cld = AtmAFGL('./tmp.dat', US=False,\n",
    "                    grid        = np.arange(Nopt),\n",
    "                    prof_ray    = ray_sca[None,:],\n",
    "                    #prof_abs    = gas_abs[None,:],\n",
    "                    prof_aer    = (ptc_sca[None,:], ptc_ssa[None,:]),\n",
    "                    prof_phases = (ipha[None,:], [pha_cld]),\n",
    "                    cells       = (iopt, pmin, pmax, neigh)\n",
    "                   )\n",
    "\n",
    "pro3D_cld = atm3D_cld.calc(wl).describe()"
   ]
  },
  {
   "cell_type": "code",
   "execution_count": null,
   "metadata": {
    "ExecuteTime": {
     "end_time": "2019-12-28T17:04:11.871367Z",
     "start_time": "2019-12-28T17:04:11.771921Z"
    },
    "hidden": true
   },
   "outputs": [],
   "source": [
    "ray_sca.shape, ptc_sca[iopt[cum_cell]]"
   ]
  },
  {
   "cell_type": "code",
   "execution_count": null,
   "metadata": {
    "ExecuteTime": {
     "end_time": "2019-12-27T16:32:44.021438Z",
     "start_time": "2019-12-27T16:32:43.848943Z"
    },
    "hidden": true,
    "run_control": {
     "marked": false
    }
   },
   "outputs": [],
   "source": [
    "# Sun position\n",
    "SAA    = 180.\n",
    "SZA    = 40.\n",
    "# Sensors position\n",
    "Npix   = 100\n",
    "POSZ   = 30\n",
    "THDEG  = 180.\n",
    "PHDEG  = 0.\n",
    "# pixels centers on the ground\n",
    "x0     = np.linspace(-6.67/2., 6.67/2, num=Npix) # central domain (cumulus) boundaries\n",
    "y0     = np.linspace(-6.67/2., 6.67/2, num=Npix)\n",
    "#\n",
    "xx,yy  = np.meshgrid(x0, y0)\n",
    "zz     = np.zeros_like(xx) + POSZ"
   ]
  },
  {
   "cell_type": "code",
   "execution_count": null,
   "metadata": {
    "ExecuteTime": {
     "end_time": "2019-12-27T16:33:08.893120Z",
     "start_time": "2019-12-27T16:32:57.558476Z"
    },
    "hidden": true,
    "run_control": {
     "marked": false
    }
   },
   "outputs": [],
   "source": [
    "%%time\n",
    "# cells indices\n",
    "icells = locate_3Dregular_cells(xgrid, ygrid,zgrid, xx.ravel(), yy.ravel(), zz.ravel())\n",
    "#icells_old = locate_3D_cells(pro3D_cld, xx.ravel(), yy.ravel(), zz.ravel())\n",
    "sensors=[]\n",
    "for POSX,POSY,ICELL in zip(xx.ravel(), yy.ravel(), icells):\n",
    "    sensors.append(Sensor(POSX=POSX, POSY=POSY, POSZ=POSZ, FOV=0., TYPE=0,\n",
    "                          THDEG=THDEG, PHDEG=PHDEG, LOC='ATMOS', ICELL=ICELL))\n",
    "\n",
    "S3D    = Smartg(opt3D=True,  alt_pp=True, alis=False, back=True) # 3D\n",
    "le     = {'th_deg':np.array([SZA]), 'phi_deg':np.array([SAA])}\n",
    "#ALB    = Albedo_speclib('/rfs/data/speclib2.0/data/jhu.becknic.vegetation.grass.green.solid.gras.spectrum.txt')\n",
    "#env    = Environment(ENV=1, ALB=ALB, ENV_SIZE=2, X0=-1.5)\n",
    "env    = None"
   ]
  },
  {
   "cell_type": "code",
   "execution_count": null,
   "metadata": {
    "ExecuteTime": {
     "end_time": "2019-12-27T16:54:04.771596Z",
     "start_time": "2019-12-27T16:33:14.285255Z"
    },
    "hidden": true
   },
   "outputs": [],
   "source": [
    "%%time\n",
    "NB     = len(sensors) * 1e4\n",
    "#surf   = RoughSurface(WIND=5)\n",
    "surf   = LambSurface(ALB=0.2)\n",
    "m3D    = S3D.run(wl=wl,  NBPHOTONS=NB, atm=pro3D_cld, sensor=sensors, le=le, surf=surf, NBLOOP=1e6, env=env,\n",
    "               stdev=False, NF=1e4)"
   ]
  },
  {
   "cell_type": "code",
   "execution_count": null,
   "metadata": {
    "ExecuteTime": {
     "end_time": "2019-12-27T17:01:17.921084Z",
     "start_time": "2019-12-27T17:01:15.578791Z"
    },
    "hidden": true,
    "run_control": {
     "marked": false
    }
   },
   "outputs": [],
   "source": [
    "f=figure(figsize=(8,8))\n",
    "print(NB)\n",
    "imshow(m3D['I_up (TOA)'].sub()[:,0,0].data.reshape(Npix,Npix)[::-1,:],vmax=1, cmap=cm.Blues_r)\n",
    "cbar = colorbar(shrink=0.8, orientation='vertical')\n",
    "cbar.ax.set_xlabel(mdesc('I_up (TOA)'))\n",
    "f.tight_layout()\n",
    "f.savefig('/home/did/RTC/SMART-G/smartg/validation/IPRT/C3_case5_image.png', dpi=200)\n",
    "figure(figsize=(6,6))\n",
    "I=m3D['I_up (TOA)'].sub()[:,0,0].data.reshape(Npix,Npix)[::-1,:]\n",
    "Q=m3D['Q_up (TOA)'].sub()[:,0,0].data.reshape(Npix,Npix)[::-1,:]\n",
    "U=m3D['U_up (TOA)'].sub()[:,0,0].data.reshape(Npix,Npix)[::-1,:]\n",
    "V=m3D['V_up (TOA)'].sub()[:,0,0].data.reshape(Npix,Npix)[::-1,:]\n",
    "imshow(np.sqrt(Q*Q+U*U+V*V)/I*100, vmax=5,cmap=cm.RdBu_r)\n",
    "colorbar()"
   ]
  },
  {
   "cell_type": "markdown",
   "metadata": {},
   "source": [
    "## ALIS"
   ]
  },
  {
   "cell_type": "markdown",
   "metadata": {},
   "source": [
    "### Spectral range"
   ]
  },
  {
   "cell_type": "code",
   "execution_count": null,
   "metadata": {
    "ExecuteTime": {
     "end_time": "2020-01-09T17:10:58.014987Z",
     "start_time": "2020-01-09T17:10:17.998528Z"
    },
    "run_control": {
     "marked": false
    }
   },
   "outputs": [],
   "source": [
    "#Solar Spectrum raw data\n",
    "datas = np.loadtxt('/home/applis/libRadtran/libRadtran-2.0.2/data/solar_flux/kurudz_full.dat')\n",
    "#datas = np.loadtxt('/home/applis/libRadtran/libRadtran-2.0.2/data/solar_flux/kurudz_0.1nm.dat')"
   ]
  },
  {
   "cell_type": "code",
   "execution_count": null,
   "metadata": {
    "ExecuteTime": {
     "end_time": "2020-01-10T07:43:04.706808Z",
     "start_time": "2020-01-10T07:43:03.682883Z"
    }
   },
   "outputs": [],
   "source": [
    "#wl, wls, wl_RRS, Es_LUT, iwls_in, wwls_in = spectral_grids(685., 698., datas, dl=0.001, dls=10.)\n",
    "#wl, wls, wl_RRS, Es_LUT, iwls_in, wwls_in = spectral_grids(405., 490., datas, dl=0.01, dls=10.)\n",
    "wl, wls, wl_RRS, Es_LUT, iwls_in, wwls_in = spectral_grids(1990., 2100., datas, dl=0.01, dls=10.)\n",
    "# Solar spectrum\n",
    "Es = Es_LUT[Idx(wl)]\n",
    "Es_RRS = Es_LUT[Idx(wl_RRS, fill_value='extrema')]\n",
    "# Ring nromalized spectrum (Wagner et al., 2009, AMT)\n",
    "_, LRRS = L2d_inv(wl, 90., 243.)\n",
    "f_RRS_norm  = np.sum(Es_RRS * LRRS , axis=1) / Es - 1."
   ]
  },
  {
   "cell_type": "markdown",
   "metadata": {},
   "source": [
    "### Simple atmosphere"
   ]
  },
  {
   "cell_type": "code",
   "execution_count": null,
   "metadata": {
    "ExecuteTime": {
     "end_time": "2020-01-09T16:41:52.615100Z",
     "start_time": "2020-01-09T16:41:52.525847Z"
    }
   },
   "outputs": [],
   "source": [
    "# vertical grid in descending order as usual for SmartG 1D\n",
    "znew = np.linspace(50., 0. , num=26)\n",
    "#znew = np.array([100., 99., 20., 5., 3., 2., 0.])\n",
    "Nx=1\n",
    "Ny=1\n",
    "Dx=1\n",
    "Dy=1\n",
    "# vertical grid in ascending order for 3D grid\n",
    "zgrid = znew[::-1]\n",
    "\n",
    "# grid building\n",
    "(idx,idy,idz), (NX,NY,NZ), (xgrid, ygrid, zgrid), neigh, pmin, pmax = \\\n",
    "    Get_3Dcells(Nx=Nx,Dx=Dx,Ny=Ny,Dy=Dy, z=zgrid, SAT_ALTITUDE=120, \n",
    "                periodic=False, HORIZ_EXTENT_LENGTH=1e5)\n",
    "Ncell   = NX*NY*NZ\n",
    "\n",
    "idx_cloud  = [1]\n",
    "idy_cloud  = [1]\n",
    "idz_cloud  = [1]\n",
    "cloud_cell = np.ravel_multi_index((idx_cloud, idy_cloud, idz_cloud), \n",
    "                                  dims=(NX,NY,NZ), order='C')"
   ]
  },
  {
   "cell_type": "code",
   "execution_count": null,
   "metadata": {
    "ExecuteTime": {
     "end_time": "2020-01-09T16:42:01.712758Z",
     "start_time": "2020-01-09T16:41:53.483097Z"
    }
   },
   "outputs": [],
   "source": [
    "# vertical grid in descending order as usual for SmartG 1D\n",
    "znew = np.linspace(50., 0. , num=26)\n",
    "#znew = np.array([100., 99., 20., 5., 3., 2., 0.])\n",
    "Nx=1\n",
    "Ny=1\n",
    "Dx=1e5\n",
    "Dy=1e5\n",
    "# vertical grid in ascending order for 3D grid\n",
    "zgrid = znew[::-1]\n",
    "\n",
    "# grid building\n",
    "(idx,idy,idz), (NX,NY,NZ), (xgrid, ygrid, zgrid), neigh, pmin, pmax = \\\n",
    "    Get_3Dcells(Nx=Nx,Dx=Dx,Ny=Ny,Dy=Dy, z=zgrid, SAT_ALTITUDE=120, \n",
    "                periodic=False, HORIZ_EXTENT_LENGTH=0)\n",
    "Ncell   = NX*NY*NZ\n",
    "\n",
    "# cells optical properties\n",
    "iopt           = np.zeros(Ncell, dtype= int32)\n",
    "#Rayleigh\n",
    "sca_ray        = od2k(AtmAFGL('afglt', O3=0., NO2=True, grid=znew).calc(wls), 'OD_r')\n",
    "## Mapping optical propoerties and cells\n",
    "# 1 clear profile + number of cloud cells opt. prop. (here 1 per cell)\n",
    "Nopt       = NZ + 1\n",
    "iopt       = np.zeros(Ncell, dtype=int32)\n",
    "iabs       = np.zeros_like(iopt)\n",
    "iopt[:]    = np.arange(Nopt)[NZ-idz] # Scattering depending on Z for clear atmosphere (Rayleigh)\n",
    "iabs[:]    = np.arange(Nopt)[NZ-idz] # Absorption depending on Z only\n",
    "\n",
    "atm3D_clr = AtmAFGL('afglt', O3=0., NO2=False,\n",
    "                    grid        = np.arange(Nopt),\n",
    "                    prof_ray    = sca_ray,\n",
    "                    cells       = (iopt, iabs, pmin, pmax, neigh)\n",
    "                   )\n",
    "\n",
    "pro3D_clr = atm3D_clr.calc(wls)\n",
    "# absorption (only gas)\n",
    "ao2_int = get_o2_abs(znew, wl)"
   ]
  },
  {
   "cell_type": "code",
   "execution_count": null,
   "metadata": {
    "ExecuteTime": {
     "end_time": "2020-01-09T16:42:06.912286Z",
     "start_time": "2020-01-09T16:42:06.856717Z"
    }
   },
   "outputs": [],
   "source": [
    "SAA    = 180.\n",
    "SZA    = 40.\n",
    "# Sensors position\n",
    "Npix   = 70\n",
    "POSZ   = 49.0001\n",
    "#POSZ   = 0.\n",
    "POSX   = 0.\n",
    "POSY   = 0.\n",
    "#THDEG  = 20.\n",
    "THDEG  = 180.\n",
    "PHDEG  = 140.\n",
    "# cells indices\n",
    "x      = np.array([POSX])\n",
    "y      = np.array([POSY])\n",
    "z      = np.array([POSZ])\n",
    "icells = locate_3Dregular_cells(xgrid, ygrid, zgrid, x , y, z)\n",
    "sensors = Sensor(POSX=POSX, POSY=POSY, POSZ=POSZ, FOV=0., TYPE=0,\n",
    "                          THDEG=THDEG, PHDEG=PHDEG, LOC='ATMOS', ICELL=icells)"
   ]
  },
  {
   "cell_type": "code",
   "execution_count": null,
   "metadata": {
    "ExecuteTime": {
     "end_time": "2020-01-01T17:56:52.129204Z",
     "start_time": "2020-01-01T17:56:48.091277Z"
    }
   },
   "outputs": [],
   "source": [
    "%%time\n",
    "# Spectra\n",
    "zoom          = (685.75, 688.00)\n",
    "sigma         = ao2_int[:,1:]\n",
    "sigma[:]=0\n",
    "NWS           = wls.size\n",
    "#sigma         = gas_abs[:,1:]\n",
    "S3Da          = Smartg(opt3D=True,  alt_pp=True, alis=True) # 3D\n",
    "le            = {'th_deg':np.array([SZA]), 'phi_deg':np.array([SAA])}\n",
    "ALB           = Albedo_speclib('/rfs/data/speclib2.0/data/jhu.becknic.vegetation.trees.deciduous.solid.decidou.spectrum.txt')\n",
    "fig,ax        = subplots(nrows=5, ncols=1) \n",
    "fig.set_size_inches(24,15)\n",
    "surf          = LambSurface(ALB=1.)\n",
    "surfref       = LambSurface(ALB=ALB.get(wls[0]))\n",
    "NL            = Nopt-1 # number of opt properties\n",
    "NB            = 1e4\n",
    "for i,sensor in enumerate([sensor]):\n",
    "    m       = S3Da.run(wl=wls,  NBPHOTONS=NB, atm=pro3D_clr, sensor=sensor, le=le, surf=surf, NBLOOP=1e4,\n",
    "               stdev=False, NF=1e4, alis_options={'nlow':NWS, 'hist':True}).sub({'Azimuth angles':0, 'Zenith angles':0})\n",
    "    #mref    = S3D.run(wl=wls[0],  NBPHOTONS=NB*100, atm=pro3D0, sensor=sensor, le=le, surf=surfref, NBLOOP=1e5,\n",
    "    #           stdev=False, NF=1e4).sub({'Azimuth angles':0, 'Zenith angles':0})\n",
    "\n",
    "    w     = m['disth_up (TOA)'][:, NL+4:-3]\n",
    "    ngood = np.sum(w[:,0]!=0)\n",
    "\n",
    "    S       = np.zeros((ngood,4),dtype=np.float32) \n",
    "    cd      = m['disth_up (TOA)'][:ngood,     :NL  ]\n",
    "    S[:,:4] = m['disth_up (TOA)'][:ngood, NL  :NL+4]\n",
    "    w       = m['disth_up (TOA)'][:ngood, NL+4:-3  ]\n",
    "    nrrs    = m['disth_up (TOA)'][:ngood,      -3  ]\n",
    "    nref    = m['disth_up (TOA)'][:ngood,      -2  ]\n",
    "    nsif    = m['disth_up (TOA)'][:ngood,      -1  ]\n",
    "\n",
    "    XBLOCK  = 512\n",
    "    XGRID   = 512\n",
    "    NT      = XBLOCK*XGRID       # Maximum Number of threads\n",
    "    NPHOTON = cd.shape[0]        # Number of photons\n",
    "\n",
    "    NLAYER  = sigma.shape[1]     # Number of vertical layer\n",
    "    NWVL    = sigma.shape[0]     # Number of wavelength for absorption and output\n",
    "    NGROUP  = NT//NWVL           # Number of groups of photons\n",
    "    NTHREAD = NGROUP*NWVL        # Number of threads used\n",
    "    NBUNCH  = NPHOTON//NGROUP    # Number of photons per group\n",
    "    NP_REST = NPHOTON%(NGROUP*NBUNCH) # Number of additional photons in the last group\n",
    "    NWVL_LOW = NWS\n",
    "\n",
    "    print(NT, NTHREAD, NGROUP, NPHOTON, NLAYER, NWVL, NBUNCH, NP_REST, NWVL_LOW)\n",
    "    sigma_ab_in  = np.zeros((NLAYER, NWVL), order='C', dtype=np.float32)\n",
    "    sigma_ab_in[:,:]  = sigma.swapaxes(0,1)\n",
    "\n",
    "    alb_in       = ALB.get(wl).reshape(NWVL, order='C').astype(np.float32) \n",
    "\n",
    "    cd_in        = cd.reshape((NPHOTON, NLAYER), order='C').astype(np.float32)\n",
    "    #cd_in        = cd[:,:NLAYER].reshape((NPHOTON, NLAYER), order='C').astype(np.float32)\n",
    "    S_in         = S.reshape((NPHOTON, 4),       order='C').astype(np.float32)\n",
    "    weight_in    = w.reshape((NPHOTON, NWVL_LOW),order='C').astype(np.float32)\n",
    "    nrrs_in      = nrrs.reshape(NPHOTON,order='C').astype(np.int8)\n",
    "    nsif_in      = nsif.reshape(NPHOTON,order='C').astype(np.int8)\n",
    "    nref_in      = nref.reshape(NPHOTON,order='C').astype(np.int8)\n",
    "\n",
    "    res_out      = gpuzeros((4, NWVL),   dtype=np.float64)\n",
    "    res_sca      = gpuzeros((4, NWVL),   dtype=np.float64)\n",
    "    res_rrs      = gpuzeros((4, NWVL),   dtype=np.float64)\n",
    "    res_sif      = gpuzeros((4, NWVL),   dtype=np.float64)\n",
    "    reduce_absorption_gpu(np.int64(NPHOTON), np.int64(NLAYER), np.int64(NWVL), np.int64(NTHREAD), np.int64(NGROUP), np.int64(NBUNCH), \n",
    "                          np.int64(NP_REST), np.int64(NWVL_LOW), res_out, res_sca, res_rrs, res_sif, \n",
    "                          to_gpu(sigma_ab_in), to_gpu(alb_in), to_gpu(cd_in), to_gpu(S_in), to_gpu(weight_in), to_gpu(nrrs_in), \n",
    "                          to_gpu(nref_in), to_gpu(nsif_in), to_gpu(iwls_in), to_gpu(wwls_in), \n",
    "                          block=(XBLOCK,1,1),grid=(XGRID,1,1))\n",
    "    I1      = res_out.get()/m[0][0,0]\n",
    "    #norm1   = I1[0,0]/mref['I_up (TOA)'].data\n",
    "    P_Raman = res_rrs.get()[0,:]/res_out.get()[0,:]\n",
    "    #print(norm1)\n",
    "    norm1 = 1\n",
    "    I1_LUT = LUT(I1[0,:]/norm1, axes=[wl], names=['wavelength'], desc=mdesc('I_up (TOA)'))\n",
    "    Q1_LUT = LUT(I1[1,:]/norm1, axes=[wl], names=['wavelength'], desc=mdesc('Q_up (TOA)'))\n",
    "    U1_LUT = LUT(I1[1,:]/norm1, axes=[wl], names=['wavelength'], desc=mdesc('U_up (TOA)'))\n",
    "    DoLP_LUT = ((Q1_LUT*Q1_LUT + U1_LUT*U1_LUT).apply(np.sqrt)/I1_LUT)*100\n",
    "    DoLP_LUT.desc='DoLP (%)'\n",
    "    P_Raman_LUT = LUT(P_Raman, axes=[wl], names=['wavelength'], desc=r'$P_{Raman}$')\n",
    "    Rel     = Es * I1_LUT[Idx(wl,fill_value='extrema')]\n",
    "    Rel_llp = Es_RRS * I1_LUT[Idx(wl_RRS,fill_value='extrema')]\n",
    "    R_RRS   = np.sum(Rel_llp * LRRS, axis=1) * P_Raman_LUT[Idx(wl, fill_value='extrema')]\n",
    "    Rel_out = Rel * P_Raman_LUT[Idx(wl, fill_value='extrema')]\n",
    "    R_tot   = R_RRS + Rel - Rel_out\n",
    "    \n",
    "    sca(ax[0,0])\n",
    "    I1_LUT.plot(label='%d'%i)\n",
    "    ylim(0,0.4)\n",
    "    sca(ax[0,1])\n",
    "    I1_LUT.plot(label='%d'%i)\n",
    "    xlim(zoom)\n",
    "    ylim(0,0.4)\n",
    "    \n",
    "    sca(ax[1,0])\n",
    "    ff = R_tot\n",
    "    plot(wl, ff ,'-')\n",
    "    xlabel('wavelength (nm)')\n",
    "    ylabel(mdesc('I_up (TOA, tot)')+ r'$ (ph/s/cm^2/nm)$')\n",
    "    grid(True)\n",
    "    sca(ax[1,1])\n",
    "    ff = R_tot\n",
    "    plot(wl, ff ,'-')\n",
    "    xlim(zoom)\n",
    "    xlabel('wavelength (nm)')\n",
    "    grid(True)\n",
    "    \n",
    "    sca(ax[2,0])\n",
    "    ff = R_RRS\n",
    "    plot(wl, ff ,'-')\n",
    "    xlabel('wavelength (nm)')\n",
    "    ylabel(mdesc('I_up (TOA, RRS in)')+ r'$ (ph/s/cm^2/nm)$')\n",
    "    grid(True)\n",
    "    sca(ax[2,1])\n",
    "    ff = R_RRS\n",
    "    plot(wl, ff ,'-')\n",
    "    xlabel('wavelength (nm)')\n",
    "    xlim(zoom)\n",
    "    grid(True)\n",
    "\n",
    "    sca(ax[3,0])\n",
    "    ff = R_tot/Rel\n",
    "    plot(wl, ff)\n",
    "    xlabel('wavelength (nm)')\n",
    "    ylabel('$Ring spectrum (Tot/Elastic)$')\n",
    "    ylim(0.95,1.05)\n",
    "    grid(True)\n",
    "    sca(ax[3,1])\n",
    "    ff = R_tot/Rel\n",
    "    plot(wl, ff)\n",
    "    xlabel('wavelength (nm)')\n",
    "    ylim(0.95,1.05)\n",
    "    grid(True)\n",
    "    xlim(zoom)\n",
    "    \n",
    "    sca(ax[4,0])\n",
    "    DoLP_LUT.plot(label='%d'%i)\n",
    "    ylim(0,40)\n",
    "    sca(ax[4,1])\n",
    "    DoLP_LUT.plot(label='%d'%i)\n",
    "    xlim(zoom)\n",
    "    ylim(0,40)\n",
    "legend()"
   ]
  },
  {
   "cell_type": "code",
   "execution_count": null,
   "metadata": {
    "ExecuteTime": {
     "end_time": "2020-01-01T17:56:53.170773Z",
     "start_time": "2020-01-01T17:56:53.095339Z"
    }
   },
   "outputs": [],
   "source": [
    "ao2_int[-1,0:]\n",
    "NL,NLAYER,Nopt,w.shape,NWS,NWVL_LOW\n",
    "m['disth_up (TOA)'][0,NL+4:-3]"
   ]
  },
  {
   "cell_type": "markdown",
   "metadata": {},
   "source": [
    "### C2 cloud"
   ]
  },
  {
   "cell_type": "markdown",
   "metadata": {},
   "source": [
    "#### 3D Grid"
   ]
  },
  {
   "cell_type": "code",
   "execution_count": null,
   "metadata": {
    "ExecuteTime": {
     "end_time": "2020-01-08T09:47:23.555084Z",
     "start_time": "2020-01-08T09:47:23.487893Z"
    }
   },
   "outputs": [],
   "source": [
    "# vertical grid in descending order as usual for SmartG 1D\n",
    "znew = np.linspace(50., 0. , num=26)\n",
    "#znew = np.array([100., 99., 20., 5., 3., 2., 0.])\n",
    "Nx=1\n",
    "Ny=1\n",
    "Dx=1\n",
    "Dy=1\n",
    "# vertical grid in ascending order for 3D grid\n",
    "zgrid = znew[::-1]\n",
    "\n",
    "# grid building\n",
    "(idx,idy,idz), (NX,NY,NZ), (xgrid, ygrid, zgrid), neigh, pmin, pmax = \\\n",
    "    Get_3Dcells(Nx=Nx,Dx=Dx,Ny=Ny,Dy=Dy, z=zgrid, SAT_ALTITUDE=120, \n",
    "                periodic=False, HORIZ_EXTENT_LENGTH=1e5)\n",
    "Ncell   = NX*NY*NZ\n",
    "\n",
    "# cloud cells\n",
    "idx_cloud  = [1,1,1,1]\n",
    "idy_cloud  = [1,1,1,1]\n",
    "idz_cloud  = [0,1,2,3]\n",
    "'''idx_cloud  = [1]\n",
    "idy_cloud  = [1]\n",
    "idz_cloud  = [1]'''\n",
    "cloud_cell = np.ravel_multi_index((idx_cloud, idy_cloud, idz_cloud), \n",
    "                                  dims=(NX,NY,NZ), order='C')"
   ]
  },
  {
   "cell_type": "markdown",
   "metadata": {},
   "source": [
    "#### 1D opt.  prop."
   ]
  },
  {
   "cell_type": "code",
   "execution_count": null,
   "metadata": {
    "ExecuteTime": {
     "end_time": "2020-01-08T09:47:33.096473Z",
     "start_time": "2020-01-08T09:47:24.789512Z"
    }
   },
   "outputs": [],
   "source": [
    "# absorption (only gas)\n",
    "ao2_int = get_o2_abs(znew, wl)"
   ]
  },
  {
   "cell_type": "code",
   "execution_count": null,
   "metadata": {
    "ExecuteTime": {
     "end_time": "2020-01-08T10:43:39.451335Z",
     "start_time": "2020-01-08T10:43:28.007681Z"
    }
   },
   "outputs": [],
   "source": [
    "cloud_LUT=read_mlut('/home/did/RTC/SMART-G/smartg/data/opt_liquid_cloud.nc')"
   ]
  },
  {
   "cell_type": "code",
   "execution_count": null,
   "metadata": {
    "ExecuteTime": {
     "end_time": "2020-01-08T10:43:43.525871Z",
     "start_time": "2020-01-08T10:43:42.712280Z"
    }
   },
   "outputs": [],
   "source": [
    "## scattering optical properties\n",
    "wl_ref  = (wls[0]+wls[-1])/2.\n",
    "# cloud\n",
    "reff = 5.  # mic.\n",
    "kext = 5.  # km-1\n",
    "#kext = 0.  # km-1\n",
    "cloud_sub   = cloud_LUT.sub({'effective_radius':Idx(reff),'effective_variance':0, 'wavelength':Idx(wl_ref*1e-3)})\n",
    "pha = np.stack([(cloud_sub['p11_phase_function']+cloud_sub['p21_phase_function'])[::-1],\n",
    "                (cloud_sub['p11_phase_function']-cloud_sub['p21_phase_function'])[::-1],\n",
    "                 cloud_sub['p34_phase_function'][::-1],\n",
    "                 cloud_sub['p44_phase_function'][::-1]])\n",
    "pha_cld     = LUT(pha, axes=[None, cloud_sub.axis('phase_angles')[::-1]], names=['stk', 'theta_atm'])\n",
    "\n",
    "cloud_sub   = cloud_LUT.sub({'effective_radius':Idx(reff),'effective_variance':0})\n",
    "sca_cld     = cloud_sub['normed_ext_coeff' ][Idx(wls, fill_value='extrema')]/\\\n",
    "              cloud_sub['normed_ext_coeff' ][Idx(wl_ref, fill_value='extrema')]*kext\n",
    "#Rayleigh\n",
    "sca_ray     = od2k(AtmAFGL('afglt', O3=0., NO2=True, grid=znew).calc(wls), 'OD_r')\n",
    "\n",
    "# Concatenation\n",
    "sca_cld3D = np.concatenate([np.zeros_like(sca_ray), np.stack([sca_cld]*cloud_cell.size, axis=1)], axis=1)\n",
    "sca_ray3D = np.concatenate([sca_ray, sca_ray[:,NZ-idz[cloud_cell]]], axis=1)\n",
    "ssa_cld3D = np.ones_like(sca_cld3D)\n",
    "ipha3D    = np.zeros_like(sca_cld3D, dtype=int32)\n",
    "#ipha3D[:, iopt[cloud_cell]] = 1"
   ]
  },
  {
   "cell_type": "code",
   "execution_count": null,
   "metadata": {
    "ExecuteTime": {
     "end_time": "2020-01-08T09:47:47.615783Z",
     "start_time": "2020-01-08T09:47:47.523264Z"
    }
   },
   "outputs": [],
   "source": [
    "## Mapping optical propoerties and cells\n",
    "# 1 clear profile + number of cloud cells opt. prop. (here 1 per cell)\n",
    "Nopt       = NZ + 1 + cloud_cell.size\n",
    "iopt       = np.zeros(Ncell, dtype=int32)\n",
    "iabs       = np.zeros_like(iopt)\n",
    "iopt[:]    = np.arange(Nopt)[NZ-idz] # Scattering depending on Z for clear atmosphere (Rayleigh)\n",
    "iabs[:]    = np.arange(Nopt)[NZ-idz] # Absorption depending on Z only\n",
    "iopt[cloud_cell] = NZ + 1 + np.arange(cloud_cell.size)  # Scattering depending on cloud cell"
   ]
  },
  {
   "cell_type": "code",
   "execution_count": null,
   "metadata": {
    "ExecuteTime": {
     "end_time": "2020-01-08T09:47:49.232724Z",
     "start_time": "2020-01-08T09:47:48.789849Z"
    }
   },
   "outputs": [],
   "source": [
    "atm3D = AtmAFGL('afglt',\n",
    "                    grid        = np.arange(Nopt),\n",
    "                    prof_ray    = sca_ray3D,\n",
    "                    prof_aer    = (sca_cld3D, ssa_cld3D),\n",
    "                    prof_phases = (ipha3D, [pha_cld]),\n",
    "                    cells       = (iopt, iabs, pmin, pmax, neigh)\n",
    "                   )\n",
    "pro3D  = atm3D.calc(wls)\n",
    "\n",
    "# Sun position\n",
    "SAA    = 180.\n",
    "SZA    = 40.\n",
    "# Sensors position\n",
    "Npix   = 70\n",
    "POSZ   = 49.0001\n",
    "#POSZ   = 0.\n",
    "POSX   = 3.4999\n",
    "POSY   = 3.4999\n",
    "#THDEG  = 20.\n",
    "THDEG  = 180.\n",
    "PHDEG  = 140.\n",
    "# pixels centers on the ground\n",
    "x0    = np.linspace(-POSX, POSX, num=Npix) # central domain (cumulus) boundaries\n",
    "y0    = np.linspace(-POSY, POSY, num=Npix)\n",
    "z0    = np.linspace( POSZ,   5 , num=Npix)\n",
    "#\n",
    "xx,yy = np.meshgrid(x0, y0)\n",
    "zz    = np.zeros_like(xx) + POSZ\n",
    "# cells indices\n",
    "icells = locate_3Dregular_cells(xgrid, ygrid, zgrid, xx.ravel(), yy.ravel(), zz.ravel())\n",
    "\n",
    "sensors=[]\n",
    "for POSX,POSY,POSZ,ICELL in zip(xx.ravel(), yy.ravel(), zz.ravel(), icells):\n",
    "    sensors.append(Sensor(POSX=POSX, POSY=POSY, POSZ=POSZ, FOV=0., TYPE=0,\n",
    "                          THDEG=THDEG, PHDEG=PHDEG, LOC='ATMOS', ICELL=ICELL))\n",
    "    \n",
    "sensor_cld1 = Sensor(POSZ=POSZ, FOV=0., TYPE=0,\n",
    "                          THDEG=THDEG, PHDEG=PHDEG, LOC='ATMOS', \n",
    "                    ICELL=locate_3Dregular_cells(xgrid, ygrid, zgrid, 0., 0., POSZ))\n",
    "sensor_cld2 = Sensor(POSX=-0.4, POSY=-0.4, POSZ=POSZ, FOV=0., TYPE=0,\n",
    "                          THDEG=THDEG, PHDEG=PHDEG, LOC='ATMOS', \n",
    "                    ICELL=locate_3Dregular_cells(xgrid, ygrid, zgrid, -0.4, -0.4, POSZ))\n",
    "\n",
    "sensor_grd = Sensor(POSX = -POSX, POSZ=POSZ, FOV=0., TYPE=0,\n",
    "                          THDEG=THDEG, PHDEG=PHDEG, LOC='ATMOS', \n",
    "                    ICELL=locate_3Dregular_cells(xgrid, ygrid, zgrid, -POSX, 0., POSZ))"
   ]
  },
  {
   "cell_type": "code",
   "execution_count": null,
   "metadata": {
    "ExecuteTime": {
     "end_time": "2020-01-08T09:48:06.982184Z",
     "start_time": "2020-01-08T09:47:54.950094Z"
    }
   },
   "outputs": [],
   "source": [
    "%%time\n",
    "# Spectra\n",
    "zoom          = (685.75, 688.00)\n",
    "sigma         = ao2_int[:,:]\n",
    "NWS           = wls.size\n",
    "#sigma         = gas_abs[:,1:]\n",
    "S3Da          = Smartg(opt3D=True,  alt_pp=True, alis=True) # 3D\n",
    "le            = {'th_deg':np.array([SZA]), 'phi_deg':np.array([SAA])}\n",
    "ALB           = Albedo_speclib('/rfs/data/speclib2.0/data/jhu.becknic.vegetation.trees.deciduous.solid.decidou.spectrum.txt')\n",
    "fig,ax        = subplots(nrows=5, ncols=2) \n",
    "fig.set_size_inches(24,15)\n",
    "surf          = LambSurface(ALB=1.)\n",
    "surfref       = LambSurface(ALB=ALB.get(wls[0]))\n",
    "NL            = Nopt-1 # number of opt properties\n",
    "NB            = 1e5\n",
    "for i,sensor in enumerate([sensor_cld1, sensor_grd]):\n",
    "    m       = S3Da.run(wl=wls,  NBPHOTONS=NB, atm=pro3D, sensor=sensor, le=le, surf=surf, NBLOOP=1e4,\n",
    "               stdev=False, NF=1e4, alis_options={'nlow':NWS, 'hist':True}).sub({'Azimuth angles':0, 'Zenith angles':0})\n",
    "    #mref    = S3D.run(wl=wls[0],  NBPHOTONS=NB*100, atm=pro3D0, sensor=sensor, le=le, surf=surfref, NBLOOP=1e5,\n",
    "    #           stdev=False, NF=1e4).sub({'Azimuth angles':0, 'Zenith angles':0})\n",
    "\n",
    "    w     = m['disth_up (TOA)'][:, NL+4:-3]\n",
    "    ngood = np.sum(w[:,0]!=0)\n",
    "\n",
    "    S       = np.zeros((ngood,4),dtype=np.float32) \n",
    "    cd      = m['disth_up (TOA)'][:ngood,     :NL  ]\n",
    "    S[:,:4] = m['disth_up (TOA)'][:ngood, NL  :NL+4]\n",
    "    w       = m['disth_up (TOA)'][:ngood, NL+4:-3  ]\n",
    "    nrrs    = m['disth_up (TOA)'][:ngood,      -3  ]\n",
    "    nref    = m['disth_up (TOA)'][:ngood,      -2  ]\n",
    "    nsif    = m['disth_up (TOA)'][:ngood,      -1  ]\n",
    "\n",
    "    XBLOCK  = 512\n",
    "    XGRID   = 512\n",
    "    NT      = XBLOCK*XGRID       # Maximum Number of threads\n",
    "    NPHOTON = cd.shape[0]        # Number of photons\n",
    "\n",
    "    NLAYER  = sigma.shape[1]     # Number of vertical layer\n",
    "    NWVL    = sigma.shape[0]     # Number of wavelength for absorption and output\n",
    "    NGROUP  = NT//NWVL           # Number of groups of photons\n",
    "    NTHREAD = NGROUP*NWVL        # Number of threads used\n",
    "    NBUNCH  = NPHOTON//NGROUP    # Number of photons per group\n",
    "    NP_REST = NPHOTON%(NGROUP*NBUNCH) # Number of additional photons in the last group\n",
    "    NWVL_LOW = NWS\n",
    "\n",
    "    print(NT, NTHREAD, NGROUP, NPHOTON, NLAYER, NWVL, NBUNCH, NP_REST, NWVL_LOW)\n",
    "    sigma_ab_in  = np.zeros((NLAYER, NWVL), order='C', dtype=np.float32)\n",
    "    sigma_ab_in[:,:]  = sigma.swapaxes(0,1)\n",
    "\n",
    "    alb_in       = ALB.get(wl).reshape(NWVL, order='C').astype(np.float32) \n",
    "\n",
    "    #cd_in        = cd.reshape((NPHOTON, NLAYER), order='C').astype(np.float32)\n",
    "    cd_in        = cd[:,:NLAYER].reshape((NPHOTON, NLAYER), order='C').astype(np.float32)\n",
    "    S_in         = S.reshape((NPHOTON, 4),       order='C').astype(np.float32)\n",
    "    weight_in    = w.reshape((NPHOTON, NWVL_LOW),order='C').astype(np.float32)\n",
    "    nrrs_in      = nrrs.reshape(NPHOTON,order='C').astype(np.int8)\n",
    "    nsif_in      = nsif.reshape(NPHOTON,order='C').astype(np.int8)\n",
    "    nref_in      = nref.reshape(NPHOTON,order='C').astype(np.int8)\n",
    "\n",
    "    res_out      = gpuzeros((4, NWVL),   dtype=np.float64)\n",
    "    res_sca      = gpuzeros((4, NWVL),   dtype=np.float64)\n",
    "    res_rrs      = gpuzeros((4, NWVL),   dtype=np.float64)\n",
    "    res_sif      = gpuzeros((4, NWVL),   dtype=np.float64)\n",
    "    reduce_absorption_gpu(np.int64(NPHOTON), np.int64(NLAYER), np.int64(NWVL), np.int64(NTHREAD), np.int64(NGROUP), np.int64(NBUNCH), \n",
    "                          np.int64(NP_REST), np.int64(NWVL_LOW), res_out, res_sca, res_rrs, res_sif, \n",
    "                          to_gpu(sigma_ab_in), to_gpu(alb_in), to_gpu(cd_in), to_gpu(S_in), to_gpu(weight_in), to_gpu(nrrs_in), \n",
    "                          to_gpu(nref_in), to_gpu(nsif_in), to_gpu(iwls_in), to_gpu(wwls_in), \n",
    "                          block=(XBLOCK,1,1),grid=(XGRID,1,1))\n",
    "    I1      = res_out.get()/m[0][0,0]\n",
    "    #norm1   = I1[0,0]/mref['I_up (TOA)'].data\n",
    "    P_Raman = res_rrs.get()[0,:]/res_out.get()[0,:]\n",
    "    #print(norm1)\n",
    "    norm1 = 1\n",
    "    I1_LUT = LUT(I1[0,:]/norm1, axes=[wl], names=['wavelength'], desc=mdesc('I_up (TOA)'))\n",
    "    Q1_LUT = LUT(I1[1,:]/norm1, axes=[wl], names=['wavelength'], desc=mdesc('Q_up (TOA)'))\n",
    "    U1_LUT = LUT(I1[1,:]/norm1, axes=[wl], names=['wavelength'], desc=mdesc('U_up (TOA)'))\n",
    "    DoLP_LUT = ((Q1_LUT*Q1_LUT + U1_LUT*U1_LUT).apply(np.sqrt)/I1_LUT)*100\n",
    "    DoLP_LUT.desc='DoLP (%)'\n",
    "    P_Raman_LUT = LUT(P_Raman, axes=[wl], names=['wavelength'], desc=r'$P_{Raman}$')\n",
    "    Rel     = Es * I1_LUT[Idx(wl,fill_value='extrema')]\n",
    "    Rel_llp = Es_RRS * I1_LUT[Idx(wl_RRS,fill_value='extrema')]\n",
    "    R_RRS   = np.sum(Rel_llp * LRRS, axis=1) * P_Raman_LUT[Idx(wl, fill_value='extrema')]\n",
    "    Rel_out = Rel * P_Raman_LUT[Idx(wl, fill_value='extrema')]\n",
    "    R_tot   = R_RRS + Rel - Rel_out\n",
    "    \n",
    "    sca(ax[0,0])\n",
    "    I1_LUT.plot(label='%d'%i)\n",
    "    ylim(0,0.4)\n",
    "    sca(ax[0,1])\n",
    "    I1_LUT.plot(label='%d'%i)\n",
    "    xlim(zoom)\n",
    "    ylim(0,0.4)\n",
    "    \n",
    "    sca(ax[1,0])\n",
    "    ff = R_tot\n",
    "    plot(wl, ff ,'-')\n",
    "    xlabel('wavelength (nm)')\n",
    "    ylabel(mdesc('I_up (TOA, tot)')+ r'$ (ph/s/cm^2/nm)$')\n",
    "    grid(True)\n",
    "    sca(ax[1,1])\n",
    "    ff = R_tot\n",
    "    plot(wl, ff ,'-')\n",
    "    xlim(zoom)\n",
    "    xlabel('wavelength (nm)')\n",
    "    grid(True)\n",
    "    \n",
    "    sca(ax[2,0])\n",
    "    ff = R_RRS\n",
    "    plot(wl, ff ,'-')\n",
    "    xlabel('wavelength (nm)')\n",
    "    ylabel(mdesc('I_up (TOA, RRS in)')+ r'$ (ph/s/cm^2/nm)$')\n",
    "    grid(True)\n",
    "    sca(ax[2,1])\n",
    "    ff = R_RRS\n",
    "    plot(wl, ff ,'-')\n",
    "    xlabel('wavelength (nm)')\n",
    "    xlim(zoom)\n",
    "    grid(True)\n",
    "\n",
    "    sca(ax[3,0])\n",
    "    ff = R_tot/Rel\n",
    "    plot(wl, ff)\n",
    "    xlabel('wavelength (nm)')\n",
    "    ylabel('$Ring spectrum (Tot/Elastic)$')\n",
    "    ylim(0.95,1.05)\n",
    "    grid(True)\n",
    "    sca(ax[3,1])\n",
    "    ff = R_tot/Rel\n",
    "    plot(wl, ff)\n",
    "    xlabel('wavelength (nm)')\n",
    "    ylim(0.95,1.05)\n",
    "    grid(True)\n",
    "    xlim(zoom)\n",
    "    \n",
    "    sca(ax[4,0])\n",
    "    DoLP_LUT.plot(label='%d'%i)\n",
    "    ylim(0,40)\n",
    "    sca(ax[4,1])\n",
    "    DoLP_LUT.plot(label='%d'%i)\n",
    "    xlim(zoom)\n",
    "    ylim(0,40)\n",
    "legend()"
   ]
  },
  {
   "cell_type": "code",
   "execution_count": null,
   "metadata": {
    "ExecuteTime": {
     "end_time": "2019-12-29T22:17:30.561328Z",
     "start_time": "2019-12-29T22:17:23.047205Z"
    },
    "run_control": {
     "marked": false
    }
   },
   "outputs": [],
   "source": [
    "# vertical grid in descending order as usual for SmartG 1D\n",
    "znew = np.linspace(50., 0. , num=26)\n",
    "#znew = np.array([100., 99., 20., 5., 3., 2., 0.])\n",
    "Nx=1\n",
    "Ny=1\n",
    "Dx=1.\n",
    "Dy=1.\n",
    "# vertical grid in ascending order for 3D grid\n",
    "zgrid = znew[::-1]\n",
    "\n",
    "# grid building\n",
    "(idx,idy,idz), (NX,NY,NZ), (xgrid, ygrid, zgrid), neigh, pmin, pmax = \\\n",
    "    Get_3Dcells(Nx=Nx,Dx=Dx,Ny=Ny,Dy=Dy, z=zgrid, SAT_ALTITUDE=120, \n",
    "                periodic=False, HORIZ_EXTENT_LENGTH=1e5)\n",
    "Ncell   = NX*NY*NZ\n",
    "\n",
    "# cloud cells\n",
    "idx_cloud = 1\n",
    "idy_cloud = 1\n",
    "idz_cloud = 1\n",
    "\n",
    "Nopt      = len(zgrid) + 1 # one clear atmosphere + 1 cloud cell \n",
    "\n",
    "\n",
    "cloud_cell = np.ravel_multi_index((idx_cloud, idy_cloud, idz_cloud), dims=(NX,NY,NZ), order='C')\n",
    "iopt       = np.zeros(Ncell, dtype=int32)\n",
    "iopt[:]    = np.arange(Nopt)[::-1][idz+1]\n",
    "iopt[cloud_cell] = Nopt - 1\n",
    "\n",
    "## optical properties\n",
    "wl_ref  = 690.\n",
    "# aerosols\n",
    "aer     = AeroOPAC('urban', 0., wl_ref)\n",
    "pha_aer = AtmAFGL('afglt', comp=[aer]).calc(wl_ref, NBTHETA=10000)['phase_atm'].sub()[0,:,:]\n",
    "cld     = CloudOPAC('wc.sol', 3., znew[-2], znew[-3], 10., wl_ref)\n",
    "#pha_cld = AtmAFGL('afglt', comp=[cld]).calc(wl_ref, NBTHETA=10000)['phase_atm'].sub()[0,:,:]\n",
    "\n",
    "atm1D_clr  = AtmAFGL('afglt', O3=0., comp=[aer], NO2=True, grid=znew).calc(wls)\n",
    "atm1D_cld  = AtmAFGL('afglt', O3=0., NO2=True, comp=[cld], grid=znew).calc(wls)\n",
    "atm1D_clrA  = AtmAFGL('afglt', O3=0., comp=[aer], NO2=True, prof_abs=ao2_int, grid=znew).calc(wl)\n",
    "atm1D_cldA  = AtmAFGL('afglt', O3=0., NO2=True, comp=[cld], prof_abs=ao2_int, grid=znew).calc(wl)\n",
    "#atm1D_clrA  = AtmAFGL('afglt', O3=0., comp=[aer], NO2=True, grid=znew).calc(wl)\n",
    "#atm1D_cldA  = AtmAFGL('afglt', O3=0., NO2=True, comp=[cld], grid=znew).calc(wl)\n",
    "ptc_sca    = np.concatenate([od2k(atm1D_clr, 'OD_p')[:,:], od2k(atm1D_cld, 'OD_p') [:,-idz_cloud-1:-idz_cloud]], axis=1)\n",
    "ptc_ssa    = np.concatenate([atm1D_clr['ssa_p_atm'] [:,:], atm1D_cld['ssa_p_atm']  [:,-idz_cloud-1:-idz_cloud]], axis=1)\n",
    "ray_sca    = np.concatenate([od2k(atm1D_clr, 'OD_r')[:,:], od2k(atm1D_cld, 'OD_r') [:,-idz_cloud-1:-idz_cloud]], axis=1)\n",
    "gas_abs    = np.concatenate([od2k(atm1D_clrA, 'OD_g')[:,:], od2k(atm1D_cldA, 'OD_g') [:,-idz_cloud-1:-idz_cloud]], axis=1)\n",
    "\n",
    "atm1D_clr0  = AtmAFGL('afglt', O3=0., comp=[aer], NO2=False, grid=znew).calc(wls[0])\n",
    "atm1D_cld0  = AtmAFGL('afglt', O3=0., NO2=False, comp=[cld], grid=znew).calc(wls[0])\n",
    "ptc_sca0    = np.concatenate([od2k(atm1D_clr0, 'OD_p')[:,:], od2k(atm1D_cld0, 'OD_p') [:,-idz_cloud-1:-idz_cloud]], axis=1)\n",
    "ptc_ssa0    = np.concatenate([atm1D_clr0['ssa_p_atm'] [:,:], atm1D_cld0['ssa_p_atm']  [:,-idz_cloud-1:-idz_cloud]], axis=1)\n",
    "ray_sca0    = np.concatenate([od2k(atm1D_clr0, 'OD_r')[:,:], od2k(atm1D_cld0, 'OD_r') [:,-idz_cloud-1:-idz_cloud]], axis=1)\n",
    "gas_abs0    = np.concatenate([od2k(atm1D_clr0, 'OD_g')[:,:], od2k(atm1D_cld0, 'OD_g') [:,-idz_cloud-1:-idz_cloud]], axis=1)\n",
    "\n",
    "ipha0       = np.zeros_like(ptc_sca0, dtype=int32)\n",
    "ipha0[:, iopt[cloud_cell]] = 1\n",
    "ipha        = np.zeros_like(ptc_sca, dtype=int32)\n",
    "ipha[:, iopt[cloud_cell]] = 1\n",
    "\n",
    "NWS=wls.size\n",
    "# parameters for 1D linear interpolation of w\n",
    "f  =  interp1d(wls,np.linspace(0, NWS-1, num=NWS))\n",
    "iw =  f(wl)\n",
    "#iw =  f(wl_RRS.ravel())\n",
    "iwls_in = np.floor(iw).astype(int8)        # index of lower wls value in the wls array, \n",
    "wwls_in = (iw-iwls_in).astype(np.float32)  # floating proportion between iwls and iwls+1\n",
    "# special case for NWS\n",
    "ii = np.where(iwls_in==(NWS-1))\n",
    "iwls_in[ii] = NWS-2\n",
    "wwls_in[ii] = 1."
   ]
  },
  {
   "cell_type": "code",
   "execution_count": null,
   "metadata": {
    "ExecuteTime": {
     "end_time": "2019-12-29T21:59:43.991213Z",
     "start_time": "2019-12-29T21:59:43.849676Z"
    }
   },
   "outputs": [],
   "source": [
    "# Cloud Phase matrix\n",
    "# alternative reff = 5 micron phase function\n",
    "cloud_sub = cloud_LUT.sub({'effective_radius':Idx(5.),'effective_variance':0, 'wavelength':Idx(0.670)})\n",
    "pha = np.stack([(cloud_sub['p11_phase_function']+cloud_sub['p21_phase_function'])[::-1],\n",
    "               (cloud_sub['p11_phase_function']-cloud_sub['p21_phase_function'])[::-1],\n",
    "                cloud_sub['p34_phase_function'][::-1], cloud_sub['p44_phase_function'][::-1]])\n",
    "pha_cld = LUT(pha, axes=[None, cloud_sub.axis('phase_angles')[::-1]], names=['stk', 'theta_atm'])"
   ]
  },
  {
   "cell_type": "code",
   "execution_count": null,
   "metadata": {
    "ExecuteTime": {
     "end_time": "2019-12-29T21:59:47.442403Z",
     "start_time": "2019-12-29T21:59:47.334175Z"
    }
   },
   "outputs": [],
   "source": [
    "ray_sca[0,:], ptc_sca[0,:], gas_abs[0,:], atm1D_cld.axis('z_atm'), idz, idz_cloud, iopt\n",
    "iopt, pmin[2,cloud_cell], iopt[cloud_cell], ptc_sca[0,iopt[cloud_cell]], gas_abs[0,iopt[cloud_cell]],  ray_sca[0,iopt[cloud_cell]], Nopt\n",
    "ptc_ssa[0,iopt[cloud_cell]]"
   ]
  },
  {
   "cell_type": "code",
   "execution_count": null,
   "metadata": {
    "ExecuteTime": {
     "end_time": "2019-12-29T22:17:31.114635Z",
     "start_time": "2019-12-29T22:17:30.564229Z"
    }
   },
   "outputs": [],
   "source": [
    "atm3D = AtmAFGL('afglt',\n",
    "                    grid        = np.arange(Nopt),\n",
    "                    prof_ray    = ray_sca,\n",
    "                    prof_aer    = (ptc_sca, ptc_ssa),\n",
    "                    prof_phases = (ipha, [pha_aer,pha_cld]),\n",
    "                    cells       = (iopt, pmin, pmax, neigh)\n",
    "                   )\n",
    "\n",
    "pro3D  = atm3D.calc(wls)\n",
    "atm3D0 = AtmAFGL('afglt',\n",
    "                    grid        = np.arange(Nopt),\n",
    "                    prof_ray    = ray_sca0,\n",
    "                    prof_abs    = gas_abs0,\n",
    "                    prof_aer    = (ptc_sca0, ptc_ssa0),\n",
    "                    prof_phases = (ipha0, [pha_aer,pha_cld]),\n",
    "                    cells       = (iopt, pmin, pmax, neigh)\n",
    "                   )\n",
    "\n",
    "pro3D0 = atm3D0.calc(wls[0])\n",
    "# Sun position\n",
    "SAA    = 180.\n",
    "SZA    = 40.\n",
    "# Sensors position\n",
    "Npix   = 70\n",
    "POSZ   = 49.0001\n",
    "#POSZ   = 0.\n",
    "POSX   = 3.4999\n",
    "POSY   = 3.4999\n",
    "#THDEG  = 20.\n",
    "THDEG  = 180.\n",
    "PHDEG  = 140.\n",
    "# pixels centers on the ground\n",
    "x0    = np.linspace(-POSX, POSX, num=Npix) # central domain (cumulus) boundaries\n",
    "y0    = np.linspace(-POSY, POSY, num=Npix)\n",
    "z0    = np.linspace( POSZ,   5 , num=Npix)\n",
    "#\n",
    "xx,yy = np.meshgrid(x0, y0)\n",
    "zz    = np.zeros_like(xx) + POSZ\n",
    "# cells indices\n",
    "icells = locate_3Dregular_cells(xgrid, ygrid, zgrid, xx.ravel(), yy.ravel(), zz.ravel())\n",
    "\n",
    "sensors=[]\n",
    "for POSX,POSY,POSZ,ICELL in zip(xx.ravel(), yy.ravel(), zz.ravel(), icells):\n",
    "    sensors.append(Sensor(POSX=POSX, POSY=POSY, POSZ=POSZ, FOV=0., TYPE=0,\n",
    "                          THDEG=THDEG, PHDEG=PHDEG, LOC='ATMOS', ICELL=ICELL))\n",
    "    \n",
    "sensor_cld1 = Sensor(POSZ=POSZ, FOV=0., TYPE=0,\n",
    "                          THDEG=THDEG, PHDEG=PHDEG, LOC='ATMOS', \n",
    "                    ICELL=locate_3Dregular_cells(xgrid, ygrid, zgrid, 0., 0., POSZ))\n",
    "sensor_cld2 = Sensor(POSX=-0.4, POSY=-0.4, POSZ=POSZ, FOV=0., TYPE=0,\n",
    "                          THDEG=THDEG, PHDEG=PHDEG, LOC='ATMOS', \n",
    "                    ICELL=locate_3Dregular_cells(xgrid, ygrid, zgrid, -0.4, -0.4, POSZ))\n",
    "\n",
    "sensor_grd = Sensor(POSX = -POSX, POSZ=POSZ, FOV=0., TYPE=0,\n",
    "                          THDEG=THDEG, PHDEG=PHDEG, LOC='ATMOS', \n",
    "                    ICELL=locate_3Dregular_cells(xgrid, ygrid, zgrid, -POSX, 0., POSZ))"
   ]
  },
  {
   "cell_type": "code",
   "execution_count": null,
   "metadata": {
    "ExecuteTime": {
     "end_time": "2019-12-29T22:26:37.055299Z",
     "start_time": "2019-12-29T22:26:35.729982Z"
    }
   },
   "outputs": [],
   "source": [
    "#Monochromatic image\n",
    "le      = {'th_deg':np.array([SZA]), 'phi_deg':np.array([SAA])}\n",
    "S3D     = Smartg(opt3D=True,  alt_pp=True, alis=False) # 3D\n",
    "ALB     = Albedo_speclib('/rfs/data/speclib2.0/data/jhu.becknic.vegetation.trees.deciduous.solid.decidou.spectrum.txt')\n",
    "surf    = LambSurface(ALB=ALB.get(wls[0]))\n",
    "NB      = len(sensors) * 1e3\n",
    "m0      = S3D .run(wl=wls[0],  NBPHOTONS=NB, atm=pro3D.sub({'wavelength':0}), sensor=sensors, le=le, surf=surf, NBLOOP=1e5,\n",
    "               stdev=False, NF=1e4).sub({'Azimuth angles':0, 'Zenith angles':0})"
   ]
  },
  {
   "cell_type": "code",
   "execution_count": null,
   "metadata": {
    "ExecuteTime": {
     "end_time": "2019-12-27T17:21:14.277558Z",
     "start_time": "2019-12-27T17:20:04.389643Z"
    }
   },
   "outputs": [],
   "source": [
    "#Monochromatic image NO2\n",
    "le      = {'th_deg':np.array([SZA]), 'phi_deg':np.array([SAA])}\n",
    "S3D     = Smartg(opt3D=True,  alt_pp=True, alis=False) # 3D\n",
    "ALB     = Albedo_speclib('/rfs/data/speclib2.0/data/jhu.becknic.vegetation.trees.deciduous.solid.decidou.spectrum.txt')\n",
    "surf    = LambSurface(ALB=ALB.get(wls[0]))\n",
    "NB      = len(sensors) * 1e5\n",
    "m0      = S3D .run(wl=wls[0],  NBPHOTONS=NB, atm=pro3D0, sensor=sensors, le=le, surf=surf, NBLOOP=1e6,\n",
    "               stdev=False, NF=1e4).sub({'Azimuth angles':0, 'Zenith angles':0})"
   ]
  },
  {
   "cell_type": "code",
   "execution_count": null,
   "metadata": {
    "ExecuteTime": {
     "end_time": "2019-12-29T22:01:20.555577Z",
     "start_time": "2019-12-29T22:01:19.776488Z"
    }
   },
   "outputs": [],
   "source": [
    "# O2\n",
    "f=figure(figsize=(6,6))\n",
    "im = m0['I_up (TOA)'].data.reshape(Npix,Npix,1)[::-1,:,-1]\n",
    "imshow(im, vmin=0 , vmax=0.39, cmap=cm.Blues_r)\n",
    "cbar = colorbar(shrink=0.8, orientation='vertical')\n",
    "cbar.ax.set_xlabel(mdesc('I_up (TOA)'))\n",
    "f.tight_layout()\n",
    "#f.savefig('/home/did/RTC/SMART-G/smartg/validation/IPRT/C2_case5_O2_image.png', dpi=200)"
   ]
  },
  {
   "cell_type": "code",
   "execution_count": null,
   "metadata": {
    "ExecuteTime": {
     "end_time": "2019-12-27T17:37:39.117393Z",
     "start_time": "2019-12-27T17:37:37.694519Z"
    }
   },
   "outputs": [],
   "source": [
    "# NO2\n",
    "f=figure(figsize=(6,6))\n",
    "im = m0['I_up (TOA)'].data.reshape(Npix,Npix,1)[::-1,:,-1]\n",
    "imshow(im, vmin=0 , cmap=cm.Blues_r)\n",
    "cbar = colorbar(shrink=0.8, orientation='vertical')\n",
    "cbar.ax.set_xlabel(mdesc('I_up (TOA)'))\n",
    "f.tight_layout()\n",
    "f.savefig('/home/did/RTC/SMART-G/smartg/validation/IPRT/C2_case5_NO2_image.png', dpi=200)"
   ]
  },
  {
   "cell_type": "code",
   "execution_count": null,
   "metadata": {
    "ExecuteTime": {
     "end_time": "2019-12-27T17:35:59.728697Z",
     "start_time": "2019-12-27T17:35:57.604295Z"
    }
   },
   "outputs": [],
   "source": [
    "f=figure(figsize=(6,4))\n",
    "phases = [pha_cld, pha_aer]\n",
    "ip  = np.array([p.axis('theta_atm').size for p in phases]).argmax()\n",
    "theta = phases[ip].axis('theta_atm')\n",
    "pha = np.stack([p[:,Idx(theta)] for p in phases])\n",
    "pha.shape, pha_cld.data.shape, pha_aer.data.shape\n",
    "semilogy(theta, pha[1,0,:],label='urban aerosol')\n",
    "semilogy(theta, pha[0,0,:],label=r'liquid cloud $r_{eff}=5\\mu m$')\n",
    "grid()\n",
    "xlim(0,180)\n",
    "ylim(1e-2,1e4)\n",
    "xlabel(r'$\\theta$')\n",
    "ylabel(r'$P(\\theta)$')\n",
    "legend()\n",
    "f.tight_layout()\n",
    "f.savefig('/home/did/RTC/SMART-G/smartg/validation/IPRT/C2_case5_phase_function.png', dpi=200)"
   ]
  },
  {
   "cell_type": "code",
   "execution_count": null,
   "metadata": {
    "ExecuteTime": {
     "end_time": "2019-12-29T22:30:53.429448Z",
     "start_time": "2019-12-29T22:30:47.093451Z"
    }
   },
   "outputs": [],
   "source": [
    "%%time\n",
    "# Spectra\n",
    "zoom          = (685.75, 688.00)\n",
    "sigma         = ao2_int[:,:]\n",
    "NWS           = wls.size\n",
    "#sigma         = gas_abs[:,1:]\n",
    "S3Da          = Smartg(opt3D=True,  alt_pp=True, alis=True) # 3D\n",
    "fig,ax        = subplots(nrows=5, ncols=2) \n",
    "fig.set_size_inches(24,15)\n",
    "surf          = LambSurface(ALB=1.)\n",
    "surfref       = LambSurface(ALB=ALB.get(wls[0]))\n",
    "NL            = Nopt-1 # number of opt properties\n",
    "NB            = 1e3\n",
    "for i,sensor in enumerate([sensor_cld1, sensor_grd]):\n",
    "    m       = S3Da.run(wl=wls,  NBPHOTONS=NB, atm=pro3D, sensor=sensor, le=le, surf=surf, NBLOOP=1e4,\n",
    "               stdev=False, NF=1e4, alis_options={'nlow':NWS, 'hist':True}).sub({'Azimuth angles':0, 'Zenith angles':0})\n",
    "    #mref    = S3D.run(wl=wls[0],  NBPHOTONS=NB*100, atm=pro3D0, sensor=sensor, le=le, surf=surfref, NBLOOP=1e5,\n",
    "    #           stdev=False, NF=1e4).sub({'Azimuth angles':0, 'Zenith angles':0})\n",
    "\n",
    "    w     = m['disth_up (TOA)'][:, NL+4:-3]\n",
    "    ngood = np.sum(w[:,0]!=0)\n",
    "\n",
    "    S       = np.zeros((ngood,4),dtype=np.float32) \n",
    "    cd      = m['disth_up (TOA)'][:ngood,     :NL  ]\n",
    "    S[:,:4] = m['disth_up (TOA)'][:ngood, NL  :NL+4]\n",
    "    w       = m['disth_up (TOA)'][:ngood, NL+4:-3  ]\n",
    "    nrrs    = m['disth_up (TOA)'][:ngood,      -3  ]\n",
    "    nref    = m['disth_up (TOA)'][:ngood,      -2  ]\n",
    "    nsif    = m['disth_up (TOA)'][:ngood,      -1  ]\n",
    "\n",
    "    XBLOCK  = 512\n",
    "    XGRID   = 512\n",
    "    NT      = XBLOCK*XGRID       # Maximum Number of threads\n",
    "    NPHOTON = cd.shape[0]        # Number of photons\n",
    "\n",
    "    NLAYER  = sigma.shape[1]     # Number of vertical layer\n",
    "    NWVL    = sigma.shape[0]     # Number of wavelength for absorption and output\n",
    "    NGROUP  = NT//NWVL           # Number of groups of photons\n",
    "    NTHREAD = NGROUP*NWVL        # Number of threads used\n",
    "    NBUNCH  = NPHOTON//NGROUP    # Number of photons per group\n",
    "    NP_REST = NPHOTON%(NGROUP*NBUNCH) # Number of additional photons in the last group\n",
    "    NWVL_LOW = NWS\n",
    "\n",
    "    print(NT, NTHREAD, NGROUP, NPHOTON, NLAYER, NWVL, NBUNCH, NP_REST, NWVL_LOW)\n",
    "    sigma_ab_in  = np.zeros((NLAYER, NWVL), order='C', dtype=np.float32)\n",
    "    sigma_ab_in[:,:]  = sigma.swapaxes(0,1)\n",
    "\n",
    "    alb_in       = ALB.get(wl).reshape(NWVL, order='C').astype(np.float32) \n",
    "\n",
    "    cd_in        = cd.reshape((NPHOTON, NLAYER), order='C').astype(np.float32)\n",
    "    S_in         = S.reshape((NPHOTON, 4),       order='C').astype(np.float32)\n",
    "    weight_in    = w.reshape((NPHOTON, NWVL_LOW),order='C').astype(np.float32)\n",
    "    nrrs_in      = nrrs.reshape(NPHOTON,order='C').astype(np.int8)\n",
    "    nsif_in      = nsif.reshape(NPHOTON,order='C').astype(np.int8)\n",
    "    nref_in      = nref.reshape(NPHOTON,order='C').astype(np.int8)\n",
    "\n",
    "    res_out      = gpuzeros((4, NWVL),   dtype=np.float64)\n",
    "    res_sca      = gpuzeros((4, NWVL),   dtype=np.float64)\n",
    "    res_rrs      = gpuzeros((4, NWVL),   dtype=np.float64)\n",
    "    res_sif      = gpuzeros((4, NWVL),   dtype=np.float64)\n",
    "    reduce_absorption_gpu(np.int64(NPHOTON), np.int64(NLAYER), np.int64(NWVL), np.int64(NTHREAD), np.int64(NGROUP), np.int64(NBUNCH), \n",
    "                          np.int64(NP_REST), np.int64(NWVL_LOW), res_out, res_sca, res_rrs, res_sif, \n",
    "                          to_gpu(sigma_ab_in), to_gpu(alb_in), to_gpu(cd_in), to_gpu(S_in), to_gpu(weight_in), to_gpu(nrrs_in), \n",
    "                          to_gpu(nref_in), to_gpu(nsif_in), to_gpu(iwls_in), to_gpu(wwls_in), \n",
    "                          block=(XBLOCK,1,1),grid=(XGRID,1,1))\n",
    "    I1      = res_out.get()/m[0][0,0]\n",
    "    #norm1   = I1[0,0]/mref['I_up (TOA)'].data\n",
    "    P_Raman = res_rrs.get()[0,:]/res_out.get()[0,:]\n",
    "    #print(norm1)\n",
    "    norm1 = 1\n",
    "    I1_LUT = LUT(I1[0,:]/norm1, axes=[wl], names=['wavelength'], desc=mdesc('I_up (TOA)'))\n",
    "    Q1_LUT = LUT(I1[1,:]/norm1, axes=[wl], names=['wavelength'], desc=mdesc('Q_up (TOA)'))\n",
    "    U1_LUT = LUT(I1[1,:]/norm1, axes=[wl], names=['wavelength'], desc=mdesc('U_up (TOA)'))\n",
    "    DoLP_LUT = ((Q1_LUT*Q1_LUT + U1_LUT*U1_LUT).apply(np.sqrt)/I1_LUT)*100\n",
    "    DoLP_LUT.desc='DoLP (%)'\n",
    "    P_Raman_LUT = LUT(P_Raman, axes=[wl], names=['wavelength'], desc=r'$P_{Raman}$')\n",
    "    Rel     = Es * I1_LUT[Idx(wl,fill_value='extrema')]\n",
    "    Rel_llp = Es_RRS * I1_LUT[Idx(wl_RRS,fill_value='extrema')]\n",
    "    R_RRS   = np.sum(Rel_llp * LRRS, axis=1) * P_Raman_LUT[Idx(wl, fill_value='extrema')]\n",
    "    Rel_out = Rel * P_Raman_LUT[Idx(wl, fill_value='extrema')]\n",
    "    R_tot   = R_RRS + Rel - Rel_out\n",
    "    \n",
    "    sca(ax[0,0])\n",
    "    I1_LUT.plot(label='%d'%i)\n",
    "    ylim(0,0.4)\n",
    "    sca(ax[0,1])\n",
    "    I1_LUT.plot(label='%d'%i)\n",
    "    xlim(zoom)\n",
    "    ylim(0,0.4)\n",
    "    \n",
    "    sca(ax[1,0])\n",
    "    ff = R_tot\n",
    "    plot(wl, ff ,'-')\n",
    "    xlabel('wavelength (nm)')\n",
    "    ylabel(mdesc('I_up (TOA, tot)')+ r'$ (ph/s/cm^2/nm)$')\n",
    "    grid(True)\n",
    "    sca(ax[1,1])\n",
    "    ff = R_tot\n",
    "    plot(wl, ff ,'-')\n",
    "    xlim(zoom)\n",
    "    xlabel('wavelength (nm)')\n",
    "    grid(True)\n",
    "    \n",
    "    sca(ax[2,0])\n",
    "    ff = R_RRS\n",
    "    plot(wl, ff ,'-')\n",
    "    xlabel('wavelength (nm)')\n",
    "    ylabel(mdesc('I_up (TOA, RRS in)')+ r'$ (ph/s/cm^2/nm)$')\n",
    "    grid(True)\n",
    "    sca(ax[2,1])\n",
    "    ff = R_RRS\n",
    "    plot(wl, ff ,'-')\n",
    "    xlabel('wavelength (nm)')\n",
    "    xlim(zoom)\n",
    "    grid(True)\n",
    "\n",
    "    sca(ax[3,0])\n",
    "    ff = R_tot/Rel\n",
    "    plot(wl, ff)\n",
    "    xlabel('wavelength (nm)')\n",
    "    ylabel('$Ring spectrum (Tot/Elastic)$')\n",
    "    ylim(0.95,1.05)\n",
    "    grid(True)\n",
    "    sca(ax[3,1])\n",
    "    ff = R_tot/Rel\n",
    "    plot(wl, ff)\n",
    "    xlabel('wavelength (nm)')\n",
    "    ylim(0.95,1.05)\n",
    "    grid(True)\n",
    "    xlim(zoom)\n",
    "    \n",
    "    sca(ax[4,0])\n",
    "    DoLP_LUT.plot(label='%d'%i)\n",
    "    ylim(0,40)\n",
    "    sca(ax[4,1])\n",
    "    DoLP_LUT.plot(label='%d'%i)\n",
    "    xlim(zoom)\n",
    "    ylim(0,40)\n",
    "legend()"
   ]
  },
  {
   "cell_type": "code",
   "execution_count": null,
   "metadata": {
    "ExecuteTime": {
     "end_time": "2019-12-27T18:51:32.049349Z",
     "start_time": "2019-12-27T18:51:26.946984Z"
    }
   },
   "outputs": [],
   "source": [
    "#fig.tight_layout()\n",
    "fig.savefig('/home/did/RTC/SMART-G/smartg/validation/IPRT/C2_case5_O2_spectre.png', dpi=200)"
   ]
  },
  {
   "cell_type": "code",
   "execution_count": null,
   "metadata": {
    "ExecuteTime": {
     "end_time": "2019-12-27T17:47:23.799231Z",
     "start_time": "2019-12-27T17:46:37.910800Z"
    }
   },
   "outputs": [],
   "source": [
    "%%time\n",
    "# Spectra NO2\n",
    "#zoom          = (685.75, 688.00)\n",
    "zoom          = (430, 431)\n",
    "sigma         = gas_abs[:,1:]\n",
    "S3Da          = Smartg(opt3D=True,  alt_pp=True, alis=True) # 3D\n",
    "fig,ax        = subplots(nrows=5, ncols=2) \n",
    "fig.set_size_inches(24,15)\n",
    "surf          = LambSurface(ALB=1.)\n",
    "surfref       = LambSurface(ALB=ALB.get(wls[0]))\n",
    "NL            = Nopt-1 # number of opt properties\n",
    "NB            = 1e4\n",
    "for i,sensor in enumerate([sensor_cld1, sensor_grd]):\n",
    "    m       = S3Da.run(wl=wls,  NBPHOTONS=NB, atm=pro3D, sensor=sensor, le=le, surf=surf, NBLOOP=1e4,\n",
    "               stdev=False, NF=1e4, alis_options={'nlow':NWS, 'hist':True}).sub({'Azimuth angles':0, 'Zenith angles':0})\n",
    "    mref    = S3D.run(wl=wls[0],  NBPHOTONS=NB*100, atm=pro3D0, sensor=sensor, le=le, surf=surfref, NBLOOP=1e5,\n",
    "               stdev=False, NF=1e4).sub({'Azimuth angles':0, 'Zenith angles':0})\n",
    "\n",
    "    w     = m['disth_up (TOA)'][:, NL+4:-3]\n",
    "    ngood = np.sum(w[:,0]!=0)\n",
    "\n",
    "    S       = np.zeros((ngood,4),dtype=np.float32) \n",
    "    cd      = m['disth_up (TOA)'][:ngood,     :NL  ]\n",
    "    S[:,:4] = m['disth_up (TOA)'][:ngood, NL  :NL+4]\n",
    "    w       = m['disth_up (TOA)'][:ngood, NL+4:-3  ]\n",
    "    nrrs    = m['disth_up (TOA)'][:ngood,      -3  ]\n",
    "    nref    = m['disth_up (TOA)'][:ngood,      -2  ]\n",
    "    nsif    = m['disth_up (TOA)'][:ngood,      -1  ]\n",
    "\n",
    "    XBLOCK  = 512\n",
    "    XGRID   = 512\n",
    "    NT      = XBLOCK*XGRID       # Maximum Number of threads\n",
    "    NPHOTON = cd.shape[0]        # Number of photons\n",
    "\n",
    "    NLAYER  = sigma.shape[1]     # Number of vertical layer\n",
    "    NWVL    = sigma.shape[0]     # Number of wavelength for absorption and output\n",
    "    NGROUP  = NT//NWVL           # Number of groups of photons\n",
    "    NTHREAD = NGROUP*NWVL        # Number of threads used\n",
    "    NBUNCH  = NPHOTON//NGROUP    # Number of photons per group\n",
    "    NP_REST = NPHOTON%(NGROUP*NBUNCH) # Number of additional photons in the last group\n",
    "    NWVL_LOW = NWS\n",
    "\n",
    "    print(NT, NTHREAD, NGROUP, NPHOTON, NLAYER, NWVL, NBUNCH, NP_REST, NWVL_LOW)\n",
    "    sigma_ab_in  = np.zeros((NLAYER, NWVL), order='C', dtype=np.float32)\n",
    "    sigma_ab_in[:,:]  = sigma.swapaxes(0,1)\n",
    "\n",
    "    alb_in       = ALB.get(wl).reshape(NWVL, order='C').astype(np.float32) \n",
    "\n",
    "    cd_in        = cd.reshape((NPHOTON, NLAYER), order='C').astype(np.float32)\n",
    "    S_in         = S.reshape((NPHOTON, 4),       order='C').astype(np.float32)\n",
    "    weight_in    = w.reshape((NPHOTON, NWVL_LOW),order='C').astype(np.float32)\n",
    "    nrrs_in      = nrrs.reshape(NPHOTON,order='C').astype(np.int8)\n",
    "    nsif_in      = nsif.reshape(NPHOTON,order='C').astype(np.int8)\n",
    "    nref_in      = nref.reshape(NPHOTON,order='C').astype(np.int8)\n",
    "\n",
    "    res_out      = gpuzeros((4, NWVL),   dtype=np.float64)\n",
    "    res_sca      = gpuzeros((4, NWVL),   dtype=np.float64)\n",
    "    res_rrs      = gpuzeros((4, NWVL),   dtype=np.float64)\n",
    "    res_sif      = gpuzeros((4, NWVL),   dtype=np.float64)\n",
    "    reduce_absorption_gpu(np.int64(NPHOTON), np.int64(NLAYER), np.int64(NWVL), np.int64(NTHREAD), np.int64(NGROUP), np.int64(NBUNCH), \n",
    "                          np.int64(NP_REST), np.int64(NWVL_LOW), res_out, res_sca, res_rrs, res_sif, \n",
    "                          to_gpu(sigma_ab_in), to_gpu(alb_in), to_gpu(cd_in), to_gpu(S_in), to_gpu(weight_in), to_gpu(nrrs_in), \n",
    "                          to_gpu(nref_in), to_gpu(nsif_in), to_gpu(iwls_in), to_gpu(wwls_in), \n",
    "                          block=(XBLOCK,1,1),grid=(XGRID,1,1))\n",
    "    I1      = res_out.get()/m[0][0,0]\n",
    "    norm1   = I1[0,0]/mref['I_up (TOA)'].data\n",
    "    P_Raman = res_rrs.get()[0,:]/res_out.get()[0,:]\n",
    "    print(norm1)\n",
    "    #norm1 = 1\n",
    "    I1_LUT = LUT(I1[0,:]/norm1, axes=[wl], names=['wavelength'], desc=mdesc('I_up (TOA)'))\n",
    "    Q1_LUT = LUT(I1[1,:]/norm1, axes=[wl], names=['wavelength'], desc=mdesc('Q_up (TOA)'))\n",
    "    U1_LUT = LUT(I1[1,:]/norm1, axes=[wl], names=['wavelength'], desc=mdesc('U_up (TOA)'))\n",
    "    DoLP_LUT = ((Q1_LUT*Q1_LUT + U1_LUT*U1_LUT).apply(np.sqrt)/I1_LUT)*100\n",
    "    DoLP_LUT.desc='DoLP (%)'\n",
    "    P_Raman_LUT = LUT(P_Raman, axes=[wl], names=['wavelength'], desc=r'$P_{Raman}$')\n",
    "    Rel     = Es * I1_LUT[Idx(wl,fill_value='extrema')]\n",
    "    Rel_llp = Es_RRS * I1_LUT[Idx(wl_RRS,fill_value='extrema')]\n",
    "    R_RRS   = np.sum(Rel_llp * LRRS, axis=1) * P_Raman_LUT[Idx(wl, fill_value='extrema')]\n",
    "    Rel_out = Rel * P_Raman_LUT[Idx(wl, fill_value='extrema')]\n",
    "    R_tot   = R_RRS + Rel - Rel_out\n",
    "    \n",
    "    sca(ax[0,0])\n",
    "    I1_LUT.plot(label='%d'%i)\n",
    "    ylim(0,0.4)\n",
    "    sca(ax[0,1])\n",
    "    I1_LUT.plot(label='%d'%i)\n",
    "    xlim(zoom)\n",
    "    ylim(0,0.4)\n",
    "    \n",
    "    sca(ax[1,0])\n",
    "    ff = R_tot\n",
    "    plot(wl, ff ,'-')\n",
    "    xlabel('wavelength (nm)')\n",
    "    ylabel(mdesc('I_up (TOA, tot)')+ r'$ (ph/s/cm^2/nm)$')\n",
    "    grid(True)\n",
    "    sca(ax[1,1])\n",
    "    ff = R_tot\n",
    "    plot(wl, ff ,'-')\n",
    "    xlim(zoom)\n",
    "    xlabel('wavelength (nm)')\n",
    "    grid(True)\n",
    "    \n",
    "    sca(ax[2,0])\n",
    "    ff = R_RRS\n",
    "    plot(wl, ff ,'-')\n",
    "    xlabel('wavelength (nm)')\n",
    "    ylabel(mdesc('I_up (TOA, RRS in)')+ r'$ (ph/s/cm^2/nm)$')\n",
    "    grid(True)\n",
    "    sca(ax[2,1])\n",
    "    ff = R_RRS\n",
    "    plot(wl, ff ,'-')\n",
    "    xlabel('wavelength (nm)')\n",
    "    xlim(zoom)\n",
    "    grid(True)\n",
    "\n",
    "    sca(ax[3,0])\n",
    "    ff = R_tot/Rel\n",
    "    plot(wl, ff)\n",
    "    xlabel('wavelength (nm)')\n",
    "    ylabel('$Ring spectrum (Tot/Elastic)$')\n",
    "    ylim(0.95,1.05)\n",
    "    grid(True)\n",
    "    sca(ax[3,1])\n",
    "    ff = R_tot/Rel\n",
    "    plot(wl, ff)\n",
    "    xlabel('wavelength (nm)')\n",
    "    ylim(0.95,1.05)\n",
    "    grid(True)\n",
    "    xlim(zoom)\n",
    "    \n",
    "    sca(ax[4,0])\n",
    "    DoLP_LUT.plot(label='%d'%i)\n",
    "    ylim(0,40)\n",
    "    sca(ax[4,1])\n",
    "    DoLP_LUT.plot(label='%d'%i)\n",
    "    xlim(zoom)\n",
    "    ylim(0,40)\n",
    "legend()"
   ]
  },
  {
   "cell_type": "code",
   "execution_count": null,
   "metadata": {
    "ExecuteTime": {
     "end_time": "2019-12-27T17:47:29.195784Z",
     "start_time": "2019-12-27T17:47:23.801602Z"
    }
   },
   "outputs": [],
   "source": [
    "#fig.tight_layout()\n",
    "fig.savefig('/home/did/RTC/SMART-G/smartg/validation/IPRT/C2_case5_NO2_spectre.png', dpi=200)"
   ]
  },
  {
   "cell_type": "markdown",
   "metadata": {},
   "source": [
    "### C3 cloud"
   ]
  },
  {
   "cell_type": "code",
   "execution_count": null,
   "metadata": {
    "ExecuteTime": {
     "end_time": "2020-01-09T17:21:23.403784Z",
     "start_time": "2020-01-09T17:21:22.961996Z"
    }
   },
   "outputs": [],
   "source": [
    "# C3 IPRT Cumulus data\n",
    "cumulus_f='/home/did/RTC/SMART-G/smartg/validation/IPRT/cumulus.dat'\n",
    "f       = open(cumulus_f, 'r')\n",
    "f.readline(); \n",
    "l       = f.readline().split()\n",
    "Nx, Ny, Nz, _ = list(map(int, l)) # number of cumulus cells in X, Y, X\n",
    "Nl      = Nz + 1                  # number of levels in Z\n",
    "l       = f.readline()\n",
    "g_info  = list(map(float, l.split()))\n",
    "Dx, Dy  = g_info[0:2]              # horizontal grid interval in km\n",
    "zgrid   = np.array(g_info[2:])# vertical grid in km\n",
    "assert Nl==zgrid.size\n",
    "\n",
    "zgrid = np.concatenate([zgrid, np.array([120.])])\n",
    "(idx,idy,idz), (NX,NY,NZ), (xgrid, ygrid, zgrid), neigh, pmin, pmax = \\\n",
    "    Get_3Dcells(Nx=Nx, Ny=Ny, Dx=Dx, Dy=Dy, z=zgrid, SAT_ALTITUDE=120, periodic=False, HORIZ_EXTENT_LENGTH=1e5)\n",
    "Ncell   = NX*NY*NZ\n",
    "znew  = zgrid[::-1]"
   ]
  },
  {
   "cell_type": "code",
   "execution_count": null,
   "metadata": {
    "ExecuteTime": {
     "end_time": "2020-01-10T07:46:32.638729Z",
     "start_time": "2020-01-10T07:43:21.201575Z"
    },
    "scrolled": false
   },
   "outputs": [],
   "source": [
    "%%time\n",
    "# absorption (only gas)\n",
    "aco2_int = get_co2_abs(znew, wl, DOWNLOAD=False, verbose=True)"
   ]
  },
  {
   "cell_type": "code",
   "execution_count": null,
   "metadata": {
    "ExecuteTime": {
     "end_time": "2020-01-10T07:56:48.235444Z",
     "start_time": "2020-01-10T07:56:47.345935Z"
    }
   },
   "outputs": [],
   "source": [
    "semilogy(wl,aco2_int[:,-1])"
   ]
  },
  {
   "cell_type": "code",
   "execution_count": null,
   "metadata": {
    "ExecuteTime": {
     "end_time": "2020-01-10T08:21:23.145766Z",
     "start_time": "2020-01-10T08:21:20.998284Z"
    }
   },
   "outputs": [],
   "source": [
    "## scattering optical properties\n",
    "wl_ref  = (wls[0]+wls[-1])/2.\n",
    "# cloud\n",
    "reff = 5.  # mic.\n",
    "cumulus     = np.loadtxt(cumulus_f, skiprows=3, dtype=np.float32)\n",
    "sca_cld_in  = cumulus[:,3]            # km-1\n",
    "#sca_cld_in  = cumulus[:2000,3]            # km-1\n",
    "cloud_sub   = cloud_LUT.sub({'effective_radius':Idx(reff),'effective_variance':0})\n",
    "eps_cld     = cloud_sub['normed_ext_coeff' ][Idx(wls, fill_value='extrema')]/\\\n",
    "              cloud_sub['normed_ext_coeff' ][Idx(wl_ref, fill_value='extrema')]\n",
    "sca_cld     = sca_cld_in[None, :] * eps_cld[:, None]\n",
    "\n",
    "cloud_sub   = cloud_LUT.sub({'effective_radius':Idx(reff),'effective_variance':0, \n",
    "                             'wavelength':Idx(wl_ref*1e-3)})\n",
    "pha         = np.stack([(cloud_sub['p11_phase_function']+cloud_sub['p21_phase_function'])[::-1],\n",
    "                (cloud_sub['p11_phase_function']-cloud_sub['p21_phase_function'])[::-1],\n",
    "                 cloud_sub['p34_phase_function'][::-1],\n",
    "                 cloud_sub['p44_phase_function'][::-1]])\n",
    "#pha_cld     = LUT(pha, axes=[None, cloud_sub.axis('phase_angles')[::-1]], names=['stk', 'theta_atm'])\n",
    "#alternative reff = 2 micron phase function\n",
    "cld = CloudOPAC('wc.sol', 2., 2, 3., 1., wl_ref)\n",
    "pha_cld = AtmAFGL('afglt', comp=[cld]).calc(wl_ref)['phase_atm'].sub()[0,:,:]\n",
    "\n",
    "#Rayleigh\n",
    "sca_ray     = od2k(AtmAFGL('afglt', O3=0., NO2=True, grid=znew).calc(wls), 'OD_r')\n",
    "\n",
    "# indexing of C3 cells into SMART-G grid\n",
    "cloud_geo   = cumulus[:,:3].astype(int32)-1\n",
    "#cloud_geo   = cumulus[:2000,:3].astype(int32)-1\n",
    "cloud_cell  = np.ravel_multi_index((cloud_geo[:,0], cloud_geo[:,1], cloud_geo[:,2]),\n",
    "                    dims=(NX, NY, NZ))\n",
    "\n",
    "# Concatenation\n",
    "sca_cld3D   = np.concatenate([np.zeros_like(sca_ray), sca_cld], axis=1)\n",
    "sca_ray3D   = np.concatenate([sca_ray, sca_ray[:,NZ-idz[cloud_cell]]], axis=1)\n",
    "ssa_cld3D   = np.ones_like(sca_cld3D)\n",
    "ipha3D      = np.zeros_like(sca_cld3D, dtype=int32)\n",
    "\n",
    "## Mapping optical propoerties and cells\n",
    "# 1 clear profile + number of cloud cells opt. prop. (here 1 per cell)\n",
    "Nopt        = NZ + 1 + cloud_cell.size\n",
    "iopt        = np.zeros(Ncell, dtype=int32)\n",
    "iabs        = np.zeros_like(iopt)\n",
    "iopt[:]     = np.arange(Nopt)[NZ-idz] # Scattering depending on Z for clear atmosphere (Rayleigh)\n",
    "iabs[:]     = np.arange(Nopt)[NZ-idz] # Absorption depending on Z only\n",
    "iopt[cloud_cell] = NZ + 1 + np.arange(cloud_cell.size)  # Scattering depending on cloud cell\n",
    "\n",
    "atm_arr = np.zeros((Nopt,9))\n",
    "atm_arr[:,0] = np.arange(Nopt)[::-1]\n",
    "np.savetxt('./tmp.dat', atm_arr)\n",
    "Nabs        = iabs.max().astype(np.int32)"
   ]
  },
  {
   "cell_type": "code",
   "execution_count": null,
   "metadata": {
    "ExecuteTime": {
     "end_time": "2020-01-10T08:21:25.690264Z",
     "start_time": "2020-01-10T08:21:24.782999Z"
    }
   },
   "outputs": [],
   "source": [
    "atm3D = AtmAFGL('./tmp.dat', US=False,\n",
    "                    grid        = np.arange(Nopt),\n",
    "                    prof_ray    = sca_ray3D,\n",
    "                    prof_aer    = (sca_cld3D, ssa_cld3D),\n",
    "                    prof_phases = (ipha3D, [pha_cld]),\n",
    "                    cells       = (iopt, iabs, pmin, pmax, neigh)\n",
    "                   )\n",
    "pro3D  = atm3D.calc(wls)"
   ]
  },
  {
   "cell_type": "code",
   "execution_count": null,
   "metadata": {
    "ExecuteTime": {
     "end_time": "2020-01-10T08:21:28.346726Z",
     "start_time": "2020-01-10T08:21:28.213130Z"
    },
    "run_control": {
     "marked": false
    }
   },
   "outputs": [],
   "source": [
    "# Sun position\n",
    "SAA    = 180.\n",
    "SZA    = 25.\n",
    "# Sensors position\n",
    "Npix   = 100\n",
    "POSZ   = 5\n",
    "THDEG  = 180.\n",
    "PHDEG  = 180.\n",
    "# pixels centers on the ground\n",
    "x0     = np.linspace(-6.67/2., 6.67/2, num=Npix) # central domain (cumulus) boundaries\n",
    "y0     = np.linspace(-6.67/2., 6.67/2, num=Npix)\n",
    "#\n",
    "xx,yy  = np.meshgrid(x0, y0)\n",
    "zz     = np.zeros_like(xx) + POSZ"
   ]
  },
  {
   "cell_type": "code",
   "execution_count": null,
   "metadata": {
    "ExecuteTime": {
     "end_time": "2020-01-10T08:21:31.029179Z",
     "start_time": "2020-01-10T08:21:29.785251Z"
    },
    "run_control": {
     "marked": false
    }
   },
   "outputs": [],
   "source": [
    "%%time\n",
    "# cells indices\n",
    "icells = locate_3Dregular_cells(xgrid, ygrid,zgrid, xx.ravel(), yy.ravel(), zz.ravel())\n",
    "#icells_old = locate_3D_cells(pro3D_cld, xx.ravel(), yy.ravel(), zz.ravel())\n",
    "sensors=[]\n",
    "for POSX,POSY,ICELL in zip(xx.ravel(), yy.ravel(), icells):\n",
    "    sensors.append(Sensor(POSX=POSX, POSY=POSY, POSZ=POSZ, FOV=0., TYPE=0,\n",
    "                          THDEG=THDEG, PHDEG=PHDEG, LOC='ATMOS', ICELL=ICELL))\n",
    "\n",
    "S3D     = Smartg(opt3D=True, alt_pp=True, alis=False, back=True, verbose_photon=False ) # 3D\n",
    "S3DA    = Smartg(opt3D=True, alt_pp=True, alis=True, back=True) # 3D\n",
    "le      = {'th_deg':np.array([SZA]), 'phi_deg':np.array([SAA])}\n",
    "ALB     = Albedo_speclib('/rfs/data/speclib2.0/data/jhu.becknic.vegetation.grass.green.solid.gras.spectrum.txt')\n",
    "env     = Environment(ENV=1, ALB=ALB, ENV_SIZE=1e4, X0=1e4)\n",
    "#env     = None"
   ]
  },
  {
   "cell_type": "code",
   "execution_count": null,
   "metadata": {
    "ExecuteTime": {
     "end_time": "2020-01-10T08:22:46.208996Z",
     "start_time": "2020-01-10T08:21:34.705611Z"
    }
   },
   "outputs": [],
   "source": [
    "%%time\n",
    "NB     = len(sensors) * 1e3\n",
    "surf   = RoughSurface(WIND=5)\n",
    "#surf   = LambSurface(ALB=0.2)\n",
    "m3D    = S3D.run(wl=wls,  NBPHOTONS=NB, atm=pro3D, sensor=sensors, le=le, surf=surf, NBLOOP=1e5, env=env,\n",
    "               stdev=False, NF=1e4, SEED=-1)"
   ]
  },
  {
   "cell_type": "code",
   "execution_count": null,
   "metadata": {
    "ExecuteTime": {
     "end_time": "2020-01-10T08:22:47.780105Z",
     "start_time": "2020-01-10T08:22:46.218449Z"
    },
    "run_control": {
     "marked": false
    }
   },
   "outputs": [],
   "source": [
    "f=figure(figsize=(8,8))\n",
    "print(NB)\n",
    "imshow(m3D['I_up (TOA)'].sub()[:,0,0].data.reshape(Npix,Npix)[::-1,:],vmax=1, cmap=cm.RdBu_r)\n",
    "cbar = colorbar(shrink=0.8, orientation='vertical')\n",
    "cbar.ax.set_xlabel(mdesc('I_up (TOA)'))\n",
    "f.tight_layout()\n",
    "#f.savefig('/home/did/RTC/SMART-G/smartg/validation/IPRT/C3_case5_image.png', dpi=200)\n",
    "f=figure(figsize=(8,8))\n",
    "I=m3D['I_up (TOA)'].sub()[:,0,0].data.reshape(Npix,Npix)[::-1,:]\n",
    "Q=m3D['Q_up (TOA)'].sub()[:,0,0].data.reshape(Npix,Npix)[::-1,:]\n",
    "U=m3D['U_up (TOA)'].sub()[:,0,0].data.reshape(Npix,Npix)[::-1,:]\n",
    "V=m3D['V_up (TOA)'].sub()[:,0,0].data.reshape(Npix,Npix)[::-1,:]\n",
    "imshow(np.sqrt(Q*Q+U*U+V*V)/I*100,cmap=cm.RdBu_r)\n",
    "cbar = colorbar(shrink=0.8, orientation='vertical')\n",
    "cbar.ax.set_xlabel(mdesc('DoLP_up (TOA)'))\n",
    "f.tight_layout()"
   ]
  },
  {
   "cell_type": "code",
   "execution_count": null,
   "metadata": {
    "ExecuteTime": {
     "end_time": "2020-01-10T08:25:46.795264Z",
     "start_time": "2020-01-10T08:24:52.805767Z"
    },
    "scrolled": false
   },
   "outputs": [],
   "source": [
    "%%time\n",
    "II      = m3D['I_up (TOA)'].sub()[:,0,0].data\n",
    "shadows = np.where( II < 0.1)[0]\n",
    "clouds  = np.where( II > 0.6)[0]\n",
    "grounds = np.where( (II > 0.15) & (II < 0.3))[0]\n",
    "sensor_shad = sensors[shadows[10]]\n",
    "sensor_cld1 = sensors[clouds[10]]\n",
    "sensor_grd  = sensors[grounds[10]]\n",
    "# Spectra\n",
    "#zoom          = (686.25, 687.25)\n",
    "#zoom          = (691, 692)\n",
    "zoom          = (2004,2006)\n",
    "sigma         = aco2_int[:,1:]\n",
    "#sigma[:]=0\n",
    "NWS           = wls.size\n",
    "#sigma         = gas_abs[:,1:]\n",
    "le            = {'th_deg':np.array([SZA]), 'phi_deg':np.array([SAA])}\n",
    "ALB           = Albedo_speclib('/rfs/data/speclib2.0/data/jhu.becknic.vegetation.trees.deciduous.solid.decidou.spectrum.txt')\n",
    "fig,ax        = subplots(nrows=5, ncols=2) \n",
    "fig.set_size_inches(24,15)\n",
    "surf          = LambSurface(ALB=1.)\n",
    "surfref       = LambSurface(ALB=ALB.get(wls[0]))\n",
    "NL            = Nabs # number of abs properties\n",
    "NB            = 1e4\n",
    "\n",
    "#for i,sensor in enumerate([sensor_grd]):\n",
    "for i,sensor in enumerate([sensor_cld1, sensor_grd, sensor_shad]):\n",
    "    m       = S3DA.run(wl=wls,  NBPHOTONS=NB, atm=pro3D, sensor=sensor, le=le, surf=surf, NBLOOP=1e4,\n",
    "               stdev=False, NF=1e4, alis_options={'nlow':NWS, 'hist':True}).sub({'Azimuth angles':0, 'Zenith angles':0})\n",
    "    #mref    = S3D.run(wl=wls[0],  NBPHOTONS=NB*100, atm=pro3D0, sensor=sensor, le=le, surf=surfref, NBLOOP=1e5,\n",
    "    #           stdev=False, NF=1e4).sub({'Azimuth angles':0, 'Zenith angles':0})\n",
    "\n",
    "    w     = m['disth_up (TOA)'][:, NL+4:-3]\n",
    "    ngood = np.sum(w[:,0]!=0)\n",
    "\n",
    "    S       = np.zeros((ngood,4),dtype=np.float32) \n",
    "    cd      = m['disth_up (TOA)'][:ngood,     :NL  ]\n",
    "    S[:,:4] = m['disth_up (TOA)'][:ngood, NL  :NL+4]\n",
    "    w       = m['disth_up (TOA)'][:ngood, NL+4:-3  ]\n",
    "    nrrs    = m['disth_up (TOA)'][:ngood,      -3  ]\n",
    "    nref    = m['disth_up (TOA)'][:ngood,      -2  ]\n",
    "    nsif    = m['disth_up (TOA)'][:ngood,      -1  ]\n",
    "\n",
    "    XBLOCK  = 512\n",
    "    XGRID   = 512\n",
    "    NT      = XBLOCK*XGRID       # Maximum Number of threads\n",
    "    NPHOTON = cd.shape[0]        # Number of photons\n",
    "\n",
    "    NLAYER  = sigma.shape[1]     # Number of vertical layer\n",
    "    NWVL    = sigma.shape[0]     # Number of wavelength for absorption and output\n",
    "    NGROUP  = NT//NWVL           # Number of groups of photons\n",
    "    NTHREAD = NGROUP*NWVL        # Number of threads used\n",
    "    NBUNCH  = NPHOTON//NGROUP    # Number of photons per group\n",
    "    NP_REST = NPHOTON%(NGROUP*NBUNCH) # Number of additional photons in the last group\n",
    "    NWVL_LOW = NWS\n",
    "\n",
    "    print(NT, NTHREAD, NGROUP, NPHOTON, NLAYER, NWVL, NBUNCH, NP_REST, NWVL_LOW)\n",
    "    sigma_ab_in  = np.zeros((NLAYER, NWVL), order='C', dtype=np.float32)\n",
    "    sigma_ab_in[:,:]  = sigma.swapaxes(0,1)\n",
    "\n",
    "    alb_in       = ALB.get(wl).reshape(NWVL, order='C').astype(np.float32) \n",
    "\n",
    "    cd_in        = cd.reshape((NPHOTON, NLAYER), order='C').astype(np.float32)\n",
    "    S_in         = S.reshape((NPHOTON, 4),       order='C').astype(np.float32)\n",
    "    weight_in    = w.reshape((NPHOTON, NWVL_LOW),order='C').astype(np.float32)\n",
    "    nrrs_in      = nrrs.reshape(NPHOTON,order='C').astype(np.int8)\n",
    "    nsif_in      = nsif.reshape(NPHOTON,order='C').astype(np.int8)\n",
    "    nref_in      = nref.reshape(NPHOTON,order='C').astype(np.int8)\n",
    "\n",
    "    res_out      = gpuzeros((4, NWVL),   dtype=np.float64)\n",
    "    res_sca      = gpuzeros((4, NWVL),   dtype=np.float64)\n",
    "    res_rrs      = gpuzeros((4, NWVL),   dtype=np.float64)\n",
    "    res_sif      = gpuzeros((4, NWVL),   dtype=np.float64)\n",
    "    reduce_absorption_gpu(np.int64(NPHOTON), np.int64(NLAYER), np.int64(NWVL), np.int64(NTHREAD), np.int64(NGROUP), np.int64(NBUNCH), \n",
    "                          np.int64(NP_REST), np.int64(NWVL_LOW), res_out, res_sca, res_rrs, res_sif, \n",
    "                          to_gpu(sigma_ab_in), to_gpu(alb_in), to_gpu(cd_in), to_gpu(S_in), to_gpu(weight_in), to_gpu(nrrs_in), \n",
    "                          to_gpu(nref_in), to_gpu(nsif_in), to_gpu(iwls_in), to_gpu(wwls_in), \n",
    "                          block=(XBLOCK,1,1),grid=(XGRID,1,1))\n",
    "    I1      = res_out.get()/m[0][0,0]\n",
    "    #norm1   = I1[0,0]/mref['I_up (TOA)'].data\n",
    "    P_Raman = res_rrs.get()[0,:]/res_out.get()[0,:]\n",
    "    #print(norm1)\n",
    "    norm1 = 1\n",
    "    I1_LUT = LUT(I1[0,:]/norm1, axes=[wl], names=['wavelength'], desc=mdesc('I_up (TOA)'))\n",
    "    Q1_LUT = LUT(I1[1,:]/norm1, axes=[wl], names=['wavelength'], desc=mdesc('Q_up (TOA)'))\n",
    "    U1_LUT = LUT(I1[1,:]/norm1, axes=[wl], names=['wavelength'], desc=mdesc('U_up (TOA)'))\n",
    "    DoLP_LUT = ((Q1_LUT*Q1_LUT + U1_LUT*U1_LUT).apply(np.sqrt)/I1_LUT)*100\n",
    "    DoLP_LUT.desc='DoLP (%)'\n",
    "    P_Raman_LUT = LUT(P_Raman, axes=[wl], names=['wavelength'], desc=r'$P_{Raman}$')\n",
    "    Rel     = Es * I1_LUT[Idx(wl,fill_value='extrema')]\n",
    "    Rel_llp = Es_RRS * I1_LUT[Idx(wl_RRS,fill_value='extrema')]\n",
    "    R_RRS   = np.sum(Rel_llp * LRRS, axis=1) * P_Raman_LUT[Idx(wl, fill_value='extrema')]\n",
    "    Rel_out = Rel * P_Raman_LUT[Idx(wl, fill_value='extrema')]\n",
    "    R_tot   = R_RRS + Rel - Rel_out\n",
    "    \n",
    "    sca(ax[0,0])\n",
    "    I1_LUT.plot(label='%d'%i)\n",
    "    ylim(0,0.8)\n",
    "    sca(ax[0,1])\n",
    "    I1_LUT.plot(label='%d'%i)\n",
    "    xlim(zoom)\n",
    "    ylim(0,0.8)\n",
    "    \n",
    "    sca(ax[1,0])\n",
    "    ff = R_tot\n",
    "    plot(wl, ff ,'-')\n",
    "    xlabel('wavelength (nm)')\n",
    "    ylabel(mdesc('I_up (TOA, tot)')+ r'$ (ph/s/cm^2/nm)$')\n",
    "    grid(True)\n",
    "    sca(ax[1,1])\n",
    "    ff = R_tot\n",
    "    plot(wl, ff ,'-')\n",
    "    xlim(zoom)\n",
    "    xlabel('wavelength (nm)')\n",
    "    grid(True)\n",
    "    \n",
    "    sca(ax[2,0])\n",
    "    ff = R_RRS\n",
    "    plot(wl, ff ,'-')\n",
    "    xlabel('wavelength (nm)')\n",
    "    ylabel(mdesc('I_up (TOA, RRS in)')+ r'$ (ph/s/cm^2/nm)$')\n",
    "    grid(True)\n",
    "    sca(ax[2,1])\n",
    "    ff = R_RRS\n",
    "    plot(wl, ff ,'-')\n",
    "    xlabel('wavelength (nm)')\n",
    "    xlim(zoom)\n",
    "    grid(True)\n",
    "\n",
    "    sca(ax[3,0])\n",
    "    ff = R_tot/Rel\n",
    "    plot(wl, ff)\n",
    "    xlabel('wavelength (nm)')\n",
    "    ylabel('$Ring spectrum (Tot/Elastic)$')\n",
    "    ylim(0.98,1.05)\n",
    "    grid(True)\n",
    "    sca(ax[3,1])\n",
    "    ff = R_tot/Rel\n",
    "    if i==0 : plot(wl, ff, '+-')\n",
    "    else : plot(wl, ff)\n",
    "    xlabel('wavelength (nm)')\n",
    "    ylim(0.98,1.05)\n",
    "    grid(True)\n",
    "    xlim(zoom)\n",
    "    \n",
    "    sca(ax[4,0])\n",
    "    DoLP_LUT.plot(label='%d'%i)\n",
    "    ylim(0,40)\n",
    "    sca(ax[4,1])\n",
    "    DoLP_LUT.plot(label='%d'%i)\n",
    "    xlim(zoom)\n",
    "    ylim(0,40)\n",
    "legend()"
   ]
  },
  {
   "cell_type": "code",
   "execution_count": null,
   "metadata": {
    "ExecuteTime": {
     "end_time": "2020-01-10T08:27:13.209324Z",
     "start_time": "2020-01-10T08:27:11.205254Z"
    }
   },
   "outputs": [],
   "source": [
    "w     = m['disth_up (TOA)'][:, NL+4:-3]\n",
    "plot(w[:ngood,0])\n",
    "print(w[:ngood,0].mean())\n",
    "figure()\n",
    "plot(w[:ngood,1])\n",
    "print(w[:ngood,1].mean())\n",
    "figure()\n",
    "plot(w[:ngood,2])\n",
    "print(w[:ngood,2].mean())"
   ]
  },
  {
   "cell_type": "code",
   "execution_count": null,
   "metadata": {
    "ExecuteTime": {
     "end_time": "2020-01-10T08:27:37.124379Z",
     "start_time": "2020-01-10T08:27:36.548805Z"
    }
   },
   "outputs": [],
   "source": [
    "imshow(m3D['I_up (TOA)'][:,0:3,0,0].reshape(100,100,3))"
   ]
  },
  {
   "cell_type": "markdown",
   "metadata": {},
   "source": [
    "# Trattoria 2020"
   ]
  },
  {
   "cell_type": "code",
   "execution_count": null,
   "metadata": {
    "ExecuteTime": {
     "end_time": "2020-03-09T20:12:05.741969Z",
     "start_time": "2020-03-09T20:11:35.864621Z"
    }
   },
   "outputs": [],
   "source": [
    "S3D    = Smartg(opt3D=True, alt_pp=True, alis=False, back=True) # 3D\n",
    "S3DA   = Smartg(opt3D=True, alt_pp=True, alis=True,  back=True) # 3D"
   ]
  },
  {
   "cell_type": "code",
   "execution_count": null,
   "metadata": {
    "ExecuteTime": {
     "end_time": "2020-03-09T20:14:07.729760Z",
     "start_time": "2020-03-09T20:13:57.687896Z"
    }
   },
   "outputs": [],
   "source": [
    "cloud_LUT = read_mlut('/home/did/RTC/SMART-G/smartg/data/opt_liquid_cloud.nc')"
   ]
  },
  {
   "cell_type": "code",
   "execution_count": null,
   "metadata": {
    "ExecuteTime": {
     "end_time": "2020-03-09T20:14:08.899167Z",
     "start_time": "2020-03-09T20:14:07.733237Z"
    },
    "run_control": {
     "marked": false
    }
   },
   "outputs": [],
   "source": [
    "#Solar Spectrum raw data\n",
    "#datas = np.loadtxt('/home/applis/libRadtran/libRadtran-2.0.2/data/solar_flux/kurudz_full.dat')\n",
    "datas = np.loadtxt('/home/applis/libRadtran/libRadtran-2.0.2/data/solar_flux/kurudz_0.1nm.dat')"
   ]
  },
  {
   "cell_type": "markdown",
   "metadata": {},
   "source": [
    "## 3D Grid & Scene"
   ]
  },
  {
   "cell_type": "code",
   "execution_count": null,
   "metadata": {
    "ExecuteTime": {
     "end_time": "2020-03-09T20:14:11.619625Z",
     "start_time": "2020-03-09T20:14:11.164802Z"
    }
   },
   "outputs": [],
   "source": [
    "# C3 IPRT Cumulus data\n",
    "cumulus_f='/home/did/RTC/SMART-G/smartg/validation/IPRT/cumulus.dat'\n",
    "f       = open(cumulus_f, 'r')\n",
    "f.readline(); \n",
    "l       = f.readline().split()\n",
    "Nx, Ny, Nz, _ = list(map(int, l)) # number of cumulus cells in X, Y, X\n",
    "Nl      = Nz + 1                  # number of levels in Z\n",
    "l       = f.readline()\n",
    "g_info  = list(map(float, l.split()))\n",
    "Dx, Dy  = g_info[0:2]            # horizontal grid interval in km\n",
    "#Dx*=10. ; Dy*=10.\n",
    "zgrid   = np.array(g_info[2:])     # vertical grid in km\n",
    "assert Nl==zgrid.size\n",
    "\n",
    "zgrid = np.concatenate([zgrid, np.array([120.])])\n",
    "(idx,idy,idz), (NX,NY,NZ), (xgrid, ygrid, zgrid), neigh, pmin, pmax = \\\n",
    "    Get_3Dcells(Nx=Nx, Ny=Ny, Dx=Dx, Dy=Dy, z=zgrid, SAT_ALTITUDE=120, periodic=False, HORIZ_EXTENT_LENGTH=1e5)\n",
    "Ncell   = NX*NY*NZ\n",
    "znew  = zgrid[::-1]"
   ]
  },
  {
   "cell_type": "code",
   "execution_count": null,
   "metadata": {
    "ExecuteTime": {
     "end_time": "2020-03-09T20:14:43.353341Z",
     "start_time": "2020-03-09T20:14:43.005751Z"
    },
    "run_control": {
     "marked": false
    }
   },
   "outputs": [],
   "source": [
    "# Sun position\n",
    "SAA    = 180.\n",
    "SZA    = 40.\n",
    "le     = {'th_deg':np.array([SZA]), 'phi_deg':np.array([SAA])}\n",
    "# Sensors position\n",
    "Npix   = 100\n",
    "POSZ   = 30.\n",
    "THDEG  = 180.\n",
    "PHDEG  = 180.\n",
    "# pixels centers on the ground\n",
    "x0     = np.linspace(-Nx*Dx/2., Nx*Dx/2, num=Npix) # central domain (cumulus) boundaries\n",
    "y0     = np.linspace(-Ny*Dy/2., Ny*Dy/2, num=Npix)\n",
    "#x0     = np.linspace(-6.67/2., 6.67/2, num=Npix) # central domain (cumulus) boundaries\n",
    "#y0     = np.linspace(-6.67/2., 6.67/2, num=Npix)\n",
    "#\n",
    "xx,yy  = np.meshgrid(x0, y0)\n",
    "zz     = np.zeros_like(xx) + POSZ\n",
    "\n",
    "# cells indices\n",
    "icells = locate_3Dregular_cells(xgrid, ygrid,zgrid, xx.ravel(), yy.ravel(), zz.ravel())\n",
    "# sensors objects\n",
    "sensors=[]\n",
    "for POSX,POSY,ICELL in zip(xx.ravel(), yy.ravel(), icells):\n",
    "    sensors.append(Sensor(POSX=POSX, POSY=POSY, POSZ=POSZ, FOV=0., TYPE=0,\n",
    "                          THDEG=THDEG, PHDEG=PHDEG, LOC='ATMOS', ICELL=ICELL))\n",
    "\n",
    "# Ground\n",
    "ALB     = Albedo_speclib('/rfs/data/speclib2.0/data/jhu.becknic.vegetation.grass.green.solid.gras.spectrum.txt')\n",
    "env     = Environment(ENV=1, ALB=ALB, ENV_SIZE=10, X0=1e1)\n",
    "env     = None\n",
    "surf    = RoughSurface(WIND=5)\n",
    "surf    = LambSurface(ALB=Albedo_cst(ALB.get(wls[0])))"
   ]
  },
  {
   "cell_type": "markdown",
   "metadata": {},
   "source": [
    "## Spectral range & gas absorption"
   ]
  },
  {
   "cell_type": "code",
   "execution_count": null,
   "metadata": {
    "ExecuteTime": {
     "end_time": "2020-03-09T20:14:37.691582Z",
     "start_time": "2020-03-09T20:14:31.429835Z"
    }
   },
   "outputs": [],
   "source": [
    "%%time\n",
    "pstd = np.array([1000,950,900,850,800,700,600,500,400,300,\\\n",
    "            200,125,50,10,3,1], dtype=np.float32)\n",
    "zstd = ( -np.log(pstd/pstd[0])*8)[::-1]\n",
    "\n",
    "wl, wls, wl_RRS, Es_LUT, iwls_in, wwls_in = spectral_grids(758., 770.,   datas, dl=0.002, dls=10.)\n",
    "o2_int  = get_o2_abs (zstd, wl, DOWNLOAD=False, verbose=False, zint=znew)\n",
    "abs_int = o2_int\n",
    "\n",
    "#wl, wls, wl_RRS, Es_LUT, iwls_in, wwls_in = spectral_grids(1990., 2050., datas, dl=0.002, dls=10.)\n",
    "#co2_int = get_co2_abs(zstd, wl, DOWNLOAD=False, verbose=True, zint=znew)\n",
    "#abs_int = co2_int\n",
    "\n",
    "#wl, wls, wl_RRS, Es_LUT, iwls_in, wwls_in = spectral_grids(310., 320., datas, dl=0.01, dls=5.)\n",
    "#no2_int = od2k(AtmAFGL('afglt', O3=0., NO2=True, grid=znew).calc(wl), 'OD_g')\n",
    "#abs_int = no2_int\n",
    "\n",
    "#wl, wls, wl_RRS, Es_LUT, iwls_in, wwls_in = spectral_grids(530., 550., datas, dl=0.002, dls=5.)\n",
    "#o3_int = od2k(AtmAFGL('afglt', O3=300., NO2=True, grid=znew).calc(wl), 'OD_g')\n",
    "#abs_int = o3_int\n",
    "\n",
    "# Solar spectrum\n",
    "Es = Es_LUT[Idx(wl)]\n",
    "Es_RRS = Es_LUT[Idx(wl_RRS, fill_value='extrema')]\n",
    "# Ring nromalized spectrum (Wagner et al., 2009, AMT)\n",
    "_, LRRS = L2d_inv(wl, 90., 243.)\n",
    "f_RRS_norm  = np.sum(Es_RRS * LRRS , axis=1) / Es - 1."
   ]
  },
  {
   "cell_type": "markdown",
   "metadata": {},
   "source": [
    "## Scattering optical properties"
   ]
  },
  {
   "cell_type": "code",
   "execution_count": null,
   "metadata": {
    "ExecuteTime": {
     "end_time": "2020-03-09T20:14:53.278445Z",
     "start_time": "2020-03-09T20:14:50.550037Z"
    }
   },
   "outputs": [],
   "source": [
    "wl_ref  = (wls[0]+wls[-1])/2.\n",
    "# cloud\n",
    "reff = 5.  # mic.\n",
    "cumulus     = np.loadtxt(cumulus_f, skiprows=3, dtype=np.float32)\n",
    "sca_cld_in  = cumulus[:,3]            # km-1\n",
    "cloud_sub   = cloud_LUT.sub({'effective_radius':Idx(reff),'effective_variance':0})\n",
    "eps_cld     = cloud_sub['normed_ext_coeff' ][Idx(wls, fill_value='extrema')]/\\\n",
    "              cloud_sub['normed_ext_coeff' ][Idx(wl_ref, fill_value='extrema')]\n",
    "sca_cld     = sca_cld_in[None, :] * eps_cld[:, None]\n",
    "\n",
    "cloud_sub   = cloud_LUT.sub({'effective_radius':Idx(reff),'effective_variance':0, \n",
    "                             'wavelength':Idx(wl_ref*1e-3)})\n",
    "pha         = np.stack([(cloud_sub['p11_phase_function']+cloud_sub['p21_phase_function'])[::-1],\n",
    "                (cloud_sub['p11_phase_function']-cloud_sub['p21_phase_function'])[::-1],\n",
    "                 cloud_sub['p34_phase_function'][::-1],\n",
    "                 cloud_sub['p44_phase_function'][::-1]])\n",
    "#pha_cld     = LUT(pha, axes=[None, cloud_sub.axis('phase_angles')[::-1]], names=['stk', 'theta_atm'])\n",
    "#alternative reff = 2 micron phase function\n",
    "cld = CloudOPAC('wc.sol', 2., 2, 3., 1., wl_ref)\n",
    "pha_cld = AtmAFGL('afglt', comp=[cld]).calc(wl_ref)['phase_atm'].sub()[0,:,:]\n",
    "\n",
    "#Rayleigh\n",
    "sca_ray     = od2k(AtmAFGL('afglt', O3=0., NO2=True, grid=znew).calc(wls), 'OD_r')\n",
    "\n",
    "# indexing of C3 cells into SMART-G grid\n",
    "cloud_geo   = cumulus[:,:3].astype(int32)-1\n",
    "cloud_cell  = np.ravel_multi_index((cloud_geo[:,0], cloud_geo[:,1], cloud_geo[:,2]),\n",
    "                    dims=(NX, NY, NZ))\n",
    "\n",
    "# Concatenation\n",
    "sca_cld3D   = np.concatenate([np.zeros_like(sca_ray), sca_cld], axis=1)\n",
    "sca_ray3D   = np.concatenate([sca_ray, sca_ray[:,NZ-idz[cloud_cell]]], axis=1)\n",
    "#sca_ray3D2   = np.concatenate([sca_ray2, sca_ray2[:,NZ-idz[cloud_cell]]], axis=1)\n",
    "ssa_cld3D   = np.ones_like(sca_cld3D)\n",
    "ipha3D      = np.zeros_like(sca_cld3D, dtype=int32)\n",
    "\n",
    "## Mapping optical propoerties and cells\n",
    "# 1 clear profile + number of cloud cells opt. prop. (here 1 per cell)\n",
    "Nopt        = NZ + 1 + cloud_cell.size\n",
    "iopt        = np.zeros(Ncell, dtype=int32)\n",
    "iabs        = np.zeros_like(iopt)\n",
    "iopt[:]     = np.arange(Nopt)[NZ-idz] # Scattering depending on Z for clear atmosphere (Rayleigh)\n",
    "iabs[:]     = np.arange(Nopt)[NZ-idz] # Absorption depending on Z only\n",
    "iopt[cloud_cell] = NZ + 1 + np.arange(cloud_cell.size)  # Scattering depending on cloud cell\n",
    "\n",
    "atm_arr = np.zeros((Nopt,9))\n",
    "atm_arr[:,0] = np.arange(Nopt)[::-1]\n",
    "np.savetxt('./tmp.dat', atm_arr)\n",
    "Nabs        = iabs.max().astype(np.int32)\n",
    "\n",
    "### profiles computations\n",
    "atm3D = AtmAFGL('./tmp.dat', US=False,\n",
    "                    grid        = np.arange(Nopt),\n",
    "                    prof_ray    = sca_ray3D,\n",
    "                    prof_aer    = (sca_cld3D, ssa_cld3D),\n",
    "                    prof_phases = (ipha3D, [pha_cld]),\n",
    "                    cells       = (iopt, iabs, pmin, pmax, neigh)\n",
    "                   )\n",
    "pro3D  = atm3D.calc(wls)"
   ]
  },
  {
   "cell_type": "markdown",
   "metadata": {},
   "source": [
    "## Image"
   ]
  },
  {
   "cell_type": "code",
   "execution_count": null,
   "metadata": {
    "ExecuteTime": {
     "end_time": "2020-03-09T20:15:49.260253Z",
     "start_time": "2020-03-09T20:15:16.364916Z"
    }
   },
   "outputs": [],
   "source": [
    "%%time\n",
    "NB     = len(sensors) * 1e3\n",
    "m3D    = S3D.run(wl=wls[0:2], NBPHOTONS=NB, NBLOOP=1e5, atm=pro3D.sub({'wavelength':np.arange(2)}), \n",
    "                 sensor=sensors, le=le, surf=surf, env=env, NF=1e4)"
   ]
  },
  {
   "cell_type": "code",
   "execution_count": null,
   "metadata": {
    "ExecuteTime": {
     "end_time": "2020-03-09T20:15:50.662931Z",
     "start_time": "2020-03-09T20:15:50.004110Z"
    },
    "run_control": {
     "marked": false
    }
   },
   "outputs": [],
   "source": [
    "rcParams.update({'font.size':18})\n",
    "f,ax = subplots(1,1)\n",
    "f.set_size_inches(8,8)\n",
    "II   = m3D['I_up (TOA)'][:,0,0,0].reshape(Npix,Npix)\n",
    "img  = ax.imshow(II[-1:1:-1,1:-1:1], vmax=1, cmap=cm.Blues_r,\n",
    "       extent=[x0.min(),x0.max(),y0.min(),y0.max()])\n",
    "ax.set_xlabel('X (km)')\n",
    "ax.set_ylabel('Y (km)')\n",
    "cbar = f.colorbar(img, shrink=0.7, orientation='vertical')\n",
    "cbar.ax.set_xlabel(mdesc('I_up (TOA)'))\n",
    "\n",
    "## POI\n",
    "shadows = np.where( (II.ravel() > 0.005) & (II.ravel() < 0.015))[0]\n",
    "clouds  = np.where( II.ravel() > 0.8)[0]\n",
    "#waters  = np.where( (II.ravel() > 0.02) & (II.ravel() < 0.03))[0]\n",
    "lands   = np.where( (II.ravel() > 0.07) & (II.ravel() < 0.15))[0]\n",
    "#sensor_shad = sensors[shadows[0]]\n",
    "#sensor_shad = sensors[shadows[100]]\n",
    "sensor_cld1 = sensors[clouds[20]]\n",
    "sensor_land = sensors[lands[150]]\n",
    "#sensor_wate = sensors[waters[200]]\n",
    "#ax.scatter(sensor_wate.dict['POSY'], sensor_wate.dict['POSX'], color='c', marker='*')\n",
    "ax.scatter(sensor_cld1.dict['POSX'], sensor_cld1.dict['POSY'], color='r', marker='*')\n",
    "ax.scatter(sensor_land.dict['POSX'], sensor_land.dict['POSY'], color='k', marker='*')\n",
    "#ax.scatter(sensor_shad.dict['POSX'], sensor_shad.dict['POSY'], color='g', marker='*')\n",
    "f.tight_layout()\n",
    "#f.savefig('/home/did/RTC/SMART-G/smartg/validation/IPRT/C3_case5_image_Trattoria_O2B.png', dpi=200)\n",
    "#f.savefig('/home/documents/CNES/Trattoria_2020/C3_case5_image_Trattoria_O2B.png', dpi=300)\n",
    "#f.savefig('/home/documents/Copernicus/CERTO/KO_3D.png', dpi=300)"
   ]
  },
  {
   "cell_type": "markdown",
   "metadata": {},
   "source": [
    "## Spectra"
   ]
  },
  {
   "cell_type": "code",
   "execution_count": null,
   "metadata": {
    "ExecuteTime": {
     "end_time": "2020-03-09T20:18:44.199095Z",
     "start_time": "2020-03-09T20:18:31.654497Z"
    },
    "scrolled": false
   },
   "outputs": [],
   "source": [
    "%%time\n",
    "rcParams.update({'font.size':14})\n",
    "color         = ['r','k','g']\n",
    "lab           = ['cloud','land','shadow']\n",
    "#zoom          = (686.25, 687.25)\n",
    "#zoom          = (691, 692)\n",
    "#zoom          = (2004,2006)\n",
    "zoom          = (546,547)\n",
    "sigma         = abs_int[:,1:]\n",
    "NWS           = wls.size\n",
    "fig,ax        = subplots(nrows=4, ncols=2) \n",
    "fig.set_size_inches(24,15)\n",
    "surf          = LambSurface(ALB=Albedo_cst(1))\n",
    "surfref       = LambSurface(ALB=Albedo_cst(ALB.get(wls[0])))\n",
    "NL            = Nabs # number of abs properties\n",
    "NB            = 1e5\n",
    "\n",
    "for i,sensor in enumerate([sensor_land]):\n",
    "#for i,sensor in enumerate([sensor_cld1, sensor_land, sensor_shad]):\n",
    "    m       = S3DA.run(wl=wls,  NBPHOTONS=NB, NBLOOP=1e4, atm=pro3D, sensor=sensor, le=le, surf=surf,\n",
    "               NF=1e4, alis_options={'nlow':NWS, 'hist':True}).sub({'Azimuth angles':0, 'Zenith angles':0})\n",
    "    mref    = S3D.run(wl=wls[0:2],  NBPHOTONS=NB*10, atm=pro3D.sub({'wavelength':np.arange(2)}), sensor=sensor, \n",
    "                le=le, surf=surfref, NBLOOP=1e5, NF=1e4).sub({'Azimuth angles':0, 'Zenith angles':0})\n",
    "\n",
    "    w     = m['disth_up (TOA)'][:, NL+4:-3]\n",
    "    ngood = np.sum(w[:,0]!=0)\n",
    "\n",
    "    S       = np.zeros((ngood,4),dtype=np.float32) \n",
    "    cd      = m['disth_up (TOA)'][:ngood,     :NL  ]\n",
    "    S[:,:4] = m['disth_up (TOA)'][:ngood, NL  :NL+4]\n",
    "    w       = m['disth_up (TOA)'][:ngood, NL+4:-3  ]\n",
    "    nrrs    = m['disth_up (TOA)'][:ngood,      -3  ]\n",
    "    nref    = m['disth_up (TOA)'][:ngood,      -2  ]\n",
    "    nsif    = m['disth_up (TOA)'][:ngood,      -1  ]\n",
    "\n",
    "    XBLOCK  = 512\n",
    "    XGRID   = 512\n",
    "    NT      = XBLOCK*XGRID       # Maximum Number of threads\n",
    "    NPHOTON = cd.shape[0]        # Number of photons\n",
    "\n",
    "    NLAYER  = sigma.shape[1]     # Number of vertical layer\n",
    "    NWVL    = sigma.shape[0]     # Number of wavelength for absorption and output\n",
    "    NGROUP  = NT//NWVL           # Number of groups of photons\n",
    "    NTHREAD = NGROUP*NWVL        # Number of threads used\n",
    "    NBUNCH  = NPHOTON//NGROUP    # Number of photons per group\n",
    "    NP_REST = NPHOTON%(NGROUP*NBUNCH) # Number of additional photons in the last group\n",
    "    NWVL_LOW = NWS\n",
    "\n",
    "    print(NT, NTHREAD, NGROUP, NPHOTON, NLAYER, NWVL, NBUNCH, NP_REST, NWVL_LOW)\n",
    "    sigma_ab_in  = np.zeros((NLAYER, NWVL), order='C', dtype=np.float32)\n",
    "    sigma_ab_in[:,:]  = sigma.swapaxes(0,1)\n",
    "\n",
    "    alb_in       = ALB.get(wl).reshape(NWVL, order='C').astype(np.float32) \n",
    "\n",
    "    cd_in        = cd.reshape((NPHOTON, NLAYER), order='C').astype(np.float32)\n",
    "    S_in         = S.reshape((NPHOTON, 4),       order='C').astype(np.float32)\n",
    "    weight_in    = w.reshape((NPHOTON, NWVL_LOW),order='C').astype(np.float32)\n",
    "    nrrs_in      = nrrs.reshape(NPHOTON,order='C').astype(np.int8)\n",
    "    nsif_in      = nsif.reshape(NPHOTON,order='C').astype(np.int8)\n",
    "    nref_in      = nref.reshape(NPHOTON,order='C').astype(np.int8)\n",
    "\n",
    "    res_out      = gpuzeros((4, NWVL),   dtype=np.float64)\n",
    "    res_sca      = gpuzeros((4, NWVL),   dtype=np.float64)\n",
    "    res_rrs      = gpuzeros((4, NWVL),   dtype=np.float64)\n",
    "    res_sif      = gpuzeros((4, NWVL),   dtype=np.float64)\n",
    "    reduce_absorption_gpu(np.int64(NPHOTON), np.int64(NLAYER), np.int64(NWVL), np.int64(NTHREAD), np.int64(NGROUP), np.int64(NBUNCH), \n",
    "                          np.int64(NP_REST), np.int64(NWVL_LOW), res_out, res_sca, res_rrs, res_sif, \n",
    "                          to_gpu(sigma_ab_in), to_gpu(alb_in), to_gpu(cd_in), to_gpu(S_in), to_gpu(weight_in), to_gpu(nrrs_in), \n",
    "                          to_gpu(nref_in), to_gpu(nsif_in), to_gpu(iwls_in), to_gpu(wwls_in), \n",
    "                          block=(XBLOCK,1,1),grid=(XGRID,1,1))\n",
    "    I1      = res_out.get()/m[0][0,0]\n",
    "    norm1   = I1[0,0]/mref['I_up (TOA)'][0]\n",
    "    P_Raman = res_rrs.get()[0,:]/res_out.get()[0,:]\n",
    "    print(norm1)\n",
    "    #norm1 = 1\n",
    "    I1_LUT = LUT(I1[0,:]/norm1, axes=[wl], names=['wavelength'], desc=mdesc('I_up (TOA)'))\n",
    "    Q1_LUT = LUT(I1[1,:]/norm1, axes=[wl], names=['wavelength'], desc=mdesc('Q_up (TOA)'))\n",
    "    U1_LUT = LUT(I1[1,:]/norm1, axes=[wl], names=['wavelength'], desc=mdesc('U_up (TOA)'))\n",
    "    DoLP_LUT = ((Q1_LUT*Q1_LUT + U1_LUT*U1_LUT).apply(np.sqrt)/I1_LUT)*100\n",
    "    DoLP_LUT.desc='DoLP (%)'\n",
    "    P_Raman_LUT = LUT(P_Raman, axes=[wl], names=['wavelength'], desc=r'$P_{Raman}$')\n",
    "    Rel     = Es * I1_LUT[Idx(wl,fill_value='extrema')]\n",
    "    Rel_llp = Es_RRS * I1_LUT[Idx(wl_RRS,fill_value='extrema')]\n",
    "    R_RRS   = np.sum(Rel_llp * LRRS, axis=1) * P_Raman_LUT[Idx(wl, fill_value='extrema')]\n",
    "    Rel_out = Rel * P_Raman_LUT[Idx(wl, fill_value='extrema')]\n",
    "    R_tot   = R_RRS + Rel - Rel_out\n",
    "    \n",
    "    sca(ax[0,0])\n",
    "    I1_LUT.plot(label=lab[i], fmt=color[i])\n",
    "    ylim(0,0.8)\n",
    "    sca(ax[0,1])\n",
    "    I1_LUT.plot(label=lab[i], fmt=color[i])\n",
    "    xlim(zoom)\n",
    "    ylim(0,0.8)\n",
    "    legend()\n",
    "    \n",
    "    sca(ax[1,0])\n",
    "    ff = R_tot\n",
    "    plot(wl, ff ,'-'+color[i])\n",
    "    xlabel('wavelength (nm)')\n",
    "    ylabel(mdesc('I_up (TOA, tot)')+ r'$ (ph/s/cm^2/nm)$')\n",
    "    grid(True)\n",
    "    sca(ax[1,1])\n",
    "    ff = R_tot\n",
    "    if i==0 : plot(wl, ff, '+-'+color[i])\n",
    "    else : plot(wl, ff, color[i])\n",
    "    xlim(zoom)\n",
    "    xlabel('wavelength (nm)')\n",
    "    grid(True)\n",
    "    \n",
    "    '''sca(ax[2,0])\n",
    "    ff = R_RRS\n",
    "    plot(wl, ff ,'-')\n",
    "    xlabel('wavelength (nm)')\n",
    "    ylabel(mdesc('I_up (TOA, RRS in)')+ r'$ (ph/s/cm^2/nm)$')\n",
    "    grid(True)\n",
    "    sca(ax[2,1])\n",
    "    ff = R_RRS\n",
    "    plot(wl, ff ,'-')\n",
    "    xlabel('wavelength (nm)')\n",
    "    xlim(zoom)\n",
    "    grid(True)'''\n",
    "\n",
    "    sca(ax[2,0])\n",
    "    ff = R_tot/Rel\n",
    "    plot(wl, ff, '-'+color[i])\n",
    "    xlabel('wavelength (nm)')\n",
    "    ylabel('$Ring spectrum (Tot/Elastic)$')\n",
    "    ylim(0.98,1.05)\n",
    "    grid(True)\n",
    "    sca(ax[2,1])\n",
    "    ff = R_tot/Rel\n",
    "    plot(wl, ff ,'-'+color[i])\n",
    "    xlabel('wavelength (nm)')\n",
    "    ylim(0.98,1.05)\n",
    "    grid(True)\n",
    "    xlim(zoom)\n",
    "    \n",
    "    sca(ax[3,0])\n",
    "    DoLP_LUT.plot(fmt=color[i])\n",
    "    ylim(0,20)\n",
    "    sca(ax[3,1])\n",
    "    DoLP_LUT.plot(fmt=color[i])\n",
    "    xlim(zoom)\n",
    "    ylim(0,20)\n"
   ]
  },
  {
   "cell_type": "markdown",
   "metadata": {},
   "source": [
    "# Validation"
   ]
  },
  {
   "cell_type": "markdown",
   "metadata": {},
   "source": [
    "## 1D RRS vs McArtim"
   ]
  },
  {
   "cell_type": "code",
   "execution_count": null,
   "metadata": {
    "ExecuteTime": {
     "end_time": "2020-03-09T16:59:57.970761Z",
     "start_time": "2020-03-09T16:59:56.673703Z"
    }
   },
   "outputs": [],
   "source": [
    "from scipy.signal import gaussian\n",
    "from scipy.integrate import simps\n",
    "\n",
    "def myconvolve(x, N=250):\n",
    "    srf = gaussian(6*N, N*1.)\n",
    "    srf/= simps(srf)\n",
    "    return convolve(x, srf, mode='same')\n",
    "\n",
    "def reduce_histories(m, wls, wl, sigma):\n",
    "    \n",
    "    NWS           = wls.size\n",
    "    NL            = sigma.shape[1]\n",
    "    w     = m['disth_up (TOA)'][:, NL+4:-3]\n",
    "    ngood = np.sum(w[:,0]!=0)\n",
    "\n",
    "    S       = np.zeros((ngood,4),dtype=np.float32) \n",
    "    cd      = m['disth_up (TOA)'][:ngood,     :NL  ]\n",
    "    S[:,:4] = m['disth_up (TOA)'][:ngood, NL  :NL+4]\n",
    "    w       = m['disth_up (TOA)'][:ngood, NL+4:-3  ]\n",
    "    nrrs    = m['disth_up (TOA)'][:ngood,      -3  ]\n",
    "    nref    = m['disth_up (TOA)'][:ngood,      -2  ]\n",
    "    nsif    = m['disth_up (TOA)'][:ngood,      -1  ]\n",
    "\n",
    "    XBLOCK  = 512\n",
    "    XGRID   = 512\n",
    "    NT      = XBLOCK*XGRID       # Maximum Number of threads\n",
    "    NPHOTON = cd.shape[0]        # Number of photons\n",
    "\n",
    "    NLAYER  = sigma.shape[1]     # Number of vertical layer\n",
    "    NWVL    = sigma.shape[0]     # Number of wavelength for absorption and output\n",
    "    NGROUP  = NT//NWVL           # Number of groups of photons\n",
    "    NTHREAD = NGROUP*NWVL        # Number of threads used\n",
    "    NBUNCH  = NPHOTON//NGROUP    # Number of photons per group\n",
    "    NP_REST = NPHOTON%(NGROUP*NBUNCH) # Number of additional photons in the last group\n",
    "    NWVL_LOW = NWS\n",
    "\n",
    "    print(NT, NTHREAD, NGROUP, NPHOTON, NLAYER, NWVL, NBUNCH, NP_REST, NWVL_LOW)\n",
    "    sigma_ab_in  = np.zeros((NLAYER, NWVL), order='C', dtype=np.float32)\n",
    "    sigma_ab_in[:,:]  = sigma.swapaxes(0,1)\n",
    "\n",
    "    #alb_in       = ALB.get(wl).reshape(NWVL, order='C').astype(np.float32)\n",
    "    alb_in       = np.zeros(NWVL, dtype=np.float32)\n",
    "\n",
    "    cd_in        = cd.reshape((NPHOTON, NLAYER), order='C').astype(np.float32)\n",
    "    S_in         = S.reshape((NPHOTON, 4),       order='C').astype(np.float32)\n",
    "    weight_in    = w.reshape((NPHOTON, NWVL_LOW),order='C').astype(np.float32)\n",
    "    nrrs_in      = nrrs.reshape(NPHOTON,order='C').astype(np.int8)\n",
    "    nsif_in      = nsif.reshape(NPHOTON,order='C').astype(np.int8)\n",
    "    nref_in      = nref.reshape(NPHOTON,order='C').astype(np.int8)\n",
    "\n",
    "    res_out      = gpuzeros((4, NWVL),   dtype=np.float64)\n",
    "    res_sca      = gpuzeros((4, NWVL),   dtype=np.float64)\n",
    "    res_rrs      = gpuzeros((4, NWVL),   dtype=np.float64)\n",
    "    res_sif      = gpuzeros((4, NWVL),   dtype=np.float64)\n",
    "    reduce_absorption_gpu(np.int64(NPHOTON), np.int64(NLAYER), np.int64(NWVL), np.int64(NTHREAD), np.int64(NGROUP), np.int64(NBUNCH), \n",
    "                          np.int64(NP_REST), np.int64(NWVL_LOW), res_out, res_sca, res_rrs, res_sif, \n",
    "                          to_gpu(sigma_ab_in), to_gpu(alb_in), to_gpu(cd_in), to_gpu(S_in), to_gpu(weight_in), to_gpu(nrrs_in), \n",
    "                          to_gpu(nref_in), to_gpu(nsif_in), to_gpu(iwls_in), to_gpu(wwls_in), \n",
    "                          block=(XBLOCK,1,1),grid=(XGRID,1,1))\n",
    "    I1      = res_out.get()/m[0][0,0]\n",
    "    #norm1   = I1[0,0]/mref['I_up (TOA)'][0]\n",
    "    norm1=1.\n",
    "    P_Raman = res_rrs.get()[0,:]/res_out.get()[0,:]\n",
    "    print(norm1)\n",
    "    #norm1 = 1\n",
    "    I1_LUT = LUT(I1[0,:]/norm1, axes=[wl], names=['wavelength'], desc=mdesc('I_up (TOA)'))\n",
    "    Q1_LUT = LUT(I1[1,:]/norm1, axes=[wl], names=['wavelength'], desc=mdesc('Q_up (TOA)'))\n",
    "    U1_LUT = LUT(I1[1,:]/norm1, axes=[wl], names=['wavelength'], desc=mdesc('U_up (TOA)'))\n",
    "    DoLP_LUT = ((Q1_LUT*Q1_LUT + U1_LUT*U1_LUT).apply(np.sqrt)/I1_LUT)*100\n",
    "    DoLP_LUT.desc='DoLP (%)'\n",
    "    Ip_LUT   = (Q1_LUT*Q1_LUT + U1_LUT*U1_LUT).apply(np.sqrt)\n",
    "    Ip_LUT.desc=mdesc('Ip_up (TOA)')\n",
    "    P_Raman_LUT = LUT(P_Raman, axes=[wl], names=['wavelength'], desc=r'$P_{Raman}$')\n",
    "    Rel     = Es * I1_LUT[Idx(wl,fill_value='extrema')]\n",
    "    Rel_llp = Es_RRS * I1_LUT[Idx(wl_RRS,fill_value='extrema')]\n",
    "    R_RRS   = np.sum(Rel_llp * LRRS, axis=1) * P_Raman_LUT[Idx(wl, fill_value='extrema')]\n",
    "    Rel_out = Rel * P_Raman_LUT[Idx(wl, fill_value='extrema')]\n",
    "    R_tot   = R_RRS + Rel - Rel_out\n",
    "    #------------------------\n",
    "    Relp    = Es * Ip_LUT[Idx(wl,fill_value='extrema')]\n",
    "    Relp_llp= Es_RRS * Ip_LUT[Idx(wl_RRS,fill_value='extrema')]\n",
    "    R_RRS   = np.sum(Relp_llp * LRRS, axis=1) * P_Raman_LUT[Idx(wl, fill_value='extrema')]\n",
    "    Relp_out= Relp * P_Raman_LUT[Idx(wl, fill_value='extrema')]\n",
    "    Rp_tot  = R_RRS + Relp - Relp_out\n",
    "    \n",
    "    return R_tot, Rel, DoLP_LUT, Rp_tot, Relp\n",
    "\n",
    "#datas = np.loadtxt('/home/applis/libRadtran/libRadtran-2.0.2/data/solar_flux/kurudz_full.dat')\n",
    "#datas_01 = np.loadtxt('/home/applis/libRadtran/libRadtran-2.0.2/data/solar_flux/kurudz_0.1nm.dat')\n",
    "datas_modtran = np.loadtxt('/home/applis/libRadtran/libRadtran-2.0.2/data/solar_flux/atlas_plus_modtran_ph')"
   ]
  },
  {
   "cell_type": "code",
   "execution_count": null,
   "metadata": {
    "ExecuteTime": {
     "end_time": "2020-03-09T16:59:59.325508Z",
     "start_time": "2020-03-09T16:59:58.821187Z"
    }
   },
   "outputs": [],
   "source": [
    "# pure molecular atmosphere (fig 7.5 and 7.6 Deutschmann PhD thesis)\n",
    "pstd = np.array([1000,950,900,850,800,700,600,500,400,300,\\\n",
    "            200,125,50,10,3,1], dtype=np.float32)\n",
    "zstd = ( -np.log(pstd/pstd[0])*8)[::-1]\n",
    "\n",
    "atm  = AtmAFGL('afglt', O3=300., NO2=True, grid=zstd)\n",
    "le   = {'phi_deg':np.linspace(0.,180., num=1), 'th_deg':np.linspace(0., 85., num=1)}\n",
    "th0  = 45.\n",
    "#mydatas = np.zeros_like(datas)\n",
    "#mydatas[:,1] = myconvolve(datas[:,1], N=25)\n",
    "#mydatas[:,0] = datas[:,0]"
   ]
  },
  {
   "cell_type": "code",
   "execution_count": null,
   "metadata": {
    "ExecuteTime": {
     "end_time": "2020-03-09T17:00:05.888965Z",
     "start_time": "2020-03-09T17:00:00.097071Z"
    }
   },
   "outputs": [],
   "source": [
    "%%time\n",
    "#wl, wls, wl_RRS, Es_LUT, iwls_in, wwls_in = spectral_grids(758., 770.,   datas_modtran, dl=0.001, dls=1.)\n",
    "wl, wls, wl_RRS, Es_LUT, iwls_in, wwls_in = spectral_grids(758., 770.,  datas, dls=1.)\n",
    "o2_int  = get_o2_abs (zstd, wl, DOWNLOAD=False)\n",
    "abs_int = o2_int\n",
    "\n",
    "#wl, wls, wl_RRS, Es_LUT, iwls_in, wwls_in = spectral_grids(352., 360., mydatas, dls=5.)\n",
    "#o3_int = od2k(AtmAFGL('afglt', O3=0., NO2=False, grid=zstd).calc(wl), 'OD_g')\n",
    "#abs_int = o3_int\n",
    "\n",
    "# Solar spectrum\n",
    "Es = Es_LUT[Idx(wl)]\n",
    "Es_RRS = Es_LUT[Idx(wl_RRS, fill_value='extrema')]\n",
    "# Ring nromalized spectrum (Wagner et al., 2009, AMT)\n",
    "_, LRRS = L2d_inv(wl, 90., 243.)\n",
    "f_RRS_norm  = np.sum(Es_RRS * LRRS , axis=1) / Es - 1."
   ]
  },
  {
   "cell_type": "code",
   "execution_count": null,
   "metadata": {
    "ExecuteTime": {
     "end_time": "2020-03-09T17:00:30.248638Z",
     "start_time": "2020-03-09T17:00:26.159247Z"
    }
   },
   "outputs": [],
   "source": [
    "%%time\n",
    "fig,ax        = subplots(nrows=3, ncols=1) \n",
    "fig.set_size_inches(20,15)\n",
    "\n",
    "rcParams.update({'font.size':14})\n",
    "sigma         = abs_int[:,1:]\n",
    "\n",
    "color         = ['b']\n",
    "lab           = ['smartg']\n",
    "i=0\n",
    "surf          = LambSurface(ALB=Albedo_cst(1))\n",
    "#surf          = None\n",
    "NB            = 1e5\n",
    "NWS           = wls.size\n",
    "\n",
    "m             = Smartg(double=True, alt_pp=True, alis=True).run(wl=wls, THVDEG=th0,\n",
    "                       NBPHOTONS=NB, NBLOOP=NB, atm=atm, le=le, surf=surf,\n",
    "                       NF=1e3, alis_options={'nlow':NWS, 'hist':True}).sub({'Azimuth angles':0, 'Zenith angles':0}) \n",
    "    \n",
    "R_tot, Rel, DoLP_LUT, Rp_tot, Relp = reduce_histories(m,wls,wl,sigma)\n",
    "###################################################################################\n",
    "\n",
    "sca(ax[0])\n",
    "ff = R_tot\n",
    "plot(wl, ff ,'-'+color[i])\n",
    "ff = Rp_tot\n",
    "plot(wl, ff ,':'+color[i])\n",
    "xlabel('wavelength (nm)')\n",
    "ylabel(mdesc('I_up (TOA, tot)')+ r'$ (ph/s/cm^2/nm)$')\n",
    "grid(True)\n",
    "\n",
    "sca(ax[1])\n",
    "ff = (R_tot/Rel-1)*100\n",
    "plot(wl, ff, '-'+color[i])\n",
    "ff = (Rp_tot/Relp-1)*100\n",
    "plot(wl, ff, ':'+color[i])\n",
    "xlabel('wavelength (nm)')\n",
    "ylabel('$Ring spectrum (Tot/Elastic)$')\n",
    "#plot(wl, myconvolve(ff, N=35), '-m')\n",
    "#ylim(-20,30)\n",
    "ylim(-6,8)\n",
    "grid(True)\n",
    "\n",
    "sca(ax[2])\n",
    "DoLP_LUT.plot(fmt=color[i])\n",
    "#ylim(0,2)"
   ]
  },
  {
   "cell_type": "code",
   "execution_count": null,
   "metadata": {
    "ExecuteTime": {
     "end_time": "2020-03-09T17:00:43.311161Z",
     "start_time": "2020-03-09T17:00:42.921005Z"
    }
   },
   "outputs": [],
   "source": [
    "# pure molecular atmosphere (fig 7.7 Deutschmann PhD thesis)\n",
    "pstd = np.array([1000,950,900,850,800,700,600,500,400,300,\\\n",
    "            200,125,50,10,3,1], dtype=np.float32)\n",
    "zstd = ( -np.log(pstd/pstd[0])*8)[::-1]\n",
    "\n",
    "atm  = AtmAFGL('afglus', O3=300., NO2=False)\n",
    "#atm  = AtmAFGL('afglus', O3=300., NO2=False, grid=zstd)\n",
    "le   = {'phi_deg':np.linspace(0.,180., num=1), 'th_deg':np.linspace(0., 85., num=1)}\n",
    "th0  = 0.\n",
    "#mydatas = np.zeros_like(datas)\n",
    "#mydatas[:,1] = myconvolve(datas[:,1], N=35)\n",
    "#mydatas[:,0] = datas[:,0]"
   ]
  },
  {
   "cell_type": "code",
   "execution_count": null,
   "metadata": {
    "ExecuteTime": {
     "end_time": "2020-03-09T17:00:44.997356Z",
     "start_time": "2020-03-09T17:00:44.871358Z"
    }
   },
   "outputs": [],
   "source": [
    "%%time\n",
    "#wl, wls, wl_RRS, Es_LUT, iwls_in, wwls_in = spectral_grids(758., 770.,   datas, dl=0.001, dls=5.)\n",
    "#wl, wls, wl_RRS, Es_LUT, iwls_in, wwls_in = spectral_grids(758., 770.,  mydatas, dls=5.)\n",
    "#o2_int  = get_o2_abs (zstd, wl, DOWNLOAD=False)\n",
    "#abs_int = o2_int\n",
    "\n",
    "wl, wls, wl_RRS, Es_LUT, iwls_in, wwls_in = spectral_grids(351., 354., datas_modtran, dls=1.)\n",
    "#wl, wls, wl_RRS, Es_LUT, iwls_in, wwls_in = spectral_grids(351., 354., mydatas, dls=5.)\n",
    "o3_int = od2k(atm.calc(wl), 'OD_g')\n",
    "abs_int = o3_int\n",
    "\n",
    "# Solar spectrum\n",
    "Es = Es_LUT[Idx(wl)]\n",
    "Es_RRS = Es_LUT[Idx(wl_RRS, fill_value='extrema')]\n",
    "# Ring nromalized spectrum (Wagner et al., 2009, AMT)\n",
    "_, LRRS = L2d_inv(wl, 90., 243.)\n",
    "f_RRS_norm  = np.sum(Es_RRS * LRRS , axis=1) / Es - 1."
   ]
  },
  {
   "cell_type": "code",
   "execution_count": null,
   "metadata": {
    "ExecuteTime": {
     "end_time": "2020-03-09T17:00:47.891453Z",
     "start_time": "2020-03-09T17:00:47.768438Z"
    }
   },
   "outputs": [],
   "source": [
    "uvspec_tot = np.loadtxt('/home/applis/libRadtran/libRadtran-2.0.2/examples/UVSPEC_RAMAN.OUT')[:,1]\n",
    "uvspec_el  = np.loadtxt('/home/applis/libRadtran/libRadtran-2.0.2/examples/UVSPEC_NORAMAN.OUT')[:,1]\n",
    "ff_uvspec = (uvspec_tot/uvspec_el-1)*100"
   ]
  },
  {
   "cell_type": "code",
   "execution_count": null,
   "metadata": {
    "ExecuteTime": {
     "end_time": "2020-03-09T17:00:52.540337Z",
     "start_time": "2020-03-09T17:00:48.791225Z"
    },
    "run_control": {
     "marked": false
    }
   },
   "outputs": [],
   "source": [
    "%%time\n",
    "fig,ax        = subplots(nrows=3, ncols=1) \n",
    "fig.set_size_inches(20,15)\n",
    "\n",
    "rcParams.update({'font.size':14})\n",
    "sigma         = abs_int[:,1:]\n",
    "\n",
    "color         = ['b']\n",
    "lab           = ['smartg']\n",
    "i=0\n",
    "surf          = LambSurface(ALB=0.)\n",
    "surf          = None\n",
    "NB            = 1e5\n",
    "NWS           = wls.size\n",
    "\n",
    "m             = Smartg(double=True, alt_pp=True, alis=True).run(wl=wls, THVDEG=th0,\n",
    "                       NBPHOTONS=NB, NBLOOP=NB, atm=atm, le=le, surf=surf,\n",
    "                       NF=1e3, alis_options={'nlow':NWS, 'hist':True}).sub({'Azimuth angles':0, 'Zenith angles':0}) \n",
    "    \n",
    "R_tot, Rel, DoLP_LUT = reduce_histories(m,wls,wl,sigma)\n",
    "###################################################################################\n",
    "\n",
    "sca(ax[0])\n",
    "ff = R_tot/(1e-3 * 1e-4  / (cst.h *cst.c)  * (wl*1e-9))*cos(np.deg2rad(th0))/np.pi*1e-3\n",
    "ffe = Rel/(1e-3 * 1e-4  / (cst.h *cst.c)  * (wl*1e-9))*cos(np.deg2rad(th0))/np.pi*1e-3\n",
    "plot(wl, ff ,'-'+color[i])\n",
    "plot(wl, ffe ,'--'+color[i])\n",
    "#ylim(0,.1)\n",
    "xlabel('wavelength (nm)')\n",
    "ylabel(mdesc('I_up (TOA, tot)')+ r'$ (ph/s/cm^2/nm)$')\n",
    "xlim(wl.min(),wl.max())\n",
    "grid(True)\n",
    "\n",
    "sca(ax[1])\n",
    "ff = (R_tot/Rel-1)*100\n",
    "plot(wl, ff, '-'+color[i])\n",
    "plot(wl, ff_uvspec, ':'+'r')\n",
    "xlabel('wavelength (nm)')\n",
    "ylabel('$Ring spectrum (Tot/Elastic)$')\n",
    "#plot(wl, myconvolve(ff, N=35), '-m')\n",
    "ylim(-5,5)\n",
    "grid(True)\n",
    "xlim(wl.min(),wl.max())\n",
    "\n",
    "sca(ax[2])\n",
    "DoLP_LUT.plot(fmt=color[i])\n",
    "xlim(wl.min(),wl.max())\n",
    "#ylim(0,2)"
   ]
  },
  {
   "cell_type": "code",
   "execution_count": null,
   "metadata": {
    "ExecuteTime": {
     "end_time": "2020-03-09T17:00:56.227660Z",
     "start_time": "2020-03-09T17:00:55.828153Z"
    },
    "run_control": {
     "marked": true
    }
   },
   "outputs": [],
   "source": [
    "# pure molecular atmosphere (fig 7.11 Deutschmann PhD thesis)\n",
    "pstd = np.array([1000,950,900,850,800,700,600,500,400,300,\\\n",
    "            200,125,50,10,3,1], dtype=np.float32)\n",
    "zstd = ( -np.log(pstd/pstd[0])*8)[::-1]\n",
    "RTER = 6371.\n",
    "atm  = AtmAFGL('afglt', O3=0., NO2=False, grid=zstd)\n",
    "le   = {'phi_deg':np.array([106.25]), 'th_deg':np.array([57.4])}\n",
    "#sensor = Sensor(POSZ=16.368, THDEG=92.5, LOC='ATMOS')\n",
    "sensor = Sensor(POSZ=16.368+RTER, THDEG=87)\n",
    "#mydatas = np.zeros_like(datas)\n",
    "#mydatas[:,1] = myconvolve(datas[:,1], N=25)\n",
    "#mydatas[:,0] = datas[:,0]"
   ]
  },
  {
   "cell_type": "code",
   "execution_count": null,
   "metadata": {
    "ExecuteTime": {
     "end_time": "2020-03-09T17:00:59.091928Z",
     "start_time": "2020-03-09T17:00:58.615820Z"
    }
   },
   "outputs": [],
   "source": [
    "%%time\n",
    "#wl, wls, wl_RRS, Es_LUT, iwls_in, wwls_in = spectral_grids(758., 770.,   datas, dl=0.001, dls=5.)\n",
    "#wl, wls, wl_RRS, Es_LUT, iwls_in, wwls_in = spectral_grids(758., 770.,  mydatas, dls=5.)\n",
    "#o2_int  = get_o2_abs (zstd, wl, DOWNLOAD=False)\n",
    "#abs_int = o2_int\n",
    "\n",
    "#wl, wls, wl_RRS, Es_LUT, iwls_in, wwls_in = spectral_grids(352., 360., datas_modtran, dls=5.)\n",
    "wl, wls, wl_RRS, Es_LUT, iwls_in, wwls_in = spectral_grids(252.4, 252.5, datas, dls=0.04)\n",
    "o3_int = od2k(atm.calc(wl), 'OD_g')\n",
    "abs_int = o3_int\n",
    "\n",
    "# Solar spectrum\n",
    "Es = Es_LUT[Idx(wl)]\n",
    "Es_RRS = Es_LUT[Idx(wl_RRS, fill_value='extrema')]\n",
    "# Ring nromalized spectrum (Wagner et al., 2009, AMT)\n",
    "_, LRRS = L2d_inv(wl, 90., 243.)\n",
    "f_RRS_norm  = np.sum(Es_RRS * LRRS , axis=1) / Es - 1."
   ]
  },
  {
   "cell_type": "code",
   "execution_count": null,
   "metadata": {
    "ExecuteTime": {
     "end_time": "2020-01-22T16:34:28.199272Z",
     "start_time": "2020-01-22T16:34:28.145610Z"
    }
   },
   "outputs": [],
   "source": [
    "NWS"
   ]
  },
  {
   "cell_type": "code",
   "execution_count": null,
   "metadata": {
    "ExecuteTime": {
     "end_time": "2020-03-09T17:01:37.482613Z",
     "start_time": "2020-03-09T17:01:04.330031Z"
    }
   },
   "outputs": [],
   "source": [
    "fig,ax        = subplots(nrows=3, ncols=1) \n",
    "fig.set_size_inches(20,15)\n",
    "\n",
    "rcParams.update({'font.size':14})\n",
    "sigma         = abs_int[:,1:]\n",
    "\n",
    "color         = ['b']\n",
    "lab           = ['smartg']\n",
    "i=0\n",
    "surf          = LambSurface(ALB=0.)\n",
    "surf          = None\n",
    "NB            = 1e5\n",
    "NWS           = wls.size\n",
    "\n",
    "m             = Smartg(alt_pp=True, pp=False, alis=True).run(wl=wls,  THVDEG=2.5,\n",
    "                       NBPHOTONS=NB, NBLOOP=NB, atm=atm, le=le, surf=surf, RTER=RTER,\n",
    "                       NF=1e3, alis_options={'nlow':NWS, 'hist':True}).sub({'Azimuth angles':0, 'Zenith angles':0}) \n",
    "    \n",
    "R_tot, Rel, DoLP_LUT = reduce_histories(m,wls,wl,sigma)\n",
    "###################################################################################\n",
    "\n",
    "sca(ax[0])\n",
    "ff = R_tot/(1e-3 * 1e-4  / (cst.h *cst.c)  * (wl*1e-9))*cos(np.deg2rad(th0))/np.pi*1e-3\n",
    "ffe = Rel/(1e-3 * 1e-4  / (cst.h *cst.c)  * (wl*1e-9))*cos(np.deg2rad(th0))/np.pi*1e-3\n",
    "plot(wl, ff ,'-'+color[i])\n",
    "plot(wl, ffe ,':'+color[i])\n",
    "#ylim(0,3.2e10)\n",
    "xlabel('wavelength (nm)')\n",
    "ylabel(mdesc('I_up (TOA, tot)')+ r'$ (ph/s/cm^2/nm)$')\n",
    "grid(True)\n",
    "\n",
    "sca(ax[1])\n",
    "ff = (R_tot/Rel-1)*100\n",
    "plot(wl, ff, '-'+color[i])\n",
    "xlabel('wavelength (nm)')\n",
    "ylabel('$Ring spectrum (Tot/Elastic)$')\n",
    "#plot(wl, myconvolve(ff, N=100), '-b')\n",
    "#ylim(-6,10)\n",
    "grid(True)\n",
    "xlim(wl.min(),wl.max())\n",
    "\n",
    "sca(ax[2])\n",
    "DoLP_LUT.plot(fmt=color[i])\n",
    "#ylim(0,2)"
   ]
  },
  {
   "cell_type": "code",
   "execution_count": null,
   "metadata": {},
   "outputs": [],
   "source": []
  }
 ],
 "metadata": {
  "anaconda-cloud": {},
  "hide_input": false,
  "kernelspec": {
   "display_name": "Python 3",
   "language": "python",
   "name": "python3"
  },
  "language_info": {
   "codemirror_mode": {
    "name": "ipython",
    "version": 3
   },
   "file_extension": ".py",
   "mimetype": "text/x-python",
   "name": "python",
   "nbconvert_exporter": "python",
   "pygments_lexer": "ipython3",
   "version": "3.6.5"
  },
  "toc": {
   "colors": {
    "hover_highlight": "#DAA520",
    "navigate_num": "#000000",
    "navigate_text": "#333333",
    "running_highlight": "#FF0000",
    "selected_highlight": "#FFD700",
    "sidebar_border": "#EEEEEE",
    "wrapper_background": "#FFFFFF"
   },
   "moveMenuLeft": true,
   "nav_menu": {
    "height": "509px",
    "width": "252px"
   },
   "navigate_menu": true,
   "number_sections": true,
   "sideBar": true,
   "threshold": 4,
   "toc_cell": false,
   "toc_number_sections": true,
   "toc_position": {
    "height": "746.733px",
    "left": "0px",
    "right": "1801.6px",
    "top": "160.267px",
    "width": "164.567px"
   },
   "toc_section_display": "block",
   "toc_threshold": 4,
   "toc_window_display": true,
   "widenNotebook": false
  },
  "toc_position": {
   "left": "1540px",
   "right": "36px",
   "top": "83px",
   "width": "300px"
  },
  "widgets": {
   "state": {
    "24d74e057a524c8c8349c8380b4cfc8c": {
     "views": [
      {
       "cell_index": 4
      }
     ]
    }
   },
   "version": "1.2.0"
  }
 },
 "nbformat": 4,
 "nbformat_minor": 2
}
