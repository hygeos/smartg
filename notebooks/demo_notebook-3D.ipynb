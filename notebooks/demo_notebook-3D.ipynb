{
 "cells": [
  {
   "cell_type": "markdown",
   "metadata": {
    "ExecuteTime": {
     "end_time": "2018-04-07T20:34:09.930253Z",
     "start_time": "2018-04-07T20:34:09.864857Z"
    }
   },
   "source": [
    "# Smart-G 3D demo notebook\n",
    "\n",
    "This is an interactive document allowing to run Smart-G in 3D with python and visualize the results. <br>\n",
    "*Tips*: cells can be executed with shift-enter. Tooltips can be obtained with shift-tab. More information [here](http://ipython.org/notebook.html) or in the help menu. [A table of content can also be added](https://github.com/minrk/ipython_extensions#table-of-contents)."
   ]
  },
  {
   "cell_type": "code",
   "execution_count": null,
   "metadata": {
    "ExecuteTime": {
     "end_time": "2020-04-10T07:28:39.941914Z",
     "start_time": "2020-04-10T07:28:35.437110Z"
    }
   },
   "outputs": [],
   "source": [
    "%pylab inline\n",
    "# next 2 lines allow to automatically reload modules that have been changed externally\n",
    "%reload_ext autoreload\n",
    "%autoreload 2\n",
    "from __future__ import absolute_import, division, print_function\n",
    "import os, sys\n",
    "#sys.path.insert(0, os.path.dirname(os.getcwd()))\n",
    "sys.path.insert(0, '/home/did/RTC/SMART-G/')\n",
    "from smartg.albedo import Albedo_speclib, Albedo_cst, Albedo_spectrum\n",
    "from smartg.smartg import Smartg, Sensor, type_Cell,type_Profile, type_Sensor\n",
    "from smartg.smartg import RoughSurface, LambSurface, FlatSurface, Environment\n",
    "from smartg.atmosphere import AtmAFGL, AeroOPAC, CloudOPAC, diff1, read_phase, od2k, get_o2_abs, get_co2_abs\n",
    "from smartg.water import IOP_1, IOP, IOP_profile\n",
    "from smartg.geometry import BBox, Point, Vector, CommonFace, CommonVertices\n",
    "from smartg.reptran import REPTRAN, reduce_reptran\n",
    "from smartg.tools.tools import SpherIrr, Irr, reduce_Irr\n",
    "from smartg.rrs import L2d_inv, is_odd\n",
    "from smartg.bandset import spectral_grids\n",
    "from smartg.lib3D import Get_3Dcells, Get_3Dcells_indices, Get_3Dcells_neighbours, locate_3Dregular_cells\n",
    "from luts.luts import LUT, MLUT, Idx, merge, read_mlut\n",
    "from smartg.tools.smartg_view import compare, plot_polar, spectrum , mdesc \n",
    "from smartg.tools.smartg_view import spectrum_view,transect_view,profile_view,phase_view,smartg_view,input_view\n",
    "from itertools import combinations\n",
    "import warnings\n",
    "warnings.filterwarnings(\"ignore\")\n",
    "from scipy.interpolate import interp1d\n",
    "import scipy.constants as cst\n",
    "\n",
    "# Kernel 2\n",
    "from smartg.tools.modified_environ import modified_environ\n",
    "import pycuda.driver as drv\n",
    "import pycuda.tools\n",
    "\n",
    "env_modif = {'CUDA_DEVICE': str(2)}\n",
    "with modified_environ(**env_modif):\n",
    "    import pycuda.autoinit\n",
    "print(pycuda.autoinit.device.name())\n",
    "from pycuda.compiler import SourceModule\n",
    "from pycuda.gpuarray import to_gpu, zeros as gpuzeros\n",
    "src_device = '/home/did/RTC/SMART-G/smartg/kernel2.cu'\n",
    "source=open(src_device).read()\n",
    "mod = SourceModule(source, nvcc='nvcc', no_extern_c=True)\n",
    "reduce_absorption_gpu2 = mod.get_function(\"reduce_absorption_gpu2\")\n",
    "reduce_absorption_gpu  = mod.get_function(\"reduce_absorption_gpu\")"
   ]
  },
  {
   "cell_type": "code",
   "execution_count": null,
   "metadata": {
    "ExecuteTime": {
     "end_time": "2020-04-09T11:44:07.115004Z",
     "start_time": "2020-04-09T11:44:07.027606Z"
    }
   },
   "outputs": [],
   "source": [
    "def locate_3D_cells(pro3D, xs, ys, zs):\n",
    "    cond = np.greater_equal(pro3D['pmax_atm'].data[0,:][None,:], xs[:,None]) &\\\n",
    "        np.less(            pro3D['pmin_atm'].data[0,:][None,:], xs[:,None]) &\\\n",
    "        np.greater_equal(   pro3D['pmax_atm'].data[1,:][None,:], ys[:,None]) &\\\n",
    "        np.less(            pro3D['pmin_atm'].data[1,:][None,:], ys[:,None]) &\\\n",
    "        np.greater_equal(   pro3D['pmax_atm'].data[2,:][None,:], zs[:,None]) &\\\n",
    "        np.less(            pro3D['pmin_atm'].data[2,:][None,:], zs[:,None])\n",
    "    \n",
    "    return np.where(cond)[1]"
   ]
  },
  {
   "cell_type": "markdown",
   "metadata": {},
   "source": [
    "# TOSCA 1D"
   ]
  },
  {
   "cell_type": "markdown",
   "metadata": {},
   "source": [
    "## IPRT A5 case"
   ]
  },
  {
   "cell_type": "code",
   "execution_count": null,
   "metadata": {
    "ExecuteTime": {
     "end_time": "2020-04-09T08:01:39.319636Z",
     "start_time": "2020-04-09T08:01:39.093604Z"
    }
   },
   "outputs": [],
   "source": [
    "def read_3dmcpol_a5_pp(): \n",
    "    f_iprt = '../smartg/validation/IPRT/iprt_case_a5pp_3dmcpol.dat'\n",
    "    th0    = 50.\n",
    "    mu0    = np.cos(np.radians(th0))\n",
    "    thv    = np.arange(0.0, 81.0, 1.0)\n",
    "    phi    = np.array([0.0, 180.0])\n",
    "\n",
    "    mSvRG = MLUT()\n",
    "    mSvRG.add_axis('Azimuth angles', phi)\n",
    "    mSvRG.add_axis('Zenith angles',  thv)\n",
    "    \n",
    "    f=open(f_iprt)\n",
    "    for k, lev2 in enumerate(['down (0+)','up (TOA)']):\n",
    "        I = np.full( (len(phi), len(thv) ), np.nan)\n",
    "        Q = np.full( (len(phi), len(thv) ), np.nan)\n",
    "        U = np.full( (len(phi), len(thv) ), np.nan)\n",
    "        V = np.full( (len(phi), len(thv) ), np.nan)\n",
    "        Is = np.full( (len(phi), len(thv) ), np.nan)\n",
    "        Qs = np.full( (len(phi), len(thv) ), np.nan)\n",
    "        Us = np.full( (len(phi), len(thv) ), np.nan)\n",
    "        Vs = np.full( (len(phi), len(thv) ), np.nan)\n",
    "        for iphi in range(len(phi)): \n",
    "            for imu in range(len(thv)):\n",
    "                tmp = f.readline().split()\n",
    "                if (k==0):\n",
    "                    I[iphi,imu] = float(tmp[6])   * np.pi/mu0\n",
    "                    Q[iphi,imu] = float(tmp[7])   * np.pi/mu0\n",
    "                    U[iphi,imu] = float(tmp[8])   * np.pi/mu0\n",
    "                    V[iphi,imu] = float(tmp[9])   * np.pi/mu0\n",
    "                    Is[iphi,imu] = float(tmp[10]) * np.pi/mu0\n",
    "                    Qs[iphi,imu] = float(tmp[11]) * np.pi/mu0\n",
    "                    Us[iphi,imu] = float(tmp[12]) * np.pi/mu0\n",
    "                    Vs[iphi,imu] = float(tmp[13]) * np.pi/mu0\n",
    "                else:\n",
    "                    I[iphi,-imu-1] = float(tmp[6])   * np.pi/mu0\n",
    "                    Q[iphi,-imu-1] = float(tmp[7])   * np.pi/mu0\n",
    "                    U[iphi,-imu-1] = float(tmp[8])   * np.pi/mu0\n",
    "                    V[iphi,-imu-1] = float(tmp[9])   * np.pi/mu0\n",
    "                    Is[iphi,-imu-1] = float(tmp[10]) * np.pi/mu0\n",
    "                    Qs[iphi,-imu-1] = float(tmp[11]) * np.pi/mu0\n",
    "                    Us[iphi,-imu-1] = float(tmp[12]) * np.pi/mu0\n",
    "                    Vs[iphi,-imu-1] = float(tmp[13]) * np.pi/mu0\n",
    "\n",
    "        mSvRG.add_dataset('I_'+lev2, I, [\"Azimuth angles\",\"Zenith angles\"])\n",
    "        mSvRG.add_dataset('Q_'+lev2, Q, [\"Azimuth angles\",\"Zenith angles\"])\n",
    "        mSvRG.add_dataset('U_'+lev2, U, [\"Azimuth angles\",\"Zenith angles\"])\n",
    "        mSvRG.add_dataset('V_'+lev2, V, [\"Azimuth angles\",\"Zenith angles\"])\n",
    "        mSvRG.add_dataset('N_'+lev2, np.zeros_like(I),   [\"Azimuth angles\",\"Zenith angles\"])\n",
    "        mSvRG.add_dataset('I_stdev_'+lev2, Is, [\"Azimuth angles\",\"Zenith angles\"])\n",
    "        mSvRG.add_dataset('Q_stdev_'+lev2, Qs, [\"Azimuth angles\",\"Zenith angles\"])\n",
    "        mSvRG.add_dataset('U_stdev_'+lev2, Us, [\"Azimuth angles\",\"Zenith angles\"])\n",
    "        mSvRG.add_dataset('V_stdev_'+lev2, Vs, [\"Azimuth angles\",\"Zenith angles\"])\n",
    "\n",
    "    return mSvRG \n",
    "\n",
    "def read_3dmcpol_c2_pp(iset=1, icase=4):\n",
    "    \n",
    "    f_iprt = '../smartg/validation/IPRT/iprt_case_C2_3DMCPOL.dat'\n",
    "    th0    = 40.\n",
    "    mu0    = np.cos(np.radians(th0))\n",
    "    thv    = np.array([0.])\n",
    "    phi    = np.array([0.])\n",
    "    si     = np.arange(4900)\n",
    "\n",
    "    mSvRG = MLUT()\n",
    "    mSvRG.add_axis('Zenith angles',  thv)\n",
    "    mSvRG.add_axis('sensor index' ,  si)\n",
    "    \n",
    "    f=open(f_iprt)\n",
    "    lev2 = 'up (TOA)'\n",
    "\n",
    "    I  = np.full( (len(si), len(thv) ), np.nan)\n",
    "    Q  = np.full( (len(si), len(thv) ), np.nan)\n",
    "    U  = np.full( (len(si), len(thv) ), np.nan)\n",
    "    V  = np.full( (len(si), len(thv) ), np.nan)\n",
    "    Is = np.full( (len(si), len(thv) ), np.nan)\n",
    "    Qs = np.full( (len(si), len(thv) ), np.nan)\n",
    "    Us = np.full( (len(si), len(thv) ), np.nan)\n",
    "    Vs = np.full( (len(si), len(thv) ), np.nan)\n",
    "    \n",
    "    imu=0\n",
    "\n",
    "    for k in range(3 + (4900*9*iset) + (4900*icase)):\n",
    "        f.readline()\n",
    "    for i in range(4900):\n",
    "        tmp = f.readline().split()\n",
    "        I[i,imu]  = float(tmp[7])  * np.pi/mu0\n",
    "        Q[i,imu]  = float(tmp[8])  * np.pi/mu0\n",
    "        U[i,imu]  = float(tmp[9])  * np.pi/mu0\n",
    "        V[i,imu]  = float(tmp[10])  * np.pi/mu0\n",
    "        Is[i,imu] = float(tmp[11]) * np.pi/mu0\n",
    "        Qs[i,imu] = float(tmp[12]) * np.pi/mu0\n",
    "        Us[i,imu] = float(tmp[13]) * np.pi/mu0\n",
    "        Vs[i,imu] = float(tmp[14]) * np.pi/mu0\n",
    "        \n",
    "    mSvRG.add_dataset('I_'+lev2, I, [\"sensor index\",\"Zenith angles\"])\n",
    "    mSvRG.add_dataset('Q_'+lev2, Q, [\"sensor index\",\"Zenith angles\"])\n",
    "    mSvRG.add_dataset('U_'+lev2, U, [\"sensor index\",\"Zenith angles\"])\n",
    "    mSvRG.add_dataset('V_'+lev2, V, [\"sensor index\",\"Zenith angles\"])\n",
    "    mSvRG.add_dataset('N_'+lev2, np.zeros_like(I),   [\"sensor index\",\"Zenith angles\"])\n",
    "    mSvRG.add_dataset('I_stdev_'+lev2, Is, [\"sensor index\",\"Zenith angles\"])\n",
    "    mSvRG.add_dataset('Q_stdev_'+lev2, Qs, [\"sensor index\",\"Zenith angles\"])\n",
    "    mSvRG.add_dataset('U_stdev_'+lev2, Us, [\"sensor index\",\"Zenith angles\"])\n",
    "    mSvRG.add_dataset('V_stdev_'+lev2, Vs, [\"sensor index\",\"Zenith angles\"])\n",
    "\n",
    "    return mSvRG "
   ]
  },
  {
   "cell_type": "code",
   "execution_count": null,
   "metadata": {
    "ExecuteTime": {
     "end_time": "2020-04-08T18:39:16.094894Z",
     "start_time": "2020-04-08T18:39:15.566172Z"
    }
   },
   "outputs": [],
   "source": [
    "# Read 3DMCPOL from IPRT website\n",
    "mcpol_pp=read_3dmcpol_a5_pp()\n",
    "\n",
    "# Cloud Phase matrix\n",
    "cld_phase = read_mlut('/home/did/RTC/SMART-G/smartg/validation/watercloud_IPRT_A5.mie.nc')\n",
    "ntheta = cld_phase['ntheta'][0,0,0]\n",
    "wl     = cld_phase['wavelen'].data*1e3\n",
    "wl=[350.]\n",
    "l=[]\n",
    "l.append(cld_phase['phase'][:,:,0,:ntheta].ravel() + cld_phase['phase'][:,:,1,:ntheta].ravel())\n",
    "l.append(cld_phase['phase'][:,:,0,:ntheta].ravel() - cld_phase['phase'][:,:,1,:ntheta].ravel())\n",
    "l.append(cld_phase['phase'][:,:,2,:ntheta].ravel())\n",
    "l.append(cld_phase['phase'][:,:,3,:ntheta].ravel())\n",
    "# Normalization to 2\n",
    "p=cld_phase['phase'][:,:,0,:ntheta].ravel()\n",
    "theta=cld_phase['theta'][:,:,0,:ntheta].ravel()[::-1]\n",
    "mu= np.cos(np.radians(theta))\n",
    "Norm = np.trapz(p,-mu)\n",
    "data = np.array(l) \n",
    "print ('phase function norm: ', Norm)\n",
    "#data = np.array(l) * (2./Norm)\n",
    "# 2) store data in a LUT object with 4 dimensions, the z dimension is restricted to one level of altitude 0\n",
    "pha_cld = LUT(data[None, None, :, ::-1], names=['wav_phase', 'z_phase', 'stk', 'theta_atm'],\n",
    "          axes=[wl, np.array([0.]), None, cld_phase['theta'][:,:,0,:ntheta].ravel()[::-1]]\n",
    "         )\n",
    "\n",
    "# Layering and angles\n",
    "th0  = 50.\n",
    "COT  = 5. # at 800 nm\n",
    "cld  = CloudOPAC('wc.sol', 3., 0.5, 10., COT, wl, phase=pha_cld)\n",
    "NL   = 1\n",
    "grid = np.linspace(100, 0., num=NL+1)\n",
    "atm  = AtmAFGL('afglt', O3=0., comp=[cld], tauR=1e-20, NO2=False, grid=grid)\n",
    "le   = {'phi_deg':np.linspace(0.,180., num=2), 'th_deg':np.linspace(0., 80., num=81)}"
   ]
  },
  {
   "cell_type": "markdown",
   "metadata": {},
   "source": [
    "### Principal plane"
   ]
  },
  {
   "cell_type": "code",
   "execution_count": null,
   "metadata": {
    "ExecuteTime": {
     "end_time": "2020-04-07T14:55:14.525919Z",
     "start_time": "2020-04-07T14:54:59.289224Z"
    }
   },
   "outputs": [],
   "source": [
    "%%time\n",
    "ma5_1e6 = Smartg(double=True, alt_pp=True).run(wl=800., atm=atm, le=le, \n",
    "                                            NBPHOTONS=1e6, OUTPUT_LAYERS=3, THVDEG=th0,\n",
    "                                           stdev=True)"
   ]
  },
  {
   "cell_type": "code",
   "execution_count": null,
   "metadata": {
    "ExecuteTime": {
     "end_time": "2020-04-07T14:55:17.151406Z",
     "start_time": "2020-04-07T14:55:17.047722Z"
    }
   },
   "outputs": [],
   "source": [
    "# 3DMCPOL 1e8 photons 21 hours 25 min for one field (TOA)\n",
    "T = (21*3600+ 25*60)\n",
    "# 3DMCPOL 1e6 photons 20 mins 06 sec  for one field (TOA)\n",
    "#T = 20*60 + 6\n",
    "print ('3DMCPOL 1e8: %.1f (s)'%T)\n",
    "print(pycuda.autoinit.device.name()+' : %.2f (s)'%(float(ma5_1e6.attrs['kernel time (s)'])))"
   ]
  },
  {
   "cell_type": "code",
   "execution_count": null,
   "metadata": {
    "ExecuteTime": {
     "end_time": "2020-04-07T14:55:26.643696Z",
     "start_time": "2020-04-07T14:55:24.123773Z"
    }
   },
   "outputs": [],
   "source": [
    "_=compare(ma5_1e6, mcpol_pp,same_azimuth_convention=False, azimuth=[0.0, 0.0], errb=True,\n",
    "        vmax=[1.5, 0.1, 0.01, 50], vmin=[0, -0.1, -0.01, 0], \n",
    "        emax=[0.01, 0.001, 0.001, 0.5], ermax=[2,5,20,5])"
   ]
  },
  {
   "cell_type": "code",
   "execution_count": null,
   "metadata": {
    "ExecuteTime": {
     "end_time": "2020-04-07T11:41:23.290783Z",
     "start_time": "2020-04-07T11:41:20.644337Z"
    }
   },
   "outputs": [],
   "source": [
    "_=compare(ma5_1e6, mcpol_pp,same_azimuth_convention=False, azimuth=[0.0, 0.0], errb=True,\n",
    "        vmax=[1.5, 0.1, 0.01, 50], vmin=[0, -0.1, -0.01, 0], \n",
    "        emax=[0.01, 0.001, 0.001, 0.5], ermax=[2,5,20,5])"
   ]
  },
  {
   "cell_type": "code",
   "execution_count": null,
   "metadata": {
    "ExecuteTime": {
     "end_time": "2020-04-07T09:42:44.480312Z",
     "start_time": "2020-04-07T09:42:42.160918Z"
    }
   },
   "outputs": [],
   "source": [
    "_=compare(ma5_1e8, mcpol_pp,same_azimuth_convention=False, azimuth=[0.0, 0.0], errb=True,\n",
    "        vmax=[1.5, 0.1, 0.01, 50], vmin=[0, -0.1, -0.01, 0], \n",
    "        emax=[0.01, 0.001, 0.001, 0.5], ermax=[2,5,20,5])"
   ]
  },
  {
   "cell_type": "code",
   "execution_count": null,
   "metadata": {
    "ExecuteTime": {
     "end_time": "2019-12-26T20:17:41.372266Z",
     "start_time": "2019-12-26T20:17:38.994468Z"
    }
   },
   "outputs": [],
   "source": [
    "_=compare(ma5_1e8, mcpol_pp,same_azimuth_convention=True, azimuth=[0.0, 0.0], errb=True,\n",
    "        vmax=[1.5, 0.05, 0.001, 10], vmin=[-1., -0.05, -0.001, 0], field='down (0+)', logI=True,\n",
    "        emax=[0.5, 0.001, 0.001, 0.5], ermax=[5,5,20,5])"
   ]
  },
  {
   "cell_type": "code",
   "execution_count": null,
   "metadata": {
    "ExecuteTime": {
     "start_time": "2020-04-07T11:14:47.158Z"
    }
   },
   "outputs": [],
   "source": [
    "%%time\n",
    "ma5_1e6 = Smartg(double=True, alt_pp=False).run(wl=800., atm=atm, le=le, \n",
    "                                            NBPHOTONS=1e6, OUTPUT_LAYERS=3, THVDEG=th0,\n",
    "                                           stdev=True)"
   ]
  },
  {
   "cell_type": "code",
   "execution_count": null,
   "metadata": {
    "ExecuteTime": {
     "end_time": "2020-03-09T16:51:57.063680Z",
     "start_time": "2020-03-09T16:51:54.542711Z"
    }
   },
   "outputs": [],
   "source": [
    "_=compare(ma5_1e6, mcpol_pp,same_azimuth_convention=False, azimuth=[0.0, 0.0], errb=True,\n",
    "        vmax=[1.5, 0.1, 0.01, 50], vmin=[0, -0.1, -0.01, 0], \n",
    "        emax=[0.1, 0.01, 0.01, 1], ermax=[10,10,10,10])"
   ]
  },
  {
   "cell_type": "code",
   "execution_count": null,
   "metadata": {
    "ExecuteTime": {
     "end_time": "2020-03-09T16:52:10.831475Z",
     "start_time": "2020-03-09T16:51:57.066019Z"
    }
   },
   "outputs": [],
   "source": [
    "%%time\n",
    "ma5_alt_1e6 = Smartg(double=True, alt_pp=True).run(wl=800., atm=atm, le=le,\n",
    "                                            NBPHOTONS=1e6, OUTPUT_LAYERS=3, THVDEG=th0,\n",
    "                                            stdev=True)"
   ]
  },
  {
   "cell_type": "code",
   "execution_count": null,
   "metadata": {
    "ExecuteTime": {
     "end_time": "2020-03-09T16:52:13.026965Z",
     "start_time": "2020-03-09T16:52:10.834721Z"
    }
   },
   "outputs": [],
   "source": [
    "_=compare(ma5_alt_1e6, mcpol_pp,same_azimuth_convention=False, azimuth=[0.0, 0.0], errb=True,\n",
    "        vmax=[1.5, 0.1, 0.01, 50], vmin=[0, -0.1, -0.01, 0], \n",
    "        emax=[0.1, 0.01, 0.01, 1], ermax=[10,10,10,10])"
   ]
  },
  {
   "cell_type": "markdown",
   "metadata": {},
   "source": [
    "## IPRT B1 case"
   ]
  },
  {
   "cell_type": "code",
   "execution_count": null,
   "metadata": {
    "ExecuteTime": {
     "end_time": "2020-04-07T11:46:31.250010Z",
     "start_time": "2020-04-07T11:46:30.333115Z"
    }
   },
   "outputs": [],
   "source": [
    "NL   = 30\n",
    "grid = np.linspace(30, 0., num=NL+1)\n",
    "atm  = AtmAFGL('afglt', O3=0., NO2=False, grid=grid)\n",
    "le   = {'phi_deg':np.linspace(0.,180., num=37), 'th_deg':np.linspace(0., 85., num=19)}\n",
    "th0  = 50."
   ]
  },
  {
   "cell_type": "code",
   "execution_count": null,
   "metadata": {
    "ExecuteTime": {
     "end_time": "2020-04-07T11:47:22.003936Z",
     "start_time": "2020-04-07T11:46:32.217209Z"
    }
   },
   "outputs": [],
   "source": [
    "%%time\n",
    "m1DA_B1_1e6 = Smartg(double=True, alt_pp=True, alis=True).run(wl=450., atm=atm, le=le, NBLOOP=1e5, NF=1e3,\n",
    "                                            NBPHOTONS=1e6, OUTPUT_LAYERS=0, THVDEG=th0,\n",
    "                                           stdev=False, alis_options={'nlow':-1})"
   ]
  },
  {
   "cell_type": "code",
   "execution_count": null,
   "metadata": {
    "ExecuteTime": {
     "end_time": "2020-04-07T11:48:57.008789Z",
     "start_time": "2020-04-07T11:48:28.895596Z"
    }
   },
   "outputs": [],
   "source": [
    "%%time\n",
    "mfast1DA_B1_1e6 = Smartg(double=True, alt_pp=False, alis=True).run(wl=450., atm=atm, le=le, NBLOOP=1e5, NF=1e3,\n",
    "                                            NBPHOTONS=1e6, OUTPUT_LAYERS=0, THVDEG=th0,\n",
    "                                           stdev=False, alis_options={'nlow':-1})"
   ]
  },
  {
   "cell_type": "code",
   "execution_count": null,
   "metadata": {
    "ExecuteTime": {
     "end_time": "2020-04-07T11:51:43.844390Z",
     "start_time": "2020-04-07T11:51:31.721666Z"
    }
   },
   "outputs": [],
   "source": [
    "%%time\n",
    "m1D_B1_1e6 = Smartg(double=True, alt_pp=True, alis=False).run(wl=450., atm=atm, le=le, NBLOOP=1e5, NF=1e3,\n",
    "                                            NBPHOTONS=1e6, OUTPUT_LAYERS=0, THVDEG=th0,\n",
    "                                           stdev=False, alis_options={'nlow':-1})"
   ]
  },
  {
   "cell_type": "code",
   "execution_count": null,
   "metadata": {
    "ExecuteTime": {
     "end_time": "2020-04-07T11:51:47.657409Z",
     "start_time": "2020-04-07T11:51:43.847499Z"
    }
   },
   "outputs": [],
   "source": [
    "%%time\n",
    "mfast1D_B1_1e6 = Smartg(double=True, alt_pp=False, alis=False).run(wl=450., atm=atm, le=le, NBLOOP=1e5, NF=1e3,\n",
    "                                            NBPHOTONS=1e6, OUTPUT_LAYERS=0, THVDEG=th0,\n",
    "                                           stdev=False, alis_options={'nlow':-1})"
   ]
  },
  {
   "cell_type": "code",
   "execution_count": null,
   "metadata": {
    "ExecuteTime": {
     "end_time": "2020-04-07T11:51:48.748589Z",
     "start_time": "2020-04-07T11:51:47.660703Z"
    }
   },
   "outputs": [],
   "source": [
    "_=smartg_view(mfast1DA_B1_1e6)"
   ]
  },
  {
   "cell_type": "markdown",
   "metadata": {},
   "source": [
    "# TOSCA 3D"
   ]
  },
  {
   "cell_type": "markdown",
   "metadata": {},
   "source": [
    "## Bounding Box"
   ]
  },
  {
   "cell_type": "markdown",
   "metadata": {},
   "source": [
    "![Image of Bounding Box](https://static.packt-cdn.com/products/9781787123663/graphics/B05887_7_5.jpg)"
   ]
  },
  {
   "cell_type": "markdown",
   "metadata": {},
   "source": [
    "## Cube Mapping"
   ]
  },
  {
   "cell_type": "markdown",
   "metadata": {},
   "source": [
    "![Image of Cube Mapping](https://upload.wikimedia.org/wikipedia/commons/thumb/e/ea/Cube_map.svg/599px-Cube_map.svg.png)"
   ]
  },
  {
   "cell_type": "markdown",
   "metadata": {},
   "source": [
    "## IPRT B1"
   ]
  },
  {
   "cell_type": "code",
   "execution_count": null,
   "metadata": {
    "ExecuteTime": {
     "end_time": "2020-04-07T12:19:40.821489Z",
     "start_time": "2020-04-07T12:19:39.831539Z"
    }
   },
   "outputs": [],
   "source": [
    "# B1 IPRT data\n",
    "Nz      = 30\n",
    "zgrid   = np.linspace(0, 30., num=Nz+1)\n",
    "Nx, Ny  = 1, 1\n",
    "Nl      = Nz + 1                  # number of levels in Z\n",
    "Dx, Dy  = 1e6, 1e6           # horizontal grid interval in km\n",
    "assert Nl==zgrid.size\n",
    "\n",
    "#zgrid = np.concatenate([zgrid, np.array([120.])])\n",
    "(idx,idy,idz), (NX,NY,NZ), (xgrid, ygrid, zgrid), neigh, pmin, pmax = \\\n",
    "    Get_3Dcells(Nx=Nx, Ny=Ny, Dx=Dx, Dy=Dy, z=zgrid, SAT_ALTITUDE=110, periodic=False, HORIZ_EXTENT_LENGTH=0)\n",
    "Ncell   = NX*NY*NZ\n",
    "znew    = zgrid[::-1]\n",
    "atm     = AtmAFGL('afglt', O3=0., NO2=False, grid=znew)\n",
    "\n",
    "# Sun position\n",
    "SAA    = 0.\n",
    "SZA    = 50.\n",
    "POSX   = 0.\n",
    "POSY   = 0.\n",
    "POSZ   = 29.99\n",
    "# LE directions\n",
    "le   = {'phi_deg':np.linspace(0.,180., num=37), 'th_deg':np.linspace(0., 85., num=19)}\n",
    "# cell index\n",
    "ICELL = locate_3Dregular_cells(xgrid, ygrid,zgrid, POSX, POSY, POSZ)\n",
    "# sensor object\n",
    "sensor = Sensor(POSX=POSX, POSY=POSY, POSZ=POSZ, FOV=0., TYPE=0,\n",
    "                          THDEG=180.-SZA, PHDEG=180.-SAA, LOC='ATMOS', ICELL=ICELL)\n",
    "\n",
    "#Rayleigh\n",
    "wls         = [450.]\n",
    "sca_ray     = od2k(AtmAFGL('afglt', O3=0., NO2=True, grid=znew).calc(wls), 'OD_r')\n",
    "sca_ray3D   = np.concatenate([sca_ray], axis=1)\n",
    "sca_ray3D   = sca_ray"
   ]
  },
  {
   "cell_type": "code",
   "execution_count": null,
   "metadata": {
    "ExecuteTime": {
     "end_time": "2020-04-07T12:24:32.516456Z",
     "start_time": "2020-04-07T12:24:31.701333Z"
    },
    "run_control": {
     "marked": false
    }
   },
   "outputs": [],
   "source": [
    "## Mapping optical properties and cells\n",
    "# 1 clear profile + number of cloud cells opt. prop. (here 1 per cell)\n",
    "Nopt        = NZ + 1 \n",
    "iopt        = np.zeros(Ncell, dtype=np.int32)\n",
    "iabs        = np.zeros_like(iopt)\n",
    "iopt[:]     = np.arange(Nopt)[NZ-idz] # Scattering depending on Z for clear atmosphere (Rayleigh)\n",
    "iabs[:]     = np.arange(Nopt)[NZ-idz] # Absorption depending on Z only\n",
    "\n",
    "atm_arr = np.zeros((Nopt,9))\n",
    "#atm_arr[:,0] = np.arange(Nopt)[::-1]\n",
    "atm_arr[:,0] = zgrid\n",
    "np.savetxt('./tmp.dat', atm_arr)\n",
    "Nabs        = iabs.max().astype(np.int32)\n",
    "\n",
    "### profiles computations\n",
    "#atm3D = AtmAFGL('./tmp.dat', US=False,\n",
    "atm3D = AtmAFGL('afglt', US=False,\n",
    "                    grid        = zgrid,\n",
    "                    prof_ray    = sca_ray3D,\n",
    "                    cells       = (iopt, iabs, pmin, pmax, neigh)\n",
    "                   )\n",
    "pro3D  = atm3D.calc(wls)"
   ]
  },
  {
   "cell_type": "code",
   "execution_count": null,
   "metadata": {
    "ExecuteTime": {
     "end_time": "2020-04-07T11:52:41.852777Z",
     "start_time": "2020-04-07T11:52:00.876083Z"
    }
   },
   "outputs": [],
   "source": [
    "%%time\n",
    "NB     = 1e6\n",
    "m3D_B1_1e6    = Smartg(opt3D=True).run(wl=wls, NBPHOTONS=NB, NBLOOP=1e5, atm=pro3D.sub({'wavelength':np.arange(1)}), \n",
    "                 sensor=sensor, le=le, NF=1e3).sub({'wavelength':np.arange(1)})"
   ]
  },
  {
   "cell_type": "code",
   "execution_count": null,
   "metadata": {
    "ExecuteTime": {
     "end_time": "2020-04-07T11:53:56.844844Z",
     "start_time": "2020-04-07T11:52:47.731028Z"
    }
   },
   "outputs": [],
   "source": [
    "NB      = 1e6\n",
    "m3DA_B1_1e6    = Smartg(opt3D=True, alis=True).run(wl=wls, NBPHOTONS=NB, NBLOOP=1e5, atm=pro3D.sub({'wavelength':np.arange(1)}), \n",
    "                 sensor=sensor, le=le, NF=1e3, alis_options={'nlow':-1}).sub({'wavelength':np.arange(1)})"
   ]
  },
  {
   "cell_type": "code",
   "execution_count": null,
   "metadata": {
    "ExecuteTime": {
     "end_time": "2020-04-07T11:53:57.189166Z",
     "start_time": "2020-04-07T11:53:56.847951Z"
    }
   },
   "outputs": [],
   "source": [
    "# 3DMCPOL 1e6 photons 8 mins 03 sec  for one field (TOA)\n",
    "T = 8*60 + 3\n",
    "print ('3DMCPOL: %.1f'%T)\n",
    "print('%.2f'%(float(m3DA_B1_1e6.attrs['kernel time (s)'])))\n",
    "print('%.2f'%(float(m3D_B1_1e6.attrs['kernel time (s)'])))\n",
    "print('%.2f'%(float(m1DA_B1_1e6.attrs['kernel time (s)'])))\n",
    "print('%.2f'%(float(m1D_B1_1e6.attrs['kernel time (s)'])))\n",
    "print('%.2f'%(float(mfast1DA_B1_1e6.attrs['kernel time (s)'])))\n",
    "print('%.2f'%(float(mfast1D_B1_1e6.attrs['kernel time (s)'])))"
   ]
  },
  {
   "cell_type": "markdown",
   "metadata": {
    "ExecuteTime": {
     "end_time": "2019-02-13T12:40:48.396602Z",
     "start_time": "2019-02-13T12:40:47.869896Z"
    }
   },
   "source": [
    "## IPRT C2"
   ]
  },
  {
   "cell_type": "code",
   "execution_count": null,
   "metadata": {
    "ExecuteTime": {
     "end_time": "2020-04-07T14:55:55.804929Z",
     "start_time": "2020-04-07T14:55:55.337225Z"
    }
   },
   "outputs": [],
   "source": [
    "# Cloud Phase matrix\n",
    "cld_phase = read_mlut('/home/did/RTC/SMART-G/smartg/validation/IPRT/watercloud.mie.nc')\n",
    "ntheta = cld_phase['ntheta'][0,0,0]\n",
    "wl     = [670.]\n",
    "l      = []\n",
    "l.append(cld_phase['phase'][:,:,0,:ntheta].ravel() + cld_phase['phase'][:,:,1,:ntheta].ravel())\n",
    "l.append(cld_phase['phase'][:,:,0,:ntheta].ravel() - cld_phase['phase'][:,:,1,:ntheta].ravel())\n",
    "l.append(cld_phase['phase'][:,:,2,:ntheta].ravel())\n",
    "l.append(cld_phase['phase'][:,:,3,:ntheta].ravel())\n",
    "# Normalization to 2\n",
    "p      = cld_phase['phase'][:,:,0,:ntheta].ravel()\n",
    "theta  = cld_phase['theta'][:,:,0,:ntheta].ravel()[::-1]\n",
    "mu     = np.cos(np.radians(theta))\n",
    "NORM   = np.trapz(p,-mu)\n",
    "data   = np.array(l) \n",
    "print ('phase function norm: ', NORM)\n",
    "#data = np.array(l) * (2./Norm)\n",
    "# 2) store data in a LUT object with 4 dimensions, the z dimension is restricted to one level of altitude 0\n",
    "pha_cld = LUT(data[:, ::-1], names=['stk', 'theta_atm'],\n",
    "          axes=[None, cld_phase['theta'][:,:,0,:ntheta].ravel()[::-1]]\n",
    "         )"
   ]
  },
  {
   "cell_type": "code",
   "execution_count": null,
   "metadata": {
    "ExecuteTime": {
     "end_time": "2020-04-07T14:55:58.055720Z",
     "start_time": "2020-04-07T14:55:57.938187Z"
    }
   },
   "outputs": [],
   "source": [
    "# vertical grid in descending order as usual for SmartG 1D\n",
    "znew = np.array([100., 99., 20., 5., 3., 2., 0.])\n",
    "Nx=1\n",
    "Ny=1\n",
    "Dx=1\n",
    "Dy=1\n",
    "# vertical grid in ascending order for 3D grid\n",
    "zgrid = znew[::-1]\n",
    "\n",
    "# grid building\n",
    "(idx,idy,idz), (NX,NY,NZ), (xgrid, ygrid, zgrid), neigh, pmin, pmax = \\\n",
    "    Get_3Dcells(Nx=Nx,Dx=Dx,Ny=Ny,Dy=Dy, z=zgrid, SAT_ALTITUDE=120, \n",
    "                periodic=False, HORIZ_EXTENT_LENGTH=1e5)\n",
    "Ncell   = NX*NY*NZ\n",
    "\n",
    "# cloud cells\n",
    "idx_cloud  = [1]\n",
    "idy_cloud  = [1]\n",
    "idz_cloud  = [1]\n",
    "cloud_cell = np.ravel_multi_index((idx_cloud, idy_cloud, idz_cloud), \n",
    "                                  dims=(NX,NY,NZ), order='C')"
   ]
  },
  {
   "cell_type": "code",
   "execution_count": null,
   "metadata": {
    "ExecuteTime": {
     "end_time": "2020-04-07T14:55:59.441605Z",
     "start_time": "2020-04-07T14:55:58.772014Z"
    }
   },
   "outputs": [],
   "source": [
    "wls = [362.]\n",
    "ODR = 0.5\n",
    "#Rayleigh\n",
    "sca_ray     = od2k(AtmAFGL('afglt', O3=0., NO2=True, grid=znew, tauR=0.5).calc(wls), 'OD_r')\n",
    "#Cloud\n",
    "sca_cld     = [10.]\n",
    "\n",
    "# Concatenation\n",
    "sca_cld3D = np.concatenate([np.zeros_like(sca_ray), np.stack([sca_cld]*cloud_cell.size, axis=1)], axis=1)\n",
    "sca_ray3D = np.concatenate([sca_ray, sca_ray[:,NZ-idz[cloud_cell]]], axis=1)\n",
    "ssa_cld3D = np.ones_like(sca_cld3D)\n",
    "ipha3D    = np.zeros_like(sca_cld3D, dtype=int32)\n",
    "\n",
    "## Mapping optical propoerties and cells\n",
    "# 1 clear profile + number of cloud cells opt. prop. (here 1 per cell)\n",
    "Nopt       = NZ + 1 + cloud_cell.size\n",
    "iopt       = np.zeros(Ncell, dtype=int32)\n",
    "iabs       = np.zeros_like(iopt)\n",
    "iopt[:]    = np.arange(Nopt)[NZ-idz] # Scattering depending on Z for clear atmosphere (Rayleigh)\n",
    "iabs[:]    = np.arange(Nopt)[NZ-idz] # Absorption depending on Z only\n",
    "iopt[cloud_cell] = NZ + 1 + np.arange(cloud_cell.size)  # Scattering depending on cloud cell\n",
    "\n",
    "atm3D = AtmAFGL('afglt',\n",
    "                    grid        = np.arange(Nopt),\n",
    "                    prof_ray    = sca_ray3D,\n",
    "                    prof_aer    = (sca_cld3D, ssa_cld3D),\n",
    "                    prof_phases = (ipha3D, [pha_cld]),\n",
    "                    cells       = (iopt, iabs, pmin, pmax, neigh)\n",
    "                   )\n",
    "pro3D  = atm3D.calc(wls)"
   ]
  },
  {
   "cell_type": "code",
   "execution_count": null,
   "metadata": {
    "ExecuteTime": {
     "end_time": "2020-04-07T14:56:00.136768Z",
     "start_time": "2020-04-07T14:56:00.044419Z"
    },
    "run_control": {
     "marked": true
    }
   },
   "outputs": [],
   "source": [
    "# Sun position\n",
    "SAA    = 180.\n",
    "SZA    = 40.\n",
    "# Sensors position\n",
    "Npix   = 70\n",
    "POSZ   = 55.0001\n",
    "POSX   = 3.4999\n",
    "POSY   = 3.4999\n",
    "THDEG  = 180.\n",
    "PHDEG  = 0.\n",
    "# pixels centers on the ground\n",
    "x0    = np.linspace(-POSX, POSX, num=Npix) # central domain (cumulus) boundaries\n",
    "y0    = np.linspace(-POSY, POSY, num=Npix)\n",
    "z0    = np.linspace( POSZ,   5 , num=Npix)\n",
    "#\n",
    "xx,yy = np.meshgrid(x0, y0)\n",
    "zz    = np.zeros_like(xx) + POSZ\n",
    "# cells indices\n",
    "icells = locate_3Dregular_cells(xgrid, ygrid, zgrid, xx.ravel(), yy.ravel(), zz.ravel())\n",
    "\n",
    "sensors=[]\n",
    "for POSX,POSY,POSZ,ICELL in zip(xx.ravel(), yy.ravel(), zz.ravel(), icells):\n",
    "    sensors.append(Sensor(POSX=POSX, POSY=POSY, POSZ=POSZ, FOV=0., TYPE=0,\n",
    "                          THDEG=THDEG, PHDEG=PHDEG, LOC='ATMOS', ICELL=ICELL))"
   ]
  },
  {
   "cell_type": "code",
   "execution_count": null,
   "metadata": {
    "ExecuteTime": {
     "end_time": "2020-04-07T14:57:01.280483Z",
     "start_time": "2020-04-07T14:56:02.811938Z"
    }
   },
   "outputs": [],
   "source": [
    "%%time\n",
    "S3D    = Smartg(opt3D=True,  alt_pp=True, alis=False) # 3D\n",
    "le     = {'th_deg':np.array([SZA]), 'phi_deg':np.array([SAA])}\n",
    "NB     = len(sensors) * 1e5\n",
    "surf   = LambSurface(ALB=Albedo_cst(0.2))\n",
    "m3D    = S3D.run(wl=wl, DEPO=0.2, NBPHOTONS=NB, atm=pro3D, sensor=sensors, le=le, surf=surf, NBLOOP=1e7, NF=1e4)"
   ]
  },
  {
   "cell_type": "code",
   "execution_count": null,
   "metadata": {
    "ExecuteTime": {
     "end_time": "2020-04-07T14:57:03.006391Z",
     "start_time": "2020-04-07T14:57:01.284032Z"
    }
   },
   "outputs": [],
   "source": [
    "for k in range(1):\n",
    "    fig,ax=subplots(2,2)\n",
    "    fig.set_size_inches((14,10))\n",
    "    I = m3D['I_up (TOA)'][:,0,0].reshape((Npix,Npix))\n",
    "    Q = m3D['Q_up (TOA)'][:,0,0].reshape((Npix,Npix))\n",
    "    U = m3D['U_up (TOA)'][:,0,0].reshape((Npix,Npix))\n",
    "    V = m3D['V_up (TOA)'][:,0,0].reshape((Npix,Npix))\n",
    "    P1=ax[0,0].imshow(I, vmin=0., vmax=0.6, cmap=cm.jet)\n",
    "    colorbar(P1, ax=ax[0,0], shrink=0.8)\n",
    "    P2=ax[0,1].imshow(Q, vmin=-0.1, vmax=0.1, cmap=cm.RdBu_r)\n",
    "    colorbar(P2, ax=ax[0,1], shrink=0.8)\n",
    "    P3=ax[1,0].imshow(-U, vmin=-0.0005, vmax=0.0005, cmap=cm.RdBu_r)\n",
    "    colorbar(P3, ax=ax[1,0], shrink=0.8)\n",
    "    P4=ax[1,1].imshow(V, vmin=-0.0001, vmax=0.0001, cmap=cm.RdBu_r)\n",
    "    colorbar(P4, ax=ax[1,1], shrink=0.8)\n",
    "    #P4=ax[1,1].imshow(np.sqrt(Q**2+U**2)/I*100, vmin=0, vmax=40, cmap=cm.RdBu_r)\n",
    "    #colorbar(P4, ax=ax[1,1], shrink=0.8)"
   ]
  },
  {
   "cell_type": "code",
   "execution_count": null,
   "metadata": {
    "ExecuteTime": {
     "end_time": "2020-04-07T14:57:04.260813Z",
     "start_time": "2020-04-07T14:57:03.008801Z"
    },
    "scrolled": false
   },
   "outputs": [],
   "source": [
    "# 3DMCPOL results\n",
    "mcpol_c2  = read_3dmcpol_c2_pp(iset=1).dropaxis('Zenith angles').describe()\n",
    "for k in range(1):\n",
    "    fig,ax=subplots(2,2)\n",
    "    fig.set_size_inches((14,10))\n",
    "    I = mcpol_c2['I_up (TOA)'][:].reshape((Npix,Npix))\n",
    "    Q = mcpol_c2['Q_up (TOA)'][:].reshape((Npix,Npix))\n",
    "    U = mcpol_c2['U_up (TOA)'][:].reshape((Npix,Npix))\n",
    "    V = mcpol_c2['V_up (TOA)'][:].reshape((Npix,Npix))\n",
    "    P1=ax[0,0].imshow(I.T, vmin=0., vmax=0.6, cmap=cm.jet)\n",
    "    colorbar(P1, ax=ax[0,0], shrink=0.8)\n",
    "    P2=ax[0,1].imshow(Q.T, vmin=-0.1, vmax=0.1, cmap=cm.RdBu_r)\n",
    "    colorbar(P2, ax=ax[0,1], shrink=0.8)\n",
    "    P3=ax[1,0].imshow(-U.T, vmin=-0.0005, vmax=0.0005, cmap=cm.RdBu_r)\n",
    "    colorbar(P3, ax=ax[1,0], shrink=0.8)\n",
    "    P4=ax[1,1].imshow(V.T, vmin=-0.0001, vmax=0.0001, cmap=cm.RdBu_r)\n",
    "    colorbar(P4, ax=ax[1,1], shrink=0.8)\n",
    "    #P4=ax[1,1].imshow(np.sqrt(Q**2+U**2)/I*100, vmin=0, vmax=40, cmap=cm.RdBu_r)\n",
    "    #colorbar(P4, ax=ax[1,1], shrink=0.8)"
   ]
  },
  {
   "cell_type": "markdown",
   "metadata": {},
   "source": [
    "## LES cloud POLDER"
   ]
  },
  {
   "cell_type": "markdown",
   "metadata": {},
   "source": [
    "### Scene"
   ]
  },
  {
   "cell_type": "code",
   "execution_count": null,
   "metadata": {
    "ExecuteTime": {
     "end_time": "2020-04-10T07:28:51.692393Z",
     "start_time": "2020-04-10T07:28:51.179253Z"
    }
   },
   "outputs": [],
   "source": [
    "# C3 IPRT Cumulus data\n",
    "cumulus_f='/home/did/RTC/SMART-G/smartg/validation/IPRT/cumulus.dat'\n",
    "f       = open(cumulus_f, 'r')\n",
    "f.readline(); \n",
    "l       = f.readline().split()\n",
    "Nx, Ny, Nz, _ = list(map(int, l)) # number of cumulus cells in X, Y, X\n",
    "Nl      = Nz + 1                  # number of levels in Z\n",
    "l       = f.readline()\n",
    "g_info  = list(map(float, l.split()))\n",
    "Dx, Dy  = g_info[0:2]            # horizontal grid interval in km\n",
    "#Dx*=10. ; Dy*=10.\n",
    "zgrid   = np.array(g_info[2:])     # vertical grid in km\n",
    "assert Nl==zgrid.size\n",
    "\n",
    "zgrid = np.concatenate([zgrid, np.array([120.])])\n",
    "(idx,idy,idz), (NX,NY,NZ), (xgrid, ygrid, zgrid), neigh, pmin, pmax = \\\n",
    "    Get_3Dcells(Nx=Nx, Ny=Ny, Dx=Dx, Dy=Dy, z=zgrid, SAT_ALTITUDE=120, periodic=False, HORIZ_EXTENT_LENGTH=1e5)\n",
    "Ncell = NX*NY*NZ\n",
    "znew  = zgrid[::-1]"
   ]
  },
  {
   "cell_type": "code",
   "execution_count": null,
   "metadata": {
    "ExecuteTime": {
     "end_time": "2020-04-10T07:28:56.648581Z",
     "start_time": "2020-04-10T07:28:54.199962Z"
    },
    "run_control": {
     "marked": true
    }
   },
   "outputs": [],
   "source": [
    "SENTINEL_POLDER = REPTRAN('reptran_solar_parasol')\n",
    "ibands = SENTINEL_POLDER.to_smartg(lmin=880, lmax=990) # select POLDER band water vapour\n",
    "wl_ref = 670.\n",
    "w0 = []\n",
    "for b in ibands.l:   w0.append(b.w)\n",
    "#alternative reff = 2 micron phase function\n",
    "cld = CloudOPAC('wc.sol', 1., 2., 3., 1., wl_ref)\n",
    "pha_cld = AtmAFGL('afglt', comp=[cld]).calc(wl_ref)['phase_atm'].sub()[0,:,:]\n",
    "# white Cumulus C3 LES cloud ksca\n",
    "cumulus     = np.loadtxt(cumulus_f, skiprows=3, dtype=np.float32)\n",
    "sca_cld     = np.stack([cumulus[:,3]]*len(ibands.l), axis=0) # km-1\n",
    "\n",
    "#Rayleigh\n",
    "sca_ray     = od2k(AtmAFGL('afglt', O3=0., NO2=True, grid=znew).calc(ibands.l), 'OD_r')\n",
    "abs_gas     = od2k(AtmAFGL('afglt', O3=0., NO2=True, grid=znew).calc(ibands.l), 'OD_g')\n",
    "\n",
    "# indexing of C3 cells into SMART-G grid\n",
    "cloud_geo   = cumulus[:,:3].astype(int32)-1\n",
    "cloud_cell  = np.ravel_multi_index((cloud_geo[:,0], cloud_geo[:,1], cloud_geo[:,2]),\n",
    "                    dims=(NX, NY, NZ))\n",
    "\n",
    "# Concatenation\n",
    "sca_cld3D   = np.concatenate([np.zeros_like(sca_ray), sca_cld], axis=1)\n",
    "sca_ray3D   = np.concatenate([sca_ray, sca_ray[:,NZ-idz[cloud_cell]]], axis=1)\n",
    "abs_gas3D   = np.concatenate([abs_gas, abs_gas[:,NZ-idz[cloud_cell]]], axis=1)\n",
    "ssa_cld3D   = np.ones_like(sca_cld3D)\n",
    "ipha3D      = np.zeros_like(sca_cld3D, dtype=int32)\n",
    "\n",
    "## Mapping optical propoerties and cells\n",
    "# 1 clear profile + number of cloud cells opt. prop. (here 1 per cell)\n",
    "Nopt        = NZ + 1 + cloud_cell.size\n",
    "iopt        = np.zeros(Ncell, dtype=int32)\n",
    "iabs        = np.zeros_like(iopt)\n",
    "iopt[:]     = np.arange(Nopt)[NZ-idz] # Scattering depending on Z for clear atmosphere (Rayleigh)\n",
    "iabs[:]     = np.arange(Nopt)[NZ-idz] # Absorption depending on Z only\n",
    "iopt[cloud_cell] = NZ + 1 + np.arange(cloud_cell.size)  # Scattering depending on cloud cell\n",
    "\n",
    "atm_arr = np.zeros((Nopt,9))\n",
    "atm_arr[:,0] = np.arange(Nopt)[::-1]\n",
    "np.savetxt('./tmp.dat', atm_arr)\n",
    "Nabs        = iabs.max().astype(np.int32)\n",
    "\n",
    "### profiles computations\n",
    "atm3D = AtmAFGL('./tmp.dat', US=False,\n",
    "                    grid        = np.arange(Nopt),\n",
    "                    prof_abs    = abs_gas3D,\n",
    "                    prof_ray    = sca_ray3D,\n",
    "                    prof_aer    = (sca_cld3D, ssa_cld3D),\n",
    "                    prof_phases = (ipha3D, [pha_cld]),\n",
    "                    cells       = (iopt, iabs, pmin, pmax, neigh)\n",
    "                   )\n",
    "pro3D  = atm3D.calc(ibands.l)\n",
    "\n",
    "# Ground\n",
    "ALB     = Albedo_speclib('/rfs/data/speclib2.0/data/jhu.becknic.vegetation.grass.green.solid.gras.spectrum.txt')\n",
    "surf    = LambSurface(ALB=Albedo_cst(ALB.get(w0)))"
   ]
  },
  {
   "cell_type": "markdown",
   "metadata": {},
   "source": [
    "### View 1"
   ]
  },
  {
   "cell_type": "code",
   "execution_count": null,
   "metadata": {
    "ExecuteTime": {
     "end_time": "2020-04-10T07:29:01.282165Z",
     "start_time": "2020-04-10T07:29:01.169086Z"
    },
    "run_control": {
     "marked": false
    }
   },
   "outputs": [],
   "source": [
    "# Sun position\n",
    "SAA    = 180.\n",
    "SZA    = 40.\n",
    "le     = {'th_deg':np.array([SZA]), 'phi_deg':np.array([SAA])}\n",
    "# Sensors position\n",
    "Npix   = 10\n",
    "POSZ   = 30.\n",
    "THDEG  = 180.\n",
    "PHDEG  = 180.\n",
    "# pixels centers on the ground\n",
    "x0     = np.linspace(-Nx*Dx/2., Nx*Dx/2, num=Npix) # central domain (cumulus) boundaries\n",
    "y0     = np.linspace(-Ny*Dy/2., Ny*Dy/2, num=Npix)\n",
    "#\n",
    "xx,yy  = np.meshgrid(x0, y0)\n",
    "zz     = np.zeros_like(xx) + POSZ\n",
    "\n",
    "# cells indices\n",
    "icells = locate_3Dregular_cells(xgrid, ygrid,zgrid, xx.ravel(), yy.ravel(), zz.ravel())\n",
    "# sensors objects\n",
    "sensors1=[]\n",
    "for POSX,POSY,ICELL in zip(xx.ravel(), yy.ravel(), icells):\n",
    "    sensors1.append(Sensor(POSX=POSX, POSY=POSY, POSZ=POSZ, FOV=0., TYPE=0,\n",
    "                          THDEG=THDEG, PHDEG=PHDEG, LOC='ATMOS', ICELL=ICELL))"
   ]
  },
  {
   "cell_type": "code",
   "execution_count": null,
   "metadata": {
    "ExecuteTime": {
     "end_time": "2020-04-10T07:29:06.936009Z",
     "start_time": "2020-04-10T07:29:03.167918Z"
    }
   },
   "outputs": [],
   "source": [
    "%%time\n",
    "NB     = len(sensors1) * 1e2\n",
    "m3D1   = reduce_reptran(Smartg(opt3D=True).run(ibands.l, NBPHOTONS=NB, NBLOOP=1e4, atm=pro3D, \n",
    "                 sensor=sensors1, le=le, surf=surf, NF=1e4), ibands, use_solar=True).describe()"
   ]
  },
  {
   "cell_type": "code",
   "execution_count": null,
   "metadata": {
    "ExecuteTime": {
     "end_time": "2020-04-10T07:29:15.007839Z",
     "start_time": "2020-04-10T07:29:14.023855Z"
    }
   },
   "outputs": [],
   "source": [
    "rcParams.update({'font.size':18})\n",
    "f,ax = subplots(1,1)\n",
    "f.set_size_inches(8,8)\n",
    "II   = m3D1['I_up (TOA)'][:,:,0,0].reshape(Npix,Npix,-1)\n",
    "im   = II[-1:1:-1,1:-1:1,0]\n",
    "img  = ax.imshow(im, cmap=cm.Blues_r, vmax=2000, extent=[x0.min(),x0.max(),y0.min(),y0.max()])\n",
    "ax.set_xlabel('X (km)')\n",
    "ax.set_ylabel('Y (km)')\n",
    "cbar = f.colorbar(img, shrink=0.9, orientation='vertical')\n",
    "cbar.ax.set_xlabel(mdesc('I_up (TOA)')+r'$ (mW.m^{-2}.sr^{-1}.nm^{-1})$')"
   ]
  },
  {
   "cell_type": "markdown",
   "metadata": {},
   "source": [
    "### View 2"
   ]
  },
  {
   "cell_type": "code",
   "execution_count": null,
   "metadata": {
    "ExecuteTime": {
     "end_time": "2020-04-10T08:22:44.968594Z",
     "start_time": "2020-04-10T08:22:44.837096Z"
    },
    "run_control": {
     "marked": true
    }
   },
   "outputs": [],
   "source": [
    "from smartg.geometry import Point, Vector\n",
    "# Sun position\n",
    "SAA    = 180.\n",
    "SZA    = 40.\n",
    "le     = {'th_deg':np.array([SZA]), 'phi_deg':np.array([SAA])}\n",
    "# Sensors position\n",
    "Npix   = 10\n",
    "POSX   = 0.05\n",
    "POSY   = 0.05\n",
    "POSZ   = 30.\n",
    "pS     = Point(POSX,POSY,POSZ) # Camera position\n",
    "ICELL  = locate_3Dregular_cells(xgrid, ygrid, zgrid, POSX, POSY, POSZ)\n",
    "# pixels centers on the ground\n",
    "x0     = np.linspace(-Nx*Dx/2., Nx*Dx/2, num=Npix) # central domain (cumulus) boundaries\n",
    "y0     = np.linspace(-Ny*Dy/2., Ny*Dy/2, num=Npix)\n",
    "xx,yy  = np.meshgrid(x0, y0)\n",
    "sensors2= []\n",
    "for x,y in zip(xx.ravel(), yy.ravel()):   \n",
    "    pF  = Point(x, y, 0.)\n",
    "    vS  = Vector(pF-pS) # Sensor pointing vector\n",
    "    sensors2.append(Sensor(POSX=pS.x, POSY=pS.y, POSZ=pS.z, LOC='ATMOS', FOV=0., TYPE=0, V=vS, ICELL=ICELL))"
   ]
  },
  {
   "cell_type": "code",
   "execution_count": null,
   "metadata": {
    "ExecuteTime": {
     "end_time": "2020-04-10T08:22:47.048198Z",
     "start_time": "2020-04-10T08:22:45.769533Z"
    }
   },
   "outputs": [],
   "source": [
    "%%time\n",
    "NB     = len(sensors2) * 1e2\n",
    "m3D2   = reduce_reptran(Smartg(opt3D=True, verbose_photon=False).run(ibands.l, NBPHOTONS=NB, NBLOOP=1e2, atm=pro3D, \n",
    "                 sensor=sensors2, le=le, surf=surf, NF=1e4), ibands, use_solar=True).describe()"
   ]
  },
  {
   "cell_type": "code",
   "execution_count": null,
   "metadata": {
    "ExecuteTime": {
     "end_time": "2020-04-10T08:21:51.495621Z",
     "start_time": "2020-04-10T08:21:50.299066Z"
    }
   },
   "outputs": [],
   "source": [
    "rcParams.update({'font.size':18})\n",
    "f,ax = subplots(1,1)\n",
    "f.set_size_inches(8,8)\n",
    "II   = m3D2['I_up (TOA)'][:,:,0,0].reshape(Npix,Npix,-1)\n",
    "im   = II[-1:1:-1,1:-1:1,0]\n",
    "img  = ax.imshow(im, cmap=cm.Blues_r, vmax=2000, extent=[x0.min(),x0.max(),y0.min(),y0.max()])\n",
    "ax.set_xlabel('X (km)')\n",
    "ax.set_ylabel('Y (km)')\n",
    "cbar = f.colorbar(img, shrink=0.9, orientation='vertical')\n",
    "cbar.ax.set_xlabel(mdesc('I_up (TOA)')+r'$ (mW.m^{-2}.sr^{-1}.nm^{-1})$')"
   ]
  },
  {
   "cell_type": "code",
   "execution_count": null,
   "metadata": {
    "ExecuteTime": {
     "end_time": "2020-04-10T08:22:02.026035Z",
     "start_time": "2020-04-10T08:22:01.920513Z"
    }
   },
   "outputs": [],
   "source": [
    "for sen in sensors2:\n",
    "    print(sen)"
   ]
  },
  {
   "cell_type": "markdown",
   "metadata": {
    "ExecuteTime": {
     "end_time": "2019-02-13T12:40:48.396602Z",
     "start_time": "2019-02-13T12:40:47.869896Z"
    }
   },
   "source": [
    "# LPS2019"
   ]
  },
  {
   "cell_type": "code",
   "execution_count": null,
   "metadata": {
    "ExecuteTime": {
     "end_time": "2019-10-08T12:22:17.603439Z",
     "start_time": "2019-10-08T12:22:17.527620Z"
    }
   },
   "outputs": [],
   "source": [
    "import ephem\n",
    "\n",
    "def Get_SunEarth(obs):\n",
    "    \"\"\"\n",
    "    Get Earth-Sun distance correction\n",
    "    \"\"\"\n",
    "    date = str(obs.date).split()[0]\n",
    "    jday = datetime.datetime.strptime(date, '%Y/%m/%d').timetuple().tm_yday\n",
    "    SE_corr_c1 = 1.00011\n",
    "    SE_corr_c2 = 0.034221\n",
    "    SE_corr_c3 = 0.00128\n",
    "    SE_corr_c4 = 0.000719\n",
    "    SE_corr_c5 = 0.000077\n",
    "\n",
    "    d_qo = 2.0 * np.arccos(-1.) * (jday + 0.35) / 365.\n",
    "    d_corr = SE_corr_c1 +                       \\\n",
    "             SE_corr_c2 * np.cos(d_qo) +           \\\n",
    "             SE_corr_c3 * np.sin(d_qo) +           \\\n",
    "             SE_corr_c4 * np.cos(d_qo * 2.) +      \\\n",
    "             SE_corr_c5 * np.sin(d_qo * 2.)\n",
    "    dist = 1.0 / np.sqrt(d_corr)\n",
    "\n",
    "    return dist * dist\n",
    "\n",
    "\n",
    "lon = 0.\n",
    "lat = 35.\n",
    "\n",
    "dates= ['2015/6/21','2015/9/20']\n",
    "\n",
    "dt  = 75./(24*60) # time interval in fraction of day, here 30 minutes\n",
    "\n",
    "obs      = ephem.Observer()\n",
    "obs.lon  = str(lon)\n",
    "obs.lat  = str(lat)\n",
    "obs.pressure=0.\n",
    "obs.horizon = '0:34'\n",
    "obs.date = dates[1]\n",
    "sun      = ephem.Sun()\n",
    "drise    = obs.next_rising (sun, start=obs.date)\n",
    "dset     = obs.next_setting(sun, start=obs.date)\n",
    "dnoon    = obs.next_transit(sun, start=obs.date)\n",
    "#halfday  = dnoon - drise # computation from noon to sunrise\n",
    "fullday  = dset  - drise # computation from noon to sunrise\n",
    "\n",
    "#t        = np.linspace(0.001, halfday, num=halfday/dt, endpoint=True)\n",
    "t        = np.linspace(0.00, fullday, num=fullday/dt, endpoint=False)\n",
    "\n",
    "dates=[]\n",
    "th0=[]\n",
    "sed=[]\n",
    "ph0 = []\n",
    "for i,dt in enumerate(t):\n",
    "    #da       = dnoon - dt\n",
    "    da       = dset  - dt\n",
    "    obs.date = da\n",
    "    sun.compute(obs)\n",
    "    th0.append( 90.-float(sun.alt)*180/np.pi)\n",
    "    ph0.append(float(sun.az)*180./np.pi)\n",
    "    dates.append(str(obs.date))\n",
    "    sed.append(Get_SunEarth(obs))\n",
    "th0=np.array(th0)\n",
    "ph0=np.array(ph0)\n",
    "mus = cos(th0*np.pi/180)\n",
    "\n",
    "# Solar geometries\n",
    "le={'th_deg':th0, 'phi_deg':ph0, 'zip':True}"
   ]
  },
  {
   "cell_type": "markdown",
   "metadata": {},
   "source": [
    "# Profile to Cell"
   ]
  },
  {
   "cell_type": "markdown",
   "metadata": {},
   "source": [
    "## Simple atmosphere"
   ]
  },
  {
   "cell_type": "code",
   "execution_count": null,
   "metadata": {
    "ExecuteTime": {
     "end_time": "2020-04-07T12:08:14.000538Z",
     "start_time": "2020-04-07T12:08:13.044079Z"
    }
   },
   "outputs": [],
   "source": [
    "# vertical grid in descending order as usual for SmartG 1D\n",
    "znew = np.linspace(50., 0. , num=26)\n",
    "#znew = np.array([100., 99., 20., 5., 3., 2., 0.])\n",
    "Nx=1\n",
    "Ny=1\n",
    "Dx=1e5\n",
    "Dy=1e5\n",
    "# vertical grid in ascending order for 3D grid\n",
    "zgrid = znew[::-1]\n",
    "\n",
    "# grid building\n",
    "(idx,idy,idz), (NX,NY,NZ), (xgrid, ygrid, zgrid), neigh, pmin, pmax = \\\n",
    "    Get_3Dcells(Nx=Nx,Dx=Dx,Ny=Ny,Dy=Dy, z=zgrid, SAT_ALTITUDE=120, \n",
    "                periodic=False, HORIZ_EXTENT_LENGTH=0)\n",
    "Ncell   = NX*NY*NZ\n",
    "\n",
    "# cells optical properties\n",
    "iopt           = np.zeros(NX*NY*NZ, dtype= int32)\n",
    "# properties depend only on z\n",
    "iatm           = np.arange(NZ)\n",
    "iopt[:]        = iatm[idz]+1\n",
    "\n",
    "atm3D_clr = AtmAFGL('afglt', O3=0., NO2=False,\n",
    "                    grid        = zgrid,\n",
    "                    cells       = (iopt, pmin, pmax, neigh)\n",
    "                   )\n",
    "atm_clr   = AtmAFGL('afglt', O3=0., NO2=False,\n",
    "                    grid        = zgrid[::-1]\n",
    "                   )\n",
    "wl = np.linspace(400., 420., num=5)\n",
    "wl = [400.]\n",
    "\n",
    "pro3D_clr = atm3D_clr.calc(wl)\n",
    "pro_clr   = atm_clr.calc(wl)"
   ]
  },
  {
   "cell_type": "code",
   "execution_count": null,
   "metadata": {
    "ExecuteTime": {
     "end_time": "2019-12-24T14:23:04.255739Z",
     "start_time": "2019-12-24T14:23:04.130010Z"
    }
   },
   "outputs": [],
   "source": [
    "(idx,idy,idz), (NX,NY,NZ), (xgrid, ygrid, zgrid), neigh, pmin, pmax"
   ]
  },
  {
   "cell_type": "code",
   "execution_count": null,
   "metadata": {
    "ExecuteTime": {
     "end_time": "2019-12-24T14:23:09.374745Z",
     "start_time": "2019-12-24T14:23:09.248856Z"
    }
   },
   "outputs": [],
   "source": [
    "# Sensors position\n",
    "POSX = 0.005\n",
    "POSY = 0.005\n",
    "POSZ = 110.00001\n",
    "P    = Point(z=POSZ)\n",
    "icells = locate_3D_cells(pro3D_clr, np.array([POSX]), np.array([POSY]), np.array([POSZ]))\n",
    "ICELL = icells[0]\n",
    "print(ICELL)\n",
    "# pixels centers on the ground\n",
    "x0    = xgrid # central domain (cumulus) boundaries\n",
    "y0    = ygrid\n",
    "# centers\n",
    "xx,yy = np.meshgrid(np.diff(x0)/2. + x0[:-1], np.diff(y0)/2. + y0[:-1])\n",
    "# view angles\n",
    "PHDEG = np.degrees(np.arctan2(xx, yy))\n",
    "THDEG = 180-np.degrees(np.arctan2(np.sqrt(xx**2+yy**2), POSZ))\n",
    "\n",
    "sensors=[]\n",
    "for th, ph in zip(THDEG.ravel(), PHDEG.ravel()):\n",
    "    sensors.append(Sensor(POSX=POSX, POSY=POSY, POSZ=POSZ, FOV=0., TYPE=0,\n",
    "                          THDEG=th, PHDEG=ph, LOC='ATMOS', ICELL=ICELL))"
   ]
  },
  {
   "cell_type": "code",
   "execution_count": null,
   "metadata": {
    "ExecuteTime": {
     "start_time": "2019-12-24T14:23:10.232Z"
    }
   },
   "outputs": [],
   "source": [
    "%%time\n",
    "S3D    = Smartg(opt3D=True,  alt_pp=True) # 3D\n",
    "S      = Smartg(opt3D=False, alt_pp=True) # 3D\n",
    "le     = {'th_deg':np.linspace(0, 80., num=1), 'phi_deg':np.linspace(0., 210., num=1)}\n",
    "\n",
    "NB     = 1e7\n",
    "surf   = RoughSurface()\n",
    "surf   = None\n",
    "m3D    = S3D.run(wl=wl,  NBPHOTONS=NB, atm=pro3D_clr, sensor=sensors, le=None, surf=surf, NBLOOP=1e6,\n",
    "               stdev=False, NF=1e4, NBPHI=18, NBTHETA=35)\n",
    "m0     = S.run(wl=wl,  NBPHOTONS=NB, atm=pro_clr, sensor=sensors, le=None, surf=surf, NBLOOP=1e6,\n",
    "               stdev=False, NF=1e4, NBPHI=18, NBTHETA=35)"
   ]
  },
  {
   "cell_type": "code",
   "execution_count": null,
   "metadata": {
    "ExecuteTime": {
     "end_time": "2019-12-23T10:13:05.238327Z",
     "start_time": "2019-12-23T10:13:03.214585Z"
    }
   },
   "outputs": [],
   "source": [
    "_=smartg_view(m3D.sub({'sensor index':0}))\n",
    "_=smartg_view(m0.sub({'sensor index':0}))"
   ]
  },
  {
   "cell_type": "markdown",
   "metadata": {},
   "source": [
    "## Cloud"
   ]
  },
  {
   "cell_type": "code",
   "execution_count": null,
   "metadata": {
    "ExecuteTime": {
     "end_time": "2020-04-07T12:46:57.767723Z",
     "start_time": "2020-04-07T12:46:57.257489Z"
    }
   },
   "outputs": [],
   "source": [
    "# Cloud Phase matrix\n",
    "cld_phase = read_mlut('/home/did/RTC/SMART-G/smartg/validation/IPRT/watercloud.mie.nc')\n",
    "ntheta = cld_phase['ntheta'][0,0,0]\n",
    "wl     = [670.]\n",
    "l      = []\n",
    "l.append(cld_phase['phase'][:,:,0,:ntheta].ravel() + cld_phase['phase'][:,:,1,:ntheta].ravel())\n",
    "l.append(cld_phase['phase'][:,:,0,:ntheta].ravel() - cld_phase['phase'][:,:,1,:ntheta].ravel())\n",
    "l.append(cld_phase['phase'][:,:,2,:ntheta].ravel())\n",
    "l.append(cld_phase['phase'][:,:,3,:ntheta].ravel())\n",
    "# Normalization to 2\n",
    "p      = cld_phase['phase'][:,:,0,:ntheta].ravel()\n",
    "theta  = cld_phase['theta'][:,:,0,:ntheta].ravel()[::-1]\n",
    "mu     = np.cos(np.radians(theta))\n",
    "NORM   = np.trapz(p,-mu)\n",
    "data   = np.array(l) \n",
    "print ('phase function norm: ', NORM)\n",
    "#data = np.array(l) * (2./Norm)\n",
    "# 2) store data in a LUT object with 4 dimensions, the z dimension is restricted to one level of altitude 0\n",
    "pha_cld = LUT(data[:, ::-1], names=['stk', 'theta_atm'],\n",
    "          axes=[None, cld_phase['theta'][:,:,0,:ntheta].ravel()[::-1]]\n",
    "         )"
   ]
  },
  {
   "cell_type": "code",
   "execution_count": null,
   "metadata": {
    "ExecuteTime": {
     "end_time": "2020-01-09T17:10:12.918146Z",
     "start_time": "2020-01-09T17:10:02.446208Z"
    }
   },
   "outputs": [],
   "source": [
    "cloud_LUT=read_mlut('/home/did/RTC/SMART-G/smartg/data/opt_liquid_cloud.nc')"
   ]
  },
  {
   "cell_type": "markdown",
   "metadata": {},
   "source": [
    "### Step cloud C1"
   ]
  },
  {
   "cell_type": "code",
   "execution_count": null,
   "metadata": {
    "ExecuteTime": {
     "end_time": "2020-01-08T13:34:07.706387Z",
     "start_time": "2020-01-08T13:34:07.062937Z"
    }
   },
   "outputs": [],
   "source": [
    "#alternative reff = 2 micron phase function\n",
    "wl = 1020.\n",
    "cld = CloudOPAC('wc.sol', 2., 2, 3., 1., wl)\n",
    "pha_cld = AtmAFGL('afglt', comp=[cld]).calc(wl)['phase_atm'].sub()[0,:,:]"
   ]
  },
  {
   "cell_type": "code",
   "execution_count": null,
   "metadata": {
    "ExecuteTime": {
     "end_time": "2019-12-24T13:39:16.601786Z",
     "start_time": "2019-12-24T13:39:16.569078Z"
    }
   },
   "outputs": [],
   "source": [
    "Nx = 2\n",
    "Ny = 1\n",
    "Nz = 1\n",
    "Dx = 0.5/Nx\n",
    "Dy = 1e5\n",
    "Dz = 0.25\n",
    "\n",
    "(idx,idy,idz), (NX,NY,NZ), (xgrid, ygrid, zgrid), neigh, pmin, pmax = \\\n",
    "    Get_3Dcells(Nx=Nx, Ny=Ny, Nz=Nz, Dx=Dx, Dy=Dy, Dz=Dz, periodic=True,\n",
    "                SAT_ALTITUDE=120, HORIZ_EXTENT_LENGTH=0)\n",
    "\n",
    "Ncell   = NX*NY*NZ\n",
    "Natm    = 3 # 2 cloud cells + void\n",
    "# cells optical properties indices\n",
    "iopt    = np.array([0, 1, 2, 1], dtype=int32)\n",
    "# optical properties \n",
    "ptc_sca = np.array([2./0.25, 0., 18./0.25])\n",
    "ptc_ssa = np.array([0.99, 1., 0.99])\n",
    "ray_sca = np.zeros_like(ptc_sca)\n",
    "gas_abs = np.zeros_like(ptc_sca)\n",
    "ipha    = np.zeros_like(ptc_sca, dtype=int32)"
   ]
  },
  {
   "cell_type": "code",
   "execution_count": null,
   "metadata": {
    "ExecuteTime": {
     "end_time": "2019-12-24T13:39:17.683614Z",
     "start_time": "2019-12-24T13:39:17.650559Z"
    }
   },
   "outputs": [],
   "source": [
    "(idx,idy,idz), (NX,NY,NZ), (xgrid, ygrid, zgrid), neigh, pmin, pmax"
   ]
  },
  {
   "cell_type": "code",
   "execution_count": null,
   "metadata": {
    "ExecuteTime": {
     "end_time": "2019-12-24T13:39:18.865900Z",
     "start_time": "2019-12-24T13:39:18.643125Z"
    }
   },
   "outputs": [],
   "source": [
    "atm3D_cld = AtmAFGL('afglt',\n",
    "                    grid        = zgrid,\n",
    "                    prof_ray    = ray_sca[None,:],\n",
    "                    prof_abs    = gas_abs[None,:],\n",
    "                    prof_aer    = (ptc_sca[None,:], ptc_ssa[None,:]),\n",
    "                    prof_phases = (ipha[None,:], [pha_cld]),\n",
    "                    cells       = (iopt, pmin, pmax, neigh)\n",
    "                   )\n",
    "wl = [800.]\n",
    "\n",
    "pro3D_cld = atm3D_cld.calc(wl).describe()"
   ]
  },
  {
   "cell_type": "code",
   "execution_count": null,
   "metadata": {
    "ExecuteTime": {
     "end_time": "2019-12-24T13:39:20.431790Z",
     "start_time": "2019-12-24T13:39:20.395010Z"
    },
    "run_control": {
     "marked": false
    }
   },
   "outputs": [],
   "source": [
    "# Sun position\n",
    "SAA    = 180.\n",
    "SZA    = 20.\n",
    "# Sensors position\n",
    "Npix   = 32\n",
    "POSZ   = 0.25\n",
    "THDEG  = 120.\n",
    "PHDEG  = 135.\n",
    "# pixels centers on the ground\n",
    "x0    = np.linspace(xgrid[0]+Dx/2., xgrid[-1]-Dx/2., num=Npix) # central domain (cumulus) boundaries\n",
    "y0    = np.array([0.])\n",
    "#\n",
    "xx,yy = np.meshgrid(x0, y0)\n",
    "zz    = np.zeros_like(xx) + POSZ\n",
    "# cells indices\n",
    "icells = locate_3D_cells(pro3D_cld, xx.ravel(), yy.ravel(), zz.ravel())\n",
    "\n",
    "sensors=[]\n",
    "for POSX,POSY,ICELL in zip(xx.ravel(), yy.ravel(), icells):\n",
    "    sensors.append(Sensor(POSX=POSX, POSY=POSY, POSZ=POSZ, FOV=0., TYPE=0,\n",
    "                          THDEG=THDEG, PHDEG=PHDEG, LOC='ATMOS', ICELL=ICELL))"
   ]
  },
  {
   "cell_type": "code",
   "execution_count": null,
   "metadata": {
    "ExecuteTime": {
     "end_time": "2019-12-24T13:39:21.740671Z",
     "start_time": "2019-12-24T13:39:21.385186Z"
    }
   },
   "outputs": [],
   "source": [
    "S3D    = Smartg(opt3D=True,  alt_pp=True, alis=False) # 3D"
   ]
  },
  {
   "cell_type": "code",
   "execution_count": null,
   "metadata": {
    "ExecuteTime": {
     "start_time": "2019-12-24T13:39:22.614Z"
    }
   },
   "outputs": [],
   "source": [
    "%%time\n",
    "#S3D    = Smartg(opt3D=True,  alt_pp=True) # 3D\n",
    "le     = {'th_deg':np.array([SZA]), 'phi_deg':np.array([SAA])}\n",
    "\n",
    "NB     = len(sensors) * 1e5\n",
    "surf   = None\n",
    "m3D    = S3D.run(wl=wl,  NBPHOTONS=NB, atm=pro3D_cld, sensor=sensors, le=le, surf=surf, NBLOOP=1e5,\n",
    "               stdev=False, NF=1e4, NBPHI=18, NBTHETA=35, alis_options={'nlow':-1})"
   ]
  },
  {
   "cell_type": "code",
   "execution_count": null,
   "metadata": {
    "ExecuteTime": {
     "end_time": "2019-12-23T10:35:44.423940Z",
     "start_time": "2019-12-23T10:35:44.169917Z"
    }
   },
   "outputs": [],
   "source": [
    "(m3D['I_up (TOA)'].sub()[:,0,0]/np.pi*1e3).plot(vmin=0, fmt='-')"
   ]
  },
  {
   "cell_type": "code",
   "execution_count": null,
   "metadata": {
    "ExecuteTime": {
     "end_time": "2019-12-23T10:45:03.055556Z",
     "start_time": "2019-12-23T10:45:02.692402Z"
    }
   },
   "outputs": [],
   "source": [
    "(m3D['V_up (TOA)'].sub()[:,0,0]/np.pi*1e3).plot( fmt='-')"
   ]
  },
  {
   "cell_type": "code",
   "execution_count": null,
   "metadata": {
    "ExecuteTime": {
     "end_time": "2019-12-23T10:21:55.024390Z",
     "start_time": "2019-12-23T10:21:54.913981Z"
    }
   },
   "outputs": [],
   "source": [
    "len(sensors)"
   ]
  },
  {
   "cell_type": "markdown",
   "metadata": {},
   "source": [
    "### Cubic cloud C2"
   ]
  },
  {
   "cell_type": "code",
   "execution_count": null,
   "metadata": {
    "ExecuteTime": {
     "end_time": "2019-12-25T21:21:33.177134Z",
     "start_time": "2019-12-25T21:21:32.598953Z"
    }
   },
   "outputs": [],
   "source": [
    "#alternative reff = 2 micron phase function\n",
    "wl = 1020.\n",
    "cld = CloudOPAC('wc.sol', 2., 2, 3., 1., wl)\n",
    "pha_cld = AtmAFGL('afglt', comp=[cld]).calc(wl)['phase_atm'].sub()[0,:,:]"
   ]
  },
  {
   "cell_type": "code",
   "execution_count": null,
   "metadata": {
    "ExecuteTime": {
     "end_time": "2019-12-25T21:21:33.665192Z",
     "start_time": "2019-12-25T21:21:33.628478Z"
    }
   },
   "outputs": [],
   "source": [
    "#xgrid = np.array([-1e5, -3.5, -0.5, 0.5, 3.5, 1e5])\n",
    "#ygrid = np.array([-1e5, -3.5, -0.5, 0.5, 3.5, 1e5])\n",
    "#xgrid = np.array([ -3.5, -0.5, 0.5, 3.5])\n",
    "#ygrid = np.array([ -3.5, -0.5, 0.5, 3.5])\n",
    "Nx=1\n",
    "Ny=1\n",
    "Dx=1.\n",
    "Dy=1.\n",
    "zgrid = np.array([0., 2., 3., 5., 120.])\n",
    "\n",
    "(idx,idy,idz), (NX,NY,NZ), (xgrid, ygrid, zgrid), neigh, pmin, pmax = \\\n",
    "    Get_3Dcells(Nx=Nx,Dx=Dx,Ny=Ny,Dy=Dy, z=zgrid, SAT_ALTITUDE=120, \n",
    "                periodic=False, HORIZ_EXTENT_LENGTH=1e5)\n",
    "\n",
    "Ncell   = NX*NY*NZ\n",
    "#Natm    = 2 # 1 cloud cell + void\n",
    "# cells optical properties indices\n",
    "cloud_cell = np.ravel_multi_index((1, 1, 1), dims=(NX,NY,NZ), order='C')\n",
    "iopt    = np.zeros(Ncell, dtype=int32)\n",
    "iopt[cloud_cell] = 1\n",
    "# optical properties \n",
    "ptc_sca = np.array([0., 10.])\n",
    "ptc_ssa = np.array([1., 1.])\n",
    "ray_sca = np.zeros_like(ptc_sca)\n",
    "gas_abs = np.zeros_like(ptc_sca)\n",
    "ipha    = np.zeros_like(ptc_sca, dtype=int32)"
   ]
  },
  {
   "cell_type": "code",
   "execution_count": null,
   "metadata": {
    "ExecuteTime": {
     "end_time": "2019-12-25T21:21:37.325544Z",
     "start_time": "2019-12-25T21:21:36.958917Z"
    }
   },
   "outputs": [],
   "source": [
    "atm3D_cld = AtmAFGL('afglt',\n",
    "                    grid        = np.array([120.,0]),\n",
    "                    #grid        = zgrid,\n",
    "                    prof_ray    = ray_sca[None,:],\n",
    "                    prof_abs    = gas_abs[None,:],\n",
    "                    prof_aer    = (ptc_sca[None,:], ptc_ssa[None,:]),\n",
    "                    prof_phases = (ipha[None,:], [pha_cld]),\n",
    "                    cells       = (iopt, pmin, pmax, neigh)\n",
    "                   )\n",
    "wl = [800.]\n",
    "\n",
    "pro3D_cld = atm3D_cld.calc(wl).describe()"
   ]
  },
  {
   "cell_type": "code",
   "execution_count": null,
   "metadata": {
    "ExecuteTime": {
     "end_time": "2019-12-25T21:21:40.645044Z",
     "start_time": "2019-12-25T21:21:40.182603Z"
    },
    "run_control": {
     "marked": true
    }
   },
   "outputs": [],
   "source": [
    "# Sun position\n",
    "SAA    = 0.\n",
    "SZA    = 40.\n",
    "# Sensors position\n",
    "Npix   = 70\n",
    "POSZ   = 5.0001\n",
    "POSX   = 3.4999\n",
    "POSY   = 3.4999\n",
    "THDEG  = 180.\n",
    "PHDEG  = 0.\n",
    "# pixels centers on the ground\n",
    "#x0    = np.linspace(xgrid[1], xgrid[-2], num=Npix) # central domain (cumulus) boundaries\n",
    "#y0    = np.linspace(ygrid[1], ygrid[-2], num=Npix)\n",
    "x0    = np.linspace(-POSX, POSX, num=Npix) # central domain (cumulus) boundaries\n",
    "y0    = np.linspace(-POSY, POSY, num=Npix)\n",
    "z0    = np.linspace( POSZ,   5 , num=Npix)\n",
    "#\n",
    "xx,yy = np.meshgrid(x0, y0)\n",
    "zz    = np.zeros_like(xx) + POSZ\n",
    "\n",
    "#xx,zz = np.meshgrid(x0, z0)\n",
    "#yy    = np.zeros_like(xx) + POSY\n",
    "# cells indices\n",
    "icells = locate_3Dregular_cells(xgrid, ygrid, zgrid, xx.ravel(), yy.ravel(), zz.ravel())\n",
    "\n",
    "sensors=[]\n",
    "for POSX,POSY,POSZ,ICELL in zip(xx.ravel(), yy.ravel(), zz.ravel(), icells):\n",
    "    sensors.append(Sensor(POSX=POSX, POSY=POSY, POSZ=POSZ, FOV=0., TYPE=0,\n",
    "                          THDEG=THDEG, PHDEG=PHDEG, LOC='ATMOS', ICELL=ICELL))"
   ]
  },
  {
   "cell_type": "code",
   "execution_count": null,
   "metadata": {
    "ExecuteTime": {
     "end_time": "2019-12-25T21:22:29.162267Z",
     "start_time": "2019-12-25T21:22:26.414024Z"
    }
   },
   "outputs": [],
   "source": [
    "%%time\n",
    "S3D    = Smartg(opt3D=True,  alt_pp=True, alis=True) # 3D\n",
    "le     = {'th_deg':np.array([SZA]), 'phi_deg':np.array([SAA])}\n",
    "\n",
    "NB     = len(sensors) * 1e4\n",
    "surf   = LambSurface(ALB=0.2)\n",
    "m3D    = S3D.run(wl=wl,  NBPHOTONS=NB, atm=pro3D_cld, sensor=sensors, le=le, surf=surf, NBLOOP=1e5,\n",
    "               stdev=False, NF=1e4, NBPHI=18, NBTHETA=35, alis_options={'nlow':-1})"
   ]
  },
  {
   "cell_type": "code",
   "execution_count": null,
   "metadata": {
    "ExecuteTime": {
     "end_time": "2019-12-25T21:22:13.168162Z",
     "start_time": "2019-12-25T21:22:12.344558Z"
    }
   },
   "outputs": [],
   "source": [
    "print(NB)\n",
    "imshow(m3D['I_up (TOA)'].sub()[:,0,0].data.reshape(Npix,Npix)[::-1,:], cmap='jet')\n",
    "colorbar()\n",
    "figure()\n",
    "imshow(m3D['Q_up (TOA)'].sub()[:,0,0].data.reshape(Npix,Npix)[::-1,:], cmap='jet')\n",
    "colorbar()"
   ]
  },
  {
   "cell_type": "markdown",
   "metadata": {},
   "source": [
    "### Cumulus C3"
   ]
  },
  {
   "cell_type": "code",
   "execution_count": null,
   "metadata": {
    "ExecuteTime": {
     "end_time": "2019-12-28T17:01:56.488329Z",
     "start_time": "2019-12-28T17:01:55.907571Z"
    }
   },
   "outputs": [],
   "source": [
    "#alternative reff = 2 micron phase function\n",
    "wl = 670.\n",
    "cld = CloudOPAC('wc.sol', 2., 2, 3., 1., wl)\n",
    "pha_cld = AtmAFGL('afglt', comp=[cld]).calc(wl)['phase_atm'].sub()[0,:,:]\n",
    "\n",
    "# Cloud Phase matrix\n",
    "# alternative reff = 5 micron phase function\n",
    "cloud_sub = cloud_LUT.sub({'effective_radius':Idx(5.),'effective_variance':0, 'wavelength':Idx(0.670)})\n",
    "pha = np.stack([(cloud_sub['p11_phase_function']+cloud_sub['p21_phase_function'])[::-1],\n",
    "               (cloud_sub['p11_phase_function']-cloud_sub['p21_phase_function'])[::-1],\n",
    "                cloud_sub['p34_phase_function'][::-1], cloud_sub['p44_phase_function'][::-1]])\n",
    "pha_cld = LUT(pha, axes=[None, cloud_sub.axis('phase_angles')[::-1]], names=['stk', 'theta_atm'])"
   ]
  },
  {
   "cell_type": "code",
   "execution_count": null,
   "metadata": {
    "ExecuteTime": {
     "end_time": "2019-12-28T17:02:03.511856Z",
     "start_time": "2019-12-28T17:02:03.008050Z"
    }
   },
   "outputs": [],
   "source": [
    "# C3 IPRT Cumulus data\n",
    "cumulus_f='/home/did/RTC/SMART-G/smartg/validation/IPRT/cumulus.dat'\n",
    "f       = open(cumulus_f, 'r')\n",
    "f.readline(); \n",
    "l       = f.readline().split()\n",
    "Nx, Ny, Nz, _ = list(map(int, l)) # number of cumulus cells in X, Y, X\n",
    "Nl      = Nz + 1                  # number of levels in Z\n",
    "l       = f.readline()\n",
    "g_info  = list(map(float, l.split()))\n",
    "Dx, Dy  = g_info[0:2]              # horizontal grid interval in km\n",
    "#zgrid   = np.array(g_info[2:][::-1])# vertical grid in km\n",
    "zgrid   = np.array(g_info[2:])# vertical grid in km\n",
    "assert Nl==zgrid.size\n",
    "\n",
    "zgrid = np.concatenate([zgrid, np.array([120.])])\n",
    "(idx,idy,idz), (NX,NY,NZ), (xgrid, ygrid, zgrid), neigh, pmin, pmax = \\\n",
    "    Get_3Dcells(Nx=Nx, Ny=Ny, Dx=Dx, Dy=Dy, z=zgrid, SAT_ALTITUDE=120, periodic=False, HORIZ_EXTENT_LENGTH=1e5)\n",
    "Ncell   = NX*NY*NZ"
   ]
  },
  {
   "cell_type": "code",
   "execution_count": null,
   "metadata": {
    "ExecuteTime": {
     "end_time": "2019-12-28T17:02:06.738692Z",
     "start_time": "2019-12-28T17:02:06.623155Z"
    }
   },
   "outputs": [],
   "source": [
    "(idx,idy,idz), (NX,NY,NZ), neigh, pmin, pmax"
   ]
  },
  {
   "cell_type": "code",
   "execution_count": null,
   "metadata": {
    "ExecuteTime": {
     "end_time": "2019-12-28T17:03:21.186750Z",
     "start_time": "2019-12-28T17:03:20.499743Z"
    }
   },
   "outputs": [],
   "source": [
    "# cumulus geometrical and optical data\n",
    "cumulus = np.loadtxt(cumulus_f, skiprows=3, dtype=np.float32)\n",
    "ptc_sca = cumulus[:,3]            # km-1\n",
    "# we add a zero optical property for void\n",
    "ptc_sca = np.concatenate([np.array([0.]), ptc_sca])\n",
    "ptc_ssa = np.ones_like( ptc_sca)\n",
    "ray_sca = np.zeros_like(ptc_sca)  # No Rayleigh\n",
    "gas_abs = np.zeros_like(ptc_sca)  # No absorption\n",
    "ipha    = np.zeros_like(ptc_sca, dtype=int32)\n",
    "\n",
    "# indexing of C3 cells into SMART-G grid\n",
    "cum_geo = cumulus[:,:3].astype(int32)-1\n",
    "cum_cell= np.ravel_multi_index((cum_geo[:,0], cum_geo[:,1], cum_geo[:,2]),\n",
    "                    dims=(NX, NY, NZ))\n",
    "# cells optical properties\n",
    "iopt    = np.zeros(Ncell, dtype=int32)\n",
    "iabs    = np.zeros(Ncell, dtype=int32)\n",
    "iopt[cum_cell] = np.arange(len(cum_cell)) + 1 # number zero is reserved for void\n",
    "Nopt    = iopt.max()+1\n",
    "atm_arr = np.zeros((Nopt,9))\n",
    "atm_arr[:,0] = np.arange(Nopt)[::-1]\n",
    "np.savetxt('./tmp.dat', atm_arr)"
   ]
  },
  {
   "cell_type": "code",
   "execution_count": null,
   "metadata": {
    "ExecuteTime": {
     "end_time": "2019-12-28T17:03:22.594699Z",
     "start_time": "2019-12-28T17:03:21.804914Z"
    }
   },
   "outputs": [],
   "source": [
    "atm3D_cld = AtmAFGL('./tmp.dat', US=False,\n",
    "                    grid        = np.arange(Nopt),\n",
    "                    prof_ray    = ray_sca[None,:],\n",
    "                    #prof_abs    = gas_abs[None,:],\n",
    "                    prof_aer    = (ptc_sca[None,:], ptc_ssa[None,:]),\n",
    "                    prof_phases = (ipha[None,:], [pha_cld]),\n",
    "                    cells       = (iopt, pmin, pmax, neigh)\n",
    "                   )\n",
    "\n",
    "pro3D_cld = atm3D_cld.calc(wl).describe()"
   ]
  },
  {
   "cell_type": "code",
   "execution_count": null,
   "metadata": {
    "ExecuteTime": {
     "end_time": "2019-12-28T17:04:11.871367Z",
     "start_time": "2019-12-28T17:04:11.771921Z"
    }
   },
   "outputs": [],
   "source": [
    "ray_sca.shape, ptc_sca[iopt[cum_cell]]"
   ]
  },
  {
   "cell_type": "code",
   "execution_count": null,
   "metadata": {
    "ExecuteTime": {
     "end_time": "2019-12-27T16:32:44.021438Z",
     "start_time": "2019-12-27T16:32:43.848943Z"
    },
    "run_control": {
     "marked": false
    }
   },
   "outputs": [],
   "source": [
    "# Sun position\n",
    "SAA    = 180.\n",
    "SZA    = 40.\n",
    "# Sensors position\n",
    "Npix   = 100\n",
    "POSZ   = 30\n",
    "THDEG  = 180.\n",
    "PHDEG  = 0.\n",
    "# pixels centers on the ground\n",
    "x0     = np.linspace(-6.67/2., 6.67/2, num=Npix) # central domain (cumulus) boundaries\n",
    "y0     = np.linspace(-6.67/2., 6.67/2, num=Npix)\n",
    "#\n",
    "xx,yy  = np.meshgrid(x0, y0)\n",
    "zz     = np.zeros_like(xx) + POSZ"
   ]
  },
  {
   "cell_type": "code",
   "execution_count": null,
   "metadata": {
    "ExecuteTime": {
     "end_time": "2019-12-27T16:33:08.893120Z",
     "start_time": "2019-12-27T16:32:57.558476Z"
    },
    "run_control": {
     "marked": false
    }
   },
   "outputs": [],
   "source": [
    "%%time\n",
    "# cells indices\n",
    "icells = locate_3Dregular_cells(xgrid, ygrid,zgrid, xx.ravel(), yy.ravel(), zz.ravel())\n",
    "#icells_old = locate_3D_cells(pro3D_cld, xx.ravel(), yy.ravel(), zz.ravel())\n",
    "sensors=[]\n",
    "for POSX,POSY,ICELL in zip(xx.ravel(), yy.ravel(), icells):\n",
    "    sensors.append(Sensor(POSX=POSX, POSY=POSY, POSZ=POSZ, FOV=0., TYPE=0,\n",
    "                          THDEG=THDEG, PHDEG=PHDEG, LOC='ATMOS', ICELL=ICELL))\n",
    "\n",
    "S3D    = Smartg(opt3D=True,  alt_pp=True, alis=False, back=True) # 3D\n",
    "le     = {'th_deg':np.array([SZA]), 'phi_deg':np.array([SAA])}\n",
    "#ALB    = Albedo_speclib('/rfs/data/speclib2.0/data/jhu.becknic.vegetation.grass.green.solid.gras.spectrum.txt')\n",
    "#env    = Environment(ENV=1, ALB=ALB, ENV_SIZE=2, X0=-1.5)\n",
    "env    = None"
   ]
  },
  {
   "cell_type": "code",
   "execution_count": null,
   "metadata": {
    "ExecuteTime": {
     "end_time": "2019-12-27T16:54:04.771596Z",
     "start_time": "2019-12-27T16:33:14.285255Z"
    }
   },
   "outputs": [],
   "source": [
    "%%time\n",
    "NB     = len(sensors) * 1e4\n",
    "#surf   = RoughSurface(WIND=5)\n",
    "surf   = LambSurface(ALB=0.2)\n",
    "m3D    = S3D.run(wl=wl,  NBPHOTONS=NB, atm=pro3D_cld, sensor=sensors, le=le, surf=surf, NBLOOP=1e6, env=env,\n",
    "               stdev=False, NF=1e4)"
   ]
  },
  {
   "cell_type": "code",
   "execution_count": null,
   "metadata": {
    "ExecuteTime": {
     "end_time": "2019-12-27T17:01:17.921084Z",
     "start_time": "2019-12-27T17:01:15.578791Z"
    },
    "run_control": {
     "marked": false
    }
   },
   "outputs": [],
   "source": [
    "f=figure(figsize=(8,8))\n",
    "print(NB)\n",
    "imshow(m3D['I_up (TOA)'].sub()[:,0,0].data.reshape(Npix,Npix)[::-1,:],vmax=1, cmap=cm.Blues_r)\n",
    "cbar = colorbar(shrink=0.8, orientation='vertical')\n",
    "cbar.ax.set_xlabel(mdesc('I_up (TOA)'))\n",
    "f.tight_layout()\n",
    "f.savefig('/home/did/RTC/SMART-G/smartg/validation/IPRT/C3_case5_image.png', dpi=200)\n",
    "figure(figsize=(6,6))\n",
    "I=m3D['I_up (TOA)'].sub()[:,0,0].data.reshape(Npix,Npix)[::-1,:]\n",
    "Q=m3D['Q_up (TOA)'].sub()[:,0,0].data.reshape(Npix,Npix)[::-1,:]\n",
    "U=m3D['U_up (TOA)'].sub()[:,0,0].data.reshape(Npix,Npix)[::-1,:]\n",
    "V=m3D['V_up (TOA)'].sub()[:,0,0].data.reshape(Npix,Npix)[::-1,:]\n",
    "imshow(np.sqrt(Q*Q+U*U+V*V)/I*100, vmax=5,cmap=cm.RdBu_r)\n",
    "colorbar()"
   ]
  },
  {
   "cell_type": "markdown",
   "metadata": {},
   "source": [
    "## ALIS"
   ]
  },
  {
   "cell_type": "markdown",
   "metadata": {},
   "source": [
    "### Spectral range"
   ]
  },
  {
   "cell_type": "code",
   "execution_count": null,
   "metadata": {
    "ExecuteTime": {
     "end_time": "2020-01-09T17:10:58.014987Z",
     "start_time": "2020-01-09T17:10:17.998528Z"
    },
    "run_control": {
     "marked": false
    }
   },
   "outputs": [],
   "source": [
    "#Solar Spectrum raw data\n",
    "datas = np.loadtxt('/home/applis/libRadtran/libRadtran-2.0.2/data/solar_flux/kurudz_full.dat')\n",
    "#datas = np.loadtxt('/home/applis/libRadtran/libRadtran-2.0.2/data/solar_flux/kurudz_0.1nm.dat')"
   ]
  },
  {
   "cell_type": "code",
   "execution_count": null,
   "metadata": {
    "ExecuteTime": {
     "end_time": "2020-01-10T07:43:04.706808Z",
     "start_time": "2020-01-10T07:43:03.682883Z"
    }
   },
   "outputs": [],
   "source": [
    "#wl, wls, wl_RRS, Es_LUT, iwls_in, wwls_in = spectral_grids(685., 698., datas, dl=0.001, dls=10.)\n",
    "#wl, wls, wl_RRS, Es_LUT, iwls_in, wwls_in = spectral_grids(405., 490., datas, dl=0.01, dls=10.)\n",
    "wl, wls, wl_RRS, Es_LUT, iwls_in, wwls_in = spectral_grids(1990., 2100., datas, dl=0.01, dls=10.)\n",
    "# Solar spectrum\n",
    "Es = Es_LUT[Idx(wl)]\n",
    "Es_RRS = Es_LUT[Idx(wl_RRS, fill_value='extrema')]\n",
    "# Ring nromalized spectrum (Wagner et al., 2009, AMT)\n",
    "_, LRRS = L2d_inv(wl, 90., 243.)\n",
    "f_RRS_norm  = np.sum(Es_RRS * LRRS , axis=1) / Es - 1."
   ]
  },
  {
   "cell_type": "markdown",
   "metadata": {},
   "source": [
    "### Simple atmosphere"
   ]
  },
  {
   "cell_type": "code",
   "execution_count": null,
   "metadata": {
    "ExecuteTime": {
     "end_time": "2020-01-09T16:41:52.615100Z",
     "start_time": "2020-01-09T16:41:52.525847Z"
    }
   },
   "outputs": [],
   "source": [
    "# vertical grid in descending order as usual for SmartG 1D\n",
    "znew = np.linspace(50., 0. , num=26)\n",
    "#znew = np.array([100., 99., 20., 5., 3., 2., 0.])\n",
    "Nx=1\n",
    "Ny=1\n",
    "Dx=1\n",
    "Dy=1\n",
    "# vertical grid in ascending order for 3D grid\n",
    "zgrid = znew[::-1]\n",
    "\n",
    "# grid building\n",
    "(idx,idy,idz), (NX,NY,NZ), (xgrid, ygrid, zgrid), neigh, pmin, pmax = \\\n",
    "    Get_3Dcells(Nx=Nx,Dx=Dx,Ny=Ny,Dy=Dy, z=zgrid, SAT_ALTITUDE=120, \n",
    "                periodic=False, HORIZ_EXTENT_LENGTH=1e5)\n",
    "Ncell   = NX*NY*NZ\n",
    "\n",
    "idx_cloud  = [1]\n",
    "idy_cloud  = [1]\n",
    "idz_cloud  = [1]\n",
    "cloud_cell = np.ravel_multi_index((idx_cloud, idy_cloud, idz_cloud), \n",
    "                                  dims=(NX,NY,NZ), order='C')"
   ]
  },
  {
   "cell_type": "code",
   "execution_count": null,
   "metadata": {
    "ExecuteTime": {
     "end_time": "2020-01-09T16:42:01.712758Z",
     "start_time": "2020-01-09T16:41:53.483097Z"
    }
   },
   "outputs": [],
   "source": [
    "# vertical grid in descending order as usual for SmartG 1D\n",
    "znew = np.linspace(50., 0. , num=26)\n",
    "#znew = np.array([100., 99., 20., 5., 3., 2., 0.])\n",
    "Nx=1\n",
    "Ny=1\n",
    "Dx=1e5\n",
    "Dy=1e5\n",
    "# vertical grid in ascending order for 3D grid\n",
    "zgrid = znew[::-1]\n",
    "\n",
    "# grid building\n",
    "(idx,idy,idz), (NX,NY,NZ), (xgrid, ygrid, zgrid), neigh, pmin, pmax = \\\n",
    "    Get_3Dcells(Nx=Nx,Dx=Dx,Ny=Ny,Dy=Dy, z=zgrid, SAT_ALTITUDE=120, \n",
    "                periodic=False, HORIZ_EXTENT_LENGTH=0)\n",
    "Ncell   = NX*NY*NZ\n",
    "\n",
    "# cells optical properties\n",
    "iopt           = np.zeros(Ncell, dtype= int32)\n",
    "#Rayleigh\n",
    "sca_ray        = od2k(AtmAFGL('afglt', O3=0., NO2=True, grid=znew).calc(wls), 'OD_r')\n",
    "## Mapping optical propoerties and cells\n",
    "# 1 clear profile + number of cloud cells opt. prop. (here 1 per cell)\n",
    "Nopt       = NZ + 1\n",
    "iopt       = np.zeros(Ncell, dtype=int32)\n",
    "iabs       = np.zeros_like(iopt)\n",
    "iopt[:]    = np.arange(Nopt)[NZ-idz] # Scattering depending on Z for clear atmosphere (Rayleigh)\n",
    "iabs[:]    = np.arange(Nopt)[NZ-idz] # Absorption depending on Z only\n",
    "\n",
    "atm3D_clr = AtmAFGL('afglt', O3=0., NO2=False,\n",
    "                    grid        = np.arange(Nopt),\n",
    "                    prof_ray    = sca_ray,\n",
    "                    cells       = (iopt, iabs, pmin, pmax, neigh)\n",
    "                   )\n",
    "\n",
    "pro3D_clr = atm3D_clr.calc(wls)\n",
    "# absorption (only gas)\n",
    "ao2_int = get_o2_abs(znew, wl)"
   ]
  },
  {
   "cell_type": "code",
   "execution_count": null,
   "metadata": {
    "ExecuteTime": {
     "end_time": "2020-01-09T16:42:06.912286Z",
     "start_time": "2020-01-09T16:42:06.856717Z"
    }
   },
   "outputs": [],
   "source": [
    "SAA    = 180.\n",
    "SZA    = 40.\n",
    "# Sensors position\n",
    "Npix   = 70\n",
    "POSZ   = 49.0001\n",
    "#POSZ   = 0.\n",
    "POSX   = 0.\n",
    "POSY   = 0.\n",
    "#THDEG  = 20.\n",
    "THDEG  = 180.\n",
    "PHDEG  = 140.\n",
    "# cells indices\n",
    "x      = np.array([POSX])\n",
    "y      = np.array([POSY])\n",
    "z      = np.array([POSZ])\n",
    "icells = locate_3Dregular_cells(xgrid, ygrid, zgrid, x , y, z)\n",
    "sensors = Sensor(POSX=POSX, POSY=POSY, POSZ=POSZ, FOV=0., TYPE=0,\n",
    "                          THDEG=THDEG, PHDEG=PHDEG, LOC='ATMOS', ICELL=icells)"
   ]
  },
  {
   "cell_type": "code",
   "execution_count": null,
   "metadata": {
    "ExecuteTime": {
     "end_time": "2020-01-01T17:56:52.129204Z",
     "start_time": "2020-01-01T17:56:48.091277Z"
    }
   },
   "outputs": [],
   "source": [
    "%%time\n",
    "# Spectra\n",
    "zoom          = (685.75, 688.00)\n",
    "sigma         = ao2_int[:,1:]\n",
    "sigma[:]=0\n",
    "NWS           = wls.size\n",
    "#sigma         = gas_abs[:,1:]\n",
    "S3Da          = Smartg(opt3D=True,  alt_pp=True, alis=True) # 3D\n",
    "le            = {'th_deg':np.array([SZA]), 'phi_deg':np.array([SAA])}\n",
    "ALB           = Albedo_speclib('/rfs/data/speclib2.0/data/jhu.becknic.vegetation.trees.deciduous.solid.decidou.spectrum.txt')\n",
    "fig,ax        = subplots(nrows=5, ncols=1) \n",
    "fig.set_size_inches(24,15)\n",
    "surf          = LambSurface(ALB=1.)\n",
    "surfref       = LambSurface(ALB=ALB.get(wls[0]))\n",
    "NL            = Nopt-1 # number of opt properties\n",
    "NB            = 1e4\n",
    "for i,sensor in enumerate([sensor]):\n",
    "    m       = S3Da.run(wl=wls,  NBPHOTONS=NB, atm=pro3D_clr, sensor=sensor, le=le, surf=surf, NBLOOP=1e4,\n",
    "               stdev=False, NF=1e4, alis_options={'nlow':NWS, 'hist':True}).sub({'Azimuth angles':0, 'Zenith angles':0})\n",
    "    #mref    = S3D.run(wl=wls[0],  NBPHOTONS=NB*100, atm=pro3D0, sensor=sensor, le=le, surf=surfref, NBLOOP=1e5,\n",
    "    #           stdev=False, NF=1e4).sub({'Azimuth angles':0, 'Zenith angles':0})\n",
    "\n",
    "    w     = m['disth_up (TOA)'][:, NL+4:-3]\n",
    "    ngood = np.sum(w[:,0]!=0)\n",
    "\n",
    "    S       = np.zeros((ngood,4),dtype=np.float32) \n",
    "    cd      = m['disth_up (TOA)'][:ngood,     :NL  ]\n",
    "    S[:,:4] = m['disth_up (TOA)'][:ngood, NL  :NL+4]\n",
    "    w       = m['disth_up (TOA)'][:ngood, NL+4:-3  ]\n",
    "    nrrs    = m['disth_up (TOA)'][:ngood,      -3  ]\n",
    "    nref    = m['disth_up (TOA)'][:ngood,      -2  ]\n",
    "    nsif    = m['disth_up (TOA)'][:ngood,      -1  ]\n",
    "\n",
    "    XBLOCK  = 512\n",
    "    XGRID   = 512\n",
    "    NT      = XBLOCK*XGRID       # Maximum Number of threads\n",
    "    NPHOTON = cd.shape[0]        # Number of photons\n",
    "\n",
    "    NLAYER  = sigma.shape[1]     # Number of vertical layer\n",
    "    NWVL    = sigma.shape[0]     # Number of wavelength for absorption and output\n",
    "    NGROUP  = NT//NWVL           # Number of groups of photons\n",
    "    NTHREAD = NGROUP*NWVL        # Number of threads used\n",
    "    NBUNCH  = NPHOTON//NGROUP    # Number of photons per group\n",
    "    NP_REST = NPHOTON%(NGROUP*NBUNCH) # Number of additional photons in the last group\n",
    "    NWVL_LOW = NWS\n",
    "\n",
    "    print(NT, NTHREAD, NGROUP, NPHOTON, NLAYER, NWVL, NBUNCH, NP_REST, NWVL_LOW)\n",
    "    sigma_ab_in  = np.zeros((NLAYER, NWVL), order='C', dtype=np.float32)\n",
    "    sigma_ab_in[:,:]  = sigma.swapaxes(0,1)\n",
    "\n",
    "    alb_in       = ALB.get(wl).reshape(NWVL, order='C').astype(np.float32) \n",
    "\n",
    "    cd_in        = cd.reshape((NPHOTON, NLAYER), order='C').astype(np.float32)\n",
    "    #cd_in        = cd[:,:NLAYER].reshape((NPHOTON, NLAYER), order='C').astype(np.float32)\n",
    "    S_in         = S.reshape((NPHOTON, 4),       order='C').astype(np.float32)\n",
    "    weight_in    = w.reshape((NPHOTON, NWVL_LOW),order='C').astype(np.float32)\n",
    "    nrrs_in      = nrrs.reshape(NPHOTON,order='C').astype(np.int8)\n",
    "    nsif_in      = nsif.reshape(NPHOTON,order='C').astype(np.int8)\n",
    "    nref_in      = nref.reshape(NPHOTON,order='C').astype(np.int8)\n",
    "\n",
    "    res_out      = gpuzeros((4, NWVL),   dtype=np.float64)\n",
    "    res_sca      = gpuzeros((4, NWVL),   dtype=np.float64)\n",
    "    res_rrs      = gpuzeros((4, NWVL),   dtype=np.float64)\n",
    "    res_sif      = gpuzeros((4, NWVL),   dtype=np.float64)\n",
    "    reduce_absorption_gpu(np.int64(NPHOTON), np.int64(NLAYER), np.int64(NWVL), np.int64(NTHREAD), np.int64(NGROUP), np.int64(NBUNCH), \n",
    "                          np.int64(NP_REST), np.int64(NWVL_LOW), res_out, res_sca, res_rrs, res_sif, \n",
    "                          to_gpu(sigma_ab_in), to_gpu(alb_in), to_gpu(cd_in), to_gpu(S_in), to_gpu(weight_in), to_gpu(nrrs_in), \n",
    "                          to_gpu(nref_in), to_gpu(nsif_in), to_gpu(iwls_in), to_gpu(wwls_in), \n",
    "                          block=(XBLOCK,1,1),grid=(XGRID,1,1))\n",
    "    I1      = res_out.get()/m[0][0,0]\n",
    "    #norm1   = I1[0,0]/mref['I_up (TOA)'].data\n",
    "    P_Raman = res_rrs.get()[0,:]/res_out.get()[0,:]\n",
    "    #print(norm1)\n",
    "    norm1 = 1\n",
    "    I1_LUT = LUT(I1[0,:]/norm1, axes=[wl], names=['wavelength'], desc=mdesc('I_up (TOA)'))\n",
    "    Q1_LUT = LUT(I1[1,:]/norm1, axes=[wl], names=['wavelength'], desc=mdesc('Q_up (TOA)'))\n",
    "    U1_LUT = LUT(I1[1,:]/norm1, axes=[wl], names=['wavelength'], desc=mdesc('U_up (TOA)'))\n",
    "    DoLP_LUT = ((Q1_LUT*Q1_LUT + U1_LUT*U1_LUT).apply(np.sqrt)/I1_LUT)*100\n",
    "    DoLP_LUT.desc='DoLP (%)'\n",
    "    P_Raman_LUT = LUT(P_Raman, axes=[wl], names=['wavelength'], desc=r'$P_{Raman}$')\n",
    "    Rel     = Es * I1_LUT[Idx(wl,fill_value='extrema')]\n",
    "    Rel_llp = Es_RRS * I1_LUT[Idx(wl_RRS,fill_value='extrema')]\n",
    "    R_RRS   = np.sum(Rel_llp * LRRS, axis=1) * P_Raman_LUT[Idx(wl, fill_value='extrema')]\n",
    "    Rel_out = Rel * P_Raman_LUT[Idx(wl, fill_value='extrema')]\n",
    "    R_tot   = R_RRS + Rel - Rel_out\n",
    "    \n",
    "    sca(ax[0,0])\n",
    "    I1_LUT.plot(label='%d'%i)\n",
    "    ylim(0,0.4)\n",
    "    sca(ax[0,1])\n",
    "    I1_LUT.plot(label='%d'%i)\n",
    "    xlim(zoom)\n",
    "    ylim(0,0.4)\n",
    "    \n",
    "    sca(ax[1,0])\n",
    "    ff = R_tot\n",
    "    plot(wl, ff ,'-')\n",
    "    xlabel('wavelength (nm)')\n",
    "    ylabel(mdesc('I_up (TOA, tot)')+ r'$ (ph/s/cm^2/nm)$')\n",
    "    grid(True)\n",
    "    sca(ax[1,1])\n",
    "    ff = R_tot\n",
    "    plot(wl, ff ,'-')\n",
    "    xlim(zoom)\n",
    "    xlabel('wavelength (nm)')\n",
    "    grid(True)\n",
    "    \n",
    "    sca(ax[2,0])\n",
    "    ff = R_RRS\n",
    "    plot(wl, ff ,'-')\n",
    "    xlabel('wavelength (nm)')\n",
    "    ylabel(mdesc('I_up (TOA, RRS in)')+ r'$ (ph/s/cm^2/nm)$')\n",
    "    grid(True)\n",
    "    sca(ax[2,1])\n",
    "    ff = R_RRS\n",
    "    plot(wl, ff ,'-')\n",
    "    xlabel('wavelength (nm)')\n",
    "    xlim(zoom)\n",
    "    grid(True)\n",
    "\n",
    "    sca(ax[3,0])\n",
    "    ff = R_tot/Rel\n",
    "    plot(wl, ff)\n",
    "    xlabel('wavelength (nm)')\n",
    "    ylabel('$Ring spectrum (Tot/Elastic)$')\n",
    "    ylim(0.95,1.05)\n",
    "    grid(True)\n",
    "    sca(ax[3,1])\n",
    "    ff = R_tot/Rel\n",
    "    plot(wl, ff)\n",
    "    xlabel('wavelength (nm)')\n",
    "    ylim(0.95,1.05)\n",
    "    grid(True)\n",
    "    xlim(zoom)\n",
    "    \n",
    "    sca(ax[4,0])\n",
    "    DoLP_LUT.plot(label='%d'%i)\n",
    "    ylim(0,40)\n",
    "    sca(ax[4,1])\n",
    "    DoLP_LUT.plot(label='%d'%i)\n",
    "    xlim(zoom)\n",
    "    ylim(0,40)\n",
    "legend()"
   ]
  },
  {
   "cell_type": "code",
   "execution_count": null,
   "metadata": {
    "ExecuteTime": {
     "end_time": "2020-01-01T17:56:53.170773Z",
     "start_time": "2020-01-01T17:56:53.095339Z"
    }
   },
   "outputs": [],
   "source": [
    "ao2_int[-1,0:]\n",
    "NL,NLAYER,Nopt,w.shape,NWS,NWVL_LOW\n",
    "m['disth_up (TOA)'][0,NL+4:-3]"
   ]
  },
  {
   "cell_type": "markdown",
   "metadata": {},
   "source": [
    "### C2 cloud"
   ]
  },
  {
   "cell_type": "markdown",
   "metadata": {},
   "source": [
    "#### 3D Grid"
   ]
  },
  {
   "cell_type": "code",
   "execution_count": null,
   "metadata": {
    "ExecuteTime": {
     "end_time": "2020-01-08T09:47:23.555084Z",
     "start_time": "2020-01-08T09:47:23.487893Z"
    }
   },
   "outputs": [],
   "source": [
    "# vertical grid in descending order as usual for SmartG 1D\n",
    "znew = np.linspace(50., 0. , num=26)\n",
    "#znew = np.array([100., 99., 20., 5., 3., 2., 0.])\n",
    "Nx=1\n",
    "Ny=1\n",
    "Dx=1\n",
    "Dy=1\n",
    "# vertical grid in ascending order for 3D grid\n",
    "zgrid = znew[::-1]\n",
    "\n",
    "# grid building\n",
    "(idx,idy,idz), (NX,NY,NZ), (xgrid, ygrid, zgrid), neigh, pmin, pmax = \\\n",
    "    Get_3Dcells(Nx=Nx,Dx=Dx,Ny=Ny,Dy=Dy, z=zgrid, SAT_ALTITUDE=120, \n",
    "                periodic=False, HORIZ_EXTENT_LENGTH=1e5)\n",
    "Ncell   = NX*NY*NZ\n",
    "\n",
    "# cloud cells\n",
    "idx_cloud  = [1,1,1,1]\n",
    "idy_cloud  = [1,1,1,1]\n",
    "idz_cloud  = [0,1,2,3]\n",
    "'''idx_cloud  = [1]\n",
    "idy_cloud  = [1]\n",
    "idz_cloud  = [1]'''\n",
    "cloud_cell = np.ravel_multi_index((idx_cloud, idy_cloud, idz_cloud), \n",
    "                                  dims=(NX,NY,NZ), order='C')"
   ]
  },
  {
   "cell_type": "markdown",
   "metadata": {},
   "source": [
    "#### 1D opt.  prop."
   ]
  },
  {
   "cell_type": "code",
   "execution_count": null,
   "metadata": {
    "ExecuteTime": {
     "end_time": "2020-01-08T09:47:33.096473Z",
     "start_time": "2020-01-08T09:47:24.789512Z"
    }
   },
   "outputs": [],
   "source": [
    "# absorption (only gas)\n",
    "ao2_int = get_o2_abs(znew, wl)"
   ]
  },
  {
   "cell_type": "code",
   "execution_count": null,
   "metadata": {
    "ExecuteTime": {
     "end_time": "2020-01-08T10:43:39.451335Z",
     "start_time": "2020-01-08T10:43:28.007681Z"
    }
   },
   "outputs": [],
   "source": [
    "cloud_LUT=read_mlut('/home/did/RTC/SMART-G/smartg/data/opt_liquid_cloud.nc')"
   ]
  },
  {
   "cell_type": "code",
   "execution_count": null,
   "metadata": {
    "ExecuteTime": {
     "end_time": "2020-01-08T10:43:43.525871Z",
     "start_time": "2020-01-08T10:43:42.712280Z"
    }
   },
   "outputs": [],
   "source": [
    "## scattering optical properties\n",
    "wl_ref  = (wls[0]+wls[-1])/2.\n",
    "# cloud\n",
    "reff = 5.  # mic.\n",
    "kext = 5.  # km-1\n",
    "#kext = 0.  # km-1\n",
    "cloud_sub   = cloud_LUT.sub({'effective_radius':Idx(reff),'effective_variance':0, 'wavelength':Idx(wl_ref*1e-3)})\n",
    "pha = np.stack([(cloud_sub['p11_phase_function']+cloud_sub['p21_phase_function'])[::-1],\n",
    "                (cloud_sub['p11_phase_function']-cloud_sub['p21_phase_function'])[::-1],\n",
    "                 cloud_sub['p34_phase_function'][::-1],\n",
    "                 cloud_sub['p44_phase_function'][::-1]])\n",
    "pha_cld     = LUT(pha, axes=[None, cloud_sub.axis('phase_angles')[::-1]], names=['stk', 'theta_atm'])\n",
    "\n",
    "cloud_sub   = cloud_LUT.sub({'effective_radius':Idx(reff),'effective_variance':0})\n",
    "sca_cld     = cloud_sub['normed_ext_coeff' ][Idx(wls, fill_value='extrema')]/\\\n",
    "              cloud_sub['normed_ext_coeff' ][Idx(wl_ref, fill_value='extrema')]*kext\n",
    "#Rayleigh\n",
    "sca_ray     = od2k(AtmAFGL('afglt', O3=0., NO2=True, grid=znew).calc(wls), 'OD_r')\n",
    "\n",
    "# Concatenation\n",
    "sca_cld3D = np.concatenate([np.zeros_like(sca_ray), np.stack([sca_cld]*cloud_cell.size, axis=1)], axis=1)\n",
    "sca_ray3D = np.concatenate([sca_ray, sca_ray[:,NZ-idz[cloud_cell]]], axis=1)\n",
    "ssa_cld3D = np.ones_like(sca_cld3D)\n",
    "ipha3D    = np.zeros_like(sca_cld3D, dtype=int32)\n",
    "#ipha3D[:, iopt[cloud_cell]] = 1"
   ]
  },
  {
   "cell_type": "code",
   "execution_count": null,
   "metadata": {
    "ExecuteTime": {
     "end_time": "2020-01-08T09:47:47.615783Z",
     "start_time": "2020-01-08T09:47:47.523264Z"
    }
   },
   "outputs": [],
   "source": [
    "## Mapping optical propoerties and cells\n",
    "# 1 clear profile + number of cloud cells opt. prop. (here 1 per cell)\n",
    "Nopt       = NZ + 1 + cloud_cell.size\n",
    "iopt       = np.zeros(Ncell, dtype=int32)\n",
    "iabs       = np.zeros_like(iopt)\n",
    "iopt[:]    = np.arange(Nopt)[NZ-idz] # Scattering depending on Z for clear atmosphere (Rayleigh)\n",
    "iabs[:]    = np.arange(Nopt)[NZ-idz] # Absorption depending on Z only\n",
    "iopt[cloud_cell] = NZ + 1 + np.arange(cloud_cell.size)  # Scattering depending on cloud cell"
   ]
  },
  {
   "cell_type": "code",
   "execution_count": null,
   "metadata": {
    "ExecuteTime": {
     "end_time": "2020-01-08T09:47:49.232724Z",
     "start_time": "2020-01-08T09:47:48.789849Z"
    }
   },
   "outputs": [],
   "source": [
    "atm3D = AtmAFGL('afglt',\n",
    "                    grid        = np.arange(Nopt),\n",
    "                    prof_ray    = sca_ray3D,\n",
    "                    prof_aer    = (sca_cld3D, ssa_cld3D),\n",
    "                    prof_phases = (ipha3D, [pha_cld]),\n",
    "                    cells       = (iopt, iabs, pmin, pmax, neigh)\n",
    "                   )\n",
    "pro3D  = atm3D.calc(wls)\n",
    "\n",
    "# Sun position\n",
    "SAA    = 180.\n",
    "SZA    = 40.\n",
    "# Sensors position\n",
    "Npix   = 70\n",
    "POSZ   = 49.0001\n",
    "#POSZ   = 0.\n",
    "POSX   = 3.4999\n",
    "POSY   = 3.4999\n",
    "#THDEG  = 20.\n",
    "THDEG  = 180.\n",
    "PHDEG  = 140.\n",
    "# pixels centers on the ground\n",
    "x0    = np.linspace(-POSX, POSX, num=Npix) # central domain (cumulus) boundaries\n",
    "y0    = np.linspace(-POSY, POSY, num=Npix)\n",
    "z0    = np.linspace( POSZ,   5 , num=Npix)\n",
    "#\n",
    "xx,yy = np.meshgrid(x0, y0)\n",
    "zz    = np.zeros_like(xx) + POSZ\n",
    "# cells indices\n",
    "icells = locate_3Dregular_cells(xgrid, ygrid, zgrid, xx.ravel(), yy.ravel(), zz.ravel())\n",
    "\n",
    "sensors=[]\n",
    "for POSX,POSY,POSZ,ICELL in zip(xx.ravel(), yy.ravel(), zz.ravel(), icells):\n",
    "    sensors.append(Sensor(POSX=POSX, POSY=POSY, POSZ=POSZ, FOV=0., TYPE=0,\n",
    "                          THDEG=THDEG, PHDEG=PHDEG, LOC='ATMOS', ICELL=ICELL))\n",
    "    \n",
    "sensor_cld1 = Sensor(POSZ=POSZ, FOV=0., TYPE=0,\n",
    "                          THDEG=THDEG, PHDEG=PHDEG, LOC='ATMOS', \n",
    "                    ICELL=locate_3Dregular_cells(xgrid, ygrid, zgrid, 0., 0., POSZ))\n",
    "sensor_cld2 = Sensor(POSX=-0.4, POSY=-0.4, POSZ=POSZ, FOV=0., TYPE=0,\n",
    "                          THDEG=THDEG, PHDEG=PHDEG, LOC='ATMOS', \n",
    "                    ICELL=locate_3Dregular_cells(xgrid, ygrid, zgrid, -0.4, -0.4, POSZ))\n",
    "\n",
    "sensor_grd = Sensor(POSX = -POSX, POSZ=POSZ, FOV=0., TYPE=0,\n",
    "                          THDEG=THDEG, PHDEG=PHDEG, LOC='ATMOS', \n",
    "                    ICELL=locate_3Dregular_cells(xgrid, ygrid, zgrid, -POSX, 0., POSZ))"
   ]
  },
  {
   "cell_type": "code",
   "execution_count": null,
   "metadata": {
    "ExecuteTime": {
     "end_time": "2020-01-08T09:48:06.982184Z",
     "start_time": "2020-01-08T09:47:54.950094Z"
    }
   },
   "outputs": [],
   "source": [
    "%%time\n",
    "# Spectra\n",
    "zoom          = (685.75, 688.00)\n",
    "sigma         = ao2_int[:,:]\n",
    "NWS           = wls.size\n",
    "#sigma         = gas_abs[:,1:]\n",
    "S3Da          = Smartg(opt3D=True,  alt_pp=True, alis=True) # 3D\n",
    "le            = {'th_deg':np.array([SZA]), 'phi_deg':np.array([SAA])}\n",
    "ALB           = Albedo_speclib('/rfs/data/speclib2.0/data/jhu.becknic.vegetation.trees.deciduous.solid.decidou.spectrum.txt')\n",
    "fig,ax        = subplots(nrows=5, ncols=2) \n",
    "fig.set_size_inches(24,15)\n",
    "surf          = LambSurface(ALB=1.)\n",
    "surfref       = LambSurface(ALB=ALB.get(wls[0]))\n",
    "NL            = Nopt-1 # number of opt properties\n",
    "NB            = 1e5\n",
    "for i,sensor in enumerate([sensor_cld1, sensor_grd]):\n",
    "    m       = S3Da.run(wl=wls,  NBPHOTONS=NB, atm=pro3D, sensor=sensor, le=le, surf=surf, NBLOOP=1e4,\n",
    "               stdev=False, NF=1e4, alis_options={'nlow':NWS, 'hist':True}).sub({'Azimuth angles':0, 'Zenith angles':0})\n",
    "    #mref    = S3D.run(wl=wls[0],  NBPHOTONS=NB*100, atm=pro3D0, sensor=sensor, le=le, surf=surfref, NBLOOP=1e5,\n",
    "    #           stdev=False, NF=1e4).sub({'Azimuth angles':0, 'Zenith angles':0})\n",
    "\n",
    "    w     = m['disth_up (TOA)'][:, NL+4:-3]\n",
    "    ngood = np.sum(w[:,0]!=0)\n",
    "\n",
    "    S       = np.zeros((ngood,4),dtype=np.float32) \n",
    "    cd      = m['disth_up (TOA)'][:ngood,     :NL  ]\n",
    "    S[:,:4] = m['disth_up (TOA)'][:ngood, NL  :NL+4]\n",
    "    w       = m['disth_up (TOA)'][:ngood, NL+4:-3  ]\n",
    "    nrrs    = m['disth_up (TOA)'][:ngood,      -3  ]\n",
    "    nref    = m['disth_up (TOA)'][:ngood,      -2  ]\n",
    "    nsif    = m['disth_up (TOA)'][:ngood,      -1  ]\n",
    "\n",
    "    XBLOCK  = 512\n",
    "    XGRID   = 512\n",
    "    NT      = XBLOCK*XGRID       # Maximum Number of threads\n",
    "    NPHOTON = cd.shape[0]        # Number of photons\n",
    "\n",
    "    NLAYER  = sigma.shape[1]     # Number of vertical layer\n",
    "    NWVL    = sigma.shape[0]     # Number of wavelength for absorption and output\n",
    "    NGROUP  = NT//NWVL           # Number of groups of photons\n",
    "    NTHREAD = NGROUP*NWVL        # Number of threads used\n",
    "    NBUNCH  = NPHOTON//NGROUP    # Number of photons per group\n",
    "    NP_REST = NPHOTON%(NGROUP*NBUNCH) # Number of additional photons in the last group\n",
    "    NWVL_LOW = NWS\n",
    "\n",
    "    print(NT, NTHREAD, NGROUP, NPHOTON, NLAYER, NWVL, NBUNCH, NP_REST, NWVL_LOW)\n",
    "    sigma_ab_in  = np.zeros((NLAYER, NWVL), order='C', dtype=np.float32)\n",
    "    sigma_ab_in[:,:]  = sigma.swapaxes(0,1)\n",
    "\n",
    "    alb_in       = ALB.get(wl).reshape(NWVL, order='C').astype(np.float32) \n",
    "\n",
    "    #cd_in        = cd.reshape((NPHOTON, NLAYER), order='C').astype(np.float32)\n",
    "    cd_in        = cd[:,:NLAYER].reshape((NPHOTON, NLAYER), order='C').astype(np.float32)\n",
    "    S_in         = S.reshape((NPHOTON, 4),       order='C').astype(np.float32)\n",
    "    weight_in    = w.reshape((NPHOTON, NWVL_LOW),order='C').astype(np.float32)\n",
    "    nrrs_in      = nrrs.reshape(NPHOTON,order='C').astype(np.int8)\n",
    "    nsif_in      = nsif.reshape(NPHOTON,order='C').astype(np.int8)\n",
    "    nref_in      = nref.reshape(NPHOTON,order='C').astype(np.int8)\n",
    "\n",
    "    res_out      = gpuzeros((4, NWVL),   dtype=np.float64)\n",
    "    res_sca      = gpuzeros((4, NWVL),   dtype=np.float64)\n",
    "    res_rrs      = gpuzeros((4, NWVL),   dtype=np.float64)\n",
    "    res_sif      = gpuzeros((4, NWVL),   dtype=np.float64)\n",
    "    reduce_absorption_gpu(np.int64(NPHOTON), np.int64(NLAYER), np.int64(NWVL), np.int64(NTHREAD), np.int64(NGROUP), np.int64(NBUNCH), \n",
    "                          np.int64(NP_REST), np.int64(NWVL_LOW), res_out, res_sca, res_rrs, res_sif, \n",
    "                          to_gpu(sigma_ab_in), to_gpu(alb_in), to_gpu(cd_in), to_gpu(S_in), to_gpu(weight_in), to_gpu(nrrs_in), \n",
    "                          to_gpu(nref_in), to_gpu(nsif_in), to_gpu(iwls_in), to_gpu(wwls_in), \n",
    "                          block=(XBLOCK,1,1),grid=(XGRID,1,1))\n",
    "    I1      = res_out.get()/m[0][0,0]\n",
    "    #norm1   = I1[0,0]/mref['I_up (TOA)'].data\n",
    "    P_Raman = res_rrs.get()[0,:]/res_out.get()[0,:]\n",
    "    #print(norm1)\n",
    "    norm1 = 1\n",
    "    I1_LUT = LUT(I1[0,:]/norm1, axes=[wl], names=['wavelength'], desc=mdesc('I_up (TOA)'))\n",
    "    Q1_LUT = LUT(I1[1,:]/norm1, axes=[wl], names=['wavelength'], desc=mdesc('Q_up (TOA)'))\n",
    "    U1_LUT = LUT(I1[1,:]/norm1, axes=[wl], names=['wavelength'], desc=mdesc('U_up (TOA)'))\n",
    "    DoLP_LUT = ((Q1_LUT*Q1_LUT + U1_LUT*U1_LUT).apply(np.sqrt)/I1_LUT)*100\n",
    "    DoLP_LUT.desc='DoLP (%)'\n",
    "    P_Raman_LUT = LUT(P_Raman, axes=[wl], names=['wavelength'], desc=r'$P_{Raman}$')\n",
    "    Rel     = Es * I1_LUT[Idx(wl,fill_value='extrema')]\n",
    "    Rel_llp = Es_RRS * I1_LUT[Idx(wl_RRS,fill_value='extrema')]\n",
    "    R_RRS   = np.sum(Rel_llp * LRRS, axis=1) * P_Raman_LUT[Idx(wl, fill_value='extrema')]\n",
    "    Rel_out = Rel * P_Raman_LUT[Idx(wl, fill_value='extrema')]\n",
    "    R_tot   = R_RRS + Rel - Rel_out\n",
    "    \n",
    "    sca(ax[0,0])\n",
    "    I1_LUT.plot(label='%d'%i)\n",
    "    ylim(0,0.4)\n",
    "    sca(ax[0,1])\n",
    "    I1_LUT.plot(label='%d'%i)\n",
    "    xlim(zoom)\n",
    "    ylim(0,0.4)\n",
    "    \n",
    "    sca(ax[1,0])\n",
    "    ff = R_tot\n",
    "    plot(wl, ff ,'-')\n",
    "    xlabel('wavelength (nm)')\n",
    "    ylabel(mdesc('I_up (TOA, tot)')+ r'$ (ph/s/cm^2/nm)$')\n",
    "    grid(True)\n",
    "    sca(ax[1,1])\n",
    "    ff = R_tot\n",
    "    plot(wl, ff ,'-')\n",
    "    xlim(zoom)\n",
    "    xlabel('wavelength (nm)')\n",
    "    grid(True)\n",
    "    \n",
    "    sca(ax[2,0])\n",
    "    ff = R_RRS\n",
    "    plot(wl, ff ,'-')\n",
    "    xlabel('wavelength (nm)')\n",
    "    ylabel(mdesc('I_up (TOA, RRS in)')+ r'$ (ph/s/cm^2/nm)$')\n",
    "    grid(True)\n",
    "    sca(ax[2,1])\n",
    "    ff = R_RRS\n",
    "    plot(wl, ff ,'-')\n",
    "    xlabel('wavelength (nm)')\n",
    "    xlim(zoom)\n",
    "    grid(True)\n",
    "\n",
    "    sca(ax[3,0])\n",
    "    ff = R_tot/Rel\n",
    "    plot(wl, ff)\n",
    "    xlabel('wavelength (nm)')\n",
    "    ylabel('$Ring spectrum (Tot/Elastic)$')\n",
    "    ylim(0.95,1.05)\n",
    "    grid(True)\n",
    "    sca(ax[3,1])\n",
    "    ff = R_tot/Rel\n",
    "    plot(wl, ff)\n",
    "    xlabel('wavelength (nm)')\n",
    "    ylim(0.95,1.05)\n",
    "    grid(True)\n",
    "    xlim(zoom)\n",
    "    \n",
    "    sca(ax[4,0])\n",
    "    DoLP_LUT.plot(label='%d'%i)\n",
    "    ylim(0,40)\n",
    "    sca(ax[4,1])\n",
    "    DoLP_LUT.plot(label='%d'%i)\n",
    "    xlim(zoom)\n",
    "    ylim(0,40)\n",
    "legend()"
   ]
  },
  {
   "cell_type": "code",
   "execution_count": null,
   "metadata": {
    "ExecuteTime": {
     "end_time": "2019-12-29T22:17:30.561328Z",
     "start_time": "2019-12-29T22:17:23.047205Z"
    },
    "run_control": {
     "marked": false
    }
   },
   "outputs": [],
   "source": [
    "# vertical grid in descending order as usual for SmartG 1D\n",
    "znew = np.linspace(50., 0. , num=26)\n",
    "#znew = np.array([100., 99., 20., 5., 3., 2., 0.])\n",
    "Nx=1\n",
    "Ny=1\n",
    "Dx=1.\n",
    "Dy=1.\n",
    "# vertical grid in ascending order for 3D grid\n",
    "zgrid = znew[::-1]\n",
    "\n",
    "# grid building\n",
    "(idx,idy,idz), (NX,NY,NZ), (xgrid, ygrid, zgrid), neigh, pmin, pmax = \\\n",
    "    Get_3Dcells(Nx=Nx,Dx=Dx,Ny=Ny,Dy=Dy, z=zgrid, SAT_ALTITUDE=120, \n",
    "                periodic=False, HORIZ_EXTENT_LENGTH=1e5)\n",
    "Ncell   = NX*NY*NZ\n",
    "\n",
    "# cloud cells\n",
    "idx_cloud = 1\n",
    "idy_cloud = 1\n",
    "idz_cloud = 1\n",
    "\n",
    "Nopt      = len(zgrid) + 1 # one clear atmosphere + 1 cloud cell \n",
    "\n",
    "\n",
    "cloud_cell = np.ravel_multi_index((idx_cloud, idy_cloud, idz_cloud), dims=(NX,NY,NZ), order='C')\n",
    "iopt       = np.zeros(Ncell, dtype=int32)\n",
    "iopt[:]    = np.arange(Nopt)[::-1][idz+1]\n",
    "iopt[cloud_cell] = Nopt - 1\n",
    "\n",
    "## optical properties\n",
    "wl_ref  = 690.\n",
    "# aerosols\n",
    "aer     = AeroOPAC('urban', 0., wl_ref)\n",
    "pha_aer = AtmAFGL('afglt', comp=[aer]).calc(wl_ref, NBTHETA=10000)['phase_atm'].sub()[0,:,:]\n",
    "cld     = CloudOPAC('wc.sol', 3., znew[-2], znew[-3], 10., wl_ref)\n",
    "#pha_cld = AtmAFGL('afglt', comp=[cld]).calc(wl_ref, NBTHETA=10000)['phase_atm'].sub()[0,:,:]\n",
    "\n",
    "atm1D_clr  = AtmAFGL('afglt', O3=0., comp=[aer], NO2=True, grid=znew).calc(wls)\n",
    "atm1D_cld  = AtmAFGL('afglt', O3=0., NO2=True, comp=[cld], grid=znew).calc(wls)\n",
    "atm1D_clrA  = AtmAFGL('afglt', O3=0., comp=[aer], NO2=True, prof_abs=ao2_int, grid=znew).calc(wl)\n",
    "atm1D_cldA  = AtmAFGL('afglt', O3=0., NO2=True, comp=[cld], prof_abs=ao2_int, grid=znew).calc(wl)\n",
    "#atm1D_clrA  = AtmAFGL('afglt', O3=0., comp=[aer], NO2=True, grid=znew).calc(wl)\n",
    "#atm1D_cldA  = AtmAFGL('afglt', O3=0., NO2=True, comp=[cld], grid=znew).calc(wl)\n",
    "ptc_sca    = np.concatenate([od2k(atm1D_clr, 'OD_p')[:,:], od2k(atm1D_cld, 'OD_p') [:,-idz_cloud-1:-idz_cloud]], axis=1)\n",
    "ptc_ssa    = np.concatenate([atm1D_clr['ssa_p_atm'] [:,:], atm1D_cld['ssa_p_atm']  [:,-idz_cloud-1:-idz_cloud]], axis=1)\n",
    "ray_sca    = np.concatenate([od2k(atm1D_clr, 'OD_r')[:,:], od2k(atm1D_cld, 'OD_r') [:,-idz_cloud-1:-idz_cloud]], axis=1)\n",
    "gas_abs    = np.concatenate([od2k(atm1D_clrA, 'OD_g')[:,:], od2k(atm1D_cldA, 'OD_g') [:,-idz_cloud-1:-idz_cloud]], axis=1)\n",
    "\n",
    "atm1D_clr0  = AtmAFGL('afglt', O3=0., comp=[aer], NO2=False, grid=znew).calc(wls[0])\n",
    "atm1D_cld0  = AtmAFGL('afglt', O3=0., NO2=False, comp=[cld], grid=znew).calc(wls[0])\n",
    "ptc_sca0    = np.concatenate([od2k(atm1D_clr0, 'OD_p')[:,:], od2k(atm1D_cld0, 'OD_p') [:,-idz_cloud-1:-idz_cloud]], axis=1)\n",
    "ptc_ssa0    = np.concatenate([atm1D_clr0['ssa_p_atm'] [:,:], atm1D_cld0['ssa_p_atm']  [:,-idz_cloud-1:-idz_cloud]], axis=1)\n",
    "ray_sca0    = np.concatenate([od2k(atm1D_clr0, 'OD_r')[:,:], od2k(atm1D_cld0, 'OD_r') [:,-idz_cloud-1:-idz_cloud]], axis=1)\n",
    "gas_abs0    = np.concatenate([od2k(atm1D_clr0, 'OD_g')[:,:], od2k(atm1D_cld0, 'OD_g') [:,-idz_cloud-1:-idz_cloud]], axis=1)\n",
    "\n",
    "ipha0       = np.zeros_like(ptc_sca0, dtype=int32)\n",
    "ipha0[:, iopt[cloud_cell]] = 1\n",
    "ipha        = np.zeros_like(ptc_sca, dtype=int32)\n",
    "ipha[:, iopt[cloud_cell]] = 1\n",
    "\n",
    "NWS=wls.size\n",
    "# parameters for 1D linear interpolation of w\n",
    "f  =  interp1d(wls,np.linspace(0, NWS-1, num=NWS))\n",
    "iw =  f(wl)\n",
    "#iw =  f(wl_RRS.ravel())\n",
    "iwls_in = np.floor(iw).astype(int8)        # index of lower wls value in the wls array, \n",
    "wwls_in = (iw-iwls_in).astype(np.float32)  # floating proportion between iwls and iwls+1\n",
    "# special case for NWS\n",
    "ii = np.where(iwls_in==(NWS-1))\n",
    "iwls_in[ii] = NWS-2\n",
    "wwls_in[ii] = 1."
   ]
  },
  {
   "cell_type": "code",
   "execution_count": null,
   "metadata": {
    "ExecuteTime": {
     "end_time": "2019-12-29T21:59:43.991213Z",
     "start_time": "2019-12-29T21:59:43.849676Z"
    }
   },
   "outputs": [],
   "source": [
    "# Cloud Phase matrix\n",
    "# alternative reff = 5 micron phase function\n",
    "cloud_sub = cloud_LUT.sub({'effective_radius':Idx(5.),'effective_variance':0, 'wavelength':Idx(0.670)})\n",
    "pha = np.stack([(cloud_sub['p11_phase_function']+cloud_sub['p21_phase_function'])[::-1],\n",
    "               (cloud_sub['p11_phase_function']-cloud_sub['p21_phase_function'])[::-1],\n",
    "                cloud_sub['p34_phase_function'][::-1], cloud_sub['p44_phase_function'][::-1]])\n",
    "pha_cld = LUT(pha, axes=[None, cloud_sub.axis('phase_angles')[::-1]], names=['stk', 'theta_atm'])"
   ]
  },
  {
   "cell_type": "code",
   "execution_count": null,
   "metadata": {
    "ExecuteTime": {
     "end_time": "2019-12-29T21:59:47.442403Z",
     "start_time": "2019-12-29T21:59:47.334175Z"
    }
   },
   "outputs": [],
   "source": [
    "ray_sca[0,:], ptc_sca[0,:], gas_abs[0,:], atm1D_cld.axis('z_atm'), idz, idz_cloud, iopt\n",
    "iopt, pmin[2,cloud_cell], iopt[cloud_cell], ptc_sca[0,iopt[cloud_cell]], gas_abs[0,iopt[cloud_cell]],  ray_sca[0,iopt[cloud_cell]], Nopt\n",
    "ptc_ssa[0,iopt[cloud_cell]]"
   ]
  },
  {
   "cell_type": "code",
   "execution_count": null,
   "metadata": {
    "ExecuteTime": {
     "end_time": "2019-12-29T22:17:31.114635Z",
     "start_time": "2019-12-29T22:17:30.564229Z"
    }
   },
   "outputs": [],
   "source": [
    "atm3D = AtmAFGL('afglt',\n",
    "                    grid        = np.arange(Nopt),\n",
    "                    prof_ray    = ray_sca,\n",
    "                    prof_aer    = (ptc_sca, ptc_ssa),\n",
    "                    prof_phases = (ipha, [pha_aer,pha_cld]),\n",
    "                    cells       = (iopt, pmin, pmax, neigh)\n",
    "                   )\n",
    "\n",
    "pro3D  = atm3D.calc(wls)\n",
    "atm3D0 = AtmAFGL('afglt',\n",
    "                    grid        = np.arange(Nopt),\n",
    "                    prof_ray    = ray_sca0,\n",
    "                    prof_abs    = gas_abs0,\n",
    "                    prof_aer    = (ptc_sca0, ptc_ssa0),\n",
    "                    prof_phases = (ipha0, [pha_aer,pha_cld]),\n",
    "                    cells       = (iopt, pmin, pmax, neigh)\n",
    "                   )\n",
    "\n",
    "pro3D0 = atm3D0.calc(wls[0])\n",
    "# Sun position\n",
    "SAA    = 180.\n",
    "SZA    = 40.\n",
    "# Sensors position\n",
    "Npix   = 70\n",
    "POSZ   = 49.0001\n",
    "#POSZ   = 0.\n",
    "POSX   = 3.4999\n",
    "POSY   = 3.4999\n",
    "#THDEG  = 20.\n",
    "THDEG  = 180.\n",
    "PHDEG  = 140.\n",
    "# pixels centers on the ground\n",
    "x0    = np.linspace(-POSX, POSX, num=Npix) # central domain (cumulus) boundaries\n",
    "y0    = np.linspace(-POSY, POSY, num=Npix)\n",
    "z0    = np.linspace( POSZ,   5 , num=Npix)\n",
    "#\n",
    "xx,yy = np.meshgrid(x0, y0)\n",
    "zz    = np.zeros_like(xx) + POSZ\n",
    "# cells indices\n",
    "icells = locate_3Dregular_cells(xgrid, ygrid, zgrid, xx.ravel(), yy.ravel(), zz.ravel())\n",
    "\n",
    "sensors=[]\n",
    "for POSX,POSY,POSZ,ICELL in zip(xx.ravel(), yy.ravel(), zz.ravel(), icells):\n",
    "    sensors.append(Sensor(POSX=POSX, POSY=POSY, POSZ=POSZ, FOV=0., TYPE=0,\n",
    "                          THDEG=THDEG, PHDEG=PHDEG, LOC='ATMOS', ICELL=ICELL))\n",
    "    \n",
    "sensor_cld1 = Sensor(POSZ=POSZ, FOV=0., TYPE=0,\n",
    "                          THDEG=THDEG, PHDEG=PHDEG, LOC='ATMOS', \n",
    "                    ICELL=locate_3Dregular_cells(xgrid, ygrid, zgrid, 0., 0., POSZ))\n",
    "sensor_cld2 = Sensor(POSX=-0.4, POSY=-0.4, POSZ=POSZ, FOV=0., TYPE=0,\n",
    "                          THDEG=THDEG, PHDEG=PHDEG, LOC='ATMOS', \n",
    "                    ICELL=locate_3Dregular_cells(xgrid, ygrid, zgrid, -0.4, -0.4, POSZ))\n",
    "\n",
    "sensor_grd = Sensor(POSX = -POSX, POSZ=POSZ, FOV=0., TYPE=0,\n",
    "                          THDEG=THDEG, PHDEG=PHDEG, LOC='ATMOS', \n",
    "                    ICELL=locate_3Dregular_cells(xgrid, ygrid, zgrid, -POSX, 0., POSZ))"
   ]
  },
  {
   "cell_type": "code",
   "execution_count": null,
   "metadata": {
    "ExecuteTime": {
     "end_time": "2019-12-29T22:26:37.055299Z",
     "start_time": "2019-12-29T22:26:35.729982Z"
    }
   },
   "outputs": [],
   "source": [
    "#Monochromatic image\n",
    "le      = {'th_deg':np.array([SZA]), 'phi_deg':np.array([SAA])}\n",
    "S3D     = Smartg(opt3D=True,  alt_pp=True, alis=False) # 3D\n",
    "ALB     = Albedo_speclib('/rfs/data/speclib2.0/data/jhu.becknic.vegetation.trees.deciduous.solid.decidou.spectrum.txt')\n",
    "surf    = LambSurface(ALB=ALB.get(wls[0]))\n",
    "NB      = len(sensors) * 1e3\n",
    "m0      = S3D .run(wl=wls[0],  NBPHOTONS=NB, atm=pro3D.sub({'wavelength':0}), sensor=sensors, le=le, surf=surf, NBLOOP=1e5,\n",
    "               stdev=False, NF=1e4).sub({'Azimuth angles':0, 'Zenith angles':0})"
   ]
  },
  {
   "cell_type": "code",
   "execution_count": null,
   "metadata": {
    "ExecuteTime": {
     "end_time": "2019-12-27T17:21:14.277558Z",
     "start_time": "2019-12-27T17:20:04.389643Z"
    }
   },
   "outputs": [],
   "source": [
    "#Monochromatic image NO2\n",
    "le      = {'th_deg':np.array([SZA]), 'phi_deg':np.array([SAA])}\n",
    "S3D     = Smartg(opt3D=True,  alt_pp=True, alis=False) # 3D\n",
    "ALB     = Albedo_speclib('/rfs/data/speclib2.0/data/jhu.becknic.vegetation.trees.deciduous.solid.decidou.spectrum.txt')\n",
    "surf    = LambSurface(ALB=ALB.get(wls[0]))\n",
    "NB      = len(sensors) * 1e5\n",
    "m0      = S3D .run(wl=wls[0],  NBPHOTONS=NB, atm=pro3D0, sensor=sensors, le=le, surf=surf, NBLOOP=1e6,\n",
    "               stdev=False, NF=1e4).sub({'Azimuth angles':0, 'Zenith angles':0})"
   ]
  },
  {
   "cell_type": "code",
   "execution_count": null,
   "metadata": {
    "ExecuteTime": {
     "end_time": "2019-12-29T22:01:20.555577Z",
     "start_time": "2019-12-29T22:01:19.776488Z"
    }
   },
   "outputs": [],
   "source": [
    "# O2\n",
    "f=figure(figsize=(6,6))\n",
    "im = m0['I_up (TOA)'].data.reshape(Npix,Npix,1)[::-1,:,-1]\n",
    "imshow(im, vmin=0 , vmax=0.39, cmap=cm.Blues_r)\n",
    "cbar = colorbar(shrink=0.8, orientation='vertical')\n",
    "cbar.ax.set_xlabel(mdesc('I_up (TOA)'))\n",
    "f.tight_layout()\n",
    "#f.savefig('/home/did/RTC/SMART-G/smartg/validation/IPRT/C2_case5_O2_image.png', dpi=200)"
   ]
  },
  {
   "cell_type": "code",
   "execution_count": null,
   "metadata": {
    "ExecuteTime": {
     "end_time": "2019-12-27T17:37:39.117393Z",
     "start_time": "2019-12-27T17:37:37.694519Z"
    }
   },
   "outputs": [],
   "source": [
    "# NO2\n",
    "f=figure(figsize=(6,6))\n",
    "im = m0['I_up (TOA)'].data.reshape(Npix,Npix,1)[::-1,:,-1]\n",
    "imshow(im, vmin=0 , cmap=cm.Blues_r)\n",
    "cbar = colorbar(shrink=0.8, orientation='vertical')\n",
    "cbar.ax.set_xlabel(mdesc('I_up (TOA)'))\n",
    "f.tight_layout()\n",
    "f.savefig('/home/did/RTC/SMART-G/smartg/validation/IPRT/C2_case5_NO2_image.png', dpi=200)"
   ]
  },
  {
   "cell_type": "code",
   "execution_count": null,
   "metadata": {
    "ExecuteTime": {
     "end_time": "2019-12-27T17:35:59.728697Z",
     "start_time": "2019-12-27T17:35:57.604295Z"
    }
   },
   "outputs": [],
   "source": [
    "f=figure(figsize=(6,4))\n",
    "phases = [pha_cld, pha_aer]\n",
    "ip  = np.array([p.axis('theta_atm').size for p in phases]).argmax()\n",
    "theta = phases[ip].axis('theta_atm')\n",
    "pha = np.stack([p[:,Idx(theta)] for p in phases])\n",
    "pha.shape, pha_cld.data.shape, pha_aer.data.shape\n",
    "semilogy(theta, pha[1,0,:],label='urban aerosol')\n",
    "semilogy(theta, pha[0,0,:],label=r'liquid cloud $r_{eff}=5\\mu m$')\n",
    "grid()\n",
    "xlim(0,180)\n",
    "ylim(1e-2,1e4)\n",
    "xlabel(r'$\\theta$')\n",
    "ylabel(r'$P(\\theta)$')\n",
    "legend()\n",
    "f.tight_layout()\n",
    "f.savefig('/home/did/RTC/SMART-G/smartg/validation/IPRT/C2_case5_phase_function.png', dpi=200)"
   ]
  },
  {
   "cell_type": "code",
   "execution_count": null,
   "metadata": {
    "ExecuteTime": {
     "end_time": "2019-12-29T22:30:53.429448Z",
     "start_time": "2019-12-29T22:30:47.093451Z"
    }
   },
   "outputs": [],
   "source": [
    "%%time\n",
    "# Spectra\n",
    "zoom          = (685.75, 688.00)\n",
    "sigma         = ao2_int[:,:]\n",
    "NWS           = wls.size\n",
    "#sigma         = gas_abs[:,1:]\n",
    "S3Da          = Smartg(opt3D=True,  alt_pp=True, alis=True) # 3D\n",
    "fig,ax        = subplots(nrows=5, ncols=2) \n",
    "fig.set_size_inches(24,15)\n",
    "surf          = LambSurface(ALB=1.)\n",
    "surfref       = LambSurface(ALB=ALB.get(wls[0]))\n",
    "NL            = Nopt-1 # number of opt properties\n",
    "NB            = 1e3\n",
    "for i,sensor in enumerate([sensor_cld1, sensor_grd]):\n",
    "    m       = S3Da.run(wl=wls,  NBPHOTONS=NB, atm=pro3D, sensor=sensor, le=le, surf=surf, NBLOOP=1e4,\n",
    "               stdev=False, NF=1e4, alis_options={'nlow':NWS, 'hist':True}).sub({'Azimuth angles':0, 'Zenith angles':0})\n",
    "    #mref    = S3D.run(wl=wls[0],  NBPHOTONS=NB*100, atm=pro3D0, sensor=sensor, le=le, surf=surfref, NBLOOP=1e5,\n",
    "    #           stdev=False, NF=1e4).sub({'Azimuth angles':0, 'Zenith angles':0})\n",
    "\n",
    "    w     = m['disth_up (TOA)'][:, NL+4:-3]\n",
    "    ngood = np.sum(w[:,0]!=0)\n",
    "\n",
    "    S       = np.zeros((ngood,4),dtype=np.float32) \n",
    "    cd      = m['disth_up (TOA)'][:ngood,     :NL  ]\n",
    "    S[:,:4] = m['disth_up (TOA)'][:ngood, NL  :NL+4]\n",
    "    w       = m['disth_up (TOA)'][:ngood, NL+4:-3  ]\n",
    "    nrrs    = m['disth_up (TOA)'][:ngood,      -3  ]\n",
    "    nref    = m['disth_up (TOA)'][:ngood,      -2  ]\n",
    "    nsif    = m['disth_up (TOA)'][:ngood,      -1  ]\n",
    "\n",
    "    XBLOCK  = 512\n",
    "    XGRID   = 512\n",
    "    NT      = XBLOCK*XGRID       # Maximum Number of threads\n",
    "    NPHOTON = cd.shape[0]        # Number of photons\n",
    "\n",
    "    NLAYER  = sigma.shape[1]     # Number of vertical layer\n",
    "    NWVL    = sigma.shape[0]     # Number of wavelength for absorption and output\n",
    "    NGROUP  = NT//NWVL           # Number of groups of photons\n",
    "    NTHREAD = NGROUP*NWVL        # Number of threads used\n",
    "    NBUNCH  = NPHOTON//NGROUP    # Number of photons per group\n",
    "    NP_REST = NPHOTON%(NGROUP*NBUNCH) # Number of additional photons in the last group\n",
    "    NWVL_LOW = NWS\n",
    "\n",
    "    print(NT, NTHREAD, NGROUP, NPHOTON, NLAYER, NWVL, NBUNCH, NP_REST, NWVL_LOW)\n",
    "    sigma_ab_in  = np.zeros((NLAYER, NWVL), order='C', dtype=np.float32)\n",
    "    sigma_ab_in[:,:]  = sigma.swapaxes(0,1)\n",
    "\n",
    "    alb_in       = ALB.get(wl).reshape(NWVL, order='C').astype(np.float32) \n",
    "\n",
    "    cd_in        = cd.reshape((NPHOTON, NLAYER), order='C').astype(np.float32)\n",
    "    S_in         = S.reshape((NPHOTON, 4),       order='C').astype(np.float32)\n",
    "    weight_in    = w.reshape((NPHOTON, NWVL_LOW),order='C').astype(np.float32)\n",
    "    nrrs_in      = nrrs.reshape(NPHOTON,order='C').astype(np.int8)\n",
    "    nsif_in      = nsif.reshape(NPHOTON,order='C').astype(np.int8)\n",
    "    nref_in      = nref.reshape(NPHOTON,order='C').astype(np.int8)\n",
    "\n",
    "    res_out      = gpuzeros((4, NWVL),   dtype=np.float64)\n",
    "    res_sca      = gpuzeros((4, NWVL),   dtype=np.float64)\n",
    "    res_rrs      = gpuzeros((4, NWVL),   dtype=np.float64)\n",
    "    res_sif      = gpuzeros((4, NWVL),   dtype=np.float64)\n",
    "    reduce_absorption_gpu(np.int64(NPHOTON), np.int64(NLAYER), np.int64(NWVL), np.int64(NTHREAD), np.int64(NGROUP), np.int64(NBUNCH), \n",
    "                          np.int64(NP_REST), np.int64(NWVL_LOW), res_out, res_sca, res_rrs, res_sif, \n",
    "                          to_gpu(sigma_ab_in), to_gpu(alb_in), to_gpu(cd_in), to_gpu(S_in), to_gpu(weight_in), to_gpu(nrrs_in), \n",
    "                          to_gpu(nref_in), to_gpu(nsif_in), to_gpu(iwls_in), to_gpu(wwls_in), \n",
    "                          block=(XBLOCK,1,1),grid=(XGRID,1,1))\n",
    "    I1      = res_out.get()/m[0][0,0]\n",
    "    #norm1   = I1[0,0]/mref['I_up (TOA)'].data\n",
    "    P_Raman = res_rrs.get()[0,:]/res_out.get()[0,:]\n",
    "    #print(norm1)\n",
    "    norm1 = 1\n",
    "    I1_LUT = LUT(I1[0,:]/norm1, axes=[wl], names=['wavelength'], desc=mdesc('I_up (TOA)'))\n",
    "    Q1_LUT = LUT(I1[1,:]/norm1, axes=[wl], names=['wavelength'], desc=mdesc('Q_up (TOA)'))\n",
    "    U1_LUT = LUT(I1[1,:]/norm1, axes=[wl], names=['wavelength'], desc=mdesc('U_up (TOA)'))\n",
    "    DoLP_LUT = ((Q1_LUT*Q1_LUT + U1_LUT*U1_LUT).apply(np.sqrt)/I1_LUT)*100\n",
    "    DoLP_LUT.desc='DoLP (%)'\n",
    "    P_Raman_LUT = LUT(P_Raman, axes=[wl], names=['wavelength'], desc=r'$P_{Raman}$')\n",
    "    Rel     = Es * I1_LUT[Idx(wl,fill_value='extrema')]\n",
    "    Rel_llp = Es_RRS * I1_LUT[Idx(wl_RRS,fill_value='extrema')]\n",
    "    R_RRS   = np.sum(Rel_llp * LRRS, axis=1) * P_Raman_LUT[Idx(wl, fill_value='extrema')]\n",
    "    Rel_out = Rel * P_Raman_LUT[Idx(wl, fill_value='extrema')]\n",
    "    R_tot   = R_RRS + Rel - Rel_out\n",
    "    \n",
    "    sca(ax[0,0])\n",
    "    I1_LUT.plot(label='%d'%i)\n",
    "    ylim(0,0.4)\n",
    "    sca(ax[0,1])\n",
    "    I1_LUT.plot(label='%d'%i)\n",
    "    xlim(zoom)\n",
    "    ylim(0,0.4)\n",
    "    \n",
    "    sca(ax[1,0])\n",
    "    ff = R_tot\n",
    "    plot(wl, ff ,'-')\n",
    "    xlabel('wavelength (nm)')\n",
    "    ylabel(mdesc('I_up (TOA, tot)')+ r'$ (ph/s/cm^2/nm)$')\n",
    "    grid(True)\n",
    "    sca(ax[1,1])\n",
    "    ff = R_tot\n",
    "    plot(wl, ff ,'-')\n",
    "    xlim(zoom)\n",
    "    xlabel('wavelength (nm)')\n",
    "    grid(True)\n",
    "    \n",
    "    sca(ax[2,0])\n",
    "    ff = R_RRS\n",
    "    plot(wl, ff ,'-')\n",
    "    xlabel('wavelength (nm)')\n",
    "    ylabel(mdesc('I_up (TOA, RRS in)')+ r'$ (ph/s/cm^2/nm)$')\n",
    "    grid(True)\n",
    "    sca(ax[2,1])\n",
    "    ff = R_RRS\n",
    "    plot(wl, ff ,'-')\n",
    "    xlabel('wavelength (nm)')\n",
    "    xlim(zoom)\n",
    "    grid(True)\n",
    "\n",
    "    sca(ax[3,0])\n",
    "    ff = R_tot/Rel\n",
    "    plot(wl, ff)\n",
    "    xlabel('wavelength (nm)')\n",
    "    ylabel('$Ring spectrum (Tot/Elastic)$')\n",
    "    ylim(0.95,1.05)\n",
    "    grid(True)\n",
    "    sca(ax[3,1])\n",
    "    ff = R_tot/Rel\n",
    "    plot(wl, ff)\n",
    "    xlabel('wavelength (nm)')\n",
    "    ylim(0.95,1.05)\n",
    "    grid(True)\n",
    "    xlim(zoom)\n",
    "    \n",
    "    sca(ax[4,0])\n",
    "    DoLP_LUT.plot(label='%d'%i)\n",
    "    ylim(0,40)\n",
    "    sca(ax[4,1])\n",
    "    DoLP_LUT.plot(label='%d'%i)\n",
    "    xlim(zoom)\n",
    "    ylim(0,40)\n",
    "legend()"
   ]
  },
  {
   "cell_type": "code",
   "execution_count": null,
   "metadata": {
    "ExecuteTime": {
     "end_time": "2019-12-27T18:51:32.049349Z",
     "start_time": "2019-12-27T18:51:26.946984Z"
    }
   },
   "outputs": [],
   "source": [
    "#fig.tight_layout()\n",
    "fig.savefig('/home/did/RTC/SMART-G/smartg/validation/IPRT/C2_case5_O2_spectre.png', dpi=200)"
   ]
  },
  {
   "cell_type": "code",
   "execution_count": null,
   "metadata": {
    "ExecuteTime": {
     "end_time": "2019-12-27T17:47:23.799231Z",
     "start_time": "2019-12-27T17:46:37.910800Z"
    }
   },
   "outputs": [],
   "source": [
    "%%time\n",
    "# Spectra NO2\n",
    "#zoom          = (685.75, 688.00)\n",
    "zoom          = (430, 431)\n",
    "sigma         = gas_abs[:,1:]\n",
    "S3Da          = Smartg(opt3D=True,  alt_pp=True, alis=True) # 3D\n",
    "fig,ax        = subplots(nrows=5, ncols=2) \n",
    "fig.set_size_inches(24,15)\n",
    "surf          = LambSurface(ALB=1.)\n",
    "surfref       = LambSurface(ALB=ALB.get(wls[0]))\n",
    "NL            = Nopt-1 # number of opt properties\n",
    "NB            = 1e4\n",
    "for i,sensor in enumerate([sensor_cld1, sensor_grd]):\n",
    "    m       = S3Da.run(wl=wls,  NBPHOTONS=NB, atm=pro3D, sensor=sensor, le=le, surf=surf, NBLOOP=1e4,\n",
    "               stdev=False, NF=1e4, alis_options={'nlow':NWS, 'hist':True}).sub({'Azimuth angles':0, 'Zenith angles':0})\n",
    "    mref    = S3D.run(wl=wls[0],  NBPHOTONS=NB*100, atm=pro3D0, sensor=sensor, le=le, surf=surfref, NBLOOP=1e5,\n",
    "               stdev=False, NF=1e4).sub({'Azimuth angles':0, 'Zenith angles':0})\n",
    "\n",
    "    w     = m['disth_up (TOA)'][:, NL+4:-3]\n",
    "    ngood = np.sum(w[:,0]!=0)\n",
    "\n",
    "    S       = np.zeros((ngood,4),dtype=np.float32) \n",
    "    cd      = m['disth_up (TOA)'][:ngood,     :NL  ]\n",
    "    S[:,:4] = m['disth_up (TOA)'][:ngood, NL  :NL+4]\n",
    "    w       = m['disth_up (TOA)'][:ngood, NL+4:-3  ]\n",
    "    nrrs    = m['disth_up (TOA)'][:ngood,      -3  ]\n",
    "    nref    = m['disth_up (TOA)'][:ngood,      -2  ]\n",
    "    nsif    = m['disth_up (TOA)'][:ngood,      -1  ]\n",
    "\n",
    "    XBLOCK  = 512\n",
    "    XGRID   = 512\n",
    "    NT      = XBLOCK*XGRID       # Maximum Number of threads\n",
    "    NPHOTON = cd.shape[0]        # Number of photons\n",
    "\n",
    "    NLAYER  = sigma.shape[1]     # Number of vertical layer\n",
    "    NWVL    = sigma.shape[0]     # Number of wavelength for absorption and output\n",
    "    NGROUP  = NT//NWVL           # Number of groups of photons\n",
    "    NTHREAD = NGROUP*NWVL        # Number of threads used\n",
    "    NBUNCH  = NPHOTON//NGROUP    # Number of photons per group\n",
    "    NP_REST = NPHOTON%(NGROUP*NBUNCH) # Number of additional photons in the last group\n",
    "    NWVL_LOW = NWS\n",
    "\n",
    "    print(NT, NTHREAD, NGROUP, NPHOTON, NLAYER, NWVL, NBUNCH, NP_REST, NWVL_LOW)\n",
    "    sigma_ab_in  = np.zeros((NLAYER, NWVL), order='C', dtype=np.float32)\n",
    "    sigma_ab_in[:,:]  = sigma.swapaxes(0,1)\n",
    "\n",
    "    alb_in       = ALB.get(wl).reshape(NWVL, order='C').astype(np.float32) \n",
    "\n",
    "    cd_in        = cd.reshape((NPHOTON, NLAYER), order='C').astype(np.float32)\n",
    "    S_in         = S.reshape((NPHOTON, 4),       order='C').astype(np.float32)\n",
    "    weight_in    = w.reshape((NPHOTON, NWVL_LOW),order='C').astype(np.float32)\n",
    "    nrrs_in      = nrrs.reshape(NPHOTON,order='C').astype(np.int8)\n",
    "    nsif_in      = nsif.reshape(NPHOTON,order='C').astype(np.int8)\n",
    "    nref_in      = nref.reshape(NPHOTON,order='C').astype(np.int8)\n",
    "\n",
    "    res_out      = gpuzeros((4, NWVL),   dtype=np.float64)\n",
    "    res_sca      = gpuzeros((4, NWVL),   dtype=np.float64)\n",
    "    res_rrs      = gpuzeros((4, NWVL),   dtype=np.float64)\n",
    "    res_sif      = gpuzeros((4, NWVL),   dtype=np.float64)\n",
    "    reduce_absorption_gpu(np.int64(NPHOTON), np.int64(NLAYER), np.int64(NWVL), np.int64(NTHREAD), np.int64(NGROUP), np.int64(NBUNCH), \n",
    "                          np.int64(NP_REST), np.int64(NWVL_LOW), res_out, res_sca, res_rrs, res_sif, \n",
    "                          to_gpu(sigma_ab_in), to_gpu(alb_in), to_gpu(cd_in), to_gpu(S_in), to_gpu(weight_in), to_gpu(nrrs_in), \n",
    "                          to_gpu(nref_in), to_gpu(nsif_in), to_gpu(iwls_in), to_gpu(wwls_in), \n",
    "                          block=(XBLOCK,1,1),grid=(XGRID,1,1))\n",
    "    I1      = res_out.get()/m[0][0,0]\n",
    "    norm1   = I1[0,0]/mref['I_up (TOA)'].data\n",
    "    P_Raman = res_rrs.get()[0,:]/res_out.get()[0,:]\n",
    "    print(norm1)\n",
    "    #norm1 = 1\n",
    "    I1_LUT = LUT(I1[0,:]/norm1, axes=[wl], names=['wavelength'], desc=mdesc('I_up (TOA)'))\n",
    "    Q1_LUT = LUT(I1[1,:]/norm1, axes=[wl], names=['wavelength'], desc=mdesc('Q_up (TOA)'))\n",
    "    U1_LUT = LUT(I1[1,:]/norm1, axes=[wl], names=['wavelength'], desc=mdesc('U_up (TOA)'))\n",
    "    DoLP_LUT = ((Q1_LUT*Q1_LUT + U1_LUT*U1_LUT).apply(np.sqrt)/I1_LUT)*100\n",
    "    DoLP_LUT.desc='DoLP (%)'\n",
    "    P_Raman_LUT = LUT(P_Raman, axes=[wl], names=['wavelength'], desc=r'$P_{Raman}$')\n",
    "    Rel     = Es * I1_LUT[Idx(wl,fill_value='extrema')]\n",
    "    Rel_llp = Es_RRS * I1_LUT[Idx(wl_RRS,fill_value='extrema')]\n",
    "    R_RRS   = np.sum(Rel_llp * LRRS, axis=1) * P_Raman_LUT[Idx(wl, fill_value='extrema')]\n",
    "    Rel_out = Rel * P_Raman_LUT[Idx(wl, fill_value='extrema')]\n",
    "    R_tot   = R_RRS + Rel - Rel_out\n",
    "    \n",
    "    sca(ax[0,0])\n",
    "    I1_LUT.plot(label='%d'%i)\n",
    "    ylim(0,0.4)\n",
    "    sca(ax[0,1])\n",
    "    I1_LUT.plot(label='%d'%i)\n",
    "    xlim(zoom)\n",
    "    ylim(0,0.4)\n",
    "    \n",
    "    sca(ax[1,0])\n",
    "    ff = R_tot\n",
    "    plot(wl, ff ,'-')\n",
    "    xlabel('wavelength (nm)')\n",
    "    ylabel(mdesc('I_up (TOA, tot)')+ r'$ (ph/s/cm^2/nm)$')\n",
    "    grid(True)\n",
    "    sca(ax[1,1])\n",
    "    ff = R_tot\n",
    "    plot(wl, ff ,'-')\n",
    "    xlim(zoom)\n",
    "    xlabel('wavelength (nm)')\n",
    "    grid(True)\n",
    "    \n",
    "    sca(ax[2,0])\n",
    "    ff = R_RRS\n",
    "    plot(wl, ff ,'-')\n",
    "    xlabel('wavelength (nm)')\n",
    "    ylabel(mdesc('I_up (TOA, RRS in)')+ r'$ (ph/s/cm^2/nm)$')\n",
    "    grid(True)\n",
    "    sca(ax[2,1])\n",
    "    ff = R_RRS\n",
    "    plot(wl, ff ,'-')\n",
    "    xlabel('wavelength (nm)')\n",
    "    xlim(zoom)\n",
    "    grid(True)\n",
    "\n",
    "    sca(ax[3,0])\n",
    "    ff = R_tot/Rel\n",
    "    plot(wl, ff)\n",
    "    xlabel('wavelength (nm)')\n",
    "    ylabel('$Ring spectrum (Tot/Elastic)$')\n",
    "    ylim(0.95,1.05)\n",
    "    grid(True)\n",
    "    sca(ax[3,1])\n",
    "    ff = R_tot/Rel\n",
    "    plot(wl, ff)\n",
    "    xlabel('wavelength (nm)')\n",
    "    ylim(0.95,1.05)\n",
    "    grid(True)\n",
    "    xlim(zoom)\n",
    "    \n",
    "    sca(ax[4,0])\n",
    "    DoLP_LUT.plot(label='%d'%i)\n",
    "    ylim(0,40)\n",
    "    sca(ax[4,1])\n",
    "    DoLP_LUT.plot(label='%d'%i)\n",
    "    xlim(zoom)\n",
    "    ylim(0,40)\n",
    "legend()"
   ]
  },
  {
   "cell_type": "code",
   "execution_count": null,
   "metadata": {
    "ExecuteTime": {
     "end_time": "2019-12-27T17:47:29.195784Z",
     "start_time": "2019-12-27T17:47:23.801602Z"
    }
   },
   "outputs": [],
   "source": [
    "#fig.tight_layout()\n",
    "fig.savefig('/home/did/RTC/SMART-G/smartg/validation/IPRT/C2_case5_NO2_spectre.png', dpi=200)"
   ]
  },
  {
   "cell_type": "markdown",
   "metadata": {},
   "source": [
    "### C3 cloud"
   ]
  },
  {
   "cell_type": "code",
   "execution_count": null,
   "metadata": {
    "ExecuteTime": {
     "end_time": "2020-01-09T17:21:23.403784Z",
     "start_time": "2020-01-09T17:21:22.961996Z"
    }
   },
   "outputs": [],
   "source": [
    "# C3 IPRT Cumulus data\n",
    "cumulus_f='/home/did/RTC/SMART-G/smartg/validation/IPRT/cumulus.dat'\n",
    "f       = open(cumulus_f, 'r')\n",
    "f.readline(); \n",
    "l       = f.readline().split()\n",
    "Nx, Ny, Nz, _ = list(map(int, l)) # number of cumulus cells in X, Y, X\n",
    "Nl      = Nz + 1                  # number of levels in Z\n",
    "l       = f.readline()\n",
    "g_info  = list(map(float, l.split()))\n",
    "Dx, Dy  = g_info[0:2]              # horizontal grid interval in km\n",
    "zgrid   = np.array(g_info[2:])# vertical grid in km\n",
    "assert Nl==zgrid.size\n",
    "\n",
    "zgrid = np.concatenate([zgrid, np.array([120.])])\n",
    "(idx,idy,idz), (NX,NY,NZ), (xgrid, ygrid, zgrid), neigh, pmin, pmax = \\\n",
    "    Get_3Dcells(Nx=Nx, Ny=Ny, Dx=Dx, Dy=Dy, z=zgrid, SAT_ALTITUDE=120, periodic=False, HORIZ_EXTENT_LENGTH=1e5)\n",
    "Ncell   = NX*NY*NZ\n",
    "znew  = zgrid[::-1]"
   ]
  },
  {
   "cell_type": "code",
   "execution_count": null,
   "metadata": {
    "ExecuteTime": {
     "end_time": "2020-01-10T07:46:32.638729Z",
     "start_time": "2020-01-10T07:43:21.201575Z"
    },
    "scrolled": false
   },
   "outputs": [],
   "source": [
    "%%time\n",
    "# absorption (only gas)\n",
    "aco2_int = get_co2_abs(znew, wl, DOWNLOAD=False, verbose=True)"
   ]
  },
  {
   "cell_type": "code",
   "execution_count": null,
   "metadata": {
    "ExecuteTime": {
     "end_time": "2020-01-10T07:56:48.235444Z",
     "start_time": "2020-01-10T07:56:47.345935Z"
    }
   },
   "outputs": [],
   "source": [
    "semilogy(wl,aco2_int[:,-1])"
   ]
  },
  {
   "cell_type": "code",
   "execution_count": null,
   "metadata": {
    "ExecuteTime": {
     "end_time": "2020-01-10T08:21:23.145766Z",
     "start_time": "2020-01-10T08:21:20.998284Z"
    }
   },
   "outputs": [],
   "source": [
    "## scattering optical properties\n",
    "wl_ref  = (wls[0]+wls[-1])/2.\n",
    "# cloud\n",
    "reff = 5.  # mic.\n",
    "cumulus     = np.loadtxt(cumulus_f, skiprows=3, dtype=np.float32)\n",
    "sca_cld_in  = cumulus[:,3]            # km-1\n",
    "#sca_cld_in  = cumulus[:2000,3]            # km-1\n",
    "cloud_sub   = cloud_LUT.sub({'effective_radius':Idx(reff),'effective_variance':0})\n",
    "eps_cld     = cloud_sub['normed_ext_coeff' ][Idx(wls, fill_value='extrema')]/\\\n",
    "              cloud_sub['normed_ext_coeff' ][Idx(wl_ref, fill_value='extrema')]\n",
    "sca_cld     = sca_cld_in[None, :] * eps_cld[:, None]\n",
    "\n",
    "cloud_sub   = cloud_LUT.sub({'effective_radius':Idx(reff),'effective_variance':0, \n",
    "                             'wavelength':Idx(wl_ref*1e-3)})\n",
    "pha         = np.stack([(cloud_sub['p11_phase_function']+cloud_sub['p21_phase_function'])[::-1],\n",
    "                (cloud_sub['p11_phase_function']-cloud_sub['p21_phase_function'])[::-1],\n",
    "                 cloud_sub['p34_phase_function'][::-1],\n",
    "                 cloud_sub['p44_phase_function'][::-1]])\n",
    "#pha_cld     = LUT(pha, axes=[None, cloud_sub.axis('phase_angles')[::-1]], names=['stk', 'theta_atm'])\n",
    "#alternative reff = 2 micron phase function\n",
    "cld = CloudOPAC('wc.sol', 2., 2, 3., 1., wl_ref)\n",
    "pha_cld = AtmAFGL('afglt', comp=[cld]).calc(wl_ref)['phase_atm'].sub()[0,:,:]\n",
    "\n",
    "#Rayleigh\n",
    "sca_ray     = od2k(AtmAFGL('afglt', O3=0., NO2=True, grid=znew).calc(wls), 'OD_r')\n",
    "\n",
    "# indexing of C3 cells into SMART-G grid\n",
    "cloud_geo   = cumulus[:,:3].astype(int32)-1\n",
    "#cloud_geo   = cumulus[:2000,:3].astype(int32)-1\n",
    "cloud_cell  = np.ravel_multi_index((cloud_geo[:,0], cloud_geo[:,1], cloud_geo[:,2]),\n",
    "                    dims=(NX, NY, NZ))\n",
    "\n",
    "# Concatenation\n",
    "sca_cld3D   = np.concatenate([np.zeros_like(sca_ray), sca_cld], axis=1)\n",
    "sca_ray3D   = np.concatenate([sca_ray, sca_ray[:,NZ-idz[cloud_cell]]], axis=1)\n",
    "ssa_cld3D   = np.ones_like(sca_cld3D)\n",
    "ipha3D      = np.zeros_like(sca_cld3D, dtype=int32)\n",
    "\n",
    "## Mapping optical propoerties and cells\n",
    "# 1 clear profile + number of cloud cells opt. prop. (here 1 per cell)\n",
    "Nopt        = NZ + 1 + cloud_cell.size\n",
    "iopt        = np.zeros(Ncell, dtype=int32)\n",
    "iabs        = np.zeros_like(iopt)\n",
    "iopt[:]     = np.arange(Nopt)[NZ-idz] # Scattering depending on Z for clear atmosphere (Rayleigh)\n",
    "iabs[:]     = np.arange(Nopt)[NZ-idz] # Absorption depending on Z only\n",
    "iopt[cloud_cell] = NZ + 1 + np.arange(cloud_cell.size)  # Scattering depending on cloud cell\n",
    "\n",
    "atm_arr = np.zeros((Nopt,9))\n",
    "atm_arr[:,0] = np.arange(Nopt)[::-1]\n",
    "np.savetxt('./tmp.dat', atm_arr)\n",
    "Nabs        = iabs.max().astype(np.int32)"
   ]
  },
  {
   "cell_type": "code",
   "execution_count": null,
   "metadata": {
    "ExecuteTime": {
     "end_time": "2020-01-10T08:21:25.690264Z",
     "start_time": "2020-01-10T08:21:24.782999Z"
    }
   },
   "outputs": [],
   "source": [
    "atm3D = AtmAFGL('./tmp.dat', US=False,\n",
    "                    grid        = np.arange(Nopt),\n",
    "                    prof_ray    = sca_ray3D,\n",
    "                    prof_aer    = (sca_cld3D, ssa_cld3D),\n",
    "                    prof_phases = (ipha3D, [pha_cld]),\n",
    "                    cells       = (iopt, iabs, pmin, pmax, neigh)\n",
    "                   )\n",
    "pro3D  = atm3D.calc(wls)"
   ]
  },
  {
   "cell_type": "code",
   "execution_count": null,
   "metadata": {
    "ExecuteTime": {
     "end_time": "2020-01-10T08:21:28.346726Z",
     "start_time": "2020-01-10T08:21:28.213130Z"
    },
    "run_control": {
     "marked": false
    }
   },
   "outputs": [],
   "source": [
    "# Sun position\n",
    "SAA    = 180.\n",
    "SZA    = 25.\n",
    "# Sensors position\n",
    "Npix   = 100\n",
    "POSZ   = 5\n",
    "THDEG  = 180.\n",
    "PHDEG  = 180.\n",
    "# pixels centers on the ground\n",
    "x0     = np.linspace(-6.67/2., 6.67/2, num=Npix) # central domain (cumulus) boundaries\n",
    "y0     = np.linspace(-6.67/2., 6.67/2, num=Npix)\n",
    "#\n",
    "xx,yy  = np.meshgrid(x0, y0)\n",
    "zz     = np.zeros_like(xx) + POSZ"
   ]
  },
  {
   "cell_type": "code",
   "execution_count": null,
   "metadata": {
    "ExecuteTime": {
     "end_time": "2020-01-10T08:21:31.029179Z",
     "start_time": "2020-01-10T08:21:29.785251Z"
    },
    "run_control": {
     "marked": false
    }
   },
   "outputs": [],
   "source": [
    "%%time\n",
    "# cells indices\n",
    "icells = locate_3Dregular_cells(xgrid, ygrid,zgrid, xx.ravel(), yy.ravel(), zz.ravel())\n",
    "#icells_old = locate_3D_cells(pro3D_cld, xx.ravel(), yy.ravel(), zz.ravel())\n",
    "sensors=[]\n",
    "for POSX,POSY,ICELL in zip(xx.ravel(), yy.ravel(), icells):\n",
    "    sensors.append(Sensor(POSX=POSX, POSY=POSY, POSZ=POSZ, FOV=0., TYPE=0,\n",
    "                          THDEG=THDEG, PHDEG=PHDEG, LOC='ATMOS', ICELL=ICELL))\n",
    "\n",
    "S3D     = Smartg(opt3D=True, alt_pp=True, alis=False, back=True, verbose_photon=False ) # 3D\n",
    "S3DA    = Smartg(opt3D=True, alt_pp=True, alis=True, back=True) # 3D\n",
    "le      = {'th_deg':np.array([SZA]), 'phi_deg':np.array([SAA])}\n",
    "ALB     = Albedo_speclib('/rfs/data/speclib2.0/data/jhu.becknic.vegetation.grass.green.solid.gras.spectrum.txt')\n",
    "env     = Environment(ENV=1, ALB=ALB, ENV_SIZE=1e4, X0=1e4)\n",
    "#env     = None"
   ]
  },
  {
   "cell_type": "code",
   "execution_count": null,
   "metadata": {
    "ExecuteTime": {
     "end_time": "2020-01-10T08:22:46.208996Z",
     "start_time": "2020-01-10T08:21:34.705611Z"
    }
   },
   "outputs": [],
   "source": [
    "%%time\n",
    "NB     = len(sensors) * 1e3\n",
    "surf   = RoughSurface(WIND=5)\n",
    "#surf   = LambSurface(ALB=0.2)\n",
    "m3D    = S3D.run(wl=wls,  NBPHOTONS=NB, atm=pro3D, sensor=sensors, le=le, surf=surf, NBLOOP=1e5, env=env,\n",
    "               stdev=False, NF=1e4, SEED=-1)"
   ]
  },
  {
   "cell_type": "code",
   "execution_count": null,
   "metadata": {
    "ExecuteTime": {
     "end_time": "2020-01-10T08:22:47.780105Z",
     "start_time": "2020-01-10T08:22:46.218449Z"
    },
    "run_control": {
     "marked": false
    }
   },
   "outputs": [],
   "source": [
    "f=figure(figsize=(8,8))\n",
    "print(NB)\n",
    "imshow(m3D['I_up (TOA)'].sub()[:,0,0].data.reshape(Npix,Npix)[::-1,:],vmax=1, cmap=cm.RdBu_r)\n",
    "cbar = colorbar(shrink=0.8, orientation='vertical')\n",
    "cbar.ax.set_xlabel(mdesc('I_up (TOA)'))\n",
    "f.tight_layout()\n",
    "#f.savefig('/home/did/RTC/SMART-G/smartg/validation/IPRT/C3_case5_image.png', dpi=200)\n",
    "f=figure(figsize=(8,8))\n",
    "I=m3D['I_up (TOA)'].sub()[:,0,0].data.reshape(Npix,Npix)[::-1,:]\n",
    "Q=m3D['Q_up (TOA)'].sub()[:,0,0].data.reshape(Npix,Npix)[::-1,:]\n",
    "U=m3D['U_up (TOA)'].sub()[:,0,0].data.reshape(Npix,Npix)[::-1,:]\n",
    "V=m3D['V_up (TOA)'].sub()[:,0,0].data.reshape(Npix,Npix)[::-1,:]\n",
    "imshow(np.sqrt(Q*Q+U*U+V*V)/I*100,cmap=cm.RdBu_r)\n",
    "cbar = colorbar(shrink=0.8, orientation='vertical')\n",
    "cbar.ax.set_xlabel(mdesc('DoLP_up (TOA)'))\n",
    "f.tight_layout()"
   ]
  },
  {
   "cell_type": "code",
   "execution_count": null,
   "metadata": {
    "ExecuteTime": {
     "end_time": "2020-01-10T08:25:46.795264Z",
     "start_time": "2020-01-10T08:24:52.805767Z"
    },
    "scrolled": false
   },
   "outputs": [],
   "source": [
    "%%time\n",
    "II      = m3D['I_up (TOA)'].sub()[:,0,0].data\n",
    "shadows = np.where( II < 0.1)[0]\n",
    "clouds  = np.where( II > 0.6)[0]\n",
    "grounds = np.where( (II > 0.15) & (II < 0.3))[0]\n",
    "sensor_shad = sensors[shadows[10]]\n",
    "sensor_cld1 = sensors[clouds[10]]\n",
    "sensor_grd  = sensors[grounds[10]]\n",
    "# Spectra\n",
    "#zoom          = (686.25, 687.25)\n",
    "#zoom          = (691, 692)\n",
    "zoom          = (2004,2006)\n",
    "sigma         = aco2_int[:,1:]\n",
    "#sigma[:]=0\n",
    "NWS           = wls.size\n",
    "#sigma         = gas_abs[:,1:]\n",
    "le            = {'th_deg':np.array([SZA]), 'phi_deg':np.array([SAA])}\n",
    "ALB           = Albedo_speclib('/rfs/data/speclib2.0/data/jhu.becknic.vegetation.trees.deciduous.solid.decidou.spectrum.txt')\n",
    "fig,ax        = subplots(nrows=5, ncols=2) \n",
    "fig.set_size_inches(24,15)\n",
    "surf          = LambSurface(ALB=1.)\n",
    "surfref       = LambSurface(ALB=ALB.get(wls[0]))\n",
    "NL            = Nabs # number of abs properties\n",
    "NB            = 1e4\n",
    "\n",
    "#for i,sensor in enumerate([sensor_grd]):\n",
    "for i,sensor in enumerate([sensor_cld1, sensor_grd, sensor_shad]):\n",
    "    m       = S3DA.run(wl=wls,  NBPHOTONS=NB, atm=pro3D, sensor=sensor, le=le, surf=surf, NBLOOP=1e4,\n",
    "               stdev=False, NF=1e4, alis_options={'nlow':NWS, 'hist':True}).sub({'Azimuth angles':0, 'Zenith angles':0})\n",
    "    #mref    = S3D.run(wl=wls[0],  NBPHOTONS=NB*100, atm=pro3D0, sensor=sensor, le=le, surf=surfref, NBLOOP=1e5,\n",
    "    #           stdev=False, NF=1e4).sub({'Azimuth angles':0, 'Zenith angles':0})\n",
    "\n",
    "    w     = m['disth_up (TOA)'][:, NL+4:-3]\n",
    "    ngood = np.sum(w[:,0]!=0)\n",
    "\n",
    "    S       = np.zeros((ngood,4),dtype=np.float32) \n",
    "    cd      = m['disth_up (TOA)'][:ngood,     :NL  ]\n",
    "    S[:,:4] = m['disth_up (TOA)'][:ngood, NL  :NL+4]\n",
    "    w       = m['disth_up (TOA)'][:ngood, NL+4:-3  ]\n",
    "    nrrs    = m['disth_up (TOA)'][:ngood,      -3  ]\n",
    "    nref    = m['disth_up (TOA)'][:ngood,      -2  ]\n",
    "    nsif    = m['disth_up (TOA)'][:ngood,      -1  ]\n",
    "\n",
    "    XBLOCK  = 512\n",
    "    XGRID   = 512\n",
    "    NT      = XBLOCK*XGRID       # Maximum Number of threads\n",
    "    NPHOTON = cd.shape[0]        # Number of photons\n",
    "\n",
    "    NLAYER  = sigma.shape[1]     # Number of vertical layer\n",
    "    NWVL    = sigma.shape[0]     # Number of wavelength for absorption and output\n",
    "    NGROUP  = NT//NWVL           # Number of groups of photons\n",
    "    NTHREAD = NGROUP*NWVL        # Number of threads used\n",
    "    NBUNCH  = NPHOTON//NGROUP    # Number of photons per group\n",
    "    NP_REST = NPHOTON%(NGROUP*NBUNCH) # Number of additional photons in the last group\n",
    "    NWVL_LOW = NWS\n",
    "\n",
    "    print(NT, NTHREAD, NGROUP, NPHOTON, NLAYER, NWVL, NBUNCH, NP_REST, NWVL_LOW)\n",
    "    sigma_ab_in  = np.zeros((NLAYER, NWVL), order='C', dtype=np.float32)\n",
    "    sigma_ab_in[:,:]  = sigma.swapaxes(0,1)\n",
    "\n",
    "    alb_in       = ALB.get(wl).reshape(NWVL, order='C').astype(np.float32) \n",
    "\n",
    "    cd_in        = cd.reshape((NPHOTON, NLAYER), order='C').astype(np.float32)\n",
    "    S_in         = S.reshape((NPHOTON, 4),       order='C').astype(np.float32)\n",
    "    weight_in    = w.reshape((NPHOTON, NWVL_LOW),order='C').astype(np.float32)\n",
    "    nrrs_in      = nrrs.reshape(NPHOTON,order='C').astype(np.int8)\n",
    "    nsif_in      = nsif.reshape(NPHOTON,order='C').astype(np.int8)\n",
    "    nref_in      = nref.reshape(NPHOTON,order='C').astype(np.int8)\n",
    "\n",
    "    res_out      = gpuzeros((4, NWVL),   dtype=np.float64)\n",
    "    res_sca      = gpuzeros((4, NWVL),   dtype=np.float64)\n",
    "    res_rrs      = gpuzeros((4, NWVL),   dtype=np.float64)\n",
    "    res_sif      = gpuzeros((4, NWVL),   dtype=np.float64)\n",
    "    reduce_absorption_gpu(np.int64(NPHOTON), np.int64(NLAYER), np.int64(NWVL), np.int64(NTHREAD), np.int64(NGROUP), np.int64(NBUNCH), \n",
    "                          np.int64(NP_REST), np.int64(NWVL_LOW), res_out, res_sca, res_rrs, res_sif, \n",
    "                          to_gpu(sigma_ab_in), to_gpu(alb_in), to_gpu(cd_in), to_gpu(S_in), to_gpu(weight_in), to_gpu(nrrs_in), \n",
    "                          to_gpu(nref_in), to_gpu(nsif_in), to_gpu(iwls_in), to_gpu(wwls_in), \n",
    "                          block=(XBLOCK,1,1),grid=(XGRID,1,1))\n",
    "    I1      = res_out.get()/m[0][0,0]\n",
    "    #norm1   = I1[0,0]/mref['I_up (TOA)'].data\n",
    "    P_Raman = res_rrs.get()[0,:]/res_out.get()[0,:]\n",
    "    #print(norm1)\n",
    "    norm1 = 1\n",
    "    I1_LUT = LUT(I1[0,:]/norm1, axes=[wl], names=['wavelength'], desc=mdesc('I_up (TOA)'))\n",
    "    Q1_LUT = LUT(I1[1,:]/norm1, axes=[wl], names=['wavelength'], desc=mdesc('Q_up (TOA)'))\n",
    "    U1_LUT = LUT(I1[1,:]/norm1, axes=[wl], names=['wavelength'], desc=mdesc('U_up (TOA)'))\n",
    "    DoLP_LUT = ((Q1_LUT*Q1_LUT + U1_LUT*U1_LUT).apply(np.sqrt)/I1_LUT)*100\n",
    "    DoLP_LUT.desc='DoLP (%)'\n",
    "    P_Raman_LUT = LUT(P_Raman, axes=[wl], names=['wavelength'], desc=r'$P_{Raman}$')\n",
    "    Rel     = Es * I1_LUT[Idx(wl,fill_value='extrema')]\n",
    "    Rel_llp = Es_RRS * I1_LUT[Idx(wl_RRS,fill_value='extrema')]\n",
    "    R_RRS   = np.sum(Rel_llp * LRRS, axis=1) * P_Raman_LUT[Idx(wl, fill_value='extrema')]\n",
    "    Rel_out = Rel * P_Raman_LUT[Idx(wl, fill_value='extrema')]\n",
    "    R_tot   = R_RRS + Rel - Rel_out\n",
    "    \n",
    "    sca(ax[0,0])\n",
    "    I1_LUT.plot(label='%d'%i)\n",
    "    ylim(0,0.8)\n",
    "    sca(ax[0,1])\n",
    "    I1_LUT.plot(label='%d'%i)\n",
    "    xlim(zoom)\n",
    "    ylim(0,0.8)\n",
    "    \n",
    "    sca(ax[1,0])\n",
    "    ff = R_tot\n",
    "    plot(wl, ff ,'-')\n",
    "    xlabel('wavelength (nm)')\n",
    "    ylabel(mdesc('I_up (TOA, tot)')+ r'$ (ph/s/cm^2/nm)$')\n",
    "    grid(True)\n",
    "    sca(ax[1,1])\n",
    "    ff = R_tot\n",
    "    plot(wl, ff ,'-')\n",
    "    xlim(zoom)\n",
    "    xlabel('wavelength (nm)')\n",
    "    grid(True)\n",
    "    \n",
    "    sca(ax[2,0])\n",
    "    ff = R_RRS\n",
    "    plot(wl, ff ,'-')\n",
    "    xlabel('wavelength (nm)')\n",
    "    ylabel(mdesc('I_up (TOA, RRS in)')+ r'$ (ph/s/cm^2/nm)$')\n",
    "    grid(True)\n",
    "    sca(ax[2,1])\n",
    "    ff = R_RRS\n",
    "    plot(wl, ff ,'-')\n",
    "    xlabel('wavelength (nm)')\n",
    "    xlim(zoom)\n",
    "    grid(True)\n",
    "\n",
    "    sca(ax[3,0])\n",
    "    ff = R_tot/Rel\n",
    "    plot(wl, ff)\n",
    "    xlabel('wavelength (nm)')\n",
    "    ylabel('$Ring spectrum (Tot/Elastic)$')\n",
    "    ylim(0.98,1.05)\n",
    "    grid(True)\n",
    "    sca(ax[3,1])\n",
    "    ff = R_tot/Rel\n",
    "    if i==0 : plot(wl, ff, '+-')\n",
    "    else : plot(wl, ff)\n",
    "    xlabel('wavelength (nm)')\n",
    "    ylim(0.98,1.05)\n",
    "    grid(True)\n",
    "    xlim(zoom)\n",
    "    \n",
    "    sca(ax[4,0])\n",
    "    DoLP_LUT.plot(label='%d'%i)\n",
    "    ylim(0,40)\n",
    "    sca(ax[4,1])\n",
    "    DoLP_LUT.plot(label='%d'%i)\n",
    "    xlim(zoom)\n",
    "    ylim(0,40)\n",
    "legend()"
   ]
  },
  {
   "cell_type": "code",
   "execution_count": null,
   "metadata": {
    "ExecuteTime": {
     "end_time": "2020-01-10T08:27:13.209324Z",
     "start_time": "2020-01-10T08:27:11.205254Z"
    }
   },
   "outputs": [],
   "source": [
    "w     = m['disth_up (TOA)'][:, NL+4:-3]\n",
    "plot(w[:ngood,0])\n",
    "print(w[:ngood,0].mean())\n",
    "figure()\n",
    "plot(w[:ngood,1])\n",
    "print(w[:ngood,1].mean())\n",
    "figure()\n",
    "plot(w[:ngood,2])\n",
    "print(w[:ngood,2].mean())"
   ]
  },
  {
   "cell_type": "code",
   "execution_count": null,
   "metadata": {
    "ExecuteTime": {
     "end_time": "2020-01-10T08:27:37.124379Z",
     "start_time": "2020-01-10T08:27:36.548805Z"
    }
   },
   "outputs": [],
   "source": [
    "imshow(m3D['I_up (TOA)'][:,0:3,0,0].reshape(100,100,3))"
   ]
  },
  {
   "cell_type": "markdown",
   "metadata": {},
   "source": [
    "# Trattoria 2020"
   ]
  },
  {
   "cell_type": "code",
   "execution_count": null,
   "metadata": {
    "ExecuteTime": {
     "end_time": "2020-04-07T12:13:36.011531Z",
     "start_time": "2020-04-07T12:13:34.627974Z"
    }
   },
   "outputs": [],
   "source": [
    "S3D    = Smartg(opt3D=True, alt_pp=True, alis=False, back=True) # 3D\n",
    "S3DA   = Smartg(opt3D=True, alt_pp=True, alis=True,  back=True) # 3D"
   ]
  },
  {
   "cell_type": "code",
   "execution_count": null,
   "metadata": {
    "ExecuteTime": {
     "end_time": "2020-04-07T12:13:48.350828Z",
     "start_time": "2020-04-07T12:13:37.272214Z"
    }
   },
   "outputs": [],
   "source": [
    "cloud_LUT = read_mlut('/home/did/RTC/SMART-G/smartg/data/opt_liquid_cloud.nc')"
   ]
  },
  {
   "cell_type": "code",
   "execution_count": null,
   "metadata": {
    "ExecuteTime": {
     "end_time": "2020-04-07T12:13:51.485368Z",
     "start_time": "2020-04-07T12:13:50.178496Z"
    },
    "run_control": {
     "marked": false
    }
   },
   "outputs": [],
   "source": [
    "#Solar Spectrum raw data\n",
    "#datas = np.loadtxt('/home/applis/libRadtran/libRadtran-2.0.2/data/solar_flux/kurudz_full.dat')\n",
    "datas = np.loadtxt('/home/applis/libRadtran/libRadtran-2.0.2/data/solar_flux/kurudz_0.1nm.dat')"
   ]
  },
  {
   "cell_type": "markdown",
   "metadata": {},
   "source": [
    "## 3D Grid & Scene"
   ]
  },
  {
   "cell_type": "code",
   "execution_count": null,
   "metadata": {
    "ExecuteTime": {
     "end_time": "2020-04-07T12:14:02.697359Z",
     "start_time": "2020-04-07T12:14:02.103208Z"
    }
   },
   "outputs": [],
   "source": [
    "# C3 IPRT Cumulus data\n",
    "cumulus_f='/home/did/RTC/SMART-G/smartg/validation/IPRT/cumulus.dat'\n",
    "f       = open(cumulus_f, 'r')\n",
    "f.readline(); \n",
    "l       = f.readline().split()\n",
    "Nx, Ny, Nz, _ = list(map(int, l)) # number of cumulus cells in X, Y, X\n",
    "Nl      = Nz + 1                  # number of levels in Z\n",
    "l       = f.readline()\n",
    "g_info  = list(map(float, l.split()))\n",
    "Dx, Dy  = g_info[0:2]            # horizontal grid interval in km\n",
    "#Dx*=10. ; Dy*=10.\n",
    "zgrid   = np.array(g_info[2:])     # vertical grid in km\n",
    "assert Nl==zgrid.size\n",
    "\n",
    "zgrid = np.concatenate([zgrid, np.array([120.])])\n",
    "(idx,idy,idz), (NX,NY,NZ), (xgrid, ygrid, zgrid), neigh, pmin, pmax = \\\n",
    "    Get_3Dcells(Nx=Nx, Ny=Ny, Dx=Dx, Dy=Dy, z=zgrid, SAT_ALTITUDE=120, periodic=False, HORIZ_EXTENT_LENGTH=1e5)\n",
    "Ncell   = NX*NY*NZ\n",
    "znew  = zgrid[::-1]"
   ]
  },
  {
   "cell_type": "code",
   "execution_count": null,
   "metadata": {
    "ExecuteTime": {
     "end_time": "2020-04-07T12:14:04.362292Z",
     "start_time": "2020-04-07T12:14:04.051091Z"
    },
    "run_control": {
     "marked": false
    }
   },
   "outputs": [],
   "source": [
    "# Sun position\n",
    "SAA    = 180.\n",
    "SZA    = 40.\n",
    "le     = {'th_deg':np.array([SZA]), 'phi_deg':np.array([SAA])}\n",
    "# Sensors position\n",
    "Npix   = 100\n",
    "POSZ   = 30.\n",
    "THDEG  = 180.\n",
    "PHDEG  = 180.\n",
    "# pixels centers on the ground\n",
    "x0     = np.linspace(-Nx*Dx/2., Nx*Dx/2, num=Npix) # central domain (cumulus) boundaries\n",
    "y0     = np.linspace(-Ny*Dy/2., Ny*Dy/2, num=Npix)\n",
    "#x0     = np.linspace(-6.67/2., 6.67/2, num=Npix) # central domain (cumulus) boundaries\n",
    "#y0     = np.linspace(-6.67/2., 6.67/2, num=Npix)\n",
    "#\n",
    "xx,yy  = np.meshgrid(x0, y0)\n",
    "zz     = np.zeros_like(xx) + POSZ\n",
    "\n",
    "# cells indices\n",
    "icells = locate_3Dregular_cells(xgrid, ygrid,zgrid, xx.ravel(), yy.ravel(), zz.ravel())\n",
    "# sensors objects\n",
    "sensors=[]\n",
    "for POSX,POSY,ICELL in zip(xx.ravel(), yy.ravel(), icells):\n",
    "    sensors.append(Sensor(POSX=POSX, POSY=POSY, POSZ=POSZ, FOV=0., TYPE=0,\n",
    "                          THDEG=THDEG, PHDEG=PHDEG, LOC='ATMOS', ICELL=ICELL))\n",
    "\n",
    "# Ground\n",
    "ALB     = Albedo_speclib('/rfs/data/speclib2.0/data/jhu.becknic.vegetation.grass.green.solid.gras.spectrum.txt')\n",
    "env     = Environment(ENV=1, ALB=ALB, ENV_SIZE=10, X0=1e1)\n",
    "env     = None\n",
    "surf    = RoughSurface(WIND=5)\n",
    "surf    = LambSurface(ALB=Albedo_cst(ALB.get(wls[0])))"
   ]
  },
  {
   "cell_type": "markdown",
   "metadata": {},
   "source": [
    "## Spectral range & gas absorption"
   ]
  },
  {
   "cell_type": "code",
   "execution_count": null,
   "metadata": {
    "ExecuteTime": {
     "end_time": "2020-04-07T12:14:19.426938Z",
     "start_time": "2020-04-07T12:14:13.510361Z"
    }
   },
   "outputs": [],
   "source": [
    "%%time\n",
    "pstd = np.array([1000,950,900,850,800,700,600,500,400,300,\\\n",
    "            200,125,50,10,3,1], dtype=np.float32)\n",
    "zstd = ( -np.log(pstd/pstd[0])*8)[::-1]\n",
    "\n",
    "wl, wls, wl_RRS, Es_LUT, iwls_in, wwls_in = spectral_grids(758., 770.,   datas, dl=0.002, dls=10.)\n",
    "o2_int  = get_o2_abs (zstd, wl, DOWNLOAD=False, verbose=False, zint=znew)\n",
    "abs_int = o2_int\n",
    "\n",
    "#wl, wls, wl_RRS, Es_LUT, iwls_in, wwls_in = spectral_grids(1990., 2050., datas, dl=0.002, dls=10.)\n",
    "#co2_int = get_co2_abs(zstd, wl, DOWNLOAD=False, verbose=True, zint=znew)\n",
    "#abs_int = co2_int\n",
    "\n",
    "#wl, wls, wl_RRS, Es_LUT, iwls_in, wwls_in = spectral_grids(310., 320., datas, dl=0.01, dls=5.)\n",
    "#no2_int = od2k(AtmAFGL('afglt', O3=0., NO2=True, grid=znew).calc(wl), 'OD_g')\n",
    "#abs_int = no2_int\n",
    "\n",
    "#wl, wls, wl_RRS, Es_LUT, iwls_in, wwls_in = spectral_grids(530., 550., datas, dl=0.002, dls=5.)\n",
    "#o3_int = od2k(AtmAFGL('afglt', O3=300., NO2=True, grid=znew).calc(wl), 'OD_g')\n",
    "#abs_int = o3_int\n",
    "\n",
    "# Solar spectrum\n",
    "Es = Es_LUT[Idx(wl)]\n",
    "Es_RRS = Es_LUT[Idx(wl_RRS, fill_value='extrema')]\n",
    "# Ring nromalized spectrum (Wagner et al., 2009, AMT)\n",
    "_, LRRS = L2d_inv(wl, 90., 243.)\n",
    "f_RRS_norm  = np.sum(Es_RRS * LRRS , axis=1) / Es - 1."
   ]
  },
  {
   "cell_type": "markdown",
   "metadata": {},
   "source": [
    "## Scattering optical properties"
   ]
  },
  {
   "cell_type": "code",
   "execution_count": null,
   "metadata": {
    "ExecuteTime": {
     "end_time": "2020-04-07T12:14:23.842021Z",
     "start_time": "2020-04-07T12:14:21.749100Z"
    }
   },
   "outputs": [],
   "source": [
    "wl_ref  = (wls[0]+wls[-1])/2.\n",
    "# cloud\n",
    "reff = 5.  # mic.\n",
    "cumulus     = np.loadtxt(cumulus_f, skiprows=3, dtype=np.float32)\n",
    "sca_cld_in  = cumulus[:,3]            # km-1\n",
    "cloud_sub   = cloud_LUT.sub({'effective_radius':Idx(reff),'effective_variance':0})\n",
    "eps_cld     = cloud_sub['normed_ext_coeff' ][Idx(wls, fill_value='extrema')]/\\\n",
    "              cloud_sub['normed_ext_coeff' ][Idx(wl_ref, fill_value='extrema')]\n",
    "sca_cld     = sca_cld_in[None, :] * eps_cld[:, None]\n",
    "\n",
    "cloud_sub   = cloud_LUT.sub({'effective_radius':Idx(reff),'effective_variance':0, \n",
    "                             'wavelength':Idx(wl_ref*1e-3)})\n",
    "pha         = np.stack([(cloud_sub['p11_phase_function']+cloud_sub['p21_phase_function'])[::-1],\n",
    "                (cloud_sub['p11_phase_function']-cloud_sub['p21_phase_function'])[::-1],\n",
    "                 cloud_sub['p34_phase_function'][::-1],\n",
    "                 cloud_sub['p44_phase_function'][::-1]])\n",
    "#pha_cld     = LUT(pha, axes=[None, cloud_sub.axis('phase_angles')[::-1]], names=['stk', 'theta_atm'])\n",
    "#alternative reff = 2 micron phase function\n",
    "cld = CloudOPAC('wc.sol', 2., 2, 3., 1., wl_ref)\n",
    "pha_cld = AtmAFGL('afglt', comp=[cld]).calc(wl_ref)['phase_atm'].sub()[0,:,:]\n",
    "\n",
    "#Rayleigh\n",
    "sca_ray     = od2k(AtmAFGL('afglt', O3=0., NO2=True, grid=znew).calc(wls), 'OD_r')\n",
    "\n",
    "# indexing of C3 cells into SMART-G grid\n",
    "cloud_geo   = cumulus[:,:3].astype(int32)-1\n",
    "cloud_cell  = np.ravel_multi_index((cloud_geo[:,0], cloud_geo[:,1], cloud_geo[:,2]),\n",
    "                    dims=(NX, NY, NZ))\n",
    "\n",
    "# Concatenation\n",
    "sca_cld3D   = np.concatenate([np.zeros_like(sca_ray), sca_cld], axis=1)\n",
    "sca_ray3D   = np.concatenate([sca_ray, sca_ray[:,NZ-idz[cloud_cell]]], axis=1)\n",
    "#sca_ray3D2   = np.concatenate([sca_ray2, sca_ray2[:,NZ-idz[cloud_cell]]], axis=1)\n",
    "ssa_cld3D   = np.ones_like(sca_cld3D)\n",
    "ipha3D      = np.zeros_like(sca_cld3D, dtype=int32)\n",
    "\n",
    "## Mapping optical propoerties and cells\n",
    "# 1 clear profile + number of cloud cells opt. prop. (here 1 per cell)\n",
    "Nopt        = NZ + 1 + cloud_cell.size\n",
    "iopt        = np.zeros(Ncell, dtype=int32)\n",
    "iabs        = np.zeros_like(iopt)\n",
    "iopt[:]     = np.arange(Nopt)[NZ-idz] # Scattering depending on Z for clear atmosphere (Rayleigh)\n",
    "iabs[:]     = np.arange(Nopt)[NZ-idz] # Absorption depending on Z only\n",
    "iopt[cloud_cell] = NZ + 1 + np.arange(cloud_cell.size)  # Scattering depending on cloud cell\n",
    "\n",
    "atm_arr = np.zeros((Nopt,9))\n",
    "atm_arr[:,0] = np.arange(Nopt)[::-1]\n",
    "np.savetxt('./tmp.dat', atm_arr)\n",
    "Nabs        = iabs.max().astype(np.int32)\n",
    "\n",
    "### profiles computations\n",
    "atm3D = AtmAFGL('./tmp.dat', US=False,\n",
    "                    grid        = np.arange(Nopt),\n",
    "                    prof_ray    = sca_ray3D,\n",
    "                    prof_aer    = (sca_cld3D, ssa_cld3D),\n",
    "                    prof_phases = (ipha3D, [pha_cld]),\n",
    "                    cells       = (iopt, iabs, pmin, pmax, neigh)\n",
    "                   )\n",
    "pro3D  = atm3D.calc(wls)"
   ]
  },
  {
   "cell_type": "markdown",
   "metadata": {},
   "source": [
    "## Image"
   ]
  },
  {
   "cell_type": "code",
   "execution_count": null,
   "metadata": {
    "ExecuteTime": {
     "end_time": "2020-04-07T12:15:35.350175Z",
     "start_time": "2020-04-07T12:14:28.749812Z"
    }
   },
   "outputs": [],
   "source": [
    "%%time\n",
    "NB     = len(sensors) * 1e3\n",
    "m3D    = S3D.run(wl=wls[0:2], NBPHOTONS=NB, NBLOOP=1e5, atm=pro3D.sub({'wavelength':np.arange(2)}), \n",
    "                 sensor=sensors, le=le, surf=surf, env=env, NF=1e4)"
   ]
  },
  {
   "cell_type": "code",
   "execution_count": null,
   "metadata": {
    "ExecuteTime": {
     "end_time": "2020-04-07T12:15:41.452155Z",
     "start_time": "2020-04-07T12:15:40.236562Z"
    },
    "run_control": {
     "marked": false
    }
   },
   "outputs": [],
   "source": [
    "rcParams.update({'font.size':18})\n",
    "f,ax = subplots(1,1)\n",
    "f.set_size_inches(8,8)\n",
    "II   = m3D['I_up (TOA)'][:,0,0,0].reshape(Npix,Npix)\n",
    "img  = ax.imshow(II[-1:1:-1,1:-1:1], vmax=1, cmap=cm.Blues_r,\n",
    "       extent=[x0.min(),x0.max(),y0.min(),y0.max()])\n",
    "ax.set_xlabel('X (km)')\n",
    "ax.set_ylabel('Y (km)')\n",
    "cbar = f.colorbar(img, shrink=0.7, orientation='vertical')\n",
    "cbar.ax.set_xlabel(mdesc('I_up (TOA)'))\n",
    "\n",
    "## POI\n",
    "shadows = np.where( (II.ravel() > 0.005) & (II.ravel() < 0.015))[0]\n",
    "clouds  = np.where( II.ravel() > 0.8)[0]\n",
    "#waters  = np.where( (II.ravel() > 0.02) & (II.ravel() < 0.03))[0]\n",
    "lands   = np.where( (II.ravel() > 0.07) & (II.ravel() < 0.15))[0]\n",
    "#sensor_shad = sensors[shadows[0]]\n",
    "#sensor_shad = sensors[shadows[100]]\n",
    "sensor_cld1 = sensors[clouds[20]]\n",
    "sensor_land = sensors[lands[150]]\n",
    "#sensor_wate = sensors[waters[200]]\n",
    "#ax.scatter(sensor_wate.dict['POSY'], sensor_wate.dict['POSX'], color='c', marker='*')\n",
    "ax.scatter(sensor_cld1.dict['POSX'], sensor_cld1.dict['POSY'], color='r', marker='*')\n",
    "ax.scatter(sensor_land.dict['POSX'], sensor_land.dict['POSY'], color='k', marker='*')\n",
    "#ax.scatter(sensor_shad.dict['POSX'], sensor_shad.dict['POSY'], color='g', marker='*')\n",
    "f.tight_layout()\n",
    "#f.savefig('/home/did/RTC/SMART-G/smartg/validation/IPRT/C3_case5_image_Trattoria_O2B.png', dpi=200)\n",
    "#f.savefig('/home/documents/CNES/Trattoria_2020/C3_case5_image_Trattoria_O2B.png', dpi=300)\n",
    "#f.savefig('/home/documents/Copernicus/CERTO/KO_3D.png', dpi=300)"
   ]
  },
  {
   "cell_type": "markdown",
   "metadata": {},
   "source": [
    "## Spectra"
   ]
  },
  {
   "cell_type": "code",
   "execution_count": null,
   "metadata": {
    "ExecuteTime": {
     "end_time": "2020-04-07T12:16:25.938283Z",
     "start_time": "2020-04-07T12:15:59.053185Z"
    },
    "scrolled": false
   },
   "outputs": [],
   "source": [
    "%%time\n",
    "rcParams.update({'font.size':14})\n",
    "color         = ['r','k','g']\n",
    "lab           = ['cloud','land','shadow']\n",
    "#zoom          = (686.25, 687.25)\n",
    "#zoom          = (691, 692)\n",
    "#zoom          = (2004,2006)\n",
    "zoom          = (546,547)\n",
    "sigma         = abs_int[:,1:]\n",
    "NWS           = wls.size\n",
    "fig,ax        = subplots(nrows=4, ncols=2) \n",
    "fig.set_size_inches(24,15)\n",
    "surf          = LambSurface(ALB=Albedo_cst(1))\n",
    "surfref       = LambSurface(ALB=Albedo_cst(ALB.get(wls[0])))\n",
    "NL            = Nabs # number of abs properties\n",
    "NB            = 1e5\n",
    "\n",
    "for i,sensor in enumerate([sensor_land]):\n",
    "#for i,sensor in enumerate([sensor_cld1, sensor_land, sensor_shad]):\n",
    "    m       = S3DA.run(wl=wls,  NBPHOTONS=NB, NBLOOP=1e4, atm=pro3D, sensor=sensor, le=le, surf=surf,\n",
    "               NF=1e4, alis_options={'nlow':NWS, 'hist':True}).sub({'Azimuth angles':0, 'Zenith angles':0})\n",
    "    mref    = S3D.run(wl=wls[0:2],  NBPHOTONS=NB*10, atm=pro3D.sub({'wavelength':np.arange(2)}), sensor=sensor, \n",
    "                le=le, surf=surfref, NBLOOP=1e5, NF=1e4).sub({'Azimuth angles':0, 'Zenith angles':0})\n",
    "\n",
    "    w     = m['disth_up (TOA)'][:, NL+4:-3]\n",
    "    ngood = np.sum(w[:,0]!=0)\n",
    "\n",
    "    S       = np.zeros((ngood,4),dtype=np.float32) \n",
    "    cd      = m['disth_up (TOA)'][:ngood,     :NL  ]\n",
    "    S[:,:4] = m['disth_up (TOA)'][:ngood, NL  :NL+4]\n",
    "    w       = m['disth_up (TOA)'][:ngood, NL+4:-3  ]\n",
    "    nrrs    = m['disth_up (TOA)'][:ngood,      -3  ]\n",
    "    nref    = m['disth_up (TOA)'][:ngood,      -2  ]\n",
    "    nsif    = m['disth_up (TOA)'][:ngood,      -1  ]\n",
    "\n",
    "    XBLOCK  = 512\n",
    "    XGRID   = 512\n",
    "    NT      = XBLOCK*XGRID       # Maximum Number of threads\n",
    "    NPHOTON = cd.shape[0]        # Number of photons\n",
    "\n",
    "    NLAYER  = sigma.shape[1]     # Number of vertical layer\n",
    "    NWVL    = sigma.shape[0]     # Number of wavelength for absorption and output\n",
    "    NGROUP  = NT//NWVL           # Number of groups of photons\n",
    "    NTHREAD = NGROUP*NWVL        # Number of threads used\n",
    "    NBUNCH  = NPHOTON//NGROUP    # Number of photons per group\n",
    "    NP_REST = NPHOTON%(NGROUP*NBUNCH) # Number of additional photons in the last group\n",
    "    NWVL_LOW = NWS\n",
    "\n",
    "    print(NT, NTHREAD, NGROUP, NPHOTON, NLAYER, NWVL, NBUNCH, NP_REST, NWVL_LOW)\n",
    "    sigma_ab_in  = np.zeros((NLAYER, NWVL), order='C', dtype=np.float32)\n",
    "    sigma_ab_in[:,:]  = sigma.swapaxes(0,1)\n",
    "\n",
    "    alb_in       = ALB.get(wl).reshape(NWVL, order='C').astype(np.float32) \n",
    "\n",
    "    cd_in        = cd.reshape((NPHOTON, NLAYER), order='C').astype(np.float32)\n",
    "    S_in         = S.reshape((NPHOTON, 4),       order='C').astype(np.float32)\n",
    "    weight_in    = w.reshape((NPHOTON, NWVL_LOW),order='C').astype(np.float32)\n",
    "    nrrs_in      = nrrs.reshape(NPHOTON,order='C').astype(np.int8)\n",
    "    nsif_in      = nsif.reshape(NPHOTON,order='C').astype(np.int8)\n",
    "    nref_in      = nref.reshape(NPHOTON,order='C').astype(np.int8)\n",
    "\n",
    "    res_out      = gpuzeros((4, NWVL),   dtype=np.float64)\n",
    "    res_sca      = gpuzeros((4, NWVL),   dtype=np.float64)\n",
    "    res_rrs      = gpuzeros((4, NWVL),   dtype=np.float64)\n",
    "    res_sif      = gpuzeros((4, NWVL),   dtype=np.float64)\n",
    "    reduce_absorption_gpu(np.int64(NPHOTON), np.int64(NLAYER), np.int64(NWVL), np.int64(NTHREAD), np.int64(NGROUP), np.int64(NBUNCH), \n",
    "                          np.int64(NP_REST), np.int64(NWVL_LOW), res_out, res_sca, res_rrs, res_sif, \n",
    "                          to_gpu(sigma_ab_in), to_gpu(alb_in), to_gpu(cd_in), to_gpu(S_in), to_gpu(weight_in), to_gpu(nrrs_in), \n",
    "                          to_gpu(nref_in), to_gpu(nsif_in), to_gpu(iwls_in), to_gpu(wwls_in), \n",
    "                          block=(XBLOCK,1,1),grid=(XGRID,1,1))\n",
    "    I1      = res_out.get()/m[0][0,0]\n",
    "    norm1   = I1[0,0]/mref['I_up (TOA)'][0]\n",
    "    P_Raman = res_rrs.get()[0,:]/res_out.get()[0,:]\n",
    "    print(norm1)\n",
    "    #norm1 = 1\n",
    "    I1_LUT = LUT(I1[0,:]/norm1, axes=[wl], names=['wavelength'], desc=mdesc('I_up (TOA)'))\n",
    "    Q1_LUT = LUT(I1[1,:]/norm1, axes=[wl], names=['wavelength'], desc=mdesc('Q_up (TOA)'))\n",
    "    U1_LUT = LUT(I1[1,:]/norm1, axes=[wl], names=['wavelength'], desc=mdesc('U_up (TOA)'))\n",
    "    DoLP_LUT = ((Q1_LUT*Q1_LUT + U1_LUT*U1_LUT).apply(np.sqrt)/I1_LUT)*100\n",
    "    DoLP_LUT.desc='DoLP (%)'\n",
    "    P_Raman_LUT = LUT(P_Raman, axes=[wl], names=['wavelength'], desc=r'$P_{Raman}$')\n",
    "    Rel     = Es * I1_LUT[Idx(wl,fill_value='extrema')]\n",
    "    Rel_llp = Es_RRS * I1_LUT[Idx(wl_RRS,fill_value='extrema')]\n",
    "    R_RRS   = np.sum(Rel_llp * LRRS, axis=1) * P_Raman_LUT[Idx(wl, fill_value='extrema')]\n",
    "    Rel_out = Rel * P_Raman_LUT[Idx(wl, fill_value='extrema')]\n",
    "    R_tot   = R_RRS + Rel - Rel_out\n",
    "    \n",
    "    sca(ax[0,0])\n",
    "    I1_LUT.plot(label=lab[i], fmt=color[i])\n",
    "    ylim(0,0.8)\n",
    "    sca(ax[0,1])\n",
    "    I1_LUT.plot(label=lab[i], fmt=color[i])\n",
    "    xlim(zoom)\n",
    "    ylim(0,0.8)\n",
    "    legend()\n",
    "    \n",
    "    sca(ax[1,0])\n",
    "    ff = R_tot\n",
    "    plot(wl, ff ,'-'+color[i])\n",
    "    xlabel('wavelength (nm)')\n",
    "    ylabel(mdesc('I_up (TOA, tot)')+ r'$ (ph/s/cm^2/nm)$')\n",
    "    grid(True)\n",
    "    sca(ax[1,1])\n",
    "    ff = R_tot\n",
    "    if i==0 : plot(wl, ff, '+-'+color[i])\n",
    "    else : plot(wl, ff, color[i])\n",
    "    xlim(zoom)\n",
    "    xlabel('wavelength (nm)')\n",
    "    grid(True)\n",
    "    \n",
    "    '''sca(ax[2,0])\n",
    "    ff = R_RRS\n",
    "    plot(wl, ff ,'-')\n",
    "    xlabel('wavelength (nm)')\n",
    "    ylabel(mdesc('I_up (TOA, RRS in)')+ r'$ (ph/s/cm^2/nm)$')\n",
    "    grid(True)\n",
    "    sca(ax[2,1])\n",
    "    ff = R_RRS\n",
    "    plot(wl, ff ,'-')\n",
    "    xlabel('wavelength (nm)')\n",
    "    xlim(zoom)\n",
    "    grid(True)'''\n",
    "\n",
    "    sca(ax[2,0])\n",
    "    ff = R_tot/Rel\n",
    "    plot(wl, ff, '-'+color[i])\n",
    "    xlabel('wavelength (nm)')\n",
    "    ylabel('$Ring spectrum (Tot/Elastic)$')\n",
    "    ylim(0.98,1.05)\n",
    "    grid(True)\n",
    "    sca(ax[2,1])\n",
    "    ff = R_tot/Rel\n",
    "    plot(wl, ff ,'-'+color[i])\n",
    "    xlabel('wavelength (nm)')\n",
    "    ylim(0.98,1.05)\n",
    "    grid(True)\n",
    "    xlim(zoom)\n",
    "    \n",
    "    sca(ax[3,0])\n",
    "    DoLP_LUT.plot(fmt=color[i])\n",
    "    ylim(0,20)\n",
    "    sca(ax[3,1])\n",
    "    DoLP_LUT.plot(fmt=color[i])\n",
    "    xlim(zoom)\n",
    "    ylim(0,20)\n"
   ]
  },
  {
   "cell_type": "markdown",
   "metadata": {},
   "source": [
    "# Validation"
   ]
  },
  {
   "cell_type": "markdown",
   "metadata": {},
   "source": [
    "## 1D RRS vs McArtim"
   ]
  },
  {
   "cell_type": "code",
   "execution_count": null,
   "metadata": {
    "ExecuteTime": {
     "end_time": "2020-04-07T12:10:56.434258Z",
     "start_time": "2020-04-07T12:10:56.092907Z"
    }
   },
   "outputs": [],
   "source": [
    "from scipy.signal import gaussian\n",
    "from scipy.integrate import simps\n",
    "\n",
    "def myconvolve(x, N=250):\n",
    "    srf = gaussian(6*N, N*1.)\n",
    "    srf/= simps(srf)\n",
    "    return convolve(x, srf, mode='same')\n",
    "\n",
    "def reduce_histories(m, wls, wl, sigma):\n",
    "    \n",
    "    NWS           = wls.size\n",
    "    NL            = sigma.shape[1]\n",
    "    w     = m['disth_up (TOA)'][:, NL+4:-3]\n",
    "    ngood = np.sum(w[:,0]!=0)\n",
    "\n",
    "    S       = np.zeros((ngood,4),dtype=np.float32) \n",
    "    cd      = m['disth_up (TOA)'][:ngood,     :NL  ]\n",
    "    S[:,:4] = m['disth_up (TOA)'][:ngood, NL  :NL+4]\n",
    "    w       = m['disth_up (TOA)'][:ngood, NL+4:-3  ]\n",
    "    nrrs    = m['disth_up (TOA)'][:ngood,      -3  ]\n",
    "    nref    = m['disth_up (TOA)'][:ngood,      -2  ]\n",
    "    nsif    = m['disth_up (TOA)'][:ngood,      -1  ]\n",
    "\n",
    "    XBLOCK  = 512\n",
    "    XGRID   = 512\n",
    "    NT      = XBLOCK*XGRID       # Maximum Number of threads\n",
    "    NPHOTON = cd.shape[0]        # Number of photons\n",
    "\n",
    "    NLAYER  = sigma.shape[1]     # Number of vertical layer\n",
    "    NWVL    = sigma.shape[0]     # Number of wavelength for absorption and output\n",
    "    NGROUP  = NT//NWVL           # Number of groups of photons\n",
    "    NTHREAD = NGROUP*NWVL        # Number of threads used\n",
    "    NBUNCH  = NPHOTON//NGROUP    # Number of photons per group\n",
    "    NP_REST = NPHOTON%(NGROUP*NBUNCH) # Number of additional photons in the last group\n",
    "    NWVL_LOW = NWS\n",
    "\n",
    "    print(NT, NTHREAD, NGROUP, NPHOTON, NLAYER, NWVL, NBUNCH, NP_REST, NWVL_LOW)\n",
    "    sigma_ab_in  = np.zeros((NLAYER, NWVL), order='C', dtype=np.float32)\n",
    "    sigma_ab_in[:,:]  = sigma.swapaxes(0,1)\n",
    "\n",
    "    #alb_in       = ALB.get(wl).reshape(NWVL, order='C').astype(np.float32)\n",
    "    alb_in       = np.zeros(NWVL, dtype=np.float32)\n",
    "\n",
    "    cd_in        = cd.reshape((NPHOTON, NLAYER), order='C').astype(np.float32)\n",
    "    S_in         = S.reshape((NPHOTON, 4),       order='C').astype(np.float32)\n",
    "    weight_in    = w.reshape((NPHOTON, NWVL_LOW),order='C').astype(np.float32)\n",
    "    nrrs_in      = nrrs.reshape(NPHOTON,order='C').astype(np.int8)\n",
    "    nsif_in      = nsif.reshape(NPHOTON,order='C').astype(np.int8)\n",
    "    nref_in      = nref.reshape(NPHOTON,order='C').astype(np.int8)\n",
    "\n",
    "    res_out      = gpuzeros((4, NWVL),   dtype=np.float64)\n",
    "    res_sca      = gpuzeros((4, NWVL),   dtype=np.float64)\n",
    "    res_rrs      = gpuzeros((4, NWVL),   dtype=np.float64)\n",
    "    res_sif      = gpuzeros((4, NWVL),   dtype=np.float64)\n",
    "    reduce_absorption_gpu(np.int64(NPHOTON), np.int64(NLAYER), np.int64(NWVL), np.int64(NTHREAD), np.int64(NGROUP), np.int64(NBUNCH), \n",
    "                          np.int64(NP_REST), np.int64(NWVL_LOW), res_out, res_sca, res_rrs, res_sif, \n",
    "                          to_gpu(sigma_ab_in), to_gpu(alb_in), to_gpu(cd_in), to_gpu(S_in), to_gpu(weight_in), to_gpu(nrrs_in), \n",
    "                          to_gpu(nref_in), to_gpu(nsif_in), to_gpu(iwls_in), to_gpu(wwls_in), \n",
    "                          block=(XBLOCK,1,1),grid=(XGRID,1,1))\n",
    "    I1      = res_out.get()/m[0][0,0]\n",
    "    #norm1   = I1[0,0]/mref['I_up (TOA)'][0]\n",
    "    norm1=1.\n",
    "    P_Raman = res_rrs.get()[0,:]/res_out.get()[0,:]\n",
    "    print(norm1)\n",
    "    #norm1 = 1\n",
    "    I1_LUT = LUT(I1[0,:]/norm1, axes=[wl], names=['wavelength'], desc=mdesc('I_up (TOA)'))\n",
    "    Q1_LUT = LUT(I1[1,:]/norm1, axes=[wl], names=['wavelength'], desc=mdesc('Q_up (TOA)'))\n",
    "    U1_LUT = LUT(I1[1,:]/norm1, axes=[wl], names=['wavelength'], desc=mdesc('U_up (TOA)'))\n",
    "    DoLP_LUT = ((Q1_LUT*Q1_LUT + U1_LUT*U1_LUT).apply(np.sqrt)/I1_LUT)*100\n",
    "    DoLP_LUT.desc='DoLP (%)'\n",
    "    Ip_LUT   = (Q1_LUT*Q1_LUT + U1_LUT*U1_LUT).apply(np.sqrt)\n",
    "    Ip_LUT.desc=mdesc('Ip_up (TOA)')\n",
    "    P_Raman_LUT = LUT(P_Raman, axes=[wl], names=['wavelength'], desc=r'$P_{Raman}$')\n",
    "    Rel     = Es * I1_LUT[Idx(wl,fill_value='extrema')]\n",
    "    Rel_llp = Es_RRS * I1_LUT[Idx(wl_RRS,fill_value='extrema')]\n",
    "    R_RRS   = np.sum(Rel_llp * LRRS, axis=1) * P_Raman_LUT[Idx(wl, fill_value='extrema')]\n",
    "    Rel_out = Rel * P_Raman_LUT[Idx(wl, fill_value='extrema')]\n",
    "    R_tot   = R_RRS + Rel - Rel_out\n",
    "    #------------------------\n",
    "    Relp    = Es * Ip_LUT[Idx(wl,fill_value='extrema')]\n",
    "    Relp_llp= Es_RRS * Ip_LUT[Idx(wl_RRS,fill_value='extrema')]\n",
    "    R_RRS   = np.sum(Relp_llp * LRRS, axis=1) * P_Raman_LUT[Idx(wl, fill_value='extrema')]\n",
    "    Relp_out= Relp * P_Raman_LUT[Idx(wl, fill_value='extrema')]\n",
    "    Rp_tot  = R_RRS + Relp - Relp_out\n",
    "    \n",
    "    return R_tot, Rel, DoLP_LUT, Rp_tot, Relp\n",
    "\n",
    "#datas = np.loadtxt('/home/applis/libRadtran/libRadtran-2.0.2/data/solar_flux/kurudz_full.dat')\n",
    "#datas_01 = np.loadtxt('/home/applis/libRadtran/libRadtran-2.0.2/data/solar_flux/kurudz_0.1nm.dat')\n",
    "datas_modtran = np.loadtxt('/home/applis/libRadtran/libRadtran-2.0.2/data/solar_flux/atlas_plus_modtran_ph')"
   ]
  },
  {
   "cell_type": "code",
   "execution_count": null,
   "metadata": {
    "ExecuteTime": {
     "end_time": "2020-04-07T12:10:57.889223Z",
     "start_time": "2020-04-07T12:10:57.633311Z"
    }
   },
   "outputs": [],
   "source": [
    "# pure molecular atmosphere (fig 7.5 and 7.6 Deutschmann PhD thesis)\n",
    "pstd = np.array([1000,950,900,850,800,700,600,500,400,300,\\\n",
    "            200,125,50,10,3,1], dtype=np.float32)\n",
    "zstd = ( -np.log(pstd/pstd[0])*8)[::-1]\n",
    "\n",
    "atm  = AtmAFGL('afglt', O3=300., NO2=True, grid=zstd)\n",
    "le   = {'phi_deg':np.linspace(0.,180., num=1), 'th_deg':np.linspace(0., 85., num=1)}\n",
    "th0  = 45.\n",
    "#mydatas = np.zeros_like(datas)\n",
    "#mydatas[:,1] = myconvolve(datas[:,1], N=25)\n",
    "#mydatas[:,0] = datas[:,0]"
   ]
  },
  {
   "cell_type": "code",
   "execution_count": null,
   "metadata": {
    "ExecuteTime": {
     "end_time": "2020-04-07T12:11:15.719638Z",
     "start_time": "2020-04-07T12:11:08.141512Z"
    }
   },
   "outputs": [],
   "source": [
    "%%time\n",
    "wl, wls, wl_RRS, Es_LUT, iwls_in, wwls_in = spectral_grids(758., 770.,   datas_modtran, dl=0.001, dls=1.)\n",
    "#wl, wls, wl_RRS, Es_LUT, iwls_in, wwls_in = spectral_grids(758., 770.,  datas, dls=1.)\n",
    "o2_int  = get_o2_abs (zstd, wl, DOWNLOAD=False)\n",
    "abs_int = o2_int\n",
    "\n",
    "#wl, wls, wl_RRS, Es_LUT, iwls_in, wwls_in = spectral_grids(352., 360., mydatas, dls=5.)\n",
    "#o3_int = od2k(AtmAFGL('afglt', O3=0., NO2=False, grid=zstd).calc(wl), 'OD_g')\n",
    "#abs_int = o3_int\n",
    "\n",
    "# Solar spectrum\n",
    "Es = Es_LUT[Idx(wl)]\n",
    "Es_RRS = Es_LUT[Idx(wl_RRS, fill_value='extrema')]\n",
    "# Ring nromalized spectrum (Wagner et al., 2009, AMT)\n",
    "_, LRRS = L2d_inv(wl, 90., 243.)\n",
    "f_RRS_norm  = np.sum(Es_RRS * LRRS , axis=1) / Es - 1."
   ]
  },
  {
   "cell_type": "code",
   "execution_count": null,
   "metadata": {
    "ExecuteTime": {
     "end_time": "2020-04-07T12:11:27.328437Z",
     "start_time": "2020-04-07T12:11:19.934435Z"
    }
   },
   "outputs": [],
   "source": [
    "%%time\n",
    "fig,ax        = subplots(nrows=3, ncols=1) \n",
    "fig.set_size_inches(20,15)\n",
    "\n",
    "rcParams.update({'font.size':14})\n",
    "sigma         = abs_int[:,1:]\n",
    "\n",
    "color         = ['b']\n",
    "lab           = ['smartg']\n",
    "i=0\n",
    "surf          = LambSurface(ALB=Albedo_cst(1))\n",
    "#surf          = None\n",
    "NB            = 1e5\n",
    "NWS           = wls.size\n",
    "\n",
    "m             = Smartg(double=True, alt_pp=True, alis=True).run(wl=wls, THVDEG=th0,\n",
    "                       NBPHOTONS=NB, NBLOOP=NB, atm=atm, le=le, surf=surf,\n",
    "                       NF=1e3, alis_options={'nlow':NWS, 'hist':True}).sub({'Azimuth angles':0, 'Zenith angles':0}) \n",
    "    \n",
    "R_tot, Rel, DoLP_LUT, Rp_tot, Relp = reduce_histories(m,wls,wl,sigma)\n",
    "###################################################################################\n",
    "\n",
    "sca(ax[0])\n",
    "ff = R_tot\n",
    "plot(wl, ff ,'-'+color[i])\n",
    "ff = Rp_tot\n",
    "plot(wl, ff ,':'+color[i])\n",
    "xlabel('wavelength (nm)')\n",
    "ylabel(mdesc('I_up (TOA, tot)')+ r'$ (ph/s/cm^2/nm)$')\n",
    "grid(True)\n",
    "\n",
    "sca(ax[1])\n",
    "ff = (R_tot/Rel-1)*100\n",
    "plot(wl, ff, '-'+color[i])\n",
    "ff = (Rp_tot/Relp-1)*100\n",
    "plot(wl, ff, ':'+color[i])\n",
    "xlabel('wavelength (nm)')\n",
    "ylabel('$Ring spectrum (Tot/Elastic)$')\n",
    "#plot(wl, myconvolve(ff, N=35), '-m')\n",
    "#ylim(-20,30)\n",
    "ylim(-6,8)\n",
    "grid(True)\n",
    "\n",
    "sca(ax[2])\n",
    "DoLP_LUT.plot(fmt=color[i])\n",
    "#ylim(0,2)"
   ]
  },
  {
   "cell_type": "code",
   "execution_count": null,
   "metadata": {
    "ExecuteTime": {
     "end_time": "2020-04-07T12:11:33.647099Z",
     "start_time": "2020-04-07T12:11:33.256042Z"
    }
   },
   "outputs": [],
   "source": [
    "# pure molecular atmosphere (fig 7.7 Deutschmann PhD thesis)\n",
    "pstd = np.array([1000,950,900,850,800,700,600,500,400,300,\\\n",
    "            200,125,50,10,3,1], dtype=np.float32)\n",
    "zstd = ( -np.log(pstd/pstd[0])*8)[::-1]\n",
    "\n",
    "atm  = AtmAFGL('afglus', O3=300., NO2=False)\n",
    "#atm  = AtmAFGL('afglus', O3=300., NO2=False, grid=zstd)\n",
    "le   = {'phi_deg':np.linspace(0.,180., num=1), 'th_deg':np.linspace(0., 85., num=1)}\n",
    "th0  = 0.\n",
    "#mydatas = np.zeros_like(datas)\n",
    "#mydatas[:,1] = myconvolve(datas[:,1], N=35)\n",
    "#mydatas[:,0] = datas[:,0]"
   ]
  },
  {
   "cell_type": "code",
   "execution_count": null,
   "metadata": {
    "ExecuteTime": {
     "end_time": "2020-04-07T12:11:34.636742Z",
     "start_time": "2020-04-07T12:11:34.470528Z"
    }
   },
   "outputs": [],
   "source": [
    "%%time\n",
    "#wl, wls, wl_RRS, Es_LUT, iwls_in, wwls_in = spectral_grids(758., 770.,   datas, dl=0.001, dls=5.)\n",
    "#wl, wls, wl_RRS, Es_LUT, iwls_in, wwls_in = spectral_grids(758., 770.,  mydatas, dls=5.)\n",
    "#o2_int  = get_o2_abs (zstd, wl, DOWNLOAD=False)\n",
    "#abs_int = o2_int\n",
    "\n",
    "wl, wls, wl_RRS, Es_LUT, iwls_in, wwls_in = spectral_grids(351., 354., datas_modtran, dls=1.)\n",
    "#wl, wls, wl_RRS, Es_LUT, iwls_in, wwls_in = spectral_grids(351., 354., mydatas, dls=5.)\n",
    "o3_int = od2k(atm.calc(wl), 'OD_g')\n",
    "abs_int = o3_int\n",
    "\n",
    "# Solar spectrum\n",
    "Es = Es_LUT[Idx(wl)]\n",
    "Es_RRS = Es_LUT[Idx(wl_RRS, fill_value='extrema')]\n",
    "# Ring nromalized spectrum (Wagner et al., 2009, AMT)\n",
    "_, LRRS = L2d_inv(wl, 90., 243.)\n",
    "f_RRS_norm  = np.sum(Es_RRS * LRRS , axis=1) / Es - 1."
   ]
  },
  {
   "cell_type": "code",
   "execution_count": null,
   "metadata": {
    "ExecuteTime": {
     "end_time": "2020-04-07T12:11:41.761999Z",
     "start_time": "2020-04-07T12:11:41.299133Z"
    }
   },
   "outputs": [],
   "source": [
    "uvspec_tot = np.loadtxt('/home/applis/libRadtran/libRadtran-2.0.2/examples/UVSPEC_RAMAN.OUT')[:,1]\n",
    "uvspec_el  = np.loadtxt('/home/applis/libRadtran/libRadtran-2.0.2/examples/UVSPEC_NORAMAN.OUT')[:,1]\n",
    "ff_uvspec = (uvspec_tot/uvspec_el-1)*100"
   ]
  },
  {
   "cell_type": "code",
   "execution_count": null,
   "metadata": {
    "ExecuteTime": {
     "end_time": "2020-04-07T12:11:46.260499Z",
     "start_time": "2020-04-07T12:11:42.754079Z"
    },
    "run_control": {
     "marked": false
    }
   },
   "outputs": [],
   "source": [
    "%%time\n",
    "fig,ax        = subplots(nrows=3, ncols=1) \n",
    "fig.set_size_inches(20,15)\n",
    "\n",
    "rcParams.update({'font.size':14})\n",
    "sigma         = abs_int[:,1:]\n",
    "\n",
    "color         = ['b']\n",
    "lab           = ['smartg']\n",
    "i=0\n",
    "surf          = LambSurface(ALB=0.)\n",
    "surf          = None\n",
    "NB            = 1e5\n",
    "NWS           = wls.size\n",
    "\n",
    "m             = Smartg(double=True, alt_pp=True, alis=True).run(wl=wls, THVDEG=th0,\n",
    "                       NBPHOTONS=NB, NBLOOP=NB, atm=atm, le=le, surf=surf,\n",
    "                       NF=1e3, alis_options={'nlow':NWS, 'hist':True}).sub({'Azimuth angles':0, 'Zenith angles':0}) \n",
    "    \n",
    "R_tot, Rel, DoLP_LUT = reduce_histories(m,wls,wl,sigma)\n",
    "###################################################################################\n",
    "\n",
    "sca(ax[0])\n",
    "ff = R_tot/(1e-3 * 1e-4  / (cst.h *cst.c)  * (wl*1e-9))*cos(np.deg2rad(th0))/np.pi*1e-3\n",
    "ffe = Rel/(1e-3 * 1e-4  / (cst.h *cst.c)  * (wl*1e-9))*cos(np.deg2rad(th0))/np.pi*1e-3\n",
    "plot(wl, ff ,'-'+color[i])\n",
    "plot(wl, ffe ,'--'+color[i])\n",
    "#ylim(0,.1)\n",
    "xlabel('wavelength (nm)')\n",
    "ylabel(mdesc('I_up (TOA, tot)')+ r'$ (ph/s/cm^2/nm)$')\n",
    "xlim(wl.min(),wl.max())\n",
    "grid(True)\n",
    "\n",
    "sca(ax[1])\n",
    "ff = (R_tot/Rel-1)*100\n",
    "plot(wl, ff, '-'+color[i])\n",
    "plot(wl, ff_uvspec, ':'+'r')\n",
    "xlabel('wavelength (nm)')\n",
    "ylabel('$Ring spectrum (Tot/Elastic)$')\n",
    "#plot(wl, myconvolve(ff, N=35), '-m')\n",
    "ylim(-5,5)\n",
    "grid(True)\n",
    "xlim(wl.min(),wl.max())\n",
    "\n",
    "sca(ax[2])\n",
    "DoLP_LUT.plot(fmt=color[i])\n",
    "xlim(wl.min(),wl.max())\n",
    "#ylim(0,2)"
   ]
  },
  {
   "cell_type": "code",
   "execution_count": null,
   "metadata": {
    "ExecuteTime": {
     "end_time": "2020-04-07T12:11:50.752072Z",
     "start_time": "2020-04-07T12:11:50.355179Z"
    },
    "run_control": {
     "marked": true
    }
   },
   "outputs": [],
   "source": [
    "# pure molecular atmosphere (fig 7.11 Deutschmann PhD thesis)\n",
    "pstd = np.array([1000,950,900,850,800,700,600,500,400,300,\\\n",
    "            200,125,50,10,3,1], dtype=np.float32)\n",
    "zstd = ( -np.log(pstd/pstd[0])*8)[::-1]\n",
    "RTER = 6371.\n",
    "atm  = AtmAFGL('afglt', O3=0., NO2=False, grid=zstd)\n",
    "le   = {'phi_deg':np.array([106.25]), 'th_deg':np.array([57.4])}\n",
    "#sensor = Sensor(POSZ=16.368, THDEG=92.5, LOC='ATMOS')\n",
    "sensor = Sensor(POSZ=16.368+RTER, THDEG=87)\n",
    "#mydatas = np.zeros_like(datas)\n",
    "#mydatas[:,1] = myconvolve(datas[:,1], N=25)\n",
    "#mydatas[:,0] = datas[:,0]"
   ]
  },
  {
   "cell_type": "code",
   "execution_count": null,
   "metadata": {
    "ExecuteTime": {
     "end_time": "2020-04-07T12:11:51.535228Z",
     "start_time": "2020-04-07T12:11:51.388934Z"
    }
   },
   "outputs": [],
   "source": [
    "%%time\n",
    "#wl, wls, wl_RRS, Es_LUT, iwls_in, wwls_in = spectral_grids(758., 770.,   datas, dl=0.001, dls=5.)\n",
    "#wl, wls, wl_RRS, Es_LUT, iwls_in, wwls_in = spectral_grids(758., 770.,  mydatas, dls=5.)\n",
    "#o2_int  = get_o2_abs (zstd, wl, DOWNLOAD=False)\n",
    "#abs_int = o2_int\n",
    "\n",
    "#wl, wls, wl_RRS, Es_LUT, iwls_in, wwls_in = spectral_grids(352., 360., datas_modtran, dls=5.)\n",
    "wl, wls, wl_RRS, Es_LUT, iwls_in, wwls_in = spectral_grids(252.4, 252.5, datas, dls=0.04)\n",
    "o3_int = od2k(atm.calc(wl), 'OD_g')\n",
    "abs_int = o3_int\n",
    "\n",
    "# Solar spectrum\n",
    "Es = Es_LUT[Idx(wl)]\n",
    "Es_RRS = Es_LUT[Idx(wl_RRS, fill_value='extrema')]\n",
    "# Ring nromalized spectrum (Wagner et al., 2009, AMT)\n",
    "_, LRRS = L2d_inv(wl, 90., 243.)\n",
    "f_RRS_norm  = np.sum(Es_RRS * LRRS , axis=1) / Es - 1."
   ]
  },
  {
   "cell_type": "code",
   "execution_count": null,
   "metadata": {
    "ExecuteTime": {
     "end_time": "2020-04-07T12:11:51.654539Z",
     "start_time": "2020-04-07T12:11:51.543665Z"
    }
   },
   "outputs": [],
   "source": [
    "NWS"
   ]
  },
  {
   "cell_type": "code",
   "execution_count": null,
   "metadata": {
    "ExecuteTime": {
     "end_time": "2020-04-07T12:12:25.236016Z",
     "start_time": "2020-04-07T12:11:56.159956Z"
    }
   },
   "outputs": [],
   "source": [
    "fig,ax        = subplots(nrows=3, ncols=1) \n",
    "fig.set_size_inches(20,15)\n",
    "\n",
    "rcParams.update({'font.size':14})\n",
    "sigma         = abs_int[:,1:]\n",
    "\n",
    "color         = ['b']\n",
    "lab           = ['smartg']\n",
    "i=0\n",
    "surf          = LambSurface(ALB=0.)\n",
    "surf          = None\n",
    "NB            = 1e5\n",
    "NWS           = wls.size\n",
    "\n",
    "m             = Smartg(alt_pp=True, pp=False, alis=True).run(wl=wls,  THVDEG=2.5,\n",
    "                       NBPHOTONS=NB, NBLOOP=NB, atm=atm, le=le, surf=surf, RTER=RTER,\n",
    "                       NF=1e3, alis_options={'nlow':NWS, 'hist':True}).sub({'Azimuth angles':0, 'Zenith angles':0}) \n",
    "    \n",
    "R_tot, Rel, DoLP_LUT = reduce_histories(m,wls,wl,sigma)\n",
    "###################################################################################\n",
    "\n",
    "sca(ax[0])\n",
    "ff = R_tot/(1e-3 * 1e-4  / (cst.h *cst.c)  * (wl*1e-9))*cos(np.deg2rad(th0))/np.pi*1e-3\n",
    "ffe = Rel/(1e-3 * 1e-4  / (cst.h *cst.c)  * (wl*1e-9))*cos(np.deg2rad(th0))/np.pi*1e-3\n",
    "plot(wl, ff ,'-'+color[i])\n",
    "plot(wl, ffe ,':'+color[i])\n",
    "#ylim(0,3.2e10)\n",
    "xlabel('wavelength (nm)')\n",
    "ylabel(mdesc('I_up (TOA, tot)')+ r'$ (ph/s/cm^2/nm)$')\n",
    "grid(True)\n",
    "\n",
    "sca(ax[1])\n",
    "ff = (R_tot/Rel-1)*100\n",
    "plot(wl, ff, '-'+color[i])\n",
    "xlabel('wavelength (nm)')\n",
    "ylabel('$Ring spectrum (Tot/Elastic)$')\n",
    "#plot(wl, myconvolve(ff, N=100), '-b')\n",
    "#ylim(-6,10)\n",
    "grid(True)\n",
    "xlim(wl.min(),wl.max())\n",
    "\n",
    "sca(ax[2])\n",
    "DoLP_LUT.plot(fmt=color[i])\n",
    "#ylim(0,2)"
   ]
  },
  {
   "cell_type": "code",
   "execution_count": null,
   "metadata": {},
   "outputs": [],
   "source": []
  }
 ],
 "metadata": {
  "anaconda-cloud": {},
  "hide_input": false,
  "kernelspec": {
   "display_name": "Python 3",
   "language": "python",
   "name": "python3"
  },
  "language_info": {
   "codemirror_mode": {
    "name": "ipython",
    "version": 3
   },
   "file_extension": ".py",
   "mimetype": "text/x-python",
   "name": "python",
   "nbconvert_exporter": "python",
   "pygments_lexer": "ipython3",
   "version": "3.6.5"
  },
  "toc": {
   "colors": {
    "hover_highlight": "#DAA520",
    "navigate_num": "#000000",
    "navigate_text": "#333333",
    "running_highlight": "#FF0000",
    "selected_highlight": "#FFD700",
    "sidebar_border": "#EEEEEE",
    "wrapper_background": "#FFFFFF"
   },
   "moveMenuLeft": true,
   "nav_menu": {
    "height": "509px",
    "width": "252px"
   },
   "navigate_menu": true,
   "number_sections": true,
   "sideBar": true,
   "threshold": 4,
   "toc_cell": false,
   "toc_number_sections": true,
   "toc_position": {
    "height": "579.133px",
    "left": "0px",
    "right": "1801.6px",
    "top": "158.867px",
    "width": "204.567px"
   },
   "toc_section_display": "block",
   "toc_threshold": 4,
   "toc_window_display": true,
   "widenNotebook": false
  },
  "toc_position": {
   "left": "1540px",
   "right": "36px",
   "top": "83px",
   "width": "300px"
  },
  "widgets": {
   "state": {
    "24d74e057a524c8c8349c8380b4cfc8c": {
     "views": [
      {
       "cell_index": 4
      }
     ]
    }
   },
   "version": "1.2.0"
  }
 },
 "nbformat": 4,
 "nbformat_minor": 2
}
