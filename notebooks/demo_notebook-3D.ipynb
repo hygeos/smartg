{
 "cells": [
  {
   "cell_type": "markdown",
   "metadata": {
    "ExecuteTime": {
     "end_time": "2018-04-07T20:34:09.930253Z",
     "start_time": "2018-04-07T20:34:09.864857Z"
    }
   },
   "source": [
    "# Smart-G 3D demo notebook\n",
    "\n",
    "This is an interactive document allowing to run Smart-G in 3D with python and visualize the results. <br>\n",
    "*Tips*: cells can be executed with shift-enter. Tooltips can be obtained with shift-tab. More information [here](http://ipython.org/notebook.html) or in the help menu. [A table of content can also be added](https://github.com/minrk/ipython_extensions#table-of-contents)."
   ]
  },
  {
   "cell_type": "code",
   "execution_count": null,
   "metadata": {
    "ExecuteTime": {
     "end_time": "2019-12-26T13:40:39.987164Z",
     "start_time": "2019-12-26T13:40:37.740815Z"
    }
   },
   "outputs": [],
   "source": [
    "%pylab inline\n",
    "# next 2 lines allow to automatically reload modules that have been changed externally\n",
    "%reload_ext autoreload\n",
    "%autoreload 2:w\n",
    "from __future__ import absolute_import, division, print_function\n",
    "import os, sys\n",
    "#sys.path.insert(0, os.path.dirname(os.getcwd()))\n",
    "sys.path.insert(0, '/home/did/RTC/SMART-G/')\n",
    "from smartg.albedo import Albedo_speclib, Albedo_cst, Albedo_spectrum\n",
    "from smartg.smartg import Smartg, Sensor, type_Cell,type_Profile, type_Sensor\n",
    "from smartg.smartg import RoughSurface, LambSurface, FlatSurface, Environment\n",
    "from smartg.atmosphere import AtmAFGL, AeroOPAC, CloudOPAC, diff1, read_phase\n",
    "from smartg.water import IOP_1, IOP, IOP_profile\n",
    "from smartg.geometry import BBox, Point, Vector, CommonFace, CommonVertices\n",
    "from smartg.reptran import REPTRAN, reduce_reptran\n",
    "from smartg.tools.tools import SpherIrr, Irr, reduce_Irr\n",
    "from luts.luts import LUT, MLUT, Idx, merge, read_mlut\n",
    "from smartg.tools.smartg_view import compare, plot_polar, spectrum , mdesc \n",
    "from smartg.tools.smartg_view import spectrum_view,transect_view,profile_view,phase_view,smartg_view,input_view\n",
    "from itertools import combinations\n",
    "import warnings\n",
    "warnings.filterwarnings(\"ignore\")\n",
    "from scipy.interpolate import interp1d\n",
    "\n",
    "def read_3dmcpol_a5_pp():\n",
    "    \n",
    "    f_iprt = '../smartg/validation/IPRT/iprt_case_a5pp_3dmcpol.dat'\n",
    "    th0    = 50.\n",
    "    mu0    = np.cos(np.radians(th0))\n",
    "    thv    = np.arange(0.0, 81.0, 1.0)\n",
    "    phi    = np.array([0.0, 180.0])\n",
    "\n",
    "    mSvRG = MLUT()\n",
    "    mSvRG.add_axis('Azimuth angles', phi)\n",
    "    mSvRG.add_axis('Zenith angles',  thv)\n",
    "    \n",
    "    f=open(f_iprt)\n",
    "    for k, lev2 in enumerate(['down (0+)','up (TOA)']):\n",
    "        I = np.full( (len(phi), len(thv) ), np.nan)\n",
    "        Q = np.full( (len(phi), len(thv) ), np.nan)\n",
    "        U = np.full( (len(phi), len(thv) ), np.nan)\n",
    "        V = np.full( (len(phi), len(thv) ), np.nan)\n",
    "        Is = np.full( (len(phi), len(thv) ), np.nan)\n",
    "        Qs = np.full( (len(phi), len(thv) ), np.nan)\n",
    "        Us = np.full( (len(phi), len(thv) ), np.nan)\n",
    "        Vs = np.full( (len(phi), len(thv) ), np.nan)\n",
    "        for iphi in range(len(phi)): \n",
    "            for imu in range(len(thv)):\n",
    "                tmp = f.readline().split()\n",
    "                if (k==0):\n",
    "                    I[iphi,imu] = float(tmp[6])   * np.pi/mu0\n",
    "                    Q[iphi,imu] = float(tmp[7])   * np.pi/mu0\n",
    "                    U[iphi,imu] = float(tmp[8])   * np.pi/mu0\n",
    "                    V[iphi,imu] = float(tmp[9])   * np.pi/mu0\n",
    "                    Is[iphi,imu] = float(tmp[10]) * np.pi/mu0\n",
    "                    Qs[iphi,imu] = float(tmp[11]) * np.pi/mu0\n",
    "                    Us[iphi,imu] = float(tmp[12]) * np.pi/mu0\n",
    "                    Vs[iphi,imu] = float(tmp[13]) * np.pi/mu0\n",
    "                else:\n",
    "                    I[iphi,-imu-1] = float(tmp[6])   * np.pi/mu0\n",
    "                    Q[iphi,-imu-1] = float(tmp[7])   * np.pi/mu0\n",
    "                    U[iphi,-imu-1] = float(tmp[8])   * np.pi/mu0\n",
    "                    V[iphi,-imu-1] = float(tmp[9])   * np.pi/mu0\n",
    "                    Is[iphi,-imu-1] = float(tmp[10]) * np.pi/mu0\n",
    "                    Qs[iphi,-imu-1] = float(tmp[11]) * np.pi/mu0\n",
    "                    Us[iphi,-imu-1] = float(tmp[12]) * np.pi/mu0\n",
    "                    Vs[iphi,-imu-1] = float(tmp[13]) * np.pi/mu0\n",
    "\n",
    "        mSvRG.add_dataset('I_'+lev2, I, [\"Azimuth angles\",\"Zenith angles\"])\n",
    "        mSvRG.add_dataset('Q_'+lev2, Q, [\"Azimuth angles\",\"Zenith angles\"])\n",
    "        mSvRG.add_dataset('U_'+lev2, U, [\"Azimuth angles\",\"Zenith angles\"])\n",
    "        mSvRG.add_dataset('V_'+lev2, V, [\"Azimuth angles\",\"Zenith angles\"])\n",
    "        mSvRG.add_dataset('N_'+lev2, np.zeros_like(I),   [\"Azimuth angles\",\"Zenith angles\"])\n",
    "        mSvRG.add_dataset('I_stdev_'+lev2, Is, [\"Azimuth angles\",\"Zenith angles\"])\n",
    "        mSvRG.add_dataset('Q_stdev_'+lev2, Qs, [\"Azimuth angles\",\"Zenith angles\"])\n",
    "        mSvRG.add_dataset('U_stdev_'+lev2, Us, [\"Azimuth angles\",\"Zenith angles\"])\n",
    "        mSvRG.add_dataset('V_stdev_'+lev2, Vs, [\"Azimuth angles\",\"Zenith angles\"])\n",
    "\n",
    "    return mSvRG \n",
    "\n",
    "def read_3dmcpol_c2_pp(iset=1, icase=4):\n",
    "    \n",
    "    f_iprt = '../smartg/validation/IPRT/iprt_case_C2_3DMCPOL.dat'\n",
    "    th0    = 40.\n",
    "    mu0    = np.cos(np.radians(th0))\n",
    "    thv    = np.array([0.])\n",
    "    phi    = np.array([0.])\n",
    "    si     = np.arange(4900)\n",
    "\n",
    "    mSvRG = MLUT()\n",
    "    mSvRG.add_axis('Zenith angles',  thv)\n",
    "    mSvRG.add_axis('sensor index' ,  si)\n",
    "    \n",
    "    f=open(f_iprt)\n",
    "    lev2 = 'up (TOA)'\n",
    "\n",
    "    I  = np.full( (len(si), len(thv) ), np.nan)\n",
    "    Q  = np.full( (len(si), len(thv) ), np.nan)\n",
    "    U  = np.full( (len(si), len(thv) ), np.nan)\n",
    "    V  = np.full( (len(si), len(thv) ), np.nan)\n",
    "    Is = np.full( (len(si), len(thv) ), np.nan)\n",
    "    Qs = np.full( (len(si), len(thv) ), np.nan)\n",
    "    Us = np.full( (len(si), len(thv) ), np.nan)\n",
    "    Vs = np.full( (len(si), len(thv) ), np.nan)\n",
    "    \n",
    "    imu=0\n",
    "\n",
    "    for k in range(3 + (4900*9*iset) + (4900*icase)):\n",
    "        f.readline()\n",
    "    for i in range(4900):\n",
    "        tmp = f.readline().split()\n",
    "        I[i,imu]  = float(tmp[7])  * np.pi/mu0\n",
    "        Q[i,imu]  = float(tmp[8])  * np.pi/mu0\n",
    "        U[i,imu]  = float(tmp[9])  * np.pi/mu0\n",
    "        V[i,imu]  = float(tmp[10])  * np.pi/mu0\n",
    "        Is[i,imu] = float(tmp[11]) * np.pi/mu0\n",
    "        Qs[i,imu] = float(tmp[12]) * np.pi/mu0\n",
    "        Us[i,imu] = float(tmp[13]) * np.pi/mu0\n",
    "        Vs[i,imu] = float(tmp[14]) * np.pi/mu0\n",
    "        \n",
    "    mSvRG.add_dataset('I_'+lev2, I, [\"sensor index\",\"Zenith angles\"])\n",
    "    mSvRG.add_dataset('Q_'+lev2, Q, [\"sensor index\",\"Zenith angles\"])\n",
    "    mSvRG.add_dataset('U_'+lev2, U, [\"sensor index\",\"Zenith angles\"])\n",
    "    mSvRG.add_dataset('V_'+lev2, V, [\"sensor index\",\"Zenith angles\"])\n",
    "    mSvRG.add_dataset('N_'+lev2, np.zeros_like(I),   [\"sensor index\",\"Zenith angles\"])\n",
    "    mSvRG.add_dataset('I_stdev_'+lev2, Is, [\"sensor index\",\"Zenith angles\"])\n",
    "    mSvRG.add_dataset('Q_stdev_'+lev2, Qs, [\"sensor index\",\"Zenith angles\"])\n",
    "    mSvRG.add_dataset('U_stdev_'+lev2, Us, [\"sensor index\",\"Zenith angles\"])\n",
    "    mSvRG.add_dataset('V_stdev_'+lev2, Vs, [\"sensor index\",\"Zenith angles\"])\n",
    "\n",
    "    return mSvRG \n",
    "\n",
    "\n",
    "def Get_3Dcells_indices(NX, NY, NZ):\n",
    "    Ncell = NX*NY*NZ\n",
    "    # from cell number to x,y and z indices\n",
    "    return np.unravel_index(np.arange(Ncell, dtype=int32), (NX, NY, NZ), order='C')\n",
    "\n",
    "\n",
    "def Get_3Dcells_neighbours(NX, NY, NZ, BOUNDARY_ABS=-5, periodic=False,\n",
    "                          BOUNDARY_BOA=-2, BOUNDARY_TOA=-1):\n",
    "    '''\n",
    "    Computes the 3D neighbouring cells indices, one for each of the 6 cube faces\n",
    "    \n",
    "    Keyword:\n",
    "        - periodic : the neighbours are horizontally periodic, otherwise it is an absorbing boundary\n",
    "    '''\n",
    "    idx, idy, idz  = Get_3Dcells_indices(NX, NY, NZ)\n",
    "    # indices of neighbouring cells in rectangular grid\n",
    "    neigh_idx      = np.vstack((idx+1, idx-1, idx  , idx  , idx  , idx  )) # by convention POSITIVE first\n",
    "    neigh_idy      = np.vstack((idy  , idy  , idy+1, idy-1, idy  , idy  ))\n",
    "    neigh_idz      = np.vstack((idz  , idz  , idz  , idz  , idz+1, idz-1))\n",
    "    \n",
    "    if periodic: \n",
    "        neigh = np.ravel_multi_index((neigh_idx, neigh_idy, neigh_idz), \n",
    "                                       dims=(NX, NY, NZ), mode=('wrap','wrap','clip'))\n",
    "    else:\n",
    "        neigh = np.ravel_multi_index((neigh_idx, neigh_idy, neigh_idz), \n",
    "                                       dims=(NX, NY, NZ), mode=('clip','clip','clip'))\n",
    "    ## boundaries neighbouring\n",
    "    # with 'clip' mode, if outside the domain then the neighbour index is the same as the cell index\n",
    "    neigh[np.equal(neigh , np.arange(NX*NY*NZ, dtype=int32))] = BOUNDARY_ABS \n",
    "    # by definition -Z neighbour at the domain boundary is BOA\n",
    "    neigh[5, np.where(neigh[5,:]==BOUNDARY_ABS)] = BOUNDARY_BOA \n",
    "    # by definition +Z neighbour at the domain boundary is TOA\n",
    "    neigh[4, np.where(neigh[4,:]==BOUNDARY_ABS)] = BOUNDARY_TOA\n",
    "    # by convention +Z neighbour at the domain boundary -1 is also TOA\n",
    "    neigh[4, np.where(neigh[4,:]%NZ==        0)] = BOUNDARY_TOA \n",
    "    \n",
    "    return neigh.astype(int32)\n",
    "\n",
    "\n",
    "def Get_3Dcells(Nx=1, Ny=1, Nz=50, Dx=1., Dy=1., Dz=1.,x=None, y=None, z=None, periodic=False,\n",
    "                HORIZ_EXTENT_LENGTH=0, SAT_ALTITUDE=1e3):\n",
    "    '''\n",
    "    return the cells geometrical properties for use in 3D atmospheric profile object\n",
    "\n",
    "    Keywords:\n",
    "        - Nx, Ny and Nz are the number of cells in each dimension\n",
    "        - Dx, Dy and Dz are the cells dimensions in km (default 1.)\n",
    "        - x(Nx), y(Ny), z(Nz), coordinates can be provided instead, it erase Ni and Di\n",
    "        - HORIZ_EXTENT_LENGTH: in km, is not 0, then one cell before and one after in X and Y \n",
    "            are added with a specific length of HORIZ_EXTENT_LENGTH. it results in a total\n",
    "            number of cells being NX = Nx+2 and NY = Ny+2\n",
    "        - SAT_ALTITUDE: Max altitude in km for sensors location within the 3D grid\n",
    "        - periodic : the neighbours are horizontally periodic, otherwise it is an absorbing boundary\n",
    "    '''\n",
    "    # CELLS INDEXING\n",
    "    DN             = 2 if HORIZ_EXTENT_LENGTH !=0 else 0\n",
    "    sl             = slice(DN//2, -DN//2) if DN==2 else slice(None, None)\n",
    "        \n",
    "    if x is None:\n",
    "        NX   = Nx + DN  # Number of cells in x\n",
    "        # cells boundaries coordinates \n",
    "        # horizontal \n",
    "        Hx   = Nx*Dx/2.  # x central domain half length (km)\n",
    "        x    = np.zeros((NX+1), dtype=np.float32)\n",
    "        x[0] = -(Hx + HORIZ_EXTENT_LENGTH)\n",
    "        x[-1]= (Hx  + HORIZ_EXTENT_LENGTH)\n",
    "        x[sl]= np.linspace(-Hx, Hx, num=Nx+1)\n",
    "    else:\n",
    "        NX   = x.size-1\n",
    "        \n",
    "    if y is None:\n",
    "        NY   = Ny + DN  # Number of cells in x\n",
    "        # cells boundaries coordinates \n",
    "        # horizontal \n",
    "        Hy   = Ny*Dy/2.  # y central domain half length (km)\n",
    "        y    = np.zeros((NY+1), dtype=np.float32)\n",
    "        y[0] = -(Hy + HORIZ_EXTENT_LENGTH)\n",
    "        y[-1]= (Hy  + HORIZ_EXTENT_LENGTH)\n",
    "        y[sl]= np.linspace(-Hy, Hy, num=Ny+1)\n",
    "    else:\n",
    "        NY   = y.size-1\n",
    "        \n",
    "    # vertical boundaries\n",
    "    if z is None :\n",
    "        # we add a empty very thin cell above TOA (just for interfacing purposes)\n",
    "        NZ    = Nz + 1\n",
    "        z     = np.zeros((NZ+1), dtype=np.float32)\n",
    "        z[:-1]= np.linspace(0, Nz*Dz, num=NZ)\n",
    "        z[-1] = SAT_ALTITUDE # above TOA , sensor max level\n",
    "    else:\n",
    "        NZ    = z.size-1\n",
    "    \n",
    "    # from cell number to x,y and z indices\n",
    "    idx, idy, idz  = Get_3Dcells_indices(NX, NY, NZ)\n",
    "    # indices of neighbouring cells in rectangular grid\n",
    "    neigh          = Get_3Dcells_neighbours(NX, NY, NZ, periodic=periodic)\n",
    "    # Bounding boxes, lower left and upper right corners\n",
    "    pmin           = np.zeros((3, NX*NY*NZ), dtype=np.float32)\n",
    "    pmax           = np.zeros_like(pmin)\n",
    "    pmin[0,:]      = x[idx]\n",
    "    pmax[0,:]      = x[idx+1]\n",
    "    pmin[1,:]      = y[idy]\n",
    "    pmax[1,:]      = y[idy+1]\n",
    "    pmin[2,:]      = z[idz] # ! from bottom to top\n",
    "    pmax[2,:]      = z[idz+1]\n",
    "\n",
    "    return (idx,idy,idz), (NX,NY,NZ), (x,y,z), neigh, pmin, pmax\n",
    "\n",
    "\n",
    "def locate_3D_cells(pro3D, xs, ys, zs):\n",
    "    cond = np.greater_equal(pro3D['pmax_atm'].data[0,:][None,:], xs[:,None]) &\\\n",
    "        np.less(            pro3D['pmin_atm'].data[0,:][None,:], xs[:,None]) &\\\n",
    "        np.greater_equal(   pro3D['pmax_atm'].data[1,:][None,:], ys[:,None]) &\\\n",
    "        np.less(            pro3D['pmin_atm'].data[1,:][None,:], ys[:,None]) &\\\n",
    "        np.greater_equal(   pro3D['pmax_atm'].data[2,:][None,:], zs[:,None]) &\\\n",
    "        np.less(            pro3D['pmin_atm'].data[2,:][None,:], zs[:,None])\n",
    "    \n",
    "    return np.where(cond)[1]\n",
    "\n",
    "\n",
    "\n",
    "def locate_3Dregular_cells(xgrid,ygrid,zgrid,x,y,z):\n",
    "    \n",
    "    return  np.ravel_multi_index(( \\\n",
    "            np.floor(interp1d(xgrid, np.arange(len(xgrid)))(x)).astype(int),\n",
    "            np.floor(interp1d(ygrid, np.arange(len(ygrid)))(y)).astype(int),\n",
    "            np.floor(interp1d(zgrid, np.arange(len(zgrid)))(z)).astype(int)),\n",
    "             dims = (len(xgrid)-1, len(ygrid)-1, len(zgrid)-1))\n",
    "\n",
    "\n",
    "def od2k(prof, dataset, axis=1, zreverse=False):\n",
    "    ot = diff1(prof[dataset].data.astype(np.float32), axis=axis)\n",
    "    dz = diff1(prof.axis('z_atm')).astype(np.float32)\n",
    "    k  = abs(ot/dz)\n",
    "    k[np.isnan(k)] = 0\n",
    "    sl = slice(None,None,-1 if zreverse else 1)\n",
    "    \n",
    "    return k[:,sl]"
   ]
  },
  {
   "cell_type": "code",
   "execution_count": null,
   "metadata": {
    "ExecuteTime": {
     "end_time": "2019-12-26T14:32:58.725989Z",
     "start_time": "2019-12-26T14:32:58.409184Z"
    }
   },
   "outputs": [],
   "source": [
    "# Kernel 2\n",
    "from smartg.tools.modified_environ import modified_environ\n",
    "import pycuda.driver as drv\n",
    "import pycuda.tools\n",
    "\n",
    "env_modif = {'CUDA_DEVICE': str(0)}\n",
    "with modified_environ(**env_modif):\n",
    "    import pycuda.autoinit\n",
    "print(pycuda.autoinit.device.name())\n",
    "from pycuda.compiler import SourceModule\n",
    "from pycuda.gpuarray import to_gpu, zeros as gpuzeros\n",
    "src_device = '/home/did/RTC/SMART-G/smartg/kernel2.cu'\n",
    "source=open(src_device).read()\n",
    "mod = SourceModule(source, nvcc='nvcc', no_extern_c=True)\n",
    "reduce_absorption_gpu2 = mod.get_function(\"reduce_absorption_gpu2\")\n",
    "reduce_absorption_gpu  = mod.get_function(\"reduce_absorption_gpu\")"
   ]
  },
  {
   "cell_type": "markdown",
   "metadata": {},
   "source": [
    "# Introduction"
   ]
  },
  {
   "cell_type": "markdown",
   "metadata": {},
   "source": [
    "## IPRT A5 case"
   ]
  },
  {
   "cell_type": "code",
   "execution_count": null,
   "metadata": {
    "ExecuteTime": {
     "end_time": "2019-12-12T14:11:51.727706Z",
     "start_time": "2019-12-12T14:11:51.036915Z"
    }
   },
   "outputs": [],
   "source": [
    "# Read 3DMCPOL from IPRT website\n",
    "mcpol_pp=read_3dmcpol_a5_pp()\n",
    "\n",
    "# Cloud Phase matrix\n",
    "cld_phase = read_mlut('/home/did/RTC/SMART-G/smartg/validation/watercloud_IPRT_A5.mie.nc')\n",
    "ntheta = cld_phase['ntheta'][0,0,0]\n",
    "wl     = cld_phase['wavelen'].data*1e3\n",
    "wl=[350.]\n",
    "l=[]\n",
    "l.append(cld_phase['phase'][:,:,0,:ntheta].ravel() + cld_phase['phase'][:,:,1,:ntheta].ravel())\n",
    "l.append(cld_phase['phase'][:,:,0,:ntheta].ravel() - cld_phase['phase'][:,:,1,:ntheta].ravel())\n",
    "l.append(cld_phase['phase'][:,:,2,:ntheta].ravel())\n",
    "l.append(cld_phase['phase'][:,:,3,:ntheta].ravel())\n",
    "# Normalization to 2\n",
    "p=cld_phase['phase'][:,:,0,:ntheta].ravel()\n",
    "theta=cld_phase['theta'][:,:,0,:ntheta].ravel()[::-1]\n",
    "mu= np.cos(np.radians(theta))\n",
    "Norm = np.trapz(p,-mu)\n",
    "data = np.array(l) \n",
    "print ('phase function norm: ', Norm)\n",
    "#data = np.array(l) * (2./Norm)\n",
    "# 2) store data in a LUT object with 4 dimensions, the z dimension is restricted to one level of altitude 0\n",
    "pha_cld = LUT(data[None, None, :, ::-1], names=['wav_phase', 'z_phase', 'stk', 'theta_atm'],\n",
    "          axes=[wl, np.array([0.]), None, cld_phase['theta'][:,:,0,:ntheta].ravel()[::-1]]\n",
    "         )\n",
    "\n",
    "# Layering and angles\n",
    "th0  = 50.\n",
    "COT  = 5. # at 800 nm\n",
    "cld  = CloudOPAC('wc.sol', 3., 0.5, 10., COT, wl, phase=pha_cld)\n",
    "NL   = 1\n",
    "grid = np.linspace(100, 0., num=NL+1)\n",
    "atm  = AtmAFGL('afglt', O3=0., comp=[cld], tauR=1e-20, NO2=False, grid=grid)\n",
    "le   = {'phi_deg':np.linspace(0.,180., num=2), 'th_deg':np.linspace(0., 80., num=81)}"
   ]
  },
  {
   "cell_type": "markdown",
   "metadata": {},
   "source": [
    "### Principal plane"
   ]
  },
  {
   "cell_type": "code",
   "execution_count": null,
   "metadata": {
    "ExecuteTime": {
     "end_time": "2019-12-09T14:33:32.967550Z",
     "start_time": "2019-12-09T14:33:29.103809Z"
    }
   },
   "outputs": [],
   "source": [
    "%%time\n",
    "ma5_1e8 = Smartg(double=True, alt_pp=False).run(wl=800., atm=atm, le=le, \n",
    "                                            NBPHOTONS=1e5, OUTPUT_LAYERS=3, THVDEG=th0,\n",
    "                                           stdev=True)"
   ]
  },
  {
   "cell_type": "code",
   "execution_count": null,
   "metadata": {
    "ExecuteTime": {
     "end_time": "2019-12-09T14:33:35.114237Z",
     "start_time": "2019-12-09T14:33:35.021415Z"
    }
   },
   "outputs": [],
   "source": [
    "# 3DMCPOL 1e8 photons 21 hours 25 min for one field (TOA)\n",
    "# \n",
    "T = (21*3600+ 25*60)*2.\n",
    "print ('3DMCPOL: %.1f'%T)\n",
    "print('%.2f'%(float(ma5_1e8.attrs['kernel time (s)'])))"
   ]
  },
  {
   "cell_type": "code",
   "execution_count": null,
   "metadata": {
    "ExecuteTime": {
     "end_time": "2019-12-09T14:33:41.783439Z",
     "start_time": "2019-12-09T14:33:39.105801Z"
    }
   },
   "outputs": [],
   "source": [
    "_=compare(ma5_1e8, mcpol_pp,same_azimuth_convention=False, azimuth=[0.0, 0.0], errb=True,\n",
    "        vmax=[1.5, 0.1, 0.01, 50], vmin=[0, -0.1, -0.01, 0], \n",
    "        emax=[0.01, 0.001, 0.001, 0.5], ermax=[1,5,20,5])"
   ]
  },
  {
   "cell_type": "code",
   "execution_count": null,
   "metadata": {
    "ExecuteTime": {
     "end_time": "2019-12-09T14:33:49.904364Z",
     "start_time": "2019-12-09T14:33:47.498019Z"
    }
   },
   "outputs": [],
   "source": [
    "_=compare(ma5_1e8, mcpol_pp,same_azimuth_convention=True, azimuth=[0.0, 0.0], errb=True,\n",
    "        vmax=[1.5, 0.05, 0.001, 10], vmin=[-1., -0.05, -0.001, 0], field='down (0+)', logI=True,\n",
    "        emax=[0.5, 0.001, 0.001, 0.5], ermax=[5,5,20,5])"
   ]
  },
  {
   "cell_type": "code",
   "execution_count": null,
   "metadata": {
    "ExecuteTime": {
     "end_time": "2019-12-09T14:34:14.524283Z",
     "start_time": "2019-12-09T14:34:00.636180Z"
    }
   },
   "outputs": [],
   "source": [
    "%%time\n",
    "ma5_1e6 = Smartg(double=True, alt_pp=False).run(wl=800., atm=atm, le=le, \n",
    "                                            NBPHOTONS=1e6, OUTPUT_LAYERS=3, THVDEG=th0,\n",
    "                                           stdev=True)"
   ]
  },
  {
   "cell_type": "code",
   "execution_count": null,
   "metadata": {
    "ExecuteTime": {
     "end_time": "2019-12-09T14:34:16.665402Z",
     "start_time": "2019-12-09T14:34:14.532014Z"
    }
   },
   "outputs": [],
   "source": [
    "_=compare(ma5_1e6, mcpol_pp,same_azimuth_convention=False, azimuth=[0.0, 0.0], errb=True,\n",
    "        vmax=[1.5, 0.1, 0.01, 50], vmin=[0, -0.1, -0.01, 0], \n",
    "        emax=[0.1, 0.01, 0.01, 1], ermax=[10,10,10,10])"
   ]
  },
  {
   "cell_type": "code",
   "execution_count": null,
   "metadata": {
    "ExecuteTime": {
     "end_time": "2019-12-09T14:34:32.251527Z",
     "start_time": "2019-12-09T14:34:16.667605Z"
    }
   },
   "outputs": [],
   "source": [
    "%%time\n",
    "ma5_alt_1e6 = Smartg(double=True, alt_pp=True).run(wl=800., atm=atm, le=le,\n",
    "                                            NBPHOTONS=1e6, OUTPUT_LAYERS=3, THVDEG=th0,\n",
    "                                            stdev=True)"
   ]
  },
  {
   "cell_type": "code",
   "execution_count": null,
   "metadata": {
    "ExecuteTime": {
     "end_time": "2019-12-09T14:34:36.894280Z",
     "start_time": "2019-12-09T14:34:34.707444Z"
    }
   },
   "outputs": [],
   "source": [
    "_=compare(ma5_alt_1e6, mcpol_pp,same_azimuth_convention=False, azimuth=[0.0, 0.0], errb=True,\n",
    "        vmax=[1.5, 0.1, 0.01, 50], vmin=[0, -0.1, -0.01, 0], \n",
    "        emax=[0.1, 0.01, 0.01, 1], ermax=[10,10,10,10])"
   ]
  },
  {
   "cell_type": "markdown",
   "metadata": {},
   "source": [
    "# 3D"
   ]
  },
  {
   "cell_type": "markdown",
   "metadata": {},
   "source": [
    "## Bounding Box"
   ]
  },
  {
   "cell_type": "markdown",
   "metadata": {},
   "source": [
    "![Image of Bounding Box](https://static.packt-cdn.com/products/9781787123663/graphics/B05887_7_5.jpg)"
   ]
  },
  {
   "cell_type": "markdown",
   "metadata": {},
   "source": [
    "## Cube Mapping"
   ]
  },
  {
   "cell_type": "markdown",
   "metadata": {},
   "source": [
    "![Image of Cube Mapping](https://upload.wikimedia.org/wikipedia/commons/thumb/e/ea/Cube_map.svg/599px-Cube_map.svg.png)"
   ]
  },
  {
   "cell_type": "markdown",
   "metadata": {},
   "source": [
    "## 3D profiles from 1D profiles an Bounding Boxes Grid"
   ]
  },
  {
   "cell_type": "markdown",
   "metadata": {},
   "source": [
    "**1D profiles with \"OPT3D\" option**"
   ]
  },
  {
   "cell_type": "code",
   "execution_count": null,
   "metadata": {
    "ExecuteTime": {
     "end_time": "2019-12-18T12:02:51.815023Z",
     "start_time": "2019-12-18T12:02:50.362108Z"
    }
   },
   "outputs": [],
   "source": [
    "wl = [510.]\n",
    "wl = np.linspace(420., 500., num=21)\n",
    "znew = np.array([100.,80.,60.,40.,20.,15.,10.,9.,8.,7.,6.,5.,4.,3.,2.,1.,0.])\n",
    "NL   = len(znew)\n",
    "print('NLayer:', NL)\n",
    "COT = 5. # at 800 nm\n",
    "cld  = CloudOPAC('wc.sol', 3., 9., 10., COT, wl[0], phase=pha_cld)\n",
    "cld0 = CloudOPAC('wc.sol', 3., 1., 2., 2.,  wl[0], phase=pha_cld)\n",
    "pfwav = [wl[0]]\n",
    "pro_clr3D = AtmAFGL('afglt', grid=znew, OPT3D=True,  pfwav= pfwav).calc(wl, phase=True)\n",
    "pro_cld3D = AtmAFGL('afglt', grid=znew, comp=[cld0,cld],  OPT3D=True,  pfwav=pfwav).calc(wl, phase=True)\n",
    "pro_clr1D = AtmAFGL('afglt', grid=znew, OPT3D=False, pfwav= pfwav).calc(wl, phase=True)\n",
    "pro_cld1D = AtmAFGL('afglt', grid=znew, comp=[cld0,cld] , OPT3D=False, pfwav= pfwav).calc(wl, phase=True)\n",
    "\n",
    "pro_aer3D = AtmAFGL('afglt', grid=znew, comp=[AeroOPAC('urban', 5., 550.)],  OPT3D=True,  pfwav=pfwav).calc(wl, phase=True)\n",
    "\n",
    "# Dev Image\n",
    "pro_clr3D2= AtmAFGL('afglt', grid=znew, comp=[cld0],OPT3D=True,  O3=1000.,  \n",
    "                    pfwav= pfwav).calc(wl, phase=True)"
   ]
  },
  {
   "cell_type": "code",
   "execution_count": null,
   "metadata": {
    "ExecuteTime": {
     "end_time": "2019-12-11T13:35:44.985701Z",
     "start_time": "2019-12-11T13:35:44.869728Z"
    }
   },
   "outputs": [],
   "source": [
    "# OPT3D=True allows vertical limits of Bounding Boxes to be \n",
    "# defined\n",
    "pro_cld3D.describe()"
   ]
  },
  {
   "cell_type": "markdown",
   "metadata": {},
   "source": [
    "**3D profile from 1D profiles : Horizontal Boundaries**"
   ]
  },
  {
   "cell_type": "code",
   "execution_count": null,
   "metadata": {
    "ExecuteTime": {
     "end_time": "2019-12-18T12:56:56.827684Z",
     "start_time": "2019-12-18T12:56:56.403199Z"
    },
    "run_control": {
     "marked": false
    }
   },
   "outputs": [],
   "source": [
    "# Simplest case : just one profile\n",
    "HLONGX= 1e4\n",
    "HLONGY= 1e4\n",
    "H_boundaries = np.array([[-HLONGX, HLONGX, -HLONGY, HLONGY]])\n",
    "p3D = pro3D_from_1D([pro_clr3D], H_boundaries=H_boundaries).describe()\n",
    "p1D = pro_clr1D.describe()"
   ]
  },
  {
   "cell_type": "code",
   "execution_count": null,
   "metadata": {
    "ExecuteTime": {
     "end_time": "2019-12-11T13:35:57.202093Z",
     "start_time": "2019-12-11T13:35:56.748836Z"
    }
   },
   "outputs": [],
   "source": [
    "pcolormesh(p3D['neighbour_atm'].data, vmin=-5, vmax=None, cmap=cm.jet)\n",
    "xlabel('BBox index')\n",
    "ylabel('Face number')\n",
    "title('Neighbouring box indices per face')\n",
    "colorbar()\n",
    "# -5 : absorbing boundary\n",
    "# -2 : surface\n",
    "# -1 : TOA"
   ]
  },
  {
   "cell_type": "code",
   "execution_count": null,
   "metadata": {
    "ExecuteTime": {
     "end_time": "2019-12-11T13:40:08.273949Z",
     "start_time": "2019-12-11T13:40:06.543115Z"
    }
   },
   "outputs": [],
   "source": [
    "S3D = Smartg(opt3D=True, alt_pp=True) # 3D"
   ]
  },
  {
   "cell_type": "code",
   "execution_count": null,
   "metadata": {
    "ExecuteTime": {
     "start_time": "2019-12-11T13:37:27.451Z"
    }
   },
   "outputs": [],
   "source": [
    "le={'th_deg':np.linspace(0., 80., num=1), 'phi_deg':np.linspace(30., 210., num=1)}\n",
    "surf=None\n",
    "\n",
    "POSZ, POSX, POSY = 99.99, -0.1, -0.1 # TOA sensor\n",
    "THDEG, PHDEG = 120., 0.   # Oblique view (VZA : 180-120 = 60)\n",
    "IBOX = get_iboxes(p3D, poss=[Point(POSX, POSY, POSZ)]) # inittialize BBox id from position and 3D profile\n",
    "sensor = Sensor(POSZ=POSZ, POSX=POSX, POSY=POSY, THDEG=THDEG, PHDEG=PHDEG, LOC='ATMOS', IBOX=IBOX)\n",
    "NB=1e6\n",
    "\n",
    "m3D  = S3D.run(wl=wl,  NBPHOTONS=NB, atm=p3D, sensor=sensor, le=le, surf=surf, \n",
    "               stdev=True, NF=1e4, progress=False)"
   ]
  },
  {
   "cell_type": "code",
   "execution_count": null,
   "metadata": {
    "ExecuteTime": {
     "end_time": "2019-12-11T09:43:38.987805Z",
     "start_time": "2019-12-11T09:43:38.528237Z"
    }
   },
   "outputs": [],
   "source": [
    "m3D['I_up (TOA)'].sub()[:,0,0].plot()"
   ]
  },
  {
   "cell_type": "markdown",
   "metadata": {},
   "source": [
    "## Compilation options"
   ]
  },
  {
   "cell_type": "code",
   "execution_count": null,
   "metadata": {
    "ExecuteTime": {
     "end_time": "2019-12-09T14:37:00.130274Z",
     "start_time": "2019-12-09T14:35:16.797652Z"
    }
   },
   "outputs": [],
   "source": [
    "# Backward mode activated for 3D comparisons\n",
    "S   = Smartg(back=True, double=True, device=0) # \"Fast\" 1D PP (~ Maximum cross section or Null ?)\n",
    "S0  = Smartg(alt_pp=True, back=True, double=True) # Layers loop 1D PP\n",
    "S3D = Smartg(opt3D=True, alt_pp=True, back=True, double=True) # 3D\n",
    "Ssp = Smartg(pp=False, back=True, double=True) # Layers loop 1S Spherical\n",
    "\n",
    "# ALIS version (for clear atmospheres)\n",
    "S0A = Smartg(alt_pp=True, alis=True, back=True, double=True)\n",
    "S3DA= Smartg(opt3D=True,  alt_pp=True, alis=True, back=True, double=True)\n",
    "SspA= Smartg(pp=False,    alis=True, back=True, double=True)\n",
    "surf  = None"
   ]
  },
  {
   "cell_type": "markdown",
   "metadata": {},
   "source": [
    "### One solar direction, One pixel"
   ]
  },
  {
   "cell_type": "markdown",
   "metadata": {},
   "source": [
    "#### Local estimate"
   ]
  },
  {
   "cell_type": "code",
   "execution_count": null,
   "metadata": {
    "ExecuteTime": {
     "end_time": "2019-12-09T14:42:25.315365Z",
     "start_time": "2019-12-09T14:42:23.510076Z"
    },
    "scrolled": false
   },
   "outputs": [],
   "source": [
    "le={'th_deg':np.linspace(0., 80., num=1), 'phi_deg':np.linspace(30., 210., num=1)}\n",
    "\n",
    "POSZ, POSX, POSY = 99.99, -0.1, -0.1 # TOA sensor\n",
    "THDEG, PHDEG = 120., 0.   # Oblique view (VZA : 180-120 = 60)\n",
    "IBOX = get_iboxes(p3D, poss=[Point(POSX, POSY, POSZ)]) # inittialize BBox id from position and 3D profile\n",
    "sensor = Sensor(POSZ=POSZ, POSX=POSX, POSY=POSY, THDEG=THDEG, PHDEG=PHDEG, LOC='ATMOS', IBOX=IBOX)\n",
    "NB=1e6\n",
    "m    = S.run(  wl=wl,  NBPHOTONS=NB, atm=p1D, sensor=sensor, le=le, surf=surf, \n",
    "             stdev=True, NF=1e4, progress=False)\n",
    "m0   = S0.run( wl=wl,  NBPHOTONS=NB, atm=p1D, sensor=sensor, le=le, surf=surf, \n",
    "              stdev=True, NF=1e4, progress=False)\n",
    "m3D  = S3D.run(wl=wl,  NBPHOTONS=NB, atm=p3D, sensor=sensor, le=le, surf=surf, \n",
    "               stdev=True, NF=1e4, progress=False)\n",
    "\n",
    "m0A =   S0A.run(wl=wl,  NBPHOTONS=NB, atm=p1D, sensor=sensor, le=le, surf=surf, \n",
    "              alis_options={'nlow':-1}, stdev=True, NF=1e4, progress=False)\n",
    "m3DA = S3DA.run(wl=wl,  NBPHOTONS=NB, atm=p3D, sensor=sensor, le=le, surf=surf, \n",
    "              alis_options={'nlow':-1}, stdev=True, NF=1e4, progress=False)\n",
    "\n",
    "RTER   = 6370.\n",
    "sensor = Sensor(POSZ=POSZ+RTER, POSX=POSX, POSY=POSY, THDEG=THDEG, PHDEG=PHDEG, LOC='ATMOS', IBOX=IBOX)\n",
    "msp    = Ssp.run(wl=wl,   NBPHOTONS=NB, atm=p1D, sensor=sensor, le=le, surf=surf, \n",
    "                 stdev=True, NF=1e4, RTER=RTER, progress=False)\n",
    "mspA   = SspA.run(wl=wl,  NBPHOTONS=NB, atm=p1D, sensor=sensor, le=le, surf=surf, \n",
    "                 RTER=RTER, alis_options={'nlow':-1}, stdev=True, NF=1e4, progress=False)\n",
    "\n",
    "print ('No ALIS, NB: %.0e'%NB)\n",
    "for version, result in zip(['fast_1D_PP','1D_PP','1D_SP', '3D_PP'], [m,m0,msp,m3D]):\n",
    "    print(\"{0:10s} I: {1:10.3e}+-{4:9.3e},Q: {2:10.3e}+-{5:9.3e},U: {3:10.3e}+-{6:9.3e}, k. time (s): {7:.3f}\"\\\n",
    "                          .format(version, float(result['I_up (TOA)'].data[0]), \n",
    "                                  float(result['Q_up (TOA)'].data[0]), \n",
    "                                  float(result['U_up (TOA)'].data[0]),\n",
    "                                  float(result['I_stdev_up (TOA)'].data[0]), \n",
    "                                  float(result['Q_stdev_up (TOA)'].data[0]), \n",
    "                                  float(result['U_stdev_up (TOA)'].data[0]),\n",
    "                                  float(result.attrs['kernel time (s)'])))\n",
    "print('=====')\n",
    "print ('ALIS, NB: %.0e'%NB)\n",
    "for version, result in zip(['1D_PP','1D_SP', '3D_PP'], [m0A,mspA,m3DA]):\n",
    "    print(\"{0:10s} I: {1:10.3e}+-{4:9.3e},Q: {2:10.3e}+-{5:9.3e},U: {3:10.3e}+-{6:9.3e}, k. time (s): {7:.3f}\"\\\n",
    "                          .format(version, float(result['I_up (TOA)'].data[0]), \n",
    "                                  float(result['Q_up (TOA)'].data[0]), \n",
    "                                  float(result['U_up (TOA)'].data[0]),\n",
    "                                  float(result['I_stdev_up (TOA)'].data[0]), \n",
    "                                  float(result['Q_stdev_up (TOA)'].data[0]), \n",
    "                                  float(result['U_stdev_up (TOA)'].data[0]),\n",
    "                                  float(result.attrs['kernel time (s)'])))\n",
    "print ('-----------------------')\n"
   ]
  },
  {
   "cell_type": "markdown",
   "metadata": {},
   "source": [
    "#### Cone sampling"
   ]
  },
  {
   "cell_type": "code",
   "execution_count": null,
   "metadata": {
    "ExecuteTime": {
     "end_time": "2019-10-08T11:45:45.169910Z",
     "start_time": "2019-10-08T11:45:38.789378Z"
    },
    "scrolled": false
   },
   "outputs": [],
   "source": [
    "le=None\n",
    "\n",
    "POSZ, POSX, POSY = 99.99, -0.1, -0.1 # TOA sensor\n",
    "THDEG, PHDEG = 120., 0.   # Oblique view (VZA : 180-120 = 60)\n",
    "IBOX = get_iboxes(p3D, poss=[Point(POSX, POSY, POSZ)]) # inittialize BBox id from position and 3D profile\n",
    "sensor = Sensor(POSZ=POSZ, POSX=POSX, POSY=POSY, THDEG=THDEG, PHDEG=PHDEG, LOC='ATMOS', IBOX=IBOX)\n",
    "NB=1e7\n",
    "m    = S.run(  wl=wl,  NBPHOTONS=NB, atm=p1D, sensor=sensor, le=le, surf=surf, \n",
    "             stdev=True, NF=1e4, progress=False)\n",
    "m0   = S0.run( wl=wl,  NBPHOTONS=NB, atm=p1D, sensor=sensor, le=le, surf=surf, \n",
    "              stdev=True, NF=1e4, progress=False)\n",
    "m3D  = S3D.run(wl=wl,  NBPHOTONS=NB, atm=p3D, sensor=sensor, le=le, surf=surf, \n",
    "               stdev=True, NF=1e4, progress=False)\n",
    "\n",
    "m0A =   S0A.run(wl=wl,  NBPHOTONS=NB, atm=p1D, sensor=sensor, le=le, surf=surf, \n",
    "               alis_options={'nlow':-1}, stdev=True, NF=1e4, progress=False)\n",
    "m3DA = S3DA.run(wl=wl,  NBPHOTONS=NB, atm=p3D, sensor=sensor, le=le, surf=surf, \n",
    "               alis_options={'nlow':-1}, stdev=True, NF=1e4, progress=False)\n",
    "\n",
    "RTER   = 6370.\n",
    "sensor = Sensor(POSZ=POSZ+RTER, POSX=POSX, POSY=POSY, THDEG=THDEG, PHDEG=PHDEG, LOC='ATMOS', IBOX=IBOX)\n",
    "msp    = Ssp.run(wl=wl,   NBPHOTONS=NB, atm=p1D, sensor=sensor, le=le, surf=surf, \n",
    "                 stdev=True, NF=1e4, RTER=RTER, progress=False)\n",
    "mspA   = SspA.run(wl=wl,  NBPHOTONS=NB, atm=p1D, sensor=sensor, le=le, surf=surf, \n",
    "                  RTER=RTER,\n",
    "               alis_options={'nlow':-1}, stdev=True, NF=1e4, progress=False)\n",
    "\n",
    "print ('No ALIS, NB: %.0e'%NB)\n",
    "for version, result in zip(['fast_1D_PP','1D_PP','1D_SP', '3D_PP'], [m,m0,msp,m3D]):\n",
    "    result=result.sub({'Azimuth angles':0, 'Zenith angles':0})\n",
    "    print(\"{0:10s} I: {1:10.3e}+-{4:9.3e},Q: {2:10.3e}+-{5:9.3e},U: {3:10.3e}+-{6:9.3e}, k. time (s): {7:.3f}\"\\\n",
    "                          .format(version, float(result['I_up (TOA)'].data[0]), \n",
    "                                  float(result['Q_up (TOA)'].data[0]), \n",
    "                                  float(result['U_up (TOA)'].data[0]),\n",
    "                                  float(result['I_stdev_up (TOA)'].data[0]), \n",
    "                                  float(result['Q_stdev_up (TOA)'].data[0]), \n",
    "                                  float(result['U_stdev_up (TOA)'].data[0]),\n",
    "                                  float(result.attrs['kernel time (s)'])))\n",
    "print('=====')\n",
    "print ('ALIS, NB: %.0e'%NB)\n",
    "for version, result in zip(['1D_PP','1D_SP', '3D_PP'], [m0A,mspA,m3DA]):\n",
    "    result=result.sub({'Azimuth angles':0, 'Zenith angles':0})\n",
    "    print(\"{0:10s} I: {1:10.3e}+-{4:9.3e},Q: {2:10.3e}+-{5:9.3e},U: {3:10.3e}+-{6:9.3e}, k. time (s): {7:.3f}\"\\\n",
    "                          .format(version, float(result['I_up (TOA)'].data[0]), \n",
    "                                  float(result['Q_up (TOA)'].data[0]), \n",
    "                                  float(result['U_up (TOA)'].data[0]),\n",
    "                                  float(result['I_stdev_up (TOA)'].data[0]), \n",
    "                                  float(result['Q_stdev_up (TOA)'].data[0]), \n",
    "                                  float(result['U_stdev_up (TOA)'].data[0]),\n",
    "                                  float(result.attrs['kernel time (s)'])))\n",
    "print ('-----------------------')\n"
   ]
  },
  {
   "cell_type": "markdown",
   "metadata": {},
   "source": [
    "### Several direction, One pixel"
   ]
  },
  {
   "cell_type": "code",
   "execution_count": null,
   "metadata": {
    "ExecuteTime": {
     "end_time": "2019-12-09T14:43:59.259070Z",
     "start_time": "2019-12-09T14:43:46.950513Z"
    },
    "scrolled": false
   },
   "outputs": [],
   "source": [
    "le={'th_deg':np.linspace(0., 80., num=6), 'phi_deg':np.linspace(30., 210., num=2)}\n",
    "NB=1e6\n",
    "POSZ, POSX, POSY  = 99.99, -0.1, -0.1\n",
    "THDEG, PHDEG = 120., 0.\n",
    "IBOX = get_iboxes(p3D, poss=[Point(POSX, POSY, POSZ)])\n",
    "sensor = Sensor(POSZ=POSZ, POSX=POSX, POSY=POSY, THDEG=THDEG, PHDEG=PHDEG, LOC='ATMOS', IBOX=IBOX)\n",
    "m    = S.run(  wl=wl,  NBPHOTONS=NB, atm=p1D, sensor=sensor, le=le, surf=surf, stdev=True, NF=1e4)\n",
    "m0   = S0.run( wl=wl,  NBPHOTONS=NB, atm=p1D, sensor=sensor, le=le, surf=surf, stdev=True, NF=1e4)\n",
    "m3D  = S3D.run(wl=wl,  NBPHOTONS=NB, atm=p3D, sensor=sensor, le=le, surf=surf, stdev=True, NF=1e4)\n",
    "\n",
    "m0A =   S0A.run(wl=wl,  NBPHOTONS=NB, atm=p1D, sensor=sensor, le=le, surf=surf, \n",
    "               alis_options={'nlow':-1}, stdev=True, NF=1e4)\n",
    "m3DA = S3DA.run(wl=wl,  NBPHOTONS=NB, atm=p3D, sensor=sensor, le=le, surf=surf, \n",
    "               alis_options={'nlow':-1}, stdev=True, NF=1e4)\n",
    "\n",
    "RTER   = 6370.\n",
    "sensor = Sensor(POSZ=POSZ+RTER, POSX=POSX, POSY=POSY, THDEG=THDEG, PHDEG=PHDEG, LOC='ATMOS', IBOX=IBOX)\n",
    "msp    = Ssp.run(wl=wl,   NBPHOTONS=NB, atm=p1D, sensor=sensor, le=le, surf=surf, stdev=True, NF=1e4, RTER=RTER)\n",
    "mspA   = SspA.run(wl=wl,  NBPHOTONS=NB, atm=p1D, sensor=sensor, le=le, surf=surf, RTER=RTER,\n",
    "               alis_options={'nlow':-1}, stdev=True, NF=1e4)"
   ]
  },
  {
   "cell_type": "code",
   "execution_count": null,
   "metadata": {
    "ExecuteTime": {
     "end_time": "2019-12-09T14:44:03.746547Z",
     "start_time": "2019-12-09T14:44:02.610577Z"
    },
    "run_control": {
     "marked": false
    },
    "scrolled": false
   },
   "outputs": [],
   "source": [
    "QU=True\n",
    "f=transect_view(m3D.sub({'wavelength':0}), ind=Idx([30]), color='r', fmt='--', QU=QU)\n",
    "_=transect_view(msp.sub({'wavelength':0}), ind=Idx([30]), fig=f,    color='b', fmt=':', QU=QU)\n",
    "_=transect_view(m0.sub({'wavelength':0}),  ind=Idx([30]), fig=f,    color='k', fmt='x', QU=QU)\n",
    "_=transect_view(m.sub({'wavelength':0}),   ind=Idx([30]), vmin=None, vmax=None, fig=f, color='k', fmt='.', QU=QU)"
   ]
  },
  {
   "cell_type": "code",
   "execution_count": null,
   "metadata": {
    "ExecuteTime": {
     "end_time": "2019-12-09T14:44:08.434542Z",
     "start_time": "2019-12-09T14:44:07.479884Z"
    },
    "run_control": {
     "marked": false
    },
    "scrolled": false
   },
   "outputs": [],
   "source": [
    "QU=True\n",
    "f=transect_view(m3DA.sub({'wavelength':0}), ind=Idx([30]), color='r', fmt='--', QU=QU)\n",
    "_=transect_view(mspA.sub({'wavelength':0}), ind=Idx([30]), fig=f,    color='b', fmt=':', QU=QU)\n",
    "_=transect_view(m0A.sub({'wavelength':0}),  ind=Idx([30]), fig=f,    color='k', fmt='x', QU=QU)"
   ]
  },
  {
   "cell_type": "code",
   "execution_count": null,
   "metadata": {
    "ExecuteTime": {
     "end_time": "2019-12-09T14:44:12.857340Z",
     "start_time": "2019-12-09T14:44:12.297020Z"
    },
    "run_control": {
     "marked": true
    }
   },
   "outputs": [],
   "source": [
    "f=figure()\n",
    "f.set_size_inches(12,3)\n",
    "for k,(col,th) in enumerate(zip(['r','g','b','k','m','y'], np.rad2deg(le['th']))):\n",
    "    I=m3DA['I_up (TOA)'].sub()[:,0,k]\n",
    "    Q=m3DA['Q_up (TOA)'].sub()[:,0,k]\n",
    "    U=m3DA['U_up (TOA)'].sub()[:,0,k]\n",
    "\n",
    "    LP = (Q*Q + U*U).apply(sqrt, mdesc('LP_up (TOA)'))\n",
    "    P = (LP/I*100).apply(abs,'DoLP')\n",
    "    LP.plot(fmt='-'+col,vmin=0, label='3D '+'%.1f'%th)\n",
    "    \n",
    "for k,(col,th) in enumerate(zip(['r','g','b','k','m','y'], np.rad2deg(le['th']))):\n",
    "    I=m0A['I_up (TOA)'].sub()[:,0,k]\n",
    "    Q=m0A['Q_up (TOA)'].sub()[:,0,k]\n",
    "    U=m0A['U_up (TOA)'].sub()[:,0,k]\n",
    "\n",
    "    LP = (Q*Q + U*U).apply(sqrt, mdesc('LP_up (TOA)'))\n",
    "    P = (LP/I*100).apply(abs,'DoLP')\n",
    "    LP.plot(fmt='s'+col,vmin=0.0, vmax=0.25, label='1D')\n",
    "\n",
    "legend(loc=3, ncol=4)"
   ]
  },
  {
   "cell_type": "code",
   "execution_count": null,
   "metadata": {
    "ExecuteTime": {
     "end_time": "2019-12-09T14:56:07.959668Z",
     "start_time": "2019-12-09T14:56:07.582744Z"
    }
   },
   "outputs": [],
   "source": [
    "ith=-1\n",
    "norm=m3DA['N_up (TOA)'][0,0,ith]\n",
    "plot(m3DA['cdist_up (TOA)'][:,0,ith]/norm, m3DA.axis('z_atm')[:-1],'-+', label='3D')\n",
    "norm=m0A ['N_up (TOA)'][0,0,ith]\n",
    "plot(m0A ['cdist_up (TOA)'][:,0,ith]/norm, m3DA.axis('z_atm')[0:-1],':', label='1D')\n",
    "norm=mspA['N_up (TOA)'][0,0,ith]\n",
    "plot(mspA['cdist_up (TOA)'][:,0,ith]/norm, m3DA.axis('z_atm')[0:-1],'--', label='1D sph.')\n",
    "xlabel('Mean Distance in layer (km)')\n",
    "ylabel('z (km)')\n",
    "ylim([0,100])\n",
    "legend()"
   ]
  },
  {
   "cell_type": "code",
   "execution_count": null,
   "metadata": {
    "ExecuteTime": {
     "end_time": "2019-12-09T14:44:49.973710Z",
     "start_time": "2019-12-09T14:44:49.529672Z"
    }
   },
   "outputs": [],
   "source": [
    "m3D.attrs['kernel time (s)'], m0.attrs['kernel time (s)'] , m.attrs['kernel time (s)'], msp.attrs['kernel time (s)']"
   ]
  },
  {
   "cell_type": "code",
   "execution_count": null,
   "metadata": {
    "ExecuteTime": {
     "end_time": "2019-12-09T14:45:33.710727Z",
     "start_time": "2019-12-09T14:45:33.618309Z"
    }
   },
   "outputs": [],
   "source": [
    "m3DA.attrs['kernel time (s)'], m0A.attrs['kernel time (s)'] , mspA.attrs['kernel time (s)']"
   ]
  },
  {
   "cell_type": "markdown",
   "metadata": {},
   "source": [
    "## 3D vs 1D, two clear profile"
   ]
  },
  {
   "cell_type": "code",
   "execution_count": null,
   "metadata": {
    "ExecuteTime": {
     "end_time": "2019-12-10T10:40:57.674847Z",
     "start_time": "2019-12-10T10:40:57.156107Z"
    },
    "run_control": {
     "marked": false
    }
   },
   "outputs": [],
   "source": [
    "HLONGX= 1e4\n",
    "HLONGY= 1e4\n",
    "H_boundaries = np.array([[-HLONGX, 0., -HLONGY, HLONGY], [0., HLONGX, -HLONGY, HLONGY]])\n",
    "p3D = pro3D_from_1D([pro_clr3D, pro_clr3D],\n",
    "                   H_boundaries=H_boundaries).describe()"
   ]
  },
  {
   "cell_type": "code",
   "execution_count": null,
   "metadata": {
    "ExecuteTime": {
     "end_time": "2019-12-09T16:02:46.618841Z",
     "start_time": "2019-12-09T16:02:46.575132Z"
    }
   },
   "outputs": [],
   "source": [
    "p3D['i_atm'][:]"
   ]
  },
  {
   "cell_type": "code",
   "execution_count": null,
   "metadata": {
    "ExecuteTime": {
     "end_time": "2019-12-09T14:45:52.911007Z",
     "start_time": "2019-12-09T14:45:52.554159Z"
    }
   },
   "outputs": [],
   "source": [
    "pcolormesh(p3D['neighbour_atm'].data, vmin=-5, vmax=None, cmap=cm.jet)\n",
    "colorbar()\n",
    "p3D.axis('z_atm')"
   ]
  },
  {
   "cell_type": "code",
   "execution_count": null,
   "metadata": {
    "ExecuteTime": {
     "end_time": "2019-12-09T14:48:16.585535Z",
     "start_time": "2019-12-09T14:48:11.251630Z"
    },
    "scrolled": false
   },
   "outputs": [],
   "source": [
    "POSZ, POSX, POSY = 99.99, -0.1, -0.1\n",
    "THDEG, PHDEG = 120., 0.\n",
    "IBOX = get_iboxes(p3D, poss=[Point(POSX, POSY, POSZ)])\n",
    "sensor = Sensor(POSZ=POSZ, POSX=POSX, POSY=POSY, THDEG=THDEG, PHDEG=PHDEG, LOC='ATMOS', IBOX=IBOX)\n",
    "\n",
    "NB=1e6\n",
    "m3D  = S3D.run(wl=wl,  NBPHOTONS=NB, atm=p3D, sensor=sensor, le=le, surf=surf, stdev=True, NF=1e4)\n",
    "\n",
    "NB=1e6\n",
    "m3DA = S3DA.run(wl=wl,  NBPHOTONS=NB, atm=p3D, sensor=sensor, le=le, surf=surf, NF=1e4,\n",
    "               alis_options={'nlow':-1}, stdev=True)"
   ]
  },
  {
   "cell_type": "code",
   "execution_count": null,
   "metadata": {
    "ExecuteTime": {
     "end_time": "2019-12-09T14:48:19.826504Z",
     "start_time": "2019-12-09T14:48:18.528983Z"
    },
    "run_control": {
     "marked": false
    },
    "scrolled": false
   },
   "outputs": [],
   "source": [
    "QU=True\n",
    "f=transect_view(m3DA.sub({'wavelength':0}), ind=Idx([30]), color='r', fmt='--', QU=QU)\n",
    "_=transect_view(mspA.sub({'wavelength':0}), ind=Idx([30]), fig=f,    color='b', fmt=':', QU=QU)\n",
    "_=transect_view(m0A.sub({'wavelength':0}),  ind=Idx([30]), fig=f,    color='k', fmt='x', QU=QU)"
   ]
  },
  {
   "cell_type": "code",
   "execution_count": null,
   "metadata": {
    "ExecuteTime": {
     "end_time": "2019-12-09T14:48:23.063314Z",
     "start_time": "2019-12-09T14:48:22.233951Z"
    },
    "run_control": {
     "marked": false
    }
   },
   "outputs": [],
   "source": [
    "f=figure()\n",
    "f.set_size_inches(12,3)\n",
    "for k,(col,th) in enumerate(zip(['r','g','b','k','m','y'], np.rad2deg(le['th']))):\n",
    "    I=m3DA['I_up (TOA)'].sub()[:,0,k]\n",
    "    Q=m3DA['Q_up (TOA)'].sub()[:,0,k]\n",
    "    U=m3DA['U_up (TOA)'].sub()[:,0,k]\n",
    "\n",
    "    LP = (Q*Q + U*U).apply(sqrt, mdesc('LP_up (TOA)'))\n",
    "    P = (LP/I*100).apply(abs,'DoLP')\n",
    "    LP.plot(fmt='-'+col,vmin=0, label='3D '+'%.1f'%th)\n",
    "    \n",
    "for k,(col,th) in enumerate(zip(['r','g','b','k','m','y'], np.rad2deg(le['th']))):\n",
    "    I=m0A['I_up (TOA)'].sub()[:,0,k]\n",
    "    Q=m0A['Q_up (TOA)'].sub()[:,0,k]\n",
    "    U=m0A['U_up (TOA)'].sub()[:,0,k]\n",
    "\n",
    "    LP = (Q*Q + U*U).apply(sqrt, mdesc('LP_up (TOA)'))\n",
    "    P = (LP/I*100).apply(abs,'DoLP')\n",
    "    LP.plot(fmt='s'+col,vmin=0, vmax=0.25, label='1D')\n",
    "\n",
    "legend(loc=3, ncol=4)"
   ]
  },
  {
   "cell_type": "code",
   "execution_count": null,
   "metadata": {
    "ExecuteTime": {
     "end_time": "2019-12-09T14:48:27.790022Z",
     "start_time": "2019-12-09T14:48:27.368558Z"
    }
   },
   "outputs": [],
   "source": [
    "ith=-1\n",
    "norm=m3DA['N_up (TOA)'][0,0,ith]\n",
    "plot(m3DA['cdist_up (TOA)'][:,0,ith]/norm, m3DA.axis('z_atm')[0:-1],'.b', label='3D')\n",
    "plot((m3DA['cdist_up (TOA)'][1:NL,0,ith]+m3DA['cdist_up (TOA)'][NL:,0,ith])/norm, \n",
    "         m0A.axis('z_atm')[0:-1],'-b', label='3D (total)')\n",
    "norm=m0A ['N_up (TOA)'][0,0,ith]\n",
    "plot(m0A ['cdist_up (TOA)'][:,0,ith]/norm, m0A.axis('z_atm')[0:-1],':', label='1D')\n",
    "xlabel('Mean Distance in layer (km)')\n",
    "ylabel('z (km)')\n",
    "ylim([0,100])\n",
    "legend()"
   ]
  },
  {
   "cell_type": "code",
   "execution_count": null,
   "metadata": {
    "ExecuteTime": {
     "end_time": "2019-12-09T14:48:35.214047Z",
     "start_time": "2019-12-09T14:48:35.121568Z"
    }
   },
   "outputs": [],
   "source": [
    "m3D.attrs['kernel time (s)'], m0.attrs['kernel time (s)'] , m.attrs['kernel time (s)'], msp.attrs['kernel time (s)']"
   ]
  },
  {
   "cell_type": "code",
   "execution_count": null,
   "metadata": {
    "ExecuteTime": {
     "end_time": "2019-12-09T14:48:36.747342Z",
     "start_time": "2019-12-09T14:48:36.648297Z"
    }
   },
   "outputs": [],
   "source": [
    "m3DA.attrs['kernel time (s)'], m0A.attrs['kernel time (s)'] , mspA.attrs['kernel time (s)']"
   ]
  },
  {
   "cell_type": "markdown",
   "metadata": {},
   "source": [
    "## 3D vs 1D, NxM clear profiles"
   ]
  },
  {
   "cell_type": "code",
   "execution_count": null,
   "metadata": {
    "ExecuteTime": {
     "end_time": "2019-12-09T14:48:49.192459Z",
     "start_time": "2019-12-09T14:48:49.047740Z"
    },
    "run_control": {
     "marked": false
    }
   },
   "outputs": [],
   "source": [
    "HLONGX = 1e4\n",
    "HLONGY = 1e4\n",
    "HX     = 3.\n",
    "HY     = 3.\n",
    "N  = 1\n",
    "M  = 1\n",
    "DX = 2*HX/N\n",
    "DY = 2*HY/M\n",
    "x  = np.zeros((N+2))\n",
    "y  = np.zeros((M+2))\n",
    "DXbound = (HLONGX-HX)\n",
    "DYbound = (HLONGY-HY)\n",
    "x[0]    = -HLONGX + DXbound/2\n",
    "x[-1]   =  HLONGX - DXbound/2.\n",
    "x[1:-1] =  np.linspace(-HX + DX/2., HX - DX/2., num=N)\n",
    "y[0]    = -HLONGY + DYbound/2\n",
    "y[-1]   =  HLONGY - DYbound/2.\n",
    "y[1:-1] =  np.linspace(-HY + DY/2., HY - DY/2., num=M)\n",
    "X0, Y0  =  np.meshgrid(x,y)\n",
    "Lx=[DXbound]\n",
    "Lx.extend([DX]*N)\n",
    "Lx.extend([DXbound])\n",
    "Ly=[DYbound]\n",
    "Ly.extend([DY]*M)\n",
    "Ly.extend([DYbound])\n",
    "DX0, DY0=  np.meshgrid(Lx,Ly)\n",
    "H = []\n",
    "for xi,yi,dxi,dyi in zip(X0.ravel(),Y0.ravel(),DX0.ravel(),DY0.ravel()):\n",
    "    H.append(list((xi-dxi/2, xi+dxi/2, yi-dyi/2, yi+dyi/2)))\n",
    "H_boundaries = np.array(H).reshape(((N+2)*(M+2),4))\n",
    "\n",
    "plist=[pro_clr3D]*4\n",
    "plist.extend([pro_cld3D])\n",
    "plist.extend([pro_clr3D]*4)\n",
    "p3D_NxM = pro3D_from_1D(plist, H_boundaries=H_boundaries).describe()"
   ]
  },
  {
   "cell_type": "code",
   "execution_count": null,
   "metadata": {
    "ExecuteTime": {
     "end_time": "2019-12-09T14:48:52.215924Z",
     "start_time": "2019-12-09T14:48:51.639561Z"
    }
   },
   "outputs": [],
   "source": [
    "pcolormesh(p3D_NxM['neighbour_atm'].data, vmin=0, vmax=None, cmap=cm.jet)\n",
    "colorbar()"
   ]
  },
  {
   "cell_type": "code",
   "execution_count": null,
   "metadata": {
    "ExecuteTime": {
     "end_time": "2019-12-09T14:49:10.157289Z",
     "start_time": "2019-12-09T14:48:59.134671Z"
    },
    "scrolled": false
   },
   "outputs": [],
   "source": [
    "POSZ, POSX, POSY = 99.99, 0., 0.\n",
    "THDEG, PHDEG = 120., 0.\n",
    "IBOX = get_iboxes(p3D_NxM, poss=[Point(POSX, POSY, POSZ)])\n",
    "sensor = Sensor(POSZ=POSZ, POSX=POSX, POSY=POSY, THDEG=THDEG, PHDEG=PHDEG, LOC='ATMOS', IBOX=IBOX)\n",
    "\n",
    "NB=1e6\n",
    "m3D_NxM  = S3D.run(wl=wl, NF=1e3, NBPHOTONS=NB, atm=p3D_NxM, sensor=sensor, le=le, surf=surf, stdev=True)\n",
    "\n",
    "NB=1e6\n",
    "m3DA_NxM = S3DA.run(wl=wl, NF=1e3, NBPHOTONS=NB, atm=p3D_NxM, sensor=sensor, le=le, surf=surf, \n",
    "               alis_options={'nlow':-1}, stdev=True)"
   ]
  },
  {
   "cell_type": "code",
   "execution_count": null,
   "metadata": {
    "ExecuteTime": {
     "end_time": "2019-12-09T14:49:13.468699Z",
     "start_time": "2019-12-09T14:49:12.533678Z"
    },
    "run_control": {
     "marked": false
    },
    "scrolled": false
   },
   "outputs": [],
   "source": [
    "QU=True\n",
    "f=transect_view(m3D_NxM.sub({'wavelength':0}), ind=Idx([30]), color='r', fmt='--', QU=QU)\n",
    "_=transect_view(msp.sub({'wavelength':0}), ind=Idx([30]), fig=f,    color='b', fmt=':', QU=QU)\n",
    "_=transect_view(m0.sub({'wavelength':0}),  ind=Idx([30]), fig=f,    color='k', fmt='x', QU=QU)\n",
    "_=transect_view(m.sub({'wavelength':0}),   ind=Idx([30]), vmin=None, vmax=None, fig=f, color='k', fmt='.', QU=QU)"
   ]
  },
  {
   "cell_type": "code",
   "execution_count": null,
   "metadata": {
    "ExecuteTime": {
     "end_time": "2019-12-09T14:49:17.490292Z",
     "start_time": "2019-12-09T14:49:16.428423Z"
    },
    "run_control": {
     "marked": false
    },
    "scrolled": false
   },
   "outputs": [],
   "source": [
    "QU=True\n",
    "f=transect_view(m3DA_NxM.sub({'wavelength':0}), ind=Idx([30]), color='r', fmt='--', QU=QU)\n",
    "_=transect_view(mspA.sub({'wavelength':0}), ind=Idx([30]), fig=f,    color='b', fmt=':', QU=QU)\n",
    "_=transect_view(m0A.sub({'wavelength':0}),  ind=Idx([30]), fig=f,    color='k', fmt='x', QU=QU)"
   ]
  },
  {
   "cell_type": "code",
   "execution_count": null,
   "metadata": {
    "ExecuteTime": {
     "end_time": "2019-12-09T14:49:21.410050Z",
     "start_time": "2019-12-09T14:49:20.366459Z"
    },
    "run_control": {
     "marked": false
    }
   },
   "outputs": [],
   "source": [
    "f=figure()\n",
    "f.set_size_inches(12,3)\n",
    "for k,(col,th) in enumerate(zip(['r','g','b','k','m','y'], np.rad2deg(le['th']))):\n",
    "    I=m3DA_NxM['I_up (TOA)'].sub()[:,0,k]\n",
    "    Q=m3DA_NxM['Q_up (TOA)'].sub()[:,0,k]\n",
    "    U=m3DA_NxM['U_up (TOA)'].sub()[:,0,k]\n",
    "\n",
    "    LP = (Q*Q + U*U).apply(sqrt, mdesc('LP_up (TOA)'))\n",
    "    P = (LP/I*100).apply(abs,'DoLP')\n",
    "    LP.plot(fmt='-'+col,vmin=0, label='3D '+'%.1f'%th)\n",
    "    \n",
    "for k,(col,th) in enumerate(zip(['r','g','b','k','m','y'], np.rad2deg(le['th']))):\n",
    "    I=m0A['I_up (TOA)'].sub()[:,0,k]\n",
    "    Q=m0A['Q_up (TOA)'].sub()[:,0,k]\n",
    "    U=m0A['U_up (TOA)'].sub()[:,0,k]\n",
    "\n",
    "    LP = (Q*Q + U*U).apply(sqrt, mdesc('LP_up (TOA)'))\n",
    "    P = (LP/I*100).apply(abs,'DoLP')\n",
    "    LP.plot(fmt='s'+col,vmin=0, vmax=0.25, label='1D')\n",
    "\n",
    "legend(loc=3, ncol=4)"
   ]
  },
  {
   "cell_type": "code",
   "execution_count": null,
   "metadata": {
    "ExecuteTime": {
     "end_time": "2019-12-09T15:07:56.483573Z",
     "start_time": "2019-12-09T15:07:55.741490Z"
    }
   },
   "outputs": [],
   "source": [
    "ith=-1\n",
    "norm=m3DA_NxM['N_up (TOA)'][0,0,ith]\n",
    "plot(m3DA_NxM['cdist_up (TOA)'][1:,0,ith]/norm, m3DA_NxM.axis('z_atm')[1:-1],'.b', label='3D')\n",
    "norm=m0A ['N_up (TOA)'][0,0,ith]\n",
    "plot(m0A ['cdist_up (TOA)'][:,0,ith]/norm, m0A.axis('z_atm')[:-1],':', label='1D')\n",
    "xlabel('Mean Distance in cell (km)')\n",
    "ylabel('z (km)')\n",
    "ylim([0,100])\n",
    "xlim(0,300)\n",
    "legend()"
   ]
  },
  {
   "cell_type": "code",
   "execution_count": null,
   "metadata": {
    "ExecuteTime": {
     "end_time": "2019-12-09T15:14:28.151292Z",
     "start_time": "2019-12-09T15:14:27.521841Z"
    }
   },
   "outputs": [],
   "source": [
    "norm=m3DA_NxM ['N_up (TOA)'][0,0,0]\n",
    "dz = abs(np.diff(m3DA_NxM.axis('z_atm')))\n",
    "plot(m3DA_NxM['cdist_up (TOA)'][:,0,0]/norm/dz, m3DA_NxM.axis('z_atm')[:-1], '.b', label='3D')\n",
    "norm=m0A ['N_up (TOA)'][0,0,0]\n",
    "dz = abs(np.diff(m0A.axis('z_atm')))\n",
    "plot(m0A['cdist_up (TOA)'][:,0,0]/norm/dz, m0A.axis('z_atm')[:-1], ':', label='1D')\n",
    "xlabel('Mean Air mass factor in cell')\n",
    "ylabel('z (km)')\n",
    "ylim([0,100])\n",
    "xlim(0,50)\n",
    "legend()"
   ]
  },
  {
   "cell_type": "code",
   "execution_count": null,
   "metadata": {
    "ExecuteTime": {
     "end_time": "2019-12-09T15:14:49.323283Z",
     "start_time": "2019-12-09T15:14:49.260849Z"
    }
   },
   "outputs": [],
   "source": [
    "m3D_NxM.attrs['kernel time (s)'], m0.attrs['kernel time (s)'] , m.attrs['kernel time (s)'], msp.attrs['kernel time (s)']"
   ]
  },
  {
   "cell_type": "code",
   "execution_count": null,
   "metadata": {
    "ExecuteTime": {
     "end_time": "2019-12-09T15:14:50.418019Z",
     "start_time": "2019-12-09T15:14:50.370269Z"
    }
   },
   "outputs": [],
   "source": [
    "m3DA_NxM.attrs['kernel time (s)'], m0A.attrs['kernel time (s)'] , mspA.attrs['kernel time (s)']"
   ]
  },
  {
   "cell_type": "markdown",
   "metadata": {
    "ExecuteTime": {
     "end_time": "2019-02-13T12:40:48.396602Z",
     "start_time": "2019-02-13T12:40:47.869896Z"
    }
   },
   "source": [
    "# Advanced: IPRT Case Cube Cloud"
   ]
  },
  {
   "cell_type": "code",
   "execution_count": null,
   "metadata": {
    "ExecuteTime": {
     "end_time": "2019-12-09T15:14:57.003166Z",
     "start_time": "2019-12-09T15:14:56.367499Z"
    }
   },
   "outputs": [],
   "source": [
    "#S3DA = Smartg(opt3D=True, alt_pp=True, back=True, double=True, alis=True)\n",
    "S3D  = Smartg(opt3D=True, alt_pp=True, back=True, double=True, alis=False)"
   ]
  },
  {
   "cell_type": "code",
   "execution_count": null,
   "metadata": {
    "ExecuteTime": {
     "end_time": "2019-12-09T15:14:59.054396Z",
     "start_time": "2019-12-09T15:14:58.947611Z"
    }
   },
   "outputs": [],
   "source": [
    "# Cloud Phase matrix\n",
    "cld_phase = read_mlut('/home/did/RTC/SMART-G/smartg/validation/watercloud_IPRT_A5.mie.nc')\n",
    "ntheta = cld_phase['ntheta'][0,0,0]\n",
    "wl     = cld_phase['wavelen'].data*1e3\n",
    "wl=[350.]\n",
    "l=[]\n",
    "l.append(cld_phase['phase'][:,:,0,:ntheta].ravel() + cld_phase['phase'][:,:,1,:ntheta].ravel())\n",
    "l.append(cld_phase['phase'][:,:,0,:ntheta].ravel() - cld_phase['phase'][:,:,1,:ntheta].ravel())\n",
    "l.append(cld_phase['phase'][:,:,2,:ntheta].ravel())\n",
    "l.append(cld_phase['phase'][:,:,3,:ntheta].ravel())\n",
    "# Normalization to 2\n",
    "p=cld_phase['phase'][:,:,0,:ntheta].ravel()\n",
    "theta=cld_phase['theta'][:,:,0,:ntheta].ravel()[::-1]\n",
    "mu= np.cos(np.radians(theta))\n",
    "Norm = np.trapz(p,-mu)\n",
    "data = np.array(l) \n",
    "print ('phase function norm: ', Norm)\n",
    "#data = np.array(l) * (2./Norm)\n",
    "# 2) store data in a LUT object with 4 dimensions, the z dimension is restricted to one level of altitude 0\n",
    "pha_cld = LUT(data[None, None, :, ::-1], names=['wav_phase', 'z_phase', 'stk', 'theta_atm'],\n",
    "          axes=[wl, np.array([0.]), None, cld_phase['theta'][:,:,0,:ntheta].ravel()[::-1]]\n",
    "         )"
   ]
  },
  {
   "cell_type": "code",
   "execution_count": null,
   "metadata": {
    "ExecuteTime": {
     "end_time": "2019-12-09T15:15:03.414097Z",
     "start_time": "2019-12-09T15:15:02.620903Z"
    }
   },
   "outputs": [],
   "source": [
    "# Layering and angles\n",
    "'''le   = {'th_deg':np.array([20,20,20,20,40,40,40,40,40], dtype=float), \n",
    "        'phi_deg': np.array([0,60,120,180,0,0,60,120,180], dtype=float), 'zip':True}'''\n",
    "wl = [800.]\n",
    "\n",
    "znew = [5., 3., 2., 0.]\n",
    "#znew = [50., 3., 2.5, 2., 1., 0.]\n",
    "#znew = np.linspace(5, 0, num=25)\n",
    "NL   = len(znew)\n",
    "print('NLayer:', NL)\n",
    "COT = 10. # at 800 nm\n",
    "cld  = CloudOPAC('wc.sol', 10., 2., 3., COT, wl, phase=pha_cld)\n",
    "pfwav = [wl[0]]\n",
    "\n",
    "if False:\n",
    "    ray  = np.atleast_2d([0., 0., 0., 0.])\n",
    "    #ray  = np.atleast_2d([0.]*25)\n",
    "else:\n",
    "    ray  = np.atleast_2d([0., 0.2, 0.1, 0.2])\n",
    "    \n",
    "pro_clr3D = AtmAFGL('afglt', O3=0., NO2=False, grid=znew, OPT3D=True, prof_ray=ray,\n",
    "                    pfwav= pfwav).calc(wl, phase=True)\n",
    "pro_cld3D = AtmAFGL('afglt', O3=0., NO2=False, grid=znew, comp=[cld], OPT3D=True,  \n",
    "                    prof_ray=ray, pfwav=pfwav).calc(wl, phase=True)"
   ]
  },
  {
   "cell_type": "code",
   "execution_count": null,
   "metadata": {
    "ExecuteTime": {
     "end_time": "2019-12-09T15:15:05.915241Z",
     "start_time": "2019-12-09T15:15:05.760687Z"
    },
    "run_control": {
     "marked": false
    }
   },
   "outputs": [],
   "source": [
    "HLONGX = 1e4\n",
    "HLONGY = 1e4\n",
    "HX     = 0.5\n",
    "HY     = 0.5\n",
    "N  = 1\n",
    "M  = 1\n",
    "DX = 2*HX/N\n",
    "DY = 2*HY/M\n",
    "x  = np.zeros((N+2))\n",
    "y  = np.zeros((M+2))\n",
    "DXbound = (HLONGX-HX)\n",
    "DYbound = (HLONGY-HY)\n",
    "x[0]    = -HLONGX + DXbound/2\n",
    "x[-1]   =  HLONGX - DXbound/2.\n",
    "x[1:-1] =  np.linspace(-HX + DX/2., HX - DX/2., num=N)\n",
    "y[0]    = -HLONGY + DYbound/2\n",
    "y[-1]   =  HLONGY - DYbound/2.\n",
    "y[1:-1] =  np.linspace(-HY + DY/2., HY - DY/2., num=M)\n",
    "X0, Y0  =  np.meshgrid(x,y)\n",
    "Lx=[DXbound]\n",
    "Lx.extend([DX]*N)\n",
    "Lx.extend([DXbound])\n",
    "Ly=[DYbound]\n",
    "Ly.extend([DY]*M)\n",
    "Ly.extend([DYbound])\n",
    "DX0, DY0=  np.meshgrid(Lx,Ly)\n",
    "H = []\n",
    "for xi,yi,dxi,dyi in zip(X0.ravel(),Y0.ravel(),DX0.ravel(),DY0.ravel()):\n",
    "    H.append(list((xi-dxi/2, xi+dxi/2, yi-dyi/2, yi+dyi/2)))\n",
    "H_boundaries = np.array(H).reshape(((N+2)*(M+2),4))\n",
    "\n",
    "plist=[pro_clr3D]*4\n",
    "plist.extend([pro_cld3D])\n",
    "plist.extend([pro_clr3D]*4)\n",
    "p3D_NxM = pro3D_from_1D(plist, H_boundaries=H_boundaries).describe()"
   ]
  },
  {
   "cell_type": "code",
   "execution_count": null,
   "metadata": {
    "ExecuteTime": {
     "end_time": "2019-12-09T15:54:42.958384Z",
     "start_time": "2019-12-09T15:54:42.912762Z"
    }
   },
   "outputs": [],
   "source": [
    "p3D_NxM['OD_r'][0,:]"
   ]
  },
  {
   "cell_type": "code",
   "execution_count": null,
   "metadata": {
    "ExecuteTime": {
     "end_time": "2019-12-09T15:15:09.555262Z",
     "start_time": "2019-12-09T15:15:09.153118Z"
    }
   },
   "outputs": [],
   "source": [
    "pcolormesh(p3D_NxM['neighbour_atm'].data, vmin=0, vmax=None, cmap=cm.jet)\n",
    "colorbar()"
   ]
  },
  {
   "cell_type": "code",
   "execution_count": null,
   "metadata": {
    "ExecuteTime": {
     "end_time": "2019-12-09T15:18:15.462792Z",
     "start_time": "2019-12-09T15:18:14.758101Z"
    }
   },
   "outputs": [],
   "source": [
    "%%time\n",
    "POSZ = 4.9999\n",
    "THDEG, PHDEG = 180., 0.\n",
    "#pixels\n",
    "NX = 70\n",
    "NY = 70\n",
    "NP = NX*NY\n",
    "VX = 3.5\n",
    "VY = 3.5\n",
    "Ix = np.linspace(-VX, VX, num=NX) \n",
    "Iy = np.linspace(-VY, VY, num=NY) \n",
    "\n",
    "px, py   = np.meshgrid(Ix, Iy)\n",
    "poss = []\n",
    "for POSX,POSY in zip(px.ravel(), py.ravel()):\n",
    "    poss.append(Point(POSX, POSY, POSZ))\n",
    "iboxes = get_iboxes(p3D_NxM, poss)\n",
    "\n",
    "sensors=[]\n",
    "for pos,IBOX in zip(poss,iboxes):\n",
    "    sensors.append(Sensor(POSZ=pos.z, POSX=pos.x, POSY=pos.y, FOV=90., TYPE=0,\n",
    "                          THDEG=THDEG, PHDEG=PHDEG, LOC='ATMOS', IBOX=IBOX))\n",
    "    \n",
    "\n",
    "IBOX0   = get_iboxes(p3D_NxM, [Point(0, 0, POSZ)])\n",
    "sensor0 = Sensor(POSZ=POSZ, THDEG=THDEG, PHDEG=PHDEG, LOC='ATMOS', IBOX=IBOX0)   "
   ]
  },
  {
   "cell_type": "code",
   "execution_count": null,
   "metadata": {
    "ExecuteTime": {
     "end_time": "2019-12-09T15:15:45.611466Z",
     "start_time": "2019-12-09T15:15:12.592337Z"
    }
   },
   "outputs": [],
   "source": [
    "%%time\n",
    "POSZ = 4.9999\n",
    "THDEG, PHDEG = 180., 0.\n",
    "#pixels\n",
    "NX = 70\n",
    "NY = 70\n",
    "NP = NX*NY\n",
    "VX = 3.5\n",
    "VY = 3.5\n",
    "Ix = np.linspace(-VX, VX, num=NX) \n",
    "Iy = np.linspace(-VY, VY, num=NY) \n",
    "\n",
    "px, py   = np.meshgrid(Ix, Iy)\n",
    "sensors=[]\n",
    "for POSX,POSY in zip(px.ravel(), py.ravel()):\n",
    "    IBOX = get_iboxes(p3D_NxM, poss=[Point(POSX, POSY, POSZ)])\n",
    "    sensors.append(Sensor(POSZ=POSZ, POSX=POSX, POSY=POSY, THDEG=THDEG, PHDEG=PHDEG, LOC='ATMOS', IBOX=IBOX)) "
   ]
  },
  {
   "cell_type": "code",
   "execution_count": null,
   "metadata": {
    "ExecuteTime": {
     "end_time": "2019-12-09T15:20:16.047010Z",
     "start_time": "2019-12-09T15:19:07.208770Z"
    }
   },
   "outputs": [],
   "source": [
    "%%time\n",
    "# case 5\n",
    "le   = {'th_deg':np.array([40], dtype=float), \n",
    "        'phi_deg': np.array([180], dtype=float), 'zip':True}\n",
    "surf=LambSurface(ALB=0.2)\n",
    "NB=1e5*NP\n",
    "#NB=1e7\n",
    "m3D_NxM  = S3D.run(wl=wl, NF=1e3, NBPHOTONS=NB, atm=p3D_NxM, sensor=sensors,NBLOOP=NB/10, XGRID=624, XBLOCK=256,\n",
    "                   reflectance=True, le=le, surf=surf, stdev=True)\n",
    "print(m3D_NxM.attrs['kernel time (s)'])"
   ]
  },
  {
   "cell_type": "code",
   "execution_count": null,
   "metadata": {
    "ExecuteTime": {
     "end_time": "2019-12-09T15:20:16.630784Z",
     "start_time": "2019-12-09T15:20:16.054156Z"
    }
   },
   "outputs": [],
   "source": [
    "smartg_c2 = m3D_NxM.dropaxis('Zenith angles').dropaxis('Azimuth angles').dropaxis('wavelength')\n",
    "mcpol_c2  = read_3dmcpol_c2_pp(iset=1).dropaxis('Zenith angles')"
   ]
  },
  {
   "cell_type": "code",
   "execution_count": null,
   "metadata": {
    "ExecuteTime": {
     "end_time": "2019-12-09T15:20:17.877297Z",
     "start_time": "2019-12-09T15:20:16.637746Z"
    },
    "scrolled": false
   },
   "outputs": [],
   "source": [
    "for k in range(1):\n",
    "    fig,ax=subplots(2,2)\n",
    "    fig.set_size_inches((14,10))\n",
    "    I = smartg_c2['I_up (TOA)'][:].reshape((NX,NY))\n",
    "    Q = smartg_c2['Q_up (TOA)'][:].reshape((NX,NY))\n",
    "    U = smartg_c2['U_up (TOA)'][:].reshape((NX,NY))\n",
    "    V = smartg_c2['V_up (TOA)'][:].reshape((NX,NY))\n",
    "    P1=ax[0,0].imshow(I, vmin=0.0, vmax=0.6, cmap=cm.jet)\n",
    "    colorbar(P1, ax=ax[0,0], shrink=0.8)\n",
    "    P2=ax[0,1].imshow(Q, vmin=-0.1, vmax=0.1, cmap=cm.RdBu_r)\n",
    "    colorbar(P2, ax=ax[0,1], shrink=0.8)\n",
    "    P3=ax[1,0].imshow(-U, vmin=-0.0005, vmax=0.0005, cmap=cm.RdBu_r)\n",
    "    colorbar(P3, ax=ax[1,0], shrink=0.8)\n",
    "    P4=ax[1,1].imshow(V, vmin=-0.0001, vmax=0.0001, cmap=cm.RdBu_r)\n",
    "    colorbar(P4, ax=ax[1,1], shrink=0.8)\n",
    "    #P4=ax[1,1].imshow(np.sqrt(Q**2+U**2)/I*100, vmin=0, vmax=40, cmap=cm.RdBu_r)\n",
    "    #colorbar(P4, ax=ax[1,1], shrink=0.8)"
   ]
  },
  {
   "cell_type": "code",
   "execution_count": null,
   "metadata": {
    "ExecuteTime": {
     "end_time": "2019-12-09T15:18:42.037368Z",
     "start_time": "2019-12-09T15:18:40.630554Z"
    },
    "scrolled": false
   },
   "outputs": [],
   "source": [
    "for k in range(1):\n",
    "    fig,ax=subplots(2,2)\n",
    "    fig.set_size_inches((14,10))\n",
    "    I = mcpol_c2['I_up (TOA)'][:].reshape((NX,NY))\n",
    "    Q = mcpol_c2['Q_up (TOA)'][:].reshape((NX,NY))\n",
    "    U = mcpol_c2['U_up (TOA)'][:].reshape((NX,NY))\n",
    "    V = mcpol_c2['V_up (TOA)'][:].reshape((NX,NY))\n",
    "    P1=ax[0,0].imshow(I.T, vmin=0., vmax=0.6, cmap=cm.jet)\n",
    "    colorbar(P1, ax=ax[0,0], shrink=0.8)\n",
    "    P2=ax[0,1].imshow(Q.T, vmin=-0.1, vmax=0.1, cmap=cm.RdBu_r)\n",
    "    colorbar(P2, ax=ax[0,1], shrink=0.8)\n",
    "    P3=ax[1,0].imshow(-U.T, vmin=-0.0005, vmax=0.0005, cmap=cm.RdBu_r)\n",
    "    colorbar(P3, ax=ax[1,0], shrink=0.8)\n",
    "    P4=ax[1,1].imshow(V.T, vmin=-0.0001, vmax=0.0001, cmap=cm.RdBu_r)\n",
    "    colorbar(P4, ax=ax[1,1], shrink=0.8)\n",
    "    #P4=ax[1,1].imshow(np.sqrt(Q**2+U**2)/I*100, vmin=0, vmax=40, cmap=cm.RdBu_r)\n",
    "    #colorbar(P4, ax=ax[1,1], shrink=0.8)"
   ]
  },
  {
   "cell_type": "markdown",
   "metadata": {
    "ExecuteTime": {
     "end_time": "2019-02-13T12:40:48.396602Z",
     "start_time": "2019-02-13T12:40:47.869896Z"
    }
   },
   "source": [
    "# LPS2019"
   ]
  },
  {
   "cell_type": "code",
   "execution_count": null,
   "metadata": {
    "ExecuteTime": {
     "end_time": "2019-11-07T20:55:59.699793Z",
     "start_time": "2019-11-07T20:55:58.650047Z"
    }
   },
   "outputs": [],
   "source": [
    "# Layering and angles\n",
    "'''le   = {'th_deg':np.array([20,20,20,20,40,40,40,40,40], dtype=float), \n",
    "        'phi_deg': np.array([0,60,120,180,0,0,60,120,180], dtype=float), 'zip':True}'''\n",
    "#SENTINEL_SOLAR = REPTRAN('reptran_solar_sentinel')\n",
    "wl_ref = 865.\n",
    "pfwav= [wl_ref]\n",
    "znew = np.array([100, 75, 50, 30, 20, 10, 5, 2., 0])\n",
    "aer1 = AeroOPAC('continental_polluted', 1., wl_ref)\n",
    "#ph=AtmAFGL('afglmw', grid=znew, OPT3D=True, comp=[aer1], pfwav= pfwav).calc(wl_ref, phase=True)['phase_atm']\n",
    "cld  = CloudOPAC('wc.sol', 1., 8., 10., .5, wl_ref)\n",
    "\n",
    "wl = np.linspace(680, 450, num=201)\n",
    "#wl = [680., 550., 450.]\n",
    "#wl = [865., 680., 450.]\n",
    "#ibands = SENTINEL_SOLAR.to_smartg(include='sentinel2a_msi_b0', \n",
    " #                           lmin=[400., 500., 600], lmax=[500., 600., 700.])\n",
    "#wl = [wl_ref]\n",
    "NL   = len(znew)\n",
    "print('NLayer:', NL)\n",
    "pfwav = wl_ref\n",
    "   \n",
    "pro_clr3D = AtmAFGL('afglmw', grid=znew, OPT3D=True,\n",
    "                    pfwav= pfwav).calc(wl, phase=True)\n",
    "pro1_cld3D = AtmAFGL('afglmw', grid=znew, comp=[cld], OPT3D=True,\n",
    "                    pfwav=pfwav).calc(wl, phase=True)"
   ]
  },
  {
   "cell_type": "code",
   "execution_count": null,
   "metadata": {
    "ExecuteTime": {
     "end_time": "2019-11-07T20:56:02.864951Z",
     "start_time": "2019-11-07T20:56:02.596929Z"
    },
    "run_control": {
     "marked": false
    }
   },
   "outputs": [],
   "source": [
    "HLONGX = 1e4\n",
    "HLONGY = 1e4\n",
    "HX     = 4.\n",
    "HY     = 4.\n",
    "N  = 3\n",
    "M  = 3\n",
    "#N  = 1\n",
    "#M  = 1\n",
    "DX = 2*HX/N\n",
    "DY = 2*HY/M\n",
    "x  = np.zeros((N+2))\n",
    "y  = np.zeros((M+2))\n",
    "DXbound = (HLONGX-HX)\n",
    "DYbound = (HLONGY-HY)\n",
    "x[0]    = -HLONGX + DXbound/2\n",
    "x[-1]   =  HLONGX - DXbound/2.\n",
    "x[1:-1] =  np.linspace(-HX + DX/2., HX - DX/2., num=N)\n",
    "y[0]    = -HLONGY + DYbound/2\n",
    "y[-1]   =  HLONGY - DYbound/2.\n",
    "y[1:-1] =  np.linspace(-HY + DY/2., HY - DY/2., num=M)\n",
    "X0, Y0  =  np.meshgrid(x,y)\n",
    "Lx=[DXbound]\n",
    "Lx.extend([DX]*N)\n",
    "Lx.extend([DXbound])\n",
    "Ly=[DYbound]\n",
    "Ly.extend([DY]*M)\n",
    "Ly.extend([DYbound])\n",
    "DX0, DY0=  np.meshgrid(Lx,Ly)\n",
    "H = []\n",
    "for xi,yi,dxi,dyi in zip(X0.ravel(),Y0.ravel(),DX0.ravel(),DY0.ravel()):\n",
    "    H.append(list((xi-dxi/2, xi+dxi/2, yi-dyi/2, yi+dyi/2)))\n",
    "H_boundaries = np.array(H).reshape(((N+2)*(M+2),4))\n",
    "# 1x1\n",
    "'''plist=[pro_clr3D]*4\n",
    "plist.extend([pro_cld3D])\n",
    "plist.extend([pro_clr3D]*4)'''\n",
    "\n",
    "# 2x2 (avec 2 clouds differents)\n",
    "'''plist=[pro_clr3D]*5\n",
    "plist.extend([pro1_cld3D, pro2_cld3D])\n",
    "plist.extend([pro_clr3D]*2)\n",
    "plist.extend([pro2_cld3D, pro1_cld3D])\n",
    "plist.extend([pro_clr3D]*5)'''\n",
    "\n",
    "# 3x3 (anneau)\n",
    "plist=[pro_clr3D]*6\n",
    "plist.extend([pro1_cld3D]*3)\n",
    "plist.extend([pro_clr3D]*2)\n",
    "plist.extend([pro1_cld3D, pro_clr3D, pro1_cld3D])\n",
    "plist.extend([pro_clr3D]*2)\n",
    "plist.extend([pro1_cld3D]*3)\n",
    "plist.extend([pro_clr3D]*6)\n",
    "\n",
    "p3D_NxM = pro3D_from_1D(plist, H_boundaries=H_boundaries).describe()"
   ]
  },
  {
   "cell_type": "code",
   "execution_count": null,
   "metadata": {
    "ExecuteTime": {
     "end_time": "2019-11-07T20:56:07.839876Z",
     "start_time": "2019-11-07T20:56:07.337889Z"
    }
   },
   "outputs": [],
   "source": [
    "%%time\n",
    "POSZ = 19.9999\n",
    "THDEG, PHDEG = 170., 0.\n",
    "#pixels\n",
    "NX = 40\n",
    "NY = 40\n",
    "NZ = 10\n",
    "NP = NX*NY\n",
    "VX = 10.\n",
    "VY = 10.\n",
    "VZ = 4.9999\n",
    "Ix = np.linspace(-VX, VX, num=NX) \n",
    "Iy = np.linspace(-VY, VY, num=NY) \n",
    "Iz = np.linspace(0.0001, VZ, num=NZ) \n",
    "px, py   = np.meshgrid(Ix, Iy)\n",
    "\n",
    "poss = []\n",
    "for POSX,POSY in zip(px.ravel(), py.ravel()):\n",
    "    poss.append(Point(POSX, POSY, POSZ))\n",
    "iboxes = get_iboxes(p3D_NxM, poss)\n",
    "\n",
    "sensors=[]\n",
    "for pos,IBOX in zip(poss,iboxes):\n",
    "    sensors.append(Sensor(POSZ=pos.z, POSX=pos.x, POSY=pos.y, FOV=90., TYPE=0,\n",
    "                          THDEG=THDEG, PHDEG=PHDEG, LOC='ATMOS', IBOX=IBOX))\n",
    "    \n",
    "\n",
    "IBOX0   = get_iboxes(p3D_NxM, [Point(0, 0, POSZ)])\n",
    "sensor0 = Sensor(POSZ=POSZ, THDEG=THDEG, PHDEG=PHDEG, LOC='ATMOS', IBOX=IBOX0)   "
   ]
  },
  {
   "cell_type": "code",
   "execution_count": null,
   "metadata": {
    "ExecuteTime": {
     "end_time": "2019-10-08T12:22:17.603439Z",
     "start_time": "2019-10-08T12:22:17.527620Z"
    }
   },
   "outputs": [],
   "source": [
    "import ephem\n",
    "\n",
    "def Get_SunEarth(obs):\n",
    "    \"\"\"\n",
    "    Get Earth-Sun distance correction\n",
    "    \"\"\"\n",
    "    date = str(obs.date).split()[0]\n",
    "    jday = datetime.datetime.strptime(date, '%Y/%m/%d').timetuple().tm_yday\n",
    "    SE_corr_c1 = 1.00011\n",
    "    SE_corr_c2 = 0.034221\n",
    "    SE_corr_c3 = 0.00128\n",
    "    SE_corr_c4 = 0.000719\n",
    "    SE_corr_c5 = 0.000077\n",
    "\n",
    "    d_qo = 2.0 * np.arccos(-1.) * (jday + 0.35) / 365.\n",
    "    d_corr = SE_corr_c1 +                       \\\n",
    "             SE_corr_c2 * np.cos(d_qo) +           \\\n",
    "             SE_corr_c3 * np.sin(d_qo) +           \\\n",
    "             SE_corr_c4 * np.cos(d_qo * 2.) +      \\\n",
    "             SE_corr_c5 * np.sin(d_qo * 2.)\n",
    "    dist = 1.0 / np.sqrt(d_corr)\n",
    "\n",
    "    return dist * dist\n",
    "\n",
    "\n",
    "lon = 0.\n",
    "lat = 35.\n",
    "\n",
    "dates= ['2015/6/21','2015/9/20']\n",
    "\n",
    "dt  = 75./(24*60) # time interval in fraction of day, here 30 minutes\n",
    "\n",
    "obs      = ephem.Observer()\n",
    "obs.lon  = str(lon)\n",
    "obs.lat  = str(lat)\n",
    "obs.pressure=0.\n",
    "obs.horizon = '0:34'\n",
    "obs.date = dates[1]\n",
    "sun      = ephem.Sun()\n",
    "drise    = obs.next_rising (sun, start=obs.date)\n",
    "dset     = obs.next_setting(sun, start=obs.date)\n",
    "dnoon    = obs.next_transit(sun, start=obs.date)\n",
    "#halfday  = dnoon - drise # computation from noon to sunrise\n",
    "fullday  = dset  - drise # computation from noon to sunrise\n",
    "\n",
    "#t        = np.linspace(0.001, halfday, num=halfday/dt, endpoint=True)\n",
    "t        = np.linspace(0.00, fullday, num=fullday/dt, endpoint=False)\n",
    "\n",
    "dates=[]\n",
    "th0=[]\n",
    "sed=[]\n",
    "ph0 = []\n",
    "for i,dt in enumerate(t):\n",
    "    #da       = dnoon - dt\n",
    "    da       = dset  - dt\n",
    "    obs.date = da\n",
    "    sun.compute(obs)\n",
    "    th0.append( 90.-float(sun.alt)*180/np.pi)\n",
    "    ph0.append(float(sun.az)*180./np.pi)\n",
    "    dates.append(str(obs.date))\n",
    "    sed.append(Get_SunEarth(obs))\n",
    "th0=np.array(th0)\n",
    "ph0=np.array(ph0)\n",
    "mus = cos(th0*np.pi/180)\n",
    "\n",
    "# Solar geometries\n",
    "le={'th_deg':th0, 'phi_deg':ph0, 'zip':True}"
   ]
  },
  {
   "cell_type": "code",
   "execution_count": null,
   "metadata": {
    "ExecuteTime": {
     "end_time": "2019-11-07T20:56:23.690003Z",
     "start_time": "2019-11-07T20:56:22.852646Z"
    }
   },
   "outputs": [],
   "source": [
    "%%time\n",
    "# case 5\n",
    "water = IOP_1(10.1, ang_trunc=30, DEPTH=10, FQYC=0.1)\n",
    "water = None\n",
    "ALB = Albedo_speclib('/rfs/data/speclib2.0/data/jhu.becknic.vegetation.grass.green.solid.gras.spectrum.txt')\n",
    "#ALB = Albedo_speclib('/rfs/data/speclib2.0/data/jhu.becknic.vegetation.grass.dry.solid.drygras.spectrum.txt')\n",
    "'''le   = {'th_deg':np.array([0], dtype=float), \n",
    "        'phi_deg': np.array([0], dtype=float), 'zip':True}'''\n",
    "surf= RoughSurface()\n",
    "#env = Environment(ENV=1, ALB=Albedo_cst(0.2), ENV_SIZE=3, X0=2.5)\n",
    "env = Environment(ENV=1, ALB=ALB, ENV_SIZE=3, X0=2.5)\n",
    "env = None\n",
    "NB=1e4*NP\n",
    "#NB=1e7\n",
    "#m3D_NxM  = S3D.run(wl=wl, NF=1e3, NBPHOTONS=NB, atm=p3D_NxM, sensor=sensors, env=env, water=water,\n",
    "                   #reflectance=True, le=le, surf=surf, stdev=True)\n",
    "NB=1e6\n",
    "m3D_NxM0  = S3D.run(wl=wl, NF=1e3, NBPHOTONS=NB, atm=p3D_NxM, sensor=sensor0, env=env, water=water,\n",
    "                   reflectance=True, le=le, surf=surf, stdev=True, alis_options={'nlow':-1})\n",
    "#m3D_NxM  = S3D.run(wl=wl, NF=1e3, NBPHOTONS=NB, atm=p3D_NxM, sensor=sensors, env=env,\n",
    "                   #reflectance=True, le=le, surf=surf, stdev=True)\n",
    "#m3DA_NxM  = S3DA.run(wl=wl, NF=1e3, NBPHOTONS=NB, atm=p3D_NxM, sensor=sensors, env=env,\n",
    "                   #reflectance=True, le=le, surf=surf, stdev=True, alis_options={'nlow':3})\n",
    "print(m3D_NxM0.attrs['kernel time (s)'])\n",
    "\n",
    "#smartg_c2 = m3D_NxM.dropaxis('Zenith angles').dropaxis('Azimuth angles').dropaxis('wavelength')"
   ]
  },
  {
   "cell_type": "code",
   "execution_count": null,
   "metadata": {
    "ExecuteTime": {
     "end_time": "2019-11-07T20:56:32.266179Z",
     "start_time": "2019-11-07T20:56:32.178648Z"
    }
   },
   "outputs": [],
   "source": [
    "m3D_NxM0.describe()"
   ]
  },
  {
   "cell_type": "code",
   "execution_count": null,
   "metadata": {
    "ExecuteTime": {
     "end_time": "2019-11-07T20:56:37.785360Z",
     "start_time": "2019-11-07T20:56:36.757366Z"
    },
    "run_control": {
     "marked": false
    },
    "scrolled": false
   },
   "outputs": [],
   "source": [
    "from itertools import product\n",
    "NROWS = 2\n",
    "NCOLS = 4\n",
    "f,ax = subplots(nrows=NROWS, ncols=NCOLS)\n",
    "f.set_size_inches(12,6)\n",
    "I = m3D_NxM['I_up (TOA)'].data\n",
    "I2 = (I/I.max()*255).astype(int)\n",
    "k=1\n",
    "for i,j in product(np.arange(NROWS), np.arange(NCOLS)):\n",
    "    ax[i,j].imshow(I2[:,:,k].reshape((NX,NY,3)))\n",
    "    k+=1\n",
    "f.savefig('/home/documents/TOSCA/Hagolle_3D.png', dpi=100)"
   ]
  },
  {
   "cell_type": "code",
   "execution_count": null,
   "metadata": {
    "ExecuteTime": {
     "end_time": "2019-10-08T11:56:18.928180Z",
     "start_time": "2019-10-08T11:56:18.145068Z"
    }
   },
   "outputs": [],
   "source": [
    "from itertools import product\n",
    "NROWS = 2\n",
    "NCOLS = 4\n",
    "k=1\n",
    "for i,j in product(np.arange(NROWS), np.arange(NCOLS)):\n",
    "    m3D_NxM0['I_up (TOA)'].sub()[:,k].plot(vmin=0, vmax=.2)\n",
    "    k+=1"
   ]
  },
  {
   "cell_type": "code",
   "execution_count": null,
   "metadata": {
    "ExecuteTime": {
     "end_time": "2019-10-08T12:24:11.868415Z",
     "start_time": "2019-10-08T12:24:10.975213Z"
    },
    "scrolled": false
   },
   "outputs": [],
   "source": [
    "smartg_c2 = m3D_NxM.dropaxis('Zenith angles').dropaxis('Azimuth angles')\n",
    "\n",
    "extent=[Ix[0], Ix[-1], Iy[0], Iy[-1]]\n",
    "fig,ax=subplots(1,2)\n",
    "fig.set_size_inches((14,10))\n",
    "I = smartg_c2['I_up (TOA)'][:,:].reshape((NX,NY,3))\n",
    "Q = smartg_c2['Q_up (TOA)'][:,:].reshape((NX,NY,3))\n",
    "U = smartg_c2['U_up (TOA)'][:,:].reshape((NX,NY,3))\n",
    "LP = np.sqrt(U**2+Q**2)\n",
    "DoLP = LP/I*100\n",
    "P1=ax[0].imshow(I, vmin=0.0, vmax=.3, cmap=cm.Blues_r, extent=extent)\n",
    "colorbar(P1, ax=ax[0], shrink=0.5, label=r'$\\rho^{TOA} (865 nm) $')\n",
    "P4=ax[1].imshow(LP, vmin=0, vmax=.05, cmap=cm.Blues_r, extent=extent)\n",
    "colorbar(P4, ax=ax[1], shrink=0.5, label='DoLP (%)')\n",
    "ax[0].set_xlabel('X (km)')\n",
    "ax[1].set_xlabel('X (km)')\n",
    "ax[0].set_ylabel('Y (km)')\n",
    "ax[1].set_ylabel('Y (km)')\n",
    "fig.tight_layout()\n",
    "fig.savefig('/home/documents/ESA/LPS2019/Lake_865.png', dpi=200)\n",
    "\n",
    "fig,ax=subplots(1,2)\n",
    "fig.set_size_inches((12,2))\n",
    "ax[0].plot(Ix,I[int(NX/2),:,:],'+')\n",
    "ax[0].set_xlabel('X (km)')\n",
    "ax[0].set_ylim([0.005,0.25])\n",
    "ax[0].set_title('Y=0 transect')\n",
    "ax[0].set_ylabel(r'$\\rho^{TOA} (865 nm) $')\n",
    "ax[1].plot(Ix,LP[int(NX/2),:,:],'+')\n",
    "ax[1].set_ylim([0.,0.25])\n",
    "ax[1].set_ylabel('X (km)')\n",
    "ax[1].set_title('Y=0 transect')\n",
    "ax[1].set_ylabel('DoLP (%)')\n",
    "fig.tight_layout()\n",
    "fig.savefig('/home/documents/ESA/LPS2019/Lake_865_transect.png', dpi=200)"
   ]
  },
  {
   "cell_type": "code",
   "execution_count": null,
   "metadata": {
    "ExecuteTime": {
     "end_time": "2019-10-08T12:24:16.056294Z",
     "start_time": "2019-10-08T12:24:15.183547Z"
    },
    "scrolled": false
   },
   "outputs": [],
   "source": [
    "extent=[Ix[0], Ix[-1], Iy[0], Iy[-1]]\n",
    "fig,ax=subplots(1,2)\n",
    "fig.set_size_inches((14,10))\n",
    "I = smartg_c2['I_up (TOA)'][:].reshape((NX,NY))\n",
    "Q = smartg_c2['Q_up (TOA)'][:].reshape((NX,NY))\n",
    "U = smartg_c2['U_up (TOA)'][:].reshape((NX,NY))\n",
    "LP = np.sqrt(U**2+Q**2)\n",
    "DoLP = LP/I*100\n",
    "P1=ax[0].imshow(I, vmin=0.0, vmax=.3, cmap=cm.Blues_r, extent=extent)\n",
    "colorbar(P1, ax=ax[0], shrink=0.5, label=r'$\\rho^{TOA} (865 nm) $')\n",
    "P4=ax[1].imshow(DoLP, vmin=0, vmax=30, cmap=cm.Blues_r, extent=extent)\n",
    "colorbar(P4, ax=ax[1], shrink=0.5, label='DoLP (%)')\n",
    "ax[0].set_xlabel('X (km)')\n",
    "ax[1].set_xlabel('X (km)')\n",
    "ax[0].set_ylabel('Y (km)')\n",
    "ax[1].set_ylabel('Y (km)')\n",
    "fig.tight_layout()\n",
    "fig.savefig('/home/documents/ESA/LPS2019/Lake_865.png', dpi=200)\n",
    "\n",
    "fig,ax=subplots(1,2)\n",
    "fig.set_size_inches((12,2))\n",
    "ax[0].plot(Ix,I[int(NX/2),:],'+')\n",
    "ax[0].set_xlabel('X (km)')\n",
    "ax[0].set_ylim([0.005,0.05])\n",
    "ax[0].set_title('Y=0 transect')\n",
    "ax[0].set_ylabel(r'$\\rho^{TOA} (865 nm) $')\n",
    "ax[1].plot(Ix,DoLP[int(NX/2),:],'+')\n",
    "ax[1].set_ylim([0.,40])\n",
    "ax[1].set_ylabel('X (km)')\n",
    "ax[1].set_title('Y=0 transect')\n",
    "ax[1].set_ylabel('DoLP (%)')\n",
    "fig.tight_layout()\n",
    "fig.savefig('/home/documents/ESA/LPS2019/Lake_865_transect.png', dpi=200)"
   ]
  },
  {
   "cell_type": "code",
   "execution_count": null,
   "metadata": {
    "ExecuteTime": {
     "end_time": "2019-10-08T11:56:34.013624Z",
     "start_time": "2019-10-08T11:56:33.832261Z"
    }
   },
   "outputs": [],
   "source": [
    "import matplotlib.pyplot as plt\n",
    "fig = plt.figure()\n",
    "\n",
    "# ims is a list of lists, each row is a list of artists to draw in the\n",
    "# current frame; here we are just animating one artist, the image, in\n",
    "# each frame\n",
    "ims = []\n",
    "for th in m3D_NxM.axis('Zenith angles'):\n",
    "    I = m3D_NxM.sub({'Zenith angles':Idx(th)})['I_up (TOA)'][:,:].reshape((NX,NY,3))\n",
    "    im=plt.imshow((I/I.max()*255).astype(int), animated=True)\n",
    "    ims.append([im])\n",
    "'''for i in range(60):\n",
    "    x += np.pi / 15.\n",
    "    y += np.pi / 20.\n",
    "    im = plt.imshow(f(x, y), animated=True)\n",
    "    ims.append([im])'''\n",
    "\n",
    "#ani = animation.ArtistAnimation(fig, ims, interval=2000, blit=True,\n",
    " #                               repeat_delay=None)\n",
    "\n",
    "# To save the animation, use e.g.\n",
    "#\n",
    "# ani.save(\"/home/did/work/movie.mp4\")\n",
    "#\n",
    "# or\n",
    "#\n",
    "from matplotlib.animation import FFMpegWriter\n",
    "writer = FFMpegWriter(fps=5, metadata=dict(artist='Me'), bitrate=1800)\n",
    "ani.save(\"/home/did/work/movie.mp4\", writer=writer)\n",
    "\n",
    "plt.show()\n"
   ]
  },
  {
   "cell_type": "markdown",
   "metadata": {},
   "source": [
    "# Profile to Cell"
   ]
  },
  {
   "cell_type": "markdown",
   "metadata": {},
   "source": [
    "## Simple atmosphere"
   ]
  },
  {
   "cell_type": "code",
   "execution_count": null,
   "metadata": {
    "ExecuteTime": {
     "end_time": "2019-12-24T14:23:01.245205Z",
     "start_time": "2019-12-24T14:23:00.715469Z"
    }
   },
   "outputs": [],
   "source": [
    "Nx = 1\n",
    "Ny = 1\n",
    "Nz = 53\n",
    "Dx = 1\n",
    "Dy = 1\n",
    "Dz = 1\n",
    "\n",
    "(idx,idy,idz), (NX,NY,NZ), (xgrid, ygrid, zgrid), neigh, pmin, pmax = \\\n",
    "    Get_3Dcells(Nx=Nx, Ny=Ny, Nz=Nz, Dx=Dx, Dy=Dy, Dz=Dz, SAT_ALTITUDE=120, HORIZ_EXTENT_LENGTH=1e5, periodic=True)\n",
    "\n",
    "# cells optical properties\n",
    "iopt           = np.zeros(NX*NY*NZ, dtype= int32)\n",
    "# properties depend only on z\n",
    "iatm           = np.arange(NZ)\n",
    "iopt[:]        = iatm[idz]+1\n",
    "\n",
    "atm3D_clr = AtmAFGL('afglt', O3=0., NO2=False,\n",
    "                    grid        = zgrid,\n",
    "                    cells       = (iopt, pmin, pmax, neigh)\n",
    "                   )\n",
    "atm_clr   = AtmAFGL('afglt', O3=0., NO2=False,\n",
    "                    grid        = zgrid[::-1]\n",
    "                   )\n",
    "wl = np.linspace(400., 420., num=5)\n",
    "wl = [400.]\n",
    "\n",
    "pro3D_clr = atm3D_clr.calc(wl)\n",
    "pro_clr   = atm_clr.calc(wl)"
   ]
  },
  {
   "cell_type": "code",
   "execution_count": null,
   "metadata": {
    "ExecuteTime": {
     "end_time": "2019-12-24T14:23:04.255739Z",
     "start_time": "2019-12-24T14:23:04.130010Z"
    }
   },
   "outputs": [],
   "source": [
    "(idx,idy,idz), (NX,NY,NZ), (xgrid, ygrid, zgrid), neigh, pmin, pmax"
   ]
  },
  {
   "cell_type": "code",
   "execution_count": null,
   "metadata": {
    "ExecuteTime": {
     "end_time": "2019-12-24T14:23:09.374745Z",
     "start_time": "2019-12-24T14:23:09.248856Z"
    }
   },
   "outputs": [],
   "source": [
    "# Sensors position\n",
    "POSX = 0.005\n",
    "POSY = 0.005\n",
    "POSZ = 110.00001\n",
    "P    = Point(z=POSZ)\n",
    "icells = locate_3D_cells(pro3D_clr, np.array([POSX]), np.array([POSY]), np.array([POSZ]))\n",
    "ICELL = icells[0]\n",
    "print(ICELL)\n",
    "# pixels centers on the ground\n",
    "x0    = xgrid # central domain (cumulus) boundaries\n",
    "y0    = ygrid\n",
    "# centers\n",
    "xx,yy = np.meshgrid(np.diff(x0)/2. + x0[:-1], np.diff(y0)/2. + y0[:-1])\n",
    "# view angles\n",
    "PHDEG = np.degrees(np.arctan2(xx, yy))\n",
    "THDEG = 180-np.degrees(np.arctan2(np.sqrt(xx**2+yy**2), POSZ))\n",
    "\n",
    "sensors=[]\n",
    "for th, ph in zip(THDEG.ravel(), PHDEG.ravel()):\n",
    "    sensors.append(Sensor(POSX=POSX, POSY=POSY, POSZ=POSZ, FOV=0., TYPE=0,\n",
    "                          THDEG=th, PHDEG=ph, LOC='ATMOS', ICELL=ICELL))"
   ]
  },
  {
   "cell_type": "code",
   "execution_count": null,
   "metadata": {
    "ExecuteTime": {
     "start_time": "2019-12-24T14:23:10.232Z"
    }
   },
   "outputs": [],
   "source": [
    "%%time\n",
    "S3D    = Smartg(opt3D=True,  alt_pp=True) # 3D\n",
    "S      = Smartg(opt3D=False, alt_pp=True) # 3D\n",
    "le     = {'th_deg':np.linspace(0, 80., num=1), 'phi_deg':np.linspace(0., 210., num=1)}\n",
    "\n",
    "NB     = 1e7\n",
    "surf   = RoughSurface()\n",
    "surf   = None\n",
    "m3D    = S3D.run(wl=wl,  NBPHOTONS=NB, atm=pro3D_clr, sensor=sensors, le=None, surf=surf, NBLOOP=1e6,\n",
    "               stdev=False, NF=1e4, NBPHI=18, NBTHETA=35)\n",
    "m0     = S.run(wl=wl,  NBPHOTONS=NB, atm=pro_clr, sensor=sensors, le=None, surf=surf, NBLOOP=1e6,\n",
    "               stdev=False, NF=1e4, NBPHI=18, NBTHETA=35)"
   ]
  },
  {
   "cell_type": "code",
   "execution_count": null,
   "metadata": {
    "ExecuteTime": {
     "end_time": "2019-12-23T10:13:05.238327Z",
     "start_time": "2019-12-23T10:13:03.214585Z"
    }
   },
   "outputs": [],
   "source": [
    "_=smartg_view(m3D.sub({'sensor index':0}))\n",
    "_=smartg_view(m0.sub({'sensor index':0}))"
   ]
  },
  {
   "cell_type": "markdown",
   "metadata": {},
   "source": [
    "## Cloud"
   ]
  },
  {
   "cell_type": "code",
   "execution_count": null,
   "metadata": {
    "ExecuteTime": {
     "end_time": "2019-12-24T13:39:14.004508Z",
     "start_time": "2019-12-24T13:39:13.621270Z"
    }
   },
   "outputs": [],
   "source": [
    "# Cloud Phase matrix\n",
    "cld_phase = read_mlut('/home/did/RTC/SMART-G/smartg/validation/IPRT/watercloud.mie.nc')\n",
    "ntheta = cld_phase['ntheta'][0,0,0]\n",
    "wl     = [670.]\n",
    "l      = []\n",
    "l.append(cld_phase['phase'][:,:,0,:ntheta].ravel() + cld_phase['phase'][:,:,1,:ntheta].ravel())\n",
    "l.append(cld_phase['phase'][:,:,0,:ntheta].ravel() - cld_phase['phase'][:,:,1,:ntheta].ravel())\n",
    "l.append(cld_phase['phase'][:,:,2,:ntheta].ravel())\n",
    "l.append(cld_phase['phase'][:,:,3,:ntheta].ravel())\n",
    "# Normalization to 2\n",
    "p      = cld_phase['phase'][:,:,0,:ntheta].ravel()\n",
    "theta  = cld_phase['theta'][:,:,0,:ntheta].ravel()[::-1]\n",
    "mu     = np.cos(np.radians(theta))\n",
    "NORM   = np.trapz(p,-mu)\n",
    "data   = np.array(l) \n",
    "print ('phase function norm: ', NORM)\n",
    "#data = np.array(l) * (2./Norm)\n",
    "# 2) store data in a LUT object with 4 dimensions, the z dimension is restricted to one level of altitude 0\n",
    "pha_cld = LUT(data[:, ::-1], names=['stk', 'theta_atm'],\n",
    "          axes=[None, cld_phase['theta'][:,:,0,:ntheta].ravel()[::-1]]\n",
    "         )"
   ]
  },
  {
   "cell_type": "markdown",
   "metadata": {},
   "source": [
    "### Step cloud C1"
   ]
  },
  {
   "cell_type": "code",
   "execution_count": null,
   "metadata": {
    "ExecuteTime": {
     "end_time": "2019-12-25T21:06:49.239890Z",
     "start_time": "2019-12-25T21:06:48.695692Z"
    }
   },
   "outputs": [],
   "source": [
    "#alternative reff = 2 micron phase function\n",
    "wl = 1020.\n",
    "cld = CloudOPAC('wc.sol', 2., 2, 3., 1., wl)\n",
    "pha_cld = AtmAFGL('afglt', comp=[cld]).calc(wl)['phase_atm'].sub()[0,:,:]"
   ]
  },
  {
   "cell_type": "code",
   "execution_count": null,
   "metadata": {
    "ExecuteTime": {
     "end_time": "2019-12-24T13:39:16.601786Z",
     "start_time": "2019-12-24T13:39:16.569078Z"
    }
   },
   "outputs": [],
   "source": [
    "Nx = 2\n",
    "Ny = 1\n",
    "Nz = 1\n",
    "Dx = 0.5/Nx\n",
    "Dy = 1e5\n",
    "Dz = 0.25\n",
    "\n",
    "(idx,idy,idz), (NX,NY,NZ), (xgrid, ygrid, zgrid), neigh, pmin, pmax = \\\n",
    "    Get_3Dcells(Nx=Nx, Ny=Ny, Nz=Nz, Dx=Dx, Dy=Dy, Dz=Dz, periodic=True,\n",
    "                SAT_ALTITUDE=120, HORIZ_EXTENT_LENGTH=0)\n",
    "\n",
    "Ncell   = NX*NY*NZ\n",
    "Natm    = 3 # 2 cloud cells + void\n",
    "# cells optical properties indices\n",
    "iopt    = np.array([0, 1, 2, 1], dtype=int32)\n",
    "# optical properties \n",
    "ptc_sca = np.array([2./0.25, 0., 18./0.25])\n",
    "ptc_ssa = np.array([0.99, 1., 0.99])\n",
    "ray_sca = np.zeros_like(ptc_sca)\n",
    "gas_abs = np.zeros_like(ptc_sca)\n",
    "ipha    = np.zeros_like(ptc_sca, dtype=int32)"
   ]
  },
  {
   "cell_type": "code",
   "execution_count": null,
   "metadata": {
    "ExecuteTime": {
     "end_time": "2019-12-24T13:39:17.683614Z",
     "start_time": "2019-12-24T13:39:17.650559Z"
    }
   },
   "outputs": [],
   "source": [
    "(idx,idy,idz), (NX,NY,NZ), (xgrid, ygrid, zgrid), neigh, pmin, pmax"
   ]
  },
  {
   "cell_type": "code",
   "execution_count": null,
   "metadata": {
    "ExecuteTime": {
     "end_time": "2019-12-24T13:39:18.865900Z",
     "start_time": "2019-12-24T13:39:18.643125Z"
    }
   },
   "outputs": [],
   "source": [
    "atm3D_cld = AtmAFGL('afglt',\n",
    "                    grid        = zgrid,\n",
    "                    prof_ray    = ray_sca[None,:],\n",
    "                    prof_abs    = gas_abs[None,:],\n",
    "                    prof_aer    = (ptc_sca[None,:], ptc_ssa[None,:]),\n",
    "                    prof_phases = (ipha[None,:], [pha_cld]),\n",
    "                    cells       = (iopt, pmin, pmax, neigh)\n",
    "                   )\n",
    "wl = [800.]\n",
    "\n",
    "pro3D_cld = atm3D_cld.calc(wl).describe()"
   ]
  },
  {
   "cell_type": "code",
   "execution_count": null,
   "metadata": {
    "ExecuteTime": {
     "end_time": "2019-12-24T13:39:20.431790Z",
     "start_time": "2019-12-24T13:39:20.395010Z"
    },
    "run_control": {
     "marked": false
    }
   },
   "outputs": [],
   "source": [
    "# Sun position\n",
    "SAA    = 180.\n",
    "SZA    = 20.\n",
    "# Sensors position\n",
    "Npix   = 32\n",
    "POSZ   = 0.25\n",
    "THDEG  = 120.\n",
    "PHDEG  = 135.\n",
    "# pixels centers on the ground\n",
    "x0    = np.linspace(xgrid[0]+Dx/2., xgrid[-1]-Dx/2., num=Npix) # central domain (cumulus) boundaries\n",
    "y0    = np.array([0.])\n",
    "#\n",
    "xx,yy = np.meshgrid(x0, y0)\n",
    "zz    = np.zeros_like(xx) + POSZ\n",
    "# cells indices\n",
    "icells = locate_3D_cells(pro3D_cld, xx.ravel(), yy.ravel(), zz.ravel())\n",
    "\n",
    "sensors=[]\n",
    "for POSX,POSY,ICELL in zip(xx.ravel(), yy.ravel(), icells):\n",
    "    sensors.append(Sensor(POSX=POSX, POSY=POSY, POSZ=POSZ, FOV=0., TYPE=0,\n",
    "                          THDEG=THDEG, PHDEG=PHDEG, LOC='ATMOS', ICELL=ICELL))"
   ]
  },
  {
   "cell_type": "code",
   "execution_count": null,
   "metadata": {
    "ExecuteTime": {
     "end_time": "2019-12-24T13:39:21.740671Z",
     "start_time": "2019-12-24T13:39:21.385186Z"
    }
   },
   "outputs": [],
   "source": [
    "S3D    = Smartg(opt3D=True,  alt_pp=True, alis=False) # 3D"
   ]
  },
  {
   "cell_type": "code",
   "execution_count": null,
   "metadata": {
    "ExecuteTime": {
     "start_time": "2019-12-24T13:39:22.614Z"
    }
   },
   "outputs": [],
   "source": [
    "%%time\n",
    "#S3D    = Smartg(opt3D=True,  alt_pp=True) # 3D\n",
    "le     = {'th_deg':np.array([SZA]), 'phi_deg':np.array([SAA])}\n",
    "\n",
    "NB     = len(sensors) * 1e5\n",
    "surf   = None\n",
    "m3D    = S3D.run(wl=wl,  NBPHOTONS=NB, atm=pro3D_cld, sensor=sensors, le=le, surf=surf, NBLOOP=1e5,\n",
    "               stdev=False, NF=1e4, NBPHI=18, NBTHETA=35, alis_options={'nlow':-1})"
   ]
  },
  {
   "cell_type": "code",
   "execution_count": null,
   "metadata": {
    "ExecuteTime": {
     "end_time": "2019-12-23T10:35:44.423940Z",
     "start_time": "2019-12-23T10:35:44.169917Z"
    }
   },
   "outputs": [],
   "source": [
    "(m3D['I_up (TOA)'].sub()[:,0,0]/np.pi*1e3).plot(vmin=0, fmt='-')"
   ]
  },
  {
   "cell_type": "code",
   "execution_count": null,
   "metadata": {
    "ExecuteTime": {
     "end_time": "2019-12-23T10:45:03.055556Z",
     "start_time": "2019-12-23T10:45:02.692402Z"
    }
   },
   "outputs": [],
   "source": [
    "(m3D['V_up (TOA)'].sub()[:,0,0]/np.pi*1e3).plot( fmt='-')"
   ]
  },
  {
   "cell_type": "code",
   "execution_count": null,
   "metadata": {
    "ExecuteTime": {
     "end_time": "2019-12-23T10:21:55.024390Z",
     "start_time": "2019-12-23T10:21:54.913981Z"
    }
   },
   "outputs": [],
   "source": [
    "len(sensors)"
   ]
  },
  {
   "cell_type": "markdown",
   "metadata": {},
   "source": [
    "### Cubic cloud C2"
   ]
  },
  {
   "cell_type": "code",
   "execution_count": null,
   "metadata": {
    "ExecuteTime": {
     "end_time": "2019-12-25T21:21:33.177134Z",
     "start_time": "2019-12-25T21:21:32.598953Z"
    }
   },
   "outputs": [],
   "source": [
    "#alternative reff = 2 micron phase function\n",
    "wl = 1020.\n",
    "cld = CloudOPAC('wc.sol', 2., 2, 3., 1., wl)\n",
    "pha_cld = AtmAFGL('afglt', comp=[cld]).calc(wl)['phase_atm'].sub()[0,:,:]"
   ]
  },
  {
   "cell_type": "code",
   "execution_count": null,
   "metadata": {
    "ExecuteTime": {
     "end_time": "2019-12-25T21:21:33.665192Z",
     "start_time": "2019-12-25T21:21:33.628478Z"
    }
   },
   "outputs": [],
   "source": [
    "#xgrid = np.array([-1e5, -3.5, -0.5, 0.5, 3.5, 1e5])\n",
    "#ygrid = np.array([-1e5, -3.5, -0.5, 0.5, 3.5, 1e5])\n",
    "#xgrid = np.array([ -3.5, -0.5, 0.5, 3.5])\n",
    "#ygrid = np.array([ -3.5, -0.5, 0.5, 3.5])\n",
    "Nx=1\n",
    "Ny=1\n",
    "Dx=1.\n",
    "Dy=1.\n",
    "zgrid = np.array([0., 2., 3., 5., 120.])\n",
    "\n",
    "(idx,idy,idz), (NX,NY,NZ), (xgrid, ygrid, zgrid), neigh, pmin, pmax = \\\n",
    "    Get_3Dcells(Nx=Nx,Dx=Dx,Ny=Ny,Dy=Dy, z=zgrid, SAT_ALTITUDE=120, \n",
    "                periodic=False, HORIZ_EXTENT_LENGTH=1e5)\n",
    "\n",
    "Ncell   = NX*NY*NZ\n",
    "#Natm    = 2 # 1 cloud cell + void\n",
    "# cells optical properties indices\n",
    "cloud_cell = np.ravel_multi_index((1, 1, 1), dims=(NX,NY,NZ), order='C')\n",
    "iopt    = np.zeros(Ncell, dtype=int32)\n",
    "iopt[cloud_cell] = 1\n",
    "# optical properties \n",
    "ptc_sca = np.array([0., 10.])\n",
    "ptc_ssa = np.array([1., 1.])\n",
    "ray_sca = np.zeros_like(ptc_sca)\n",
    "gas_abs = np.zeros_like(ptc_sca)\n",
    "ipha    = np.zeros_like(ptc_sca, dtype=int32)"
   ]
  },
  {
   "cell_type": "code",
   "execution_count": null,
   "metadata": {
    "ExecuteTime": {
     "end_time": "2019-12-25T21:21:37.325544Z",
     "start_time": "2019-12-25T21:21:36.958917Z"
    }
   },
   "outputs": [],
   "source": [
    "atm3D_cld = AtmAFGL('afglt',\n",
    "                    grid        = np.array([120.,0]),\n",
    "                    #grid        = zgrid,\n",
    "                    prof_ray    = ray_sca[None,:],\n",
    "                    prof_abs    = gas_abs[None,:],\n",
    "                    prof_aer    = (ptc_sca[None,:], ptc_ssa[None,:]),\n",
    "                    prof_phases = (ipha[None,:], [pha_cld]),\n",
    "                    cells       = (iopt, pmin, pmax, neigh)\n",
    "                   )\n",
    "wl = [800.]\n",
    "\n",
    "pro3D_cld = atm3D_cld.calc(wl).describe()"
   ]
  },
  {
   "cell_type": "code",
   "execution_count": null,
   "metadata": {
    "ExecuteTime": {
     "end_time": "2019-12-25T21:21:40.645044Z",
     "start_time": "2019-12-25T21:21:40.182603Z"
    },
    "run_control": {
     "marked": true
    }
   },
   "outputs": [],
   "source": [
    "# Sun position\n",
    "SAA    = 0.\n",
    "SZA    = 40.\n",
    "# Sensors position\n",
    "Npix   = 70\n",
    "POSZ   = 5.0001\n",
    "POSX   = 3.4999\n",
    "POSY   = 3.4999\n",
    "THDEG  = 180.\n",
    "PHDEG  = 0.\n",
    "# pixels centers on the ground\n",
    "#x0    = np.linspace(xgrid[1], xgrid[-2], num=Npix) # central domain (cumulus) boundaries\n",
    "#y0    = np.linspace(ygrid[1], ygrid[-2], num=Npix)\n",
    "x0    = np.linspace(-POSX, POSX, num=Npix) # central domain (cumulus) boundaries\n",
    "y0    = np.linspace(-POSY, POSY, num=Npix)\n",
    "z0    = np.linspace( POSZ,   5 , num=Npix)\n",
    "#\n",
    "xx,yy = np.meshgrid(x0, y0)\n",
    "zz    = np.zeros_like(xx) + POSZ\n",
    "\n",
    "#xx,zz = np.meshgrid(x0, z0)\n",
    "#yy    = np.zeros_like(xx) + POSY\n",
    "# cells indices\n",
    "icells = locate_3Dregular_cells(xgrid, ygrid, zgrid, xx.ravel(), yy.ravel(), zz.ravel())\n",
    "\n",
    "sensors=[]\n",
    "for POSX,POSY,POSZ,ICELL in zip(xx.ravel(), yy.ravel(), zz.ravel(), icells):\n",
    "    sensors.append(Sensor(POSX=POSX, POSY=POSY, POSZ=POSZ, FOV=0., TYPE=0,\n",
    "                          THDEG=THDEG, PHDEG=PHDEG, LOC='ATMOS', ICELL=ICELL))"
   ]
  },
  {
   "cell_type": "code",
   "execution_count": null,
   "metadata": {
    "ExecuteTime": {
     "end_time": "2019-12-25T21:22:29.162267Z",
     "start_time": "2019-12-25T21:22:26.414024Z"
    }
   },
   "outputs": [],
   "source": [
    "%%time\n",
    "S3D    = Smartg(opt3D=True,  alt_pp=True, alis=True) # 3D\n",
    "le     = {'th_deg':np.array([SZA]), 'phi_deg':np.array([SAA])}\n",
    "\n",
    "NB     = len(sensors) * 1e4\n",
    "surf   = LambSurface(ALB=0.2)\n",
    "m3D    = S3D.run(wl=wl,  NBPHOTONS=NB, atm=pro3D_cld, sensor=sensors, le=le, surf=surf, NBLOOP=1e5,\n",
    "               stdev=False, NF=1e4, NBPHI=18, NBTHETA=35, alis_options={'nlow':-1})"
   ]
  },
  {
   "cell_type": "code",
   "execution_count": null,
   "metadata": {
    "ExecuteTime": {
     "end_time": "2019-12-25T21:22:13.168162Z",
     "start_time": "2019-12-25T21:22:12.344558Z"
    }
   },
   "outputs": [],
   "source": [
    "print(NB)\n",
    "imshow(m3D['I_up (TOA)'].sub()[:,0,0].data.reshape(Npix,Npix)[::-1,:], cmap='jet')\n",
    "colorbar()\n",
    "figure()\n",
    "imshow(m3D['Q_up (TOA)'].sub()[:,0,0].data.reshape(Npix,Npix)[::-1,:], cmap='jet')\n",
    "colorbar()"
   ]
  },
  {
   "cell_type": "markdown",
   "metadata": {},
   "source": [
    "### Cumulus C3"
   ]
  },
  {
   "cell_type": "code",
   "execution_count": null,
   "metadata": {
    "ExecuteTime": {
     "end_time": "2019-12-26T15:46:39.068553Z",
     "start_time": "2019-12-26T15:46:38.479363Z"
    }
   },
   "outputs": [],
   "source": [
    "#alternative reff = 2 micron phase function\n",
    "wl = 1020.\n",
    "cld = CloudOPAC('wc.sol', 2., 2, 3., 1., wl)\n",
    "pha_cld = AtmAFGL('afglt', comp=[cld]).calc(wl)['phase_atm'].sub()[0,:,:]"
   ]
  },
  {
   "cell_type": "code",
   "execution_count": null,
   "metadata": {
    "ExecuteTime": {
     "end_time": "2019-12-26T15:46:39.888178Z",
     "start_time": "2019-12-26T15:46:39.613379Z"
    }
   },
   "outputs": [],
   "source": [
    "# C3 IPRT Cumulus data\n",
    "cumulus_f='/home/did/RTC/SMART-G/smartg/validation/IPRT/cumulus.dat'\n",
    "f       = open(cumulus_f, 'r')\n",
    "f.readline(); \n",
    "l       = f.readline().split()\n",
    "Nx, Ny, Nz, _ = list(map(int, l)) # number of cumulus cells in X, Y, X\n",
    "Nl      = Nz + 1                  # number of levels in Z\n",
    "l       = f.readline()\n",
    "g_info  = list(map(float, l.split()))\n",
    "Dx, Dy  = g_info[0:2]              # horizontal grid interval in km\n",
    "#zgrid   = np.array(g_info[2:][::-1])# vertical grid in km\n",
    "zgrid   = np.array(g_info[2:])# vertical grid in km\n",
    "assert Nl==zgrid.size\n",
    "\n",
    "zgrid = np.concatenate([zgrid, np.array([120.])])\n",
    "(idx,idy,idz), (NX,NY,NZ), (xgrid, ygrid, zgrid), neigh, pmin, pmax = \\\n",
    "    Get_3Dcells(Nx=Nx, Ny=Ny, Dx=Dx, Dy=Dy, z=zgrid, SAT_ALTITUDE=120, periodic=False, HORIZ_EXTENT_LENGTH=1e5)\n",
    "Ncell   = NX*NY*NZ"
   ]
  },
  {
   "cell_type": "code",
   "execution_count": null,
   "metadata": {
    "ExecuteTime": {
     "end_time": "2019-12-26T15:46:42.457223Z",
     "start_time": "2019-12-26T15:46:42.431643Z"
    }
   },
   "outputs": [],
   "source": [
    "(idx,idy,idz), (NX,NY,NZ), neigh, pmin, pmax"
   ]
  },
  {
   "cell_type": "code",
   "execution_count": null,
   "metadata": {
    "ExecuteTime": {
     "end_time": "2019-12-26T15:46:43.806841Z",
     "start_time": "2019-12-26T15:46:43.347901Z"
    }
   },
   "outputs": [],
   "source": [
    "# cumulus geometrical and optical data\n",
    "cumulus = np.loadtxt(cumulus_f, skiprows=3, dtype=np.float32)\n",
    "ptc_sca = cumulus[:,3]            # km-1\n",
    "# we add a zero optical property for void\n",
    "ptc_sca = np.concatenate([np.array([0.]), ptc_sca])\n",
    "ptc_ssa = np.ones_like( ptc_sca)\n",
    "ray_sca = np.zeros_like(ptc_sca)  # No Rayleigh\n",
    "gas_abs = np.zeros_like(ptc_sca)  # No absorption\n",
    "ipha    = np.zeros_like(ptc_sca, dtype=int32)\n",
    "\n",
    "# indexing of C3 cells into SMART-G grid\n",
    "cum_geo = cumulus[:,:3].astype(int32)-1\n",
    "cum_cell= np.ravel_multi_index((cum_geo[:,0], cum_geo[:,1], cum_geo[:,2]),\n",
    "                    dims=(NX, NY, NZ))\n",
    "# cells optical properties\n",
    "iopt    = np.zeros(Ncell, dtype=int32)\n",
    "iopt[cum_cell] = np.arange(len(cum_cell)) + 1 # number zero is reserved for void"
   ]
  },
  {
   "cell_type": "code",
   "execution_count": null,
   "metadata": {
    "ExecuteTime": {
     "end_time": "2019-12-26T15:46:46.417634Z",
     "start_time": "2019-12-26T15:46:46.062123Z"
    }
   },
   "outputs": [],
   "source": [
    "atm3D_cld = AtmAFGL('afglt',\n",
    "                    grid        = zgrid,\n",
    "                    prof_ray    = ray_sca[None,:],\n",
    "                    prof_abs    = gas_abs[None,:],\n",
    "                    prof_aer    = (ptc_sca[None,:], ptc_ssa[None,:]),\n",
    "                    prof_phases = (ipha[None,:], [pha_cld]),\n",
    "                    cells       = (iopt, pmin, pmax, neigh)\n",
    "                   )\n",
    "\n",
    "pro3D_cld = atm3D_cld.calc(wl).describe()"
   ]
  },
  {
   "cell_type": "code",
   "execution_count": null,
   "metadata": {
    "ExecuteTime": {
     "end_time": "2019-12-26T15:46:49.017702Z",
     "start_time": "2019-12-26T15:46:48.998138Z"
    },
    "run_control": {
     "marked": false
    }
   },
   "outputs": [],
   "source": [
    "# Sun position\n",
    "SAA    = 180.\n",
    "SZA    = 40.\n",
    "# Sensors position\n",
    "Npix   = 100\n",
    "POSZ   = 30\n",
    "THDEG  = 180.\n",
    "PHDEG  = 0.\n",
    "# pixels centers on the ground\n",
    "x0     = np.linspace(-6.67/2., 6.67/2, num=Npix) # central domain (cumulus) boundaries\n",
    "y0     = np.linspace(-6.67/2., 6.67/2, num=Npix)\n",
    "#\n",
    "xx,yy  = np.meshgrid(x0, y0)\n",
    "zz     = np.zeros_like(xx) + POSZ"
   ]
  },
  {
   "cell_type": "code",
   "execution_count": null,
   "metadata": {
    "ExecuteTime": {
     "end_time": "2019-12-26T15:46:51.628379Z",
     "start_time": "2019-12-26T15:46:51.289250Z"
    },
    "run_control": {
     "marked": false
    }
   },
   "outputs": [],
   "source": [
    "%%time\n",
    "# cells indices\n",
    "icells = locate_3Dregular_cells(xgrid, ygrid,zgrid, xx.ravel(), yy.ravel(), zz.ravel())\n",
    "#icells_old = locate_3D_cells(pro3D_cld, xx.ravel(), yy.ravel(), zz.ravel())\n",
    "sensors=[]\n",
    "for POSX,POSY,ICELL in zip(xx.ravel(), yy.ravel(), icells):\n",
    "    sensors.append(Sensor(POSX=POSX, POSY=POSY, POSZ=POSZ, FOV=0., TYPE=0,\n",
    "                          THDEG=THDEG, PHDEG=PHDEG, LOC='ATMOS', ICELL=ICELL))"
   ]
  },
  {
   "cell_type": "code",
   "execution_count": null,
   "metadata": {
    "ExecuteTime": {
     "end_time": "2019-12-26T15:46:55.367575Z",
     "start_time": "2019-12-26T15:46:54.791698Z"
    }
   },
   "outputs": [],
   "source": [
    "S3D    = Smartg(opt3D=True,  alt_pp=True, alis=False) # 3D\n",
    "le     = {'th_deg':np.array([SZA]), 'phi_deg':np.array([SAA])}\n",
    "#ALB    = Albedo_speclib('/rfs/data/speclib2.0/data/jhu.becknic.vegetation.grass.green.solid.gras.spectrum.txt')\n",
    "#env    = Environment(ENV=1, ALB=ALB, ENV_SIZE=2, X0=-1.5)\n",
    "env    = None"
   ]
  },
  {
   "cell_type": "code",
   "execution_count": null,
   "metadata": {
    "ExecuteTime": {
     "end_time": "2019-12-26T15:48:24.033703Z",
     "start_time": "2019-12-26T15:47:17.617927Z"
    }
   },
   "outputs": [],
   "source": [
    "%%time\n",
    "NB     = len(sensors) * 1e3\n",
    "#surf   = RoughSurface(WIND=5)\n",
    "surf   = LambSurface(ALB=0.2)\n",
    "m3D    = S3D.run(wl=wl,  NBPHOTONS=NB, atm=pro3D_cld, sensor=sensors, le=le, surf=surf, NBLOOP=1e6, env=env,\n",
    "               stdev=False, NF=1e4, alis_options={'nlow':-1})"
   ]
  },
  {
   "cell_type": "code",
   "execution_count": null,
   "metadata": {
    "ExecuteTime": {
     "end_time": "2019-12-26T15:48:27.273324Z",
     "start_time": "2019-12-26T15:48:26.561585Z"
    },
    "run_control": {
     "marked": false
    }
   },
   "outputs": [],
   "source": [
    "figure(figsize=(6,6))\n",
    "print(NB)\n",
    "imshow(m3D['I_up (TOA)'].sub()[:,0,0].data.reshape(Npix,Npix)[::-1,:],vmax=1, cmap='jet')\n",
    "colorbar()\n",
    "figure(figsize=(6,6))\n",
    "I=m3D['I_up (TOA)'].sub()[:,0,0].data.reshape(Npix,Npix)[::-1,:]\n",
    "Q=m3D['Q_up (TOA)'].sub()[:,0,0].data.reshape(Npix,Npix)[::-1,:]\n",
    "U=m3D['U_up (TOA)'].sub()[:,0,0].data.reshape(Npix,Npix)[::-1,:]\n",
    "V=m3D['V_up (TOA)'].sub()[:,0,0].data.reshape(Npix,Npix)[::-1,:]\n",
    "imshow(np.sqrt(Q*Q+U*U+V*V)/I*100, vmax=5,cmap='jet')\n",
    "colorbar()"
   ]
  },
  {
   "cell_type": "markdown",
   "metadata": {},
   "source": [
    "## ALIS"
   ]
  },
  {
   "cell_type": "code",
   "execution_count": null,
   "metadata": {
    "ExecuteTime": {
     "end_time": "2019-12-26T15:51:00.467958Z",
     "start_time": "2019-12-26T15:50:59.203261Z"
    }
   },
   "outputs": [],
   "source": [
    "import hapi\n",
    "import scipy.constants as cst\n",
    "from Voigt_gpu import absorptionCoefficient_Voigt_gpu\n",
    "from smartg.rrs import *\n",
    "#Solar Spectrum raw data\n",
    "#datas = np.loadtxt('/home/applis/libRadtran/libRadtran-2.0.2/data/solar_flux/kurudz_full.dat')\n",
    "datas = np.loadtxt('/home/applis/libRadtran/libRadtran-2.0.2/data/solar_flux/kurudz_0.1nm.dat')"
   ]
  },
  {
   "cell_type": "code",
   "execution_count": null,
   "metadata": {
    "ExecuteTime": {
     "end_time": "2019-12-26T16:03:14.738045Z",
     "start_time": "2019-12-26T16:03:04.554541Z"
    },
    "scrolled": true
   },
   "outputs": [],
   "source": [
    "########## wavelength range target # nm\n",
    "#lmin= 759.001\n",
    "#lmax= 770.\n",
    "lmin= 686.001\n",
    "lmax= 698.\n",
    "# Solar spectrum data\n",
    "wl0 = datas[::1,0]\n",
    "# from mW/m2/nm to photons/cm2/s/nm\n",
    "E0  = datas[::1,1] * 1e-3 * 1e-4  / (cst.h *cst.c)  * (wl0*1e-9)\n",
    "# Solar grid\n",
    "#ii = np.where(( wl0>=lmin) & (wl0 <=lmax))\n",
    "#wl = wl0[ii]\n",
    "#NW = wl.size\n",
    "# spectral resolution for absorption features # nm \n",
    "dl  = .005\n",
    "NW  = int((lmax-lmin)/dl) + 1\n",
    "wl  = np.linspace(lmin, lmax, num=NW) # wavelength grid\n",
    "\n",
    "## RRS excitation wavelength grid for 273°K\n",
    "wl_RRS, _ = L2d_inv(wl, 90., 273.)\n",
    "lmin_RRS = wl_RRS.min()\n",
    "lmax_RRS = wl_RRS.max()\n",
    "\n",
    "# Solar spectrum LUT building\n",
    "ii = np.where(( wl0>lmin_RRS) & (wl0 <lmax_RRS))\n",
    "Es_LUT = LUT(E0[ii], axes=[wl0[ii]], names=['wavelength'], desc='Es')\n",
    "\n",
    "# approximate spectral resolution for scattering computations # nm \n",
    "dls = 5.\n",
    "NWS = int((lmax_RRS - lmin_RRS)/dls) \n",
    "NWS = NWS if is_odd(NWS) else NWS+1\n",
    "wls = np.linspace(lmin_RRS, lmax_RRS, num=NWS)# scattering wavelength grid\n",
    "#wls = np.linspace(400, lmax_RRS, num=NWS)# scattering wavelength grid\n",
    "# number of aerosols phase function computed in the spectral interval\n",
    "NWP = 1\n",
    "pfwav= np.linspace(lmin_RRS, lmax_RRS, num=NWP)# phase functions wavelength grid\n",
    "\n",
    "pnew = np.array([1000,975,950,925,900,875,850,825,800,775,\\\n",
    "            750,700,650,600,550,500,450,400,350,300,\\\n",
    "            250,225,200,175,150,125,100,70,50,30,\\\n",
    "            20,10,7,5,3,2,1], dtype=np.float32)\n",
    "#\n",
    "#znew = ( -np.log(pnew/pnew[0])*8)[::-1]\n",
    "znew    = np.array([100., 99., 20., 10., 5., 3., 2., 0.])\n",
    "HTOA = znew[0]\n",
    "\n",
    "########## Atmosphere\n",
    "atm = AtmAFGL('afglus', grid=znew, O3=0., NO2=True, pfwav=pfwav)\n",
    "NLE = atm.prof.z.size\n",
    "\n",
    "## Compilation of smartg in ALIS mode++++++++++++++++++++++++++++------------------------------------------------\n",
    "Sm   = Smartg(alis=True, pp=True,  alt_pp=True, device=0, bias=True)\n",
    "Sref = Smartg(alis=False, pp=True, alt_pp=True, device=0, bias=True)\n",
    "\n",
    "# Solar spectrum\n",
    "Es = Es_LUT[Idx(wl)]\n",
    "Es_RRS = Es_LUT[Idx(wl_RRS, fill_value='extrema')]\n",
    "\n",
    "# Ring normalized spectrum (Wagner et al., 2009, AMT)\n",
    "wl_RRS, LRRS = L2d_inv(wl, 90., 273.)\n",
    "fnorm  = np.sum(Es_RRS * LRRS , axis=1) / Es - 1.\n",
    "\n",
    "# parameters for 1D linear interpolation of w\n",
    "f  =  interp1d(wls,np.linspace(0, NWS-1, num=NWS))\n",
    "iw =  f(wl)\n",
    "#iw =  f(wl_RRS.ravel())\n",
    "iwls_in = np.floor(iw).astype(int8)        # index of lower wls value in the wls array, \n",
    "wwls_in = (iw-iwls_in).astype(np.float32)  # floating proportion between iwls and iwls+1\n",
    "# special case for NWS\n",
    "ii = np.where(iwls_in==(NWS-1))\n",
    "iwls_in[ii] = NWS-2\n",
    "wwls_in[ii] = 1.\n",
    "\n",
    "#Connect to HITRAN database\n",
    "hapi.db_begin('data')\n",
    "DOWNLOAD = True # True if first run\n",
    "vmin=1e7/lmax\n",
    "vmax=1e7/lmin\n",
    "dv=(vmax-vmin)/NW\n",
    "if DOWNLOAD:\n",
    "    hapi.fetch('O2i1',7,1,vmin-100,vmax+100)\n",
    "    hapi.fetch('O2i2',7,2,vmin-100,vmax+100)\n",
    "    hapi.fetch('O2i3',7,3,vmin-100,vmax+100)\n",
    "\n",
    "# prepare array for o2 absorption coefficients\n",
    "ao2=np.zeros((NW+5,NLE), dtype=np.float64)\n",
    "\n",
    "# compute O2 absorption coefficient and wavelength grid  with 'GPU' version of HAPI Voigt profile function\n",
    "j=0\n",
    "for p,t,o2,z in zip(atm.prof.P,atm.prof.T,atm.prof.dens_o2,atm.prof.z):\n",
    "    nuo2,coefo2 = absorptionCoefficient_Voigt_gpu(SourceTables=['O2i1','O2i2','O2i3'],HITRAN_units=True,\n",
    "        OmegaRange=[vmin,vmax],OmegaStep=dv,GammaL='gamma_self',\n",
    "        Environment={'p':p/1013.,'T':t})\n",
    "    ao2[:nuo2.size,j] = coefo2 * o2 * 1e5\n",
    "    j=j+1\n",
    "wlabs=(1e7/nuo2)\n",
    "\n",
    "# back to increasing wavelengths\n",
    "\n",
    "wlabs = wlabs[::-1]\n",
    "ao2   = ao2[:nuo2.size,:]\n",
    "ao2   = ao2[::-1,:]\n",
    "\n",
    "#interpolation into the solar grid\n",
    "ab = LUT(ao2, axes=[wlabs, atm.prof.z], names=['wavelength', 'z'] )\n",
    "ao2_int= ab[Idx(wl, fill_value='extrema'),:]\n",
    "\n",
    "NW = ao2_int.shape[0]\n",
    "sigma = ao2_int\n",
    "print(NW)"
   ]
  },
  {
   "cell_type": "code",
   "execution_count": null,
   "metadata": {
    "ExecuteTime": {
     "end_time": "2019-12-26T16:03:15.312394Z",
     "start_time": "2019-12-26T16:03:14.741361Z"
    }
   },
   "outputs": [],
   "source": [
    "#alternative reff = 2 micron phase function\n",
    "#znew    = np.array([100., 99., 20., 10., 5., 3., 2., 0.])\n",
    "wl_ref  = 690.\n",
    "#cld     = CloudOPAC('wc.sol', 2., znew[-2], znew[-3], 10., wl_ref)\n",
    "cld     = CloudOPAC('wc.sol', 2., znew[-2], znew[-3], 10., wl_ref)\n",
    "pha_cld = AtmAFGL('afglt', comp=[cld]).calc(wl_ref)['phase_atm'].sub()[0,:,:]"
   ]
  },
  {
   "cell_type": "code",
   "execution_count": null,
   "metadata": {
    "ExecuteTime": {
     "end_time": "2019-12-26T16:03:17.982505Z",
     "start_time": "2019-12-26T16:03:16.611214Z"
    },
    "run_control": {
     "marked": false
    }
   },
   "outputs": [],
   "source": [
    "Nx=1\n",
    "Ny=1\n",
    "Dx=1.\n",
    "Dy=1.\n",
    "#zgrid = np.array([0., 2., 3., 5., 20., 99., 100.])\n",
    "zgrid = znew[::-1]\n",
    "\n",
    "(idx,idy,idz), (NX,NY,NZ), (xgrid, ygrid, zgrid), neigh, pmin, pmax = \\\n",
    "    Get_3Dcells(Nx=Nx,Dx=Dx,Ny=Ny,Dy=Dy, z=zgrid, SAT_ALTITUDE=120, \n",
    "                periodic=False, HORIZ_EXTENT_LENGTH=1e5)\n",
    "\n",
    "Ncell   = NX*NY*NZ\n",
    "Nopt    = len(zgrid) + 1 # one clear atmosphere + 1 cloud cell \n",
    "\n",
    "# cells optical properties indices\n",
    "idx_cloud = 1\n",
    "idy_cloud = 1\n",
    "idz_cloud = 1\n",
    "\n",
    "cloud_cell = np.ravel_multi_index((idx_cloud, idy_cloud, idz_cloud), dims=(NX,NY,NZ), order='C')\n",
    "iopt       = np.zeros(Ncell, dtype=int32)\n",
    "iopt[:]    = np.arange(Nopt)[::-1][idz+1]\n",
    "iopt[cloud_cell] = Nopt - 1\n",
    "\n",
    "# optical properties \n",
    "atm1D_clr  = AtmAFGL('afglt', O3=0., NO2=False, grid=znew).calc(wls)\n",
    "atm1D_cld  = AtmAFGL('afglt', O3=0., NO2=False, comp=[cld], grid=znew).calc(wls)\n",
    "ptc_sca    = np.concatenate([od2k(atm1D_clr, 'OD_p')[:,:], od2k(atm1D_cld, 'OD_p') [:,-idz_cloud-1:-idz_cloud]], axis=1)\n",
    "ray_sca    = np.concatenate([od2k(atm1D_clr, 'OD_r')[:,:], od2k(atm1D_cld, 'OD_r') [:,-idz_cloud-1:-idz_cloud]], axis=1)\n",
    "gas_abs    = np.concatenate([od2k(atm1D_clr, 'OD_g')[:,:], od2k(atm1D_cld, 'OD_g') [:,-idz_cloud-1:-idz_cloud]], axis=1)\n",
    "\n",
    "atm1D_clr0  = AtmAFGL('afglt', O3=0., NO2=False, grid=znew).calc(wls[0])\n",
    "atm1D_cld0  = AtmAFGL('afglt', O3=0., NO2=False, comp=[cld], grid=znew).calc(wls[0])\n",
    "ptc_sca0    = np.concatenate([od2k(atm1D_clr0, 'OD_p')[:,:], od2k(atm1D_cld0, 'OD_p') [:,-idz_cloud-1:-idz_cloud]], axis=1)\n",
    "ray_sca0    = np.concatenate([od2k(atm1D_clr0, 'OD_r')[:,:], od2k(atm1D_cld0, 'OD_r') [:,-idz_cloud-1:-idz_cloud]], axis=1)\n",
    "gas_abs0    = np.concatenate([od2k(atm1D_clr0, 'OD_g')[:,:], od2k(atm1D_cld0, 'OD_g') [:,-idz_cloud-1:-idz_cloud]], axis=1)\n",
    "\n",
    "ptc_ssa0    = np.ones_like(ptc_sca0)\n",
    "ipha0       = np.zeros_like(ptc_sca0, dtype=int32)\n",
    "ptc_ssa    = np.ones_like(ptc_sca)\n",
    "ipha       = np.zeros_like(ptc_sca, dtype=int32)\n",
    "\n",
    "# parameters for 1D linear interpolation of w\n",
    "f  =  interp1d(wls,np.linspace(0, NWS-1, num=NWS))\n",
    "iw =  f(wl)\n",
    "#iw =  f(wl_RRS.ravel())\n",
    "iwls_in = np.floor(iw).astype(int8)        # index of lower wls value in the wls array, \n",
    "wwls_in = (iw-iwls_in).astype(np.float32)  # floating proportion between iwls and iwls+1\n",
    "# special case for NWS\n",
    "ii = np.where(iwls_in==(NWS-1))\n",
    "iwls_in[ii] = NWS-2\n",
    "wwls_in[ii] = 1."
   ]
  },
  {
   "cell_type": "code",
   "execution_count": null,
   "metadata": {
    "ExecuteTime": {
     "end_time": "2019-12-26T16:03:18.636617Z",
     "start_time": "2019-12-26T16:03:18.621323Z"
    }
   },
   "outputs": [],
   "source": [
    "ray_sca[0,:], ptc_sca[0,:], gas_abs[0,:], atm1D_cld.axis('z_atm'), idz, idz_cloud, iopt"
   ]
  },
  {
   "cell_type": "code",
   "execution_count": null,
   "metadata": {
    "ExecuteTime": {
     "end_time": "2019-12-26T16:03:19.249793Z",
     "start_time": "2019-12-26T16:03:19.234537Z"
    }
   },
   "outputs": [],
   "source": [
    "iopt, pmin[2,cloud_cell], iopt[cloud_cell], ptc_sca[0,iopt[cloud_cell]], gas_abs[0,iopt[cloud_cell]],  ray_sca[0,iopt[cloud_cell]], Nopt"
   ]
  },
  {
   "cell_type": "code",
   "execution_count": null,
   "metadata": {
    "ExecuteTime": {
     "end_time": "2019-12-26T16:03:19.829491Z",
     "start_time": "2019-12-26T16:03:19.812640Z"
    }
   },
   "outputs": [],
   "source": [
    "ptc_sca[0,iopt[cloud_cell]]"
   ]
  },
  {
   "cell_type": "code",
   "execution_count": null,
   "metadata": {
    "ExecuteTime": {
     "end_time": "2019-12-26T16:08:27.412954Z",
     "start_time": "2019-12-26T16:08:26.726968Z"
    }
   },
   "outputs": [],
   "source": [
    "atm3D = AtmAFGL('afglt',\n",
    "                    grid        = np.arange(Nopt),\n",
    "                    prof_ray    = ray_sca,\n",
    "                    #prof_abs    = gas_abs,\n",
    "                    prof_aer    = (ptc_sca, ptc_ssa),\n",
    "                    prof_phases = (ipha, [pha_cld]),\n",
    "                    cells       = (iopt, pmin, pmax, neigh)\n",
    "                   )\n",
    "\n",
    "pro3D = atm3D.calc(wls).describe()\n",
    "atm3D0 = AtmAFGL('afglt',\n",
    "                    grid        = np.arange(Nopt),\n",
    "                    prof_ray    = ray_sca0,\n",
    "                    #prof_abs    = gas_abs,\n",
    "                    prof_aer    = (ptc_sca0, ptc_ssa0),\n",
    "                    prof_phases = (ipha0, [pha_cld]),\n",
    "                    cells       = (iopt, pmin, pmax, neigh)\n",
    "                   )\n",
    "\n",
    "pro3D0 = atm3D0.calc(wls[0]).describe()\n",
    "\n",
    "# Sun position\n",
    "SAA    = 0.\n",
    "SZA    = 40.\n",
    "# Sensors position\n",
    "Npix   = 70\n",
    "POSZ   = 49.0001\n",
    "POSX   = 3.4999\n",
    "POSY   = 3.4999\n",
    "THDEG  = 180.\n",
    "PHDEG  = 0.\n",
    "# pixels centers on the ground\n",
    "x0    = np.linspace(-POSX, POSX, num=Npix) # central domain (cumulus) boundaries\n",
    "y0    = np.linspace(-POSY, POSY, num=Npix)\n",
    "z0    = np.linspace( POSZ,   5 , num=Npix)\n",
    "#\n",
    "xx,yy = np.meshgrid(x0, y0)\n",
    "zz    = np.zeros_like(xx) + POSZ\n",
    "# cells indices\n",
    "icells = locate_3Dregular_cells(xgrid, ygrid, zgrid, xx.ravel(), yy.ravel(), zz.ravel())\n",
    "\n",
    "sensors=[]\n",
    "for POSX,POSY,POSZ,ICELL in zip(xx.ravel(), yy.ravel(), zz.ravel(), icells):\n",
    "    sensors.append(Sensor(POSX=POSX, POSY=POSY, POSZ=POSZ, FOV=0., TYPE=0,\n",
    "                          THDEG=THDEG, PHDEG=PHDEG, LOC='ATMOS', ICELL=ICELL))\n",
    "    \n",
    "sensor_cld = Sensor(POSZ=POSZ, FOV=0., TYPE=0,\n",
    "                          THDEG=THDEG, PHDEG=PHDEG, LOC='ATMOS', \n",
    "                    ICELL=locate_3Dregular_cells(xgrid, ygrid, zgrid, 0., 0., POSZ))\n",
    "\n",
    "sensor_grd = Sensor(POSX = -POSX, POSZ=POSZ, FOV=0., TYPE=0,\n",
    "                          THDEG=THDEG, PHDEG=PHDEG, LOC='ATMOS', \n",
    "                    ICELL=locate_3Dregular_cells(xgrid, ygrid, zgrid, -POSX, 0., POSZ))"
   ]
  },
  {
   "cell_type": "code",
   "execution_count": null,
   "metadata": {
    "ExecuteTime": {
     "end_time": "2019-12-26T16:08:46.267076Z",
     "start_time": "2019-12-26T16:08:40.015516Z"
    }
   },
   "outputs": [],
   "source": [
    "%%time\n",
    "ALB     = Albedo_speclib('/rfs/data/speclib2.0/data/jhu.becknic.vegetation.trees.deciduous.solid.decidou.spectrum.txt')\n",
    "S3Da    = Smartg(opt3D=True,  alt_pp=True, alis=True) # 3D\n",
    "S3D     = Smartg(opt3D=True,  alt_pp=True, alis=False) # 3D\n",
    "le      = {'th_deg':np.array([SZA]), 'phi_deg':np.array([SAA])}\n",
    "\n",
    "surf    = LambSurface(ALB=1.)\n",
    "NB      = 1e4\n",
    "m       = S3Da.run(wl=wls,  NBPHOTONS=NB, atm=pro3D, sensor=sensor_grd, le=le, surf=surf, NBLOOP=1e5,\n",
    "               stdev=False, NF=1e4, alis_options={'nlow':NWS, 'hist':True}).sub({'Azimuth angles':0, 'Zenith angles':0}).describe()\n",
    "\n",
    "surf    = LambSurface(ALB=ALB.get(wls[0]))\n",
    "NB      = len(sensors) * 1e4\n",
    "m0      = S3D .run(wl=wls[0],  NBPHOTONS=NB, atm=pro3D0, sensor=sensors, le=le, surf=surf, NBLOOP=1e5,\n",
    "               stdev=False, NF=1e4).sub({'Azimuth angles':0, 'Zenith angles':0}).describe()"
   ]
  },
  {
   "cell_type": "code",
   "execution_count": null,
   "metadata": {
    "ExecuteTime": {
     "end_time": "2019-12-26T16:08:49.888044Z",
     "start_time": "2019-12-26T16:08:49.509551Z"
    }
   },
   "outputs": [],
   "source": [
    "%%time\n",
    "NL    = Nopt-1 # number of opt properties\n",
    "w     = m['disth_up (TOA)'][:, NL+4:-3]\n",
    "ngood = np.sum(w[:,0]!=0)\n",
    "\n",
    "S       = np.zeros((ngood,4),dtype=np.float32) \n",
    "cd      = m['disth_up (TOA)'][:ngood,     :NL  ]\n",
    "S[:,:4] = m['disth_up (TOA)'][:ngood, NL  :NL+4]\n",
    "w       = m['disth_up (TOA)'][:ngood, NL+4:-3  ]\n",
    "nrrs    = m['disth_up (TOA)'][:ngood,      -3  ]\n",
    "nref    = m['disth_up (TOA)'][:ngood,      -2  ]\n",
    "nsif    = m['disth_up (TOA)'][:ngood,      -1  ]\n",
    "\n",
    "XBLOCK  = 512\n",
    "XGRID   = 512\n",
    "NT      = XBLOCK*XGRID       # Maximum Number of threads\n",
    "NPHOTON = cd.shape[0]        # Number of photons\n",
    "\n",
    "NLAYER  = sigma.shape[1]     # Number of vertical layer\n",
    "NWVL    = sigma.shape[0]     # Number of wavelength for absorption and output\n",
    "NGROUP  = NT//NWVL           # Number of groups of photons\n",
    "NTHREAD = NGROUP*NWVL        # Number of threads used\n",
    "NBUNCH  = NPHOTON//NGROUP    # Number of photons per group\n",
    "NP_REST = NPHOTON%(NGROUP*NBUNCH) # Number of additional photons in the last group\n",
    "NWVL_LOW = NWS\n",
    "\n",
    "print(NT, NTHREAD, NGROUP, NPHOTON, NLAYER, NWVL, NBUNCH, NP_REST, NWVL_LOW)\n",
    "sigma_ab_in  = np.zeros((NLAYER, NWVL), order='C', dtype=np.float32)\n",
    "sigma_ab_in[:,:]  = sigma.swapaxes(0,1)\n",
    "\n",
    "alb_in       = ALB.get(wl).reshape(NWVL, order='C').astype(np.float32) \n",
    "\n",
    "cd_in        = cd.reshape((NPHOTON, NLAYER), order='C').astype(np.float32)\n",
    "S_in         = S.reshape((NPHOTON, 4),       order='C').astype(np.float32)\n",
    "weight_in    = w.reshape((NPHOTON, NWVL_LOW),order='C').astype(np.float32)\n",
    "nrrs_in      = nrrs.reshape(NPHOTON,order='C').astype(np.int8)\n",
    "nsif_in      = nsif.reshape(NPHOTON,order='C').astype(np.int8)\n",
    "nref_in      = nref.reshape(NPHOTON,order='C').astype(np.int8)"
   ]
  },
  {
   "cell_type": "code",
   "execution_count": null,
   "metadata": {
    "ExecuteTime": {
     "end_time": "2019-12-26T16:08:53.480880Z",
     "start_time": "2019-12-26T16:08:52.804540Z"
    }
   },
   "outputs": [],
   "source": [
    "%%time\n",
    "res_out      = gpuzeros((4, NWVL),   dtype=np.float64)\n",
    "res_sca      = gpuzeros((4, NWVL),   dtype=np.float64)\n",
    "res_rrs      = gpuzeros((4, NWVL),   dtype=np.float64)\n",
    "res_sif      = gpuzeros((4, NWVL),   dtype=np.float64)\n",
    "reduce_absorption_gpu(np.int64(NPHOTON), np.int64(NLAYER), np.int64(NWVL), np.int64(NTHREAD), np.int64(NGROUP), np.int64(NBUNCH), \n",
    "                      np.int64(NP_REST), np.int64(NWVL_LOW), res_out, res_sca, res_rrs, res_sif, \n",
    "                      to_gpu(sigma_ab_in), to_gpu(alb_in), to_gpu(cd_in), to_gpu(S_in), to_gpu(weight_in), to_gpu(nrrs_in), \n",
    "                      to_gpu(nref_in), to_gpu(nsif_in), to_gpu(iwls_in), to_gpu(wwls_in), \n",
    "                      block=(XBLOCK,1,1),grid=(XGRID,1,1))\n",
    "I1 = res_out.get()/m[0][0,0]\n",
    "#norm1 = I1[0,0]/mref['I_up (TOA)'][0,0]\n",
    "norm1 = 1\n",
    "I1_LUT = LUT(I1[0,:]/norm1, axes=[wl], names=['wavelength'], desc=mdesc('I_up (TOA)'))"
   ]
  },
  {
   "cell_type": "code",
   "execution_count": null,
   "metadata": {
    "ExecuteTime": {
     "end_time": "2019-12-26T15:54:38.476576Z",
     "start_time": "2019-12-26T15:54:37.120889Z"
    }
   },
   "outputs": [],
   "source": [
    "figure(figsize=(24,4))\n",
    "plot(wl,alb_in,'b')\n",
    "I1_LUT.plot()\n",
    "\n",
    "figure(figsize=(24,4))\n",
    "P_Raman1 = LUT(np.squeeze((weight_in.T * nrrs_in * np.squeeze(S_in[:,0])).sum(axis=1)/(weight_in.T * np.squeeze(S_in[:,0])).sum(axis=1)), \n",
    "    axes=[wls], names=['wavelength'], desc=r'$P_{Raman}$')\n",
    "P_Raman1.sub({'wavelength':Idx(wl)}).plot()\n",
    "P_Raman2 = res_rrs.get()/res_out.get()\n",
    "plot(wl, P_Raman2[0,:])\n",
    "ylim(0,0.01)"
   ]
  },
  {
   "cell_type": "code",
   "execution_count": null,
   "metadata": {
    "ExecuteTime": {
     "end_time": "2019-12-26T16:03:38.844134Z",
     "start_time": "2019-12-26T16:03:37.795767Z"
    }
   },
   "outputs": [],
   "source": [
    "figure(figsize=(24,4))\n",
    "plot(wl,alb_in,'b')\n",
    "I1_LUT.plot()\n",
    "\n",
    "figure(figsize=(24,4))\n",
    "P_Raman1 = LUT(np.squeeze((weight_in.T * nrrs_in * np.squeeze(S_in[:,0])).sum(axis=1)/(weight_in.T * np.squeeze(S_in[:,0])).sum(axis=1)), \n",
    "    axes=[wls], names=['wavelength'], desc=r'$P_{Raman}$')\n",
    "P_Raman1.sub({'wavelength':Idx(wl)}).plot()\n",
    "P_Raman2 = res_rrs.get()/res_out.get()\n",
    "plot(wl, P_Raman2[0,:])\n",
    "ylim(0,0.01)"
   ]
  },
  {
   "cell_type": "code",
   "execution_count": null,
   "metadata": {
    "ExecuteTime": {
     "end_time": "2019-12-26T16:09:42.251633Z",
     "start_time": "2019-12-26T16:09:41.069072Z"
    }
   },
   "outputs": [],
   "source": [
    "figure(figsize=(24,4))\n",
    "plot(wl,alb_in,'b')\n",
    "I1_LUT.plot()\n",
    "ylim(0,0.4)\n",
    "\n",
    "figure(figsize=(24,4))\n",
    "P_Raman1 = LUT(np.squeeze((weight_in.T * nrrs_in * np.squeeze(S_in[:,0])).sum(axis=1)/(weight_in.T * np.squeeze(S_in[:,0])).sum(axis=1)), \n",
    "    axes=[wls], names=['wavelength'], desc=r'$P_{Raman}$')\n",
    "P_Raman1.sub({'wavelength':Idx(wl)}).plot()\n",
    "P_Raman2 = res_rrs.get()/res_out.get()\n",
    "plot(wl, P_Raman2[0,:])\n",
    "ylim(0,0.01)"
   ]
  },
  {
   "cell_type": "code",
   "execution_count": null,
   "metadata": {
    "ExecuteTime": {
     "end_time": "2019-12-26T15:55:38.110191Z",
     "start_time": "2019-12-26T15:55:37.772406Z"
    }
   },
   "outputs": [],
   "source": [
    "print(NB)\n",
    "im = m0['I_up (TOA)'].data.reshape(Npix,Npix,1)[::-1,:,-1]\n",
    "imshow(im, vmin=0, vmax=0.6, cmap='jet')\n",
    "colorbar()"
   ]
  },
  {
   "cell_type": "code",
   "execution_count": null,
   "metadata": {
    "ExecuteTime": {
     "end_time": "2019-12-26T16:03:52.457333Z",
     "start_time": "2019-12-26T16:03:51.869862Z"
    }
   },
   "outputs": [],
   "source": [
    "print(NB)\n",
    "im = m0['I_up (TOA)'].data.reshape(Npix,Npix,1)[::-1,:,-1]\n",
    "imshow(im, vmin=0, vmax=0.6, cmap='jet')\n",
    "colorbar()"
   ]
  },
  {
   "cell_type": "code",
   "execution_count": null,
   "metadata": {
    "ExecuteTime": {
     "end_time": "2019-12-26T11:33:34.242884Z",
     "start_time": "2019-12-26T11:33:33.694437Z"
    }
   },
   "outputs": [],
   "source": [
    "im = m3D['I_up (TOA)'].data.reshape(Npix,Npix,21)\n",
    "plot(wl,im[Npix//2,Npix//2,:]/im[Npix//2,Npix//2-1,:],'b')\n",
    "figure()\n",
    "plot(wl,im[Npix//2,Npix//2-1,:],'b:')\n",
    "plot(wl,im[Npix//2,Npix//3,:],'r')\n",
    "plot(wl,im[0,0,:],'g')\n",
    "ylim(0,0.5)"
   ]
  },
  {
   "cell_type": "code",
   "execution_count": null,
   "metadata": {
    "ExecuteTime": {
     "end_time": "2019-12-26T11:03:09.891508Z",
     "start_time": "2019-12-26T11:03:09.868506Z"
    }
   },
   "outputs": [],
   "source": [
    "im = m3D['Q_up (TOA)'].sub()[:,:,0,0].data.reshape(Npix,Npix,21)\n",
    "plot(wl,im[35,35,:],'b')\n",
    "plot(wl,im[35,15,:],'r')\n",
    "plot(wl,im[0,0,:],'g')\n",
    "#ylim(0,0.5)"
   ]
  },
  {
   "cell_type": "code",
   "execution_count": null,
   "metadata": {},
   "outputs": [],
   "source": []
  }
 ],
 "metadata": {
  "anaconda-cloud": {},
  "hide_input": false,
  "kernelspec": {
   "display_name": "Python 3",
   "language": "python",
   "name": "python3"
  },
  "language_info": {
   "codemirror_mode": {
    "name": "ipython",
    "version": 3
   },
   "file_extension": ".py",
   "mimetype": "text/x-python",
   "name": "python",
   "nbconvert_exporter": "python",
   "pygments_lexer": "ipython3",
   "version": "3.6.5"
  },
  "toc": {
   "colors": {
    "hover_highlight": "#DAA520",
    "navigate_num": "#000000",
    "navigate_text": "#333333",
    "running_highlight": "#FF0000",
    "selected_highlight": "#FFD700",
    "sidebar_border": "#EEEEEE",
    "wrapper_background": "#FFFFFF"
   },
   "moveMenuLeft": true,
   "nav_menu": {
    "height": "509px",
    "width": "252px"
   },
   "navigate_menu": true,
   "number_sections": true,
   "sideBar": true,
   "threshold": 4,
   "toc_cell": false,
   "toc_number_sections": true,
   "toc_position": {
    "height": "671.317px",
    "left": "0px",
    "right": "1801.6px",
    "top": "159.683px",
    "width": "164.567px"
   },
   "toc_section_display": "block",
   "toc_threshold": 4,
   "toc_window_display": true,
   "widenNotebook": false
  },
  "toc_position": {
   "left": "1540px",
   "right": "36px",
   "top": "83px",
   "width": "300px"
  },
  "widgets": {
   "state": {
    "24d74e057a524c8c8349c8380b4cfc8c": {
     "views": [
      {
       "cell_index": 4
      }
     ]
    }
   },
   "version": "1.2.0"
  }
 },
 "nbformat": 4,
 "nbformat_minor": 2
}
